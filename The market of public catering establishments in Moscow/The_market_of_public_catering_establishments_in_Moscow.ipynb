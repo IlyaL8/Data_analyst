{
 "cells": [
  {
   "cell_type": "markdown",
   "metadata": {},
   "source": [
    "***"
   ]
  },
  {
   "cell_type": "markdown",
   "metadata": {},
   "source": [
    "# Проектная работа: Рынок заведений общественного питания Москвы"
   ]
  },
  {
   "cell_type": "markdown",
   "metadata": {},
   "source": [
    "## Загрузим данные и изучим общую информацию"
   ]
  },
  {
   "cell_type": "code",
   "execution_count": 1,
   "metadata": {},
   "outputs": [
    {
     "ename": "ModuleNotFoundError",
     "evalue": "No module named 'folium'",
     "output_type": "error",
     "traceback": [
      "\u001b[1;31m---------------------------------------------------------------------------\u001b[0m",
      "\u001b[1;31mModuleNotFoundError\u001b[0m                       Traceback (most recent call last)",
      "Cell \u001b[1;32mIn[1], line 6\u001b[0m\n\u001b[0;32m      4\u001b[0m \u001b[38;5;28;01mimport\u001b[39;00m \u001b[38;5;21;01mplotly\u001b[39;00m\u001b[38;5;21;01m.\u001b[39;00m\u001b[38;5;21;01mexpress\u001b[39;00m \u001b[38;5;28;01mas\u001b[39;00m \u001b[38;5;21;01mpx\u001b[39;00m\n\u001b[0;32m      5\u001b[0m \u001b[38;5;28;01mimport\u001b[39;00m \u001b[38;5;21;01mjson\u001b[39;00m\n\u001b[1;32m----> 6\u001b[0m \u001b[38;5;28;01mfrom\u001b[39;00m \u001b[38;5;21;01mfolium\u001b[39;00m \u001b[38;5;28;01mimport\u001b[39;00m Map, Choropleth\n\u001b[0;32m      7\u001b[0m \u001b[38;5;28;01mfrom\u001b[39;00m \u001b[38;5;21;01mfolium\u001b[39;00m \u001b[38;5;28;01mimport\u001b[39;00m Marker, Map\n\u001b[0;32m      8\u001b[0m \u001b[38;5;28;01mfrom\u001b[39;00m \u001b[38;5;21;01mfolium\u001b[39;00m\u001b[38;5;21;01m.\u001b[39;00m\u001b[38;5;21;01mplugins\u001b[39;00m \u001b[38;5;28;01mimport\u001b[39;00m MarkerCluster\n",
      "\u001b[1;31mModuleNotFoundError\u001b[0m: No module named 'folium'"
     ]
    }
   ],
   "source": [
    "import pandas as pd\n",
    "import seaborn as sns\n",
    "from matplotlib import pyplot as plt\n",
    "import plotly.express as px\n",
    "import json\n",
    "from folium import Map, Choropleth\n",
    "from folium import Marker, Map\n",
    "from folium.plugins import MarkerCluster"
   ]
  },
  {
   "cell_type": "code",
   "execution_count": null,
   "metadata": {},
   "outputs": [],
   "source": [
    "try:\n",
    "    data = pd.read_csv('/datasets/moscow_places.csv')\n",
    "except:\n",
    "    data = pd.read_csv('https://code.s3.yandex.net/datasets/moscow_places.csv')"
   ]
  },
  {
   "cell_type": "code",
   "execution_count": null,
   "metadata": {},
   "outputs": [],
   "source": [
    "data.head()"
   ]
  },
  {
   "cell_type": "code",
   "execution_count": null,
   "metadata": {},
   "outputs": [],
   "source": [
    "data.info()"
   ]
  },
  {
   "cell_type": "markdown",
   "metadata": {},
   "source": [
    "**Вывод:**\n",
    "- Датасет содержит 8406 строк\n",
    "- Названия столбцов в едином стиле\n",
    "- Типы столбцов корректные\n",
    "- Есть пропуски в столбцах *hours, price, avg_bill, middle_coffee_cup* и *seats* "
   ]
  },
  {
   "cell_type": "markdown",
   "metadata": {},
   "source": [
    "## Выполним предобработку данных"
   ]
  },
  {
   "cell_type": "markdown",
   "metadata": {},
   "source": [
    "### Изучим, есть ли дубликаты и найдем пропуски"
   ]
  },
  {
   "cell_type": "markdown",
   "metadata": {},
   "source": [
    "Проверим есть ли дубликаты в датасете"
   ]
  },
  {
   "cell_type": "code",
   "execution_count": null,
   "metadata": {},
   "outputs": [],
   "source": [
    "data.duplicated().sum()"
   ]
  },
  {
   "cell_type": "markdown",
   "metadata": {},
   "source": [
    "Дубликатов нет"
   ]
  },
  {
   "cell_type": "markdown",
   "metadata": {},
   "source": [
    "Изучим столбец *name*"
   ]
  },
  {
   "cell_type": "code",
   "execution_count": null,
   "metadata": {},
   "outputs": [],
   "source": [
    "data['name'].describe()"
   ]
  },
  {
   "cell_type": "code",
   "execution_count": null,
   "metadata": {},
   "outputs": [],
   "source": [
    "data['name'].duplicated().sum()"
   ]
  },
  {
   "cell_type": "markdown",
   "metadata": {},
   "source": [
    "2792 дубликата. Удалять их не будем, так как это могут быть сетевые заведения"
   ]
  },
  {
   "cell_type": "markdown",
   "metadata": {},
   "source": [
    "Изучим столбец *category*"
   ]
  },
  {
   "cell_type": "code",
   "execution_count": null,
   "metadata": {},
   "outputs": [],
   "source": [
    "data['category'].unique()"
   ]
  },
  {
   "cell_type": "markdown",
   "metadata": {},
   "source": [
    "Здесь все в порядке"
   ]
  },
  {
   "cell_type": "markdown",
   "metadata": {},
   "source": [
    "Изучим столбец *address*"
   ]
  },
  {
   "cell_type": "code",
   "execution_count": null,
   "metadata": {},
   "outputs": [],
   "source": [
    "data['address'].duplicated().sum()"
   ]
  },
  {
   "cell_type": "markdown",
   "metadata": {},
   "source": [
    "2653 дубликата. Так же оставим как есть. Несколько заведений могут находиться по одному адресу. Например в торговых центрах"
   ]
  },
  {
   "cell_type": "markdown",
   "metadata": {},
   "source": [
    "Посмотрим есть ли неявные дубликаты. Для этого приведем столбцы *name* и *address* к нижнему регистру"
   ]
  },
  {
   "cell_type": "code",
   "execution_count": null,
   "metadata": {},
   "outputs": [],
   "source": [
    "data['name'] = data['name'].str.lower()\n",
    "data['address'] = data['address'].str.lower()"
   ]
  },
  {
   "cell_type": "code",
   "execution_count": null,
   "metadata": {},
   "outputs": [],
   "source": [
    "data[['name', 'address']].duplicated().sum()"
   ]
  },
  {
   "cell_type": "markdown",
   "metadata": {},
   "source": [
    "4 неявных дубликата"
   ]
  },
  {
   "cell_type": "code",
   "execution_count": null,
   "metadata": {},
   "outputs": [],
   "source": [
    "data[data[['name', 'address']].duplicated(keep=False)]"
   ]
  },
  {
   "cell_type": "markdown",
   "metadata": {},
   "source": [
    "Удалим их"
   ]
  },
  {
   "cell_type": "code",
   "execution_count": null,
   "metadata": {},
   "outputs": [],
   "source": [
    "data = data.drop_duplicates(subset=['name', 'address'], keep='last')\n",
    "data[['name', 'address']].duplicated().sum()"
   ]
  },
  {
   "cell_type": "markdown",
   "metadata": {},
   "source": [
    "Изучим столбец *district*"
   ]
  },
  {
   "cell_type": "code",
   "execution_count": null,
   "metadata": {},
   "outputs": [],
   "source": [
    "data['district'].unique()"
   ]
  },
  {
   "cell_type": "markdown",
   "metadata": {},
   "source": [
    "С округами все в порядке"
   ]
  },
  {
   "cell_type": "markdown",
   "metadata": {},
   "source": [
    "Пропуски в столбцах оставим как есть. Корректно заполнить их мы не сможем, а удаление такого количества строк может повлиять на исследование"
   ]
  },
  {
   "cell_type": "markdown",
   "metadata": {},
   "source": [
    "### Создадим новые столбцы"
   ]
  },
  {
   "cell_type": "markdown",
   "metadata": {},
   "source": [
    "Создадим столбец *street* с названиями улиц из столбца с адресом"
   ]
  },
  {
   "cell_type": "code",
   "execution_count": null,
   "metadata": {},
   "outputs": [],
   "source": [
    "data['street'] = data['address'].str.split(',').str[1].str.strip()"
   ]
  },
  {
   "cell_type": "markdown",
   "metadata": {},
   "source": [
    "Создадим столбец is_24/7 с обозначением, что заведение работает ежедневно и круглосуточно (24/7):\n",
    "- логическое значение True — если заведение работает ежедневно и круглосуточно;\n",
    "- логическое значение False — в противоположном случае."
   ]
  },
  {
   "cell_type": "code",
   "execution_count": null,
   "metadata": {},
   "outputs": [],
   "source": [
    "data['is_24/7'] = data['hours'].fillna('').str.contains('ежедневно, круглосуточно')"
   ]
  },
  {
   "cell_type": "code",
   "execution_count": null,
   "metadata": {},
   "outputs": [],
   "source": [
    "data.head()"
   ]
  },
  {
   "cell_type": "markdown",
   "metadata": {},
   "source": [
    "**Вывод:**\n",
    "- Провели предобработку данных\n",
    "- Создали новые столбцы *street* и *is_24/7*"
   ]
  },
  {
   "cell_type": "markdown",
   "metadata": {},
   "source": [
    "## Анализ данных"
   ]
  },
  {
   "cell_type": "markdown",
   "metadata": {},
   "source": [
    "### Исследуем количество объектов общественного питания по категориям"
   ]
  },
  {
   "cell_type": "code",
   "execution_count": null,
   "metadata": {},
   "outputs": [],
   "source": [
    "category = data.groupby('category').agg(count=pd.NamedAgg(column=\"category\", aggfunc=\"count\")).sort_values(by='count', ascending=False).reset_index()\n",
    "category"
   ]
  },
  {
   "cell_type": "code",
   "execution_count": null,
   "metadata": {},
   "outputs": [],
   "source": [
    "plt.figure(figsize=(18, 10))\n",
    "ax = sns.barplot(x='category', y='count', data=category, color = 'seagreen')\n",
    "ax.set_title('Количество объектов общественного питания по категориям')\n"
   ]
  },
  {
   "cell_type": "code",
   "execution_count": null,
   "metadata": {},
   "outputs": [],
   "source": [
    "category['percentage'] = round(category['count'] / category['count'].sum() * 100)\n",
    "category"
   ]
  },
  {
   "cell_type": "markdown",
   "metadata": {},
   "source": [
    "Больше всех кафе, меньше всех булочных"
   ]
  },
  {
   "cell_type": "markdown",
   "metadata": {},
   "source": [
    "### Исследуем количество посадочных мест в местах по категориям"
   ]
  },
  {
   "cell_type": "code",
   "execution_count": null,
   "metadata": {},
   "outputs": [],
   "source": [
    "category_seats = data.groupby('category').agg(median=pd.NamedAgg(column=\"seats\", aggfunc=\"median\")).sort_values(by='median', ascending=False).reset_index()\n",
    "category_seats"
   ]
  },
  {
   "cell_type": "code",
   "execution_count": null,
   "metadata": {
    "scrolled": false
   },
   "outputs": [],
   "source": [
    "plt.figure(figsize=(18, 10))\n",
    "ax = sns.barplot(x='category', y='median', data=category_seats, color='seagreen')\n",
    "ax.set_title('Количество посадочных мест в местах по категориям')\n",
    "ax.set_xlabel('Категория заведения')\n",
    "ax.set_ylabel('Количество посадочных мест')"
   ]
  },
  {
   "cell_type": "markdown",
   "metadata": {},
   "source": [
    "В среднем в ресторанах больше всего посадочных мест, меньше всего - в булочных "
   ]
  },
  {
   "cell_type": "markdown",
   "metadata": {},
   "source": [
    "### Рассмотрим и изобразим соотношение сетевых и несетевых заведений в датасете"
   ]
  },
  {
   "cell_type": "code",
   "execution_count": null,
   "metadata": {},
   "outputs": [],
   "source": [
    "chain = data.groupby('chain').agg(count=pd.NamedAgg(column=\"chain\", aggfunc=\"count\")).reset_index()\n",
    "chain"
   ]
  },
  {
   "cell_type": "code",
   "execution_count": null,
   "metadata": {},
   "outputs": [],
   "source": [
    "plt.figure(figsize=(18, 10))\n",
    "colors = sns.color_palette('pastel')[ 0:5 ]\n",
    "labels = ['Сетевые заведения', 'Несетевые заведения']\n",
    "plt.title('Cоотношение сетевых и несетевых заведений')\n",
    "plt.pie(chain['count'], labels = labels, colors = colors, autopct='%.0f%%')\n",
    "plt.show()"
   ]
  },
  {
   "cell_type": "markdown",
   "metadata": {},
   "source": [
    "Сетевых заведений больше, чем несетевых"
   ]
  },
  {
   "cell_type": "markdown",
   "metadata": {},
   "source": [
    "### Исследуем какие категории заведений чаще являются сетевыми"
   ]
  },
  {
   "cell_type": "code",
   "execution_count": null,
   "metadata": {},
   "outputs": [],
   "source": [
    "category_chain = data.groupby('category').agg(count=pd.NamedAgg(column=\"category\", aggfunc=\"count\"), chain=pd.NamedAgg(column=\"chain\", aggfunc=\"sum\"))\n",
    "category_chain['chain_%'] = round(category_chain['chain'] / category_chain['count'] * 100)\n",
    "category_chain = category_chain.sort_values(by='chain_%', ascending=False).reset_index()\n",
    "category_chain"
   ]
  },
  {
   "cell_type": "code",
   "execution_count": null,
   "metadata": {},
   "outputs": [],
   "source": [
    "plt.figure(figsize=(18, 10))\n",
    "ax = sns.barplot(x='category', y='chain_%', data=category_chain, color='seagreen')\n",
    "ax.set_title('% сетевых заведений по категориям')\n",
    "ax.set_xlabel('% сетевых заведений')\n",
    "ax.set_ylabel('Количество посадочных мест')"
   ]
  },
  {
   "cell_type": "markdown",
   "metadata": {},
   "source": [
    "Чаще всего сетевыми являются булочные, реже всего - бар, паб"
   ]
  },
  {
   "cell_type": "markdown",
   "metadata": {},
   "source": [
    "### Найдем топ-15 популярных сетей в Москве. "
   ]
  },
  {
   "cell_type": "code",
   "execution_count": null,
   "metadata": {},
   "outputs": [],
   "source": [
    "name = data.groupby('name').agg(count=pd.NamedAgg(column=\"name\", aggfunc=\"count\")).sort_values(by='count', ascending=False).reset_index()\n",
    "name = name.head(15)\n",
    "name"
   ]
  },
  {
   "cell_type": "code",
   "execution_count": null,
   "metadata": {
    "scrolled": false
   },
   "outputs": [],
   "source": [
    "plt.figure(figsize=(18, 16))\n",
    "ax = sns.barplot(x='count', y='name', data=name)\n",
    "ax.set_title('Топ-15 популярных сетей в Москве')\n",
    "ax.set_xlabel('Количество заведений')\n",
    "ax.set_ylabel('Название сети')"
   ]
  },
  {
   "cell_type": "markdown",
   "metadata": {},
   "source": [
    "Самое популярное заведение - кафе"
   ]
  },
  {
   "cell_type": "markdown",
   "metadata": {},
   "source": [
    "### Исследуем какие административные районы Москвы присутствуют в датасете и отобразим количество заведений"
   ]
  },
  {
   "cell_type": "code",
   "execution_count": null,
   "metadata": {},
   "outputs": [],
   "source": [
    "data['district'].value_counts()"
   ]
  },
  {
   "cell_type": "code",
   "execution_count": null,
   "metadata": {},
   "outputs": [],
   "source": [
    "district = pd.pivot_table(data, values='name', index=[\"category\"], columns =[\"district\"], aggfunc='count').reset_index()\n",
    "\n",
    "district"
   ]
  },
  {
   "cell_type": "code",
   "execution_count": null,
   "metadata": {
    "scrolled": false
   },
   "outputs": [],
   "source": [
    "district = district.sort_values(by='Восточный административный округ', ascending=False)\n",
    "plt.figure(figsize=(18, 10))\n",
    "ax = sns.barplot(x='category', y='Восточный административный округ', data=district, color='seagreen')\n",
    "ax.set_title('Количество заведений Восточный административный округ')\n",
    "ax.set_xlabel('Категория заведения')\n",
    "ax.set_ylabel('Количество заведений')\n",
    "\n",
    "district = district.sort_values(by='Западный административный округ', ascending=False)\n",
    "plt.figure(figsize=(18, 10))\n",
    "ax = sns.barplot(x='category', y='Западный административный округ', data=district, color='seagreen')\n",
    "ax.set_title('Количество заведений Западный административный округ')\n",
    "ax.set_xlabel('Категория заведения')\n",
    "ax.set_ylabel('Количество заведений')\n",
    "\n",
    "district = district.sort_values(by='Северный административный округ', ascending=False)\n",
    "plt.figure(figsize=(18, 10))\n",
    "ax = sns.barplot(x='category', y='Северный административный округ', data=district, color='seagreen')\n",
    "ax.set_title('Количество заведений Северный административный округ')\n",
    "ax.set_xlabel('Категория заведения')\n",
    "ax.set_ylabel('Количество заведений')\n",
    "\n",
    "district = district.sort_values(by='Северо-Восточный административный округ', ascending=False)\n",
    "plt.figure(figsize=(18, 10))\n",
    "ax = sns.barplot(x='category', y='Северо-Восточный административный округ', data=district, color='seagreen')\n",
    "ax.set_title('Количество заведений Северо-Восточный административный округ')\n",
    "ax.set_xlabel('Категория заведения')\n",
    "ax.set_ylabel('Количество заведений')\n",
    "\n",
    "district = district.sort_values(by='Северо-Западный административный округ', ascending=False)\n",
    "plt.figure(figsize=(18, 10))\n",
    "ax = sns.barplot(x='category', y='Северо-Западный административный округ', data=district, color='seagreen')\n",
    "ax.set_title('Количество заведений Северо-Западный административный округ')\n",
    "ax.set_xlabel('Категория заведения')\n",
    "ax.set_ylabel('Количество заведений')\n",
    "\n",
    "district = district.sort_values(by='Центральный административный округ', ascending=False)\n",
    "plt.figure(figsize=(18, 10))\n",
    "ax = sns.barplot(x='category', y='Центральный административный округ', data=district, color='seagreen')\n",
    "ax.set_title('Количество заведений Центральный административный округ')\n",
    "ax.set_xlabel('Категория заведения')\n",
    "ax.set_ylabel('Количество заведений')\n",
    "\n",
    "district = district.sort_values(by='Юго-Восточный административный округ', ascending=False)\n",
    "plt.figure(figsize=(18, 10))\n",
    "ax = sns.barplot(x='category', y='Юго-Восточный административный округ', data=district, color='seagreen')\n",
    "ax.set_title('Количество заведений Юго-Восточный административный округ')\n",
    "ax.set_xlabel('Категория заведения')\n",
    "ax.set_ylabel('Количество заведений')\n",
    "\n",
    "district = district.sort_values(by='Юго-Западный административный округ', ascending=False)\n",
    "plt.figure(figsize=(18, 10))\n",
    "ax = sns.barplot(x='category', y='Юго-Западный административный округ', data=district, color='seagreen')\n",
    "ax.set_title('Количество заведений Юго-Западный административный округ')\n",
    "ax.set_xlabel('Категория заведения')\n",
    "ax.set_ylabel('Количество заведений')\n",
    "\n",
    "district = district.sort_values(by='Южный административный округ', ascending=False)\n",
    "plt.figure(figsize=(18, 10))\n",
    "ax = sns.barplot(x='category', y='Южный административный округ', data=district, color='seagreen')\n",
    "ax.set_title('Количество заведений Южный административный округ')\n",
    "ax.set_xlabel('Категория заведения')\n",
    "ax.set_ylabel('Количество заведений')"
   ]
  },
  {
   "cell_type": "markdown",
   "metadata": {},
   "source": [
    "Больше всего заведений в Центральном административном округе. Во всех округах больше всего кафе и ресторанов"
   ]
  },
  {
   "cell_type": "markdown",
   "metadata": {},
   "source": [
    "### Визуализируем распределение средних рейтингов по категориям заведений"
   ]
  },
  {
   "cell_type": "code",
   "execution_count": null,
   "metadata": {},
   "outputs": [],
   "source": [
    "rating = data.groupby('category').agg(rating=pd.NamedAgg(column=\"rating\", aggfunc=\"mean\")).sort_values(by='rating', ascending=False).reset_index()\n",
    "rating['rating'] = round(rating['rating'], 2)\n",
    "rating"
   ]
  },
  {
   "cell_type": "code",
   "execution_count": null,
   "metadata": {},
   "outputs": [],
   "source": [
    "round(rating['rating'].mean(), 1)"
   ]
  },
  {
   "cell_type": "code",
   "execution_count": null,
   "metadata": {},
   "outputs": [],
   "source": [
    "plt.figure(figsize=(18, 10))\n",
    "ax = sns.barplot(x='category', y='rating', data=rating, color='blueviolet')\n",
    "ax.set_title('Cредний рейтингов по категориям заведений')\n",
    "ax.set_xlabel('Категория заведения')\n",
    "ax.set_ylabel('Рейтинг')"
   ]
  },
  {
   "cell_type": "markdown",
   "metadata": {},
   "source": [
    "Рейтинги практически не отличаются"
   ]
  },
  {
   "cell_type": "markdown",
   "metadata": {},
   "source": [
    "### Построим фоновую картограмму (хороплет) со средним рейтингом заведений каждого района"
   ]
  },
  {
   "cell_type": "code",
   "execution_count": null,
   "metadata": {},
   "outputs": [],
   "source": [
    "rating_district = data.groupby('district').agg(rating=pd.NamedAgg(column=\"rating\", aggfunc=\"mean\")).sort_values(by='rating', ascending=False).reset_index()\n",
    "rating_district['rating'] = round(rating_district['rating'], 2)\n",
    "rating_district"
   ]
  },
  {
   "cell_type": "code",
   "execution_count": null,
   "metadata": {},
   "outputs": [],
   "source": [
    "round(rating_district['rating'].mean(), 1)"
   ]
  },
  {
   "cell_type": "code",
   "execution_count": null,
   "metadata": {
    "scrolled": false
   },
   "outputs": [],
   "source": [
    "state_geo = '/datasets/admin_level_geomap.geojson'\n",
    "moscow_lat, moscow_lng = 55.751244, 37.618423\n",
    "m = Map(location=[moscow_lat, moscow_lng], zoom_start=10)\n",
    "Choropleth(\n",
    "    geo_data=state_geo,\n",
    "    data=rating_district,\n",
    "    columns=['district', 'rating'],\n",
    "    key_on='feature.name',\n",
    "    fill_color='YlGn',\n",
    "    fill_opacity=0.8,\n",
    "    legend_name='Медианный рейтинг заведений по районам',\n",
    ").add_to(m)\n",
    "m"
   ]
  },
  {
   "cell_type": "markdown",
   "metadata": {},
   "source": [
    "В Центральном административном округе рейтинги чуть выше"
   ]
  },
  {
   "cell_type": "markdown",
   "metadata": {},
   "source": [
    "### Отобразим все заведения датасета на карте с помощью кластеров средствами библиотеки folium."
   ]
  },
  {
   "cell_type": "code",
   "execution_count": null,
   "metadata": {},
   "outputs": [],
   "source": [
    "moscow_lat, moscow_lng = 55.751244, 37.618423\n",
    "m = Map(location=[moscow_lat, moscow_lng], zoom_start=10)\n",
    "marker_cluster = MarkerCluster().add_to(m)\n",
    "\n",
    "def create_clusters(row):\n",
    "    Marker(\n",
    "        [row['lat'], row['lng']],\n",
    "        popup=f\"{row['name']} {row['rating']}\",\n",
    "    ).add_to(marker_cluster)\n",
    "\n",
    "data.apply(create_clusters, axis=1)\n",
    "m"
   ]
  },
  {
   "cell_type": "markdown",
   "metadata": {},
   "source": [
    "На картограмме также видно, что в Центральном округе больше всего заведений"
   ]
  },
  {
   "cell_type": "markdown",
   "metadata": {},
   "source": [
    "### Найдем топ-15 улиц по количеству заведений"
   ]
  },
  {
   "cell_type": "code",
   "execution_count": null,
   "metadata": {},
   "outputs": [],
   "source": [
    "street = data.groupby('street').agg(count=pd.NamedAgg(column=\"name\", aggfunc=\"count\")).sort_values(by='count', ascending=False).reset_index()\n",
    "street_15 = street.head(15)\n",
    "street_15"
   ]
  },
  {
   "cell_type": "code",
   "execution_count": null,
   "metadata": {},
   "outputs": [],
   "source": [
    "plt.figure(figsize=(18, 16))\n",
    "ax = sns.barplot(x='count', y='street', data=street_15)\n",
    "ax.set_title('Топ-15 улиц по количеству заведений')\n",
    "ax.set_xlabel('количество заведений')\n",
    "ax.set_ylabel('Название улицы')"
   ]
  },
  {
   "cell_type": "markdown",
   "metadata": {},
   "source": [
    "Больше всего заведений на Проспекте мира"
   ]
  },
  {
   "cell_type": "markdown",
   "metadata": {},
   "source": [
    "### Найдем улицы, на которых находится только один объект общепита"
   ]
  },
  {
   "cell_type": "code",
   "execution_count": null,
   "metadata": {},
   "outputs": [],
   "source": [
    "street[street['count'] == 1].count()"
   ]
  },
  {
   "cell_type": "markdown",
   "metadata": {},
   "source": [
    "458 улиц с одним объектом общепита"
   ]
  },
  {
   "cell_type": "markdown",
   "metadata": {},
   "source": [
    "### Посчитаем средний чек для каждого  района."
   ]
  },
  {
   "cell_type": "code",
   "execution_count": null,
   "metadata": {},
   "outputs": [],
   "source": [
    "middle_avg_bill = data.groupby('district').agg(median=pd.NamedAgg(column=\"middle_avg_bill\", aggfunc=\"median\")).sort_values(by='median', ascending=False).reset_index()\n",
    "middle_avg_bill"
   ]
  },
  {
   "cell_type": "code",
   "execution_count": null,
   "metadata": {},
   "outputs": [],
   "source": [
    "state_geo = '/datasets/admin_level_geomap.geojson'\n",
    "moscow_lat, moscow_lng = 55.751244, 37.618423\n",
    "m = Map(location=[moscow_lat, moscow_lng], zoom_start=10)\n",
    "Choropleth(\n",
    "    geo_data=state_geo,\n",
    "    data=middle_avg_bill,\n",
    "    columns=['district', 'median'],\n",
    "    key_on='feature.name',\n",
    "    fill_color='YlGn',\n",
    "    fill_opacity=0.8,\n",
    "    legend_name='Медианная стоимость заказа по районам',\n",
    ").add_to(m)\n",
    "m"
   ]
  },
  {
   "cell_type": "markdown",
   "metadata": {},
   "source": [
    "Самый большой средний чек в Центральном и Западном округах"
   ]
  },
  {
   "cell_type": "markdown",
   "metadata": {},
   "source": [
    "**Вывод:**\n",
    "- Больше всего заведений в категории кафе - 2378 или 28%\n",
    "- Посадочных мест больше всего в ресторанах - в среднем 86\n",
    "- Чаще заведения являются сетевыми - 62%\n",
    "- Самая популярная сеть - Кафе\n",
    "- Больше всего заведений в Центральном административном округе - 2242\n",
    "- Средний рейтинг по категориям не сильно отличается и составляет - 4.3\n",
    "- По районам рейтинг также примерно равен\n",
    "- Больше всего заведений на проспекте Мира - 184\n",
    "- Улиц с одним объектом общепита - 458\n",
    "- Самый большой средний чек в Центральном и Западном округах - 1000"
   ]
  },
  {
   "cell_type": "markdown",
   "metadata": {},
   "source": [
    "## Детализируем исследование: открытие кофейни"
   ]
  },
  {
   "cell_type": "markdown",
   "metadata": {},
   "source": [
    "### Посмотрим сколько всего кофеен в датасете"
   ]
  },
  {
   "cell_type": "code",
   "execution_count": null,
   "metadata": {},
   "outputs": [],
   "source": [
    "category[category['category'] == 'кофейня']"
   ]
  },
  {
   "cell_type": "markdown",
   "metadata": {},
   "source": [
    "1413 кофеен"
   ]
  },
  {
   "cell_type": "code",
   "execution_count": null,
   "metadata": {},
   "outputs": [],
   "source": [
    "coffee_house_dist = district[district['category'] == 'кофейня']\n",
    "coffee_house_dist"
   ]
  },
  {
   "cell_type": "markdown",
   "metadata": {},
   "source": [
    "Больше всего кофеен в Центральном административном округе - 428"
   ]
  },
  {
   "cell_type": "code",
   "execution_count": null,
   "metadata": {},
   "outputs": [],
   "source": [
    "coffee_house = data[data['category'] == 'кофейня']\n",
    "\n",
    "moscow_lat, moscow_lng = 55.751244, 37.618423\n",
    "m = Map(location=[moscow_lat, moscow_lng], zoom_start=10)\n",
    "marker_cluster = MarkerCluster().add_to(m)\n",
    "\n",
    "def create_clusters(row):\n",
    "    Marker(\n",
    "        [row['lat'], row['lng']],\n",
    "        popup=f\"{row['name']} {row['rating']}\",\n",
    "    ).add_to(marker_cluster)\n",
    "\n",
    "coffee_house.apply(create_clusters, axis=1)\n",
    "m"
   ]
  },
  {
   "cell_type": "markdown",
   "metadata": {},
   "source": [
    "### Посмотрим есть ли круглосуточные кофейни"
   ]
  },
  {
   "cell_type": "code",
   "execution_count": null,
   "metadata": {},
   "outputs": [],
   "source": [
    "coffee_house[coffee_house['is_24/7'] == True].info()"
   ]
  },
  {
   "cell_type": "markdown",
   "metadata": {},
   "source": [
    "59 круглосуточных кофеен"
   ]
  },
  {
   "cell_type": "markdown",
   "metadata": {},
   "source": [
    "### Посмотрим какие у кофеен рейтинги, как они распределяются по районам"
   ]
  },
  {
   "cell_type": "code",
   "execution_count": null,
   "metadata": {},
   "outputs": [],
   "source": [
    "rating_coffee_house = coffee_house.groupby('district').agg(rating=pd.NamedAgg(column=\"rating\", aggfunc=\"mean\")).sort_values(by='rating', ascending=False).reset_index()\n",
    "rating_coffee_house['rating'] = round(rating_coffee_house['rating'], 2)\n",
    "rating_coffee_house"
   ]
  },
  {
   "cell_type": "code",
   "execution_count": null,
   "metadata": {},
   "outputs": [],
   "source": [
    "plt.figure(figsize=(18, 10))\n",
    "ax = sns.barplot(x='district', y='rating', data=rating_coffee_house, color='blueviolet')\n",
    "ax.set_title('Cредний рейтинг кофеен по районам')\n",
    "ax.set_xlabel('Округ')\n",
    "ax.set_ylabel('Рейтинг')\n",
    "plt.xticks(rotation=10)"
   ]
  },
  {
   "cell_type": "markdown",
   "metadata": {},
   "source": [
    "Рейтинги такие же как и в других заведениях"
   ]
  },
  {
   "cell_type": "markdown",
   "metadata": {},
   "source": [
    "### Посмотрим на какую стоимость чашки капучино стоит ориентироваться при открытии"
   ]
  },
  {
   "cell_type": "code",
   "execution_count": null,
   "metadata": {},
   "outputs": [],
   "source": [
    "middle_coffee_cup = coffee_house.groupby('district').agg(middle_coffee_cup=pd.NamedAgg(column=\"middle_coffee_cup\", aggfunc=\"median\")).sort_values(by='middle_coffee_cup', ascending=False).reset_index()\n",
    "middle_coffee_cup"
   ]
  },
  {
   "cell_type": "markdown",
   "metadata": {},
   "source": [
    "Стоимость зависит от района"
   ]
  },
  {
   "cell_type": "markdown",
   "metadata": {},
   "source": [
    "**Вывод:**\n",
    "\n",
    "Заказчики не боятся конкуренции, значит стоит рассмотреть открытие кофейни в Центральном административном округе. Это центр, там больше всего заведений, а значит и людей. Так же стоит обратить внимание на Западный административный округ. Средняя оценка заведений там, чуть ниже, чем в других округах. Это значит, что крутых кофеен там не хватает. Средняя стоимость чашки капучино, такая же как и в центре. Не рекомендуется открывать круглосуточную кафейню. Таких практически нет, а значит в этом нет необходимости."
   ]
  },
  {
   "cell_type": "markdown",
   "metadata": {},
   "source": [
    "Презентация: https://disk.yandex.ru/i/7s5sF9jmBNKA8w"
   ]
  },
  {
   "cell_type": "markdown",
   "metadata": {},
   "source": [
    "***"
   ]
  }
 ],
 "metadata": {
  "ExecuteTimeLog": [
   {
    "duration": 377,
    "start_time": "2023-04-14T06:35:16.947Z"
   },
   {
    "duration": 194,
    "start_time": "2023-04-14T06:36:31.617Z"
   },
   {
    "duration": 25,
    "start_time": "2023-04-14T06:36:40.019Z"
   },
   {
    "duration": 18,
    "start_time": "2023-04-14T06:36:55.849Z"
   },
   {
    "duration": 14,
    "start_time": "2023-04-14T06:37:04.362Z"
   },
   {
    "duration": 45,
    "start_time": "2023-04-17T07:51:06.326Z"
   },
   {
    "duration": 346,
    "start_time": "2023-04-17T07:51:11.837Z"
   },
   {
    "duration": 107,
    "start_time": "2023-04-17T07:51:12.185Z"
   },
   {
    "duration": 20,
    "start_time": "2023-04-17T07:51:12.293Z"
   },
   {
    "duration": 15,
    "start_time": "2023-04-17T07:51:12.314Z"
   },
   {
    "duration": 26,
    "start_time": "2023-04-17T07:51:12.331Z"
   },
   {
    "duration": 7,
    "start_time": "2023-04-17T07:51:26.414Z"
   },
   {
    "duration": 51,
    "start_time": "2023-04-17T07:51:32.180Z"
   },
   {
    "duration": 4,
    "start_time": "2023-04-17T07:51:35.252Z"
   },
   {
    "duration": 11,
    "start_time": "2023-04-17T07:52:32.617Z"
   },
   {
    "duration": 7,
    "start_time": "2023-04-17T07:53:43.814Z"
   },
   {
    "duration": 7,
    "start_time": "2023-04-17T07:54:50.526Z"
   },
   {
    "duration": 8,
    "start_time": "2023-04-17T08:00:24.244Z"
   },
   {
    "duration": 5,
    "start_time": "2023-04-17T08:00:36.747Z"
   },
   {
    "duration": 8,
    "start_time": "2023-04-17T08:03:18.013Z"
   },
   {
    "duration": 3,
    "start_time": "2023-04-17T08:04:04.674Z"
   },
   {
    "duration": 4,
    "start_time": "2023-04-17T08:04:08.434Z"
   },
   {
    "duration": 3,
    "start_time": "2023-04-17T08:04:16.659Z"
   },
   {
    "duration": 59,
    "start_time": "2023-04-17T08:04:16.663Z"
   },
   {
    "duration": 13,
    "start_time": "2023-04-17T08:04:16.723Z"
   },
   {
    "duration": 15,
    "start_time": "2023-04-17T08:04:16.738Z"
   },
   {
    "duration": 3,
    "start_time": "2023-04-17T08:04:16.755Z"
   },
   {
    "duration": 8,
    "start_time": "2023-04-17T08:04:16.759Z"
   },
   {
    "duration": 46,
    "start_time": "2023-04-17T08:04:16.769Z"
   },
   {
    "duration": 0,
    "start_time": "2023-04-17T08:04:16.816Z"
   },
   {
    "duration": 70,
    "start_time": "2023-04-17T08:05:22.521Z"
   },
   {
    "duration": 6,
    "start_time": "2023-04-17T08:06:00.171Z"
   },
   {
    "duration": 11,
    "start_time": "2023-04-17T08:06:26.530Z"
   },
   {
    "duration": 9,
    "start_time": "2023-04-17T08:07:04.682Z"
   },
   {
    "duration": 5,
    "start_time": "2023-04-17T08:08:55.138Z"
   },
   {
    "duration": 4,
    "start_time": "2023-04-17T08:09:53.947Z"
   },
   {
    "duration": 4,
    "start_time": "2023-04-17T08:11:00.243Z"
   },
   {
    "duration": 8,
    "start_time": "2023-04-17T08:11:17.081Z"
   },
   {
    "duration": 4,
    "start_time": "2023-04-17T08:12:04.474Z"
   },
   {
    "duration": 4,
    "start_time": "2023-04-17T08:12:45.726Z"
   },
   {
    "duration": 13,
    "start_time": "2023-04-17T08:14:29.522Z"
   },
   {
    "duration": 5,
    "start_time": "2023-04-17T08:15:05.709Z"
   },
   {
    "duration": 5,
    "start_time": "2023-04-17T08:15:28.129Z"
   },
   {
    "duration": 85,
    "start_time": "2023-04-17T08:18:51.656Z"
   },
   {
    "duration": 55,
    "start_time": "2023-04-17T08:36:29.855Z"
   },
   {
    "duration": 7,
    "start_time": "2023-04-17T08:37:33.007Z"
   },
   {
    "duration": 2,
    "start_time": "2023-04-17T08:37:38.047Z"
   },
   {
    "duration": 67,
    "start_time": "2023-04-17T08:37:38.051Z"
   },
   {
    "duration": 14,
    "start_time": "2023-04-17T08:37:38.120Z"
   },
   {
    "duration": 17,
    "start_time": "2023-04-17T08:37:38.136Z"
   },
   {
    "duration": 2,
    "start_time": "2023-04-17T08:37:38.156Z"
   },
   {
    "duration": 9,
    "start_time": "2023-04-17T08:37:38.159Z"
   },
   {
    "duration": 10,
    "start_time": "2023-04-17T08:37:38.170Z"
   },
   {
    "duration": 5,
    "start_time": "2023-04-17T08:37:38.194Z"
   },
   {
    "duration": 58,
    "start_time": "2023-04-17T08:37:38.201Z"
   },
   {
    "duration": 4,
    "start_time": "2023-04-17T08:37:38.261Z"
   },
   {
    "duration": 28,
    "start_time": "2023-04-17T08:37:38.267Z"
   },
   {
    "duration": 0,
    "start_time": "2023-04-17T08:37:38.297Z"
   },
   {
    "duration": 0,
    "start_time": "2023-04-17T08:37:38.298Z"
   },
   {
    "duration": 0,
    "start_time": "2023-04-17T08:37:38.299Z"
   },
   {
    "duration": 8,
    "start_time": "2023-04-17T08:37:43.471Z"
   },
   {
    "duration": 4,
    "start_time": "2023-04-17T08:37:50.527Z"
   },
   {
    "duration": 5,
    "start_time": "2023-04-17T08:38:06.038Z"
   },
   {
    "duration": 99,
    "start_time": "2023-04-17T08:40:54.015Z"
   },
   {
    "duration": 2,
    "start_time": "2023-04-17T08:41:10.920Z"
   },
   {
    "duration": 62,
    "start_time": "2023-04-17T08:41:10.924Z"
   },
   {
    "duration": 15,
    "start_time": "2023-04-17T08:41:10.988Z"
   },
   {
    "duration": 13,
    "start_time": "2023-04-17T08:41:11.005Z"
   },
   {
    "duration": 2,
    "start_time": "2023-04-17T08:41:11.020Z"
   },
   {
    "duration": 6,
    "start_time": "2023-04-17T08:41:11.024Z"
   },
   {
    "duration": 14,
    "start_time": "2023-04-17T08:41:11.031Z"
   },
   {
    "duration": 8,
    "start_time": "2023-04-17T08:41:11.047Z"
   },
   {
    "duration": 84,
    "start_time": "2023-04-17T08:41:11.056Z"
   },
   {
    "duration": 110,
    "start_time": "2023-04-17T08:41:11.142Z"
   },
   {
    "duration": 5,
    "start_time": "2023-04-17T08:41:11.254Z"
   },
   {
    "duration": 7,
    "start_time": "2023-04-17T08:41:11.260Z"
   },
   {
    "duration": 26,
    "start_time": "2023-04-17T08:41:11.269Z"
   },
   {
    "duration": 6,
    "start_time": "2023-04-17T08:41:11.297Z"
   },
   {
    "duration": 96,
    "start_time": "2023-04-17T08:41:11.304Z"
   },
   {
    "duration": 2,
    "start_time": "2023-04-17T08:41:51.151Z"
   },
   {
    "duration": 58,
    "start_time": "2023-04-17T08:41:51.155Z"
   },
   {
    "duration": 13,
    "start_time": "2023-04-17T08:41:51.215Z"
   },
   {
    "duration": 12,
    "start_time": "2023-04-17T08:41:51.229Z"
   },
   {
    "duration": 23,
    "start_time": "2023-04-17T08:41:51.243Z"
   },
   {
    "duration": 14,
    "start_time": "2023-04-17T08:41:51.267Z"
   },
   {
    "duration": 4,
    "start_time": "2023-04-17T08:41:51.282Z"
   },
   {
    "duration": 54,
    "start_time": "2023-04-17T08:41:51.288Z"
   },
   {
    "duration": 126,
    "start_time": "2023-04-17T08:41:51.343Z"
   },
   {
    "duration": 4,
    "start_time": "2023-04-17T08:41:51.471Z"
   },
   {
    "duration": 19,
    "start_time": "2023-04-17T08:41:51.476Z"
   },
   {
    "duration": 15,
    "start_time": "2023-04-17T08:41:51.496Z"
   },
   {
    "duration": 20,
    "start_time": "2023-04-17T08:41:51.513Z"
   },
   {
    "duration": 94,
    "start_time": "2023-04-17T08:41:51.535Z"
   },
   {
    "duration": 5,
    "start_time": "2023-04-17T08:42:10.086Z"
   },
   {
    "duration": 2,
    "start_time": "2023-04-17T08:44:31.231Z"
   },
   {
    "duration": 76,
    "start_time": "2023-04-17T08:44:31.238Z"
   },
   {
    "duration": 14,
    "start_time": "2023-04-17T08:44:31.316Z"
   },
   {
    "duration": 46,
    "start_time": "2023-04-17T08:44:31.332Z"
   },
   {
    "duration": 52,
    "start_time": "2023-04-17T08:44:31.380Z"
   },
   {
    "duration": 51,
    "start_time": "2023-04-17T08:44:31.434Z"
   },
   {
    "duration": 37,
    "start_time": "2023-04-17T08:44:31.487Z"
   },
   {
    "duration": 114,
    "start_time": "2023-04-17T08:44:31.526Z"
   },
   {
    "duration": 65,
    "start_time": "2023-04-17T08:44:31.642Z"
   },
   {
    "duration": 5,
    "start_time": "2023-04-17T08:44:31.709Z"
   },
   {
    "duration": 19,
    "start_time": "2023-04-17T08:44:31.716Z"
   },
   {
    "duration": 28,
    "start_time": "2023-04-17T08:44:31.736Z"
   },
   {
    "duration": 23,
    "start_time": "2023-04-17T08:44:31.766Z"
   },
   {
    "duration": 36,
    "start_time": "2023-04-17T08:44:31.791Z"
   },
   {
    "duration": 97,
    "start_time": "2023-04-17T08:44:31.829Z"
   },
   {
    "duration": 11,
    "start_time": "2023-04-17T08:45:27.718Z"
   },
   {
    "duration": 55,
    "start_time": "2023-04-17T08:46:22.822Z"
   },
   {
    "duration": 6,
    "start_time": "2023-04-17T08:46:35.909Z"
   },
   {
    "duration": 57,
    "start_time": "2023-04-17T08:47:38.926Z"
   },
   {
    "duration": 84,
    "start_time": "2023-04-17T08:48:10.510Z"
   },
   {
    "duration": 55,
    "start_time": "2023-04-17T08:48:53.349Z"
   },
   {
    "duration": 14,
    "start_time": "2023-04-17T08:51:12.240Z"
   },
   {
    "duration": 25,
    "start_time": "2023-04-17T08:53:02.902Z"
   },
   {
    "duration": 12,
    "start_time": "2023-04-17T08:53:12.765Z"
   },
   {
    "duration": 5,
    "start_time": "2023-04-17T08:59:35.604Z"
   },
   {
    "duration": 5,
    "start_time": "2023-04-17T08:59:58.820Z"
   },
   {
    "duration": 5,
    "start_time": "2023-04-17T09:01:05.548Z"
   },
   {
    "duration": 4,
    "start_time": "2023-04-17T09:08:23.913Z"
   },
   {
    "duration": 3,
    "start_time": "2023-04-17T09:14:35.218Z"
   },
   {
    "duration": 14,
    "start_time": "2023-04-17T09:14:39.441Z"
   },
   {
    "duration": 12,
    "start_time": "2023-04-17T09:14:41.730Z"
   },
   {
    "duration": 11,
    "start_time": "2023-04-17T09:15:37.798Z"
   },
   {
    "duration": 6,
    "start_time": "2023-04-17T09:19:24.115Z"
   },
   {
    "duration": 4,
    "start_time": "2023-04-17T09:19:33.258Z"
   },
   {
    "duration": 3,
    "start_time": "2023-04-17T09:19:36.124Z"
   },
   {
    "duration": 77,
    "start_time": "2023-04-17T09:19:36.128Z"
   },
   {
    "duration": 16,
    "start_time": "2023-04-17T09:19:36.207Z"
   },
   {
    "duration": 12,
    "start_time": "2023-04-17T09:19:36.225Z"
   },
   {
    "duration": 14,
    "start_time": "2023-04-17T09:19:36.239Z"
   },
   {
    "duration": 4,
    "start_time": "2023-04-17T09:19:36.254Z"
   },
   {
    "duration": 39,
    "start_time": "2023-04-17T09:19:36.259Z"
   },
   {
    "duration": 4,
    "start_time": "2023-04-17T09:19:36.300Z"
   },
   {
    "duration": 10,
    "start_time": "2023-04-17T09:19:36.305Z"
   },
   {
    "duration": 96,
    "start_time": "2023-04-17T09:19:36.316Z"
   },
   {
    "duration": 5,
    "start_time": "2023-04-17T09:19:36.414Z"
   },
   {
    "duration": 5,
    "start_time": "2023-04-17T09:19:36.421Z"
   },
   {
    "duration": 7,
    "start_time": "2023-04-17T09:19:36.428Z"
   },
   {
    "duration": 7,
    "start_time": "2023-04-17T09:19:36.437Z"
   },
   {
    "duration": 11,
    "start_time": "2023-04-17T09:19:36.446Z"
   },
   {
    "duration": 120,
    "start_time": "2023-04-17T09:19:36.458Z"
   },
   {
    "duration": 4,
    "start_time": "2023-04-17T09:19:36.580Z"
   },
   {
    "duration": 4,
    "start_time": "2023-04-17T09:19:36.594Z"
   },
   {
    "duration": 25,
    "start_time": "2023-04-17T09:19:36.599Z"
   },
   {
    "duration": 17,
    "start_time": "2023-04-17T09:19:36.626Z"
   },
   {
    "duration": 23,
    "start_time": "2023-04-17T09:19:36.645Z"
   },
   {
    "duration": 16,
    "start_time": "2023-04-17T09:19:36.669Z"
   },
   {
    "duration": 52,
    "start_time": "2023-04-18T07:14:28.975Z"
   },
   {
    "duration": 405,
    "start_time": "2023-04-18T07:14:35.173Z"
   },
   {
    "duration": 581,
    "start_time": "2023-04-18T07:14:35.580Z"
   },
   {
    "duration": 22,
    "start_time": "2023-04-18T07:14:36.163Z"
   },
   {
    "duration": 23,
    "start_time": "2023-04-18T07:14:36.188Z"
   },
   {
    "duration": 16,
    "start_time": "2023-04-18T07:14:36.214Z"
   },
   {
    "duration": 5,
    "start_time": "2023-04-18T07:14:36.232Z"
   },
   {
    "duration": 17,
    "start_time": "2023-04-18T07:14:36.238Z"
   },
   {
    "duration": 38,
    "start_time": "2023-04-18T07:14:36.257Z"
   },
   {
    "duration": 10,
    "start_time": "2023-04-18T07:14:36.301Z"
   },
   {
    "duration": 8,
    "start_time": "2023-04-18T07:14:36.312Z"
   },
   {
    "duration": 21,
    "start_time": "2023-04-18T07:14:36.322Z"
   },
   {
    "duration": 6,
    "start_time": "2023-04-18T07:14:36.344Z"
   },
   {
    "duration": 7,
    "start_time": "2023-04-18T07:14:36.351Z"
   },
   {
    "duration": 27,
    "start_time": "2023-04-18T07:14:36.360Z"
   },
   {
    "duration": 10,
    "start_time": "2023-04-18T07:14:36.389Z"
   },
   {
    "duration": 5,
    "start_time": "2023-04-18T07:14:36.401Z"
   },
   {
    "duration": 4,
    "start_time": "2023-04-18T07:14:36.408Z"
   },
   {
    "duration": 5,
    "start_time": "2023-04-18T07:14:36.414Z"
   },
   {
    "duration": 23,
    "start_time": "2023-04-18T07:14:36.420Z"
   },
   {
    "duration": 49,
    "start_time": "2023-04-18T07:14:36.445Z"
   },
   {
    "duration": 8,
    "start_time": "2023-04-18T07:14:36.495Z"
   },
   {
    "duration": 7,
    "start_time": "2023-04-18T07:25:03.129Z"
   },
   {
    "duration": 9,
    "start_time": "2023-04-18T07:25:12.747Z"
   },
   {
    "duration": 37,
    "start_time": "2023-04-18T07:28:55.326Z"
   },
   {
    "duration": 32,
    "start_time": "2023-04-18T07:31:11.322Z"
   },
   {
    "duration": 1032,
    "start_time": "2023-04-18T07:31:17.379Z"
   },
   {
    "duration": 66,
    "start_time": "2023-04-18T07:31:18.413Z"
   },
   {
    "duration": 17,
    "start_time": "2023-04-18T07:31:18.481Z"
   },
   {
    "duration": 19,
    "start_time": "2023-04-18T07:31:18.501Z"
   },
   {
    "duration": 18,
    "start_time": "2023-04-18T07:31:18.522Z"
   },
   {
    "duration": 19,
    "start_time": "2023-04-18T07:31:18.542Z"
   },
   {
    "duration": 13,
    "start_time": "2023-04-18T07:31:18.562Z"
   },
   {
    "duration": 18,
    "start_time": "2023-04-18T07:31:18.576Z"
   },
   {
    "duration": 18,
    "start_time": "2023-04-18T07:31:18.597Z"
   },
   {
    "duration": 14,
    "start_time": "2023-04-18T07:31:18.617Z"
   },
   {
    "duration": 10,
    "start_time": "2023-04-18T07:31:18.633Z"
   },
   {
    "duration": 6,
    "start_time": "2023-04-18T07:31:18.644Z"
   },
   {
    "duration": 12,
    "start_time": "2023-04-18T07:31:18.651Z"
   },
   {
    "duration": 27,
    "start_time": "2023-04-18T07:31:18.665Z"
   },
   {
    "duration": 11,
    "start_time": "2023-04-18T07:31:18.695Z"
   },
   {
    "duration": 14,
    "start_time": "2023-04-18T07:31:18.709Z"
   },
   {
    "duration": 15,
    "start_time": "2023-04-18T07:31:18.724Z"
   },
   {
    "duration": 8,
    "start_time": "2023-04-18T07:31:18.740Z"
   },
   {
    "duration": 17,
    "start_time": "2023-04-18T07:31:18.750Z"
   },
   {
    "duration": 31,
    "start_time": "2023-04-18T07:31:18.769Z"
   },
   {
    "duration": 13,
    "start_time": "2023-04-18T07:31:18.803Z"
   },
   {
    "duration": 68,
    "start_time": "2023-04-18T07:31:18.818Z"
   },
   {
    "duration": 0,
    "start_time": "2023-04-18T07:31:18.889Z"
   },
   {
    "duration": 10,
    "start_time": "2023-04-18T07:33:09.466Z"
   },
   {
    "duration": 11,
    "start_time": "2023-04-18T07:35:15.159Z"
   },
   {
    "duration": 3,
    "start_time": "2023-04-18T07:35:51.168Z"
   },
   {
    "duration": 72,
    "start_time": "2023-04-18T07:35:51.172Z"
   },
   {
    "duration": 14,
    "start_time": "2023-04-18T07:35:51.246Z"
   },
   {
    "duration": 20,
    "start_time": "2023-04-18T07:35:51.262Z"
   },
   {
    "duration": 32,
    "start_time": "2023-04-18T07:35:51.285Z"
   },
   {
    "duration": 5,
    "start_time": "2023-04-18T07:35:51.319Z"
   },
   {
    "duration": 23,
    "start_time": "2023-04-18T07:35:51.325Z"
   },
   {
    "duration": 16,
    "start_time": "2023-04-18T07:35:51.350Z"
   },
   {
    "duration": 20,
    "start_time": "2023-04-18T07:35:51.367Z"
   },
   {
    "duration": 19,
    "start_time": "2023-04-18T07:35:51.389Z"
   },
   {
    "duration": 28,
    "start_time": "2023-04-18T07:35:51.410Z"
   },
   {
    "duration": 26,
    "start_time": "2023-04-18T07:35:51.440Z"
   },
   {
    "duration": 13,
    "start_time": "2023-04-18T07:35:51.468Z"
   },
   {
    "duration": 21,
    "start_time": "2023-04-18T07:35:51.484Z"
   },
   {
    "duration": 16,
    "start_time": "2023-04-18T07:35:51.507Z"
   },
   {
    "duration": 26,
    "start_time": "2023-04-18T07:35:51.525Z"
   },
   {
    "duration": 24,
    "start_time": "2023-04-18T07:35:51.553Z"
   },
   {
    "duration": 7,
    "start_time": "2023-04-18T07:35:51.579Z"
   },
   {
    "duration": 19,
    "start_time": "2023-04-18T07:35:51.587Z"
   },
   {
    "duration": 15,
    "start_time": "2023-04-18T07:35:51.607Z"
   },
   {
    "duration": 6,
    "start_time": "2023-04-18T07:35:51.623Z"
   },
   {
    "duration": 10,
    "start_time": "2023-04-18T07:35:51.631Z"
   },
   {
    "duration": 0,
    "start_time": "2023-04-18T07:35:51.642Z"
   },
   {
    "duration": 14,
    "start_time": "2023-04-18T07:36:08.605Z"
   },
   {
    "duration": 10,
    "start_time": "2023-04-18T07:36:21.329Z"
   },
   {
    "duration": 14,
    "start_time": "2023-04-18T07:37:29.137Z"
   },
   {
    "duration": 15,
    "start_time": "2023-04-18T07:37:46.577Z"
   },
   {
    "duration": 24,
    "start_time": "2023-04-18T07:38:14.208Z"
   },
   {
    "duration": 19,
    "start_time": "2023-04-18T07:39:19.227Z"
   },
   {
    "duration": 16,
    "start_time": "2023-04-18T07:39:25.106Z"
   },
   {
    "duration": 17,
    "start_time": "2023-04-18T07:39:32.106Z"
   },
   {
    "duration": 149,
    "start_time": "2023-04-18T07:39:44.913Z"
   },
   {
    "duration": 15,
    "start_time": "2023-04-18T07:40:11.345Z"
   },
   {
    "duration": 150,
    "start_time": "2023-04-18T07:40:16.663Z"
   },
   {
    "duration": 14,
    "start_time": "2023-04-18T07:41:43.033Z"
   },
   {
    "duration": 9,
    "start_time": "2023-04-18T07:44:12.935Z"
   },
   {
    "duration": 3,
    "start_time": "2023-04-18T07:44:40.812Z"
   },
   {
    "duration": 66,
    "start_time": "2023-04-18T07:44:40.818Z"
   },
   {
    "duration": 18,
    "start_time": "2023-04-18T07:44:40.886Z"
   },
   {
    "duration": 14,
    "start_time": "2023-04-18T07:44:40.906Z"
   },
   {
    "duration": 15,
    "start_time": "2023-04-18T07:44:40.922Z"
   },
   {
    "duration": 5,
    "start_time": "2023-04-18T07:44:40.938Z"
   },
   {
    "duration": 11,
    "start_time": "2023-04-18T07:44:40.944Z"
   },
   {
    "duration": 8,
    "start_time": "2023-04-18T07:44:40.986Z"
   },
   {
    "duration": 16,
    "start_time": "2023-04-18T07:44:40.997Z"
   },
   {
    "duration": 11,
    "start_time": "2023-04-18T07:44:41.015Z"
   },
   {
    "duration": 10,
    "start_time": "2023-04-18T07:44:41.027Z"
   },
   {
    "duration": 11,
    "start_time": "2023-04-18T07:44:41.039Z"
   },
   {
    "duration": 36,
    "start_time": "2023-04-18T07:44:41.051Z"
   },
   {
    "duration": 10,
    "start_time": "2023-04-18T07:44:41.091Z"
   },
   {
    "duration": 14,
    "start_time": "2023-04-18T07:44:41.102Z"
   },
   {
    "duration": 6,
    "start_time": "2023-04-18T07:44:41.119Z"
   },
   {
    "duration": 8,
    "start_time": "2023-04-18T07:44:41.126Z"
   },
   {
    "duration": 10,
    "start_time": "2023-04-18T07:44:41.135Z"
   },
   {
    "duration": 19,
    "start_time": "2023-04-18T07:44:41.146Z"
   },
   {
    "duration": 35,
    "start_time": "2023-04-18T07:44:41.167Z"
   },
   {
    "duration": 11,
    "start_time": "2023-04-18T07:44:41.204Z"
   },
   {
    "duration": 16,
    "start_time": "2023-04-18T07:44:41.216Z"
   },
   {
    "duration": 310,
    "start_time": "2023-04-18T07:44:41.234Z"
   },
   {
    "duration": 218,
    "start_time": "2023-04-18T07:44:48.120Z"
   },
   {
    "duration": 205,
    "start_time": "2023-04-18T07:44:56.017Z"
   },
   {
    "duration": 928,
    "start_time": "2023-04-18T08:02:39.223Z"
   },
   {
    "duration": 25,
    "start_time": "2023-04-18T08:02:58.658Z"
   },
   {
    "duration": 18,
    "start_time": "2023-04-18T08:03:00.818Z"
   },
   {
    "duration": 8,
    "start_time": "2023-04-18T08:06:46.222Z"
   },
   {
    "duration": 17,
    "start_time": "2023-04-18T08:06:55.328Z"
   },
   {
    "duration": 20,
    "start_time": "2023-04-18T08:07:13.022Z"
   },
   {
    "duration": 14,
    "start_time": "2023-04-18T08:07:48.982Z"
   },
   {
    "duration": 195,
    "start_time": "2023-04-18T08:10:09.925Z"
   },
   {
    "duration": 257,
    "start_time": "2023-04-18T08:10:18.734Z"
   },
   {
    "duration": 10,
    "start_time": "2023-04-18T08:12:15.467Z"
   },
   {
    "duration": 15,
    "start_time": "2023-04-18T08:13:30.863Z"
   },
   {
    "duration": 2,
    "start_time": "2023-04-18T08:13:53.121Z"
   },
   {
    "duration": 68,
    "start_time": "2023-04-18T08:13:53.125Z"
   },
   {
    "duration": 15,
    "start_time": "2023-04-18T08:13:53.195Z"
   },
   {
    "duration": 15,
    "start_time": "2023-04-18T08:13:53.212Z"
   },
   {
    "duration": 16,
    "start_time": "2023-04-18T08:13:53.229Z"
   },
   {
    "duration": 5,
    "start_time": "2023-04-18T08:13:53.246Z"
   },
   {
    "duration": 38,
    "start_time": "2023-04-18T08:13:53.252Z"
   },
   {
    "duration": 5,
    "start_time": "2023-04-18T08:13:53.291Z"
   },
   {
    "duration": 11,
    "start_time": "2023-04-18T08:13:53.297Z"
   },
   {
    "duration": 5,
    "start_time": "2023-04-18T08:13:53.310Z"
   },
   {
    "duration": 6,
    "start_time": "2023-04-18T08:13:53.317Z"
   },
   {
    "duration": 11,
    "start_time": "2023-04-18T08:13:53.325Z"
   },
   {
    "duration": 7,
    "start_time": "2023-04-18T08:13:53.338Z"
   },
   {
    "duration": 43,
    "start_time": "2023-04-18T08:13:53.348Z"
   },
   {
    "duration": 4,
    "start_time": "2023-04-18T08:13:53.393Z"
   },
   {
    "duration": 7,
    "start_time": "2023-04-18T08:13:53.399Z"
   },
   {
    "duration": 5,
    "start_time": "2023-04-18T08:13:53.407Z"
   },
   {
    "duration": 7,
    "start_time": "2023-04-18T08:13:53.414Z"
   },
   {
    "duration": 24,
    "start_time": "2023-04-18T08:13:53.423Z"
   },
   {
    "duration": 7,
    "start_time": "2023-04-18T08:13:53.449Z"
   },
   {
    "duration": 22,
    "start_time": "2023-04-18T08:13:53.485Z"
   },
   {
    "duration": 17,
    "start_time": "2023-04-18T08:13:53.508Z"
   },
   {
    "duration": 15,
    "start_time": "2023-04-18T08:13:53.526Z"
   },
   {
    "duration": 226,
    "start_time": "2023-04-18T08:13:53.543Z"
   },
   {
    "duration": 16,
    "start_time": "2023-04-18T08:13:53.771Z"
   },
   {
    "duration": 10,
    "start_time": "2023-04-18T08:14:11.219Z"
   },
   {
    "duration": 2,
    "start_time": "2023-04-18T08:14:16.220Z"
   },
   {
    "duration": 62,
    "start_time": "2023-04-18T08:14:16.224Z"
   },
   {
    "duration": 15,
    "start_time": "2023-04-18T08:14:16.288Z"
   },
   {
    "duration": 15,
    "start_time": "2023-04-18T08:14:16.304Z"
   },
   {
    "duration": 16,
    "start_time": "2023-04-18T08:14:16.321Z"
   },
   {
    "duration": 6,
    "start_time": "2023-04-18T08:14:16.340Z"
   },
   {
    "duration": 43,
    "start_time": "2023-04-18T08:14:16.347Z"
   },
   {
    "duration": 5,
    "start_time": "2023-04-18T08:14:16.392Z"
   },
   {
    "duration": 11,
    "start_time": "2023-04-18T08:14:16.399Z"
   },
   {
    "duration": 8,
    "start_time": "2023-04-18T08:14:16.412Z"
   },
   {
    "duration": 8,
    "start_time": "2023-04-18T08:14:16.422Z"
   },
   {
    "duration": 6,
    "start_time": "2023-04-18T08:14:16.432Z"
   },
   {
    "duration": 10,
    "start_time": "2023-04-18T08:14:16.440Z"
   },
   {
    "duration": 40,
    "start_time": "2023-04-18T08:14:16.453Z"
   },
   {
    "duration": 6,
    "start_time": "2023-04-18T08:14:16.495Z"
   },
   {
    "duration": 13,
    "start_time": "2023-04-18T08:14:16.503Z"
   },
   {
    "duration": 8,
    "start_time": "2023-04-18T08:14:16.518Z"
   },
   {
    "duration": 12,
    "start_time": "2023-04-18T08:14:16.527Z"
   },
   {
    "duration": 22,
    "start_time": "2023-04-18T08:14:16.541Z"
   },
   {
    "duration": 21,
    "start_time": "2023-04-18T08:14:16.565Z"
   },
   {
    "duration": 27,
    "start_time": "2023-04-18T08:14:16.588Z"
   },
   {
    "duration": 16,
    "start_time": "2023-04-18T08:14:16.616Z"
   },
   {
    "duration": 17,
    "start_time": "2023-04-18T08:14:16.634Z"
   },
   {
    "duration": 239,
    "start_time": "2023-04-18T08:14:16.652Z"
   },
   {
    "duration": 10,
    "start_time": "2023-04-18T08:14:16.893Z"
   },
   {
    "duration": 11,
    "start_time": "2023-04-18T08:14:21.959Z"
   },
   {
    "duration": 209,
    "start_time": "2023-04-18T08:15:10.111Z"
   },
   {
    "duration": 17,
    "start_time": "2023-04-18T08:26:26.828Z"
   },
   {
    "duration": 19,
    "start_time": "2023-04-18T08:26:58.123Z"
   },
   {
    "duration": 19,
    "start_time": "2023-04-18T08:27:26.437Z"
   },
   {
    "duration": 3,
    "start_time": "2023-04-18T08:27:57.429Z"
   },
   {
    "duration": 72,
    "start_time": "2023-04-18T08:27:57.434Z"
   },
   {
    "duration": 16,
    "start_time": "2023-04-18T08:27:57.507Z"
   },
   {
    "duration": 20,
    "start_time": "2023-04-18T08:27:57.525Z"
   },
   {
    "duration": 19,
    "start_time": "2023-04-18T08:27:57.548Z"
   },
   {
    "duration": 5,
    "start_time": "2023-04-18T08:27:57.569Z"
   },
   {
    "duration": 10,
    "start_time": "2023-04-18T08:27:57.585Z"
   },
   {
    "duration": 5,
    "start_time": "2023-04-18T08:27:57.597Z"
   },
   {
    "duration": 17,
    "start_time": "2023-04-18T08:27:57.604Z"
   },
   {
    "duration": 15,
    "start_time": "2023-04-18T08:27:57.623Z"
   },
   {
    "duration": 14,
    "start_time": "2023-04-18T08:27:57.640Z"
   },
   {
    "duration": 13,
    "start_time": "2023-04-18T08:27:57.656Z"
   },
   {
    "duration": 36,
    "start_time": "2023-04-18T08:27:57.671Z"
   },
   {
    "duration": 34,
    "start_time": "2023-04-18T08:27:57.709Z"
   },
   {
    "duration": 11,
    "start_time": "2023-04-18T08:27:57.745Z"
   },
   {
    "duration": 9,
    "start_time": "2023-04-18T08:27:57.757Z"
   },
   {
    "duration": 13,
    "start_time": "2023-04-18T08:27:57.768Z"
   },
   {
    "duration": 8,
    "start_time": "2023-04-18T08:27:57.783Z"
   },
   {
    "duration": 31,
    "start_time": "2023-04-18T08:27:57.793Z"
   },
   {
    "duration": 17,
    "start_time": "2023-04-18T08:27:57.826Z"
   },
   {
    "duration": 35,
    "start_time": "2023-04-18T08:27:57.845Z"
   },
   {
    "duration": 22,
    "start_time": "2023-04-18T08:27:57.881Z"
   },
   {
    "duration": 21,
    "start_time": "2023-04-18T08:27:57.905Z"
   },
   {
    "duration": 219,
    "start_time": "2023-04-18T08:27:57.928Z"
   },
   {
    "duration": 10,
    "start_time": "2023-04-18T08:27:58.149Z"
   },
   {
    "duration": 35,
    "start_time": "2023-04-18T08:27:58.161Z"
   },
   {
    "duration": 189,
    "start_time": "2023-04-18T08:29:25.513Z"
   },
   {
    "duration": 110,
    "start_time": "2023-04-18T08:38:55.531Z"
   },
   {
    "duration": 102,
    "start_time": "2023-04-18T08:40:56.111Z"
   },
   {
    "duration": 53695,
    "start_time": "2023-04-18T08:41:04.442Z"
   },
   {
    "duration": 11,
    "start_time": "2023-04-18T08:44:44.710Z"
   },
   {
    "duration": 13,
    "start_time": "2023-04-18T08:44:53.058Z"
   },
   {
    "duration": 13,
    "start_time": "2023-04-18T08:45:13.561Z"
   },
   {
    "duration": 108,
    "start_time": "2023-04-18T08:45:39.914Z"
   },
   {
    "duration": 75,
    "start_time": "2023-04-18T08:48:58.426Z"
   },
   {
    "duration": 118,
    "start_time": "2023-04-18T08:49:14.074Z"
   },
   {
    "duration": 102,
    "start_time": "2023-04-18T08:49:36.445Z"
   },
   {
    "duration": 94,
    "start_time": "2023-04-18T08:50:11.964Z"
   },
   {
    "duration": 16,
    "start_time": "2023-04-18T08:51:18.284Z"
   },
   {
    "duration": 11,
    "start_time": "2023-04-18T08:51:47.241Z"
   },
   {
    "duration": 102,
    "start_time": "2023-04-18T08:52:00.614Z"
   },
   {
    "duration": 97,
    "start_time": "2023-04-18T08:52:25.729Z"
   },
   {
    "duration": 110,
    "start_time": "2023-04-18T08:52:39.877Z"
   },
   {
    "duration": 13,
    "start_time": "2023-04-18T08:58:04.618Z"
   },
   {
    "duration": 14,
    "start_time": "2023-04-18T08:58:15.122Z"
   },
   {
    "duration": 2,
    "start_time": "2023-04-18T09:01:38.011Z"
   },
   {
    "duration": 75,
    "start_time": "2023-04-18T09:01:38.016Z"
   },
   {
    "duration": 17,
    "start_time": "2023-04-18T09:01:38.093Z"
   },
   {
    "duration": 20,
    "start_time": "2023-04-18T09:01:38.111Z"
   },
   {
    "duration": 18,
    "start_time": "2023-04-18T09:01:38.133Z"
   },
   {
    "duration": 6,
    "start_time": "2023-04-18T09:01:38.152Z"
   },
   {
    "duration": 39,
    "start_time": "2023-04-18T09:01:38.159Z"
   },
   {
    "duration": 13,
    "start_time": "2023-04-18T09:01:38.200Z"
   },
   {
    "duration": 10,
    "start_time": "2023-04-18T09:01:38.215Z"
   },
   {
    "duration": 11,
    "start_time": "2023-04-18T09:01:38.227Z"
   },
   {
    "duration": 10,
    "start_time": "2023-04-18T09:01:38.240Z"
   },
   {
    "duration": 14,
    "start_time": "2023-04-18T09:01:38.251Z"
   },
   {
    "duration": 7,
    "start_time": "2023-04-18T09:01:38.284Z"
   },
   {
    "duration": 14,
    "start_time": "2023-04-18T09:01:38.295Z"
   },
   {
    "duration": 6,
    "start_time": "2023-04-18T09:01:38.311Z"
   },
   {
    "duration": 7,
    "start_time": "2023-04-18T09:01:38.319Z"
   },
   {
    "duration": 7,
    "start_time": "2023-04-18T09:01:38.328Z"
   },
   {
    "duration": 59,
    "start_time": "2023-04-18T09:01:38.337Z"
   },
   {
    "duration": 8,
    "start_time": "2023-04-18T09:01:38.399Z"
   },
   {
    "duration": 29,
    "start_time": "2023-04-18T09:01:38.409Z"
   },
   {
    "duration": 16,
    "start_time": "2023-04-18T09:01:38.440Z"
   },
   {
    "duration": 34,
    "start_time": "2023-04-18T09:01:38.458Z"
   },
   {
    "duration": 232,
    "start_time": "2023-04-18T09:01:38.494Z"
   },
   {
    "duration": 10,
    "start_time": "2023-04-18T09:01:38.728Z"
   },
   {
    "duration": 15,
    "start_time": "2023-04-18T09:01:38.740Z"
   },
   {
    "duration": 238,
    "start_time": "2023-04-18T09:01:38.756Z"
   },
   {
    "duration": 15,
    "start_time": "2023-04-18T09:01:38.995Z"
   },
   {
    "duration": 119,
    "start_time": "2023-04-18T09:01:39.012Z"
   },
   {
    "duration": 14,
    "start_time": "2023-04-18T09:01:39.133Z"
   },
   {
    "duration": 17,
    "start_time": "2023-04-18T09:04:03.880Z"
   },
   {
    "duration": 7,
    "start_time": "2023-04-18T09:07:25.463Z"
   },
   {
    "duration": 27,
    "start_time": "2023-04-18T09:10:38.383Z"
   },
   {
    "duration": 26,
    "start_time": "2023-04-18T09:10:57.823Z"
   },
   {
    "duration": 21,
    "start_time": "2023-04-18T09:11:14.123Z"
   },
   {
    "duration": 18,
    "start_time": "2023-04-18T09:11:22.546Z"
   },
   {
    "duration": 21,
    "start_time": "2023-04-18T09:12:17.326Z"
   },
   {
    "duration": 25,
    "start_time": "2023-04-18T09:16:19.736Z"
   },
   {
    "duration": 34,
    "start_time": "2023-04-18T09:16:54.926Z"
   },
   {
    "duration": 29,
    "start_time": "2023-04-18T09:18:02.661Z"
   },
   {
    "duration": 27,
    "start_time": "2023-04-18T09:18:20.160Z"
   },
   {
    "duration": 28,
    "start_time": "2023-04-18T09:18:30.032Z"
   },
   {
    "duration": 32,
    "start_time": "2023-04-18T09:18:51.634Z"
   },
   {
    "duration": 22,
    "start_time": "2023-04-18T09:19:17.468Z"
   },
   {
    "duration": 212,
    "start_time": "2023-04-18T09:21:53.058Z"
   },
   {
    "duration": 23,
    "start_time": "2023-04-18T09:22:45.430Z"
   },
   {
    "duration": 22,
    "start_time": "2023-04-18T09:22:56.663Z"
   },
   {
    "duration": 206,
    "start_time": "2023-04-18T09:29:02.565Z"
   },
   {
    "duration": 255,
    "start_time": "2023-04-18T09:30:22.421Z"
   },
   {
    "duration": 46,
    "start_time": "2023-04-18T09:35:31.334Z"
   },
   {
    "duration": 23,
    "start_time": "2023-04-18T09:35:36.428Z"
   },
   {
    "duration": 19,
    "start_time": "2023-04-18T09:36:14.878Z"
   },
   {
    "duration": 33,
    "start_time": "2023-04-18T09:48:17.626Z"
   },
   {
    "duration": 56,
    "start_time": "2023-04-18T09:48:30.435Z"
   },
   {
    "duration": 24,
    "start_time": "2023-04-18T09:48:37.516Z"
   },
   {
    "duration": 22,
    "start_time": "2023-04-18T09:48:54.727Z"
   },
   {
    "duration": 22,
    "start_time": "2023-04-18T09:49:01.914Z"
   },
   {
    "duration": 213,
    "start_time": "2023-04-18T09:49:44.789Z"
   },
   {
    "duration": 229,
    "start_time": "2023-04-18T09:50:15.251Z"
   },
   {
    "duration": 18,
    "start_time": "2023-04-18T09:54:16.209Z"
   },
   {
    "duration": 16,
    "start_time": "2023-04-18T09:55:03.946Z"
   },
   {
    "duration": 27,
    "start_time": "2023-04-18T09:55:29.918Z"
   },
   {
    "duration": 50,
    "start_time": "2023-04-18T09:56:13.130Z"
   },
   {
    "duration": 2,
    "start_time": "2023-04-18T09:56:29.423Z"
   },
   {
    "duration": 65,
    "start_time": "2023-04-18T09:56:29.428Z"
   },
   {
    "duration": 18,
    "start_time": "2023-04-18T09:56:29.494Z"
   },
   {
    "duration": 20,
    "start_time": "2023-04-18T09:56:29.514Z"
   },
   {
    "duration": 17,
    "start_time": "2023-04-18T09:56:29.536Z"
   },
   {
    "duration": 31,
    "start_time": "2023-04-18T09:56:29.555Z"
   },
   {
    "duration": 12,
    "start_time": "2023-04-18T09:56:29.588Z"
   },
   {
    "duration": 7,
    "start_time": "2023-04-18T09:56:29.602Z"
   },
   {
    "duration": 16,
    "start_time": "2023-04-18T09:56:29.611Z"
   },
   {
    "duration": 7,
    "start_time": "2023-04-18T09:56:29.628Z"
   },
   {
    "duration": 5,
    "start_time": "2023-04-18T09:56:29.637Z"
   },
   {
    "duration": 42,
    "start_time": "2023-04-18T09:56:29.643Z"
   },
   {
    "duration": 6,
    "start_time": "2023-04-18T09:56:29.687Z"
   },
   {
    "duration": 10,
    "start_time": "2023-04-18T09:56:29.696Z"
   },
   {
    "duration": 27,
    "start_time": "2023-04-18T09:56:29.708Z"
   },
   {
    "duration": 18,
    "start_time": "2023-04-18T09:56:29.737Z"
   },
   {
    "duration": 23,
    "start_time": "2023-04-18T09:56:29.756Z"
   },
   {
    "duration": 37,
    "start_time": "2023-04-18T09:56:29.781Z"
   },
   {
    "duration": 17,
    "start_time": "2023-04-18T09:56:29.820Z"
   },
   {
    "duration": 45,
    "start_time": "2023-04-18T09:56:29.839Z"
   },
   {
    "duration": 31,
    "start_time": "2023-04-18T09:56:29.886Z"
   },
   {
    "duration": 17,
    "start_time": "2023-04-18T09:56:29.918Z"
   },
   {
    "duration": 203,
    "start_time": "2023-04-18T09:56:29.937Z"
   },
   {
    "duration": 11,
    "start_time": "2023-04-18T09:56:30.142Z"
   },
   {
    "duration": 40,
    "start_time": "2023-04-18T09:56:30.155Z"
   },
   {
    "duration": 224,
    "start_time": "2023-04-18T09:56:30.197Z"
   },
   {
    "duration": 18,
    "start_time": "2023-04-18T09:56:30.423Z"
   },
   {
    "duration": 129,
    "start_time": "2023-04-18T09:56:30.444Z"
   },
   {
    "duration": 28,
    "start_time": "2023-04-18T09:56:30.575Z"
   },
   {
    "duration": 323,
    "start_time": "2023-04-18T09:56:30.605Z"
   },
   {
    "duration": 56,
    "start_time": "2023-04-18T09:56:30.931Z"
   },
   {
    "duration": 0,
    "start_time": "2023-04-18T09:56:30.989Z"
   },
   {
    "duration": 46,
    "start_time": "2023-04-18T09:56:43.929Z"
   },
   {
    "duration": 61,
    "start_time": "2023-04-18T09:57:16.718Z"
   },
   {
    "duration": 50,
    "start_time": "2023-04-18T09:57:21.221Z"
   },
   {
    "duration": 20,
    "start_time": "2023-04-18T09:59:01.481Z"
   },
   {
    "duration": 18,
    "start_time": "2023-04-18T09:59:32.537Z"
   },
   {
    "duration": 23,
    "start_time": "2023-04-18T09:59:45.977Z"
   },
   {
    "duration": 17,
    "start_time": "2023-04-18T10:00:00.114Z"
   },
   {
    "duration": 22,
    "start_time": "2023-04-18T10:01:05.642Z"
   },
   {
    "duration": 21,
    "start_time": "2023-04-18T10:01:23.263Z"
   },
   {
    "duration": 11,
    "start_time": "2023-04-18T10:03:01.945Z"
   },
   {
    "duration": 20,
    "start_time": "2023-04-18T10:03:23.325Z"
   },
   {
    "duration": 1160,
    "start_time": "2023-04-18T10:07:48.084Z"
   },
   {
    "duration": 63,
    "start_time": "2023-04-18T10:07:49.246Z"
   },
   {
    "duration": 22,
    "start_time": "2023-04-18T10:07:49.311Z"
   },
   {
    "duration": 14,
    "start_time": "2023-04-18T10:07:49.335Z"
   },
   {
    "duration": 39,
    "start_time": "2023-04-18T10:07:49.351Z"
   },
   {
    "duration": 4,
    "start_time": "2023-04-18T10:07:49.392Z"
   },
   {
    "duration": 11,
    "start_time": "2023-04-18T10:07:49.398Z"
   },
   {
    "duration": 5,
    "start_time": "2023-04-18T10:07:49.411Z"
   },
   {
    "duration": 11,
    "start_time": "2023-04-18T10:07:49.418Z"
   },
   {
    "duration": 6,
    "start_time": "2023-04-18T10:07:49.431Z"
   },
   {
    "duration": 6,
    "start_time": "2023-04-18T10:07:49.438Z"
   },
   {
    "duration": 8,
    "start_time": "2023-04-18T10:07:49.445Z"
   },
   {
    "duration": 36,
    "start_time": "2023-04-18T10:07:49.454Z"
   },
   {
    "duration": 13,
    "start_time": "2023-04-18T10:07:49.493Z"
   },
   {
    "duration": 5,
    "start_time": "2023-04-18T10:07:49.507Z"
   },
   {
    "duration": 7,
    "start_time": "2023-04-18T10:07:49.513Z"
   },
   {
    "duration": 21,
    "start_time": "2023-04-18T10:07:49.522Z"
   },
   {
    "duration": 69,
    "start_time": "2023-04-18T10:07:49.544Z"
   },
   {
    "duration": 13,
    "start_time": "2023-04-18T10:07:49.615Z"
   },
   {
    "duration": 28,
    "start_time": "2023-04-18T10:07:49.630Z"
   },
   {
    "duration": 18,
    "start_time": "2023-04-18T10:07:49.659Z"
   },
   {
    "duration": 16,
    "start_time": "2023-04-18T10:07:49.679Z"
   },
   {
    "duration": 216,
    "start_time": "2023-04-18T10:07:49.697Z"
   },
   {
    "duration": 11,
    "start_time": "2023-04-18T10:07:49.915Z"
   },
   {
    "duration": 15,
    "start_time": "2023-04-18T10:07:49.928Z"
   },
   {
    "duration": 230,
    "start_time": "2023-04-18T10:07:49.945Z"
   },
   {
    "duration": 17,
    "start_time": "2023-04-18T10:07:50.178Z"
   },
   {
    "duration": 114,
    "start_time": "2023-04-18T10:07:50.197Z"
   },
   {
    "duration": 20,
    "start_time": "2023-04-18T10:07:50.313Z"
   },
   {
    "duration": 222,
    "start_time": "2023-04-18T10:07:50.334Z"
   },
   {
    "duration": 30,
    "start_time": "2023-04-18T10:07:50.557Z"
   },
   {
    "duration": 264,
    "start_time": "2023-04-18T10:07:50.589Z"
   },
   {
    "duration": 16,
    "start_time": "2023-04-18T10:07:50.854Z"
   },
   {
    "duration": 302,
    "start_time": "2023-04-18T10:08:40.063Z"
   },
   {
    "duration": 4,
    "start_time": "2023-04-18T10:08:53.557Z"
   },
   {
    "duration": 65,
    "start_time": "2023-04-18T10:08:53.563Z"
   },
   {
    "duration": 16,
    "start_time": "2023-04-18T10:08:53.629Z"
   },
   {
    "duration": 38,
    "start_time": "2023-04-18T10:08:53.648Z"
   },
   {
    "duration": 24,
    "start_time": "2023-04-18T10:08:53.689Z"
   },
   {
    "duration": 6,
    "start_time": "2023-04-18T10:08:53.714Z"
   },
   {
    "duration": 11,
    "start_time": "2023-04-18T10:08:53.722Z"
   },
   {
    "duration": 10,
    "start_time": "2023-04-18T10:08:53.735Z"
   },
   {
    "duration": 39,
    "start_time": "2023-04-18T10:08:53.746Z"
   },
   {
    "duration": 6,
    "start_time": "2023-04-18T10:08:53.787Z"
   },
   {
    "duration": 17,
    "start_time": "2023-04-18T10:08:53.794Z"
   },
   {
    "duration": 17,
    "start_time": "2023-04-18T10:08:53.812Z"
   },
   {
    "duration": 14,
    "start_time": "2023-04-18T10:08:53.831Z"
   },
   {
    "duration": 13,
    "start_time": "2023-04-18T10:08:53.848Z"
   },
   {
    "duration": 18,
    "start_time": "2023-04-18T10:08:53.862Z"
   },
   {
    "duration": 9,
    "start_time": "2023-04-18T10:08:53.885Z"
   },
   {
    "duration": 9,
    "start_time": "2023-04-18T10:08:53.896Z"
   },
   {
    "duration": 21,
    "start_time": "2023-04-18T10:08:53.906Z"
   },
   {
    "duration": 8,
    "start_time": "2023-04-18T10:08:53.931Z"
   },
   {
    "duration": 47,
    "start_time": "2023-04-18T10:08:53.941Z"
   },
   {
    "duration": 15,
    "start_time": "2023-04-18T10:08:53.990Z"
   },
   {
    "duration": 20,
    "start_time": "2023-04-18T10:08:54.007Z"
   },
   {
    "duration": 239,
    "start_time": "2023-04-18T10:08:54.029Z"
   },
   {
    "duration": 17,
    "start_time": "2023-04-18T10:08:54.270Z"
   },
   {
    "duration": 39,
    "start_time": "2023-04-18T10:08:54.290Z"
   },
   {
    "duration": 323,
    "start_time": "2023-04-18T10:08:54.331Z"
   },
   {
    "duration": 13,
    "start_time": "2023-04-18T10:08:54.656Z"
   },
   {
    "duration": 116,
    "start_time": "2023-04-18T10:08:54.685Z"
   },
   {
    "duration": 22,
    "start_time": "2023-04-18T10:08:54.803Z"
   },
   {
    "duration": 246,
    "start_time": "2023-04-18T10:08:54.827Z"
   },
   {
    "duration": 36,
    "start_time": "2023-04-18T10:08:55.076Z"
   },
   {
    "duration": 390,
    "start_time": "2023-04-18T10:08:55.114Z"
   },
   {
    "duration": 17,
    "start_time": "2023-04-18T10:08:55.506Z"
   },
   {
    "duration": 278,
    "start_time": "2023-04-18T10:09:39.944Z"
   },
   {
    "duration": 344,
    "start_time": "2023-04-18T10:10:01.577Z"
   },
   {
    "duration": 341,
    "start_time": "2023-04-18T10:10:09.925Z"
   },
   {
    "duration": 423,
    "start_time": "2023-04-18T10:10:14.575Z"
   },
   {
    "duration": 278,
    "start_time": "2023-04-18T10:10:20.240Z"
   },
   {
    "duration": 352,
    "start_time": "2023-04-18T10:10:26.473Z"
   },
   {
    "duration": 280,
    "start_time": "2023-04-18T10:10:33.627Z"
   },
   {
    "duration": 442,
    "start_time": "2023-04-18T10:10:38.425Z"
   },
   {
    "duration": 372,
    "start_time": "2023-04-18T10:10:50.952Z"
   },
   {
    "duration": 7,
    "start_time": "2023-04-18T10:18:41.322Z"
   },
   {
    "duration": 33,
    "start_time": "2023-04-18T10:22:15.159Z"
   },
   {
    "duration": 100,
    "start_time": "2023-04-18T10:23:57.931Z"
   },
   {
    "duration": 8,
    "start_time": "2023-04-18T10:24:16.222Z"
   },
   {
    "duration": 9,
    "start_time": "2023-04-18T10:24:21.213Z"
   },
   {
    "duration": 9,
    "start_time": "2023-04-18T10:24:27.831Z"
   },
   {
    "duration": 42,
    "start_time": "2023-04-18T10:24:31.358Z"
   },
   {
    "duration": 9,
    "start_time": "2023-04-18T10:29:29.278Z"
   },
   {
    "duration": 19,
    "start_time": "2023-04-18T10:29:42.214Z"
   },
   {
    "duration": 22,
    "start_time": "2023-04-18T10:31:59.314Z"
   },
   {
    "duration": 36,
    "start_time": "2023-04-18T10:33:12.142Z"
   },
   {
    "duration": 52,
    "start_time": "2023-04-18T10:33:16.637Z"
   },
   {
    "duration": 19,
    "start_time": "2023-04-18T10:33:45.631Z"
   },
   {
    "duration": 22,
    "start_time": "2023-04-18T10:44:22.023Z"
   },
   {
    "duration": 22,
    "start_time": "2023-04-18T10:44:30.206Z"
   },
   {
    "duration": 23,
    "start_time": "2023-04-18T10:44:53.629Z"
   },
   {
    "duration": 22,
    "start_time": "2023-04-18T10:44:59.447Z"
   },
   {
    "duration": 200,
    "start_time": "2023-04-18T10:50:57.956Z"
   },
   {
    "duration": 1904,
    "start_time": "2023-04-18T10:54:05.309Z"
   },
   {
    "duration": 1172,
    "start_time": "2023-04-18T10:55:41.415Z"
   },
   {
    "duration": 25,
    "start_time": "2023-04-18T11:03:56.210Z"
   },
   {
    "duration": 17,
    "start_time": "2023-04-18T11:04:44.428Z"
   },
   {
    "duration": 18,
    "start_time": "2023-04-18T11:05:19.526Z"
   },
   {
    "duration": 196,
    "start_time": "2023-04-18T11:05:30.118Z"
   },
   {
    "duration": 202,
    "start_time": "2023-04-18T11:05:57.112Z"
   },
   {
    "duration": 77,
    "start_time": "2023-04-19T07:37:22.278Z"
   },
   {
    "duration": 1263,
    "start_time": "2023-04-19T07:37:34.936Z"
   },
   {
    "duration": 220,
    "start_time": "2023-04-19T07:37:36.202Z"
   },
   {
    "duration": 20,
    "start_time": "2023-04-19T07:37:36.424Z"
   },
   {
    "duration": 21,
    "start_time": "2023-04-19T07:37:36.446Z"
   },
   {
    "duration": 17,
    "start_time": "2023-04-19T07:37:36.469Z"
   },
   {
    "duration": 10,
    "start_time": "2023-04-19T07:37:36.487Z"
   },
   {
    "duration": 25,
    "start_time": "2023-04-19T07:37:36.498Z"
   },
   {
    "duration": 22,
    "start_time": "2023-04-19T07:37:36.524Z"
   },
   {
    "duration": 10,
    "start_time": "2023-04-19T07:37:36.550Z"
   },
   {
    "duration": 30,
    "start_time": "2023-04-19T07:37:36.563Z"
   },
   {
    "duration": 25,
    "start_time": "2023-04-19T07:37:36.595Z"
   },
   {
    "duration": 15,
    "start_time": "2023-04-19T07:37:36.622Z"
   },
   {
    "duration": 10,
    "start_time": "2023-04-19T07:37:36.639Z"
   },
   {
    "duration": 25,
    "start_time": "2023-04-19T07:37:36.650Z"
   },
   {
    "duration": 31,
    "start_time": "2023-04-19T07:37:36.677Z"
   },
   {
    "duration": 11,
    "start_time": "2023-04-19T07:37:36.710Z"
   },
   {
    "duration": 13,
    "start_time": "2023-04-19T07:37:36.725Z"
   },
   {
    "duration": 23,
    "start_time": "2023-04-19T07:37:36.740Z"
   },
   {
    "duration": 9,
    "start_time": "2023-04-19T07:37:36.766Z"
   },
   {
    "duration": 40,
    "start_time": "2023-04-19T07:37:36.777Z"
   },
   {
    "duration": 26,
    "start_time": "2023-04-19T07:37:36.819Z"
   },
   {
    "duration": 17,
    "start_time": "2023-04-19T07:37:36.847Z"
   },
   {
    "duration": 234,
    "start_time": "2023-04-19T07:37:36.866Z"
   },
   {
    "duration": 11,
    "start_time": "2023-04-19T07:37:37.101Z"
   },
   {
    "duration": 26,
    "start_time": "2023-04-19T07:37:37.113Z"
   },
   {
    "duration": 228,
    "start_time": "2023-04-19T07:37:37.141Z"
   },
   {
    "duration": 22,
    "start_time": "2023-04-19T07:37:37.371Z"
   },
   {
    "duration": 130,
    "start_time": "2023-04-19T07:37:37.396Z"
   },
   {
    "duration": 22,
    "start_time": "2023-04-19T07:37:37.528Z"
   },
   {
    "duration": 237,
    "start_time": "2023-04-19T07:37:37.552Z"
   },
   {
    "duration": 23,
    "start_time": "2023-04-19T07:37:37.792Z"
   },
   {
    "duration": 355,
    "start_time": "2023-04-19T07:37:37.818Z"
   },
   {
    "duration": 14,
    "start_time": "2023-04-19T07:37:38.175Z"
   },
   {
    "duration": 23,
    "start_time": "2023-04-19T07:37:38.191Z"
   },
   {
    "duration": 1960,
    "start_time": "2023-04-19T07:37:38.216Z"
   },
   {
    "duration": 23,
    "start_time": "2023-04-19T07:37:40.178Z"
   },
   {
    "duration": 219,
    "start_time": "2023-04-19T07:37:40.202Z"
   },
   {
    "duration": 103,
    "start_time": "2023-04-19T07:37:40.423Z"
   },
   {
    "duration": 17,
    "start_time": "2023-04-19T07:37:40.528Z"
   },
   {
    "duration": 207,
    "start_time": "2023-04-19T07:40:32.240Z"
   },
   {
    "duration": 65,
    "start_time": "2023-04-19T07:40:32.450Z"
   },
   {
    "duration": 15,
    "start_time": "2023-04-19T07:40:32.517Z"
   },
   {
    "duration": 16,
    "start_time": "2023-04-19T07:40:32.534Z"
   },
   {
    "duration": 34,
    "start_time": "2023-04-19T07:40:32.553Z"
   },
   {
    "duration": 5,
    "start_time": "2023-04-19T07:40:32.588Z"
   },
   {
    "duration": 10,
    "start_time": "2023-04-19T07:40:32.595Z"
   },
   {
    "duration": 4,
    "start_time": "2023-04-19T07:40:32.607Z"
   },
   {
    "duration": 9,
    "start_time": "2023-04-19T07:40:32.612Z"
   },
   {
    "duration": 11,
    "start_time": "2023-04-19T07:40:32.622Z"
   },
   {
    "duration": 7,
    "start_time": "2023-04-19T07:40:32.635Z"
   },
   {
    "duration": 5,
    "start_time": "2023-04-19T07:40:32.643Z"
   },
   {
    "duration": 7,
    "start_time": "2023-04-19T07:40:32.686Z"
   },
   {
    "duration": 8,
    "start_time": "2023-04-19T07:40:32.698Z"
   },
   {
    "duration": 5,
    "start_time": "2023-04-19T07:40:32.707Z"
   },
   {
    "duration": 6,
    "start_time": "2023-04-19T07:40:32.714Z"
   },
   {
    "duration": 5,
    "start_time": "2023-04-19T07:40:32.721Z"
   },
   {
    "duration": 59,
    "start_time": "2023-04-19T07:40:32.727Z"
   },
   {
    "duration": 7,
    "start_time": "2023-04-19T07:40:32.788Z"
   },
   {
    "duration": 20,
    "start_time": "2023-04-19T07:40:32.797Z"
   },
   {
    "duration": 14,
    "start_time": "2023-04-19T07:40:32.819Z"
   },
   {
    "duration": 14,
    "start_time": "2023-04-19T07:40:32.835Z"
   },
   {
    "duration": 243,
    "start_time": "2023-04-19T07:40:32.851Z"
   },
   {
    "duration": 14,
    "start_time": "2023-04-19T07:40:33.097Z"
   },
   {
    "duration": 16,
    "start_time": "2023-04-19T07:40:33.112Z"
   },
   {
    "duration": 318,
    "start_time": "2023-04-19T07:40:33.129Z"
   },
   {
    "duration": 13,
    "start_time": "2023-04-19T07:40:33.449Z"
   },
   {
    "duration": 122,
    "start_time": "2023-04-19T07:40:33.463Z"
   },
   {
    "duration": 21,
    "start_time": "2023-04-19T07:40:33.587Z"
   },
   {
    "duration": 220,
    "start_time": "2023-04-19T07:40:33.610Z"
   },
   {
    "duration": 21,
    "start_time": "2023-04-19T07:40:33.832Z"
   },
   {
    "duration": 372,
    "start_time": "2023-04-19T07:40:33.855Z"
   },
   {
    "duration": 6,
    "start_time": "2023-04-19T07:40:34.229Z"
   },
   {
    "duration": 23,
    "start_time": "2023-04-19T07:40:34.237Z"
   },
   {
    "duration": 1849,
    "start_time": "2023-04-19T07:40:34.262Z"
   },
   {
    "duration": 17,
    "start_time": "2023-04-19T07:40:36.113Z"
   },
   {
    "duration": 217,
    "start_time": "2023-04-19T07:40:36.132Z"
   },
   {
    "duration": 92,
    "start_time": "2023-04-19T07:40:36.352Z"
   },
   {
    "duration": 0,
    "start_time": "2023-04-19T07:40:36.446Z"
   },
   {
    "duration": 20,
    "start_time": "2023-04-19T07:42:26.692Z"
   },
   {
    "duration": 227,
    "start_time": "2023-04-19T07:42:43.598Z"
   },
   {
    "duration": 16,
    "start_time": "2023-04-19T07:42:56.166Z"
   },
   {
    "duration": 4,
    "start_time": "2023-04-19T07:46:06.912Z"
   },
   {
    "duration": 96,
    "start_time": "2023-04-19T07:46:06.918Z"
   },
   {
    "duration": 18,
    "start_time": "2023-04-19T07:46:07.016Z"
   },
   {
    "duration": 34,
    "start_time": "2023-04-19T07:46:07.036Z"
   },
   {
    "duration": 23,
    "start_time": "2023-04-19T07:46:07.073Z"
   },
   {
    "duration": 7,
    "start_time": "2023-04-19T07:46:07.098Z"
   },
   {
    "duration": 18,
    "start_time": "2023-04-19T07:46:07.107Z"
   },
   {
    "duration": 12,
    "start_time": "2023-04-19T07:46:07.127Z"
   },
   {
    "duration": 10,
    "start_time": "2023-04-19T07:46:07.142Z"
   },
   {
    "duration": 9,
    "start_time": "2023-04-19T07:46:07.154Z"
   },
   {
    "duration": 13,
    "start_time": "2023-04-19T07:46:07.186Z"
   },
   {
    "duration": 10,
    "start_time": "2023-04-19T07:46:07.201Z"
   },
   {
    "duration": 14,
    "start_time": "2023-04-19T07:46:07.214Z"
   },
   {
    "duration": 19,
    "start_time": "2023-04-19T07:46:07.233Z"
   },
   {
    "duration": 6,
    "start_time": "2023-04-19T07:46:07.255Z"
   },
   {
    "duration": 27,
    "start_time": "2023-04-19T07:46:07.262Z"
   },
   {
    "duration": 8,
    "start_time": "2023-04-19T07:46:07.291Z"
   },
   {
    "duration": 32,
    "start_time": "2023-04-19T07:46:07.301Z"
   },
   {
    "duration": 9,
    "start_time": "2023-04-19T07:46:07.335Z"
   },
   {
    "duration": 47,
    "start_time": "2023-04-19T07:46:07.345Z"
   },
   {
    "duration": 18,
    "start_time": "2023-04-19T07:46:07.394Z"
   },
   {
    "duration": 15,
    "start_time": "2023-04-19T07:46:07.414Z"
   },
   {
    "duration": 232,
    "start_time": "2023-04-19T07:46:07.431Z"
   },
   {
    "duration": 10,
    "start_time": "2023-04-19T07:46:07.664Z"
   },
   {
    "duration": 16,
    "start_time": "2023-04-19T07:46:07.685Z"
   },
   {
    "duration": 225,
    "start_time": "2023-04-19T07:46:07.702Z"
   },
   {
    "duration": 13,
    "start_time": "2023-04-19T07:46:07.929Z"
   },
   {
    "duration": 129,
    "start_time": "2023-04-19T07:46:07.944Z"
   },
   {
    "duration": 29,
    "start_time": "2023-04-19T07:46:08.084Z"
   },
   {
    "duration": 248,
    "start_time": "2023-04-19T07:46:08.114Z"
   },
   {
    "duration": 29,
    "start_time": "2023-04-19T07:46:08.364Z"
   },
   {
    "duration": 340,
    "start_time": "2023-04-19T07:46:08.395Z"
   },
   {
    "duration": 8,
    "start_time": "2023-04-19T07:46:08.737Z"
   },
   {
    "duration": 41,
    "start_time": "2023-04-19T07:46:08.747Z"
   },
   {
    "duration": 1977,
    "start_time": "2023-04-19T07:46:08.790Z"
   },
   {
    "duration": 23,
    "start_time": "2023-04-19T07:46:10.768Z"
   },
   {
    "duration": 221,
    "start_time": "2023-04-19T07:46:10.793Z"
   },
   {
    "duration": 16,
    "start_time": "2023-04-19T07:46:11.016Z"
   },
   {
    "duration": 116,
    "start_time": "2023-04-19T07:46:11.034Z"
   },
   {
    "duration": 13,
    "start_time": "2023-04-19T07:46:11.151Z"
   },
   {
    "duration": 0,
    "start_time": "2023-04-19T07:46:11.166Z"
   },
   {
    "duration": 10104,
    "start_time": "2023-04-19T07:46:26.891Z"
   },
   {
    "duration": 75,
    "start_time": "2023-04-19T07:50:42.285Z"
   },
   {
    "duration": 65,
    "start_time": "2023-04-19T07:50:42.385Z"
   },
   {
    "duration": 15,
    "start_time": "2023-04-19T07:50:42.452Z"
   },
   {
    "duration": 29,
    "start_time": "2023-04-19T07:50:42.469Z"
   },
   {
    "duration": 27,
    "start_time": "2023-04-19T07:50:42.500Z"
   },
   {
    "duration": 5,
    "start_time": "2023-04-19T07:50:42.528Z"
   },
   {
    "duration": 31,
    "start_time": "2023-04-19T07:50:42.534Z"
   },
   {
    "duration": 5,
    "start_time": "2023-04-19T07:50:42.567Z"
   },
   {
    "duration": 12,
    "start_time": "2023-04-19T07:50:42.574Z"
   },
   {
    "duration": 5,
    "start_time": "2023-04-19T07:50:42.589Z"
   },
   {
    "duration": 5,
    "start_time": "2023-04-19T07:50:42.596Z"
   },
   {
    "duration": 4,
    "start_time": "2023-04-19T07:50:42.603Z"
   },
   {
    "duration": 7,
    "start_time": "2023-04-19T07:50:42.609Z"
   },
   {
    "duration": 8,
    "start_time": "2023-04-19T07:50:42.620Z"
   },
   {
    "duration": 5,
    "start_time": "2023-04-19T07:50:42.630Z"
   },
   {
    "duration": 10,
    "start_time": "2023-04-19T07:50:42.637Z"
   },
   {
    "duration": 5,
    "start_time": "2023-04-19T07:50:42.686Z"
   },
   {
    "duration": 22,
    "start_time": "2023-04-19T07:50:42.692Z"
   },
   {
    "duration": 8,
    "start_time": "2023-04-19T07:50:42.715Z"
   },
   {
    "duration": 32,
    "start_time": "2023-04-19T07:50:42.724Z"
   },
   {
    "duration": 29,
    "start_time": "2023-04-19T07:50:42.758Z"
   },
   {
    "duration": 16,
    "start_time": "2023-04-19T07:50:42.788Z"
   },
   {
    "duration": 211,
    "start_time": "2023-04-19T07:50:42.805Z"
   },
   {
    "duration": 11,
    "start_time": "2023-04-19T07:50:43.017Z"
   },
   {
    "duration": 14,
    "start_time": "2023-04-19T07:50:43.029Z"
   },
   {
    "duration": 221,
    "start_time": "2023-04-19T07:50:43.044Z"
   },
   {
    "duration": 20,
    "start_time": "2023-04-19T07:50:43.266Z"
   },
   {
    "duration": 106,
    "start_time": "2023-04-19T07:50:43.287Z"
   },
   {
    "duration": 19,
    "start_time": "2023-04-19T07:50:43.395Z"
   },
   {
    "duration": 211,
    "start_time": "2023-04-19T07:50:43.416Z"
   },
   {
    "duration": 21,
    "start_time": "2023-04-19T07:50:43.629Z"
   },
   {
    "duration": 331,
    "start_time": "2023-04-19T07:50:43.652Z"
   },
   {
    "duration": 8,
    "start_time": "2023-04-19T07:50:43.985Z"
   },
   {
    "duration": 30,
    "start_time": "2023-04-19T07:50:43.995Z"
   },
   {
    "duration": 1819,
    "start_time": "2023-04-19T07:50:44.028Z"
   },
   {
    "duration": 16,
    "start_time": "2023-04-19T07:50:45.849Z"
   },
   {
    "duration": 208,
    "start_time": "2023-04-19T07:50:45.867Z"
   },
   {
    "duration": 19,
    "start_time": "2023-04-19T07:50:46.076Z"
   },
   {
    "duration": 109,
    "start_time": "2023-04-19T07:50:46.097Z"
   },
   {
    "duration": 9755,
    "start_time": "2023-04-19T07:50:46.207Z"
   },
   {
    "duration": 47,
    "start_time": "2023-04-19T07:50:55.966Z"
   },
   {
    "duration": 19,
    "start_time": "2023-04-19T07:53:47.558Z"
   },
   {
    "duration": 30,
    "start_time": "2023-04-19T08:20:11.402Z"
   },
   {
    "duration": 62,
    "start_time": "2023-04-19T08:21:44.164Z"
   },
   {
    "duration": 24,
    "start_time": "2023-04-19T08:22:07.114Z"
   },
   {
    "duration": 64,
    "start_time": "2023-04-19T08:22:15.938Z"
   },
   {
    "duration": 19,
    "start_time": "2023-04-19T08:27:44.183Z"
   },
   {
    "duration": 330,
    "start_time": "2023-04-19T08:27:59.905Z"
   },
   {
    "duration": 8,
    "start_time": "2023-04-19T08:31:02.392Z"
   },
   {
    "duration": 7,
    "start_time": "2023-04-19T08:31:08.089Z"
   },
   {
    "duration": 3,
    "start_time": "2023-04-19T08:31:11.090Z"
   },
   {
    "duration": 86,
    "start_time": "2023-04-19T08:31:11.095Z"
   },
   {
    "duration": 23,
    "start_time": "2023-04-19T08:31:11.183Z"
   },
   {
    "duration": 20,
    "start_time": "2023-04-19T08:31:11.209Z"
   },
   {
    "duration": 15,
    "start_time": "2023-04-19T08:31:11.230Z"
   },
   {
    "duration": 5,
    "start_time": "2023-04-19T08:31:11.246Z"
   },
   {
    "duration": 41,
    "start_time": "2023-04-19T08:31:11.252Z"
   },
   {
    "duration": 5,
    "start_time": "2023-04-19T08:31:11.294Z"
   },
   {
    "duration": 9,
    "start_time": "2023-04-19T08:31:11.300Z"
   },
   {
    "duration": 5,
    "start_time": "2023-04-19T08:31:11.311Z"
   },
   {
    "duration": 5,
    "start_time": "2023-04-19T08:31:11.317Z"
   },
   {
    "duration": 5,
    "start_time": "2023-04-19T08:31:11.324Z"
   },
   {
    "duration": 8,
    "start_time": "2023-04-19T08:31:11.330Z"
   },
   {
    "duration": 12,
    "start_time": "2023-04-19T08:31:11.385Z"
   },
   {
    "duration": 8,
    "start_time": "2023-04-19T08:31:11.399Z"
   },
   {
    "duration": 6,
    "start_time": "2023-04-19T08:31:11.409Z"
   },
   {
    "duration": 19,
    "start_time": "2023-04-19T08:31:11.417Z"
   },
   {
    "duration": 24,
    "start_time": "2023-04-19T08:31:11.438Z"
   },
   {
    "duration": 26,
    "start_time": "2023-04-19T08:31:11.464Z"
   },
   {
    "duration": 24,
    "start_time": "2023-04-19T08:31:11.491Z"
   },
   {
    "duration": 22,
    "start_time": "2023-04-19T08:31:11.517Z"
   },
   {
    "duration": 24,
    "start_time": "2023-04-19T08:31:11.541Z"
   },
   {
    "duration": 230,
    "start_time": "2023-04-19T08:31:11.585Z"
   },
   {
    "duration": 11,
    "start_time": "2023-04-19T08:31:11.817Z"
   },
   {
    "duration": 16,
    "start_time": "2023-04-19T08:31:11.831Z"
   },
   {
    "duration": 231,
    "start_time": "2023-04-19T08:31:11.850Z"
   },
   {
    "duration": 13,
    "start_time": "2023-04-19T08:31:12.085Z"
   },
   {
    "duration": 131,
    "start_time": "2023-04-19T08:31:12.102Z"
   },
   {
    "duration": 24,
    "start_time": "2023-04-19T08:31:12.235Z"
   },
   {
    "duration": 252,
    "start_time": "2023-04-19T08:31:12.261Z"
   },
   {
    "duration": 24,
    "start_time": "2023-04-19T08:31:12.515Z"
   },
   {
    "duration": 349,
    "start_time": "2023-04-19T08:31:12.540Z"
   },
   {
    "duration": 7,
    "start_time": "2023-04-19T08:31:12.891Z"
   },
   {
    "duration": 24,
    "start_time": "2023-04-19T08:31:12.899Z"
   },
   {
    "duration": 2097,
    "start_time": "2023-04-19T08:31:12.925Z"
   },
   {
    "duration": 16,
    "start_time": "2023-04-19T08:31:15.024Z"
   },
   {
    "duration": 236,
    "start_time": "2023-04-19T08:31:15.041Z"
   },
   {
    "duration": 22,
    "start_time": "2023-04-19T08:31:15.279Z"
   },
   {
    "duration": 139,
    "start_time": "2023-04-19T08:31:15.303Z"
   },
   {
    "duration": 10273,
    "start_time": "2023-04-19T08:31:15.444Z"
   },
   {
    "duration": 69,
    "start_time": "2023-04-19T08:31:25.720Z"
   },
   {
    "duration": 471,
    "start_time": "2023-04-19T08:31:25.792Z"
   },
   {
    "duration": 7,
    "start_time": "2023-04-19T08:31:26.265Z"
   },
   {
    "duration": 24,
    "start_time": "2023-04-19T08:31:26.273Z"
   },
   {
    "duration": 8,
    "start_time": "2023-04-19T08:31:43.562Z"
   },
   {
    "duration": 11,
    "start_time": "2023-04-19T08:32:56.994Z"
   },
   {
    "duration": 18,
    "start_time": "2023-04-19T08:33:02.322Z"
   },
   {
    "duration": 8,
    "start_time": "2023-04-19T08:33:05.168Z"
   },
   {
    "duration": 19,
    "start_time": "2023-04-19T08:40:39.757Z"
   },
   {
    "duration": 27,
    "start_time": "2023-04-19T08:41:31.441Z"
   },
   {
    "duration": 22,
    "start_time": "2023-04-19T08:45:13.009Z"
   },
   {
    "duration": 118,
    "start_time": "2023-04-19T08:47:15.831Z"
   },
   {
    "duration": 6,
    "start_time": "2023-04-19T08:55:52.516Z"
   },
   {
    "duration": 9,
    "start_time": "2023-04-19T08:56:13.645Z"
   },
   {
    "duration": 9,
    "start_time": "2023-04-19T08:56:22.429Z"
   },
   {
    "duration": 8,
    "start_time": "2023-04-19T08:58:45.054Z"
   },
   {
    "duration": 7,
    "start_time": "2023-04-19T09:02:30.955Z"
   },
   {
    "duration": 56,
    "start_time": "2023-04-19T09:02:37.710Z"
   },
   {
    "duration": 231,
    "start_time": "2023-04-19T09:04:05.533Z"
   },
   {
    "duration": 14,
    "start_time": "2023-04-19T09:04:43.021Z"
   },
   {
    "duration": 13,
    "start_time": "2023-04-19T09:05:10.172Z"
   },
   {
    "duration": 43,
    "start_time": "2023-04-19T09:06:24.471Z"
   },
   {
    "duration": 4,
    "start_time": "2023-04-19T09:06:43.087Z"
   },
   {
    "duration": 68,
    "start_time": "2023-04-19T09:06:43.093Z"
   },
   {
    "duration": 41,
    "start_time": "2023-04-19T09:06:43.164Z"
   },
   {
    "duration": 15,
    "start_time": "2023-04-19T09:06:43.209Z"
   },
   {
    "duration": 17,
    "start_time": "2023-04-19T09:06:43.226Z"
   },
   {
    "duration": 5,
    "start_time": "2023-04-19T09:06:43.245Z"
   },
   {
    "duration": 14,
    "start_time": "2023-04-19T09:06:43.285Z"
   },
   {
    "duration": 7,
    "start_time": "2023-04-19T09:06:43.301Z"
   },
   {
    "duration": 19,
    "start_time": "2023-04-19T09:06:43.310Z"
   },
   {
    "duration": 10,
    "start_time": "2023-04-19T09:06:43.331Z"
   },
   {
    "duration": 6,
    "start_time": "2023-04-19T09:06:43.343Z"
   },
   {
    "duration": 39,
    "start_time": "2023-04-19T09:06:43.350Z"
   },
   {
    "duration": 12,
    "start_time": "2023-04-19T09:06:43.391Z"
   },
   {
    "duration": 12,
    "start_time": "2023-04-19T09:06:43.405Z"
   },
   {
    "duration": 18,
    "start_time": "2023-04-19T09:06:43.419Z"
   },
   {
    "duration": 8,
    "start_time": "2023-04-19T09:06:43.439Z"
   },
   {
    "duration": 6,
    "start_time": "2023-04-19T09:06:43.449Z"
   },
   {
    "duration": 47,
    "start_time": "2023-04-19T09:06:43.457Z"
   },
   {
    "duration": 9,
    "start_time": "2023-04-19T09:06:43.506Z"
   },
   {
    "duration": 30,
    "start_time": "2023-04-19T09:06:43.517Z"
   },
   {
    "duration": 26,
    "start_time": "2023-04-19T09:06:43.549Z"
   },
   {
    "duration": 25,
    "start_time": "2023-04-19T09:06:43.576Z"
   },
   {
    "duration": 253,
    "start_time": "2023-04-19T09:06:43.603Z"
   },
   {
    "duration": 10,
    "start_time": "2023-04-19T09:06:43.858Z"
   },
   {
    "duration": 31,
    "start_time": "2023-04-19T09:06:43.885Z"
   },
   {
    "duration": 258,
    "start_time": "2023-04-19T09:06:43.918Z"
   },
   {
    "duration": 41,
    "start_time": "2023-04-19T09:06:44.179Z"
   },
   {
    "duration": 152,
    "start_time": "2023-04-19T09:06:44.222Z"
   },
   {
    "duration": 37,
    "start_time": "2023-04-19T09:06:44.379Z"
   },
   {
    "duration": 306,
    "start_time": "2023-04-19T09:06:44.418Z"
   },
   {
    "duration": 21,
    "start_time": "2023-04-19T09:06:44.726Z"
   },
   {
    "duration": 356,
    "start_time": "2023-04-19T09:06:44.749Z"
   },
   {
    "duration": 7,
    "start_time": "2023-04-19T09:06:45.108Z"
   },
   {
    "duration": 29,
    "start_time": "2023-04-19T09:06:45.117Z"
   },
   {
    "duration": 2082,
    "start_time": "2023-04-19T09:06:45.148Z"
   },
   {
    "duration": 16,
    "start_time": "2023-04-19T09:06:47.232Z"
   },
   {
    "duration": 257,
    "start_time": "2023-04-19T09:06:47.250Z"
   },
   {
    "duration": 23,
    "start_time": "2023-04-19T09:06:47.509Z"
   },
   {
    "duration": 130,
    "start_time": "2023-04-19T09:06:47.533Z"
   },
   {
    "duration": 10983,
    "start_time": "2023-04-19T09:06:47.664Z"
   },
   {
    "duration": 53,
    "start_time": "2023-04-19T09:06:58.648Z"
   },
   {
    "duration": 523,
    "start_time": "2023-04-19T09:06:58.705Z"
   },
   {
    "duration": 8,
    "start_time": "2023-04-19T09:06:59.230Z"
   },
   {
    "duration": 18,
    "start_time": "2023-04-19T09:06:59.240Z"
   },
   {
    "duration": 145,
    "start_time": "2023-04-19T09:06:59.260Z"
   },
   {
    "duration": 9,
    "start_time": "2023-04-19T09:06:59.407Z"
   },
   {
    "duration": 28,
    "start_time": "2023-04-19T09:06:59.418Z"
   },
   {
    "duration": 46,
    "start_time": "2023-04-19T09:06:59.447Z"
   },
   {
    "duration": 0,
    "start_time": "2023-04-19T09:06:59.496Z"
   },
   {
    "duration": 0,
    "start_time": "2023-04-19T09:06:59.497Z"
   },
   {
    "duration": 51,
    "start_time": "2023-04-19T09:08:32.748Z"
   },
   {
    "duration": 17,
    "start_time": "2023-04-19T09:08:42.100Z"
   },
   {
    "duration": 32,
    "start_time": "2023-04-19T09:09:14.981Z"
   },
   {
    "duration": 1674,
    "start_time": "2023-04-19T09:10:31.284Z"
   },
   {
    "duration": 1738,
    "start_time": "2023-04-19T09:12:07.659Z"
   },
   {
    "duration": 79,
    "start_time": "2023-04-19T09:13:14.619Z"
   },
   {
    "duration": 8,
    "start_time": "2023-04-19T09:13:34.565Z"
   },
   {
    "duration": 51,
    "start_time": "2023-04-19T09:14:30.355Z"
   },
   {
    "duration": 13,
    "start_time": "2023-04-19T09:14:52.541Z"
   },
   {
    "duration": 20,
    "start_time": "2023-04-19T09:17:12.411Z"
   },
   {
    "duration": 270,
    "start_time": "2023-04-19T09:18:13.698Z"
   },
   {
    "duration": 251,
    "start_time": "2023-04-19T09:18:36.699Z"
   },
   {
    "duration": 263,
    "start_time": "2023-04-19T09:20:29.523Z"
   },
   {
    "duration": 265,
    "start_time": "2023-04-19T09:20:43.714Z"
   },
   {
    "duration": 277,
    "start_time": "2023-04-19T09:20:50.205Z"
   },
   {
    "duration": 271,
    "start_time": "2023-04-19T09:21:03.186Z"
   },
   {
    "duration": 271,
    "start_time": "2023-04-19T09:21:33.482Z"
   },
   {
    "duration": 296,
    "start_time": "2023-04-19T09:21:40.226Z"
   },
   {
    "duration": 267,
    "start_time": "2023-04-19T09:22:25.658Z"
   },
   {
    "duration": 277,
    "start_time": "2023-04-19T09:22:34.954Z"
   },
   {
    "duration": 293,
    "start_time": "2023-04-19T09:22:44.486Z"
   },
   {
    "duration": 284,
    "start_time": "2023-04-19T09:22:58.382Z"
   },
   {
    "duration": 18,
    "start_time": "2023-04-19T09:26:18.209Z"
   },
   {
    "duration": 12,
    "start_time": "2023-04-19T09:26:37.841Z"
   },
   {
    "duration": 17,
    "start_time": "2023-04-19T09:26:48.346Z"
   },
   {
    "duration": 78,
    "start_time": "2023-04-20T07:02:43.659Z"
   },
   {
    "duration": 6,
    "start_time": "2023-04-20T07:02:53.751Z"
   },
   {
    "duration": 1610,
    "start_time": "2023-04-20T07:03:00.058Z"
   },
   {
    "duration": 124,
    "start_time": "2023-04-20T07:03:01.670Z"
   },
   {
    "duration": 19,
    "start_time": "2023-04-20T07:03:01.795Z"
   },
   {
    "duration": 28,
    "start_time": "2023-04-20T07:03:01.816Z"
   },
   {
    "duration": 33,
    "start_time": "2023-04-20T07:03:01.845Z"
   },
   {
    "duration": 26,
    "start_time": "2023-04-20T07:03:01.880Z"
   },
   {
    "duration": 41,
    "start_time": "2023-04-20T07:03:01.907Z"
   },
   {
    "duration": 25,
    "start_time": "2023-04-20T07:03:01.950Z"
   },
   {
    "duration": 33,
    "start_time": "2023-04-20T07:03:01.976Z"
   },
   {
    "duration": 27,
    "start_time": "2023-04-20T07:03:02.012Z"
   },
   {
    "duration": 51,
    "start_time": "2023-04-20T07:03:02.041Z"
   },
   {
    "duration": 14,
    "start_time": "2023-04-20T07:03:02.094Z"
   },
   {
    "duration": 54,
    "start_time": "2023-04-20T07:03:02.110Z"
   },
   {
    "duration": 25,
    "start_time": "2023-04-20T07:03:02.166Z"
   },
   {
    "duration": 18,
    "start_time": "2023-04-20T07:03:02.193Z"
   },
   {
    "duration": 232,
    "start_time": "2023-04-20T07:03:02.212Z"
   },
   {
    "duration": 13,
    "start_time": "2023-04-20T07:03:02.446Z"
   },
   {
    "duration": 24,
    "start_time": "2023-04-20T07:03:02.462Z"
   },
   {
    "duration": 237,
    "start_time": "2023-04-20T07:03:02.488Z"
   },
   {
    "duration": 27,
    "start_time": "2023-04-20T07:03:02.727Z"
   },
   {
    "duration": 112,
    "start_time": "2023-04-20T07:03:02.756Z"
   },
   {
    "duration": 21,
    "start_time": "2023-04-20T07:03:02.870Z"
   },
   {
    "duration": 222,
    "start_time": "2023-04-20T07:03:02.893Z"
   },
   {
    "duration": 35,
    "start_time": "2023-04-20T07:03:03.117Z"
   },
   {
    "duration": 428,
    "start_time": "2023-04-20T07:03:03.153Z"
   },
   {
    "duration": 7,
    "start_time": "2023-04-20T07:03:03.583Z"
   },
   {
    "duration": 34,
    "start_time": "2023-04-20T07:03:03.592Z"
   },
   {
    "duration": 1897,
    "start_time": "2023-04-20T07:03:03.629Z"
   },
   {
    "duration": 21,
    "start_time": "2023-04-20T07:03:05.528Z"
   },
   {
    "duration": 200,
    "start_time": "2023-04-20T07:03:05.550Z"
   },
   {
    "duration": 14,
    "start_time": "2023-04-20T07:03:05.752Z"
   },
   {
    "duration": 218,
    "start_time": "2023-04-20T07:03:05.767Z"
   },
   {
    "duration": 9787,
    "start_time": "2023-04-20T07:03:05.987Z"
   },
   {
    "duration": 24,
    "start_time": "2023-04-20T07:03:15.776Z"
   },
   {
    "duration": 642,
    "start_time": "2023-04-20T07:03:15.836Z"
   },
   {
    "duration": 8,
    "start_time": "2023-04-20T07:03:16.481Z"
   },
   {
    "duration": 24,
    "start_time": "2023-04-20T07:03:16.492Z"
   },
   {
    "duration": 156,
    "start_time": "2023-04-20T07:03:16.518Z"
   },
   {
    "duration": 12,
    "start_time": "2023-04-20T07:03:16.676Z"
   },
   {
    "duration": 17,
    "start_time": "2023-04-20T07:03:16.690Z"
   },
   {
    "duration": 2057,
    "start_time": "2023-04-20T07:03:16.734Z"
   },
   {
    "duration": 15,
    "start_time": "2023-04-20T07:03:18.793Z"
   },
   {
    "duration": 22,
    "start_time": "2023-04-20T07:03:18.834Z"
   },
   {
    "duration": 323,
    "start_time": "2023-04-20T07:03:18.858Z"
   },
   {
    "duration": 18,
    "start_time": "2023-04-20T07:03:19.183Z"
   },
   {
    "duration": 44,
    "start_time": "2023-04-20T07:03:19.203Z"
   },
   {
    "duration": 18,
    "start_time": "2023-04-20T07:03:19.250Z"
   },
   {
    "duration": 19,
    "start_time": "2023-04-20T07:17:39.164Z"
   },
   {
    "duration": 97,
    "start_time": "2023-04-20T07:18:57.262Z"
   },
   {
    "duration": 15,
    "start_time": "2023-04-20T07:19:21.764Z"
   },
   {
    "duration": 237,
    "start_time": "2023-04-20T07:19:48.773Z"
   },
   {
    "duration": 34,
    "start_time": "2023-04-20T07:30:18.290Z"
   },
   {
    "duration": 36,
    "start_time": "2023-04-20T07:30:38.856Z"
   },
   {
    "duration": 167,
    "start_time": "2023-04-20T07:41:17.149Z"
   },
   {
    "duration": 12,
    "start_time": "2023-04-20T07:45:44.232Z"
   },
   {
    "duration": 32,
    "start_time": "2023-04-20T07:46:07.902Z"
   },
   {
    "duration": 44,
    "start_time": "2023-04-20T07:47:21.075Z"
   },
   {
    "duration": 525,
    "start_time": "2023-04-20T07:47:24.121Z"
   },
   {
    "duration": 16,
    "start_time": "2023-04-20T07:47:30.234Z"
   },
   {
    "duration": 27,
    "start_time": "2023-04-20T07:56:13.310Z"
   },
   {
    "duration": 51,
    "start_time": "2023-04-20T07:56:17.977Z"
   },
   {
    "duration": 10,
    "start_time": "2023-04-20T07:57:21.808Z"
   },
   {
    "duration": 6,
    "start_time": "2023-04-20T08:14:07.692Z"
   },
   {
    "duration": 12,
    "start_time": "2023-04-20T08:14:35.270Z"
   },
   {
    "duration": 6,
    "start_time": "2023-04-20T08:14:43.559Z"
   },
   {
    "duration": 37,
    "start_time": "2023-04-20T08:16:42.540Z"
   },
   {
    "duration": 5,
    "start_time": "2023-04-20T08:17:04.966Z"
   },
   {
    "duration": 7,
    "start_time": "2023-04-20T08:17:19.351Z"
   },
   {
    "duration": 20,
    "start_time": "2023-04-20T08:25:21.949Z"
   },
   {
    "duration": 3,
    "start_time": "2023-04-20T09:46:20.322Z"
   },
   {
    "duration": 180,
    "start_time": "2023-04-20T09:46:20.327Z"
   },
   {
    "duration": 16,
    "start_time": "2023-04-20T09:46:20.509Z"
   },
   {
    "duration": 68,
    "start_time": "2023-04-20T09:46:20.526Z"
   },
   {
    "duration": 57,
    "start_time": "2023-04-20T09:46:20.596Z"
   },
   {
    "duration": 36,
    "start_time": "2023-04-20T09:46:20.654Z"
   },
   {
    "duration": 25,
    "start_time": "2023-04-20T09:46:20.691Z"
   },
   {
    "duration": 9,
    "start_time": "2023-04-20T09:46:20.718Z"
   },
   {
    "duration": 53,
    "start_time": "2023-04-20T09:46:20.730Z"
   },
   {
    "duration": 19,
    "start_time": "2023-04-20T09:46:20.785Z"
   },
   {
    "duration": 36,
    "start_time": "2023-04-20T09:46:20.806Z"
   },
   {
    "duration": 31,
    "start_time": "2023-04-20T09:46:20.847Z"
   },
   {
    "duration": 30,
    "start_time": "2023-04-20T09:46:20.879Z"
   },
   {
    "duration": 19,
    "start_time": "2023-04-20T09:46:20.911Z"
   },
   {
    "duration": 256,
    "start_time": "2023-04-20T09:46:20.932Z"
   },
   {
    "duration": 11,
    "start_time": "2023-04-20T09:46:21.190Z"
   },
   {
    "duration": 41,
    "start_time": "2023-04-20T09:46:21.203Z"
   },
   {
    "duration": 234,
    "start_time": "2023-04-20T09:46:21.259Z"
   },
   {
    "duration": 15,
    "start_time": "2023-04-20T09:46:21.495Z"
   },
   {
    "duration": 143,
    "start_time": "2023-04-20T09:46:21.511Z"
   },
   {
    "duration": 29,
    "start_time": "2023-04-20T09:46:21.656Z"
   },
   {
    "duration": 240,
    "start_time": "2023-04-20T09:46:21.687Z"
   },
   {
    "duration": 44,
    "start_time": "2023-04-20T09:46:21.929Z"
   },
   {
    "duration": 374,
    "start_time": "2023-04-20T09:46:21.977Z"
   },
   {
    "duration": 7,
    "start_time": "2023-04-20T09:46:22.353Z"
   },
   {
    "duration": 40,
    "start_time": "2023-04-20T09:46:22.362Z"
   },
   {
    "duration": 2268,
    "start_time": "2023-04-20T09:46:22.405Z"
   },
   {
    "duration": 17,
    "start_time": "2023-04-20T09:46:24.675Z"
   },
   {
    "duration": 5,
    "start_time": "2023-04-20T09:46:24.693Z"
   },
   {
    "duration": 239,
    "start_time": "2023-04-20T09:46:24.700Z"
   },
   {
    "duration": 33,
    "start_time": "2023-04-20T09:46:24.941Z"
   },
   {
    "duration": 5,
    "start_time": "2023-04-20T09:46:24.975Z"
   },
   {
    "duration": 413,
    "start_time": "2023-04-20T09:46:24.981Z"
   },
   {
    "duration": 12390,
    "start_time": "2023-04-20T09:46:25.396Z"
   },
   {
    "duration": 46,
    "start_time": "2023-04-20T09:46:37.789Z"
   },
   {
    "duration": 633,
    "start_time": "2023-04-20T09:46:37.837Z"
   },
   {
    "duration": 9,
    "start_time": "2023-04-20T09:46:38.472Z"
   },
   {
    "duration": 21,
    "start_time": "2023-04-20T09:46:38.482Z"
   },
   {
    "duration": 542,
    "start_time": "2023-04-20T09:46:38.505Z"
   },
   {
    "duration": 14,
    "start_time": "2023-04-20T09:46:39.049Z"
   },
   {
    "duration": 46,
    "start_time": "2023-04-20T09:46:39.065Z"
   },
   {
    "duration": 2035,
    "start_time": "2023-04-20T09:46:39.115Z"
   },
   {
    "duration": 16,
    "start_time": "2023-04-20T09:46:41.153Z"
   },
   {
    "duration": 68,
    "start_time": "2023-04-20T09:46:41.171Z"
   },
   {
    "duration": 353,
    "start_time": "2023-04-20T09:46:41.241Z"
   },
   {
    "duration": 16,
    "start_time": "2023-04-20T09:46:41.596Z"
   },
   {
    "duration": 12,
    "start_time": "2023-04-20T10:02:22.274Z"
   },
   {
    "duration": 1550,
    "start_time": "2023-04-20T10:02:26.454Z"
   },
   {
    "duration": 82,
    "start_time": "2023-04-20T10:11:34.975Z"
   },
   {
    "duration": 26,
    "start_time": "2023-04-20T10:12:06.418Z"
   },
   {
    "duration": 9,
    "start_time": "2023-04-20T10:23:28.429Z"
   },
   {
    "duration": 4,
    "start_time": "2023-04-20T10:24:03.701Z"
   },
   {
    "duration": 11,
    "start_time": "2023-04-20T10:24:13.805Z"
   },
   {
    "duration": 3,
    "start_time": "2023-04-20T11:27:15.007Z"
   },
   {
    "duration": 140,
    "start_time": "2023-04-20T11:27:15.012Z"
   },
   {
    "duration": 27,
    "start_time": "2023-04-20T11:27:15.156Z"
   },
   {
    "duration": 27,
    "start_time": "2023-04-20T11:27:15.186Z"
   },
   {
    "duration": 15,
    "start_time": "2023-04-20T11:27:15.216Z"
   },
   {
    "duration": 14,
    "start_time": "2023-04-20T11:27:15.233Z"
   },
   {
    "duration": 53,
    "start_time": "2023-04-20T11:27:15.249Z"
   },
   {
    "duration": 12,
    "start_time": "2023-04-20T11:27:15.304Z"
   },
   {
    "duration": 13,
    "start_time": "2023-04-20T11:27:15.317Z"
   },
   {
    "duration": 62,
    "start_time": "2023-04-20T11:27:15.332Z"
   },
   {
    "duration": 25,
    "start_time": "2023-04-20T11:27:15.396Z"
   },
   {
    "duration": 8,
    "start_time": "2023-04-20T11:27:15.423Z"
   },
   {
    "duration": 65,
    "start_time": "2023-04-20T11:27:15.434Z"
   },
   {
    "duration": 22,
    "start_time": "2023-04-20T11:27:15.501Z"
   },
   {
    "duration": 250,
    "start_time": "2023-04-20T11:27:15.524Z"
   },
   {
    "duration": 14,
    "start_time": "2023-04-20T11:27:15.778Z"
   },
   {
    "duration": 17,
    "start_time": "2023-04-20T11:27:15.793Z"
   },
   {
    "duration": 267,
    "start_time": "2023-04-20T11:27:15.812Z"
   },
   {
    "duration": 19,
    "start_time": "2023-04-20T11:27:16.081Z"
   },
   {
    "duration": 156,
    "start_time": "2023-04-20T11:27:16.106Z"
   },
   {
    "duration": 29,
    "start_time": "2023-04-20T11:27:16.265Z"
   },
   {
    "duration": 273,
    "start_time": "2023-04-20T11:27:16.296Z"
   },
   {
    "duration": 43,
    "start_time": "2023-04-20T11:27:16.574Z"
   },
   {
    "duration": 556,
    "start_time": "2023-04-20T11:27:16.620Z"
   },
   {
    "duration": 7,
    "start_time": "2023-04-20T11:27:17.178Z"
   },
   {
    "duration": 70,
    "start_time": "2023-04-20T11:27:17.187Z"
   },
   {
    "duration": 2513,
    "start_time": "2023-04-20T11:27:17.259Z"
   },
   {
    "duration": 21,
    "start_time": "2023-04-20T11:27:19.783Z"
   },
   {
    "duration": 6,
    "start_time": "2023-04-20T11:27:19.806Z"
   },
   {
    "duration": 248,
    "start_time": "2023-04-20T11:27:19.814Z"
   },
   {
    "duration": 31,
    "start_time": "2023-04-20T11:27:20.063Z"
   },
   {
    "duration": 19,
    "start_time": "2023-04-20T11:27:20.096Z"
   },
   {
    "duration": 203,
    "start_time": "2023-04-20T11:27:20.117Z"
   },
   {
    "duration": 11663,
    "start_time": "2023-04-20T11:27:20.322Z"
   },
   {
    "duration": 20,
    "start_time": "2023-04-20T11:27:31.987Z"
   },
   {
    "duration": 683,
    "start_time": "2023-04-20T11:27:32.008Z"
   },
   {
    "duration": 8,
    "start_time": "2023-04-20T11:27:32.696Z"
   },
   {
    "duration": 96,
    "start_time": "2023-04-20T11:27:32.706Z"
   },
   {
    "duration": 193,
    "start_time": "2023-04-20T11:27:32.804Z"
   },
   {
    "duration": 8,
    "start_time": "2023-04-20T11:27:32.999Z"
   },
   {
    "duration": 46,
    "start_time": "2023-04-20T11:27:33.009Z"
   },
   {
    "duration": 2395,
    "start_time": "2023-04-20T11:27:33.057Z"
   },
   {
    "duration": 13,
    "start_time": "2023-04-20T11:27:35.454Z"
   },
   {
    "duration": 54,
    "start_time": "2023-04-20T11:27:35.470Z"
   },
   {
    "duration": 328,
    "start_time": "2023-04-20T11:27:35.526Z"
   },
   {
    "duration": 20,
    "start_time": "2023-04-20T11:27:35.866Z"
   },
   {
    "duration": 1814,
    "start_time": "2023-04-20T19:56:14.001Z"
   },
   {
    "duration": 335,
    "start_time": "2023-04-20T19:56:15.817Z"
   },
   {
    "duration": 35,
    "start_time": "2023-04-20T19:56:16.154Z"
   },
   {
    "duration": 18,
    "start_time": "2023-04-20T19:56:16.191Z"
   },
   {
    "duration": 29,
    "start_time": "2023-04-20T19:56:16.211Z"
   },
   {
    "duration": 22,
    "start_time": "2023-04-20T19:56:16.241Z"
   },
   {
    "duration": 19,
    "start_time": "2023-04-20T19:56:16.266Z"
   },
   {
    "duration": 23,
    "start_time": "2023-04-20T19:56:16.287Z"
   },
   {
    "duration": 12,
    "start_time": "2023-04-20T19:56:16.312Z"
   },
   {
    "duration": 21,
    "start_time": "2023-04-20T19:56:16.326Z"
   },
   {
    "duration": 38,
    "start_time": "2023-04-20T19:56:16.349Z"
   },
   {
    "duration": 8,
    "start_time": "2023-04-20T19:56:16.389Z"
   },
   {
    "duration": 20,
    "start_time": "2023-04-20T19:56:16.399Z"
   },
   {
    "duration": 17,
    "start_time": "2023-04-20T19:56:16.422Z"
   },
   {
    "duration": 260,
    "start_time": "2023-04-20T19:56:16.440Z"
   },
   {
    "duration": 10,
    "start_time": "2023-04-20T19:56:16.702Z"
   },
   {
    "duration": 17,
    "start_time": "2023-04-20T19:56:16.714Z"
   },
   {
    "duration": 248,
    "start_time": "2023-04-20T19:56:16.732Z"
   },
   {
    "duration": 18,
    "start_time": "2023-04-20T19:56:16.982Z"
   },
   {
    "duration": 122,
    "start_time": "2023-04-20T19:56:17.002Z"
   },
   {
    "duration": 20,
    "start_time": "2023-04-20T19:56:17.126Z"
   },
   {
    "duration": 247,
    "start_time": "2023-04-20T19:56:17.147Z"
   },
   {
    "duration": 29,
    "start_time": "2023-04-20T19:56:17.396Z"
   },
   {
    "duration": 471,
    "start_time": "2023-04-20T19:56:17.427Z"
   },
   {
    "duration": 7,
    "start_time": "2023-04-20T19:56:17.899Z"
   },
   {
    "duration": 24,
    "start_time": "2023-04-20T19:56:17.907Z"
   },
   {
    "duration": 2006,
    "start_time": "2023-04-20T19:56:17.933Z"
   },
   {
    "duration": 21,
    "start_time": "2023-04-20T19:56:19.940Z"
   },
   {
    "duration": 6,
    "start_time": "2023-04-20T19:56:19.963Z"
   },
   {
    "duration": 233,
    "start_time": "2023-04-20T19:56:19.971Z"
   },
   {
    "duration": 18,
    "start_time": "2023-04-20T19:56:20.206Z"
   },
   {
    "duration": 5,
    "start_time": "2023-04-20T19:56:20.226Z"
   },
   {
    "duration": 297,
    "start_time": "2023-04-20T19:56:20.233Z"
   },
   {
    "duration": 10501,
    "start_time": "2023-04-20T19:56:20.531Z"
   },
   {
    "duration": 38,
    "start_time": "2023-04-20T19:56:31.035Z"
   },
   {
    "duration": 513,
    "start_time": "2023-04-20T19:56:31.075Z"
   },
   {
    "duration": 13,
    "start_time": "2023-04-20T19:56:31.594Z"
   },
   {
    "duration": 43,
    "start_time": "2023-04-20T19:56:31.608Z"
   },
   {
    "duration": 158,
    "start_time": "2023-04-20T19:56:31.652Z"
   },
   {
    "duration": 11,
    "start_time": "2023-04-20T19:56:31.812Z"
   },
   {
    "duration": 37,
    "start_time": "2023-04-20T19:56:31.828Z"
   },
   {
    "duration": 2054,
    "start_time": "2023-04-20T19:56:31.867Z"
   },
   {
    "duration": 15,
    "start_time": "2023-04-20T19:56:33.923Z"
   },
   {
    "duration": 27,
    "start_time": "2023-04-20T19:56:33.959Z"
   },
   {
    "duration": 290,
    "start_time": "2023-04-20T19:56:33.988Z"
   },
   {
    "duration": 23,
    "start_time": "2023-04-20T19:56:34.280Z"
   },
   {
    "duration": 1567,
    "start_time": "2023-04-21T06:36:54.964Z"
   },
   {
    "duration": 238,
    "start_time": "2023-04-21T06:36:56.533Z"
   },
   {
    "duration": 21,
    "start_time": "2023-04-21T06:36:56.773Z"
   },
   {
    "duration": 20,
    "start_time": "2023-04-21T06:36:56.798Z"
   },
   {
    "duration": 16,
    "start_time": "2023-04-21T06:36:56.820Z"
   },
   {
    "duration": 26,
    "start_time": "2023-04-21T06:36:56.838Z"
   },
   {
    "duration": 5,
    "start_time": "2023-04-21T06:36:56.866Z"
   },
   {
    "duration": 17,
    "start_time": "2023-04-21T06:36:56.873Z"
   },
   {
    "duration": 14,
    "start_time": "2023-04-21T06:36:56.891Z"
   },
   {
    "duration": 18,
    "start_time": "2023-04-21T06:36:56.907Z"
   },
   {
    "duration": 42,
    "start_time": "2023-04-21T06:36:56.927Z"
   },
   {
    "duration": 13,
    "start_time": "2023-04-21T06:36:56.971Z"
   },
   {
    "duration": 23,
    "start_time": "2023-04-21T06:36:56.986Z"
   },
   {
    "duration": 21,
    "start_time": "2023-04-21T06:36:57.011Z"
   },
   {
    "duration": 212,
    "start_time": "2023-04-21T06:36:57.034Z"
   },
   {
    "duration": 13,
    "start_time": "2023-04-21T06:36:57.247Z"
   },
   {
    "duration": 28,
    "start_time": "2023-04-21T06:36:57.262Z"
   },
   {
    "duration": 225,
    "start_time": "2023-04-21T06:36:57.291Z"
   },
   {
    "duration": 15,
    "start_time": "2023-04-21T06:36:57.518Z"
   },
   {
    "duration": 132,
    "start_time": "2023-04-21T06:36:57.534Z"
   },
   {
    "duration": 33,
    "start_time": "2023-04-21T06:36:57.668Z"
   },
   {
    "duration": 253,
    "start_time": "2023-04-21T06:36:57.703Z"
   },
   {
    "duration": 20,
    "start_time": "2023-04-21T06:36:57.957Z"
   },
   {
    "duration": 405,
    "start_time": "2023-04-21T06:36:57.979Z"
   },
   {
    "duration": 6,
    "start_time": "2023-04-21T06:36:58.386Z"
   },
   {
    "duration": 26,
    "start_time": "2023-04-21T06:36:58.394Z"
   },
   {
    "duration": 1809,
    "start_time": "2023-04-21T06:36:58.421Z"
   },
   {
    "duration": 30,
    "start_time": "2023-04-21T06:37:00.233Z"
   },
   {
    "duration": 14,
    "start_time": "2023-04-21T06:37:00.265Z"
   },
   {
    "duration": 229,
    "start_time": "2023-04-21T06:37:00.281Z"
   },
   {
    "duration": 19,
    "start_time": "2023-04-21T06:37:00.512Z"
   },
   {
    "duration": 26,
    "start_time": "2023-04-21T06:37:00.533Z"
   },
   {
    "duration": 257,
    "start_time": "2023-04-21T06:37:00.561Z"
   },
   {
    "duration": 10369,
    "start_time": "2023-04-21T06:37:00.820Z"
   },
   {
    "duration": 22,
    "start_time": "2023-04-21T06:37:11.192Z"
   },
   {
    "duration": 647,
    "start_time": "2023-04-21T06:37:11.216Z"
   },
   {
    "duration": 11,
    "start_time": "2023-04-21T06:37:11.866Z"
   },
   {
    "duration": 23,
    "start_time": "2023-04-21T06:37:11.883Z"
   },
   {
    "duration": 196,
    "start_time": "2023-04-21T06:37:11.909Z"
   },
   {
    "duration": 14,
    "start_time": "2023-04-21T06:37:12.108Z"
   },
   {
    "duration": 40,
    "start_time": "2023-04-21T06:37:12.124Z"
   },
   {
    "duration": 2518,
    "start_time": "2023-04-21T06:37:12.169Z"
   },
   {
    "duration": 23,
    "start_time": "2023-04-21T06:37:14.690Z"
   },
   {
    "duration": 59,
    "start_time": "2023-04-21T06:37:14.716Z"
   },
   {
    "duration": 344,
    "start_time": "2023-04-21T06:37:14.778Z"
   },
   {
    "duration": 33,
    "start_time": "2023-04-21T06:37:15.124Z"
   },
   {
    "duration": 20,
    "start_time": "2023-04-21T06:46:53.178Z"
   },
   {
    "duration": 4,
    "start_time": "2023-04-21T06:47:02.232Z"
   },
   {
    "duration": 99,
    "start_time": "2023-04-21T06:47:02.238Z"
   },
   {
    "duration": 18,
    "start_time": "2023-04-21T06:47:02.340Z"
   },
   {
    "duration": 16,
    "start_time": "2023-04-21T06:47:02.360Z"
   },
   {
    "duration": 35,
    "start_time": "2023-04-21T06:47:02.379Z"
   },
   {
    "duration": 13,
    "start_time": "2023-04-21T06:47:02.416Z"
   },
   {
    "duration": 5,
    "start_time": "2023-04-21T06:47:02.432Z"
   },
   {
    "duration": 7,
    "start_time": "2023-04-21T06:47:02.457Z"
   },
   {
    "duration": 7,
    "start_time": "2023-04-21T06:47:02.466Z"
   },
   {
    "duration": 29,
    "start_time": "2023-04-21T06:47:02.475Z"
   },
   {
    "duration": 12,
    "start_time": "2023-04-21T06:47:02.505Z"
   },
   {
    "duration": 51,
    "start_time": "2023-04-21T06:47:02.518Z"
   },
   {
    "duration": 8,
    "start_time": "2023-04-21T06:47:02.570Z"
   },
   {
    "duration": 33,
    "start_time": "2023-04-21T06:47:02.581Z"
   },
   {
    "duration": 20,
    "start_time": "2023-04-21T06:47:02.617Z"
   },
   {
    "duration": 223,
    "start_time": "2023-04-21T06:47:02.638Z"
   },
   {
    "duration": 14,
    "start_time": "2023-04-21T06:47:02.863Z"
   },
   {
    "duration": 19,
    "start_time": "2023-04-21T06:47:02.879Z"
   },
   {
    "duration": 237,
    "start_time": "2023-04-21T06:47:02.900Z"
   },
   {
    "duration": 30,
    "start_time": "2023-04-21T06:47:03.139Z"
   },
   {
    "duration": 141,
    "start_time": "2023-04-21T06:47:03.171Z"
   },
   {
    "duration": 26,
    "start_time": "2023-04-21T06:47:03.314Z"
   },
   {
    "duration": 263,
    "start_time": "2023-04-21T06:47:03.357Z"
   },
   {
    "duration": 36,
    "start_time": "2023-04-21T06:47:03.622Z"
   },
   {
    "duration": 361,
    "start_time": "2023-04-21T06:47:03.660Z"
   },
   {
    "duration": 8,
    "start_time": "2023-04-21T06:47:04.023Z"
   },
   {
    "duration": 61,
    "start_time": "2023-04-21T06:47:04.034Z"
   },
   {
    "duration": 2133,
    "start_time": "2023-04-21T06:47:04.097Z"
   },
   {
    "duration": 33,
    "start_time": "2023-04-21T06:47:06.232Z"
   },
   {
    "duration": 6,
    "start_time": "2023-04-21T06:47:06.267Z"
   },
   {
    "duration": 218,
    "start_time": "2023-04-21T06:47:06.274Z"
   },
   {
    "duration": 16,
    "start_time": "2023-04-21T06:47:06.494Z"
   },
   {
    "duration": 5,
    "start_time": "2023-04-21T06:47:06.511Z"
   },
   {
    "duration": 351,
    "start_time": "2023-04-21T06:47:06.518Z"
   },
   {
    "duration": 9069,
    "start_time": "2023-04-21T06:47:06.871Z"
   },
   {
    "duration": 30,
    "start_time": "2023-04-21T06:47:15.942Z"
   },
   {
    "duration": 448,
    "start_time": "2023-04-21T06:47:15.974Z"
   },
   {
    "duration": 8,
    "start_time": "2023-04-21T06:47:16.424Z"
   },
   {
    "duration": 35,
    "start_time": "2023-04-21T06:47:16.434Z"
   },
   {
    "duration": 108,
    "start_time": "2023-04-21T06:47:16.470Z"
   },
   {
    "duration": 8,
    "start_time": "2023-04-21T06:47:16.582Z"
   },
   {
    "duration": 9,
    "start_time": "2023-04-21T06:47:16.592Z"
   },
   {
    "duration": 1831,
    "start_time": "2023-04-21T06:47:16.603Z"
   },
   {
    "duration": 25,
    "start_time": "2023-04-21T06:47:18.436Z"
   },
   {
    "duration": 34,
    "start_time": "2023-04-21T06:47:18.463Z"
   },
   {
    "duration": 263,
    "start_time": "2023-04-21T06:47:18.499Z"
   },
   {
    "duration": 17,
    "start_time": "2023-04-21T06:47:18.764Z"
   },
   {
    "duration": 23,
    "start_time": "2023-04-21T06:47:24.851Z"
   },
   {
    "duration": 38,
    "start_time": "2023-04-21T06:47:55.474Z"
   },
   {
    "duration": 22,
    "start_time": "2023-04-21T06:48:12.666Z"
   },
   {
    "duration": 18,
    "start_time": "2023-04-21T06:48:32.481Z"
   },
   {
    "duration": 26,
    "start_time": "2023-04-21T06:48:51.222Z"
   },
   {
    "duration": 14,
    "start_time": "2023-04-21T06:49:40.930Z"
   },
   {
    "duration": 16,
    "start_time": "2023-04-21T06:49:56.874Z"
   },
   {
    "duration": 4,
    "start_time": "2023-04-21T06:55:05.502Z"
   },
   {
    "duration": 65,
    "start_time": "2023-04-21T06:55:05.524Z"
   },
   {
    "duration": 18,
    "start_time": "2023-04-21T06:55:05.592Z"
   },
   {
    "duration": 22,
    "start_time": "2023-04-21T06:55:05.612Z"
   },
   {
    "duration": 18,
    "start_time": "2023-04-21T06:55:05.656Z"
   },
   {
    "duration": 15,
    "start_time": "2023-04-21T06:55:05.678Z"
   },
   {
    "duration": 9,
    "start_time": "2023-04-21T06:55:05.696Z"
   },
   {
    "duration": 7,
    "start_time": "2023-04-21T06:55:05.708Z"
   },
   {
    "duration": 28,
    "start_time": "2023-04-21T06:55:05.755Z"
   },
   {
    "duration": 42,
    "start_time": "2023-04-21T06:55:05.785Z"
   },
   {
    "duration": 16,
    "start_time": "2023-04-21T06:55:05.830Z"
   },
   {
    "duration": 25,
    "start_time": "2023-04-21T06:55:05.848Z"
   },
   {
    "duration": 25,
    "start_time": "2023-04-21T06:55:05.876Z"
   },
   {
    "duration": 7,
    "start_time": "2023-04-21T06:55:05.903Z"
   },
   {
    "duration": 60,
    "start_time": "2023-04-21T06:55:05.915Z"
   },
   {
    "duration": 11,
    "start_time": "2023-04-21T06:55:05.977Z"
   },
   {
    "duration": 60,
    "start_time": "2023-04-21T06:55:05.990Z"
   },
   {
    "duration": 19,
    "start_time": "2023-04-21T06:55:06.052Z"
   },
   {
    "duration": 240,
    "start_time": "2023-04-21T06:55:06.073Z"
   },
   {
    "duration": 16,
    "start_time": "2023-04-21T06:55:06.316Z"
   },
   {
    "duration": 35,
    "start_time": "2023-04-21T06:55:06.335Z"
   },
   {
    "duration": 228,
    "start_time": "2023-04-21T06:55:06.371Z"
   },
   {
    "duration": 19,
    "start_time": "2023-04-21T06:55:06.601Z"
   },
   {
    "duration": 137,
    "start_time": "2023-04-21T06:55:06.623Z"
   },
   {
    "duration": 32,
    "start_time": "2023-04-21T06:55:06.763Z"
   },
   {
    "duration": 225,
    "start_time": "2023-04-21T06:55:06.797Z"
   },
   {
    "duration": 38,
    "start_time": "2023-04-21T06:55:07.024Z"
   },
   {
    "duration": 315,
    "start_time": "2023-04-21T06:55:07.064Z"
   },
   {
    "duration": 8,
    "start_time": "2023-04-21T06:55:07.381Z"
   },
   {
    "duration": 88,
    "start_time": "2023-04-21T06:55:07.391Z"
   },
   {
    "duration": 1987,
    "start_time": "2023-04-21T06:55:07.482Z"
   },
   {
    "duration": 25,
    "start_time": "2023-04-21T06:55:09.471Z"
   },
   {
    "duration": 6,
    "start_time": "2023-04-21T06:55:09.499Z"
   },
   {
    "duration": 242,
    "start_time": "2023-04-21T06:55:09.507Z"
   },
   {
    "duration": 22,
    "start_time": "2023-04-21T06:55:09.751Z"
   },
   {
    "duration": 5,
    "start_time": "2023-04-21T06:55:09.776Z"
   },
   {
    "duration": 117,
    "start_time": "2023-04-21T06:55:09.783Z"
   },
   {
    "duration": 9851,
    "start_time": "2023-04-21T06:55:09.902Z"
   },
   {
    "duration": 30,
    "start_time": "2023-04-21T06:55:19.756Z"
   },
   {
    "duration": 521,
    "start_time": "2023-04-21T06:55:19.788Z"
   },
   {
    "duration": 9,
    "start_time": "2023-04-21T06:55:20.311Z"
   },
   {
    "duration": 38,
    "start_time": "2023-04-21T06:55:20.324Z"
   },
   {
    "duration": 112,
    "start_time": "2023-04-21T06:55:20.363Z"
   },
   {
    "duration": 9,
    "start_time": "2023-04-21T06:55:20.478Z"
   },
   {
    "duration": 16,
    "start_time": "2023-04-21T06:55:20.489Z"
   },
   {
    "duration": 2036,
    "start_time": "2023-04-21T06:55:20.507Z"
   },
   {
    "duration": 26,
    "start_time": "2023-04-21T06:55:22.545Z"
   },
   {
    "duration": 17,
    "start_time": "2023-04-21T06:55:22.574Z"
   },
   {
    "duration": 286,
    "start_time": "2023-04-21T06:55:22.594Z"
   },
   {
    "duration": 18,
    "start_time": "2023-04-21T06:55:22.882Z"
   },
   {
    "duration": 220,
    "start_time": "2023-04-21T06:57:45.274Z"
   },
   {
    "duration": 228,
    "start_time": "2023-04-21T06:59:21.552Z"
   },
   {
    "duration": 115,
    "start_time": "2023-04-21T07:01:09.632Z"
   },
   {
    "duration": 241,
    "start_time": "2023-04-21T07:01:20.040Z"
   },
   {
    "duration": 26,
    "start_time": "2023-04-21T07:02:16.675Z"
   },
   {
    "duration": 233,
    "start_time": "2023-04-21T07:03:05.475Z"
   },
   {
    "duration": 211,
    "start_time": "2023-04-21T07:04:06.702Z"
   },
   {
    "duration": 211,
    "start_time": "2023-04-21T07:05:09.707Z"
   },
   {
    "duration": 227,
    "start_time": "2023-04-21T07:08:17.022Z"
   },
   {
    "duration": 4,
    "start_time": "2023-04-21T07:08:39.110Z"
   },
   {
    "duration": 64,
    "start_time": "2023-04-21T07:08:39.117Z"
   },
   {
    "duration": 16,
    "start_time": "2023-04-21T07:08:39.183Z"
   },
   {
    "duration": 14,
    "start_time": "2023-04-21T07:08:39.200Z"
   },
   {
    "duration": 39,
    "start_time": "2023-04-21T07:08:39.217Z"
   },
   {
    "duration": 14,
    "start_time": "2023-04-21T07:08:39.260Z"
   },
   {
    "duration": 5,
    "start_time": "2023-04-21T07:08:39.279Z"
   },
   {
    "duration": 6,
    "start_time": "2023-04-21T07:08:39.286Z"
   },
   {
    "duration": 7,
    "start_time": "2023-04-21T07:08:39.294Z"
   },
   {
    "duration": 56,
    "start_time": "2023-04-21T07:08:39.303Z"
   },
   {
    "duration": 15,
    "start_time": "2023-04-21T07:08:39.365Z"
   },
   {
    "duration": 33,
    "start_time": "2023-04-21T07:08:39.382Z"
   },
   {
    "duration": 16,
    "start_time": "2023-04-21T07:08:39.416Z"
   },
   {
    "duration": 34,
    "start_time": "2023-04-21T07:08:39.436Z"
   },
   {
    "duration": 28,
    "start_time": "2023-04-21T07:08:39.471Z"
   },
   {
    "duration": 13,
    "start_time": "2023-04-21T07:08:39.501Z"
   },
   {
    "duration": 26,
    "start_time": "2023-04-21T07:08:39.516Z"
   },
   {
    "duration": 32,
    "start_time": "2023-04-21T07:08:39.543Z"
   },
   {
    "duration": 220,
    "start_time": "2023-04-21T07:08:39.576Z"
   },
   {
    "duration": 11,
    "start_time": "2023-04-21T07:08:39.798Z"
   },
   {
    "duration": 18,
    "start_time": "2023-04-21T07:08:39.811Z"
   },
   {
    "duration": 264,
    "start_time": "2023-04-21T07:08:39.831Z"
   },
   {
    "duration": 16,
    "start_time": "2023-04-21T07:08:40.096Z"
   },
   {
    "duration": 121,
    "start_time": "2023-04-21T07:08:40.114Z"
   },
   {
    "duration": 39,
    "start_time": "2023-04-21T07:08:40.237Z"
   },
   {
    "duration": 213,
    "start_time": "2023-04-21T07:08:40.278Z"
   },
   {
    "duration": 19,
    "start_time": "2023-04-21T07:08:40.493Z"
   },
   {
    "duration": 326,
    "start_time": "2023-04-21T07:08:40.513Z"
   },
   {
    "duration": 7,
    "start_time": "2023-04-21T07:08:40.840Z"
   },
   {
    "duration": 29,
    "start_time": "2023-04-21T07:08:40.857Z"
   },
   {
    "duration": 2056,
    "start_time": "2023-04-21T07:08:40.888Z"
   },
   {
    "duration": 30,
    "start_time": "2023-04-21T07:08:42.946Z"
   },
   {
    "duration": 6,
    "start_time": "2023-04-21T07:08:42.978Z"
   },
   {
    "duration": 218,
    "start_time": "2023-04-21T07:08:42.986Z"
   },
   {
    "duration": 18,
    "start_time": "2023-04-21T07:08:43.206Z"
   },
   {
    "duration": 5,
    "start_time": "2023-04-21T07:08:43.225Z"
   },
   {
    "duration": 144,
    "start_time": "2023-04-21T07:08:43.231Z"
   },
   {
    "duration": 10419,
    "start_time": "2023-04-21T07:08:43.377Z"
   },
   {
    "duration": 19,
    "start_time": "2023-04-21T07:08:53.799Z"
   },
   {
    "duration": 496,
    "start_time": "2023-04-21T07:08:53.819Z"
   },
   {
    "duration": 9,
    "start_time": "2023-04-21T07:08:54.321Z"
   },
   {
    "duration": 50,
    "start_time": "2023-04-21T07:08:54.333Z"
   },
   {
    "duration": 148,
    "start_time": "2023-04-21T07:08:54.385Z"
   },
   {
    "duration": 20,
    "start_time": "2023-04-21T07:08:54.536Z"
   },
   {
    "duration": 21,
    "start_time": "2023-04-21T07:08:54.562Z"
   },
   {
    "duration": 1621,
    "start_time": "2023-04-21T07:08:54.586Z"
   },
   {
    "duration": 14,
    "start_time": "2023-04-21T07:08:56.209Z"
   },
   {
    "duration": 50,
    "start_time": "2023-04-21T07:08:56.225Z"
   },
   {
    "duration": 262,
    "start_time": "2023-04-21T07:08:56.277Z"
   },
   {
    "duration": 28,
    "start_time": "2023-04-21T07:08:56.540Z"
   },
   {
    "duration": 255,
    "start_time": "2023-04-21T07:10:53.821Z"
   },
   {
    "duration": 77,
    "start_time": "2023-04-21T07:12:17.622Z"
   },
   {
    "duration": 39,
    "start_time": "2023-04-21T07:12:22.255Z"
   },
   {
    "duration": 31,
    "start_time": "2023-04-21T07:12:37.950Z"
   },
   {
    "duration": 28,
    "start_time": "2023-04-21T07:12:58.750Z"
   },
   {
    "duration": 18,
    "start_time": "2023-04-21T07:13:05.783Z"
   },
   {
    "duration": 4,
    "start_time": "2023-04-21T07:13:17.341Z"
   },
   {
    "duration": 64,
    "start_time": "2023-04-21T07:13:17.347Z"
   },
   {
    "duration": 21,
    "start_time": "2023-04-21T07:13:17.414Z"
   },
   {
    "duration": 26,
    "start_time": "2023-04-21T07:13:17.437Z"
   },
   {
    "duration": 21,
    "start_time": "2023-04-21T07:13:17.465Z"
   },
   {
    "duration": 12,
    "start_time": "2023-04-21T07:13:17.488Z"
   },
   {
    "duration": 104,
    "start_time": "2023-04-21T07:13:17.502Z"
   },
   {
    "duration": 63,
    "start_time": "2023-04-21T07:13:17.608Z"
   },
   {
    "duration": 44,
    "start_time": "2023-04-21T07:13:17.673Z"
   },
   {
    "duration": 23,
    "start_time": "2023-04-21T07:13:17.719Z"
   },
   {
    "duration": 25,
    "start_time": "2023-04-21T07:13:17.746Z"
   },
   {
    "duration": 32,
    "start_time": "2023-04-21T07:13:17.774Z"
   },
   {
    "duration": 20,
    "start_time": "2023-04-21T07:13:17.809Z"
   },
   {
    "duration": 6,
    "start_time": "2023-04-21T07:13:17.831Z"
   },
   {
    "duration": 44,
    "start_time": "2023-04-21T07:13:17.840Z"
   },
   {
    "duration": 11,
    "start_time": "2023-04-21T07:13:17.886Z"
   },
   {
    "duration": 21,
    "start_time": "2023-04-21T07:13:17.899Z"
   },
   {
    "duration": 49,
    "start_time": "2023-04-21T07:13:17.923Z"
   },
   {
    "duration": 233,
    "start_time": "2023-04-21T07:13:17.974Z"
   },
   {
    "duration": 13,
    "start_time": "2023-04-21T07:13:18.208Z"
   },
   {
    "duration": 35,
    "start_time": "2023-04-21T07:13:18.223Z"
   },
   {
    "duration": 240,
    "start_time": "2023-04-21T07:13:18.263Z"
   },
   {
    "duration": 16,
    "start_time": "2023-04-21T07:13:18.505Z"
   },
   {
    "duration": 138,
    "start_time": "2023-04-21T07:13:18.523Z"
   },
   {
    "duration": 27,
    "start_time": "2023-04-21T07:13:18.662Z"
   },
   {
    "duration": 18,
    "start_time": "2023-04-21T07:13:18.691Z"
   },
   {
    "duration": 0,
    "start_time": "2023-04-21T07:13:18.711Z"
   },
   {
    "duration": 0,
    "start_time": "2023-04-21T07:13:18.713Z"
   },
   {
    "duration": 0,
    "start_time": "2023-04-21T07:13:18.714Z"
   },
   {
    "duration": 0,
    "start_time": "2023-04-21T07:13:18.715Z"
   },
   {
    "duration": 0,
    "start_time": "2023-04-21T07:13:18.716Z"
   },
   {
    "duration": 0,
    "start_time": "2023-04-21T07:13:18.717Z"
   },
   {
    "duration": 0,
    "start_time": "2023-04-21T07:13:18.718Z"
   },
   {
    "duration": 0,
    "start_time": "2023-04-21T07:13:18.719Z"
   },
   {
    "duration": 0,
    "start_time": "2023-04-21T07:13:18.720Z"
   },
   {
    "duration": 0,
    "start_time": "2023-04-21T07:13:18.721Z"
   },
   {
    "duration": 0,
    "start_time": "2023-04-21T07:13:18.757Z"
   },
   {
    "duration": 0,
    "start_time": "2023-04-21T07:13:18.758Z"
   },
   {
    "duration": 0,
    "start_time": "2023-04-21T07:13:18.763Z"
   },
   {
    "duration": 0,
    "start_time": "2023-04-21T07:13:18.764Z"
   },
   {
    "duration": 0,
    "start_time": "2023-04-21T07:13:18.766Z"
   },
   {
    "duration": 0,
    "start_time": "2023-04-21T07:13:18.767Z"
   },
   {
    "duration": 0,
    "start_time": "2023-04-21T07:13:18.769Z"
   },
   {
    "duration": 0,
    "start_time": "2023-04-21T07:13:18.770Z"
   },
   {
    "duration": 0,
    "start_time": "2023-04-21T07:13:18.772Z"
   },
   {
    "duration": 0,
    "start_time": "2023-04-21T07:13:18.773Z"
   },
   {
    "duration": 0,
    "start_time": "2023-04-21T07:13:18.774Z"
   },
   {
    "duration": 0,
    "start_time": "2023-04-21T07:13:18.776Z"
   },
   {
    "duration": 0,
    "start_time": "2023-04-21T07:13:18.777Z"
   },
   {
    "duration": 0,
    "start_time": "2023-04-21T07:13:18.779Z"
   },
   {
    "duration": 18,
    "start_time": "2023-04-21T07:14:32.549Z"
   },
   {
    "duration": 3,
    "start_time": "2023-04-21T07:14:35.006Z"
   },
   {
    "duration": 73,
    "start_time": "2023-04-21T07:14:35.011Z"
   },
   {
    "duration": 16,
    "start_time": "2023-04-21T07:14:35.086Z"
   },
   {
    "duration": 13,
    "start_time": "2023-04-21T07:14:35.105Z"
   },
   {
    "duration": 50,
    "start_time": "2023-04-21T07:14:35.120Z"
   },
   {
    "duration": 15,
    "start_time": "2023-04-21T07:14:35.171Z"
   },
   {
    "duration": 13,
    "start_time": "2023-04-21T07:14:35.188Z"
   },
   {
    "duration": 23,
    "start_time": "2023-04-21T07:14:35.203Z"
   },
   {
    "duration": 7,
    "start_time": "2023-04-21T07:14:35.230Z"
   },
   {
    "duration": 39,
    "start_time": "2023-04-21T07:14:35.239Z"
   },
   {
    "duration": 13,
    "start_time": "2023-04-21T07:14:35.279Z"
   },
   {
    "duration": 35,
    "start_time": "2023-04-21T07:14:35.294Z"
   },
   {
    "duration": 16,
    "start_time": "2023-04-21T07:14:35.330Z"
   },
   {
    "duration": 23,
    "start_time": "2023-04-21T07:14:35.348Z"
   },
   {
    "duration": 42,
    "start_time": "2023-04-21T07:14:35.372Z"
   },
   {
    "duration": 9,
    "start_time": "2023-04-21T07:14:35.416Z"
   },
   {
    "duration": 20,
    "start_time": "2023-04-21T07:14:35.427Z"
   },
   {
    "duration": 34,
    "start_time": "2023-04-21T07:14:35.449Z"
   },
   {
    "duration": 197,
    "start_time": "2023-04-21T07:14:35.485Z"
   },
   {
    "duration": 10,
    "start_time": "2023-04-21T07:14:35.683Z"
   },
   {
    "duration": 18,
    "start_time": "2023-04-21T07:14:35.694Z"
   },
   {
    "duration": 230,
    "start_time": "2023-04-21T07:14:35.713Z"
   },
   {
    "duration": 29,
    "start_time": "2023-04-21T07:14:35.945Z"
   },
   {
    "duration": 105,
    "start_time": "2023-04-21T07:14:35.977Z"
   },
   {
    "duration": 30,
    "start_time": "2023-04-21T07:14:36.083Z"
   },
   {
    "duration": 18,
    "start_time": "2023-04-21T07:14:36.114Z"
   },
   {
    "duration": 0,
    "start_time": "2023-04-21T07:14:36.134Z"
   },
   {
    "duration": 0,
    "start_time": "2023-04-21T07:14:36.135Z"
   },
   {
    "duration": 0,
    "start_time": "2023-04-21T07:14:36.136Z"
   },
   {
    "duration": 0,
    "start_time": "2023-04-21T07:14:36.137Z"
   },
   {
    "duration": 0,
    "start_time": "2023-04-21T07:14:36.159Z"
   },
   {
    "duration": 0,
    "start_time": "2023-04-21T07:14:36.160Z"
   },
   {
    "duration": 0,
    "start_time": "2023-04-21T07:14:36.162Z"
   },
   {
    "duration": 0,
    "start_time": "2023-04-21T07:14:36.163Z"
   },
   {
    "duration": 0,
    "start_time": "2023-04-21T07:14:36.164Z"
   },
   {
    "duration": 0,
    "start_time": "2023-04-21T07:14:36.165Z"
   },
   {
    "duration": 1,
    "start_time": "2023-04-21T07:14:36.165Z"
   },
   {
    "duration": 0,
    "start_time": "2023-04-21T07:14:36.168Z"
   },
   {
    "duration": 0,
    "start_time": "2023-04-21T07:14:36.169Z"
   },
   {
    "duration": 0,
    "start_time": "2023-04-21T07:14:36.170Z"
   },
   {
    "duration": 0,
    "start_time": "2023-04-21T07:14:36.171Z"
   },
   {
    "duration": 0,
    "start_time": "2023-04-21T07:14:36.172Z"
   },
   {
    "duration": 0,
    "start_time": "2023-04-21T07:14:36.176Z"
   },
   {
    "duration": 0,
    "start_time": "2023-04-21T07:14:36.177Z"
   },
   {
    "duration": 0,
    "start_time": "2023-04-21T07:14:36.178Z"
   },
   {
    "duration": 0,
    "start_time": "2023-04-21T07:14:36.180Z"
   },
   {
    "duration": 0,
    "start_time": "2023-04-21T07:14:36.181Z"
   },
   {
    "duration": 0,
    "start_time": "2023-04-21T07:14:36.182Z"
   },
   {
    "duration": 0,
    "start_time": "2023-04-21T07:14:36.183Z"
   },
   {
    "duration": 0,
    "start_time": "2023-04-21T07:14:36.184Z"
   },
   {
    "duration": 23,
    "start_time": "2023-04-21T07:15:03.581Z"
   },
   {
    "duration": 21,
    "start_time": "2023-04-21T07:15:08.054Z"
   },
   {
    "duration": 3,
    "start_time": "2023-04-21T07:15:31.349Z"
   },
   {
    "duration": 119,
    "start_time": "2023-04-21T07:15:31.354Z"
   },
   {
    "duration": 16,
    "start_time": "2023-04-21T07:15:31.478Z"
   },
   {
    "duration": 76,
    "start_time": "2023-04-21T07:15:31.496Z"
   },
   {
    "duration": 61,
    "start_time": "2023-04-21T07:15:31.575Z"
   },
   {
    "duration": 24,
    "start_time": "2023-04-21T07:15:31.638Z"
   },
   {
    "duration": 34,
    "start_time": "2023-04-21T07:15:31.665Z"
   },
   {
    "duration": 20,
    "start_time": "2023-04-21T07:15:31.701Z"
   },
   {
    "duration": 28,
    "start_time": "2023-04-21T07:15:31.723Z"
   },
   {
    "duration": 87,
    "start_time": "2023-04-21T07:15:31.753Z"
   },
   {
    "duration": 11,
    "start_time": "2023-04-21T07:15:31.842Z"
   },
   {
    "duration": 29,
    "start_time": "2023-04-21T07:15:31.854Z"
   },
   {
    "duration": 16,
    "start_time": "2023-04-21T07:15:31.884Z"
   },
   {
    "duration": 6,
    "start_time": "2023-04-21T07:15:31.901Z"
   },
   {
    "duration": 19,
    "start_time": "2023-04-21T07:15:31.908Z"
   },
   {
    "duration": 42,
    "start_time": "2023-04-21T07:15:31.930Z"
   },
   {
    "duration": 18,
    "start_time": "2023-04-21T07:15:31.974Z"
   },
   {
    "duration": 19,
    "start_time": "2023-04-21T07:15:31.994Z"
   },
   {
    "duration": 235,
    "start_time": "2023-04-21T07:15:32.014Z"
   },
   {
    "duration": 12,
    "start_time": "2023-04-21T07:15:32.257Z"
   },
   {
    "duration": 25,
    "start_time": "2023-04-21T07:15:32.271Z"
   },
   {
    "duration": 218,
    "start_time": "2023-04-21T07:15:32.298Z"
   },
   {
    "duration": 14,
    "start_time": "2023-04-21T07:15:32.519Z"
   },
   {
    "duration": 134,
    "start_time": "2023-04-21T07:15:32.536Z"
   },
   {
    "duration": 20,
    "start_time": "2023-04-21T07:15:32.671Z"
   },
   {
    "duration": 15,
    "start_time": "2023-04-21T07:15:32.693Z"
   },
   {
    "duration": 0,
    "start_time": "2023-04-21T07:15:32.710Z"
   },
   {
    "duration": 0,
    "start_time": "2023-04-21T07:15:32.711Z"
   },
   {
    "duration": 0,
    "start_time": "2023-04-21T07:15:32.713Z"
   },
   {
    "duration": 0,
    "start_time": "2023-04-21T07:15:32.715Z"
   },
   {
    "duration": 0,
    "start_time": "2023-04-21T07:15:32.717Z"
   },
   {
    "duration": 0,
    "start_time": "2023-04-21T07:15:32.718Z"
   },
   {
    "duration": 0,
    "start_time": "2023-04-21T07:15:32.720Z"
   },
   {
    "duration": 0,
    "start_time": "2023-04-21T07:15:32.721Z"
   },
   {
    "duration": 0,
    "start_time": "2023-04-21T07:15:32.722Z"
   },
   {
    "duration": 0,
    "start_time": "2023-04-21T07:15:32.723Z"
   },
   {
    "duration": 0,
    "start_time": "2023-04-21T07:15:32.725Z"
   },
   {
    "duration": 0,
    "start_time": "2023-04-21T07:15:32.726Z"
   },
   {
    "duration": 0,
    "start_time": "2023-04-21T07:15:32.728Z"
   },
   {
    "duration": 0,
    "start_time": "2023-04-21T07:15:32.757Z"
   },
   {
    "duration": 0,
    "start_time": "2023-04-21T07:15:32.763Z"
   },
   {
    "duration": 0,
    "start_time": "2023-04-21T07:15:32.764Z"
   },
   {
    "duration": 0,
    "start_time": "2023-04-21T07:15:32.764Z"
   },
   {
    "duration": 0,
    "start_time": "2023-04-21T07:15:32.765Z"
   },
   {
    "duration": 0,
    "start_time": "2023-04-21T07:15:32.766Z"
   },
   {
    "duration": 1,
    "start_time": "2023-04-21T07:15:32.766Z"
   },
   {
    "duration": 0,
    "start_time": "2023-04-21T07:15:32.768Z"
   },
   {
    "duration": 0,
    "start_time": "2023-04-21T07:15:32.769Z"
   },
   {
    "duration": 0,
    "start_time": "2023-04-21T07:15:32.769Z"
   },
   {
    "duration": 0,
    "start_time": "2023-04-21T07:15:32.770Z"
   },
   {
    "duration": 26,
    "start_time": "2023-04-21T07:15:50.202Z"
   },
   {
    "duration": 254,
    "start_time": "2023-04-21T07:15:57.310Z"
   },
   {
    "duration": 26,
    "start_time": "2023-04-21T07:16:21.944Z"
   },
   {
    "duration": 15,
    "start_time": "2023-04-21T07:16:24.376Z"
   },
   {
    "duration": 3,
    "start_time": "2023-04-21T07:16:31.037Z"
   },
   {
    "duration": 103,
    "start_time": "2023-04-21T07:16:31.043Z"
   },
   {
    "duration": 24,
    "start_time": "2023-04-21T07:16:31.148Z"
   },
   {
    "duration": 25,
    "start_time": "2023-04-21T07:16:31.174Z"
   },
   {
    "duration": 38,
    "start_time": "2023-04-21T07:16:31.201Z"
   },
   {
    "duration": 11,
    "start_time": "2023-04-21T07:16:31.242Z"
   },
   {
    "duration": 22,
    "start_time": "2023-04-21T07:16:31.255Z"
   },
   {
    "duration": 30,
    "start_time": "2023-04-21T07:16:31.279Z"
   },
   {
    "duration": 26,
    "start_time": "2023-04-21T07:16:31.310Z"
   },
   {
    "duration": 34,
    "start_time": "2023-04-21T07:16:31.337Z"
   },
   {
    "duration": 34,
    "start_time": "2023-04-21T07:16:31.373Z"
   },
   {
    "duration": 62,
    "start_time": "2023-04-21T07:16:31.409Z"
   },
   {
    "duration": 16,
    "start_time": "2023-04-21T07:16:31.472Z"
   },
   {
    "duration": 12,
    "start_time": "2023-04-21T07:16:31.490Z"
   },
   {
    "duration": 34,
    "start_time": "2023-04-21T07:16:31.506Z"
   },
   {
    "duration": 30,
    "start_time": "2023-04-21T07:16:31.542Z"
   },
   {
    "duration": 34,
    "start_time": "2023-04-21T07:16:31.574Z"
   },
   {
    "duration": 31,
    "start_time": "2023-04-21T07:16:31.610Z"
   },
   {
    "duration": 220,
    "start_time": "2023-04-21T07:16:31.642Z"
   },
   {
    "duration": 15,
    "start_time": "2023-04-21T07:16:31.863Z"
   },
   {
    "duration": 35,
    "start_time": "2023-04-21T07:16:31.880Z"
   },
   {
    "duration": 199,
    "start_time": "2023-04-21T07:16:31.917Z"
   },
   {
    "duration": 15,
    "start_time": "2023-04-21T07:16:32.117Z"
   },
   {
    "duration": 142,
    "start_time": "2023-04-21T07:16:32.134Z"
   },
   {
    "duration": 28,
    "start_time": "2023-04-21T07:16:32.278Z"
   },
   {
    "duration": 16,
    "start_time": "2023-04-21T07:16:32.307Z"
   },
   {
    "duration": 0,
    "start_time": "2023-04-21T07:16:32.324Z"
   },
   {
    "duration": 0,
    "start_time": "2023-04-21T07:16:32.326Z"
   },
   {
    "duration": 0,
    "start_time": "2023-04-21T07:16:32.327Z"
   },
   {
    "duration": 0,
    "start_time": "2023-04-21T07:16:32.329Z"
   },
   {
    "duration": 0,
    "start_time": "2023-04-21T07:16:32.330Z"
   },
   {
    "duration": 0,
    "start_time": "2023-04-21T07:16:32.331Z"
   },
   {
    "duration": 0,
    "start_time": "2023-04-21T07:16:32.359Z"
   },
   {
    "duration": 0,
    "start_time": "2023-04-21T07:16:32.360Z"
   },
   {
    "duration": 0,
    "start_time": "2023-04-21T07:16:32.361Z"
   },
   {
    "duration": 0,
    "start_time": "2023-04-21T07:16:32.361Z"
   },
   {
    "duration": 0,
    "start_time": "2023-04-21T07:16:32.362Z"
   },
   {
    "duration": 0,
    "start_time": "2023-04-21T07:16:32.363Z"
   },
   {
    "duration": 0,
    "start_time": "2023-04-21T07:16:32.364Z"
   },
   {
    "duration": 0,
    "start_time": "2023-04-21T07:16:32.367Z"
   },
   {
    "duration": 0,
    "start_time": "2023-04-21T07:16:32.368Z"
   },
   {
    "duration": 0,
    "start_time": "2023-04-21T07:16:32.369Z"
   },
   {
    "duration": 0,
    "start_time": "2023-04-21T07:16:32.370Z"
   },
   {
    "duration": 0,
    "start_time": "2023-04-21T07:16:32.371Z"
   },
   {
    "duration": 0,
    "start_time": "2023-04-21T07:16:32.372Z"
   },
   {
    "duration": 0,
    "start_time": "2023-04-21T07:16:32.375Z"
   },
   {
    "duration": 0,
    "start_time": "2023-04-21T07:16:32.376Z"
   },
   {
    "duration": 0,
    "start_time": "2023-04-21T07:16:32.377Z"
   },
   {
    "duration": 0,
    "start_time": "2023-04-21T07:16:32.378Z"
   },
   {
    "duration": 0,
    "start_time": "2023-04-21T07:16:32.380Z"
   },
   {
    "duration": 23,
    "start_time": "2023-04-21T07:17:45.125Z"
   },
   {
    "duration": 3,
    "start_time": "2023-04-21T07:18:01.284Z"
   },
   {
    "duration": 132,
    "start_time": "2023-04-21T07:18:01.289Z"
   },
   {
    "duration": 17,
    "start_time": "2023-04-21T07:18:01.424Z"
   },
   {
    "duration": 81,
    "start_time": "2023-04-21T07:18:01.443Z"
   },
   {
    "duration": 73,
    "start_time": "2023-04-21T07:18:01.528Z"
   },
   {
    "duration": 78,
    "start_time": "2023-04-21T07:18:01.602Z"
   },
   {
    "duration": 92,
    "start_time": "2023-04-21T07:18:01.682Z"
   },
   {
    "duration": 45,
    "start_time": "2023-04-21T07:18:01.775Z"
   },
   {
    "duration": 25,
    "start_time": "2023-04-21T07:18:01.822Z"
   },
   {
    "duration": 122,
    "start_time": "2023-04-21T07:18:01.849Z"
   },
   {
    "duration": 54,
    "start_time": "2023-04-21T07:18:01.974Z"
   },
   {
    "duration": 38,
    "start_time": "2023-04-21T07:18:02.030Z"
   },
   {
    "duration": 45,
    "start_time": "2023-04-21T07:18:02.069Z"
   },
   {
    "duration": 36,
    "start_time": "2023-04-21T07:18:02.116Z"
   },
   {
    "duration": 50,
    "start_time": "2023-04-21T07:18:02.153Z"
   },
   {
    "duration": 60,
    "start_time": "2023-04-21T07:18:02.206Z"
   },
   {
    "duration": 30,
    "start_time": "2023-04-21T07:18:02.267Z"
   },
   {
    "duration": 44,
    "start_time": "2023-04-21T07:18:02.298Z"
   },
   {
    "duration": 233,
    "start_time": "2023-04-21T07:18:02.344Z"
   },
   {
    "duration": 13,
    "start_time": "2023-04-21T07:18:02.579Z"
   },
   {
    "duration": 24,
    "start_time": "2023-04-21T07:18:02.595Z"
   },
   {
    "duration": 225,
    "start_time": "2023-04-21T07:18:02.621Z"
   },
   {
    "duration": 19,
    "start_time": "2023-04-21T07:18:02.848Z"
   },
   {
    "duration": 110,
    "start_time": "2023-04-21T07:18:02.871Z"
   },
   {
    "duration": 22,
    "start_time": "2023-04-21T07:18:02.983Z"
   },
   {
    "duration": 18,
    "start_time": "2023-04-21T07:18:03.007Z"
   },
   {
    "duration": 0,
    "start_time": "2023-04-21T07:18:03.028Z"
   },
   {
    "duration": 0,
    "start_time": "2023-04-21T07:18:03.059Z"
   },
   {
    "duration": 0,
    "start_time": "2023-04-21T07:18:03.060Z"
   },
   {
    "duration": 0,
    "start_time": "2023-04-21T07:18:03.060Z"
   },
   {
    "duration": 0,
    "start_time": "2023-04-21T07:18:03.063Z"
   },
   {
    "duration": 0,
    "start_time": "2023-04-21T07:18:03.064Z"
   },
   {
    "duration": 0,
    "start_time": "2023-04-21T07:18:03.065Z"
   },
   {
    "duration": 0,
    "start_time": "2023-04-21T07:18:03.065Z"
   },
   {
    "duration": 0,
    "start_time": "2023-04-21T07:18:03.066Z"
   },
   {
    "duration": 0,
    "start_time": "2023-04-21T07:18:03.067Z"
   },
   {
    "duration": 0,
    "start_time": "2023-04-21T07:18:03.068Z"
   },
   {
    "duration": 0,
    "start_time": "2023-04-21T07:18:03.069Z"
   },
   {
    "duration": 0,
    "start_time": "2023-04-21T07:18:03.069Z"
   },
   {
    "duration": 0,
    "start_time": "2023-04-21T07:18:03.071Z"
   },
   {
    "duration": 0,
    "start_time": "2023-04-21T07:18:03.073Z"
   },
   {
    "duration": 0,
    "start_time": "2023-04-21T07:18:03.074Z"
   },
   {
    "duration": 0,
    "start_time": "2023-04-21T07:18:03.076Z"
   },
   {
    "duration": 0,
    "start_time": "2023-04-21T07:18:03.078Z"
   },
   {
    "duration": 0,
    "start_time": "2023-04-21T07:18:03.079Z"
   },
   {
    "duration": 0,
    "start_time": "2023-04-21T07:18:03.080Z"
   },
   {
    "duration": 0,
    "start_time": "2023-04-21T07:18:03.082Z"
   },
   {
    "duration": 0,
    "start_time": "2023-04-21T07:18:03.083Z"
   },
   {
    "duration": 0,
    "start_time": "2023-04-21T07:18:03.084Z"
   },
   {
    "duration": 0,
    "start_time": "2023-04-21T07:18:03.086Z"
   },
   {
    "duration": 17,
    "start_time": "2023-04-21T07:19:17.485Z"
   },
   {
    "duration": 17,
    "start_time": "2023-04-21T07:19:31.221Z"
   },
   {
    "duration": 19,
    "start_time": "2023-04-21T07:20:24.574Z"
   },
   {
    "duration": 21,
    "start_time": "2023-04-21T07:20:33.453Z"
   },
   {
    "duration": 28,
    "start_time": "2023-04-21T07:20:51.066Z"
   },
   {
    "duration": 21,
    "start_time": "2023-04-21T07:20:55.557Z"
   },
   {
    "duration": 226,
    "start_time": "2023-04-21T07:21:00.420Z"
   },
   {
    "duration": 21,
    "start_time": "2023-04-21T07:21:21.168Z"
   },
   {
    "duration": 14,
    "start_time": "2023-04-21T07:25:37.375Z"
   },
   {
    "duration": 21,
    "start_time": "2023-04-21T07:25:48.124Z"
   },
   {
    "duration": 17,
    "start_time": "2023-04-21T07:25:50.391Z"
   },
   {
    "duration": 15,
    "start_time": "2023-04-21T07:25:59.399Z"
   },
   {
    "duration": 24,
    "start_time": "2023-04-21T07:26:05.204Z"
   },
   {
    "duration": 209,
    "start_time": "2023-04-21T07:26:08.798Z"
   },
   {
    "duration": 3,
    "start_time": "2023-04-21T07:26:29.034Z"
   },
   {
    "duration": 78,
    "start_time": "2023-04-21T07:26:29.039Z"
   },
   {
    "duration": 17,
    "start_time": "2023-04-21T07:26:29.119Z"
   },
   {
    "duration": 26,
    "start_time": "2023-04-21T07:26:29.138Z"
   },
   {
    "duration": 15,
    "start_time": "2023-04-21T07:26:29.171Z"
   },
   {
    "duration": 10,
    "start_time": "2023-04-21T07:26:29.188Z"
   },
   {
    "duration": 5,
    "start_time": "2023-04-21T07:26:29.200Z"
   },
   {
    "duration": 5,
    "start_time": "2023-04-21T07:26:29.207Z"
   },
   {
    "duration": 7,
    "start_time": "2023-04-21T07:26:29.214Z"
   },
   {
    "duration": 50,
    "start_time": "2023-04-21T07:26:29.223Z"
   },
   {
    "duration": 12,
    "start_time": "2023-04-21T07:26:29.277Z"
   },
   {
    "duration": 23,
    "start_time": "2023-04-21T07:26:29.291Z"
   },
   {
    "duration": 15,
    "start_time": "2023-04-21T07:26:29.316Z"
   },
   {
    "duration": 38,
    "start_time": "2023-04-21T07:26:29.333Z"
   },
   {
    "duration": 20,
    "start_time": "2023-04-21T07:26:29.372Z"
   },
   {
    "duration": 17,
    "start_time": "2023-04-21T07:26:29.394Z"
   },
   {
    "duration": 18,
    "start_time": "2023-04-21T07:26:29.413Z"
   },
   {
    "duration": 36,
    "start_time": "2023-04-21T07:26:29.432Z"
   },
   {
    "duration": 207,
    "start_time": "2023-04-21T07:26:29.470Z"
   },
   {
    "duration": 10,
    "start_time": "2023-04-21T07:26:29.678Z"
   },
   {
    "duration": 17,
    "start_time": "2023-04-21T07:26:29.690Z"
   },
   {
    "duration": 218,
    "start_time": "2023-04-21T07:26:29.708Z"
   },
   {
    "duration": 13,
    "start_time": "2023-04-21T07:26:29.929Z"
   },
   {
    "duration": 155,
    "start_time": "2023-04-21T07:26:29.956Z"
   },
   {
    "duration": 32,
    "start_time": "2023-04-21T07:26:30.113Z"
   },
   {
    "duration": 232,
    "start_time": "2023-04-21T07:26:30.146Z"
   },
   {
    "duration": 21,
    "start_time": "2023-04-21T07:26:30.379Z"
   },
   {
    "duration": 318,
    "start_time": "2023-04-21T07:26:30.402Z"
   },
   {
    "duration": 7,
    "start_time": "2023-04-21T07:26:30.724Z"
   },
   {
    "duration": 73,
    "start_time": "2023-04-21T07:26:30.732Z"
   },
   {
    "duration": 1969,
    "start_time": "2023-04-21T07:26:30.807Z"
   },
   {
    "duration": 16,
    "start_time": "2023-04-21T07:26:32.777Z"
   },
   {
    "duration": 6,
    "start_time": "2023-04-21T07:26:32.794Z"
   },
   {
    "duration": 217,
    "start_time": "2023-04-21T07:26:32.802Z"
   },
   {
    "duration": 17,
    "start_time": "2023-04-21T07:26:33.020Z"
   },
   {
    "duration": 21,
    "start_time": "2023-04-21T07:26:33.039Z"
   },
   {
    "duration": 124,
    "start_time": "2023-04-21T07:26:33.065Z"
   },
   {
    "duration": 9990,
    "start_time": "2023-04-21T07:26:33.191Z"
   },
   {
    "duration": 20,
    "start_time": "2023-04-21T07:26:43.184Z"
   },
   {
    "duration": 536,
    "start_time": "2023-04-21T07:26:43.205Z"
   },
   {
    "duration": 20,
    "start_time": "2023-04-21T07:26:43.743Z"
   },
   {
    "duration": 25,
    "start_time": "2023-04-21T07:26:43.765Z"
   },
   {
    "duration": 129,
    "start_time": "2023-04-21T07:26:43.792Z"
   },
   {
    "duration": 9,
    "start_time": "2023-04-21T07:26:43.923Z"
   },
   {
    "duration": 28,
    "start_time": "2023-04-21T07:26:43.941Z"
   },
   {
    "duration": 1737,
    "start_time": "2023-04-21T07:26:43.971Z"
   },
   {
    "duration": 14,
    "start_time": "2023-04-21T07:26:45.710Z"
   },
   {
    "duration": 47,
    "start_time": "2023-04-21T07:26:45.726Z"
   },
   {
    "duration": 287,
    "start_time": "2023-04-21T07:26:45.774Z"
   },
   {
    "duration": 27,
    "start_time": "2023-04-21T07:26:46.063Z"
   },
   {
    "duration": 206,
    "start_time": "2023-04-21T07:33:08.075Z"
   },
   {
    "duration": 3,
    "start_time": "2023-04-21T07:33:14.699Z"
   },
   {
    "duration": 87,
    "start_time": "2023-04-21T07:33:14.704Z"
   },
   {
    "duration": 19,
    "start_time": "2023-04-21T07:33:14.793Z"
   },
   {
    "duration": 50,
    "start_time": "2023-04-21T07:33:14.814Z"
   },
   {
    "duration": 24,
    "start_time": "2023-04-21T07:33:14.869Z"
   },
   {
    "duration": 16,
    "start_time": "2023-04-21T07:33:14.896Z"
   },
   {
    "duration": 7,
    "start_time": "2023-04-21T07:33:14.915Z"
   },
   {
    "duration": 42,
    "start_time": "2023-04-21T07:33:14.926Z"
   },
   {
    "duration": 10,
    "start_time": "2023-04-21T07:33:14.969Z"
   },
   {
    "duration": 15,
    "start_time": "2023-04-21T07:33:14.981Z"
   },
   {
    "duration": 14,
    "start_time": "2023-04-21T07:33:14.999Z"
   },
   {
    "duration": 47,
    "start_time": "2023-04-21T07:33:15.015Z"
   },
   {
    "duration": 18,
    "start_time": "2023-04-21T07:33:15.072Z"
   },
   {
    "duration": 6,
    "start_time": "2023-04-21T07:33:15.092Z"
   },
   {
    "duration": 20,
    "start_time": "2023-04-21T07:33:15.100Z"
   },
   {
    "duration": 40,
    "start_time": "2023-04-21T07:33:15.122Z"
   },
   {
    "duration": 32,
    "start_time": "2023-04-21T07:33:15.168Z"
   },
   {
    "duration": 19,
    "start_time": "2023-04-21T07:33:15.202Z"
   },
   {
    "duration": 311,
    "start_time": "2023-04-21T07:33:15.224Z"
   },
   {
    "duration": 10,
    "start_time": "2023-04-21T07:33:15.537Z"
   },
   {
    "duration": 33,
    "start_time": "2023-04-21T07:33:15.549Z"
   },
   {
    "duration": 224,
    "start_time": "2023-04-21T07:33:15.583Z"
   },
   {
    "duration": 17,
    "start_time": "2023-04-21T07:33:15.809Z"
   },
   {
    "duration": 145,
    "start_time": "2023-04-21T07:33:15.827Z"
   },
   {
    "duration": 24,
    "start_time": "2023-04-21T07:33:15.974Z"
   },
   {
    "duration": 259,
    "start_time": "2023-04-21T07:33:16.000Z"
   },
   {
    "duration": 23,
    "start_time": "2023-04-21T07:33:16.268Z"
   },
   {
    "duration": 324,
    "start_time": "2023-04-21T07:33:16.293Z"
   },
   {
    "duration": 7,
    "start_time": "2023-04-21T07:33:16.621Z"
   },
   {
    "duration": 53,
    "start_time": "2023-04-21T07:33:16.630Z"
   },
   {
    "duration": 1948,
    "start_time": "2023-04-21T07:33:16.686Z"
   },
   {
    "duration": 36,
    "start_time": "2023-04-21T07:33:18.636Z"
   },
   {
    "duration": 6,
    "start_time": "2023-04-21T07:33:18.677Z"
   },
   {
    "duration": 218,
    "start_time": "2023-04-21T07:33:18.685Z"
   },
   {
    "duration": 18,
    "start_time": "2023-04-21T07:33:18.906Z"
   },
   {
    "duration": 10,
    "start_time": "2023-04-21T07:33:18.926Z"
   },
   {
    "duration": 115,
    "start_time": "2023-04-21T07:33:18.956Z"
   },
   {
    "duration": 10444,
    "start_time": "2023-04-21T07:33:19.074Z"
   },
   {
    "duration": 57,
    "start_time": "2023-04-21T07:33:29.523Z"
   },
   {
    "duration": 583,
    "start_time": "2023-04-21T07:33:29.582Z"
   },
   {
    "duration": 11,
    "start_time": "2023-04-21T07:33:30.173Z"
   },
   {
    "duration": 23,
    "start_time": "2023-04-21T07:33:30.186Z"
   },
   {
    "duration": 117,
    "start_time": "2023-04-21T07:33:30.211Z"
   },
   {
    "duration": 9,
    "start_time": "2023-04-21T07:33:30.330Z"
   },
   {
    "duration": 22,
    "start_time": "2023-04-21T07:33:30.355Z"
   },
   {
    "duration": 1651,
    "start_time": "2023-04-21T07:33:30.378Z"
   },
   {
    "duration": 36,
    "start_time": "2023-04-21T07:33:32.030Z"
   },
   {
    "duration": 20,
    "start_time": "2023-04-21T07:33:32.073Z"
   },
   {
    "duration": 308,
    "start_time": "2023-04-21T07:33:32.095Z"
   },
   {
    "duration": 19,
    "start_time": "2023-04-21T07:33:32.405Z"
   },
   {
    "duration": 220,
    "start_time": "2023-04-21T07:33:38.403Z"
   },
   {
    "duration": 4,
    "start_time": "2023-04-21T07:33:53.341Z"
   },
   {
    "duration": 100,
    "start_time": "2023-04-21T07:33:53.348Z"
   },
   {
    "duration": 30,
    "start_time": "2023-04-21T07:33:53.451Z"
   },
   {
    "duration": 14,
    "start_time": "2023-04-21T07:33:53.483Z"
   },
   {
    "duration": 25,
    "start_time": "2023-04-21T07:33:53.500Z"
   },
   {
    "duration": 11,
    "start_time": "2023-04-21T07:33:53.527Z"
   },
   {
    "duration": 7,
    "start_time": "2023-04-21T07:33:53.558Z"
   },
   {
    "duration": 21,
    "start_time": "2023-04-21T07:33:53.568Z"
   },
   {
    "duration": 12,
    "start_time": "2023-04-21T07:33:53.592Z"
   },
   {
    "duration": 14,
    "start_time": "2023-04-21T07:33:53.605Z"
   },
   {
    "duration": 12,
    "start_time": "2023-04-21T07:33:53.621Z"
   },
   {
    "duration": 41,
    "start_time": "2023-04-21T07:33:53.635Z"
   },
   {
    "duration": 15,
    "start_time": "2023-04-21T07:33:53.678Z"
   },
   {
    "duration": 5,
    "start_time": "2023-04-21T07:33:53.695Z"
   },
   {
    "duration": 62,
    "start_time": "2023-04-21T07:33:53.702Z"
   },
   {
    "duration": 11,
    "start_time": "2023-04-21T07:33:53.767Z"
   },
   {
    "duration": 19,
    "start_time": "2023-04-21T07:33:53.780Z"
   },
   {
    "duration": 21,
    "start_time": "2023-04-21T07:33:53.801Z"
   },
   {
    "duration": 266,
    "start_time": "2023-04-21T07:33:53.824Z"
   },
   {
    "duration": 13,
    "start_time": "2023-04-21T07:33:54.092Z"
   },
   {
    "duration": 24,
    "start_time": "2023-04-21T07:33:54.108Z"
   },
   {
    "duration": 310,
    "start_time": "2023-04-21T07:33:54.135Z"
   },
   {
    "duration": 21,
    "start_time": "2023-04-21T07:33:54.448Z"
   },
   {
    "duration": 118,
    "start_time": "2023-04-21T07:33:54.478Z"
   },
   {
    "duration": 21,
    "start_time": "2023-04-21T07:33:54.598Z"
   },
   {
    "duration": 299,
    "start_time": "2023-04-21T07:33:54.621Z"
   },
   {
    "duration": 41,
    "start_time": "2023-04-21T07:33:54.922Z"
   },
   {
    "duration": 338,
    "start_time": "2023-04-21T07:33:54.973Z"
   },
   {
    "duration": 9,
    "start_time": "2023-04-21T07:33:55.314Z"
   },
   {
    "duration": 49,
    "start_time": "2023-04-21T07:33:55.325Z"
   },
   {
    "duration": 2131,
    "start_time": "2023-04-21T07:33:55.375Z"
   },
   {
    "duration": 23,
    "start_time": "2023-04-21T07:33:57.508Z"
   },
   {
    "duration": 33,
    "start_time": "2023-04-21T07:33:57.533Z"
   },
   {
    "duration": 232,
    "start_time": "2023-04-21T07:33:57.568Z"
   },
   {
    "duration": 22,
    "start_time": "2023-04-21T07:33:57.802Z"
   },
   {
    "duration": 5,
    "start_time": "2023-04-21T07:33:57.825Z"
   },
   {
    "duration": 122,
    "start_time": "2023-04-21T07:33:57.832Z"
   },
   {
    "duration": 11172,
    "start_time": "2023-04-21T07:33:57.959Z"
   },
   {
    "duration": 43,
    "start_time": "2023-04-21T07:34:09.134Z"
   },
   {
    "duration": 520,
    "start_time": "2023-04-21T07:34:09.180Z"
   },
   {
    "duration": 9,
    "start_time": "2023-04-21T07:34:09.702Z"
   },
   {
    "duration": 23,
    "start_time": "2023-04-21T07:34:09.712Z"
   },
   {
    "duration": 140,
    "start_time": "2023-04-21T07:34:09.736Z"
   },
   {
    "duration": 10,
    "start_time": "2023-04-21T07:34:09.878Z"
   },
   {
    "duration": 15,
    "start_time": "2023-04-21T07:34:09.890Z"
   },
   {
    "duration": 1658,
    "start_time": "2023-04-21T07:34:09.908Z"
   },
   {
    "duration": 21,
    "start_time": "2023-04-21T07:34:11.568Z"
   },
   {
    "duration": 26,
    "start_time": "2023-04-21T07:34:11.591Z"
   },
   {
    "duration": 321,
    "start_time": "2023-04-21T07:34:11.619Z"
   },
   {
    "duration": 35,
    "start_time": "2023-04-21T07:34:11.942Z"
   },
   {
    "duration": 36,
    "start_time": "2023-04-21T07:35:02.440Z"
   },
   {
    "duration": 249,
    "start_time": "2023-04-21T07:35:05.083Z"
   },
   {
    "duration": 24,
    "start_time": "2023-04-21T07:36:04.100Z"
   },
   {
    "duration": 286,
    "start_time": "2023-04-21T07:36:06.183Z"
   },
   {
    "duration": 23,
    "start_time": "2023-04-21T07:36:14.700Z"
   },
   {
    "duration": 26,
    "start_time": "2023-04-21T07:36:27.106Z"
   },
   {
    "duration": 228,
    "start_time": "2023-04-21T07:36:29.315Z"
   },
   {
    "duration": 310,
    "start_time": "2023-04-21T07:36:51.820Z"
   },
   {
    "duration": 78,
    "start_time": "2023-04-21T07:37:11.063Z"
   },
   {
    "duration": 4,
    "start_time": "2023-04-21T07:37:24.108Z"
   },
   {
    "duration": 85,
    "start_time": "2023-04-21T07:37:24.115Z"
   },
   {
    "duration": 22,
    "start_time": "2023-04-21T07:37:24.203Z"
   },
   {
    "duration": 43,
    "start_time": "2023-04-21T07:37:24.227Z"
   },
   {
    "duration": 23,
    "start_time": "2023-04-21T07:37:24.272Z"
   },
   {
    "duration": 15,
    "start_time": "2023-04-21T07:37:24.297Z"
   },
   {
    "duration": 7,
    "start_time": "2023-04-21T07:37:24.314Z"
   },
   {
    "duration": 37,
    "start_time": "2023-04-21T07:37:24.323Z"
   },
   {
    "duration": 8,
    "start_time": "2023-04-21T07:37:24.363Z"
   },
   {
    "duration": 21,
    "start_time": "2023-04-21T07:37:24.373Z"
   },
   {
    "duration": 47,
    "start_time": "2023-04-21T07:37:24.396Z"
   },
   {
    "duration": 36,
    "start_time": "2023-04-21T07:37:24.445Z"
   },
   {
    "duration": 18,
    "start_time": "2023-04-21T07:37:24.486Z"
   },
   {
    "duration": 17,
    "start_time": "2023-04-21T07:37:24.506Z"
   },
   {
    "duration": 37,
    "start_time": "2023-04-21T07:37:24.525Z"
   },
   {
    "duration": 16,
    "start_time": "2023-04-21T07:37:24.567Z"
   },
   {
    "duration": 23,
    "start_time": "2023-04-21T07:37:24.585Z"
   },
   {
    "duration": 24,
    "start_time": "2023-04-21T07:37:24.610Z"
   },
   {
    "duration": 222,
    "start_time": "2023-04-21T07:37:24.636Z"
   },
   {
    "duration": 16,
    "start_time": "2023-04-21T07:37:24.860Z"
   },
   {
    "duration": 17,
    "start_time": "2023-04-21T07:37:24.878Z"
   },
   {
    "duration": 291,
    "start_time": "2023-04-21T07:37:24.897Z"
   },
   {
    "duration": 14,
    "start_time": "2023-04-21T07:37:25.191Z"
   },
   {
    "duration": 140,
    "start_time": "2023-04-21T07:37:25.207Z"
   },
   {
    "duration": 40,
    "start_time": "2023-04-21T07:37:25.349Z"
   },
   {
    "duration": 251,
    "start_time": "2023-04-21T07:37:25.391Z"
   },
   {
    "duration": 34,
    "start_time": "2023-04-21T07:37:25.644Z"
   },
   {
    "duration": 331,
    "start_time": "2023-04-21T07:37:25.679Z"
   },
   {
    "duration": 7,
    "start_time": "2023-04-21T07:37:26.012Z"
   },
   {
    "duration": 44,
    "start_time": "2023-04-21T07:37:26.021Z"
   },
   {
    "duration": 1920,
    "start_time": "2023-04-21T07:37:26.075Z"
   },
   {
    "duration": 17,
    "start_time": "2023-04-21T07:37:27.997Z"
   },
   {
    "duration": 5,
    "start_time": "2023-04-21T07:37:28.015Z"
   },
   {
    "duration": 214,
    "start_time": "2023-04-21T07:37:28.022Z"
   },
   {
    "duration": 27,
    "start_time": "2023-04-21T07:37:28.237Z"
   },
   {
    "duration": 7,
    "start_time": "2023-04-21T07:37:28.265Z"
   },
   {
    "duration": 117,
    "start_time": "2023-04-21T07:37:28.276Z"
   },
   {
    "duration": 9459,
    "start_time": "2023-04-21T07:37:28.395Z"
   },
   {
    "duration": 23,
    "start_time": "2023-04-21T07:37:37.862Z"
   },
   {
    "duration": 474,
    "start_time": "2023-04-21T07:37:37.887Z"
   },
   {
    "duration": 11,
    "start_time": "2023-04-21T07:37:38.366Z"
   },
   {
    "duration": 26,
    "start_time": "2023-04-21T07:37:38.379Z"
   },
   {
    "duration": 118,
    "start_time": "2023-04-21T07:37:38.407Z"
   },
   {
    "duration": 9,
    "start_time": "2023-04-21T07:37:38.527Z"
   },
   {
    "duration": 13,
    "start_time": "2023-04-21T07:37:38.560Z"
   },
   {
    "duration": 1580,
    "start_time": "2023-04-21T07:37:38.576Z"
   },
   {
    "duration": 25,
    "start_time": "2023-04-21T07:37:40.161Z"
   },
   {
    "duration": 24,
    "start_time": "2023-04-21T07:37:40.189Z"
   },
   {
    "duration": 346,
    "start_time": "2023-04-21T07:37:40.216Z"
   },
   {
    "duration": 23,
    "start_time": "2023-04-21T07:37:40.565Z"
   },
   {
    "duration": 366,
    "start_time": "2023-04-21T07:48:26.178Z"
   },
   {
    "duration": 2140,
    "start_time": "2023-04-21T07:50:28.880Z"
   },
   {
    "duration": 2009,
    "start_time": "2023-04-21T07:50:39.897Z"
   },
   {
    "duration": 1976,
    "start_time": "2023-04-21T07:53:26.859Z"
   },
   {
    "duration": 1925,
    "start_time": "2023-04-21T07:53:56.217Z"
   },
   {
    "duration": 102,
    "start_time": "2023-04-21T07:56:39.212Z"
   },
   {
    "duration": 72,
    "start_time": "2023-04-21T07:56:39.317Z"
   },
   {
    "duration": 32,
    "start_time": "2023-04-21T07:56:39.393Z"
   },
   {
    "duration": 31,
    "start_time": "2023-04-21T07:56:39.428Z"
   },
   {
    "duration": 19,
    "start_time": "2023-04-21T07:56:39.462Z"
   },
   {
    "duration": 13,
    "start_time": "2023-04-21T07:56:39.483Z"
   },
   {
    "duration": 9,
    "start_time": "2023-04-21T07:56:39.498Z"
   },
   {
    "duration": 23,
    "start_time": "2023-04-21T07:56:39.509Z"
   },
   {
    "duration": 21,
    "start_time": "2023-04-21T07:56:39.533Z"
   },
   {
    "duration": 27,
    "start_time": "2023-04-21T07:56:39.556Z"
   },
   {
    "duration": 11,
    "start_time": "2023-04-21T07:56:39.585Z"
   },
   {
    "duration": 27,
    "start_time": "2023-04-21T07:56:39.598Z"
   },
   {
    "duration": 16,
    "start_time": "2023-04-21T07:56:39.626Z"
   },
   {
    "duration": 5,
    "start_time": "2023-04-21T07:56:39.645Z"
   },
   {
    "duration": 28,
    "start_time": "2023-04-21T07:56:39.656Z"
   },
   {
    "duration": 12,
    "start_time": "2023-04-21T07:56:39.686Z"
   },
   {
    "duration": 34,
    "start_time": "2023-04-21T07:56:39.700Z"
   },
   {
    "duration": 56,
    "start_time": "2023-04-21T07:56:39.736Z"
   },
   {
    "duration": 220,
    "start_time": "2023-04-21T07:56:39.794Z"
   },
   {
    "duration": 16,
    "start_time": "2023-04-21T07:56:40.016Z"
   },
   {
    "duration": 31,
    "start_time": "2023-04-21T07:56:40.033Z"
   },
   {
    "duration": 297,
    "start_time": "2023-04-21T07:56:40.066Z"
   },
   {
    "duration": 15,
    "start_time": "2023-04-21T07:56:40.365Z"
   },
   {
    "duration": 1520,
    "start_time": "2023-04-21T07:56:40.381Z"
   },
   {
    "duration": 22,
    "start_time": "2023-04-21T07:56:41.903Z"
   },
   {
    "duration": 283,
    "start_time": "2023-04-21T07:56:41.928Z"
   },
   {
    "duration": 32,
    "start_time": "2023-04-21T07:56:42.214Z"
   },
   {
    "duration": 351,
    "start_time": "2023-04-21T07:56:42.248Z"
   },
   {
    "duration": 10,
    "start_time": "2023-04-21T07:56:42.602Z"
   },
   {
    "duration": 42,
    "start_time": "2023-04-21T07:56:42.614Z"
   },
   {
    "duration": 2148,
    "start_time": "2023-04-21T07:56:42.658Z"
   },
   {
    "duration": 23,
    "start_time": "2023-04-21T07:56:44.808Z"
   },
   {
    "duration": 6,
    "start_time": "2023-04-21T07:56:44.833Z"
   },
   {
    "duration": 259,
    "start_time": "2023-04-21T07:56:44.857Z"
   },
   {
    "duration": 44,
    "start_time": "2023-04-21T07:56:45.119Z"
   },
   {
    "duration": 6,
    "start_time": "2023-04-21T07:56:45.165Z"
   },
   {
    "duration": 142,
    "start_time": "2023-04-21T07:56:45.180Z"
   },
   {
    "duration": 10504,
    "start_time": "2023-04-21T07:56:45.325Z"
   },
   {
    "duration": 45,
    "start_time": "2023-04-21T07:56:55.831Z"
   },
   {
    "duration": 506,
    "start_time": "2023-04-21T07:56:55.878Z"
   },
   {
    "duration": 8,
    "start_time": "2023-04-21T07:56:56.389Z"
   },
   {
    "duration": 25,
    "start_time": "2023-04-21T07:56:56.399Z"
   },
   {
    "duration": 124,
    "start_time": "2023-04-21T07:56:56.426Z"
   },
   {
    "duration": 12,
    "start_time": "2023-04-21T07:56:56.552Z"
   },
   {
    "duration": 13,
    "start_time": "2023-04-21T07:56:56.567Z"
   },
   {
    "duration": 1661,
    "start_time": "2023-04-21T07:56:56.583Z"
   },
   {
    "duration": 20,
    "start_time": "2023-04-21T07:56:58.247Z"
   },
   {
    "duration": 21,
    "start_time": "2023-04-21T07:56:58.270Z"
   },
   {
    "duration": 350,
    "start_time": "2023-04-21T07:56:58.293Z"
   },
   {
    "duration": 25,
    "start_time": "2023-04-21T07:56:58.645Z"
   },
   {
    "duration": 16,
    "start_time": "2023-04-21T08:00:44.705Z"
   },
   {
    "duration": 4,
    "start_time": "2023-04-21T08:01:06.959Z"
   },
   {
    "duration": 82,
    "start_time": "2023-04-21T08:01:06.965Z"
   },
   {
    "duration": 20,
    "start_time": "2023-04-21T08:01:07.049Z"
   },
   {
    "duration": 20,
    "start_time": "2023-04-21T08:01:07.072Z"
   },
   {
    "duration": 17,
    "start_time": "2023-04-21T08:01:07.093Z"
   },
   {
    "duration": 52,
    "start_time": "2023-04-21T08:01:07.112Z"
   },
   {
    "duration": 7,
    "start_time": "2023-04-21T08:01:07.166Z"
   },
   {
    "duration": 6,
    "start_time": "2023-04-21T08:01:07.175Z"
   },
   {
    "duration": 7,
    "start_time": "2023-04-21T08:01:07.184Z"
   },
   {
    "duration": 16,
    "start_time": "2023-04-21T08:01:07.193Z"
   },
   {
    "duration": 58,
    "start_time": "2023-04-21T08:01:07.211Z"
   },
   {
    "duration": 25,
    "start_time": "2023-04-21T08:01:07.271Z"
   },
   {
    "duration": 18,
    "start_time": "2023-04-21T08:01:07.298Z"
   },
   {
    "duration": 38,
    "start_time": "2023-04-21T08:01:07.318Z"
   },
   {
    "duration": 23,
    "start_time": "2023-04-21T08:01:07.358Z"
   },
   {
    "duration": 18,
    "start_time": "2023-04-21T08:01:07.383Z"
   },
   {
    "duration": 23,
    "start_time": "2023-04-21T08:01:07.403Z"
   },
   {
    "duration": 36,
    "start_time": "2023-04-21T08:01:07.428Z"
   },
   {
    "duration": 245,
    "start_time": "2023-04-21T08:01:07.467Z"
   },
   {
    "duration": 14,
    "start_time": "2023-04-21T08:01:07.714Z"
   },
   {
    "duration": 33,
    "start_time": "2023-04-21T08:01:07.731Z"
   },
   {
    "duration": 208,
    "start_time": "2023-04-21T08:01:07.766Z"
   },
   {
    "duration": 16,
    "start_time": "2023-04-21T08:01:07.976Z"
   },
   {
    "duration": 123,
    "start_time": "2023-04-21T08:01:07.998Z"
   },
   {
    "duration": 39,
    "start_time": "2023-04-21T08:01:08.123Z"
   },
   {
    "duration": 219,
    "start_time": "2023-04-21T08:01:08.164Z"
   },
   {
    "duration": 24,
    "start_time": "2023-04-21T08:01:08.385Z"
   },
   {
    "duration": 341,
    "start_time": "2023-04-21T08:01:08.411Z"
   },
   {
    "duration": 7,
    "start_time": "2023-04-21T08:01:08.756Z"
   },
   {
    "duration": 27,
    "start_time": "2023-04-21T08:01:08.766Z"
   },
   {
    "duration": 1940,
    "start_time": "2023-04-21T08:01:08.795Z"
   },
   {
    "duration": 19,
    "start_time": "2023-04-21T08:01:10.737Z"
   },
   {
    "duration": 0,
    "start_time": "2023-04-21T08:01:10.757Z"
   },
   {
    "duration": 0,
    "start_time": "2023-04-21T08:01:10.759Z"
   },
   {
    "duration": 0,
    "start_time": "2023-04-21T08:01:10.760Z"
   },
   {
    "duration": 0,
    "start_time": "2023-04-21T08:01:10.761Z"
   },
   {
    "duration": 0,
    "start_time": "2023-04-21T08:01:10.762Z"
   },
   {
    "duration": 0,
    "start_time": "2023-04-21T08:01:10.764Z"
   },
   {
    "duration": 0,
    "start_time": "2023-04-21T08:01:10.765Z"
   },
   {
    "duration": 0,
    "start_time": "2023-04-21T08:01:10.767Z"
   },
   {
    "duration": 0,
    "start_time": "2023-04-21T08:01:10.768Z"
   },
   {
    "duration": 0,
    "start_time": "2023-04-21T08:01:10.769Z"
   },
   {
    "duration": 0,
    "start_time": "2023-04-21T08:01:10.770Z"
   },
   {
    "duration": 0,
    "start_time": "2023-04-21T08:01:10.772Z"
   },
   {
    "duration": 0,
    "start_time": "2023-04-21T08:01:10.773Z"
   },
   {
    "duration": 0,
    "start_time": "2023-04-21T08:01:10.775Z"
   },
   {
    "duration": 0,
    "start_time": "2023-04-21T08:01:10.776Z"
   },
   {
    "duration": 0,
    "start_time": "2023-04-21T08:01:10.777Z"
   },
   {
    "duration": 0,
    "start_time": "2023-04-21T08:01:10.778Z"
   },
   {
    "duration": 0,
    "start_time": "2023-04-21T08:01:10.780Z"
   },
   {
    "duration": 0,
    "start_time": "2023-04-21T08:01:10.781Z"
   },
   {
    "duration": 40,
    "start_time": "2023-04-21T08:02:06.887Z"
   },
   {
    "duration": 79,
    "start_time": "2023-04-21T08:06:24.903Z"
   },
   {
    "duration": 3,
    "start_time": "2023-04-21T08:06:53.541Z"
   },
   {
    "duration": 66,
    "start_time": "2023-04-21T08:06:53.546Z"
   },
   {
    "duration": 16,
    "start_time": "2023-04-21T08:06:53.614Z"
   },
   {
    "duration": 50,
    "start_time": "2023-04-21T08:06:53.632Z"
   },
   {
    "duration": 21,
    "start_time": "2023-04-21T08:06:53.685Z"
   },
   {
    "duration": 10,
    "start_time": "2023-04-21T08:06:53.708Z"
   },
   {
    "duration": 8,
    "start_time": "2023-04-21T08:06:53.719Z"
   },
   {
    "duration": 29,
    "start_time": "2023-04-21T08:06:53.728Z"
   },
   {
    "duration": 6,
    "start_time": "2023-04-21T08:06:53.759Z"
   },
   {
    "duration": 23,
    "start_time": "2023-04-21T08:06:53.767Z"
   },
   {
    "duration": 12,
    "start_time": "2023-04-21T08:06:53.792Z"
   },
   {
    "duration": 22,
    "start_time": "2023-04-21T08:06:53.806Z"
   },
   {
    "duration": 38,
    "start_time": "2023-04-21T08:06:53.831Z"
   },
   {
    "duration": 5,
    "start_time": "2023-04-21T08:06:53.870Z"
   },
   {
    "duration": 27,
    "start_time": "2023-04-21T08:06:53.876Z"
   },
   {
    "duration": 10,
    "start_time": "2023-04-21T08:06:53.906Z"
   },
   {
    "duration": 58,
    "start_time": "2023-04-21T08:06:53.919Z"
   },
   {
    "duration": 26,
    "start_time": "2023-04-21T08:06:53.980Z"
   },
   {
    "duration": 254,
    "start_time": "2023-04-21T08:06:54.008Z"
   },
   {
    "duration": 12,
    "start_time": "2023-04-21T08:06:54.264Z"
   },
   {
    "duration": 22,
    "start_time": "2023-04-21T08:06:54.278Z"
   },
   {
    "duration": 229,
    "start_time": "2023-04-21T08:06:54.302Z"
   },
   {
    "duration": 24,
    "start_time": "2023-04-21T08:06:54.533Z"
   },
   {
    "duration": 122,
    "start_time": "2023-04-21T08:06:54.558Z"
   },
   {
    "duration": 22,
    "start_time": "2023-04-21T08:06:54.682Z"
   },
   {
    "duration": 241,
    "start_time": "2023-04-21T08:06:54.705Z"
   },
   {
    "duration": 25,
    "start_time": "2023-04-21T08:06:54.948Z"
   },
   {
    "duration": 334,
    "start_time": "2023-04-21T08:06:54.975Z"
   },
   {
    "duration": 7,
    "start_time": "2023-04-21T08:06:55.313Z"
   },
   {
    "duration": 38,
    "start_time": "2023-04-21T08:06:55.322Z"
   },
   {
    "duration": 77,
    "start_time": "2023-04-21T08:06:55.362Z"
   },
   {
    "duration": 0,
    "start_time": "2023-04-21T08:06:55.441Z"
   },
   {
    "duration": 0,
    "start_time": "2023-04-21T08:06:55.442Z"
   },
   {
    "duration": 0,
    "start_time": "2023-04-21T08:06:55.445Z"
   },
   {
    "duration": 0,
    "start_time": "2023-04-21T08:06:55.446Z"
   },
   {
    "duration": 0,
    "start_time": "2023-04-21T08:06:55.448Z"
   },
   {
    "duration": 0,
    "start_time": "2023-04-21T08:06:55.450Z"
   },
   {
    "duration": 0,
    "start_time": "2023-04-21T08:06:55.451Z"
   },
   {
    "duration": 0,
    "start_time": "2023-04-21T08:06:55.453Z"
   },
   {
    "duration": 0,
    "start_time": "2023-04-21T08:06:55.455Z"
   },
   {
    "duration": 0,
    "start_time": "2023-04-21T08:06:55.457Z"
   },
   {
    "duration": 0,
    "start_time": "2023-04-21T08:06:55.458Z"
   },
   {
    "duration": 0,
    "start_time": "2023-04-21T08:06:55.460Z"
   },
   {
    "duration": 0,
    "start_time": "2023-04-21T08:06:55.462Z"
   },
   {
    "duration": 0,
    "start_time": "2023-04-21T08:06:55.463Z"
   },
   {
    "duration": 0,
    "start_time": "2023-04-21T08:06:55.464Z"
   },
   {
    "duration": 0,
    "start_time": "2023-04-21T08:06:55.466Z"
   },
   {
    "duration": 0,
    "start_time": "2023-04-21T08:06:55.467Z"
   },
   {
    "duration": 0,
    "start_time": "2023-04-21T08:06:55.469Z"
   },
   {
    "duration": 0,
    "start_time": "2023-04-21T08:06:55.471Z"
   },
   {
    "duration": 54,
    "start_time": "2023-04-21T08:07:21.471Z"
   },
   {
    "duration": 26,
    "start_time": "2023-04-21T08:08:04.679Z"
   },
   {
    "duration": 35,
    "start_time": "2023-04-21T08:08:16.232Z"
   },
   {
    "duration": 85,
    "start_time": "2023-04-21T08:08:52.615Z"
   },
   {
    "duration": 26,
    "start_time": "2023-04-21T08:09:18.080Z"
   },
   {
    "duration": 2062,
    "start_time": "2023-04-21T08:09:23.007Z"
   },
   {
    "duration": 1825,
    "start_time": "2023-04-21T08:12:39.831Z"
   },
   {
    "duration": 2438,
    "start_time": "2023-04-21T08:13:36.313Z"
   },
   {
    "duration": 2876,
    "start_time": "2023-04-21T08:14:12.168Z"
   },
   {
    "duration": 2087,
    "start_time": "2023-04-21T08:14:18.585Z"
   },
   {
    "duration": 1927,
    "start_time": "2023-04-21T08:14:32.999Z"
   },
   {
    "duration": 4,
    "start_time": "2023-04-21T08:15:21.909Z"
   },
   {
    "duration": 70,
    "start_time": "2023-04-21T08:15:21.915Z"
   },
   {
    "duration": 25,
    "start_time": "2023-04-21T08:15:21.987Z"
   },
   {
    "duration": 44,
    "start_time": "2023-04-21T08:15:22.016Z"
   },
   {
    "duration": 25,
    "start_time": "2023-04-21T08:15:22.063Z"
   },
   {
    "duration": 13,
    "start_time": "2023-04-21T08:15:22.091Z"
   },
   {
    "duration": 7,
    "start_time": "2023-04-21T08:15:22.106Z"
   },
   {
    "duration": 45,
    "start_time": "2023-04-21T08:15:22.115Z"
   },
   {
    "duration": 15,
    "start_time": "2023-04-21T08:15:22.163Z"
   },
   {
    "duration": 24,
    "start_time": "2023-04-21T08:15:22.180Z"
   },
   {
    "duration": 24,
    "start_time": "2023-04-21T08:15:22.207Z"
   },
   {
    "duration": 54,
    "start_time": "2023-04-21T08:15:22.234Z"
   },
   {
    "duration": 22,
    "start_time": "2023-04-21T08:15:22.291Z"
   },
   {
    "duration": 8,
    "start_time": "2023-04-21T08:15:22.317Z"
   },
   {
    "duration": 59,
    "start_time": "2023-04-21T08:15:22.327Z"
   },
   {
    "duration": 11,
    "start_time": "2023-04-21T08:15:22.388Z"
   },
   {
    "duration": 24,
    "start_time": "2023-04-21T08:15:22.401Z"
   },
   {
    "duration": 54,
    "start_time": "2023-04-21T08:15:22.427Z"
   },
   {
    "duration": 253,
    "start_time": "2023-04-21T08:15:22.483Z"
   },
   {
    "duration": 19,
    "start_time": "2023-04-21T08:15:22.738Z"
   },
   {
    "duration": 24,
    "start_time": "2023-04-21T08:15:22.760Z"
   },
   {
    "duration": 261,
    "start_time": "2023-04-21T08:15:22.786Z"
   },
   {
    "duration": 14,
    "start_time": "2023-04-21T08:15:23.056Z"
   },
   {
    "duration": 160,
    "start_time": "2023-04-21T08:15:23.074Z"
   },
   {
    "duration": 32,
    "start_time": "2023-04-21T08:15:23.237Z"
   },
   {
    "duration": 249,
    "start_time": "2023-04-21T08:15:23.270Z"
   },
   {
    "duration": 39,
    "start_time": "2023-04-21T08:15:23.521Z"
   },
   {
    "duration": 355,
    "start_time": "2023-04-21T08:15:23.562Z"
   },
   {
    "duration": 9,
    "start_time": "2023-04-21T08:15:23.919Z"
   },
   {
    "duration": 50,
    "start_time": "2023-04-21T08:15:23.931Z"
   },
   {
    "duration": 2083,
    "start_time": "2023-04-21T08:15:23.987Z"
   },
   {
    "duration": 19,
    "start_time": "2023-04-21T08:15:26.072Z"
   },
   {
    "duration": 6,
    "start_time": "2023-04-21T08:15:26.093Z"
   },
   {
    "duration": 208,
    "start_time": "2023-04-21T08:15:26.100Z"
   },
   {
    "duration": 25,
    "start_time": "2023-04-21T08:15:26.310Z"
   },
   {
    "duration": 20,
    "start_time": "2023-04-21T08:15:26.338Z"
   },
   {
    "duration": 106,
    "start_time": "2023-04-21T08:15:26.360Z"
   },
   {
    "duration": 10720,
    "start_time": "2023-04-21T08:15:26.468Z"
   },
   {
    "duration": 66,
    "start_time": "2023-04-21T08:15:37.195Z"
   },
   {
    "duration": 505,
    "start_time": "2023-04-21T08:15:37.264Z"
   },
   {
    "duration": 11,
    "start_time": "2023-04-21T08:15:37.771Z"
   },
   {
    "duration": 26,
    "start_time": "2023-04-21T08:15:37.784Z"
   },
   {
    "duration": 153,
    "start_time": "2023-04-21T08:15:37.813Z"
   },
   {
    "duration": 12,
    "start_time": "2023-04-21T08:15:37.969Z"
   },
   {
    "duration": 11,
    "start_time": "2023-04-21T08:15:37.983Z"
   },
   {
    "duration": 1596,
    "start_time": "2023-04-21T08:15:37.997Z"
   },
   {
    "duration": 22,
    "start_time": "2023-04-21T08:15:39.595Z"
   },
   {
    "duration": 62,
    "start_time": "2023-04-21T08:15:39.620Z"
   },
   {
    "duration": 272,
    "start_time": "2023-04-21T08:15:39.685Z"
   },
   {
    "duration": 18,
    "start_time": "2023-04-21T08:15:39.959Z"
   },
   {
    "duration": 264,
    "start_time": "2023-04-21T08:16:26.014Z"
   },
   {
    "duration": 223,
    "start_time": "2023-04-21T08:16:54.303Z"
   },
   {
    "duration": 35,
    "start_time": "2023-04-21T08:17:27.518Z"
   },
   {
    "duration": 246,
    "start_time": "2023-04-21T08:17:48.058Z"
   },
   {
    "duration": 230,
    "start_time": "2023-04-21T08:18:07.157Z"
   },
   {
    "duration": 24,
    "start_time": "2023-04-21T08:18:24.803Z"
   },
   {
    "duration": 32,
    "start_time": "2023-04-21T08:18:36.478Z"
   },
   {
    "duration": 289,
    "start_time": "2023-04-21T08:18:57.378Z"
   },
   {
    "duration": 24,
    "start_time": "2023-04-21T08:19:24.877Z"
   },
   {
    "duration": 264,
    "start_time": "2023-04-21T08:19:41.411Z"
   },
   {
    "duration": 23,
    "start_time": "2023-04-21T08:19:58.525Z"
   },
   {
    "duration": 25,
    "start_time": "2023-04-21T08:20:41.821Z"
   },
   {
    "duration": 30,
    "start_time": "2023-04-21T08:20:50.581Z"
   },
   {
    "duration": 21,
    "start_time": "2023-04-21T08:21:17.838Z"
   },
   {
    "duration": 375,
    "start_time": "2023-04-21T08:22:51.038Z"
   },
   {
    "duration": 19,
    "start_time": "2023-04-21T08:23:21.285Z"
   },
   {
    "duration": 13,
    "start_time": "2023-04-21T08:23:47.917Z"
   },
   {
    "duration": 18,
    "start_time": "2023-04-21T08:23:56.149Z"
   },
   {
    "duration": 18,
    "start_time": "2023-04-21T08:24:08.683Z"
   },
   {
    "duration": 264,
    "start_time": "2023-04-21T08:24:55.614Z"
   },
   {
    "duration": 288,
    "start_time": "2023-04-21T08:26:17.061Z"
   },
   {
    "duration": 4,
    "start_time": "2023-04-21T09:01:36.912Z"
   },
   {
    "duration": 65,
    "start_time": "2023-04-21T09:01:36.918Z"
   },
   {
    "duration": 15,
    "start_time": "2023-04-21T09:01:36.985Z"
   },
   {
    "duration": 21,
    "start_time": "2023-04-21T09:01:37.003Z"
   },
   {
    "duration": 49,
    "start_time": "2023-04-21T09:01:37.026Z"
   },
   {
    "duration": 14,
    "start_time": "2023-04-21T09:01:37.077Z"
   },
   {
    "duration": 6,
    "start_time": "2023-04-21T09:01:37.093Z"
   },
   {
    "duration": 6,
    "start_time": "2023-04-21T09:01:37.101Z"
   },
   {
    "duration": 7,
    "start_time": "2023-04-21T09:01:37.109Z"
   },
   {
    "duration": 46,
    "start_time": "2023-04-21T09:01:37.120Z"
   },
   {
    "duration": 12,
    "start_time": "2023-04-21T09:01:37.168Z"
   },
   {
    "duration": 21,
    "start_time": "2023-04-21T09:01:37.181Z"
   },
   {
    "duration": 15,
    "start_time": "2023-04-21T09:01:37.203Z"
   },
   {
    "duration": 39,
    "start_time": "2023-04-21T09:01:37.219Z"
   },
   {
    "duration": 21,
    "start_time": "2023-04-21T09:01:37.260Z"
   },
   {
    "duration": 8,
    "start_time": "2023-04-21T09:01:37.283Z"
   },
   {
    "duration": 18,
    "start_time": "2023-04-21T09:01:37.292Z"
   },
   {
    "duration": 17,
    "start_time": "2023-04-21T09:01:37.312Z"
   },
   {
    "duration": 215,
    "start_time": "2023-04-21T09:01:37.330Z"
   },
   {
    "duration": 12,
    "start_time": "2023-04-21T09:01:37.547Z"
   },
   {
    "duration": 23,
    "start_time": "2023-04-21T09:01:37.560Z"
   },
   {
    "duration": 196,
    "start_time": "2023-04-21T09:01:37.585Z"
   },
   {
    "duration": 15,
    "start_time": "2023-04-21T09:01:37.783Z"
   },
   {
    "duration": 118,
    "start_time": "2023-04-21T09:01:37.799Z"
   },
   {
    "duration": 22,
    "start_time": "2023-04-21T09:01:37.919Z"
   },
   {
    "duration": 204,
    "start_time": "2023-04-21T09:01:37.955Z"
   },
   {
    "duration": 20,
    "start_time": "2023-04-21T09:01:38.160Z"
   },
   {
    "duration": 295,
    "start_time": "2023-04-21T09:01:38.184Z"
   },
   {
    "duration": 7,
    "start_time": "2023-04-21T09:01:38.480Z"
   },
   {
    "duration": 36,
    "start_time": "2023-04-21T09:01:38.489Z"
   },
   {
    "duration": 1803,
    "start_time": "2023-04-21T09:01:38.527Z"
   },
   {
    "duration": 25,
    "start_time": "2023-04-21T09:01:40.332Z"
   },
   {
    "duration": 5,
    "start_time": "2023-04-21T09:01:40.359Z"
   },
   {
    "duration": 225,
    "start_time": "2023-04-21T09:01:40.366Z"
   },
   {
    "duration": 18,
    "start_time": "2023-04-21T09:01:40.592Z"
   },
   {
    "duration": 5,
    "start_time": "2023-04-21T09:01:40.612Z"
   },
   {
    "duration": 122,
    "start_time": "2023-04-21T09:01:40.619Z"
   },
   {
    "duration": 9574,
    "start_time": "2023-04-21T09:01:40.743Z"
   },
   {
    "duration": 43,
    "start_time": "2023-04-21T09:01:50.318Z"
   },
   {
    "duration": 481,
    "start_time": "2023-04-21T09:01:50.363Z"
   },
   {
    "duration": 16,
    "start_time": "2023-04-21T09:01:50.846Z"
   },
   {
    "duration": 25,
    "start_time": "2023-04-21T09:01:50.864Z"
   },
   {
    "duration": 123,
    "start_time": "2023-04-21T09:01:50.891Z"
   },
   {
    "duration": 11,
    "start_time": "2023-04-21T09:01:51.015Z"
   },
   {
    "duration": 52,
    "start_time": "2023-04-21T09:01:51.027Z"
   },
   {
    "duration": 1687,
    "start_time": "2023-04-21T09:01:51.081Z"
   },
   {
    "duration": 17,
    "start_time": "2023-04-21T09:01:52.770Z"
   },
   {
    "duration": 21,
    "start_time": "2023-04-21T09:01:52.789Z"
   },
   {
    "duration": 286,
    "start_time": "2023-04-21T09:01:52.857Z"
   },
   {
    "duration": 20,
    "start_time": "2023-04-21T09:01:53.145Z"
   },
   {
    "duration": 3,
    "start_time": "2023-04-21T09:06:40.475Z"
   },
   {
    "duration": 67,
    "start_time": "2023-04-21T09:06:40.479Z"
   },
   {
    "duration": 15,
    "start_time": "2023-04-21T09:06:40.547Z"
   },
   {
    "duration": 25,
    "start_time": "2023-04-21T09:06:40.564Z"
   },
   {
    "duration": 14,
    "start_time": "2023-04-21T09:06:40.591Z"
   },
   {
    "duration": 10,
    "start_time": "2023-04-21T09:06:40.606Z"
   },
   {
    "duration": 5,
    "start_time": "2023-04-21T09:06:40.617Z"
   },
   {
    "duration": 35,
    "start_time": "2023-04-21T09:06:40.624Z"
   },
   {
    "duration": 8,
    "start_time": "2023-04-21T09:06:40.662Z"
   },
   {
    "duration": 18,
    "start_time": "2023-04-21T09:06:40.671Z"
   },
   {
    "duration": 18,
    "start_time": "2023-04-21T09:06:40.690Z"
   },
   {
    "duration": 20,
    "start_time": "2023-04-21T09:06:40.710Z"
   },
   {
    "duration": 34,
    "start_time": "2023-04-21T09:06:40.732Z"
   },
   {
    "duration": 5,
    "start_time": "2023-04-21T09:06:40.768Z"
   },
   {
    "duration": 18,
    "start_time": "2023-04-21T09:06:40.775Z"
   },
   {
    "duration": 12,
    "start_time": "2023-04-21T09:06:40.795Z"
   },
   {
    "duration": 21,
    "start_time": "2023-04-21T09:06:40.809Z"
   },
   {
    "duration": 33,
    "start_time": "2023-04-21T09:06:40.832Z"
   },
   {
    "duration": 189,
    "start_time": "2023-04-21T09:06:40.867Z"
   },
   {
    "duration": 10,
    "start_time": "2023-04-21T09:06:41.059Z"
   },
   {
    "duration": 23,
    "start_time": "2023-04-21T09:06:41.071Z"
   },
   {
    "duration": 212,
    "start_time": "2023-04-21T09:06:41.096Z"
   },
   {
    "duration": 17,
    "start_time": "2023-04-21T09:06:41.310Z"
   },
   {
    "duration": 110,
    "start_time": "2023-04-21T09:06:41.330Z"
   },
   {
    "duration": 31,
    "start_time": "2023-04-21T09:06:41.442Z"
   },
   {
    "duration": 207,
    "start_time": "2023-04-21T09:06:41.475Z"
   },
   {
    "duration": 19,
    "start_time": "2023-04-21T09:06:41.684Z"
   },
   {
    "duration": 298,
    "start_time": "2023-04-21T09:06:41.704Z"
   },
   {
    "duration": 6,
    "start_time": "2023-04-21T09:06:42.004Z"
   },
   {
    "duration": 21,
    "start_time": "2023-04-21T09:06:42.011Z"
   },
   {
    "duration": 1780,
    "start_time": "2023-04-21T09:06:42.034Z"
   },
   {
    "duration": 18,
    "start_time": "2023-04-21T09:06:43.816Z"
   },
   {
    "duration": 4,
    "start_time": "2023-04-21T09:06:43.836Z"
   },
   {
    "duration": 285,
    "start_time": "2023-04-21T09:06:43.856Z"
   },
   {
    "duration": 34,
    "start_time": "2023-04-21T09:06:44.143Z"
   },
   {
    "duration": 20,
    "start_time": "2023-04-21T09:06:44.179Z"
   },
   {
    "duration": 128,
    "start_time": "2023-04-21T09:06:44.202Z"
   },
   {
    "duration": 10863,
    "start_time": "2023-04-21T09:06:44.332Z"
   },
   {
    "duration": 18,
    "start_time": "2023-04-21T09:06:55.196Z"
   },
   {
    "duration": 426,
    "start_time": "2023-04-21T09:06:55.215Z"
   },
   {
    "duration": 17,
    "start_time": "2023-04-21T09:06:55.643Z"
   },
   {
    "duration": 22,
    "start_time": "2023-04-21T09:06:55.661Z"
   },
   {
    "duration": 107,
    "start_time": "2023-04-21T09:06:55.684Z"
   },
   {
    "duration": 8,
    "start_time": "2023-04-21T09:06:55.792Z"
   },
   {
    "duration": 10,
    "start_time": "2023-04-21T09:06:55.802Z"
   },
   {
    "duration": 1458,
    "start_time": "2023-04-21T09:06:55.813Z"
   },
   {
    "duration": 13,
    "start_time": "2023-04-21T09:06:57.272Z"
   },
   {
    "duration": 33,
    "start_time": "2023-04-21T09:06:57.287Z"
   },
   {
    "duration": 254,
    "start_time": "2023-04-21T09:06:57.322Z"
   },
   {
    "duration": 16,
    "start_time": "2023-04-21T09:06:57.577Z"
   },
   {
    "duration": 4,
    "start_time": "2023-04-21T09:08:45.303Z"
   },
   {
    "duration": 70,
    "start_time": "2023-04-21T09:08:45.309Z"
   },
   {
    "duration": 19,
    "start_time": "2023-04-21T09:08:45.381Z"
   },
   {
    "duration": 53,
    "start_time": "2023-04-21T09:08:45.403Z"
   },
   {
    "duration": 23,
    "start_time": "2023-04-21T09:08:45.458Z"
   },
   {
    "duration": 17,
    "start_time": "2023-04-21T09:08:45.483Z"
   },
   {
    "duration": 18,
    "start_time": "2023-04-21T09:08:45.501Z"
   },
   {
    "duration": 38,
    "start_time": "2023-04-21T09:08:45.522Z"
   },
   {
    "duration": 8,
    "start_time": "2023-04-21T09:08:45.564Z"
   },
   {
    "duration": 40,
    "start_time": "2023-04-21T09:08:45.574Z"
   },
   {
    "duration": 40,
    "start_time": "2023-04-21T09:08:45.617Z"
   },
   {
    "duration": 31,
    "start_time": "2023-04-21T09:08:45.659Z"
   },
   {
    "duration": 27,
    "start_time": "2023-04-21T09:08:45.692Z"
   },
   {
    "duration": 33,
    "start_time": "2023-04-21T09:08:45.723Z"
   },
   {
    "duration": 41,
    "start_time": "2023-04-21T09:08:45.759Z"
   },
   {
    "duration": 27,
    "start_time": "2023-04-21T09:08:45.803Z"
   },
   {
    "duration": 31,
    "start_time": "2023-04-21T09:08:45.834Z"
   },
   {
    "duration": 25,
    "start_time": "2023-04-21T09:08:45.867Z"
   },
   {
    "duration": 269,
    "start_time": "2023-04-21T09:08:45.894Z"
   },
   {
    "duration": 13,
    "start_time": "2023-04-21T09:08:46.166Z"
   },
   {
    "duration": 36,
    "start_time": "2023-04-21T09:08:46.181Z"
   },
   {
    "duration": 230,
    "start_time": "2023-04-21T09:08:46.219Z"
   },
   {
    "duration": 13,
    "start_time": "2023-04-21T09:08:46.456Z"
   },
   {
    "duration": 126,
    "start_time": "2023-04-21T09:08:46.473Z"
   },
   {
    "duration": 22,
    "start_time": "2023-04-21T09:08:46.601Z"
   },
   {
    "duration": 246,
    "start_time": "2023-04-21T09:08:46.625Z"
   },
   {
    "duration": 22,
    "start_time": "2023-04-21T09:08:46.873Z"
   },
   {
    "duration": 337,
    "start_time": "2023-04-21T09:08:46.897Z"
   },
   {
    "duration": 7,
    "start_time": "2023-04-21T09:08:47.236Z"
   },
   {
    "duration": 34,
    "start_time": "2023-04-21T09:08:47.245Z"
   },
   {
    "duration": 2042,
    "start_time": "2023-04-21T09:08:47.282Z"
   },
   {
    "duration": 32,
    "start_time": "2023-04-21T09:08:49.326Z"
   },
   {
    "duration": 6,
    "start_time": "2023-04-21T09:08:49.360Z"
   },
   {
    "duration": 258,
    "start_time": "2023-04-21T09:08:49.368Z"
   },
   {
    "duration": 29,
    "start_time": "2023-04-21T09:08:49.628Z"
   },
   {
    "duration": 6,
    "start_time": "2023-04-21T09:08:49.659Z"
   },
   {
    "duration": 133,
    "start_time": "2023-04-21T09:08:49.667Z"
   },
   {
    "duration": 9594,
    "start_time": "2023-04-21T09:08:49.801Z"
   },
   {
    "duration": 22,
    "start_time": "2023-04-21T09:08:59.398Z"
   },
   {
    "duration": 421,
    "start_time": "2023-04-21T09:08:59.455Z"
   },
   {
    "duration": 9,
    "start_time": "2023-04-21T09:08:59.878Z"
   },
   {
    "duration": 21,
    "start_time": "2023-04-21T09:08:59.889Z"
   },
   {
    "duration": 108,
    "start_time": "2023-04-21T09:08:59.912Z"
   },
   {
    "duration": 8,
    "start_time": "2023-04-21T09:09:00.023Z"
   },
   {
    "duration": 24,
    "start_time": "2023-04-21T09:09:00.033Z"
   }
  ],
  "kernelspec": {
   "display_name": "Python 3 (ipykernel)",
   "language": "python",
   "name": "python3"
  },
  "language_info": {
   "codemirror_mode": {
    "name": "ipython",
    "version": 3
   },
   "file_extension": ".py",
   "mimetype": "text/x-python",
   "name": "python",
   "nbconvert_exporter": "python",
   "pygments_lexer": "ipython3",
   "version": "3.10.9"
  },
  "toc": {
   "base_numbering": 1,
   "nav_menu": {},
   "number_sections": true,
   "sideBar": true,
   "skip_h1_title": true,
   "title_cell": "Table of Contents",
   "title_sidebar": "Contents",
   "toc_cell": false,
   "toc_position": {},
   "toc_section_display": true,
   "toc_window_display": false
  }
 },
 "nbformat": 4,
 "nbformat_minor": 2
}

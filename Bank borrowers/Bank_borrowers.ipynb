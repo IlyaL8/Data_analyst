{
 "cells": [
  {
   "cell_type": "markdown",
   "id": "2c04b9b5",
   "metadata": {
    "deletable": false,
    "editable": false,
    "id": "c81daeeb"
   },
   "source": [
    "# Исследование надежности заемщиков\n"
   ]
  },
  {
   "cell_type": "markdown",
   "id": "19dba28d",
   "metadata": {
    "deletable": false,
    "editable": false,
    "id": "827c20bf"
   },
   "source": [
    "Во второй части проекта вы выполните шаги 3 и 4. Их вручную проверит ревьюер.\n",
    "Чтобы вам не пришлось писать код заново для шагов 1 и 2, мы добавили авторские решения в ячейки с кодом. \n",
    "\n"
   ]
  },
  {
   "cell_type": "markdown",
   "id": "ab705b04",
   "metadata": {
    "deletable": false,
    "editable": false,
    "id": "744d7639"
   },
   "source": [
    "## Откройте таблицу и изучите общую информацию о данных"
   ]
  },
  {
   "cell_type": "markdown",
   "id": "2e32dc8b",
   "metadata": {
    "deletable": false,
    "editable": false,
    "id": "e7a14c31"
   },
   "source": [
    "**Задание 1. Импортируйте библиотеку pandas. Считайте данные из csv-файла в датафрейм и сохраните в переменную `data`. Путь к файлу:**\n",
    "\n",
    "`/datasets/data.csv`"
   ]
  },
  {
   "cell_type": "code",
   "execution_count": 2,
   "id": "47346971",
   "metadata": {
    "deletable": false,
    "id": "7bcf75c9"
   },
   "outputs": [],
   "source": [
    "import pandas as pd\n",
    "\n",
    "try:\n",
    "    data = pd.read_csv('/datasets/data.csv')\n",
    "except:\n",
    "    data = pd.read_csv('https://code.s3.yandex.net/datasets/data.csv')"
   ]
  },
  {
   "cell_type": "markdown",
   "id": "adb511cd",
   "metadata": {
    "deletable": false,
    "editable": false,
    "id": "b8038fe3"
   },
   "source": [
    "**Задание 2. Выведите первые 20 строчек датафрейма `data` на экран.**"
   ]
  },
  {
   "cell_type": "code",
   "execution_count": 3,
   "id": "60136e8f",
   "metadata": {
    "deletable": false,
    "id": "2a7cab99",
    "outputId": "1a8f3ef2-d323-4ec2-ddf7-89670b5944c4"
   },
   "outputs": [
    {
     "data": {
      "text/html": [
       "<div>\n",
       "<style scoped>\n",
       "    .dataframe tbody tr th:only-of-type {\n",
       "        vertical-align: middle;\n",
       "    }\n",
       "\n",
       "    .dataframe tbody tr th {\n",
       "        vertical-align: top;\n",
       "    }\n",
       "\n",
       "    .dataframe thead th {\n",
       "        text-align: right;\n",
       "    }\n",
       "</style>\n",
       "<table border=\"1\" class=\"dataframe\">\n",
       "  <thead>\n",
       "    <tr style=\"text-align: right;\">\n",
       "      <th></th>\n",
       "      <th>children</th>\n",
       "      <th>days_employed</th>\n",
       "      <th>dob_years</th>\n",
       "      <th>education</th>\n",
       "      <th>education_id</th>\n",
       "      <th>family_status</th>\n",
       "      <th>family_status_id</th>\n",
       "      <th>gender</th>\n",
       "      <th>income_type</th>\n",
       "      <th>debt</th>\n",
       "      <th>total_income</th>\n",
       "      <th>purpose</th>\n",
       "    </tr>\n",
       "  </thead>\n",
       "  <tbody>\n",
       "    <tr>\n",
       "      <th>0</th>\n",
       "      <td>1</td>\n",
       "      <td>-8437.673028</td>\n",
       "      <td>42</td>\n",
       "      <td>высшее</td>\n",
       "      <td>0</td>\n",
       "      <td>женат / замужем</td>\n",
       "      <td>0</td>\n",
       "      <td>F</td>\n",
       "      <td>сотрудник</td>\n",
       "      <td>0</td>\n",
       "      <td>253875.639453</td>\n",
       "      <td>покупка жилья</td>\n",
       "    </tr>\n",
       "    <tr>\n",
       "      <th>1</th>\n",
       "      <td>1</td>\n",
       "      <td>-4024.803754</td>\n",
       "      <td>36</td>\n",
       "      <td>среднее</td>\n",
       "      <td>1</td>\n",
       "      <td>женат / замужем</td>\n",
       "      <td>0</td>\n",
       "      <td>F</td>\n",
       "      <td>сотрудник</td>\n",
       "      <td>0</td>\n",
       "      <td>112080.014102</td>\n",
       "      <td>приобретение автомобиля</td>\n",
       "    </tr>\n",
       "    <tr>\n",
       "      <th>2</th>\n",
       "      <td>0</td>\n",
       "      <td>-5623.422610</td>\n",
       "      <td>33</td>\n",
       "      <td>Среднее</td>\n",
       "      <td>1</td>\n",
       "      <td>женат / замужем</td>\n",
       "      <td>0</td>\n",
       "      <td>M</td>\n",
       "      <td>сотрудник</td>\n",
       "      <td>0</td>\n",
       "      <td>145885.952297</td>\n",
       "      <td>покупка жилья</td>\n",
       "    </tr>\n",
       "    <tr>\n",
       "      <th>3</th>\n",
       "      <td>3</td>\n",
       "      <td>-4124.747207</td>\n",
       "      <td>32</td>\n",
       "      <td>среднее</td>\n",
       "      <td>1</td>\n",
       "      <td>женат / замужем</td>\n",
       "      <td>0</td>\n",
       "      <td>M</td>\n",
       "      <td>сотрудник</td>\n",
       "      <td>0</td>\n",
       "      <td>267628.550329</td>\n",
       "      <td>дополнительное образование</td>\n",
       "    </tr>\n",
       "    <tr>\n",
       "      <th>4</th>\n",
       "      <td>0</td>\n",
       "      <td>340266.072047</td>\n",
       "      <td>53</td>\n",
       "      <td>среднее</td>\n",
       "      <td>1</td>\n",
       "      <td>гражданский брак</td>\n",
       "      <td>1</td>\n",
       "      <td>F</td>\n",
       "      <td>пенсионер</td>\n",
       "      <td>0</td>\n",
       "      <td>158616.077870</td>\n",
       "      <td>сыграть свадьбу</td>\n",
       "    </tr>\n",
       "    <tr>\n",
       "      <th>5</th>\n",
       "      <td>0</td>\n",
       "      <td>-926.185831</td>\n",
       "      <td>27</td>\n",
       "      <td>высшее</td>\n",
       "      <td>0</td>\n",
       "      <td>гражданский брак</td>\n",
       "      <td>1</td>\n",
       "      <td>M</td>\n",
       "      <td>компаньон</td>\n",
       "      <td>0</td>\n",
       "      <td>255763.565419</td>\n",
       "      <td>покупка жилья</td>\n",
       "    </tr>\n",
       "    <tr>\n",
       "      <th>6</th>\n",
       "      <td>0</td>\n",
       "      <td>-2879.202052</td>\n",
       "      <td>43</td>\n",
       "      <td>высшее</td>\n",
       "      <td>0</td>\n",
       "      <td>женат / замужем</td>\n",
       "      <td>0</td>\n",
       "      <td>F</td>\n",
       "      <td>компаньон</td>\n",
       "      <td>0</td>\n",
       "      <td>240525.971920</td>\n",
       "      <td>операции с жильем</td>\n",
       "    </tr>\n",
       "    <tr>\n",
       "      <th>7</th>\n",
       "      <td>0</td>\n",
       "      <td>-152.779569</td>\n",
       "      <td>50</td>\n",
       "      <td>СРЕДНЕЕ</td>\n",
       "      <td>1</td>\n",
       "      <td>женат / замужем</td>\n",
       "      <td>0</td>\n",
       "      <td>M</td>\n",
       "      <td>сотрудник</td>\n",
       "      <td>0</td>\n",
       "      <td>135823.934197</td>\n",
       "      <td>образование</td>\n",
       "    </tr>\n",
       "    <tr>\n",
       "      <th>8</th>\n",
       "      <td>2</td>\n",
       "      <td>-6929.865299</td>\n",
       "      <td>35</td>\n",
       "      <td>ВЫСШЕЕ</td>\n",
       "      <td>0</td>\n",
       "      <td>гражданский брак</td>\n",
       "      <td>1</td>\n",
       "      <td>F</td>\n",
       "      <td>сотрудник</td>\n",
       "      <td>0</td>\n",
       "      <td>95856.832424</td>\n",
       "      <td>на проведение свадьбы</td>\n",
       "    </tr>\n",
       "    <tr>\n",
       "      <th>9</th>\n",
       "      <td>0</td>\n",
       "      <td>-2188.756445</td>\n",
       "      <td>41</td>\n",
       "      <td>среднее</td>\n",
       "      <td>1</td>\n",
       "      <td>женат / замужем</td>\n",
       "      <td>0</td>\n",
       "      <td>M</td>\n",
       "      <td>сотрудник</td>\n",
       "      <td>0</td>\n",
       "      <td>144425.938277</td>\n",
       "      <td>покупка жилья для семьи</td>\n",
       "    </tr>\n",
       "    <tr>\n",
       "      <th>10</th>\n",
       "      <td>2</td>\n",
       "      <td>-4171.483647</td>\n",
       "      <td>36</td>\n",
       "      <td>высшее</td>\n",
       "      <td>0</td>\n",
       "      <td>женат / замужем</td>\n",
       "      <td>0</td>\n",
       "      <td>M</td>\n",
       "      <td>компаньон</td>\n",
       "      <td>0</td>\n",
       "      <td>113943.491460</td>\n",
       "      <td>покупка недвижимости</td>\n",
       "    </tr>\n",
       "    <tr>\n",
       "      <th>11</th>\n",
       "      <td>0</td>\n",
       "      <td>-792.701887</td>\n",
       "      <td>40</td>\n",
       "      <td>среднее</td>\n",
       "      <td>1</td>\n",
       "      <td>женат / замужем</td>\n",
       "      <td>0</td>\n",
       "      <td>F</td>\n",
       "      <td>сотрудник</td>\n",
       "      <td>0</td>\n",
       "      <td>77069.234271</td>\n",
       "      <td>покупка коммерческой недвижимости</td>\n",
       "    </tr>\n",
       "    <tr>\n",
       "      <th>12</th>\n",
       "      <td>0</td>\n",
       "      <td>NaN</td>\n",
       "      <td>65</td>\n",
       "      <td>среднее</td>\n",
       "      <td>1</td>\n",
       "      <td>гражданский брак</td>\n",
       "      <td>1</td>\n",
       "      <td>M</td>\n",
       "      <td>пенсионер</td>\n",
       "      <td>0</td>\n",
       "      <td>NaN</td>\n",
       "      <td>сыграть свадьбу</td>\n",
       "    </tr>\n",
       "    <tr>\n",
       "      <th>13</th>\n",
       "      <td>0</td>\n",
       "      <td>-1846.641941</td>\n",
       "      <td>54</td>\n",
       "      <td>неоконченное высшее</td>\n",
       "      <td>2</td>\n",
       "      <td>женат / замужем</td>\n",
       "      <td>0</td>\n",
       "      <td>F</td>\n",
       "      <td>сотрудник</td>\n",
       "      <td>0</td>\n",
       "      <td>130458.228857</td>\n",
       "      <td>приобретение автомобиля</td>\n",
       "    </tr>\n",
       "    <tr>\n",
       "      <th>14</th>\n",
       "      <td>0</td>\n",
       "      <td>-1844.956182</td>\n",
       "      <td>56</td>\n",
       "      <td>высшее</td>\n",
       "      <td>0</td>\n",
       "      <td>гражданский брак</td>\n",
       "      <td>1</td>\n",
       "      <td>F</td>\n",
       "      <td>компаньон</td>\n",
       "      <td>1</td>\n",
       "      <td>165127.911772</td>\n",
       "      <td>покупка жилой недвижимости</td>\n",
       "    </tr>\n",
       "    <tr>\n",
       "      <th>15</th>\n",
       "      <td>1</td>\n",
       "      <td>-972.364419</td>\n",
       "      <td>26</td>\n",
       "      <td>среднее</td>\n",
       "      <td>1</td>\n",
       "      <td>женат / замужем</td>\n",
       "      <td>0</td>\n",
       "      <td>F</td>\n",
       "      <td>сотрудник</td>\n",
       "      <td>0</td>\n",
       "      <td>116820.904450</td>\n",
       "      <td>строительство собственной недвижимости</td>\n",
       "    </tr>\n",
       "    <tr>\n",
       "      <th>16</th>\n",
       "      <td>0</td>\n",
       "      <td>-1719.934226</td>\n",
       "      <td>35</td>\n",
       "      <td>среднее</td>\n",
       "      <td>1</td>\n",
       "      <td>женат / замужем</td>\n",
       "      <td>0</td>\n",
       "      <td>F</td>\n",
       "      <td>сотрудник</td>\n",
       "      <td>0</td>\n",
       "      <td>289202.704229</td>\n",
       "      <td>недвижимость</td>\n",
       "    </tr>\n",
       "    <tr>\n",
       "      <th>17</th>\n",
       "      <td>0</td>\n",
       "      <td>-2369.999720</td>\n",
       "      <td>33</td>\n",
       "      <td>высшее</td>\n",
       "      <td>0</td>\n",
       "      <td>гражданский брак</td>\n",
       "      <td>1</td>\n",
       "      <td>M</td>\n",
       "      <td>сотрудник</td>\n",
       "      <td>0</td>\n",
       "      <td>90410.586745</td>\n",
       "      <td>строительство недвижимости</td>\n",
       "    </tr>\n",
       "    <tr>\n",
       "      <th>18</th>\n",
       "      <td>0</td>\n",
       "      <td>400281.136913</td>\n",
       "      <td>53</td>\n",
       "      <td>среднее</td>\n",
       "      <td>1</td>\n",
       "      <td>вдовец / вдова</td>\n",
       "      <td>2</td>\n",
       "      <td>F</td>\n",
       "      <td>пенсионер</td>\n",
       "      <td>0</td>\n",
       "      <td>56823.777243</td>\n",
       "      <td>на покупку подержанного автомобиля</td>\n",
       "    </tr>\n",
       "    <tr>\n",
       "      <th>19</th>\n",
       "      <td>0</td>\n",
       "      <td>-10038.818549</td>\n",
       "      <td>48</td>\n",
       "      <td>СРЕДНЕЕ</td>\n",
       "      <td>1</td>\n",
       "      <td>в разводе</td>\n",
       "      <td>3</td>\n",
       "      <td>F</td>\n",
       "      <td>сотрудник</td>\n",
       "      <td>0</td>\n",
       "      <td>242831.107982</td>\n",
       "      <td>на покупку своего автомобиля</td>\n",
       "    </tr>\n",
       "  </tbody>\n",
       "</table>\n",
       "</div>"
      ],
      "text/plain": [
       "    children  days_employed  dob_years            education  education_id  \\\n",
       "0          1   -8437.673028         42               высшее             0   \n",
       "1          1   -4024.803754         36              среднее             1   \n",
       "2          0   -5623.422610         33              Среднее             1   \n",
       "3          3   -4124.747207         32              среднее             1   \n",
       "4          0  340266.072047         53              среднее             1   \n",
       "5          0    -926.185831         27               высшее             0   \n",
       "6          0   -2879.202052         43               высшее             0   \n",
       "7          0    -152.779569         50              СРЕДНЕЕ             1   \n",
       "8          2   -6929.865299         35               ВЫСШЕЕ             0   \n",
       "9          0   -2188.756445         41              среднее             1   \n",
       "10         2   -4171.483647         36               высшее             0   \n",
       "11         0    -792.701887         40              среднее             1   \n",
       "12         0            NaN         65              среднее             1   \n",
       "13         0   -1846.641941         54  неоконченное высшее             2   \n",
       "14         0   -1844.956182         56               высшее             0   \n",
       "15         1    -972.364419         26              среднее             1   \n",
       "16         0   -1719.934226         35              среднее             1   \n",
       "17         0   -2369.999720         33               высшее             0   \n",
       "18         0  400281.136913         53              среднее             1   \n",
       "19         0  -10038.818549         48              СРЕДНЕЕ             1   \n",
       "\n",
       "       family_status  family_status_id gender income_type  debt  \\\n",
       "0    женат / замужем                 0      F   сотрудник     0   \n",
       "1    женат / замужем                 0      F   сотрудник     0   \n",
       "2    женат / замужем                 0      M   сотрудник     0   \n",
       "3    женат / замужем                 0      M   сотрудник     0   \n",
       "4   гражданский брак                 1      F   пенсионер     0   \n",
       "5   гражданский брак                 1      M   компаньон     0   \n",
       "6    женат / замужем                 0      F   компаньон     0   \n",
       "7    женат / замужем                 0      M   сотрудник     0   \n",
       "8   гражданский брак                 1      F   сотрудник     0   \n",
       "9    женат / замужем                 0      M   сотрудник     0   \n",
       "10   женат / замужем                 0      M   компаньон     0   \n",
       "11   женат / замужем                 0      F   сотрудник     0   \n",
       "12  гражданский брак                 1      M   пенсионер     0   \n",
       "13   женат / замужем                 0      F   сотрудник     0   \n",
       "14  гражданский брак                 1      F   компаньон     1   \n",
       "15   женат / замужем                 0      F   сотрудник     0   \n",
       "16   женат / замужем                 0      F   сотрудник     0   \n",
       "17  гражданский брак                 1      M   сотрудник     0   \n",
       "18    вдовец / вдова                 2      F   пенсионер     0   \n",
       "19         в разводе                 3      F   сотрудник     0   \n",
       "\n",
       "     total_income                                 purpose  \n",
       "0   253875.639453                           покупка жилья  \n",
       "1   112080.014102                 приобретение автомобиля  \n",
       "2   145885.952297                           покупка жилья  \n",
       "3   267628.550329              дополнительное образование  \n",
       "4   158616.077870                         сыграть свадьбу  \n",
       "5   255763.565419                           покупка жилья  \n",
       "6   240525.971920                       операции с жильем  \n",
       "7   135823.934197                             образование  \n",
       "8    95856.832424                   на проведение свадьбы  \n",
       "9   144425.938277                 покупка жилья для семьи  \n",
       "10  113943.491460                    покупка недвижимости  \n",
       "11   77069.234271       покупка коммерческой недвижимости  \n",
       "12            NaN                         сыграть свадьбу  \n",
       "13  130458.228857                 приобретение автомобиля  \n",
       "14  165127.911772              покупка жилой недвижимости  \n",
       "15  116820.904450  строительство собственной недвижимости  \n",
       "16  289202.704229                            недвижимость  \n",
       "17   90410.586745              строительство недвижимости  \n",
       "18   56823.777243      на покупку подержанного автомобиля  \n",
       "19  242831.107982            на покупку своего автомобиля  "
      ]
     },
     "execution_count": 3,
     "metadata": {},
     "output_type": "execute_result"
    }
   ],
   "source": [
    "data.head(20)"
   ]
  },
  {
   "cell_type": "markdown",
   "id": "1c123e26",
   "metadata": {
    "deletable": false,
    "editable": false,
    "id": "1c12e233"
   },
   "source": [
    "**Задание 3. Выведите основную информацию о датафрейме с помощью метода `info()`.**"
   ]
  },
  {
   "cell_type": "code",
   "execution_count": 4,
   "id": "7ea2f097",
   "metadata": {
    "deletable": false,
    "id": "2b757bca",
    "outputId": "15376089-8dad-46c9-b520-c05248d43158"
   },
   "outputs": [
    {
     "name": "stdout",
     "output_type": "stream",
     "text": [
      "<class 'pandas.core.frame.DataFrame'>\n",
      "RangeIndex: 21525 entries, 0 to 21524\n",
      "Data columns (total 12 columns):\n",
      " #   Column            Non-Null Count  Dtype  \n",
      "---  ------            --------------  -----  \n",
      " 0   children          21525 non-null  int64  \n",
      " 1   days_employed     19351 non-null  float64\n",
      " 2   dob_years         21525 non-null  int64  \n",
      " 3   education         21525 non-null  object \n",
      " 4   education_id      21525 non-null  int64  \n",
      " 5   family_status     21525 non-null  object \n",
      " 6   family_status_id  21525 non-null  int64  \n",
      " 7   gender            21525 non-null  object \n",
      " 8   income_type       21525 non-null  object \n",
      " 9   debt              21525 non-null  int64  \n",
      " 10  total_income      19351 non-null  float64\n",
      " 11  purpose           21525 non-null  object \n",
      "dtypes: float64(2), int64(5), object(5)\n",
      "memory usage: 2.0+ MB\n"
     ]
    }
   ],
   "source": [
    "data.info()"
   ]
  },
  {
   "cell_type": "markdown",
   "id": "5c77111d",
   "metadata": {
    "deletable": false,
    "editable": false,
    "id": "333ec665"
   },
   "source": [
    "## Предобработка данных"
   ]
  },
  {
   "cell_type": "markdown",
   "id": "f5e78b48",
   "metadata": {
    "deletable": false,
    "editable": false,
    "id": "02d92d53"
   },
   "source": [
    "### Удаление пропусков"
   ]
  },
  {
   "cell_type": "markdown",
   "id": "c403a807",
   "metadata": {
    "deletable": false,
    "editable": false,
    "id": "cd84967c"
   },
   "source": [
    "**Задание 4. Выведите количество пропущенных значений для каждого столбца. Используйте комбинацию двух методов.**"
   ]
  },
  {
   "cell_type": "code",
   "execution_count": 5,
   "id": "2c816ce9",
   "metadata": {
    "deletable": false,
    "id": "7f9b2309",
    "outputId": "81f4d817-781c-465c-ed15-91ce4446810d"
   },
   "outputs": [
    {
     "data": {
      "text/plain": [
       "children               0\n",
       "days_employed       2174\n",
       "dob_years              0\n",
       "education              0\n",
       "education_id           0\n",
       "family_status          0\n",
       "family_status_id       0\n",
       "gender                 0\n",
       "income_type            0\n",
       "debt                   0\n",
       "total_income        2174\n",
       "purpose                0\n",
       "dtype: int64"
      ]
     },
     "execution_count": 5,
     "metadata": {},
     "output_type": "execute_result"
    }
   ],
   "source": [
    "data.isna().sum()"
   ]
  },
  {
   "cell_type": "markdown",
   "id": "e810b007",
   "metadata": {
    "deletable": false,
    "editable": false,
    "id": "db86e27b"
   },
   "source": [
    "**Задание 5. В двух столбцах есть пропущенные значения. Один из них — `days_employed`. Пропуски в этом столбце вы обработаете на следующем этапе. Другой столбец с пропущенными значениями — `total_income` — хранит данные о доходах. На сумму дохода сильнее всего влияет тип занятости, поэтому заполнить пропуски в этом столбце нужно медианным значением по каждому типу из столбца `income_type`. Например, у человека с типом занятости `сотрудник` пропуск в столбце `total_income` должен быть заполнен медианным доходом среди всех записей с тем же типом.**"
   ]
  },
  {
   "cell_type": "code",
   "execution_count": 6,
   "id": "9c7e0bc7",
   "metadata": {
    "deletable": false,
    "id": "42006a93"
   },
   "outputs": [],
   "source": [
    "for t in data['income_type'].unique():\n",
    "    data.loc[(data['income_type'] == t) & (data['total_income'].isna()), 'total_income'] = \\\n",
    "    data.loc[(data['income_type'] == t), 'total_income'].median()"
   ]
  },
  {
   "cell_type": "markdown",
   "id": "08f0e87c",
   "metadata": {
    "deletable": false,
    "editable": false,
    "id": "89da5ece"
   },
   "source": [
    "### Обработка аномальных значений"
   ]
  },
  {
   "cell_type": "markdown",
   "id": "8b2c915f",
   "metadata": {
    "deletable": false,
    "editable": false,
    "id": "57964554"
   },
   "source": [
    "**Задание 6. В данных могут встречаться артефакты (аномалии) — значения, которые не отражают действительность и появились по какой-то ошибке. таким артефактом будет отрицательное количество дней трудового стажа в столбце `days_employed`. Для реальных данных это нормально. Обработайте значения в этом столбце: замените все отрицательные значения положительными с помощью метода `abs()`.**"
   ]
  },
  {
   "cell_type": "code",
   "execution_count": 7,
   "id": "c21af546",
   "metadata": {
    "deletable": false,
    "id": "f6f055bf"
   },
   "outputs": [],
   "source": [
    "data['days_employed'] = data['days_employed'].abs()"
   ]
  },
  {
   "cell_type": "markdown",
   "id": "54b8a1ae",
   "metadata": {
    "deletable": false,
    "editable": false,
    "id": "6107dd2f"
   },
   "source": [
    "**Задание 7. Для каждого типа занятости выведите медианное значение трудового стажа `days_employed` в днях.**"
   ]
  },
  {
   "cell_type": "code",
   "execution_count": 8,
   "id": "19565673",
   "metadata": {
    "deletable": false,
    "id": "85a5faf6",
    "outputId": "801ef80e-522b-4668-f34e-565af7432bcf"
   },
   "outputs": [
    {
     "data": {
      "text/plain": [
       "income_type\n",
       "безработный        366413.652744\n",
       "в декрете            3296.759962\n",
       "госслужащий          2689.368353\n",
       "компаньон            1547.382223\n",
       "пенсионер          365213.306266\n",
       "предприниматель       520.848083\n",
       "сотрудник            1574.202821\n",
       "студент               578.751554\n",
       "Name: days_employed, dtype: float64"
      ]
     },
     "execution_count": 8,
     "metadata": {},
     "output_type": "execute_result"
    }
   ],
   "source": [
    "data.groupby('income_type')['days_employed'].agg('median')"
   ]
  },
  {
   "cell_type": "markdown",
   "id": "8f5e0074",
   "metadata": {
    "deletable": false,
    "editable": false,
    "id": "38d1a030"
   },
   "source": [
    "У двух типов (безработные и пенсионеры) получатся аномально большие значения. Исправить такие значения сложно, поэтому оставьте их как есть. Тем более этот столбец не понадобится вам для исследования."
   ]
  },
  {
   "cell_type": "markdown",
   "id": "3851bcea",
   "metadata": {
    "deletable": false,
    "editable": false,
    "id": "d8a9f147"
   },
   "source": [
    "**Задание 8. Выведите перечень уникальных значений столбца `children`.**"
   ]
  },
  {
   "cell_type": "code",
   "execution_count": 9,
   "id": "9d66717d",
   "metadata": {
    "deletable": false,
    "id": "ef5056eb",
    "outputId": "6975b15c-7f95-4697-d16d-a0c79b657b03"
   },
   "outputs": [
    {
     "data": {
      "text/plain": [
       "array([ 1,  0,  3,  2, -1,  4, 20,  5])"
      ]
     },
     "execution_count": 9,
     "metadata": {},
     "output_type": "execute_result"
    }
   ],
   "source": [
    "data['children'].unique()"
   ]
  },
  {
   "cell_type": "markdown",
   "id": "13e53f68",
   "metadata": {
    "deletable": false,
    "editable": false,
    "id": "40b9ebf2"
   },
   "source": [
    "**Задание 9. В столбце `children` есть два аномальных значения. Удалите строки, в которых встречаются такие аномальные значения из датафрейма `data`.**"
   ]
  },
  {
   "cell_type": "code",
   "execution_count": 10,
   "id": "09a06407",
   "metadata": {
    "deletable": false,
    "id": "3ff9801d"
   },
   "outputs": [],
   "source": [
    "data = data[(data['children'] != -1) & (data['children'] != 20)]"
   ]
  },
  {
   "cell_type": "markdown",
   "id": "a16ab85f",
   "metadata": {
    "deletable": false,
    "editable": false,
    "id": "bbc4d0ce"
   },
   "source": [
    "**Задание 10. Ещё раз выведите перечень уникальных значений столбца `children`, чтобы убедиться, что артефакты удалены.**"
   ]
  },
  {
   "cell_type": "code",
   "execution_count": 11,
   "id": "cb593e15",
   "metadata": {
    "deletable": false,
    "id": "ad4fa8b7",
    "outputId": "b2097101-d49d-44d9-901b-32a65c9463d1"
   },
   "outputs": [
    {
     "data": {
      "text/plain": [
       "array([1, 0, 3, 2, 4, 5])"
      ]
     },
     "execution_count": 11,
     "metadata": {},
     "output_type": "execute_result"
    }
   ],
   "source": [
    "data['children'].unique()"
   ]
  },
  {
   "cell_type": "markdown",
   "id": "9e0de523",
   "metadata": {
    "deletable": false,
    "editable": false,
    "id": "75440b63"
   },
   "source": [
    "### Удаление пропусков (продолжение)"
   ]
  },
  {
   "cell_type": "markdown",
   "id": "426429fd",
   "metadata": {
    "deletable": false,
    "editable": false,
    "id": "f4ea573f"
   },
   "source": [
    "**Задание 11. Заполните пропуски в столбце `days_employed` медианными значениями по каждого типа занятости `income_type`.**"
   ]
  },
  {
   "cell_type": "code",
   "execution_count": 12,
   "id": "c64c60a2",
   "metadata": {
    "deletable": false,
    "id": "af6b1a7e"
   },
   "outputs": [],
   "source": [
    "for t in data['income_type'].unique():\n",
    "    data.loc[(data['income_type'] == t) & (data['days_employed'].isna()), 'days_employed'] = \\\n",
    "    data.loc[(data['income_type'] == t), 'days_employed'].median()"
   ]
  },
  {
   "cell_type": "markdown",
   "id": "f69a5159",
   "metadata": {
    "deletable": false,
    "editable": false,
    "id": "2753f40d"
   },
   "source": [
    "**Задание 12. Убедитесь, что все пропуски заполнены. Проверьте себя и ещё раз выведите количество пропущенных значений для каждого столбца с помощью двух методов.**"
   ]
  },
  {
   "cell_type": "code",
   "execution_count": 13,
   "id": "55345420",
   "metadata": {
    "deletable": false,
    "id": "55f78bc2",
    "outputId": "8da1e4e1-358e-4e87-98c9-f261bce0a7b2"
   },
   "outputs": [
    {
     "data": {
      "text/plain": [
       "children            0\n",
       "days_employed       0\n",
       "dob_years           0\n",
       "education           0\n",
       "education_id        0\n",
       "family_status       0\n",
       "family_status_id    0\n",
       "gender              0\n",
       "income_type         0\n",
       "debt                0\n",
       "total_income        0\n",
       "purpose             0\n",
       "dtype: int64"
      ]
     },
     "execution_count": 13,
     "metadata": {},
     "output_type": "execute_result"
    }
   ],
   "source": [
    "data.isna().sum()"
   ]
  },
  {
   "cell_type": "markdown",
   "id": "0f5c5059",
   "metadata": {
    "deletable": false,
    "editable": false,
    "id": "ddc81e43"
   },
   "source": [
    "### Изменение типов данных"
   ]
  },
  {
   "cell_type": "markdown",
   "id": "ad7c6137",
   "metadata": {
    "deletable": false,
    "editable": false,
    "id": "42d19d24"
   },
   "source": [
    "**Задание 13. Замените вещественный тип данных в столбце `total_income` на целочисленный с помощью метода `astype()`.**"
   ]
  },
  {
   "cell_type": "code",
   "execution_count": 14,
   "id": "9eaab78b",
   "metadata": {
    "deletable": false,
    "id": "920b65ad"
   },
   "outputs": [],
   "source": [
    "data['total_income'] = data['total_income'].astype(int)"
   ]
  },
  {
   "cell_type": "markdown",
   "id": "8c04e87a",
   "metadata": {
    "deletable": false,
    "editable": false,
    "id": "80c420ba"
   },
   "source": [
    "### Обработка дубликатов"
   ]
  },
  {
   "cell_type": "markdown",
   "id": "ea311175",
   "metadata": {
    "deletable": false,
    "editable": false
   },
   "source": [
    "**Задание 14. Обработайте неявные дубликаты в столбце `education`. В этом столбце есть одни и те же значения, но записанные по-разному: с использованием заглавных и строчных букв. Приведите их к нижнему регистру. Проверьте остальные столбцы.**"
   ]
  },
  {
   "cell_type": "code",
   "execution_count": 15,
   "id": "8be8f0cc",
   "metadata": {
    "deletable": false
   },
   "outputs": [],
   "source": [
    "data['education'] = data['education'].str.lower()"
   ]
  },
  {
   "cell_type": "markdown",
   "id": "41d8593a",
   "metadata": {
    "deletable": false,
    "editable": false,
    "id": "dc587695"
   },
   "source": [
    "**Задание 15. Выведите на экран количество строк-дубликатов в данных. Если такие строки присутствуют, удалите их.**"
   ]
  },
  {
   "cell_type": "code",
   "execution_count": 16,
   "id": "00dbbbbf",
   "metadata": {
    "deletable": false,
    "id": "3ee445e4",
    "outputId": "9684deba-1934-42d1-99e1-cda61740f822"
   },
   "outputs": [
    {
     "data": {
      "text/plain": [
       "71"
      ]
     },
     "execution_count": 16,
     "metadata": {},
     "output_type": "execute_result"
    }
   ],
   "source": [
    "data.duplicated().sum()"
   ]
  },
  {
   "cell_type": "code",
   "execution_count": 17,
   "id": "59ebbedc",
   "metadata": {
    "deletable": false,
    "id": "8575fe05"
   },
   "outputs": [
    {
     "data": {
      "text/html": [
       "<div>\n",
       "<style scoped>\n",
       "    .dataframe tbody tr th:only-of-type {\n",
       "        vertical-align: middle;\n",
       "    }\n",
       "\n",
       "    .dataframe tbody tr th {\n",
       "        vertical-align: top;\n",
       "    }\n",
       "\n",
       "    .dataframe thead th {\n",
       "        text-align: right;\n",
       "    }\n",
       "</style>\n",
       "<table border=\"1\" class=\"dataframe\">\n",
       "  <thead>\n",
       "    <tr style=\"text-align: right;\">\n",
       "      <th></th>\n",
       "      <th>children</th>\n",
       "      <th>days_employed</th>\n",
       "      <th>dob_years</th>\n",
       "      <th>education</th>\n",
       "      <th>education_id</th>\n",
       "      <th>family_status</th>\n",
       "      <th>family_status_id</th>\n",
       "      <th>gender</th>\n",
       "      <th>income_type</th>\n",
       "      <th>debt</th>\n",
       "      <th>total_income</th>\n",
       "      <th>purpose</th>\n",
       "    </tr>\n",
       "  </thead>\n",
       "  <tbody>\n",
       "    <tr>\n",
       "      <th>0</th>\n",
       "      <td>1</td>\n",
       "      <td>8437.673028</td>\n",
       "      <td>42</td>\n",
       "      <td>высшее</td>\n",
       "      <td>0</td>\n",
       "      <td>женат / замужем</td>\n",
       "      <td>0</td>\n",
       "      <td>F</td>\n",
       "      <td>сотрудник</td>\n",
       "      <td>0</td>\n",
       "      <td>253875</td>\n",
       "      <td>покупка жилья</td>\n",
       "    </tr>\n",
       "    <tr>\n",
       "      <th>1</th>\n",
       "      <td>1</td>\n",
       "      <td>4024.803754</td>\n",
       "      <td>36</td>\n",
       "      <td>среднее</td>\n",
       "      <td>1</td>\n",
       "      <td>женат / замужем</td>\n",
       "      <td>0</td>\n",
       "      <td>F</td>\n",
       "      <td>сотрудник</td>\n",
       "      <td>0</td>\n",
       "      <td>112080</td>\n",
       "      <td>приобретение автомобиля</td>\n",
       "    </tr>\n",
       "    <tr>\n",
       "      <th>2</th>\n",
       "      <td>0</td>\n",
       "      <td>5623.422610</td>\n",
       "      <td>33</td>\n",
       "      <td>среднее</td>\n",
       "      <td>1</td>\n",
       "      <td>женат / замужем</td>\n",
       "      <td>0</td>\n",
       "      <td>M</td>\n",
       "      <td>сотрудник</td>\n",
       "      <td>0</td>\n",
       "      <td>145885</td>\n",
       "      <td>покупка жилья</td>\n",
       "    </tr>\n",
       "    <tr>\n",
       "      <th>3</th>\n",
       "      <td>3</td>\n",
       "      <td>4124.747207</td>\n",
       "      <td>32</td>\n",
       "      <td>среднее</td>\n",
       "      <td>1</td>\n",
       "      <td>женат / замужем</td>\n",
       "      <td>0</td>\n",
       "      <td>M</td>\n",
       "      <td>сотрудник</td>\n",
       "      <td>0</td>\n",
       "      <td>267628</td>\n",
       "      <td>дополнительное образование</td>\n",
       "    </tr>\n",
       "    <tr>\n",
       "      <th>4</th>\n",
       "      <td>0</td>\n",
       "      <td>340266.072047</td>\n",
       "      <td>53</td>\n",
       "      <td>среднее</td>\n",
       "      <td>1</td>\n",
       "      <td>гражданский брак</td>\n",
       "      <td>1</td>\n",
       "      <td>F</td>\n",
       "      <td>пенсионер</td>\n",
       "      <td>0</td>\n",
       "      <td>158616</td>\n",
       "      <td>сыграть свадьбу</td>\n",
       "    </tr>\n",
       "    <tr>\n",
       "      <th>...</th>\n",
       "      <td>...</td>\n",
       "      <td>...</td>\n",
       "      <td>...</td>\n",
       "      <td>...</td>\n",
       "      <td>...</td>\n",
       "      <td>...</td>\n",
       "      <td>...</td>\n",
       "      <td>...</td>\n",
       "      <td>...</td>\n",
       "      <td>...</td>\n",
       "      <td>...</td>\n",
       "      <td>...</td>\n",
       "    </tr>\n",
       "    <tr>\n",
       "      <th>21520</th>\n",
       "      <td>1</td>\n",
       "      <td>4529.316663</td>\n",
       "      <td>43</td>\n",
       "      <td>среднее</td>\n",
       "      <td>1</td>\n",
       "      <td>гражданский брак</td>\n",
       "      <td>1</td>\n",
       "      <td>F</td>\n",
       "      <td>компаньон</td>\n",
       "      <td>0</td>\n",
       "      <td>224791</td>\n",
       "      <td>операции с жильем</td>\n",
       "    </tr>\n",
       "    <tr>\n",
       "      <th>21521</th>\n",
       "      <td>0</td>\n",
       "      <td>343937.404131</td>\n",
       "      <td>67</td>\n",
       "      <td>среднее</td>\n",
       "      <td>1</td>\n",
       "      <td>женат / замужем</td>\n",
       "      <td>0</td>\n",
       "      <td>F</td>\n",
       "      <td>пенсионер</td>\n",
       "      <td>0</td>\n",
       "      <td>155999</td>\n",
       "      <td>сделка с автомобилем</td>\n",
       "    </tr>\n",
       "    <tr>\n",
       "      <th>21522</th>\n",
       "      <td>1</td>\n",
       "      <td>2113.346888</td>\n",
       "      <td>38</td>\n",
       "      <td>среднее</td>\n",
       "      <td>1</td>\n",
       "      <td>гражданский брак</td>\n",
       "      <td>1</td>\n",
       "      <td>M</td>\n",
       "      <td>сотрудник</td>\n",
       "      <td>1</td>\n",
       "      <td>89672</td>\n",
       "      <td>недвижимость</td>\n",
       "    </tr>\n",
       "    <tr>\n",
       "      <th>21523</th>\n",
       "      <td>3</td>\n",
       "      <td>3112.481705</td>\n",
       "      <td>38</td>\n",
       "      <td>среднее</td>\n",
       "      <td>1</td>\n",
       "      <td>женат / замужем</td>\n",
       "      <td>0</td>\n",
       "      <td>M</td>\n",
       "      <td>сотрудник</td>\n",
       "      <td>1</td>\n",
       "      <td>244093</td>\n",
       "      <td>на покупку своего автомобиля</td>\n",
       "    </tr>\n",
       "    <tr>\n",
       "      <th>21524</th>\n",
       "      <td>2</td>\n",
       "      <td>1984.507589</td>\n",
       "      <td>40</td>\n",
       "      <td>среднее</td>\n",
       "      <td>1</td>\n",
       "      <td>женат / замужем</td>\n",
       "      <td>0</td>\n",
       "      <td>F</td>\n",
       "      <td>сотрудник</td>\n",
       "      <td>0</td>\n",
       "      <td>82047</td>\n",
       "      <td>на покупку автомобиля</td>\n",
       "    </tr>\n",
       "  </tbody>\n",
       "</table>\n",
       "<p>21331 rows × 12 columns</p>\n",
       "</div>"
      ],
      "text/plain": [
       "       children  days_employed  dob_years education  education_id  \\\n",
       "0             1    8437.673028         42    высшее             0   \n",
       "1             1    4024.803754         36   среднее             1   \n",
       "2             0    5623.422610         33   среднее             1   \n",
       "3             3    4124.747207         32   среднее             1   \n",
       "4             0  340266.072047         53   среднее             1   \n",
       "...         ...            ...        ...       ...           ...   \n",
       "21520         1    4529.316663         43   среднее             1   \n",
       "21521         0  343937.404131         67   среднее             1   \n",
       "21522         1    2113.346888         38   среднее             1   \n",
       "21523         3    3112.481705         38   среднее             1   \n",
       "21524         2    1984.507589         40   среднее             1   \n",
       "\n",
       "          family_status  family_status_id gender income_type  debt  \\\n",
       "0       женат / замужем                 0      F   сотрудник     0   \n",
       "1       женат / замужем                 0      F   сотрудник     0   \n",
       "2       женат / замужем                 0      M   сотрудник     0   \n",
       "3       женат / замужем                 0      M   сотрудник     0   \n",
       "4      гражданский брак                 1      F   пенсионер     0   \n",
       "...                 ...               ...    ...         ...   ...   \n",
       "21520  гражданский брак                 1      F   компаньон     0   \n",
       "21521   женат / замужем                 0      F   пенсионер     0   \n",
       "21522  гражданский брак                 1      M   сотрудник     1   \n",
       "21523   женат / замужем                 0      M   сотрудник     1   \n",
       "21524   женат / замужем                 0      F   сотрудник     0   \n",
       "\n",
       "       total_income                       purpose  \n",
       "0            253875                 покупка жилья  \n",
       "1            112080       приобретение автомобиля  \n",
       "2            145885                 покупка жилья  \n",
       "3            267628    дополнительное образование  \n",
       "4            158616               сыграть свадьбу  \n",
       "...             ...                           ...  \n",
       "21520        224791             операции с жильем  \n",
       "21521        155999          сделка с автомобилем  \n",
       "21522         89672                  недвижимость  \n",
       "21523        244093  на покупку своего автомобиля  \n",
       "21524         82047         на покупку автомобиля  \n",
       "\n",
       "[21331 rows x 12 columns]"
      ]
     },
     "execution_count": 17,
     "metadata": {},
     "output_type": "execute_result"
    }
   ],
   "source": [
    "data = data.drop_duplicates()\n",
    "data"
   ]
  },
  {
   "cell_type": "markdown",
   "id": "8c24bfbb",
   "metadata": {
    "deletable": false,
    "editable": false,
    "id": "9904cf55"
   },
   "source": [
    "### Категоризация данных"
   ]
  },
  {
   "cell_type": "markdown",
   "id": "604e55be",
   "metadata": {
    "deletable": false,
    "editable": false,
    "id": "72fcc8a2"
   },
   "source": [
    "**Задание 16. На основании диапазонов, указанных ниже, создайте в датафрейме `data` столбец `total_income_category` с категориями:**\n",
    "\n",
    "- 0–30000 — `'E'`;\n",
    "- 30001–50000 — `'D'`;\n",
    "- 50001–200000 — `'C'`;\n",
    "- 200001–1000000 — `'B'`;\n",
    "- 1000001 и выше — `'A'`.\n",
    "\n",
    "\n",
    "**Например, кредитополучателю с доходом 25000 нужно назначить категорию `'E'`, а клиенту, получающему 235000, — `'B'`. Используйте собственную функцию с именем `categorize_income()` и метод `apply()`.**"
   ]
  },
  {
   "cell_type": "code",
   "execution_count": 18,
   "id": "3e1c5f1f",
   "metadata": {
    "deletable": false,
    "id": "e1771346"
   },
   "outputs": [],
   "source": [
    "def categorize_income(income):\n",
    "    try:\n",
    "        if 0 <= income <= 30000:\n",
    "            return 'E'\n",
    "        elif 30001 <= income <= 50000:\n",
    "            return 'D'\n",
    "        elif 50001 <= income <= 200000:\n",
    "            return 'C'\n",
    "        elif 200001 <= income <= 1000000:\n",
    "            return 'B'\n",
    "        elif income >= 1000001:\n",
    "            return 'A'\n",
    "    except:\n",
    "        pass"
   ]
  },
  {
   "cell_type": "code",
   "execution_count": 19,
   "id": "6c90e7af",
   "metadata": {
    "deletable": false,
    "id": "d5f3586d"
   },
   "outputs": [],
   "source": [
    "data['total_income_category'] = data['total_income'].apply(categorize_income)"
   ]
  },
  {
   "cell_type": "markdown",
   "id": "14d67e55",
   "metadata": {
    "deletable": false,
    "editable": false,
    "id": "dde49b5c"
   },
   "source": [
    "**Задание 17. Выведите на экран перечень уникальных целей взятия кредита из столбца `purpose`.**"
   ]
  },
  {
   "cell_type": "code",
   "execution_count": 20,
   "id": "a9867e60",
   "metadata": {
    "deletable": false,
    "id": "f67ce9b3",
    "outputId": "673c12d9-7d7e-4ae0-9812-c622c89dd244"
   },
   "outputs": [
    {
     "data": {
      "text/plain": [
       "array(['покупка жилья', 'приобретение автомобиля',\n",
       "       'дополнительное образование', 'сыграть свадьбу',\n",
       "       'операции с жильем', 'образование', 'на проведение свадьбы',\n",
       "       'покупка жилья для семьи', 'покупка недвижимости',\n",
       "       'покупка коммерческой недвижимости', 'покупка жилой недвижимости',\n",
       "       'строительство собственной недвижимости', 'недвижимость',\n",
       "       'строительство недвижимости', 'на покупку подержанного автомобиля',\n",
       "       'на покупку своего автомобиля',\n",
       "       'операции с коммерческой недвижимостью',\n",
       "       'строительство жилой недвижимости', 'жилье',\n",
       "       'операции со своей недвижимостью', 'автомобили',\n",
       "       'заняться образованием', 'сделка с подержанным автомобилем',\n",
       "       'получение образования', 'автомобиль', 'свадьба',\n",
       "       'получение дополнительного образования', 'покупка своего жилья',\n",
       "       'операции с недвижимостью', 'получение высшего образования',\n",
       "       'свой автомобиль', 'сделка с автомобилем',\n",
       "       'профильное образование', 'высшее образование',\n",
       "       'покупка жилья для сдачи', 'на покупку автомобиля', 'ремонт жилью',\n",
       "       'заняться высшим образованием'], dtype=object)"
      ]
     },
     "execution_count": 20,
     "metadata": {},
     "output_type": "execute_result"
    }
   ],
   "source": [
    "data['purpose'].unique()"
   ]
  },
  {
   "cell_type": "markdown",
   "id": "424d1889",
   "metadata": {
    "deletable": false,
    "editable": false,
    "id": "85d0aef0"
   },
   "source": [
    "**Задание 18. Создайте функцию, которая на основании данных из столбца `purpose` сформирует новый столбец `purpose_category`, в который войдут следующие категории:**\n",
    "\n",
    "- `'операции с автомобилем'`,\n",
    "- `'операции с недвижимостью'`,\n",
    "- `'проведение свадьбы'`,\n",
    "- `'получение образования'`.\n",
    "\n",
    "**Например, если в столбце `purpose` находится подстрока `'на покупку автомобиля'`, то в столбце `purpose_category` должна появиться строка `'операции с автомобилем'`.**\n",
    "\n",
    "**Используйте собственную функцию с именем `categorize_purpose()` и метод `apply()`. Изучите данные в столбце `purpose` и определите, какие подстроки помогут вам правильно определить категорию.**"
   ]
  },
  {
   "cell_type": "code",
   "execution_count": 21,
   "id": "42c96df6",
   "metadata": {
    "deletable": false,
    "id": "e149fab4"
   },
   "outputs": [],
   "source": [
    "def categorize_purpose(row):\n",
    "    try:\n",
    "        if 'автом' in row:\n",
    "            return 'операции с автомобилем'\n",
    "        elif 'жил' in row or 'недвиж' in row:\n",
    "            return 'операции с недвижимостью'\n",
    "        elif 'свад' in row:\n",
    "            return 'проведение свадьбы'\n",
    "        elif 'образов' in row:\n",
    "            return 'получение образования'\n",
    "    except:\n",
    "        return 'нет категории'"
   ]
  },
  {
   "cell_type": "code",
   "execution_count": 22,
   "id": "9e914aee",
   "metadata": {
    "deletable": false,
    "id": "bf36e69b"
   },
   "outputs": [],
   "source": [
    "data['purpose_category'] = data['purpose'].apply(categorize_purpose)"
   ]
  },
  {
   "cell_type": "markdown",
   "id": "76b16565",
   "metadata": {
    "deletable": false,
    "editable": false,
    "id": "09b242bf"
   },
   "source": [
    "### Шаг 3. Исследуйте данные и ответьте на вопросы"
   ]
  },
  {
   "cell_type": "markdown",
   "id": "623e4635",
   "metadata": {
    "deletable": false,
    "editable": false,
    "id": "c5d66278"
   },
   "source": [
    "#### 3.1 Есть ли зависимость между количеством детей и возвратом кредита в срок?"
   ]
  },
  {
   "cell_type": "code",
   "execution_count": 23,
   "id": "03af5285",
   "metadata": {
    "deletable": false,
    "id": "2cacfc4a"
   },
   "outputs": [
    {
     "data": {
      "text/html": [
       "<div>\n",
       "<style scoped>\n",
       "    .dataframe tbody tr th:only-of-type {\n",
       "        vertical-align: middle;\n",
       "    }\n",
       "\n",
       "    .dataframe tbody tr th {\n",
       "        vertical-align: top;\n",
       "    }\n",
       "\n",
       "    .dataframe thead tr th {\n",
       "        text-align: left;\n",
       "    }\n",
       "\n",
       "    .dataframe thead tr:last-of-type th {\n",
       "        text-align: right;\n",
       "    }\n",
       "</style>\n",
       "<table border=\"1\" class=\"dataframe\">\n",
       "  <thead>\n",
       "    <tr>\n",
       "      <th></th>\n",
       "      <th>count</th>\n",
       "      <th>sum</th>\n",
       "      <th>mean</th>\n",
       "      <th>&lt;lambda&gt;</th>\n",
       "    </tr>\n",
       "    <tr>\n",
       "      <th></th>\n",
       "      <th>debt</th>\n",
       "      <th>debt</th>\n",
       "      <th>debt</th>\n",
       "      <th>debt</th>\n",
       "    </tr>\n",
       "    <tr>\n",
       "      <th>children</th>\n",
       "      <th></th>\n",
       "      <th></th>\n",
       "      <th></th>\n",
       "      <th></th>\n",
       "    </tr>\n",
       "  </thead>\n",
       "  <tbody>\n",
       "    <tr>\n",
       "      <th>0</th>\n",
       "      <td>14091</td>\n",
       "      <td>1063</td>\n",
       "      <td>0.075438</td>\n",
       "      <td>7.54%</td>\n",
       "    </tr>\n",
       "    <tr>\n",
       "      <th>1</th>\n",
       "      <td>4808</td>\n",
       "      <td>444</td>\n",
       "      <td>0.092346</td>\n",
       "      <td>9.23%</td>\n",
       "    </tr>\n",
       "    <tr>\n",
       "      <th>2</th>\n",
       "      <td>2052</td>\n",
       "      <td>194</td>\n",
       "      <td>0.094542</td>\n",
       "      <td>9.45%</td>\n",
       "    </tr>\n",
       "    <tr>\n",
       "      <th>3</th>\n",
       "      <td>330</td>\n",
       "      <td>27</td>\n",
       "      <td>0.081818</td>\n",
       "      <td>8.18%</td>\n",
       "    </tr>\n",
       "    <tr>\n",
       "      <th>4</th>\n",
       "      <td>41</td>\n",
       "      <td>4</td>\n",
       "      <td>0.097561</td>\n",
       "      <td>9.76%</td>\n",
       "    </tr>\n",
       "    <tr>\n",
       "      <th>5</th>\n",
       "      <td>9</td>\n",
       "      <td>0</td>\n",
       "      <td>0.000000</td>\n",
       "      <td>0.00%</td>\n",
       "    </tr>\n",
       "  </tbody>\n",
       "</table>\n",
       "</div>"
      ],
      "text/plain": [
       "          count   sum      mean <lambda>\n",
       "           debt  debt      debt     debt\n",
       "children                                \n",
       "0         14091  1063  0.075438    7.54%\n",
       "1          4808   444  0.092346    9.23%\n",
       "2          2052   194  0.094542    9.45%\n",
       "3           330    27  0.081818    8.18%\n",
       "4            41     4  0.097561    9.76%\n",
       "5             9     0  0.000000    0.00%"
      ]
     },
     "execution_count": 23,
     "metadata": {},
     "output_type": "execute_result"
    }
   ],
   "source": [
    "difference_child_debt = data.pivot_table(index='children', values=['debt'], aggfunc=['count', 'sum', 'mean', lambda x: f'{x.mean():.2%}'])\n",
    "difference_child_debt"
   ]
  },
  {
   "cell_type": "markdown",
   "id": "156ee1ac",
   "metadata": {
    "deletable": false,
    "id": "3a6b99ec"
   },
   "source": [
    "**Вывод:**   \n",
    "- Клиенты с детьми не возвращают кредиты чаще, чем клиенты без детей. \n",
    "- Разница около 2%. \n",
    "- Людей с 4-5 детьми не учитываю, потому что недостаточно случаев.  \n"
   ]
  },
  {
   "cell_type": "markdown",
   "id": "ffb03fe7",
   "metadata": {
    "deletable": false,
    "editable": false,
    "id": "97be82ca"
   },
   "source": [
    "#### 3.2 Есть ли зависимость между семейным положением и возвратом кредита в срок?"
   ]
  },
  {
   "cell_type": "code",
   "execution_count": 24,
   "id": "6c7547b6",
   "metadata": {
    "deletable": false,
    "id": "dc3f7ee8"
   },
   "outputs": [
    {
     "data": {
      "text/html": [
       "<div>\n",
       "<style scoped>\n",
       "    .dataframe tbody tr th:only-of-type {\n",
       "        vertical-align: middle;\n",
       "    }\n",
       "\n",
       "    .dataframe tbody tr th {\n",
       "        vertical-align: top;\n",
       "    }\n",
       "\n",
       "    .dataframe thead tr th {\n",
       "        text-align: left;\n",
       "    }\n",
       "\n",
       "    .dataframe thead tr:last-of-type th {\n",
       "        text-align: right;\n",
       "    }\n",
       "</style>\n",
       "<table border=\"1\" class=\"dataframe\">\n",
       "  <thead>\n",
       "    <tr>\n",
       "      <th></th>\n",
       "      <th>count</th>\n",
       "      <th>sum</th>\n",
       "      <th>mean</th>\n",
       "      <th>&lt;lambda&gt;</th>\n",
       "    </tr>\n",
       "    <tr>\n",
       "      <th></th>\n",
       "      <th>debt</th>\n",
       "      <th>debt</th>\n",
       "      <th>debt</th>\n",
       "      <th>debt</th>\n",
       "    </tr>\n",
       "    <tr>\n",
       "      <th>family_status</th>\n",
       "      <th></th>\n",
       "      <th></th>\n",
       "      <th></th>\n",
       "      <th></th>\n",
       "    </tr>\n",
       "  </thead>\n",
       "  <tbody>\n",
       "    <tr>\n",
       "      <th>Не женат / не замужем</th>\n",
       "      <td>2796</td>\n",
       "      <td>273</td>\n",
       "      <td>0.097639</td>\n",
       "      <td>9.76%</td>\n",
       "    </tr>\n",
       "    <tr>\n",
       "      <th>в разводе</th>\n",
       "      <td>1189</td>\n",
       "      <td>84</td>\n",
       "      <td>0.070648</td>\n",
       "      <td>7.06%</td>\n",
       "    </tr>\n",
       "    <tr>\n",
       "      <th>вдовец / вдова</th>\n",
       "      <td>951</td>\n",
       "      <td>63</td>\n",
       "      <td>0.066246</td>\n",
       "      <td>6.62%</td>\n",
       "    </tr>\n",
       "    <tr>\n",
       "      <th>гражданский брак</th>\n",
       "      <td>4134</td>\n",
       "      <td>385</td>\n",
       "      <td>0.093130</td>\n",
       "      <td>9.31%</td>\n",
       "    </tr>\n",
       "    <tr>\n",
       "      <th>женат / замужем</th>\n",
       "      <td>12261</td>\n",
       "      <td>927</td>\n",
       "      <td>0.075606</td>\n",
       "      <td>7.56%</td>\n",
       "    </tr>\n",
       "  </tbody>\n",
       "</table>\n",
       "</div>"
      ],
      "text/plain": [
       "                       count  sum      mean <lambda>\n",
       "                        debt debt      debt     debt\n",
       "family_status                                       \n",
       "Не женат / не замужем   2796  273  0.097639    9.76%\n",
       "в разводе               1189   84  0.070648    7.06%\n",
       "вдовец / вдова           951   63  0.066246    6.62%\n",
       "гражданский брак        4134  385  0.093130    9.31%\n",
       "женат / замужем        12261  927  0.075606    7.56%"
      ]
     },
     "execution_count": 24,
     "metadata": {},
     "output_type": "execute_result"
    }
   ],
   "source": [
    "difference_famaly_debt = data.pivot_table(index='family_status', values=['debt'], aggfunc=['count', 'sum', 'mean', lambda x: f'{x.mean():.2%}'])\n",
    "difference_famaly_debt"
   ]
  },
  {
   "cell_type": "markdown",
   "id": "9ce661e5",
   "metadata": {
    "deletable": false,
    "id": "1cef7837"
   },
   "source": [
    "**Вывод:** \n",
    "- Не женатые/не замужние, а так же состоящие в гражданском браке чаще других не возвращают кредиты. \n",
    "- Самые благонадежные - вдовец/вдова. \n",
    "- Разница около 3%."
   ]
  },
  {
   "cell_type": "markdown",
   "id": "cf829997",
   "metadata": {
    "deletable": false,
    "editable": false,
    "id": "1e8b2fca"
   },
   "source": [
    "#### 3.3 Есть ли зависимость между уровнем дохода и возвратом кредита в срок?"
   ]
  },
  {
   "cell_type": "code",
   "execution_count": 25,
   "id": "1af487b6",
   "metadata": {
    "deletable": false,
    "id": "cd7e3720"
   },
   "outputs": [
    {
     "data": {
      "text/html": [
       "<div>\n",
       "<style scoped>\n",
       "    .dataframe tbody tr th:only-of-type {\n",
       "        vertical-align: middle;\n",
       "    }\n",
       "\n",
       "    .dataframe tbody tr th {\n",
       "        vertical-align: top;\n",
       "    }\n",
       "\n",
       "    .dataframe thead tr th {\n",
       "        text-align: left;\n",
       "    }\n",
       "\n",
       "    .dataframe thead tr:last-of-type th {\n",
       "        text-align: right;\n",
       "    }\n",
       "</style>\n",
       "<table border=\"1\" class=\"dataframe\">\n",
       "  <thead>\n",
       "    <tr>\n",
       "      <th></th>\n",
       "      <th>count</th>\n",
       "      <th>sum</th>\n",
       "      <th>mean</th>\n",
       "      <th>&lt;lambda&gt;</th>\n",
       "    </tr>\n",
       "    <tr>\n",
       "      <th></th>\n",
       "      <th>debt</th>\n",
       "      <th>debt</th>\n",
       "      <th>debt</th>\n",
       "      <th>debt</th>\n",
       "    </tr>\n",
       "    <tr>\n",
       "      <th>total_income_category</th>\n",
       "      <th></th>\n",
       "      <th></th>\n",
       "      <th></th>\n",
       "      <th></th>\n",
       "    </tr>\n",
       "  </thead>\n",
       "  <tbody>\n",
       "    <tr>\n",
       "      <th>A</th>\n",
       "      <td>25</td>\n",
       "      <td>2</td>\n",
       "      <td>0.080000</td>\n",
       "      <td>8.00%</td>\n",
       "    </tr>\n",
       "    <tr>\n",
       "      <th>B</th>\n",
       "      <td>5014</td>\n",
       "      <td>354</td>\n",
       "      <td>0.070602</td>\n",
       "      <td>7.06%</td>\n",
       "    </tr>\n",
       "    <tr>\n",
       "      <th>C</th>\n",
       "      <td>15921</td>\n",
       "      <td>1353</td>\n",
       "      <td>0.084982</td>\n",
       "      <td>8.50%</td>\n",
       "    </tr>\n",
       "    <tr>\n",
       "      <th>D</th>\n",
       "      <td>349</td>\n",
       "      <td>21</td>\n",
       "      <td>0.060172</td>\n",
       "      <td>6.02%</td>\n",
       "    </tr>\n",
       "    <tr>\n",
       "      <th>E</th>\n",
       "      <td>22</td>\n",
       "      <td>2</td>\n",
       "      <td>0.090909</td>\n",
       "      <td>9.09%</td>\n",
       "    </tr>\n",
       "  </tbody>\n",
       "</table>\n",
       "</div>"
      ],
      "text/plain": [
       "                       count   sum      mean <lambda>\n",
       "                        debt  debt      debt     debt\n",
       "total_income_category                                \n",
       "A                         25     2  0.080000    8.00%\n",
       "B                       5014   354  0.070602    7.06%\n",
       "C                      15921  1353  0.084982    8.50%\n",
       "D                        349    21  0.060172    6.02%\n",
       "E                         22     2  0.090909    9.09%"
      ]
     },
     "execution_count": 25,
     "metadata": {},
     "output_type": "execute_result"
    }
   ],
   "source": [
    "difference_income_debt = data.pivot_table(index='total_income_category', values=['debt'], aggfunc=['count', 'sum', 'mean', lambda x: f'{x.mean():.2%}'])\n",
    "difference_income_debt"
   ]
  },
  {
   "cell_type": "markdown",
   "id": "1c230490",
   "metadata": {
    "deletable": false,
    "id": "e8593def"
   },
   "source": [
    "**Вывод:** \n",
    "- Клиенты со средним доходом(категория С) чаще других не возвращают кредит. \n",
    "- Самые благонадежные - клиенты категории D. \n",
    "- Разница около 1.5%. \n",
    "- Клиенты А и Е не учитываются из-за недостаточного количества случаев."
   ]
  },
  {
   "cell_type": "markdown",
   "id": "bbfc7bf0",
   "metadata": {
    "deletable": false,
    "editable": false,
    "id": "99ecbd1f"
   },
   "source": [
    "#### 3.4 Как разные цели кредита влияют на его возврат в срок?"
   ]
  },
  {
   "cell_type": "code",
   "execution_count": 26,
   "id": "0b7f8719",
   "metadata": {
    "deletable": false,
    "id": "2b687290"
   },
   "outputs": [
    {
     "data": {
      "text/html": [
       "<div>\n",
       "<style scoped>\n",
       "    .dataframe tbody tr th:only-of-type {\n",
       "        vertical-align: middle;\n",
       "    }\n",
       "\n",
       "    .dataframe tbody tr th {\n",
       "        vertical-align: top;\n",
       "    }\n",
       "\n",
       "    .dataframe thead tr th {\n",
       "        text-align: left;\n",
       "    }\n",
       "\n",
       "    .dataframe thead tr:last-of-type th {\n",
       "        text-align: right;\n",
       "    }\n",
       "</style>\n",
       "<table border=\"1\" class=\"dataframe\">\n",
       "  <thead>\n",
       "    <tr>\n",
       "      <th></th>\n",
       "      <th>count</th>\n",
       "      <th>sum</th>\n",
       "      <th>mean</th>\n",
       "      <th>&lt;lambda&gt;</th>\n",
       "    </tr>\n",
       "    <tr>\n",
       "      <th></th>\n",
       "      <th>debt</th>\n",
       "      <th>debt</th>\n",
       "      <th>debt</th>\n",
       "      <th>debt</th>\n",
       "    </tr>\n",
       "    <tr>\n",
       "      <th>purpose_category</th>\n",
       "      <th></th>\n",
       "      <th></th>\n",
       "      <th></th>\n",
       "      <th></th>\n",
       "    </tr>\n",
       "  </thead>\n",
       "  <tbody>\n",
       "    <tr>\n",
       "      <th>операции с автомобилем</th>\n",
       "      <td>4279</td>\n",
       "      <td>400</td>\n",
       "      <td>0.093480</td>\n",
       "      <td>9.35%</td>\n",
       "    </tr>\n",
       "    <tr>\n",
       "      <th>операции с недвижимостью</th>\n",
       "      <td>10751</td>\n",
       "      <td>780</td>\n",
       "      <td>0.072551</td>\n",
       "      <td>7.26%</td>\n",
       "    </tr>\n",
       "    <tr>\n",
       "      <th>получение образования</th>\n",
       "      <td>3988</td>\n",
       "      <td>369</td>\n",
       "      <td>0.092528</td>\n",
       "      <td>9.25%</td>\n",
       "    </tr>\n",
       "    <tr>\n",
       "      <th>проведение свадьбы</th>\n",
       "      <td>2313</td>\n",
       "      <td>183</td>\n",
       "      <td>0.079118</td>\n",
       "      <td>7.91%</td>\n",
       "    </tr>\n",
       "  </tbody>\n",
       "</table>\n",
       "</div>"
      ],
      "text/plain": [
       "                          count  sum      mean <lambda>\n",
       "                           debt debt      debt     debt\n",
       "purpose_category                                       \n",
       "операции с автомобилем     4279  400  0.093480    9.35%\n",
       "операции с недвижимостью  10751  780  0.072551    7.26%\n",
       "получение образования      3988  369  0.092528    9.25%\n",
       "проведение свадьбы         2313  183  0.079118    7.91%"
      ]
     },
     "execution_count": 26,
     "metadata": {},
     "output_type": "execute_result"
    }
   ],
   "source": [
    "difference_purpose_debt = data.pivot_table(index='purpose_category', values=['debt'], aggfunc=['count', 'sum', 'mean', lambda x: f'{x.mean():.2%}'])\n",
    "difference_purpose_debt\n"
   ]
  },
  {
   "cell_type": "markdown",
   "id": "9cf39cba",
   "metadata": {
    "deletable": false,
    "id": "b4bb2ce6"
   },
   "source": [
    "**Вывод:** \n",
    "- Клиенты взявшие кредит на автомобили и образование чеще оостальных не возвращают кредит. \n",
    "- Самые благонадежные клиенты взявшие кредит на свадьбы или недвижимость. \n",
    "- Разница около 2%."
   ]
  },
  {
   "cell_type": "markdown",
   "id": "3cf326b2",
   "metadata": {
    "deletable": false,
    "editable": false,
    "id": "09c3ac4c"
   },
   "source": [
    "#### 3.5 Приведите возможные причины появления пропусков в исходных данных."
   ]
  },
  {
   "cell_type": "markdown",
   "id": "b76f68fa",
   "metadata": {
    "deletable": false,
    "id": "9da2ceda"
   },
   "source": [
    "*Ответ:* причины бывают технические(например во время выгрузки данных) и вызванные человеческим фактором (например опечатки). В данном проекте пропуски встречаются в двух столбцах: 'days_employed' и 'total_income'. Доля пропусков 10%."
   ]
  },
  {
   "cell_type": "markdown",
   "id": "67b6db37",
   "metadata": {
    "deletable": false,
    "editable": false,
    "id": "7b0487d6"
   },
   "source": [
    "#### 3.6 Объясните, почему заполнить пропуски медианным значением — лучшее решение для количественных переменных."
   ]
  },
  {
   "cell_type": "markdown",
   "id": "00cadb3e",
   "metadata": {
    "deletable": false,
    "id": "7ecf2b8e"
   },
   "source": [
    "*Ответ:* Медиана показывает срединное значение, т.е. значение которое находится ровно посередине. А среднее значение считает сумму всех значений и делит на их количество. Крайние значения могут сильно отличаться от остальных, из-за этого среднее значение может быть некорректным."
   ]
  },
  {
   "cell_type": "markdown",
   "id": "1445b0e4",
   "metadata": {
    "deletable": false,
    "editable": false,
    "id": "6db5255a"
   },
   "source": [
    "### Шаг 4: общий вывод."
   ]
  },
  {
   "cell_type": "markdown",
   "id": "91677ce7",
   "metadata": {
    "deletable": false,
    "id": "bad65432"
   },
   "source": [
    "**Портрет неблагонадежного клиента:**\n",
    "- Дети: есть\n",
    "- Семейное положение: Не женат/не замужем или гражданский брак\n",
    "- Доход: от 50000 до 200000\n",
    "- Цель кредита: операции с автомобилем или получение образования"
   ]
  },
  {
   "cell_type": "markdown",
   "id": "280f11d0",
   "metadata": {},
   "source": [
    "**Портрет благонадежного клиента:**\n",
    "- Дети: нет\n",
    "- Семейное положение: вдовец / вдова\n",
    "- Доход: от 30000 до 50000\n",
    "- Цель кредита: проведение свадьбы или операции с недвижимостью "
   ]
  },
  {
   "cell_type": "markdown",
   "id": "0551b1ed",
   "metadata": {},
   "source": [
    "**Группы клиентов с недостаточным количеством информации:**\n",
    "- Имеющие детей в количестве 4-5\n",
    "- Имеющие очень высокий доход (А)\n",
    "- Имеющие очень низкий доход (Е)"
   ]
  },
  {
   "cell_type": "code",
   "execution_count": null,
   "id": "c52df14c",
   "metadata": {},
   "outputs": [],
   "source": []
  }
 ],
 "metadata": {
  "ExecuteTimeLog": [
   {
    "duration": 47,
    "start_time": "2022-12-01T09:46:42.095Z"
   },
   {
    "duration": 6,
    "start_time": "2022-12-01T09:47:34.234Z"
   },
   {
    "duration": 6,
    "start_time": "2022-12-01T09:51:21.211Z"
   },
   {
    "duration": 557,
    "start_time": "2022-12-01T09:52:44.243Z"
   },
   {
    "duration": 79,
    "start_time": "2022-12-01T09:53:30.916Z"
   },
   {
    "duration": 19,
    "start_time": "2022-12-01T09:53:30.998Z"
   },
   {
    "duration": 40,
    "start_time": "2022-12-01T09:53:31.018Z"
   },
   {
    "duration": 15,
    "start_time": "2022-12-01T09:53:31.060Z"
   },
   {
    "duration": 49,
    "start_time": "2022-12-01T09:53:31.077Z"
   },
   {
    "duration": 5,
    "start_time": "2022-12-01T09:53:31.127Z"
   },
   {
    "duration": 10,
    "start_time": "2022-12-01T09:53:31.154Z"
   },
   {
    "duration": 14,
    "start_time": "2022-12-01T09:53:31.166Z"
   },
   {
    "duration": 14,
    "start_time": "2022-12-01T09:53:31.182Z"
   },
   {
    "duration": 11,
    "start_time": "2022-12-01T09:53:31.200Z"
   },
   {
    "duration": 74,
    "start_time": "2022-12-01T09:53:31.213Z"
   },
   {
    "duration": 14,
    "start_time": "2022-12-01T09:53:31.289Z"
   },
   {
    "duration": 15,
    "start_time": "2022-12-01T09:53:31.305Z"
   },
   {
    "duration": 19,
    "start_time": "2022-12-01T09:53:31.322Z"
   },
   {
    "duration": 31,
    "start_time": "2022-12-01T09:53:31.343Z"
   },
   {
    "duration": 28,
    "start_time": "2022-12-01T09:53:31.377Z"
   },
   {
    "duration": 4,
    "start_time": "2022-12-01T09:53:31.407Z"
   },
   {
    "duration": 33,
    "start_time": "2022-12-01T09:53:31.412Z"
   },
   {
    "duration": 9,
    "start_time": "2022-12-01T09:53:31.455Z"
   },
   {
    "duration": 11,
    "start_time": "2022-12-01T09:53:31.465Z"
   },
   {
    "duration": 18,
    "start_time": "2022-12-01T09:53:31.479Z"
   },
   {
    "duration": 26,
    "start_time": "2022-12-01T09:53:31.499Z"
   },
   {
    "duration": 7,
    "start_time": "2022-12-01T09:53:31.527Z"
   },
   {
    "duration": 13,
    "start_time": "2022-12-01T09:53:31.556Z"
   },
   {
    "duration": 7,
    "start_time": "2022-12-01T09:53:31.571Z"
   },
   {
    "duration": 7,
    "start_time": "2022-12-01T09:56:17.410Z"
   },
   {
    "duration": 22,
    "start_time": "2022-12-01T09:56:52.105Z"
   },
   {
    "duration": 22,
    "start_time": "2022-12-01T10:08:21.734Z"
   },
   {
    "duration": 42,
    "start_time": "2022-12-01T10:08:34.286Z"
   },
   {
    "duration": 14,
    "start_time": "2022-12-01T10:09:10.901Z"
   },
   {
    "duration": 17,
    "start_time": "2022-12-01T10:10:44.366Z"
   },
   {
    "duration": 7,
    "start_time": "2022-12-01T10:13:09.502Z"
   },
   {
    "duration": 13,
    "start_time": "2022-12-01T10:13:25.436Z"
   },
   {
    "duration": 14,
    "start_time": "2022-12-01T10:13:35.373Z"
   },
   {
    "duration": 25,
    "start_time": "2022-12-01T10:13:41.644Z"
   },
   {
    "duration": 13,
    "start_time": "2022-12-01T10:13:48.236Z"
   },
   {
    "duration": 8,
    "start_time": "2022-12-01T10:14:28.728Z"
   },
   {
    "duration": 7,
    "start_time": "2022-12-01T10:14:56.835Z"
   },
   {
    "duration": 7,
    "start_time": "2022-12-01T10:15:18.028Z"
   },
   {
    "duration": 8,
    "start_time": "2022-12-01T10:15:26.147Z"
   },
   {
    "duration": 7,
    "start_time": "2022-12-01T10:15:48.126Z"
   },
   {
    "duration": 36,
    "start_time": "2022-12-01T10:16:56.331Z"
   },
   {
    "duration": 7,
    "start_time": "2022-12-01T10:17:16.091Z"
   },
   {
    "duration": 7,
    "start_time": "2022-12-01T10:17:52.993Z"
   },
   {
    "duration": 7,
    "start_time": "2022-12-01T10:18:05.659Z"
   },
   {
    "duration": 32,
    "start_time": "2022-12-01T10:25:20.257Z"
   },
   {
    "duration": 30,
    "start_time": "2022-12-01T10:37:07.912Z"
   },
   {
    "duration": 8,
    "start_time": "2022-12-01T10:37:14.071Z"
   },
   {
    "duration": 21,
    "start_time": "2022-12-01T10:43:16.965Z"
   },
   {
    "duration": 26,
    "start_time": "2022-12-01T10:43:45.533Z"
   },
   {
    "duration": 27,
    "start_time": "2022-12-01T10:44:01.541Z"
   },
   {
    "duration": 27,
    "start_time": "2022-12-01T10:44:45.564Z"
   },
   {
    "duration": 39,
    "start_time": "2022-12-01T11:00:48.506Z"
   },
   {
    "duration": 18,
    "start_time": "2022-12-01T11:02:30.381Z"
   },
   {
    "duration": 28,
    "start_time": "2022-12-01T11:03:27.161Z"
   },
   {
    "duration": 20,
    "start_time": "2022-12-01T11:09:37.119Z"
   },
   {
    "duration": 28,
    "start_time": "2022-12-01T11:10:32.336Z"
   },
   {
    "duration": 33,
    "start_time": "2022-12-01T11:10:41.481Z"
   },
   {
    "duration": 34,
    "start_time": "2022-12-01T11:11:42.952Z"
   },
   {
    "duration": 47,
    "start_time": "2022-12-02T06:26:13.754Z"
   },
   {
    "duration": 6,
    "start_time": "2022-12-02T06:26:27.154Z"
   },
   {
    "duration": 669,
    "start_time": "2022-12-02T06:26:42.221Z"
   },
   {
    "duration": 20,
    "start_time": "2022-12-02T06:26:42.894Z"
   },
   {
    "duration": 14,
    "start_time": "2022-12-02T06:26:42.915Z"
   },
   {
    "duration": 9,
    "start_time": "2022-12-02T06:26:42.931Z"
   },
   {
    "duration": 36,
    "start_time": "2022-12-02T06:26:42.941Z"
   },
   {
    "duration": 3,
    "start_time": "2022-12-02T06:26:42.979Z"
   },
   {
    "duration": 11,
    "start_time": "2022-12-02T06:26:42.984Z"
   },
   {
    "duration": 3,
    "start_time": "2022-12-02T06:26:42.997Z"
   },
   {
    "duration": 9,
    "start_time": "2022-12-02T06:26:43.020Z"
   },
   {
    "duration": 5,
    "start_time": "2022-12-02T06:26:43.032Z"
   },
   {
    "duration": 39,
    "start_time": "2022-12-02T06:26:43.038Z"
   },
   {
    "duration": 10,
    "start_time": "2022-12-02T06:26:43.079Z"
   },
   {
    "duration": 12,
    "start_time": "2022-12-02T06:26:43.091Z"
   },
   {
    "duration": 24,
    "start_time": "2022-12-02T06:26:43.104Z"
   },
   {
    "duration": 17,
    "start_time": "2022-12-02T06:26:43.129Z"
   },
   {
    "duration": 15,
    "start_time": "2022-12-02T06:26:43.147Z"
   },
   {
    "duration": 3,
    "start_time": "2022-12-02T06:26:43.163Z"
   },
   {
    "duration": 14,
    "start_time": "2022-12-02T06:26:43.167Z"
   },
   {
    "duration": 14,
    "start_time": "2022-12-02T06:26:43.182Z"
   },
   {
    "duration": 3,
    "start_time": "2022-12-02T06:26:43.197Z"
   },
   {
    "duration": 26,
    "start_time": "2022-12-02T06:26:43.202Z"
   },
   {
    "duration": 32,
    "start_time": "2022-12-02T06:26:43.229Z"
   },
   {
    "duration": 49,
    "start_time": "2022-12-02T06:26:43.262Z"
   },
   {
    "duration": 0,
    "start_time": "2022-12-02T06:26:43.321Z"
   },
   {
    "duration": 0,
    "start_time": "2022-12-02T06:26:43.322Z"
   },
   {
    "duration": 28,
    "start_time": "2022-12-02T06:27:24.786Z"
   },
   {
    "duration": 27,
    "start_time": "2022-12-02T06:28:07.034Z"
   },
   {
    "duration": 27,
    "start_time": "2022-12-02T06:28:57.178Z"
   },
   {
    "duration": 22,
    "start_time": "2022-12-02T06:29:22.450Z"
   },
   {
    "duration": 28,
    "start_time": "2022-12-02T06:29:31.313Z"
   },
   {
    "duration": 26,
    "start_time": "2022-12-02T06:30:08.722Z"
   },
   {
    "duration": 69,
    "start_time": "2022-12-02T06:30:25.820Z"
   },
   {
    "duration": 28,
    "start_time": "2022-12-02T06:31:00.666Z"
   },
   {
    "duration": 28,
    "start_time": "2022-12-02T06:31:23.947Z"
   },
   {
    "duration": 28,
    "start_time": "2022-12-02T06:31:36.688Z"
   },
   {
    "duration": 27,
    "start_time": "2022-12-02T06:31:42.625Z"
   },
   {
    "duration": 25,
    "start_time": "2022-12-02T06:32:33.217Z"
   },
   {
    "duration": 26,
    "start_time": "2022-12-02T06:32:59.425Z"
   },
   {
    "duration": 1249,
    "start_time": "2022-12-02T06:38:39.785Z"
   },
   {
    "duration": 28,
    "start_time": "2022-12-02T06:38:57.584Z"
   },
   {
    "duration": 29,
    "start_time": "2022-12-02T06:39:20.496Z"
   },
   {
    "duration": 807,
    "start_time": "2022-12-02T06:39:32.640Z"
   },
   {
    "duration": 26,
    "start_time": "2022-12-02T06:40:07.193Z"
   },
   {
    "duration": 27,
    "start_time": "2022-12-02T07:02:33.607Z"
   },
   {
    "duration": 29,
    "start_time": "2022-12-02T07:09:44.833Z"
   },
   {
    "duration": 29,
    "start_time": "2022-12-02T07:10:44.931Z"
   },
   {
    "duration": 28,
    "start_time": "2022-12-02T07:11:04.796Z"
   },
   {
    "duration": 37,
    "start_time": "2022-12-02T07:22:09.633Z"
   },
   {
    "duration": 25,
    "start_time": "2022-12-02T07:29:36.362Z"
   },
   {
    "duration": 41,
    "start_time": "2022-12-02T07:30:44.568Z"
   },
   {
    "duration": 31,
    "start_time": "2022-12-02T07:31:34.473Z"
   },
   {
    "duration": 19,
    "start_time": "2022-12-02T07:38:37.023Z"
   },
   {
    "duration": 28,
    "start_time": "2022-12-02T07:44:48.647Z"
   },
   {
    "duration": 54,
    "start_time": "2022-12-02T08:40:36.712Z"
   },
   {
    "duration": 493,
    "start_time": "2022-12-02T13:48:33.636Z"
   },
   {
    "duration": 28,
    "start_time": "2022-12-02T13:48:34.130Z"
   },
   {
    "duration": 26,
    "start_time": "2022-12-02T13:48:34.160Z"
   },
   {
    "duration": 20,
    "start_time": "2022-12-02T13:48:34.187Z"
   },
   {
    "duration": 51,
    "start_time": "2022-12-02T13:48:34.210Z"
   },
   {
    "duration": 4,
    "start_time": "2022-12-02T13:48:34.263Z"
   },
   {
    "duration": 29,
    "start_time": "2022-12-02T13:48:34.269Z"
   },
   {
    "duration": 9,
    "start_time": "2022-12-02T13:48:34.300Z"
   },
   {
    "duration": 20,
    "start_time": "2022-12-02T13:48:34.311Z"
   },
   {
    "duration": 33,
    "start_time": "2022-12-02T13:48:34.333Z"
   },
   {
    "duration": 49,
    "start_time": "2022-12-02T13:48:34.367Z"
   },
   {
    "duration": 11,
    "start_time": "2022-12-02T13:48:34.417Z"
   },
   {
    "duration": 13,
    "start_time": "2022-12-02T13:48:34.430Z"
   },
   {
    "duration": 18,
    "start_time": "2022-12-02T13:48:34.450Z"
   },
   {
    "duration": 30,
    "start_time": "2022-12-02T13:48:34.469Z"
   },
   {
    "duration": 18,
    "start_time": "2022-12-02T13:48:34.501Z"
   },
   {
    "duration": 6,
    "start_time": "2022-12-02T13:48:34.521Z"
   },
   {
    "duration": 51,
    "start_time": "2022-12-02T13:48:34.529Z"
   },
   {
    "duration": 14,
    "start_time": "2022-12-02T13:48:34.582Z"
   },
   {
    "duration": 15,
    "start_time": "2022-12-02T13:48:34.597Z"
   },
   {
    "duration": 18,
    "start_time": "2022-12-02T13:48:34.614Z"
   },
   {
    "duration": 50,
    "start_time": "2022-12-02T13:48:34.634Z"
   },
   {
    "duration": 32,
    "start_time": "2022-12-02T13:48:34.686Z"
   },
   {
    "duration": 34,
    "start_time": "2022-12-02T13:48:34.720Z"
   },
   {
    "duration": 30,
    "start_time": "2022-12-02T13:48:34.756Z"
   },
   {
    "duration": 158,
    "start_time": "2022-12-05T07:04:00.324Z"
   },
   {
    "duration": 53,
    "start_time": "2022-12-05T07:04:52.047Z"
   },
   {
    "duration": 781,
    "start_time": "2022-12-05T07:05:04.291Z"
   },
   {
    "duration": 33,
    "start_time": "2022-12-05T07:05:05.074Z"
   },
   {
    "duration": 16,
    "start_time": "2022-12-05T07:05:05.108Z"
   },
   {
    "duration": 11,
    "start_time": "2022-12-05T07:05:05.126Z"
   },
   {
    "duration": 71,
    "start_time": "2022-12-05T07:05:05.139Z"
   },
   {
    "duration": 4,
    "start_time": "2022-12-05T07:05:05.212Z"
   },
   {
    "duration": 16,
    "start_time": "2022-12-05T07:05:05.217Z"
   },
   {
    "duration": 5,
    "start_time": "2022-12-05T07:05:05.243Z"
   },
   {
    "duration": 17,
    "start_time": "2022-12-05T07:05:05.251Z"
   },
   {
    "duration": 22,
    "start_time": "2022-12-05T07:05:05.270Z"
   },
   {
    "duration": 72,
    "start_time": "2022-12-05T07:05:05.294Z"
   },
   {
    "duration": 11,
    "start_time": "2022-12-05T07:05:05.368Z"
   },
   {
    "duration": 19,
    "start_time": "2022-12-05T07:05:05.382Z"
   },
   {
    "duration": 15,
    "start_time": "2022-12-05T07:05:05.404Z"
   },
   {
    "duration": 27,
    "start_time": "2022-12-05T07:05:05.421Z"
   },
   {
    "duration": 19,
    "start_time": "2022-12-05T07:05:05.449Z"
   },
   {
    "duration": 45,
    "start_time": "2022-12-05T07:05:05.470Z"
   },
   {
    "duration": 21,
    "start_time": "2022-12-05T07:05:05.517Z"
   },
   {
    "duration": 31,
    "start_time": "2022-12-05T07:05:05.540Z"
   },
   {
    "duration": 19,
    "start_time": "2022-12-05T07:05:05.573Z"
   },
   {
    "duration": 24,
    "start_time": "2022-12-05T07:05:05.593Z"
   },
   {
    "duration": 66,
    "start_time": "2022-12-05T07:05:05.619Z"
   },
   {
    "duration": 51,
    "start_time": "2022-12-05T07:05:05.687Z"
   },
   {
    "duration": 57,
    "start_time": "2022-12-05T07:05:05.740Z"
   },
   {
    "duration": 40,
    "start_time": "2022-12-05T07:05:05.800Z"
   },
   {
    "duration": 43,
    "start_time": "2022-12-05T07:06:03.375Z"
   },
   {
    "duration": 37,
    "start_time": "2022-12-05T07:06:11.127Z"
   },
   {
    "duration": 43,
    "start_time": "2022-12-05T07:06:21.735Z"
   },
   {
    "duration": 75,
    "start_time": "2022-12-05T07:27:45.178Z"
   },
   {
    "duration": 15,
    "start_time": "2022-12-05T07:27:45.256Z"
   },
   {
    "duration": 19,
    "start_time": "2022-12-05T07:27:45.273Z"
   },
   {
    "duration": 18,
    "start_time": "2022-12-05T07:27:45.294Z"
   },
   {
    "duration": 44,
    "start_time": "2022-12-05T07:27:45.314Z"
   },
   {
    "duration": 17,
    "start_time": "2022-12-05T07:27:45.360Z"
   },
   {
    "duration": 12,
    "start_time": "2022-12-05T07:27:45.378Z"
   },
   {
    "duration": 5,
    "start_time": "2022-12-05T07:27:45.392Z"
   },
   {
    "duration": 9,
    "start_time": "2022-12-05T07:27:45.399Z"
   },
   {
    "duration": 10,
    "start_time": "2022-12-05T07:27:45.410Z"
   },
   {
    "duration": 36,
    "start_time": "2022-12-05T07:27:45.421Z"
   },
   {
    "duration": 26,
    "start_time": "2022-12-05T07:27:45.459Z"
   },
   {
    "duration": 3,
    "start_time": "2022-12-05T07:27:45.487Z"
   },
   {
    "duration": 17,
    "start_time": "2022-12-05T07:27:45.492Z"
   },
   {
    "duration": 33,
    "start_time": "2022-12-05T07:27:45.511Z"
   },
   {
    "duration": 19,
    "start_time": "2022-12-05T07:27:45.546Z"
   },
   {
    "duration": 3,
    "start_time": "2022-12-05T07:27:45.576Z"
   },
   {
    "duration": 13,
    "start_time": "2022-12-05T07:27:45.581Z"
   },
   {
    "duration": 16,
    "start_time": "2022-12-05T07:27:45.595Z"
   },
   {
    "duration": 3,
    "start_time": "2022-12-05T07:27:45.613Z"
   },
   {
    "duration": 10,
    "start_time": "2022-12-05T07:27:45.618Z"
   },
   {
    "duration": 53,
    "start_time": "2022-12-05T07:27:45.630Z"
   },
   {
    "duration": 35,
    "start_time": "2022-12-05T07:27:45.684Z"
   },
   {
    "duration": 56,
    "start_time": "2022-12-05T07:27:45.721Z"
   },
   {
    "duration": 39,
    "start_time": "2022-12-05T07:27:45.779Z"
   },
   {
    "duration": 14,
    "start_time": "2022-12-05T07:31:23.934Z"
   },
   {
    "duration": 71,
    "start_time": "2022-12-05T07:31:31.952Z"
   },
   {
    "duration": 15,
    "start_time": "2022-12-05T07:31:32.026Z"
   },
   {
    "duration": 34,
    "start_time": "2022-12-05T07:31:32.043Z"
   },
   {
    "duration": 11,
    "start_time": "2022-12-05T07:31:32.079Z"
   },
   {
    "duration": 65,
    "start_time": "2022-12-05T07:31:32.093Z"
   },
   {
    "duration": 4,
    "start_time": "2022-12-05T07:31:32.160Z"
   },
   {
    "duration": 19,
    "start_time": "2022-12-05T07:31:32.166Z"
   },
   {
    "duration": 5,
    "start_time": "2022-12-05T07:31:32.187Z"
   },
   {
    "duration": 8,
    "start_time": "2022-12-05T07:31:32.194Z"
   },
   {
    "duration": 5,
    "start_time": "2022-12-05T07:31:32.205Z"
   },
   {
    "duration": 75,
    "start_time": "2022-12-05T07:31:32.212Z"
   },
   {
    "duration": 15,
    "start_time": "2022-12-05T07:31:32.289Z"
   },
   {
    "duration": 20,
    "start_time": "2022-12-05T07:31:32.306Z"
   },
   {
    "duration": 16,
    "start_time": "2022-12-05T07:31:32.328Z"
   },
   {
    "duration": 29,
    "start_time": "2022-12-05T07:31:32.346Z"
   },
   {
    "duration": 28,
    "start_time": "2022-12-05T07:31:32.377Z"
   },
   {
    "duration": 17,
    "start_time": "2022-12-05T07:31:32.406Z"
   },
   {
    "duration": 20,
    "start_time": "2022-12-05T07:31:32.425Z"
   },
   {
    "duration": 8,
    "start_time": "2022-12-05T07:31:32.448Z"
   },
   {
    "duration": 14,
    "start_time": "2022-12-05T07:31:32.458Z"
   },
   {
    "duration": 17,
    "start_time": "2022-12-05T07:31:32.473Z"
   },
   {
    "duration": 40,
    "start_time": "2022-12-05T07:31:32.492Z"
   },
   {
    "duration": 57,
    "start_time": "2022-12-05T07:31:32.534Z"
   },
   {
    "duration": 55,
    "start_time": "2022-12-05T07:31:32.593Z"
   },
   {
    "duration": 57,
    "start_time": "2022-12-05T07:31:32.649Z"
   },
   {
    "duration": 16,
    "start_time": "2022-12-05T07:32:13.003Z"
   },
   {
    "duration": 68,
    "start_time": "2022-12-05T08:12:53.378Z"
   },
   {
    "duration": 13,
    "start_time": "2022-12-05T08:12:53.447Z"
   },
   {
    "duration": 18,
    "start_time": "2022-12-05T08:12:53.461Z"
   },
   {
    "duration": 8,
    "start_time": "2022-12-05T08:12:53.481Z"
   },
   {
    "duration": 37,
    "start_time": "2022-12-05T08:12:53.490Z"
   },
   {
    "duration": 3,
    "start_time": "2022-12-05T08:12:53.529Z"
   },
   {
    "duration": 10,
    "start_time": "2022-12-05T08:12:53.533Z"
   },
   {
    "duration": 8,
    "start_time": "2022-12-05T08:12:53.544Z"
   },
   {
    "duration": 24,
    "start_time": "2022-12-05T08:12:53.553Z"
   },
   {
    "duration": 6,
    "start_time": "2022-12-05T08:12:53.579Z"
   },
   {
    "duration": 33,
    "start_time": "2022-12-05T08:12:53.586Z"
   },
   {
    "duration": 9,
    "start_time": "2022-12-05T08:12:53.620Z"
   },
   {
    "duration": 8,
    "start_time": "2022-12-05T08:12:53.630Z"
   },
   {
    "duration": 16,
    "start_time": "2022-12-05T08:12:53.639Z"
   },
   {
    "duration": 26,
    "start_time": "2022-12-05T08:12:53.656Z"
   },
   {
    "duration": 16,
    "start_time": "2022-12-05T08:12:53.684Z"
   },
   {
    "duration": 3,
    "start_time": "2022-12-05T08:12:53.702Z"
   },
   {
    "duration": 13,
    "start_time": "2022-12-05T08:12:53.706Z"
   },
   {
    "duration": 9,
    "start_time": "2022-12-05T08:12:53.721Z"
   },
   {
    "duration": 4,
    "start_time": "2022-12-05T08:12:53.731Z"
   },
   {
    "duration": 11,
    "start_time": "2022-12-05T08:12:53.737Z"
   },
   {
    "duration": 52,
    "start_time": "2022-12-05T08:12:53.750Z"
   },
   {
    "duration": 37,
    "start_time": "2022-12-05T08:12:53.804Z"
   },
   {
    "duration": 53,
    "start_time": "2022-12-05T08:12:53.842Z"
   },
   {
    "duration": 33,
    "start_time": "2022-12-05T08:12:53.897Z"
   },
   {
    "duration": 715,
    "start_time": "2022-12-05T09:22:55.710Z"
   },
   {
    "duration": 24,
    "start_time": "2022-12-05T09:22:56.427Z"
   },
   {
    "duration": 17,
    "start_time": "2022-12-05T09:22:56.453Z"
   },
   {
    "duration": 11,
    "start_time": "2022-12-05T09:22:56.471Z"
   },
   {
    "duration": 38,
    "start_time": "2022-12-05T09:22:56.484Z"
   },
   {
    "duration": 3,
    "start_time": "2022-12-05T09:22:56.524Z"
   },
   {
    "duration": 30,
    "start_time": "2022-12-05T09:22:56.528Z"
   },
   {
    "duration": 4,
    "start_time": "2022-12-05T09:22:56.560Z"
   },
   {
    "duration": 15,
    "start_time": "2022-12-05T09:22:56.566Z"
   },
   {
    "duration": 6,
    "start_time": "2022-12-05T09:22:56.583Z"
   },
   {
    "duration": 41,
    "start_time": "2022-12-05T09:22:56.590Z"
   },
   {
    "duration": 25,
    "start_time": "2022-12-05T09:22:56.634Z"
   },
   {
    "duration": 4,
    "start_time": "2022-12-05T09:22:56.661Z"
   },
   {
    "duration": 15,
    "start_time": "2022-12-05T09:22:56.667Z"
   },
   {
    "duration": 25,
    "start_time": "2022-12-05T09:22:56.683Z"
   },
   {
    "duration": 18,
    "start_time": "2022-12-05T09:22:56.709Z"
   },
   {
    "duration": 27,
    "start_time": "2022-12-05T09:22:56.728Z"
   },
   {
    "duration": 11,
    "start_time": "2022-12-05T09:22:56.757Z"
   },
   {
    "duration": 9,
    "start_time": "2022-12-05T09:22:56.770Z"
   },
   {
    "duration": 9,
    "start_time": "2022-12-05T09:22:56.780Z"
   },
   {
    "duration": 10,
    "start_time": "2022-12-05T09:22:56.791Z"
   },
   {
    "duration": 77,
    "start_time": "2022-12-05T09:22:56.802Z"
   },
   {
    "duration": 51,
    "start_time": "2022-12-05T09:22:56.881Z"
   },
   {
    "duration": 56,
    "start_time": "2022-12-05T09:22:56.934Z"
   },
   {
    "duration": 39,
    "start_time": "2022-12-05T09:22:56.992Z"
   },
   {
    "duration": 65,
    "start_time": "2022-12-20T09:32:04.430Z"
   },
   {
    "duration": 764,
    "start_time": "2022-12-20T09:32:10.445Z"
   },
   {
    "duration": 31,
    "start_time": "2022-12-20T09:32:11.212Z"
   },
   {
    "duration": 22,
    "start_time": "2022-12-20T09:32:11.245Z"
   },
   {
    "duration": 15,
    "start_time": "2022-12-20T09:32:11.269Z"
   },
   {
    "duration": 54,
    "start_time": "2022-12-20T09:32:11.298Z"
   },
   {
    "duration": 4,
    "start_time": "2022-12-20T09:32:11.354Z"
   },
   {
    "duration": 15,
    "start_time": "2022-12-20T09:32:11.360Z"
   },
   {
    "duration": 23,
    "start_time": "2022-12-20T09:32:11.376Z"
   },
   {
    "duration": 16,
    "start_time": "2022-12-20T09:32:11.401Z"
   },
   {
    "duration": 5,
    "start_time": "2022-12-20T09:32:11.420Z"
   },
   {
    "duration": 74,
    "start_time": "2022-12-20T09:32:11.427Z"
   },
   {
    "duration": 18,
    "start_time": "2022-12-20T09:32:11.503Z"
   },
   {
    "duration": 6,
    "start_time": "2022-12-20T09:32:11.523Z"
   },
   {
    "duration": 24,
    "start_time": "2022-12-20T09:32:11.533Z"
   },
   {
    "duration": 41,
    "start_time": "2022-12-20T09:32:11.559Z"
   },
   {
    "duration": 45,
    "start_time": "2022-12-20T09:32:11.602Z"
   },
   {
    "duration": 5,
    "start_time": "2022-12-20T09:32:11.648Z"
   },
   {
    "duration": 29,
    "start_time": "2022-12-20T09:32:11.655Z"
   },
   {
    "duration": 8,
    "start_time": "2022-12-20T09:32:11.697Z"
   },
   {
    "duration": 7,
    "start_time": "2022-12-20T09:32:11.707Z"
   },
   {
    "duration": 23,
    "start_time": "2022-12-20T09:32:11.716Z"
   },
   {
    "duration": 58,
    "start_time": "2022-12-20T09:32:11.741Z"
   },
   {
    "duration": 63,
    "start_time": "2022-12-20T09:32:11.801Z"
   },
   {
    "duration": 75,
    "start_time": "2022-12-20T09:32:11.866Z"
   },
   {
    "duration": 61,
    "start_time": "2022-12-20T09:32:11.943Z"
   }
  ],
  "colab": {
   "name": "dpp_template_part2.ipynb",
   "provenance": []
  },
  "kernelspec": {
   "display_name": "Python 3 (ipykernel)",
   "language": "python",
   "name": "python3"
  },
  "language_info": {
   "codemirror_mode": {
    "name": "ipython",
    "version": 3
   },
   "file_extension": ".py",
   "mimetype": "text/x-python",
   "name": "python",
   "nbconvert_exporter": "python",
   "pygments_lexer": "ipython3",
   "version": "3.10.9"
  },
  "toc": {
   "base_numbering": 1,
   "nav_menu": {},
   "number_sections": true,
   "sideBar": true,
   "skip_h1_title": true,
   "title_cell": "Table of Contents",
   "title_sidebar": "Contents",
   "toc_cell": false,
   "toc_position": {},
   "toc_section_display": true,
   "toc_window_display": false
  }
 },
 "nbformat": 4,
 "nbformat_minor": 5
}

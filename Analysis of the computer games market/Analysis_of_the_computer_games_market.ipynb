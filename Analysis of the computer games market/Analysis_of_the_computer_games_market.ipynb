{
 "cells": [
  {
   "cell_type": "markdown",
   "metadata": {},
   "source": [
    "# Сборный проект"
   ]
  },
  {
   "cell_type": "markdown",
   "metadata": {},
   "source": [
    "## Откроем файл и изучим общую информацию"
   ]
  },
  {
   "cell_type": "markdown",
   "metadata": {},
   "source": [
    "### Откроем файл"
   ]
  },
  {
   "cell_type": "code",
   "execution_count": 1347,
   "metadata": {},
   "outputs": [
    {
     "data": {
      "text/html": [
       "<div>\n",
       "<style scoped>\n",
       "    .dataframe tbody tr th:only-of-type {\n",
       "        vertical-align: middle;\n",
       "    }\n",
       "\n",
       "    .dataframe tbody tr th {\n",
       "        vertical-align: top;\n",
       "    }\n",
       "\n",
       "    .dataframe thead th {\n",
       "        text-align: right;\n",
       "    }\n",
       "</style>\n",
       "<table border=\"1\" class=\"dataframe\">\n",
       "  <thead>\n",
       "    <tr style=\"text-align: right;\">\n",
       "      <th></th>\n",
       "      <th>Name</th>\n",
       "      <th>Platform</th>\n",
       "      <th>Year_of_Release</th>\n",
       "      <th>Genre</th>\n",
       "      <th>NA_sales</th>\n",
       "      <th>EU_sales</th>\n",
       "      <th>JP_sales</th>\n",
       "      <th>Other_sales</th>\n",
       "      <th>Critic_Score</th>\n",
       "      <th>User_Score</th>\n",
       "      <th>Rating</th>\n",
       "    </tr>\n",
       "  </thead>\n",
       "  <tbody>\n",
       "    <tr>\n",
       "      <th>0</th>\n",
       "      <td>Wii Sports</td>\n",
       "      <td>Wii</td>\n",
       "      <td>2006.0</td>\n",
       "      <td>Sports</td>\n",
       "      <td>41.36</td>\n",
       "      <td>28.96</td>\n",
       "      <td>3.77</td>\n",
       "      <td>8.45</td>\n",
       "      <td>76.0</td>\n",
       "      <td>8</td>\n",
       "      <td>E</td>\n",
       "    </tr>\n",
       "    <tr>\n",
       "      <th>1</th>\n",
       "      <td>Super Mario Bros.</td>\n",
       "      <td>NES</td>\n",
       "      <td>1985.0</td>\n",
       "      <td>Platform</td>\n",
       "      <td>29.08</td>\n",
       "      <td>3.58</td>\n",
       "      <td>6.81</td>\n",
       "      <td>0.77</td>\n",
       "      <td>NaN</td>\n",
       "      <td>NaN</td>\n",
       "      <td>NaN</td>\n",
       "    </tr>\n",
       "    <tr>\n",
       "      <th>2</th>\n",
       "      <td>Mario Kart Wii</td>\n",
       "      <td>Wii</td>\n",
       "      <td>2008.0</td>\n",
       "      <td>Racing</td>\n",
       "      <td>15.68</td>\n",
       "      <td>12.76</td>\n",
       "      <td>3.79</td>\n",
       "      <td>3.29</td>\n",
       "      <td>82.0</td>\n",
       "      <td>8.3</td>\n",
       "      <td>E</td>\n",
       "    </tr>\n",
       "    <tr>\n",
       "      <th>3</th>\n",
       "      <td>Wii Sports Resort</td>\n",
       "      <td>Wii</td>\n",
       "      <td>2009.0</td>\n",
       "      <td>Sports</td>\n",
       "      <td>15.61</td>\n",
       "      <td>10.93</td>\n",
       "      <td>3.28</td>\n",
       "      <td>2.95</td>\n",
       "      <td>80.0</td>\n",
       "      <td>8</td>\n",
       "      <td>E</td>\n",
       "    </tr>\n",
       "    <tr>\n",
       "      <th>4</th>\n",
       "      <td>Pokemon Red/Pokemon Blue</td>\n",
       "      <td>GB</td>\n",
       "      <td>1996.0</td>\n",
       "      <td>Role-Playing</td>\n",
       "      <td>11.27</td>\n",
       "      <td>8.89</td>\n",
       "      <td>10.22</td>\n",
       "      <td>1.00</td>\n",
       "      <td>NaN</td>\n",
       "      <td>NaN</td>\n",
       "      <td>NaN</td>\n",
       "    </tr>\n",
       "    <tr>\n",
       "      <th>...</th>\n",
       "      <td>...</td>\n",
       "      <td>...</td>\n",
       "      <td>...</td>\n",
       "      <td>...</td>\n",
       "      <td>...</td>\n",
       "      <td>...</td>\n",
       "      <td>...</td>\n",
       "      <td>...</td>\n",
       "      <td>...</td>\n",
       "      <td>...</td>\n",
       "      <td>...</td>\n",
       "    </tr>\n",
       "    <tr>\n",
       "      <th>16710</th>\n",
       "      <td>Samurai Warriors: Sanada Maru</td>\n",
       "      <td>PS3</td>\n",
       "      <td>2016.0</td>\n",
       "      <td>Action</td>\n",
       "      <td>0.00</td>\n",
       "      <td>0.00</td>\n",
       "      <td>0.01</td>\n",
       "      <td>0.00</td>\n",
       "      <td>NaN</td>\n",
       "      <td>NaN</td>\n",
       "      <td>NaN</td>\n",
       "    </tr>\n",
       "    <tr>\n",
       "      <th>16711</th>\n",
       "      <td>LMA Manager 2007</td>\n",
       "      <td>X360</td>\n",
       "      <td>2006.0</td>\n",
       "      <td>Sports</td>\n",
       "      <td>0.00</td>\n",
       "      <td>0.01</td>\n",
       "      <td>0.00</td>\n",
       "      <td>0.00</td>\n",
       "      <td>NaN</td>\n",
       "      <td>NaN</td>\n",
       "      <td>NaN</td>\n",
       "    </tr>\n",
       "    <tr>\n",
       "      <th>16712</th>\n",
       "      <td>Haitaka no Psychedelica</td>\n",
       "      <td>PSV</td>\n",
       "      <td>2016.0</td>\n",
       "      <td>Adventure</td>\n",
       "      <td>0.00</td>\n",
       "      <td>0.00</td>\n",
       "      <td>0.01</td>\n",
       "      <td>0.00</td>\n",
       "      <td>NaN</td>\n",
       "      <td>NaN</td>\n",
       "      <td>NaN</td>\n",
       "    </tr>\n",
       "    <tr>\n",
       "      <th>16713</th>\n",
       "      <td>Spirits &amp; Spells</td>\n",
       "      <td>GBA</td>\n",
       "      <td>2003.0</td>\n",
       "      <td>Platform</td>\n",
       "      <td>0.01</td>\n",
       "      <td>0.00</td>\n",
       "      <td>0.00</td>\n",
       "      <td>0.00</td>\n",
       "      <td>NaN</td>\n",
       "      <td>NaN</td>\n",
       "      <td>NaN</td>\n",
       "    </tr>\n",
       "    <tr>\n",
       "      <th>16714</th>\n",
       "      <td>Winning Post 8 2016</td>\n",
       "      <td>PSV</td>\n",
       "      <td>2016.0</td>\n",
       "      <td>Simulation</td>\n",
       "      <td>0.00</td>\n",
       "      <td>0.00</td>\n",
       "      <td>0.01</td>\n",
       "      <td>0.00</td>\n",
       "      <td>NaN</td>\n",
       "      <td>NaN</td>\n",
       "      <td>NaN</td>\n",
       "    </tr>\n",
       "  </tbody>\n",
       "</table>\n",
       "<p>16715 rows × 11 columns</p>\n",
       "</div>"
      ],
      "text/plain": [
       "                                Name Platform  Year_of_Release         Genre  \\\n",
       "0                         Wii Sports      Wii           2006.0        Sports   \n",
       "1                  Super Mario Bros.      NES           1985.0      Platform   \n",
       "2                     Mario Kart Wii      Wii           2008.0        Racing   \n",
       "3                  Wii Sports Resort      Wii           2009.0        Sports   \n",
       "4           Pokemon Red/Pokemon Blue       GB           1996.0  Role-Playing   \n",
       "...                              ...      ...              ...           ...   \n",
       "16710  Samurai Warriors: Sanada Maru      PS3           2016.0        Action   \n",
       "16711               LMA Manager 2007     X360           2006.0        Sports   \n",
       "16712        Haitaka no Psychedelica      PSV           2016.0     Adventure   \n",
       "16713               Spirits & Spells      GBA           2003.0      Platform   \n",
       "16714            Winning Post 8 2016      PSV           2016.0    Simulation   \n",
       "\n",
       "       NA_sales  EU_sales  JP_sales  Other_sales  Critic_Score User_Score  \\\n",
       "0         41.36     28.96      3.77         8.45          76.0          8   \n",
       "1         29.08      3.58      6.81         0.77           NaN        NaN   \n",
       "2         15.68     12.76      3.79         3.29          82.0        8.3   \n",
       "3         15.61     10.93      3.28         2.95          80.0          8   \n",
       "4         11.27      8.89     10.22         1.00           NaN        NaN   \n",
       "...         ...       ...       ...          ...           ...        ...   \n",
       "16710      0.00      0.00      0.01         0.00           NaN        NaN   \n",
       "16711      0.00      0.01      0.00         0.00           NaN        NaN   \n",
       "16712      0.00      0.00      0.01         0.00           NaN        NaN   \n",
       "16713      0.01      0.00      0.00         0.00           NaN        NaN   \n",
       "16714      0.00      0.00      0.01         0.00           NaN        NaN   \n",
       "\n",
       "      Rating  \n",
       "0          E  \n",
       "1        NaN  \n",
       "2          E  \n",
       "3          E  \n",
       "4        NaN  \n",
       "...      ...  \n",
       "16710    NaN  \n",
       "16711    NaN  \n",
       "16712    NaN  \n",
       "16713    NaN  \n",
       "16714    NaN  \n",
       "\n",
       "[16715 rows x 11 columns]"
      ]
     },
     "execution_count": 1347,
     "metadata": {},
     "output_type": "execute_result"
    }
   ],
   "source": [
    "import pandas as pd\n",
    "import matplotlib.pyplot as plt\n",
    "import seaborn as sns\n",
    "from scipy import stats as st\n",
    "import numpy as np\n",
    "import warnings\n",
    "warnings.filterwarnings(\"ignore\")\n",
    "\n",
    "data = pd.read_csv('/datasets/games.csv')\n",
    "data"
   ]
  },
  {
   "cell_type": "markdown",
   "metadata": {},
   "source": [
    "### Изучим общую информацию"
   ]
  },
  {
   "cell_type": "code",
   "execution_count": 1348,
   "metadata": {
    "scrolled": true
   },
   "outputs": [
    {
     "name": "stdout",
     "output_type": "stream",
     "text": [
      "<class 'pandas.core.frame.DataFrame'>\n",
      "RangeIndex: 16715 entries, 0 to 16714\n",
      "Data columns (total 11 columns):\n",
      " #   Column           Non-Null Count  Dtype  \n",
      "---  ------           --------------  -----  \n",
      " 0   Name             16713 non-null  object \n",
      " 1   Platform         16715 non-null  object \n",
      " 2   Year_of_Release  16446 non-null  float64\n",
      " 3   Genre            16713 non-null  object \n",
      " 4   NA_sales         16715 non-null  float64\n",
      " 5   EU_sales         16715 non-null  float64\n",
      " 6   JP_sales         16715 non-null  float64\n",
      " 7   Other_sales      16715 non-null  float64\n",
      " 8   Critic_Score     8137 non-null   float64\n",
      " 9   User_Score       10014 non-null  object \n",
      " 10  Rating           9949 non-null   object \n",
      "dtypes: float64(6), object(5)\n",
      "memory usage: 1.4+ MB\n"
     ]
    }
   ],
   "source": [
    "data.info()"
   ]
  },
  {
   "cell_type": "markdown",
   "metadata": {},
   "source": [
    "Во многих столбцах есть пропуски. Больше всех в последних трех столбцах: 'Critic_Score', 'User_Score', 'Rating'."
   ]
  },
  {
   "cell_type": "markdown",
   "metadata": {},
   "source": [
    "**Вывод:**\n",
    "- Всего 16715 игр\n",
    "- Стоит провести предаброботку данных\n"
   ]
  },
  {
   "cell_type": "markdown",
   "metadata": {},
   "source": [
    "## Предобработаем данные"
   ]
  },
  {
   "cell_type": "markdown",
   "metadata": {},
   "source": [
    "### Приведем названия столбцов к нижнему регистру"
   ]
  },
  {
   "cell_type": "code",
   "execution_count": 1349,
   "metadata": {},
   "outputs": [],
   "source": [
    "data.columns = data.columns.str.lower()"
   ]
  },
  {
   "cell_type": "code",
   "execution_count": 1350,
   "metadata": {},
   "outputs": [
    {
     "data": {
      "text/html": [
       "<div>\n",
       "<style scoped>\n",
       "    .dataframe tbody tr th:only-of-type {\n",
       "        vertical-align: middle;\n",
       "    }\n",
       "\n",
       "    .dataframe tbody tr th {\n",
       "        vertical-align: top;\n",
       "    }\n",
       "\n",
       "    .dataframe thead th {\n",
       "        text-align: right;\n",
       "    }\n",
       "</style>\n",
       "<table border=\"1\" class=\"dataframe\">\n",
       "  <thead>\n",
       "    <tr style=\"text-align: right;\">\n",
       "      <th></th>\n",
       "      <th>name</th>\n",
       "      <th>platform</th>\n",
       "      <th>year_of_release</th>\n",
       "      <th>genre</th>\n",
       "      <th>na_sales</th>\n",
       "      <th>eu_sales</th>\n",
       "      <th>jp_sales</th>\n",
       "      <th>other_sales</th>\n",
       "      <th>critic_score</th>\n",
       "      <th>user_score</th>\n",
       "      <th>rating</th>\n",
       "    </tr>\n",
       "  </thead>\n",
       "  <tbody>\n",
       "    <tr>\n",
       "      <th>0</th>\n",
       "      <td>Wii Sports</td>\n",
       "      <td>Wii</td>\n",
       "      <td>2006.0</td>\n",
       "      <td>Sports</td>\n",
       "      <td>41.36</td>\n",
       "      <td>28.96</td>\n",
       "      <td>3.77</td>\n",
       "      <td>8.45</td>\n",
       "      <td>76.0</td>\n",
       "      <td>8</td>\n",
       "      <td>E</td>\n",
       "    </tr>\n",
       "    <tr>\n",
       "      <th>1</th>\n",
       "      <td>Super Mario Bros.</td>\n",
       "      <td>NES</td>\n",
       "      <td>1985.0</td>\n",
       "      <td>Platform</td>\n",
       "      <td>29.08</td>\n",
       "      <td>3.58</td>\n",
       "      <td>6.81</td>\n",
       "      <td>0.77</td>\n",
       "      <td>NaN</td>\n",
       "      <td>NaN</td>\n",
       "      <td>NaN</td>\n",
       "    </tr>\n",
       "    <tr>\n",
       "      <th>2</th>\n",
       "      <td>Mario Kart Wii</td>\n",
       "      <td>Wii</td>\n",
       "      <td>2008.0</td>\n",
       "      <td>Racing</td>\n",
       "      <td>15.68</td>\n",
       "      <td>12.76</td>\n",
       "      <td>3.79</td>\n",
       "      <td>3.29</td>\n",
       "      <td>82.0</td>\n",
       "      <td>8.3</td>\n",
       "      <td>E</td>\n",
       "    </tr>\n",
       "    <tr>\n",
       "      <th>3</th>\n",
       "      <td>Wii Sports Resort</td>\n",
       "      <td>Wii</td>\n",
       "      <td>2009.0</td>\n",
       "      <td>Sports</td>\n",
       "      <td>15.61</td>\n",
       "      <td>10.93</td>\n",
       "      <td>3.28</td>\n",
       "      <td>2.95</td>\n",
       "      <td>80.0</td>\n",
       "      <td>8</td>\n",
       "      <td>E</td>\n",
       "    </tr>\n",
       "    <tr>\n",
       "      <th>4</th>\n",
       "      <td>Pokemon Red/Pokemon Blue</td>\n",
       "      <td>GB</td>\n",
       "      <td>1996.0</td>\n",
       "      <td>Role-Playing</td>\n",
       "      <td>11.27</td>\n",
       "      <td>8.89</td>\n",
       "      <td>10.22</td>\n",
       "      <td>1.00</td>\n",
       "      <td>NaN</td>\n",
       "      <td>NaN</td>\n",
       "      <td>NaN</td>\n",
       "    </tr>\n",
       "    <tr>\n",
       "      <th>...</th>\n",
       "      <td>...</td>\n",
       "      <td>...</td>\n",
       "      <td>...</td>\n",
       "      <td>...</td>\n",
       "      <td>...</td>\n",
       "      <td>...</td>\n",
       "      <td>...</td>\n",
       "      <td>...</td>\n",
       "      <td>...</td>\n",
       "      <td>...</td>\n",
       "      <td>...</td>\n",
       "    </tr>\n",
       "    <tr>\n",
       "      <th>16710</th>\n",
       "      <td>Samurai Warriors: Sanada Maru</td>\n",
       "      <td>PS3</td>\n",
       "      <td>2016.0</td>\n",
       "      <td>Action</td>\n",
       "      <td>0.00</td>\n",
       "      <td>0.00</td>\n",
       "      <td>0.01</td>\n",
       "      <td>0.00</td>\n",
       "      <td>NaN</td>\n",
       "      <td>NaN</td>\n",
       "      <td>NaN</td>\n",
       "    </tr>\n",
       "    <tr>\n",
       "      <th>16711</th>\n",
       "      <td>LMA Manager 2007</td>\n",
       "      <td>X360</td>\n",
       "      <td>2006.0</td>\n",
       "      <td>Sports</td>\n",
       "      <td>0.00</td>\n",
       "      <td>0.01</td>\n",
       "      <td>0.00</td>\n",
       "      <td>0.00</td>\n",
       "      <td>NaN</td>\n",
       "      <td>NaN</td>\n",
       "      <td>NaN</td>\n",
       "    </tr>\n",
       "    <tr>\n",
       "      <th>16712</th>\n",
       "      <td>Haitaka no Psychedelica</td>\n",
       "      <td>PSV</td>\n",
       "      <td>2016.0</td>\n",
       "      <td>Adventure</td>\n",
       "      <td>0.00</td>\n",
       "      <td>0.00</td>\n",
       "      <td>0.01</td>\n",
       "      <td>0.00</td>\n",
       "      <td>NaN</td>\n",
       "      <td>NaN</td>\n",
       "      <td>NaN</td>\n",
       "    </tr>\n",
       "    <tr>\n",
       "      <th>16713</th>\n",
       "      <td>Spirits &amp; Spells</td>\n",
       "      <td>GBA</td>\n",
       "      <td>2003.0</td>\n",
       "      <td>Platform</td>\n",
       "      <td>0.01</td>\n",
       "      <td>0.00</td>\n",
       "      <td>0.00</td>\n",
       "      <td>0.00</td>\n",
       "      <td>NaN</td>\n",
       "      <td>NaN</td>\n",
       "      <td>NaN</td>\n",
       "    </tr>\n",
       "    <tr>\n",
       "      <th>16714</th>\n",
       "      <td>Winning Post 8 2016</td>\n",
       "      <td>PSV</td>\n",
       "      <td>2016.0</td>\n",
       "      <td>Simulation</td>\n",
       "      <td>0.00</td>\n",
       "      <td>0.00</td>\n",
       "      <td>0.01</td>\n",
       "      <td>0.00</td>\n",
       "      <td>NaN</td>\n",
       "      <td>NaN</td>\n",
       "      <td>NaN</td>\n",
       "    </tr>\n",
       "  </tbody>\n",
       "</table>\n",
       "<p>16715 rows × 11 columns</p>\n",
       "</div>"
      ],
      "text/plain": [
       "                                name platform  year_of_release         genre  \\\n",
       "0                         Wii Sports      Wii           2006.0        Sports   \n",
       "1                  Super Mario Bros.      NES           1985.0      Platform   \n",
       "2                     Mario Kart Wii      Wii           2008.0        Racing   \n",
       "3                  Wii Sports Resort      Wii           2009.0        Sports   \n",
       "4           Pokemon Red/Pokemon Blue       GB           1996.0  Role-Playing   \n",
       "...                              ...      ...              ...           ...   \n",
       "16710  Samurai Warriors: Sanada Maru      PS3           2016.0        Action   \n",
       "16711               LMA Manager 2007     X360           2006.0        Sports   \n",
       "16712        Haitaka no Psychedelica      PSV           2016.0     Adventure   \n",
       "16713               Spirits & Spells      GBA           2003.0      Platform   \n",
       "16714            Winning Post 8 2016      PSV           2016.0    Simulation   \n",
       "\n",
       "       na_sales  eu_sales  jp_sales  other_sales  critic_score user_score  \\\n",
       "0         41.36     28.96      3.77         8.45          76.0          8   \n",
       "1         29.08      3.58      6.81         0.77           NaN        NaN   \n",
       "2         15.68     12.76      3.79         3.29          82.0        8.3   \n",
       "3         15.61     10.93      3.28         2.95          80.0          8   \n",
       "4         11.27      8.89     10.22         1.00           NaN        NaN   \n",
       "...         ...       ...       ...          ...           ...        ...   \n",
       "16710      0.00      0.00      0.01         0.00           NaN        NaN   \n",
       "16711      0.00      0.01      0.00         0.00           NaN        NaN   \n",
       "16712      0.00      0.00      0.01         0.00           NaN        NaN   \n",
       "16713      0.01      0.00      0.00         0.00           NaN        NaN   \n",
       "16714      0.00      0.00      0.01         0.00           NaN        NaN   \n",
       "\n",
       "      rating  \n",
       "0          E  \n",
       "1        NaN  \n",
       "2          E  \n",
       "3          E  \n",
       "4        NaN  \n",
       "...      ...  \n",
       "16710    NaN  \n",
       "16711    NaN  \n",
       "16712    NaN  \n",
       "16713    NaN  \n",
       "16714    NaN  \n",
       "\n",
       "[16715 rows x 11 columns]"
      ]
     },
     "execution_count": 1350,
     "metadata": {},
     "output_type": "execute_result"
    }
   ],
   "source": [
    "data"
   ]
  },
  {
   "cell_type": "markdown",
   "metadata": {},
   "source": [
    "###  Преобразуем типы данных и обработаем пропуски"
   ]
  },
  {
   "cell_type": "code",
   "execution_count": 1351,
   "metadata": {},
   "outputs": [
    {
     "name": "stdout",
     "output_type": "stream",
     "text": [
      "<class 'pandas.core.frame.DataFrame'>\n",
      "RangeIndex: 16715 entries, 0 to 16714\n",
      "Data columns (total 11 columns):\n",
      " #   Column           Non-Null Count  Dtype  \n",
      "---  ------           --------------  -----  \n",
      " 0   name             16713 non-null  object \n",
      " 1   platform         16715 non-null  object \n",
      " 2   year_of_release  16446 non-null  float64\n",
      " 3   genre            16713 non-null  object \n",
      " 4   na_sales         16715 non-null  float64\n",
      " 5   eu_sales         16715 non-null  float64\n",
      " 6   jp_sales         16715 non-null  float64\n",
      " 7   other_sales      16715 non-null  float64\n",
      " 8   critic_score     8137 non-null   float64\n",
      " 9   user_score       10014 non-null  object \n",
      " 10  rating           9949 non-null   object \n",
      "dtypes: float64(6), object(5)\n",
      "memory usage: 1.4+ MB\n"
     ]
    }
   ],
   "source": [
    "data.info()"
   ]
  },
  {
   "cell_type": "code",
   "execution_count": 1352,
   "metadata": {},
   "outputs": [
    {
     "data": {
      "text/plain": [
       "name                  2\n",
       "platform              0\n",
       "year_of_release     269\n",
       "genre                 2\n",
       "na_sales              0\n",
       "eu_sales              0\n",
       "jp_sales              0\n",
       "other_sales           0\n",
       "critic_score       8578\n",
       "user_score         6701\n",
       "rating             6766\n",
       "dtype: int64"
      ]
     },
     "execution_count": 1352,
     "metadata": {},
     "output_type": "execute_result"
    }
   ],
   "source": [
    "data.isna().sum()"
   ]
  },
  {
   "cell_type": "markdown",
   "metadata": {},
   "source": [
    "В столбце 'name' всего 2 пропуска. Удалим их."
   ]
  },
  {
   "cell_type": "code",
   "execution_count": 1353,
   "metadata": {},
   "outputs": [],
   "source": [
    "data = data.dropna(subset=['name'])"
   ]
  },
  {
   "cell_type": "markdown",
   "metadata": {},
   "source": [
    "В столбце 'year_of_release' так же удалим пропуска, так как без года выпуска мы не сможем провести дальнейший анализ."
   ]
  },
  {
   "cell_type": "code",
   "execution_count": 1354,
   "metadata": {},
   "outputs": [],
   "source": [
    "data = data.dropna(subset=['year_of_release'])"
   ]
  },
  {
   "cell_type": "markdown",
   "metadata": {},
   "source": [
    "Преобразуем его в тип Int, так как это года."
   ]
  },
  {
   "cell_type": "code",
   "execution_count": 1355,
   "metadata": {},
   "outputs": [
    {
     "data": {
      "text/plain": [
       "0        2006\n",
       "1        1985\n",
       "2        2008\n",
       "3        2009\n",
       "4        1996\n",
       "         ... \n",
       "16710    2016\n",
       "16711    2006\n",
       "16712    2016\n",
       "16713    2003\n",
       "16714    2016\n",
       "Name: year_of_release, Length: 16444, dtype: int64"
      ]
     },
     "execution_count": 1355,
     "metadata": {},
     "output_type": "execute_result"
    }
   ],
   "source": [
    "data['year_of_release'] = data['year_of_release'].fillna(0).astype('int')\n",
    "data['year_of_release']"
   ]
  },
  {
   "cell_type": "code",
   "execution_count": 1356,
   "metadata": {},
   "outputs": [
    {
     "data": {
      "text/plain": [
       "name                  0\n",
       "platform              0\n",
       "year_of_release       0\n",
       "genre                 0\n",
       "na_sales              0\n",
       "eu_sales              0\n",
       "jp_sales              0\n",
       "other_sales           0\n",
       "critic_score       8461\n",
       "user_score         6605\n",
       "rating             6676\n",
       "dtype: int64"
      ]
     },
     "execution_count": 1356,
     "metadata": {},
     "output_type": "execute_result"
    }
   ],
   "source": [
    "data.isna().sum()"
   ]
  },
  {
   "cell_type": "markdown",
   "metadata": {},
   "source": [
    "Рассмотрим столбец 'critic_score'"
   ]
  },
  {
   "cell_type": "code",
   "execution_count": 1357,
   "metadata": {},
   "outputs": [
    {
     "data": {
      "text/plain": [
       "array([76., nan, 82., 80., 89., 58., 87., 91., 61., 97., 95., 77., 88.,\n",
       "       83., 94., 93., 85., 86., 98., 96., 90., 84., 73., 74., 78., 92.,\n",
       "       71., 72., 68., 62., 49., 67., 81., 66., 56., 79., 70., 59., 64.,\n",
       "       75., 60., 63., 69., 50., 25., 42., 44., 55., 48., 57., 29., 47.,\n",
       "       65., 54., 20., 53., 37., 38., 33., 52., 30., 32., 43., 45., 51.,\n",
       "       40., 46., 39., 34., 41., 36., 31., 27., 35., 26., 19., 28., 23.,\n",
       "       24., 21., 17., 13.])"
      ]
     },
     "execution_count": 1357,
     "metadata": {},
     "output_type": "execute_result"
    }
   ],
   "source": [
    "data['critic_score'].unique()"
   ]
  },
  {
   "cell_type": "code",
   "execution_count": 1358,
   "metadata": {},
   "outputs": [
    {
     "data": {
      "text/plain": [
       "<AxesSubplot:>"
      ]
     },
     "execution_count": 1358,
     "metadata": {},
     "output_type": "execute_result"
    },
    {
     "data": {
      "image/png": "[encoded data removed]",
      "text/plain": [
       "<Figure size 432x288 with 1 Axes>"
      ]
     },
     "metadata": {},
     "output_type": "display_data"
    }
   ],
   "source": [
    "data['critic_score'].hist(bins=10, range=(0, 100))"
   ]
  },
  {
   "cell_type": "markdown",
   "metadata": {},
   "source": [
    "Пропусков много, удалять их нельзя. На ноль менять тоже не будем, так как это сильно исказит среднее значение. Оставим как есть."
   ]
  },
  {
   "cell_type": "markdown",
   "metadata": {},
   "source": [
    "Рассмотрим столбец 'user_score'"
   ]
  },
  {
   "cell_type": "code",
   "execution_count": 1359,
   "metadata": {},
   "outputs": [
    {
     "data": {
      "text/plain": [
       "array(['8', nan, '8.3', '8.5', '6.6', '8.4', '8.6', '7.7', '6.3', '7.4',\n",
       "       '8.2', '9', '7.9', '8.1', '8.7', '7.1', '3.4', '5.3', '4.8', '3.2',\n",
       "       '8.9', '6.4', '7.8', '7.5', '2.6', '7.2', '9.2', '7', '7.3', '4.3',\n",
       "       '7.6', '5.7', '5', '9.1', '6.5', 'tbd', '8.8', '6.9', '9.4', '6.8',\n",
       "       '6.1', '6.7', '5.4', '4', '4.9', '4.5', '9.3', '6.2', '4.2', '6',\n",
       "       '3.7', '4.1', '5.8', '5.6', '5.5', '4.4', '4.6', '5.9', '3.9',\n",
       "       '3.1', '2.9', '5.2', '3.3', '4.7', '5.1', '3.5', '2.5', '1.9', '3',\n",
       "       '2.7', '2.2', '2', '9.5', '2.1', '3.6', '2.8', '1.8', '3.8', '0',\n",
       "       '1.6', '9.6', '2.4', '1.7', '1.1', '0.3', '1.5', '0.7', '1.2',\n",
       "       '2.3', '0.5', '1.3', '0.2', '0.6', '1.4', '0.9', '1', '9.7'],\n",
       "      dtype=object)"
      ]
     },
     "execution_count": 1359,
     "metadata": {},
     "output_type": "execute_result"
    }
   ],
   "source": [
    "data['user_score'].unique()"
   ]
  },
  {
   "cell_type": "markdown",
   "metadata": {},
   "source": [
    "Есть странное значение 'tbd'"
   ]
  },
  {
   "cell_type": "code",
   "execution_count": 1360,
   "metadata": {},
   "outputs": [
    {
     "data": {
      "text/html": [
       "<div>\n",
       "<style scoped>\n",
       "    .dataframe tbody tr th:only-of-type {\n",
       "        vertical-align: middle;\n",
       "    }\n",
       "\n",
       "    .dataframe tbody tr th {\n",
       "        vertical-align: top;\n",
       "    }\n",
       "\n",
       "    .dataframe thead th {\n",
       "        text-align: right;\n",
       "    }\n",
       "</style>\n",
       "<table border=\"1\" class=\"dataframe\">\n",
       "  <thead>\n",
       "    <tr style=\"text-align: right;\">\n",
       "      <th></th>\n",
       "      <th>name</th>\n",
       "      <th>platform</th>\n",
       "      <th>year_of_release</th>\n",
       "      <th>genre</th>\n",
       "      <th>na_sales</th>\n",
       "      <th>eu_sales</th>\n",
       "      <th>jp_sales</th>\n",
       "      <th>other_sales</th>\n",
       "      <th>critic_score</th>\n",
       "      <th>user_score</th>\n",
       "      <th>rating</th>\n",
       "    </tr>\n",
       "  </thead>\n",
       "  <tbody>\n",
       "    <tr>\n",
       "      <th>119</th>\n",
       "      <td>Zumba Fitness</td>\n",
       "      <td>Wii</td>\n",
       "      <td>2010</td>\n",
       "      <td>Sports</td>\n",
       "      <td>3.45</td>\n",
       "      <td>2.59</td>\n",
       "      <td>0.0</td>\n",
       "      <td>0.66</td>\n",
       "      <td>NaN</td>\n",
       "      <td>tbd</td>\n",
       "      <td>E</td>\n",
       "    </tr>\n",
       "    <tr>\n",
       "      <th>301</th>\n",
       "      <td>Namco Museum: 50th Anniversary</td>\n",
       "      <td>PS2</td>\n",
       "      <td>2005</td>\n",
       "      <td>Misc</td>\n",
       "      <td>2.08</td>\n",
       "      <td>1.35</td>\n",
       "      <td>0.0</td>\n",
       "      <td>0.54</td>\n",
       "      <td>61.0</td>\n",
       "      <td>tbd</td>\n",
       "      <td>E10+</td>\n",
       "    </tr>\n",
       "    <tr>\n",
       "      <th>520</th>\n",
       "      <td>Zumba Fitness 2</td>\n",
       "      <td>Wii</td>\n",
       "      <td>2011</td>\n",
       "      <td>Sports</td>\n",
       "      <td>1.51</td>\n",
       "      <td>1.03</td>\n",
       "      <td>0.0</td>\n",
       "      <td>0.27</td>\n",
       "      <td>NaN</td>\n",
       "      <td>tbd</td>\n",
       "      <td>T</td>\n",
       "    </tr>\n",
       "    <tr>\n",
       "      <th>645</th>\n",
       "      <td>uDraw Studio</td>\n",
       "      <td>Wii</td>\n",
       "      <td>2010</td>\n",
       "      <td>Misc</td>\n",
       "      <td>1.65</td>\n",
       "      <td>0.57</td>\n",
       "      <td>0.0</td>\n",
       "      <td>0.20</td>\n",
       "      <td>71.0</td>\n",
       "      <td>tbd</td>\n",
       "      <td>E</td>\n",
       "    </tr>\n",
       "    <tr>\n",
       "      <th>718</th>\n",
       "      <td>Just Dance Kids</td>\n",
       "      <td>Wii</td>\n",
       "      <td>2010</td>\n",
       "      <td>Misc</td>\n",
       "      <td>1.52</td>\n",
       "      <td>0.54</td>\n",
       "      <td>0.0</td>\n",
       "      <td>0.18</td>\n",
       "      <td>NaN</td>\n",
       "      <td>tbd</td>\n",
       "      <td>E</td>\n",
       "    </tr>\n",
       "    <tr>\n",
       "      <th>...</th>\n",
       "      <td>...</td>\n",
       "      <td>...</td>\n",
       "      <td>...</td>\n",
       "      <td>...</td>\n",
       "      <td>...</td>\n",
       "      <td>...</td>\n",
       "      <td>...</td>\n",
       "      <td>...</td>\n",
       "      <td>...</td>\n",
       "      <td>...</td>\n",
       "      <td>...</td>\n",
       "    </tr>\n",
       "    <tr>\n",
       "      <th>16695</th>\n",
       "      <td>Planet Monsters</td>\n",
       "      <td>GBA</td>\n",
       "      <td>2001</td>\n",
       "      <td>Action</td>\n",
       "      <td>0.01</td>\n",
       "      <td>0.00</td>\n",
       "      <td>0.0</td>\n",
       "      <td>0.00</td>\n",
       "      <td>67.0</td>\n",
       "      <td>tbd</td>\n",
       "      <td>E</td>\n",
       "    </tr>\n",
       "    <tr>\n",
       "      <th>16697</th>\n",
       "      <td>Bust-A-Move 3000</td>\n",
       "      <td>GC</td>\n",
       "      <td>2003</td>\n",
       "      <td>Puzzle</td>\n",
       "      <td>0.01</td>\n",
       "      <td>0.00</td>\n",
       "      <td>0.0</td>\n",
       "      <td>0.00</td>\n",
       "      <td>53.0</td>\n",
       "      <td>tbd</td>\n",
       "      <td>E</td>\n",
       "    </tr>\n",
       "    <tr>\n",
       "      <th>16698</th>\n",
       "      <td>Mega Brain Boost</td>\n",
       "      <td>DS</td>\n",
       "      <td>2008</td>\n",
       "      <td>Puzzle</td>\n",
       "      <td>0.01</td>\n",
       "      <td>0.00</td>\n",
       "      <td>0.0</td>\n",
       "      <td>0.00</td>\n",
       "      <td>48.0</td>\n",
       "      <td>tbd</td>\n",
       "      <td>E</td>\n",
       "    </tr>\n",
       "    <tr>\n",
       "      <th>16704</th>\n",
       "      <td>Plushees</td>\n",
       "      <td>DS</td>\n",
       "      <td>2008</td>\n",
       "      <td>Simulation</td>\n",
       "      <td>0.01</td>\n",
       "      <td>0.00</td>\n",
       "      <td>0.0</td>\n",
       "      <td>0.00</td>\n",
       "      <td>NaN</td>\n",
       "      <td>tbd</td>\n",
       "      <td>E</td>\n",
       "    </tr>\n",
       "    <tr>\n",
       "      <th>16706</th>\n",
       "      <td>Men in Black II: Alien Escape</td>\n",
       "      <td>GC</td>\n",
       "      <td>2003</td>\n",
       "      <td>Shooter</td>\n",
       "      <td>0.01</td>\n",
       "      <td>0.00</td>\n",
       "      <td>0.0</td>\n",
       "      <td>0.00</td>\n",
       "      <td>NaN</td>\n",
       "      <td>tbd</td>\n",
       "      <td>T</td>\n",
       "    </tr>\n",
       "  </tbody>\n",
       "</table>\n",
       "<p>2376 rows × 11 columns</p>\n",
       "</div>"
      ],
      "text/plain": [
       "                                 name platform  year_of_release       genre  \\\n",
       "119                     Zumba Fitness      Wii             2010      Sports   \n",
       "301    Namco Museum: 50th Anniversary      PS2             2005        Misc   \n",
       "520                   Zumba Fitness 2      Wii             2011      Sports   \n",
       "645                      uDraw Studio      Wii             2010        Misc   \n",
       "718                   Just Dance Kids      Wii             2010        Misc   \n",
       "...                               ...      ...              ...         ...   \n",
       "16695                 Planet Monsters      GBA             2001      Action   \n",
       "16697                Bust-A-Move 3000       GC             2003      Puzzle   \n",
       "16698                Mega Brain Boost       DS             2008      Puzzle   \n",
       "16704                        Plushees       DS             2008  Simulation   \n",
       "16706   Men in Black II: Alien Escape       GC             2003     Shooter   \n",
       "\n",
       "       na_sales  eu_sales  jp_sales  other_sales  critic_score user_score  \\\n",
       "119        3.45      2.59       0.0         0.66           NaN        tbd   \n",
       "301        2.08      1.35       0.0         0.54          61.0        tbd   \n",
       "520        1.51      1.03       0.0         0.27           NaN        tbd   \n",
       "645        1.65      0.57       0.0         0.20          71.0        tbd   \n",
       "718        1.52      0.54       0.0         0.18           NaN        tbd   \n",
       "...         ...       ...       ...          ...           ...        ...   \n",
       "16695      0.01      0.00       0.0         0.00          67.0        tbd   \n",
       "16697      0.01      0.00       0.0         0.00          53.0        tbd   \n",
       "16698      0.01      0.00       0.0         0.00          48.0        tbd   \n",
       "16704      0.01      0.00       0.0         0.00           NaN        tbd   \n",
       "16706      0.01      0.00       0.0         0.00           NaN        tbd   \n",
       "\n",
       "      rating  \n",
       "119        E  \n",
       "301     E10+  \n",
       "520        T  \n",
       "645        E  \n",
       "718        E  \n",
       "...      ...  \n",
       "16695      E  \n",
       "16697      E  \n",
       "16698      E  \n",
       "16704      E  \n",
       "16706      T  \n",
       "\n",
       "[2376 rows x 11 columns]"
      ]
     },
     "execution_count": 1360,
     "metadata": {},
     "output_type": "execute_result"
    }
   ],
   "source": [
    "data[data['user_score'] == 'tbd']"
   ]
  },
  {
   "cell_type": "markdown",
   "metadata": {},
   "source": [
    "Посмотрим сколько их"
   ]
  },
  {
   "cell_type": "code",
   "execution_count": 1361,
   "metadata": {},
   "outputs": [
    {
     "data": {
      "text/plain": [
       "2376"
      ]
     },
     "execution_count": 1361,
     "metadata": {},
     "output_type": "execute_result"
    }
   ],
   "source": [
    "len(data[data['user_score']=='tbd'])"
   ]
  },
  {
   "cell_type": "markdown",
   "metadata": {},
   "source": [
    "Абривеатура 'tbd' значит, что оценка еще не выставлена. Заменим ее на 'nan'."
   ]
  },
  {
   "cell_type": "code",
   "execution_count": 1362,
   "metadata": {},
   "outputs": [],
   "source": [
    "data['user_score'] = data['user_score'].replace('tbd', np.NaN)"
   ]
  },
  {
   "cell_type": "code",
   "execution_count": 1363,
   "metadata": {},
   "outputs": [
    {
     "data": {
      "text/plain": [
       "array(['8', nan, '8.3', '8.5', '6.6', '8.4', '8.6', '7.7', '6.3', '7.4',\n",
       "       '8.2', '9', '7.9', '8.1', '8.7', '7.1', '3.4', '5.3', '4.8', '3.2',\n",
       "       '8.9', '6.4', '7.8', '7.5', '2.6', '7.2', '9.2', '7', '7.3', '4.3',\n",
       "       '7.6', '5.7', '5', '9.1', '6.5', '8.8', '6.9', '9.4', '6.8', '6.1',\n",
       "       '6.7', '5.4', '4', '4.9', '4.5', '9.3', '6.2', '4.2', '6', '3.7',\n",
       "       '4.1', '5.8', '5.6', '5.5', '4.4', '4.6', '5.9', '3.9', '3.1',\n",
       "       '2.9', '5.2', '3.3', '4.7', '5.1', '3.5', '2.5', '1.9', '3', '2.7',\n",
       "       '2.2', '2', '9.5', '2.1', '3.6', '2.8', '1.8', '3.8', '0', '1.6',\n",
       "       '9.6', '2.4', '1.7', '1.1', '0.3', '1.5', '0.7', '1.2', '2.3',\n",
       "       '0.5', '1.3', '0.2', '0.6', '1.4', '0.9', '1', '9.7'], dtype=object)"
      ]
     },
     "execution_count": 1363,
     "metadata": {},
     "output_type": "execute_result"
    }
   ],
   "source": [
    "data['user_score'].unique()"
   ]
  },
  {
   "cell_type": "markdown",
   "metadata": {},
   "source": [
    "Так же как и в предыдущем столбце, не будем менять пропуски на 0."
   ]
  },
  {
   "cell_type": "markdown",
   "metadata": {},
   "source": [
    "Преобразуем 'user_score' в 'float64'"
   ]
  },
  {
   "cell_type": "code",
   "execution_count": 1364,
   "metadata": {},
   "outputs": [],
   "source": [
    "data['user_score'] = data['user_score'].astype('float64')"
   ]
  },
  {
   "cell_type": "code",
   "execution_count": 1365,
   "metadata": {},
   "outputs": [
    {
     "name": "stdout",
     "output_type": "stream",
     "text": [
      "<class 'pandas.core.frame.DataFrame'>\n",
      "Int64Index: 16444 entries, 0 to 16714\n",
      "Data columns (total 11 columns):\n",
      " #   Column           Non-Null Count  Dtype  \n",
      "---  ------           --------------  -----  \n",
      " 0   name             16444 non-null  object \n",
      " 1   platform         16444 non-null  object \n",
      " 2   year_of_release  16444 non-null  int64  \n",
      " 3   genre            16444 non-null  object \n",
      " 4   na_sales         16444 non-null  float64\n",
      " 5   eu_sales         16444 non-null  float64\n",
      " 6   jp_sales         16444 non-null  float64\n",
      " 7   other_sales      16444 non-null  float64\n",
      " 8   critic_score     7983 non-null   float64\n",
      " 9   user_score       7463 non-null   float64\n",
      " 10  rating           9768 non-null   object \n",
      "dtypes: float64(6), int64(1), object(4)\n",
      "memory usage: 1.5+ MB\n"
     ]
    }
   ],
   "source": [
    "data.info()"
   ]
  },
  {
   "cell_type": "markdown",
   "metadata": {},
   "source": [
    "Рассмотрим столбец 'rating'"
   ]
  },
  {
   "cell_type": "code",
   "execution_count": 1366,
   "metadata": {},
   "outputs": [
    {
     "data": {
      "text/plain": [
       "E       3921\n",
       "T       2905\n",
       "M       1536\n",
       "E10+    1393\n",
       "EC         8\n",
       "K-A        3\n",
       "AO         1\n",
       "RP         1\n",
       "Name: rating, dtype: int64"
      ]
     },
     "execution_count": 1366,
     "metadata": {},
     "output_type": "execute_result"
    }
   ],
   "source": [
    "data['rating'].value_counts()"
   ]
  },
  {
   "cell_type": "markdown",
   "metadata": {},
   "source": [
    "Здесь тоже оставим как есть."
   ]
  },
  {
   "cell_type": "markdown",
   "metadata": {},
   "source": [
    "### Посчитаем суммарные продажи во всех регионах и запишем их в отдельный столбец"
   ]
  },
  {
   "cell_type": "code",
   "execution_count": 1367,
   "metadata": {},
   "outputs": [],
   "source": [
    "data['general_sales'] = data['na_sales'] + data['eu_sales'] + data['jp_sales'] + data['other_sales']"
   ]
  },
  {
   "cell_type": "code",
   "execution_count": 1368,
   "metadata": {},
   "outputs": [
    {
     "data": {
      "text/html": [
       "<div>\n",
       "<style scoped>\n",
       "    .dataframe tbody tr th:only-of-type {\n",
       "        vertical-align: middle;\n",
       "    }\n",
       "\n",
       "    .dataframe tbody tr th {\n",
       "        vertical-align: top;\n",
       "    }\n",
       "\n",
       "    .dataframe thead th {\n",
       "        text-align: right;\n",
       "    }\n",
       "</style>\n",
       "<table border=\"1\" class=\"dataframe\">\n",
       "  <thead>\n",
       "    <tr style=\"text-align: right;\">\n",
       "      <th></th>\n",
       "      <th>name</th>\n",
       "      <th>platform</th>\n",
       "      <th>year_of_release</th>\n",
       "      <th>genre</th>\n",
       "      <th>na_sales</th>\n",
       "      <th>eu_sales</th>\n",
       "      <th>jp_sales</th>\n",
       "      <th>other_sales</th>\n",
       "      <th>critic_score</th>\n",
       "      <th>user_score</th>\n",
       "      <th>rating</th>\n",
       "      <th>general_sales</th>\n",
       "    </tr>\n",
       "  </thead>\n",
       "  <tbody>\n",
       "    <tr>\n",
       "      <th>0</th>\n",
       "      <td>Wii Sports</td>\n",
       "      <td>Wii</td>\n",
       "      <td>2006</td>\n",
       "      <td>Sports</td>\n",
       "      <td>41.36</td>\n",
       "      <td>28.96</td>\n",
       "      <td>3.77</td>\n",
       "      <td>8.45</td>\n",
       "      <td>76.0</td>\n",
       "      <td>8.0</td>\n",
       "      <td>E</td>\n",
       "      <td>82.54</td>\n",
       "    </tr>\n",
       "    <tr>\n",
       "      <th>1</th>\n",
       "      <td>Super Mario Bros.</td>\n",
       "      <td>NES</td>\n",
       "      <td>1985</td>\n",
       "      <td>Platform</td>\n",
       "      <td>29.08</td>\n",
       "      <td>3.58</td>\n",
       "      <td>6.81</td>\n",
       "      <td>0.77</td>\n",
       "      <td>NaN</td>\n",
       "      <td>NaN</td>\n",
       "      <td>NaN</td>\n",
       "      <td>40.24</td>\n",
       "    </tr>\n",
       "    <tr>\n",
       "      <th>2</th>\n",
       "      <td>Mario Kart Wii</td>\n",
       "      <td>Wii</td>\n",
       "      <td>2008</td>\n",
       "      <td>Racing</td>\n",
       "      <td>15.68</td>\n",
       "      <td>12.76</td>\n",
       "      <td>3.79</td>\n",
       "      <td>3.29</td>\n",
       "      <td>82.0</td>\n",
       "      <td>8.3</td>\n",
       "      <td>E</td>\n",
       "      <td>35.52</td>\n",
       "    </tr>\n",
       "    <tr>\n",
       "      <th>3</th>\n",
       "      <td>Wii Sports Resort</td>\n",
       "      <td>Wii</td>\n",
       "      <td>2009</td>\n",
       "      <td>Sports</td>\n",
       "      <td>15.61</td>\n",
       "      <td>10.93</td>\n",
       "      <td>3.28</td>\n",
       "      <td>2.95</td>\n",
       "      <td>80.0</td>\n",
       "      <td>8.0</td>\n",
       "      <td>E</td>\n",
       "      <td>32.77</td>\n",
       "    </tr>\n",
       "    <tr>\n",
       "      <th>4</th>\n",
       "      <td>Pokemon Red/Pokemon Blue</td>\n",
       "      <td>GB</td>\n",
       "      <td>1996</td>\n",
       "      <td>Role-Playing</td>\n",
       "      <td>11.27</td>\n",
       "      <td>8.89</td>\n",
       "      <td>10.22</td>\n",
       "      <td>1.00</td>\n",
       "      <td>NaN</td>\n",
       "      <td>NaN</td>\n",
       "      <td>NaN</td>\n",
       "      <td>31.38</td>\n",
       "    </tr>\n",
       "    <tr>\n",
       "      <th>...</th>\n",
       "      <td>...</td>\n",
       "      <td>...</td>\n",
       "      <td>...</td>\n",
       "      <td>...</td>\n",
       "      <td>...</td>\n",
       "      <td>...</td>\n",
       "      <td>...</td>\n",
       "      <td>...</td>\n",
       "      <td>...</td>\n",
       "      <td>...</td>\n",
       "      <td>...</td>\n",
       "      <td>...</td>\n",
       "    </tr>\n",
       "    <tr>\n",
       "      <th>16710</th>\n",
       "      <td>Samurai Warriors: Sanada Maru</td>\n",
       "      <td>PS3</td>\n",
       "      <td>2016</td>\n",
       "      <td>Action</td>\n",
       "      <td>0.00</td>\n",
       "      <td>0.00</td>\n",
       "      <td>0.01</td>\n",
       "      <td>0.00</td>\n",
       "      <td>NaN</td>\n",
       "      <td>NaN</td>\n",
       "      <td>NaN</td>\n",
       "      <td>0.01</td>\n",
       "    </tr>\n",
       "    <tr>\n",
       "      <th>16711</th>\n",
       "      <td>LMA Manager 2007</td>\n",
       "      <td>X360</td>\n",
       "      <td>2006</td>\n",
       "      <td>Sports</td>\n",
       "      <td>0.00</td>\n",
       "      <td>0.01</td>\n",
       "      <td>0.00</td>\n",
       "      <td>0.00</td>\n",
       "      <td>NaN</td>\n",
       "      <td>NaN</td>\n",
       "      <td>NaN</td>\n",
       "      <td>0.01</td>\n",
       "    </tr>\n",
       "    <tr>\n",
       "      <th>16712</th>\n",
       "      <td>Haitaka no Psychedelica</td>\n",
       "      <td>PSV</td>\n",
       "      <td>2016</td>\n",
       "      <td>Adventure</td>\n",
       "      <td>0.00</td>\n",
       "      <td>0.00</td>\n",
       "      <td>0.01</td>\n",
       "      <td>0.00</td>\n",
       "      <td>NaN</td>\n",
       "      <td>NaN</td>\n",
       "      <td>NaN</td>\n",
       "      <td>0.01</td>\n",
       "    </tr>\n",
       "    <tr>\n",
       "      <th>16713</th>\n",
       "      <td>Spirits &amp; Spells</td>\n",
       "      <td>GBA</td>\n",
       "      <td>2003</td>\n",
       "      <td>Platform</td>\n",
       "      <td>0.01</td>\n",
       "      <td>0.00</td>\n",
       "      <td>0.00</td>\n",
       "      <td>0.00</td>\n",
       "      <td>NaN</td>\n",
       "      <td>NaN</td>\n",
       "      <td>NaN</td>\n",
       "      <td>0.01</td>\n",
       "    </tr>\n",
       "    <tr>\n",
       "      <th>16714</th>\n",
       "      <td>Winning Post 8 2016</td>\n",
       "      <td>PSV</td>\n",
       "      <td>2016</td>\n",
       "      <td>Simulation</td>\n",
       "      <td>0.00</td>\n",
       "      <td>0.00</td>\n",
       "      <td>0.01</td>\n",
       "      <td>0.00</td>\n",
       "      <td>NaN</td>\n",
       "      <td>NaN</td>\n",
       "      <td>NaN</td>\n",
       "      <td>0.01</td>\n",
       "    </tr>\n",
       "  </tbody>\n",
       "</table>\n",
       "<p>16444 rows × 12 columns</p>\n",
       "</div>"
      ],
      "text/plain": [
       "                                name platform  year_of_release         genre  \\\n",
       "0                         Wii Sports      Wii             2006        Sports   \n",
       "1                  Super Mario Bros.      NES             1985      Platform   \n",
       "2                     Mario Kart Wii      Wii             2008        Racing   \n",
       "3                  Wii Sports Resort      Wii             2009        Sports   \n",
       "4           Pokemon Red/Pokemon Blue       GB             1996  Role-Playing   \n",
       "...                              ...      ...              ...           ...   \n",
       "16710  Samurai Warriors: Sanada Maru      PS3             2016        Action   \n",
       "16711               LMA Manager 2007     X360             2006        Sports   \n",
       "16712        Haitaka no Psychedelica      PSV             2016     Adventure   \n",
       "16713               Spirits & Spells      GBA             2003      Platform   \n",
       "16714            Winning Post 8 2016      PSV             2016    Simulation   \n",
       "\n",
       "       na_sales  eu_sales  jp_sales  other_sales  critic_score  user_score  \\\n",
       "0         41.36     28.96      3.77         8.45          76.0         8.0   \n",
       "1         29.08      3.58      6.81         0.77           NaN         NaN   \n",
       "2         15.68     12.76      3.79         3.29          82.0         8.3   \n",
       "3         15.61     10.93      3.28         2.95          80.0         8.0   \n",
       "4         11.27      8.89     10.22         1.00           NaN         NaN   \n",
       "...         ...       ...       ...          ...           ...         ...   \n",
       "16710      0.00      0.00      0.01         0.00           NaN         NaN   \n",
       "16711      0.00      0.01      0.00         0.00           NaN         NaN   \n",
       "16712      0.00      0.00      0.01         0.00           NaN         NaN   \n",
       "16713      0.01      0.00      0.00         0.00           NaN         NaN   \n",
       "16714      0.00      0.00      0.01         0.00           NaN         NaN   \n",
       "\n",
       "      rating  general_sales  \n",
       "0          E          82.54  \n",
       "1        NaN          40.24  \n",
       "2          E          35.52  \n",
       "3          E          32.77  \n",
       "4        NaN          31.38  \n",
       "...      ...            ...  \n",
       "16710    NaN           0.01  \n",
       "16711    NaN           0.01  \n",
       "16712    NaN           0.01  \n",
       "16713    NaN           0.01  \n",
       "16714    NaN           0.01  \n",
       "\n",
       "[16444 rows x 12 columns]"
      ]
     },
     "execution_count": 1368,
     "metadata": {},
     "output_type": "execute_result"
    }
   ],
   "source": [
    "data"
   ]
  },
  {
   "cell_type": "markdown",
   "metadata": {},
   "source": [
    "**Вывод:**\n",
    "- Привели названия столбцов к нижнему регистру\n",
    "- Удалили пропуска и изменили тип данных, там где это нужно\n",
    "- Создали новый столбец с общей суммой продаж"
   ]
  },
  {
   "cell_type": "markdown",
   "metadata": {},
   "source": [
    "## Проведем исследовательский анализ данных"
   ]
  },
  {
   "cell_type": "markdown",
   "metadata": {},
   "source": [
    "### Посмотрим сколько игр выпускалось в каждые годы"
   ]
  },
  {
   "cell_type": "code",
   "execution_count": 1369,
   "metadata": {},
   "outputs": [
    {
     "data": {
      "text/plain": [
       "2008    1427\n",
       "2009    1426\n",
       "2010    1255\n",
       "2007    1197\n",
       "2011    1136\n",
       "2006    1006\n",
       "2005     939\n",
       "2002     829\n",
       "2003     775\n",
       "2004     762\n",
       "2012     653\n",
       "2015     606\n",
       "2014     581\n",
       "2013     544\n",
       "2016     502\n",
       "2001     482\n",
       "1998     379\n",
       "2000     350\n",
       "1999     338\n",
       "1997     289\n",
       "1996     263\n",
       "1995     219\n",
       "1994     121\n",
       "1993      60\n",
       "1981      46\n",
       "1992      43\n",
       "1991      41\n",
       "1982      36\n",
       "1986      21\n",
       "1983      17\n",
       "1989      17\n",
       "1990      16\n",
       "1987      16\n",
       "1988      15\n",
       "1985      14\n",
       "1984      14\n",
       "1980       9\n",
       "Name: year_of_release, dtype: int64"
      ]
     },
     "execution_count": 1369,
     "metadata": {},
     "output_type": "execute_result"
    }
   ],
   "source": [
    "data['year_of_release'].value_counts()"
   ]
  },
  {
   "cell_type": "markdown",
   "metadata": {},
   "source": [
    "С каждым годом количество выпускаемых игр растет."
   ]
  },
  {
   "cell_type": "markdown",
   "metadata": {},
   "source": [
    "### Посмотрим, как менялись продажи по платформам"
   ]
  },
  {
   "cell_type": "markdown",
   "metadata": {},
   "source": [
    "Выберем платформы с наибольшими суммарными продажами"
   ]
  },
  {
   "cell_type": "code",
   "execution_count": 1370,
   "metadata": {},
   "outputs": [
    {
     "data": {
      "text/html": [
       "<div>\n",
       "<style scoped>\n",
       "    .dataframe tbody tr th:only-of-type {\n",
       "        vertical-align: middle;\n",
       "    }\n",
       "\n",
       "    .dataframe tbody tr th {\n",
       "        vertical-align: top;\n",
       "    }\n",
       "\n",
       "    .dataframe thead th {\n",
       "        text-align: right;\n",
       "    }\n",
       "</style>\n",
       "<table border=\"1\" class=\"dataframe\">\n",
       "  <thead>\n",
       "    <tr style=\"text-align: right;\">\n",
       "      <th></th>\n",
       "      <th>general_sales</th>\n",
       "    </tr>\n",
       "    <tr>\n",
       "      <th>platform</th>\n",
       "      <th></th>\n",
       "    </tr>\n",
       "  </thead>\n",
       "  <tbody>\n",
       "    <tr>\n",
       "      <th>PS2</th>\n",
       "      <td>1233.56</td>\n",
       "    </tr>\n",
       "    <tr>\n",
       "      <th>X360</th>\n",
       "      <td>961.24</td>\n",
       "    </tr>\n",
       "    <tr>\n",
       "      <th>PS3</th>\n",
       "      <td>931.34</td>\n",
       "    </tr>\n",
       "    <tr>\n",
       "      <th>Wii</th>\n",
       "      <td>891.18</td>\n",
       "    </tr>\n",
       "    <tr>\n",
       "      <th>DS</th>\n",
       "      <td>802.78</td>\n",
       "    </tr>\n",
       "    <tr>\n",
       "      <th>PS</th>\n",
       "      <td>727.58</td>\n",
       "    </tr>\n",
       "    <tr>\n",
       "      <th>PS4</th>\n",
       "      <td>314.14</td>\n",
       "    </tr>\n",
       "    <tr>\n",
       "      <th>GBA</th>\n",
       "      <td>312.88</td>\n",
       "    </tr>\n",
       "    <tr>\n",
       "      <th>PSP</th>\n",
       "      <td>289.53</td>\n",
       "    </tr>\n",
       "    <tr>\n",
       "      <th>3DS</th>\n",
       "      <td>257.81</td>\n",
       "    </tr>\n",
       "    <tr>\n",
       "      <th>PC</th>\n",
       "      <td>255.76</td>\n",
       "    </tr>\n",
       "    <tr>\n",
       "      <th>GB</th>\n",
       "      <td>254.43</td>\n",
       "    </tr>\n",
       "    <tr>\n",
       "      <th>XB</th>\n",
       "      <td>251.57</td>\n",
       "    </tr>\n",
       "    <tr>\n",
       "      <th>NES</th>\n",
       "      <td>251.05</td>\n",
       "    </tr>\n",
       "    <tr>\n",
       "      <th>N64</th>\n",
       "      <td>218.01</td>\n",
       "    </tr>\n",
       "    <tr>\n",
       "      <th>SNES</th>\n",
       "      <td>200.04</td>\n",
       "    </tr>\n",
       "    <tr>\n",
       "      <th>GC</th>\n",
       "      <td>196.73</td>\n",
       "    </tr>\n",
       "    <tr>\n",
       "      <th>XOne</th>\n",
       "      <td>159.32</td>\n",
       "    </tr>\n",
       "    <tr>\n",
       "      <th>2600</th>\n",
       "      <td>86.48</td>\n",
       "    </tr>\n",
       "    <tr>\n",
       "      <th>WiiU</th>\n",
       "      <td>82.19</td>\n",
       "    </tr>\n",
       "    <tr>\n",
       "      <th>PSV</th>\n",
       "      <td>53.81</td>\n",
       "    </tr>\n",
       "    <tr>\n",
       "      <th>SAT</th>\n",
       "      <td>33.59</td>\n",
       "    </tr>\n",
       "    <tr>\n",
       "      <th>GEN</th>\n",
       "      <td>28.35</td>\n",
       "    </tr>\n",
       "    <tr>\n",
       "      <th>DC</th>\n",
       "      <td>15.95</td>\n",
       "    </tr>\n",
       "    <tr>\n",
       "      <th>SCD</th>\n",
       "      <td>1.86</td>\n",
       "    </tr>\n",
       "    <tr>\n",
       "      <th>NG</th>\n",
       "      <td>1.44</td>\n",
       "    </tr>\n",
       "    <tr>\n",
       "      <th>WS</th>\n",
       "      <td>1.42</td>\n",
       "    </tr>\n",
       "    <tr>\n",
       "      <th>TG16</th>\n",
       "      <td>0.16</td>\n",
       "    </tr>\n",
       "    <tr>\n",
       "      <th>3DO</th>\n",
       "      <td>0.10</td>\n",
       "    </tr>\n",
       "    <tr>\n",
       "      <th>GG</th>\n",
       "      <td>0.04</td>\n",
       "    </tr>\n",
       "    <tr>\n",
       "      <th>PCFX</th>\n",
       "      <td>0.03</td>\n",
       "    </tr>\n",
       "  </tbody>\n",
       "</table>\n",
       "</div>"
      ],
      "text/plain": [
       "          general_sales\n",
       "platform               \n",
       "PS2             1233.56\n",
       "X360             961.24\n",
       "PS3              931.34\n",
       "Wii              891.18\n",
       "DS               802.78\n",
       "PS               727.58\n",
       "PS4              314.14\n",
       "GBA              312.88\n",
       "PSP              289.53\n",
       "3DS              257.81\n",
       "PC               255.76\n",
       "GB               254.43\n",
       "XB               251.57\n",
       "NES              251.05\n",
       "N64              218.01\n",
       "SNES             200.04\n",
       "GC               196.73\n",
       "XOne             159.32\n",
       "2600              86.48\n",
       "WiiU              82.19\n",
       "PSV               53.81\n",
       "SAT               33.59\n",
       "GEN               28.35\n",
       "DC                15.95\n",
       "SCD                1.86\n",
       "NG                 1.44\n",
       "WS                 1.42\n",
       "TG16               0.16\n",
       "3DO                0.10\n",
       "GG                 0.04\n",
       "PCFX               0.03"
      ]
     },
     "execution_count": 1370,
     "metadata": {},
     "output_type": "execute_result"
    }
   ],
   "source": [
    "data.pivot_table(index = 'platform', values = 'general_sales', aggfunc = 'sum').sort_values(by='general_sales', ascending=False)"
   ]
  },
  {
   "cell_type": "markdown",
   "metadata": {},
   "source": [
    "Больше всего игр продается на 'PS2', 'X360', 'PS3', 'Wii', 'DS' и 'PS' "
   ]
  },
  {
   "cell_type": "markdown",
   "metadata": {},
   "source": [
    "Возьмем пратформы с наибольшими продажами и посмотрим по годам"
   ]
  },
  {
   "cell_type": "code",
   "execution_count": 1371,
   "metadata": {
    "scrolled": false
   },
   "outputs": [
    {
     "data": {
      "text/plain": [
       "<AxesSubplot:title={'center':'PS'}, xlabel='year_of_release'>"
      ]
     },
     "execution_count": 1371,
     "metadata": {},
     "output_type": "execute_result"
    },
    {
     "data": {
      "image/png": "[encoded data removed]",
      "text/plain": [
       "<Figure size 432x288 with 1 Axes>"
      ]
     },
     "metadata": {},
     "output_type": "display_data"
    },
    {
     "data": {
      "image/png": "[encoded data removed]",
      "text/plain": [
       "<Figure size 432x288 with 1 Axes>"
      ]
     },
     "metadata": {},
     "output_type": "display_data"
    },
    {
     "data": {
      "image/png": "[encoded data removed]",
      "text/plain": [
       "<Figure size 432x288 with 1 Axes>"
      ]
     },
     "metadata": {},
     "output_type": "display_data"
    },
    {
     "data": {
      "image/png": "[encoded data removed]",
      "text/plain": [
       "<Figure size 432x288 with 1 Axes>"
      ]
     },
     "metadata": {},
     "output_type": "display_data"
    },
    {
     "data": {
      "image/png": "[encoded data removed]",
      "text/plain": [
       "<Figure size 432x288 with 1 Axes>"
      ]
     },
     "metadata": {},
     "output_type": "display_data"
    },
    {
     "data": {
      "image/png": "[encoded data removed]",
      "text/plain": [
       "<Figure size 432x288 with 1 Axes>"
      ]
     },
     "metadata": {},
     "output_type": "display_data"
    }
   ],
   "source": [
    "data[data['platform'] == 'PS2'].pivot_table(index='year_of_release', values='general_sales', aggfunc='sum').plot(kind='bar', title='PS2')\n",
    "data[data['platform'] == 'X360'].pivot_table(index='year_of_release', values='general_sales', aggfunc='sum').plot(kind='bar', title='X360')\n",
    "data[data['platform'] == 'PS3'].pivot_table(index='year_of_release', values='general_sales', aggfunc='sum').plot(kind='bar', title='PS3')\n",
    "data[data['platform'] == 'Wii'].pivot_table(index='year_of_release', values='general_sales', aggfunc='sum').plot(kind='bar', title='Wii')\n",
    "data[data['platform'] == 'DS'].pivot_table(index='year_of_release', values='general_sales', aggfunc='sum').plot(kind='bar', title='DS')\n",
    "data[data['platform'] == 'PS'].pivot_table(index='year_of_release', values='general_sales', aggfunc='sum').plot(kind='bar', title='PS')\n"
   ]
  },
  {
   "cell_type": "markdown",
   "metadata": {},
   "source": [
    "Одна платформа существует 10-11 лет. Рост продаж идет первые 5 лет, а дальше спад"
   ]
  },
  {
   "cell_type": "markdown",
   "metadata": {},
   "source": [
    "###  Возьмем данные за актуальный период"
   ]
  },
  {
   "cell_type": "markdown",
   "metadata": {},
   "source": [
    "Для начала возьмем данные за последние 5 лет"
   ]
  },
  {
   "cell_type": "code",
   "execution_count": 1372,
   "metadata": {},
   "outputs": [],
   "source": [
    "data = data[data['year_of_release'] >= 2011]"
   ]
  },
  {
   "cell_type": "code",
   "execution_count": 1373,
   "metadata": {},
   "outputs": [
    {
     "data": {
      "text/html": [
       "<div>\n",
       "<style scoped>\n",
       "    .dataframe tbody tr th:only-of-type {\n",
       "        vertical-align: middle;\n",
       "    }\n",
       "\n",
       "    .dataframe tbody tr th {\n",
       "        vertical-align: top;\n",
       "    }\n",
       "\n",
       "    .dataframe thead th {\n",
       "        text-align: right;\n",
       "    }\n",
       "</style>\n",
       "<table border=\"1\" class=\"dataframe\">\n",
       "  <thead>\n",
       "    <tr style=\"text-align: right;\">\n",
       "      <th></th>\n",
       "      <th>name</th>\n",
       "      <th>platform</th>\n",
       "      <th>year_of_release</th>\n",
       "      <th>genre</th>\n",
       "      <th>na_sales</th>\n",
       "      <th>eu_sales</th>\n",
       "      <th>jp_sales</th>\n",
       "      <th>other_sales</th>\n",
       "      <th>critic_score</th>\n",
       "      <th>user_score</th>\n",
       "      <th>rating</th>\n",
       "      <th>general_sales</th>\n",
       "    </tr>\n",
       "  </thead>\n",
       "  <tbody>\n",
       "    <tr>\n",
       "      <th>16</th>\n",
       "      <td>Grand Theft Auto V</td>\n",
       "      <td>PS3</td>\n",
       "      <td>2013</td>\n",
       "      <td>Action</td>\n",
       "      <td>7.02</td>\n",
       "      <td>9.09</td>\n",
       "      <td>0.98</td>\n",
       "      <td>3.96</td>\n",
       "      <td>97.0</td>\n",
       "      <td>8.2</td>\n",
       "      <td>M</td>\n",
       "      <td>21.05</td>\n",
       "    </tr>\n",
       "    <tr>\n",
       "      <th>23</th>\n",
       "      <td>Grand Theft Auto V</td>\n",
       "      <td>X360</td>\n",
       "      <td>2013</td>\n",
       "      <td>Action</td>\n",
       "      <td>9.66</td>\n",
       "      <td>5.14</td>\n",
       "      <td>0.06</td>\n",
       "      <td>1.41</td>\n",
       "      <td>97.0</td>\n",
       "      <td>8.1</td>\n",
       "      <td>M</td>\n",
       "      <td>16.27</td>\n",
       "    </tr>\n",
       "    <tr>\n",
       "      <th>29</th>\n",
       "      <td>Call of Duty: Modern Warfare 3</td>\n",
       "      <td>X360</td>\n",
       "      <td>2011</td>\n",
       "      <td>Shooter</td>\n",
       "      <td>9.04</td>\n",
       "      <td>4.24</td>\n",
       "      <td>0.13</td>\n",
       "      <td>1.32</td>\n",
       "      <td>88.0</td>\n",
       "      <td>3.4</td>\n",
       "      <td>M</td>\n",
       "      <td>14.73</td>\n",
       "    </tr>\n",
       "    <tr>\n",
       "      <th>31</th>\n",
       "      <td>Call of Duty: Black Ops 3</td>\n",
       "      <td>PS4</td>\n",
       "      <td>2015</td>\n",
       "      <td>Shooter</td>\n",
       "      <td>6.03</td>\n",
       "      <td>5.86</td>\n",
       "      <td>0.36</td>\n",
       "      <td>2.38</td>\n",
       "      <td>NaN</td>\n",
       "      <td>NaN</td>\n",
       "      <td>NaN</td>\n",
       "      <td>14.63</td>\n",
       "    </tr>\n",
       "    <tr>\n",
       "      <th>33</th>\n",
       "      <td>Pokemon X/Pokemon Y</td>\n",
       "      <td>3DS</td>\n",
       "      <td>2013</td>\n",
       "      <td>Role-Playing</td>\n",
       "      <td>5.28</td>\n",
       "      <td>4.19</td>\n",
       "      <td>4.35</td>\n",
       "      <td>0.78</td>\n",
       "      <td>NaN</td>\n",
       "      <td>NaN</td>\n",
       "      <td>NaN</td>\n",
       "      <td>14.60</td>\n",
       "    </tr>\n",
       "    <tr>\n",
       "      <th>...</th>\n",
       "      <td>...</td>\n",
       "      <td>...</td>\n",
       "      <td>...</td>\n",
       "      <td>...</td>\n",
       "      <td>...</td>\n",
       "      <td>...</td>\n",
       "      <td>...</td>\n",
       "      <td>...</td>\n",
       "      <td>...</td>\n",
       "      <td>...</td>\n",
       "      <td>...</td>\n",
       "      <td>...</td>\n",
       "    </tr>\n",
       "    <tr>\n",
       "      <th>16703</th>\n",
       "      <td>Strawberry Nauts</td>\n",
       "      <td>PSV</td>\n",
       "      <td>2016</td>\n",
       "      <td>Adventure</td>\n",
       "      <td>0.00</td>\n",
       "      <td>0.00</td>\n",
       "      <td>0.01</td>\n",
       "      <td>0.00</td>\n",
       "      <td>NaN</td>\n",
       "      <td>NaN</td>\n",
       "      <td>NaN</td>\n",
       "      <td>0.01</td>\n",
       "    </tr>\n",
       "    <tr>\n",
       "      <th>16707</th>\n",
       "      <td>Aiyoku no Eustia</td>\n",
       "      <td>PSV</td>\n",
       "      <td>2014</td>\n",
       "      <td>Misc</td>\n",
       "      <td>0.00</td>\n",
       "      <td>0.00</td>\n",
       "      <td>0.01</td>\n",
       "      <td>0.00</td>\n",
       "      <td>NaN</td>\n",
       "      <td>NaN</td>\n",
       "      <td>NaN</td>\n",
       "      <td>0.01</td>\n",
       "    </tr>\n",
       "    <tr>\n",
       "      <th>16710</th>\n",
       "      <td>Samurai Warriors: Sanada Maru</td>\n",
       "      <td>PS3</td>\n",
       "      <td>2016</td>\n",
       "      <td>Action</td>\n",
       "      <td>0.00</td>\n",
       "      <td>0.00</td>\n",
       "      <td>0.01</td>\n",
       "      <td>0.00</td>\n",
       "      <td>NaN</td>\n",
       "      <td>NaN</td>\n",
       "      <td>NaN</td>\n",
       "      <td>0.01</td>\n",
       "    </tr>\n",
       "    <tr>\n",
       "      <th>16712</th>\n",
       "      <td>Haitaka no Psychedelica</td>\n",
       "      <td>PSV</td>\n",
       "      <td>2016</td>\n",
       "      <td>Adventure</td>\n",
       "      <td>0.00</td>\n",
       "      <td>0.00</td>\n",
       "      <td>0.01</td>\n",
       "      <td>0.00</td>\n",
       "      <td>NaN</td>\n",
       "      <td>NaN</td>\n",
       "      <td>NaN</td>\n",
       "      <td>0.01</td>\n",
       "    </tr>\n",
       "    <tr>\n",
       "      <th>16714</th>\n",
       "      <td>Winning Post 8 2016</td>\n",
       "      <td>PSV</td>\n",
       "      <td>2016</td>\n",
       "      <td>Simulation</td>\n",
       "      <td>0.00</td>\n",
       "      <td>0.00</td>\n",
       "      <td>0.01</td>\n",
       "      <td>0.00</td>\n",
       "      <td>NaN</td>\n",
       "      <td>NaN</td>\n",
       "      <td>NaN</td>\n",
       "      <td>0.01</td>\n",
       "    </tr>\n",
       "  </tbody>\n",
       "</table>\n",
       "<p>4022 rows × 12 columns</p>\n",
       "</div>"
      ],
      "text/plain": [
       "                                 name platform  year_of_release         genre  \\\n",
       "16                 Grand Theft Auto V      PS3             2013        Action   \n",
       "23                 Grand Theft Auto V     X360             2013        Action   \n",
       "29     Call of Duty: Modern Warfare 3     X360             2011       Shooter   \n",
       "31          Call of Duty: Black Ops 3      PS4             2015       Shooter   \n",
       "33                Pokemon X/Pokemon Y      3DS             2013  Role-Playing   \n",
       "...                               ...      ...              ...           ...   \n",
       "16703                Strawberry Nauts      PSV             2016     Adventure   \n",
       "16707                Aiyoku no Eustia      PSV             2014          Misc   \n",
       "16710   Samurai Warriors: Sanada Maru      PS3             2016        Action   \n",
       "16712         Haitaka no Psychedelica      PSV             2016     Adventure   \n",
       "16714             Winning Post 8 2016      PSV             2016    Simulation   \n",
       "\n",
       "       na_sales  eu_sales  jp_sales  other_sales  critic_score  user_score  \\\n",
       "16         7.02      9.09      0.98         3.96          97.0         8.2   \n",
       "23         9.66      5.14      0.06         1.41          97.0         8.1   \n",
       "29         9.04      4.24      0.13         1.32          88.0         3.4   \n",
       "31         6.03      5.86      0.36         2.38           NaN         NaN   \n",
       "33         5.28      4.19      4.35         0.78           NaN         NaN   \n",
       "...         ...       ...       ...          ...           ...         ...   \n",
       "16703      0.00      0.00      0.01         0.00           NaN         NaN   \n",
       "16707      0.00      0.00      0.01         0.00           NaN         NaN   \n",
       "16710      0.00      0.00      0.01         0.00           NaN         NaN   \n",
       "16712      0.00      0.00      0.01         0.00           NaN         NaN   \n",
       "16714      0.00      0.00      0.01         0.00           NaN         NaN   \n",
       "\n",
       "      rating  general_sales  \n",
       "16         M          21.05  \n",
       "23         M          16.27  \n",
       "29         M          14.73  \n",
       "31       NaN          14.63  \n",
       "33       NaN          14.60  \n",
       "...      ...            ...  \n",
       "16703    NaN           0.01  \n",
       "16707    NaN           0.01  \n",
       "16710    NaN           0.01  \n",
       "16712    NaN           0.01  \n",
       "16714    NaN           0.01  \n",
       "\n",
       "[4022 rows x 12 columns]"
      ]
     },
     "execution_count": 1373,
     "metadata": {},
     "output_type": "execute_result"
    }
   ],
   "source": [
    "data"
   ]
  },
  {
   "cell_type": "markdown",
   "metadata": {},
   "source": [
    "### Посмотрим какие платформы лидируют по продажам"
   ]
  },
  {
   "cell_type": "code",
   "execution_count": 1374,
   "metadata": {},
   "outputs": [
    {
     "data": {
      "text/html": [
       "<div>\n",
       "<style scoped>\n",
       "    .dataframe tbody tr th:only-of-type {\n",
       "        vertical-align: middle;\n",
       "    }\n",
       "\n",
       "    .dataframe tbody tr th {\n",
       "        vertical-align: top;\n",
       "    }\n",
       "\n",
       "    .dataframe thead th {\n",
       "        text-align: right;\n",
       "    }\n",
       "</style>\n",
       "<table border=\"1\" class=\"dataframe\">\n",
       "  <thead>\n",
       "    <tr style=\"text-align: right;\">\n",
       "      <th></th>\n",
       "      <th>general_sales</th>\n",
       "    </tr>\n",
       "    <tr>\n",
       "      <th>platform</th>\n",
       "      <th></th>\n",
       "    </tr>\n",
       "  </thead>\n",
       "  <tbody>\n",
       "    <tr>\n",
       "      <th>PS3</th>\n",
       "      <td>445.57</td>\n",
       "    </tr>\n",
       "    <tr>\n",
       "      <th>X360</th>\n",
       "      <td>380.38</td>\n",
       "    </tr>\n",
       "    <tr>\n",
       "      <th>PS4</th>\n",
       "      <td>314.14</td>\n",
       "    </tr>\n",
       "    <tr>\n",
       "      <th>3DS</th>\n",
       "      <td>257.81</td>\n",
       "    </tr>\n",
       "    <tr>\n",
       "      <th>XOne</th>\n",
       "      <td>159.32</td>\n",
       "    </tr>\n",
       "    <tr>\n",
       "      <th>PC</th>\n",
       "      <td>97.68</td>\n",
       "    </tr>\n",
       "    <tr>\n",
       "      <th>Wii</th>\n",
       "      <td>95.02</td>\n",
       "    </tr>\n",
       "    <tr>\n",
       "      <th>WiiU</th>\n",
       "      <td>82.19</td>\n",
       "    </tr>\n",
       "    <tr>\n",
       "      <th>PSV</th>\n",
       "      <td>53.81</td>\n",
       "    </tr>\n",
       "    <tr>\n",
       "      <th>DS</th>\n",
       "      <td>38.73</td>\n",
       "    </tr>\n",
       "    <tr>\n",
       "      <th>PSP</th>\n",
       "      <td>29.01</td>\n",
       "    </tr>\n",
       "    <tr>\n",
       "      <th>PS2</th>\n",
       "      <td>0.45</td>\n",
       "    </tr>\n",
       "  </tbody>\n",
       "</table>\n",
       "</div>"
      ],
      "text/plain": [
       "          general_sales\n",
       "platform               \n",
       "PS3              445.57\n",
       "X360             380.38\n",
       "PS4              314.14\n",
       "3DS              257.81\n",
       "XOne             159.32\n",
       "PC                97.68\n",
       "Wii               95.02\n",
       "WiiU              82.19\n",
       "PSV               53.81\n",
       "DS                38.73\n",
       "PSP               29.01\n",
       "PS2                0.45"
      ]
     },
     "execution_count": 1374,
     "metadata": {},
     "output_type": "execute_result"
    }
   ],
   "source": [
    "data.pivot_table(index = 'platform', values = 'general_sales', aggfunc = 'sum').sort_values(by='general_sales', ascending=False)"
   ]
  },
  {
   "cell_type": "markdown",
   "metadata": {},
   "source": [
    "Найдем потенциально прибыльные, то есть те, которые только появились в этот период"
   ]
  },
  {
   "cell_type": "code",
   "execution_count": 1375,
   "metadata": {},
   "outputs": [
    {
     "data": {
      "text/html": [
       "<div>\n",
       "<style scoped>\n",
       "    .dataframe tbody tr th:only-of-type {\n",
       "        vertical-align: middle;\n",
       "    }\n",
       "\n",
       "    .dataframe tbody tr th {\n",
       "        vertical-align: top;\n",
       "    }\n",
       "\n",
       "    .dataframe thead th {\n",
       "        text-align: right;\n",
       "    }\n",
       "</style>\n",
       "<table border=\"1\" class=\"dataframe\">\n",
       "  <thead>\n",
       "    <tr style=\"text-align: right;\">\n",
       "      <th>platform</th>\n",
       "      <th>3DS</th>\n",
       "      <th>DS</th>\n",
       "      <th>PC</th>\n",
       "      <th>PS2</th>\n",
       "      <th>PS3</th>\n",
       "      <th>PS4</th>\n",
       "      <th>PSP</th>\n",
       "      <th>PSV</th>\n",
       "      <th>Wii</th>\n",
       "      <th>WiiU</th>\n",
       "      <th>X360</th>\n",
       "      <th>XOne</th>\n",
       "    </tr>\n",
       "    <tr>\n",
       "      <th>year_of_release</th>\n",
       "      <th></th>\n",
       "      <th></th>\n",
       "      <th></th>\n",
       "      <th></th>\n",
       "      <th></th>\n",
       "      <th></th>\n",
       "      <th></th>\n",
       "      <th></th>\n",
       "      <th></th>\n",
       "      <th></th>\n",
       "      <th></th>\n",
       "      <th></th>\n",
       "    </tr>\n",
       "  </thead>\n",
       "  <tbody>\n",
       "    <tr>\n",
       "      <th>2011</th>\n",
       "      <td>63.20</td>\n",
       "      <td>26.18</td>\n",
       "      <td>35.03</td>\n",
       "      <td>0.45</td>\n",
       "      <td>156.78</td>\n",
       "      <td>NaN</td>\n",
       "      <td>17.82</td>\n",
       "      <td>4.63</td>\n",
       "      <td>59.65</td>\n",
       "      <td>NaN</td>\n",
       "      <td>143.84</td>\n",
       "      <td>NaN</td>\n",
       "    </tr>\n",
       "    <tr>\n",
       "      <th>2012</th>\n",
       "      <td>51.36</td>\n",
       "      <td>11.01</td>\n",
       "      <td>23.22</td>\n",
       "      <td>NaN</td>\n",
       "      <td>107.36</td>\n",
       "      <td>NaN</td>\n",
       "      <td>7.69</td>\n",
       "      <td>16.19</td>\n",
       "      <td>21.71</td>\n",
       "      <td>17.56</td>\n",
       "      <td>99.74</td>\n",
       "      <td>NaN</td>\n",
       "    </tr>\n",
       "    <tr>\n",
       "      <th>2013</th>\n",
       "      <td>56.57</td>\n",
       "      <td>1.54</td>\n",
       "      <td>12.38</td>\n",
       "      <td>NaN</td>\n",
       "      <td>113.25</td>\n",
       "      <td>25.99</td>\n",
       "      <td>3.14</td>\n",
       "      <td>10.59</td>\n",
       "      <td>8.59</td>\n",
       "      <td>21.65</td>\n",
       "      <td>88.58</td>\n",
       "      <td>18.96</td>\n",
       "    </tr>\n",
       "    <tr>\n",
       "      <th>2014</th>\n",
       "      <td>43.76</td>\n",
       "      <td>NaN</td>\n",
       "      <td>13.28</td>\n",
       "      <td>NaN</td>\n",
       "      <td>47.76</td>\n",
       "      <td>100.00</td>\n",
       "      <td>0.24</td>\n",
       "      <td>11.90</td>\n",
       "      <td>3.75</td>\n",
       "      <td>22.03</td>\n",
       "      <td>34.74</td>\n",
       "      <td>54.07</td>\n",
       "    </tr>\n",
       "    <tr>\n",
       "      <th>2015</th>\n",
       "      <td>27.78</td>\n",
       "      <td>NaN</td>\n",
       "      <td>8.52</td>\n",
       "      <td>NaN</td>\n",
       "      <td>16.82</td>\n",
       "      <td>118.90</td>\n",
       "      <td>0.12</td>\n",
       "      <td>6.25</td>\n",
       "      <td>1.14</td>\n",
       "      <td>16.35</td>\n",
       "      <td>11.96</td>\n",
       "      <td>60.14</td>\n",
       "    </tr>\n",
       "    <tr>\n",
       "      <th>2016</th>\n",
       "      <td>15.14</td>\n",
       "      <td>NaN</td>\n",
       "      <td>5.25</td>\n",
       "      <td>NaN</td>\n",
       "      <td>3.60</td>\n",
       "      <td>69.25</td>\n",
       "      <td>NaN</td>\n",
       "      <td>4.25</td>\n",
       "      <td>0.18</td>\n",
       "      <td>4.60</td>\n",
       "      <td>1.52</td>\n",
       "      <td>26.15</td>\n",
       "    </tr>\n",
       "  </tbody>\n",
       "</table>\n",
       "</div>"
      ],
      "text/plain": [
       "platform           3DS     DS     PC   PS2     PS3     PS4    PSP    PSV  \\\n",
       "year_of_release                                                            \n",
       "2011             63.20  26.18  35.03  0.45  156.78     NaN  17.82   4.63   \n",
       "2012             51.36  11.01  23.22   NaN  107.36     NaN   7.69  16.19   \n",
       "2013             56.57   1.54  12.38   NaN  113.25   25.99   3.14  10.59   \n",
       "2014             43.76    NaN  13.28   NaN   47.76  100.00   0.24  11.90   \n",
       "2015             27.78    NaN   8.52   NaN   16.82  118.90   0.12   6.25   \n",
       "2016             15.14    NaN   5.25   NaN    3.60   69.25    NaN   4.25   \n",
       "\n",
       "platform           Wii   WiiU    X360   XOne  \n",
       "year_of_release                               \n",
       "2011             59.65    NaN  143.84    NaN  \n",
       "2012             21.71  17.56   99.74    NaN  \n",
       "2013              8.59  21.65   88.58  18.96  \n",
       "2014              3.75  22.03   34.74  54.07  \n",
       "2015              1.14  16.35   11.96  60.14  \n",
       "2016              0.18   4.60    1.52  26.15  "
      ]
     },
     "execution_count": 1375,
     "metadata": {},
     "output_type": "execute_result"
    }
   ],
   "source": [
    "data.pivot_table(index = 'year_of_release', columns = 'platform', values = 'general_sales', aggfunc = 'sum')"
   ]
  },
  {
   "cell_type": "markdown",
   "metadata": {},
   "source": [
    "Потенциально прибыльные платформы: PC, PS4,WiiU, XOne. Платформа PC существует во все года, поэтому она тоже потенциально прибыльна."
   ]
  },
  {
   "cell_type": "code",
   "execution_count": 1376,
   "metadata": {},
   "outputs": [],
   "source": [
    "data = data[(data['platform'] == 'PC') |\n",
    "                (data['platform'] == 'PS4') |\n",
    "                (data['platform'] == 'WiiU') |\n",
    "                (data['platform'] == 'XOne')]"
   ]
  },
  {
   "cell_type": "markdown",
   "metadata": {},
   "source": [
    "Далее будем использовать данные за последние 2 года"
   ]
  },
  {
   "cell_type": "code",
   "execution_count": 1377,
   "metadata": {},
   "outputs": [],
   "source": [
    "data = data[data['year_of_release'] >= 2015]"
   ]
  },
  {
   "cell_type": "markdown",
   "metadata": {},
   "source": [
    "Посмотрим какие платформы лидируют по продажам теперь"
   ]
  },
  {
   "cell_type": "code",
   "execution_count": 1378,
   "metadata": {},
   "outputs": [
    {
     "data": {
      "text/html": [
       "<div>\n",
       "<style scoped>\n",
       "    .dataframe tbody tr th:only-of-type {\n",
       "        vertical-align: middle;\n",
       "    }\n",
       "\n",
       "    .dataframe tbody tr th {\n",
       "        vertical-align: top;\n",
       "    }\n",
       "\n",
       "    .dataframe thead th {\n",
       "        text-align: right;\n",
       "    }\n",
       "</style>\n",
       "<table border=\"1\" class=\"dataframe\">\n",
       "  <thead>\n",
       "    <tr style=\"text-align: right;\">\n",
       "      <th></th>\n",
       "      <th>general_sales</th>\n",
       "    </tr>\n",
       "    <tr>\n",
       "      <th>platform</th>\n",
       "      <th></th>\n",
       "    </tr>\n",
       "  </thead>\n",
       "  <tbody>\n",
       "    <tr>\n",
       "      <th>PS4</th>\n",
       "      <td>188.15</td>\n",
       "    </tr>\n",
       "    <tr>\n",
       "      <th>XOne</th>\n",
       "      <td>86.29</td>\n",
       "    </tr>\n",
       "    <tr>\n",
       "      <th>WiiU</th>\n",
       "      <td>20.95</td>\n",
       "    </tr>\n",
       "    <tr>\n",
       "      <th>PC</th>\n",
       "      <td>13.77</td>\n",
       "    </tr>\n",
       "  </tbody>\n",
       "</table>\n",
       "</div>"
      ],
      "text/plain": [
       "          general_sales\n",
       "platform               \n",
       "PS4              188.15\n",
       "XOne              86.29\n",
       "WiiU              20.95\n",
       "PC                13.77"
      ]
     },
     "execution_count": 1378,
     "metadata": {},
     "output_type": "execute_result"
    }
   ],
   "source": [
    "data.pivot_table(index = 'platform', values = 'general_sales', aggfunc = 'sum').sort_values(by='general_sales', ascending=False)\n"
   ]
  },
  {
   "cell_type": "markdown",
   "metadata": {},
   "source": [
    "Теперь лидирует 'PS4'"
   ]
  },
  {
   "cell_type": "markdown",
   "metadata": {},
   "source": [
    "### Построим график «ящик с усами» по глобальным продажам игр в разбивке по платформам"
   ]
  },
  {
   "cell_type": "code",
   "execution_count": 1379,
   "metadata": {},
   "outputs": [
    {
     "data": {
      "text/plain": [
       "(0.0, 2.0)"
      ]
     },
     "execution_count": 1379,
     "metadata": {},
     "output_type": "execute_result"
    },
    {
     "data": {
      "image/png": "[encoded data removed]",
      "text/plain": [
       "<Figure size 1440x1008 with 1 Axes>"
      ]
     },
     "metadata": {},
     "output_type": "display_data"
    }
   ],
   "source": [
    "sns.set(style=\"whitegrid\")\n",
    "plt.figure(figsize=(20,14))\n",
    "sns.boxplot(data=data, x='platform', y='general_sales')\n",
    "plt.xlabel('platform', fontsize=12)\n",
    "plt.ylabel('general_sales',fontsize=12)\n",
    "plt.ylim(0, 2)"
   ]
  },
  {
   "cell_type": "markdown",
   "metadata": {},
   "source": [
    "'WiiU' лидирует по медиане продаж. "
   ]
  },
  {
   "cell_type": "markdown",
   "metadata": {},
   "source": [
    "### Посмотрим, как влияют на продажи внутри одной популярной платформы оценки пользователей и критиков"
   ]
  },
  {
   "cell_type": "raw",
   "metadata": {},
   "source": [
    "Посмотрим как влияют оценки критиков на продажи PS4"
   ]
  },
  {
   "cell_type": "code",
   "execution_count": 1380,
   "metadata": {},
   "outputs": [
    {
     "data": {
      "text/plain": [
       "0.3928485555130601"
      ]
     },
     "execution_count": 1380,
     "metadata": {},
     "output_type": "execute_result"
    }
   ],
   "source": [
    "ps4 = data[data['platform'] == 'PS4']\n",
    "ps4['general_sales'].corr(ps4['critic_score'])"
   ]
  },
  {
   "cell_type": "code",
   "execution_count": 1381,
   "metadata": {
    "scrolled": false
   },
   "outputs": [
    {
     "name": "stderr",
     "output_type": "stream",
     "text": [
      "*c* argument looks like a single numeric RGB or RGBA sequence, which should be avoided as value-mapping will have precedence in case its length matches with *x* & *y*.  Please use the *color* keyword-argument or provide a 2-D array with a single row if you intend to specify the same RGB or RGBA value for all points.\n"
     ]
    },
    {
     "data": {
      "text/plain": [
       "<AxesSubplot:xlabel='critic_score', ylabel='general_sales'>"
      ]
     },
     "execution_count": 1381,
     "metadata": {},
     "output_type": "execute_result"
    },
    {
     "data": {
      "image/png": "[encoded data removed]",
      "text/plain": [
       "<Figure size 432x288 with 1 Axes>"
      ]
     },
     "metadata": {},
     "output_type": "display_data"
    }
   ],
   "source": [
    "ps4.plot(x='critic_score', y='general_sales', kind='scatter', grid=True, alpha=0.4)"
   ]
  },
  {
   "cell_type": "markdown",
   "metadata": {},
   "source": [
    "Влияние небольшое"
   ]
  },
  {
   "cell_type": "markdown",
   "metadata": {},
   "source": [
    "Посмотрим как влияют оценки пользователей на продажи PS4"
   ]
  },
  {
   "cell_type": "code",
   "execution_count": 1382,
   "metadata": {},
   "outputs": [
    {
     "data": {
      "text/plain": [
       "-0.05973845712638215"
      ]
     },
     "execution_count": 1382,
     "metadata": {},
     "output_type": "execute_result"
    }
   ],
   "source": [
    "ps4['general_sales'].corr(ps4['user_score'])\n"
   ]
  },
  {
   "cell_type": "code",
   "execution_count": 1383,
   "metadata": {},
   "outputs": [
    {
     "name": "stderr",
     "output_type": "stream",
     "text": [
      "*c* argument looks like a single numeric RGB or RGBA sequence, which should be avoided as value-mapping will have precedence in case its length matches with *x* & *y*.  Please use the *color* keyword-argument or provide a 2-D array with a single row if you intend to specify the same RGB or RGBA value for all points.\n"
     ]
    },
    {
     "data": {
      "text/plain": [
       "<AxesSubplot:xlabel='user_score', ylabel='general_sales'>"
      ]
     },
     "execution_count": 1383,
     "metadata": {},
     "output_type": "execute_result"
    },
    {
     "data": {
      "image/png": "[encoded data removed]",
      "text/plain": [
       "<Figure size 432x288 with 1 Axes>"
      ]
     },
     "metadata": {},
     "output_type": "display_data"
    }
   ],
   "source": [
    "ps4.plot(x='user_score', y='general_sales', kind='scatter', grid=True, alpha=0.5)"
   ]
  },
  {
   "cell_type": "markdown",
   "metadata": {},
   "source": [
    "Влияния нет"
   ]
  },
  {
   "cell_type": "markdown",
   "metadata": {},
   "source": [
    "Посмотрим как влияют оценки критиков на продажи PC"
   ]
  },
  {
   "cell_type": "code",
   "execution_count": 1384,
   "metadata": {},
   "outputs": [
    {
     "data": {
      "text/plain": [
       "0.3773317477241351"
      ]
     },
     "execution_count": 1384,
     "metadata": {},
     "output_type": "execute_result"
    }
   ],
   "source": [
    "pc = data[data['platform'] == 'PC']\n",
    "pc['general_sales'].corr(pc['critic_score'])"
   ]
  },
  {
   "cell_type": "code",
   "execution_count": 1385,
   "metadata": {},
   "outputs": [
    {
     "name": "stderr",
     "output_type": "stream",
     "text": [
      "*c* argument looks like a single numeric RGB or RGBA sequence, which should be avoided as value-mapping will have precedence in case its length matches with *x* & *y*.  Please use the *color* keyword-argument or provide a 2-D array with a single row if you intend to specify the same RGB or RGBA value for all points.\n"
     ]
    },
    {
     "data": {
      "text/plain": [
       "<AxesSubplot:xlabel='critic_score', ylabel='general_sales'>"
      ]
     },
     "execution_count": 1385,
     "metadata": {},
     "output_type": "execute_result"
    },
    {
     "data": {
      "image/png": "[encoded data removed]",
      "text/plain": [
       "<Figure size 432x288 with 1 Axes>"
      ]
     },
     "metadata": {},
     "output_type": "display_data"
    }
   ],
   "source": [
    "pc.plot(x='critic_score', y='general_sales', kind='scatter', grid=True, alpha=0.4)"
   ]
  },
  {
   "cell_type": "markdown",
   "metadata": {},
   "source": [
    "Влияние небольшое"
   ]
  },
  {
   "cell_type": "markdown",
   "metadata": {},
   "source": [
    "Посмотрим как влияют оценки пользователей на продажи PC"
   ]
  },
  {
   "cell_type": "code",
   "execution_count": 1386,
   "metadata": {},
   "outputs": [
    {
     "data": {
      "text/plain": [
       "0.15038053045029076"
      ]
     },
     "execution_count": 1386,
     "metadata": {},
     "output_type": "execute_result"
    }
   ],
   "source": [
    "pc['general_sales'].corr(pc['user_score'])"
   ]
  },
  {
   "cell_type": "code",
   "execution_count": 1387,
   "metadata": {},
   "outputs": [
    {
     "name": "stderr",
     "output_type": "stream",
     "text": [
      "*c* argument looks like a single numeric RGB or RGBA sequence, which should be avoided as value-mapping will have precedence in case its length matches with *x* & *y*.  Please use the *color* keyword-argument or provide a 2-D array with a single row if you intend to specify the same RGB or RGBA value for all points.\n"
     ]
    },
    {
     "data": {
      "text/plain": [
       "<AxesSubplot:xlabel='user_score', ylabel='general_sales'>"
      ]
     },
     "execution_count": 1387,
     "metadata": {},
     "output_type": "execute_result"
    },
    {
     "data": {
      "image/png": "[encoded data removed]",
      "text/plain": [
       "<Figure size 432x288 with 1 Axes>"
      ]
     },
     "metadata": {},
     "output_type": "display_data"
    }
   ],
   "source": [
    "pc.plot(x='user_score', y='general_sales', kind='scatter', grid=True, alpha=0.3)"
   ]
  },
  {
   "cell_type": "markdown",
   "metadata": {},
   "source": [
    "Влияния нет"
   ]
  },
  {
   "cell_type": "markdown",
   "metadata": {},
   "source": [
    "Посмотрим как влияют оценки критиков на продажи XOne"
   ]
  },
  {
   "cell_type": "code",
   "execution_count": 1388,
   "metadata": {},
   "outputs": [
    {
     "data": {
      "text/plain": [
       "0.430888745821368"
      ]
     },
     "execution_count": 1388,
     "metadata": {},
     "output_type": "execute_result"
    }
   ],
   "source": [
    "xone = data[data['platform'] == 'XOne']\n",
    "xone['general_sales'].corr(xone['critic_score'])"
   ]
  },
  {
   "cell_type": "code",
   "execution_count": 1389,
   "metadata": {},
   "outputs": [
    {
     "name": "stderr",
     "output_type": "stream",
     "text": [
      "*c* argument looks like a single numeric RGB or RGBA sequence, which should be avoided as value-mapping will have precedence in case its length matches with *x* & *y*.  Please use the *color* keyword-argument or provide a 2-D array with a single row if you intend to specify the same RGB or RGBA value for all points.\n"
     ]
    },
    {
     "data": {
      "text/plain": [
       "<AxesSubplot:xlabel='critic_score', ylabel='general_sales'>"
      ]
     },
     "execution_count": 1389,
     "metadata": {},
     "output_type": "execute_result"
    },
    {
     "data": {
      "image/png": "[encoded data removed]",
      "text/plain": [
       "<Figure size 432x288 with 1 Axes>"
      ]
     },
     "metadata": {},
     "output_type": "display_data"
    }
   ],
   "source": [
    "xone.plot(x='critic_score', y='general_sales', kind='scatter', grid=True, alpha=0.3)"
   ]
  },
  {
   "cell_type": "markdown",
   "metadata": {},
   "source": [
    "Влияние снова небольшое"
   ]
  },
  {
   "cell_type": "markdown",
   "metadata": {},
   "source": [
    "Посмотрим как влияют оценки пользователей на продажи XOne"
   ]
  },
  {
   "cell_type": "code",
   "execution_count": 1390,
   "metadata": {},
   "outputs": [
    {
     "data": {
      "text/plain": [
       "-0.04146733387366271"
      ]
     },
     "execution_count": 1390,
     "metadata": {},
     "output_type": "execute_result"
    }
   ],
   "source": [
    "xone['general_sales'].corr(xone['user_score'])"
   ]
  },
  {
   "cell_type": "code",
   "execution_count": 1391,
   "metadata": {},
   "outputs": [
    {
     "name": "stderr",
     "output_type": "stream",
     "text": [
      "*c* argument looks like a single numeric RGB or RGBA sequence, which should be avoided as value-mapping will have precedence in case its length matches with *x* & *y*.  Please use the *color* keyword-argument or provide a 2-D array with a single row if you intend to specify the same RGB or RGBA value for all points.\n"
     ]
    },
    {
     "data": {
      "text/plain": [
       "<AxesSubplot:xlabel='user_score', ylabel='general_sales'>"
      ]
     },
     "execution_count": 1391,
     "metadata": {},
     "output_type": "execute_result"
    },
    {
     "data": {
      "image/png": "[encoded data removed]",
      "text/plain": [
       "<Figure size 432x288 with 1 Axes>"
      ]
     },
     "metadata": {},
     "output_type": "display_data"
    }
   ],
   "source": [
    "xone.plot(x='user_score', y='general_sales', kind='scatter', grid=True, alpha=0.3)"
   ]
  },
  {
   "cell_type": "markdown",
   "metadata": {},
   "source": [
    "Снова влияния нет"
   ]
  },
  {
   "cell_type": "markdown",
   "metadata": {},
   "source": [
    "Посмотрим как влияют оценки критиков на продажи WiiU"
   ]
  },
  {
   "cell_type": "code",
   "execution_count": 1392,
   "metadata": {},
   "outputs": [
    {
     "data": {
      "text/plain": [
       "0.31704571176962204"
      ]
     },
     "execution_count": 1392,
     "metadata": {},
     "output_type": "execute_result"
    }
   ],
   "source": [
    "wiiu = data[data['platform'] == 'WiiU']\n",
    "wiiu['general_sales'].corr(wiiu['critic_score'])"
   ]
  },
  {
   "cell_type": "code",
   "execution_count": 1393,
   "metadata": {},
   "outputs": [
    {
     "name": "stderr",
     "output_type": "stream",
     "text": [
      "*c* argument looks like a single numeric RGB or RGBA sequence, which should be avoided as value-mapping will have precedence in case its length matches with *x* & *y*.  Please use the *color* keyword-argument or provide a 2-D array with a single row if you intend to specify the same RGB or RGBA value for all points.\n"
     ]
    },
    {
     "data": {
      "text/plain": [
       "<AxesSubplot:xlabel='critic_score', ylabel='general_sales'>"
      ]
     },
     "execution_count": 1393,
     "metadata": {},
     "output_type": "execute_result"
    },
    {
     "data": {
      "image/png": "[encoded data removed]",
      "text/plain": [
       "<Figure size 432x288 with 1 Axes>"
      ]
     },
     "metadata": {},
     "output_type": "display_data"
    }
   ],
   "source": [
    "wiiu.plot(x='critic_score', y='general_sales', kind='scatter', grid=True, alpha=0.3)"
   ]
  },
  {
   "cell_type": "markdown",
   "metadata": {},
   "source": [
    "Как и в предыдущих случаях влияние небольшое"
   ]
  },
  {
   "cell_type": "markdown",
   "metadata": {},
   "source": [
    "Посмотрим как влияют оценки пользователей на продажи WiiU"
   ]
  },
  {
   "cell_type": "code",
   "execution_count": 1394,
   "metadata": {},
   "outputs": [
    {
     "data": {
      "text/plain": [
       "0.36351857248094444"
      ]
     },
     "execution_count": 1394,
     "metadata": {},
     "output_type": "execute_result"
    }
   ],
   "source": [
    "wiiu['general_sales'].corr(wiiu['user_score'])"
   ]
  },
  {
   "cell_type": "code",
   "execution_count": 1395,
   "metadata": {},
   "outputs": [
    {
     "name": "stderr",
     "output_type": "stream",
     "text": [
      "*c* argument looks like a single numeric RGB or RGBA sequence, which should be avoided as value-mapping will have precedence in case its length matches with *x* & *y*.  Please use the *color* keyword-argument or provide a 2-D array with a single row if you intend to specify the same RGB or RGBA value for all points.\n"
     ]
    },
    {
     "data": {
      "text/plain": [
       "<AxesSubplot:xlabel='user_score', ylabel='general_sales'>"
      ]
     },
     "execution_count": 1395,
     "metadata": {},
     "output_type": "execute_result"
    },
    {
     "data": {
      "image/png": "[encoded data removed]",
      "text/plain": [
       "<Figure size 432x288 with 1 Axes>"
      ]
     },
     "metadata": {},
     "output_type": "display_data"
    }
   ],
   "source": [
    "wiiu.plot(x='user_score', y='general_sales', kind='scatter', grid=True, alpha=0.3)"
   ]
  },
  {
   "cell_type": "markdown",
   "metadata": {},
   "source": [
    "А тут в отличие от предыдущих платформ, небольшое влияние есть"
   ]
  },
  {
   "cell_type": "markdown",
   "metadata": {},
   "source": [
    "### Посмотрим на общее распределение игр по жанрам"
   ]
  },
  {
   "cell_type": "markdown",
   "metadata": {},
   "source": [
    "Посмотрим, игр какого жанра больше всего"
   ]
  },
  {
   "cell_type": "code",
   "execution_count": 1396,
   "metadata": {
    "scrolled": true
   },
   "outputs": [
    {
     "data": {
      "text/plain": [
       "Action          211\n",
       "Shooter          73\n",
       "Role-Playing     65\n",
       "Sports           65\n",
       "Adventure        41\n",
       "Racing           38\n",
       "Misc             34\n",
       "Fighting         24\n",
       "Simulation       23\n",
       "Strategy         21\n",
       "Platform         17\n",
       "Puzzle            2\n",
       "Name: genre, dtype: int64"
      ]
     },
     "execution_count": 1396,
     "metadata": {},
     "output_type": "execute_result"
    }
   ],
   "source": [
    "data['genre'].value_counts()"
   ]
  },
  {
   "cell_type": "markdown",
   "metadata": {},
   "source": [
    "Найдем жанр, приносящий высокий доход. Для этого возьмем медианные значения"
   ]
  },
  {
   "cell_type": "code",
   "execution_count": 1397,
   "metadata": {},
   "outputs": [
    {
     "data": {
      "text/html": [
       "<div>\n",
       "<style scoped>\n",
       "    .dataframe tbody tr th:only-of-type {\n",
       "        vertical-align: middle;\n",
       "    }\n",
       "\n",
       "    .dataframe tbody tr th {\n",
       "        vertical-align: top;\n",
       "    }\n",
       "\n",
       "    .dataframe thead th {\n",
       "        text-align: right;\n",
       "    }\n",
       "</style>\n",
       "<table border=\"1\" class=\"dataframe\">\n",
       "  <thead>\n",
       "    <tr style=\"text-align: right;\">\n",
       "      <th></th>\n",
       "      <th>general_sales</th>\n",
       "    </tr>\n",
       "    <tr>\n",
       "      <th>genre</th>\n",
       "      <th></th>\n",
       "    </tr>\n",
       "  </thead>\n",
       "  <tbody>\n",
       "    <tr>\n",
       "      <th>Shooter</th>\n",
       "      <td>0.410</td>\n",
       "    </tr>\n",
       "    <tr>\n",
       "      <th>Role-Playing</th>\n",
       "      <td>0.200</td>\n",
       "    </tr>\n",
       "    <tr>\n",
       "      <th>Sports</th>\n",
       "      <td>0.170</td>\n",
       "    </tr>\n",
       "    <tr>\n",
       "      <th>Fighting</th>\n",
       "      <td>0.165</td>\n",
       "    </tr>\n",
       "    <tr>\n",
       "      <th>Platform</th>\n",
       "      <td>0.140</td>\n",
       "    </tr>\n",
       "    <tr>\n",
       "      <th>Simulation</th>\n",
       "      <td>0.100</td>\n",
       "    </tr>\n",
       "    <tr>\n",
       "      <th>Action</th>\n",
       "      <td>0.090</td>\n",
       "    </tr>\n",
       "    <tr>\n",
       "      <th>Strategy</th>\n",
       "      <td>0.080</td>\n",
       "    </tr>\n",
       "    <tr>\n",
       "      <th>Racing</th>\n",
       "      <td>0.065</td>\n",
       "    </tr>\n",
       "    <tr>\n",
       "      <th>Misc</th>\n",
       "      <td>0.060</td>\n",
       "    </tr>\n",
       "    <tr>\n",
       "      <th>Adventure</th>\n",
       "      <td>0.050</td>\n",
       "    </tr>\n",
       "    <tr>\n",
       "      <th>Puzzle</th>\n",
       "      <td>0.015</td>\n",
       "    </tr>\n",
       "  </tbody>\n",
       "</table>\n",
       "</div>"
      ],
      "text/plain": [
       "              general_sales\n",
       "genre                      \n",
       "Shooter               0.410\n",
       "Role-Playing          0.200\n",
       "Sports                0.170\n",
       "Fighting              0.165\n",
       "Platform              0.140\n",
       "Simulation            0.100\n",
       "Action                0.090\n",
       "Strategy              0.080\n",
       "Racing                0.065\n",
       "Misc                  0.060\n",
       "Adventure             0.050\n",
       "Puzzle                0.015"
      ]
     },
     "execution_count": 1397,
     "metadata": {},
     "output_type": "execute_result"
    }
   ],
   "source": [
    "data.pivot_table(index='genre', values='general_sales', aggfunc = 'median').sort_values(by='general_sales', ascending=False)"
   ]
  },
  {
   "cell_type": "markdown",
   "metadata": {},
   "source": [
    "**Вывод:**\n",
    "- Количество выпускаемых игр растет с каждым годом\n",
    "- Жизненный цикл одной платформы равен 10-11 годам\n",
    "- На данный момент потенциально прибыльные платформы: PC, PS4, WiiU, XOne\n",
    "- Оценки критиков имеют небольшое влияние на продажи\n",
    "- Оценки пользователей не влияют на продажи. За исключением WiiU\n",
    "- Больше всего игр выпускается в жанре Action\n",
    "- Стабильно приносят самый высокий доход игры в жанре Shooter\t"
   ]
  },
  {
   "cell_type": "markdown",
   "metadata": {},
   "source": [
    "## Составим портрет пользователя каждого региона"
   ]
  },
  {
   "cell_type": "markdown",
   "metadata": {},
   "source": [
    "### Посмотрим долю продаж по регионам"
   ]
  },
  {
   "cell_type": "markdown",
   "metadata": {},
   "source": [
    "Северная Америка"
   ]
  },
  {
   "cell_type": "code",
   "execution_count": 1398,
   "metadata": {},
   "outputs": [
    {
     "data": {
      "text/html": [
       "<div>\n",
       "<style scoped>\n",
       "    .dataframe tbody tr th:only-of-type {\n",
       "        vertical-align: middle;\n",
       "    }\n",
       "\n",
       "    .dataframe tbody tr th {\n",
       "        vertical-align: top;\n",
       "    }\n",
       "\n",
       "    .dataframe thead th {\n",
       "        text-align: right;\n",
       "    }\n",
       "</style>\n",
       "<table border=\"1\" class=\"dataframe\">\n",
       "  <thead>\n",
       "    <tr style=\"text-align: right;\">\n",
       "      <th></th>\n",
       "      <th>na_sales</th>\n",
       "    </tr>\n",
       "    <tr>\n",
       "      <th>platform</th>\n",
       "      <th></th>\n",
       "    </tr>\n",
       "  </thead>\n",
       "  <tbody>\n",
       "    <tr>\n",
       "      <th>PS4</th>\n",
       "      <td>63.86</td>\n",
       "    </tr>\n",
       "    <tr>\n",
       "      <th>XOne</th>\n",
       "      <td>50.30</td>\n",
       "    </tr>\n",
       "    <tr>\n",
       "      <th>WiiU</th>\n",
       "      <td>8.86</td>\n",
       "    </tr>\n",
       "    <tr>\n",
       "      <th>PC</th>\n",
       "      <td>3.72</td>\n",
       "    </tr>\n",
       "  </tbody>\n",
       "</table>\n",
       "</div>"
      ],
      "text/plain": [
       "          na_sales\n",
       "platform          \n",
       "PS4          63.86\n",
       "XOne         50.30\n",
       "WiiU          8.86\n",
       "PC            3.72"
      ]
     },
     "execution_count": 1398,
     "metadata": {},
     "output_type": "execute_result"
    }
   ],
   "source": [
    "data.pivot_table(index='platform', values='na_sales', aggfunc = 'sum').sort_values(by='na_sales', ascending=False)"
   ]
  },
  {
   "cell_type": "code",
   "execution_count": 1399,
   "metadata": {},
   "outputs": [
    {
     "data": {
      "text/plain": [
       "<AxesSubplot:ylabel='na_sales'>"
      ]
     },
     "execution_count": 1399,
     "metadata": {},
     "output_type": "execute_result"
    },
    {
     "data": {
      "image/png": "[encoded data removed]",
      "text/plain": [
       "<Figure size 720x720 with 1 Axes>"
      ]
     },
     "metadata": {},
     "output_type": "display_data"
    }
   ],
   "source": [
    "data.pivot_table(index='platform', values='na_sales', aggfunc = 'sum').plot.pie(y='na_sales', autopct='%1.0f%%', legend=None, figsize=(10, 10))"
   ]
  },
  {
   "cell_type": "markdown",
   "metadata": {},
   "source": [
    "Лидируют PS4 и XOne"
   ]
  },
  {
   "cell_type": "markdown",
   "metadata": {},
   "source": [
    "Европа"
   ]
  },
  {
   "cell_type": "code",
   "execution_count": 1400,
   "metadata": {},
   "outputs": [
    {
     "data": {
      "text/html": [
       "<div>\n",
       "<style scoped>\n",
       "    .dataframe tbody tr th:only-of-type {\n",
       "        vertical-align: middle;\n",
       "    }\n",
       "\n",
       "    .dataframe tbody tr th {\n",
       "        vertical-align: top;\n",
       "    }\n",
       "\n",
       "    .dataframe thead th {\n",
       "        text-align: right;\n",
       "    }\n",
       "</style>\n",
       "<table border=\"1\" class=\"dataframe\">\n",
       "  <thead>\n",
       "    <tr style=\"text-align: right;\">\n",
       "      <th></th>\n",
       "      <th>eu_sales</th>\n",
       "    </tr>\n",
       "    <tr>\n",
       "      <th>platform</th>\n",
       "      <th></th>\n",
       "    </tr>\n",
       "  </thead>\n",
       "  <tbody>\n",
       "    <tr>\n",
       "      <th>PS4</th>\n",
       "      <td>83.54</td>\n",
       "    </tr>\n",
       "    <tr>\n",
       "      <th>XOne</th>\n",
       "      <td>28.10</td>\n",
       "    </tr>\n",
       "    <tr>\n",
       "      <th>PC</th>\n",
       "      <td>9.10</td>\n",
       "    </tr>\n",
       "    <tr>\n",
       "      <th>WiiU</th>\n",
       "      <td>6.49</td>\n",
       "    </tr>\n",
       "  </tbody>\n",
       "</table>\n",
       "</div>"
      ],
      "text/plain": [
       "          eu_sales\n",
       "platform          \n",
       "PS4          83.54\n",
       "XOne         28.10\n",
       "PC            9.10\n",
       "WiiU          6.49"
      ]
     },
     "execution_count": 1400,
     "metadata": {},
     "output_type": "execute_result"
    }
   ],
   "source": [
    "data.pivot_table(index='platform', values='eu_sales', aggfunc = 'sum').sort_values(by='eu_sales', ascending=False)"
   ]
  },
  {
   "cell_type": "code",
   "execution_count": 1401,
   "metadata": {},
   "outputs": [
    {
     "data": {
      "text/plain": [
       "<AxesSubplot:ylabel='eu_sales'>"
      ]
     },
     "execution_count": 1401,
     "metadata": {},
     "output_type": "execute_result"
    },
    {
     "data": {
      "image/png": "[encoded data removed]",
      "text/plain": [
       "<Figure size 720x720 with 1 Axes>"
      ]
     },
     "metadata": {},
     "output_type": "display_data"
    }
   ],
   "source": [
    "data.pivot_table(index='platform', values='eu_sales', aggfunc = 'sum').plot.pie(y='eu_sales', autopct='%1.0f%%', legend=None, figsize=(10, 10))"
   ]
  },
  {
   "cell_type": "markdown",
   "metadata": {},
   "source": [
    "Здесь лидеры PS4"
   ]
  },
  {
   "cell_type": "markdown",
   "metadata": {},
   "source": [
    "Япония"
   ]
  },
  {
   "cell_type": "code",
   "execution_count": 1402,
   "metadata": {},
   "outputs": [
    {
     "data": {
      "text/html": [
       "<div>\n",
       "<style scoped>\n",
       "    .dataframe tbody tr th:only-of-type {\n",
       "        vertical-align: middle;\n",
       "    }\n",
       "\n",
       "    .dataframe tbody tr th {\n",
       "        vertical-align: top;\n",
       "    }\n",
       "\n",
       "    .dataframe thead th {\n",
       "        text-align: right;\n",
       "    }\n",
       "</style>\n",
       "<table border=\"1\" class=\"dataframe\">\n",
       "  <thead>\n",
       "    <tr style=\"text-align: right;\">\n",
       "      <th></th>\n",
       "      <th>jp_sales</th>\n",
       "    </tr>\n",
       "    <tr>\n",
       "      <th>platform</th>\n",
       "      <th></th>\n",
       "    </tr>\n",
       "  </thead>\n",
       "  <tbody>\n",
       "    <tr>\n",
       "      <th>PS4</th>\n",
       "      <td>12.05</td>\n",
       "    </tr>\n",
       "    <tr>\n",
       "      <th>WiiU</th>\n",
       "      <td>4.12</td>\n",
       "    </tr>\n",
       "    <tr>\n",
       "      <th>XOne</th>\n",
       "      <td>0.18</td>\n",
       "    </tr>\n",
       "    <tr>\n",
       "      <th>PC</th>\n",
       "      <td>0.00</td>\n",
       "    </tr>\n",
       "  </tbody>\n",
       "</table>\n",
       "</div>"
      ],
      "text/plain": [
       "          jp_sales\n",
       "platform          \n",
       "PS4          12.05\n",
       "WiiU          4.12\n",
       "XOne          0.18\n",
       "PC            0.00"
      ]
     },
     "execution_count": 1402,
     "metadata": {},
     "output_type": "execute_result"
    }
   ],
   "source": [
    "data.pivot_table(index='platform', values='jp_sales', aggfunc = 'sum').sort_values(by='jp_sales', ascending=False)"
   ]
  },
  {
   "cell_type": "code",
   "execution_count": 1403,
   "metadata": {},
   "outputs": [
    {
     "data": {
      "text/plain": [
       "<AxesSubplot:ylabel='jp_sales'>"
      ]
     },
     "execution_count": 1403,
     "metadata": {},
     "output_type": "execute_result"
    },
    {
     "data": {
      "image/png": "[encoded data removed]",
      "text/plain": [
       "<Figure size 720x720 with 1 Axes>"
      ]
     },
     "metadata": {},
     "output_type": "display_data"
    }
   ],
   "source": [
    "data.pivot_table(index='platform', values='jp_sales', aggfunc = 'sum').head(3).plot.pie(y='jp_sales', autopct='%1.0f%%', legend=None, figsize=(10, 10))"
   ]
  },
  {
   "cell_type": "markdown",
   "metadata": {},
   "source": [
    "Лидер PS4, а XOne и PC практически нет"
   ]
  },
  {
   "cell_type": "markdown",
   "metadata": {},
   "source": [
    "Другие регионы"
   ]
  },
  {
   "cell_type": "code",
   "execution_count": 1404,
   "metadata": {},
   "outputs": [
    {
     "data": {
      "text/html": [
       "<div>\n",
       "<style scoped>\n",
       "    .dataframe tbody tr th:only-of-type {\n",
       "        vertical-align: middle;\n",
       "    }\n",
       "\n",
       "    .dataframe tbody tr th {\n",
       "        vertical-align: top;\n",
       "    }\n",
       "\n",
       "    .dataframe thead th {\n",
       "        text-align: right;\n",
       "    }\n",
       "</style>\n",
       "<table border=\"1\" class=\"dataframe\">\n",
       "  <thead>\n",
       "    <tr style=\"text-align: right;\">\n",
       "      <th></th>\n",
       "      <th>other_sales</th>\n",
       "    </tr>\n",
       "    <tr>\n",
       "      <th>platform</th>\n",
       "      <th></th>\n",
       "    </tr>\n",
       "  </thead>\n",
       "  <tbody>\n",
       "    <tr>\n",
       "      <th>PS4</th>\n",
       "      <td>28.70</td>\n",
       "    </tr>\n",
       "    <tr>\n",
       "      <th>XOne</th>\n",
       "      <td>7.71</td>\n",
       "    </tr>\n",
       "    <tr>\n",
       "      <th>WiiU</th>\n",
       "      <td>1.48</td>\n",
       "    </tr>\n",
       "    <tr>\n",
       "      <th>PC</th>\n",
       "      <td>0.95</td>\n",
       "    </tr>\n",
       "  </tbody>\n",
       "</table>\n",
       "</div>"
      ],
      "text/plain": [
       "          other_sales\n",
       "platform             \n",
       "PS4             28.70\n",
       "XOne             7.71\n",
       "WiiU             1.48\n",
       "PC               0.95"
      ]
     },
     "execution_count": 1404,
     "metadata": {},
     "output_type": "execute_result"
    }
   ],
   "source": [
    "data.pivot_table(index='platform', values='other_sales', aggfunc = 'sum').sort_values(by='other_sales', ascending=False)"
   ]
  },
  {
   "cell_type": "code",
   "execution_count": 1405,
   "metadata": {},
   "outputs": [
    {
     "data": {
      "text/plain": [
       "<AxesSubplot:ylabel='other_sales'>"
      ]
     },
     "execution_count": 1405,
     "metadata": {},
     "output_type": "execute_result"
    },
    {
     "data": {
      "image/png": "[encoded data removed]",
      "text/plain": [
       "<Figure size 720x720 with 1 Axes>"
      ]
     },
     "metadata": {},
     "output_type": "display_data"
    }
   ],
   "source": [
    "data.pivot_table(index='platform', values='other_sales', aggfunc = 'sum').plot.pie(y='other_sales', autopct='%1.0f%%', legend=None, figsize=(10, 10))"
   ]
  },
  {
   "cell_type": "markdown",
   "metadata": {},
   "source": [
    "Лидирует PS4"
   ]
  },
  {
   "cell_type": "markdown",
   "metadata": {},
   "source": [
    "### Посмотрим популярность жанров по регионам"
   ]
  },
  {
   "cell_type": "markdown",
   "metadata": {},
   "source": [
    "Северная Америка"
   ]
  },
  {
   "cell_type": "code",
   "execution_count": 1406,
   "metadata": {},
   "outputs": [
    {
     "data": {
      "text/html": [
       "<div>\n",
       "<style scoped>\n",
       "    .dataframe tbody tr th:only-of-type {\n",
       "        vertical-align: middle;\n",
       "    }\n",
       "\n",
       "    .dataframe tbody tr th {\n",
       "        vertical-align: top;\n",
       "    }\n",
       "\n",
       "    .dataframe thead th {\n",
       "        text-align: right;\n",
       "    }\n",
       "</style>\n",
       "<table border=\"1\" class=\"dataframe\">\n",
       "  <thead>\n",
       "    <tr style=\"text-align: right;\">\n",
       "      <th></th>\n",
       "      <th>na_sales</th>\n",
       "    </tr>\n",
       "    <tr>\n",
       "      <th>genre</th>\n",
       "      <th></th>\n",
       "    </tr>\n",
       "  </thead>\n",
       "  <tbody>\n",
       "    <tr>\n",
       "      <th>Shooter</th>\n",
       "      <td>0.17</td>\n",
       "    </tr>\n",
       "    <tr>\n",
       "      <th>Platform</th>\n",
       "      <td>0.07</td>\n",
       "    </tr>\n",
       "    <tr>\n",
       "      <th>Fighting</th>\n",
       "      <td>0.06</td>\n",
       "    </tr>\n",
       "    <tr>\n",
       "      <th>Role-Playing</th>\n",
       "      <td>0.06</td>\n",
       "    </tr>\n",
       "    <tr>\n",
       "      <th>Sports</th>\n",
       "      <td>0.04</td>\n",
       "    </tr>\n",
       "  </tbody>\n",
       "</table>\n",
       "</div>"
      ],
      "text/plain": [
       "              na_sales\n",
       "genre                 \n",
       "Shooter           0.17\n",
       "Platform          0.07\n",
       "Fighting          0.06\n",
       "Role-Playing      0.06\n",
       "Sports            0.04"
      ]
     },
     "execution_count": 1406,
     "metadata": {},
     "output_type": "execute_result"
    }
   ],
   "source": [
    "data.pivot_table(index='genre', values='na_sales', aggfunc = 'median').sort_values(by='na_sales', ascending=False).head(5)"
   ]
  },
  {
   "cell_type": "code",
   "execution_count": 1407,
   "metadata": {},
   "outputs": [
    {
     "data": {
      "text/plain": [
       "<AxesSubplot:xlabel='genre'>"
      ]
     },
     "execution_count": 1407,
     "metadata": {},
     "output_type": "execute_result"
    },
    {
     "data": {
      "image/png": "[encoded data removed]",
      "text/plain": [
       "<Figure size 720x720 with 1 Axes>"
      ]
     },
     "metadata": {},
     "output_type": "display_data"
    }
   ],
   "source": [
    "data.pivot_table(index='genre', values='na_sales', aggfunc = 'median').sort_values(by='na_sales', ascending=False).head(5).plot.bar(y='na_sales',legend=None, figsize=(10, 10))"
   ]
  },
  {
   "cell_type": "markdown",
   "metadata": {},
   "source": [
    "Лидирует Shooter"
   ]
  },
  {
   "cell_type": "markdown",
   "metadata": {},
   "source": [
    "Европа"
   ]
  },
  {
   "cell_type": "code",
   "execution_count": 1408,
   "metadata": {},
   "outputs": [
    {
     "data": {
      "text/html": [
       "<div>\n",
       "<style scoped>\n",
       "    .dataframe tbody tr th:only-of-type {\n",
       "        vertical-align: middle;\n",
       "    }\n",
       "\n",
       "    .dataframe tbody tr th {\n",
       "        vertical-align: top;\n",
       "    }\n",
       "\n",
       "    .dataframe thead th {\n",
       "        text-align: right;\n",
       "    }\n",
       "</style>\n",
       "<table border=\"1\" class=\"dataframe\">\n",
       "  <thead>\n",
       "    <tr style=\"text-align: right;\">\n",
       "      <th></th>\n",
       "      <th>eu_sales</th>\n",
       "    </tr>\n",
       "    <tr>\n",
       "      <th>genre</th>\n",
       "      <th></th>\n",
       "    </tr>\n",
       "  </thead>\n",
       "  <tbody>\n",
       "    <tr>\n",
       "      <th>Shooter</th>\n",
       "      <td>0.190</td>\n",
       "    </tr>\n",
       "    <tr>\n",
       "      <th>Fighting</th>\n",
       "      <td>0.075</td>\n",
       "    </tr>\n",
       "    <tr>\n",
       "      <th>Platform</th>\n",
       "      <td>0.060</td>\n",
       "    </tr>\n",
       "    <tr>\n",
       "      <th>Role-Playing</th>\n",
       "      <td>0.060</td>\n",
       "    </tr>\n",
       "    <tr>\n",
       "      <th>Sports</th>\n",
       "      <td>0.060</td>\n",
       "    </tr>\n",
       "  </tbody>\n",
       "</table>\n",
       "</div>"
      ],
      "text/plain": [
       "              eu_sales\n",
       "genre                 \n",
       "Shooter          0.190\n",
       "Fighting         0.075\n",
       "Platform         0.060\n",
       "Role-Playing     0.060\n",
       "Sports           0.060"
      ]
     },
     "execution_count": 1408,
     "metadata": {},
     "output_type": "execute_result"
    }
   ],
   "source": [
    "data.pivot_table(index='genre', values='eu_sales', aggfunc = 'median').sort_values(by='eu_sales', ascending=False).head(5)"
   ]
  },
  {
   "cell_type": "code",
   "execution_count": 1409,
   "metadata": {},
   "outputs": [
    {
     "data": {
      "text/plain": [
       "<AxesSubplot:xlabel='genre'>"
      ]
     },
     "execution_count": 1409,
     "metadata": {},
     "output_type": "execute_result"
    },
    {
     "data": {
      "image/png": "[encoded data removed]",
      "text/plain": [
       "<Figure size 720x720 with 1 Axes>"
      ]
     },
     "metadata": {},
     "output_type": "display_data"
    }
   ],
   "source": [
    "data.pivot_table(index='genre', values='eu_sales', aggfunc = 'median').sort_values(by='eu_sales', ascending=False).head(5).plot.bar(y='eu_sales',legend=None, figsize=(10, 10))"
   ]
  },
  {
   "cell_type": "markdown",
   "metadata": {},
   "source": [
    "Так же лидирует жанр Shooter"
   ]
  },
  {
   "cell_type": "markdown",
   "metadata": {},
   "source": [
    "Япония"
   ]
  },
  {
   "cell_type": "code",
   "execution_count": 1410,
   "metadata": {},
   "outputs": [
    {
     "data": {
      "text/html": [
       "<div>\n",
       "<style scoped>\n",
       "    .dataframe tbody tr th:only-of-type {\n",
       "        vertical-align: middle;\n",
       "    }\n",
       "\n",
       "    .dataframe tbody tr th {\n",
       "        vertical-align: top;\n",
       "    }\n",
       "\n",
       "    .dataframe thead th {\n",
       "        text-align: right;\n",
       "    }\n",
       "</style>\n",
       "<table border=\"1\" class=\"dataframe\">\n",
       "  <thead>\n",
       "    <tr style=\"text-align: right;\">\n",
       "      <th></th>\n",
       "      <th>jp_sales</th>\n",
       "    </tr>\n",
       "    <tr>\n",
       "      <th>genre</th>\n",
       "      <th></th>\n",
       "    </tr>\n",
       "  </thead>\n",
       "  <tbody>\n",
       "    <tr>\n",
       "      <th>Fighting</th>\n",
       "      <td>0.020</td>\n",
       "    </tr>\n",
       "    <tr>\n",
       "      <th>Role-Playing</th>\n",
       "      <td>0.020</td>\n",
       "    </tr>\n",
       "    <tr>\n",
       "      <th>Puzzle</th>\n",
       "      <td>0.005</td>\n",
       "    </tr>\n",
       "    <tr>\n",
       "      <th>Action</th>\n",
       "      <td>0.000</td>\n",
       "    </tr>\n",
       "    <tr>\n",
       "      <th>Adventure</th>\n",
       "      <td>0.000</td>\n",
       "    </tr>\n",
       "  </tbody>\n",
       "</table>\n",
       "</div>"
      ],
      "text/plain": [
       "              jp_sales\n",
       "genre                 \n",
       "Fighting         0.020\n",
       "Role-Playing     0.020\n",
       "Puzzle           0.005\n",
       "Action           0.000\n",
       "Adventure        0.000"
      ]
     },
     "execution_count": 1410,
     "metadata": {},
     "output_type": "execute_result"
    }
   ],
   "source": [
    "data.pivot_table(index='genre', values='jp_sales', aggfunc = 'median').sort_values(by='jp_sales', ascending=False).head(5)"
   ]
  },
  {
   "cell_type": "code",
   "execution_count": 1411,
   "metadata": {},
   "outputs": [
    {
     "data": {
      "text/plain": [
       "<AxesSubplot:xlabel='genre'>"
      ]
     },
     "execution_count": 1411,
     "metadata": {},
     "output_type": "execute_result"
    },
    {
     "data": {
      "image/png": "[encoded data removed]",
      "text/plain": [
       "<Figure size 720x720 with 1 Axes>"
      ]
     },
     "metadata": {},
     "output_type": "display_data"
    }
   ],
   "source": [
    "data.pivot_table(index='genre', values='jp_sales', aggfunc = 'median').sort_values(by='jp_sales', ascending=False).head(5).plot.bar(y='jp_sales',legend=None, figsize=(10, 10))"
   ]
  },
  {
   "cell_type": "markdown",
   "metadata": {},
   "source": [
    "Тут лидируют Action и Role Playing"
   ]
  },
  {
   "cell_type": "markdown",
   "metadata": {},
   "source": [
    "Другие регионы"
   ]
  },
  {
   "cell_type": "code",
   "execution_count": 1412,
   "metadata": {},
   "outputs": [
    {
     "data": {
      "text/html": [
       "<div>\n",
       "<style scoped>\n",
       "    .dataframe tbody tr th:only-of-type {\n",
       "        vertical-align: middle;\n",
       "    }\n",
       "\n",
       "    .dataframe tbody tr th {\n",
       "        vertical-align: top;\n",
       "    }\n",
       "\n",
       "    .dataframe thead th {\n",
       "        text-align: right;\n",
       "    }\n",
       "</style>\n",
       "<table border=\"1\" class=\"dataframe\">\n",
       "  <thead>\n",
       "    <tr style=\"text-align: right;\">\n",
       "      <th></th>\n",
       "      <th>other_sales</th>\n",
       "    </tr>\n",
       "    <tr>\n",
       "      <th>genre</th>\n",
       "      <th></th>\n",
       "    </tr>\n",
       "  </thead>\n",
       "  <tbody>\n",
       "    <tr>\n",
       "      <th>Shooter</th>\n",
       "      <td>0.04</td>\n",
       "    </tr>\n",
       "    <tr>\n",
       "      <th>Fighting</th>\n",
       "      <td>0.02</td>\n",
       "    </tr>\n",
       "    <tr>\n",
       "      <th>Platform</th>\n",
       "      <td>0.02</td>\n",
       "    </tr>\n",
       "    <tr>\n",
       "      <th>Role-Playing</th>\n",
       "      <td>0.02</td>\n",
       "    </tr>\n",
       "    <tr>\n",
       "      <th>Sports</th>\n",
       "      <td>0.02</td>\n",
       "    </tr>\n",
       "  </tbody>\n",
       "</table>\n",
       "</div>"
      ],
      "text/plain": [
       "              other_sales\n",
       "genre                    \n",
       "Shooter              0.04\n",
       "Fighting             0.02\n",
       "Platform             0.02\n",
       "Role-Playing         0.02\n",
       "Sports               0.02"
      ]
     },
     "execution_count": 1412,
     "metadata": {},
     "output_type": "execute_result"
    }
   ],
   "source": [
    "data.pivot_table(index='genre', values='other_sales', aggfunc = 'median').sort_values(by='other_sales', ascending=False).head(5)"
   ]
  },
  {
   "cell_type": "code",
   "execution_count": 1413,
   "metadata": {},
   "outputs": [
    {
     "data": {
      "text/plain": [
       "<AxesSubplot:xlabel='genre'>"
      ]
     },
     "execution_count": 1413,
     "metadata": {},
     "output_type": "execute_result"
    },
    {
     "data": {
      "image/png": "[encoded data removed]",
      "text/plain": [
       "<Figure size 720x720 with 1 Axes>"
      ]
     },
     "metadata": {},
     "output_type": "display_data"
    }
   ],
   "source": [
    "data.pivot_table(index='genre', values='other_sales', aggfunc = 'median').sort_values(by='other_sales', ascending=False).head(5).plot.bar(y='other_sales',legend=None, figsize=(10, 10))"
   ]
  },
  {
   "cell_type": "markdown",
   "metadata": {},
   "source": [
    "Лидирует Shooter"
   ]
  },
  {
   "cell_type": "markdown",
   "metadata": {},
   "source": [
    "### Посмотрим влияет ли рейтинг ESRB на продажи в отдельном регионе"
   ]
  },
  {
   "cell_type": "code",
   "execution_count": 1414,
   "metadata": {},
   "outputs": [
    {
     "data": {
      "text/plain": [
       "M       130\n",
       "T       128\n",
       "E       103\n",
       "E10+     58\n",
       "Name: rating, dtype: int64"
      ]
     },
     "execution_count": 1414,
     "metadata": {},
     "output_type": "execute_result"
    }
   ],
   "source": [
    "data['rating'].value_counts()"
   ]
  },
  {
   "cell_type": "markdown",
   "metadata": {},
   "source": [
    "Северная Америка"
   ]
  },
  {
   "cell_type": "code",
   "execution_count": 1415,
   "metadata": {},
   "outputs": [
    {
     "data": {
      "text/plain": [
       "<AxesSubplot:xlabel='rating'>"
      ]
     },
     "execution_count": 1415,
     "metadata": {},
     "output_type": "execute_result"
    },
    {
     "data": {
      "image/png": "[encoded data removed]",
      "text/plain": [
       "<Figure size 432x288 with 1 Axes>"
      ]
     },
     "metadata": {},
     "output_type": "display_data"
    }
   ],
   "source": [
    "data.pivot_table(index='rating',values='na_sales').plot(y='na_sales', kind='bar')"
   ]
  },
  {
   "cell_type": "markdown",
   "metadata": {},
   "source": [
    "Европа"
   ]
  },
  {
   "cell_type": "code",
   "execution_count": 1416,
   "metadata": {},
   "outputs": [
    {
     "data": {
      "text/plain": [
       "<AxesSubplot:xlabel='rating'>"
      ]
     },
     "execution_count": 1416,
     "metadata": {},
     "output_type": "execute_result"
    },
    {
     "data": {
      "image/png": "[encoded data removed]",
      "text/plain": [
       "<Figure size 432x288 with 1 Axes>"
      ]
     },
     "metadata": {},
     "output_type": "display_data"
    }
   ],
   "source": [
    "data.pivot_table(index='rating',values='eu_sales').plot(y='eu_sales', kind='bar')"
   ]
  },
  {
   "cell_type": "markdown",
   "metadata": {},
   "source": [
    "Япония"
   ]
  },
  {
   "cell_type": "code",
   "execution_count": 1417,
   "metadata": {},
   "outputs": [
    {
     "data": {
      "text/plain": [
       "<AxesSubplot:xlabel='rating'>"
      ]
     },
     "execution_count": 1417,
     "metadata": {},
     "output_type": "execute_result"
    },
    {
     "data": {
      "image/png": "[encoded data removed]",
      "text/plain": [
       "<Figure size 432x288 with 1 Axes>"
      ]
     },
     "metadata": {},
     "output_type": "display_data"
    }
   ],
   "source": [
    "data.pivot_table(index='rating',values='jp_sales').plot(y='jp_sales', kind='bar')"
   ]
  },
  {
   "cell_type": "markdown",
   "metadata": {},
   "source": [
    "Другие регионы"
   ]
  },
  {
   "cell_type": "code",
   "execution_count": 1418,
   "metadata": {},
   "outputs": [
    {
     "data": {
      "text/plain": [
       "<AxesSubplot:xlabel='rating'>"
      ]
     },
     "execution_count": 1418,
     "metadata": {},
     "output_type": "execute_result"
    },
    {
     "data": {
      "image/png": "[encoded data removed]",
      "text/plain": [
       "<Figure size 432x288 with 1 Axes>"
      ]
     },
     "metadata": {},
     "output_type": "display_data"
    }
   ],
   "source": [
    "data.pivot_table(index='rating',values='other_sales').plot(y='other_sales', kind='bar')"
   ]
  },
  {
   "cell_type": "markdown",
   "metadata": {},
   "source": [
    "**Вывод:**\n",
    "- Япония отличается от остальных регионов\n",
    "- PS4 самая популярная платформа. В Северной Америке, так же популярен XOne\n",
    "- Самые продаваемый жанр Shooter. В Японии Action и Role Playing\n",
    "- Самые большие продажи у игр с рейтингом 'М'(для взрослых). В Японии - 'Е'(для всех)"
   ]
  },
  {
   "cell_type": "markdown",
   "metadata": {},
   "source": [
    "## Проверим гипотезы"
   ]
  },
  {
   "cell_type": "markdown",
   "metadata": {},
   "source": [
    "### Средние пользовательские рейтинги платформ Xbox One и PC одинаковые"
   ]
  },
  {
   "cell_type": "markdown",
   "metadata": {},
   "source": [
    "Удалим пропущенные значения в столбцe 'user_score'"
   ]
  },
  {
   "cell_type": "code",
   "execution_count": 1419,
   "metadata": {},
   "outputs": [],
   "source": [
    "data = data.dropna(subset=['user_score'])"
   ]
  },
  {
   "cell_type": "markdown",
   "metadata": {},
   "source": [
    "- Нулевая гипотеза: Средние пользовательские рейтинги платформ Xbox One и PC одинаковые\n",
    "- Альтернативная гипотеза: Средние пользовательские рейтинги платформ Xbox One и PC различаются\n",
    "- alpha = 0.05"
   ]
  },
  {
   "cell_type": "code",
   "execution_count": 1420,
   "metadata": {},
   "outputs": [
    {
     "name": "stdout",
     "output_type": "stream",
     "text": [
      "Средний рейтинг Xbox One:  6.5\n",
      "Средний рейтинг PC:  6.3\n",
      "p-значение: 0.2946308864003345\n",
      "Не получилось отвергнуть нулевую гипотезу\n"
     ]
    }
   ],
   "source": [
    "print(\"Средний рейтинг Xbox One: \", data[data['platform'] == 'XOne']['user_score'].mean().round(1))\n",
    "print(\"Средний рейтинг PC: \", data[data['platform'] == 'PC']['user_score'].mean().round(1))\n",
    "results = st.ttest_ind(\n",
    "    data[data['platform'] == 'XOne']['user_score'],\n",
    "    data[data['platform'] == 'PC']['user_score'], equal_var=False)\n",
    "alpha = 0.05\n",
    "print('p-значение:', results.pvalue)\n",
    "if results.pvalue < alpha:\n",
    "    print(\"Отвергаем нулевую гипотезу\")\n",
    "else:\n",
    "    print(\"Не получилось отвергнуть нулевую гипотезу\")"
   ]
  },
  {
   "cell_type": "markdown",
   "metadata": {},
   "source": [
    "Гипотеза подтвердилась, средние пользовательские рейтинги платформ Xbox One и PC одинаковые"
   ]
  },
  {
   "cell_type": "markdown",
   "metadata": {},
   "source": [
    "### Средние пользовательские рейтинги жанров Action (англ. «действие», экшен-игры) и Sports (англ. «спортивные соревнования») разные"
   ]
  },
  {
   "cell_type": "markdown",
   "metadata": {},
   "source": [
    "- Нулевая гипотеза: Средние пользовательские рейтинги жанров Action и Sports одинаковые\n",
    "- Альтернативная гипотеза: Средние пользовательские рейтинги жанров Action и Sports разные\n",
    "- alpha = 0.05"
   ]
  },
  {
   "cell_type": "code",
   "execution_count": 1421,
   "metadata": {},
   "outputs": [
    {
     "name": "stdout",
     "output_type": "stream",
     "text": [
      "Средний рейтинг Action:  6.8\n",
      "Средний рейтинг Sports:  5.5\n",
      "p-значение: 3.9108708293980225e-06\n",
      "Отвергаем нулевую гипотезу\n"
     ]
    }
   ],
   "source": [
    "print(\"Средний рейтинг Action: \", data[data['genre'] == 'Action']['user_score'].mean().round(1))\n",
    "print(\"Средний рейтинг Sports: \", data[data['genre'] == 'Sports']['user_score'].mean().round(1))\n",
    "results = st.ttest_ind(\n",
    "    data[data['genre'] == 'Action']['user_score'],\n",
    "    data[data['genre'] == 'Sports']['user_score'], equal_var=False)\n",
    "alpha = 0.05\n",
    "print('p-значение:', results.pvalue)\n",
    "if results.pvalue < alpha:\n",
    "    print(\"Отвергаем нулевую гипотезу\")\n",
    "else:\n",
    "    print(\"Не получилось отвергнуть нулевую гипотезу\")"
   ]
  },
  {
   "cell_type": "markdown",
   "metadata": {},
   "source": [
    "Гипотеза не подтвердилась, средние пользовательские рейтинги жанров Action и Sports разные"
   ]
  },
  {
   "cell_type": "markdown",
   "metadata": {},
   "source": [
    "## Общий вывод"
   ]
  },
  {
   "cell_type": "markdown",
   "metadata": {},
   "source": [
    "Если брать в общем по миру, то самой популярной, будет игра в жанре Shooter, на платформе PS4, с рейтингом 'M'."
   ]
  },
  {
   "cell_type": "markdown",
   "metadata": {},
   "source": [
    "### По регионам потенциально популярный продукт выглядит так:"
   ]
  },
  {
   "cell_type": "markdown",
   "metadata": {},
   "source": [
    "**Северной Америки:**\n",
    "- Платформа PS4 или XOne\n",
    "- Жанр Shooter\n",
    "- рейтинг ESRB - 'M'"
   ]
  },
  {
   "cell_type": "markdown",
   "metadata": {},
   "source": [
    "**Европа:**\n",
    "- Платформа PS4\n",
    "- Жанр Shooter\n",
    "- рейтинг ESRB - 'M'"
   ]
  },
  {
   "cell_type": "markdown",
   "metadata": {},
   "source": [
    "**Япония:**\n",
    "- Платформа PS4\n",
    "- Жанры Action или Role Playing\n",
    "- рейтинг ESRB - 'E'"
   ]
  },
  {
   "cell_type": "markdown",
   "metadata": {},
   "source": [
    "**Другие регионы:**\n",
    "- Платформа PS4\n",
    "- Жанр Shooter\n",
    "- рейтинг ESRB - 'M'"
   ]
  },
  {
   "cell_type": "markdown",
   "metadata": {},
   "source": [
    "Не стоит опираться на оценки критиков либо пользователей, они особо не влияют на продажи."
   ]
  }
 ],
 "metadata": {
  "ExecuteTimeLog": [
   {
    "duration": 602,
    "start_time": "2023-01-16T09:23:42.817Z"
   },
   {
    "duration": 15,
    "start_time": "2023-01-16T09:26:28.448Z"
   },
   {
    "duration": 1079,
    "start_time": "2023-01-16T09:29:22.408Z"
   },
   {
    "duration": 79,
    "start_time": "2023-01-16T10:04:46.946Z"
   },
   {
    "duration": 7,
    "start_time": "2023-01-16T10:05:43.694Z"
   },
   {
    "duration": 5,
    "start_time": "2023-01-16T10:05:49.064Z"
   },
   {
    "duration": 15,
    "start_time": "2023-01-16T10:06:04.391Z"
   },
   {
    "duration": 27,
    "start_time": "2023-01-16T10:10:14.504Z"
   },
   {
    "duration": 19,
    "start_time": "2023-01-16T10:13:46.888Z"
   },
   {
    "duration": 6,
    "start_time": "2023-01-16T10:16:12.270Z"
   },
   {
    "duration": 5,
    "start_time": "2023-01-16T10:16:26.767Z"
   },
   {
    "duration": 12,
    "start_time": "2023-01-16T10:19:07.291Z"
   },
   {
    "duration": 8,
    "start_time": "2023-01-16T10:19:35.198Z"
   },
   {
    "duration": 11,
    "start_time": "2023-01-16T10:23:55.005Z"
   },
   {
    "duration": 14,
    "start_time": "2023-01-16T10:24:14.685Z"
   },
   {
    "duration": 7,
    "start_time": "2023-01-16T10:25:16.140Z"
   },
   {
    "duration": 76,
    "start_time": "2023-01-16T10:25:59.980Z"
   },
   {
    "duration": 6,
    "start_time": "2023-01-16T10:26:42.725Z"
   },
   {
    "duration": 4,
    "start_time": "2023-01-16T10:30:43.719Z"
   },
   {
    "duration": 10,
    "start_time": "2023-01-16T10:31:30.250Z"
   },
   {
    "duration": 9,
    "start_time": "2023-01-16T10:32:17.962Z"
   },
   {
    "duration": 7,
    "start_time": "2023-01-16T10:32:25.146Z"
   },
   {
    "duration": 79,
    "start_time": "2023-01-16T10:32:52.204Z"
   },
   {
    "duration": 13,
    "start_time": "2023-01-16T10:32:52.285Z"
   },
   {
    "duration": 870,
    "start_time": "2023-01-16T10:32:52.300Z"
   },
   {
    "duration": 3,
    "start_time": "2023-01-16T10:32:53.172Z"
   },
   {
    "duration": 24,
    "start_time": "2023-01-16T10:32:53.177Z"
   },
   {
    "duration": 51,
    "start_time": "2023-01-16T10:32:53.203Z"
   },
   {
    "duration": 12,
    "start_time": "2023-01-16T10:32:53.256Z"
   },
   {
    "duration": 14,
    "start_time": "2023-01-16T10:32:53.270Z"
   },
   {
    "duration": 7,
    "start_time": "2023-01-16T10:35:29.289Z"
   },
   {
    "duration": 3,
    "start_time": "2023-01-16T10:35:37.959Z"
   },
   {
    "duration": 5,
    "start_time": "2023-01-16T10:35:44.474Z"
   },
   {
    "duration": 58,
    "start_time": "2023-01-16T10:36:00.412Z"
   },
   {
    "duration": 13,
    "start_time": "2023-01-16T10:36:00.472Z"
   },
   {
    "duration": 744,
    "start_time": "2023-01-16T10:36:00.487Z"
   },
   {
    "duration": 3,
    "start_time": "2023-01-16T10:36:01.233Z"
   },
   {
    "duration": 28,
    "start_time": "2023-01-16T10:36:01.237Z"
   },
   {
    "duration": 38,
    "start_time": "2023-01-16T10:36:01.267Z"
   },
   {
    "duration": 76,
    "start_time": "2023-01-16T10:36:01.307Z"
   },
   {
    "duration": 30,
    "start_time": "2023-01-16T10:36:01.385Z"
   },
   {
    "duration": 33,
    "start_time": "2023-01-16T10:36:01.416Z"
   },
   {
    "duration": 7,
    "start_time": "2023-01-16T10:37:27.977Z"
   },
   {
    "duration": 5,
    "start_time": "2023-01-16T10:37:36.794Z"
   },
   {
    "duration": 72,
    "start_time": "2023-01-16T10:39:44.305Z"
   },
   {
    "duration": 62,
    "start_time": "2023-01-16T10:40:42.420Z"
   },
   {
    "duration": 15,
    "start_time": "2023-01-16T10:40:42.484Z"
   },
   {
    "duration": 795,
    "start_time": "2023-01-16T10:40:42.501Z"
   },
   {
    "duration": 6,
    "start_time": "2023-01-16T10:40:43.298Z"
   },
   {
    "duration": 52,
    "start_time": "2023-01-16T10:40:43.307Z"
   },
   {
    "duration": 35,
    "start_time": "2023-01-16T10:40:43.361Z"
   },
   {
    "duration": 13,
    "start_time": "2023-01-16T10:40:43.398Z"
   },
   {
    "duration": 13,
    "start_time": "2023-01-16T10:41:58.752Z"
   },
   {
    "duration": 8,
    "start_time": "2023-01-16T10:43:27.615Z"
   },
   {
    "duration": 24,
    "start_time": "2023-01-16T10:49:50.087Z"
   },
   {
    "duration": 8,
    "start_time": "2023-01-16T13:03:31.659Z"
   },
   {
    "duration": 4,
    "start_time": "2023-01-16T13:03:58.572Z"
   },
   {
    "duration": 8,
    "start_time": "2023-01-16T13:04:20.755Z"
   },
   {
    "duration": 8,
    "start_time": "2023-01-16T13:04:38.428Z"
   },
   {
    "duration": 8,
    "start_time": "2023-01-16T13:08:54.667Z"
   },
   {
    "duration": 5,
    "start_time": "2023-01-16T13:11:23.898Z"
   },
   {
    "duration": 16,
    "start_time": "2023-01-16T13:14:24.778Z"
   },
   {
    "duration": 13,
    "start_time": "2023-01-16T13:16:39.356Z"
   },
   {
    "duration": 11,
    "start_time": "2023-01-16T13:16:49.650Z"
   },
   {
    "duration": 12,
    "start_time": "2023-01-16T13:17:10.066Z"
   },
   {
    "duration": 9,
    "start_time": "2023-01-16T13:17:44.553Z"
   },
   {
    "duration": 16,
    "start_time": "2023-01-16T13:17:53.930Z"
   },
   {
    "duration": 6,
    "start_time": "2023-01-16T13:22:17.711Z"
   },
   {
    "duration": 13,
    "start_time": "2023-01-16T13:22:22.549Z"
   },
   {
    "duration": 196,
    "start_time": "2023-01-16T13:22:33.789Z"
   },
   {
    "duration": 25,
    "start_time": "2023-01-16T13:22:33.987Z"
   },
   {
    "duration": 957,
    "start_time": "2023-01-16T13:22:34.014Z"
   },
   {
    "duration": 5,
    "start_time": "2023-01-16T13:22:34.973Z"
   },
   {
    "duration": 30,
    "start_time": "2023-01-16T13:22:34.982Z"
   },
   {
    "duration": 45,
    "start_time": "2023-01-16T13:22:35.017Z"
   },
   {
    "duration": 24,
    "start_time": "2023-01-16T13:22:35.065Z"
   },
   {
    "duration": 28,
    "start_time": "2023-01-16T13:22:35.091Z"
   },
   {
    "duration": 48,
    "start_time": "2023-01-16T13:22:35.121Z"
   },
   {
    "duration": 47,
    "start_time": "2023-01-16T13:22:35.171Z"
   },
   {
    "duration": 14,
    "start_time": "2023-01-16T13:22:35.220Z"
   },
   {
    "duration": 31,
    "start_time": "2023-01-16T13:22:35.237Z"
   },
   {
    "duration": 998,
    "start_time": "2023-01-16T13:22:49.930Z"
   },
   {
    "duration": 87,
    "start_time": "2023-01-16T13:23:03.644Z"
   },
   {
    "duration": 18,
    "start_time": "2023-01-16T13:23:03.733Z"
   },
   {
    "duration": 904,
    "start_time": "2023-01-16T13:23:03.753Z"
   },
   {
    "duration": 4,
    "start_time": "2023-01-16T13:23:04.659Z"
   },
   {
    "duration": 21,
    "start_time": "2023-01-16T13:23:04.665Z"
   },
   {
    "duration": 43,
    "start_time": "2023-01-16T13:23:04.687Z"
   },
   {
    "duration": 27,
    "start_time": "2023-01-16T13:23:04.731Z"
   },
   {
    "duration": 28,
    "start_time": "2023-01-16T13:23:04.759Z"
   },
   {
    "duration": 70,
    "start_time": "2023-01-16T13:23:04.790Z"
   },
   {
    "duration": 26,
    "start_time": "2023-01-16T13:23:04.862Z"
   },
   {
    "duration": 6,
    "start_time": "2023-01-16T13:23:04.891Z"
   },
   {
    "duration": 43,
    "start_time": "2023-01-16T13:23:04.898Z"
   },
   {
    "duration": 10,
    "start_time": "2023-01-16T13:24:06.545Z"
   },
   {
    "duration": 16,
    "start_time": "2023-01-16T13:24:07.745Z"
   },
   {
    "duration": 21,
    "start_time": "2023-01-16T13:24:16.650Z"
   },
   {
    "duration": 12,
    "start_time": "2023-01-16T13:24:23.242Z"
   },
   {
    "duration": 62,
    "start_time": "2023-01-16T13:25:51.965Z"
   },
   {
    "duration": 15,
    "start_time": "2023-01-16T13:25:52.029Z"
   },
   {
    "duration": 922,
    "start_time": "2023-01-16T13:25:52.046Z"
   },
   {
    "duration": 4,
    "start_time": "2023-01-16T13:25:52.970Z"
   },
   {
    "duration": 32,
    "start_time": "2023-01-16T13:25:52.976Z"
   },
   {
    "duration": 29,
    "start_time": "2023-01-16T13:25:53.010Z"
   },
   {
    "duration": 13,
    "start_time": "2023-01-16T13:25:53.041Z"
   },
   {
    "duration": 22,
    "start_time": "2023-01-16T13:25:53.056Z"
   },
   {
    "duration": 10,
    "start_time": "2023-01-16T13:25:53.081Z"
   },
   {
    "duration": 24,
    "start_time": "2023-01-16T13:25:53.106Z"
   },
   {
    "duration": 9,
    "start_time": "2023-01-16T13:25:53.133Z"
   },
   {
    "duration": 27,
    "start_time": "2023-01-16T13:25:53.144Z"
   },
   {
    "duration": 4,
    "start_time": "2023-01-16T13:29:52.457Z"
   },
   {
    "duration": 22,
    "start_time": "2023-01-16T13:30:01.112Z"
   },
   {
    "duration": 5,
    "start_time": "2023-01-16T13:30:15.473Z"
   },
   {
    "duration": 29,
    "start_time": "2023-01-16T13:30:18.241Z"
   },
   {
    "duration": 7,
    "start_time": "2023-01-16T13:31:16.354Z"
   },
   {
    "duration": 11,
    "start_time": "2023-01-16T13:32:17.800Z"
   },
   {
    "duration": 8,
    "start_time": "2023-01-16T13:32:26.331Z"
   },
   {
    "duration": 22,
    "start_time": "2023-01-16T13:32:48.352Z"
   },
   {
    "duration": 37,
    "start_time": "2023-01-16T14:22:26.014Z"
   },
   {
    "duration": 34,
    "start_time": "2023-01-16T14:25:28.650Z"
   },
   {
    "duration": 64,
    "start_time": "2023-01-16T14:25:33.198Z"
   },
   {
    "duration": 18,
    "start_time": "2023-01-16T14:25:33.265Z"
   },
   {
    "duration": 941,
    "start_time": "2023-01-16T14:25:33.285Z"
   },
   {
    "duration": 3,
    "start_time": "2023-01-16T14:25:34.228Z"
   },
   {
    "duration": 38,
    "start_time": "2023-01-16T14:25:34.234Z"
   },
   {
    "duration": 46,
    "start_time": "2023-01-16T14:25:34.274Z"
   },
   {
    "duration": 25,
    "start_time": "2023-01-16T14:25:34.322Z"
   },
   {
    "duration": 31,
    "start_time": "2023-01-16T14:25:34.349Z"
   },
   {
    "duration": 20,
    "start_time": "2023-01-16T14:25:34.382Z"
   },
   {
    "duration": 22,
    "start_time": "2023-01-16T14:25:34.404Z"
   },
   {
    "duration": 11,
    "start_time": "2023-01-16T14:25:34.428Z"
   },
   {
    "duration": 32,
    "start_time": "2023-01-16T14:25:34.441Z"
   },
   {
    "duration": 14,
    "start_time": "2023-01-16T14:25:34.475Z"
   },
   {
    "duration": 40,
    "start_time": "2023-01-16T14:25:34.492Z"
   },
   {
    "duration": 54,
    "start_time": "2023-01-16T14:25:34.535Z"
   },
   {
    "duration": 6,
    "start_time": "2023-01-16T14:27:09.525Z"
   },
   {
    "duration": 31,
    "start_time": "2023-01-16T14:27:11.787Z"
   },
   {
    "duration": 33,
    "start_time": "2023-01-16T14:27:21.262Z"
   },
   {
    "duration": 48,
    "start_time": "2023-01-17T09:24:27.115Z"
   },
   {
    "duration": 5,
    "start_time": "2023-01-17T09:28:06.625Z"
   },
   {
    "duration": 616,
    "start_time": "2023-01-17T09:28:15.572Z"
   },
   {
    "duration": 13,
    "start_time": "2023-01-17T09:28:16.190Z"
   },
   {
    "duration": 1150,
    "start_time": "2023-01-17T09:28:16.204Z"
   },
   {
    "duration": 3,
    "start_time": "2023-01-17T09:28:17.356Z"
   },
   {
    "duration": 14,
    "start_time": "2023-01-17T09:28:17.367Z"
   },
   {
    "duration": 21,
    "start_time": "2023-01-17T09:28:17.383Z"
   },
   {
    "duration": 13,
    "start_time": "2023-01-17T09:28:17.405Z"
   },
   {
    "duration": 10,
    "start_time": "2023-01-17T09:28:17.419Z"
   },
   {
    "duration": 88,
    "start_time": "2023-01-17T09:28:17.430Z"
   },
   {
    "duration": 18,
    "start_time": "2023-01-17T09:28:17.519Z"
   },
   {
    "duration": 7,
    "start_time": "2023-01-17T09:28:17.538Z"
   },
   {
    "duration": 24,
    "start_time": "2023-01-17T09:28:17.547Z"
   },
   {
    "duration": 4,
    "start_time": "2023-01-17T09:28:17.572Z"
   },
   {
    "duration": 21,
    "start_time": "2023-01-17T09:28:17.579Z"
   },
   {
    "duration": 10,
    "start_time": "2023-01-17T09:28:17.602Z"
   },
   {
    "duration": 252,
    "start_time": "2023-01-17T09:29:42.498Z"
   },
   {
    "duration": 44,
    "start_time": "2023-01-17T09:33:52.928Z"
   },
   {
    "duration": 41,
    "start_time": "2023-01-17T09:34:00.505Z"
   },
   {
    "duration": 15,
    "start_time": "2023-01-17T09:34:30.739Z"
   },
   {
    "duration": 7,
    "start_time": "2023-01-17T09:35:11.780Z"
   },
   {
    "duration": 7,
    "start_time": "2023-01-17T09:39:32.295Z"
   },
   {
    "duration": 11,
    "start_time": "2023-01-17T09:39:39.096Z"
   },
   {
    "duration": 18,
    "start_time": "2023-01-17T09:40:34.104Z"
   },
   {
    "duration": 21,
    "start_time": "2023-01-17T09:41:03.663Z"
   },
   {
    "duration": 13,
    "start_time": "2023-01-17T09:41:51.127Z"
   },
   {
    "duration": 15,
    "start_time": "2023-01-17T09:42:24.271Z"
   },
   {
    "duration": 15,
    "start_time": "2023-01-17T09:42:40.607Z"
   },
   {
    "duration": 19,
    "start_time": "2023-01-17T09:42:57.049Z"
   },
   {
    "duration": 15,
    "start_time": "2023-01-17T09:46:08.103Z"
   },
   {
    "duration": 70,
    "start_time": "2023-01-17T09:49:06.169Z"
   },
   {
    "duration": 16,
    "start_time": "2023-01-17T09:49:06.241Z"
   },
   {
    "duration": 991,
    "start_time": "2023-01-17T09:49:06.259Z"
   },
   {
    "duration": 5,
    "start_time": "2023-01-17T09:49:07.252Z"
   },
   {
    "duration": 36,
    "start_time": "2023-01-17T09:49:07.258Z"
   },
   {
    "duration": 39,
    "start_time": "2023-01-17T09:49:07.296Z"
   },
   {
    "duration": 50,
    "start_time": "2023-01-17T09:49:07.337Z"
   },
   {
    "duration": 60,
    "start_time": "2023-01-17T09:49:07.388Z"
   },
   {
    "duration": 47,
    "start_time": "2023-01-17T09:49:07.450Z"
   },
   {
    "duration": 45,
    "start_time": "2023-01-17T09:49:07.500Z"
   },
   {
    "duration": 40,
    "start_time": "2023-01-17T09:49:07.547Z"
   },
   {
    "duration": 27,
    "start_time": "2023-01-17T09:49:07.589Z"
   },
   {
    "duration": 28,
    "start_time": "2023-01-17T09:49:07.618Z"
   },
   {
    "duration": 38,
    "start_time": "2023-01-17T09:49:07.648Z"
   },
   {
    "duration": 42,
    "start_time": "2023-01-17T09:49:07.688Z"
   },
   {
    "duration": 42,
    "start_time": "2023-01-17T09:49:07.732Z"
   },
   {
    "duration": 28,
    "start_time": "2023-01-17T09:49:07.775Z"
   },
   {
    "duration": 67,
    "start_time": "2023-01-17T10:24:49.755Z"
   },
   {
    "duration": 14,
    "start_time": "2023-01-17T10:24:49.824Z"
   },
   {
    "duration": 763,
    "start_time": "2023-01-17T10:24:49.840Z"
   },
   {
    "duration": 4,
    "start_time": "2023-01-17T10:24:50.606Z"
   },
   {
    "duration": 18,
    "start_time": "2023-01-17T10:24:50.612Z"
   },
   {
    "duration": 37,
    "start_time": "2023-01-17T10:24:50.631Z"
   },
   {
    "duration": 6,
    "start_time": "2023-01-17T10:24:50.670Z"
   },
   {
    "duration": 9,
    "start_time": "2023-01-17T10:24:50.678Z"
   },
   {
    "duration": 9,
    "start_time": "2023-01-17T10:24:50.688Z"
   },
   {
    "duration": 17,
    "start_time": "2023-01-17T10:24:50.698Z"
   },
   {
    "duration": 6,
    "start_time": "2023-01-17T10:24:50.716Z"
   },
   {
    "duration": 42,
    "start_time": "2023-01-17T10:24:50.725Z"
   },
   {
    "duration": 4,
    "start_time": "2023-01-17T10:24:50.769Z"
   },
   {
    "duration": 22,
    "start_time": "2023-01-17T10:24:50.775Z"
   },
   {
    "duration": 5,
    "start_time": "2023-01-17T10:24:50.798Z"
   },
   {
    "duration": 21,
    "start_time": "2023-01-17T10:24:50.805Z"
   },
   {
    "duration": 16,
    "start_time": "2023-01-17T10:24:50.828Z"
   },
   {
    "duration": 19,
    "start_time": "2023-01-17T10:25:50.363Z"
   },
   {
    "duration": 19,
    "start_time": "2023-01-17T10:29:14.025Z"
   },
   {
    "duration": 15,
    "start_time": "2023-01-17T10:29:30.417Z"
   },
   {
    "duration": 16,
    "start_time": "2023-01-17T10:35:28.896Z"
   },
   {
    "duration": 26,
    "start_time": "2023-01-17T10:43:43.576Z"
   },
   {
    "duration": 28,
    "start_time": "2023-01-17T10:44:05.233Z"
   },
   {
    "duration": 13,
    "start_time": "2023-01-17T10:44:28.247Z"
   },
   {
    "duration": 6,
    "start_time": "2023-01-17T10:45:34.808Z"
   },
   {
    "duration": 63,
    "start_time": "2023-01-17T10:51:04.702Z"
   },
   {
    "duration": 361,
    "start_time": "2023-01-17T11:03:03.307Z"
   },
   {
    "duration": 47,
    "start_time": "2023-01-17T11:11:29.338Z"
   },
   {
    "duration": 48,
    "start_time": "2023-01-17T11:11:38.425Z"
   },
   {
    "duration": 11,
    "start_time": "2023-01-17T11:12:10.697Z"
   },
   {
    "duration": 24,
    "start_time": "2023-01-17T11:12:34.713Z"
   },
   {
    "duration": 16,
    "start_time": "2023-01-17T11:13:02.857Z"
   },
   {
    "duration": 13,
    "start_time": "2023-01-17T11:13:45.937Z"
   },
   {
    "duration": 15,
    "start_time": "2023-01-17T11:14:11.785Z"
   },
   {
    "duration": 27,
    "start_time": "2023-01-17T11:14:16.929Z"
   },
   {
    "duration": 31,
    "start_time": "2023-01-17T11:14:29.681Z"
   },
   {
    "duration": 43,
    "start_time": "2023-01-17T13:46:23.814Z"
   },
   {
    "duration": 925,
    "start_time": "2023-01-17T13:46:39.776Z"
   },
   {
    "duration": 13,
    "start_time": "2023-01-17T13:46:40.703Z"
   },
   {
    "duration": 660,
    "start_time": "2023-01-17T13:46:40.717Z"
   },
   {
    "duration": 3,
    "start_time": "2023-01-17T13:46:41.379Z"
   },
   {
    "duration": 37,
    "start_time": "2023-01-17T13:46:41.383Z"
   },
   {
    "duration": 19,
    "start_time": "2023-01-17T13:46:41.421Z"
   },
   {
    "duration": 8,
    "start_time": "2023-01-17T13:46:41.441Z"
   },
   {
    "duration": 9,
    "start_time": "2023-01-17T13:46:41.450Z"
   },
   {
    "duration": 10,
    "start_time": "2023-01-17T13:46:41.460Z"
   },
   {
    "duration": 15,
    "start_time": "2023-01-17T13:46:41.471Z"
   },
   {
    "duration": 7,
    "start_time": "2023-01-17T13:46:41.487Z"
   },
   {
    "duration": 11,
    "start_time": "2023-01-17T13:46:41.495Z"
   },
   {
    "duration": 4,
    "start_time": "2023-01-17T13:46:41.507Z"
   },
   {
    "duration": 38,
    "start_time": "2023-01-17T13:46:41.513Z"
   },
   {
    "duration": 4,
    "start_time": "2023-01-17T13:46:41.552Z"
   },
   {
    "duration": 20,
    "start_time": "2023-01-17T13:46:41.558Z"
   },
   {
    "duration": 35,
    "start_time": "2023-01-17T13:46:41.580Z"
   },
   {
    "duration": 5,
    "start_time": "2023-01-17T13:46:41.617Z"
   },
   {
    "duration": 21,
    "start_time": "2023-01-17T13:46:47.506Z"
   },
   {
    "duration": 5,
    "start_time": "2023-01-17T13:52:02.100Z"
   },
   {
    "duration": 19,
    "start_time": "2023-01-17T13:52:06.248Z"
   },
   {
    "duration": 15,
    "start_time": "2023-01-17T13:53:28.074Z"
   },
   {
    "duration": 63,
    "start_time": "2023-01-17T13:53:38.268Z"
   },
   {
    "duration": 13,
    "start_time": "2023-01-17T13:53:38.332Z"
   },
   {
    "duration": 729,
    "start_time": "2023-01-17T13:53:38.346Z"
   },
   {
    "duration": 3,
    "start_time": "2023-01-17T13:53:39.077Z"
   },
   {
    "duration": 21,
    "start_time": "2023-01-17T13:53:39.081Z"
   },
   {
    "duration": 19,
    "start_time": "2023-01-17T13:53:39.104Z"
   },
   {
    "duration": 24,
    "start_time": "2023-01-17T13:53:39.124Z"
   },
   {
    "duration": 13,
    "start_time": "2023-01-17T13:53:39.149Z"
   },
   {
    "duration": 6,
    "start_time": "2023-01-17T13:53:39.163Z"
   },
   {
    "duration": 17,
    "start_time": "2023-01-17T13:53:39.171Z"
   },
   {
    "duration": 7,
    "start_time": "2023-01-17T13:53:39.189Z"
   },
   {
    "duration": 15,
    "start_time": "2023-01-17T13:53:39.197Z"
   },
   {
    "duration": 14,
    "start_time": "2023-01-17T13:53:39.213Z"
   },
   {
    "duration": 31,
    "start_time": "2023-01-17T13:53:39.228Z"
   },
   {
    "duration": 23,
    "start_time": "2023-01-17T13:53:39.260Z"
   },
   {
    "duration": 20,
    "start_time": "2023-01-17T13:53:39.284Z"
   },
   {
    "duration": 32,
    "start_time": "2023-01-17T13:53:39.305Z"
   },
   {
    "duration": 3,
    "start_time": "2023-01-17T13:53:39.339Z"
   },
   {
    "duration": 22,
    "start_time": "2023-01-17T13:53:39.344Z"
   },
   {
    "duration": 16,
    "start_time": "2023-01-17T13:53:39.367Z"
   },
   {
    "duration": 5,
    "start_time": "2023-01-17T14:00:20.233Z"
   },
   {
    "duration": 4,
    "start_time": "2023-01-17T14:00:50.937Z"
   },
   {
    "duration": 30,
    "start_time": "2023-01-17T14:01:44.641Z"
   },
   {
    "duration": 152,
    "start_time": "2023-01-17T14:09:44.535Z"
   },
   {
    "duration": 65,
    "start_time": "2023-01-17T14:10:24.114Z"
   },
   {
    "duration": 13,
    "start_time": "2023-01-17T14:10:24.180Z"
   },
   {
    "duration": 757,
    "start_time": "2023-01-17T14:10:24.194Z"
   },
   {
    "duration": 3,
    "start_time": "2023-01-17T14:10:24.954Z"
   },
   {
    "duration": 26,
    "start_time": "2023-01-17T14:10:24.959Z"
   },
   {
    "duration": 24,
    "start_time": "2023-01-17T14:10:24.987Z"
   },
   {
    "duration": 11,
    "start_time": "2023-01-17T14:10:25.012Z"
   },
   {
    "duration": 25,
    "start_time": "2023-01-17T14:10:25.025Z"
   },
   {
    "duration": 8,
    "start_time": "2023-01-17T14:10:25.052Z"
   },
   {
    "duration": 26,
    "start_time": "2023-01-17T14:10:25.062Z"
   },
   {
    "duration": 6,
    "start_time": "2023-01-17T14:10:25.090Z"
   },
   {
    "duration": 25,
    "start_time": "2023-01-17T14:10:25.098Z"
   },
   {
    "duration": 12,
    "start_time": "2023-01-17T14:10:25.125Z"
   },
   {
    "duration": 24,
    "start_time": "2023-01-17T14:10:25.138Z"
   },
   {
    "duration": 11,
    "start_time": "2023-01-17T14:10:25.164Z"
   },
   {
    "duration": 17,
    "start_time": "2023-01-17T14:10:25.176Z"
   },
   {
    "duration": 31,
    "start_time": "2023-01-17T14:10:25.195Z"
   },
   {
    "duration": 4,
    "start_time": "2023-01-17T14:10:25.228Z"
   },
   {
    "duration": 18,
    "start_time": "2023-01-17T14:10:25.244Z"
   },
   {
    "duration": 17,
    "start_time": "2023-01-17T14:10:25.263Z"
   },
   {
    "duration": 29,
    "start_time": "2023-01-17T14:10:25.282Z"
   },
   {
    "duration": 119,
    "start_time": "2023-01-17T14:10:25.312Z"
   },
   {
    "duration": 100,
    "start_time": "2023-01-17T14:11:20.120Z"
   },
   {
    "duration": 62,
    "start_time": "2023-01-17T14:11:31.857Z"
   },
   {
    "duration": 12,
    "start_time": "2023-01-17T14:11:31.921Z"
   },
   {
    "duration": 759,
    "start_time": "2023-01-17T14:11:31.934Z"
   },
   {
    "duration": 4,
    "start_time": "2023-01-17T14:11:32.694Z"
   },
   {
    "duration": 40,
    "start_time": "2023-01-17T14:11:32.699Z"
   },
   {
    "duration": 37,
    "start_time": "2023-01-17T14:11:32.740Z"
   },
   {
    "duration": 6,
    "start_time": "2023-01-17T14:11:32.778Z"
   },
   {
    "duration": 8,
    "start_time": "2023-01-17T14:11:32.786Z"
   },
   {
    "duration": 8,
    "start_time": "2023-01-17T14:11:32.796Z"
   },
   {
    "duration": 33,
    "start_time": "2023-01-17T14:11:32.805Z"
   },
   {
    "duration": 12,
    "start_time": "2023-01-17T14:11:32.839Z"
   },
   {
    "duration": 20,
    "start_time": "2023-01-17T14:11:32.852Z"
   },
   {
    "duration": 4,
    "start_time": "2023-01-17T14:11:32.873Z"
   },
   {
    "duration": 41,
    "start_time": "2023-01-17T14:11:32.879Z"
   },
   {
    "duration": 5,
    "start_time": "2023-01-17T14:11:32.921Z"
   },
   {
    "duration": 31,
    "start_time": "2023-01-17T14:11:32.927Z"
   },
   {
    "duration": 32,
    "start_time": "2023-01-17T14:11:32.959Z"
   },
   {
    "duration": 4,
    "start_time": "2023-01-17T14:11:32.993Z"
   },
   {
    "duration": 22,
    "start_time": "2023-01-17T14:11:32.998Z"
   },
   {
    "duration": 29,
    "start_time": "2023-01-17T14:11:33.021Z"
   },
   {
    "duration": 32,
    "start_time": "2023-01-17T14:11:33.051Z"
   },
   {
    "duration": 120,
    "start_time": "2023-01-17T14:11:33.085Z"
   },
   {
    "duration": 324,
    "start_time": "2023-01-17T14:13:14.496Z"
   },
   {
    "duration": 204,
    "start_time": "2023-01-17T14:14:28.014Z"
   },
   {
    "duration": 10,
    "start_time": "2023-01-17T14:15:00.521Z"
   },
   {
    "duration": 7,
    "start_time": "2023-01-17T14:17:19.679Z"
   },
   {
    "duration": 62,
    "start_time": "2023-01-17T14:17:29.501Z"
   },
   {
    "duration": 13,
    "start_time": "2023-01-17T14:17:29.564Z"
   },
   {
    "duration": 711,
    "start_time": "2023-01-17T14:17:29.579Z"
   },
   {
    "duration": 3,
    "start_time": "2023-01-17T14:17:30.292Z"
   },
   {
    "duration": 32,
    "start_time": "2023-01-17T14:17:30.297Z"
   },
   {
    "duration": 41,
    "start_time": "2023-01-17T14:17:30.331Z"
   },
   {
    "duration": 42,
    "start_time": "2023-01-17T14:17:30.374Z"
   },
   {
    "duration": 39,
    "start_time": "2023-01-17T14:17:30.418Z"
   },
   {
    "duration": 25,
    "start_time": "2023-01-17T14:17:30.459Z"
   },
   {
    "duration": 63,
    "start_time": "2023-01-17T14:17:30.485Z"
   },
   {
    "duration": 25,
    "start_time": "2023-01-17T14:17:30.549Z"
   },
   {
    "duration": 134,
    "start_time": "2023-01-17T14:17:30.575Z"
   },
   {
    "duration": 4,
    "start_time": "2023-01-17T14:17:30.711Z"
   },
   {
    "duration": 77,
    "start_time": "2023-01-17T14:17:30.717Z"
   },
   {
    "duration": 34,
    "start_time": "2023-01-17T14:17:30.796Z"
   },
   {
    "duration": 20,
    "start_time": "2023-01-17T14:17:30.832Z"
   },
   {
    "duration": 37,
    "start_time": "2023-01-17T14:17:30.854Z"
   },
   {
    "duration": 6,
    "start_time": "2023-01-17T14:17:30.892Z"
   },
   {
    "duration": 41,
    "start_time": "2023-01-17T14:17:30.899Z"
   },
   {
    "duration": 35,
    "start_time": "2023-01-17T14:17:30.942Z"
   },
   {
    "duration": 39,
    "start_time": "2023-01-17T14:17:30.979Z"
   },
   {
    "duration": 7,
    "start_time": "2023-01-17T14:17:31.020Z"
   },
   {
    "duration": 8,
    "start_time": "2023-01-17T14:19:43.654Z"
   },
   {
    "duration": 25,
    "start_time": "2023-01-17T14:19:47.661Z"
   },
   {
    "duration": 11,
    "start_time": "2023-01-17T14:19:57.934Z"
   },
   {
    "duration": 91,
    "start_time": "2023-01-17T14:21:06.702Z"
   },
   {
    "duration": 103,
    "start_time": "2023-01-17T14:21:50.533Z"
   },
   {
    "duration": 13,
    "start_time": "2023-01-17T14:22:20.046Z"
   },
   {
    "duration": 109,
    "start_time": "2023-01-17T14:24:13.240Z"
   },
   {
    "duration": 7,
    "start_time": "2023-01-17T14:31:51.405Z"
   },
   {
    "duration": 96,
    "start_time": "2023-01-17T14:32:22.501Z"
   },
   {
    "duration": 117,
    "start_time": "2023-01-17T14:33:14.701Z"
   },
   {
    "duration": 101,
    "start_time": "2023-01-17T14:33:57.327Z"
   },
   {
    "duration": 81,
    "start_time": "2023-01-17T14:34:19.405Z"
   },
   {
    "duration": 94,
    "start_time": "2023-01-17T14:34:23.196Z"
   },
   {
    "duration": 97,
    "start_time": "2023-01-17T14:40:39.756Z"
   },
   {
    "duration": 104,
    "start_time": "2023-01-17T14:41:11.268Z"
   },
   {
    "duration": 12,
    "start_time": "2023-01-17T14:41:24.476Z"
   },
   {
    "duration": 96,
    "start_time": "2023-01-17T14:42:11.340Z"
   },
   {
    "duration": 95,
    "start_time": "2023-01-17T14:42:32.268Z"
   },
   {
    "duration": 11,
    "start_time": "2023-01-17T14:46:00.939Z"
   },
   {
    "duration": 10,
    "start_time": "2023-01-17T14:46:41.339Z"
   },
   {
    "duration": 14,
    "start_time": "2023-01-17T14:46:50.036Z"
   },
   {
    "duration": 64,
    "start_time": "2023-01-17T14:46:59.669Z"
   },
   {
    "duration": 13,
    "start_time": "2023-01-17T14:46:59.734Z"
   },
   {
    "duration": 712,
    "start_time": "2023-01-17T14:46:59.748Z"
   },
   {
    "duration": 4,
    "start_time": "2023-01-17T14:47:00.461Z"
   },
   {
    "duration": 43,
    "start_time": "2023-01-17T14:47:00.467Z"
   },
   {
    "duration": 43,
    "start_time": "2023-01-17T14:47:00.512Z"
   },
   {
    "duration": 41,
    "start_time": "2023-01-17T14:47:00.557Z"
   },
   {
    "duration": 61,
    "start_time": "2023-01-17T14:47:00.599Z"
   },
   {
    "duration": 35,
    "start_time": "2023-01-17T14:47:00.661Z"
   },
   {
    "duration": 45,
    "start_time": "2023-01-17T14:47:00.698Z"
   },
   {
    "duration": 19,
    "start_time": "2023-01-17T14:47:00.745Z"
   },
   {
    "duration": 131,
    "start_time": "2023-01-17T14:47:00.765Z"
   },
   {
    "duration": 4,
    "start_time": "2023-01-17T14:47:00.898Z"
   },
   {
    "duration": 46,
    "start_time": "2023-01-17T14:47:00.904Z"
   },
   {
    "duration": 30,
    "start_time": "2023-01-17T14:47:00.951Z"
   },
   {
    "duration": 42,
    "start_time": "2023-01-17T14:47:00.983Z"
   },
   {
    "duration": 35,
    "start_time": "2023-01-17T14:47:01.026Z"
   },
   {
    "duration": 28,
    "start_time": "2023-01-17T14:47:01.063Z"
   },
   {
    "duration": 58,
    "start_time": "2023-01-17T14:47:01.093Z"
   },
   {
    "duration": 51,
    "start_time": "2023-01-17T14:47:01.153Z"
   },
   {
    "duration": 57,
    "start_time": "2023-01-17T14:47:01.206Z"
   },
   {
    "duration": 24,
    "start_time": "2023-01-17T14:47:01.264Z"
   },
   {
    "duration": 44,
    "start_time": "2023-01-17T14:47:01.290Z"
   },
   {
    "duration": 97,
    "start_time": "2023-01-17T14:47:01.336Z"
   },
   {
    "duration": 46,
    "start_time": "2023-01-17T14:47:01.435Z"
   },
   {
    "duration": 28,
    "start_time": "2023-01-17T14:47:01.482Z"
   },
   {
    "duration": 0,
    "start_time": "2023-01-17T14:47:01.511Z"
   },
   {
    "duration": 131,
    "start_time": "2023-01-17T14:47:12.850Z"
   },
   {
    "duration": 13,
    "start_time": "2023-01-17T14:48:08.797Z"
   },
   {
    "duration": 117,
    "start_time": "2023-01-17T14:48:23.699Z"
   },
   {
    "duration": 89,
    "start_time": "2023-01-17T14:48:35.437Z"
   },
   {
    "duration": 96,
    "start_time": "2023-01-17T14:49:32.314Z"
   },
   {
    "duration": 496,
    "start_time": "2023-01-17T14:57:20.661Z"
   },
   {
    "duration": 13,
    "start_time": "2023-01-17T14:57:21.159Z"
   },
   {
    "duration": 765,
    "start_time": "2023-01-17T14:57:21.174Z"
   },
   {
    "duration": 3,
    "start_time": "2023-01-17T14:57:21.944Z"
   },
   {
    "duration": 36,
    "start_time": "2023-01-17T14:57:21.949Z"
   },
   {
    "duration": 48,
    "start_time": "2023-01-17T14:57:21.986Z"
   },
   {
    "duration": 34,
    "start_time": "2023-01-17T14:57:22.036Z"
   },
   {
    "duration": 36,
    "start_time": "2023-01-17T14:57:22.072Z"
   },
   {
    "duration": 20,
    "start_time": "2023-01-17T14:57:22.109Z"
   },
   {
    "duration": 33,
    "start_time": "2023-01-17T14:57:22.131Z"
   },
   {
    "duration": 25,
    "start_time": "2023-01-17T14:57:22.165Z"
   },
   {
    "duration": 17,
    "start_time": "2023-01-17T14:57:22.192Z"
   },
   {
    "duration": 8,
    "start_time": "2023-01-17T14:57:22.211Z"
   },
   {
    "duration": 34,
    "start_time": "2023-01-17T14:57:22.222Z"
   },
   {
    "duration": 13,
    "start_time": "2023-01-17T14:57:22.258Z"
   },
   {
    "duration": 39,
    "start_time": "2023-01-17T14:57:22.272Z"
   },
   {
    "duration": 44,
    "start_time": "2023-01-17T14:57:22.312Z"
   },
   {
    "duration": 27,
    "start_time": "2023-01-17T14:57:22.357Z"
   },
   {
    "duration": 38,
    "start_time": "2023-01-17T14:57:22.386Z"
   },
   {
    "duration": 28,
    "start_time": "2023-01-17T14:57:22.425Z"
   },
   {
    "duration": 36,
    "start_time": "2023-01-17T14:57:22.454Z"
   },
   {
    "duration": 8,
    "start_time": "2023-01-17T14:57:22.491Z"
   },
   {
    "duration": 57,
    "start_time": "2023-01-17T14:57:22.501Z"
   },
   {
    "duration": 27,
    "start_time": "2023-01-17T14:57:22.560Z"
   },
   {
    "duration": 25,
    "start_time": "2023-01-17T14:57:22.589Z"
   },
   {
    "duration": 62,
    "start_time": "2023-01-17T14:57:22.616Z"
   },
   {
    "duration": 0,
    "start_time": "2023-01-17T14:57:22.680Z"
   },
   {
    "duration": 16,
    "start_time": "2023-01-17T14:57:38.954Z"
   },
   {
    "duration": 352,
    "start_time": "2023-01-17T14:57:54.891Z"
   },
   {
    "duration": 151,
    "start_time": "2023-01-17T14:58:08.090Z"
   },
   {
    "duration": 170,
    "start_time": "2023-01-17T14:58:27.857Z"
   },
   {
    "duration": 159,
    "start_time": "2023-01-17T14:58:46.369Z"
   },
   {
    "duration": 188,
    "start_time": "2023-01-17T14:58:53.554Z"
   },
   {
    "duration": 200,
    "start_time": "2023-01-17T14:59:15.185Z"
   },
   {
    "duration": 184,
    "start_time": "2023-01-17T15:00:03.610Z"
   },
   {
    "duration": 174,
    "start_time": "2023-01-17T15:00:21.793Z"
   },
   {
    "duration": 185,
    "start_time": "2023-01-17T15:00:28.066Z"
   },
   {
    "duration": 219,
    "start_time": "2023-01-17T15:00:41.163Z"
   },
   {
    "duration": 187,
    "start_time": "2023-01-17T15:00:52.330Z"
   },
   {
    "duration": 169,
    "start_time": "2023-01-17T15:00:59.218Z"
   },
   {
    "duration": 172,
    "start_time": "2023-01-17T15:02:11.394Z"
   },
   {
    "duration": 177,
    "start_time": "2023-01-17T15:02:53.609Z"
   },
   {
    "duration": 4,
    "start_time": "2023-01-17T15:07:20.641Z"
   },
   {
    "duration": 7,
    "start_time": "2023-01-17T15:10:12.170Z"
   },
   {
    "duration": 123,
    "start_time": "2023-01-17T15:11:17.001Z"
   },
   {
    "duration": 207,
    "start_time": "2023-01-17T15:11:57.809Z"
   },
   {
    "duration": 66,
    "start_time": "2023-01-17T15:13:14.993Z"
   },
   {
    "duration": 13,
    "start_time": "2023-01-17T15:13:15.061Z"
   },
   {
    "duration": 859,
    "start_time": "2023-01-17T15:13:15.076Z"
   },
   {
    "duration": 8,
    "start_time": "2023-01-17T15:13:15.936Z"
   },
   {
    "duration": 20,
    "start_time": "2023-01-17T15:13:15.946Z"
   },
   {
    "duration": 21,
    "start_time": "2023-01-17T15:13:15.968Z"
   },
   {
    "duration": 12,
    "start_time": "2023-01-17T15:13:15.991Z"
   },
   {
    "duration": 13,
    "start_time": "2023-01-17T15:13:16.004Z"
   },
   {
    "duration": 7,
    "start_time": "2023-01-17T15:13:16.018Z"
   },
   {
    "duration": 15,
    "start_time": "2023-01-17T15:13:16.044Z"
   },
   {
    "duration": 6,
    "start_time": "2023-01-17T15:13:16.060Z"
   },
   {
    "duration": 23,
    "start_time": "2023-01-17T15:13:16.068Z"
   },
   {
    "duration": 4,
    "start_time": "2023-01-17T15:13:16.092Z"
   },
   {
    "duration": 21,
    "start_time": "2023-01-17T15:13:16.099Z"
   },
   {
    "duration": 24,
    "start_time": "2023-01-17T15:13:16.121Z"
   },
   {
    "duration": 19,
    "start_time": "2023-01-17T15:13:16.146Z"
   },
   {
    "duration": 32,
    "start_time": "2023-01-17T15:13:16.166Z"
   },
   {
    "duration": 5,
    "start_time": "2023-01-17T15:13:16.200Z"
   },
   {
    "duration": 44,
    "start_time": "2023-01-17T15:13:16.206Z"
   },
   {
    "duration": 16,
    "start_time": "2023-01-17T15:13:16.252Z"
   },
   {
    "duration": 29,
    "start_time": "2023-01-17T15:13:16.269Z"
   },
   {
    "duration": 8,
    "start_time": "2023-01-17T15:13:16.299Z"
   },
   {
    "duration": 37,
    "start_time": "2023-01-17T15:13:16.308Z"
   },
   {
    "duration": 20,
    "start_time": "2023-01-17T15:13:16.346Z"
   },
   {
    "duration": 20,
    "start_time": "2023-01-17T15:13:16.368Z"
   },
   {
    "duration": 178,
    "start_time": "2023-01-17T15:13:16.390Z"
   },
   {
    "duration": 6,
    "start_time": "2023-01-17T15:13:16.570Z"
   },
   {
    "duration": 150,
    "start_time": "2023-01-17T15:13:16.578Z"
   },
   {
    "duration": 240,
    "start_time": "2023-01-17T15:13:16.729Z"
   },
   {
    "duration": 14,
    "start_time": "2023-01-17T15:14:58.656Z"
   },
   {
    "duration": 6,
    "start_time": "2023-01-17T15:15:31.200Z"
   },
   {
    "duration": 4,
    "start_time": "2023-01-17T15:15:43.505Z"
   },
   {
    "duration": 7,
    "start_time": "2023-01-17T15:16:40.264Z"
   },
   {
    "duration": 6,
    "start_time": "2023-01-17T15:18:17.704Z"
   },
   {
    "duration": 175,
    "start_time": "2023-01-17T15:18:25.697Z"
   },
   {
    "duration": 89,
    "start_time": "2023-01-17T15:18:55.548Z"
   },
   {
    "duration": 16,
    "start_time": "2023-01-17T15:18:55.639Z"
   },
   {
    "duration": 739,
    "start_time": "2023-01-17T15:18:55.657Z"
   },
   {
    "duration": 3,
    "start_time": "2023-01-17T15:18:56.398Z"
   },
   {
    "duration": 16,
    "start_time": "2023-01-17T15:18:56.403Z"
   },
   {
    "duration": 31,
    "start_time": "2023-01-17T15:18:56.421Z"
   },
   {
    "duration": 5,
    "start_time": "2023-01-17T15:18:56.454Z"
   },
   {
    "duration": 8,
    "start_time": "2023-01-17T15:18:56.461Z"
   },
   {
    "duration": 12,
    "start_time": "2023-01-17T15:18:56.471Z"
   },
   {
    "duration": 23,
    "start_time": "2023-01-17T15:18:56.486Z"
   },
   {
    "duration": 7,
    "start_time": "2023-01-17T15:18:56.511Z"
   },
   {
    "duration": 36,
    "start_time": "2023-01-17T15:18:56.519Z"
   },
   {
    "duration": 4,
    "start_time": "2023-01-17T15:18:56.557Z"
   },
   {
    "duration": 22,
    "start_time": "2023-01-17T15:18:56.562Z"
   },
   {
    "duration": 19,
    "start_time": "2023-01-17T15:18:56.585Z"
   },
   {
    "duration": 17,
    "start_time": "2023-01-17T15:18:56.606Z"
   },
   {
    "duration": 44,
    "start_time": "2023-01-17T15:18:56.624Z"
   },
   {
    "duration": 5,
    "start_time": "2023-01-17T15:18:56.669Z"
   },
   {
    "duration": 26,
    "start_time": "2023-01-17T15:18:56.675Z"
   },
   {
    "duration": 19,
    "start_time": "2023-01-17T15:18:56.703Z"
   },
   {
    "duration": 45,
    "start_time": "2023-01-17T15:18:56.724Z"
   },
   {
    "duration": 8,
    "start_time": "2023-01-17T15:18:56.771Z"
   },
   {
    "duration": 23,
    "start_time": "2023-01-17T15:18:56.781Z"
   },
   {
    "duration": 16,
    "start_time": "2023-01-17T15:18:56.806Z"
   },
   {
    "duration": 35,
    "start_time": "2023-01-17T15:18:56.824Z"
   },
   {
    "duration": 187,
    "start_time": "2023-01-17T15:18:56.860Z"
   },
   {
    "duration": 7,
    "start_time": "2023-01-17T15:18:57.050Z"
   },
   {
    "duration": 180,
    "start_time": "2023-01-17T15:18:57.060Z"
   },
   {
    "duration": 6,
    "start_time": "2023-01-17T15:18:57.244Z"
   },
   {
    "duration": 324,
    "start_time": "2023-01-17T15:18:57.251Z"
   },
   {
    "duration": 6,
    "start_time": "2023-01-17T15:19:23.712Z"
   },
   {
    "duration": 129,
    "start_time": "2023-01-17T15:19:28.392Z"
   },
   {
    "duration": 234,
    "start_time": "2023-01-17T15:19:36.872Z"
   },
   {
    "duration": 72,
    "start_time": "2023-01-17T15:19:41.522Z"
   },
   {
    "duration": 14,
    "start_time": "2023-01-17T15:19:41.596Z"
   },
   {
    "duration": 735,
    "start_time": "2023-01-17T15:19:41.611Z"
   },
   {
    "duration": 3,
    "start_time": "2023-01-17T15:19:42.348Z"
   },
   {
    "duration": 19,
    "start_time": "2023-01-17T15:19:42.352Z"
   },
   {
    "duration": 27,
    "start_time": "2023-01-17T15:19:42.372Z"
   },
   {
    "duration": 13,
    "start_time": "2023-01-17T15:19:42.400Z"
   },
   {
    "duration": 30,
    "start_time": "2023-01-17T15:19:42.414Z"
   },
   {
    "duration": 7,
    "start_time": "2023-01-17T15:19:42.445Z"
   },
   {
    "duration": 16,
    "start_time": "2023-01-17T15:19:42.454Z"
   },
   {
    "duration": 7,
    "start_time": "2023-01-17T15:19:42.471Z"
   },
   {
    "duration": 20,
    "start_time": "2023-01-17T15:19:42.480Z"
   },
   {
    "duration": 5,
    "start_time": "2023-01-17T15:19:42.501Z"
   },
   {
    "duration": 59,
    "start_time": "2023-01-17T15:19:42.508Z"
   },
   {
    "duration": 8,
    "start_time": "2023-01-17T15:19:42.568Z"
   },
   {
    "duration": 22,
    "start_time": "2023-01-17T15:19:42.578Z"
   },
   {
    "duration": 70,
    "start_time": "2023-01-17T15:19:42.602Z"
   },
   {
    "duration": 6,
    "start_time": "2023-01-17T15:19:42.674Z"
   },
   {
    "duration": 27,
    "start_time": "2023-01-17T15:19:42.681Z"
   },
   {
    "duration": 38,
    "start_time": "2023-01-17T15:19:42.710Z"
   },
   {
    "duration": 36,
    "start_time": "2023-01-17T15:19:42.750Z"
   },
   {
    "duration": 9,
    "start_time": "2023-01-17T15:19:42.788Z"
   },
   {
    "duration": 23,
    "start_time": "2023-01-17T15:19:42.798Z"
   },
   {
    "duration": 29,
    "start_time": "2023-01-17T15:19:42.822Z"
   },
   {
    "duration": 21,
    "start_time": "2023-01-17T15:19:42.853Z"
   },
   {
    "duration": 200,
    "start_time": "2023-01-17T15:19:42.876Z"
   },
   {
    "duration": 6,
    "start_time": "2023-01-17T15:19:43.077Z"
   },
   {
    "duration": 149,
    "start_time": "2023-01-17T15:19:43.086Z"
   },
   {
    "duration": 8,
    "start_time": "2023-01-17T15:19:43.236Z"
   },
   {
    "duration": 399,
    "start_time": "2023-01-17T15:19:43.245Z"
   },
   {
    "duration": 6,
    "start_time": "2023-01-17T15:20:01.592Z"
   },
   {
    "duration": 727,
    "start_time": "2023-01-17T15:20:03.617Z"
   },
   {
    "duration": 12,
    "start_time": "2023-01-17T15:20:39.008Z"
   },
   {
    "duration": 21,
    "start_time": "2023-01-17T15:22:03.552Z"
   },
   {
    "duration": 64,
    "start_time": "2023-01-17T15:22:06.572Z"
   },
   {
    "duration": 13,
    "start_time": "2023-01-17T15:22:06.638Z"
   },
   {
    "duration": 900,
    "start_time": "2023-01-17T15:22:06.652Z"
   },
   {
    "duration": 4,
    "start_time": "2023-01-17T15:22:07.554Z"
   },
   {
    "duration": 61,
    "start_time": "2023-01-17T15:22:07.560Z"
   },
   {
    "duration": 64,
    "start_time": "2023-01-17T15:22:07.623Z"
   },
   {
    "duration": 27,
    "start_time": "2023-01-17T15:22:07.689Z"
   },
   {
    "duration": 18,
    "start_time": "2023-01-17T15:22:07.718Z"
   },
   {
    "duration": 0,
    "start_time": "2023-01-17T15:22:07.738Z"
   },
   {
    "duration": 0,
    "start_time": "2023-01-17T15:22:07.739Z"
   },
   {
    "duration": 0,
    "start_time": "2023-01-17T15:22:07.741Z"
   },
   {
    "duration": 0,
    "start_time": "2023-01-17T15:22:07.742Z"
   },
   {
    "duration": 0,
    "start_time": "2023-01-17T15:22:07.743Z"
   },
   {
    "duration": 0,
    "start_time": "2023-01-17T15:22:07.744Z"
   },
   {
    "duration": 0,
    "start_time": "2023-01-17T15:22:07.745Z"
   },
   {
    "duration": 0,
    "start_time": "2023-01-17T15:22:07.746Z"
   },
   {
    "duration": 0,
    "start_time": "2023-01-17T15:22:07.747Z"
   },
   {
    "duration": 0,
    "start_time": "2023-01-17T15:22:07.748Z"
   },
   {
    "duration": 0,
    "start_time": "2023-01-17T15:22:07.750Z"
   },
   {
    "duration": 0,
    "start_time": "2023-01-17T15:22:07.751Z"
   },
   {
    "duration": 0,
    "start_time": "2023-01-17T15:22:07.752Z"
   },
   {
    "duration": 0,
    "start_time": "2023-01-17T15:22:07.753Z"
   },
   {
    "duration": 0,
    "start_time": "2023-01-17T15:22:07.754Z"
   },
   {
    "duration": 0,
    "start_time": "2023-01-17T15:22:07.755Z"
   },
   {
    "duration": 0,
    "start_time": "2023-01-17T15:22:07.756Z"
   },
   {
    "duration": 0,
    "start_time": "2023-01-17T15:22:07.757Z"
   },
   {
    "duration": 0,
    "start_time": "2023-01-17T15:22:07.758Z"
   },
   {
    "duration": 0,
    "start_time": "2023-01-17T15:22:07.759Z"
   },
   {
    "duration": 0,
    "start_time": "2023-01-17T15:22:07.760Z"
   },
   {
    "duration": 0,
    "start_time": "2023-01-17T15:22:07.761Z"
   },
   {
    "duration": 11,
    "start_time": "2023-01-17T15:22:23.487Z"
   },
   {
    "duration": 67,
    "start_time": "2023-01-17T15:22:30.180Z"
   },
   {
    "duration": 13,
    "start_time": "2023-01-17T15:22:30.249Z"
   },
   {
    "duration": 704,
    "start_time": "2023-01-17T15:22:30.264Z"
   },
   {
    "duration": 4,
    "start_time": "2023-01-17T15:22:30.969Z"
   },
   {
    "duration": 87,
    "start_time": "2023-01-17T15:22:30.975Z"
   },
   {
    "duration": 91,
    "start_time": "2023-01-17T15:22:31.064Z"
   },
   {
    "duration": 40,
    "start_time": "2023-01-17T15:22:31.157Z"
   },
   {
    "duration": 30,
    "start_time": "2023-01-17T15:22:31.199Z"
   },
   {
    "duration": 29,
    "start_time": "2023-01-17T15:22:31.231Z"
   },
   {
    "duration": 36,
    "start_time": "2023-01-17T15:22:31.261Z"
   },
   {
    "duration": 5,
    "start_time": "2023-01-17T15:22:31.299Z"
   },
   {
    "duration": 30,
    "start_time": "2023-01-17T15:22:31.306Z"
   },
   {
    "duration": 11,
    "start_time": "2023-01-17T15:22:31.337Z"
   },
   {
    "duration": 36,
    "start_time": "2023-01-17T15:22:31.351Z"
   },
   {
    "duration": 15,
    "start_time": "2023-01-17T15:22:31.388Z"
   },
   {
    "duration": 29,
    "start_time": "2023-01-17T15:22:31.405Z"
   },
   {
    "duration": 40,
    "start_time": "2023-01-17T15:22:31.435Z"
   },
   {
    "duration": 5,
    "start_time": "2023-01-17T15:22:31.477Z"
   },
   {
    "duration": 29,
    "start_time": "2023-01-17T15:22:31.483Z"
   },
   {
    "duration": 28,
    "start_time": "2023-01-17T15:22:31.513Z"
   },
   {
    "duration": 43,
    "start_time": "2023-01-17T15:22:31.542Z"
   },
   {
    "duration": 8,
    "start_time": "2023-01-17T15:22:31.586Z"
   },
   {
    "duration": 33,
    "start_time": "2023-01-17T15:22:31.595Z"
   },
   {
    "duration": 17,
    "start_time": "2023-01-17T15:22:31.630Z"
   },
   {
    "duration": 42,
    "start_time": "2023-01-17T15:22:31.648Z"
   },
   {
    "duration": 185,
    "start_time": "2023-01-17T15:22:31.692Z"
   },
   {
    "duration": 6,
    "start_time": "2023-01-17T15:22:31.880Z"
   },
   {
    "duration": 147,
    "start_time": "2023-01-17T15:22:31.887Z"
   },
   {
    "duration": 6,
    "start_time": "2023-01-17T15:22:32.044Z"
   },
   {
    "duration": 30,
    "start_time": "2023-01-17T15:22:32.052Z"
   },
   {
    "duration": 5,
    "start_time": "2023-01-17T15:25:48.592Z"
   },
   {
    "duration": 67,
    "start_time": "2023-01-17T15:26:07.556Z"
   },
   {
    "duration": 12,
    "start_time": "2023-01-17T15:26:07.625Z"
   },
   {
    "duration": 675,
    "start_time": "2023-01-17T15:26:07.639Z"
   },
   {
    "duration": 4,
    "start_time": "2023-01-17T15:26:08.315Z"
   },
   {
    "duration": 24,
    "start_time": "2023-01-17T15:26:08.321Z"
   },
   {
    "duration": 24,
    "start_time": "2023-01-17T15:26:08.346Z"
   },
   {
    "duration": 6,
    "start_time": "2023-01-17T15:26:08.371Z"
   },
   {
    "duration": 8,
    "start_time": "2023-01-17T15:26:08.378Z"
   },
   {
    "duration": 6,
    "start_time": "2023-01-17T15:26:08.387Z"
   },
   {
    "duration": 13,
    "start_time": "2023-01-17T15:26:08.394Z"
   },
   {
    "duration": 15,
    "start_time": "2023-01-17T15:26:08.408Z"
   },
   {
    "duration": 29,
    "start_time": "2023-01-17T15:26:08.424Z"
   },
   {
    "duration": 10,
    "start_time": "2023-01-17T15:26:08.454Z"
   },
   {
    "duration": 22,
    "start_time": "2023-01-17T15:26:08.467Z"
   },
   {
    "duration": 26,
    "start_time": "2023-01-17T15:26:08.491Z"
   },
   {
    "duration": 24,
    "start_time": "2023-01-17T15:26:08.519Z"
   },
   {
    "duration": 35,
    "start_time": "2023-01-17T15:26:08.545Z"
   },
   {
    "duration": 3,
    "start_time": "2023-01-17T15:26:08.582Z"
   },
   {
    "duration": 20,
    "start_time": "2023-01-17T15:26:08.587Z"
   },
   {
    "duration": 19,
    "start_time": "2023-01-17T15:26:08.608Z"
   },
   {
    "duration": 39,
    "start_time": "2023-01-17T15:26:08.629Z"
   },
   {
    "duration": 8,
    "start_time": "2023-01-17T15:26:08.669Z"
   },
   {
    "duration": 31,
    "start_time": "2023-01-17T15:26:08.678Z"
   },
   {
    "duration": 26,
    "start_time": "2023-01-17T15:26:08.711Z"
   },
   {
    "duration": 19,
    "start_time": "2023-01-17T15:26:08.739Z"
   },
   {
    "duration": 199,
    "start_time": "2023-01-17T15:26:08.759Z"
   },
   {
    "duration": 7,
    "start_time": "2023-01-17T15:26:08.959Z"
   },
   {
    "duration": 155,
    "start_time": "2023-01-17T15:26:08.968Z"
   },
   {
    "duration": 6,
    "start_time": "2023-01-17T15:26:09.125Z"
   },
   {
    "duration": 20,
    "start_time": "2023-01-17T15:26:09.132Z"
   },
   {
    "duration": 5,
    "start_time": "2023-01-17T15:26:26.391Z"
   },
   {
    "duration": 122,
    "start_time": "2023-01-17T15:26:52.647Z"
   },
   {
    "duration": 6,
    "start_time": "2023-01-17T15:27:44.351Z"
   },
   {
    "duration": 133,
    "start_time": "2023-01-17T15:28:12.934Z"
   },
   {
    "duration": 5,
    "start_time": "2023-01-17T15:28:47.815Z"
   },
   {
    "duration": 117,
    "start_time": "2023-01-17T15:29:08.079Z"
   },
   {
    "duration": 6,
    "start_time": "2023-01-17T15:30:02.679Z"
   },
   {
    "duration": 134,
    "start_time": "2023-01-17T15:30:29.911Z"
   },
   {
    "duration": 5,
    "start_time": "2023-01-17T15:30:46.823Z"
   },
   {
    "duration": 6,
    "start_time": "2023-01-17T15:30:53.622Z"
   },
   {
    "duration": 154,
    "start_time": "2023-01-17T15:31:06.994Z"
   },
   {
    "duration": 60,
    "start_time": "2023-01-17T15:31:30.055Z"
   },
   {
    "duration": 6,
    "start_time": "2023-01-17T15:32:07.131Z"
   },
   {
    "duration": 122,
    "start_time": "2023-01-17T15:32:24.398Z"
   },
   {
    "duration": 5,
    "start_time": "2023-01-17T15:32:43.838Z"
   },
   {
    "duration": 112,
    "start_time": "2023-01-17T15:32:55.471Z"
   },
   {
    "duration": 6,
    "start_time": "2023-01-17T15:33:43.295Z"
   },
   {
    "duration": 131,
    "start_time": "2023-01-17T15:34:02.646Z"
   },
   {
    "duration": 4,
    "start_time": "2023-01-17T15:34:21.896Z"
   },
   {
    "duration": 152,
    "start_time": "2023-01-17T15:34:38.334Z"
   },
   {
    "duration": 6,
    "start_time": "2023-01-17T15:36:54.245Z"
   },
   {
    "duration": 14,
    "start_time": "2023-01-17T15:39:34.333Z"
   },
   {
    "duration": 14,
    "start_time": "2023-01-17T15:40:19.399Z"
   },
   {
    "duration": 49,
    "start_time": "2023-01-18T10:30:34.621Z"
   },
   {
    "duration": 7,
    "start_time": "2023-01-18T10:30:37.221Z"
   },
   {
    "duration": 1566,
    "start_time": "2023-01-18T10:30:41.177Z"
   },
   {
    "duration": 17,
    "start_time": "2023-01-18T10:30:42.745Z"
   },
   {
    "duration": 806,
    "start_time": "2023-01-18T10:30:42.763Z"
   },
   {
    "duration": 9,
    "start_time": "2023-01-18T10:30:43.572Z"
   },
   {
    "duration": 17,
    "start_time": "2023-01-18T10:30:43.585Z"
   },
   {
    "duration": 25,
    "start_time": "2023-01-18T10:30:43.604Z"
   },
   {
    "duration": 21,
    "start_time": "2023-01-18T10:30:43.631Z"
   },
   {
    "duration": 12,
    "start_time": "2023-01-18T10:30:43.654Z"
   },
   {
    "duration": 16,
    "start_time": "2023-01-18T10:30:43.668Z"
   },
   {
    "duration": 14,
    "start_time": "2023-01-18T10:30:43.686Z"
   },
   {
    "duration": 9,
    "start_time": "2023-01-18T10:30:43.701Z"
   },
   {
    "duration": 13,
    "start_time": "2023-01-18T10:30:43.712Z"
   },
   {
    "duration": 5,
    "start_time": "2023-01-18T10:30:43.727Z"
   },
   {
    "duration": 56,
    "start_time": "2023-01-18T10:30:43.735Z"
   },
   {
    "duration": 36,
    "start_time": "2023-01-18T10:30:43.793Z"
   },
   {
    "duration": 21,
    "start_time": "2023-01-18T10:30:43.831Z"
   },
   {
    "duration": 40,
    "start_time": "2023-01-18T10:30:43.853Z"
   },
   {
    "duration": 6,
    "start_time": "2023-01-18T10:30:43.895Z"
   },
   {
    "duration": 29,
    "start_time": "2023-01-18T10:30:43.902Z"
   },
   {
    "duration": 39,
    "start_time": "2023-01-18T10:30:43.933Z"
   },
   {
    "duration": 35,
    "start_time": "2023-01-18T10:30:43.973Z"
   },
   {
    "duration": 8,
    "start_time": "2023-01-18T10:30:44.010Z"
   },
   {
    "duration": 28,
    "start_time": "2023-01-18T10:30:44.020Z"
   },
   {
    "duration": 16,
    "start_time": "2023-01-18T10:30:44.050Z"
   },
   {
    "duration": 22,
    "start_time": "2023-01-18T10:30:44.081Z"
   },
   {
    "duration": 215,
    "start_time": "2023-01-18T10:30:44.104Z"
   },
   {
    "duration": 6,
    "start_time": "2023-01-18T10:30:44.320Z"
   },
   {
    "duration": 160,
    "start_time": "2023-01-18T10:30:44.328Z"
   },
   {
    "duration": 7,
    "start_time": "2023-01-18T10:30:44.490Z"
   },
   {
    "duration": 12,
    "start_time": "2023-01-18T10:30:44.498Z"
   },
   {
    "duration": 153,
    "start_time": "2023-01-18T10:30:44.512Z"
   },
   {
    "duration": 19,
    "start_time": "2023-01-18T10:30:44.667Z"
   },
   {
    "duration": 229,
    "start_time": "2023-01-18T10:30:44.688Z"
   },
   {
    "duration": 5,
    "start_time": "2023-01-18T10:30:44.919Z"
   },
   {
    "duration": 159,
    "start_time": "2023-01-18T10:30:44.925Z"
   },
   {
    "duration": 7,
    "start_time": "2023-01-18T10:30:45.086Z"
   },
   {
    "duration": 170,
    "start_time": "2023-01-18T10:30:45.095Z"
   },
   {
    "duration": 5,
    "start_time": "2023-01-18T10:30:45.267Z"
   },
   {
    "duration": 159,
    "start_time": "2023-01-18T10:30:45.282Z"
   },
   {
    "duration": 6,
    "start_time": "2023-01-18T10:30:45.443Z"
   },
   {
    "duration": 183,
    "start_time": "2023-01-18T10:30:45.453Z"
   },
   {
    "duration": 5,
    "start_time": "2023-01-18T10:30:45.638Z"
   },
   {
    "duration": 167,
    "start_time": "2023-01-18T10:30:45.644Z"
   },
   {
    "duration": 7,
    "start_time": "2023-01-18T10:30:45.813Z"
   },
   {
    "duration": 171,
    "start_time": "2023-01-18T10:30:45.822Z"
   },
   {
    "duration": 6,
    "start_time": "2023-01-18T10:30:45.994Z"
   },
   {
    "duration": 165,
    "start_time": "2023-01-18T10:30:46.002Z"
   },
   {
    "duration": 13,
    "start_time": "2023-01-18T10:30:46.169Z"
   },
   {
    "duration": 47,
    "start_time": "2023-01-18T10:30:46.184Z"
   },
   {
    "duration": 54,
    "start_time": "2023-01-18T10:30:46.235Z"
   },
   {
    "duration": 42,
    "start_time": "2023-01-18T10:30:46.291Z"
   },
   {
    "duration": 84,
    "start_time": "2023-01-18T10:31:51.182Z"
   },
   {
    "duration": 17,
    "start_time": "2023-01-18T10:32:03.932Z"
   },
   {
    "duration": 14,
    "start_time": "2023-01-18T10:33:13.781Z"
   },
   {
    "duration": 44,
    "start_time": "2023-01-18T10:36:46.684Z"
   },
   {
    "duration": 190,
    "start_time": "2023-01-18T10:37:01.687Z"
   },
   {
    "duration": 15,
    "start_time": "2023-01-18T10:40:44.820Z"
   },
   {
    "duration": 177,
    "start_time": "2023-01-18T10:40:47.007Z"
   },
   {
    "duration": 186,
    "start_time": "2023-01-18T10:41:09.740Z"
   },
   {
    "duration": 181,
    "start_time": "2023-01-18T10:42:38.276Z"
   },
   {
    "duration": 199,
    "start_time": "2023-01-18T10:42:45.699Z"
   },
   {
    "duration": 115,
    "start_time": "2023-01-18T10:43:41.476Z"
   },
   {
    "duration": 223,
    "start_time": "2023-01-18T10:43:52.299Z"
   },
   {
    "duration": 15,
    "start_time": "2023-01-18T10:44:11.141Z"
   },
   {
    "duration": 15,
    "start_time": "2023-01-18T10:44:24.717Z"
   },
   {
    "duration": 156,
    "start_time": "2023-01-18T10:45:05.479Z"
   },
   {
    "duration": 141,
    "start_time": "2023-01-18T10:45:55.168Z"
   },
   {
    "duration": 14,
    "start_time": "2023-01-18T10:47:23.168Z"
   },
   {
    "duration": 143,
    "start_time": "2023-01-18T10:48:28.172Z"
   },
   {
    "duration": 15,
    "start_time": "2023-01-18T10:48:31.434Z"
   },
   {
    "duration": 147,
    "start_time": "2023-01-18T10:49:01.468Z"
   },
   {
    "duration": 9,
    "start_time": "2023-01-18T10:49:25.730Z"
   },
   {
    "duration": 23,
    "start_time": "2023-01-18T10:49:36.571Z"
   },
   {
    "duration": 15,
    "start_time": "2023-01-18T10:50:07.233Z"
   },
   {
    "duration": 141,
    "start_time": "2023-01-18T10:50:43.690Z"
   },
   {
    "duration": 14,
    "start_time": "2023-01-18T10:52:41.867Z"
   },
   {
    "duration": 140,
    "start_time": "2023-01-18T10:52:59.497Z"
   },
   {
    "duration": 14,
    "start_time": "2023-01-18T10:54:19.800Z"
   },
   {
    "duration": 136,
    "start_time": "2023-01-18T10:55:01.105Z"
   },
   {
    "duration": 126,
    "start_time": "2023-01-18T10:55:47.224Z"
   },
   {
    "duration": 15,
    "start_time": "2023-01-18T10:57:00.928Z"
   },
   {
    "duration": 137,
    "start_time": "2023-01-18T10:57:31.328Z"
   },
   {
    "duration": 15,
    "start_time": "2023-01-18T10:59:17.536Z"
   },
   {
    "duration": 146,
    "start_time": "2023-01-18T10:59:42.032Z"
   },
   {
    "duration": 19,
    "start_time": "2023-01-18T11:00:16.964Z"
   },
   {
    "duration": 161,
    "start_time": "2023-01-18T11:00:37.487Z"
   },
   {
    "duration": 15,
    "start_time": "2023-01-18T11:01:27.503Z"
   },
   {
    "duration": 170,
    "start_time": "2023-01-18T11:01:54.033Z"
   },
   {
    "duration": 6,
    "start_time": "2023-01-18T11:04:32.641Z"
   },
   {
    "duration": 181,
    "start_time": "2023-01-18T11:06:10.927Z"
   },
   {
    "duration": 139,
    "start_time": "2023-01-18T11:08:15.798Z"
   },
   {
    "duration": 132,
    "start_time": "2023-01-18T11:09:57.581Z"
   },
   {
    "duration": 116,
    "start_time": "2023-01-18T11:10:22.375Z"
   },
   {
    "duration": 142,
    "start_time": "2023-01-18T11:14:07.797Z"
   },
   {
    "duration": 146,
    "start_time": "2023-01-18T11:14:37.485Z"
   },
   {
    "duration": 146,
    "start_time": "2023-01-18T11:15:20.325Z"
   },
   {
    "duration": 1487,
    "start_time": "2023-01-19T10:36:47.913Z"
   },
   {
    "duration": 21,
    "start_time": "2023-01-19T10:41:40.811Z"
   },
   {
    "duration": 979,
    "start_time": "2023-01-19T10:43:32.617Z"
   },
   {
    "duration": 66,
    "start_time": "2023-01-19T10:43:37.570Z"
   },
   {
    "duration": 16,
    "start_time": "2023-01-19T10:43:37.638Z"
   },
   {
    "duration": 756,
    "start_time": "2023-01-19T10:43:37.666Z"
   },
   {
    "duration": 4,
    "start_time": "2023-01-19T10:43:38.424Z"
   },
   {
    "duration": 15,
    "start_time": "2023-01-19T10:43:38.430Z"
   },
   {
    "duration": 36,
    "start_time": "2023-01-19T10:43:38.447Z"
   },
   {
    "duration": 8,
    "start_time": "2023-01-19T10:43:38.484Z"
   },
   {
    "duration": 8,
    "start_time": "2023-01-19T10:43:38.494Z"
   },
   {
    "duration": 8,
    "start_time": "2023-01-19T10:43:38.503Z"
   },
   {
    "duration": 13,
    "start_time": "2023-01-19T10:43:38.513Z"
   },
   {
    "duration": 41,
    "start_time": "2023-01-19T10:43:38.528Z"
   },
   {
    "duration": 13,
    "start_time": "2023-01-19T10:43:38.570Z"
   },
   {
    "duration": 16,
    "start_time": "2023-01-19T10:43:38.585Z"
   },
   {
    "duration": 43,
    "start_time": "2023-01-19T10:43:38.604Z"
   },
   {
    "duration": 5,
    "start_time": "2023-01-19T10:43:38.648Z"
   },
   {
    "duration": 22,
    "start_time": "2023-01-19T10:43:38.654Z"
   },
   {
    "duration": 37,
    "start_time": "2023-01-19T10:43:38.677Z"
   },
   {
    "duration": 4,
    "start_time": "2023-01-19T10:43:38.716Z"
   },
   {
    "duration": 25,
    "start_time": "2023-01-19T10:43:38.721Z"
   },
   {
    "duration": 33,
    "start_time": "2023-01-19T10:43:38.747Z"
   },
   {
    "duration": 32,
    "start_time": "2023-01-19T10:43:38.781Z"
   },
   {
    "duration": 7,
    "start_time": "2023-01-19T10:43:38.814Z"
   },
   {
    "duration": 21,
    "start_time": "2023-01-19T10:43:38.823Z"
   },
   {
    "duration": 13,
    "start_time": "2023-01-19T10:43:38.866Z"
   },
   {
    "duration": 23,
    "start_time": "2023-01-19T10:43:38.880Z"
   },
   {
    "duration": 208,
    "start_time": "2023-01-19T10:43:38.904Z"
   },
   {
    "duration": 6,
    "start_time": "2023-01-19T10:43:39.113Z"
   },
   {
    "duration": 167,
    "start_time": "2023-01-19T10:43:39.121Z"
   },
   {
    "duration": 6,
    "start_time": "2023-01-19T10:43:39.290Z"
   },
   {
    "duration": 5,
    "start_time": "2023-01-19T10:43:39.298Z"
   },
   {
    "duration": 150,
    "start_time": "2023-01-19T10:43:39.304Z"
   },
   {
    "duration": 13,
    "start_time": "2023-01-19T10:43:39.456Z"
   },
   {
    "duration": 208,
    "start_time": "2023-01-19T10:43:39.470Z"
   },
   {
    "duration": 5,
    "start_time": "2023-01-19T10:43:39.679Z"
   },
   {
    "duration": 147,
    "start_time": "2023-01-19T10:43:39.685Z"
   },
   {
    "duration": 7,
    "start_time": "2023-01-19T10:43:39.833Z"
   },
   {
    "duration": 147,
    "start_time": "2023-01-19T10:43:39.841Z"
   },
   {
    "duration": 4,
    "start_time": "2023-01-19T10:43:39.990Z"
   },
   {
    "duration": 142,
    "start_time": "2023-01-19T10:43:39.996Z"
   },
   {
    "duration": 6,
    "start_time": "2023-01-19T10:43:40.139Z"
   },
   {
    "duration": 157,
    "start_time": "2023-01-19T10:43:40.148Z"
   },
   {
    "duration": 5,
    "start_time": "2023-01-19T10:43:40.307Z"
   },
   {
    "duration": 138,
    "start_time": "2023-01-19T10:43:40.313Z"
   },
   {
    "duration": 15,
    "start_time": "2023-01-19T10:43:40.453Z"
   },
   {
    "duration": 139,
    "start_time": "2023-01-19T10:43:40.469Z"
   },
   {
    "duration": 6,
    "start_time": "2023-01-19T10:43:40.610Z"
   },
   {
    "duration": 139,
    "start_time": "2023-01-19T10:43:40.617Z"
   },
   {
    "duration": 9,
    "start_time": "2023-01-19T10:43:40.758Z"
   },
   {
    "duration": 41,
    "start_time": "2023-01-19T10:43:40.769Z"
   },
   {
    "duration": 14,
    "start_time": "2023-01-19T10:43:40.812Z"
   },
   {
    "duration": 125,
    "start_time": "2023-01-19T10:43:40.827Z"
   },
   {
    "duration": 18,
    "start_time": "2023-01-19T10:43:40.953Z"
   },
   {
    "duration": 136,
    "start_time": "2023-01-19T10:43:40.972Z"
   },
   {
    "duration": 15,
    "start_time": "2023-01-19T10:43:41.110Z"
   },
   {
    "duration": 136,
    "start_time": "2023-01-19T10:43:41.126Z"
   },
   {
    "duration": 14,
    "start_time": "2023-01-19T10:43:41.267Z"
   },
   {
    "duration": 143,
    "start_time": "2023-01-19T10:43:41.282Z"
   },
   {
    "duration": 13,
    "start_time": "2023-01-19T10:43:41.426Z"
   },
   {
    "duration": 135,
    "start_time": "2023-01-19T10:43:41.441Z"
   },
   {
    "duration": 13,
    "start_time": "2023-01-19T10:43:41.578Z"
   },
   {
    "duration": 135,
    "start_time": "2023-01-19T10:43:41.593Z"
   },
   {
    "duration": 13,
    "start_time": "2023-01-19T10:43:41.729Z"
   },
   {
    "duration": 137,
    "start_time": "2023-01-19T10:43:41.743Z"
   },
   {
    "duration": 12,
    "start_time": "2023-01-19T10:43:41.882Z"
   },
   {
    "duration": 215,
    "start_time": "2023-01-19T10:43:41.896Z"
   },
   {
    "duration": 21,
    "start_time": "2023-01-19T10:43:42.112Z"
   },
   {
    "duration": 17,
    "start_time": "2023-01-19T10:43:42.135Z"
   },
   {
    "duration": 136,
    "start_time": "2023-01-19T10:43:42.154Z"
   },
   {
    "duration": 145,
    "start_time": "2023-01-19T10:43:42.292Z"
   },
   {
    "duration": 137,
    "start_time": "2023-01-19T10:43:42.439Z"
   },
   {
    "duration": 151,
    "start_time": "2023-01-19T10:43:42.578Z"
   },
   {
    "duration": 22,
    "start_time": "2023-01-19T10:43:42.731Z"
   },
   {
    "duration": 212,
    "start_time": "2023-01-19T10:50:49.171Z"
   },
   {
    "duration": 22,
    "start_time": "2023-01-19T10:51:15.773Z"
   },
   {
    "duration": 12,
    "start_time": "2023-01-19T10:53:18.941Z"
   },
   {
    "duration": 13,
    "start_time": "2023-01-19T10:53:27.271Z"
   },
   {
    "duration": 19,
    "start_time": "2023-01-19T10:58:20.463Z"
   },
   {
    "duration": 9,
    "start_time": "2023-01-19T11:01:25.069Z"
   },
   {
    "duration": 6,
    "start_time": "2023-01-19T12:12:22.753Z"
   },
   {
    "duration": 23,
    "start_time": "2023-01-19T12:13:38.209Z"
   },
   {
    "duration": 16,
    "start_time": "2023-01-19T12:13:41.602Z"
   },
   {
    "duration": 82,
    "start_time": "2023-01-19T12:14:04.770Z"
   },
   {
    "duration": 26,
    "start_time": "2023-01-19T12:14:04.855Z"
   },
   {
    "duration": 20,
    "start_time": "2023-01-19T12:14:04.883Z"
   },
   {
    "duration": 43,
    "start_time": "2023-01-19T12:14:04.905Z"
   },
   {
    "duration": 32,
    "start_time": "2023-01-19T12:14:04.951Z"
   },
   {
    "duration": 9,
    "start_time": "2023-01-19T12:14:04.985Z"
   },
   {
    "duration": 14,
    "start_time": "2023-01-19T12:14:04.996Z"
   },
   {
    "duration": 17,
    "start_time": "2023-01-19T12:14:05.012Z"
   },
   {
    "duration": 36,
    "start_time": "2023-01-19T12:14:05.031Z"
   },
   {
    "duration": 10,
    "start_time": "2023-01-19T12:14:05.069Z"
   },
   {
    "duration": 16,
    "start_time": "2023-01-19T12:14:05.081Z"
   },
   {
    "duration": 5,
    "start_time": "2023-01-19T12:14:05.099Z"
   },
   {
    "duration": 25,
    "start_time": "2023-01-19T12:14:05.105Z"
   },
   {
    "duration": 35,
    "start_time": "2023-01-19T12:14:05.133Z"
   },
   {
    "duration": 19,
    "start_time": "2023-01-19T12:14:05.170Z"
   },
   {
    "duration": 34,
    "start_time": "2023-01-19T12:14:05.191Z"
   },
   {
    "duration": 6,
    "start_time": "2023-01-19T12:14:05.227Z"
   },
   {
    "duration": 50,
    "start_time": "2023-01-19T12:14:05.235Z"
   },
   {
    "duration": 14,
    "start_time": "2023-01-19T12:14:05.286Z"
   },
   {
    "duration": 36,
    "start_time": "2023-01-19T12:14:05.302Z"
   },
   {
    "duration": 29,
    "start_time": "2023-01-19T12:14:05.340Z"
   },
   {
    "duration": 23,
    "start_time": "2023-01-19T12:14:05.371Z"
   },
   {
    "duration": 15,
    "start_time": "2023-01-19T12:14:05.395Z"
   },
   {
    "duration": 27,
    "start_time": "2023-01-19T12:14:05.411Z"
   },
   {
    "duration": 228,
    "start_time": "2023-01-19T12:14:05.440Z"
   },
   {
    "duration": 7,
    "start_time": "2023-01-19T12:14:05.670Z"
   },
   {
    "duration": 173,
    "start_time": "2023-01-19T12:14:05.678Z"
   },
   {
    "duration": 6,
    "start_time": "2023-01-19T12:14:05.853Z"
   },
   {
    "duration": 5,
    "start_time": "2023-01-19T12:14:05.867Z"
   },
   {
    "duration": 149,
    "start_time": "2023-01-19T12:14:05.874Z"
   },
   {
    "duration": 7,
    "start_time": "2023-01-19T12:14:06.024Z"
   },
   {
    "duration": 157,
    "start_time": "2023-01-19T12:14:06.032Z"
   },
   {
    "duration": 5,
    "start_time": "2023-01-19T12:14:06.190Z"
   },
   {
    "duration": 150,
    "start_time": "2023-01-19T12:14:06.197Z"
   },
   {
    "duration": 6,
    "start_time": "2023-01-19T12:14:06.349Z"
   },
   {
    "duration": 153,
    "start_time": "2023-01-19T12:14:06.367Z"
   },
   {
    "duration": 5,
    "start_time": "2023-01-19T12:14:06.521Z"
   },
   {
    "duration": 142,
    "start_time": "2023-01-19T12:14:06.527Z"
   },
   {
    "duration": 6,
    "start_time": "2023-01-19T12:14:06.671Z"
   },
   {
    "duration": 180,
    "start_time": "2023-01-19T12:14:06.679Z"
   },
   {
    "duration": 5,
    "start_time": "2023-01-19T12:14:06.867Z"
   },
   {
    "duration": 148,
    "start_time": "2023-01-19T12:14:06.873Z"
   },
   {
    "duration": 7,
    "start_time": "2023-01-19T12:14:07.022Z"
   },
   {
    "duration": 147,
    "start_time": "2023-01-19T12:14:07.031Z"
   },
   {
    "duration": 5,
    "start_time": "2023-01-19T12:14:07.180Z"
   },
   {
    "duration": 143,
    "start_time": "2023-01-19T12:14:07.187Z"
   },
   {
    "duration": 6,
    "start_time": "2023-01-19T12:14:07.332Z"
   },
   {
    "duration": 30,
    "start_time": "2023-01-19T12:14:07.340Z"
   },
   {
    "duration": 12,
    "start_time": "2023-01-19T12:14:07.372Z"
   },
   {
    "duration": 238,
    "start_time": "2023-01-19T12:14:07.385Z"
   },
   {
    "duration": 14,
    "start_time": "2023-01-19T12:14:07.624Z"
   },
   {
    "duration": 144,
    "start_time": "2023-01-19T12:14:07.639Z"
   },
   {
    "duration": 14,
    "start_time": "2023-01-19T12:14:07.785Z"
   },
   {
    "duration": 141,
    "start_time": "2023-01-19T12:14:07.801Z"
   },
   {
    "duration": 26,
    "start_time": "2023-01-19T12:14:07.944Z"
   },
   {
    "duration": 148,
    "start_time": "2023-01-19T12:14:07.972Z"
   },
   {
    "duration": 14,
    "start_time": "2023-01-19T12:14:08.121Z"
   },
   {
    "duration": 153,
    "start_time": "2023-01-19T12:14:08.137Z"
   },
   {
    "duration": 14,
    "start_time": "2023-01-19T12:14:08.291Z"
   },
   {
    "duration": 150,
    "start_time": "2023-01-19T12:14:08.306Z"
   },
   {
    "duration": 14,
    "start_time": "2023-01-19T12:14:08.458Z"
   },
   {
    "duration": 147,
    "start_time": "2023-01-19T12:14:08.473Z"
   },
   {
    "duration": 15,
    "start_time": "2023-01-19T12:14:08.621Z"
   },
   {
    "duration": 148,
    "start_time": "2023-01-19T12:14:08.637Z"
   },
   {
    "duration": 21,
    "start_time": "2023-01-19T12:14:08.787Z"
   },
   {
    "duration": 5,
    "start_time": "2023-01-19T12:14:08.810Z"
   },
   {
    "duration": 155,
    "start_time": "2023-01-19T12:14:08.816Z"
   },
   {
    "duration": 166,
    "start_time": "2023-01-19T12:14:08.973Z"
   },
   {
    "duration": 151,
    "start_time": "2023-01-19T12:14:09.141Z"
   },
   {
    "duration": 155,
    "start_time": "2023-01-19T12:14:09.294Z"
   },
   {
    "duration": 25,
    "start_time": "2023-01-19T12:14:09.451Z"
   },
   {
    "duration": 7,
    "start_time": "2023-01-19T12:14:09.478Z"
   },
   {
    "duration": 6,
    "start_time": "2023-01-19T12:14:09.487Z"
   },
   {
    "duration": 3,
    "start_time": "2023-01-19T12:19:22.758Z"
   },
   {
    "duration": 7,
    "start_time": "2023-01-19T12:19:37.593Z"
   },
   {
    "duration": 10,
    "start_time": "2023-01-19T12:23:22.734Z"
   },
   {
    "duration": 74,
    "start_time": "2023-01-19T12:23:50.487Z"
   },
   {
    "duration": 17,
    "start_time": "2023-01-19T12:23:50.563Z"
   },
   {
    "duration": 5,
    "start_time": "2023-01-19T12:23:50.581Z"
   },
   {
    "duration": 30,
    "start_time": "2023-01-19T12:23:50.589Z"
   },
   {
    "duration": 22,
    "start_time": "2023-01-19T12:23:50.621Z"
   },
   {
    "duration": 29,
    "start_time": "2023-01-19T12:23:50.644Z"
   },
   {
    "duration": 23,
    "start_time": "2023-01-19T12:23:50.675Z"
   },
   {
    "duration": 0,
    "start_time": "2023-01-19T12:23:50.702Z"
   },
   {
    "duration": 0,
    "start_time": "2023-01-19T12:23:50.704Z"
   },
   {
    "duration": 0,
    "start_time": "2023-01-19T12:23:50.705Z"
   },
   {
    "duration": 0,
    "start_time": "2023-01-19T12:23:50.707Z"
   },
   {
    "duration": 0,
    "start_time": "2023-01-19T12:23:50.708Z"
   },
   {
    "duration": 0,
    "start_time": "2023-01-19T12:23:50.709Z"
   },
   {
    "duration": 0,
    "start_time": "2023-01-19T12:23:50.710Z"
   },
   {
    "duration": 0,
    "start_time": "2023-01-19T12:23:50.711Z"
   },
   {
    "duration": 0,
    "start_time": "2023-01-19T12:23:50.713Z"
   },
   {
    "duration": 0,
    "start_time": "2023-01-19T12:23:50.714Z"
   },
   {
    "duration": 0,
    "start_time": "2023-01-19T12:23:50.715Z"
   },
   {
    "duration": 0,
    "start_time": "2023-01-19T12:23:50.716Z"
   },
   {
    "duration": 0,
    "start_time": "2023-01-19T12:23:50.717Z"
   },
   {
    "duration": 0,
    "start_time": "2023-01-19T12:23:50.719Z"
   },
   {
    "duration": 0,
    "start_time": "2023-01-19T12:23:50.720Z"
   },
   {
    "duration": 0,
    "start_time": "2023-01-19T12:23:50.721Z"
   },
   {
    "duration": 0,
    "start_time": "2023-01-19T12:23:50.724Z"
   },
   {
    "duration": 0,
    "start_time": "2023-01-19T12:23:50.725Z"
   },
   {
    "duration": 0,
    "start_time": "2023-01-19T12:23:50.726Z"
   },
   {
    "duration": 0,
    "start_time": "2023-01-19T12:23:50.768Z"
   },
   {
    "duration": 0,
    "start_time": "2023-01-19T12:23:50.769Z"
   },
   {
    "duration": 0,
    "start_time": "2023-01-19T12:23:50.770Z"
   },
   {
    "duration": 0,
    "start_time": "2023-01-19T12:23:50.772Z"
   },
   {
    "duration": 0,
    "start_time": "2023-01-19T12:23:50.773Z"
   },
   {
    "duration": 1,
    "start_time": "2023-01-19T12:23:50.774Z"
   },
   {
    "duration": 0,
    "start_time": "2023-01-19T12:23:50.776Z"
   },
   {
    "duration": 0,
    "start_time": "2023-01-19T12:23:50.777Z"
   },
   {
    "duration": 0,
    "start_time": "2023-01-19T12:23:50.778Z"
   },
   {
    "duration": 0,
    "start_time": "2023-01-19T12:23:50.779Z"
   },
   {
    "duration": 0,
    "start_time": "2023-01-19T12:23:50.780Z"
   },
   {
    "duration": 0,
    "start_time": "2023-01-19T12:23:50.782Z"
   },
   {
    "duration": 0,
    "start_time": "2023-01-19T12:23:50.783Z"
   },
   {
    "duration": 0,
    "start_time": "2023-01-19T12:23:50.784Z"
   },
   {
    "duration": 0,
    "start_time": "2023-01-19T12:23:50.786Z"
   },
   {
    "duration": 0,
    "start_time": "2023-01-19T12:23:50.788Z"
   },
   {
    "duration": 0,
    "start_time": "2023-01-19T12:23:50.789Z"
   },
   {
    "duration": 0,
    "start_time": "2023-01-19T12:23:50.790Z"
   },
   {
    "duration": 0,
    "start_time": "2023-01-19T12:23:50.792Z"
   },
   {
    "duration": 0,
    "start_time": "2023-01-19T12:23:50.793Z"
   },
   {
    "duration": 0,
    "start_time": "2023-01-19T12:23:50.795Z"
   },
   {
    "duration": 0,
    "start_time": "2023-01-19T12:23:50.797Z"
   },
   {
    "duration": 0,
    "start_time": "2023-01-19T12:23:50.798Z"
   },
   {
    "duration": 0,
    "start_time": "2023-01-19T12:23:50.803Z"
   },
   {
    "duration": 0,
    "start_time": "2023-01-19T12:23:50.804Z"
   },
   {
    "duration": 0,
    "start_time": "2023-01-19T12:23:50.805Z"
   },
   {
    "duration": 0,
    "start_time": "2023-01-19T12:23:50.868Z"
   },
   {
    "duration": 0,
    "start_time": "2023-01-19T12:23:50.870Z"
   },
   {
    "duration": 0,
    "start_time": "2023-01-19T12:23:50.871Z"
   },
   {
    "duration": 0,
    "start_time": "2023-01-19T12:23:50.873Z"
   },
   {
    "duration": 0,
    "start_time": "2023-01-19T12:23:50.874Z"
   },
   {
    "duration": 0,
    "start_time": "2023-01-19T12:23:50.876Z"
   },
   {
    "duration": 0,
    "start_time": "2023-01-19T12:23:50.877Z"
   },
   {
    "duration": 0,
    "start_time": "2023-01-19T12:23:50.878Z"
   },
   {
    "duration": 0,
    "start_time": "2023-01-19T12:23:50.880Z"
   },
   {
    "duration": 0,
    "start_time": "2023-01-19T12:23:50.881Z"
   },
   {
    "duration": 0,
    "start_time": "2023-01-19T12:23:50.883Z"
   },
   {
    "duration": 0,
    "start_time": "2023-01-19T12:23:50.884Z"
   },
   {
    "duration": 0,
    "start_time": "2023-01-19T12:23:50.885Z"
   },
   {
    "duration": 0,
    "start_time": "2023-01-19T12:23:50.886Z"
   },
   {
    "duration": 0,
    "start_time": "2023-01-19T12:23:50.888Z"
   },
   {
    "duration": 0,
    "start_time": "2023-01-19T12:23:50.889Z"
   },
   {
    "duration": 0,
    "start_time": "2023-01-19T12:23:50.890Z"
   },
   {
    "duration": 0,
    "start_time": "2023-01-19T12:23:50.891Z"
   },
   {
    "duration": 0,
    "start_time": "2023-01-19T12:23:50.892Z"
   },
   {
    "duration": 0,
    "start_time": "2023-01-19T12:23:50.894Z"
   },
   {
    "duration": 0,
    "start_time": "2023-01-19T12:23:50.895Z"
   },
   {
    "duration": 0,
    "start_time": "2023-01-19T12:23:50.897Z"
   },
   {
    "duration": 0,
    "start_time": "2023-01-19T12:23:50.898Z"
   },
   {
    "duration": 7,
    "start_time": "2023-01-19T12:27:08.953Z"
   },
   {
    "duration": 14,
    "start_time": "2023-01-19T12:27:19.768Z"
   },
   {
    "duration": 6,
    "start_time": "2023-01-19T12:28:13.075Z"
   },
   {
    "duration": 11,
    "start_time": "2023-01-19T12:30:04.121Z"
   },
   {
    "duration": 71,
    "start_time": "2023-01-19T12:30:08.677Z"
   },
   {
    "duration": 13,
    "start_time": "2023-01-19T12:30:08.750Z"
   },
   {
    "duration": 3,
    "start_time": "2023-01-19T12:30:08.765Z"
   },
   {
    "duration": 31,
    "start_time": "2023-01-19T12:30:08.770Z"
   },
   {
    "duration": 20,
    "start_time": "2023-01-19T12:30:08.803Z"
   },
   {
    "duration": 7,
    "start_time": "2023-01-19T12:30:08.824Z"
   },
   {
    "duration": 35,
    "start_time": "2023-01-19T12:30:08.833Z"
   },
   {
    "duration": 7,
    "start_time": "2023-01-19T12:30:08.870Z"
   },
   {
    "duration": 17,
    "start_time": "2023-01-19T12:30:08.879Z"
   },
   {
    "duration": 0,
    "start_time": "2023-01-19T12:30:08.900Z"
   },
   {
    "duration": 0,
    "start_time": "2023-01-19T12:30:08.901Z"
   },
   {
    "duration": 0,
    "start_time": "2023-01-19T12:30:08.902Z"
   },
   {
    "duration": 0,
    "start_time": "2023-01-19T12:30:08.904Z"
   },
   {
    "duration": 0,
    "start_time": "2023-01-19T12:30:08.905Z"
   },
   {
    "duration": 0,
    "start_time": "2023-01-19T12:30:08.907Z"
   },
   {
    "duration": 0,
    "start_time": "2023-01-19T12:30:08.908Z"
   },
   {
    "duration": 0,
    "start_time": "2023-01-19T12:30:08.910Z"
   },
   {
    "duration": 0,
    "start_time": "2023-01-19T12:30:08.911Z"
   },
   {
    "duration": 0,
    "start_time": "2023-01-19T12:30:08.913Z"
   },
   {
    "duration": 0,
    "start_time": "2023-01-19T12:30:08.915Z"
   },
   {
    "duration": 0,
    "start_time": "2023-01-19T12:30:08.917Z"
   },
   {
    "duration": 0,
    "start_time": "2023-01-19T12:30:08.919Z"
   },
   {
    "duration": 0,
    "start_time": "2023-01-19T12:30:08.920Z"
   },
   {
    "duration": 0,
    "start_time": "2023-01-19T12:30:08.922Z"
   },
   {
    "duration": 0,
    "start_time": "2023-01-19T12:30:08.923Z"
   },
   {
    "duration": 0,
    "start_time": "2023-01-19T12:30:08.967Z"
   },
   {
    "duration": 0,
    "start_time": "2023-01-19T12:30:08.969Z"
   },
   {
    "duration": 0,
    "start_time": "2023-01-19T12:30:08.970Z"
   },
   {
    "duration": 0,
    "start_time": "2023-01-19T12:30:08.971Z"
   },
   {
    "duration": 0,
    "start_time": "2023-01-19T12:30:08.973Z"
   },
   {
    "duration": 0,
    "start_time": "2023-01-19T12:30:08.974Z"
   },
   {
    "duration": 0,
    "start_time": "2023-01-19T12:30:08.975Z"
   },
   {
    "duration": 0,
    "start_time": "2023-01-19T12:30:08.977Z"
   },
   {
    "duration": 0,
    "start_time": "2023-01-19T12:30:08.978Z"
   },
   {
    "duration": 0,
    "start_time": "2023-01-19T12:30:08.979Z"
   },
   {
    "duration": 0,
    "start_time": "2023-01-19T12:30:08.980Z"
   },
   {
    "duration": 0,
    "start_time": "2023-01-19T12:30:08.981Z"
   },
   {
    "duration": 0,
    "start_time": "2023-01-19T12:30:08.983Z"
   },
   {
    "duration": 0,
    "start_time": "2023-01-19T12:30:08.984Z"
   },
   {
    "duration": 0,
    "start_time": "2023-01-19T12:30:08.985Z"
   },
   {
    "duration": 0,
    "start_time": "2023-01-19T12:30:08.986Z"
   },
   {
    "duration": 0,
    "start_time": "2023-01-19T12:30:08.988Z"
   },
   {
    "duration": 0,
    "start_time": "2023-01-19T12:30:08.989Z"
   },
   {
    "duration": 0,
    "start_time": "2023-01-19T12:30:08.990Z"
   },
   {
    "duration": 0,
    "start_time": "2023-01-19T12:30:08.991Z"
   },
   {
    "duration": 0,
    "start_time": "2023-01-19T12:30:08.992Z"
   },
   {
    "duration": 0,
    "start_time": "2023-01-19T12:30:08.993Z"
   },
   {
    "duration": 0,
    "start_time": "2023-01-19T12:30:08.994Z"
   },
   {
    "duration": 0,
    "start_time": "2023-01-19T12:30:08.996Z"
   },
   {
    "duration": 0,
    "start_time": "2023-01-19T12:30:08.997Z"
   },
   {
    "duration": 0,
    "start_time": "2023-01-19T12:30:08.998Z"
   },
   {
    "duration": 0,
    "start_time": "2023-01-19T12:30:08.999Z"
   },
   {
    "duration": 0,
    "start_time": "2023-01-19T12:30:09.000Z"
   },
   {
    "duration": 0,
    "start_time": "2023-01-19T12:30:09.001Z"
   },
   {
    "duration": 0,
    "start_time": "2023-01-19T12:30:09.002Z"
   },
   {
    "duration": 0,
    "start_time": "2023-01-19T12:30:09.003Z"
   },
   {
    "duration": 0,
    "start_time": "2023-01-19T12:30:09.004Z"
   },
   {
    "duration": 0,
    "start_time": "2023-01-19T12:30:09.067Z"
   },
   {
    "duration": 0,
    "start_time": "2023-01-19T12:30:09.069Z"
   },
   {
    "duration": 0,
    "start_time": "2023-01-19T12:30:09.070Z"
   },
   {
    "duration": 0,
    "start_time": "2023-01-19T12:30:09.072Z"
   },
   {
    "duration": 0,
    "start_time": "2023-01-19T12:30:09.073Z"
   },
   {
    "duration": 0,
    "start_time": "2023-01-19T12:30:09.074Z"
   },
   {
    "duration": 0,
    "start_time": "2023-01-19T12:30:09.075Z"
   },
   {
    "duration": 0,
    "start_time": "2023-01-19T12:30:09.076Z"
   },
   {
    "duration": 0,
    "start_time": "2023-01-19T12:30:09.077Z"
   },
   {
    "duration": 0,
    "start_time": "2023-01-19T12:30:09.078Z"
   },
   {
    "duration": 0,
    "start_time": "2023-01-19T12:30:09.079Z"
   },
   {
    "duration": 0,
    "start_time": "2023-01-19T12:30:09.080Z"
   },
   {
    "duration": 0,
    "start_time": "2023-01-19T12:30:09.081Z"
   },
   {
    "duration": 0,
    "start_time": "2023-01-19T12:30:09.083Z"
   },
   {
    "duration": 0,
    "start_time": "2023-01-19T12:30:09.084Z"
   },
   {
    "duration": 0,
    "start_time": "2023-01-19T12:30:09.085Z"
   },
   {
    "duration": 0,
    "start_time": "2023-01-19T12:30:09.086Z"
   },
   {
    "duration": 0,
    "start_time": "2023-01-19T12:30:09.087Z"
   },
   {
    "duration": 0,
    "start_time": "2023-01-19T12:30:09.088Z"
   },
   {
    "duration": 0,
    "start_time": "2023-01-19T12:30:09.089Z"
   },
   {
    "duration": 14,
    "start_time": "2023-01-19T12:31:33.512Z"
   },
   {
    "duration": 7,
    "start_time": "2023-01-19T12:31:50.696Z"
   },
   {
    "duration": 75,
    "start_time": "2023-01-19T12:31:57.678Z"
   },
   {
    "duration": 12,
    "start_time": "2023-01-19T12:31:57.755Z"
   },
   {
    "duration": 2,
    "start_time": "2023-01-19T12:31:57.769Z"
   },
   {
    "duration": 25,
    "start_time": "2023-01-19T12:31:57.773Z"
   },
   {
    "duration": 12,
    "start_time": "2023-01-19T12:31:57.799Z"
   },
   {
    "duration": 8,
    "start_time": "2023-01-19T12:31:57.813Z"
   },
   {
    "duration": 8,
    "start_time": "2023-01-19T12:31:57.822Z"
   },
   {
    "duration": 6,
    "start_time": "2023-01-19T12:31:57.831Z"
   },
   {
    "duration": 33,
    "start_time": "2023-01-19T12:31:57.839Z"
   },
   {
    "duration": 13,
    "start_time": "2023-01-19T12:31:57.876Z"
   },
   {
    "duration": 0,
    "start_time": "2023-01-19T12:31:57.892Z"
   },
   {
    "duration": 0,
    "start_time": "2023-01-19T12:31:57.893Z"
   },
   {
    "duration": 0,
    "start_time": "2023-01-19T12:31:57.894Z"
   },
   {
    "duration": 0,
    "start_time": "2023-01-19T12:31:57.895Z"
   },
   {
    "duration": 0,
    "start_time": "2023-01-19T12:31:57.896Z"
   },
   {
    "duration": 0,
    "start_time": "2023-01-19T12:31:57.897Z"
   },
   {
    "duration": 0,
    "start_time": "2023-01-19T12:31:57.898Z"
   },
   {
    "duration": 0,
    "start_time": "2023-01-19T12:31:57.899Z"
   },
   {
    "duration": 0,
    "start_time": "2023-01-19T12:31:57.900Z"
   },
   {
    "duration": 0,
    "start_time": "2023-01-19T12:31:57.902Z"
   },
   {
    "duration": 0,
    "start_time": "2023-01-19T12:31:57.903Z"
   },
   {
    "duration": 0,
    "start_time": "2023-01-19T12:31:57.904Z"
   },
   {
    "duration": 0,
    "start_time": "2023-01-19T12:31:57.905Z"
   },
   {
    "duration": 0,
    "start_time": "2023-01-19T12:31:57.906Z"
   },
   {
    "duration": 0,
    "start_time": "2023-01-19T12:31:57.907Z"
   },
   {
    "duration": 0,
    "start_time": "2023-01-19T12:31:57.908Z"
   },
   {
    "duration": 0,
    "start_time": "2023-01-19T12:31:57.909Z"
   },
   {
    "duration": 0,
    "start_time": "2023-01-19T12:31:57.910Z"
   },
   {
    "duration": 0,
    "start_time": "2023-01-19T12:31:57.910Z"
   },
   {
    "duration": 0,
    "start_time": "2023-01-19T12:31:57.912Z"
   },
   {
    "duration": 0,
    "start_time": "2023-01-19T12:31:57.913Z"
   },
   {
    "duration": 0,
    "start_time": "2023-01-19T12:31:57.914Z"
   },
   {
    "duration": 0,
    "start_time": "2023-01-19T12:31:57.915Z"
   },
   {
    "duration": 0,
    "start_time": "2023-01-19T12:31:57.915Z"
   },
   {
    "duration": 0,
    "start_time": "2023-01-19T12:31:57.917Z"
   },
   {
    "duration": 0,
    "start_time": "2023-01-19T12:31:57.917Z"
   },
   {
    "duration": 0,
    "start_time": "2023-01-19T12:31:57.967Z"
   },
   {
    "duration": 0,
    "start_time": "2023-01-19T12:31:57.968Z"
   },
   {
    "duration": 0,
    "start_time": "2023-01-19T12:31:57.969Z"
   },
   {
    "duration": 0,
    "start_time": "2023-01-19T12:31:57.969Z"
   },
   {
    "duration": 0,
    "start_time": "2023-01-19T12:31:57.970Z"
   },
   {
    "duration": 0,
    "start_time": "2023-01-19T12:31:57.971Z"
   },
   {
    "duration": 0,
    "start_time": "2023-01-19T12:31:57.972Z"
   },
   {
    "duration": 0,
    "start_time": "2023-01-19T12:31:57.973Z"
   },
   {
    "duration": 0,
    "start_time": "2023-01-19T12:31:57.974Z"
   },
   {
    "duration": 0,
    "start_time": "2023-01-19T12:31:57.975Z"
   },
   {
    "duration": 0,
    "start_time": "2023-01-19T12:31:57.976Z"
   },
   {
    "duration": 0,
    "start_time": "2023-01-19T12:31:57.977Z"
   },
   {
    "duration": 0,
    "start_time": "2023-01-19T12:31:57.978Z"
   },
   {
    "duration": 0,
    "start_time": "2023-01-19T12:31:57.979Z"
   },
   {
    "duration": 0,
    "start_time": "2023-01-19T12:31:57.980Z"
   },
   {
    "duration": 0,
    "start_time": "2023-01-19T12:31:57.982Z"
   },
   {
    "duration": 0,
    "start_time": "2023-01-19T12:31:57.983Z"
   },
   {
    "duration": 0,
    "start_time": "2023-01-19T12:31:57.984Z"
   },
   {
    "duration": 0,
    "start_time": "2023-01-19T12:31:57.985Z"
   },
   {
    "duration": 0,
    "start_time": "2023-01-19T12:31:57.987Z"
   },
   {
    "duration": 0,
    "start_time": "2023-01-19T12:31:57.988Z"
   },
   {
    "duration": 0,
    "start_time": "2023-01-19T12:31:57.988Z"
   },
   {
    "duration": 0,
    "start_time": "2023-01-19T12:31:57.989Z"
   },
   {
    "duration": 0,
    "start_time": "2023-01-19T12:31:57.990Z"
   },
   {
    "duration": 0,
    "start_time": "2023-01-19T12:31:57.991Z"
   },
   {
    "duration": 0,
    "start_time": "2023-01-19T12:31:57.992Z"
   },
   {
    "duration": 0,
    "start_time": "2023-01-19T12:31:57.993Z"
   },
   {
    "duration": 0,
    "start_time": "2023-01-19T12:31:57.994Z"
   },
   {
    "duration": 0,
    "start_time": "2023-01-19T12:31:57.995Z"
   },
   {
    "duration": 0,
    "start_time": "2023-01-19T12:31:57.995Z"
   },
   {
    "duration": 0,
    "start_time": "2023-01-19T12:31:57.996Z"
   },
   {
    "duration": 0,
    "start_time": "2023-01-19T12:31:57.997Z"
   },
   {
    "duration": 0,
    "start_time": "2023-01-19T12:31:57.998Z"
   },
   {
    "duration": 0,
    "start_time": "2023-01-19T12:31:57.999Z"
   },
   {
    "duration": 0,
    "start_time": "2023-01-19T12:31:58.001Z"
   },
   {
    "duration": 0,
    "start_time": "2023-01-19T12:31:58.002Z"
   },
   {
    "duration": 0,
    "start_time": "2023-01-19T12:31:58.003Z"
   },
   {
    "duration": 0,
    "start_time": "2023-01-19T12:31:58.005Z"
   },
   {
    "duration": 0,
    "start_time": "2023-01-19T12:31:58.006Z"
   },
   {
    "duration": 0,
    "start_time": "2023-01-19T12:31:58.067Z"
   },
   {
    "duration": 0,
    "start_time": "2023-01-19T12:31:58.069Z"
   },
   {
    "duration": 0,
    "start_time": "2023-01-19T12:31:58.070Z"
   },
   {
    "duration": 5,
    "start_time": "2023-01-19T12:32:16.849Z"
   },
   {
    "duration": 13,
    "start_time": "2023-01-19T12:32:55.567Z"
   },
   {
    "duration": 7,
    "start_time": "2023-01-19T12:36:31.778Z"
   },
   {
    "duration": 10,
    "start_time": "2023-01-19T12:36:42.525Z"
   },
   {
    "duration": 11,
    "start_time": "2023-01-19T12:38:35.177Z"
   },
   {
    "duration": 6,
    "start_time": "2023-01-19T12:38:41.778Z"
   },
   {
    "duration": 9,
    "start_time": "2023-01-19T12:39:23.400Z"
   },
   {
    "duration": 127,
    "start_time": "2023-01-19T12:40:18.051Z"
   },
   {
    "duration": 136,
    "start_time": "2023-01-19T12:40:22.651Z"
   },
   {
    "duration": 5,
    "start_time": "2023-01-19T12:41:20.889Z"
   },
   {
    "duration": 107,
    "start_time": "2023-01-19T12:41:55.320Z"
   },
   {
    "duration": 9,
    "start_time": "2023-01-19T12:44:33.379Z"
   },
   {
    "duration": 4,
    "start_time": "2023-01-19T12:44:43.480Z"
   },
   {
    "duration": 8,
    "start_time": "2023-01-19T12:44:57.888Z"
   },
   {
    "duration": 67,
    "start_time": "2023-01-19T12:45:18.904Z"
   },
   {
    "duration": 12,
    "start_time": "2023-01-19T12:45:18.973Z"
   },
   {
    "duration": 3,
    "start_time": "2023-01-19T12:45:18.986Z"
   },
   {
    "duration": 19,
    "start_time": "2023-01-19T12:45:18.991Z"
   },
   {
    "duration": 21,
    "start_time": "2023-01-19T12:45:19.012Z"
   },
   {
    "duration": 8,
    "start_time": "2023-01-19T12:45:19.034Z"
   },
   {
    "duration": 29,
    "start_time": "2023-01-19T12:45:19.043Z"
   },
   {
    "duration": 11,
    "start_time": "2023-01-19T12:45:19.073Z"
   },
   {
    "duration": 12,
    "start_time": "2023-01-19T12:45:19.085Z"
   },
   {
    "duration": 4,
    "start_time": "2023-01-19T12:45:19.100Z"
   },
   {
    "duration": 5,
    "start_time": "2023-01-19T12:45:19.105Z"
   },
   {
    "duration": 11,
    "start_time": "2023-01-19T12:45:19.112Z"
   },
   {
    "duration": 166,
    "start_time": "2023-01-19T12:45:19.124Z"
   },
   {
    "duration": 6,
    "start_time": "2023-01-19T12:45:19.292Z"
   },
   {
    "duration": 6,
    "start_time": "2023-01-19T12:45:19.299Z"
   },
   {
    "duration": 18,
    "start_time": "2023-01-19T12:45:19.306Z"
   },
   {
    "duration": 4,
    "start_time": "2023-01-19T12:45:19.326Z"
   },
   {
    "duration": 8,
    "start_time": "2023-01-19T12:45:19.331Z"
   },
   {
    "duration": 32,
    "start_time": "2023-01-19T12:45:19.341Z"
   },
   {
    "duration": 7,
    "start_time": "2023-01-19T12:45:19.375Z"
   },
   {
    "duration": 14,
    "start_time": "2023-01-19T12:45:19.383Z"
   },
   {
    "duration": 3,
    "start_time": "2023-01-19T12:45:19.399Z"
   },
   {
    "duration": 23,
    "start_time": "2023-01-19T12:45:19.404Z"
   },
   {
    "duration": 6,
    "start_time": "2023-01-19T12:45:19.428Z"
   },
   {
    "duration": 44,
    "start_time": "2023-01-19T12:45:19.436Z"
   },
   {
    "duration": 32,
    "start_time": "2023-01-19T12:45:19.482Z"
   },
   {
    "duration": 5,
    "start_time": "2023-01-19T12:45:19.516Z"
   },
   {
    "duration": 43,
    "start_time": "2023-01-19T12:45:19.525Z"
   },
   {
    "duration": 14,
    "start_time": "2023-01-19T12:45:19.569Z"
   },
   {
    "duration": 31,
    "start_time": "2023-01-19T12:45:19.585Z"
   },
   {
    "duration": 8,
    "start_time": "2023-01-19T12:45:19.617Z"
   },
   {
    "duration": 42,
    "start_time": "2023-01-19T12:45:19.626Z"
   },
   {
    "duration": 12,
    "start_time": "2023-01-19T12:45:19.670Z"
   },
   {
    "duration": 21,
    "start_time": "2023-01-19T12:45:19.683Z"
   },
   {
    "duration": 195,
    "start_time": "2023-01-19T12:45:19.705Z"
   },
   {
    "duration": 5,
    "start_time": "2023-01-19T12:45:19.902Z"
   },
   {
    "duration": 136,
    "start_time": "2023-01-19T12:45:19.908Z"
   },
   {
    "duration": 6,
    "start_time": "2023-01-19T12:45:20.046Z"
   },
   {
    "duration": 193,
    "start_time": "2023-01-19T12:45:20.053Z"
   },
   {
    "duration": 0,
    "start_time": "2023-01-19T12:45:20.248Z"
   },
   {
    "duration": 0,
    "start_time": "2023-01-19T12:45:20.249Z"
   },
   {
    "duration": 0,
    "start_time": "2023-01-19T12:45:20.250Z"
   },
   {
    "duration": 0,
    "start_time": "2023-01-19T12:45:20.251Z"
   },
   {
    "duration": 0,
    "start_time": "2023-01-19T12:45:20.252Z"
   },
   {
    "duration": 0,
    "start_time": "2023-01-19T12:45:20.253Z"
   },
   {
    "duration": 0,
    "start_time": "2023-01-19T12:45:20.254Z"
   },
   {
    "duration": 0,
    "start_time": "2023-01-19T12:45:20.255Z"
   },
   {
    "duration": 0,
    "start_time": "2023-01-19T12:45:20.256Z"
   },
   {
    "duration": 0,
    "start_time": "2023-01-19T12:45:20.257Z"
   },
   {
    "duration": 0,
    "start_time": "2023-01-19T12:45:20.258Z"
   },
   {
    "duration": 0,
    "start_time": "2023-01-19T12:45:20.259Z"
   },
   {
    "duration": 0,
    "start_time": "2023-01-19T12:45:20.260Z"
   },
   {
    "duration": 0,
    "start_time": "2023-01-19T12:45:20.261Z"
   },
   {
    "duration": 0,
    "start_time": "2023-01-19T12:45:20.262Z"
   },
   {
    "duration": 0,
    "start_time": "2023-01-19T12:45:20.263Z"
   },
   {
    "duration": 0,
    "start_time": "2023-01-19T12:45:20.264Z"
   },
   {
    "duration": 0,
    "start_time": "2023-01-19T12:45:20.265Z"
   },
   {
    "duration": 0,
    "start_time": "2023-01-19T12:45:20.266Z"
   },
   {
    "duration": 0,
    "start_time": "2023-01-19T12:45:20.267Z"
   },
   {
    "duration": 0,
    "start_time": "2023-01-19T12:45:20.268Z"
   },
   {
    "duration": 0,
    "start_time": "2023-01-19T12:45:20.268Z"
   },
   {
    "duration": 0,
    "start_time": "2023-01-19T12:45:20.406Z"
   },
   {
    "duration": 0,
    "start_time": "2023-01-19T12:45:20.407Z"
   },
   {
    "duration": 0,
    "start_time": "2023-01-19T12:45:20.408Z"
   },
   {
    "duration": 0,
    "start_time": "2023-01-19T12:45:20.409Z"
   },
   {
    "duration": 0,
    "start_time": "2023-01-19T12:45:20.410Z"
   },
   {
    "duration": 0,
    "start_time": "2023-01-19T12:45:20.411Z"
   },
   {
    "duration": 0,
    "start_time": "2023-01-19T12:45:20.412Z"
   },
   {
    "duration": 0,
    "start_time": "2023-01-19T12:45:20.414Z"
   },
   {
    "duration": 0,
    "start_time": "2023-01-19T12:45:20.415Z"
   },
   {
    "duration": 0,
    "start_time": "2023-01-19T12:45:20.416Z"
   },
   {
    "duration": 0,
    "start_time": "2023-01-19T12:45:20.417Z"
   },
   {
    "duration": 0,
    "start_time": "2023-01-19T12:45:20.418Z"
   },
   {
    "duration": 0,
    "start_time": "2023-01-19T12:45:20.419Z"
   },
   {
    "duration": 0,
    "start_time": "2023-01-19T12:45:20.420Z"
   },
   {
    "duration": 0,
    "start_time": "2023-01-19T12:45:20.422Z"
   },
   {
    "duration": 0,
    "start_time": "2023-01-19T12:45:20.423Z"
   },
   {
    "duration": 0,
    "start_time": "2023-01-19T12:45:20.424Z"
   },
   {
    "duration": 0,
    "start_time": "2023-01-19T12:45:20.425Z"
   },
   {
    "duration": 0,
    "start_time": "2023-01-19T12:45:20.426Z"
   },
   {
    "duration": 0,
    "start_time": "2023-01-19T12:45:20.427Z"
   },
   {
    "duration": 0,
    "start_time": "2023-01-19T12:45:20.429Z"
   },
   {
    "duration": 0,
    "start_time": "2023-01-19T12:45:20.468Z"
   },
   {
    "duration": 133,
    "start_time": "2023-01-19T12:46:22.792Z"
   },
   {
    "duration": 84,
    "start_time": "2023-01-19T12:46:25.472Z"
   },
   {
    "duration": 16,
    "start_time": "2023-01-19T12:46:25.558Z"
   },
   {
    "duration": 2,
    "start_time": "2023-01-19T12:46:25.576Z"
   },
   {
    "duration": 24,
    "start_time": "2023-01-19T12:46:25.580Z"
   },
   {
    "duration": 11,
    "start_time": "2023-01-19T12:46:25.606Z"
   },
   {
    "duration": 7,
    "start_time": "2023-01-19T12:46:25.618Z"
   },
   {
    "duration": 42,
    "start_time": "2023-01-19T12:46:25.626Z"
   },
   {
    "duration": 9,
    "start_time": "2023-01-19T12:46:25.669Z"
   },
   {
    "duration": 16,
    "start_time": "2023-01-19T12:46:25.680Z"
   },
   {
    "duration": 4,
    "start_time": "2023-01-19T12:46:25.698Z"
   },
   {
    "duration": 132,
    "start_time": "2023-01-19T12:46:25.704Z"
   },
   {
    "duration": 7,
    "start_time": "2023-01-19T12:46:25.838Z"
   },
   {
    "duration": 5,
    "start_time": "2023-01-19T12:46:25.847Z"
   },
   {
    "duration": 15,
    "start_time": "2023-01-19T12:46:25.869Z"
   },
   {
    "duration": 5,
    "start_time": "2023-01-19T12:46:25.885Z"
   },
   {
    "duration": 9,
    "start_time": "2023-01-19T12:46:25.891Z"
   },
   {
    "duration": 18,
    "start_time": "2023-01-19T12:46:25.902Z"
   },
   {
    "duration": 7,
    "start_time": "2023-01-19T12:46:25.921Z"
   },
   {
    "duration": 40,
    "start_time": "2023-01-19T12:46:25.929Z"
   },
   {
    "duration": 4,
    "start_time": "2023-01-19T12:46:25.970Z"
   },
   {
    "duration": 26,
    "start_time": "2023-01-19T12:46:25.976Z"
   },
   {
    "duration": 9,
    "start_time": "2023-01-19T12:46:26.004Z"
   },
   {
    "duration": 17,
    "start_time": "2023-01-19T12:46:26.016Z"
   },
   {
    "duration": 58,
    "start_time": "2023-01-19T12:46:26.035Z"
   },
   {
    "duration": 6,
    "start_time": "2023-01-19T12:46:26.094Z"
   },
   {
    "duration": 23,
    "start_time": "2023-01-19T12:46:26.101Z"
   },
   {
    "duration": 15,
    "start_time": "2023-01-19T12:46:26.126Z"
   },
   {
    "duration": 54,
    "start_time": "2023-01-19T12:46:26.143Z"
   },
   {
    "duration": 8,
    "start_time": "2023-01-19T12:46:26.199Z"
   },
   {
    "duration": 20,
    "start_time": "2023-01-19T12:46:26.209Z"
   },
   {
    "duration": 22,
    "start_time": "2023-01-19T12:46:26.231Z"
   },
   {
    "duration": 23,
    "start_time": "2023-01-19T12:46:26.268Z"
   },
   {
    "duration": 200,
    "start_time": "2023-01-19T12:46:26.293Z"
   },
   {
    "duration": 6,
    "start_time": "2023-01-19T12:46:26.494Z"
   },
   {
    "duration": 166,
    "start_time": "2023-01-19T12:46:26.502Z"
   },
   {
    "duration": 6,
    "start_time": "2023-01-19T12:46:26.670Z"
   },
   {
    "duration": 234,
    "start_time": "2023-01-19T12:46:26.678Z"
   },
   {
    "duration": 0,
    "start_time": "2023-01-19T12:46:26.915Z"
   },
   {
    "duration": 0,
    "start_time": "2023-01-19T12:46:26.917Z"
   },
   {
    "duration": 0,
    "start_time": "2023-01-19T12:46:26.918Z"
   },
   {
    "duration": 0,
    "start_time": "2023-01-19T12:46:26.920Z"
   },
   {
    "duration": 0,
    "start_time": "2023-01-19T12:46:26.921Z"
   },
   {
    "duration": 0,
    "start_time": "2023-01-19T12:46:26.922Z"
   },
   {
    "duration": 0,
    "start_time": "2023-01-19T12:46:26.923Z"
   },
   {
    "duration": 0,
    "start_time": "2023-01-19T12:46:26.924Z"
   },
   {
    "duration": 0,
    "start_time": "2023-01-19T12:46:26.925Z"
   },
   {
    "duration": 0,
    "start_time": "2023-01-19T12:46:26.926Z"
   },
   {
    "duration": 0,
    "start_time": "2023-01-19T12:46:26.927Z"
   },
   {
    "duration": 0,
    "start_time": "2023-01-19T12:46:26.928Z"
   },
   {
    "duration": 0,
    "start_time": "2023-01-19T12:46:26.929Z"
   },
   {
    "duration": 0,
    "start_time": "2023-01-19T12:46:26.930Z"
   },
   {
    "duration": 0,
    "start_time": "2023-01-19T12:46:26.931Z"
   },
   {
    "duration": 0,
    "start_time": "2023-01-19T12:46:26.932Z"
   },
   {
    "duration": 0,
    "start_time": "2023-01-19T12:46:26.934Z"
   },
   {
    "duration": 0,
    "start_time": "2023-01-19T12:46:26.935Z"
   },
   {
    "duration": 0,
    "start_time": "2023-01-19T12:46:26.936Z"
   },
   {
    "duration": 0,
    "start_time": "2023-01-19T12:46:26.937Z"
   },
   {
    "duration": 0,
    "start_time": "2023-01-19T12:46:26.938Z"
   },
   {
    "duration": 0,
    "start_time": "2023-01-19T12:46:26.939Z"
   },
   {
    "duration": 1,
    "start_time": "2023-01-19T12:46:26.940Z"
   },
   {
    "duration": 0,
    "start_time": "2023-01-19T12:46:26.942Z"
   },
   {
    "duration": 0,
    "start_time": "2023-01-19T12:46:26.943Z"
   },
   {
    "duration": 0,
    "start_time": "2023-01-19T12:46:26.944Z"
   },
   {
    "duration": 0,
    "start_time": "2023-01-19T12:46:26.945Z"
   },
   {
    "duration": 0,
    "start_time": "2023-01-19T12:46:26.946Z"
   },
   {
    "duration": 0,
    "start_time": "2023-01-19T12:46:26.948Z"
   },
   {
    "duration": 0,
    "start_time": "2023-01-19T12:46:26.967Z"
   },
   {
    "duration": 0,
    "start_time": "2023-01-19T12:46:26.968Z"
   },
   {
    "duration": 0,
    "start_time": "2023-01-19T12:46:26.969Z"
   },
   {
    "duration": 0,
    "start_time": "2023-01-19T12:46:26.970Z"
   },
   {
    "duration": 0,
    "start_time": "2023-01-19T12:46:26.972Z"
   },
   {
    "duration": 0,
    "start_time": "2023-01-19T12:46:26.973Z"
   },
   {
    "duration": 0,
    "start_time": "2023-01-19T12:46:26.974Z"
   },
   {
    "duration": 0,
    "start_time": "2023-01-19T12:46:26.974Z"
   },
   {
    "duration": 0,
    "start_time": "2023-01-19T12:46:26.975Z"
   },
   {
    "duration": 0,
    "start_time": "2023-01-19T12:46:26.976Z"
   },
   {
    "duration": 0,
    "start_time": "2023-01-19T12:46:26.977Z"
   },
   {
    "duration": 0,
    "start_time": "2023-01-19T12:46:26.978Z"
   },
   {
    "duration": 0,
    "start_time": "2023-01-19T12:46:26.979Z"
   },
   {
    "duration": 0,
    "start_time": "2023-01-19T12:46:26.981Z"
   },
   {
    "duration": 0,
    "start_time": "2023-01-19T12:46:26.981Z"
   },
   {
    "duration": 10,
    "start_time": "2023-01-19T12:53:55.862Z"
   },
   {
    "duration": 117,
    "start_time": "2023-01-19T12:54:14.690Z"
   },
   {
    "duration": 14,
    "start_time": "2023-01-19T12:56:23.477Z"
   },
   {
    "duration": 7,
    "start_time": "2023-01-19T13:02:54.696Z"
   },
   {
    "duration": 5,
    "start_time": "2023-01-19T13:04:18.392Z"
   },
   {
    "duration": 6,
    "start_time": "2023-01-19T13:05:17.770Z"
   },
   {
    "duration": 65,
    "start_time": "2023-01-19T13:05:49.655Z"
   },
   {
    "duration": 16,
    "start_time": "2023-01-19T13:05:49.721Z"
   },
   {
    "duration": 4,
    "start_time": "2023-01-19T13:05:49.738Z"
   },
   {
    "duration": 26,
    "start_time": "2023-01-19T13:05:49.743Z"
   },
   {
    "duration": 17,
    "start_time": "2023-01-19T13:05:49.772Z"
   },
   {
    "duration": 9,
    "start_time": "2023-01-19T13:05:49.791Z"
   },
   {
    "duration": 7,
    "start_time": "2023-01-19T13:05:49.801Z"
   },
   {
    "duration": 10,
    "start_time": "2023-01-19T13:05:49.810Z"
   },
   {
    "duration": 48,
    "start_time": "2023-01-19T13:05:49.822Z"
   },
   {
    "duration": 10,
    "start_time": "2023-01-19T13:05:49.872Z"
   },
   {
    "duration": 7,
    "start_time": "2023-01-19T13:05:49.884Z"
   },
   {
    "duration": 150,
    "start_time": "2023-01-19T13:05:49.893Z"
   },
   {
    "duration": 5,
    "start_time": "2023-01-19T13:05:50.046Z"
   },
   {
    "duration": 1204,
    "start_time": "2023-01-19T13:05:50.056Z"
   },
   {
    "duration": 11,
    "start_time": "2023-01-19T13:05:51.261Z"
   },
   {
    "duration": 5,
    "start_time": "2023-01-19T13:05:51.274Z"
   },
   {
    "duration": 18,
    "start_time": "2023-01-19T13:05:51.281Z"
   },
   {
    "duration": 4,
    "start_time": "2023-01-19T13:05:51.301Z"
   },
   {
    "duration": 11,
    "start_time": "2023-01-19T13:05:51.307Z"
   },
   {
    "duration": 20,
    "start_time": "2023-01-19T13:05:51.320Z"
   },
   {
    "duration": 28,
    "start_time": "2023-01-19T13:05:51.342Z"
   },
   {
    "duration": 15,
    "start_time": "2023-01-19T13:05:51.373Z"
   },
   {
    "duration": 4,
    "start_time": "2023-01-19T13:05:51.389Z"
   },
   {
    "duration": 31,
    "start_time": "2023-01-19T13:05:51.395Z"
   },
   {
    "duration": 20,
    "start_time": "2023-01-19T13:05:51.428Z"
   },
   {
    "duration": 24,
    "start_time": "2023-01-19T13:05:51.449Z"
   },
   {
    "duration": 33,
    "start_time": "2023-01-19T13:05:51.475Z"
   },
   {
    "duration": 5,
    "start_time": "2023-01-19T13:05:51.510Z"
   },
   {
    "duration": 24,
    "start_time": "2023-01-19T13:05:51.516Z"
   },
   {
    "duration": 41,
    "start_time": "2023-01-19T13:05:51.541Z"
   },
   {
    "duration": 41,
    "start_time": "2023-01-19T13:05:51.583Z"
   },
   {
    "duration": 12,
    "start_time": "2023-01-19T13:05:51.625Z"
   },
   {
    "duration": 41,
    "start_time": "2023-01-19T13:05:51.640Z"
   },
   {
    "duration": 27,
    "start_time": "2023-01-19T13:05:51.683Z"
   },
   {
    "duration": 29,
    "start_time": "2023-01-19T13:05:51.712Z"
   },
   {
    "duration": 213,
    "start_time": "2023-01-19T13:05:51.743Z"
   },
   {
    "duration": 10,
    "start_time": "2023-01-19T13:05:51.958Z"
   },
   {
    "duration": 150,
    "start_time": "2023-01-19T13:05:51.970Z"
   },
   {
    "duration": 6,
    "start_time": "2023-01-19T13:05:52.121Z"
   },
   {
    "duration": 199,
    "start_time": "2023-01-19T13:05:52.128Z"
   },
   {
    "duration": 0,
    "start_time": "2023-01-19T13:05:52.330Z"
   },
   {
    "duration": 0,
    "start_time": "2023-01-19T13:05:52.332Z"
   },
   {
    "duration": 0,
    "start_time": "2023-01-19T13:05:52.333Z"
   },
   {
    "duration": 0,
    "start_time": "2023-01-19T13:05:52.334Z"
   },
   {
    "duration": 0,
    "start_time": "2023-01-19T13:05:52.335Z"
   },
   {
    "duration": 0,
    "start_time": "2023-01-19T13:05:52.335Z"
   },
   {
    "duration": 0,
    "start_time": "2023-01-19T13:05:52.337Z"
   },
   {
    "duration": 0,
    "start_time": "2023-01-19T13:05:52.338Z"
   },
   {
    "duration": 0,
    "start_time": "2023-01-19T13:05:52.339Z"
   },
   {
    "duration": 0,
    "start_time": "2023-01-19T13:05:52.340Z"
   },
   {
    "duration": 0,
    "start_time": "2023-01-19T13:05:52.341Z"
   },
   {
    "duration": 0,
    "start_time": "2023-01-19T13:05:52.342Z"
   },
   {
    "duration": 0,
    "start_time": "2023-01-19T13:05:52.343Z"
   },
   {
    "duration": 0,
    "start_time": "2023-01-19T13:05:52.344Z"
   },
   {
    "duration": 0,
    "start_time": "2023-01-19T13:05:52.345Z"
   },
   {
    "duration": 0,
    "start_time": "2023-01-19T13:05:52.346Z"
   },
   {
    "duration": 0,
    "start_time": "2023-01-19T13:05:52.347Z"
   },
   {
    "duration": 0,
    "start_time": "2023-01-19T13:05:52.348Z"
   },
   {
    "duration": 0,
    "start_time": "2023-01-19T13:05:52.349Z"
   },
   {
    "duration": 0,
    "start_time": "2023-01-19T13:05:52.350Z"
   },
   {
    "duration": 0,
    "start_time": "2023-01-19T13:05:52.352Z"
   },
   {
    "duration": 0,
    "start_time": "2023-01-19T13:05:52.353Z"
   },
   {
    "duration": 0,
    "start_time": "2023-01-19T13:05:52.354Z"
   },
   {
    "duration": 0,
    "start_time": "2023-01-19T13:05:52.355Z"
   },
   {
    "duration": 0,
    "start_time": "2023-01-19T13:05:52.356Z"
   },
   {
    "duration": 0,
    "start_time": "2023-01-19T13:05:52.356Z"
   },
   {
    "duration": 0,
    "start_time": "2023-01-19T13:05:52.357Z"
   },
   {
    "duration": 0,
    "start_time": "2023-01-19T13:05:52.359Z"
   },
   {
    "duration": 0,
    "start_time": "2023-01-19T13:05:52.360Z"
   },
   {
    "duration": 0,
    "start_time": "2023-01-19T13:05:52.360Z"
   },
   {
    "duration": 0,
    "start_time": "2023-01-19T13:05:52.367Z"
   },
   {
    "duration": 0,
    "start_time": "2023-01-19T13:05:52.368Z"
   },
   {
    "duration": 0,
    "start_time": "2023-01-19T13:05:52.368Z"
   },
   {
    "duration": 0,
    "start_time": "2023-01-19T13:05:52.369Z"
   },
   {
    "duration": 0,
    "start_time": "2023-01-19T13:05:52.370Z"
   },
   {
    "duration": 0,
    "start_time": "2023-01-19T13:05:52.371Z"
   },
   {
    "duration": 0,
    "start_time": "2023-01-19T13:05:52.372Z"
   },
   {
    "duration": 0,
    "start_time": "2023-01-19T13:05:52.373Z"
   },
   {
    "duration": 0,
    "start_time": "2023-01-19T13:05:52.374Z"
   },
   {
    "duration": 0,
    "start_time": "2023-01-19T13:05:52.375Z"
   },
   {
    "duration": 0,
    "start_time": "2023-01-19T13:05:52.376Z"
   },
   {
    "duration": 0,
    "start_time": "2023-01-19T13:05:52.377Z"
   },
   {
    "duration": 0,
    "start_time": "2023-01-19T13:05:52.379Z"
   },
   {
    "duration": 0,
    "start_time": "2023-01-19T13:05:52.380Z"
   },
   {
    "duration": 6,
    "start_time": "2023-01-19T13:07:19.910Z"
   },
   {
    "duration": 9,
    "start_time": "2023-01-19T13:08:08.070Z"
   },
   {
    "duration": 8,
    "start_time": "2023-01-19T13:08:14.582Z"
   },
   {
    "duration": 10,
    "start_time": "2023-01-19T13:08:56.078Z"
   },
   {
    "duration": 5,
    "start_time": "2023-01-19T13:08:59.369Z"
   },
   {
    "duration": 5,
    "start_time": "2023-01-19T13:10:00.077Z"
   },
   {
    "duration": 5,
    "start_time": "2023-01-19T13:21:56.781Z"
   },
   {
    "duration": 5,
    "start_time": "2023-01-19T13:22:07.855Z"
   },
   {
    "duration": 5,
    "start_time": "2023-01-19T13:22:11.755Z"
   },
   {
    "duration": 7,
    "start_time": "2023-01-19T13:22:54.300Z"
   },
   {
    "duration": 10,
    "start_time": "2023-01-19T13:23:41.482Z"
   },
   {
    "duration": 65,
    "start_time": "2023-01-19T13:23:52.498Z"
   },
   {
    "duration": 14,
    "start_time": "2023-01-19T13:23:52.565Z"
   },
   {
    "duration": 4,
    "start_time": "2023-01-19T13:23:52.581Z"
   },
   {
    "duration": 46,
    "start_time": "2023-01-19T13:23:52.588Z"
   },
   {
    "duration": 45,
    "start_time": "2023-01-19T13:23:52.635Z"
   },
   {
    "duration": 20,
    "start_time": "2023-01-19T13:23:52.682Z"
   },
   {
    "duration": 23,
    "start_time": "2023-01-19T13:23:52.704Z"
   },
   {
    "duration": 13,
    "start_time": "2023-01-19T13:23:52.729Z"
   },
   {
    "duration": 21,
    "start_time": "2023-01-19T13:23:52.744Z"
   },
   {
    "duration": 28,
    "start_time": "2023-01-19T13:23:52.769Z"
   },
   {
    "duration": 13,
    "start_time": "2023-01-19T13:23:52.798Z"
   },
   {
    "duration": 146,
    "start_time": "2023-01-19T13:23:52.813Z"
   },
   {
    "duration": 7,
    "start_time": "2023-01-19T13:23:52.967Z"
   },
   {
    "duration": 71,
    "start_time": "2023-01-19T13:23:52.976Z"
   },
   {
    "duration": 11,
    "start_time": "2023-01-19T13:23:53.049Z"
   },
   {
    "duration": 1313,
    "start_time": "2023-01-19T13:23:53.062Z"
   },
   {
    "duration": 11,
    "start_time": "2023-01-19T13:23:54.377Z"
   },
   {
    "duration": 9,
    "start_time": "2023-01-19T13:23:54.391Z"
   },
   {
    "duration": 36,
    "start_time": "2023-01-19T13:23:54.402Z"
   },
   {
    "duration": 6,
    "start_time": "2023-01-19T13:23:54.440Z"
   },
   {
    "duration": 24,
    "start_time": "2023-01-19T13:23:54.448Z"
   },
   {
    "duration": 47,
    "start_time": "2023-01-19T13:23:54.474Z"
   },
   {
    "duration": 12,
    "start_time": "2023-01-19T13:23:54.524Z"
   },
   {
    "duration": 30,
    "start_time": "2023-01-19T13:23:54.538Z"
   },
   {
    "duration": 9,
    "start_time": "2023-01-19T13:23:54.569Z"
   },
   {
    "duration": 44,
    "start_time": "2023-01-19T13:23:54.580Z"
   },
   {
    "duration": 18,
    "start_time": "2023-01-19T13:23:54.625Z"
   },
   {
    "duration": 36,
    "start_time": "2023-01-19T13:23:54.650Z"
   },
   {
    "duration": 54,
    "start_time": "2023-01-19T13:23:54.688Z"
   },
   {
    "duration": 5,
    "start_time": "2023-01-19T13:23:54.744Z"
   },
   {
    "duration": 57,
    "start_time": "2023-01-19T13:23:54.750Z"
   },
   {
    "duration": 30,
    "start_time": "2023-01-19T13:23:54.810Z"
   },
   {
    "duration": 52,
    "start_time": "2023-01-19T13:23:54.842Z"
   },
   {
    "duration": 14,
    "start_time": "2023-01-19T13:23:54.897Z"
   },
   {
    "duration": 36,
    "start_time": "2023-01-19T13:23:54.913Z"
   },
   {
    "duration": 29,
    "start_time": "2023-01-19T13:23:54.951Z"
   },
   {
    "duration": 53,
    "start_time": "2023-01-19T13:23:54.985Z"
   },
   {
    "duration": 260,
    "start_time": "2023-01-19T13:23:55.040Z"
   },
   {
    "duration": 7,
    "start_time": "2023-01-19T13:23:55.302Z"
   },
   {
    "duration": 219,
    "start_time": "2023-01-19T13:23:55.311Z"
   },
   {
    "duration": 6,
    "start_time": "2023-01-19T13:23:55.532Z"
   },
   {
    "duration": 219,
    "start_time": "2023-01-19T13:23:55.540Z"
   },
   {
    "duration": 0,
    "start_time": "2023-01-19T13:23:55.760Z"
   },
   {
    "duration": 0,
    "start_time": "2023-01-19T13:23:55.761Z"
   },
   {
    "duration": 0,
    "start_time": "2023-01-19T13:23:55.762Z"
   },
   {
    "duration": 0,
    "start_time": "2023-01-19T13:23:55.764Z"
   },
   {
    "duration": 0,
    "start_time": "2023-01-19T13:23:55.765Z"
   },
   {
    "duration": 0,
    "start_time": "2023-01-19T13:23:55.766Z"
   },
   {
    "duration": 0,
    "start_time": "2023-01-19T13:23:55.771Z"
   },
   {
    "duration": 0,
    "start_time": "2023-01-19T13:23:55.772Z"
   },
   {
    "duration": 0,
    "start_time": "2023-01-19T13:23:55.773Z"
   },
   {
    "duration": 0,
    "start_time": "2023-01-19T13:23:55.775Z"
   },
   {
    "duration": 0,
    "start_time": "2023-01-19T13:23:55.776Z"
   },
   {
    "duration": 0,
    "start_time": "2023-01-19T13:23:55.777Z"
   },
   {
    "duration": 0,
    "start_time": "2023-01-19T13:23:55.778Z"
   },
   {
    "duration": 0,
    "start_time": "2023-01-19T13:23:55.779Z"
   },
   {
    "duration": 0,
    "start_time": "2023-01-19T13:23:55.780Z"
   },
   {
    "duration": 0,
    "start_time": "2023-01-19T13:23:55.781Z"
   },
   {
    "duration": 0,
    "start_time": "2023-01-19T13:23:55.783Z"
   },
   {
    "duration": 0,
    "start_time": "2023-01-19T13:23:55.784Z"
   },
   {
    "duration": 0,
    "start_time": "2023-01-19T13:23:55.785Z"
   },
   {
    "duration": 0,
    "start_time": "2023-01-19T13:23:55.786Z"
   },
   {
    "duration": 0,
    "start_time": "2023-01-19T13:23:55.788Z"
   },
   {
    "duration": 0,
    "start_time": "2023-01-19T13:23:55.792Z"
   },
   {
    "duration": 0,
    "start_time": "2023-01-19T13:23:55.795Z"
   },
   {
    "duration": 1,
    "start_time": "2023-01-19T13:23:55.796Z"
   },
   {
    "duration": 0,
    "start_time": "2023-01-19T13:23:55.798Z"
   },
   {
    "duration": 0,
    "start_time": "2023-01-19T13:23:55.799Z"
   },
   {
    "duration": 0,
    "start_time": "2023-01-19T13:23:55.801Z"
   },
   {
    "duration": 0,
    "start_time": "2023-01-19T13:23:55.802Z"
   },
   {
    "duration": 0,
    "start_time": "2023-01-19T13:23:55.803Z"
   },
   {
    "duration": 0,
    "start_time": "2023-01-19T13:23:55.804Z"
   },
   {
    "duration": 0,
    "start_time": "2023-01-19T13:23:55.805Z"
   },
   {
    "duration": 0,
    "start_time": "2023-01-19T13:23:55.806Z"
   },
   {
    "duration": 0,
    "start_time": "2023-01-19T13:23:55.808Z"
   },
   {
    "duration": 0,
    "start_time": "2023-01-19T13:23:55.808Z"
   },
   {
    "duration": 0,
    "start_time": "2023-01-19T13:23:55.809Z"
   },
   {
    "duration": 0,
    "start_time": "2023-01-19T13:23:55.810Z"
   },
   {
    "duration": 0,
    "start_time": "2023-01-19T13:23:55.811Z"
   },
   {
    "duration": 0,
    "start_time": "2023-01-19T13:23:55.812Z"
   },
   {
    "duration": 0,
    "start_time": "2023-01-19T13:23:55.868Z"
   },
   {
    "duration": 0,
    "start_time": "2023-01-19T13:23:55.870Z"
   },
   {
    "duration": 0,
    "start_time": "2023-01-19T13:23:55.872Z"
   },
   {
    "duration": 0,
    "start_time": "2023-01-19T13:23:55.873Z"
   },
   {
    "duration": 0,
    "start_time": "2023-01-19T13:23:55.874Z"
   },
   {
    "duration": 0,
    "start_time": "2023-01-19T13:23:55.875Z"
   },
   {
    "duration": 6,
    "start_time": "2023-01-19T13:24:15.596Z"
   },
   {
    "duration": 17,
    "start_time": "2023-01-19T13:24:36.662Z"
   },
   {
    "duration": 9,
    "start_time": "2023-01-19T13:24:39.782Z"
   },
   {
    "duration": 20,
    "start_time": "2023-01-19T13:28:26.466Z"
   },
   {
    "duration": 15,
    "start_time": "2023-01-19T13:28:30.667Z"
   },
   {
    "duration": 79,
    "start_time": "2023-01-19T13:29:10.192Z"
   },
   {
    "duration": 20,
    "start_time": "2023-01-19T13:29:10.274Z"
   },
   {
    "duration": 6,
    "start_time": "2023-01-19T13:29:10.295Z"
   },
   {
    "duration": 33,
    "start_time": "2023-01-19T13:29:10.303Z"
   },
   {
    "duration": 46,
    "start_time": "2023-01-19T13:29:10.337Z"
   },
   {
    "duration": 12,
    "start_time": "2023-01-19T13:29:10.385Z"
   },
   {
    "duration": 7,
    "start_time": "2023-01-19T13:29:10.399Z"
   },
   {
    "duration": 7,
    "start_time": "2023-01-19T13:29:10.408Z"
   },
   {
    "duration": 9,
    "start_time": "2023-01-19T13:29:10.417Z"
   },
   {
    "duration": 39,
    "start_time": "2023-01-19T13:29:10.429Z"
   },
   {
    "duration": 7,
    "start_time": "2023-01-19T13:29:10.471Z"
   },
   {
    "duration": 137,
    "start_time": "2023-01-19T13:29:10.480Z"
   },
   {
    "duration": 6,
    "start_time": "2023-01-19T13:29:10.618Z"
   },
   {
    "duration": 20,
    "start_time": "2023-01-19T13:29:10.625Z"
   },
   {
    "duration": 21,
    "start_time": "2023-01-19T13:29:10.647Z"
   },
   {
    "duration": 1413,
    "start_time": "2023-01-19T13:29:10.670Z"
   },
   {
    "duration": 6,
    "start_time": "2023-01-19T13:29:12.086Z"
   },
   {
    "duration": 7,
    "start_time": "2023-01-19T13:29:12.094Z"
   },
   {
    "duration": 26,
    "start_time": "2023-01-19T13:29:12.103Z"
   },
   {
    "duration": 5,
    "start_time": "2023-01-19T13:29:12.131Z"
   },
   {
    "duration": 10,
    "start_time": "2023-01-19T13:29:12.138Z"
   },
   {
    "duration": 27,
    "start_time": "2023-01-19T13:29:12.150Z"
   },
   {
    "duration": 7,
    "start_time": "2023-01-19T13:29:12.183Z"
   },
   {
    "duration": 20,
    "start_time": "2023-01-19T13:29:12.192Z"
   },
   {
    "duration": 5,
    "start_time": "2023-01-19T13:29:12.213Z"
   },
   {
    "duration": 30,
    "start_time": "2023-01-19T13:29:12.219Z"
   },
   {
    "duration": 7,
    "start_time": "2023-01-19T13:29:12.250Z"
   },
   {
    "duration": 24,
    "start_time": "2023-01-19T13:29:12.271Z"
   },
   {
    "duration": 37,
    "start_time": "2023-01-19T13:29:12.297Z"
   },
   {
    "duration": 6,
    "start_time": "2023-01-19T13:29:12.335Z"
   },
   {
    "duration": 51,
    "start_time": "2023-01-19T13:29:12.343Z"
   },
   {
    "duration": 15,
    "start_time": "2023-01-19T13:29:12.396Z"
   },
   {
    "duration": 57,
    "start_time": "2023-01-19T13:29:12.412Z"
   },
   {
    "duration": 15,
    "start_time": "2023-01-19T13:29:12.472Z"
   },
   {
    "duration": 26,
    "start_time": "2023-01-19T13:29:12.488Z"
   },
   {
    "duration": 17,
    "start_time": "2023-01-19T13:29:12.515Z"
   },
   {
    "duration": 50,
    "start_time": "2023-01-19T13:29:12.534Z"
   },
   {
    "duration": 220,
    "start_time": "2023-01-19T13:29:12.585Z"
   },
   {
    "duration": 7,
    "start_time": "2023-01-19T13:29:12.806Z"
   },
   {
    "duration": 157,
    "start_time": "2023-01-19T13:29:12.814Z"
   },
   {
    "duration": 14,
    "start_time": "2023-01-19T13:29:12.974Z"
   },
   {
    "duration": 164,
    "start_time": "2023-01-19T13:29:12.990Z"
   },
   {
    "duration": 0,
    "start_time": "2023-01-19T13:29:13.157Z"
   },
   {
    "duration": 0,
    "start_time": "2023-01-19T13:29:13.158Z"
   },
   {
    "duration": 0,
    "start_time": "2023-01-19T13:29:13.159Z"
   },
   {
    "duration": 0,
    "start_time": "2023-01-19T13:29:13.161Z"
   },
   {
    "duration": 0,
    "start_time": "2023-01-19T13:29:13.162Z"
   },
   {
    "duration": 0,
    "start_time": "2023-01-19T13:29:13.163Z"
   },
   {
    "duration": 0,
    "start_time": "2023-01-19T13:29:13.164Z"
   },
   {
    "duration": 0,
    "start_time": "2023-01-19T13:29:13.165Z"
   },
   {
    "duration": 0,
    "start_time": "2023-01-19T13:29:13.166Z"
   },
   {
    "duration": 0,
    "start_time": "2023-01-19T13:29:13.167Z"
   },
   {
    "duration": 0,
    "start_time": "2023-01-19T13:29:13.169Z"
   },
   {
    "duration": 0,
    "start_time": "2023-01-19T13:29:13.170Z"
   },
   {
    "duration": 0,
    "start_time": "2023-01-19T13:29:13.171Z"
   },
   {
    "duration": 0,
    "start_time": "2023-01-19T13:29:13.173Z"
   },
   {
    "duration": 0,
    "start_time": "2023-01-19T13:29:13.174Z"
   },
   {
    "duration": 0,
    "start_time": "2023-01-19T13:29:13.175Z"
   },
   {
    "duration": 0,
    "start_time": "2023-01-19T13:29:13.176Z"
   },
   {
    "duration": 0,
    "start_time": "2023-01-19T13:29:13.177Z"
   },
   {
    "duration": 0,
    "start_time": "2023-01-19T13:29:13.179Z"
   },
   {
    "duration": 0,
    "start_time": "2023-01-19T13:29:13.182Z"
   },
   {
    "duration": 0,
    "start_time": "2023-01-19T13:29:13.184Z"
   },
   {
    "duration": 0,
    "start_time": "2023-01-19T13:29:13.185Z"
   },
   {
    "duration": 0,
    "start_time": "2023-01-19T13:29:13.186Z"
   },
   {
    "duration": 0,
    "start_time": "2023-01-19T13:29:13.187Z"
   },
   {
    "duration": 0,
    "start_time": "2023-01-19T13:29:13.189Z"
   },
   {
    "duration": 0,
    "start_time": "2023-01-19T13:29:13.190Z"
   },
   {
    "duration": 0,
    "start_time": "2023-01-19T13:29:13.191Z"
   },
   {
    "duration": 0,
    "start_time": "2023-01-19T13:29:13.192Z"
   },
   {
    "duration": 0,
    "start_time": "2023-01-19T13:29:13.193Z"
   },
   {
    "duration": 0,
    "start_time": "2023-01-19T13:29:13.194Z"
   },
   {
    "duration": 0,
    "start_time": "2023-01-19T13:29:13.196Z"
   },
   {
    "duration": 0,
    "start_time": "2023-01-19T13:29:13.197Z"
   },
   {
    "duration": 0,
    "start_time": "2023-01-19T13:29:13.198Z"
   },
   {
    "duration": 0,
    "start_time": "2023-01-19T13:29:13.199Z"
   },
   {
    "duration": 0,
    "start_time": "2023-01-19T13:29:13.200Z"
   },
   {
    "duration": 0,
    "start_time": "2023-01-19T13:29:13.201Z"
   },
   {
    "duration": 0,
    "start_time": "2023-01-19T13:29:13.202Z"
   },
   {
    "duration": 0,
    "start_time": "2023-01-19T13:29:13.203Z"
   },
   {
    "duration": 0,
    "start_time": "2023-01-19T13:29:13.204Z"
   },
   {
    "duration": 0,
    "start_time": "2023-01-19T13:29:13.205Z"
   },
   {
    "duration": 0,
    "start_time": "2023-01-19T13:29:13.206Z"
   },
   {
    "duration": 0,
    "start_time": "2023-01-19T13:29:13.207Z"
   },
   {
    "duration": 0,
    "start_time": "2023-01-19T13:29:13.208Z"
   },
   {
    "duration": 0,
    "start_time": "2023-01-19T13:29:13.267Z"
   },
   {
    "duration": 9,
    "start_time": "2023-01-19T13:32:07.448Z"
   },
   {
    "duration": 8,
    "start_time": "2023-01-19T13:40:21.235Z"
   },
   {
    "duration": 71,
    "start_time": "2023-01-19T13:40:26.240Z"
   },
   {
    "duration": 14,
    "start_time": "2023-01-19T13:40:26.312Z"
   },
   {
    "duration": 4,
    "start_time": "2023-01-19T13:40:26.328Z"
   },
   {
    "duration": 64,
    "start_time": "2023-01-19T13:40:26.333Z"
   },
   {
    "duration": 24,
    "start_time": "2023-01-19T13:40:26.399Z"
   },
   {
    "duration": 10,
    "start_time": "2023-01-19T13:40:26.424Z"
   },
   {
    "duration": 36,
    "start_time": "2023-01-19T13:40:26.436Z"
   },
   {
    "duration": 10,
    "start_time": "2023-01-19T13:40:26.474Z"
   },
   {
    "duration": 23,
    "start_time": "2023-01-19T13:40:26.486Z"
   },
   {
    "duration": 16,
    "start_time": "2023-01-19T13:40:26.511Z"
   },
   {
    "duration": 13,
    "start_time": "2023-01-19T13:40:26.529Z"
   },
   {
    "duration": 156,
    "start_time": "2023-01-19T13:40:26.544Z"
   },
   {
    "duration": 5,
    "start_time": "2023-01-19T13:40:26.703Z"
   },
   {
    "duration": 36,
    "start_time": "2023-01-19T13:40:26.711Z"
   },
   {
    "duration": 19,
    "start_time": "2023-01-19T13:40:26.749Z"
   },
   {
    "duration": 27,
    "start_time": "2023-01-19T13:40:26.771Z"
   },
   {
    "duration": 17,
    "start_time": "2023-01-19T13:40:26.800Z"
   },
   {
    "duration": 8,
    "start_time": "2023-01-19T13:40:26.819Z"
   },
   {
    "duration": 36,
    "start_time": "2023-01-19T13:40:26.829Z"
   },
   {
    "duration": 19,
    "start_time": "2023-01-19T13:40:26.867Z"
   },
   {
    "duration": 15,
    "start_time": "2023-01-19T13:40:26.888Z"
   },
   {
    "duration": 25,
    "start_time": "2023-01-19T13:40:26.905Z"
   },
   {
    "duration": 9,
    "start_time": "2023-01-19T13:40:26.932Z"
   },
   {
    "duration": 17,
    "start_time": "2023-01-19T13:40:26.943Z"
   },
   {
    "duration": 10,
    "start_time": "2023-01-19T13:40:26.961Z"
   },
   {
    "duration": 37,
    "start_time": "2023-01-19T13:40:26.973Z"
   },
   {
    "duration": 10,
    "start_time": "2023-01-19T13:40:27.013Z"
   },
   {
    "duration": 23,
    "start_time": "2023-01-19T13:40:27.025Z"
   },
   {
    "duration": 51,
    "start_time": "2023-01-19T13:40:27.050Z"
   },
   {
    "duration": 5,
    "start_time": "2023-01-19T13:40:27.103Z"
   },
   {
    "duration": 24,
    "start_time": "2023-01-19T13:40:27.110Z"
   },
   {
    "duration": 43,
    "start_time": "2023-01-19T13:40:27.136Z"
   },
   {
    "duration": 54,
    "start_time": "2023-01-19T13:40:27.182Z"
   },
   {
    "duration": 9,
    "start_time": "2023-01-19T13:40:27.238Z"
   },
   {
    "duration": 28,
    "start_time": "2023-01-19T13:40:27.267Z"
   },
   {
    "duration": 19,
    "start_time": "2023-01-19T13:40:27.297Z"
   },
   {
    "duration": 23,
    "start_time": "2023-01-19T13:40:27.317Z"
   },
   {
    "duration": 248,
    "start_time": "2023-01-19T13:40:27.342Z"
   },
   {
    "duration": 8,
    "start_time": "2023-01-19T13:40:27.592Z"
   },
   {
    "duration": 181,
    "start_time": "2023-01-19T13:40:27.601Z"
   },
   {
    "duration": 8,
    "start_time": "2023-01-19T13:40:27.789Z"
   },
   {
    "duration": 182,
    "start_time": "2023-01-19T13:40:27.799Z"
   },
   {
    "duration": 0,
    "start_time": "2023-01-19T13:40:27.983Z"
   },
   {
    "duration": 0,
    "start_time": "2023-01-19T13:40:27.985Z"
   },
   {
    "duration": 0,
    "start_time": "2023-01-19T13:40:27.986Z"
   },
   {
    "duration": 0,
    "start_time": "2023-01-19T13:40:27.988Z"
   },
   {
    "duration": 0,
    "start_time": "2023-01-19T13:40:27.989Z"
   },
   {
    "duration": 0,
    "start_time": "2023-01-19T13:40:27.991Z"
   },
   {
    "duration": 0,
    "start_time": "2023-01-19T13:40:27.992Z"
   },
   {
    "duration": 0,
    "start_time": "2023-01-19T13:40:27.994Z"
   },
   {
    "duration": 0,
    "start_time": "2023-01-19T13:40:27.995Z"
   },
   {
    "duration": 0,
    "start_time": "2023-01-19T13:40:27.996Z"
   },
   {
    "duration": 0,
    "start_time": "2023-01-19T13:40:27.997Z"
   },
   {
    "duration": 0,
    "start_time": "2023-01-19T13:40:27.998Z"
   },
   {
    "duration": 0,
    "start_time": "2023-01-19T13:40:27.999Z"
   },
   {
    "duration": 0,
    "start_time": "2023-01-19T13:40:28.000Z"
   },
   {
    "duration": 0,
    "start_time": "2023-01-19T13:40:28.001Z"
   },
   {
    "duration": 0,
    "start_time": "2023-01-19T13:40:28.002Z"
   },
   {
    "duration": 0,
    "start_time": "2023-01-19T13:40:28.003Z"
   },
   {
    "duration": 0,
    "start_time": "2023-01-19T13:40:28.004Z"
   },
   {
    "duration": 0,
    "start_time": "2023-01-19T13:40:28.005Z"
   },
   {
    "duration": 0,
    "start_time": "2023-01-19T13:40:28.006Z"
   },
   {
    "duration": 0,
    "start_time": "2023-01-19T13:40:28.007Z"
   },
   {
    "duration": 0,
    "start_time": "2023-01-19T13:40:28.008Z"
   },
   {
    "duration": 0,
    "start_time": "2023-01-19T13:40:28.009Z"
   },
   {
    "duration": 0,
    "start_time": "2023-01-19T13:40:28.010Z"
   },
   {
    "duration": 0,
    "start_time": "2023-01-19T13:40:28.011Z"
   },
   {
    "duration": 0,
    "start_time": "2023-01-19T13:40:28.012Z"
   },
   {
    "duration": 0,
    "start_time": "2023-01-19T13:40:28.013Z"
   },
   {
    "duration": 0,
    "start_time": "2023-01-19T13:40:28.014Z"
   },
   {
    "duration": 0,
    "start_time": "2023-01-19T13:40:28.015Z"
   },
   {
    "duration": 0,
    "start_time": "2023-01-19T13:40:28.016Z"
   },
   {
    "duration": 0,
    "start_time": "2023-01-19T13:40:28.071Z"
   },
   {
    "duration": 0,
    "start_time": "2023-01-19T13:40:28.072Z"
   },
   {
    "duration": 0,
    "start_time": "2023-01-19T13:40:28.073Z"
   },
   {
    "duration": 0,
    "start_time": "2023-01-19T13:40:28.073Z"
   },
   {
    "duration": 0,
    "start_time": "2023-01-19T13:40:28.074Z"
   },
   {
    "duration": 0,
    "start_time": "2023-01-19T13:40:28.074Z"
   },
   {
    "duration": 0,
    "start_time": "2023-01-19T13:40:28.075Z"
   },
   {
    "duration": 0,
    "start_time": "2023-01-19T13:40:28.076Z"
   },
   {
    "duration": 0,
    "start_time": "2023-01-19T13:40:28.076Z"
   },
   {
    "duration": 0,
    "start_time": "2023-01-19T13:40:28.076Z"
   },
   {
    "duration": 0,
    "start_time": "2023-01-19T13:40:28.077Z"
   },
   {
    "duration": 0,
    "start_time": "2023-01-19T13:40:28.077Z"
   },
   {
    "duration": 0,
    "start_time": "2023-01-19T13:40:28.078Z"
   },
   {
    "duration": 0,
    "start_time": "2023-01-19T13:40:28.079Z"
   },
   {
    "duration": 7,
    "start_time": "2023-01-19T13:41:14.116Z"
   },
   {
    "duration": 8,
    "start_time": "2023-01-19T13:49:52.201Z"
   },
   {
    "duration": 12,
    "start_time": "2023-01-19T13:50:59.098Z"
   },
   {
    "duration": 94,
    "start_time": "2023-01-19T13:51:24.796Z"
   },
   {
    "duration": 19,
    "start_time": "2023-01-19T13:51:24.893Z"
   },
   {
    "duration": 4,
    "start_time": "2023-01-19T13:51:24.914Z"
   },
   {
    "duration": 30,
    "start_time": "2023-01-19T13:51:24.920Z"
   },
   {
    "duration": 53,
    "start_time": "2023-01-19T13:51:24.968Z"
   },
   {
    "duration": 15,
    "start_time": "2023-01-19T13:51:25.023Z"
   },
   {
    "duration": 15,
    "start_time": "2023-01-19T13:51:25.040Z"
   },
   {
    "duration": 20,
    "start_time": "2023-01-19T13:51:25.057Z"
   },
   {
    "duration": 26,
    "start_time": "2023-01-19T13:51:25.079Z"
   },
   {
    "duration": 19,
    "start_time": "2023-01-19T13:51:25.107Z"
   },
   {
    "duration": 9,
    "start_time": "2023-01-19T13:51:25.128Z"
   },
   {
    "duration": 152,
    "start_time": "2023-01-19T13:51:25.139Z"
   },
   {
    "duration": 6,
    "start_time": "2023-01-19T13:51:25.293Z"
   },
   {
    "duration": 22,
    "start_time": "2023-01-19T13:51:25.302Z"
   },
   {
    "duration": 6,
    "start_time": "2023-01-19T13:51:25.325Z"
   },
   {
    "duration": 9,
    "start_time": "2023-01-19T13:51:25.332Z"
   },
   {
    "duration": 30,
    "start_time": "2023-01-19T13:51:25.343Z"
   },
   {
    "duration": 45,
    "start_time": "2023-01-19T13:51:25.374Z"
   },
   {
    "duration": 0,
    "start_time": "2023-01-19T13:51:25.422Z"
   },
   {
    "duration": 0,
    "start_time": "2023-01-19T13:51:25.424Z"
   },
   {
    "duration": 0,
    "start_time": "2023-01-19T13:51:25.425Z"
   },
   {
    "duration": 0,
    "start_time": "2023-01-19T13:51:25.427Z"
   },
   {
    "duration": 0,
    "start_time": "2023-01-19T13:51:25.431Z"
   },
   {
    "duration": 0,
    "start_time": "2023-01-19T13:51:25.432Z"
   },
   {
    "duration": 0,
    "start_time": "2023-01-19T13:51:25.433Z"
   },
   {
    "duration": 0,
    "start_time": "2023-01-19T13:51:25.435Z"
   },
   {
    "duration": 0,
    "start_time": "2023-01-19T13:51:25.436Z"
   },
   {
    "duration": 0,
    "start_time": "2023-01-19T13:51:25.437Z"
   },
   {
    "duration": 0,
    "start_time": "2023-01-19T13:51:25.439Z"
   },
   {
    "duration": 0,
    "start_time": "2023-01-19T13:51:25.440Z"
   },
   {
    "duration": 0,
    "start_time": "2023-01-19T13:51:25.441Z"
   },
   {
    "duration": 0,
    "start_time": "2023-01-19T13:51:25.443Z"
   },
   {
    "duration": 0,
    "start_time": "2023-01-19T13:51:25.444Z"
   },
   {
    "duration": 0,
    "start_time": "2023-01-19T13:51:25.445Z"
   },
   {
    "duration": 0,
    "start_time": "2023-01-19T13:51:25.446Z"
   },
   {
    "duration": 0,
    "start_time": "2023-01-19T13:51:25.448Z"
   },
   {
    "duration": 0,
    "start_time": "2023-01-19T13:51:25.449Z"
   },
   {
    "duration": 0,
    "start_time": "2023-01-19T13:51:25.450Z"
   },
   {
    "duration": 0,
    "start_time": "2023-01-19T13:51:25.451Z"
   },
   {
    "duration": 0,
    "start_time": "2023-01-19T13:51:25.452Z"
   },
   {
    "duration": 0,
    "start_time": "2023-01-19T13:51:25.453Z"
   },
   {
    "duration": 0,
    "start_time": "2023-01-19T13:51:25.454Z"
   },
   {
    "duration": 0,
    "start_time": "2023-01-19T13:51:25.471Z"
   },
   {
    "duration": 0,
    "start_time": "2023-01-19T13:51:25.472Z"
   },
   {
    "duration": 0,
    "start_time": "2023-01-19T13:51:25.473Z"
   },
   {
    "duration": 1,
    "start_time": "2023-01-19T13:51:25.474Z"
   },
   {
    "duration": 0,
    "start_time": "2023-01-19T13:51:25.475Z"
   },
   {
    "duration": 0,
    "start_time": "2023-01-19T13:51:25.477Z"
   },
   {
    "duration": 1,
    "start_time": "2023-01-19T13:51:25.477Z"
   },
   {
    "duration": 0,
    "start_time": "2023-01-19T13:51:25.478Z"
   },
   {
    "duration": 0,
    "start_time": "2023-01-19T13:51:25.481Z"
   },
   {
    "duration": 0,
    "start_time": "2023-01-19T13:51:25.482Z"
   },
   {
    "duration": 0,
    "start_time": "2023-01-19T13:51:25.486Z"
   },
   {
    "duration": 0,
    "start_time": "2023-01-19T13:51:25.489Z"
   },
   {
    "duration": 0,
    "start_time": "2023-01-19T13:51:25.491Z"
   },
   {
    "duration": 0,
    "start_time": "2023-01-19T13:51:25.491Z"
   },
   {
    "duration": 0,
    "start_time": "2023-01-19T13:51:25.492Z"
   },
   {
    "duration": 0,
    "start_time": "2023-01-19T13:51:25.493Z"
   },
   {
    "duration": 0,
    "start_time": "2023-01-19T13:51:25.494Z"
   },
   {
    "duration": 0,
    "start_time": "2023-01-19T13:51:25.496Z"
   },
   {
    "duration": 0,
    "start_time": "2023-01-19T13:51:25.497Z"
   },
   {
    "duration": 0,
    "start_time": "2023-01-19T13:51:25.498Z"
   },
   {
    "duration": 0,
    "start_time": "2023-01-19T13:51:25.499Z"
   },
   {
    "duration": 0,
    "start_time": "2023-01-19T13:51:25.500Z"
   },
   {
    "duration": 0,
    "start_time": "2023-01-19T13:51:25.502Z"
   },
   {
    "duration": 0,
    "start_time": "2023-01-19T13:51:25.502Z"
   },
   {
    "duration": 0,
    "start_time": "2023-01-19T13:51:25.503Z"
   },
   {
    "duration": 0,
    "start_time": "2023-01-19T13:51:25.504Z"
   },
   {
    "duration": 0,
    "start_time": "2023-01-19T13:51:25.505Z"
   },
   {
    "duration": 0,
    "start_time": "2023-01-19T13:51:25.507Z"
   },
   {
    "duration": 0,
    "start_time": "2023-01-19T13:51:25.508Z"
   },
   {
    "duration": 0,
    "start_time": "2023-01-19T13:51:25.509Z"
   },
   {
    "duration": 0,
    "start_time": "2023-01-19T13:51:25.510Z"
   },
   {
    "duration": 0,
    "start_time": "2023-01-19T13:51:25.511Z"
   },
   {
    "duration": 0,
    "start_time": "2023-01-19T13:51:25.512Z"
   },
   {
    "duration": 0,
    "start_time": "2023-01-19T13:51:25.513Z"
   },
   {
    "duration": 0,
    "start_time": "2023-01-19T13:51:25.515Z"
   },
   {
    "duration": 0,
    "start_time": "2023-01-19T13:51:25.517Z"
   },
   {
    "duration": 0,
    "start_time": "2023-01-19T13:51:25.517Z"
   },
   {
    "duration": 0,
    "start_time": "2023-01-19T13:51:25.519Z"
   },
   {
    "duration": 0,
    "start_time": "2023-01-19T13:51:25.520Z"
   },
   {
    "duration": 0,
    "start_time": "2023-01-19T13:51:25.571Z"
   },
   {
    "duration": 1,
    "start_time": "2023-01-19T13:51:25.574Z"
   },
   {
    "duration": 0,
    "start_time": "2023-01-19T13:51:25.576Z"
   },
   {
    "duration": 0,
    "start_time": "2023-01-19T13:51:25.576Z"
   },
   {
    "duration": 0,
    "start_time": "2023-01-19T13:51:25.585Z"
   },
   {
    "duration": 0,
    "start_time": "2023-01-19T13:51:25.585Z"
   },
   {
    "duration": 67,
    "start_time": "2023-01-19T13:52:29.891Z"
   },
   {
    "duration": 14,
    "start_time": "2023-01-19T13:52:29.960Z"
   },
   {
    "duration": 31,
    "start_time": "2023-01-19T13:52:29.978Z"
   },
   {
    "duration": 43,
    "start_time": "2023-01-19T13:52:30.010Z"
   },
   {
    "duration": 35,
    "start_time": "2023-01-19T13:52:30.055Z"
   },
   {
    "duration": 64,
    "start_time": "2023-01-19T13:52:30.092Z"
   },
   {
    "duration": 51,
    "start_time": "2023-01-19T13:52:30.158Z"
   },
   {
    "duration": 22,
    "start_time": "2023-01-19T13:52:30.211Z"
   },
   {
    "duration": 35,
    "start_time": "2023-01-19T13:52:30.235Z"
   },
   {
    "duration": 67,
    "start_time": "2023-01-19T13:52:30.272Z"
   },
   {
    "duration": 50,
    "start_time": "2023-01-19T13:52:30.340Z"
   },
   {
    "duration": 160,
    "start_time": "2023-01-19T13:52:30.392Z"
   },
   {
    "duration": 6,
    "start_time": "2023-01-19T13:52:30.553Z"
   },
   {
    "duration": 68,
    "start_time": "2023-01-19T13:52:30.569Z"
   },
   {
    "duration": 58,
    "start_time": "2023-01-19T13:52:30.639Z"
   },
   {
    "duration": 26,
    "start_time": "2023-01-19T13:52:30.699Z"
   },
   {
    "duration": 33,
    "start_time": "2023-01-19T13:52:30.726Z"
   },
   {
    "duration": 53,
    "start_time": "2023-01-19T13:52:30.761Z"
   },
   {
    "duration": 0,
    "start_time": "2023-01-19T13:52:30.817Z"
   },
   {
    "duration": 0,
    "start_time": "2023-01-19T13:52:30.818Z"
   },
   {
    "duration": 0,
    "start_time": "2023-01-19T13:52:30.819Z"
   },
   {
    "duration": 0,
    "start_time": "2023-01-19T13:52:30.820Z"
   },
   {
    "duration": 0,
    "start_time": "2023-01-19T13:52:30.821Z"
   },
   {
    "duration": 0,
    "start_time": "2023-01-19T13:52:30.822Z"
   },
   {
    "duration": 0,
    "start_time": "2023-01-19T13:52:30.824Z"
   },
   {
    "duration": 0,
    "start_time": "2023-01-19T13:52:30.825Z"
   },
   {
    "duration": 0,
    "start_time": "2023-01-19T13:52:30.826Z"
   },
   {
    "duration": 0,
    "start_time": "2023-01-19T13:52:30.827Z"
   },
   {
    "duration": 0,
    "start_time": "2023-01-19T13:52:30.828Z"
   },
   {
    "duration": 0,
    "start_time": "2023-01-19T13:52:30.829Z"
   },
   {
    "duration": 0,
    "start_time": "2023-01-19T13:52:30.830Z"
   },
   {
    "duration": 0,
    "start_time": "2023-01-19T13:52:30.831Z"
   },
   {
    "duration": 0,
    "start_time": "2023-01-19T13:52:30.834Z"
   },
   {
    "duration": 0,
    "start_time": "2023-01-19T13:52:30.835Z"
   },
   {
    "duration": 0,
    "start_time": "2023-01-19T13:52:30.836Z"
   },
   {
    "duration": 0,
    "start_time": "2023-01-19T13:52:30.837Z"
   },
   {
    "duration": 0,
    "start_time": "2023-01-19T13:52:30.838Z"
   },
   {
    "duration": 0,
    "start_time": "2023-01-19T13:52:30.839Z"
   },
   {
    "duration": 0,
    "start_time": "2023-01-19T13:52:30.840Z"
   },
   {
    "duration": 0,
    "start_time": "2023-01-19T13:52:30.841Z"
   },
   {
    "duration": 0,
    "start_time": "2023-01-19T13:52:30.842Z"
   },
   {
    "duration": 0,
    "start_time": "2023-01-19T13:52:30.843Z"
   },
   {
    "duration": 0,
    "start_time": "2023-01-19T13:52:30.844Z"
   },
   {
    "duration": 0,
    "start_time": "2023-01-19T13:52:30.845Z"
   },
   {
    "duration": 0,
    "start_time": "2023-01-19T13:52:30.847Z"
   },
   {
    "duration": 0,
    "start_time": "2023-01-19T13:52:30.848Z"
   },
   {
    "duration": 1,
    "start_time": "2023-01-19T13:52:30.848Z"
   },
   {
    "duration": 0,
    "start_time": "2023-01-19T13:52:30.850Z"
   },
   {
    "duration": 0,
    "start_time": "2023-01-19T13:52:30.851Z"
   },
   {
    "duration": 0,
    "start_time": "2023-01-19T13:52:30.870Z"
   },
   {
    "duration": 0,
    "start_time": "2023-01-19T13:52:30.871Z"
   },
   {
    "duration": 0,
    "start_time": "2023-01-19T13:52:30.872Z"
   },
   {
    "duration": 0,
    "start_time": "2023-01-19T13:52:30.872Z"
   },
   {
    "duration": 0,
    "start_time": "2023-01-19T13:52:30.873Z"
   },
   {
    "duration": 0,
    "start_time": "2023-01-19T13:52:30.873Z"
   },
   {
    "duration": 0,
    "start_time": "2023-01-19T13:52:30.874Z"
   },
   {
    "duration": 0,
    "start_time": "2023-01-19T13:52:30.876Z"
   },
   {
    "duration": 0,
    "start_time": "2023-01-19T13:52:30.877Z"
   },
   {
    "duration": 0,
    "start_time": "2023-01-19T13:52:30.878Z"
   },
   {
    "duration": 0,
    "start_time": "2023-01-19T13:52:30.878Z"
   },
   {
    "duration": 0,
    "start_time": "2023-01-19T13:52:30.879Z"
   },
   {
    "duration": 0,
    "start_time": "2023-01-19T13:52:30.880Z"
   },
   {
    "duration": 0,
    "start_time": "2023-01-19T13:52:30.880Z"
   },
   {
    "duration": 0,
    "start_time": "2023-01-19T13:52:30.881Z"
   },
   {
    "duration": 0,
    "start_time": "2023-01-19T13:52:30.882Z"
   },
   {
    "duration": 0,
    "start_time": "2023-01-19T13:52:30.882Z"
   },
   {
    "duration": 0,
    "start_time": "2023-01-19T13:52:30.883Z"
   },
   {
    "duration": 0,
    "start_time": "2023-01-19T13:52:30.884Z"
   },
   {
    "duration": 0,
    "start_time": "2023-01-19T13:52:30.884Z"
   },
   {
    "duration": 0,
    "start_time": "2023-01-19T13:52:30.885Z"
   },
   {
    "duration": 0,
    "start_time": "2023-01-19T13:52:30.885Z"
   },
   {
    "duration": 0,
    "start_time": "2023-01-19T13:52:30.886Z"
   },
   {
    "duration": 0,
    "start_time": "2023-01-19T13:52:30.887Z"
   },
   {
    "duration": 0,
    "start_time": "2023-01-19T13:52:30.887Z"
   },
   {
    "duration": 0,
    "start_time": "2023-01-19T13:52:30.888Z"
   },
   {
    "duration": 0,
    "start_time": "2023-01-19T13:52:30.889Z"
   },
   {
    "duration": 0,
    "start_time": "2023-01-19T13:52:30.889Z"
   },
   {
    "duration": 0,
    "start_time": "2023-01-19T13:52:30.890Z"
   },
   {
    "duration": 0,
    "start_time": "2023-01-19T13:52:30.895Z"
   },
   {
    "duration": 0,
    "start_time": "2023-01-19T13:52:30.896Z"
   },
   {
    "duration": 0,
    "start_time": "2023-01-19T13:52:30.896Z"
   },
   {
    "duration": 0,
    "start_time": "2023-01-19T13:52:30.898Z"
   },
   {
    "duration": 0,
    "start_time": "2023-01-19T13:52:30.900Z"
   },
   {
    "duration": 0,
    "start_time": "2023-01-19T13:52:30.901Z"
   },
   {
    "duration": 0,
    "start_time": "2023-01-19T13:52:30.903Z"
   },
   {
    "duration": 0,
    "start_time": "2023-01-19T13:52:30.904Z"
   },
   {
    "duration": 0,
    "start_time": "2023-01-19T13:52:30.905Z"
   },
   {
    "duration": 6,
    "start_time": "2023-01-19T13:53:19.009Z"
   },
   {
    "duration": 77,
    "start_time": "2023-01-19T13:53:22.249Z"
   },
   {
    "duration": 13,
    "start_time": "2023-01-19T13:53:22.328Z"
   },
   {
    "duration": 3,
    "start_time": "2023-01-19T13:53:22.342Z"
   },
   {
    "duration": 39,
    "start_time": "2023-01-19T13:53:22.346Z"
   },
   {
    "duration": 18,
    "start_time": "2023-01-19T13:53:22.389Z"
   },
   {
    "duration": 10,
    "start_time": "2023-01-19T13:53:22.409Z"
   },
   {
    "duration": 9,
    "start_time": "2023-01-19T13:53:22.420Z"
   },
   {
    "duration": 7,
    "start_time": "2023-01-19T13:53:22.431Z"
   },
   {
    "duration": 47,
    "start_time": "2023-01-19T13:53:22.440Z"
   },
   {
    "duration": 19,
    "start_time": "2023-01-19T13:53:22.492Z"
   },
   {
    "duration": 8,
    "start_time": "2023-01-19T13:53:22.512Z"
   },
   {
    "duration": 132,
    "start_time": "2023-01-19T13:53:22.521Z"
   },
   {
    "duration": 5,
    "start_time": "2023-01-19T13:53:22.654Z"
   },
   {
    "duration": 31,
    "start_time": "2023-01-19T13:53:22.666Z"
   },
   {
    "duration": 8,
    "start_time": "2023-01-19T13:53:22.699Z"
   },
   {
    "duration": 3,
    "start_time": "2023-01-19T13:53:22.709Z"
   },
   {
    "duration": 6,
    "start_time": "2023-01-19T13:53:22.714Z"
   },
   {
    "duration": 8,
    "start_time": "2023-01-19T13:53:22.721Z"
   },
   {
    "duration": 16,
    "start_time": "2023-01-19T13:53:22.730Z"
   },
   {
    "duration": 37,
    "start_time": "2023-01-19T13:53:22.747Z"
   },
   {
    "duration": 19,
    "start_time": "2023-01-19T13:53:22.785Z"
   },
   {
    "duration": 9,
    "start_time": "2023-01-19T13:53:22.806Z"
   },
   {
    "duration": 11,
    "start_time": "2023-01-19T13:53:22.817Z"
   },
   {
    "duration": 7,
    "start_time": "2023-01-19T13:53:22.830Z"
   },
   {
    "duration": 23,
    "start_time": "2023-01-19T13:53:22.838Z"
   },
   {
    "duration": 8,
    "start_time": "2023-01-19T13:53:22.862Z"
   },
   {
    "duration": 47,
    "start_time": "2023-01-19T13:53:22.871Z"
   },
   {
    "duration": 8,
    "start_time": "2023-01-19T13:53:22.919Z"
   },
   {
    "duration": 15,
    "start_time": "2023-01-19T13:53:22.928Z"
   },
   {
    "duration": 49,
    "start_time": "2023-01-19T13:53:22.945Z"
   },
   {
    "duration": 6,
    "start_time": "2023-01-19T13:53:22.999Z"
   },
   {
    "duration": 22,
    "start_time": "2023-01-19T13:53:23.007Z"
   },
   {
    "duration": 17,
    "start_time": "2023-01-19T13:53:23.030Z"
   },
   {
    "duration": 52,
    "start_time": "2023-01-19T13:53:23.049Z"
   },
   {
    "duration": 8,
    "start_time": "2023-01-19T13:53:23.103Z"
   },
   {
    "duration": 22,
    "start_time": "2023-01-19T13:53:23.112Z"
   },
   {
    "duration": 23,
    "start_time": "2023-01-19T13:53:23.136Z"
   },
   {
    "duration": 51,
    "start_time": "2023-01-19T13:53:23.161Z"
   },
   {
    "duration": 206,
    "start_time": "2023-01-19T13:53:23.214Z"
   },
   {
    "duration": 7,
    "start_time": "2023-01-19T13:53:23.422Z"
   },
   {
    "duration": 171,
    "start_time": "2023-01-19T13:53:23.434Z"
   },
   {
    "duration": 6,
    "start_time": "2023-01-19T13:53:23.607Z"
   },
   {
    "duration": 7,
    "start_time": "2023-01-19T13:53:23.615Z"
   },
   {
    "duration": 176,
    "start_time": "2023-01-19T13:53:23.624Z"
   },
   {
    "duration": 8,
    "start_time": "2023-01-19T13:53:23.802Z"
   },
   {
    "duration": 187,
    "start_time": "2023-01-19T13:53:23.812Z"
   },
   {
    "duration": 4,
    "start_time": "2023-01-19T13:53:24.001Z"
   },
   {
    "duration": 153,
    "start_time": "2023-01-19T13:53:24.007Z"
   },
   {
    "duration": 19,
    "start_time": "2023-01-19T13:53:24.161Z"
   },
   {
    "duration": 146,
    "start_time": "2023-01-19T13:53:24.191Z"
   },
   {
    "duration": 5,
    "start_time": "2023-01-19T13:53:24.339Z"
   },
   {
    "duration": 178,
    "start_time": "2023-01-19T13:53:24.346Z"
   },
   {
    "duration": 6,
    "start_time": "2023-01-19T13:53:24.527Z"
   },
   {
    "duration": 165,
    "start_time": "2023-01-19T13:53:24.535Z"
   },
   {
    "duration": 4,
    "start_time": "2023-01-19T13:53:24.701Z"
   },
   {
    "duration": 177,
    "start_time": "2023-01-19T13:53:24.707Z"
   },
   {
    "duration": 9,
    "start_time": "2023-01-19T13:53:24.900Z"
   },
   {
    "duration": 180,
    "start_time": "2023-01-19T13:53:24.911Z"
   },
   {
    "duration": 5,
    "start_time": "2023-01-19T13:53:25.099Z"
   },
   {
    "duration": 184,
    "start_time": "2023-01-19T13:53:25.107Z"
   },
   {
    "duration": 5,
    "start_time": "2023-01-19T13:53:25.295Z"
   },
   {
    "duration": 14,
    "start_time": "2023-01-19T13:53:25.302Z"
   },
   {
    "duration": 12,
    "start_time": "2023-01-19T13:53:25.317Z"
   },
   {
    "duration": 154,
    "start_time": "2023-01-19T13:53:25.330Z"
   },
   {
    "duration": 16,
    "start_time": "2023-01-19T13:53:25.487Z"
   },
   {
    "duration": 142,
    "start_time": "2023-01-19T13:53:25.505Z"
   },
   {
    "duration": 27,
    "start_time": "2023-01-19T13:53:25.649Z"
   },
   {
    "duration": 135,
    "start_time": "2023-01-19T13:53:25.680Z"
   },
   {
    "duration": 13,
    "start_time": "2023-01-19T13:53:25.816Z"
   },
   {
    "duration": 167,
    "start_time": "2023-01-19T13:53:25.831Z"
   },
   {
    "duration": 15,
    "start_time": "2023-01-19T13:53:25.999Z"
   },
   {
    "duration": 161,
    "start_time": "2023-01-19T13:53:26.016Z"
   },
   {
    "duration": 19,
    "start_time": "2023-01-19T13:53:26.179Z"
   },
   {
    "duration": 329,
    "start_time": "2023-01-19T13:53:26.200Z"
   },
   {
    "duration": 13,
    "start_time": "2023-01-19T13:53:26.531Z"
   },
   {
    "duration": 153,
    "start_time": "2023-01-19T13:53:26.546Z"
   },
   {
    "duration": 15,
    "start_time": "2023-01-19T13:53:26.702Z"
   },
   {
    "duration": 187,
    "start_time": "2023-01-19T13:53:26.718Z"
   },
   {
    "duration": 20,
    "start_time": "2023-01-19T13:53:26.907Z"
   },
   {
    "duration": 7,
    "start_time": "2023-01-19T13:53:26.928Z"
   },
   {
    "duration": 163,
    "start_time": "2023-01-19T13:53:26.936Z"
   },
   {
    "duration": 158,
    "start_time": "2023-01-19T13:53:27.102Z"
   },
   {
    "duration": 150,
    "start_time": "2023-01-19T13:53:27.261Z"
   },
   {
    "duration": 177,
    "start_time": "2023-01-19T13:53:27.413Z"
   },
   {
    "duration": 20,
    "start_time": "2023-01-19T13:53:27.592Z"
   },
   {
    "duration": 7,
    "start_time": "2023-01-19T13:53:27.614Z"
   },
   {
    "duration": 14,
    "start_time": "2023-01-19T13:53:27.623Z"
   },
   {
    "duration": 4,
    "start_time": "2023-01-19T13:57:26.912Z"
   },
   {
    "duration": 7,
    "start_time": "2023-01-19T13:57:50.436Z"
   },
   {
    "duration": 5,
    "start_time": "2023-01-19T14:00:49.194Z"
   },
   {
    "duration": 22,
    "start_time": "2023-01-19T14:00:51.343Z"
   },
   {
    "duration": 71,
    "start_time": "2023-01-19T14:05:19.495Z"
   },
   {
    "duration": 25,
    "start_time": "2023-01-19T14:05:19.570Z"
   },
   {
    "duration": 16,
    "start_time": "2023-01-19T14:05:19.601Z"
   },
   {
    "duration": 28,
    "start_time": "2023-01-19T14:05:19.619Z"
   },
   {
    "duration": 32,
    "start_time": "2023-01-19T14:05:19.650Z"
   },
   {
    "duration": 22,
    "start_time": "2023-01-19T14:05:19.684Z"
   },
   {
    "duration": 12,
    "start_time": "2023-01-19T14:05:19.708Z"
   },
   {
    "duration": 11,
    "start_time": "2023-01-19T14:05:19.722Z"
   },
   {
    "duration": 6,
    "start_time": "2023-01-19T14:05:19.734Z"
   },
   {
    "duration": 12,
    "start_time": "2023-01-19T14:05:19.742Z"
   },
   {
    "duration": 17,
    "start_time": "2023-01-19T14:05:19.756Z"
   },
   {
    "duration": 148,
    "start_time": "2023-01-19T14:05:19.777Z"
   },
   {
    "duration": 5,
    "start_time": "2023-01-19T14:05:19.927Z"
   },
   {
    "duration": 21,
    "start_time": "2023-01-19T14:05:19.935Z"
   },
   {
    "duration": 29,
    "start_time": "2023-01-19T14:05:19.958Z"
   },
   {
    "duration": 14,
    "start_time": "2023-01-19T14:05:19.989Z"
   },
   {
    "duration": 8,
    "start_time": "2023-01-19T14:05:20.005Z"
   },
   {
    "duration": 11,
    "start_time": "2023-01-19T14:05:20.015Z"
   },
   {
    "duration": 21,
    "start_time": "2023-01-19T14:05:20.027Z"
   },
   {
    "duration": 7,
    "start_time": "2023-01-19T14:05:20.049Z"
   },
   {
    "duration": 37,
    "start_time": "2023-01-19T14:05:20.058Z"
   },
   {
    "duration": 33,
    "start_time": "2023-01-19T14:05:20.096Z"
   },
   {
    "duration": 7,
    "start_time": "2023-01-19T14:05:20.130Z"
   },
   {
    "duration": 17,
    "start_time": "2023-01-19T14:05:20.138Z"
   },
   {
    "duration": 44,
    "start_time": "2023-01-19T14:05:20.157Z"
   },
   {
    "duration": 6,
    "start_time": "2023-01-19T14:05:20.203Z"
   },
   {
    "duration": 27,
    "start_time": "2023-01-19T14:05:20.210Z"
   },
   {
    "duration": 44,
    "start_time": "2023-01-19T14:05:20.240Z"
   },
   {
    "duration": 36,
    "start_time": "2023-01-19T14:05:20.292Z"
   },
   {
    "duration": 9,
    "start_time": "2023-01-19T14:05:20.329Z"
   },
   {
    "duration": 50,
    "start_time": "2023-01-19T14:05:20.340Z"
   },
   {
    "duration": 17,
    "start_time": "2023-01-19T14:05:20.393Z"
   },
   {
    "duration": 24,
    "start_time": "2023-01-19T14:05:20.412Z"
   },
   {
    "duration": 240,
    "start_time": "2023-01-19T14:05:20.438Z"
   },
   {
    "duration": 11,
    "start_time": "2023-01-19T14:05:20.684Z"
   },
   {
    "duration": 197,
    "start_time": "2023-01-19T14:05:20.697Z"
   },
   {
    "duration": 6,
    "start_time": "2023-01-19T14:05:20.896Z"
   },
   {
    "duration": 26,
    "start_time": "2023-01-19T14:05:20.904Z"
   },
   {
    "duration": 190,
    "start_time": "2023-01-19T14:05:20.933Z"
   },
   {
    "duration": 7,
    "start_time": "2023-01-19T14:05:21.125Z"
   },
   {
    "duration": 207,
    "start_time": "2023-01-19T14:05:21.136Z"
   },
   {
    "duration": 5,
    "start_time": "2023-01-19T14:05:21.345Z"
   },
   {
    "duration": 181,
    "start_time": "2023-01-19T14:05:21.351Z"
   },
   {
    "duration": 7,
    "start_time": "2023-01-19T14:05:21.534Z"
   },
   {
    "duration": 169,
    "start_time": "2023-01-19T14:05:21.542Z"
   },
   {
    "duration": 5,
    "start_time": "2023-01-19T14:05:21.713Z"
   },
   {
    "duration": 176,
    "start_time": "2023-01-19T14:05:21.720Z"
   },
   {
    "duration": 6,
    "start_time": "2023-01-19T14:05:21.898Z"
   },
   {
    "duration": 159,
    "start_time": "2023-01-19T14:05:21.905Z"
   },
   {
    "duration": 7,
    "start_time": "2023-01-19T14:05:22.065Z"
   },
   {
    "duration": 163,
    "start_time": "2023-01-19T14:05:22.073Z"
   },
   {
    "duration": 6,
    "start_time": "2023-01-19T14:05:22.238Z"
   },
   {
    "duration": 168,
    "start_time": "2023-01-19T14:05:22.245Z"
   },
   {
    "duration": 4,
    "start_time": "2023-01-19T14:05:22.415Z"
   },
   {
    "duration": 173,
    "start_time": "2023-01-19T14:05:22.421Z"
   },
   {
    "duration": 8,
    "start_time": "2023-01-19T14:05:22.597Z"
   },
   {
    "duration": 15,
    "start_time": "2023-01-19T14:05:22.606Z"
   },
   {
    "duration": 12,
    "start_time": "2023-01-19T14:05:22.622Z"
   },
   {
    "duration": 158,
    "start_time": "2023-01-19T14:05:22.635Z"
   },
   {
    "duration": 15,
    "start_time": "2023-01-19T14:05:22.795Z"
   },
   {
    "duration": 142,
    "start_time": "2023-01-19T14:05:22.812Z"
   },
   {
    "duration": 30,
    "start_time": "2023-01-19T14:05:22.956Z"
   },
   {
    "duration": 137,
    "start_time": "2023-01-19T14:05:22.987Z"
   },
   {
    "duration": 13,
    "start_time": "2023-01-19T14:05:23.126Z"
   },
   {
    "duration": 167,
    "start_time": "2023-01-19T14:05:23.141Z"
   },
   {
    "duration": 12,
    "start_time": "2023-01-19T14:05:23.310Z"
   },
   {
    "duration": 164,
    "start_time": "2023-01-19T14:05:23.324Z"
   },
   {
    "duration": 17,
    "start_time": "2023-01-19T14:05:23.490Z"
   },
   {
    "duration": 153,
    "start_time": "2023-01-19T14:05:23.509Z"
   },
   {
    "duration": 26,
    "start_time": "2023-01-19T14:05:23.664Z"
   },
   {
    "duration": 154,
    "start_time": "2023-01-19T14:05:23.695Z"
   },
   {
    "duration": 24,
    "start_time": "2023-01-19T14:05:23.852Z"
   },
   {
    "duration": 155,
    "start_time": "2023-01-19T14:05:23.878Z"
   },
   {
    "duration": 37,
    "start_time": "2023-01-19T14:05:24.035Z"
   },
   {
    "duration": 27,
    "start_time": "2023-01-19T14:05:24.073Z"
   },
   {
    "duration": 135,
    "start_time": "2023-01-19T14:05:24.102Z"
   },
   {
    "duration": 158,
    "start_time": "2023-01-19T14:05:24.239Z"
   },
   {
    "duration": 182,
    "start_time": "2023-01-19T14:05:24.398Z"
   },
   {
    "duration": 162,
    "start_time": "2023-01-19T14:05:24.582Z"
   },
   {
    "duration": 45,
    "start_time": "2023-01-19T14:05:24.745Z"
   },
   {
    "duration": 12,
    "start_time": "2023-01-19T14:05:24.793Z"
   },
   {
    "duration": 27,
    "start_time": "2023-01-19T14:05:24.807Z"
   },
   {
    "duration": 4,
    "start_time": "2023-01-19T14:06:57.444Z"
   },
   {
    "duration": 12,
    "start_time": "2023-01-19T14:06:58.108Z"
   },
   {
    "duration": 53,
    "start_time": "2023-01-20T08:41:38.666Z"
   },
   {
    "duration": 1591,
    "start_time": "2023-01-20T08:41:43.665Z"
   },
   {
    "duration": 16,
    "start_time": "2023-01-20T08:41:45.258Z"
   },
   {
    "duration": 3,
    "start_time": "2023-01-20T08:41:45.276Z"
   },
   {
    "duration": 24,
    "start_time": "2023-01-20T08:41:45.281Z"
   },
   {
    "duration": 16,
    "start_time": "2023-01-20T08:41:45.307Z"
   },
   {
    "duration": 14,
    "start_time": "2023-01-20T08:41:45.326Z"
   },
   {
    "duration": 32,
    "start_time": "2023-01-20T08:41:45.341Z"
   },
   {
    "duration": 8,
    "start_time": "2023-01-20T08:41:45.375Z"
   },
   {
    "duration": 9,
    "start_time": "2023-01-20T08:41:45.385Z"
   },
   {
    "duration": 9,
    "start_time": "2023-01-20T08:41:45.397Z"
   },
   {
    "duration": 8,
    "start_time": "2023-01-20T08:41:45.408Z"
   },
   {
    "duration": 160,
    "start_time": "2023-01-20T08:41:45.417Z"
   },
   {
    "duration": 5,
    "start_time": "2023-01-20T08:41:45.579Z"
   },
   {
    "duration": 23,
    "start_time": "2023-01-20T08:41:45.586Z"
   },
   {
    "duration": 5,
    "start_time": "2023-01-20T08:41:45.611Z"
   },
   {
    "duration": 6,
    "start_time": "2023-01-20T08:41:45.618Z"
   },
   {
    "duration": 8,
    "start_time": "2023-01-20T08:41:45.626Z"
   },
   {
    "duration": 32,
    "start_time": "2023-01-20T08:41:45.637Z"
   },
   {
    "duration": 20,
    "start_time": "2023-01-20T08:41:45.672Z"
   },
   {
    "duration": 9,
    "start_time": "2023-01-20T08:41:45.695Z"
   },
   {
    "duration": 7,
    "start_time": "2023-01-20T08:41:45.706Z"
   },
   {
    "duration": 25,
    "start_time": "2023-01-20T08:41:45.715Z"
   },
   {
    "duration": 29,
    "start_time": "2023-01-20T08:41:45.742Z"
   },
   {
    "duration": 24,
    "start_time": "2023-01-20T08:41:45.773Z"
   },
   {
    "duration": 35,
    "start_time": "2023-01-20T08:41:45.799Z"
   },
   {
    "duration": 4,
    "start_time": "2023-01-20T08:41:45.836Z"
   },
   {
    "duration": 46,
    "start_time": "2023-01-20T08:41:45.842Z"
   },
   {
    "duration": 14,
    "start_time": "2023-01-20T08:41:45.892Z"
   },
   {
    "duration": 32,
    "start_time": "2023-01-20T08:41:45.908Z"
   },
   {
    "duration": 32,
    "start_time": "2023-01-20T08:41:45.941Z"
   },
   {
    "duration": 22,
    "start_time": "2023-01-20T08:41:45.974Z"
   },
   {
    "duration": 13,
    "start_time": "2023-01-20T08:41:45.998Z"
   },
   {
    "duration": 248,
    "start_time": "2023-01-20T08:41:46.013Z"
   },
   {
    "duration": 8,
    "start_time": "2023-01-20T08:41:46.266Z"
   },
   {
    "duration": 171,
    "start_time": "2023-01-20T08:41:46.276Z"
   },
   {
    "duration": 6,
    "start_time": "2023-01-20T08:41:46.449Z"
   },
   {
    "duration": 5,
    "start_time": "2023-01-20T08:41:46.467Z"
   },
   {
    "duration": 150,
    "start_time": "2023-01-20T08:41:46.473Z"
   },
   {
    "duration": 6,
    "start_time": "2023-01-20T08:41:46.624Z"
   },
   {
    "duration": 170,
    "start_time": "2023-01-20T08:41:46.632Z"
   },
   {
    "duration": 6,
    "start_time": "2023-01-20T08:41:46.804Z"
   },
   {
    "duration": 177,
    "start_time": "2023-01-20T08:41:46.812Z"
   },
   {
    "duration": 6,
    "start_time": "2023-01-20T08:41:46.991Z"
   },
   {
    "duration": 160,
    "start_time": "2023-01-20T08:41:46.999Z"
   },
   {
    "duration": 8,
    "start_time": "2023-01-20T08:41:47.161Z"
   },
   {
    "duration": 202,
    "start_time": "2023-01-20T08:41:47.171Z"
   },
   {
    "duration": 7,
    "start_time": "2023-01-20T08:41:47.375Z"
   },
   {
    "duration": 165,
    "start_time": "2023-01-20T08:41:47.384Z"
   },
   {
    "duration": 5,
    "start_time": "2023-01-20T08:41:47.551Z"
   },
   {
    "duration": 166,
    "start_time": "2023-01-20T08:41:47.558Z"
   },
   {
    "duration": 6,
    "start_time": "2023-01-20T08:41:47.726Z"
   },
   {
    "duration": 167,
    "start_time": "2023-01-20T08:41:47.734Z"
   },
   {
    "duration": 5,
    "start_time": "2023-01-20T08:41:47.902Z"
   },
   {
    "duration": 161,
    "start_time": "2023-01-20T08:41:47.908Z"
   },
   {
    "duration": 7,
    "start_time": "2023-01-20T08:41:48.071Z"
   },
   {
    "duration": 30,
    "start_time": "2023-01-20T08:41:48.079Z"
   },
   {
    "duration": 13,
    "start_time": "2023-01-20T08:41:48.111Z"
   },
   {
    "duration": 146,
    "start_time": "2023-01-20T08:41:48.125Z"
   },
   {
    "duration": 14,
    "start_time": "2023-01-20T08:41:48.272Z"
   },
   {
    "duration": 136,
    "start_time": "2023-01-20T08:41:48.287Z"
   },
   {
    "duration": 14,
    "start_time": "2023-01-20T08:41:48.425Z"
   },
   {
    "duration": 132,
    "start_time": "2023-01-20T08:41:48.440Z"
   },
   {
    "duration": 14,
    "start_time": "2023-01-20T08:41:48.574Z"
   },
   {
    "duration": 151,
    "start_time": "2023-01-20T08:41:48.590Z"
   },
   {
    "duration": 25,
    "start_time": "2023-01-20T08:41:48.743Z"
   },
   {
    "duration": 142,
    "start_time": "2023-01-20T08:41:48.770Z"
   },
   {
    "duration": 14,
    "start_time": "2023-01-20T08:41:48.914Z"
   },
   {
    "duration": 154,
    "start_time": "2023-01-20T08:41:48.930Z"
   },
   {
    "duration": 14,
    "start_time": "2023-01-20T08:41:49.086Z"
   },
   {
    "duration": 153,
    "start_time": "2023-01-20T08:41:49.102Z"
   },
   {
    "duration": 23,
    "start_time": "2023-01-20T08:41:49.257Z"
   },
   {
    "duration": 166,
    "start_time": "2023-01-20T08:41:49.282Z"
   },
   {
    "duration": 27,
    "start_time": "2023-01-20T08:41:49.449Z"
   },
   {
    "duration": 5,
    "start_time": "2023-01-20T08:41:49.477Z"
   },
   {
    "duration": 151,
    "start_time": "2023-01-20T08:41:49.484Z"
   },
   {
    "duration": 221,
    "start_time": "2023-01-20T08:41:49.636Z"
   },
   {
    "duration": 151,
    "start_time": "2023-01-20T08:41:49.866Z"
   },
   {
    "duration": 168,
    "start_time": "2023-01-20T08:41:50.018Z"
   },
   {
    "duration": 22,
    "start_time": "2023-01-20T08:41:50.189Z"
   },
   {
    "duration": 9,
    "start_time": "2023-01-20T08:41:50.213Z"
   },
   {
    "duration": 17,
    "start_time": "2023-01-20T08:41:50.224Z"
   },
   {
    "duration": 224,
    "start_time": "2023-01-20T08:42:12.067Z"
   },
   {
    "duration": 194,
    "start_time": "2023-01-20T08:42:20.684Z"
   },
   {
    "duration": 207,
    "start_time": "2023-01-20T08:45:57.867Z"
   },
   {
    "duration": 192,
    "start_time": "2023-01-20T08:46:28.899Z"
   },
   {
    "duration": 224,
    "start_time": "2023-01-20T08:46:46.747Z"
   },
   {
    "duration": 174,
    "start_time": "2023-01-20T08:46:59.354Z"
   },
   {
    "duration": 204,
    "start_time": "2023-01-20T08:47:02.954Z"
   },
   {
    "duration": 172,
    "start_time": "2023-01-20T08:52:58.723Z"
   },
   {
    "duration": 282,
    "start_time": "2023-01-20T08:53:03.700Z"
   },
   {
    "duration": 192,
    "start_time": "2023-01-20T08:53:07.610Z"
   },
   {
    "duration": 200,
    "start_time": "2023-01-20T08:53:16.786Z"
   },
   {
    "duration": 70,
    "start_time": "2023-01-20T08:53:34.044Z"
   },
   {
    "duration": 149,
    "start_time": "2023-01-20T08:53:38.546Z"
   },
   {
    "duration": 213,
    "start_time": "2023-01-20T08:53:42.477Z"
   },
   {
    "duration": 144,
    "start_time": "2023-01-20T08:54:43.466Z"
   },
   {
    "duration": 186,
    "start_time": "2023-01-20T08:54:49.196Z"
   },
   {
    "duration": 12,
    "start_time": "2023-01-20T08:59:09.698Z"
   },
   {
    "duration": 235,
    "start_time": "2023-01-20T08:59:20.682Z"
   },
   {
    "duration": 18,
    "start_time": "2023-01-20T09:01:01.117Z"
   },
   {
    "duration": 20,
    "start_time": "2023-01-20T09:01:22.681Z"
   },
   {
    "duration": 236,
    "start_time": "2023-01-20T09:01:26.825Z"
   },
   {
    "duration": 40,
    "start_time": "2023-01-20T09:04:49.042Z"
   },
   {
    "duration": 16,
    "start_time": "2023-01-20T09:05:13.294Z"
   },
   {
    "duration": 289,
    "start_time": "2023-01-20T09:12:17.097Z"
   },
   {
    "duration": 274,
    "start_time": "2023-01-20T09:12:28.080Z"
   },
   {
    "duration": 364,
    "start_time": "2023-01-20T09:14:08.354Z"
   },
   {
    "duration": 202,
    "start_time": "2023-01-20T09:14:17.319Z"
   },
   {
    "duration": 373,
    "start_time": "2023-01-20T09:14:23.440Z"
   },
   {
    "duration": 3,
    "start_time": "2023-01-20T09:23:45.838Z"
   },
   {
    "duration": 4,
    "start_time": "2023-01-20T09:23:48.102Z"
   },
   {
    "duration": 80,
    "start_time": "2023-01-20T09:32:04.761Z"
   },
   {
    "duration": 32,
    "start_time": "2023-01-20T09:32:04.844Z"
   },
   {
    "duration": 4,
    "start_time": "2023-01-20T09:32:04.878Z"
   },
   {
    "duration": 33,
    "start_time": "2023-01-20T09:32:04.884Z"
   },
   {
    "duration": 24,
    "start_time": "2023-01-20T09:32:04.921Z"
   },
   {
    "duration": 32,
    "start_time": "2023-01-20T09:32:04.947Z"
   },
   {
    "duration": 7,
    "start_time": "2023-01-20T09:32:04.982Z"
   },
   {
    "duration": 10,
    "start_time": "2023-01-20T09:32:04.991Z"
   },
   {
    "duration": 14,
    "start_time": "2023-01-20T09:32:05.004Z"
   },
   {
    "duration": 54,
    "start_time": "2023-01-20T09:32:05.019Z"
   },
   {
    "duration": 13,
    "start_time": "2023-01-20T09:32:05.076Z"
   },
   {
    "duration": 180,
    "start_time": "2023-01-20T09:32:05.091Z"
   },
   {
    "duration": 6,
    "start_time": "2023-01-20T09:32:05.272Z"
   },
   {
    "duration": 30,
    "start_time": "2023-01-20T09:32:05.280Z"
   },
   {
    "duration": 7,
    "start_time": "2023-01-20T09:32:05.311Z"
   },
   {
    "duration": 8,
    "start_time": "2023-01-20T09:32:05.320Z"
   },
   {
    "duration": 14,
    "start_time": "2023-01-20T09:32:05.329Z"
   },
   {
    "duration": 13,
    "start_time": "2023-01-20T09:32:05.344Z"
   },
   {
    "duration": 22,
    "start_time": "2023-01-20T09:32:05.359Z"
   },
   {
    "duration": 11,
    "start_time": "2023-01-20T09:32:05.383Z"
   },
   {
    "duration": 39,
    "start_time": "2023-01-20T09:32:05.396Z"
   },
   {
    "duration": 28,
    "start_time": "2023-01-20T09:32:05.437Z"
   },
   {
    "duration": 9,
    "start_time": "2023-01-20T09:32:05.468Z"
   },
   {
    "duration": 25,
    "start_time": "2023-01-20T09:32:05.479Z"
   },
   {
    "duration": 36,
    "start_time": "2023-01-20T09:32:05.506Z"
   },
   {
    "duration": 24,
    "start_time": "2023-01-20T09:32:05.543Z"
   },
   {
    "duration": 21,
    "start_time": "2023-01-20T09:32:05.569Z"
   },
   {
    "duration": 19,
    "start_time": "2023-01-20T09:32:05.592Z"
   },
   {
    "duration": 57,
    "start_time": "2023-01-20T09:32:05.612Z"
   },
   {
    "duration": 9,
    "start_time": "2023-01-20T09:32:05.670Z"
   },
   {
    "duration": 38,
    "start_time": "2023-01-20T09:32:05.680Z"
   },
   {
    "duration": 16,
    "start_time": "2023-01-20T09:32:05.720Z"
   },
   {
    "duration": 275,
    "start_time": "2023-01-20T09:32:05.738Z"
   },
   {
    "duration": 6,
    "start_time": "2023-01-20T09:32:06.015Z"
   },
   {
    "duration": 223,
    "start_time": "2023-01-20T09:32:06.023Z"
   },
   {
    "duration": 5,
    "start_time": "2023-01-20T09:32:06.248Z"
   },
   {
    "duration": 177,
    "start_time": "2023-01-20T09:32:06.254Z"
   },
   {
    "duration": 6,
    "start_time": "2023-01-20T09:32:06.433Z"
   },
   {
    "duration": 196,
    "start_time": "2023-01-20T09:32:06.441Z"
   },
   {
    "duration": 6,
    "start_time": "2023-01-20T09:32:06.638Z"
   },
   {
    "duration": 209,
    "start_time": "2023-01-20T09:32:06.649Z"
   },
   {
    "duration": 11,
    "start_time": "2023-01-20T09:32:06.860Z"
   },
   {
    "duration": 208,
    "start_time": "2023-01-20T09:32:06.872Z"
   },
   {
    "duration": 5,
    "start_time": "2023-01-20T09:32:07.082Z"
   },
   {
    "duration": 179,
    "start_time": "2023-01-20T09:32:07.090Z"
   },
   {
    "duration": 6,
    "start_time": "2023-01-20T09:32:07.271Z"
   },
   {
    "duration": 184,
    "start_time": "2023-01-20T09:32:07.279Z"
   },
   {
    "duration": 5,
    "start_time": "2023-01-20T09:32:07.465Z"
   },
   {
    "duration": 203,
    "start_time": "2023-01-20T09:32:07.472Z"
   },
   {
    "duration": 6,
    "start_time": "2023-01-20T09:32:07.676Z"
   },
   {
    "duration": 190,
    "start_time": "2023-01-20T09:32:07.683Z"
   },
   {
    "duration": 5,
    "start_time": "2023-01-20T09:32:07.875Z"
   },
   {
    "duration": 210,
    "start_time": "2023-01-20T09:32:07.882Z"
   },
   {
    "duration": 6,
    "start_time": "2023-01-20T09:32:08.094Z"
   },
   {
    "duration": 21,
    "start_time": "2023-01-20T09:32:08.102Z"
   },
   {
    "duration": 13,
    "start_time": "2023-01-20T09:32:08.124Z"
   },
   {
    "duration": 165,
    "start_time": "2023-01-20T09:32:08.139Z"
   },
   {
    "duration": 13,
    "start_time": "2023-01-20T09:32:08.305Z"
   },
   {
    "duration": 149,
    "start_time": "2023-01-20T09:32:08.320Z"
   },
   {
    "duration": 13,
    "start_time": "2023-01-20T09:32:08.471Z"
   },
   {
    "duration": 133,
    "start_time": "2023-01-20T09:32:08.486Z"
   },
   {
    "duration": 14,
    "start_time": "2023-01-20T09:32:08.620Z"
   },
   {
    "duration": 148,
    "start_time": "2023-01-20T09:32:08.636Z"
   },
   {
    "duration": 14,
    "start_time": "2023-01-20T09:32:08.785Z"
   },
   {
    "duration": 149,
    "start_time": "2023-01-20T09:32:08.801Z"
   },
   {
    "duration": 23,
    "start_time": "2023-01-20T09:32:08.952Z"
   },
   {
    "duration": 131,
    "start_time": "2023-01-20T09:32:08.977Z"
   },
   {
    "duration": 13,
    "start_time": "2023-01-20T09:32:09.109Z"
   },
   {
    "duration": 134,
    "start_time": "2023-01-20T09:32:09.123Z"
   },
   {
    "duration": 16,
    "start_time": "2023-01-20T09:32:09.259Z"
   },
   {
    "duration": 132,
    "start_time": "2023-01-20T09:32:09.277Z"
   },
   {
    "duration": 19,
    "start_time": "2023-01-20T09:32:09.411Z"
   },
   {
    "duration": 5,
    "start_time": "2023-01-20T09:32:09.431Z"
   },
   {
    "duration": 166,
    "start_time": "2023-01-20T09:32:09.438Z"
   },
   {
    "duration": 165,
    "start_time": "2023-01-20T09:32:09.606Z"
   },
   {
    "duration": 322,
    "start_time": "2023-01-20T09:32:09.772Z"
   },
   {
    "duration": 181,
    "start_time": "2023-01-20T09:32:10.096Z"
   },
   {
    "duration": 21,
    "start_time": "2023-01-20T09:32:10.279Z"
   },
   {
    "duration": 8,
    "start_time": "2023-01-20T09:32:10.302Z"
   },
   {
    "duration": 7,
    "start_time": "2023-01-20T09:32:10.311Z"
   },
   {
    "duration": 198,
    "start_time": "2023-01-20T09:33:18.257Z"
   },
   {
    "duration": 190,
    "start_time": "2023-01-20T09:33:42.661Z"
   },
   {
    "duration": 164,
    "start_time": "2023-01-20T09:35:09.717Z"
   },
   {
    "duration": 175,
    "start_time": "2023-01-20T09:35:22.821Z"
   },
   {
    "duration": 173,
    "start_time": "2023-01-20T09:35:30.157Z"
   },
   {
    "duration": 179,
    "start_time": "2023-01-20T09:35:33.998Z"
   },
   {
    "duration": 201,
    "start_time": "2023-01-20T09:36:16.460Z"
   },
   {
    "duration": 53,
    "start_time": "2023-01-20T09:39:54.637Z"
   },
   {
    "duration": 62,
    "start_time": "2023-01-20T10:15:54.122Z"
   },
   {
    "duration": 139,
    "start_time": "2023-01-20T10:16:31.722Z"
   },
   {
    "duration": 136,
    "start_time": "2023-01-20T10:21:01.417Z"
   },
   {
    "duration": 23,
    "start_time": "2023-01-20T10:36:05.991Z"
   },
   {
    "duration": 62,
    "start_time": "2023-01-20T10:38:10.551Z"
   },
   {
    "duration": 12,
    "start_time": "2023-01-20T10:38:10.615Z"
   },
   {
    "duration": 4,
    "start_time": "2023-01-20T10:38:10.628Z"
   },
   {
    "duration": 22,
    "start_time": "2023-01-20T10:38:10.634Z"
   },
   {
    "duration": 13,
    "start_time": "2023-01-20T10:38:10.668Z"
   },
   {
    "duration": 8,
    "start_time": "2023-01-20T10:38:10.683Z"
   },
   {
    "duration": 6,
    "start_time": "2023-01-20T10:38:10.692Z"
   },
   {
    "duration": 6,
    "start_time": "2023-01-20T10:38:10.700Z"
   },
   {
    "duration": 6,
    "start_time": "2023-01-20T10:38:10.707Z"
   },
   {
    "duration": 8,
    "start_time": "2023-01-20T10:38:10.716Z"
   },
   {
    "duration": 43,
    "start_time": "2023-01-20T10:38:10.725Z"
   },
   {
    "duration": 154,
    "start_time": "2023-01-20T10:38:10.770Z"
   },
   {
    "duration": 5,
    "start_time": "2023-01-20T10:38:10.925Z"
   },
   {
    "duration": 41,
    "start_time": "2023-01-20T10:38:10.932Z"
   },
   {
    "duration": 6,
    "start_time": "2023-01-20T10:38:10.975Z"
   },
   {
    "duration": 6,
    "start_time": "2023-01-20T10:38:10.982Z"
   },
   {
    "duration": 8,
    "start_time": "2023-01-20T10:38:10.989Z"
   },
   {
    "duration": 7,
    "start_time": "2023-01-20T10:38:10.999Z"
   },
   {
    "duration": 16,
    "start_time": "2023-01-20T10:38:11.007Z"
   },
   {
    "duration": 16,
    "start_time": "2023-01-20T10:38:11.024Z"
   },
   {
    "duration": 7,
    "start_time": "2023-01-20T10:38:11.042Z"
   },
   {
    "duration": 20,
    "start_time": "2023-01-20T10:38:11.067Z"
   },
   {
    "duration": 7,
    "start_time": "2023-01-20T10:38:11.089Z"
   },
   {
    "duration": 15,
    "start_time": "2023-01-20T10:38:11.098Z"
   },
   {
    "duration": 55,
    "start_time": "2023-01-20T10:38:11.114Z"
   },
   {
    "duration": 5,
    "start_time": "2023-01-20T10:38:11.170Z"
   },
   {
    "duration": 22,
    "start_time": "2023-01-20T10:38:11.176Z"
   },
   {
    "duration": 13,
    "start_time": "2023-01-20T10:38:11.201Z"
   },
   {
    "duration": 55,
    "start_time": "2023-01-20T10:38:11.215Z"
   },
   {
    "duration": 10,
    "start_time": "2023-01-20T10:38:11.271Z"
   },
   {
    "duration": 20,
    "start_time": "2023-01-20T10:38:11.283Z"
   },
   {
    "duration": 13,
    "start_time": "2023-01-20T10:38:11.305Z"
   },
   {
    "duration": 305,
    "start_time": "2023-01-20T10:38:11.320Z"
   },
   {
    "duration": 7,
    "start_time": "2023-01-20T10:38:11.627Z"
   },
   {
    "duration": 185,
    "start_time": "2023-01-20T10:38:11.636Z"
   },
   {
    "duration": 4,
    "start_time": "2023-01-20T10:38:11.823Z"
   },
   {
    "duration": 192,
    "start_time": "2023-01-20T10:38:11.829Z"
   },
   {
    "duration": 6,
    "start_time": "2023-01-20T10:38:12.023Z"
   },
   {
    "duration": 195,
    "start_time": "2023-01-20T10:38:12.030Z"
   },
   {
    "duration": 5,
    "start_time": "2023-01-20T10:38:12.227Z"
   },
   {
    "duration": 193,
    "start_time": "2023-01-20T10:38:12.234Z"
   },
   {
    "duration": 5,
    "start_time": "2023-01-20T10:38:12.429Z"
   },
   {
    "duration": 189,
    "start_time": "2023-01-20T10:38:12.436Z"
   },
   {
    "duration": 4,
    "start_time": "2023-01-20T10:38:12.627Z"
   },
   {
    "duration": 177,
    "start_time": "2023-01-20T10:38:12.632Z"
   },
   {
    "duration": 6,
    "start_time": "2023-01-20T10:38:12.811Z"
   },
   {
    "duration": 189,
    "start_time": "2023-01-20T10:38:12.819Z"
   },
   {
    "duration": 5,
    "start_time": "2023-01-20T10:38:13.010Z"
   },
   {
    "duration": 191,
    "start_time": "2023-01-20T10:38:13.017Z"
   },
   {
    "duration": 7,
    "start_time": "2023-01-20T10:38:13.210Z"
   },
   {
    "duration": 196,
    "start_time": "2023-01-20T10:38:13.219Z"
   },
   {
    "duration": 5,
    "start_time": "2023-01-20T10:38:13.417Z"
   },
   {
    "duration": 202,
    "start_time": "2023-01-20T10:38:13.423Z"
   },
   {
    "duration": 6,
    "start_time": "2023-01-20T10:38:13.627Z"
   },
   {
    "duration": 16,
    "start_time": "2023-01-20T10:38:13.634Z"
   },
   {
    "duration": 33,
    "start_time": "2023-01-20T10:38:13.652Z"
   },
   {
    "duration": 140,
    "start_time": "2023-01-20T10:38:13.687Z"
   },
   {
    "duration": 13,
    "start_time": "2023-01-20T10:38:13.829Z"
   },
   {
    "duration": 156,
    "start_time": "2023-01-20T10:38:13.843Z"
   },
   {
    "duration": 14,
    "start_time": "2023-01-20T10:38:14.001Z"
   },
   {
    "duration": 136,
    "start_time": "2023-01-20T10:38:14.016Z"
   },
   {
    "duration": 20,
    "start_time": "2023-01-20T10:38:14.154Z"
   },
   {
    "duration": 145,
    "start_time": "2023-01-20T10:38:14.176Z"
   },
   {
    "duration": 13,
    "start_time": "2023-01-20T10:38:14.323Z"
   },
   {
    "duration": 146,
    "start_time": "2023-01-20T10:38:14.338Z"
   },
   {
    "duration": 13,
    "start_time": "2023-01-20T10:38:14.486Z"
   },
   {
    "duration": 154,
    "start_time": "2023-01-20T10:38:14.500Z"
   },
   {
    "duration": 19,
    "start_time": "2023-01-20T10:38:14.656Z"
   },
   {
    "duration": 148,
    "start_time": "2023-01-20T10:38:14.676Z"
   },
   {
    "duration": 14,
    "start_time": "2023-01-20T10:38:14.826Z"
   },
   {
    "duration": 371,
    "start_time": "2023-01-20T10:38:14.842Z"
   },
   {
    "duration": 27,
    "start_time": "2023-01-20T10:38:15.215Z"
   },
   {
    "duration": 26,
    "start_time": "2023-01-20T10:38:15.244Z"
   },
   {
    "duration": 166,
    "start_time": "2023-01-20T10:38:15.272Z"
   },
   {
    "duration": 152,
    "start_time": "2023-01-20T10:38:15.440Z"
   },
   {
    "duration": 150,
    "start_time": "2023-01-20T10:38:15.593Z"
   },
   {
    "duration": 163,
    "start_time": "2023-01-20T10:38:15.744Z"
   },
   {
    "duration": 20,
    "start_time": "2023-01-20T10:38:15.908Z"
   },
   {
    "duration": 10,
    "start_time": "2023-01-20T10:38:15.929Z"
   },
   {
    "duration": 37,
    "start_time": "2023-01-20T10:38:15.940Z"
   },
   {
    "duration": 7,
    "start_time": "2023-01-20T10:38:15.978Z"
   },
   {
    "duration": 9,
    "start_time": "2023-01-20T10:45:10.621Z"
   },
   {
    "duration": 13,
    "start_time": "2023-01-20T10:45:24.150Z"
   },
   {
    "duration": 22,
    "start_time": "2023-01-20T10:45:40.934Z"
   },
   {
    "duration": 5,
    "start_time": "2023-01-20T10:48:07.701Z"
   },
   {
    "duration": 8,
    "start_time": "2023-01-20T10:48:13.237Z"
   },
   {
    "duration": 9,
    "start_time": "2023-01-20T10:50:35.150Z"
   },
   {
    "duration": 6,
    "start_time": "2023-01-20T10:52:31.661Z"
   },
   {
    "duration": 69,
    "start_time": "2023-01-20T10:52:36.017Z"
   },
   {
    "duration": 15,
    "start_time": "2023-01-20T10:52:36.088Z"
   },
   {
    "duration": 13,
    "start_time": "2023-01-20T10:52:36.104Z"
   },
   {
    "duration": 34,
    "start_time": "2023-01-20T10:52:36.118Z"
   },
   {
    "duration": 14,
    "start_time": "2023-01-20T10:52:36.167Z"
   },
   {
    "duration": 16,
    "start_time": "2023-01-20T10:52:36.182Z"
   },
   {
    "duration": 18,
    "start_time": "2023-01-20T10:52:36.200Z"
   },
   {
    "duration": 22,
    "start_time": "2023-01-20T10:52:36.220Z"
   },
   {
    "duration": 8,
    "start_time": "2023-01-20T10:52:36.243Z"
   },
   {
    "duration": 39,
    "start_time": "2023-01-20T10:52:36.252Z"
   },
   {
    "duration": 9,
    "start_time": "2023-01-20T10:52:36.293Z"
   },
   {
    "duration": 158,
    "start_time": "2023-01-20T10:52:36.304Z"
   },
   {
    "duration": 5,
    "start_time": "2023-01-20T10:52:36.467Z"
   },
   {
    "duration": 37,
    "start_time": "2023-01-20T10:52:36.475Z"
   },
   {
    "duration": 9,
    "start_time": "2023-01-20T10:52:36.514Z"
   },
   {
    "duration": 20,
    "start_time": "2023-01-20T10:52:36.525Z"
   },
   {
    "duration": 15,
    "start_time": "2023-01-20T10:52:36.547Z"
   },
   {
    "duration": 12,
    "start_time": "2023-01-20T10:52:36.564Z"
   },
   {
    "duration": 24,
    "start_time": "2023-01-20T10:52:36.578Z"
   },
   {
    "duration": 12,
    "start_time": "2023-01-20T10:52:36.604Z"
   },
   {
    "duration": 11,
    "start_time": "2023-01-20T10:52:36.618Z"
   },
   {
    "duration": 25,
    "start_time": "2023-01-20T10:52:36.630Z"
   },
   {
    "duration": 7,
    "start_time": "2023-01-20T10:52:36.656Z"
   },
   {
    "duration": 27,
    "start_time": "2023-01-20T10:52:36.664Z"
   },
   {
    "duration": 37,
    "start_time": "2023-01-20T10:52:36.693Z"
   },
   {
    "duration": 5,
    "start_time": "2023-01-20T10:52:36.734Z"
   },
   {
    "duration": 43,
    "start_time": "2023-01-20T10:52:36.740Z"
   },
   {
    "duration": 40,
    "start_time": "2023-01-20T10:52:36.785Z"
   },
   {
    "duration": 49,
    "start_time": "2023-01-20T10:52:36.827Z"
   },
   {
    "duration": 10,
    "start_time": "2023-01-20T10:52:36.878Z"
   },
   {
    "duration": 46,
    "start_time": "2023-01-20T10:52:36.890Z"
   },
   {
    "duration": 23,
    "start_time": "2023-01-20T10:52:36.937Z"
   },
   {
    "duration": 291,
    "start_time": "2023-01-20T10:52:36.961Z"
   },
   {
    "duration": 14,
    "start_time": "2023-01-20T10:52:37.254Z"
   },
   {
    "duration": 195,
    "start_time": "2023-01-20T10:52:37.269Z"
   },
   {
    "duration": 5,
    "start_time": "2023-01-20T10:52:37.466Z"
   },
   {
    "duration": 195,
    "start_time": "2023-01-20T10:52:37.472Z"
   },
   {
    "duration": 6,
    "start_time": "2023-01-20T10:52:37.668Z"
   },
   {
    "duration": 193,
    "start_time": "2023-01-20T10:52:37.676Z"
   },
   {
    "duration": 7,
    "start_time": "2023-01-20T10:52:37.871Z"
   },
   {
    "duration": 212,
    "start_time": "2023-01-20T10:52:37.883Z"
   },
   {
    "duration": 7,
    "start_time": "2023-01-20T10:52:38.097Z"
   },
   {
    "duration": 204,
    "start_time": "2023-01-20T10:52:38.106Z"
   },
   {
    "duration": 5,
    "start_time": "2023-01-20T10:52:38.311Z"
   },
   {
    "duration": 220,
    "start_time": "2023-01-20T10:52:38.317Z"
   },
   {
    "duration": 6,
    "start_time": "2023-01-20T10:52:38.539Z"
   },
   {
    "duration": 209,
    "start_time": "2023-01-20T10:52:38.547Z"
   },
   {
    "duration": 9,
    "start_time": "2023-01-20T10:52:38.758Z"
   },
   {
    "duration": 179,
    "start_time": "2023-01-20T10:52:38.769Z"
   },
   {
    "duration": 6,
    "start_time": "2023-01-20T10:52:38.949Z"
   },
   {
    "duration": 191,
    "start_time": "2023-01-20T10:52:38.957Z"
   },
   {
    "duration": 5,
    "start_time": "2023-01-20T10:52:39.149Z"
   },
   {
    "duration": 214,
    "start_time": "2023-01-20T10:52:39.155Z"
   },
   {
    "duration": 5,
    "start_time": "2023-01-20T10:52:39.371Z"
   },
   {
    "duration": 15,
    "start_time": "2023-01-20T10:52:39.377Z"
   },
   {
    "duration": 12,
    "start_time": "2023-01-20T10:52:39.393Z"
   },
   {
    "duration": 143,
    "start_time": "2023-01-20T10:52:39.406Z"
   },
   {
    "duration": 18,
    "start_time": "2023-01-20T10:52:39.551Z"
   },
   {
    "duration": 137,
    "start_time": "2023-01-20T10:52:39.571Z"
   },
   {
    "duration": 14,
    "start_time": "2023-01-20T10:52:39.710Z"
   },
   {
    "duration": 125,
    "start_time": "2023-01-20T10:52:39.726Z"
   },
   {
    "duration": 23,
    "start_time": "2023-01-20T10:52:39.852Z"
   },
   {
    "duration": 138,
    "start_time": "2023-01-20T10:52:39.877Z"
   },
   {
    "duration": 13,
    "start_time": "2023-01-20T10:52:40.018Z"
   },
   {
    "duration": 145,
    "start_time": "2023-01-20T10:52:40.033Z"
   },
   {
    "duration": 14,
    "start_time": "2023-01-20T10:52:40.180Z"
   },
   {
    "duration": 174,
    "start_time": "2023-01-20T10:52:40.196Z"
   },
   {
    "duration": 16,
    "start_time": "2023-01-20T10:52:40.372Z"
   },
   {
    "duration": 157,
    "start_time": "2023-01-20T10:52:40.389Z"
   },
   {
    "duration": 13,
    "start_time": "2023-01-20T10:52:40.548Z"
   },
   {
    "duration": 144,
    "start_time": "2023-01-20T10:52:40.566Z"
   },
   {
    "duration": 69,
    "start_time": "2023-01-20T10:52:40.711Z"
   },
   {
    "duration": 6,
    "start_time": "2023-01-20T10:52:40.782Z"
   },
   {
    "duration": 238,
    "start_time": "2023-01-20T10:52:40.790Z"
   },
   {
    "duration": 188,
    "start_time": "2023-01-20T10:52:41.030Z"
   },
   {
    "duration": 162,
    "start_time": "2023-01-20T10:52:41.219Z"
   },
   {
    "duration": 197,
    "start_time": "2023-01-20T10:52:41.382Z"
   },
   {
    "duration": 6,
    "start_time": "2023-01-20T10:52:41.580Z"
   },
   {
    "duration": 12,
    "start_time": "2023-01-20T10:52:41.588Z"
   },
   {
    "duration": 9,
    "start_time": "2023-01-20T10:52:41.602Z"
   },
   {
    "duration": 8,
    "start_time": "2023-01-20T11:00:59.243Z"
   },
   {
    "duration": 7,
    "start_time": "2023-01-20T11:01:30.676Z"
   },
   {
    "duration": 7,
    "start_time": "2023-01-20T11:07:13.948Z"
   },
   {
    "duration": 1566,
    "start_time": "2023-01-20T15:28:06.611Z"
   },
   {
    "duration": 16,
    "start_time": "2023-01-20T15:28:08.179Z"
   },
   {
    "duration": 32,
    "start_time": "2023-01-20T15:28:08.197Z"
   },
   {
    "duration": 41,
    "start_time": "2023-01-20T15:28:08.231Z"
   },
   {
    "duration": 40,
    "start_time": "2023-01-20T15:28:08.274Z"
   },
   {
    "duration": 27,
    "start_time": "2023-01-20T15:28:08.316Z"
   },
   {
    "duration": 35,
    "start_time": "2023-01-20T15:28:08.345Z"
   },
   {
    "duration": 17,
    "start_time": "2023-01-20T15:28:08.382Z"
   },
   {
    "duration": 35,
    "start_time": "2023-01-20T15:28:08.400Z"
   },
   {
    "duration": 31,
    "start_time": "2023-01-20T15:28:08.437Z"
   },
   {
    "duration": 24,
    "start_time": "2023-01-20T15:28:08.469Z"
   },
   {
    "duration": 180,
    "start_time": "2023-01-20T15:28:08.495Z"
   },
   {
    "duration": 10,
    "start_time": "2023-01-20T15:28:08.676Z"
   },
   {
    "duration": 62,
    "start_time": "2023-01-20T15:28:08.689Z"
   },
   {
    "duration": 35,
    "start_time": "2023-01-20T15:28:08.753Z"
   },
   {
    "duration": 39,
    "start_time": "2023-01-20T15:28:08.791Z"
   },
   {
    "duration": 34,
    "start_time": "2023-01-20T15:28:08.832Z"
   },
   {
    "duration": 36,
    "start_time": "2023-01-20T15:28:08.868Z"
   },
   {
    "duration": 30,
    "start_time": "2023-01-20T15:28:08.906Z"
   },
   {
    "duration": 9,
    "start_time": "2023-01-20T15:28:08.938Z"
   },
   {
    "duration": 20,
    "start_time": "2023-01-20T15:28:08.949Z"
   },
   {
    "duration": 58,
    "start_time": "2023-01-20T15:28:08.971Z"
   },
   {
    "duration": 28,
    "start_time": "2023-01-20T15:28:09.030Z"
   },
   {
    "duration": 54,
    "start_time": "2023-01-20T15:28:09.060Z"
   },
   {
    "duration": 52,
    "start_time": "2023-01-20T15:28:09.116Z"
   },
   {
    "duration": 5,
    "start_time": "2023-01-20T15:28:09.170Z"
   },
   {
    "duration": 41,
    "start_time": "2023-01-20T15:28:09.176Z"
   },
   {
    "duration": 39,
    "start_time": "2023-01-20T15:28:09.220Z"
   },
   {
    "duration": 50,
    "start_time": "2023-01-20T15:28:09.261Z"
   },
   {
    "duration": 9,
    "start_time": "2023-01-20T15:28:09.313Z"
   },
   {
    "duration": 61,
    "start_time": "2023-01-20T15:28:09.324Z"
   },
   {
    "duration": 31,
    "start_time": "2023-01-20T15:28:09.386Z"
   },
   {
    "duration": 371,
    "start_time": "2023-01-20T15:28:09.420Z"
   },
   {
    "duration": 8,
    "start_time": "2023-01-20T15:28:09.793Z"
   },
   {
    "duration": 244,
    "start_time": "2023-01-20T15:28:09.803Z"
   },
   {
    "duration": 6,
    "start_time": "2023-01-20T15:28:10.049Z"
   },
   {
    "duration": 235,
    "start_time": "2023-01-20T15:28:10.057Z"
   },
   {
    "duration": 7,
    "start_time": "2023-01-20T15:28:10.294Z"
   },
   {
    "duration": 209,
    "start_time": "2023-01-20T15:28:10.303Z"
   },
   {
    "duration": 6,
    "start_time": "2023-01-20T15:28:10.514Z"
   },
   {
    "duration": 230,
    "start_time": "2023-01-20T15:28:10.524Z"
   },
   {
    "duration": 9,
    "start_time": "2023-01-20T15:28:10.756Z"
   },
   {
    "duration": 219,
    "start_time": "2023-01-20T15:28:10.767Z"
   },
   {
    "duration": 6,
    "start_time": "2023-01-20T15:28:10.988Z"
   },
   {
    "duration": 284,
    "start_time": "2023-01-20T15:28:10.996Z"
   },
   {
    "duration": 8,
    "start_time": "2023-01-20T15:28:11.284Z"
   },
   {
    "duration": 203,
    "start_time": "2023-01-20T15:28:11.294Z"
   },
   {
    "duration": 6,
    "start_time": "2023-01-20T15:28:11.499Z"
   },
   {
    "duration": 229,
    "start_time": "2023-01-20T15:28:11.506Z"
   },
   {
    "duration": 7,
    "start_time": "2023-01-20T15:28:11.737Z"
   },
   {
    "duration": 226,
    "start_time": "2023-01-20T15:28:11.746Z"
   },
   {
    "duration": 12,
    "start_time": "2023-01-20T15:28:11.975Z"
   },
   {
    "duration": 288,
    "start_time": "2023-01-20T15:28:11.989Z"
   },
   {
    "duration": 8,
    "start_time": "2023-01-20T15:28:12.283Z"
   },
   {
    "duration": 29,
    "start_time": "2023-01-20T15:28:12.293Z"
   },
   {
    "duration": 18,
    "start_time": "2023-01-20T15:28:12.324Z"
   },
   {
    "duration": 170,
    "start_time": "2023-01-20T15:28:12.344Z"
   },
   {
    "duration": 15,
    "start_time": "2023-01-20T15:28:12.516Z"
   },
   {
    "duration": 163,
    "start_time": "2023-01-20T15:28:12.532Z"
   },
   {
    "duration": 14,
    "start_time": "2023-01-20T15:28:12.698Z"
   },
   {
    "duration": 152,
    "start_time": "2023-01-20T15:28:12.714Z"
   },
   {
    "duration": 23,
    "start_time": "2023-01-20T15:28:12.868Z"
   },
   {
    "duration": 164,
    "start_time": "2023-01-20T15:28:12.894Z"
   },
   {
    "duration": 25,
    "start_time": "2023-01-20T15:28:13.060Z"
   },
   {
    "duration": 159,
    "start_time": "2023-01-20T15:28:13.088Z"
   },
   {
    "duration": 14,
    "start_time": "2023-01-20T15:28:13.249Z"
   },
   {
    "duration": 171,
    "start_time": "2023-01-20T15:28:13.265Z"
   },
   {
    "duration": 15,
    "start_time": "2023-01-20T15:28:13.438Z"
   },
   {
    "duration": 172,
    "start_time": "2023-01-20T15:28:13.455Z"
   },
   {
    "duration": 16,
    "start_time": "2023-01-20T15:28:13.629Z"
   },
   {
    "duration": 164,
    "start_time": "2023-01-20T15:28:13.648Z"
   },
   {
    "duration": 7,
    "start_time": "2023-01-20T15:28:13.815Z"
   },
   {
    "duration": 187,
    "start_time": "2023-01-20T15:28:13.823Z"
   },
   {
    "duration": 281,
    "start_time": "2023-01-20T15:28:14.012Z"
   },
   {
    "duration": 220,
    "start_time": "2023-01-20T15:28:14.295Z"
   },
   {
    "duration": 207,
    "start_time": "2023-01-20T15:28:14.516Z"
   },
   {
    "duration": 6,
    "start_time": "2023-01-20T15:28:14.725Z"
   },
   {
    "duration": 28,
    "start_time": "2023-01-20T15:28:14.733Z"
   },
   {
    "duration": 26,
    "start_time": "2023-01-20T15:28:14.763Z"
   },
   {
    "duration": 77,
    "start_time": "2023-01-21T09:21:15.959Z"
   },
   {
    "duration": 47,
    "start_time": "2023-01-21T09:21:20.635Z"
   },
   {
    "duration": 1376,
    "start_time": "2023-01-21T09:21:25.664Z"
   },
   {
    "duration": 15,
    "start_time": "2023-01-21T09:21:27.041Z"
   },
   {
    "duration": 8,
    "start_time": "2023-01-21T09:21:27.058Z"
   },
   {
    "duration": 21,
    "start_time": "2023-01-21T09:21:27.068Z"
   },
   {
    "duration": 15,
    "start_time": "2023-01-21T09:21:27.090Z"
   },
   {
    "duration": 8,
    "start_time": "2023-01-21T09:21:27.107Z"
   },
   {
    "duration": 9,
    "start_time": "2023-01-21T09:21:27.117Z"
   },
   {
    "duration": 8,
    "start_time": "2023-01-21T09:21:27.127Z"
   },
   {
    "duration": 11,
    "start_time": "2023-01-21T09:21:27.136Z"
   },
   {
    "duration": 11,
    "start_time": "2023-01-21T09:21:27.149Z"
   },
   {
    "duration": 10,
    "start_time": "2023-01-21T09:21:27.162Z"
   },
   {
    "duration": 158,
    "start_time": "2023-01-21T09:21:27.203Z"
   },
   {
    "duration": 5,
    "start_time": "2023-01-21T09:21:27.362Z"
   },
   {
    "duration": 22,
    "start_time": "2023-01-21T09:21:27.369Z"
   },
   {
    "duration": 8,
    "start_time": "2023-01-21T09:21:27.404Z"
   },
   {
    "duration": 11,
    "start_time": "2023-01-21T09:21:27.413Z"
   },
   {
    "duration": 7,
    "start_time": "2023-01-21T09:21:27.425Z"
   },
   {
    "duration": 8,
    "start_time": "2023-01-21T09:21:27.433Z"
   },
   {
    "duration": 15,
    "start_time": "2023-01-21T09:21:27.442Z"
   },
   {
    "duration": 9,
    "start_time": "2023-01-21T09:21:27.458Z"
   },
   {
    "duration": 9,
    "start_time": "2023-01-21T09:21:27.468Z"
   },
   {
    "duration": 40,
    "start_time": "2023-01-21T09:21:27.479Z"
   },
   {
    "duration": 5,
    "start_time": "2023-01-21T09:21:27.521Z"
   },
   {
    "duration": 20,
    "start_time": "2023-01-21T09:21:27.528Z"
   },
   {
    "duration": 187,
    "start_time": "2023-01-21T09:21:27.550Z"
   },
   {
    "duration": 4,
    "start_time": "2023-01-21T09:21:27.739Z"
   },
   {
    "duration": 21,
    "start_time": "2023-01-21T09:21:27.745Z"
   },
   {
    "duration": 32,
    "start_time": "2023-01-21T09:21:27.771Z"
   },
   {
    "duration": 31,
    "start_time": "2023-01-21T09:21:27.805Z"
   },
   {
    "duration": 9,
    "start_time": "2023-01-21T09:21:27.838Z"
   },
   {
    "duration": 22,
    "start_time": "2023-01-21T09:21:27.848Z"
   },
   {
    "duration": 38,
    "start_time": "2023-01-21T09:21:27.871Z"
   },
   {
    "duration": 282,
    "start_time": "2023-01-21T09:21:27.911Z"
   },
   {
    "duration": 13,
    "start_time": "2023-01-21T09:21:28.194Z"
   },
   {
    "duration": 196,
    "start_time": "2023-01-21T09:21:28.208Z"
   },
   {
    "duration": 5,
    "start_time": "2023-01-21T09:21:28.406Z"
   },
   {
    "duration": 191,
    "start_time": "2023-01-21T09:21:28.412Z"
   },
   {
    "duration": 6,
    "start_time": "2023-01-21T09:21:28.604Z"
   },
   {
    "duration": 184,
    "start_time": "2023-01-21T09:21:28.612Z"
   },
   {
    "duration": 9,
    "start_time": "2023-01-21T09:21:28.797Z"
   },
   {
    "duration": 192,
    "start_time": "2023-01-21T09:21:28.807Z"
   },
   {
    "duration": 6,
    "start_time": "2023-01-21T09:21:29.002Z"
   },
   {
    "duration": 197,
    "start_time": "2023-01-21T09:21:29.009Z"
   },
   {
    "duration": 8,
    "start_time": "2023-01-21T09:21:29.208Z"
   },
   {
    "duration": 260,
    "start_time": "2023-01-21T09:21:29.218Z"
   },
   {
    "duration": 5,
    "start_time": "2023-01-21T09:21:29.480Z"
   },
   {
    "duration": 186,
    "start_time": "2023-01-21T09:21:29.487Z"
   },
   {
    "duration": 5,
    "start_time": "2023-01-21T09:21:29.675Z"
   },
   {
    "duration": 187,
    "start_time": "2023-01-21T09:21:29.681Z"
   },
   {
    "duration": 6,
    "start_time": "2023-01-21T09:21:29.869Z"
   },
   {
    "duration": 183,
    "start_time": "2023-01-21T09:21:29.876Z"
   },
   {
    "duration": 5,
    "start_time": "2023-01-21T09:21:30.060Z"
   },
   {
    "duration": 204,
    "start_time": "2023-01-21T09:21:30.066Z"
   },
   {
    "duration": 6,
    "start_time": "2023-01-21T09:21:30.271Z"
   },
   {
    "duration": 27,
    "start_time": "2023-01-21T09:21:30.278Z"
   },
   {
    "duration": 37,
    "start_time": "2023-01-21T09:21:30.307Z"
   },
   {
    "duration": 183,
    "start_time": "2023-01-21T09:21:30.345Z"
   },
   {
    "duration": 14,
    "start_time": "2023-01-21T09:21:30.530Z"
   },
   {
    "duration": 146,
    "start_time": "2023-01-21T09:21:30.546Z"
   },
   {
    "duration": 17,
    "start_time": "2023-01-21T09:21:30.694Z"
   },
   {
    "duration": 153,
    "start_time": "2023-01-21T09:21:30.713Z"
   },
   {
    "duration": 15,
    "start_time": "2023-01-21T09:21:30.868Z"
   },
   {
    "duration": 150,
    "start_time": "2023-01-21T09:21:30.885Z"
   },
   {
    "duration": 14,
    "start_time": "2023-01-21T09:21:31.036Z"
   },
   {
    "duration": 149,
    "start_time": "2023-01-21T09:21:31.052Z"
   },
   {
    "duration": 14,
    "start_time": "2023-01-21T09:21:31.203Z"
   },
   {
    "duration": 153,
    "start_time": "2023-01-21T09:21:31.218Z"
   },
   {
    "duration": 14,
    "start_time": "2023-01-21T09:21:31.373Z"
   },
   {
    "duration": 153,
    "start_time": "2023-01-21T09:21:31.388Z"
   },
   {
    "duration": 13,
    "start_time": "2023-01-21T09:21:31.543Z"
   },
   {
    "duration": 148,
    "start_time": "2023-01-21T09:21:31.557Z"
   },
   {
    "duration": 6,
    "start_time": "2023-01-21T09:21:31.706Z"
   },
   {
    "duration": 182,
    "start_time": "2023-01-21T09:21:31.714Z"
   },
   {
    "duration": 163,
    "start_time": "2023-01-21T09:21:31.898Z"
   },
   {
    "duration": 252,
    "start_time": "2023-01-21T09:21:32.063Z"
   },
   {
    "duration": 176,
    "start_time": "2023-01-21T09:21:32.317Z"
   },
   {
    "duration": 11,
    "start_time": "2023-01-21T09:21:32.495Z"
   },
   {
    "duration": 11,
    "start_time": "2023-01-21T09:21:32.508Z"
   },
   {
    "duration": 9,
    "start_time": "2023-01-21T09:21:32.520Z"
   },
   {
    "duration": 74,
    "start_time": "2023-01-21T09:23:58.557Z"
   },
   {
    "duration": 19,
    "start_time": "2023-01-21T09:24:14.389Z"
   },
   {
    "duration": 19,
    "start_time": "2023-01-21T09:24:16.752Z"
   },
   {
    "duration": 63,
    "start_time": "2023-01-21T09:24:23.654Z"
   },
   {
    "duration": 14,
    "start_time": "2023-01-21T09:24:23.718Z"
   },
   {
    "duration": 4,
    "start_time": "2023-01-21T09:24:23.733Z"
   },
   {
    "duration": 25,
    "start_time": "2023-01-21T09:24:23.739Z"
   },
   {
    "duration": 44,
    "start_time": "2023-01-21T09:24:23.766Z"
   },
   {
    "duration": 9,
    "start_time": "2023-01-21T09:24:23.811Z"
   },
   {
    "duration": 8,
    "start_time": "2023-01-21T09:24:23.821Z"
   },
   {
    "duration": 7,
    "start_time": "2023-01-21T09:24:23.831Z"
   },
   {
    "duration": 10,
    "start_time": "2023-01-21T09:24:23.839Z"
   },
   {
    "duration": 50,
    "start_time": "2023-01-21T09:24:23.853Z"
   },
   {
    "duration": 8,
    "start_time": "2023-01-21T09:24:23.905Z"
   },
   {
    "duration": 173,
    "start_time": "2023-01-21T09:24:23.915Z"
   },
   {
    "duration": 14,
    "start_time": "2023-01-21T09:24:24.090Z"
   },
   {
    "duration": 36,
    "start_time": "2023-01-21T09:24:24.106Z"
   },
   {
    "duration": 8,
    "start_time": "2023-01-21T09:24:24.144Z"
   },
   {
    "duration": 12,
    "start_time": "2023-01-21T09:24:24.154Z"
   },
   {
    "duration": 9,
    "start_time": "2023-01-21T09:24:24.168Z"
   },
   {
    "duration": 24,
    "start_time": "2023-01-21T09:24:24.179Z"
   },
   {
    "duration": 22,
    "start_time": "2023-01-21T09:24:24.206Z"
   },
   {
    "duration": 12,
    "start_time": "2023-01-21T09:24:24.231Z"
   },
   {
    "duration": 9,
    "start_time": "2023-01-21T09:24:24.246Z"
   },
   {
    "duration": 35,
    "start_time": "2023-01-21T09:24:24.257Z"
   },
   {
    "duration": 11,
    "start_time": "2023-01-21T09:24:24.293Z"
   },
   {
    "duration": 23,
    "start_time": "2023-01-21T09:24:24.306Z"
   },
   {
    "duration": 209,
    "start_time": "2023-01-21T09:24:24.331Z"
   },
   {
    "duration": 5,
    "start_time": "2023-01-21T09:24:24.542Z"
   },
   {
    "duration": 25,
    "start_time": "2023-01-21T09:24:24.548Z"
   },
   {
    "duration": 29,
    "start_time": "2023-01-21T09:24:24.577Z"
   },
   {
    "duration": 34,
    "start_time": "2023-01-21T09:24:24.608Z"
   },
   {
    "duration": 9,
    "start_time": "2023-01-21T09:24:24.644Z"
   },
   {
    "duration": 27,
    "start_time": "2023-01-21T09:24:24.655Z"
   },
   {
    "duration": 14,
    "start_time": "2023-01-21T09:24:24.702Z"
   },
   {
    "duration": 273,
    "start_time": "2023-01-21T09:24:24.717Z"
   },
   {
    "duration": 12,
    "start_time": "2023-01-21T09:24:24.992Z"
   },
   {
    "duration": 185,
    "start_time": "2023-01-21T09:24:25.005Z"
   },
   {
    "duration": 11,
    "start_time": "2023-01-21T09:24:25.192Z"
   },
   {
    "duration": 181,
    "start_time": "2023-01-21T09:24:25.205Z"
   },
   {
    "duration": 19,
    "start_time": "2023-01-21T09:24:25.388Z"
   },
   {
    "duration": 184,
    "start_time": "2023-01-21T09:24:25.409Z"
   },
   {
    "duration": 11,
    "start_time": "2023-01-21T09:24:25.595Z"
   },
   {
    "duration": 194,
    "start_time": "2023-01-21T09:24:25.608Z"
   },
   {
    "duration": 19,
    "start_time": "2023-01-21T09:24:25.803Z"
   },
   {
    "duration": 179,
    "start_time": "2023-01-21T09:24:25.824Z"
   },
   {
    "duration": 5,
    "start_time": "2023-01-21T09:24:26.005Z"
   },
   {
    "duration": 181,
    "start_time": "2023-01-21T09:24:26.012Z"
   },
   {
    "duration": 12,
    "start_time": "2023-01-21T09:24:26.194Z"
   },
   {
    "duration": 187,
    "start_time": "2023-01-21T09:24:26.207Z"
   },
   {
    "duration": 9,
    "start_time": "2023-01-21T09:24:26.396Z"
   },
   {
    "duration": 178,
    "start_time": "2023-01-21T09:24:26.407Z"
   },
   {
    "duration": 17,
    "start_time": "2023-01-21T09:24:26.587Z"
   },
   {
    "duration": 197,
    "start_time": "2023-01-21T09:24:26.606Z"
   },
   {
    "duration": 6,
    "start_time": "2023-01-21T09:24:26.805Z"
   },
   {
    "duration": 197,
    "start_time": "2023-01-21T09:24:26.812Z"
   },
   {
    "duration": 6,
    "start_time": "2023-01-21T09:24:27.011Z"
   },
   {
    "duration": 16,
    "start_time": "2023-01-21T09:24:27.018Z"
   },
   {
    "duration": 12,
    "start_time": "2023-01-21T09:24:27.036Z"
   },
   {
    "duration": 264,
    "start_time": "2023-01-21T09:24:27.049Z"
   },
   {
    "duration": 13,
    "start_time": "2023-01-21T09:24:27.315Z"
   },
   {
    "duration": 148,
    "start_time": "2023-01-21T09:24:27.329Z"
   },
   {
    "duration": 14,
    "start_time": "2023-01-21T09:24:27.478Z"
   },
   {
    "duration": 140,
    "start_time": "2023-01-21T09:24:27.494Z"
   },
   {
    "duration": 14,
    "start_time": "2023-01-21T09:24:27.636Z"
   },
   {
    "duration": 143,
    "start_time": "2023-01-21T09:24:27.652Z"
   },
   {
    "duration": 17,
    "start_time": "2023-01-21T09:24:27.797Z"
   },
   {
    "duration": 141,
    "start_time": "2023-01-21T09:24:27.815Z"
   },
   {
    "duration": 13,
    "start_time": "2023-01-21T09:24:27.958Z"
   },
   {
    "duration": 143,
    "start_time": "2023-01-21T09:24:27.973Z"
   },
   {
    "duration": 14,
    "start_time": "2023-01-21T09:24:28.118Z"
   },
   {
    "duration": 153,
    "start_time": "2023-01-21T09:24:28.134Z"
   },
   {
    "duration": 22,
    "start_time": "2023-01-21T09:24:28.289Z"
   },
   {
    "duration": 143,
    "start_time": "2023-01-21T09:24:28.313Z"
   },
   {
    "duration": 6,
    "start_time": "2023-01-21T09:24:28.457Z"
   },
   {
    "duration": 201,
    "start_time": "2023-01-21T09:24:28.464Z"
   },
   {
    "duration": 170,
    "start_time": "2023-01-21T09:24:28.667Z"
   },
   {
    "duration": 289,
    "start_time": "2023-01-21T09:24:28.838Z"
   },
   {
    "duration": 217,
    "start_time": "2023-01-21T09:24:29.129Z"
   },
   {
    "duration": 5,
    "start_time": "2023-01-21T09:24:29.348Z"
   },
   {
    "duration": 14,
    "start_time": "2023-01-21T09:24:29.355Z"
   },
   {
    "duration": 10,
    "start_time": "2023-01-21T09:24:29.371Z"
   },
   {
    "duration": 19,
    "start_time": "2023-01-21T09:26:39.627Z"
   },
   {
    "duration": 60,
    "start_time": "2023-01-21T09:26:43.877Z"
   },
   {
    "duration": 13,
    "start_time": "2023-01-21T09:26:43.939Z"
   },
   {
    "duration": 3,
    "start_time": "2023-01-21T09:26:43.954Z"
   },
   {
    "duration": 45,
    "start_time": "2023-01-21T09:26:43.959Z"
   },
   {
    "duration": 16,
    "start_time": "2023-01-21T09:26:44.006Z"
   },
   {
    "duration": 12,
    "start_time": "2023-01-21T09:26:44.025Z"
   },
   {
    "duration": 11,
    "start_time": "2023-01-21T09:26:44.040Z"
   },
   {
    "duration": 7,
    "start_time": "2023-01-21T09:26:44.053Z"
   },
   {
    "duration": 43,
    "start_time": "2023-01-21T09:26:44.061Z"
   },
   {
    "duration": 13,
    "start_time": "2023-01-21T09:26:44.107Z"
   },
   {
    "duration": 15,
    "start_time": "2023-01-21T09:26:44.122Z"
   },
   {
    "duration": 221,
    "start_time": "2023-01-21T09:26:44.140Z"
   },
   {
    "duration": 5,
    "start_time": "2023-01-21T09:26:44.363Z"
   },
   {
    "duration": 34,
    "start_time": "2023-01-21T09:26:44.369Z"
   },
   {
    "duration": 6,
    "start_time": "2023-01-21T09:26:44.404Z"
   },
   {
    "duration": 6,
    "start_time": "2023-01-21T09:26:44.412Z"
   },
   {
    "duration": 10,
    "start_time": "2023-01-21T09:26:44.419Z"
   },
   {
    "duration": 8,
    "start_time": "2023-01-21T09:26:44.430Z"
   },
   {
    "duration": 16,
    "start_time": "2023-01-21T09:26:44.440Z"
   },
   {
    "duration": 6,
    "start_time": "2023-01-21T09:26:44.458Z"
   },
   {
    "duration": 6,
    "start_time": "2023-01-21T09:26:44.466Z"
   },
   {
    "duration": 52,
    "start_time": "2023-01-21T09:26:44.474Z"
   },
   {
    "duration": 7,
    "start_time": "2023-01-21T09:26:44.529Z"
   },
   {
    "duration": 23,
    "start_time": "2023-01-21T09:26:44.537Z"
   },
   {
    "duration": 212,
    "start_time": "2023-01-21T09:26:44.562Z"
   },
   {
    "duration": 5,
    "start_time": "2023-01-21T09:26:44.777Z"
   },
   {
    "duration": 32,
    "start_time": "2023-01-21T09:26:44.783Z"
   },
   {
    "duration": 15,
    "start_time": "2023-01-21T09:26:44.820Z"
   },
   {
    "duration": 35,
    "start_time": "2023-01-21T09:26:44.837Z"
   },
   {
    "duration": 31,
    "start_time": "2023-01-21T09:26:44.874Z"
   },
   {
    "duration": 27,
    "start_time": "2023-01-21T09:26:44.907Z"
   },
   {
    "duration": 19,
    "start_time": "2023-01-21T09:26:44.936Z"
   },
   {
    "duration": 291,
    "start_time": "2023-01-21T09:26:44.957Z"
   },
   {
    "duration": 7,
    "start_time": "2023-01-21T09:26:45.249Z"
   },
   {
    "duration": 190,
    "start_time": "2023-01-21T09:26:45.257Z"
   },
   {
    "duration": 5,
    "start_time": "2023-01-21T09:26:45.449Z"
   },
   {
    "duration": 191,
    "start_time": "2023-01-21T09:26:45.455Z"
   },
   {
    "duration": 7,
    "start_time": "2023-01-21T09:26:45.647Z"
   },
   {
    "duration": 197,
    "start_time": "2023-01-21T09:26:45.655Z"
   },
   {
    "duration": 5,
    "start_time": "2023-01-21T09:26:45.853Z"
   },
   {
    "duration": 193,
    "start_time": "2023-01-21T09:26:45.860Z"
   },
   {
    "duration": 5,
    "start_time": "2023-01-21T09:26:46.055Z"
   },
   {
    "duration": 301,
    "start_time": "2023-01-21T09:26:46.062Z"
   },
   {
    "duration": 5,
    "start_time": "2023-01-21T09:26:46.364Z"
   },
   {
    "duration": 184,
    "start_time": "2023-01-21T09:26:46.370Z"
   },
   {
    "duration": 8,
    "start_time": "2023-01-21T09:26:46.556Z"
   },
   {
    "duration": 186,
    "start_time": "2023-01-21T09:26:46.565Z"
   },
   {
    "duration": 5,
    "start_time": "2023-01-21T09:26:46.752Z"
   },
   {
    "duration": 188,
    "start_time": "2023-01-21T09:26:46.759Z"
   },
   {
    "duration": 6,
    "start_time": "2023-01-21T09:26:46.949Z"
   },
   {
    "duration": 190,
    "start_time": "2023-01-21T09:26:46.957Z"
   },
   {
    "duration": 5,
    "start_time": "2023-01-21T09:26:47.148Z"
   },
   {
    "duration": 234,
    "start_time": "2023-01-21T09:26:47.155Z"
   },
   {
    "duration": 13,
    "start_time": "2023-01-21T09:26:47.390Z"
   },
   {
    "duration": 16,
    "start_time": "2023-01-21T09:26:47.405Z"
   },
   {
    "duration": 15,
    "start_time": "2023-01-21T09:26:47.423Z"
   },
   {
    "duration": 158,
    "start_time": "2023-01-21T09:26:47.440Z"
   },
   {
    "duration": 16,
    "start_time": "2023-01-21T09:26:47.600Z"
   },
   {
    "duration": 157,
    "start_time": "2023-01-21T09:26:47.618Z"
   },
   {
    "duration": 14,
    "start_time": "2023-01-21T09:26:47.777Z"
   },
   {
    "duration": 127,
    "start_time": "2023-01-21T09:26:47.802Z"
   },
   {
    "duration": 13,
    "start_time": "2023-01-21T09:26:47.931Z"
   },
   {
    "duration": 147,
    "start_time": "2023-01-21T09:26:47.946Z"
   },
   {
    "duration": 18,
    "start_time": "2023-01-21T09:26:48.095Z"
   },
   {
    "duration": 144,
    "start_time": "2023-01-21T09:26:48.115Z"
   },
   {
    "duration": 14,
    "start_time": "2023-01-21T09:26:48.261Z"
   },
   {
    "duration": 149,
    "start_time": "2023-01-21T09:26:48.277Z"
   },
   {
    "duration": 14,
    "start_time": "2023-01-21T09:26:48.429Z"
   },
   {
    "duration": 135,
    "start_time": "2023-01-21T09:26:48.445Z"
   },
   {
    "duration": 22,
    "start_time": "2023-01-21T09:26:48.582Z"
   },
   {
    "duration": 139,
    "start_time": "2023-01-21T09:26:48.605Z"
   },
   {
    "duration": 6,
    "start_time": "2023-01-21T09:26:48.745Z"
   },
   {
    "duration": 175,
    "start_time": "2023-01-21T09:26:48.752Z"
   },
   {
    "duration": 168,
    "start_time": "2023-01-21T09:26:48.928Z"
   },
   {
    "duration": 176,
    "start_time": "2023-01-21T09:26:49.098Z"
   },
   {
    "duration": 174,
    "start_time": "2023-01-21T09:26:49.276Z"
   },
   {
    "duration": 6,
    "start_time": "2023-01-21T09:26:49.451Z"
   },
   {
    "duration": 19,
    "start_time": "2023-01-21T09:26:49.458Z"
   },
   {
    "duration": 15,
    "start_time": "2023-01-21T09:26:49.478Z"
   },
   {
    "duration": 25,
    "start_time": "2023-01-21T09:28:37.136Z"
   },
   {
    "duration": 66,
    "start_time": "2023-01-21T09:28:39.492Z"
   },
   {
    "duration": 14,
    "start_time": "2023-01-21T09:28:39.560Z"
   },
   {
    "duration": 3,
    "start_time": "2023-01-21T09:28:39.575Z"
   },
   {
    "duration": 43,
    "start_time": "2023-01-21T09:28:39.581Z"
   },
   {
    "duration": 20,
    "start_time": "2023-01-21T09:28:39.626Z"
   },
   {
    "duration": 8,
    "start_time": "2023-01-21T09:28:39.648Z"
   },
   {
    "duration": 8,
    "start_time": "2023-01-21T09:28:39.658Z"
   },
   {
    "duration": 35,
    "start_time": "2023-01-21T09:28:39.668Z"
   },
   {
    "duration": 8,
    "start_time": "2023-01-21T09:28:39.705Z"
   },
   {
    "duration": 11,
    "start_time": "2023-01-21T09:28:39.716Z"
   },
   {
    "duration": 5,
    "start_time": "2023-01-21T09:28:39.729Z"
   },
   {
    "duration": 186,
    "start_time": "2023-01-21T09:28:39.736Z"
   },
   {
    "duration": 5,
    "start_time": "2023-01-21T09:28:39.924Z"
   },
   {
    "duration": 23,
    "start_time": "2023-01-21T09:28:39.930Z"
   },
   {
    "duration": 6,
    "start_time": "2023-01-21T09:28:39.955Z"
   },
   {
    "duration": 7,
    "start_time": "2023-01-21T09:28:39.962Z"
   },
   {
    "duration": 8,
    "start_time": "2023-01-21T09:28:39.970Z"
   },
   {
    "duration": 5,
    "start_time": "2023-01-21T09:28:40.004Z"
   },
   {
    "duration": 26,
    "start_time": "2023-01-21T09:28:40.010Z"
   },
   {
    "duration": 6,
    "start_time": "2023-01-21T09:28:40.038Z"
   },
   {
    "duration": 10,
    "start_time": "2023-01-21T09:28:40.047Z"
   },
   {
    "duration": 28,
    "start_time": "2023-01-21T09:28:40.058Z"
   },
   {
    "duration": 17,
    "start_time": "2023-01-21T09:28:40.087Z"
   },
   {
    "duration": 17,
    "start_time": "2023-01-21T09:28:40.105Z"
   },
   {
    "duration": 1322,
    "start_time": "2023-01-21T09:28:40.123Z"
   },
   {
    "duration": 5,
    "start_time": "2023-01-21T09:28:41.447Z"
   },
   {
    "duration": 36,
    "start_time": "2023-01-21T09:28:41.454Z"
   },
   {
    "duration": 23,
    "start_time": "2023-01-21T09:28:41.495Z"
   },
   {
    "duration": 42,
    "start_time": "2023-01-21T09:28:41.520Z"
   },
   {
    "duration": 9,
    "start_time": "2023-01-21T09:28:41.563Z"
   },
   {
    "duration": 31,
    "start_time": "2023-01-21T09:28:41.573Z"
   },
   {
    "duration": 32,
    "start_time": "2023-01-21T09:28:41.605Z"
   },
   {
    "duration": 289,
    "start_time": "2023-01-21T09:28:41.639Z"
   },
   {
    "duration": 6,
    "start_time": "2023-01-21T09:28:41.931Z"
   },
   {
    "duration": 219,
    "start_time": "2023-01-21T09:28:41.939Z"
   },
   {
    "duration": 6,
    "start_time": "2023-01-21T09:28:42.160Z"
   },
   {
    "duration": 208,
    "start_time": "2023-01-21T09:28:42.169Z"
   },
   {
    "duration": 7,
    "start_time": "2023-01-21T09:28:42.378Z"
   },
   {
    "duration": 185,
    "start_time": "2023-01-21T09:28:42.386Z"
   },
   {
    "duration": 5,
    "start_time": "2023-01-21T09:28:42.573Z"
   },
   {
    "duration": 302,
    "start_time": "2023-01-21T09:28:42.580Z"
   },
   {
    "duration": 7,
    "start_time": "2023-01-21T09:28:42.884Z"
   },
   {
    "duration": 216,
    "start_time": "2023-01-21T09:28:42.892Z"
   },
   {
    "duration": 7,
    "start_time": "2023-01-21T09:28:43.110Z"
   },
   {
    "duration": 204,
    "start_time": "2023-01-21T09:28:43.119Z"
   },
   {
    "duration": 6,
    "start_time": "2023-01-21T09:28:43.325Z"
   },
   {
    "duration": 208,
    "start_time": "2023-01-21T09:28:43.333Z"
   },
   {
    "duration": 5,
    "start_time": "2023-01-21T09:28:43.543Z"
   },
   {
    "duration": 200,
    "start_time": "2023-01-21T09:28:43.550Z"
   },
   {
    "duration": 6,
    "start_time": "2023-01-21T09:28:43.752Z"
   },
   {
    "duration": 265,
    "start_time": "2023-01-21T09:28:43.760Z"
   },
   {
    "duration": 7,
    "start_time": "2023-01-21T09:28:44.027Z"
   },
   {
    "duration": 278,
    "start_time": "2023-01-21T09:28:44.036Z"
   },
   {
    "duration": 5,
    "start_time": "2023-01-21T09:28:44.316Z"
   },
   {
    "duration": 35,
    "start_time": "2023-01-21T09:28:44.323Z"
   },
   {
    "duration": 47,
    "start_time": "2023-01-21T09:28:44.360Z"
   },
   {
    "duration": 178,
    "start_time": "2023-01-21T09:28:44.408Z"
   },
   {
    "duration": 23,
    "start_time": "2023-01-21T09:28:44.587Z"
   },
   {
    "duration": 223,
    "start_time": "2023-01-21T09:28:44.612Z"
   },
   {
    "duration": 14,
    "start_time": "2023-01-21T09:28:44.836Z"
   },
   {
    "duration": 153,
    "start_time": "2023-01-21T09:28:44.852Z"
   },
   {
    "duration": 15,
    "start_time": "2023-01-21T09:28:45.007Z"
   },
   {
    "duration": 163,
    "start_time": "2023-01-21T09:28:45.024Z"
   },
   {
    "duration": 22,
    "start_time": "2023-01-21T09:28:45.188Z"
   },
   {
    "duration": 176,
    "start_time": "2023-01-21T09:28:45.212Z"
   },
   {
    "duration": 16,
    "start_time": "2023-01-21T09:28:45.390Z"
   },
   {
    "duration": 175,
    "start_time": "2023-01-21T09:28:45.408Z"
   },
   {
    "duration": 18,
    "start_time": "2023-01-21T09:28:45.585Z"
   },
   {
    "duration": 172,
    "start_time": "2023-01-21T09:28:45.604Z"
   },
   {
    "duration": 15,
    "start_time": "2023-01-21T09:28:45.778Z"
   },
   {
    "duration": 169,
    "start_time": "2023-01-21T09:28:45.803Z"
   },
   {
    "duration": 6,
    "start_time": "2023-01-21T09:28:45.974Z"
   },
   {
    "duration": 192,
    "start_time": "2023-01-21T09:28:45.981Z"
   },
   {
    "duration": 161,
    "start_time": "2023-01-21T09:28:46.174Z"
   },
   {
    "duration": 169,
    "start_time": "2023-01-21T09:28:46.336Z"
   },
   {
    "duration": 177,
    "start_time": "2023-01-21T09:28:46.507Z"
   },
   {
    "duration": 5,
    "start_time": "2023-01-21T09:28:46.685Z"
   },
   {
    "duration": 17,
    "start_time": "2023-01-21T09:28:46.692Z"
   },
   {
    "duration": 13,
    "start_time": "2023-01-21T09:28:46.710Z"
   },
   {
    "duration": 24,
    "start_time": "2023-01-21T09:30:38.257Z"
   },
   {
    "duration": 64,
    "start_time": "2023-01-21T09:30:40.659Z"
   },
   {
    "duration": 13,
    "start_time": "2023-01-21T09:30:40.725Z"
   },
   {
    "duration": 8,
    "start_time": "2023-01-21T09:30:40.740Z"
   },
   {
    "duration": 30,
    "start_time": "2023-01-21T09:30:40.750Z"
   },
   {
    "duration": 37,
    "start_time": "2023-01-21T09:30:40.782Z"
   },
   {
    "duration": 11,
    "start_time": "2023-01-21T09:30:40.821Z"
   },
   {
    "duration": 9,
    "start_time": "2023-01-21T09:30:40.834Z"
   },
   {
    "duration": 14,
    "start_time": "2023-01-21T09:30:40.845Z"
   },
   {
    "duration": 42,
    "start_time": "2023-01-21T09:30:40.861Z"
   },
   {
    "duration": 25,
    "start_time": "2023-01-21T09:30:40.908Z"
   },
   {
    "duration": 5,
    "start_time": "2023-01-21T09:30:40.935Z"
   },
   {
    "duration": 169,
    "start_time": "2023-01-21T09:30:40.942Z"
   },
   {
    "duration": 6,
    "start_time": "2023-01-21T09:30:41.113Z"
   },
   {
    "duration": 24,
    "start_time": "2023-01-21T09:30:41.121Z"
   },
   {
    "duration": 7,
    "start_time": "2023-01-21T09:30:41.146Z"
   },
   {
    "duration": 8,
    "start_time": "2023-01-21T09:30:41.154Z"
   },
   {
    "duration": 8,
    "start_time": "2023-01-21T09:30:41.163Z"
   },
   {
    "duration": 32,
    "start_time": "2023-01-21T09:30:41.172Z"
   },
   {
    "duration": 20,
    "start_time": "2023-01-21T09:30:41.206Z"
   },
   {
    "duration": 7,
    "start_time": "2023-01-21T09:30:41.228Z"
   },
   {
    "duration": 9,
    "start_time": "2023-01-21T09:30:41.236Z"
   },
   {
    "duration": 35,
    "start_time": "2023-01-21T09:30:41.257Z"
   },
   {
    "duration": 14,
    "start_time": "2023-01-21T09:30:41.294Z"
   },
   {
    "duration": 20,
    "start_time": "2023-01-21T09:30:41.310Z"
   },
   {
    "duration": 1494,
    "start_time": "2023-01-21T09:30:41.332Z"
   },
   {
    "duration": 5,
    "start_time": "2023-01-21T09:30:42.827Z"
   },
   {
    "duration": 24,
    "start_time": "2023-01-21T09:30:42.833Z"
   },
   {
    "duration": 16,
    "start_time": "2023-01-21T09:30:42.861Z"
   },
   {
    "duration": 54,
    "start_time": "2023-01-21T09:30:42.879Z"
   },
   {
    "duration": 8,
    "start_time": "2023-01-21T09:30:42.935Z"
   },
   {
    "duration": 117,
    "start_time": "2023-01-21T09:30:42.944Z"
   },
   {
    "duration": 21,
    "start_time": "2023-01-21T09:30:43.063Z"
   },
   {
    "duration": 330,
    "start_time": "2023-01-21T09:30:43.086Z"
   },
   {
    "duration": 8,
    "start_time": "2023-01-21T09:30:43.418Z"
   },
   {
    "duration": 212,
    "start_time": "2023-01-21T09:30:43.428Z"
   },
   {
    "duration": 5,
    "start_time": "2023-01-21T09:30:43.641Z"
   },
   {
    "duration": 188,
    "start_time": "2023-01-21T09:30:43.648Z"
   },
   {
    "duration": 7,
    "start_time": "2023-01-21T09:30:43.838Z"
   },
   {
    "duration": 201,
    "start_time": "2023-01-21T09:30:43.847Z"
   },
   {
    "duration": 6,
    "start_time": "2023-01-21T09:30:44.050Z"
   },
   {
    "duration": 267,
    "start_time": "2023-01-21T09:30:44.059Z"
   },
   {
    "duration": 7,
    "start_time": "2023-01-21T09:30:44.328Z"
   },
   {
    "duration": 253,
    "start_time": "2023-01-21T09:30:44.336Z"
   },
   {
    "duration": 12,
    "start_time": "2023-01-21T09:30:44.591Z"
   },
   {
    "duration": 188,
    "start_time": "2023-01-21T09:30:44.605Z"
   },
   {
    "duration": 12,
    "start_time": "2023-01-21T09:30:44.795Z"
   },
   {
    "duration": 185,
    "start_time": "2023-01-21T09:30:44.809Z"
   },
   {
    "duration": 8,
    "start_time": "2023-01-21T09:30:44.996Z"
   },
   {
    "duration": 236,
    "start_time": "2023-01-21T09:30:45.006Z"
   },
   {
    "duration": 9,
    "start_time": "2023-01-21T09:30:45.244Z"
   },
   {
    "duration": 243,
    "start_time": "2023-01-21T09:30:45.255Z"
   },
   {
    "duration": 6,
    "start_time": "2023-01-21T09:30:45.500Z"
   },
   {
    "duration": 209,
    "start_time": "2023-01-21T09:30:45.508Z"
   },
   {
    "duration": 6,
    "start_time": "2023-01-21T09:30:45.719Z"
   },
   {
    "duration": 17,
    "start_time": "2023-01-21T09:30:45.726Z"
   },
   {
    "duration": 20,
    "start_time": "2023-01-21T09:30:45.745Z"
   },
   {
    "duration": 154,
    "start_time": "2023-01-21T09:30:45.766Z"
   },
   {
    "duration": 14,
    "start_time": "2023-01-21T09:30:45.922Z"
   },
   {
    "duration": 148,
    "start_time": "2023-01-21T09:30:45.938Z"
   },
   {
    "duration": 21,
    "start_time": "2023-01-21T09:30:46.088Z"
   },
   {
    "duration": 130,
    "start_time": "2023-01-21T09:30:46.110Z"
   },
   {
    "duration": 13,
    "start_time": "2023-01-21T09:30:46.242Z"
   },
   {
    "duration": 150,
    "start_time": "2023-01-21T09:30:46.256Z"
   },
   {
    "duration": 12,
    "start_time": "2023-01-21T09:30:46.408Z"
   },
   {
    "duration": 148,
    "start_time": "2023-01-21T09:30:46.422Z"
   },
   {
    "duration": 15,
    "start_time": "2023-01-21T09:30:46.572Z"
   },
   {
    "duration": 150,
    "start_time": "2023-01-21T09:30:46.588Z"
   },
   {
    "duration": 14,
    "start_time": "2023-01-21T09:30:46.740Z"
   },
   {
    "duration": 154,
    "start_time": "2023-01-21T09:30:46.755Z"
   },
   {
    "duration": 14,
    "start_time": "2023-01-21T09:30:46.911Z"
   },
   {
    "duration": 151,
    "start_time": "2023-01-21T09:30:46.927Z"
   },
   {
    "duration": 5,
    "start_time": "2023-01-21T09:30:47.080Z"
   },
   {
    "duration": 177,
    "start_time": "2023-01-21T09:30:47.087Z"
   },
   {
    "duration": 178,
    "start_time": "2023-01-21T09:30:47.266Z"
   },
   {
    "duration": 160,
    "start_time": "2023-01-21T09:30:47.446Z"
   },
   {
    "duration": 178,
    "start_time": "2023-01-21T09:30:47.608Z"
   },
   {
    "duration": 5,
    "start_time": "2023-01-21T09:30:47.788Z"
   },
   {
    "duration": 12,
    "start_time": "2023-01-21T09:30:47.795Z"
   },
   {
    "duration": 13,
    "start_time": "2023-01-21T09:30:47.809Z"
   },
   {
    "duration": 4,
    "start_time": "2023-01-21T09:49:28.942Z"
   },
   {
    "duration": 21,
    "start_time": "2023-01-21T09:49:30.993Z"
   },
   {
    "duration": 63,
    "start_time": "2023-01-21T09:49:45.928Z"
   },
   {
    "duration": 14,
    "start_time": "2023-01-21T09:49:45.993Z"
   },
   {
    "duration": 12,
    "start_time": "2023-01-21T09:49:46.008Z"
   },
   {
    "duration": 31,
    "start_time": "2023-01-21T09:49:46.022Z"
   },
   {
    "duration": 22,
    "start_time": "2023-01-21T09:49:46.054Z"
   },
   {
    "duration": 12,
    "start_time": "2023-01-21T09:49:46.078Z"
   },
   {
    "duration": 22,
    "start_time": "2023-01-21T09:49:46.092Z"
   },
   {
    "duration": 22,
    "start_time": "2023-01-21T09:49:46.116Z"
   },
   {
    "duration": 11,
    "start_time": "2023-01-21T09:49:46.140Z"
   },
   {
    "duration": 19,
    "start_time": "2023-01-21T09:49:46.153Z"
   },
   {
    "duration": 10,
    "start_time": "2023-01-21T09:49:46.173Z"
   },
   {
    "duration": 159,
    "start_time": "2023-01-21T09:49:46.184Z"
   },
   {
    "duration": 5,
    "start_time": "2023-01-21T09:49:46.345Z"
   },
   {
    "duration": 28,
    "start_time": "2023-01-21T09:49:46.351Z"
   },
   {
    "duration": 6,
    "start_time": "2023-01-21T09:49:46.381Z"
   },
   {
    "duration": 4,
    "start_time": "2023-01-21T09:49:46.404Z"
   },
   {
    "duration": 15,
    "start_time": "2023-01-21T09:49:46.410Z"
   },
   {
    "duration": 17,
    "start_time": "2023-01-21T09:49:46.427Z"
   },
   {
    "duration": 33,
    "start_time": "2023-01-21T09:49:46.445Z"
   },
   {
    "duration": 14,
    "start_time": "2023-01-21T09:49:46.479Z"
   },
   {
    "duration": 22,
    "start_time": "2023-01-21T09:49:46.494Z"
   },
   {
    "duration": 24,
    "start_time": "2023-01-21T09:49:46.518Z"
   },
   {
    "duration": 18,
    "start_time": "2023-01-21T09:49:46.543Z"
   },
   {
    "duration": 25,
    "start_time": "2023-01-21T09:49:46.563Z"
   },
   {
    "duration": 1243,
    "start_time": "2023-01-21T09:49:46.589Z"
   },
   {
    "duration": 4,
    "start_time": "2023-01-21T09:49:47.834Z"
   },
   {
    "duration": 56,
    "start_time": "2023-01-21T09:49:47.840Z"
   },
   {
    "duration": 226,
    "start_time": "2023-01-21T09:49:47.900Z"
   },
   {
    "duration": 20,
    "start_time": "2023-01-21T09:49:48.128Z"
   },
   {
    "duration": 34,
    "start_time": "2023-01-21T09:49:48.149Z"
   },
   {
    "duration": 6,
    "start_time": "2023-01-21T09:49:48.184Z"
   },
   {
    "duration": 23,
    "start_time": "2023-01-21T09:49:48.204Z"
   },
   {
    "duration": 26,
    "start_time": "2023-01-21T09:49:48.229Z"
   },
   {
    "duration": 284,
    "start_time": "2023-01-21T09:49:48.257Z"
   },
   {
    "duration": 6,
    "start_time": "2023-01-21T09:49:48.544Z"
   },
   {
    "duration": 200,
    "start_time": "2023-01-21T09:49:48.555Z"
   },
   {
    "duration": 5,
    "start_time": "2023-01-21T09:49:48.756Z"
   },
   {
    "duration": 188,
    "start_time": "2023-01-21T09:49:48.763Z"
   },
   {
    "duration": 7,
    "start_time": "2023-01-21T09:49:48.952Z"
   },
   {
    "duration": 182,
    "start_time": "2023-01-21T09:49:48.961Z"
   },
   {
    "duration": 5,
    "start_time": "2023-01-21T09:49:49.144Z"
   },
   {
    "duration": 203,
    "start_time": "2023-01-21T09:49:49.151Z"
   },
   {
    "duration": 6,
    "start_time": "2023-01-21T09:49:49.356Z"
   },
   {
    "duration": 192,
    "start_time": "2023-01-21T09:49:49.364Z"
   },
   {
    "duration": 5,
    "start_time": "2023-01-21T09:49:49.558Z"
   },
   {
    "duration": 186,
    "start_time": "2023-01-21T09:49:49.564Z"
   },
   {
    "duration": 6,
    "start_time": "2023-01-21T09:49:49.751Z"
   },
   {
    "duration": 188,
    "start_time": "2023-01-21T09:49:49.759Z"
   },
   {
    "duration": 5,
    "start_time": "2023-01-21T09:49:49.948Z"
   },
   {
    "duration": 192,
    "start_time": "2023-01-21T09:49:49.954Z"
   },
   {
    "duration": 6,
    "start_time": "2023-01-21T09:49:50.148Z"
   },
   {
    "duration": 188,
    "start_time": "2023-01-21T09:49:50.155Z"
   },
   {
    "duration": 5,
    "start_time": "2023-01-21T09:49:50.345Z"
   },
   {
    "duration": 221,
    "start_time": "2023-01-21T09:49:50.352Z"
   },
   {
    "duration": 7,
    "start_time": "2023-01-21T09:49:50.575Z"
   },
   {
    "duration": 32,
    "start_time": "2023-01-21T09:49:50.584Z"
   },
   {
    "duration": 18,
    "start_time": "2023-01-21T09:49:50.617Z"
   },
   {
    "duration": 157,
    "start_time": "2023-01-21T09:49:50.637Z"
   },
   {
    "duration": 14,
    "start_time": "2023-01-21T09:49:50.803Z"
   },
   {
    "duration": 151,
    "start_time": "2023-01-21T09:49:50.819Z"
   },
   {
    "duration": 17,
    "start_time": "2023-01-21T09:49:50.971Z"
   },
   {
    "duration": 138,
    "start_time": "2023-01-21T09:49:50.989Z"
   },
   {
    "duration": 15,
    "start_time": "2023-01-21T09:49:51.129Z"
   },
   {
    "duration": 162,
    "start_time": "2023-01-21T09:49:51.146Z"
   },
   {
    "duration": 13,
    "start_time": "2023-01-21T09:49:51.310Z"
   },
   {
    "duration": 149,
    "start_time": "2023-01-21T09:49:51.325Z"
   },
   {
    "duration": 15,
    "start_time": "2023-01-21T09:49:51.476Z"
   },
   {
    "duration": 149,
    "start_time": "2023-01-21T09:49:51.492Z"
   },
   {
    "duration": 15,
    "start_time": "2023-01-21T09:49:51.643Z"
   },
   {
    "duration": 149,
    "start_time": "2023-01-21T09:49:51.659Z"
   },
   {
    "duration": 14,
    "start_time": "2023-01-21T09:49:51.810Z"
   },
   {
    "duration": 149,
    "start_time": "2023-01-21T09:49:51.825Z"
   },
   {
    "duration": 5,
    "start_time": "2023-01-21T09:49:51.975Z"
   },
   {
    "duration": 167,
    "start_time": "2023-01-21T09:49:51.982Z"
   },
   {
    "duration": 164,
    "start_time": "2023-01-21T09:49:52.150Z"
   },
   {
    "duration": 170,
    "start_time": "2023-01-21T09:49:52.315Z"
   },
   {
    "duration": 161,
    "start_time": "2023-01-21T09:49:52.487Z"
   },
   {
    "duration": 5,
    "start_time": "2023-01-21T09:49:52.650Z"
   },
   {
    "duration": 11,
    "start_time": "2023-01-21T09:49:52.657Z"
   },
   {
    "duration": 10,
    "start_time": "2023-01-21T09:49:52.670Z"
   },
   {
    "duration": 68,
    "start_time": "2023-01-21T09:59:33.422Z"
   },
   {
    "duration": 13,
    "start_time": "2023-01-21T09:59:33.492Z"
   },
   {
    "duration": 30,
    "start_time": "2023-01-21T09:59:33.507Z"
   },
   {
    "duration": 73,
    "start_time": "2023-01-21T09:59:33.539Z"
   },
   {
    "duration": 35,
    "start_time": "2023-01-21T09:59:33.614Z"
   },
   {
    "duration": 38,
    "start_time": "2023-01-21T09:59:33.651Z"
   },
   {
    "duration": 31,
    "start_time": "2023-01-21T09:59:33.691Z"
   },
   {
    "duration": 43,
    "start_time": "2023-01-21T09:59:33.723Z"
   },
   {
    "duration": 60,
    "start_time": "2023-01-21T09:59:33.768Z"
   },
   {
    "duration": 15,
    "start_time": "2023-01-21T09:59:33.831Z"
   },
   {
    "duration": 6,
    "start_time": "2023-01-21T09:59:33.848Z"
   },
   {
    "duration": 147,
    "start_time": "2023-01-21T09:59:33.856Z"
   },
   {
    "duration": 5,
    "start_time": "2023-01-21T09:59:34.004Z"
   },
   {
    "duration": 26,
    "start_time": "2023-01-21T09:59:34.011Z"
   },
   {
    "duration": 8,
    "start_time": "2023-01-21T09:59:34.040Z"
   },
   {
    "duration": 10,
    "start_time": "2023-01-21T09:59:34.050Z"
   },
   {
    "duration": 21,
    "start_time": "2023-01-21T09:59:34.062Z"
   },
   {
    "duration": 13,
    "start_time": "2023-01-21T09:59:34.085Z"
   },
   {
    "duration": 18,
    "start_time": "2023-01-21T09:59:34.103Z"
   },
   {
    "duration": 17,
    "start_time": "2023-01-21T09:59:34.123Z"
   },
   {
    "duration": 19,
    "start_time": "2023-01-21T09:59:34.142Z"
   },
   {
    "duration": 31,
    "start_time": "2023-01-21T09:59:34.163Z"
   },
   {
    "duration": 13,
    "start_time": "2023-01-21T09:59:34.197Z"
   },
   {
    "duration": 27,
    "start_time": "2023-01-21T09:59:34.212Z"
   },
   {
    "duration": 1274,
    "start_time": "2023-01-21T09:59:34.241Z"
   },
   {
    "duration": 5,
    "start_time": "2023-01-21T09:59:35.516Z"
   },
   {
    "duration": 26,
    "start_time": "2023-01-21T09:59:35.523Z"
   },
   {
    "duration": 18,
    "start_time": "2023-01-21T09:59:35.553Z"
   },
   {
    "duration": 51,
    "start_time": "2023-01-21T09:59:35.573Z"
   },
   {
    "duration": 5,
    "start_time": "2023-01-21T09:59:35.627Z"
   },
   {
    "duration": 25,
    "start_time": "2023-01-21T09:59:35.634Z"
   },
   {
    "duration": 18,
    "start_time": "2023-01-21T09:59:35.661Z"
   },
   {
    "duration": 308,
    "start_time": "2023-01-21T09:59:35.681Z"
   },
   {
    "duration": 13,
    "start_time": "2023-01-21T09:59:35.991Z"
   },
   {
    "duration": 224,
    "start_time": "2023-01-21T09:59:36.006Z"
   },
   {
    "duration": 5,
    "start_time": "2023-01-21T09:59:36.231Z"
   },
   {
    "duration": 209,
    "start_time": "2023-01-21T09:59:36.238Z"
   },
   {
    "duration": 6,
    "start_time": "2023-01-21T09:59:36.449Z"
   },
   {
    "duration": 204,
    "start_time": "2023-01-21T09:59:36.457Z"
   },
   {
    "duration": 6,
    "start_time": "2023-01-21T09:59:36.664Z"
   },
   {
    "duration": 204,
    "start_time": "2023-01-21T09:59:36.672Z"
   },
   {
    "duration": 6,
    "start_time": "2023-01-21T09:59:36.878Z"
   },
   {
    "duration": 207,
    "start_time": "2023-01-21T09:59:36.886Z"
   },
   {
    "duration": 5,
    "start_time": "2023-01-21T09:59:37.095Z"
   },
   {
    "duration": 227,
    "start_time": "2023-01-21T09:59:37.103Z"
   },
   {
    "duration": 6,
    "start_time": "2023-01-21T09:59:37.333Z"
   },
   {
    "duration": 206,
    "start_time": "2023-01-21T09:59:37.341Z"
   },
   {
    "duration": 6,
    "start_time": "2023-01-21T09:59:37.549Z"
   },
   {
    "duration": 459,
    "start_time": "2023-01-21T09:59:37.557Z"
   },
   {
    "duration": 6,
    "start_time": "2023-01-21T09:59:38.018Z"
   },
   {
    "duration": 178,
    "start_time": "2023-01-21T09:59:38.026Z"
   },
   {
    "duration": 5,
    "start_time": "2023-01-21T09:59:38.206Z"
   },
   {
    "duration": 197,
    "start_time": "2023-01-21T09:59:38.213Z"
   },
   {
    "duration": 6,
    "start_time": "2023-01-21T09:59:38.412Z"
   },
   {
    "duration": 60,
    "start_time": "2023-01-21T09:59:38.420Z"
   },
   {
    "duration": 15,
    "start_time": "2023-01-21T09:59:38.481Z"
   },
   {
    "duration": 132,
    "start_time": "2023-01-21T09:59:38.498Z"
   },
   {
    "duration": 15,
    "start_time": "2023-01-21T09:59:38.632Z"
   },
   {
    "duration": 169,
    "start_time": "2023-01-21T09:59:38.649Z"
   },
   {
    "duration": 44,
    "start_time": "2023-01-21T09:59:38.820Z"
   },
   {
    "duration": 139,
    "start_time": "2023-01-21T09:59:38.866Z"
   },
   {
    "duration": 15,
    "start_time": "2023-01-21T09:59:39.006Z"
   },
   {
    "duration": 143,
    "start_time": "2023-01-21T09:59:39.023Z"
   },
   {
    "duration": 15,
    "start_time": "2023-01-21T09:59:39.168Z"
   },
   {
    "duration": 171,
    "start_time": "2023-01-21T09:59:39.185Z"
   },
   {
    "duration": 15,
    "start_time": "2023-01-21T09:59:39.357Z"
   },
   {
    "duration": 153,
    "start_time": "2023-01-21T09:59:39.373Z"
   },
   {
    "duration": 15,
    "start_time": "2023-01-21T09:59:39.528Z"
   },
   {
    "duration": 149,
    "start_time": "2023-01-21T09:59:39.545Z"
   },
   {
    "duration": 18,
    "start_time": "2023-01-21T09:59:39.696Z"
   },
   {
    "duration": 156,
    "start_time": "2023-01-21T09:59:39.716Z"
   },
   {
    "duration": 6,
    "start_time": "2023-01-21T09:59:39.874Z"
   },
   {
    "duration": 173,
    "start_time": "2023-01-21T09:59:39.882Z"
   },
   {
    "duration": 174,
    "start_time": "2023-01-21T09:59:40.057Z"
   },
   {
    "duration": 175,
    "start_time": "2023-01-21T09:59:40.233Z"
   },
   {
    "duration": 158,
    "start_time": "2023-01-21T09:59:40.410Z"
   },
   {
    "duration": 5,
    "start_time": "2023-01-21T09:59:40.570Z"
   },
   {
    "duration": 16,
    "start_time": "2023-01-21T09:59:40.576Z"
   },
   {
    "duration": 14,
    "start_time": "2023-01-21T09:59:40.593Z"
   },
   {
    "duration": 4,
    "start_time": "2023-01-21T10:03:26.539Z"
   },
   {
    "duration": 68,
    "start_time": "2023-01-21T10:03:33.364Z"
   },
   {
    "duration": 13,
    "start_time": "2023-01-21T10:03:33.434Z"
   },
   {
    "duration": 3,
    "start_time": "2023-01-21T10:03:33.449Z"
   },
   {
    "duration": 49,
    "start_time": "2023-01-21T10:03:33.454Z"
   },
   {
    "duration": 17,
    "start_time": "2023-01-21T10:03:33.505Z"
   },
   {
    "duration": 10,
    "start_time": "2023-01-21T10:03:33.524Z"
   },
   {
    "duration": 12,
    "start_time": "2023-01-21T10:03:33.536Z"
   },
   {
    "duration": 11,
    "start_time": "2023-01-21T10:03:33.550Z"
   },
   {
    "duration": 40,
    "start_time": "2023-01-21T10:03:33.563Z"
   },
   {
    "duration": 10,
    "start_time": "2023-01-21T10:03:33.607Z"
   },
   {
    "duration": 10,
    "start_time": "2023-01-21T10:03:33.619Z"
   },
   {
    "duration": 189,
    "start_time": "2023-01-21T10:03:33.631Z"
   },
   {
    "duration": 6,
    "start_time": "2023-01-21T10:03:33.821Z"
   },
   {
    "duration": 49,
    "start_time": "2023-01-21T10:03:33.828Z"
   },
   {
    "duration": 6,
    "start_time": "2023-01-21T10:03:33.879Z"
   },
   {
    "duration": 8,
    "start_time": "2023-01-21T10:03:33.886Z"
   },
   {
    "duration": 22,
    "start_time": "2023-01-21T10:03:33.896Z"
   },
   {
    "duration": 9,
    "start_time": "2023-01-21T10:03:33.919Z"
   },
   {
    "duration": 17,
    "start_time": "2023-01-21T10:03:33.930Z"
   },
   {
    "duration": 6,
    "start_time": "2023-01-21T10:03:33.949Z"
   },
   {
    "duration": 8,
    "start_time": "2023-01-21T10:03:33.957Z"
   },
   {
    "duration": 26,
    "start_time": "2023-01-21T10:03:33.967Z"
   },
   {
    "duration": 17,
    "start_time": "2023-01-21T10:03:33.995Z"
   },
   {
    "duration": 22,
    "start_time": "2023-01-21T10:03:34.014Z"
   },
   {
    "duration": 1507,
    "start_time": "2023-01-21T10:03:34.038Z"
   },
   {
    "duration": 6,
    "start_time": "2023-01-21T10:03:35.547Z"
   },
   {
    "duration": 52,
    "start_time": "2023-01-21T10:03:35.556Z"
   },
   {
    "duration": 33,
    "start_time": "2023-01-21T10:03:35.616Z"
   },
   {
    "duration": 32,
    "start_time": "2023-01-21T10:03:35.652Z"
   },
   {
    "duration": 17,
    "start_time": "2023-01-21T10:03:35.686Z"
   },
   {
    "duration": 18,
    "start_time": "2023-01-21T10:03:35.705Z"
   },
   {
    "duration": 31,
    "start_time": "2023-01-21T10:03:35.725Z"
   },
   {
    "duration": 292,
    "start_time": "2023-01-21T10:03:35.758Z"
   },
   {
    "duration": 7,
    "start_time": "2023-01-21T10:03:36.053Z"
   },
   {
    "duration": 203,
    "start_time": "2023-01-21T10:03:36.063Z"
   },
   {
    "duration": 6,
    "start_time": "2023-01-21T10:03:36.267Z"
   },
   {
    "duration": 212,
    "start_time": "2023-01-21T10:03:36.274Z"
   },
   {
    "duration": 6,
    "start_time": "2023-01-21T10:03:36.488Z"
   },
   {
    "duration": 191,
    "start_time": "2023-01-21T10:03:36.502Z"
   },
   {
    "duration": 9,
    "start_time": "2023-01-21T10:03:36.695Z"
   },
   {
    "duration": 243,
    "start_time": "2023-01-21T10:03:36.706Z"
   },
   {
    "duration": 8,
    "start_time": "2023-01-21T10:03:36.951Z"
   },
   {
    "duration": 193,
    "start_time": "2023-01-21T10:03:36.960Z"
   },
   {
    "duration": 7,
    "start_time": "2023-01-21T10:03:37.154Z"
   },
   {
    "duration": 228,
    "start_time": "2023-01-21T10:03:37.162Z"
   },
   {
    "duration": 12,
    "start_time": "2023-01-21T10:03:37.392Z"
   },
   {
    "duration": 190,
    "start_time": "2023-01-21T10:03:37.405Z"
   },
   {
    "duration": 5,
    "start_time": "2023-01-21T10:03:37.603Z"
   },
   {
    "duration": 193,
    "start_time": "2023-01-21T10:03:37.610Z"
   },
   {
    "duration": 5,
    "start_time": "2023-01-21T10:03:37.805Z"
   },
   {
    "duration": 210,
    "start_time": "2023-01-21T10:03:37.812Z"
   },
   {
    "duration": 5,
    "start_time": "2023-01-21T10:03:38.023Z"
   },
   {
    "duration": 174,
    "start_time": "2023-01-21T10:03:38.029Z"
   },
   {
    "duration": 6,
    "start_time": "2023-01-21T10:03:38.205Z"
   },
   {
    "duration": 22,
    "start_time": "2023-01-21T10:03:38.212Z"
   },
   {
    "duration": 13,
    "start_time": "2023-01-21T10:03:38.236Z"
   },
   {
    "duration": 155,
    "start_time": "2023-01-21T10:03:38.251Z"
   },
   {
    "duration": 14,
    "start_time": "2023-01-21T10:03:38.408Z"
   },
   {
    "duration": 146,
    "start_time": "2023-01-21T10:03:38.424Z"
   },
   {
    "duration": 15,
    "start_time": "2023-01-21T10:03:38.572Z"
   },
   {
    "duration": 145,
    "start_time": "2023-01-21T10:03:38.604Z"
   },
   {
    "duration": 14,
    "start_time": "2023-01-21T10:03:38.751Z"
   },
   {
    "duration": 172,
    "start_time": "2023-01-21T10:03:38.767Z"
   },
   {
    "duration": 15,
    "start_time": "2023-01-21T10:03:38.941Z"
   },
   {
    "duration": 153,
    "start_time": "2023-01-21T10:03:38.957Z"
   },
   {
    "duration": 14,
    "start_time": "2023-01-21T10:03:39.111Z"
   },
   {
    "duration": 172,
    "start_time": "2023-01-21T10:03:39.127Z"
   },
   {
    "duration": 17,
    "start_time": "2023-01-21T10:03:39.305Z"
   },
   {
    "duration": 199,
    "start_time": "2023-01-21T10:03:39.324Z"
   },
   {
    "duration": 17,
    "start_time": "2023-01-21T10:03:39.525Z"
   },
   {
    "duration": 197,
    "start_time": "2023-01-21T10:03:39.544Z"
   },
   {
    "duration": 7,
    "start_time": "2023-01-21T10:03:39.742Z"
   },
   {
    "duration": 207,
    "start_time": "2023-01-21T10:03:39.750Z"
   },
   {
    "duration": 186,
    "start_time": "2023-01-21T10:03:39.959Z"
   },
   {
    "duration": 177,
    "start_time": "2023-01-21T10:03:40.147Z"
   },
   {
    "duration": 182,
    "start_time": "2023-01-21T10:03:40.327Z"
   },
   {
    "duration": 5,
    "start_time": "2023-01-21T10:03:40.512Z"
   },
   {
    "duration": 17,
    "start_time": "2023-01-21T10:03:40.519Z"
   },
   {
    "duration": 10,
    "start_time": "2023-01-21T10:03:40.537Z"
   },
   {
    "duration": 235,
    "start_time": "2023-01-21T10:05:03.428Z"
   },
   {
    "duration": 61,
    "start_time": "2023-01-21T10:05:09.387Z"
   },
   {
    "duration": 13,
    "start_time": "2023-01-21T10:05:09.450Z"
   },
   {
    "duration": 8,
    "start_time": "2023-01-21T10:05:09.464Z"
   },
   {
    "duration": 41,
    "start_time": "2023-01-21T10:05:09.475Z"
   },
   {
    "duration": 19,
    "start_time": "2023-01-21T10:05:09.518Z"
   },
   {
    "duration": 9,
    "start_time": "2023-01-21T10:05:09.539Z"
   },
   {
    "duration": 7,
    "start_time": "2023-01-21T10:05:09.549Z"
   },
   {
    "duration": 25,
    "start_time": "2023-01-21T10:05:09.558Z"
   },
   {
    "duration": 9,
    "start_time": "2023-01-21T10:05:09.604Z"
   },
   {
    "duration": 17,
    "start_time": "2023-01-21T10:05:09.617Z"
   },
   {
    "duration": 12,
    "start_time": "2023-01-21T10:05:09.636Z"
   },
   {
    "duration": 184,
    "start_time": "2023-01-21T10:05:09.649Z"
   },
   {
    "duration": 6,
    "start_time": "2023-01-21T10:05:09.835Z"
   },
   {
    "duration": 23,
    "start_time": "2023-01-21T10:05:09.842Z"
   },
   {
    "duration": 8,
    "start_time": "2023-01-21T10:05:09.867Z"
   },
   {
    "duration": 5,
    "start_time": "2023-01-21T10:05:09.877Z"
   },
   {
    "duration": 6,
    "start_time": "2023-01-21T10:05:09.902Z"
   },
   {
    "duration": 8,
    "start_time": "2023-01-21T10:05:09.910Z"
   },
   {
    "duration": 19,
    "start_time": "2023-01-21T10:05:09.920Z"
   },
   {
    "duration": 7,
    "start_time": "2023-01-21T10:05:09.940Z"
   },
   {
    "duration": 8,
    "start_time": "2023-01-21T10:05:09.948Z"
   },
   {
    "duration": 47,
    "start_time": "2023-01-21T10:05:09.957Z"
   },
   {
    "duration": 6,
    "start_time": "2023-01-21T10:05:10.006Z"
   },
   {
    "duration": 26,
    "start_time": "2023-01-21T10:05:10.014Z"
   },
   {
    "duration": 1528,
    "start_time": "2023-01-21T10:05:10.042Z"
   },
   {
    "duration": 4,
    "start_time": "2023-01-21T10:05:11.572Z"
   },
   {
    "duration": 39,
    "start_time": "2023-01-21T10:05:11.578Z"
   },
   {
    "duration": 13,
    "start_time": "2023-01-21T10:05:11.621Z"
   },
   {
    "duration": 26,
    "start_time": "2023-01-21T10:05:11.636Z"
   },
   {
    "duration": 5,
    "start_time": "2023-01-21T10:05:11.664Z"
   },
   {
    "duration": 7,
    "start_time": "2023-01-21T10:05:11.671Z"
   },
   {
    "duration": 35,
    "start_time": "2023-01-21T10:05:11.680Z"
   },
   {
    "duration": 271,
    "start_time": "2023-01-21T10:05:11.717Z"
   },
   {
    "duration": 14,
    "start_time": "2023-01-21T10:05:11.990Z"
   },
   {
    "duration": 191,
    "start_time": "2023-01-21T10:05:12.005Z"
   },
   {
    "duration": 11,
    "start_time": "2023-01-21T10:05:12.198Z"
   },
   {
    "duration": 198,
    "start_time": "2023-01-21T10:05:12.211Z"
   },
   {
    "duration": 7,
    "start_time": "2023-01-21T10:05:12.410Z"
   },
   {
    "duration": 206,
    "start_time": "2023-01-21T10:05:12.419Z"
   },
   {
    "duration": 6,
    "start_time": "2023-01-21T10:05:12.627Z"
   },
   {
    "duration": 219,
    "start_time": "2023-01-21T10:05:12.634Z"
   },
   {
    "duration": 7,
    "start_time": "2023-01-21T10:05:12.855Z"
   },
   {
    "duration": 199,
    "start_time": "2023-01-21T10:05:12.864Z"
   },
   {
    "duration": 5,
    "start_time": "2023-01-21T10:05:13.065Z"
   },
   {
    "duration": 184,
    "start_time": "2023-01-21T10:05:13.073Z"
   },
   {
    "duration": 7,
    "start_time": "2023-01-21T10:05:13.259Z"
   },
   {
    "duration": 184,
    "start_time": "2023-01-21T10:05:13.268Z"
   },
   {
    "duration": 6,
    "start_time": "2023-01-21T10:05:13.453Z"
   },
   {
    "duration": 175,
    "start_time": "2023-01-21T10:05:13.461Z"
   },
   {
    "duration": 5,
    "start_time": "2023-01-21T10:05:13.638Z"
   },
   {
    "duration": 171,
    "start_time": "2023-01-21T10:05:13.645Z"
   },
   {
    "duration": 4,
    "start_time": "2023-01-21T10:05:13.818Z"
   },
   {
    "duration": 170,
    "start_time": "2023-01-21T10:05:13.824Z"
   },
   {
    "duration": 9,
    "start_time": "2023-01-21T10:05:13.996Z"
   },
   {
    "duration": 20,
    "start_time": "2023-01-21T10:05:14.007Z"
   },
   {
    "duration": 21,
    "start_time": "2023-01-21T10:05:14.028Z"
   },
   {
    "duration": 176,
    "start_time": "2023-01-21T10:05:14.051Z"
   },
   {
    "duration": 18,
    "start_time": "2023-01-21T10:05:14.229Z"
   },
   {
    "duration": 180,
    "start_time": "2023-01-21T10:05:14.249Z"
   },
   {
    "duration": 13,
    "start_time": "2023-01-21T10:05:14.431Z"
   },
   {
    "duration": 145,
    "start_time": "2023-01-21T10:05:14.446Z"
   },
   {
    "duration": 19,
    "start_time": "2023-01-21T10:05:14.593Z"
   },
   {
    "duration": 138,
    "start_time": "2023-01-21T10:05:14.613Z"
   },
   {
    "duration": 15,
    "start_time": "2023-01-21T10:05:14.753Z"
   },
   {
    "duration": 147,
    "start_time": "2023-01-21T10:05:14.770Z"
   },
   {
    "duration": 14,
    "start_time": "2023-01-21T10:05:14.919Z"
   },
   {
    "duration": 153,
    "start_time": "2023-01-21T10:05:14.935Z"
   },
   {
    "duration": 23,
    "start_time": "2023-01-21T10:05:15.090Z"
   },
   {
    "duration": 166,
    "start_time": "2023-01-21T10:05:15.115Z"
   },
   {
    "duration": 22,
    "start_time": "2023-01-21T10:05:15.282Z"
   },
   {
    "duration": 167,
    "start_time": "2023-01-21T10:05:15.306Z"
   },
   {
    "duration": 7,
    "start_time": "2023-01-21T10:05:15.474Z"
   },
   {
    "duration": 185,
    "start_time": "2023-01-21T10:05:15.483Z"
   },
   {
    "duration": 162,
    "start_time": "2023-01-21T10:05:15.670Z"
   },
   {
    "duration": 151,
    "start_time": "2023-01-21T10:05:15.834Z"
   },
   {
    "duration": 166,
    "start_time": "2023-01-21T10:05:15.986Z"
   },
   {
    "duration": 6,
    "start_time": "2023-01-21T10:05:16.154Z"
   },
   {
    "duration": 51,
    "start_time": "2023-01-21T10:05:16.161Z"
   },
   {
    "duration": 22,
    "start_time": "2023-01-21T10:05:16.213Z"
   },
   {
    "duration": 234,
    "start_time": "2023-01-21T10:05:25.250Z"
   },
   {
    "duration": 227,
    "start_time": "2023-01-21T10:05:32.426Z"
   },
   {
    "duration": 236,
    "start_time": "2023-01-21T10:05:45.556Z"
   },
   {
    "duration": 230,
    "start_time": "2023-01-21T10:06:09.779Z"
   },
   {
    "duration": 238,
    "start_time": "2023-01-21T10:06:17.386Z"
   },
   {
    "duration": 237,
    "start_time": "2023-01-21T10:06:35.298Z"
   },
   {
    "duration": 244,
    "start_time": "2023-01-21T10:06:38.986Z"
   },
   {
    "duration": 244,
    "start_time": "2023-01-21T10:06:46.131Z"
   },
   {
    "duration": 230,
    "start_time": "2023-01-21T10:07:21.451Z"
   },
   {
    "duration": 278,
    "start_time": "2023-01-21T10:07:34.075Z"
   },
   {
    "duration": 244,
    "start_time": "2023-01-21T10:07:59.505Z"
   },
   {
    "duration": 259,
    "start_time": "2023-01-21T10:08:05.426Z"
   },
   {
    "duration": 254,
    "start_time": "2023-01-21T10:08:10.586Z"
   },
   {
    "duration": 66,
    "start_time": "2023-01-21T10:08:16.810Z"
   },
   {
    "duration": 224,
    "start_time": "2023-01-21T10:08:19.865Z"
   },
   {
    "duration": 223,
    "start_time": "2023-01-21T10:08:37.804Z"
   },
   {
    "duration": 251,
    "start_time": "2023-01-21T10:08:55.178Z"
   },
   {
    "duration": 266,
    "start_time": "2023-01-21T10:10:06.081Z"
   },
   {
    "duration": 246,
    "start_time": "2023-01-21T10:10:15.345Z"
   },
   {
    "duration": 260,
    "start_time": "2023-01-21T10:10:20.321Z"
   },
   {
    "duration": 627,
    "start_time": "2023-01-21T10:10:31.985Z"
   },
   {
    "duration": 246,
    "start_time": "2023-01-21T10:11:03.753Z"
   },
   {
    "duration": 64,
    "start_time": "2023-01-21T10:12:22.060Z"
   },
   {
    "duration": 14,
    "start_time": "2023-01-21T10:12:22.126Z"
   },
   {
    "duration": 20,
    "start_time": "2023-01-21T10:12:22.141Z"
   },
   {
    "duration": 34,
    "start_time": "2023-01-21T10:12:22.164Z"
   },
   {
    "duration": 31,
    "start_time": "2023-01-21T10:12:22.200Z"
   },
   {
    "duration": 28,
    "start_time": "2023-01-21T10:12:22.233Z"
   },
   {
    "duration": 23,
    "start_time": "2023-01-21T10:12:22.263Z"
   },
   {
    "duration": 25,
    "start_time": "2023-01-21T10:12:22.288Z"
   },
   {
    "duration": 19,
    "start_time": "2023-01-21T10:12:22.315Z"
   },
   {
    "duration": 33,
    "start_time": "2023-01-21T10:12:22.337Z"
   },
   {
    "duration": 21,
    "start_time": "2023-01-21T10:12:22.372Z"
   },
   {
    "duration": 174,
    "start_time": "2023-01-21T10:12:22.394Z"
   },
   {
    "duration": 5,
    "start_time": "2023-01-21T10:12:22.570Z"
   },
   {
    "duration": 48,
    "start_time": "2023-01-21T10:12:22.577Z"
   },
   {
    "duration": 15,
    "start_time": "2023-01-21T10:12:22.627Z"
   },
   {
    "duration": 35,
    "start_time": "2023-01-21T10:12:22.644Z"
   },
   {
    "duration": 32,
    "start_time": "2023-01-21T10:12:22.680Z"
   },
   {
    "duration": 31,
    "start_time": "2023-01-21T10:12:22.714Z"
   },
   {
    "duration": 58,
    "start_time": "2023-01-21T10:12:22.747Z"
   },
   {
    "duration": 8,
    "start_time": "2023-01-21T10:12:22.808Z"
   },
   {
    "duration": 23,
    "start_time": "2023-01-21T10:12:22.817Z"
   },
   {
    "duration": 33,
    "start_time": "2023-01-21T10:12:22.842Z"
   },
   {
    "duration": 14,
    "start_time": "2023-01-21T10:12:22.877Z"
   },
   {
    "duration": 60,
    "start_time": "2023-01-21T10:12:22.892Z"
   },
   {
    "duration": 1311,
    "start_time": "2023-01-21T10:12:22.954Z"
   },
   {
    "duration": 5,
    "start_time": "2023-01-21T10:12:24.267Z"
   },
   {
    "duration": 45,
    "start_time": "2023-01-21T10:12:24.274Z"
   },
   {
    "duration": 29,
    "start_time": "2023-01-21T10:12:24.324Z"
   },
   {
    "duration": 31,
    "start_time": "2023-01-21T10:12:24.355Z"
   },
   {
    "duration": 6,
    "start_time": "2023-01-21T10:12:24.388Z"
   },
   {
    "duration": 18,
    "start_time": "2023-01-21T10:12:24.396Z"
   },
   {
    "duration": 23,
    "start_time": "2023-01-21T10:12:24.416Z"
   },
   {
    "duration": 245,
    "start_time": "2023-01-21T10:12:24.441Z"
   },
   {
    "duration": 7,
    "start_time": "2023-01-21T10:12:24.687Z"
   },
   {
    "duration": 185,
    "start_time": "2023-01-21T10:12:24.702Z"
   },
   {
    "duration": 6,
    "start_time": "2023-01-21T10:12:24.889Z"
   },
   {
    "duration": 173,
    "start_time": "2023-01-21T10:12:24.903Z"
   },
   {
    "duration": 7,
    "start_time": "2023-01-21T10:12:25.078Z"
   },
   {
    "duration": 178,
    "start_time": "2023-01-21T10:12:25.086Z"
   },
   {
    "duration": 5,
    "start_time": "2023-01-21T10:12:25.266Z"
   },
   {
    "duration": 199,
    "start_time": "2023-01-21T10:12:25.272Z"
   },
   {
    "duration": 7,
    "start_time": "2023-01-21T10:12:25.473Z"
   },
   {
    "duration": 184,
    "start_time": "2023-01-21T10:12:25.481Z"
   },
   {
    "duration": 5,
    "start_time": "2023-01-21T10:12:25.666Z"
   },
   {
    "duration": 200,
    "start_time": "2023-01-21T10:12:25.672Z"
   },
   {
    "duration": 6,
    "start_time": "2023-01-21T10:12:25.873Z"
   },
   {
    "duration": 170,
    "start_time": "2023-01-21T10:12:25.881Z"
   },
   {
    "duration": 6,
    "start_time": "2023-01-21T10:12:26.052Z"
   },
   {
    "duration": 176,
    "start_time": "2023-01-21T10:12:26.059Z"
   },
   {
    "duration": 6,
    "start_time": "2023-01-21T10:12:26.237Z"
   },
   {
    "duration": 184,
    "start_time": "2023-01-21T10:12:26.244Z"
   },
   {
    "duration": 5,
    "start_time": "2023-01-21T10:12:26.429Z"
   },
   {
    "duration": 163,
    "start_time": "2023-01-21T10:12:26.435Z"
   },
   {
    "duration": 6,
    "start_time": "2023-01-21T10:12:26.603Z"
   },
   {
    "duration": 22,
    "start_time": "2023-01-21T10:12:26.611Z"
   },
   {
    "duration": 22,
    "start_time": "2023-01-21T10:12:26.635Z"
   },
   {
    "duration": 135,
    "start_time": "2023-01-21T10:12:26.658Z"
   },
   {
    "duration": 19,
    "start_time": "2023-01-21T10:12:26.795Z"
   },
   {
    "duration": 145,
    "start_time": "2023-01-21T10:12:26.816Z"
   },
   {
    "duration": 14,
    "start_time": "2023-01-21T10:12:26.963Z"
   },
   {
    "duration": 132,
    "start_time": "2023-01-21T10:12:26.979Z"
   },
   {
    "duration": 14,
    "start_time": "2023-01-21T10:12:27.113Z"
   },
   {
    "duration": 154,
    "start_time": "2023-01-21T10:12:27.129Z"
   },
   {
    "duration": 24,
    "start_time": "2023-01-21T10:12:27.285Z"
   },
   {
    "duration": 148,
    "start_time": "2023-01-21T10:12:27.310Z"
   },
   {
    "duration": 14,
    "start_time": "2023-01-21T10:12:27.460Z"
   },
   {
    "duration": 157,
    "start_time": "2023-01-21T10:12:27.476Z"
   },
   {
    "duration": 15,
    "start_time": "2023-01-21T10:12:27.635Z"
   },
   {
    "duration": 156,
    "start_time": "2023-01-21T10:12:27.651Z"
   },
   {
    "duration": 15,
    "start_time": "2023-01-21T10:12:27.808Z"
   },
   {
    "duration": 179,
    "start_time": "2023-01-21T10:12:27.824Z"
   },
   {
    "duration": 6,
    "start_time": "2023-01-21T10:12:28.004Z"
   },
   {
    "duration": 176,
    "start_time": "2023-01-21T10:12:28.011Z"
   },
   {
    "duration": 156,
    "start_time": "2023-01-21T10:12:28.189Z"
   },
   {
    "duration": 146,
    "start_time": "2023-01-21T10:12:28.347Z"
   },
   {
    "duration": 142,
    "start_time": "2023-01-21T10:12:28.495Z"
   },
   {
    "duration": 5,
    "start_time": "2023-01-21T10:12:28.639Z"
   },
   {
    "duration": 25,
    "start_time": "2023-01-21T10:12:28.645Z"
   },
   {
    "duration": 22,
    "start_time": "2023-01-21T10:12:28.672Z"
   },
   {
    "duration": 13,
    "start_time": "2023-01-21T10:17:34.410Z"
   },
   {
    "duration": 14,
    "start_time": "2023-01-21T10:17:57.602Z"
   },
   {
    "duration": 8,
    "start_time": "2023-01-21T10:19:41.675Z"
   },
   {
    "duration": 16,
    "start_time": "2023-01-21T10:20:13.661Z"
   },
   {
    "duration": 29,
    "start_time": "2023-01-21T10:20:33.483Z"
   },
   {
    "duration": 15,
    "start_time": "2023-01-21T10:22:40.692Z"
   },
   {
    "duration": 67,
    "start_time": "2023-01-21T10:35:52.978Z"
   },
   {
    "duration": 16,
    "start_time": "2023-01-21T10:35:53.048Z"
   },
   {
    "duration": 4,
    "start_time": "2023-01-21T10:35:53.065Z"
   },
   {
    "duration": 54,
    "start_time": "2023-01-21T10:35:53.071Z"
   },
   {
    "duration": 15,
    "start_time": "2023-01-21T10:35:53.127Z"
   },
   {
    "duration": 14,
    "start_time": "2023-01-21T10:35:53.143Z"
   },
   {
    "duration": 8,
    "start_time": "2023-01-21T10:35:53.158Z"
   },
   {
    "duration": 41,
    "start_time": "2023-01-21T10:35:53.168Z"
   },
   {
    "duration": 15,
    "start_time": "2023-01-21T10:35:53.210Z"
   },
   {
    "duration": 12,
    "start_time": "2023-01-21T10:35:53.227Z"
   },
   {
    "duration": 11,
    "start_time": "2023-01-21T10:35:53.240Z"
   },
   {
    "duration": 172,
    "start_time": "2023-01-21T10:35:53.253Z"
   },
   {
    "duration": 5,
    "start_time": "2023-01-21T10:35:53.427Z"
   },
   {
    "duration": 25,
    "start_time": "2023-01-21T10:35:53.436Z"
   },
   {
    "duration": 7,
    "start_time": "2023-01-21T10:35:53.462Z"
   },
   {
    "duration": 8,
    "start_time": "2023-01-21T10:35:53.470Z"
   },
   {
    "duration": 24,
    "start_time": "2023-01-21T10:35:53.480Z"
   },
   {
    "duration": 7,
    "start_time": "2023-01-21T10:35:53.506Z"
   },
   {
    "duration": 18,
    "start_time": "2023-01-21T10:35:53.514Z"
   },
   {
    "duration": 7,
    "start_time": "2023-01-21T10:35:53.534Z"
   },
   {
    "duration": 5,
    "start_time": "2023-01-21T10:35:53.542Z"
   },
   {
    "duration": 24,
    "start_time": "2023-01-21T10:35:53.549Z"
   },
   {
    "duration": 29,
    "start_time": "2023-01-21T10:35:53.575Z"
   },
   {
    "duration": 21,
    "start_time": "2023-01-21T10:35:53.606Z"
   },
   {
    "duration": 1285,
    "start_time": "2023-01-21T10:35:53.629Z"
   },
   {
    "duration": 5,
    "start_time": "2023-01-21T10:35:54.916Z"
   },
   {
    "duration": 23,
    "start_time": "2023-01-21T10:35:54.922Z"
   },
   {
    "duration": 14,
    "start_time": "2023-01-21T10:35:54.947Z"
   },
   {
    "duration": 44,
    "start_time": "2023-01-21T10:35:54.963Z"
   },
   {
    "duration": 5,
    "start_time": "2023-01-21T10:35:55.009Z"
   },
   {
    "duration": 8,
    "start_time": "2023-01-21T10:35:55.016Z"
   },
   {
    "duration": 19,
    "start_time": "2023-01-21T10:35:55.026Z"
   },
   {
    "duration": 264,
    "start_time": "2023-01-21T10:35:55.047Z"
   },
   {
    "duration": 7,
    "start_time": "2023-01-21T10:35:55.313Z"
   },
   {
    "duration": 207,
    "start_time": "2023-01-21T10:35:55.321Z"
   },
   {
    "duration": 7,
    "start_time": "2023-01-21T10:35:55.530Z"
   },
   {
    "duration": 198,
    "start_time": "2023-01-21T10:35:55.539Z"
   },
   {
    "duration": 7,
    "start_time": "2023-01-21T10:35:55.739Z"
   },
   {
    "duration": 177,
    "start_time": "2023-01-21T10:35:55.748Z"
   },
   {
    "duration": 5,
    "start_time": "2023-01-21T10:35:55.926Z"
   },
   {
    "duration": 192,
    "start_time": "2023-01-21T10:35:55.935Z"
   },
   {
    "duration": 6,
    "start_time": "2023-01-21T10:35:56.129Z"
   },
   {
    "duration": 192,
    "start_time": "2023-01-21T10:35:56.137Z"
   },
   {
    "duration": 7,
    "start_time": "2023-01-21T10:35:56.332Z"
   },
   {
    "duration": 186,
    "start_time": "2023-01-21T10:35:56.341Z"
   },
   {
    "duration": 7,
    "start_time": "2023-01-21T10:35:56.528Z"
   },
   {
    "duration": 171,
    "start_time": "2023-01-21T10:35:56.537Z"
   },
   {
    "duration": 6,
    "start_time": "2023-01-21T10:35:56.710Z"
   },
   {
    "duration": 195,
    "start_time": "2023-01-21T10:35:56.718Z"
   },
   {
    "duration": 6,
    "start_time": "2023-01-21T10:35:56.915Z"
   },
   {
    "duration": 16,
    "start_time": "2023-01-21T10:35:56.923Z"
   },
   {
    "duration": 13,
    "start_time": "2023-01-21T10:35:56.941Z"
   },
   {
    "duration": 157,
    "start_time": "2023-01-21T10:35:56.956Z"
   },
   {
    "duration": 13,
    "start_time": "2023-01-21T10:35:57.115Z"
   },
   {
    "duration": 150,
    "start_time": "2023-01-21T10:35:57.130Z"
   },
   {
    "duration": 22,
    "start_time": "2023-01-21T10:35:57.282Z"
   },
   {
    "duration": 121,
    "start_time": "2023-01-21T10:35:57.306Z"
   },
   {
    "duration": 14,
    "start_time": "2023-01-21T10:35:57.429Z"
   },
   {
    "duration": 141,
    "start_time": "2023-01-21T10:35:57.444Z"
   },
   {
    "duration": 21,
    "start_time": "2023-01-21T10:35:57.587Z"
   },
   {
    "duration": 151,
    "start_time": "2023-01-21T10:35:57.610Z"
   },
   {
    "duration": 13,
    "start_time": "2023-01-21T10:35:57.763Z"
   },
   {
    "duration": 161,
    "start_time": "2023-01-21T10:35:57.778Z"
   },
   {
    "duration": 13,
    "start_time": "2023-01-21T10:35:57.940Z"
   },
   {
    "duration": 130,
    "start_time": "2023-01-21T10:35:57.955Z"
   },
   {
    "duration": 22,
    "start_time": "2023-01-21T10:35:58.086Z"
   },
   {
    "duration": 125,
    "start_time": "2023-01-21T10:35:58.110Z"
   },
   {
    "duration": 5,
    "start_time": "2023-01-21T10:35:58.237Z"
   },
   {
    "duration": 162,
    "start_time": "2023-01-21T10:35:58.244Z"
   },
   {
    "duration": 165,
    "start_time": "2023-01-21T10:35:58.408Z"
   },
   {
    "duration": 523,
    "start_time": "2023-01-21T10:35:58.575Z"
   },
   {
    "duration": 168,
    "start_time": "2023-01-21T10:35:59.103Z"
   },
   {
    "duration": 6,
    "start_time": "2023-01-21T10:35:59.273Z"
   },
   {
    "duration": 12,
    "start_time": "2023-01-21T10:35:59.280Z"
   },
   {
    "duration": 8,
    "start_time": "2023-01-21T10:35:59.303Z"
   },
   {
    "duration": 9,
    "start_time": "2023-01-21T10:41:51.974Z"
   },
   {
    "duration": 10,
    "start_time": "2023-01-21T10:41:55.238Z"
   },
   {
    "duration": 120,
    "start_time": "2023-01-21T10:42:00.318Z"
   },
   {
    "duration": 14,
    "start_time": "2023-01-21T10:42:40.510Z"
   },
   {
    "duration": 138,
    "start_time": "2023-01-21T10:42:42.983Z"
   },
   {
    "duration": 64,
    "start_time": "2023-01-21T10:45:06.720Z"
   },
   {
    "duration": 13,
    "start_time": "2023-01-21T10:45:06.786Z"
   },
   {
    "duration": 3,
    "start_time": "2023-01-21T10:45:06.801Z"
   },
   {
    "duration": 23,
    "start_time": "2023-01-21T10:45:06.806Z"
   },
   {
    "duration": 17,
    "start_time": "2023-01-21T10:45:06.830Z"
   },
   {
    "duration": 10,
    "start_time": "2023-01-21T10:45:06.848Z"
   },
   {
    "duration": 10,
    "start_time": "2023-01-21T10:45:06.860Z"
   },
   {
    "duration": 38,
    "start_time": "2023-01-21T10:45:06.872Z"
   },
   {
    "duration": 10,
    "start_time": "2023-01-21T10:45:06.911Z"
   },
   {
    "duration": 9,
    "start_time": "2023-01-21T10:45:06.925Z"
   },
   {
    "duration": 8,
    "start_time": "2023-01-21T10:45:06.936Z"
   },
   {
    "duration": 191,
    "start_time": "2023-01-21T10:45:06.946Z"
   },
   {
    "duration": 5,
    "start_time": "2023-01-21T10:45:07.139Z"
   },
   {
    "duration": 28,
    "start_time": "2023-01-21T10:45:07.146Z"
   },
   {
    "duration": 27,
    "start_time": "2023-01-21T10:45:07.176Z"
   },
   {
    "duration": 15,
    "start_time": "2023-01-21T10:45:07.205Z"
   },
   {
    "duration": 8,
    "start_time": "2023-01-21T10:45:07.222Z"
   },
   {
    "duration": 9,
    "start_time": "2023-01-21T10:45:07.232Z"
   },
   {
    "duration": 21,
    "start_time": "2023-01-21T10:45:07.242Z"
   },
   {
    "duration": 7,
    "start_time": "2023-01-21T10:45:07.265Z"
   },
   {
    "duration": 11,
    "start_time": "2023-01-21T10:45:07.274Z"
   },
   {
    "duration": 34,
    "start_time": "2023-01-21T10:45:07.287Z"
   },
   {
    "duration": 5,
    "start_time": "2023-01-21T10:45:07.323Z"
   },
   {
    "duration": 18,
    "start_time": "2023-01-21T10:45:07.330Z"
   },
   {
    "duration": 1269,
    "start_time": "2023-01-21T10:45:07.350Z"
   },
   {
    "duration": 5,
    "start_time": "2023-01-21T10:45:08.621Z"
   },
   {
    "duration": 32,
    "start_time": "2023-01-21T10:45:08.628Z"
   },
   {
    "duration": 13,
    "start_time": "2023-01-21T10:45:08.664Z"
   },
   {
    "duration": 41,
    "start_time": "2023-01-21T10:45:08.679Z"
   },
   {
    "duration": 6,
    "start_time": "2023-01-21T10:45:08.722Z"
   },
   {
    "duration": 6,
    "start_time": "2023-01-21T10:45:08.730Z"
   },
   {
    "duration": 15,
    "start_time": "2023-01-21T10:45:08.737Z"
   },
   {
    "duration": 267,
    "start_time": "2023-01-21T10:45:08.754Z"
   },
   {
    "duration": 6,
    "start_time": "2023-01-21T10:45:09.023Z"
   },
   {
    "duration": 187,
    "start_time": "2023-01-21T10:45:09.031Z"
   },
   {
    "duration": 5,
    "start_time": "2023-01-21T10:45:09.220Z"
   },
   {
    "duration": 207,
    "start_time": "2023-01-21T10:45:09.227Z"
   },
   {
    "duration": 7,
    "start_time": "2023-01-21T10:45:09.438Z"
   },
   {
    "duration": 190,
    "start_time": "2023-01-21T10:45:09.446Z"
   },
   {
    "duration": 6,
    "start_time": "2023-01-21T10:45:09.638Z"
   },
   {
    "duration": 196,
    "start_time": "2023-01-21T10:45:09.645Z"
   },
   {
    "duration": 7,
    "start_time": "2023-01-21T10:45:09.843Z"
   },
   {
    "duration": 203,
    "start_time": "2023-01-21T10:45:09.852Z"
   },
   {
    "duration": 5,
    "start_time": "2023-01-21T10:45:10.058Z"
   },
   {
    "duration": 210,
    "start_time": "2023-01-21T10:45:10.065Z"
   },
   {
    "duration": 7,
    "start_time": "2023-01-21T10:45:10.277Z"
   },
   {
    "duration": 191,
    "start_time": "2023-01-21T10:45:10.285Z"
   },
   {
    "duration": 5,
    "start_time": "2023-01-21T10:45:10.478Z"
   },
   {
    "duration": 187,
    "start_time": "2023-01-21T10:45:10.484Z"
   },
   {
    "duration": 6,
    "start_time": "2023-01-21T10:45:10.672Z"
   },
   {
    "duration": 28,
    "start_time": "2023-01-21T10:45:10.679Z"
   },
   {
    "duration": 53,
    "start_time": "2023-01-21T10:45:10.708Z"
   },
   {
    "duration": 166,
    "start_time": "2023-01-21T10:45:10.762Z"
   },
   {
    "duration": 14,
    "start_time": "2023-01-21T10:45:10.929Z"
   },
   {
    "duration": 163,
    "start_time": "2023-01-21T10:45:10.945Z"
   },
   {
    "duration": 14,
    "start_time": "2023-01-21T10:45:11.110Z"
   },
   {
    "duration": 129,
    "start_time": "2023-01-21T10:45:11.126Z"
   },
   {
    "duration": 14,
    "start_time": "2023-01-21T10:45:11.257Z"
   },
   {
    "duration": 140,
    "start_time": "2023-01-21T10:45:11.272Z"
   },
   {
    "duration": 13,
    "start_time": "2023-01-21T10:45:11.414Z"
   },
   {
    "duration": 160,
    "start_time": "2023-01-21T10:45:11.428Z"
   },
   {
    "duration": 30,
    "start_time": "2023-01-21T10:45:11.590Z"
   },
   {
    "duration": 183,
    "start_time": "2023-01-21T10:45:11.622Z"
   },
   {
    "duration": 13,
    "start_time": "2023-01-21T10:45:11.807Z"
   },
   {
    "duration": 136,
    "start_time": "2023-01-21T10:45:11.822Z"
   },
   {
    "duration": 14,
    "start_time": "2023-01-21T10:45:11.959Z"
   },
   {
    "duration": 163,
    "start_time": "2023-01-21T10:45:11.975Z"
   },
   {
    "duration": 6,
    "start_time": "2023-01-21T10:45:12.140Z"
   },
   {
    "duration": 209,
    "start_time": "2023-01-21T10:45:12.148Z"
   },
   {
    "duration": 162,
    "start_time": "2023-01-21T10:45:12.359Z"
   },
   {
    "duration": 165,
    "start_time": "2023-01-21T10:45:12.523Z"
   },
   {
    "duration": 164,
    "start_time": "2023-01-21T10:45:12.690Z"
   },
   {
    "duration": 7,
    "start_time": "2023-01-21T10:45:12.857Z"
   },
   {
    "duration": 37,
    "start_time": "2023-01-21T10:45:12.867Z"
   },
   {
    "duration": 21,
    "start_time": "2023-01-21T10:45:12.905Z"
   },
   {
    "duration": 189,
    "start_time": "2023-01-21T10:46:00.262Z"
   },
   {
    "duration": 126,
    "start_time": "2023-01-21T10:46:24.613Z"
   },
   {
    "duration": 201,
    "start_time": "2023-01-21T10:47:24.239Z"
   },
   {
    "duration": 159,
    "start_time": "2023-01-21T10:47:46.217Z"
   },
   {
    "duration": 67,
    "start_time": "2023-01-21T10:49:38.255Z"
   },
   {
    "duration": 16,
    "start_time": "2023-01-21T10:49:38.324Z"
   },
   {
    "duration": 3,
    "start_time": "2023-01-21T10:49:38.342Z"
   },
   {
    "duration": 26,
    "start_time": "2023-01-21T10:49:38.347Z"
   },
   {
    "duration": 48,
    "start_time": "2023-01-21T10:49:38.374Z"
   },
   {
    "duration": 9,
    "start_time": "2023-01-21T10:49:38.424Z"
   },
   {
    "duration": 13,
    "start_time": "2023-01-21T10:49:38.434Z"
   },
   {
    "duration": 18,
    "start_time": "2023-01-21T10:49:38.448Z"
   },
   {
    "duration": 12,
    "start_time": "2023-01-21T10:49:38.468Z"
   },
   {
    "duration": 25,
    "start_time": "2023-01-21T10:49:38.482Z"
   },
   {
    "duration": 8,
    "start_time": "2023-01-21T10:49:38.509Z"
   },
   {
    "duration": 168,
    "start_time": "2023-01-21T10:49:38.519Z"
   },
   {
    "duration": 5,
    "start_time": "2023-01-21T10:49:38.689Z"
   },
   {
    "duration": 21,
    "start_time": "2023-01-21T10:49:38.703Z"
   },
   {
    "duration": 7,
    "start_time": "2023-01-21T10:49:38.727Z"
   },
   {
    "duration": 7,
    "start_time": "2023-01-21T10:49:38.736Z"
   },
   {
    "duration": 9,
    "start_time": "2023-01-21T10:49:38.744Z"
   },
   {
    "duration": 8,
    "start_time": "2023-01-21T10:49:38.754Z"
   },
   {
    "duration": 40,
    "start_time": "2023-01-21T10:49:38.764Z"
   },
   {
    "duration": 7,
    "start_time": "2023-01-21T10:49:38.806Z"
   },
   {
    "duration": 7,
    "start_time": "2023-01-21T10:49:38.815Z"
   },
   {
    "duration": 23,
    "start_time": "2023-01-21T10:49:38.824Z"
   },
   {
    "duration": 12,
    "start_time": "2023-01-21T10:49:38.848Z"
   },
   {
    "duration": 19,
    "start_time": "2023-01-21T10:49:38.862Z"
   },
   {
    "duration": 1236,
    "start_time": "2023-01-21T10:49:38.902Z"
   },
   {
    "duration": 5,
    "start_time": "2023-01-21T10:49:40.139Z"
   },
   {
    "duration": 30,
    "start_time": "2023-01-21T10:49:40.145Z"
   },
   {
    "duration": 27,
    "start_time": "2023-01-21T10:49:40.179Z"
   },
   {
    "duration": 33,
    "start_time": "2023-01-21T10:49:40.208Z"
   },
   {
    "duration": 7,
    "start_time": "2023-01-21T10:49:40.243Z"
   },
   {
    "duration": 14,
    "start_time": "2023-01-21T10:49:40.252Z"
   },
   {
    "duration": 29,
    "start_time": "2023-01-21T10:49:40.268Z"
   },
   {
    "duration": 257,
    "start_time": "2023-01-21T10:49:40.302Z"
   },
   {
    "duration": 6,
    "start_time": "2023-01-21T10:49:40.560Z"
   },
   {
    "duration": 180,
    "start_time": "2023-01-21T10:49:40.568Z"
   },
   {
    "duration": 5,
    "start_time": "2023-01-21T10:49:40.750Z"
   },
   {
    "duration": 199,
    "start_time": "2023-01-21T10:49:40.757Z"
   },
   {
    "duration": 6,
    "start_time": "2023-01-21T10:49:40.957Z"
   },
   {
    "duration": 179,
    "start_time": "2023-01-21T10:49:40.965Z"
   },
   {
    "duration": 4,
    "start_time": "2023-01-21T10:49:41.146Z"
   },
   {
    "duration": 198,
    "start_time": "2023-01-21T10:49:41.152Z"
   },
   {
    "duration": 6,
    "start_time": "2023-01-21T10:49:41.352Z"
   },
   {
    "duration": 175,
    "start_time": "2023-01-21T10:49:41.359Z"
   },
   {
    "duration": 5,
    "start_time": "2023-01-21T10:49:41.536Z"
   },
   {
    "duration": 184,
    "start_time": "2023-01-21T10:49:41.542Z"
   },
   {
    "duration": 6,
    "start_time": "2023-01-21T10:49:41.728Z"
   },
   {
    "duration": 182,
    "start_time": "2023-01-21T10:49:41.736Z"
   },
   {
    "duration": 5,
    "start_time": "2023-01-21T10:49:41.920Z"
   },
   {
    "duration": 181,
    "start_time": "2023-01-21T10:49:41.927Z"
   },
   {
    "duration": 5,
    "start_time": "2023-01-21T10:49:42.110Z"
   },
   {
    "duration": 18,
    "start_time": "2023-01-21T10:49:42.116Z"
   },
   {
    "duration": 13,
    "start_time": "2023-01-21T10:49:42.136Z"
   },
   {
    "duration": 155,
    "start_time": "2023-01-21T10:49:42.150Z"
   },
   {
    "duration": 14,
    "start_time": "2023-01-21T10:49:42.306Z"
   },
   {
    "duration": 143,
    "start_time": "2023-01-21T10:49:42.322Z"
   },
   {
    "duration": 14,
    "start_time": "2023-01-21T10:49:42.467Z"
   },
   {
    "duration": 137,
    "start_time": "2023-01-21T10:49:42.483Z"
   },
   {
    "duration": 14,
    "start_time": "2023-01-21T10:49:42.622Z"
   },
   {
    "duration": 152,
    "start_time": "2023-01-21T10:49:42.638Z"
   },
   {
    "duration": 21,
    "start_time": "2023-01-21T10:49:42.792Z"
   },
   {
    "duration": 207,
    "start_time": "2023-01-21T10:49:42.815Z"
   },
   {
    "duration": 15,
    "start_time": "2023-01-21T10:49:43.024Z"
   },
   {
    "duration": 74,
    "start_time": "2023-01-21T10:49:43.042Z"
   },
   {
    "duration": 0,
    "start_time": "2023-01-21T10:49:43.118Z"
   },
   {
    "duration": 0,
    "start_time": "2023-01-21T10:49:43.119Z"
   },
   {
    "duration": 0,
    "start_time": "2023-01-21T10:49:43.121Z"
   },
   {
    "duration": 0,
    "start_time": "2023-01-21T10:49:43.123Z"
   },
   {
    "duration": 0,
    "start_time": "2023-01-21T10:49:43.124Z"
   },
   {
    "duration": 0,
    "start_time": "2023-01-21T10:49:43.126Z"
   },
   {
    "duration": 0,
    "start_time": "2023-01-21T10:49:43.128Z"
   },
   {
    "duration": 0,
    "start_time": "2023-01-21T10:49:43.129Z"
   },
   {
    "duration": 0,
    "start_time": "2023-01-21T10:49:43.130Z"
   },
   {
    "duration": 0,
    "start_time": "2023-01-21T10:49:43.132Z"
   },
   {
    "duration": 0,
    "start_time": "2023-01-21T10:49:43.134Z"
   },
   {
    "duration": 0,
    "start_time": "2023-01-21T10:49:43.136Z"
   },
   {
    "duration": 1125,
    "start_time": "2023-01-21T10:50:24.509Z"
   },
   {
    "duration": 60,
    "start_time": "2023-01-21T10:50:29.550Z"
   },
   {
    "duration": 12,
    "start_time": "2023-01-21T10:50:29.612Z"
   },
   {
    "duration": 2,
    "start_time": "2023-01-21T10:50:29.626Z"
   },
   {
    "duration": 26,
    "start_time": "2023-01-21T10:50:29.630Z"
   },
   {
    "duration": 14,
    "start_time": "2023-01-21T10:50:29.657Z"
   },
   {
    "duration": 36,
    "start_time": "2023-01-21T10:50:29.672Z"
   },
   {
    "duration": 7,
    "start_time": "2023-01-21T10:50:29.710Z"
   },
   {
    "duration": 8,
    "start_time": "2023-01-21T10:50:29.718Z"
   },
   {
    "duration": 13,
    "start_time": "2023-01-21T10:50:29.728Z"
   },
   {
    "duration": 17,
    "start_time": "2023-01-21T10:50:29.744Z"
   },
   {
    "duration": 12,
    "start_time": "2023-01-21T10:50:29.763Z"
   },
   {
    "duration": 193,
    "start_time": "2023-01-21T10:50:29.777Z"
   },
   {
    "duration": 5,
    "start_time": "2023-01-21T10:50:29.972Z"
   },
   {
    "duration": 30,
    "start_time": "2023-01-21T10:50:29.978Z"
   },
   {
    "duration": 6,
    "start_time": "2023-01-21T10:50:30.010Z"
   },
   {
    "duration": 11,
    "start_time": "2023-01-21T10:50:30.017Z"
   },
   {
    "duration": 11,
    "start_time": "2023-01-21T10:50:30.030Z"
   },
   {
    "duration": 17,
    "start_time": "2023-01-21T10:50:30.043Z"
   },
   {
    "duration": 21,
    "start_time": "2023-01-21T10:50:30.061Z"
   },
   {
    "duration": 7,
    "start_time": "2023-01-21T10:50:30.083Z"
   },
   {
    "duration": 6,
    "start_time": "2023-01-21T10:50:30.102Z"
   },
   {
    "duration": 24,
    "start_time": "2023-01-21T10:50:30.110Z"
   },
   {
    "duration": 11,
    "start_time": "2023-01-21T10:50:30.136Z"
   },
   {
    "duration": 20,
    "start_time": "2023-01-21T10:50:30.149Z"
   },
   {
    "duration": 1246,
    "start_time": "2023-01-21T10:50:30.171Z"
   },
   {
    "duration": 5,
    "start_time": "2023-01-21T10:50:31.419Z"
   },
   {
    "duration": 44,
    "start_time": "2023-01-21T10:50:31.426Z"
   },
   {
    "duration": 21,
    "start_time": "2023-01-21T10:50:31.476Z"
   },
   {
    "duration": 29,
    "start_time": "2023-01-21T10:50:31.499Z"
   },
   {
    "duration": 6,
    "start_time": "2023-01-21T10:50:31.530Z"
   },
   {
    "duration": 11,
    "start_time": "2023-01-21T10:50:31.538Z"
   },
   {
    "duration": 35,
    "start_time": "2023-01-21T10:50:31.551Z"
   },
   {
    "duration": 258,
    "start_time": "2023-01-21T10:50:31.588Z"
   },
   {
    "duration": 7,
    "start_time": "2023-01-21T10:50:31.849Z"
   },
   {
    "duration": 620,
    "start_time": "2023-01-21T10:50:31.857Z"
   },
   {
    "duration": 5,
    "start_time": "2023-01-21T10:50:32.479Z"
   },
   {
    "duration": 192,
    "start_time": "2023-01-21T10:50:32.486Z"
   },
   {
    "duration": 6,
    "start_time": "2023-01-21T10:50:32.680Z"
   },
   {
    "duration": 190,
    "start_time": "2023-01-21T10:50:32.688Z"
   },
   {
    "duration": 6,
    "start_time": "2023-01-21T10:50:32.880Z"
   },
   {
    "duration": 225,
    "start_time": "2023-01-21T10:50:32.888Z"
   },
   {
    "duration": 7,
    "start_time": "2023-01-21T10:50:33.114Z"
   },
   {
    "duration": 192,
    "start_time": "2023-01-21T10:50:33.122Z"
   },
   {
    "duration": 5,
    "start_time": "2023-01-21T10:50:33.316Z"
   },
   {
    "duration": 195,
    "start_time": "2023-01-21T10:50:33.323Z"
   },
   {
    "duration": 6,
    "start_time": "2023-01-21T10:50:33.520Z"
   },
   {
    "duration": 165,
    "start_time": "2023-01-21T10:50:33.527Z"
   },
   {
    "duration": 5,
    "start_time": "2023-01-21T10:50:33.694Z"
   },
   {
    "duration": 171,
    "start_time": "2023-01-21T10:50:33.703Z"
   },
   {
    "duration": 5,
    "start_time": "2023-01-21T10:50:33.876Z"
   },
   {
    "duration": 30,
    "start_time": "2023-01-21T10:50:33.883Z"
   },
   {
    "duration": 14,
    "start_time": "2023-01-21T10:50:33.915Z"
   },
   {
    "duration": 133,
    "start_time": "2023-01-21T10:50:33.931Z"
   },
   {
    "duration": 14,
    "start_time": "2023-01-21T10:50:34.066Z"
   },
   {
    "duration": 172,
    "start_time": "2023-01-21T10:50:34.082Z"
   },
   {
    "duration": 18,
    "start_time": "2023-01-21T10:50:34.257Z"
   },
   {
    "duration": 154,
    "start_time": "2023-01-21T10:50:34.277Z"
   },
   {
    "duration": 13,
    "start_time": "2023-01-21T10:50:34.432Z"
   },
   {
    "duration": 144,
    "start_time": "2023-01-21T10:50:34.447Z"
   },
   {
    "duration": 17,
    "start_time": "2023-01-21T10:50:34.592Z"
   },
   {
    "duration": 188,
    "start_time": "2023-01-21T10:50:34.611Z"
   },
   {
    "duration": 14,
    "start_time": "2023-01-21T10:50:34.803Z"
   },
   {
    "duration": 1132,
    "start_time": "2023-01-21T10:50:34.818Z"
   },
   {
    "duration": 0,
    "start_time": "2023-01-21T10:50:35.952Z"
   },
   {
    "duration": 0,
    "start_time": "2023-01-21T10:50:35.953Z"
   },
   {
    "duration": 0,
    "start_time": "2023-01-21T10:50:35.954Z"
   },
   {
    "duration": 0,
    "start_time": "2023-01-21T10:50:35.955Z"
   },
   {
    "duration": 0,
    "start_time": "2023-01-21T10:50:35.956Z"
   },
   {
    "duration": 0,
    "start_time": "2023-01-21T10:50:35.958Z"
   },
   {
    "duration": 0,
    "start_time": "2023-01-21T10:50:35.958Z"
   },
   {
    "duration": 0,
    "start_time": "2023-01-21T10:50:35.959Z"
   },
   {
    "duration": 0,
    "start_time": "2023-01-21T10:50:35.960Z"
   },
   {
    "duration": 0,
    "start_time": "2023-01-21T10:50:35.961Z"
   },
   {
    "duration": 0,
    "start_time": "2023-01-21T10:50:35.962Z"
   },
   {
    "duration": 0,
    "start_time": "2023-01-21T10:50:35.963Z"
   },
   {
    "duration": 64,
    "start_time": "2023-01-21T10:51:21.872Z"
   },
   {
    "duration": 16,
    "start_time": "2023-01-21T10:51:21.938Z"
   },
   {
    "duration": 22,
    "start_time": "2023-01-21T10:51:21.955Z"
   },
   {
    "duration": 33,
    "start_time": "2023-01-21T10:51:21.979Z"
   },
   {
    "duration": 17,
    "start_time": "2023-01-21T10:51:22.014Z"
   },
   {
    "duration": 25,
    "start_time": "2023-01-21T10:51:22.033Z"
   },
   {
    "duration": 26,
    "start_time": "2023-01-21T10:51:22.060Z"
   },
   {
    "duration": 29,
    "start_time": "2023-01-21T10:51:22.088Z"
   },
   {
    "duration": 15,
    "start_time": "2023-01-21T10:51:22.119Z"
   },
   {
    "duration": 23,
    "start_time": "2023-01-21T10:51:22.137Z"
   },
   {
    "duration": 26,
    "start_time": "2023-01-21T10:51:22.161Z"
   },
   {
    "duration": 182,
    "start_time": "2023-01-21T10:51:22.188Z"
   },
   {
    "duration": 5,
    "start_time": "2023-01-21T10:51:22.372Z"
   },
   {
    "duration": 25,
    "start_time": "2023-01-21T10:51:22.379Z"
   },
   {
    "duration": 6,
    "start_time": "2023-01-21T10:51:22.406Z"
   },
   {
    "duration": 7,
    "start_time": "2023-01-21T10:51:22.413Z"
   },
   {
    "duration": 7,
    "start_time": "2023-01-21T10:51:22.422Z"
   },
   {
    "duration": 6,
    "start_time": "2023-01-21T10:51:22.430Z"
   },
   {
    "duration": 14,
    "start_time": "2023-01-21T10:51:22.437Z"
   },
   {
    "duration": 6,
    "start_time": "2023-01-21T10:51:22.452Z"
   },
   {
    "duration": 6,
    "start_time": "2023-01-21T10:51:22.460Z"
   },
   {
    "duration": 54,
    "start_time": "2023-01-21T10:51:22.467Z"
   },
   {
    "duration": 6,
    "start_time": "2023-01-21T10:51:22.523Z"
   },
   {
    "duration": 17,
    "start_time": "2023-01-21T10:51:22.531Z"
   },
   {
    "duration": 1279,
    "start_time": "2023-01-21T10:51:22.549Z"
   },
   {
    "duration": 5,
    "start_time": "2023-01-21T10:51:23.830Z"
   },
   {
    "duration": 24,
    "start_time": "2023-01-21T10:51:23.837Z"
   },
   {
    "duration": 14,
    "start_time": "2023-01-21T10:51:23.865Z"
   },
   {
    "duration": 46,
    "start_time": "2023-01-21T10:51:23.880Z"
   },
   {
    "duration": 5,
    "start_time": "2023-01-21T10:51:23.928Z"
   },
   {
    "duration": 6,
    "start_time": "2023-01-21T10:51:23.935Z"
   },
   {
    "duration": 17,
    "start_time": "2023-01-21T10:51:23.943Z"
   },
   {
    "duration": 280,
    "start_time": "2023-01-21T10:51:23.962Z"
   },
   {
    "duration": 6,
    "start_time": "2023-01-21T10:51:24.245Z"
   },
   {
    "duration": 197,
    "start_time": "2023-01-21T10:51:24.253Z"
   },
   {
    "duration": 7,
    "start_time": "2023-01-21T10:51:24.452Z"
   },
   {
    "duration": 234,
    "start_time": "2023-01-21T10:51:24.460Z"
   },
   {
    "duration": 10,
    "start_time": "2023-01-21T10:51:24.695Z"
   },
   {
    "duration": 169,
    "start_time": "2023-01-21T10:51:24.707Z"
   },
   {
    "duration": 5,
    "start_time": "2023-01-21T10:51:24.878Z"
   },
   {
    "duration": 193,
    "start_time": "2023-01-21T10:51:24.885Z"
   },
   {
    "duration": 5,
    "start_time": "2023-01-21T10:51:25.080Z"
   },
   {
    "duration": 202,
    "start_time": "2023-01-21T10:51:25.087Z"
   },
   {
    "duration": 5,
    "start_time": "2023-01-21T10:51:25.291Z"
   },
   {
    "duration": 185,
    "start_time": "2023-01-21T10:51:25.303Z"
   },
   {
    "duration": 14,
    "start_time": "2023-01-21T10:51:25.489Z"
   },
   {
    "duration": 156,
    "start_time": "2023-01-21T10:51:25.505Z"
   },
   {
    "duration": 6,
    "start_time": "2023-01-21T10:51:25.662Z"
   },
   {
    "duration": 195,
    "start_time": "2023-01-21T10:51:25.670Z"
   },
   {
    "duration": 7,
    "start_time": "2023-01-21T10:51:25.867Z"
   },
   {
    "duration": 29,
    "start_time": "2023-01-21T10:51:25.875Z"
   },
   {
    "duration": 19,
    "start_time": "2023-01-21T10:51:25.906Z"
   },
   {
    "duration": 129,
    "start_time": "2023-01-21T10:51:25.927Z"
   },
   {
    "duration": 15,
    "start_time": "2023-01-21T10:51:26.058Z"
   },
   {
    "duration": 135,
    "start_time": "2023-01-21T10:51:26.074Z"
   },
   {
    "duration": 13,
    "start_time": "2023-01-21T10:51:26.211Z"
   },
   {
    "duration": 129,
    "start_time": "2023-01-21T10:51:26.226Z"
   },
   {
    "duration": 14,
    "start_time": "2023-01-21T10:51:26.356Z"
   },
   {
    "duration": 137,
    "start_time": "2023-01-21T10:51:26.372Z"
   },
   {
    "duration": 13,
    "start_time": "2023-01-21T10:51:26.511Z"
   },
   {
    "duration": 186,
    "start_time": "2023-01-21T10:51:26.525Z"
   },
   {
    "duration": 13,
    "start_time": "2023-01-21T10:51:26.712Z"
   },
   {
    "duration": 178,
    "start_time": "2023-01-21T10:51:26.727Z"
   },
   {
    "duration": 14,
    "start_time": "2023-01-21T10:51:26.907Z"
   },
   {
    "duration": 77,
    "start_time": "2023-01-21T10:51:26.923Z"
   },
   {
    "duration": 0,
    "start_time": "2023-01-21T10:51:27.002Z"
   },
   {
    "duration": 0,
    "start_time": "2023-01-21T10:51:27.003Z"
   },
   {
    "duration": 0,
    "start_time": "2023-01-21T10:51:27.004Z"
   },
   {
    "duration": 0,
    "start_time": "2023-01-21T10:51:27.006Z"
   },
   {
    "duration": 0,
    "start_time": "2023-01-21T10:51:27.007Z"
   },
   {
    "duration": 0,
    "start_time": "2023-01-21T10:51:27.008Z"
   },
   {
    "duration": 0,
    "start_time": "2023-01-21T10:51:27.009Z"
   },
   {
    "duration": 0,
    "start_time": "2023-01-21T10:51:27.010Z"
   },
   {
    "duration": 0,
    "start_time": "2023-01-21T10:51:27.011Z"
   },
   {
    "duration": 0,
    "start_time": "2023-01-21T10:51:27.012Z"
   },
   {
    "duration": 64,
    "start_time": "2023-01-21T10:51:56.428Z"
   },
   {
    "duration": 14,
    "start_time": "2023-01-21T10:51:56.494Z"
   },
   {
    "duration": 3,
    "start_time": "2023-01-21T10:51:56.510Z"
   },
   {
    "duration": 26,
    "start_time": "2023-01-21T10:51:56.515Z"
   },
   {
    "duration": 15,
    "start_time": "2023-01-21T10:51:56.543Z"
   },
   {
    "duration": 10,
    "start_time": "2023-01-21T10:51:56.560Z"
   },
   {
    "duration": 36,
    "start_time": "2023-01-21T10:51:56.572Z"
   },
   {
    "duration": 8,
    "start_time": "2023-01-21T10:51:56.609Z"
   },
   {
    "duration": 7,
    "start_time": "2023-01-21T10:51:56.619Z"
   },
   {
    "duration": 11,
    "start_time": "2023-01-21T10:51:56.630Z"
   },
   {
    "duration": 10,
    "start_time": "2023-01-21T10:51:56.643Z"
   },
   {
    "duration": 221,
    "start_time": "2023-01-21T10:51:56.655Z"
   },
   {
    "duration": 5,
    "start_time": "2023-01-21T10:51:56.878Z"
   },
   {
    "duration": 32,
    "start_time": "2023-01-21T10:51:56.885Z"
   },
   {
    "duration": 12,
    "start_time": "2023-01-21T10:51:56.918Z"
   },
   {
    "duration": 6,
    "start_time": "2023-01-21T10:51:56.931Z"
   },
   {
    "duration": 8,
    "start_time": "2023-01-21T10:51:56.939Z"
   },
   {
    "duration": 6,
    "start_time": "2023-01-21T10:51:56.948Z"
   },
   {
    "duration": 14,
    "start_time": "2023-01-21T10:51:56.956Z"
   },
   {
    "duration": 6,
    "start_time": "2023-01-21T10:51:56.972Z"
   },
   {
    "duration": 5,
    "start_time": "2023-01-21T10:51:57.004Z"
   },
   {
    "duration": 26,
    "start_time": "2023-01-21T10:51:57.010Z"
   },
   {
    "duration": 7,
    "start_time": "2023-01-21T10:51:57.037Z"
   },
   {
    "duration": 19,
    "start_time": "2023-01-21T10:51:57.046Z"
   },
   {
    "duration": 1265,
    "start_time": "2023-01-21T10:51:57.067Z"
   },
   {
    "duration": 6,
    "start_time": "2023-01-21T10:51:58.334Z"
   },
   {
    "duration": 27,
    "start_time": "2023-01-21T10:51:58.341Z"
   },
   {
    "duration": 31,
    "start_time": "2023-01-21T10:51:58.373Z"
   },
   {
    "duration": 26,
    "start_time": "2023-01-21T10:51:58.407Z"
   },
   {
    "duration": 5,
    "start_time": "2023-01-21T10:51:58.435Z"
   },
   {
    "duration": 6,
    "start_time": "2023-01-21T10:51:58.442Z"
   },
   {
    "duration": 19,
    "start_time": "2023-01-21T10:51:58.450Z"
   },
   {
    "duration": 281,
    "start_time": "2023-01-21T10:51:58.471Z"
   },
   {
    "duration": 7,
    "start_time": "2023-01-21T10:51:58.754Z"
   },
   {
    "duration": 193,
    "start_time": "2023-01-21T10:51:58.763Z"
   },
   {
    "duration": 5,
    "start_time": "2023-01-21T10:51:58.958Z"
   },
   {
    "duration": 182,
    "start_time": "2023-01-21T10:51:58.964Z"
   },
   {
    "duration": 6,
    "start_time": "2023-01-21T10:51:59.148Z"
   },
   {
    "duration": 186,
    "start_time": "2023-01-21T10:51:59.156Z"
   },
   {
    "duration": 5,
    "start_time": "2023-01-21T10:51:59.344Z"
   },
   {
    "duration": 200,
    "start_time": "2023-01-21T10:51:59.350Z"
   },
   {
    "duration": 6,
    "start_time": "2023-01-21T10:51:59.552Z"
   },
   {
    "duration": 189,
    "start_time": "2023-01-21T10:51:59.560Z"
   },
   {
    "duration": 5,
    "start_time": "2023-01-21T10:51:59.750Z"
   },
   {
    "duration": 182,
    "start_time": "2023-01-21T10:51:59.757Z"
   },
   {
    "duration": 6,
    "start_time": "2023-01-21T10:51:59.940Z"
   },
   {
    "duration": 165,
    "start_time": "2023-01-21T10:51:59.947Z"
   },
   {
    "duration": 5,
    "start_time": "2023-01-21T10:52:00.114Z"
   },
   {
    "duration": 185,
    "start_time": "2023-01-21T10:52:00.121Z"
   },
   {
    "duration": 6,
    "start_time": "2023-01-21T10:52:00.307Z"
   },
   {
    "duration": 41,
    "start_time": "2023-01-21T10:52:00.315Z"
   },
   {
    "duration": 29,
    "start_time": "2023-01-21T10:52:00.358Z"
   },
   {
    "duration": 142,
    "start_time": "2023-01-21T10:52:00.389Z"
   },
   {
    "duration": 15,
    "start_time": "2023-01-21T10:52:00.532Z"
   },
   {
    "duration": 159,
    "start_time": "2023-01-21T10:52:00.549Z"
   },
   {
    "duration": 15,
    "start_time": "2023-01-21T10:52:00.710Z"
   },
   {
    "duration": 133,
    "start_time": "2023-01-21T10:52:00.726Z"
   },
   {
    "duration": 15,
    "start_time": "2023-01-21T10:52:00.861Z"
   },
   {
    "duration": 145,
    "start_time": "2023-01-21T10:52:00.878Z"
   },
   {
    "duration": 15,
    "start_time": "2023-01-21T10:52:01.024Z"
   },
   {
    "duration": 207,
    "start_time": "2023-01-21T10:52:01.041Z"
   },
   {
    "duration": 15,
    "start_time": "2023-01-21T10:52:01.250Z"
   },
   {
    "duration": 195,
    "start_time": "2023-01-21T10:52:01.266Z"
   },
   {
    "duration": 14,
    "start_time": "2023-01-21T10:52:01.462Z"
   },
   {
    "duration": 205,
    "start_time": "2023-01-21T10:52:01.477Z"
   },
   {
    "duration": 21,
    "start_time": "2023-01-21T10:52:01.684Z"
   },
   {
    "duration": 207,
    "start_time": "2023-01-21T10:52:01.707Z"
   },
   {
    "duration": 7,
    "start_time": "2023-01-21T10:52:01.915Z"
   },
   {
    "duration": 165,
    "start_time": "2023-01-21T10:52:01.923Z"
   },
   {
    "duration": 161,
    "start_time": "2023-01-21T10:52:02.089Z"
   },
   {
    "duration": 161,
    "start_time": "2023-01-21T10:52:02.252Z"
   },
   {
    "duration": 157,
    "start_time": "2023-01-21T10:52:02.414Z"
   },
   {
    "duration": 5,
    "start_time": "2023-01-21T10:52:02.573Z"
   },
   {
    "duration": 23,
    "start_time": "2023-01-21T10:52:02.580Z"
   },
   {
    "duration": 13,
    "start_time": "2023-01-21T10:52:02.605Z"
   },
   {
    "duration": 14,
    "start_time": "2023-01-21T11:06:25.106Z"
   },
   {
    "duration": 7,
    "start_time": "2023-01-21T11:12:51.219Z"
   },
   {
    "duration": 65,
    "start_time": "2023-01-21T11:12:55.121Z"
   },
   {
    "duration": 13,
    "start_time": "2023-01-21T11:12:55.188Z"
   },
   {
    "duration": 7,
    "start_time": "2023-01-21T11:12:55.202Z"
   },
   {
    "duration": 24,
    "start_time": "2023-01-21T11:12:55.211Z"
   },
   {
    "duration": 19,
    "start_time": "2023-01-21T11:12:55.237Z"
   },
   {
    "duration": 23,
    "start_time": "2023-01-21T11:12:55.258Z"
   },
   {
    "duration": 18,
    "start_time": "2023-01-21T11:12:55.282Z"
   },
   {
    "duration": 17,
    "start_time": "2023-01-21T11:12:55.301Z"
   },
   {
    "duration": 18,
    "start_time": "2023-01-21T11:12:55.319Z"
   },
   {
    "duration": 10,
    "start_time": "2023-01-21T11:12:55.339Z"
   },
   {
    "duration": 17,
    "start_time": "2023-01-21T11:12:55.351Z"
   },
   {
    "duration": 173,
    "start_time": "2023-01-21T11:12:55.370Z"
   },
   {
    "duration": 6,
    "start_time": "2023-01-21T11:12:55.545Z"
   },
   {
    "duration": 27,
    "start_time": "2023-01-21T11:12:55.552Z"
   },
   {
    "duration": 27,
    "start_time": "2023-01-21T11:12:55.580Z"
   },
   {
    "duration": 8,
    "start_time": "2023-01-21T11:12:55.608Z"
   },
   {
    "duration": 21,
    "start_time": "2023-01-21T11:12:55.617Z"
   },
   {
    "duration": 11,
    "start_time": "2023-01-21T11:12:55.640Z"
   },
   {
    "duration": 27,
    "start_time": "2023-01-21T11:12:55.653Z"
   },
   {
    "duration": 7,
    "start_time": "2023-01-21T11:12:55.682Z"
   },
   {
    "duration": 14,
    "start_time": "2023-01-21T11:12:55.690Z"
   },
   {
    "duration": 26,
    "start_time": "2023-01-21T11:12:55.706Z"
   },
   {
    "duration": 5,
    "start_time": "2023-01-21T11:12:55.734Z"
   },
   {
    "duration": 29,
    "start_time": "2023-01-21T11:12:55.741Z"
   },
   {
    "duration": 1226,
    "start_time": "2023-01-21T11:12:55.771Z"
   },
   {
    "duration": 7,
    "start_time": "2023-01-21T11:12:56.998Z"
   },
   {
    "duration": 35,
    "start_time": "2023-01-21T11:12:57.007Z"
   },
   {
    "duration": 14,
    "start_time": "2023-01-21T11:12:57.047Z"
   },
   {
    "duration": 27,
    "start_time": "2023-01-21T11:12:57.062Z"
   },
   {
    "duration": 18,
    "start_time": "2023-01-21T11:12:57.091Z"
   },
   {
    "duration": 13,
    "start_time": "2023-01-21T11:12:57.110Z"
   },
   {
    "duration": 25,
    "start_time": "2023-01-21T11:12:57.125Z"
   },
   {
    "duration": 282,
    "start_time": "2023-01-21T11:12:57.152Z"
   },
   {
    "duration": 7,
    "start_time": "2023-01-21T11:12:57.435Z"
   },
   {
    "duration": 191,
    "start_time": "2023-01-21T11:12:57.445Z"
   },
   {
    "duration": 6,
    "start_time": "2023-01-21T11:12:57.637Z"
   },
   {
    "duration": 199,
    "start_time": "2023-01-21T11:12:57.644Z"
   },
   {
    "duration": 7,
    "start_time": "2023-01-21T11:12:57.845Z"
   },
   {
    "duration": 176,
    "start_time": "2023-01-21T11:12:57.854Z"
   },
   {
    "duration": 5,
    "start_time": "2023-01-21T11:12:58.032Z"
   },
   {
    "duration": 200,
    "start_time": "2023-01-21T11:12:58.039Z"
   },
   {
    "duration": 6,
    "start_time": "2023-01-21T11:12:58.241Z"
   },
   {
    "duration": 177,
    "start_time": "2023-01-21T11:12:58.248Z"
   },
   {
    "duration": 4,
    "start_time": "2023-01-21T11:12:58.427Z"
   },
   {
    "duration": 678,
    "start_time": "2023-01-21T11:12:58.433Z"
   },
   {
    "duration": 7,
    "start_time": "2023-01-21T11:12:59.113Z"
   },
   {
    "duration": 187,
    "start_time": "2023-01-21T11:12:59.121Z"
   },
   {
    "duration": 4,
    "start_time": "2023-01-21T11:12:59.310Z"
   },
   {
    "duration": 169,
    "start_time": "2023-01-21T11:12:59.316Z"
   },
   {
    "duration": 16,
    "start_time": "2023-01-21T11:12:59.487Z"
   },
   {
    "duration": 19,
    "start_time": "2023-01-21T11:12:59.505Z"
   },
   {
    "duration": 19,
    "start_time": "2023-01-21T11:12:59.525Z"
   },
   {
    "duration": 136,
    "start_time": "2023-01-21T11:12:59.546Z"
   },
   {
    "duration": 20,
    "start_time": "2023-01-21T11:12:59.684Z"
   },
   {
    "duration": 132,
    "start_time": "2023-01-21T11:12:59.706Z"
   },
   {
    "duration": 15,
    "start_time": "2023-01-21T11:12:59.839Z"
   },
   {
    "duration": 124,
    "start_time": "2023-01-21T11:12:59.856Z"
   },
   {
    "duration": 23,
    "start_time": "2023-01-21T11:12:59.982Z"
   },
   {
    "duration": 139,
    "start_time": "2023-01-21T11:13:00.007Z"
   },
   {
    "duration": 14,
    "start_time": "2023-01-21T11:13:00.148Z"
   },
   {
    "duration": 200,
    "start_time": "2023-01-21T11:13:00.163Z"
   },
   {
    "duration": 14,
    "start_time": "2023-01-21T11:13:00.365Z"
   },
   {
    "duration": 192,
    "start_time": "2023-01-21T11:13:00.381Z"
   },
   {
    "duration": 15,
    "start_time": "2023-01-21T11:13:00.575Z"
   },
   {
    "duration": 202,
    "start_time": "2023-01-21T11:13:00.592Z"
   },
   {
    "duration": 16,
    "start_time": "2023-01-21T11:13:00.796Z"
   },
   {
    "duration": 190,
    "start_time": "2023-01-21T11:13:00.813Z"
   },
   {
    "duration": 5,
    "start_time": "2023-01-21T11:13:01.005Z"
   },
   {
    "duration": 167,
    "start_time": "2023-01-21T11:13:01.012Z"
   },
   {
    "duration": 170,
    "start_time": "2023-01-21T11:13:01.181Z"
   },
   {
    "duration": 162,
    "start_time": "2023-01-21T11:13:01.352Z"
   },
   {
    "duration": 154,
    "start_time": "2023-01-21T11:13:01.516Z"
   },
   {
    "duration": 6,
    "start_time": "2023-01-21T11:13:01.672Z"
   },
   {
    "duration": 41,
    "start_time": "2023-01-21T11:13:01.679Z"
   },
   {
    "duration": 31,
    "start_time": "2023-01-21T11:13:01.722Z"
   },
   {
    "duration": 8,
    "start_time": "2023-01-21T11:13:13.805Z"
   },
   {
    "duration": 7,
    "start_time": "2023-01-21T11:13:36.650Z"
   },
   {
    "duration": 6,
    "start_time": "2023-01-21T11:13:51.605Z"
   },
   {
    "duration": 5,
    "start_time": "2023-01-21T11:17:02.908Z"
   },
   {
    "duration": 11,
    "start_time": "2023-01-21T11:17:37.002Z"
   },
   {
    "duration": 11,
    "start_time": "2023-01-21T11:19:12.241Z"
   },
   {
    "duration": 70,
    "start_time": "2023-01-21T11:19:48.273Z"
   },
   {
    "duration": 11,
    "start_time": "2023-01-21T11:19:53.593Z"
   },
   {
    "duration": 10,
    "start_time": "2023-01-21T11:20:05.626Z"
   },
   {
    "duration": 11,
    "start_time": "2023-01-21T11:20:16.705Z"
   },
   {
    "duration": 12,
    "start_time": "2023-01-21T11:20:29.212Z"
   },
   {
    "duration": 14,
    "start_time": "2023-01-21T11:20:32.377Z"
   },
   {
    "duration": 72,
    "start_time": "2023-01-21T11:23:43.684Z"
   },
   {
    "duration": 14,
    "start_time": "2023-01-21T11:23:43.758Z"
   },
   {
    "duration": 3,
    "start_time": "2023-01-21T11:23:43.774Z"
   },
   {
    "duration": 23,
    "start_time": "2023-01-21T11:23:43.803Z"
   },
   {
    "duration": 15,
    "start_time": "2023-01-21T11:23:43.828Z"
   },
   {
    "duration": 11,
    "start_time": "2023-01-21T11:23:43.845Z"
   },
   {
    "duration": 45,
    "start_time": "2023-01-21T11:23:43.858Z"
   },
   {
    "duration": 8,
    "start_time": "2023-01-21T11:23:43.905Z"
   },
   {
    "duration": 8,
    "start_time": "2023-01-21T11:23:43.915Z"
   },
   {
    "duration": 11,
    "start_time": "2023-01-21T11:23:43.926Z"
   },
   {
    "duration": 6,
    "start_time": "2023-01-21T11:23:43.939Z"
   },
   {
    "duration": 238,
    "start_time": "2023-01-21T11:23:43.947Z"
   },
   {
    "duration": 7,
    "start_time": "2023-01-21T11:23:44.187Z"
   },
   {
    "duration": 27,
    "start_time": "2023-01-21T11:23:44.202Z"
   },
   {
    "duration": 7,
    "start_time": "2023-01-21T11:23:44.232Z"
   },
   {
    "duration": 12,
    "start_time": "2023-01-21T11:23:44.241Z"
   },
   {
    "duration": 16,
    "start_time": "2023-01-21T11:23:44.256Z"
   },
   {
    "duration": 28,
    "start_time": "2023-01-21T11:23:44.275Z"
   },
   {
    "duration": 13,
    "start_time": "2023-01-21T11:23:44.305Z"
   },
   {
    "duration": 6,
    "start_time": "2023-01-21T11:23:44.320Z"
   },
   {
    "duration": 6,
    "start_time": "2023-01-21T11:23:44.328Z"
   },
   {
    "duration": 22,
    "start_time": "2023-01-21T11:23:44.336Z"
   },
   {
    "duration": 8,
    "start_time": "2023-01-21T11:23:44.359Z"
   },
   {
    "duration": 45,
    "start_time": "2023-01-21T11:23:44.369Z"
   },
   {
    "duration": 1226,
    "start_time": "2023-01-21T11:23:44.415Z"
   },
   {
    "duration": 6,
    "start_time": "2023-01-21T11:23:45.643Z"
   },
   {
    "duration": 27,
    "start_time": "2023-01-21T11:23:45.650Z"
   },
   {
    "duration": 26,
    "start_time": "2023-01-21T11:23:45.682Z"
   },
   {
    "duration": 28,
    "start_time": "2023-01-21T11:23:45.710Z"
   },
   {
    "duration": 6,
    "start_time": "2023-01-21T11:23:45.740Z"
   },
   {
    "duration": 6,
    "start_time": "2023-01-21T11:23:45.748Z"
   },
   {
    "duration": 16,
    "start_time": "2023-01-21T11:23:45.755Z"
   },
   {
    "duration": 281,
    "start_time": "2023-01-21T11:23:45.773Z"
   },
   {
    "duration": 7,
    "start_time": "2023-01-21T11:23:46.056Z"
   },
   {
    "duration": 189,
    "start_time": "2023-01-21T11:23:46.064Z"
   },
   {
    "duration": 5,
    "start_time": "2023-01-21T11:23:46.255Z"
   },
   {
    "duration": 182,
    "start_time": "2023-01-21T11:23:46.261Z"
   },
   {
    "duration": 6,
    "start_time": "2023-01-21T11:23:46.445Z"
   },
   {
    "duration": 182,
    "start_time": "2023-01-21T11:23:46.452Z"
   },
   {
    "duration": 5,
    "start_time": "2023-01-21T11:23:46.636Z"
   },
   {
    "duration": 205,
    "start_time": "2023-01-21T11:23:46.643Z"
   },
   {
    "duration": 6,
    "start_time": "2023-01-21T11:23:46.850Z"
   },
   {
    "duration": 183,
    "start_time": "2023-01-21T11:23:46.857Z"
   },
   {
    "duration": 4,
    "start_time": "2023-01-21T11:23:47.042Z"
   },
   {
    "duration": 191,
    "start_time": "2023-01-21T11:23:47.048Z"
   },
   {
    "duration": 7,
    "start_time": "2023-01-21T11:23:47.241Z"
   },
   {
    "duration": 174,
    "start_time": "2023-01-21T11:23:47.249Z"
   },
   {
    "duration": 5,
    "start_time": "2023-01-21T11:23:47.425Z"
   },
   {
    "duration": 180,
    "start_time": "2023-01-21T11:23:47.431Z"
   },
   {
    "duration": 6,
    "start_time": "2023-01-21T11:23:47.613Z"
   },
   {
    "duration": 34,
    "start_time": "2023-01-21T11:23:47.621Z"
   },
   {
    "duration": 15,
    "start_time": "2023-01-21T11:23:47.656Z"
   },
   {
    "duration": 168,
    "start_time": "2023-01-21T11:23:47.672Z"
   },
   {
    "duration": 14,
    "start_time": "2023-01-21T11:23:47.842Z"
   },
   {
    "duration": 148,
    "start_time": "2023-01-21T11:23:47.857Z"
   },
   {
    "duration": 14,
    "start_time": "2023-01-21T11:23:48.007Z"
   },
   {
    "duration": 133,
    "start_time": "2023-01-21T11:23:48.022Z"
   },
   {
    "duration": 15,
    "start_time": "2023-01-21T11:23:48.157Z"
   },
   {
    "duration": 148,
    "start_time": "2023-01-21T11:23:48.173Z"
   },
   {
    "duration": 13,
    "start_time": "2023-01-21T11:23:48.323Z"
   },
   {
    "duration": 198,
    "start_time": "2023-01-21T11:23:48.338Z"
   },
   {
    "duration": 15,
    "start_time": "2023-01-21T11:23:48.537Z"
   },
   {
    "duration": 212,
    "start_time": "2023-01-21T11:23:48.553Z"
   },
   {
    "duration": 13,
    "start_time": "2023-01-21T11:23:48.768Z"
   },
   {
    "duration": 214,
    "start_time": "2023-01-21T11:23:48.782Z"
   },
   {
    "duration": 14,
    "start_time": "2023-01-21T11:23:49.002Z"
   },
   {
    "duration": 223,
    "start_time": "2023-01-21T11:23:49.017Z"
   },
   {
    "duration": 6,
    "start_time": "2023-01-21T11:23:49.242Z"
   },
   {
    "duration": 190,
    "start_time": "2023-01-21T11:23:49.250Z"
   },
   {
    "duration": 167,
    "start_time": "2023-01-21T11:23:49.442Z"
   },
   {
    "duration": 159,
    "start_time": "2023-01-21T11:23:49.611Z"
   },
   {
    "duration": 149,
    "start_time": "2023-01-21T11:23:49.772Z"
   },
   {
    "duration": 5,
    "start_time": "2023-01-21T11:23:49.923Z"
   },
   {
    "duration": 38,
    "start_time": "2023-01-21T11:23:49.930Z"
   },
   {
    "duration": 76,
    "start_time": "2023-01-21T11:23:49.970Z"
   }
  ],
  "kernelspec": {
   "display_name": "Python 3 (ipykernel)",
   "language": "python",
   "name": "python3"
  },
  "language_info": {
   "codemirror_mode": {
    "name": "ipython",
    "version": 3
   },
   "file_extension": ".py",
   "mimetype": "text/x-python",
   "name": "python",
   "nbconvert_exporter": "python",
   "pygments_lexer": "ipython3",
   "version": "3.10.9"
  },
  "toc": {
   "base_numbering": 1,
   "nav_menu": {},
   "number_sections": true,
   "sideBar": true,
   "skip_h1_title": true,
   "title_cell": "Table of Contents",
   "title_sidebar": "Contents",
   "toc_cell": false,
   "toc_position": {},
   "toc_section_display": true,
   "toc_window_display": false
  }
 },
 "nbformat": 4,
 "nbformat_minor": 2
}

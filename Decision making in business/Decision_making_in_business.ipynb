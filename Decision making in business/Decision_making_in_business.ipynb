{
 "cells": [
  {
   "cell_type": "markdown",
   "metadata": {},
   "source": [
    "# Принятие решений в бизнесе"
   ]
  },
  {
   "cell_type": "markdown",
   "metadata": {},
   "source": [
    "### Загрузим данные и подготовим их к анализу"
   ]
  },
  {
   "cell_type": "code",
   "execution_count": 1,
   "metadata": {},
   "outputs": [],
   "source": [
    "import pandas as pd\n",
    "import scipy.stats as stats\n",
    "import datetime as dt\n",
    "import numpy as np\n",
    "from matplotlib import pyplot as plt"
   ]
  },
  {
   "cell_type": "code",
   "execution_count": 2,
   "metadata": {},
   "outputs": [],
   "source": [
    "\n",
    "try:\n",
    "    data = pd.read_csv('/datasets/hypothesis.csv')\n",
    "except:\n",
    "    data = pd.read_csv('hypothesis.csv')"
   ]
  },
  {
   "cell_type": "code",
   "execution_count": 3,
   "metadata": {},
   "outputs": [],
   "source": [
    "pd.set_option(\"max_colwidth\", 999)"
   ]
  },
  {
   "cell_type": "code",
   "execution_count": 4,
   "metadata": {},
   "outputs": [
    {
     "data": {
      "text/html": [
       "<div>\n",
       "<style scoped>\n",
       "    .dataframe tbody tr th:only-of-type {\n",
       "        vertical-align: middle;\n",
       "    }\n",
       "\n",
       "    .dataframe tbody tr th {\n",
       "        vertical-align: top;\n",
       "    }\n",
       "\n",
       "    .dataframe thead th {\n",
       "        text-align: right;\n",
       "    }\n",
       "</style>\n",
       "<table border=\"1\" class=\"dataframe\">\n",
       "  <thead>\n",
       "    <tr style=\"text-align: right;\">\n",
       "      <th></th>\n",
       "      <th>Hypothesis</th>\n",
       "      <th>Reach</th>\n",
       "      <th>Impact</th>\n",
       "      <th>Confidence</th>\n",
       "      <th>Efforts</th>\n",
       "    </tr>\n",
       "  </thead>\n",
       "  <tbody>\n",
       "    <tr>\n",
       "      <th>0</th>\n",
       "      <td>Добавить два новых канала привлечения трафика, что позволит привлекать на 30% больше пользователей</td>\n",
       "      <td>3</td>\n",
       "      <td>10</td>\n",
       "      <td>8</td>\n",
       "      <td>6</td>\n",
       "    </tr>\n",
       "    <tr>\n",
       "      <th>1</th>\n",
       "      <td>Запустить собственную службу доставки, что сократит срок доставки заказов</td>\n",
       "      <td>2</td>\n",
       "      <td>5</td>\n",
       "      <td>4</td>\n",
       "      <td>10</td>\n",
       "    </tr>\n",
       "    <tr>\n",
       "      <th>2</th>\n",
       "      <td>Добавить блоки рекомендаций товаров на сайт интернет магазина, чтобы повысить конверсию и средний чек заказа</td>\n",
       "      <td>8</td>\n",
       "      <td>3</td>\n",
       "      <td>7</td>\n",
       "      <td>3</td>\n",
       "    </tr>\n",
       "    <tr>\n",
       "      <th>3</th>\n",
       "      <td>Изменить структура категорий, что увеличит конверсию, т.к. пользователи быстрее найдут нужный товар</td>\n",
       "      <td>8</td>\n",
       "      <td>3</td>\n",
       "      <td>3</td>\n",
       "      <td>8</td>\n",
       "    </tr>\n",
       "    <tr>\n",
       "      <th>4</th>\n",
       "      <td>Изменить цвет фона главной страницы, чтобы увеличить вовлеченность пользователей</td>\n",
       "      <td>3</td>\n",
       "      <td>1</td>\n",
       "      <td>1</td>\n",
       "      <td>1</td>\n",
       "    </tr>\n",
       "    <tr>\n",
       "      <th>5</th>\n",
       "      <td>Добавить страницу отзывов клиентов о магазине, что позволит увеличить количество заказов</td>\n",
       "      <td>3</td>\n",
       "      <td>2</td>\n",
       "      <td>2</td>\n",
       "      <td>3</td>\n",
       "    </tr>\n",
       "    <tr>\n",
       "      <th>6</th>\n",
       "      <td>Показать на главной странице баннеры с актуальными акциями и распродажами, чтобы увеличить конверсию</td>\n",
       "      <td>5</td>\n",
       "      <td>3</td>\n",
       "      <td>8</td>\n",
       "      <td>3</td>\n",
       "    </tr>\n",
       "    <tr>\n",
       "      <th>7</th>\n",
       "      <td>Добавить форму подписки на все основные страницы, чтобы собрать базу клиентов для email-рассылок</td>\n",
       "      <td>10</td>\n",
       "      <td>7</td>\n",
       "      <td>8</td>\n",
       "      <td>5</td>\n",
       "    </tr>\n",
       "    <tr>\n",
       "      <th>8</th>\n",
       "      <td>Запустить акцию, дающую скидку на товар в день рождения</td>\n",
       "      <td>1</td>\n",
       "      <td>9</td>\n",
       "      <td>9</td>\n",
       "      <td>5</td>\n",
       "    </tr>\n",
       "  </tbody>\n",
       "</table>\n",
       "</div>"
      ],
      "text/plain": [
       "                                                                                                     Hypothesis  \\\n",
       "0            Добавить два новых канала привлечения трафика, что позволит привлекать на 30% больше пользователей   \n",
       "1                                     Запустить собственную службу доставки, что сократит срок доставки заказов   \n",
       "2  Добавить блоки рекомендаций товаров на сайт интернет магазина, чтобы повысить конверсию и средний чек заказа   \n",
       "3           Изменить структура категорий, что увеличит конверсию, т.к. пользователи быстрее найдут нужный товар   \n",
       "4                              Изменить цвет фона главной страницы, чтобы увеличить вовлеченность пользователей   \n",
       "5                      Добавить страницу отзывов клиентов о магазине, что позволит увеличить количество заказов   \n",
       "6          Показать на главной странице баннеры с актуальными акциями и распродажами, чтобы увеличить конверсию   \n",
       "7              Добавить форму подписки на все основные страницы, чтобы собрать базу клиентов для email-рассылок   \n",
       "8                                                       Запустить акцию, дающую скидку на товар в день рождения   \n",
       "\n",
       "   Reach  Impact  Confidence  Efforts  \n",
       "0      3      10           8        6  \n",
       "1      2       5           4       10  \n",
       "2      8       3           7        3  \n",
       "3      8       3           3        8  \n",
       "4      3       1           1        1  \n",
       "5      3       2           2        3  \n",
       "6      5       3           8        3  \n",
       "7     10       7           8        5  \n",
       "8      1       9           9        5  "
      ]
     },
     "execution_count": 4,
     "metadata": {},
     "output_type": "execute_result"
    }
   ],
   "source": [
    "data"
   ]
  },
  {
   "cell_type": "markdown",
   "metadata": {},
   "source": [
    "Приведем названия столбцов к нижнему регистру"
   ]
  },
  {
   "cell_type": "code",
   "execution_count": 5,
   "metadata": {},
   "outputs": [],
   "source": [
    "data.columns = data.columns.str.lower()"
   ]
  },
  {
   "cell_type": "code",
   "execution_count": 6,
   "metadata": {},
   "outputs": [
    {
     "name": "stdout",
     "output_type": "stream",
     "text": [
      "<class 'pandas.core.frame.DataFrame'>\n",
      "RangeIndex: 9 entries, 0 to 8\n",
      "Data columns (total 5 columns):\n",
      " #   Column      Non-Null Count  Dtype \n",
      "---  ------      --------------  ----- \n",
      " 0   hypothesis  9 non-null      object\n",
      " 1   reach       9 non-null      int64 \n",
      " 2   impact      9 non-null      int64 \n",
      " 3   confidence  9 non-null      int64 \n",
      " 4   efforts     9 non-null      int64 \n",
      "dtypes: int64(4), object(1)\n",
      "memory usage: 488.0+ bytes\n"
     ]
    }
   ],
   "source": [
    "data.info()"
   ]
  },
  {
   "cell_type": "markdown",
   "metadata": {},
   "source": [
    "### Применим фреймворк ICE для приоритизации гипотез. Отсортируем их по убыванию приоритета"
   ]
  },
  {
   "cell_type": "markdown",
   "metadata": {},
   "source": [
    "Формула для расчета:\n",
    "$$ICE = \\frac{Impact * Confidence}{Efforts}$$"
   ]
  },
  {
   "cell_type": "code",
   "execution_count": 7,
   "metadata": {},
   "outputs": [
    {
     "data": {
      "text/html": [
       "<div>\n",
       "<style scoped>\n",
       "    .dataframe tbody tr th:only-of-type {\n",
       "        vertical-align: middle;\n",
       "    }\n",
       "\n",
       "    .dataframe tbody tr th {\n",
       "        vertical-align: top;\n",
       "    }\n",
       "\n",
       "    .dataframe thead th {\n",
       "        text-align: right;\n",
       "    }\n",
       "</style>\n",
       "<table border=\"1\" class=\"dataframe\">\n",
       "  <thead>\n",
       "    <tr style=\"text-align: right;\">\n",
       "      <th></th>\n",
       "      <th>hypothesis</th>\n",
       "      <th>ice</th>\n",
       "    </tr>\n",
       "  </thead>\n",
       "  <tbody>\n",
       "    <tr>\n",
       "      <th>8</th>\n",
       "      <td>Запустить акцию, дающую скидку на товар в день рождения</td>\n",
       "      <td>16.200000</td>\n",
       "    </tr>\n",
       "    <tr>\n",
       "      <th>0</th>\n",
       "      <td>Добавить два новых канала привлечения трафика, что позволит привлекать на 30% больше пользователей</td>\n",
       "      <td>13.333333</td>\n",
       "    </tr>\n",
       "    <tr>\n",
       "      <th>7</th>\n",
       "      <td>Добавить форму подписки на все основные страницы, чтобы собрать базу клиентов для email-рассылок</td>\n",
       "      <td>11.200000</td>\n",
       "    </tr>\n",
       "    <tr>\n",
       "      <th>6</th>\n",
       "      <td>Показать на главной странице баннеры с актуальными акциями и распродажами, чтобы увеличить конверсию</td>\n",
       "      <td>8.000000</td>\n",
       "    </tr>\n",
       "    <tr>\n",
       "      <th>2</th>\n",
       "      <td>Добавить блоки рекомендаций товаров на сайт интернет магазина, чтобы повысить конверсию и средний чек заказа</td>\n",
       "      <td>7.000000</td>\n",
       "    </tr>\n",
       "    <tr>\n",
       "      <th>1</th>\n",
       "      <td>Запустить собственную службу доставки, что сократит срок доставки заказов</td>\n",
       "      <td>2.000000</td>\n",
       "    </tr>\n",
       "    <tr>\n",
       "      <th>5</th>\n",
       "      <td>Добавить страницу отзывов клиентов о магазине, что позволит увеличить количество заказов</td>\n",
       "      <td>1.333333</td>\n",
       "    </tr>\n",
       "    <tr>\n",
       "      <th>3</th>\n",
       "      <td>Изменить структура категорий, что увеличит конверсию, т.к. пользователи быстрее найдут нужный товар</td>\n",
       "      <td>1.125000</td>\n",
       "    </tr>\n",
       "    <tr>\n",
       "      <th>4</th>\n",
       "      <td>Изменить цвет фона главной страницы, чтобы увеличить вовлеченность пользователей</td>\n",
       "      <td>1.000000</td>\n",
       "    </tr>\n",
       "  </tbody>\n",
       "</table>\n",
       "</div>"
      ],
      "text/plain": [
       "                                                                                                     hypothesis  \\\n",
       "8                                                       Запустить акцию, дающую скидку на товар в день рождения   \n",
       "0            Добавить два новых канала привлечения трафика, что позволит привлекать на 30% больше пользователей   \n",
       "7              Добавить форму подписки на все основные страницы, чтобы собрать базу клиентов для email-рассылок   \n",
       "6          Показать на главной странице баннеры с актуальными акциями и распродажами, чтобы увеличить конверсию   \n",
       "2  Добавить блоки рекомендаций товаров на сайт интернет магазина, чтобы повысить конверсию и средний чек заказа   \n",
       "1                                     Запустить собственную службу доставки, что сократит срок доставки заказов   \n",
       "5                      Добавить страницу отзывов клиентов о магазине, что позволит увеличить количество заказов   \n",
       "3           Изменить структура категорий, что увеличит конверсию, т.к. пользователи быстрее найдут нужный товар   \n",
       "4                              Изменить цвет фона главной страницы, чтобы увеличить вовлеченность пользователей   \n",
       "\n",
       "         ice  \n",
       "8  16.200000  \n",
       "0  13.333333  \n",
       "7  11.200000  \n",
       "6   8.000000  \n",
       "2   7.000000  \n",
       "1   2.000000  \n",
       "5   1.333333  \n",
       "3   1.125000  \n",
       "4   1.000000  "
      ]
     },
     "execution_count": 7,
     "metadata": {},
     "output_type": "execute_result"
    }
   ],
   "source": [
    "data['ice'] = (data['impact'] * data['confidence']) / data['efforts']\n",
    "data[['hypothesis', 'ice']].sort_values(by='ice', ascending=False)"
   ]
  },
  {
   "cell_type": "markdown",
   "metadata": {},
   "source": [
    "Наиболее перспективные гипотезы 8, 0 и 7 "
   ]
  },
  {
   "cell_type": "markdown",
   "metadata": {},
   "source": [
    "### Применим фреймворк RICE для приоритизации гипотез. Отсортируем их по убыванию приоритета."
   ]
  },
  {
   "cell_type": "markdown",
   "metadata": {},
   "source": [
    "Формула для расчета:\n",
    "$$RICE = \\frac{Rearch * Impact * Confidence}{Efforts}$$"
   ]
  },
  {
   "cell_type": "code",
   "execution_count": 8,
   "metadata": {},
   "outputs": [
    {
     "data": {
      "text/html": [
       "<div>\n",
       "<style scoped>\n",
       "    .dataframe tbody tr th:only-of-type {\n",
       "        vertical-align: middle;\n",
       "    }\n",
       "\n",
       "    .dataframe tbody tr th {\n",
       "        vertical-align: top;\n",
       "    }\n",
       "\n",
       "    .dataframe thead th {\n",
       "        text-align: right;\n",
       "    }\n",
       "</style>\n",
       "<table border=\"1\" class=\"dataframe\">\n",
       "  <thead>\n",
       "    <tr style=\"text-align: right;\">\n",
       "      <th></th>\n",
       "      <th>hypothesis</th>\n",
       "      <th>rice</th>\n",
       "    </tr>\n",
       "  </thead>\n",
       "  <tbody>\n",
       "    <tr>\n",
       "      <th>7</th>\n",
       "      <td>Добавить форму подписки на все основные страницы, чтобы собрать базу клиентов для email-рассылок</td>\n",
       "      <td>112.0</td>\n",
       "    </tr>\n",
       "    <tr>\n",
       "      <th>2</th>\n",
       "      <td>Добавить блоки рекомендаций товаров на сайт интернет магазина, чтобы повысить конверсию и средний чек заказа</td>\n",
       "      <td>56.0</td>\n",
       "    </tr>\n",
       "    <tr>\n",
       "      <th>0</th>\n",
       "      <td>Добавить два новых канала привлечения трафика, что позволит привлекать на 30% больше пользователей</td>\n",
       "      <td>40.0</td>\n",
       "    </tr>\n",
       "    <tr>\n",
       "      <th>6</th>\n",
       "      <td>Показать на главной странице баннеры с актуальными акциями и распродажами, чтобы увеличить конверсию</td>\n",
       "      <td>40.0</td>\n",
       "    </tr>\n",
       "    <tr>\n",
       "      <th>8</th>\n",
       "      <td>Запустить акцию, дающую скидку на товар в день рождения</td>\n",
       "      <td>16.2</td>\n",
       "    </tr>\n",
       "    <tr>\n",
       "      <th>3</th>\n",
       "      <td>Изменить структура категорий, что увеличит конверсию, т.к. пользователи быстрее найдут нужный товар</td>\n",
       "      <td>9.0</td>\n",
       "    </tr>\n",
       "    <tr>\n",
       "      <th>1</th>\n",
       "      <td>Запустить собственную службу доставки, что сократит срок доставки заказов</td>\n",
       "      <td>4.0</td>\n",
       "    </tr>\n",
       "    <tr>\n",
       "      <th>5</th>\n",
       "      <td>Добавить страницу отзывов клиентов о магазине, что позволит увеличить количество заказов</td>\n",
       "      <td>4.0</td>\n",
       "    </tr>\n",
       "    <tr>\n",
       "      <th>4</th>\n",
       "      <td>Изменить цвет фона главной страницы, чтобы увеличить вовлеченность пользователей</td>\n",
       "      <td>3.0</td>\n",
       "    </tr>\n",
       "  </tbody>\n",
       "</table>\n",
       "</div>"
      ],
      "text/plain": [
       "                                                                                                     hypothesis  \\\n",
       "7              Добавить форму подписки на все основные страницы, чтобы собрать базу клиентов для email-рассылок   \n",
       "2  Добавить блоки рекомендаций товаров на сайт интернет магазина, чтобы повысить конверсию и средний чек заказа   \n",
       "0            Добавить два новых канала привлечения трафика, что позволит привлекать на 30% больше пользователей   \n",
       "6          Показать на главной странице баннеры с актуальными акциями и распродажами, чтобы увеличить конверсию   \n",
       "8                                                       Запустить акцию, дающую скидку на товар в день рождения   \n",
       "3           Изменить структура категорий, что увеличит конверсию, т.к. пользователи быстрее найдут нужный товар   \n",
       "1                                     Запустить собственную службу доставки, что сократит срок доставки заказов   \n",
       "5                      Добавить страницу отзывов клиентов о магазине, что позволит увеличить количество заказов   \n",
       "4                              Изменить цвет фона главной страницы, чтобы увеличить вовлеченность пользователей   \n",
       "\n",
       "    rice  \n",
       "7  112.0  \n",
       "2   56.0  \n",
       "0   40.0  \n",
       "6   40.0  \n",
       "8   16.2  \n",
       "3    9.0  \n",
       "1    4.0  \n",
       "5    4.0  \n",
       "4    3.0  "
      ]
     },
     "execution_count": 8,
     "metadata": {},
     "output_type": "execute_result"
    }
   ],
   "source": [
    "data['rice'] = (data['reach'] * data['impact'] * data['confidence']) / data['efforts']\n",
    "data[['hypothesis', 'rice']].sort_values(by='rice', ascending=False)"
   ]
  },
  {
   "cell_type": "markdown",
   "metadata": {},
   "source": [
    "Теперь наиболее перспективные гипотезы 7, 2, 0 и 6. "
   ]
  },
  {
   "cell_type": "markdown",
   "metadata": {},
   "source": [
    "**Вывод:**\n",
    "- При использования метода ICE наиболее перспективные гипотезы 8, 0 и 7\n",
    "- При использования метода RICE наиболее перспективные гипотезы 7, 2, 0 и 6\n",
    "\n",
    "Приоритизация гипотез меняется в зависимости от фреймворка. Это происходит из-за того, что в методе RICE используется компонент Reach (скольких пользователей затронет изменение, которое вы хотите внести). У гипотезы 7, он выше остальных."
   ]
  },
  {
   "cell_type": "markdown",
   "metadata": {},
   "source": [
    "## Анализ A/B-теста"
   ]
  },
  {
   "cell_type": "markdown",
   "metadata": {},
   "source": [
    "Мы провели A/B-тест и получили результаты, которые описаны в файлах /datasets/orders.csv и /datasets/visitors.csv.\n",
    "\n",
    "**Задача:**\n",
    "- Построить график кумулятивной выручки по группам. Сделать выводы и предположения.\n",
    "- Построить график кумулятивного среднего чека по группам. Сделать выводы и предположения.\n",
    "- Построить график относительного изменения кумулятивного среднего чека группы B к группе A. Сделать выводы и предположения.\n",
    "- Построить график кумулятивного среднего количества заказов на посетителя по группам. Сделать выводы и предположения.\n",
    "- Построить график относительного изменения кумулятивного среднего количества заказов на посетителя группы B к группе A. Сделать выводы и предположения.\n",
    "- Построить точечный график количества заказов по пользователям. Сделать выводы и предположения.\n",
    "- Посчитать 95-й и 99-й перцентили количества заказов на пользователя. Выбрать границу для определения аномальных пользователей.\n",
    "- Построить точечный график стоимостей заказов. Сделать выводы и предположения.\n",
    "- Посчитать 95-й и 99-й перцентили стоимости заказов. Выбрать границу для определения аномальных заказов.\n",
    "- Посчитать статистическую значимость различий в среднем количестве заказов на посетителя между группами по «сырым» данным. Сделать выводы и предположения.\n",
    "- Посчитать статистическую значимость различий в среднем чеке заказа между группами по «сырым» данным. Сделать выводы и предположения.\n",
    "- Посчитать статистическую значимость различий в среднем количестве заказов на посетителя между группами по «очищенным» данным. Сделать выводы и предположения.\n",
    "- Посчитать статистическую значимость различий в среднем чеке заказа между группами по «очищенным» данным. Сделать выводы и предположения.\n",
    "- Принять решение по результатам теста и объяснить его. "
   ]
  },
  {
   "cell_type": "markdown",
   "metadata": {},
   "source": [
    "### Загрузим данные и подготовим их к анализу"
   ]
  },
  {
   "cell_type": "code",
   "execution_count": 9,
   "metadata": {},
   "outputs": [],
   "source": [
    "try:\n",
    "    orders = pd.read_csv('/datasets/orders.csv')\n",
    "    visitors = pd.read_csv('/datasets/visitors.csv')\n",
    "except:\n",
    "    orders = pd.read_csv('orders.csv')\n",
    "    visitors = pd.read_csv('visitors.csv')"
   ]
  },
  {
   "cell_type": "markdown",
   "metadata": {},
   "source": [
    "Рассмотрим датасет orders"
   ]
  },
  {
   "cell_type": "code",
   "execution_count": 10,
   "metadata": {},
   "outputs": [
    {
     "data": {
      "text/html": [
       "<div>\n",
       "<style scoped>\n",
       "    .dataframe tbody tr th:only-of-type {\n",
       "        vertical-align: middle;\n",
       "    }\n",
       "\n",
       "    .dataframe tbody tr th {\n",
       "        vertical-align: top;\n",
       "    }\n",
       "\n",
       "    .dataframe thead th {\n",
       "        text-align: right;\n",
       "    }\n",
       "</style>\n",
       "<table border=\"1\" class=\"dataframe\">\n",
       "  <thead>\n",
       "    <tr style=\"text-align: right;\">\n",
       "      <th></th>\n",
       "      <th>transactionId</th>\n",
       "      <th>visitorId</th>\n",
       "      <th>date</th>\n",
       "      <th>revenue</th>\n",
       "      <th>group</th>\n",
       "    </tr>\n",
       "  </thead>\n",
       "  <tbody>\n",
       "    <tr>\n",
       "      <th>0</th>\n",
       "      <td>3667963787</td>\n",
       "      <td>3312258926</td>\n",
       "      <td>2019-08-15</td>\n",
       "      <td>1650</td>\n",
       "      <td>B</td>\n",
       "    </tr>\n",
       "    <tr>\n",
       "      <th>1</th>\n",
       "      <td>2804400009</td>\n",
       "      <td>3642806036</td>\n",
       "      <td>2019-08-15</td>\n",
       "      <td>730</td>\n",
       "      <td>B</td>\n",
       "    </tr>\n",
       "    <tr>\n",
       "      <th>2</th>\n",
       "      <td>2961555356</td>\n",
       "      <td>4069496402</td>\n",
       "      <td>2019-08-15</td>\n",
       "      <td>400</td>\n",
       "      <td>A</td>\n",
       "    </tr>\n",
       "    <tr>\n",
       "      <th>3</th>\n",
       "      <td>3797467345</td>\n",
       "      <td>1196621759</td>\n",
       "      <td>2019-08-15</td>\n",
       "      <td>9759</td>\n",
       "      <td>B</td>\n",
       "    </tr>\n",
       "    <tr>\n",
       "      <th>4</th>\n",
       "      <td>2282983706</td>\n",
       "      <td>2322279887</td>\n",
       "      <td>2019-08-15</td>\n",
       "      <td>2308</td>\n",
       "      <td>B</td>\n",
       "    </tr>\n",
       "  </tbody>\n",
       "</table>\n",
       "</div>"
      ],
      "text/plain": [
       "   transactionId   visitorId        date  revenue group\n",
       "0     3667963787  3312258926  2019-08-15     1650     B\n",
       "1     2804400009  3642806036  2019-08-15      730     B\n",
       "2     2961555356  4069496402  2019-08-15      400     A\n",
       "3     3797467345  1196621759  2019-08-15     9759     B\n",
       "4     2282983706  2322279887  2019-08-15     2308     B"
      ]
     },
     "execution_count": 10,
     "metadata": {},
     "output_type": "execute_result"
    }
   ],
   "source": [
    "orders.head()"
   ]
  },
  {
   "cell_type": "code",
   "execution_count": 11,
   "metadata": {},
   "outputs": [
    {
     "name": "stdout",
     "output_type": "stream",
     "text": [
      "<class 'pandas.core.frame.DataFrame'>\n",
      "RangeIndex: 1197 entries, 0 to 1196\n",
      "Data columns (total 5 columns):\n",
      " #   Column         Non-Null Count  Dtype \n",
      "---  ------         --------------  ----- \n",
      " 0   transactionId  1197 non-null   int64 \n",
      " 1   visitorId      1197 non-null   int64 \n",
      " 2   date           1197 non-null   object\n",
      " 3   revenue        1197 non-null   int64 \n",
      " 4   group          1197 non-null   object\n",
      "dtypes: int64(3), object(2)\n",
      "memory usage: 46.9+ KB\n"
     ]
    }
   ],
   "source": [
    "orders.info()"
   ]
  },
  {
   "cell_type": "markdown",
   "metadata": {},
   "source": [
    "Приведем первые два столбца в более читабельный вид"
   ]
  },
  {
   "cell_type": "code",
   "execution_count": 12,
   "metadata": {},
   "outputs": [],
   "source": [
    "orders = orders.rename(columns={'transactionId': 'transaction_id', 'visitorId': 'visitor_id'})"
   ]
  },
  {
   "cell_type": "markdown",
   "metadata": {},
   "source": [
    "Изменим тип данных в столбце с датой"
   ]
  },
  {
   "cell_type": "code",
   "execution_count": 13,
   "metadata": {},
   "outputs": [],
   "source": [
    "orders['date'] = orders['date'].map(lambda x: dt.datetime.strptime(x, '%Y-%m-%d'))\n"
   ]
  },
  {
   "cell_type": "markdown",
   "metadata": {},
   "source": [
    "Проверим на наличие дубликатов"
   ]
  },
  {
   "cell_type": "code",
   "execution_count": 14,
   "metadata": {},
   "outputs": [
    {
     "data": {
      "text/plain": [
       "0"
      ]
     },
     "execution_count": 14,
     "metadata": {},
     "output_type": "execute_result"
    }
   ],
   "source": [
    "orders.duplicated().sum()\n"
   ]
  },
  {
   "cell_type": "markdown",
   "metadata": {},
   "source": [
    "Дубликатов нет"
   ]
  },
  {
   "cell_type": "markdown",
   "metadata": {},
   "source": [
    "Проверим есть ли пользователи, которые попали в обе группы"
   ]
  },
  {
   "cell_type": "code",
   "execution_count": 15,
   "metadata": {},
   "outputs": [
    {
     "data": {
      "text/plain": [
       "group    58\n",
       "dtype: int64"
      ]
     },
     "execution_count": 15,
     "metadata": {},
     "output_type": "execute_result"
    }
   ],
   "source": [
    "orders.groupby('visitor_id').agg({'group' : 'nunique'}).query('group > 1').count()"
   ]
  },
  {
   "cell_type": "markdown",
   "metadata": {},
   "source": [
    "Таких пользовтелей - 58"
   ]
  },
  {
   "cell_type": "markdown",
   "metadata": {},
   "source": [
    "Удалим этих пользователей. "
   ]
  },
  {
   "cell_type": "code",
   "execution_count": 16,
   "metadata": {},
   "outputs": [
    {
     "data": {
      "text/plain": [
       "array([   8300375,  199603092,  232979603,  237748145,  276558944,\n",
       "        351125977,  393266494,  457167155,  471551937,  477780734,\n",
       "        818047933,  963407295, 1230306981, 1294878855, 1316129916,\n",
       "       1333886533, 1404934699, 1602967004, 1614305549, 1648269707,\n",
       "       1668030113, 1738359350, 1801183820, 1959144690, 2038680547,\n",
       "       2044997962, 2378935119, 2458001652, 2579882178, 2587333274,\n",
       "       2600415354, 2654030115, 2686716486, 2712142231, 2716752286,\n",
       "       2780786433, 2927087541, 2949041841, 2954449915, 3062433592,\n",
       "       3202540741, 3234906277, 3656415546, 3717692402, 3766097110,\n",
       "       3803269165, 3891541246, 3941795274, 3951559397, 3957174400,\n",
       "       3963646447, 3972127743, 3984495233, 4069496402, 4120364173,\n",
       "       4186807279, 4256040402, 4266935830])"
      ]
     },
     "execution_count": 16,
     "metadata": {},
     "output_type": "execute_result"
    }
   ],
   "source": [
    "nonunique_visitor_id = orders.groupby('visitor_id').agg({'group' : 'nunique'}).reset_index().query('group > 1')['visitor_id'].unique()\n",
    "nonunique_visitor_id"
   ]
  },
  {
   "cell_type": "code",
   "execution_count": 17,
   "metadata": {},
   "outputs": [],
   "source": [
    "orders = orders.query('visitor_id not in @nonunique_visitor_id')"
   ]
  },
  {
   "cell_type": "code",
   "execution_count": 18,
   "metadata": {},
   "outputs": [
    {
     "data": {
      "text/plain": [
       "group    0\n",
       "dtype: int64"
      ]
     },
     "execution_count": 18,
     "metadata": {},
     "output_type": "execute_result"
    }
   ],
   "source": [
    "orders.groupby('visitor_id').agg({'group' : 'nunique'}).query('group > 1').count()"
   ]
  },
  {
   "cell_type": "markdown",
   "metadata": {},
   "source": [
    "Рассмотрим датасет visitors"
   ]
  },
  {
   "cell_type": "code",
   "execution_count": 19,
   "metadata": {},
   "outputs": [
    {
     "data": {
      "text/html": [
       "<div>\n",
       "<style scoped>\n",
       "    .dataframe tbody tr th:only-of-type {\n",
       "        vertical-align: middle;\n",
       "    }\n",
       "\n",
       "    .dataframe tbody tr th {\n",
       "        vertical-align: top;\n",
       "    }\n",
       "\n",
       "    .dataframe thead th {\n",
       "        text-align: right;\n",
       "    }\n",
       "</style>\n",
       "<table border=\"1\" class=\"dataframe\">\n",
       "  <thead>\n",
       "    <tr style=\"text-align: right;\">\n",
       "      <th></th>\n",
       "      <th>date</th>\n",
       "      <th>group</th>\n",
       "      <th>visitors</th>\n",
       "    </tr>\n",
       "  </thead>\n",
       "  <tbody>\n",
       "    <tr>\n",
       "      <th>0</th>\n",
       "      <td>2019-08-01</td>\n",
       "      <td>A</td>\n",
       "      <td>719</td>\n",
       "    </tr>\n",
       "    <tr>\n",
       "      <th>1</th>\n",
       "      <td>2019-08-02</td>\n",
       "      <td>A</td>\n",
       "      <td>619</td>\n",
       "    </tr>\n",
       "    <tr>\n",
       "      <th>2</th>\n",
       "      <td>2019-08-03</td>\n",
       "      <td>A</td>\n",
       "      <td>507</td>\n",
       "    </tr>\n",
       "    <tr>\n",
       "      <th>3</th>\n",
       "      <td>2019-08-04</td>\n",
       "      <td>A</td>\n",
       "      <td>717</td>\n",
       "    </tr>\n",
       "    <tr>\n",
       "      <th>4</th>\n",
       "      <td>2019-08-05</td>\n",
       "      <td>A</td>\n",
       "      <td>756</td>\n",
       "    </tr>\n",
       "  </tbody>\n",
       "</table>\n",
       "</div>"
      ],
      "text/plain": [
       "         date group  visitors\n",
       "0  2019-08-01     A       719\n",
       "1  2019-08-02     A       619\n",
       "2  2019-08-03     A       507\n",
       "3  2019-08-04     A       717\n",
       "4  2019-08-05     A       756"
      ]
     },
     "execution_count": 19,
     "metadata": {},
     "output_type": "execute_result"
    }
   ],
   "source": [
    "visitors.head()"
   ]
  },
  {
   "cell_type": "code",
   "execution_count": 20,
   "metadata": {},
   "outputs": [
    {
     "name": "stdout",
     "output_type": "stream",
     "text": [
      "<class 'pandas.core.frame.DataFrame'>\n",
      "RangeIndex: 62 entries, 0 to 61\n",
      "Data columns (total 3 columns):\n",
      " #   Column    Non-Null Count  Dtype \n",
      "---  ------    --------------  ----- \n",
      " 0   date      62 non-null     object\n",
      " 1   group     62 non-null     object\n",
      " 2   visitors  62 non-null     int64 \n",
      "dtypes: int64(1), object(2)\n",
      "memory usage: 1.6+ KB\n"
     ]
    }
   ],
   "source": [
    "visitors.info()"
   ]
  },
  {
   "cell_type": "markdown",
   "metadata": {},
   "source": [
    "Изменим тип данных в столбце с датой"
   ]
  },
  {
   "cell_type": "code",
   "execution_count": 21,
   "metadata": {},
   "outputs": [],
   "source": [
    "visitors['date'] = visitors['date'].map(lambda x: dt.datetime.strptime(x, '%Y-%m-%d'))"
   ]
  },
  {
   "cell_type": "markdown",
   "metadata": {},
   "source": [
    "Проверим на наличие дубликатов"
   ]
  },
  {
   "cell_type": "code",
   "execution_count": 22,
   "metadata": {},
   "outputs": [
    {
     "data": {
      "text/plain": [
       "0"
      ]
     },
     "execution_count": 22,
     "metadata": {},
     "output_type": "execute_result"
    }
   ],
   "source": [
    "visitors.duplicated().sum()"
   ]
  },
  {
   "cell_type": "markdown",
   "metadata": {},
   "source": [
    "Дубликатов нет"
   ]
  },
  {
   "cell_type": "markdown",
   "metadata": {},
   "source": [
    "### Построим график кумулятивной выручки по группам. "
   ]
  },
  {
   "cell_type": "markdown",
   "metadata": {},
   "source": [
    "Создадим массив уникальных пар значений дат и групп теста методом drop_duplicates()"
   ]
  },
  {
   "cell_type": "code",
   "execution_count": 23,
   "metadata": {},
   "outputs": [
    {
     "data": {
      "text/html": [
       "<div>\n",
       "<style scoped>\n",
       "    .dataframe tbody tr th:only-of-type {\n",
       "        vertical-align: middle;\n",
       "    }\n",
       "\n",
       "    .dataframe tbody tr th {\n",
       "        vertical-align: top;\n",
       "    }\n",
       "\n",
       "    .dataframe thead th {\n",
       "        text-align: right;\n",
       "    }\n",
       "</style>\n",
       "<table border=\"1\" class=\"dataframe\">\n",
       "  <thead>\n",
       "    <tr style=\"text-align: right;\">\n",
       "      <th></th>\n",
       "      <th>date</th>\n",
       "      <th>group</th>\n",
       "    </tr>\n",
       "  </thead>\n",
       "  <tbody>\n",
       "    <tr>\n",
       "      <th>0</th>\n",
       "      <td>2019-08-15</td>\n",
       "      <td>B</td>\n",
       "    </tr>\n",
       "    <tr>\n",
       "      <th>7</th>\n",
       "      <td>2019-08-15</td>\n",
       "      <td>A</td>\n",
       "    </tr>\n",
       "    <tr>\n",
       "      <th>45</th>\n",
       "      <td>2019-08-16</td>\n",
       "      <td>A</td>\n",
       "    </tr>\n",
       "    <tr>\n",
       "      <th>47</th>\n",
       "      <td>2019-08-16</td>\n",
       "      <td>B</td>\n",
       "    </tr>\n",
       "    <tr>\n",
       "      <th>55</th>\n",
       "      <td>2019-08-01</td>\n",
       "      <td>A</td>\n",
       "    </tr>\n",
       "  </tbody>\n",
       "</table>\n",
       "</div>"
      ],
      "text/plain": [
       "         date group\n",
       "0  2019-08-15     B\n",
       "7  2019-08-15     A\n",
       "45 2019-08-16     A\n",
       "47 2019-08-16     B\n",
       "55 2019-08-01     A"
      ]
     },
     "execution_count": 23,
     "metadata": {},
     "output_type": "execute_result"
    }
   ],
   "source": [
    "datesGroups = orders[['date','group']].drop_duplicates()\n",
    "datesGroups.head()"
   ]
  },
  {
   "cell_type": "markdown",
   "metadata": {},
   "source": [
    "Получим агрегированные кумулятивные по дням данные о заказах"
   ]
  },
  {
   "cell_type": "code",
   "execution_count": 24,
   "metadata": {},
   "outputs": [
    {
     "data": {
      "text/html": [
       "<div>\n",
       "<style scoped>\n",
       "    .dataframe tbody tr th:only-of-type {\n",
       "        vertical-align: middle;\n",
       "    }\n",
       "\n",
       "    .dataframe tbody tr th {\n",
       "        vertical-align: top;\n",
       "    }\n",
       "\n",
       "    .dataframe thead th {\n",
       "        text-align: right;\n",
       "    }\n",
       "</style>\n",
       "<table border=\"1\" class=\"dataframe\">\n",
       "  <thead>\n",
       "    <tr style=\"text-align: right;\">\n",
       "      <th></th>\n",
       "      <th>date</th>\n",
       "      <th>group</th>\n",
       "      <th>transaction_id</th>\n",
       "      <th>visitor_id</th>\n",
       "      <th>revenue</th>\n",
       "    </tr>\n",
       "  </thead>\n",
       "  <tbody>\n",
       "    <tr>\n",
       "      <th>55</th>\n",
       "      <td>2019-08-01</td>\n",
       "      <td>A</td>\n",
       "      <td>23</td>\n",
       "      <td>19</td>\n",
       "      <td>142779</td>\n",
       "    </tr>\n",
       "    <tr>\n",
       "      <th>66</th>\n",
       "      <td>2019-08-01</td>\n",
       "      <td>B</td>\n",
       "      <td>17</td>\n",
       "      <td>17</td>\n",
       "      <td>59758</td>\n",
       "    </tr>\n",
       "    <tr>\n",
       "      <th>175</th>\n",
       "      <td>2019-08-02</td>\n",
       "      <td>A</td>\n",
       "      <td>42</td>\n",
       "      <td>36</td>\n",
       "      <td>234381</td>\n",
       "    </tr>\n",
       "    <tr>\n",
       "      <th>173</th>\n",
       "      <td>2019-08-02</td>\n",
       "      <td>B</td>\n",
       "      <td>40</td>\n",
       "      <td>39</td>\n",
       "      <td>221801</td>\n",
       "    </tr>\n",
       "    <tr>\n",
       "      <th>291</th>\n",
       "      <td>2019-08-03</td>\n",
       "      <td>A</td>\n",
       "      <td>66</td>\n",
       "      <td>60</td>\n",
       "      <td>346854</td>\n",
       "    </tr>\n",
       "  </tbody>\n",
       "</table>\n",
       "</div>"
      ],
      "text/plain": [
       "          date group  transaction_id  visitor_id  revenue\n",
       "55  2019-08-01     A              23          19   142779\n",
       "66  2019-08-01     B              17          17    59758\n",
       "175 2019-08-02     A              42          36   234381\n",
       "173 2019-08-02     B              40          39   221801\n",
       "291 2019-08-03     A              66          60   346854"
      ]
     },
     "execution_count": 24,
     "metadata": {},
     "output_type": "execute_result"
    }
   ],
   "source": [
    "ordersAggregated = datesGroups.apply(\n",
    "    lambda x: orders[np.logical_and(orders['date'] <= x['date'], orders['group'] == x['group'])].agg({\n",
    "'date' : 'max',\n",
    "'group' : 'max',\n",
    "'transaction_id' : pd.Series.nunique,\n",
    "'visitor_id' : pd.Series.nunique,\n",
    "'revenue' : 'sum'}), axis=1).sort_values(by=['date','group'])\n",
    "ordersAggregated.head()"
   ]
  },
  {
   "cell_type": "markdown",
   "metadata": {},
   "source": [
    "Получим агрегированные кумулятивные по дням данные о посетителях интернет-магазина "
   ]
  },
  {
   "cell_type": "code",
   "execution_count": 25,
   "metadata": {},
   "outputs": [
    {
     "data": {
      "text/html": [
       "<div>\n",
       "<style scoped>\n",
       "    .dataframe tbody tr th:only-of-type {\n",
       "        vertical-align: middle;\n",
       "    }\n",
       "\n",
       "    .dataframe tbody tr th {\n",
       "        vertical-align: top;\n",
       "    }\n",
       "\n",
       "    .dataframe thead th {\n",
       "        text-align: right;\n",
       "    }\n",
       "</style>\n",
       "<table border=\"1\" class=\"dataframe\">\n",
       "  <thead>\n",
       "    <tr style=\"text-align: right;\">\n",
       "      <th></th>\n",
       "      <th>date</th>\n",
       "      <th>group</th>\n",
       "      <th>visitors</th>\n",
       "    </tr>\n",
       "  </thead>\n",
       "  <tbody>\n",
       "    <tr>\n",
       "      <th>55</th>\n",
       "      <td>2019-08-01</td>\n",
       "      <td>A</td>\n",
       "      <td>719</td>\n",
       "    </tr>\n",
       "    <tr>\n",
       "      <th>66</th>\n",
       "      <td>2019-08-01</td>\n",
       "      <td>B</td>\n",
       "      <td>713</td>\n",
       "    </tr>\n",
       "    <tr>\n",
       "      <th>175</th>\n",
       "      <td>2019-08-02</td>\n",
       "      <td>A</td>\n",
       "      <td>1338</td>\n",
       "    </tr>\n",
       "    <tr>\n",
       "      <th>173</th>\n",
       "      <td>2019-08-02</td>\n",
       "      <td>B</td>\n",
       "      <td>1294</td>\n",
       "    </tr>\n",
       "    <tr>\n",
       "      <th>291</th>\n",
       "      <td>2019-08-03</td>\n",
       "      <td>A</td>\n",
       "      <td>1845</td>\n",
       "    </tr>\n",
       "  </tbody>\n",
       "</table>\n",
       "</div>"
      ],
      "text/plain": [
       "          date group  visitors\n",
       "55  2019-08-01     A       719\n",
       "66  2019-08-01     B       713\n",
       "175 2019-08-02     A      1338\n",
       "173 2019-08-02     B      1294\n",
       "291 2019-08-03     A      1845"
      ]
     },
     "execution_count": 25,
     "metadata": {},
     "output_type": "execute_result"
    }
   ],
   "source": [
    "visitorsAggregated = datesGroups.apply(\n",
    "    lambda x: visitors[np.logical_and(visitors['date'] <= x['date'], visitors['group'] == x['group'])].agg({\n",
    "'date' : 'max', \n",
    "'group' : 'max', \n",
    "'visitors' : 'sum'}), axis=1).sort_values(by=['date','group'])\n",
    "visitorsAggregated.head()"
   ]
  },
  {
   "cell_type": "markdown",
   "metadata": {},
   "source": [
    "Объединим кумулятивные данные в одной таблице и присваиваем ее столбцам понятные названия"
   ]
  },
  {
   "cell_type": "code",
   "execution_count": 26,
   "metadata": {},
   "outputs": [
    {
     "data": {
      "text/html": [
       "<div>\n",
       "<style scoped>\n",
       "    .dataframe tbody tr th:only-of-type {\n",
       "        vertical-align: middle;\n",
       "    }\n",
       "\n",
       "    .dataframe tbody tr th {\n",
       "        vertical-align: top;\n",
       "    }\n",
       "\n",
       "    .dataframe thead th {\n",
       "        text-align: right;\n",
       "    }\n",
       "</style>\n",
       "<table border=\"1\" class=\"dataframe\">\n",
       "  <thead>\n",
       "    <tr style=\"text-align: right;\">\n",
       "      <th></th>\n",
       "      <th>date</th>\n",
       "      <th>group</th>\n",
       "      <th>orders</th>\n",
       "      <th>buyers</th>\n",
       "      <th>revenue</th>\n",
       "      <th>visitors</th>\n",
       "    </tr>\n",
       "  </thead>\n",
       "  <tbody>\n",
       "    <tr>\n",
       "      <th>0</th>\n",
       "      <td>2019-08-01</td>\n",
       "      <td>A</td>\n",
       "      <td>23</td>\n",
       "      <td>19</td>\n",
       "      <td>142779</td>\n",
       "      <td>719</td>\n",
       "    </tr>\n",
       "    <tr>\n",
       "      <th>1</th>\n",
       "      <td>2019-08-01</td>\n",
       "      <td>B</td>\n",
       "      <td>17</td>\n",
       "      <td>17</td>\n",
       "      <td>59758</td>\n",
       "      <td>713</td>\n",
       "    </tr>\n",
       "    <tr>\n",
       "      <th>2</th>\n",
       "      <td>2019-08-02</td>\n",
       "      <td>A</td>\n",
       "      <td>42</td>\n",
       "      <td>36</td>\n",
       "      <td>234381</td>\n",
       "      <td>1338</td>\n",
       "    </tr>\n",
       "    <tr>\n",
       "      <th>3</th>\n",
       "      <td>2019-08-02</td>\n",
       "      <td>B</td>\n",
       "      <td>40</td>\n",
       "      <td>39</td>\n",
       "      <td>221801</td>\n",
       "      <td>1294</td>\n",
       "    </tr>\n",
       "    <tr>\n",
       "      <th>4</th>\n",
       "      <td>2019-08-03</td>\n",
       "      <td>A</td>\n",
       "      <td>66</td>\n",
       "      <td>60</td>\n",
       "      <td>346854</td>\n",
       "      <td>1845</td>\n",
       "    </tr>\n",
       "  </tbody>\n",
       "</table>\n",
       "</div>"
      ],
      "text/plain": [
       "        date group  orders  buyers  revenue  visitors\n",
       "0 2019-08-01     A      23      19   142779       719\n",
       "1 2019-08-01     B      17      17    59758       713\n",
       "2 2019-08-02     A      42      36   234381      1338\n",
       "3 2019-08-02     B      40      39   221801      1294\n",
       "4 2019-08-03     A      66      60   346854      1845"
      ]
     },
     "execution_count": 26,
     "metadata": {},
     "output_type": "execute_result"
    }
   ],
   "source": [
    "cumulativeData = ordersAggregated.merge(visitorsAggregated, left_on=['date', 'group'], right_on=['date', 'group']) \n",
    "cumulativeData.columns = ['date', 'group', 'orders', 'buyers', 'revenue', 'visitors']\n",
    "cumulativeData.head()"
   ]
  },
  {
   "cell_type": "markdown",
   "metadata": {},
   "source": [
    "Датафрейм с кумулятивным количеством заказов и кумулятивной выручкой по дням в группе А"
   ]
  },
  {
   "cell_type": "code",
   "execution_count": 27,
   "metadata": {},
   "outputs": [],
   "source": [
    "cumulativeRevenueA = cumulativeData[cumulativeData['group']=='A'][['date','revenue', 'orders']]"
   ]
  },
  {
   "cell_type": "markdown",
   "metadata": {},
   "source": [
    "Датафрейм с кумулятивным количеством заказов и кумулятивной выручкой по дням в группе B"
   ]
  },
  {
   "cell_type": "code",
   "execution_count": 28,
   "metadata": {},
   "outputs": [],
   "source": [
    "cumulativeRevenueB = cumulativeData[cumulativeData['group']=='B'][['date','revenue', 'orders']]"
   ]
  },
  {
   "cell_type": "markdown",
   "metadata": {},
   "source": [
    "Строим графики"
   ]
  },
  {
   "cell_type": "code",
   "execution_count": 29,
   "metadata": {},
   "outputs": [
    {
     "data": {
      "text/plain": [
       "<matplotlib.legend.Legend at 0x7faa5e6a6820>"
      ]
     },
     "execution_count": 29,
     "metadata": {},
     "output_type": "execute_result"
    },
    {
     "data": {
      "image/png": "[encoded data removed]",
      "text/plain": [
       "<Figure size 1440x720 with 1 Axes>"
      ]
     },
     "metadata": {
      "needs_background": "light"
     },
     "output_type": "display_data"
    }
   ],
   "source": [
    "plt.figure(figsize=(20,10))\n",
    "plt.grid()\n",
    "plt.plot(cumulativeRevenueA['date'], cumulativeRevenueA['revenue'], label='A')\n",
    "plt.plot(cumulativeRevenueB['date'], cumulativeRevenueB['revenue'], label='B')\n",
    "plt.title('График кумулятивной выручки по группам')\n",
    "plt.xlabel('Дата')\n",
    "plt.ylabel('Выручка')\n",
    "plt.legend() "
   ]
  },
  {
   "cell_type": "markdown",
   "metadata": {},
   "source": [
    "- Выручка группы **А** росла равномерно. \n",
    "- У группы **В** был резкий скачок между 17 и 21 августа. Возможно это из-за каких-то крупных заказов"
   ]
  },
  {
   "cell_type": "markdown",
   "metadata": {},
   "source": [
    "### Построим график кумулятивного среднего чека по группам. "
   ]
  },
  {
   "cell_type": "code",
   "execution_count": 30,
   "metadata": {},
   "outputs": [
    {
     "data": {
      "text/plain": [
       "<matplotlib.legend.Legend at 0x7faa5598c070>"
      ]
     },
     "execution_count": 30,
     "metadata": {},
     "output_type": "execute_result"
    },
    {
     "data": {
      "image/png": "[encoded data removed]",
      "text/plain": [
       "<Figure size 1440x720 with 1 Axes>"
      ]
     },
     "metadata": {
      "needs_background": "light"
     },
     "output_type": "display_data"
    }
   ],
   "source": [
    "plt.figure(figsize=(20,10))\n",
    "plt.grid()\n",
    "plt.plot(cumulativeRevenueA['date'], cumulativeRevenueA['revenue']/cumulativeRevenueA['orders'], label='A')\n",
    "plt.plot(cumulativeRevenueB['date'], cumulativeRevenueB['revenue']/cumulativeRevenueB['orders'], label='B')\n",
    "plt.title('График кумулятивного среднего чека по группам')\n",
    "plt.xlabel('Дата')\n",
    "plt.ylabel('Средний чек')\n",
    "plt.legend() "
   ]
  },
  {
   "cell_type": "markdown",
   "metadata": {},
   "source": [
    "- Группа **А** после 13 августа стабильно держится в районе 7000. \n",
    "- У группы **B** мы снова видим большой скачок. Это подтверждает, что был сделан крупный заказ. Дальше идет падение и мы можем предположить, что график также стабилизируется в районе 7000."
   ]
  },
  {
   "cell_type": "markdown",
   "metadata": {},
   "source": [
    "### Построим график относительного изменения кумулятивного среднего чека группы B к группе A. "
   ]
  },
  {
   "cell_type": "code",
   "execution_count": 31,
   "metadata": {},
   "outputs": [
    {
     "data": {
      "text/plain": [
       "Text(0.5, 1.0, 'График кумулятивного среднего чека по группам')"
      ]
     },
     "execution_count": 31,
     "metadata": {},
     "output_type": "execute_result"
    },
    {
     "data": {
      "image/png": "[encoded data removed]",
      "text/plain": [
       "<Figure size 1440x720 with 1 Axes>"
      ]
     },
     "metadata": {
      "needs_background": "light"
     },
     "output_type": "display_data"
    }
   ],
   "source": [
    "mergedCumulativeRevenue = cumulativeRevenueA.merge(cumulativeRevenueB, left_on='date', right_on='date', how='left', suffixes=['A', 'B'])\n",
    "plt.figure(figsize=(20,10))\n",
    "plt.grid()\n",
    "plt.plot(mergedCumulativeRevenue['date'], (mergedCumulativeRevenue['revenueB']/mergedCumulativeRevenue['ordersB'])/(mergedCumulativeRevenue['revenueA']/mergedCumulativeRevenue['ordersA'])-1)\n",
    "plt.axhline(y=0, color='black', linestyle='--')\n",
    "plt.title('График кумулятивного среднего чека по группам')"
   ]
  },
  {
   "cell_type": "markdown",
   "metadata": {},
   "source": [
    "Здесь, как и на предыдущем графике, видно расхождение в начале и предположительно крупный заказ после  17 августа."
   ]
  },
  {
   "cell_type": "code",
   "execution_count": 32,
   "metadata": {
    "scrolled": false
   },
   "outputs": [
    {
     "data": {
      "text/html": [
       "<div>\n",
       "<style scoped>\n",
       "    .dataframe tbody tr th:only-of-type {\n",
       "        vertical-align: middle;\n",
       "    }\n",
       "\n",
       "    .dataframe tbody tr th {\n",
       "        vertical-align: top;\n",
       "    }\n",
       "\n",
       "    .dataframe thead th {\n",
       "        text-align: right;\n",
       "    }\n",
       "</style>\n",
       "<table border=\"1\" class=\"dataframe\">\n",
       "  <thead>\n",
       "    <tr style=\"text-align: right;\">\n",
       "      <th></th>\n",
       "      <th>date</th>\n",
       "      <th>revenueA</th>\n",
       "      <th>ordersA</th>\n",
       "      <th>revenueB</th>\n",
       "      <th>ordersB</th>\n",
       "    </tr>\n",
       "  </thead>\n",
       "  <tbody>\n",
       "    <tr>\n",
       "      <th>0</th>\n",
       "      <td>2019-08-01</td>\n",
       "      <td>142779</td>\n",
       "      <td>23</td>\n",
       "      <td>59758</td>\n",
       "      <td>17</td>\n",
       "    </tr>\n",
       "    <tr>\n",
       "      <th>1</th>\n",
       "      <td>2019-08-02</td>\n",
       "      <td>234381</td>\n",
       "      <td>42</td>\n",
       "      <td>221801</td>\n",
       "      <td>40</td>\n",
       "    </tr>\n",
       "    <tr>\n",
       "      <th>2</th>\n",
       "      <td>2019-08-03</td>\n",
       "      <td>346854</td>\n",
       "      <td>66</td>\n",
       "      <td>288850</td>\n",
       "      <td>54</td>\n",
       "    </tr>\n",
       "    <tr>\n",
       "      <th>3</th>\n",
       "      <td>2019-08-04</td>\n",
       "      <td>388030</td>\n",
       "      <td>77</td>\n",
       "      <td>385740</td>\n",
       "      <td>68</td>\n",
       "    </tr>\n",
       "    <tr>\n",
       "      <th>4</th>\n",
       "      <td>2019-08-05</td>\n",
       "      <td>474413</td>\n",
       "      <td>99</td>\n",
       "      <td>475648</td>\n",
       "      <td>89</td>\n",
       "    </tr>\n",
       "    <tr>\n",
       "      <th>5</th>\n",
       "      <td>2019-08-06</td>\n",
       "      <td>515332</td>\n",
       "      <td>114</td>\n",
       "      <td>690490</td>\n",
       "      <td>112</td>\n",
       "    </tr>\n",
       "    <tr>\n",
       "      <th>6</th>\n",
       "      <td>2019-08-07</td>\n",
       "      <td>638580</td>\n",
       "      <td>130</td>\n",
       "      <td>909654</td>\n",
       "      <td>135</td>\n",
       "    </tr>\n",
       "    <tr>\n",
       "      <th>7</th>\n",
       "      <td>2019-08-08</td>\n",
       "      <td>727219</td>\n",
       "      <td>144</td>\n",
       "      <td>1059795</td>\n",
       "      <td>157</td>\n",
       "    </tr>\n",
       "    <tr>\n",
       "      <th>8</th>\n",
       "      <td>2019-08-09</td>\n",
       "      <td>861456</td>\n",
       "      <td>155</td>\n",
       "      <td>1162961</td>\n",
       "      <td>176</td>\n",
       "    </tr>\n",
       "    <tr>\n",
       "      <th>9</th>\n",
       "      <td>2019-08-10</td>\n",
       "      <td>1013731</td>\n",
       "      <td>170</td>\n",
       "      <td>1268123</td>\n",
       "      <td>198</td>\n",
       "    </tr>\n",
       "    <tr>\n",
       "      <th>10</th>\n",
       "      <td>2019-08-11</td>\n",
       "      <td>1074396</td>\n",
       "      <td>181</td>\n",
       "      <td>1321183</td>\n",
       "      <td>210</td>\n",
       "    </tr>\n",
       "    <tr>\n",
       "      <th>11</th>\n",
       "      <td>2019-08-12</td>\n",
       "      <td>1294788</td>\n",
       "      <td>200</td>\n",
       "      <td>1425237</td>\n",
       "      <td>229</td>\n",
       "    </tr>\n",
       "    <tr>\n",
       "      <th>12</th>\n",
       "      <td>2019-08-13</td>\n",
       "      <td>1558426</td>\n",
       "      <td>214</td>\n",
       "      <td>1542928</td>\n",
       "      <td>249</td>\n",
       "    </tr>\n",
       "    <tr>\n",
       "      <th>13</th>\n",
       "      <td>2019-08-14</td>\n",
       "      <td>1601692</td>\n",
       "      <td>231</td>\n",
       "      <td>1650268</td>\n",
       "      <td>263</td>\n",
       "    </tr>\n",
       "    <tr>\n",
       "      <th>14</th>\n",
       "      <td>2019-08-15</td>\n",
       "      <td>1682569</td>\n",
       "      <td>241</td>\n",
       "      <td>1960427</td>\n",
       "      <td>289</td>\n",
       "    </tr>\n",
       "    <tr>\n",
       "      <th>15</th>\n",
       "      <td>2019-08-16</td>\n",
       "      <td>1782420</td>\n",
       "      <td>259</td>\n",
       "      <td>2074677</td>\n",
       "      <td>307</td>\n",
       "    </tr>\n",
       "    <tr>\n",
       "      <th>16</th>\n",
       "      <td>2019-08-17</td>\n",
       "      <td>1817160</td>\n",
       "      <td>265</td>\n",
       "      <td>2155542</td>\n",
       "      <td>320</td>\n",
       "    </tr>\n",
       "    <tr>\n",
       "      <th>17</th>\n",
       "      <td>2019-08-18</td>\n",
       "      <td>1876741</td>\n",
       "      <td>278</td>\n",
       "      <td>2190865</td>\n",
       "      <td>327</td>\n",
       "    </tr>\n",
       "    <tr>\n",
       "      <th>18</th>\n",
       "      <td>2019-08-19</td>\n",
       "      <td>2044934</td>\n",
       "      <td>299</td>\n",
       "      <td>3620785</td>\n",
       "      <td>348</td>\n",
       "    </tr>\n",
       "    <tr>\n",
       "      <th>19</th>\n",
       "      <td>2019-08-20</td>\n",
       "      <td>2103613</td>\n",
       "      <td>309</td>\n",
       "      <td>3768059</td>\n",
       "      <td>368</td>\n",
       "    </tr>\n",
       "    <tr>\n",
       "      <th>20</th>\n",
       "      <td>2019-08-21</td>\n",
       "      <td>2273782</td>\n",
       "      <td>329</td>\n",
       "      <td>3908406</td>\n",
       "      <td>380</td>\n",
       "    </tr>\n",
       "    <tr>\n",
       "      <th>21</th>\n",
       "      <td>2019-08-22</td>\n",
       "      <td>2366147</td>\n",
       "      <td>339</td>\n",
       "      <td>4050134</td>\n",
       "      <td>401</td>\n",
       "    </tr>\n",
       "    <tr>\n",
       "      <th>22</th>\n",
       "      <td>2019-08-23</td>\n",
       "      <td>2424010</td>\n",
       "      <td>359</td>\n",
       "      <td>4127403</td>\n",
       "      <td>414</td>\n",
       "    </tr>\n",
       "    <tr>\n",
       "      <th>23</th>\n",
       "      <td>2019-08-24</td>\n",
       "      <td>2546023</td>\n",
       "      <td>372</td>\n",
       "      <td>4215269</td>\n",
       "      <td>428</td>\n",
       "    </tr>\n",
       "    <tr>\n",
       "      <th>24</th>\n",
       "      <td>2019-08-25</td>\n",
       "      <td>2597907</td>\n",
       "      <td>380</td>\n",
       "      <td>4294526</td>\n",
       "      <td>440</td>\n",
       "    </tr>\n",
       "    <tr>\n",
       "      <th>25</th>\n",
       "      <td>2019-08-26</td>\n",
       "      <td>2755121</td>\n",
       "      <td>396</td>\n",
       "      <td>4467965</td>\n",
       "      <td>462</td>\n",
       "    </tr>\n",
       "    <tr>\n",
       "      <th>26</th>\n",
       "      <td>2019-08-27</td>\n",
       "      <td>2940471</td>\n",
       "      <td>419</td>\n",
       "      <td>4579312</td>\n",
       "      <td>473</td>\n",
       "    </tr>\n",
       "    <tr>\n",
       "      <th>27</th>\n",
       "      <td>2019-08-28</td>\n",
       "      <td>3036933</td>\n",
       "      <td>434</td>\n",
       "      <td>4640510</td>\n",
       "      <td>495</td>\n",
       "    </tr>\n",
       "    <tr>\n",
       "      <th>28</th>\n",
       "      <td>2019-08-29</td>\n",
       "      <td>3233233</td>\n",
       "      <td>451</td>\n",
       "      <td>4746610</td>\n",
       "      <td>510</td>\n",
       "    </tr>\n",
       "    <tr>\n",
       "      <th>29</th>\n",
       "      <td>2019-08-30</td>\n",
       "      <td>3311413</td>\n",
       "      <td>460</td>\n",
       "      <td>4955833</td>\n",
       "      <td>531</td>\n",
       "    </tr>\n",
       "    <tr>\n",
       "      <th>30</th>\n",
       "      <td>2019-08-31</td>\n",
       "      <td>3364656</td>\n",
       "      <td>468</td>\n",
       "      <td>5068972</td>\n",
       "      <td>548</td>\n",
       "    </tr>\n",
       "  </tbody>\n",
       "</table>\n",
       "</div>"
      ],
      "text/plain": [
       "         date  revenueA  ordersA  revenueB  ordersB\n",
       "0  2019-08-01    142779       23     59758       17\n",
       "1  2019-08-02    234381       42    221801       40\n",
       "2  2019-08-03    346854       66    288850       54\n",
       "3  2019-08-04    388030       77    385740       68\n",
       "4  2019-08-05    474413       99    475648       89\n",
       "5  2019-08-06    515332      114    690490      112\n",
       "6  2019-08-07    638580      130    909654      135\n",
       "7  2019-08-08    727219      144   1059795      157\n",
       "8  2019-08-09    861456      155   1162961      176\n",
       "9  2019-08-10   1013731      170   1268123      198\n",
       "10 2019-08-11   1074396      181   1321183      210\n",
       "11 2019-08-12   1294788      200   1425237      229\n",
       "12 2019-08-13   1558426      214   1542928      249\n",
       "13 2019-08-14   1601692      231   1650268      263\n",
       "14 2019-08-15   1682569      241   1960427      289\n",
       "15 2019-08-16   1782420      259   2074677      307\n",
       "16 2019-08-17   1817160      265   2155542      320\n",
       "17 2019-08-18   1876741      278   2190865      327\n",
       "18 2019-08-19   2044934      299   3620785      348\n",
       "19 2019-08-20   2103613      309   3768059      368\n",
       "20 2019-08-21   2273782      329   3908406      380\n",
       "21 2019-08-22   2366147      339   4050134      401\n",
       "22 2019-08-23   2424010      359   4127403      414\n",
       "23 2019-08-24   2546023      372   4215269      428\n",
       "24 2019-08-25   2597907      380   4294526      440\n",
       "25 2019-08-26   2755121      396   4467965      462\n",
       "26 2019-08-27   2940471      419   4579312      473\n",
       "27 2019-08-28   3036933      434   4640510      495\n",
       "28 2019-08-29   3233233      451   4746610      510\n",
       "29 2019-08-30   3311413      460   4955833      531\n",
       "30 2019-08-31   3364656      468   5068972      548"
      ]
     },
     "execution_count": 32,
     "metadata": {},
     "output_type": "execute_result"
    }
   ],
   "source": [
    "mergedCumulativeRevenue"
   ]
  },
  {
   "cell_type": "markdown",
   "metadata": {},
   "source": [
    "### Построим график кумулятивного среднего количества заказов на посетителя по группам."
   ]
  },
  {
   "cell_type": "code",
   "execution_count": 33,
   "metadata": {},
   "outputs": [
    {
     "data": {
      "text/plain": [
       "Text(0.5, 1.0, 'График кумулятивного среднего количества заказов на посетителя по группам')"
      ]
     },
     "execution_count": 33,
     "metadata": {},
     "output_type": "execute_result"
    },
    {
     "data": {
      "image/png": "[encoded data removed]",
      "text/plain": [
       "<Figure size 1440x720 with 1 Axes>"
      ]
     },
     "metadata": {
      "needs_background": "light"
     },
     "output_type": "display_data"
    }
   ],
   "source": [
    "cumulativeData['conversion'] = cumulativeData['orders']/cumulativeData['visitors']\n",
    "cumulativeDataA = cumulativeData[cumulativeData['group']=='A']\n",
    "cumulativeDataB = cumulativeData[cumulativeData['group']=='B']\n",
    "plt.figure(figsize=(20,10))\n",
    "plt.grid()\n",
    "plt.plot(cumulativeDataA['date'], cumulativeDataA['conversion'], label='A')\n",
    "plt.plot(cumulativeDataB['date'], cumulativeDataB['conversion'], label='B')\n",
    "plt.legend()\n",
    "plt.axis([dt.datetime(2019, 8, 1), dt.datetime(2019, 9, 1), 0.02, 0.04])\n",
    "plt.title('График кумулятивного среднего количества заказов на посетителя по группам')"
   ]
  },
  {
   "cell_type": "markdown",
   "metadata": {},
   "source": [
    "В группе **В** среднее количество заказов на посетителя выше, чем в группе **А**. Мы не видим скачка после 17 августа, это значит, что он был вызван суммой заказа, а не количеством. "
   ]
  },
  {
   "cell_type": "markdown",
   "metadata": {},
   "source": [
    "### Постром график относительного изменения кумулятивного среднего количества заказов на посетителя группы B к группе A. "
   ]
  },
  {
   "cell_type": "code",
   "execution_count": 34,
   "metadata": {},
   "outputs": [
    {
     "data": {
      "text/plain": [
       "Text(0.5, 1.0, 'график относительного изменения кумулятивного среднего количества заказов на посетителя группы B к группе A')"
      ]
     },
     "execution_count": 34,
     "metadata": {},
     "output_type": "execute_result"
    },
    {
     "data": {
      "image/png": "[encoded data removed]",
      "text/plain": [
       "<Figure size 1440x720 with 1 Axes>"
      ]
     },
     "metadata": {
      "needs_background": "light"
     },
     "output_type": "display_data"
    }
   ],
   "source": [
    "mergedCumulativeConversions = cumulativeDataA[['date','conversion']].merge(cumulativeDataB[['date','conversion']], left_on='date', right_on='date', how='left', suffixes=['A', 'B'])\n",
    "plt.figure(figsize=(20,10))\n",
    "plt.grid()\n",
    "plt.plot(mergedCumulativeConversions['date'], mergedCumulativeConversions['conversionB']/mergedCumulativeConversions['conversionA']-1, label=\"Относительный прирост конверсии группы B относительно группы A\")\n",
    "plt.legend()\n",
    "plt.axhline(y=0, color='black', linestyle='--')\n",
    "plt.axhline(y=0.2, color='grey', linestyle='--')\n",
    "plt.axis([dt.datetime(2019, 8, 1), dt.datetime(2019, 9, 1), -0.3, 0.3])\n",
    "plt.title('график относительного изменения кумулятивного среднего количества заказов на посетителя группы B к группе A')"
   ]
  },
  {
   "cell_type": "code",
   "execution_count": 35,
   "metadata": {},
   "outputs": [
    {
     "data": {
      "text/html": [
       "<div>\n",
       "<style scoped>\n",
       "    .dataframe tbody tr th:only-of-type {\n",
       "        vertical-align: middle;\n",
       "    }\n",
       "\n",
       "    .dataframe tbody tr th {\n",
       "        vertical-align: top;\n",
       "    }\n",
       "\n",
       "    .dataframe thead th {\n",
       "        text-align: right;\n",
       "    }\n",
       "</style>\n",
       "<table border=\"1\" class=\"dataframe\">\n",
       "  <thead>\n",
       "    <tr style=\"text-align: right;\">\n",
       "      <th></th>\n",
       "      <th>date</th>\n",
       "      <th>conversionA</th>\n",
       "      <th>conversionB</th>\n",
       "    </tr>\n",
       "  </thead>\n",
       "  <tbody>\n",
       "    <tr>\n",
       "      <th>0</th>\n",
       "      <td>2019-08-01</td>\n",
       "      <td>0.031989</td>\n",
       "      <td>0.023843</td>\n",
       "    </tr>\n",
       "    <tr>\n",
       "      <th>1</th>\n",
       "      <td>2019-08-02</td>\n",
       "      <td>0.031390</td>\n",
       "      <td>0.030912</td>\n",
       "    </tr>\n",
       "    <tr>\n",
       "      <th>2</th>\n",
       "      <td>2019-08-03</td>\n",
       "      <td>0.035772</td>\n",
       "      <td>0.029950</td>\n",
       "    </tr>\n",
       "    <tr>\n",
       "      <th>3</th>\n",
       "      <td>2019-08-04</td>\n",
       "      <td>0.030055</td>\n",
       "      <td>0.026428</td>\n",
       "    </tr>\n",
       "    <tr>\n",
       "      <th>4</th>\n",
       "      <td>2019-08-05</td>\n",
       "      <td>0.029837</td>\n",
       "      <td>0.027134</td>\n",
       "    </tr>\n",
       "    <tr>\n",
       "      <th>5</th>\n",
       "      <td>2019-08-06</td>\n",
       "      <td>0.028607</td>\n",
       "      <td>0.028463</td>\n",
       "    </tr>\n",
       "    <tr>\n",
       "      <th>6</th>\n",
       "      <td>2019-08-07</td>\n",
       "      <td>0.028084</td>\n",
       "      <td>0.029070</td>\n",
       "    </tr>\n",
       "    <tr>\n",
       "      <th>7</th>\n",
       "      <td>2019-08-08</td>\n",
       "      <td>0.027486</td>\n",
       "      <td>0.029634</td>\n",
       "    </tr>\n",
       "    <tr>\n",
       "      <th>8</th>\n",
       "      <td>2019-08-09</td>\n",
       "      <td>0.026469</td>\n",
       "      <td>0.029790</td>\n",
       "    </tr>\n",
       "    <tr>\n",
       "      <th>9</th>\n",
       "      <td>2019-08-10</td>\n",
       "      <td>0.027148</td>\n",
       "      <td>0.031544</td>\n",
       "    </tr>\n",
       "    <tr>\n",
       "      <th>10</th>\n",
       "      <td>2019-08-11</td>\n",
       "      <td>0.025931</td>\n",
       "      <td>0.030009</td>\n",
       "    </tr>\n",
       "    <tr>\n",
       "      <th>11</th>\n",
       "      <td>2019-08-12</td>\n",
       "      <td>0.026403</td>\n",
       "      <td>0.030367</td>\n",
       "    </tr>\n",
       "    <tr>\n",
       "      <th>12</th>\n",
       "      <td>2019-08-13</td>\n",
       "      <td>0.025712</td>\n",
       "      <td>0.029964</td>\n",
       "    </tr>\n",
       "    <tr>\n",
       "      <th>13</th>\n",
       "      <td>2019-08-14</td>\n",
       "      <td>0.025502</td>\n",
       "      <td>0.029042</td>\n",
       "    </tr>\n",
       "    <tr>\n",
       "      <th>14</th>\n",
       "      <td>2019-08-15</td>\n",
       "      <td>0.024881</td>\n",
       "      <td>0.030104</td>\n",
       "    </tr>\n",
       "    <tr>\n",
       "      <th>15</th>\n",
       "      <td>2019-08-16</td>\n",
       "      <td>0.025779</td>\n",
       "      <td>0.030660</td>\n",
       "    </tr>\n",
       "    <tr>\n",
       "      <th>16</th>\n",
       "      <td>2019-08-17</td>\n",
       "      <td>0.025337</td>\n",
       "      <td>0.030669</td>\n",
       "    </tr>\n",
       "    <tr>\n",
       "      <th>17</th>\n",
       "      <td>2019-08-18</td>\n",
       "      <td>0.024984</td>\n",
       "      <td>0.029272</td>\n",
       "    </tr>\n",
       "    <tr>\n",
       "      <th>18</th>\n",
       "      <td>2019-08-19</td>\n",
       "      <td>0.025712</td>\n",
       "      <td>0.029851</td>\n",
       "    </tr>\n",
       "    <tr>\n",
       "      <th>19</th>\n",
       "      <td>2019-08-20</td>\n",
       "      <td>0.025320</td>\n",
       "      <td>0.030119</td>\n",
       "    </tr>\n",
       "    <tr>\n",
       "      <th>20</th>\n",
       "      <td>2019-08-21</td>\n",
       "      <td>0.025603</td>\n",
       "      <td>0.029517</td>\n",
       "    </tr>\n",
       "    <tr>\n",
       "      <th>21</th>\n",
       "      <td>2019-08-22</td>\n",
       "      <td>0.025188</td>\n",
       "      <td>0.029651</td>\n",
       "    </tr>\n",
       "    <tr>\n",
       "      <th>22</th>\n",
       "      <td>2019-08-23</td>\n",
       "      <td>0.025777</td>\n",
       "      <td>0.029424</td>\n",
       "    </tr>\n",
       "    <tr>\n",
       "      <th>23</th>\n",
       "      <td>2019-08-24</td>\n",
       "      <td>0.025974</td>\n",
       "      <td>0.029623</td>\n",
       "    </tr>\n",
       "    <tr>\n",
       "      <th>24</th>\n",
       "      <td>2019-08-25</td>\n",
       "      <td>0.025430</td>\n",
       "      <td>0.029087</td>\n",
       "    </tr>\n",
       "    <tr>\n",
       "      <th>25</th>\n",
       "      <td>2019-08-26</td>\n",
       "      <td>0.025279</td>\n",
       "      <td>0.029235</td>\n",
       "    </tr>\n",
       "    <tr>\n",
       "      <th>26</th>\n",
       "      <td>2019-08-27</td>\n",
       "      <td>0.025586</td>\n",
       "      <td>0.028627</td>\n",
       "    </tr>\n",
       "    <tr>\n",
       "      <th>27</th>\n",
       "      <td>2019-08-28</td>\n",
       "      <td>0.025575</td>\n",
       "      <td>0.028818</td>\n",
       "    </tr>\n",
       "    <tr>\n",
       "      <th>28</th>\n",
       "      <td>2019-08-29</td>\n",
       "      <td>0.025702</td>\n",
       "      <td>0.028801</td>\n",
       "    </tr>\n",
       "    <tr>\n",
       "      <th>29</th>\n",
       "      <td>2019-08-30</td>\n",
       "      <td>0.025503</td>\n",
       "      <td>0.029179</td>\n",
       "    </tr>\n",
       "    <tr>\n",
       "      <th>30</th>\n",
       "      <td>2019-08-31</td>\n",
       "      <td>0.024979</td>\n",
       "      <td>0.028970</td>\n",
       "    </tr>\n",
       "  </tbody>\n",
       "</table>\n",
       "</div>"
      ],
      "text/plain": [
       "         date  conversionA  conversionB\n",
       "0  2019-08-01     0.031989     0.023843\n",
       "1  2019-08-02     0.031390     0.030912\n",
       "2  2019-08-03     0.035772     0.029950\n",
       "3  2019-08-04     0.030055     0.026428\n",
       "4  2019-08-05     0.029837     0.027134\n",
       "5  2019-08-06     0.028607     0.028463\n",
       "6  2019-08-07     0.028084     0.029070\n",
       "7  2019-08-08     0.027486     0.029634\n",
       "8  2019-08-09     0.026469     0.029790\n",
       "9  2019-08-10     0.027148     0.031544\n",
       "10 2019-08-11     0.025931     0.030009\n",
       "11 2019-08-12     0.026403     0.030367\n",
       "12 2019-08-13     0.025712     0.029964\n",
       "13 2019-08-14     0.025502     0.029042\n",
       "14 2019-08-15     0.024881     0.030104\n",
       "15 2019-08-16     0.025779     0.030660\n",
       "16 2019-08-17     0.025337     0.030669\n",
       "17 2019-08-18     0.024984     0.029272\n",
       "18 2019-08-19     0.025712     0.029851\n",
       "19 2019-08-20     0.025320     0.030119\n",
       "20 2019-08-21     0.025603     0.029517\n",
       "21 2019-08-22     0.025188     0.029651\n",
       "22 2019-08-23     0.025777     0.029424\n",
       "23 2019-08-24     0.025974     0.029623\n",
       "24 2019-08-25     0.025430     0.029087\n",
       "25 2019-08-26     0.025279     0.029235\n",
       "26 2019-08-27     0.025586     0.028627\n",
       "27 2019-08-28     0.025575     0.028818\n",
       "28 2019-08-29     0.025702     0.028801\n",
       "29 2019-08-30     0.025503     0.029179\n",
       "30 2019-08-31     0.024979     0.028970"
      ]
     },
     "execution_count": 35,
     "metadata": {},
     "output_type": "execute_result"
    }
   ],
   "source": [
    "mergedCumulativeConversions"
   ]
  },
  {
   "cell_type": "markdown",
   "metadata": {},
   "source": [
    "В начале теста группа **B** значительно проигрывала группе **A**, затем вырвалась вперёд. С середины теста, разница между группой **В** и группой **А** стабилизировалась."
   ]
  },
  {
   "cell_type": "markdown",
   "metadata": {},
   "source": [
    "### Построим точечный график количества заказов по пользователям."
   ]
  },
  {
   "cell_type": "markdown",
   "metadata": {},
   "source": [
    "Посмотрим количество заказов на каждого пользователя"
   ]
  },
  {
   "cell_type": "code",
   "execution_count": 36,
   "metadata": {},
   "outputs": [
    {
     "data": {
      "text/html": [
       "<div>\n",
       "<style scoped>\n",
       "    .dataframe tbody tr th:only-of-type {\n",
       "        vertical-align: middle;\n",
       "    }\n",
       "\n",
       "    .dataframe tbody tr th {\n",
       "        vertical-align: top;\n",
       "    }\n",
       "\n",
       "    .dataframe thead th {\n",
       "        text-align: right;\n",
       "    }\n",
       "</style>\n",
       "<table border=\"1\" class=\"dataframe\">\n",
       "  <thead>\n",
       "    <tr style=\"text-align: right;\">\n",
       "      <th></th>\n",
       "      <th>user_id</th>\n",
       "      <th>orders</th>\n",
       "    </tr>\n",
       "  </thead>\n",
       "  <tbody>\n",
       "    <tr>\n",
       "      <th>908</th>\n",
       "      <td>3967698036</td>\n",
       "      <td>3</td>\n",
       "    </tr>\n",
       "    <tr>\n",
       "      <th>55</th>\n",
       "      <td>249864742</td>\n",
       "      <td>3</td>\n",
       "    </tr>\n",
       "    <tr>\n",
       "      <th>478</th>\n",
       "      <td>2108163459</td>\n",
       "      <td>3</td>\n",
       "    </tr>\n",
       "    <tr>\n",
       "      <th>687</th>\n",
       "      <td>2988190573</td>\n",
       "      <td>3</td>\n",
       "    </tr>\n",
       "    <tr>\n",
       "      <th>890</th>\n",
       "      <td>3908431265</td>\n",
       "      <td>3</td>\n",
       "    </tr>\n",
       "    <tr>\n",
       "      <th>138</th>\n",
       "      <td>611059232</td>\n",
       "      <td>3</td>\n",
       "    </tr>\n",
       "    <tr>\n",
       "      <th>632</th>\n",
       "      <td>2742574263</td>\n",
       "      <td>3</td>\n",
       "    </tr>\n",
       "    <tr>\n",
       "      <th>157</th>\n",
       "      <td>678354126</td>\n",
       "      <td>2</td>\n",
       "    </tr>\n",
       "    <tr>\n",
       "      <th>323</th>\n",
       "      <td>1404560065</td>\n",
       "      <td>2</td>\n",
       "    </tr>\n",
       "    <tr>\n",
       "      <th>452</th>\n",
       "      <td>1985475298</td>\n",
       "      <td>2</td>\n",
       "    </tr>\n",
       "  </tbody>\n",
       "</table>\n",
       "</div>"
      ],
      "text/plain": [
       "        user_id  orders\n",
       "908  3967698036       3\n",
       "55    249864742       3\n",
       "478  2108163459       3\n",
       "687  2988190573       3\n",
       "890  3908431265       3\n",
       "138   611059232       3\n",
       "632  2742574263       3\n",
       "157   678354126       2\n",
       "323  1404560065       2\n",
       "452  1985475298       2"
      ]
     },
     "execution_count": 36,
     "metadata": {},
     "output_type": "execute_result"
    }
   ],
   "source": [
    "ordersByUsers = (\n",
    "    orders.groupby('visitor_id', as_index=False)\n",
    "    .agg({'transaction_id': 'nunique'})\n",
    ")\n",
    "\n",
    "ordersByUsers.columns = ['user_id', 'orders']\n",
    "ordersByUsers.sort_values(by='orders', ascending=False).head(10)"
   ]
  },
  {
   "cell_type": "markdown",
   "metadata": {},
   "source": [
    "Пользователи совершали не больше 3-х заказов"
   ]
  },
  {
   "cell_type": "markdown",
   "metadata": {},
   "source": [
    "Построим гистрограмму распределения количества заказов на одного пользователя"
   ]
  },
  {
   "cell_type": "code",
   "execution_count": 37,
   "metadata": {},
   "outputs": [
    {
     "data": {
      "text/plain": [
       "Text(0.5, 0, 'Количество заказов')"
      ]
     },
     "execution_count": 37,
     "metadata": {},
     "output_type": "execute_result"
    },
    {
     "data": {
      "image/png": "[encoded data removed]",
      "text/plain": [
       "<Figure size 1440x720 with 1 Axes>"
      ]
     },
     "metadata": {
      "needs_background": "light"
     },
     "output_type": "display_data"
    }
   ],
   "source": [
    "plt.figure(figsize=(20,10))\n",
    "plt.grid()\n",
    "plt.hist(ordersByUsers['orders'])\n",
    "plt.title('Гистрограмма распределения количества заказов на одного пользователя')\n",
    "plt.xlabel('Количество заказов')"
   ]
  },
  {
   "cell_type": "markdown",
   "metadata": {},
   "source": [
    "Большинство пользователей совершали 1 заказ. Пользователей с двумя или тремя заказами очень мало."
   ]
  },
  {
   "cell_type": "markdown",
   "metadata": {},
   "source": [
    "Построим точечный график количества заказов по пользователям"
   ]
  },
  {
   "cell_type": "code",
   "execution_count": 38,
   "metadata": {},
   "outputs": [
    {
     "data": {
      "text/plain": [
       "Text(0, 0.5, 'Количество заказов')"
      ]
     },
     "execution_count": 38,
     "metadata": {},
     "output_type": "execute_result"
    },
    {
     "data": {
      "image/png": "[encoded data removed]",
      "text/plain": [
       "<Figure size 1440x720 with 1 Axes>"
      ]
     },
     "metadata": {
      "needs_background": "light"
     },
     "output_type": "display_data"
    }
   ],
   "source": [
    "x_values = pd.Series(range(0, len(ordersByUsers)))\n",
    "plt.figure(figsize=(20,10))\n",
    "plt.grid()\n",
    "plt.scatter(x_values, ordersByUsers['orders'])\n",
    "plt.title('Точечный график количества заказов по пользователям')\n",
    "plt.ylabel('Количество заказов')"
   ]
  },
  {
   "cell_type": "markdown",
   "metadata": {},
   "source": [
    "Этот график подтверждает выводы из предыдущего."
   ]
  },
  {
   "cell_type": "markdown",
   "metadata": {},
   "source": [
    "### Посчитаем 95-й и 99-й перцентили количества заказов на пользователя. "
   ]
  },
  {
   "cell_type": "code",
   "execution_count": 39,
   "metadata": {},
   "outputs": [
    {
     "data": {
      "text/plain": [
       "array([1., 2.])"
      ]
     },
     "execution_count": 39,
     "metadata": {},
     "output_type": "execute_result"
    }
   ],
   "source": [
    "np.percentile(ordersByUsers['orders'], [95, 99])"
   ]
  },
  {
   "cell_type": "markdown",
   "metadata": {},
   "source": [
    "5% пользователей оформляли больше чем 1 заказ. И 1% пользователей заказывали более двух раз. Отбросим пользователей с двумя и тремя заказами."
   ]
  },
  {
   "cell_type": "markdown",
   "metadata": {},
   "source": [
    "### Построим точечный график стоимостей заказов. "
   ]
  },
  {
   "cell_type": "markdown",
   "metadata": {},
   "source": [
    "Построим гистрограмму стоимостей заказов"
   ]
  },
  {
   "cell_type": "code",
   "execution_count": 40,
   "metadata": {},
   "outputs": [
    {
     "data": {
      "text/plain": [
       "Text(0.5, 0, 'Стоимость заказов')"
      ]
     },
     "execution_count": 40,
     "metadata": {},
     "output_type": "execute_result"
    },
    {
     "data": {
      "image/png": "[encoded data removed]",
      "text/plain": [
       "<Figure size 1440x720 with 1 Axes>"
      ]
     },
     "metadata": {
      "needs_background": "light"
     },
     "output_type": "display_data"
    }
   ],
   "source": [
    "plt.figure(figsize=(20,10))\n",
    "plt.grid()\n",
    "plt.hist(orders['revenue'])\n",
    "plt.title('Гистрограмму стоимостей заказов')\n",
    "plt.xlabel('Стоимость заказов')"
   ]
  },
  {
   "cell_type": "markdown",
   "metadata": {},
   "source": [
    "Большинство пользователей совершали заказ в пределах 200000"
   ]
  },
  {
   "cell_type": "markdown",
   "metadata": {},
   "source": [
    "Построим точечный график количества заказов по пользователям"
   ]
  },
  {
   "cell_type": "code",
   "execution_count": 41,
   "metadata": {},
   "outputs": [
    {
     "data": {
      "text/plain": [
       "Text(0, 0.5, 'Стоимость заказов')"
      ]
     },
     "execution_count": 41,
     "metadata": {},
     "output_type": "execute_result"
    },
    {
     "data": {
      "image/png": "[encoded data removed]",
      "text/plain": [
       "<Figure size 1440x720 with 1 Axes>"
      ]
     },
     "metadata": {
      "needs_background": "light"
     },
     "output_type": "display_data"
    }
   ],
   "source": [
    "x_values = pd.Series(range(0,len(orders['revenue'])))\n",
    "plt.figure(figsize=(20,10))\n",
    "plt.grid()\n",
    "plt.scatter(x_values, orders['revenue'])\n",
    "plt.title('Точечный график стоимостей заказов')\n",
    "plt.ylabel('Стоимость заказов')"
   ]
  },
  {
   "cell_type": "markdown",
   "metadata": {},
   "source": [
    "Здесь видим один заказ на 200000 и один больше чем на 1.2 млн."
   ]
  },
  {
   "cell_type": "markdown",
   "metadata": {},
   "source": [
    "### Посчитем 95-й и 99-й перцентили стоимости заказов"
   ]
  },
  {
   "cell_type": "code",
   "execution_count": 42,
   "metadata": {},
   "outputs": [
    {
     "data": {
      "text/plain": [
       "array([26785., 53904.])"
      ]
     },
     "execution_count": 42,
     "metadata": {},
     "output_type": "execute_result"
    }
   ],
   "source": [
    "np.percentile(orders['revenue'], [95, 99])"
   ]
  },
  {
   "cell_type": "markdown",
   "metadata": {},
   "source": [
    "У 5% пользователей заказ дороже 26785. У 1% - дороже 53904. Отбросим заказы выше 26000. "
   ]
  },
  {
   "cell_type": "markdown",
   "metadata": {},
   "source": [
    "### Посчитаем статистическую значимость различий в среднем количестве заказов на посетителя между группами по «сырым» данным."
   ]
  },
  {
   "cell_type": "markdown",
   "metadata": {},
   "source": [
    "Сформулируем гипотезы: \n",
    "- Н0: различий в среднем количестве заказов между группами нет. \n",
    "- Н1: различия в среднем между группами есть.\n",
    "- alpha = 0.05"
   ]
  },
  {
   "cell_type": "code",
   "execution_count": 43,
   "metadata": {},
   "outputs": [
    {
     "name": "stdout",
     "output_type": "stream",
     "text": [
      "0.011\n",
      "0.160\n"
     ]
    }
   ],
   "source": [
    "visitorsADaily = visitors[visitors['group'] == 'A'][['date', 'visitors']]\n",
    "visitorsADaily.columns = ['date', 'visitorsPerDateA']\n",
    "\n",
    "visitorsACummulative = visitorsADaily.apply(\n",
    "    lambda x: visitorsADaily[visitorsADaily['date'] <= x['date']].agg(\n",
    "        {'date': 'max', 'visitorsPerDateA': 'sum'}\n",
    "    ),\n",
    "    axis=1,\n",
    ")\n",
    "visitorsACummulative.columns = ['date', 'visitorsCummulativeA']\n",
    "\n",
    "visitorsBDaily = visitors[visitors['group'] == 'B'][['date', 'visitors']]\n",
    "visitorsBDaily.columns = ['date', 'visitorsPerDateB']\n",
    "\n",
    "visitorsBCummulative = visitorsBDaily.apply(\n",
    "    lambda x: visitorsBDaily[visitorsBDaily['date'] <= x['date']].agg(\n",
    "        {'date': 'max', 'visitorsPerDateB': 'sum'}\n",
    "    ),\n",
    "    axis=1,\n",
    ")\n",
    "visitorsBCummulative.columns = ['date', 'visitorsCummulativeB']\n",
    "\n",
    "ordersADaily = (\n",
    "    orders[orders['group'] == 'A'][['date', 'transaction_id', 'visitor_id', 'revenue']]\n",
    "    .groupby('date', as_index=False)\n",
    "    .agg({'transaction_id': pd.Series.nunique, 'revenue': 'sum'})\n",
    ")\n",
    "ordersADaily.columns = ['date', 'ordersPerDateA', 'revenuePerDateA']\n",
    "\n",
    "ordersACummulative = ordersADaily.apply(\n",
    "    lambda x: ordersADaily[ordersADaily['date'] <= x['date']].agg(\n",
    "        {'date': 'max', 'ordersPerDateA': 'sum', 'revenuePerDateA': 'sum'}\n",
    "    ),\n",
    "    axis=1,\n",
    ").sort_values(by=['date'])\n",
    "ordersACummulative.columns = [\n",
    "    'date',\n",
    "    'ordersCummulativeA',\n",
    "    'revenueCummulativeA',\n",
    "]\n",
    "\n",
    "ordersBDaily = (\n",
    "    orders[orders['group'] == 'B'][['date', 'transaction_id', 'visitor_id', 'revenue']]\n",
    "    .groupby('date', as_index=False)\n",
    "    .agg({'transaction_id': pd.Series.nunique, 'revenue': 'sum'})\n",
    ")\n",
    "ordersBDaily.columns = ['date', 'ordersPerDateB', 'revenuePerDateB']\n",
    "\n",
    "ordersBCummulative = ordersBDaily.apply(\n",
    "    lambda x: ordersBDaily[ordersBDaily['date'] <= x['date']].agg(\n",
    "        {'date': 'max', 'ordersPerDateB': 'sum', 'revenuePerDateB': 'sum'}\n",
    "    ),\n",
    "    axis=1,\n",
    ").sort_values(by=['date'])\n",
    "ordersBCummulative.columns = [\n",
    "    'date',\n",
    "    'ordersCummulativeB',\n",
    "    'revenueCummulativeB',\n",
    "]\n",
    "\n",
    "data = (\n",
    "    ordersADaily.merge(\n",
    "        ordersBDaily, left_on='date', right_on='date', how='left'\n",
    "    )\n",
    "    .merge(ordersACummulative, left_on='date', right_on='date', how='left')\n",
    "    .merge(ordersBCummulative, left_on='date', right_on='date', how='left')\n",
    "    .merge(visitorsADaily, left_on='date', right_on='date', how='left')\n",
    "    .merge(visitorsBDaily, left_on='date', right_on='date', how='left')\n",
    "    .merge(visitorsACummulative, left_on='date', right_on='date', how='left')\n",
    "    .merge(visitorsBCummulative, left_on='date', right_on='date', how='left')\n",
    ")\n",
    "\n",
    "ordersByUsersA = (\n",
    "    orders[orders['group'] == 'A']\n",
    "    .groupby('visitor_id', as_index=False)\n",
    "    .agg({'transaction_id': pd.Series.nunique})\n",
    ")\n",
    "ordersByUsersA.columns = ['visitor_id', 'orders']\n",
    "\n",
    "ordersByUsersB = (\n",
    "    orders[orders['group'] == 'B']\n",
    "    .groupby('visitor_id', as_index=False)\n",
    "    .agg({'transaction_id': pd.Series.nunique})\n",
    ")\n",
    "ordersByUsersB.columns = ['visitor_id', 'orders']\n",
    "\n",
    "sampleA = pd.concat(\n",
    "    [\n",
    "        ordersByUsersA['orders'],\n",
    "        pd.Series(\n",
    "            0,\n",
    "            index=np.arange(\n",
    "                data['visitorsPerDateA'].sum() - len(ordersByUsersA['orders'])\n",
    "            ),\n",
    "            name='orders',\n",
    "        ),\n",
    "    ],\n",
    "    axis=0,\n",
    ")\n",
    "\n",
    "sampleB = pd.concat(\n",
    "    [\n",
    "        ordersByUsersB['orders'],\n",
    "        pd.Series(\n",
    "            0,\n",
    "            index=np.arange(\n",
    "                data['visitorsPerDateB'].sum() - len(ordersByUsersB['orders'])\n",
    "            ),\n",
    "            name='orders',\n",
    "        ),\n",
    "    ],\n",
    "    axis=0,\n",
    ")\n",
    "\n",
    "print(\"{0:.3f}\".format(stats.mannwhitneyu(sampleA, sampleB)[1]))\n",
    "\n",
    "print(\"{0:.3f}\".format(sampleB.mean() / sampleA.mean() - 1))"
   ]
  },
  {
   "cell_type": "markdown",
   "metadata": {},
   "source": [
    "- Первое число — p-value = 0.011 меньше 0.05. Отвергаем нулевую гипотезу, различия в среднем между группами есть.\n",
    "- Относительный прирост среднего группы **В** к конверсии группы **А** равен 15.9%"
   ]
  },
  {
   "cell_type": "markdown",
   "metadata": {},
   "source": [
    "### Посчитаем статистическую значимость различий в среднем чеке заказа между группами по «сырым» данным."
   ]
  },
  {
   "cell_type": "markdown",
   "metadata": {},
   "source": [
    "Сформулируем гипотезы: \n",
    "- Н0: различий в среднем чеке заказа между группами нет. \n",
    "- Н1: различия в чеке заказа между группами есть.\n",
    "- alpha = 0.05"
   ]
  },
  {
   "cell_type": "code",
   "execution_count": 44,
   "metadata": {},
   "outputs": [
    {
     "name": "stdout",
     "output_type": "stream",
     "text": [
      "0.829\n",
      "0.287\n"
     ]
    }
   ],
   "source": [
    "print('{0:.3f}'.format(stats.mannwhitneyu(orders[orders['group']=='A']['revenue'], orders[orders['group']=='B']['revenue'])[1]))\n",
    "print('{0:.3f}'.format(orders[orders['group']=='B']['revenue'].mean()/orders[orders['group']=='A']['revenue'].mean()-1)) "
   ]
  },
  {
   "cell_type": "markdown",
   "metadata": {},
   "source": [
    "- P-value значительно больше 0.05. Значит, причин отвергать нулевую гипотезу нет, различий в среднем чеке заказа между группами нет.\n",
    "- Относительное различие среднего чека между сегментами - 28.7%."
   ]
  },
  {
   "cell_type": "markdown",
   "metadata": {},
   "source": [
    "### Посчитаем статистическую значимость различий в среднем количестве заказов на посетителя между группами по «очищенным» данным."
   ]
  },
  {
   "cell_type": "markdown",
   "metadata": {},
   "source": [
    "Сформулируем гипотезы: \n",
    "- Н0: различий в среднем количестве заказов между группами нет. \n",
    "- Н1: различия в среднем между группами есть.\n",
    "- alpha = 0.05"
   ]
  },
  {
   "cell_type": "code",
   "execution_count": 45,
   "metadata": {},
   "outputs": [],
   "source": [
    "usersWithManyOrders = pd.concat(\n",
    "    [\n",
    "        ordersByUsersA[ordersByUsersA['orders'] > 1]['visitor_id'],\n",
    "        ordersByUsersB[ordersByUsersB['orders'] > 1]['visitor_id'],\n",
    "    ],\n",
    "    axis=0,\n",
    ")\n",
    "usersWithExpensiveOrders = orders[orders['revenue'] > 26000]['visitor_id']\n",
    "abnormalUsers = (\n",
    "    pd.concat([usersWithManyOrders, usersWithExpensiveOrders], axis=0)\n",
    "    .drop_duplicates()\n",
    "    .sort_values()\n",
    ")\n",
    "\n",
    "sampleAFiltered = pd.concat(\n",
    "    [\n",
    "        ordersByUsersA[\n",
    "            np.logical_not(ordersByUsersA['visitor_id'].isin(abnormalUsers))\n",
    "        ]['orders'],\n",
    "        pd.Series(\n",
    "            0,\n",
    "            index=np.arange(\n",
    "                data['visitorsPerDateA'].sum() - len(ordersByUsersA['orders'])\n",
    "            ),\n",
    "            name='orders',\n",
    "        ),\n",
    "    ],\n",
    "    axis=0,\n",
    ")\n",
    "\n",
    "sampleBFiltered = pd.concat(\n",
    "    [\n",
    "        ordersByUsersB[\n",
    "            np.logical_not(ordersByUsersB['visitor_id'].isin(abnormalUsers))\n",
    "        ]['orders'],\n",
    "        pd.Series(\n",
    "            0,\n",
    "            index=np.arange(\n",
    "                data['visitorsPerDateB'].sum() - len(ordersByUsersB['orders'])\n",
    "            ),\n",
    "            name='orders',\n",
    "        ),\n",
    "    ],\n",
    "    axis=0,\n",
    ") \n"
   ]
  },
  {
   "cell_type": "code",
   "execution_count": 46,
   "metadata": {},
   "outputs": [
    {
     "name": "stdout",
     "output_type": "stream",
     "text": [
      "0.017\n",
      "0.172\n"
     ]
    }
   ],
   "source": [
    "print('{0:.3f}'.format(stats.mannwhitneyu(sampleAFiltered, sampleBFiltered)[1]))\n",
    "print('{0:.3f}'.format(sampleBFiltered.mean()/sampleAFiltered.mean()-1))"
   ]
  },
  {
   "cell_type": "markdown",
   "metadata": {},
   "source": [
    "- P-value все также ниже 0.05. Отвергаем нулевую гипотезу, различия в среднем между группами есть.\n",
    "- Относительный прирост среднего группы **В** к конверсии группы **А** вырос еще больше, теперь он равен 17.1%"
   ]
  },
  {
   "cell_type": "markdown",
   "metadata": {},
   "source": [
    "### Посчитаем статистическую значимость различий в среднем чеке заказа между группами по «очищенным» данным."
   ]
  },
  {
   "cell_type": "markdown",
   "metadata": {},
   "source": [
    "Сформулируем гипотезы: \n",
    "- Н0: различий в среднем чеке заказа между группами нет. \n",
    "- Н1: различия в чеке заказа между группами есть.\n",
    "- alpha = 0.05"
   ]
  },
  {
   "cell_type": "code",
   "execution_count": 47,
   "metadata": {},
   "outputs": [
    {
     "name": "stdout",
     "output_type": "stream",
     "text": [
      "0.693\n",
      "-0.042\n"
     ]
    }
   ],
   "source": [
    "print(\n",
    "    '{0:.3f}'.format(\n",
    "        stats.mannwhitneyu(\n",
    "            orders[\n",
    "                np.logical_and(\n",
    "                    orders['group'] == 'A',\n",
    "                    np.logical_not(orders['visitor_id'].isin(abnormalUsers)),\n",
    "                )\n",
    "            ]['revenue'],\n",
    "            orders[\n",
    "                np.logical_and(\n",
    "                    orders['group'] == 'B',\n",
    "                    np.logical_not(orders['visitor_id'].isin(abnormalUsers)),\n",
    "                )\n",
    "            ]['revenue'],\n",
    "        )[1]\n",
    "    )\n",
    ")\n",
    "\n",
    "print(\n",
    "    \"{0:.3f}\".format(\n",
    "        orders[\n",
    "            np.logical_and(\n",
    "                orders['group'] == 'B',\n",
    "                np.logical_not(orders['visitor_id'].isin(abnormalUsers)),\n",
    "            )\n",
    "        ]['revenue'].mean()\n",
    "        / orders[\n",
    "            np.logical_and(\n",
    "                orders['group'] == 'A',\n",
    "                np.logical_not(orders['visitor_id'].isin(abnormalUsers)),\n",
    "            )\n",
    "        ]['revenue'].mean()\n",
    "        - 1\n",
    "    )\n",
    ") "
   ]
  },
  {
   "cell_type": "markdown",
   "metadata": {},
   "source": [
    "- P-value все также значительно больше 0.05. Значит, причин отвергать нулевую гипотезу нет, различий в среднем чеке заказа между группами нет.\n",
    "- Относительное различие среднего чека между сегментами сократилось до 4%"
   ]
  },
  {
   "cell_type": "markdown",
   "metadata": {},
   "source": [
    "## Вывод"
   ]
  },
  {
   "cell_type": "markdown",
   "metadata": {},
   "source": [
    "- Есть различия по среднему количеству заказов между группами и по «сырым», и по данным после фильтрации аномалий.\n",
    "- Есть различия по среднему чеку между группами по «сырым», но по данным после фильтрации аномалий, разницы практически нет.\n",
    "\n",
    "Исходя из обнаруженных фактов, тест следует остановить и признать его успешным. Группа **В** по среднему количеству заказов оказалась лучше группы **А** на 15.9% по «сырым» данным и на 17.1% без аномалий."
   ]
  },
  {
   "cell_type": "code",
   "execution_count": null,
   "metadata": {},
   "outputs": [],
   "source": []
  }
 ],
 "metadata": {
  "ExecuteTimeLog": [
   {
    "duration": 919,
    "start_time": "2023-03-17T07:30:10.745Z"
   },
   {
    "duration": 4,
    "start_time": "2023-03-17T07:31:56.478Z"
   },
   {
    "duration": 89,
    "start_time": "2023-03-17T07:32:43.943Z"
   },
   {
    "duration": 16,
    "start_time": "2023-03-17T07:32:53.705Z"
   },
   {
    "duration": 17,
    "start_time": "2023-03-17T07:34:18.622Z"
   },
   {
    "duration": 12,
    "start_time": "2023-03-17T07:34:59.365Z"
   },
   {
    "duration": 9,
    "start_time": "2023-03-17T07:35:07.278Z"
   },
   {
    "duration": 29,
    "start_time": "2023-03-17T07:40:04.836Z"
   },
   {
    "duration": 11,
    "start_time": "2023-03-17T07:40:06.374Z"
   },
   {
    "duration": 10,
    "start_time": "2023-03-17T07:40:44.206Z"
   },
   {
    "duration": 18,
    "start_time": "2023-03-17T07:41:48.990Z"
   },
   {
    "duration": 105,
    "start_time": "2023-03-17T07:44:59.022Z"
   },
   {
    "duration": 107,
    "start_time": "2023-03-17T07:45:23.885Z"
   },
   {
    "duration": 17,
    "start_time": "2023-03-17T07:45:31.046Z"
   },
   {
    "duration": 18,
    "start_time": "2023-03-17T07:45:48.702Z"
   },
   {
    "duration": 18,
    "start_time": "2023-03-17T07:48:05.084Z"
   },
   {
    "duration": 8,
    "start_time": "2023-03-17T07:48:18.015Z"
   },
   {
    "duration": 7,
    "start_time": "2023-03-17T07:48:28.021Z"
   },
   {
    "duration": 17,
    "start_time": "2023-03-17T07:49:05.525Z"
   },
   {
    "duration": 15,
    "start_time": "2023-03-17T07:49:50.338Z"
   },
   {
    "duration": 10,
    "start_time": "2023-03-17T07:52:16.835Z"
   },
   {
    "duration": 6,
    "start_time": "2023-03-17T07:56:42.477Z"
   },
   {
    "duration": 5,
    "start_time": "2023-03-17T07:56:51.564Z"
   },
   {
    "duration": 81,
    "start_time": "2023-03-17T07:56:56.477Z"
   },
   {
    "duration": 6,
    "start_time": "2023-03-17T07:57:29.061Z"
   },
   {
    "duration": 5,
    "start_time": "2023-03-17T07:57:48.765Z"
   },
   {
    "duration": 11,
    "start_time": "2023-03-17T08:11:58.914Z"
   },
   {
    "duration": 149,
    "start_time": "2023-03-17T08:33:58.022Z"
   },
   {
    "duration": 15,
    "start_time": "2023-03-17T08:36:07.587Z"
   },
   {
    "duration": 9,
    "start_time": "2023-03-17T08:38:14.672Z"
   },
   {
    "duration": 9,
    "start_time": "2023-03-17T08:40:24.431Z"
   },
   {
    "duration": 14,
    "start_time": "2023-03-17T08:40:31.515Z"
   },
   {
    "duration": 6,
    "start_time": "2023-03-17T08:40:43.017Z"
   },
   {
    "duration": 31,
    "start_time": "2023-03-17T08:40:43.031Z"
   },
   {
    "duration": 13,
    "start_time": "2023-03-17T08:40:43.065Z"
   },
   {
    "duration": 32,
    "start_time": "2023-03-17T08:40:43.080Z"
   },
   {
    "duration": 12,
    "start_time": "2023-03-17T08:40:43.120Z"
   },
   {
    "duration": 15,
    "start_time": "2023-03-17T08:40:43.134Z"
   },
   {
    "duration": 65,
    "start_time": "2023-03-17T08:40:43.151Z"
   },
   {
    "duration": 18,
    "start_time": "2023-03-17T08:40:43.218Z"
   },
   {
    "duration": 14,
    "start_time": "2023-03-17T08:40:43.238Z"
   },
   {
    "duration": 20,
    "start_time": "2023-03-17T08:40:43.255Z"
   },
   {
    "duration": 12,
    "start_time": "2023-03-17T08:40:43.278Z"
   },
   {
    "duration": 14,
    "start_time": "2023-03-17T08:40:43.293Z"
   },
   {
    "duration": 23,
    "start_time": "2023-03-17T08:40:43.312Z"
   },
   {
    "duration": 16,
    "start_time": "2023-03-17T08:40:43.338Z"
   },
   {
    "duration": 25,
    "start_time": "2023-03-17T08:40:43.356Z"
   },
   {
    "duration": 35,
    "start_time": "2023-03-17T08:40:43.383Z"
   },
   {
    "duration": 19,
    "start_time": "2023-03-17T08:41:00.535Z"
   },
   {
    "duration": 14,
    "start_time": "2023-03-17T08:41:53.815Z"
   },
   {
    "duration": 31,
    "start_time": "2023-03-17T08:42:13.879Z"
   },
   {
    "duration": 17,
    "start_time": "2023-03-17T08:44:57.445Z"
   },
   {
    "duration": 16,
    "start_time": "2023-03-17T08:45:01.344Z"
   },
   {
    "duration": 18,
    "start_time": "2023-03-17T08:46:02.417Z"
   },
   {
    "duration": 24,
    "start_time": "2023-03-17T08:46:12.510Z"
   },
   {
    "duration": 14,
    "start_time": "2023-03-17T08:46:31.183Z"
   },
   {
    "duration": 9,
    "start_time": "2023-03-17T08:49:39.958Z"
   },
   {
    "duration": 14,
    "start_time": "2023-03-17T08:49:50.230Z"
   },
   {
    "duration": 16,
    "start_time": "2023-03-17T08:49:52.619Z"
   },
   {
    "duration": 7,
    "start_time": "2023-03-17T08:51:06.279Z"
   },
   {
    "duration": 7,
    "start_time": "2023-03-17T08:51:19.618Z"
   },
   {
    "duration": 11,
    "start_time": "2023-03-17T08:51:23.862Z"
   },
   {
    "duration": 73,
    "start_time": "2023-03-17T08:52:02.351Z"
   },
   {
    "duration": 6,
    "start_time": "2023-03-17T08:53:04.314Z"
   },
   {
    "duration": 13,
    "start_time": "2023-03-17T08:53:06.638Z"
   },
   {
    "duration": 10,
    "start_time": "2023-03-17T08:54:40.333Z"
   },
   {
    "duration": 11,
    "start_time": "2023-03-17T08:54:42.629Z"
   },
   {
    "duration": 1026,
    "start_time": "2023-03-17T08:55:49.357Z"
   },
   {
    "duration": 12,
    "start_time": "2023-03-17T08:56:11.541Z"
   },
   {
    "duration": 6,
    "start_time": "2023-03-17T08:57:47.276Z"
   },
   {
    "duration": 11,
    "start_time": "2023-03-17T08:57:54.302Z"
   },
   {
    "duration": 7,
    "start_time": "2023-03-17T09:01:13.333Z"
   },
   {
    "duration": 9,
    "start_time": "2023-03-17T09:01:30.852Z"
   },
   {
    "duration": 11,
    "start_time": "2023-03-17T09:01:44.260Z"
   },
   {
    "duration": 1308,
    "start_time": "2023-03-17T09:02:00.974Z"
   },
   {
    "duration": 19,
    "start_time": "2023-03-17T09:04:49.317Z"
   },
   {
    "duration": 16,
    "start_time": "2023-03-17T09:05:57.455Z"
   },
   {
    "duration": 14,
    "start_time": "2023-03-17T09:06:11.521Z"
   },
   {
    "duration": 16,
    "start_time": "2023-03-17T09:06:46.017Z"
   },
   {
    "duration": 14,
    "start_time": "2023-03-17T09:07:11.605Z"
   },
   {
    "duration": 16,
    "start_time": "2023-03-17T09:07:32.810Z"
   },
   {
    "duration": 7,
    "start_time": "2023-03-17T09:07:43.216Z"
   },
   {
    "duration": 35,
    "start_time": "2023-03-17T09:07:43.225Z"
   },
   {
    "duration": 9,
    "start_time": "2023-03-17T09:07:43.262Z"
   },
   {
    "duration": 18,
    "start_time": "2023-03-17T09:07:43.273Z"
   },
   {
    "duration": 11,
    "start_time": "2023-03-17T09:07:43.298Z"
   },
   {
    "duration": 12,
    "start_time": "2023-03-17T09:07:43.312Z"
   },
   {
    "duration": 40,
    "start_time": "2023-03-17T09:07:43.327Z"
   },
   {
    "duration": 15,
    "start_time": "2023-03-17T09:07:43.369Z"
   },
   {
    "duration": 20,
    "start_time": "2023-03-17T09:07:43.387Z"
   },
   {
    "duration": 16,
    "start_time": "2023-03-17T09:07:43.409Z"
   },
   {
    "duration": 21,
    "start_time": "2023-03-17T09:07:43.426Z"
   },
   {
    "duration": 12,
    "start_time": "2023-03-17T09:07:43.449Z"
   },
   {
    "duration": 30,
    "start_time": "2023-03-17T09:07:43.463Z"
   },
   {
    "duration": 12,
    "start_time": "2023-03-17T09:07:43.495Z"
   },
   {
    "duration": 27,
    "start_time": "2023-03-17T09:07:43.509Z"
   },
   {
    "duration": 18,
    "start_time": "2023-03-17T09:07:43.538Z"
   },
   {
    "duration": 12,
    "start_time": "2023-03-17T09:07:43.558Z"
   },
   {
    "duration": 6,
    "start_time": "2023-03-17T09:07:43.572Z"
   },
   {
    "duration": 119,
    "start_time": "2023-03-17T09:08:05.191Z"
   },
   {
    "duration": 14,
    "start_time": "2023-03-17T09:08:13.435Z"
   },
   {
    "duration": 18,
    "start_time": "2023-03-17T09:10:09.934Z"
   },
   {
    "duration": 12,
    "start_time": "2023-03-17T09:10:23.443Z"
   },
   {
    "duration": 10,
    "start_time": "2023-03-17T09:10:51.636Z"
   },
   {
    "duration": 45,
    "start_time": "2023-03-17T09:11:54.830Z"
   },
   {
    "duration": 9,
    "start_time": "2023-03-17T09:12:01.675Z"
   },
   {
    "duration": 13,
    "start_time": "2023-03-17T09:12:20.931Z"
   },
   {
    "duration": 7,
    "start_time": "2023-03-17T09:12:59.244Z"
   },
   {
    "duration": 35,
    "start_time": "2023-03-17T09:13:05.007Z"
   },
   {
    "duration": 12,
    "start_time": "2023-03-17T09:13:21.131Z"
   },
   {
    "duration": 4,
    "start_time": "2023-03-17T09:13:26.341Z"
   },
   {
    "duration": 87,
    "start_time": "2023-03-17T09:13:26.349Z"
   },
   {
    "duration": 11,
    "start_time": "2023-03-17T09:13:26.438Z"
   },
   {
    "duration": 39,
    "start_time": "2023-03-17T09:13:26.451Z"
   },
   {
    "duration": 69,
    "start_time": "2023-03-17T09:13:26.500Z"
   },
   {
    "duration": 68,
    "start_time": "2023-03-17T09:13:26.571Z"
   },
   {
    "duration": 125,
    "start_time": "2023-03-17T09:13:26.641Z"
   },
   {
    "duration": 19,
    "start_time": "2023-03-17T09:13:26.768Z"
   },
   {
    "duration": 21,
    "start_time": "2023-03-17T09:13:26.797Z"
   },
   {
    "duration": 22,
    "start_time": "2023-03-17T09:13:26.826Z"
   },
   {
    "duration": 13,
    "start_time": "2023-03-17T09:13:26.855Z"
   },
   {
    "duration": 21,
    "start_time": "2023-03-17T09:13:26.871Z"
   },
   {
    "duration": 32,
    "start_time": "2023-03-17T09:13:26.900Z"
   },
   {
    "duration": 16,
    "start_time": "2023-03-17T09:13:26.935Z"
   },
   {
    "duration": 15,
    "start_time": "2023-03-17T09:13:26.954Z"
   },
   {
    "duration": 23,
    "start_time": "2023-03-17T09:13:26.972Z"
   },
   {
    "duration": 27,
    "start_time": "2023-03-17T09:13:26.997Z"
   },
   {
    "duration": 14,
    "start_time": "2023-03-17T09:13:27.026Z"
   },
   {
    "duration": 8,
    "start_time": "2023-03-17T09:13:27.043Z"
   },
   {
    "duration": 5,
    "start_time": "2023-03-17T09:14:48.460Z"
   },
   {
    "duration": 80,
    "start_time": "2023-03-17T09:14:48.468Z"
   },
   {
    "duration": 12,
    "start_time": "2023-03-17T09:14:48.551Z"
   },
   {
    "duration": 15,
    "start_time": "2023-03-17T09:14:48.566Z"
   },
   {
    "duration": 18,
    "start_time": "2023-03-17T09:14:48.583Z"
   },
   {
    "duration": 22,
    "start_time": "2023-03-17T09:14:48.606Z"
   },
   {
    "duration": 85,
    "start_time": "2023-03-17T09:14:48.644Z"
   },
   {
    "duration": 31,
    "start_time": "2023-03-17T09:14:48.731Z"
   },
   {
    "duration": 11,
    "start_time": "2023-03-17T09:14:48.765Z"
   },
   {
    "duration": 39,
    "start_time": "2023-03-17T09:14:48.779Z"
   },
   {
    "duration": 15,
    "start_time": "2023-03-17T09:14:48.820Z"
   },
   {
    "duration": 25,
    "start_time": "2023-03-17T09:14:48.837Z"
   },
   {
    "duration": 15,
    "start_time": "2023-03-17T09:14:48.864Z"
   },
   {
    "duration": 15,
    "start_time": "2023-03-17T09:14:48.882Z"
   },
   {
    "duration": 11,
    "start_time": "2023-03-17T09:14:48.903Z"
   },
   {
    "duration": 22,
    "start_time": "2023-03-17T09:14:48.920Z"
   },
   {
    "duration": 24,
    "start_time": "2023-03-17T09:14:48.946Z"
   },
   {
    "duration": 16,
    "start_time": "2023-03-17T09:14:48.972Z"
   },
   {
    "duration": 26,
    "start_time": "2023-03-17T09:14:49.000Z"
   },
   {
    "duration": 25,
    "start_time": "2023-03-17T09:15:18.626Z"
   },
   {
    "duration": 16,
    "start_time": "2023-03-17T09:15:40.918Z"
   },
   {
    "duration": 4,
    "start_time": "2023-03-17T09:16:44.444Z"
   },
   {
    "duration": 35,
    "start_time": "2023-03-17T09:16:44.451Z"
   },
   {
    "duration": 10,
    "start_time": "2023-03-17T09:16:44.488Z"
   },
   {
    "duration": 14,
    "start_time": "2023-03-17T09:16:44.501Z"
   },
   {
    "duration": 21,
    "start_time": "2023-03-17T09:16:44.519Z"
   },
   {
    "duration": 12,
    "start_time": "2023-03-17T09:16:44.543Z"
   },
   {
    "duration": 65,
    "start_time": "2023-03-17T09:16:44.557Z"
   },
   {
    "duration": 25,
    "start_time": "2023-03-17T09:16:44.625Z"
   },
   {
    "duration": 10,
    "start_time": "2023-03-17T09:16:44.653Z"
   },
   {
    "duration": 30,
    "start_time": "2023-03-17T09:16:44.665Z"
   },
   {
    "duration": 15,
    "start_time": "2023-03-17T09:16:44.700Z"
   },
   {
    "duration": 15,
    "start_time": "2023-03-17T09:16:44.721Z"
   },
   {
    "duration": 18,
    "start_time": "2023-03-17T09:16:44.742Z"
   },
   {
    "duration": 13,
    "start_time": "2023-03-17T09:16:44.764Z"
   },
   {
    "duration": 13,
    "start_time": "2023-03-17T09:16:44.779Z"
   },
   {
    "duration": 19,
    "start_time": "2023-03-17T09:16:44.795Z"
   },
   {
    "duration": 20,
    "start_time": "2023-03-17T09:16:44.816Z"
   },
   {
    "duration": 22,
    "start_time": "2023-03-17T09:16:44.838Z"
   },
   {
    "duration": 8,
    "start_time": "2023-03-17T09:16:44.862Z"
   },
   {
    "duration": 53,
    "start_time": "2023-03-17T09:16:44.871Z"
   },
   {
    "duration": 17,
    "start_time": "2023-03-17T09:16:44.933Z"
   },
   {
    "duration": 20,
    "start_time": "2023-03-17T09:17:30.607Z"
   },
   {
    "duration": 17,
    "start_time": "2023-03-17T09:18:04.556Z"
   },
   {
    "duration": 5,
    "start_time": "2023-03-17T09:19:27.310Z"
   },
   {
    "duration": 38,
    "start_time": "2023-03-17T09:19:27.317Z"
   },
   {
    "duration": 9,
    "start_time": "2023-03-17T09:19:27.356Z"
   },
   {
    "duration": 15,
    "start_time": "2023-03-17T09:19:27.366Z"
   },
   {
    "duration": 26,
    "start_time": "2023-03-17T09:19:27.383Z"
   },
   {
    "duration": 24,
    "start_time": "2023-03-17T09:19:27.411Z"
   },
   {
    "duration": 41,
    "start_time": "2023-03-17T09:19:27.437Z"
   },
   {
    "duration": 40,
    "start_time": "2023-03-17T09:19:27.480Z"
   },
   {
    "duration": 13,
    "start_time": "2023-03-17T09:19:27.525Z"
   },
   {
    "duration": 31,
    "start_time": "2023-03-17T09:19:27.541Z"
   },
   {
    "duration": 30,
    "start_time": "2023-03-17T09:19:27.574Z"
   },
   {
    "duration": 14,
    "start_time": "2023-03-17T09:19:27.605Z"
   },
   {
    "duration": 39,
    "start_time": "2023-03-17T09:19:27.623Z"
   },
   {
    "duration": 37,
    "start_time": "2023-03-17T09:19:27.664Z"
   },
   {
    "duration": 30,
    "start_time": "2023-03-17T09:19:27.703Z"
   },
   {
    "duration": 26,
    "start_time": "2023-03-17T09:19:27.736Z"
   },
   {
    "duration": 24,
    "start_time": "2023-03-17T09:19:27.765Z"
   },
   {
    "duration": 26,
    "start_time": "2023-03-17T09:19:27.791Z"
   },
   {
    "duration": 13,
    "start_time": "2023-03-17T09:19:27.819Z"
   },
   {
    "duration": 20,
    "start_time": "2023-03-17T09:19:27.834Z"
   },
   {
    "duration": 14,
    "start_time": "2023-03-17T09:19:27.859Z"
   },
   {
    "duration": 27,
    "start_time": "2023-03-17T09:19:27.875Z"
   },
   {
    "duration": 27,
    "start_time": "2023-03-17T09:19:45.282Z"
   },
   {
    "duration": 14,
    "start_time": "2023-03-17T09:20:09.460Z"
   },
   {
    "duration": 43,
    "start_time": "2023-03-17T09:21:41.834Z"
   },
   {
    "duration": 14,
    "start_time": "2023-03-17T09:21:58.187Z"
   },
   {
    "duration": 13,
    "start_time": "2023-03-17T09:22:13.207Z"
   },
   {
    "duration": 7,
    "start_time": "2023-03-17T09:22:15.867Z"
   },
   {
    "duration": 72,
    "start_time": "2023-03-17T09:22:15.876Z"
   },
   {
    "duration": 10,
    "start_time": "2023-03-17T09:22:15.950Z"
   },
   {
    "duration": 13,
    "start_time": "2023-03-17T09:22:15.963Z"
   },
   {
    "duration": 23,
    "start_time": "2023-03-17T09:22:15.978Z"
   },
   {
    "duration": 29,
    "start_time": "2023-03-17T09:22:16.003Z"
   },
   {
    "duration": 46,
    "start_time": "2023-03-17T09:22:16.037Z"
   },
   {
    "duration": 37,
    "start_time": "2023-03-17T09:22:16.085Z"
   },
   {
    "duration": 15,
    "start_time": "2023-03-17T09:22:16.125Z"
   },
   {
    "duration": 15,
    "start_time": "2023-03-17T09:22:16.144Z"
   },
   {
    "duration": 24,
    "start_time": "2023-03-17T09:22:16.160Z"
   },
   {
    "duration": 20,
    "start_time": "2023-03-17T09:22:16.186Z"
   },
   {
    "duration": 15,
    "start_time": "2023-03-17T09:22:16.209Z"
   },
   {
    "duration": 13,
    "start_time": "2023-03-17T09:22:16.226Z"
   },
   {
    "duration": 12,
    "start_time": "2023-03-17T09:22:16.240Z"
   },
   {
    "duration": 10,
    "start_time": "2023-03-17T09:22:16.254Z"
   },
   {
    "duration": 35,
    "start_time": "2023-03-17T09:22:16.266Z"
   },
   {
    "duration": 16,
    "start_time": "2023-03-17T09:22:16.304Z"
   },
   {
    "duration": 12,
    "start_time": "2023-03-17T09:22:16.323Z"
   },
   {
    "duration": 23,
    "start_time": "2023-03-17T09:22:16.337Z"
   },
   {
    "duration": 20,
    "start_time": "2023-03-17T09:22:16.362Z"
   },
   {
    "duration": 46,
    "start_time": "2023-03-17T09:22:16.384Z"
   },
   {
    "duration": 6,
    "start_time": "2023-03-17T09:22:16.432Z"
   },
   {
    "duration": 23,
    "start_time": "2023-03-17T09:22:16.440Z"
   },
   {
    "duration": 821,
    "start_time": "2023-03-21T05:54:39.926Z"
   },
   {
    "duration": 82,
    "start_time": "2023-03-21T05:54:40.749Z"
   },
   {
    "duration": 14,
    "start_time": "2023-03-21T05:54:40.833Z"
   },
   {
    "duration": 113,
    "start_time": "2023-03-21T05:54:40.849Z"
   },
   {
    "duration": 0,
    "start_time": "2023-03-21T05:54:40.965Z"
   },
   {
    "duration": 0,
    "start_time": "2023-03-21T05:54:40.967Z"
   },
   {
    "duration": 0,
    "start_time": "2023-03-21T05:54:40.968Z"
   },
   {
    "duration": 0,
    "start_time": "2023-03-21T05:54:40.969Z"
   },
   {
    "duration": 0,
    "start_time": "2023-03-21T05:54:40.971Z"
   },
   {
    "duration": 0,
    "start_time": "2023-03-21T05:54:40.972Z"
   },
   {
    "duration": 0,
    "start_time": "2023-03-21T05:54:40.974Z"
   },
   {
    "duration": 0,
    "start_time": "2023-03-21T05:54:40.975Z"
   },
   {
    "duration": 0,
    "start_time": "2023-03-21T05:54:40.977Z"
   },
   {
    "duration": 0,
    "start_time": "2023-03-21T05:54:40.979Z"
   },
   {
    "duration": 0,
    "start_time": "2023-03-21T05:54:40.980Z"
   },
   {
    "duration": 0,
    "start_time": "2023-03-21T05:54:40.982Z"
   },
   {
    "duration": 0,
    "start_time": "2023-03-21T05:54:40.983Z"
   },
   {
    "duration": 0,
    "start_time": "2023-03-21T05:54:40.984Z"
   },
   {
    "duration": 0,
    "start_time": "2023-03-21T05:54:40.986Z"
   },
   {
    "duration": 0,
    "start_time": "2023-03-21T05:54:40.987Z"
   },
   {
    "duration": 0,
    "start_time": "2023-03-21T05:54:40.988Z"
   },
   {
    "duration": 0,
    "start_time": "2023-03-21T05:54:40.990Z"
   },
   {
    "duration": 0,
    "start_time": "2023-03-21T05:54:40.991Z"
   },
   {
    "duration": 0,
    "start_time": "2023-03-21T05:54:41.041Z"
   },
   {
    "duration": 0,
    "start_time": "2023-03-21T05:54:41.042Z"
   },
   {
    "duration": 12,
    "start_time": "2023-03-21T05:54:57.832Z"
   },
   {
    "duration": 3,
    "start_time": "2023-03-21T05:55:05.627Z"
   },
   {
    "duration": 43,
    "start_time": "2023-03-21T05:55:05.633Z"
   },
   {
    "duration": 14,
    "start_time": "2023-03-21T05:55:05.678Z"
   },
   {
    "duration": 16,
    "start_time": "2023-03-21T05:55:05.694Z"
   },
   {
    "duration": 14,
    "start_time": "2023-03-21T05:55:05.712Z"
   },
   {
    "duration": 692,
    "start_time": "2023-03-21T05:55:05.728Z"
   },
   {
    "duration": 0,
    "start_time": "2023-03-21T05:55:06.422Z"
   },
   {
    "duration": 0,
    "start_time": "2023-03-21T05:55:06.424Z"
   },
   {
    "duration": 0,
    "start_time": "2023-03-21T05:55:06.425Z"
   },
   {
    "duration": 0,
    "start_time": "2023-03-21T05:55:06.427Z"
   },
   {
    "duration": 0,
    "start_time": "2023-03-21T05:55:06.428Z"
   },
   {
    "duration": 0,
    "start_time": "2023-03-21T05:55:06.430Z"
   },
   {
    "duration": 0,
    "start_time": "2023-03-21T05:55:06.431Z"
   },
   {
    "duration": 0,
    "start_time": "2023-03-21T05:55:06.432Z"
   },
   {
    "duration": 0,
    "start_time": "2023-03-21T05:55:06.433Z"
   },
   {
    "duration": 0,
    "start_time": "2023-03-21T05:55:06.434Z"
   },
   {
    "duration": 0,
    "start_time": "2023-03-21T05:55:06.435Z"
   },
   {
    "duration": 0,
    "start_time": "2023-03-21T05:55:06.436Z"
   },
   {
    "duration": 0,
    "start_time": "2023-03-21T05:55:06.437Z"
   },
   {
    "duration": 0,
    "start_time": "2023-03-21T05:55:06.438Z"
   },
   {
    "duration": 0,
    "start_time": "2023-03-21T05:55:06.439Z"
   },
   {
    "duration": 0,
    "start_time": "2023-03-21T05:55:06.440Z"
   },
   {
    "duration": 0,
    "start_time": "2023-03-21T05:55:06.441Z"
   },
   {
    "duration": 0,
    "start_time": "2023-03-21T05:55:06.442Z"
   },
   {
    "duration": 0,
    "start_time": "2023-03-21T05:55:06.443Z"
   },
   {
    "duration": 7,
    "start_time": "2023-03-21T05:55:44.866Z"
   },
   {
    "duration": 3,
    "start_time": "2023-03-21T05:56:12.973Z"
   },
   {
    "duration": 8,
    "start_time": "2023-03-21T05:56:15.625Z"
   },
   {
    "duration": 4,
    "start_time": "2023-03-21T05:56:21.618Z"
   },
   {
    "duration": 44,
    "start_time": "2023-03-21T05:56:21.625Z"
   },
   {
    "duration": 10,
    "start_time": "2023-03-21T05:56:21.672Z"
   },
   {
    "duration": 14,
    "start_time": "2023-03-21T05:56:21.684Z"
   },
   {
    "duration": 3,
    "start_time": "2023-03-21T05:56:21.700Z"
   },
   {
    "duration": 13,
    "start_time": "2023-03-21T05:56:21.705Z"
   },
   {
    "duration": 10,
    "start_time": "2023-03-21T05:56:21.719Z"
   },
   {
    "duration": 107,
    "start_time": "2023-03-21T05:56:21.731Z"
   },
   {
    "duration": 82,
    "start_time": "2023-03-21T05:56:21.840Z"
   },
   {
    "duration": 10,
    "start_time": "2023-03-21T05:56:21.925Z"
   },
   {
    "duration": 36,
    "start_time": "2023-03-21T05:56:21.937Z"
   },
   {
    "duration": 8,
    "start_time": "2023-03-21T05:56:21.975Z"
   },
   {
    "duration": 10,
    "start_time": "2023-03-21T05:56:21.985Z"
   },
   {
    "duration": 15,
    "start_time": "2023-03-21T05:56:21.998Z"
   },
   {
    "duration": 11,
    "start_time": "2023-03-21T05:56:22.015Z"
   },
   {
    "duration": 32,
    "start_time": "2023-03-21T05:56:22.027Z"
   },
   {
    "duration": 13,
    "start_time": "2023-03-21T05:56:22.062Z"
   },
   {
    "duration": 9,
    "start_time": "2023-03-21T05:56:22.077Z"
   },
   {
    "duration": 11,
    "start_time": "2023-03-21T05:56:22.088Z"
   },
   {
    "duration": 8,
    "start_time": "2023-03-21T05:56:22.101Z"
   },
   {
    "duration": 9,
    "start_time": "2023-03-21T05:56:22.110Z"
   },
   {
    "duration": 51,
    "start_time": "2023-03-21T05:56:22.120Z"
   },
   {
    "duration": 10,
    "start_time": "2023-03-21T05:56:22.177Z"
   },
   {
    "duration": 7,
    "start_time": "2023-03-21T05:56:22.189Z"
   },
   {
    "duration": 12,
    "start_time": "2023-03-21T05:56:22.199Z"
   },
   {
    "duration": 3,
    "start_time": "2023-03-21T05:59:14.409Z"
   },
   {
    "duration": 35,
    "start_time": "2023-03-21T05:59:14.414Z"
   },
   {
    "duration": 15,
    "start_time": "2023-03-21T05:59:14.451Z"
   },
   {
    "duration": 11,
    "start_time": "2023-03-21T05:59:14.472Z"
   },
   {
    "duration": 4,
    "start_time": "2023-03-21T05:59:14.485Z"
   },
   {
    "duration": 16,
    "start_time": "2023-03-21T05:59:14.490Z"
   },
   {
    "duration": 18,
    "start_time": "2023-03-21T05:59:14.508Z"
   },
   {
    "duration": 60,
    "start_time": "2023-03-21T05:59:14.528Z"
   },
   {
    "duration": 15,
    "start_time": "2023-03-21T05:59:14.591Z"
   },
   {
    "duration": 9,
    "start_time": "2023-03-21T05:59:14.608Z"
   },
   {
    "duration": 11,
    "start_time": "2023-03-21T05:59:14.619Z"
   },
   {
    "duration": 4,
    "start_time": "2023-03-21T05:59:14.631Z"
   },
   {
    "duration": 30,
    "start_time": "2023-03-21T05:59:14.637Z"
   },
   {
    "duration": 11,
    "start_time": "2023-03-21T05:59:14.675Z"
   },
   {
    "duration": 16,
    "start_time": "2023-03-21T05:59:14.687Z"
   },
   {
    "duration": 9,
    "start_time": "2023-03-21T05:59:14.705Z"
   },
   {
    "duration": 7,
    "start_time": "2023-03-21T05:59:14.716Z"
   },
   {
    "duration": 13,
    "start_time": "2023-03-21T05:59:14.725Z"
   },
   {
    "duration": 17,
    "start_time": "2023-03-21T05:59:14.740Z"
   },
   {
    "duration": 18,
    "start_time": "2023-03-21T05:59:14.758Z"
   },
   {
    "duration": 11,
    "start_time": "2023-03-21T05:59:14.777Z"
   },
   {
    "duration": 17,
    "start_time": "2023-03-21T05:59:14.792Z"
   },
   {
    "duration": 13,
    "start_time": "2023-03-21T05:59:14.811Z"
   },
   {
    "duration": 24,
    "start_time": "2023-03-21T05:59:14.827Z"
   },
   {
    "duration": 11,
    "start_time": "2023-03-21T05:59:14.854Z"
   },
   {
    "duration": 21,
    "start_time": "2023-03-21T05:59:14.867Z"
   },
   {
    "duration": 5,
    "start_time": "2023-03-21T06:21:20.533Z"
   },
   {
    "duration": 196,
    "start_time": "2023-03-21T06:21:59.127Z"
   },
   {
    "duration": 3,
    "start_time": "2023-03-21T06:22:18.453Z"
   },
   {
    "duration": 33,
    "start_time": "2023-03-21T06:22:18.458Z"
   },
   {
    "duration": 8,
    "start_time": "2023-03-21T06:22:18.493Z"
   },
   {
    "duration": 11,
    "start_time": "2023-03-21T06:22:18.503Z"
   },
   {
    "duration": 17,
    "start_time": "2023-03-21T06:22:18.516Z"
   },
   {
    "duration": 10,
    "start_time": "2023-03-21T06:22:18.534Z"
   },
   {
    "duration": 9,
    "start_time": "2023-03-21T06:22:18.546Z"
   },
   {
    "duration": 39,
    "start_time": "2023-03-21T06:22:18.556Z"
   },
   {
    "duration": 16,
    "start_time": "2023-03-21T06:22:18.597Z"
   },
   {
    "duration": 9,
    "start_time": "2023-03-21T06:22:18.614Z"
   },
   {
    "duration": 19,
    "start_time": "2023-03-21T06:22:18.624Z"
   },
   {
    "duration": 5,
    "start_time": "2023-03-21T06:22:18.645Z"
   },
   {
    "duration": 218,
    "start_time": "2023-03-21T06:22:18.652Z"
   },
   {
    "duration": 0,
    "start_time": "2023-03-21T06:22:18.872Z"
   },
   {
    "duration": 0,
    "start_time": "2023-03-21T06:22:18.874Z"
   },
   {
    "duration": 0,
    "start_time": "2023-03-21T06:22:18.876Z"
   },
   {
    "duration": 0,
    "start_time": "2023-03-21T06:22:18.877Z"
   },
   {
    "duration": 0,
    "start_time": "2023-03-21T06:22:18.879Z"
   },
   {
    "duration": 0,
    "start_time": "2023-03-21T06:22:18.881Z"
   },
   {
    "duration": 0,
    "start_time": "2023-03-21T06:22:18.883Z"
   },
   {
    "duration": 0,
    "start_time": "2023-03-21T06:22:18.884Z"
   },
   {
    "duration": 0,
    "start_time": "2023-03-21T06:22:18.886Z"
   },
   {
    "duration": 0,
    "start_time": "2023-03-21T06:22:18.888Z"
   },
   {
    "duration": 0,
    "start_time": "2023-03-21T06:22:18.890Z"
   },
   {
    "duration": 0,
    "start_time": "2023-03-21T06:22:18.891Z"
   },
   {
    "duration": 0,
    "start_time": "2023-03-21T06:22:18.893Z"
   },
   {
    "duration": 0,
    "start_time": "2023-03-21T06:22:18.894Z"
   },
   {
    "duration": 2,
    "start_time": "2023-03-21T06:24:38.325Z"
   },
   {
    "duration": 28,
    "start_time": "2023-03-21T06:24:38.330Z"
   },
   {
    "duration": 8,
    "start_time": "2023-03-21T06:24:38.360Z"
   },
   {
    "duration": 15,
    "start_time": "2023-03-21T06:24:38.370Z"
   },
   {
    "duration": 11,
    "start_time": "2023-03-21T06:24:38.387Z"
   },
   {
    "duration": 13,
    "start_time": "2023-03-21T06:24:38.400Z"
   },
   {
    "duration": 10,
    "start_time": "2023-03-21T06:24:38.415Z"
   },
   {
    "duration": 39,
    "start_time": "2023-03-21T06:24:38.427Z"
   },
   {
    "duration": 16,
    "start_time": "2023-03-21T06:24:38.468Z"
   },
   {
    "duration": 9,
    "start_time": "2023-03-21T06:24:38.486Z"
   },
   {
    "duration": 14,
    "start_time": "2023-03-21T06:24:38.497Z"
   },
   {
    "duration": 9,
    "start_time": "2023-03-21T06:24:38.513Z"
   },
   {
    "duration": 23,
    "start_time": "2023-03-21T06:24:38.524Z"
   },
   {
    "duration": 14,
    "start_time": "2023-03-21T06:24:38.551Z"
   },
   {
    "duration": 19,
    "start_time": "2023-03-21T06:24:38.566Z"
   },
   {
    "duration": 27,
    "start_time": "2023-03-21T06:24:38.587Z"
   },
   {
    "duration": 26,
    "start_time": "2023-03-21T06:24:38.616Z"
   },
   {
    "duration": 5,
    "start_time": "2023-03-21T06:24:38.643Z"
   },
   {
    "duration": 25,
    "start_time": "2023-03-21T06:24:38.650Z"
   },
   {
    "duration": 14,
    "start_time": "2023-03-21T06:24:38.677Z"
   },
   {
    "duration": 14,
    "start_time": "2023-03-21T06:24:38.692Z"
   },
   {
    "duration": 9,
    "start_time": "2023-03-21T06:24:38.707Z"
   },
   {
    "duration": 24,
    "start_time": "2023-03-21T06:24:38.717Z"
   },
   {
    "duration": 10,
    "start_time": "2023-03-21T06:24:38.743Z"
   },
   {
    "duration": 12,
    "start_time": "2023-03-21T06:24:38.754Z"
   },
   {
    "duration": 12,
    "start_time": "2023-03-21T06:24:38.767Z"
   },
   {
    "duration": 10,
    "start_time": "2023-03-21T06:24:38.781Z"
   },
   {
    "duration": 246,
    "start_time": "2023-03-21T06:25:14.556Z"
   },
   {
    "duration": 13,
    "start_time": "2023-03-21T06:25:29.829Z"
   },
   {
    "duration": 3,
    "start_time": "2023-03-21T06:25:39.557Z"
   },
   {
    "duration": 29,
    "start_time": "2023-03-21T06:25:39.562Z"
   },
   {
    "duration": 10,
    "start_time": "2023-03-21T06:25:39.593Z"
   },
   {
    "duration": 17,
    "start_time": "2023-03-21T06:25:39.605Z"
   },
   {
    "duration": 6,
    "start_time": "2023-03-21T06:25:39.624Z"
   },
   {
    "duration": 11,
    "start_time": "2023-03-21T06:25:39.632Z"
   },
   {
    "duration": 11,
    "start_time": "2023-03-21T06:25:39.645Z"
   },
   {
    "duration": 38,
    "start_time": "2023-03-21T06:25:39.658Z"
   },
   {
    "duration": 16,
    "start_time": "2023-03-21T06:25:39.698Z"
   },
   {
    "duration": 10,
    "start_time": "2023-03-21T06:25:39.716Z"
   },
   {
    "duration": 16,
    "start_time": "2023-03-21T06:25:39.728Z"
   },
   {
    "duration": 10,
    "start_time": "2023-03-21T06:25:39.746Z"
   },
   {
    "duration": 20,
    "start_time": "2023-03-21T06:25:39.758Z"
   },
   {
    "duration": 24,
    "start_time": "2023-03-21T06:25:39.781Z"
   },
   {
    "duration": 19,
    "start_time": "2023-03-21T06:25:39.807Z"
   },
   {
    "duration": 15,
    "start_time": "2023-03-21T06:25:39.828Z"
   },
   {
    "duration": 14,
    "start_time": "2023-03-21T06:25:39.845Z"
   },
   {
    "duration": 27,
    "start_time": "2023-03-21T06:25:39.861Z"
   },
   {
    "duration": 6,
    "start_time": "2023-03-21T06:25:39.890Z"
   },
   {
    "duration": 13,
    "start_time": "2023-03-21T06:25:39.897Z"
   },
   {
    "duration": 13,
    "start_time": "2023-03-21T06:25:39.911Z"
   },
   {
    "duration": 16,
    "start_time": "2023-03-21T06:25:39.940Z"
   },
   {
    "duration": 9,
    "start_time": "2023-03-21T06:25:39.958Z"
   },
   {
    "duration": 9,
    "start_time": "2023-03-21T06:25:39.969Z"
   },
   {
    "duration": 20,
    "start_time": "2023-03-21T06:25:39.980Z"
   },
   {
    "duration": 10,
    "start_time": "2023-03-21T06:25:40.002Z"
   },
   {
    "duration": 29,
    "start_time": "2023-03-21T06:25:40.014Z"
   },
   {
    "duration": 33,
    "start_time": "2023-03-21T06:25:40.045Z"
   },
   {
    "duration": 5,
    "start_time": "2023-03-21T06:26:16.988Z"
   },
   {
    "duration": 3,
    "start_time": "2023-03-21T06:26:29.493Z"
   },
   {
    "duration": 38,
    "start_time": "2023-03-21T06:26:29.499Z"
   },
   {
    "duration": 10,
    "start_time": "2023-03-21T06:26:29.538Z"
   },
   {
    "duration": 19,
    "start_time": "2023-03-21T06:26:29.550Z"
   },
   {
    "duration": 13,
    "start_time": "2023-03-21T06:26:29.571Z"
   },
   {
    "duration": 10,
    "start_time": "2023-03-21T06:26:29.585Z"
   },
   {
    "duration": 9,
    "start_time": "2023-03-21T06:26:29.597Z"
   },
   {
    "duration": 45,
    "start_time": "2023-03-21T06:26:29.608Z"
   },
   {
    "duration": 16,
    "start_time": "2023-03-21T06:26:29.654Z"
   },
   {
    "duration": 8,
    "start_time": "2023-03-21T06:26:29.673Z"
   },
   {
    "duration": 11,
    "start_time": "2023-03-21T06:26:29.683Z"
   },
   {
    "duration": 5,
    "start_time": "2023-03-21T06:26:29.696Z"
   },
   {
    "duration": 25,
    "start_time": "2023-03-21T06:26:29.703Z"
   },
   {
    "duration": 15,
    "start_time": "2023-03-21T06:26:29.730Z"
   },
   {
    "duration": 11,
    "start_time": "2023-03-21T06:26:29.747Z"
   },
   {
    "duration": 12,
    "start_time": "2023-03-21T06:26:29.760Z"
   },
   {
    "duration": 12,
    "start_time": "2023-03-21T06:26:29.774Z"
   },
   {
    "duration": 5,
    "start_time": "2023-03-21T06:26:29.788Z"
   },
   {
    "duration": 11,
    "start_time": "2023-03-21T06:26:29.795Z"
   },
   {
    "duration": 42,
    "start_time": "2023-03-21T06:26:29.808Z"
   },
   {
    "duration": 12,
    "start_time": "2023-03-21T06:26:29.851Z"
   },
   {
    "duration": 4,
    "start_time": "2023-03-21T06:26:29.864Z"
   },
   {
    "duration": 12,
    "start_time": "2023-03-21T06:26:29.869Z"
   },
   {
    "duration": 5,
    "start_time": "2023-03-21T06:26:29.883Z"
   },
   {
    "duration": 8,
    "start_time": "2023-03-21T06:26:29.890Z"
   },
   {
    "duration": 47,
    "start_time": "2023-03-21T06:26:29.900Z"
   },
   {
    "duration": 11,
    "start_time": "2023-03-21T06:26:29.948Z"
   },
   {
    "duration": 5,
    "start_time": "2023-03-21T06:26:29.962Z"
   },
   {
    "duration": 11,
    "start_time": "2023-03-21T06:26:29.969Z"
   },
   {
    "duration": 6,
    "start_time": "2023-03-21T06:28:23.477Z"
   },
   {
    "duration": 11,
    "start_time": "2023-03-21T06:28:29.715Z"
   },
   {
    "duration": 29,
    "start_time": "2023-03-21T06:30:05.442Z"
   },
   {
    "duration": 20,
    "start_time": "2023-03-21T06:30:33.219Z"
   },
   {
    "duration": 3,
    "start_time": "2023-03-21T06:30:53.860Z"
   },
   {
    "duration": 33,
    "start_time": "2023-03-21T06:30:53.865Z"
   },
   {
    "duration": 8,
    "start_time": "2023-03-21T06:30:53.899Z"
   },
   {
    "duration": 11,
    "start_time": "2023-03-21T06:30:53.910Z"
   },
   {
    "duration": 13,
    "start_time": "2023-03-21T06:30:53.923Z"
   },
   {
    "duration": 10,
    "start_time": "2023-03-21T06:30:53.938Z"
   },
   {
    "duration": 11,
    "start_time": "2023-03-21T06:30:53.950Z"
   },
   {
    "duration": 39,
    "start_time": "2023-03-21T06:30:53.962Z"
   },
   {
    "duration": 16,
    "start_time": "2023-03-21T06:30:54.004Z"
   },
   {
    "duration": 10,
    "start_time": "2023-03-21T06:30:54.022Z"
   },
   {
    "duration": 11,
    "start_time": "2023-03-21T06:30:54.034Z"
   },
   {
    "duration": 5,
    "start_time": "2023-03-21T06:30:54.047Z"
   },
   {
    "duration": 18,
    "start_time": "2023-03-21T06:30:54.054Z"
   },
   {
    "duration": 8,
    "start_time": "2023-03-21T06:30:54.074Z"
   },
   {
    "duration": 17,
    "start_time": "2023-03-21T06:30:54.083Z"
   },
   {
    "duration": 13,
    "start_time": "2023-03-21T06:30:54.102Z"
   },
   {
    "duration": 29,
    "start_time": "2023-03-21T06:30:54.117Z"
   },
   {
    "duration": 6,
    "start_time": "2023-03-21T06:30:54.147Z"
   },
   {
    "duration": 14,
    "start_time": "2023-03-21T06:30:54.155Z"
   },
   {
    "duration": 11,
    "start_time": "2023-03-21T06:30:54.171Z"
   },
   {
    "duration": 10,
    "start_time": "2023-03-21T06:30:54.184Z"
   },
   {
    "duration": 5,
    "start_time": "2023-03-21T06:30:54.196Z"
   },
   {
    "duration": 42,
    "start_time": "2023-03-21T06:30:54.203Z"
   },
   {
    "duration": 9,
    "start_time": "2023-03-21T06:30:54.249Z"
   },
   {
    "duration": 14,
    "start_time": "2023-03-21T06:30:54.259Z"
   },
   {
    "duration": 11,
    "start_time": "2023-03-21T06:30:54.275Z"
   },
   {
    "duration": 5,
    "start_time": "2023-03-21T06:30:54.288Z"
   },
   {
    "duration": 11,
    "start_time": "2023-03-21T06:30:54.295Z"
   },
   {
    "duration": 6,
    "start_time": "2023-03-21T06:30:54.340Z"
   },
   {
    "duration": 17,
    "start_time": "2023-03-21T06:30:54.348Z"
   },
   {
    "duration": 35,
    "start_time": "2023-03-21T06:30:54.366Z"
   },
   {
    "duration": 212,
    "start_time": "2023-03-21T06:32:55.899Z"
   },
   {
    "duration": 14,
    "start_time": "2023-03-21T06:33:01.603Z"
   },
   {
    "duration": 172,
    "start_time": "2023-03-21T06:33:21.003Z"
   },
   {
    "duration": 14,
    "start_time": "2023-03-21T06:33:29.034Z"
   },
   {
    "duration": 142,
    "start_time": "2023-03-21T06:40:40.489Z"
   },
   {
    "duration": 144,
    "start_time": "2023-03-21T06:40:52.845Z"
   },
   {
    "duration": 7,
    "start_time": "2023-03-21T06:41:25.017Z"
   },
   {
    "duration": 27,
    "start_time": "2023-03-21T06:41:34.833Z"
   },
   {
    "duration": 271,
    "start_time": "2023-03-21T06:43:05.129Z"
   },
   {
    "duration": 3,
    "start_time": "2023-03-21T06:43:25.859Z"
   },
   {
    "duration": 28,
    "start_time": "2023-03-21T06:43:25.865Z"
   },
   {
    "duration": 7,
    "start_time": "2023-03-21T06:43:25.895Z"
   },
   {
    "duration": 11,
    "start_time": "2023-03-21T06:43:25.904Z"
   },
   {
    "duration": 17,
    "start_time": "2023-03-21T06:43:25.917Z"
   },
   {
    "duration": 23,
    "start_time": "2023-03-21T06:43:25.936Z"
   },
   {
    "duration": 30,
    "start_time": "2023-03-21T06:43:25.960Z"
   },
   {
    "duration": 53,
    "start_time": "2023-03-21T06:43:25.992Z"
   },
   {
    "duration": 17,
    "start_time": "2023-03-21T06:43:26.047Z"
   },
   {
    "duration": 12,
    "start_time": "2023-03-21T06:43:26.065Z"
   },
   {
    "duration": 18,
    "start_time": "2023-03-21T06:43:26.079Z"
   },
   {
    "duration": 8,
    "start_time": "2023-03-21T06:43:26.098Z"
   },
   {
    "duration": 17,
    "start_time": "2023-03-21T06:43:26.108Z"
   },
   {
    "duration": 8,
    "start_time": "2023-03-21T06:43:26.127Z"
   },
   {
    "duration": 20,
    "start_time": "2023-03-21T06:43:26.137Z"
   },
   {
    "duration": 9,
    "start_time": "2023-03-21T06:43:26.161Z"
   },
   {
    "duration": 10,
    "start_time": "2023-03-21T06:43:26.172Z"
   },
   {
    "duration": 5,
    "start_time": "2023-03-21T06:43:26.183Z"
   },
   {
    "duration": 11,
    "start_time": "2023-03-21T06:43:26.190Z"
   },
   {
    "duration": 11,
    "start_time": "2023-03-21T06:43:26.202Z"
   },
   {
    "duration": 41,
    "start_time": "2023-03-21T06:43:26.214Z"
   },
   {
    "duration": 5,
    "start_time": "2023-03-21T06:43:26.257Z"
   },
   {
    "duration": 7,
    "start_time": "2023-03-21T06:43:26.264Z"
   },
   {
    "duration": 9,
    "start_time": "2023-03-21T06:43:26.272Z"
   },
   {
    "duration": 13,
    "start_time": "2023-03-21T06:43:26.282Z"
   },
   {
    "duration": 9,
    "start_time": "2023-03-21T06:43:26.297Z"
   },
   {
    "duration": 6,
    "start_time": "2023-03-21T06:43:26.307Z"
   },
   {
    "duration": 13,
    "start_time": "2023-03-21T06:43:26.348Z"
   },
   {
    "duration": 14,
    "start_time": "2023-03-21T06:43:26.363Z"
   },
   {
    "duration": 179,
    "start_time": "2023-03-21T06:43:26.378Z"
   },
   {
    "duration": 150,
    "start_time": "2023-03-21T06:43:26.560Z"
   },
   {
    "duration": 214,
    "start_time": "2023-03-21T06:43:26.712Z"
   },
   {
    "duration": 16,
    "start_time": "2023-03-21T06:44:17.355Z"
   },
   {
    "duration": 9,
    "start_time": "2023-03-21T06:45:31.362Z"
   },
   {
    "duration": 5,
    "start_time": "2023-03-21T06:46:02.242Z"
   },
   {
    "duration": 37,
    "start_time": "2023-03-21T06:46:02.249Z"
   },
   {
    "duration": 8,
    "start_time": "2023-03-21T06:46:02.288Z"
   },
   {
    "duration": 35,
    "start_time": "2023-03-21T06:46:02.297Z"
   },
   {
    "duration": 15,
    "start_time": "2023-03-21T06:46:02.334Z"
   },
   {
    "duration": 28,
    "start_time": "2023-03-21T06:46:02.350Z"
   },
   {
    "duration": 23,
    "start_time": "2023-03-21T06:46:02.380Z"
   },
   {
    "duration": 66,
    "start_time": "2023-03-21T06:46:02.405Z"
   },
   {
    "duration": 15,
    "start_time": "2023-03-21T06:46:02.473Z"
   },
   {
    "duration": 9,
    "start_time": "2023-03-21T06:46:02.490Z"
   },
   {
    "duration": 35,
    "start_time": "2023-03-21T06:46:02.502Z"
   },
   {
    "duration": 25,
    "start_time": "2023-03-21T06:46:02.539Z"
   },
   {
    "duration": 42,
    "start_time": "2023-03-21T06:46:02.566Z"
   },
   {
    "duration": 27,
    "start_time": "2023-03-21T06:46:02.610Z"
   },
   {
    "duration": 36,
    "start_time": "2023-03-21T06:46:02.639Z"
   },
   {
    "duration": 21,
    "start_time": "2023-03-21T06:46:02.677Z"
   },
   {
    "duration": 26,
    "start_time": "2023-03-21T06:46:02.700Z"
   },
   {
    "duration": 14,
    "start_time": "2023-03-21T06:46:02.728Z"
   },
   {
    "duration": 14,
    "start_time": "2023-03-21T06:46:02.744Z"
   },
   {
    "duration": 20,
    "start_time": "2023-03-21T06:46:02.759Z"
   },
   {
    "duration": 26,
    "start_time": "2023-03-21T06:46:02.781Z"
   },
   {
    "duration": 8,
    "start_time": "2023-03-21T06:46:02.809Z"
   },
   {
    "duration": 10,
    "start_time": "2023-03-21T06:46:02.818Z"
   },
   {
    "duration": 25,
    "start_time": "2023-03-21T06:46:02.829Z"
   },
   {
    "duration": 21,
    "start_time": "2023-03-21T06:46:02.855Z"
   },
   {
    "duration": 23,
    "start_time": "2023-03-21T06:46:02.877Z"
   },
   {
    "duration": 5,
    "start_time": "2023-03-21T06:46:02.901Z"
   },
   {
    "duration": 12,
    "start_time": "2023-03-21T06:46:02.908Z"
   },
   {
    "duration": 11,
    "start_time": "2023-03-21T06:46:02.923Z"
   },
   {
    "duration": 194,
    "start_time": "2023-03-21T06:46:02.936Z"
   },
   {
    "duration": 156,
    "start_time": "2023-03-21T06:46:03.132Z"
   },
   {
    "duration": 12,
    "start_time": "2023-03-21T06:46:03.290Z"
   },
   {
    "duration": 12,
    "start_time": "2023-03-21T06:47:10.905Z"
   },
   {
    "duration": 13,
    "start_time": "2023-03-21T06:47:51.486Z"
   },
   {
    "duration": 4,
    "start_time": "2023-03-21T06:47:58.594Z"
   },
   {
    "duration": 26,
    "start_time": "2023-03-21T06:47:58.600Z"
   },
   {
    "duration": 7,
    "start_time": "2023-03-21T06:47:58.628Z"
   },
   {
    "duration": 20,
    "start_time": "2023-03-21T06:47:58.637Z"
   },
   {
    "duration": 3,
    "start_time": "2023-03-21T06:47:58.660Z"
   },
   {
    "duration": 9,
    "start_time": "2023-03-21T06:47:58.665Z"
   },
   {
    "duration": 8,
    "start_time": "2023-03-21T06:47:58.675Z"
   },
   {
    "duration": 37,
    "start_time": "2023-03-21T06:47:58.685Z"
   },
   {
    "duration": 15,
    "start_time": "2023-03-21T06:47:58.724Z"
   },
   {
    "duration": 12,
    "start_time": "2023-03-21T06:47:58.748Z"
   },
   {
    "duration": 13,
    "start_time": "2023-03-21T06:47:58.762Z"
   },
   {
    "duration": 5,
    "start_time": "2023-03-21T06:47:58.777Z"
   },
   {
    "duration": 13,
    "start_time": "2023-03-21T06:47:58.784Z"
   },
   {
    "duration": 10,
    "start_time": "2023-03-21T06:47:58.801Z"
   },
   {
    "duration": 38,
    "start_time": "2023-03-21T06:47:58.814Z"
   },
   {
    "duration": 14,
    "start_time": "2023-03-21T06:47:58.859Z"
   },
   {
    "duration": 11,
    "start_time": "2023-03-21T06:47:58.875Z"
   },
   {
    "duration": 7,
    "start_time": "2023-03-21T06:47:58.888Z"
   },
   {
    "duration": 11,
    "start_time": "2023-03-21T06:47:58.899Z"
   },
   {
    "duration": 50,
    "start_time": "2023-03-21T06:47:58.912Z"
   },
   {
    "duration": 22,
    "start_time": "2023-03-21T06:47:58.963Z"
   },
   {
    "duration": 11,
    "start_time": "2023-03-21T06:47:58.986Z"
   },
   {
    "duration": 29,
    "start_time": "2023-03-21T06:47:59.000Z"
   },
   {
    "duration": 21,
    "start_time": "2023-03-21T06:47:59.031Z"
   },
   {
    "duration": 11,
    "start_time": "2023-03-21T06:47:59.053Z"
   },
   {
    "duration": 10,
    "start_time": "2023-03-21T06:47:59.066Z"
   },
   {
    "duration": 5,
    "start_time": "2023-03-21T06:47:59.079Z"
   },
   {
    "duration": 12,
    "start_time": "2023-03-21T06:47:59.086Z"
   },
   {
    "duration": 13,
    "start_time": "2023-03-21T06:47:59.100Z"
   },
   {
    "duration": 209,
    "start_time": "2023-03-21T06:47:59.145Z"
   },
   {
    "duration": 146,
    "start_time": "2023-03-21T06:47:59.356Z"
   },
   {
    "duration": 11,
    "start_time": "2023-03-21T06:47:59.504Z"
   },
   {
    "duration": 39,
    "start_time": "2023-03-21T06:47:59.517Z"
   },
   {
    "duration": 9,
    "start_time": "2023-03-21T06:57:20.947Z"
   },
   {
    "duration": 42,
    "start_time": "2023-03-21T06:57:20.957Z"
   },
   {
    "duration": 11,
    "start_time": "2023-03-21T06:57:21.001Z"
   },
   {
    "duration": 20,
    "start_time": "2023-03-21T06:57:21.014Z"
   },
   {
    "duration": 5,
    "start_time": "2023-03-21T06:57:21.036Z"
   },
   {
    "duration": 28,
    "start_time": "2023-03-21T06:57:21.045Z"
   },
   {
    "duration": 28,
    "start_time": "2023-03-21T06:57:21.075Z"
   },
   {
    "duration": 69,
    "start_time": "2023-03-21T06:57:21.105Z"
   },
   {
    "duration": 16,
    "start_time": "2023-03-21T06:57:21.176Z"
   },
   {
    "duration": 10,
    "start_time": "2023-03-21T06:57:21.195Z"
   },
   {
    "duration": 13,
    "start_time": "2023-03-21T06:57:21.207Z"
   },
   {
    "duration": 5,
    "start_time": "2023-03-21T06:57:21.221Z"
   },
   {
    "duration": 14,
    "start_time": "2023-03-21T06:57:21.228Z"
   },
   {
    "duration": 12,
    "start_time": "2023-03-21T06:57:21.249Z"
   },
   {
    "duration": 11,
    "start_time": "2023-03-21T06:57:21.263Z"
   },
   {
    "duration": 13,
    "start_time": "2023-03-21T06:57:21.275Z"
   },
   {
    "duration": 11,
    "start_time": "2023-03-21T06:57:21.290Z"
   },
   {
    "duration": 11,
    "start_time": "2023-03-21T06:57:21.302Z"
   },
   {
    "duration": 37,
    "start_time": "2023-03-21T06:57:21.315Z"
   },
   {
    "duration": 13,
    "start_time": "2023-03-21T06:57:21.354Z"
   },
   {
    "duration": 12,
    "start_time": "2023-03-21T06:57:21.369Z"
   },
   {
    "duration": 9,
    "start_time": "2023-03-21T06:57:21.383Z"
   },
   {
    "duration": 15,
    "start_time": "2023-03-21T06:57:21.394Z"
   },
   {
    "duration": 20,
    "start_time": "2023-03-21T06:57:21.411Z"
   },
   {
    "duration": 27,
    "start_time": "2023-03-21T06:57:21.433Z"
   },
   {
    "duration": 42,
    "start_time": "2023-03-21T06:57:21.463Z"
   },
   {
    "duration": 8,
    "start_time": "2023-03-21T06:57:21.507Z"
   },
   {
    "duration": 19,
    "start_time": "2023-03-21T06:57:21.519Z"
   },
   {
    "duration": 21,
    "start_time": "2023-03-21T06:57:21.544Z"
   },
   {
    "duration": 39,
    "start_time": "2023-03-21T06:57:21.567Z"
   },
   {
    "duration": 0,
    "start_time": "2023-03-21T06:57:21.607Z"
   },
   {
    "duration": 0,
    "start_time": "2023-03-21T06:57:21.609Z"
   },
   {
    "duration": 3,
    "start_time": "2023-03-21T06:58:38.624Z"
   },
   {
    "duration": 42,
    "start_time": "2023-03-21T06:58:38.630Z"
   },
   {
    "duration": 9,
    "start_time": "2023-03-21T06:58:38.674Z"
   },
   {
    "duration": 17,
    "start_time": "2023-03-21T06:58:38.684Z"
   },
   {
    "duration": 6,
    "start_time": "2023-03-21T06:58:38.704Z"
   },
   {
    "duration": 16,
    "start_time": "2023-03-21T06:58:38.713Z"
   },
   {
    "duration": 17,
    "start_time": "2023-03-21T06:58:38.730Z"
   },
   {
    "duration": 39,
    "start_time": "2023-03-21T06:58:38.755Z"
   },
   {
    "duration": 17,
    "start_time": "2023-03-21T06:58:38.796Z"
   },
   {
    "duration": 11,
    "start_time": "2023-03-21T06:58:38.815Z"
   },
   {
    "duration": 22,
    "start_time": "2023-03-21T06:58:38.828Z"
   },
   {
    "duration": 8,
    "start_time": "2023-03-21T06:58:38.852Z"
   },
   {
    "duration": 16,
    "start_time": "2023-03-21T06:58:38.861Z"
   },
   {
    "duration": 8,
    "start_time": "2023-03-21T06:58:38.881Z"
   },
   {
    "duration": 11,
    "start_time": "2023-03-21T06:58:38.891Z"
   },
   {
    "duration": 10,
    "start_time": "2023-03-21T06:58:38.903Z"
   },
   {
    "duration": 54,
    "start_time": "2023-03-21T06:58:38.915Z"
   },
   {
    "duration": 11,
    "start_time": "2023-03-21T06:58:38.973Z"
   },
   {
    "duration": 11,
    "start_time": "2023-03-21T06:58:38.986Z"
   },
   {
    "duration": 11,
    "start_time": "2023-03-21T06:58:38.999Z"
   },
   {
    "duration": 30,
    "start_time": "2023-03-21T06:58:39.012Z"
   },
   {
    "duration": 9,
    "start_time": "2023-03-21T06:58:39.045Z"
   },
   {
    "duration": 11,
    "start_time": "2023-03-21T06:58:39.056Z"
   },
   {
    "duration": 14,
    "start_time": "2023-03-21T06:58:39.069Z"
   },
   {
    "duration": 13,
    "start_time": "2023-03-21T06:58:39.087Z"
   },
   {
    "duration": 12,
    "start_time": "2023-03-21T06:58:39.102Z"
   },
   {
    "duration": 11,
    "start_time": "2023-03-21T06:58:39.144Z"
   },
   {
    "duration": 13,
    "start_time": "2023-03-21T06:58:39.159Z"
   },
   {
    "duration": 14,
    "start_time": "2023-03-21T06:58:39.174Z"
   },
   {
    "duration": 243,
    "start_time": "2023-03-21T06:58:39.190Z"
   },
   {
    "duration": 148,
    "start_time": "2023-03-21T06:58:39.435Z"
   },
   {
    "duration": 20,
    "start_time": "2023-03-21T06:58:39.585Z"
   },
   {
    "duration": 7,
    "start_time": "2023-03-21T06:59:23.930Z"
   },
   {
    "duration": 365,
    "start_time": "2023-03-21T06:59:33.392Z"
   },
   {
    "duration": 296,
    "start_time": "2023-03-21T07:03:13.423Z"
   },
   {
    "duration": 214,
    "start_time": "2023-03-21T07:03:28.397Z"
   },
   {
    "duration": 243,
    "start_time": "2023-03-21T07:03:41.022Z"
   },
   {
    "duration": 268,
    "start_time": "2023-03-21T07:03:47.189Z"
   },
   {
    "duration": 265,
    "start_time": "2023-03-21T07:05:19.926Z"
   },
   {
    "duration": 174,
    "start_time": "2023-03-21T07:16:39.316Z"
   },
   {
    "duration": 258,
    "start_time": "2023-03-21T07:16:59.794Z"
   },
   {
    "duration": 322,
    "start_time": "2023-03-21T07:18:20.097Z"
   },
   {
    "duration": 334,
    "start_time": "2023-03-21T07:18:40.806Z"
   },
   {
    "duration": 3,
    "start_time": "2023-03-21T07:19:14.812Z"
   },
   {
    "duration": 29,
    "start_time": "2023-03-21T07:19:14.817Z"
   },
   {
    "duration": 9,
    "start_time": "2023-03-21T07:19:14.847Z"
   },
   {
    "duration": 10,
    "start_time": "2023-03-21T07:19:14.858Z"
   },
   {
    "duration": 5,
    "start_time": "2023-03-21T07:19:14.870Z"
   },
   {
    "duration": 9,
    "start_time": "2023-03-21T07:19:14.876Z"
   },
   {
    "duration": 13,
    "start_time": "2023-03-21T07:19:14.886Z"
   },
   {
    "duration": 37,
    "start_time": "2023-03-21T07:19:14.901Z"
   },
   {
    "duration": 15,
    "start_time": "2023-03-21T07:19:14.940Z"
   },
   {
    "duration": 9,
    "start_time": "2023-03-21T07:19:14.958Z"
   },
   {
    "duration": 16,
    "start_time": "2023-03-21T07:19:14.969Z"
   },
   {
    "duration": 4,
    "start_time": "2023-03-21T07:19:14.986Z"
   },
   {
    "duration": 34,
    "start_time": "2023-03-21T07:19:14.992Z"
   },
   {
    "duration": 17,
    "start_time": "2023-03-21T07:19:15.028Z"
   },
   {
    "duration": 9,
    "start_time": "2023-03-21T07:19:15.047Z"
   },
   {
    "duration": 9,
    "start_time": "2023-03-21T07:19:15.058Z"
   },
   {
    "duration": 14,
    "start_time": "2023-03-21T07:19:15.069Z"
   },
   {
    "duration": 7,
    "start_time": "2023-03-21T07:19:15.085Z"
   },
   {
    "duration": 11,
    "start_time": "2023-03-21T07:19:15.094Z"
   },
   {
    "duration": 41,
    "start_time": "2023-03-21T07:19:15.106Z"
   },
   {
    "duration": 12,
    "start_time": "2023-03-21T07:19:15.149Z"
   },
   {
    "duration": 13,
    "start_time": "2023-03-21T07:19:15.163Z"
   },
   {
    "duration": 7,
    "start_time": "2023-03-21T07:19:15.177Z"
   },
   {
    "duration": 9,
    "start_time": "2023-03-21T07:19:15.186Z"
   },
   {
    "duration": 14,
    "start_time": "2023-03-21T07:19:15.197Z"
   },
   {
    "duration": 10,
    "start_time": "2023-03-21T07:19:15.241Z"
   },
   {
    "duration": 6,
    "start_time": "2023-03-21T07:19:15.253Z"
   },
   {
    "duration": 9,
    "start_time": "2023-03-21T07:19:15.262Z"
   },
   {
    "duration": 20,
    "start_time": "2023-03-21T07:19:15.272Z"
   },
   {
    "duration": 220,
    "start_time": "2023-03-21T07:19:15.293Z"
   },
   {
    "duration": 138,
    "start_time": "2023-03-21T07:19:15.515Z"
   },
   {
    "duration": 12,
    "start_time": "2023-03-21T07:19:15.655Z"
   },
   {
    "duration": 12,
    "start_time": "2023-03-21T07:19:15.668Z"
   },
   {
    "duration": 261,
    "start_time": "2023-03-21T07:19:15.682Z"
   },
   {
    "duration": 326,
    "start_time": "2023-03-21T07:19:15.944Z"
   },
   {
    "duration": 322,
    "start_time": "2023-03-21T07:19:16.272Z"
   },
   {
    "duration": 170,
    "start_time": "2023-03-21T07:22:00.494Z"
   },
   {
    "duration": 199,
    "start_time": "2023-03-21T07:25:29.236Z"
   },
   {
    "duration": 403,
    "start_time": "2023-03-21T07:25:42.964Z"
   },
   {
    "duration": 262,
    "start_time": "2023-03-21T07:25:53.925Z"
   },
   {
    "duration": 271,
    "start_time": "2023-03-21T07:26:24.551Z"
   },
   {
    "duration": 290,
    "start_time": "2023-03-21T07:26:42.167Z"
   },
   {
    "duration": 357,
    "start_time": "2023-03-21T07:26:48.106Z"
   },
   {
    "duration": 314,
    "start_time": "2023-03-21T07:31:24.611Z"
   },
   {
    "duration": 296,
    "start_time": "2023-03-21T07:31:41.308Z"
   },
   {
    "duration": 276,
    "start_time": "2023-03-21T07:32:18.324Z"
   },
   {
    "duration": 450,
    "start_time": "2023-03-21T07:32:47.219Z"
   },
   {
    "duration": 389,
    "start_time": "2023-03-21T07:32:58.139Z"
   },
   {
    "duration": 462,
    "start_time": "2023-03-21T07:33:27.125Z"
   },
   {
    "duration": 434,
    "start_time": "2023-03-21T07:33:46.236Z"
   },
   {
    "duration": 421,
    "start_time": "2023-03-21T07:33:58.794Z"
   },
   {
    "duration": 384,
    "start_time": "2023-03-21T07:34:57.255Z"
   },
   {
    "duration": 375,
    "start_time": "2023-03-21T07:35:09.739Z"
   },
   {
    "duration": 437,
    "start_time": "2023-03-21T07:35:27.219Z"
   },
   {
    "duration": 417,
    "start_time": "2023-03-21T07:35:37.011Z"
   },
   {
    "duration": 318,
    "start_time": "2023-03-21T07:37:45.835Z"
   },
   {
    "duration": 50,
    "start_time": "2023-03-22T07:34:43.540Z"
   },
   {
    "duration": 6,
    "start_time": "2023-03-22T07:35:17.927Z"
   },
   {
    "duration": 880,
    "start_time": "2023-03-22T07:35:21.691Z"
   },
   {
    "duration": 74,
    "start_time": "2023-03-22T07:35:22.574Z"
   },
   {
    "duration": 15,
    "start_time": "2023-03-22T07:35:22.650Z"
   },
   {
    "duration": 22,
    "start_time": "2023-03-22T07:35:22.668Z"
   },
   {
    "duration": 13,
    "start_time": "2023-03-22T07:35:22.692Z"
   },
   {
    "duration": 27,
    "start_time": "2023-03-22T07:35:22.708Z"
   },
   {
    "duration": 11,
    "start_time": "2023-03-22T07:35:22.738Z"
   },
   {
    "duration": 101,
    "start_time": "2023-03-22T07:35:22.751Z"
   },
   {
    "duration": 62,
    "start_time": "2023-03-22T07:35:22.854Z"
   },
   {
    "duration": 11,
    "start_time": "2023-03-22T07:35:22.919Z"
   },
   {
    "duration": 14,
    "start_time": "2023-03-22T07:35:22.932Z"
   },
   {
    "duration": 11,
    "start_time": "2023-03-22T07:35:22.948Z"
   },
   {
    "duration": 23,
    "start_time": "2023-03-22T07:35:22.961Z"
   },
   {
    "duration": 15,
    "start_time": "2023-03-22T07:35:22.985Z"
   },
   {
    "duration": 12,
    "start_time": "2023-03-22T07:35:23.002Z"
   },
   {
    "duration": 20,
    "start_time": "2023-03-22T07:35:23.016Z"
   },
   {
    "duration": 18,
    "start_time": "2023-03-22T07:35:23.041Z"
   },
   {
    "duration": 11,
    "start_time": "2023-03-22T07:35:23.061Z"
   },
   {
    "duration": 23,
    "start_time": "2023-03-22T07:35:23.075Z"
   },
   {
    "duration": 8,
    "start_time": "2023-03-22T07:35:23.101Z"
   },
   {
    "duration": 36,
    "start_time": "2023-03-22T07:35:23.111Z"
   },
   {
    "duration": 10,
    "start_time": "2023-03-22T07:35:23.148Z"
   },
   {
    "duration": 22,
    "start_time": "2023-03-22T07:35:23.160Z"
   },
   {
    "duration": 22,
    "start_time": "2023-03-22T07:35:23.184Z"
   },
   {
    "duration": 19,
    "start_time": "2023-03-22T07:35:23.208Z"
   },
   {
    "duration": 30,
    "start_time": "2023-03-22T07:35:23.229Z"
   },
   {
    "duration": 14,
    "start_time": "2023-03-22T07:35:23.261Z"
   },
   {
    "duration": 25,
    "start_time": "2023-03-22T07:35:23.279Z"
   },
   {
    "duration": 29,
    "start_time": "2023-03-22T07:35:23.306Z"
   },
   {
    "duration": 202,
    "start_time": "2023-03-22T07:35:23.336Z"
   },
   {
    "duration": 144,
    "start_time": "2023-03-22T07:35:23.541Z"
   },
   {
    "duration": 13,
    "start_time": "2023-03-22T07:35:23.687Z"
   },
   {
    "duration": 15,
    "start_time": "2023-03-22T07:35:23.702Z"
   },
   {
    "duration": 349,
    "start_time": "2023-03-22T07:35:23.719Z"
   },
   {
    "duration": 285,
    "start_time": "2023-03-22T07:35:24.069Z"
   },
   {
    "duration": 380,
    "start_time": "2023-03-22T07:35:24.356Z"
   },
   {
    "duration": 371,
    "start_time": "2023-03-22T07:35:24.740Z"
   },
   {
    "duration": 415,
    "start_time": "2023-03-22T07:35:25.114Z"
   },
   {
    "duration": 154,
    "start_time": "2023-03-22T07:35:25.532Z"
   },
   {
    "duration": 209,
    "start_time": "2023-03-22T07:35:49.114Z"
   },
   {
    "duration": 1392,
    "start_time": "2023-03-22T07:36:42.569Z"
   },
   {
    "duration": 151,
    "start_time": "2023-03-22T07:37:38.759Z"
   },
   {
    "duration": 194,
    "start_time": "2023-03-22T07:37:50.289Z"
   },
   {
    "duration": 13,
    "start_time": "2023-03-22T08:05:58.209Z"
   },
   {
    "duration": 17,
    "start_time": "2023-03-22T08:06:41.349Z"
   },
   {
    "duration": 14,
    "start_time": "2023-03-22T08:06:59.211Z"
   },
   {
    "duration": 137,
    "start_time": "2023-03-22T08:07:35.557Z"
   },
   {
    "duration": 242,
    "start_time": "2023-03-22T08:07:56.677Z"
   },
   {
    "duration": 131,
    "start_time": "2023-03-22T08:08:35.588Z"
   },
   {
    "duration": 202,
    "start_time": "2023-03-22T08:08:43.428Z"
   },
   {
    "duration": 6,
    "start_time": "2023-03-22T08:10:05.444Z"
   },
   {
    "duration": 180,
    "start_time": "2023-03-22T08:11:38.820Z"
   },
   {
    "duration": 288,
    "start_time": "2023-03-22T08:12:21.148Z"
   },
   {
    "duration": 2025,
    "start_time": "2023-03-22T08:13:05.556Z"
   },
   {
    "duration": 6,
    "start_time": "2023-03-22T08:13:56.517Z"
   },
   {
    "duration": 15,
    "start_time": "2023-03-22T08:34:29.156Z"
   },
   {
    "duration": 3,
    "start_time": "2023-03-22T08:35:09.564Z"
   },
   {
    "duration": 32,
    "start_time": "2023-03-22T08:35:09.570Z"
   },
   {
    "duration": 8,
    "start_time": "2023-03-22T08:35:09.604Z"
   },
   {
    "duration": 14,
    "start_time": "2023-03-22T08:35:09.614Z"
   },
   {
    "duration": 15,
    "start_time": "2023-03-22T08:35:09.631Z"
   },
   {
    "duration": 18,
    "start_time": "2023-03-22T08:35:09.649Z"
   },
   {
    "duration": 22,
    "start_time": "2023-03-22T08:35:09.669Z"
   },
   {
    "duration": 64,
    "start_time": "2023-03-22T08:35:09.693Z"
   },
   {
    "duration": 16,
    "start_time": "2023-03-22T08:35:09.759Z"
   },
   {
    "duration": 12,
    "start_time": "2023-03-22T08:35:09.777Z"
   },
   {
    "duration": 22,
    "start_time": "2023-03-22T08:35:09.791Z"
   },
   {
    "duration": 16,
    "start_time": "2023-03-22T08:35:09.815Z"
   },
   {
    "duration": 26,
    "start_time": "2023-03-22T08:35:09.833Z"
   },
   {
    "duration": 10,
    "start_time": "2023-03-22T08:35:09.863Z"
   },
   {
    "duration": 11,
    "start_time": "2023-03-22T08:35:09.876Z"
   },
   {
    "duration": 14,
    "start_time": "2023-03-22T08:35:09.889Z"
   },
   {
    "duration": 10,
    "start_time": "2023-03-22T08:35:09.904Z"
   },
   {
    "duration": 28,
    "start_time": "2023-03-22T08:35:09.916Z"
   },
   {
    "duration": 15,
    "start_time": "2023-03-22T08:35:09.946Z"
   },
   {
    "duration": 8,
    "start_time": "2023-03-22T08:35:09.963Z"
   },
   {
    "duration": 15,
    "start_time": "2023-03-22T08:35:09.973Z"
   },
   {
    "duration": 10,
    "start_time": "2023-03-22T08:35:09.990Z"
   },
   {
    "duration": 20,
    "start_time": "2023-03-22T08:35:10.002Z"
   },
   {
    "duration": 25,
    "start_time": "2023-03-22T08:35:10.024Z"
   },
   {
    "duration": 109,
    "start_time": "2023-03-22T08:35:10.051Z"
   },
   {
    "duration": 19,
    "start_time": "2023-03-22T08:35:10.162Z"
   },
   {
    "duration": 11,
    "start_time": "2023-03-22T08:35:10.183Z"
   },
   {
    "duration": 21,
    "start_time": "2023-03-22T08:35:10.196Z"
   },
   {
    "duration": 15,
    "start_time": "2023-03-22T08:35:10.218Z"
   },
   {
    "duration": 196,
    "start_time": "2023-03-22T08:35:10.234Z"
   },
   {
    "duration": 143,
    "start_time": "2023-03-22T08:35:10.431Z"
   },
   {
    "duration": 13,
    "start_time": "2023-03-22T08:35:10.576Z"
   },
   {
    "duration": 18,
    "start_time": "2023-03-22T08:35:10.590Z"
   },
   {
    "duration": 281,
    "start_time": "2023-03-22T08:35:10.610Z"
   },
   {
    "duration": 270,
    "start_time": "2023-03-22T08:35:10.893Z"
   },
   {
    "duration": 333,
    "start_time": "2023-03-22T08:35:11.166Z"
   },
   {
    "duration": 294,
    "start_time": "2023-03-22T08:35:11.501Z"
   },
   {
    "duration": 360,
    "start_time": "2023-03-22T08:35:11.797Z"
   },
   {
    "duration": 13,
    "start_time": "2023-03-22T08:35:12.159Z"
   },
   {
    "duration": 13,
    "start_time": "2023-03-22T08:35:12.174Z"
   },
   {
    "duration": 207,
    "start_time": "2023-03-22T08:35:12.190Z"
   },
   {
    "duration": 229,
    "start_time": "2023-03-22T08:35:12.399Z"
   },
   {
    "duration": 14,
    "start_time": "2023-03-22T08:35:12.630Z"
   },
   {
    "duration": 224,
    "start_time": "2023-03-22T08:35:12.646Z"
   },
   {
    "duration": 215,
    "start_time": "2023-03-22T08:35:12.872Z"
   },
   {
    "duration": 5,
    "start_time": "2023-03-22T08:35:13.089Z"
   },
   {
    "duration": 117,
    "start_time": "2023-03-22T08:35:13.096Z"
   },
   {
    "duration": 0,
    "start_time": "2023-03-22T08:35:13.215Z"
   },
   {
    "duration": 16,
    "start_time": "2023-03-22T08:35:54.114Z"
   },
   {
    "duration": 105,
    "start_time": "2023-03-22T08:36:42.061Z"
   },
   {
    "duration": 221,
    "start_time": "2023-03-22T08:37:20.739Z"
   },
   {
    "duration": 14,
    "start_time": "2023-03-22T08:37:23.466Z"
   },
   {
    "duration": 223,
    "start_time": "2023-03-22T08:39:58.538Z"
   },
   {
    "duration": 553,
    "start_time": "2023-03-22T08:40:32.724Z"
   },
   {
    "duration": 28,
    "start_time": "2023-03-22T08:40:33.279Z"
   },
   {
    "duration": 15,
    "start_time": "2023-03-22T08:40:33.309Z"
   },
   {
    "duration": 25,
    "start_time": "2023-03-22T08:40:33.325Z"
   },
   {
    "duration": 14,
    "start_time": "2023-03-22T08:40:33.353Z"
   },
   {
    "duration": 31,
    "start_time": "2023-03-22T08:40:33.369Z"
   },
   {
    "duration": 31,
    "start_time": "2023-03-22T08:40:33.402Z"
   },
   {
    "duration": 50,
    "start_time": "2023-03-22T08:40:33.435Z"
   },
   {
    "duration": 17,
    "start_time": "2023-03-22T08:40:33.487Z"
   },
   {
    "duration": 13,
    "start_time": "2023-03-22T08:40:33.507Z"
   },
   {
    "duration": 44,
    "start_time": "2023-03-22T08:40:33.522Z"
   },
   {
    "duration": 27,
    "start_time": "2023-03-22T08:40:33.568Z"
   },
   {
    "duration": 24,
    "start_time": "2023-03-22T08:40:33.597Z"
   },
   {
    "duration": 24,
    "start_time": "2023-03-22T08:40:33.625Z"
   },
   {
    "duration": 23,
    "start_time": "2023-03-22T08:40:33.651Z"
   },
   {
    "duration": 20,
    "start_time": "2023-03-22T08:40:33.676Z"
   },
   {
    "duration": 15,
    "start_time": "2023-03-22T08:40:33.698Z"
   },
   {
    "duration": 14,
    "start_time": "2023-03-22T08:40:33.715Z"
   },
   {
    "duration": 32,
    "start_time": "2023-03-22T08:40:33.731Z"
   },
   {
    "duration": 12,
    "start_time": "2023-03-22T08:40:33.765Z"
   },
   {
    "duration": 19,
    "start_time": "2023-03-22T08:40:33.778Z"
   },
   {
    "duration": 17,
    "start_time": "2023-03-22T08:40:33.798Z"
   },
   {
    "duration": 17,
    "start_time": "2023-03-22T08:40:33.817Z"
   },
   {
    "duration": 20,
    "start_time": "2023-03-22T08:40:33.836Z"
   },
   {
    "duration": 19,
    "start_time": "2023-03-22T08:40:33.859Z"
   },
   {
    "duration": 32,
    "start_time": "2023-03-22T08:40:33.881Z"
   },
   {
    "duration": 18,
    "start_time": "2023-03-22T08:40:33.915Z"
   },
   {
    "duration": 18,
    "start_time": "2023-03-22T08:40:33.935Z"
   },
   {
    "duration": 24,
    "start_time": "2023-03-22T08:40:33.955Z"
   },
   {
    "duration": 210,
    "start_time": "2023-03-22T08:40:33.981Z"
   },
   {
    "duration": 136,
    "start_time": "2023-03-22T08:40:34.193Z"
   },
   {
    "duration": 22,
    "start_time": "2023-03-22T08:40:34.331Z"
   },
   {
    "duration": 13,
    "start_time": "2023-03-22T08:40:34.355Z"
   },
   {
    "duration": 277,
    "start_time": "2023-03-22T08:40:34.370Z"
   },
   {
    "duration": 321,
    "start_time": "2023-03-22T08:40:34.649Z"
   },
   {
    "duration": 335,
    "start_time": "2023-03-22T08:40:34.972Z"
   },
   {
    "duration": 296,
    "start_time": "2023-03-22T08:40:35.309Z"
   },
   {
    "duration": 480,
    "start_time": "2023-03-22T08:40:35.607Z"
   },
   {
    "duration": 13,
    "start_time": "2023-03-22T08:40:36.088Z"
   },
   {
    "duration": 24,
    "start_time": "2023-03-22T08:40:36.103Z"
   },
   {
    "duration": 216,
    "start_time": "2023-03-22T08:40:36.131Z"
   },
   {
    "duration": 364,
    "start_time": "2023-03-22T08:40:36.348Z"
   },
   {
    "duration": 7,
    "start_time": "2023-03-22T08:40:36.714Z"
   },
   {
    "duration": 196,
    "start_time": "2023-03-22T08:40:36.723Z"
   },
   {
    "duration": 197,
    "start_time": "2023-03-22T08:40:36.920Z"
   },
   {
    "duration": 5,
    "start_time": "2023-03-22T08:40:37.119Z"
   },
   {
    "duration": 147,
    "start_time": "2023-03-22T08:40:37.140Z"
   },
   {
    "duration": 233,
    "start_time": "2023-03-22T08:40:37.289Z"
   },
   {
    "duration": 21,
    "start_time": "2023-03-22T08:40:37.524Z"
   },
   {
    "duration": 365,
    "start_time": "2023-03-22T08:43:38.562Z"
   },
   {
    "duration": 423,
    "start_time": "2023-03-22T08:45:55.756Z"
   },
   {
    "duration": 346,
    "start_time": "2023-03-22T08:46:02.635Z"
   },
   {
    "duration": 12,
    "start_time": "2023-03-22T08:46:09.226Z"
   },
   {
    "duration": 10,
    "start_time": "2023-03-22T08:51:40.655Z"
   },
   {
    "duration": 0,
    "start_time": "2023-03-22T08:53:19.409Z"
   },
   {
    "duration": 0,
    "start_time": "2023-03-22T08:53:19.410Z"
   },
   {
    "duration": 0,
    "start_time": "2023-03-22T08:53:19.412Z"
   },
   {
    "duration": 1,
    "start_time": "2023-03-22T08:53:19.412Z"
   },
   {
    "duration": 0,
    "start_time": "2023-03-22T08:53:19.414Z"
   },
   {
    "duration": 0,
    "start_time": "2023-03-22T08:53:19.415Z"
   },
   {
    "duration": 0,
    "start_time": "2023-03-22T08:53:19.416Z"
   },
   {
    "duration": 0,
    "start_time": "2023-03-22T08:53:19.417Z"
   },
   {
    "duration": 0,
    "start_time": "2023-03-22T08:53:19.418Z"
   },
   {
    "duration": 0,
    "start_time": "2023-03-22T08:53:19.419Z"
   },
   {
    "duration": 0,
    "start_time": "2023-03-22T08:53:19.420Z"
   },
   {
    "duration": 0,
    "start_time": "2023-03-22T08:53:19.421Z"
   },
   {
    "duration": 0,
    "start_time": "2023-03-22T08:53:19.422Z"
   },
   {
    "duration": 0,
    "start_time": "2023-03-22T08:53:19.423Z"
   },
   {
    "duration": 0,
    "start_time": "2023-03-22T08:53:19.424Z"
   },
   {
    "duration": 0,
    "start_time": "2023-03-22T08:53:19.424Z"
   },
   {
    "duration": 0,
    "start_time": "2023-03-22T08:53:19.426Z"
   },
   {
    "duration": 0,
    "start_time": "2023-03-22T08:53:19.427Z"
   },
   {
    "duration": 0,
    "start_time": "2023-03-22T08:53:19.428Z"
   },
   {
    "duration": 0,
    "start_time": "2023-03-22T08:53:19.429Z"
   },
   {
    "duration": 0,
    "start_time": "2023-03-22T08:53:19.430Z"
   },
   {
    "duration": 0,
    "start_time": "2023-03-22T08:53:19.431Z"
   },
   {
    "duration": 0,
    "start_time": "2023-03-22T08:53:19.432Z"
   },
   {
    "duration": 0,
    "start_time": "2023-03-22T08:53:19.433Z"
   },
   {
    "duration": 0,
    "start_time": "2023-03-22T08:53:19.433Z"
   },
   {
    "duration": 0,
    "start_time": "2023-03-22T08:53:19.434Z"
   },
   {
    "duration": 0,
    "start_time": "2023-03-22T08:53:19.436Z"
   },
   {
    "duration": 0,
    "start_time": "2023-03-22T08:53:19.436Z"
   },
   {
    "duration": 0,
    "start_time": "2023-03-22T08:53:19.438Z"
   },
   {
    "duration": 0,
    "start_time": "2023-03-22T08:53:19.439Z"
   },
   {
    "duration": 0,
    "start_time": "2023-03-22T08:53:19.440Z"
   },
   {
    "duration": 0,
    "start_time": "2023-03-22T08:53:19.440Z"
   },
   {
    "duration": 0,
    "start_time": "2023-03-22T08:53:19.442Z"
   },
   {
    "duration": 0,
    "start_time": "2023-03-22T08:53:19.443Z"
   },
   {
    "duration": 0,
    "start_time": "2023-03-22T08:53:19.444Z"
   },
   {
    "duration": 0,
    "start_time": "2023-03-22T08:53:19.445Z"
   },
   {
    "duration": 0,
    "start_time": "2023-03-22T08:53:19.446Z"
   },
   {
    "duration": 0,
    "start_time": "2023-03-22T08:53:19.447Z"
   },
   {
    "duration": 0,
    "start_time": "2023-03-22T08:53:19.448Z"
   },
   {
    "duration": 0,
    "start_time": "2023-03-22T08:53:19.449Z"
   },
   {
    "duration": 0,
    "start_time": "2023-03-22T08:53:19.450Z"
   },
   {
    "duration": 0,
    "start_time": "2023-03-22T08:53:19.451Z"
   },
   {
    "duration": 0,
    "start_time": "2023-03-22T08:53:19.452Z"
   },
   {
    "duration": 0,
    "start_time": "2023-03-22T08:53:19.453Z"
   },
   {
    "duration": 0,
    "start_time": "2023-03-22T08:53:19.455Z"
   },
   {
    "duration": 0,
    "start_time": "2023-03-22T08:53:19.456Z"
   },
   {
    "duration": 0,
    "start_time": "2023-03-22T08:53:19.457Z"
   },
   {
    "duration": 0,
    "start_time": "2023-03-22T08:53:19.458Z"
   },
   {
    "duration": 0,
    "start_time": "2023-03-22T08:53:19.459Z"
   },
   {
    "duration": 0,
    "start_time": "2023-03-22T08:53:19.460Z"
   },
   {
    "duration": 0,
    "start_time": "2023-03-22T08:53:19.461Z"
   },
   {
    "duration": 2556,
    "start_time": "2023-03-22T08:53:49.874Z"
   },
   {
    "duration": 10,
    "start_time": "2023-03-22T08:54:04.904Z"
   },
   {
    "duration": 11,
    "start_time": "2023-03-22T08:54:18.939Z"
   },
   {
    "duration": 8,
    "start_time": "2023-03-22T08:54:24.809Z"
   },
   {
    "duration": 0,
    "start_time": "2023-03-22T08:55:07.043Z"
   },
   {
    "duration": 0,
    "start_time": "2023-03-22T08:55:07.045Z"
   },
   {
    "duration": 0,
    "start_time": "2023-03-22T08:55:07.047Z"
   },
   {
    "duration": 0,
    "start_time": "2023-03-22T08:55:07.048Z"
   },
   {
    "duration": 0,
    "start_time": "2023-03-22T08:55:07.050Z"
   },
   {
    "duration": 0,
    "start_time": "2023-03-22T08:55:07.052Z"
   },
   {
    "duration": 0,
    "start_time": "2023-03-22T08:55:07.053Z"
   },
   {
    "duration": 0,
    "start_time": "2023-03-22T08:55:07.055Z"
   },
   {
    "duration": 0,
    "start_time": "2023-03-22T08:55:07.056Z"
   },
   {
    "duration": 0,
    "start_time": "2023-03-22T08:55:07.057Z"
   },
   {
    "duration": 0,
    "start_time": "2023-03-22T08:55:07.059Z"
   },
   {
    "duration": 0,
    "start_time": "2023-03-22T08:55:07.060Z"
   },
   {
    "duration": 0,
    "start_time": "2023-03-22T08:55:07.062Z"
   },
   {
    "duration": 0,
    "start_time": "2023-03-22T08:55:07.063Z"
   },
   {
    "duration": 0,
    "start_time": "2023-03-22T08:55:07.065Z"
   },
   {
    "duration": 0,
    "start_time": "2023-03-22T08:55:07.066Z"
   },
   {
    "duration": 0,
    "start_time": "2023-03-22T08:55:07.067Z"
   },
   {
    "duration": 0,
    "start_time": "2023-03-22T08:55:07.068Z"
   },
   {
    "duration": 0,
    "start_time": "2023-03-22T08:55:07.069Z"
   },
   {
    "duration": 0,
    "start_time": "2023-03-22T08:55:07.070Z"
   },
   {
    "duration": 0,
    "start_time": "2023-03-22T08:55:07.071Z"
   },
   {
    "duration": 0,
    "start_time": "2023-03-22T08:55:07.072Z"
   },
   {
    "duration": 0,
    "start_time": "2023-03-22T08:55:07.073Z"
   },
   {
    "duration": 0,
    "start_time": "2023-03-22T08:55:07.074Z"
   },
   {
    "duration": 0,
    "start_time": "2023-03-22T08:55:07.075Z"
   },
   {
    "duration": 0,
    "start_time": "2023-03-22T08:55:07.076Z"
   },
   {
    "duration": 0,
    "start_time": "2023-03-22T08:55:07.077Z"
   },
   {
    "duration": 0,
    "start_time": "2023-03-22T08:55:07.079Z"
   },
   {
    "duration": 0,
    "start_time": "2023-03-22T08:55:07.080Z"
   },
   {
    "duration": 0,
    "start_time": "2023-03-22T08:55:07.081Z"
   },
   {
    "duration": 0,
    "start_time": "2023-03-22T08:55:07.141Z"
   },
   {
    "duration": 0,
    "start_time": "2023-03-22T08:55:07.142Z"
   },
   {
    "duration": 0,
    "start_time": "2023-03-22T08:55:07.144Z"
   },
   {
    "duration": 0,
    "start_time": "2023-03-22T08:55:07.145Z"
   },
   {
    "duration": 0,
    "start_time": "2023-03-22T08:55:07.146Z"
   },
   {
    "duration": 0,
    "start_time": "2023-03-22T08:55:07.147Z"
   },
   {
    "duration": 0,
    "start_time": "2023-03-22T08:55:07.148Z"
   },
   {
    "duration": 0,
    "start_time": "2023-03-22T08:55:07.149Z"
   },
   {
    "duration": 0,
    "start_time": "2023-03-22T08:55:07.150Z"
   },
   {
    "duration": 0,
    "start_time": "2023-03-22T08:55:07.151Z"
   },
   {
    "duration": 0,
    "start_time": "2023-03-22T08:55:07.152Z"
   },
   {
    "duration": 0,
    "start_time": "2023-03-22T08:55:07.153Z"
   },
   {
    "duration": 0,
    "start_time": "2023-03-22T08:55:07.154Z"
   },
   {
    "duration": 0,
    "start_time": "2023-03-22T08:55:07.155Z"
   },
   {
    "duration": 0,
    "start_time": "2023-03-22T08:55:07.156Z"
   },
   {
    "duration": 0,
    "start_time": "2023-03-22T08:55:07.157Z"
   },
   {
    "duration": 0,
    "start_time": "2023-03-22T08:55:07.158Z"
   },
   {
    "duration": 0,
    "start_time": "2023-03-22T08:55:07.159Z"
   },
   {
    "duration": 0,
    "start_time": "2023-03-22T08:55:07.160Z"
   },
   {
    "duration": 0,
    "start_time": "2023-03-22T08:55:07.161Z"
   },
   {
    "duration": 0,
    "start_time": "2023-03-22T08:55:07.162Z"
   },
   {
    "duration": 0,
    "start_time": "2023-03-22T08:55:07.163Z"
   },
   {
    "duration": 4,
    "start_time": "2023-03-22T08:55:36.450Z"
   },
   {
    "duration": 43,
    "start_time": "2023-03-22T08:55:36.456Z"
   },
   {
    "duration": 8,
    "start_time": "2023-03-22T08:55:36.501Z"
   },
   {
    "duration": 13,
    "start_time": "2023-03-22T08:55:36.511Z"
   },
   {
    "duration": 7,
    "start_time": "2023-03-22T08:55:36.526Z"
   },
   {
    "duration": 24,
    "start_time": "2023-03-22T08:55:36.535Z"
   },
   {
    "duration": 13,
    "start_time": "2023-03-22T08:55:36.561Z"
   },
   {
    "duration": 43,
    "start_time": "2023-03-22T08:55:36.576Z"
   },
   {
    "duration": 18,
    "start_time": "2023-03-22T08:55:36.621Z"
   },
   {
    "duration": 9,
    "start_time": "2023-03-22T08:55:36.641Z"
   },
   {
    "duration": 50,
    "start_time": "2023-03-22T08:55:36.652Z"
   },
   {
    "duration": 16,
    "start_time": "2023-03-22T08:55:36.704Z"
   },
   {
    "duration": 26,
    "start_time": "2023-03-22T08:55:36.722Z"
   },
   {
    "duration": 12,
    "start_time": "2023-03-22T08:55:36.753Z"
   },
   {
    "duration": 9,
    "start_time": "2023-03-22T08:55:36.767Z"
   },
   {
    "duration": 12,
    "start_time": "2023-03-22T08:55:36.777Z"
   },
   {
    "duration": 10,
    "start_time": "2023-03-22T08:55:36.790Z"
   },
   {
    "duration": 14,
    "start_time": "2023-03-22T08:55:36.801Z"
   },
   {
    "duration": 28,
    "start_time": "2023-03-22T08:55:36.817Z"
   },
   {
    "duration": 11,
    "start_time": "2023-03-22T08:55:36.847Z"
   },
   {
    "duration": 22,
    "start_time": "2023-03-22T08:55:36.859Z"
   },
   {
    "duration": 18,
    "start_time": "2023-03-22T08:55:36.882Z"
   },
   {
    "duration": 9,
    "start_time": "2023-03-22T08:55:36.902Z"
   },
   {
    "duration": 37,
    "start_time": "2023-03-22T08:55:36.913Z"
   },
   {
    "duration": 18,
    "start_time": "2023-03-22T08:55:36.951Z"
   },
   {
    "duration": 22,
    "start_time": "2023-03-22T08:55:36.971Z"
   },
   {
    "duration": 16,
    "start_time": "2023-03-22T08:55:36.995Z"
   },
   {
    "duration": 21,
    "start_time": "2023-03-22T08:55:37.013Z"
   },
   {
    "duration": 26,
    "start_time": "2023-03-22T08:55:37.036Z"
   },
   {
    "duration": 225,
    "start_time": "2023-03-22T08:55:37.064Z"
   },
   {
    "duration": 200,
    "start_time": "2023-03-22T08:55:37.291Z"
   },
   {
    "duration": 61,
    "start_time": "2023-03-22T08:55:37.493Z"
   },
   {
    "duration": 22,
    "start_time": "2023-03-22T08:55:37.555Z"
   },
   {
    "duration": 274,
    "start_time": "2023-03-22T08:55:37.579Z"
   },
   {
    "duration": 281,
    "start_time": "2023-03-22T08:55:37.855Z"
   },
   {
    "duration": 352,
    "start_time": "2023-03-22T08:55:38.138Z"
   },
   {
    "duration": 279,
    "start_time": "2023-03-22T08:55:38.491Z"
   },
   {
    "duration": 364,
    "start_time": "2023-03-22T08:55:38.772Z"
   },
   {
    "duration": 13,
    "start_time": "2023-03-22T08:55:39.141Z"
   },
   {
    "duration": 16,
    "start_time": "2023-03-22T08:55:39.156Z"
   },
   {
    "duration": 224,
    "start_time": "2023-03-22T08:55:39.176Z"
   },
   {
    "duration": 219,
    "start_time": "2023-03-22T08:55:39.401Z"
   },
   {
    "duration": 5,
    "start_time": "2023-03-22T08:55:39.621Z"
   },
   {
    "duration": 217,
    "start_time": "2023-03-22T08:55:39.640Z"
   },
   {
    "duration": 216,
    "start_time": "2023-03-22T08:55:39.859Z"
   },
   {
    "duration": 5,
    "start_time": "2023-03-22T08:55:40.077Z"
   },
   {
    "duration": 31,
    "start_time": "2023-03-22T08:55:40.083Z"
   },
   {
    "duration": 363,
    "start_time": "2023-03-22T08:55:40.116Z"
   },
   {
    "duration": 11,
    "start_time": "2023-03-22T08:55:40.481Z"
   },
   {
    "duration": 41,
    "start_time": "2023-03-22T08:55:40.494Z"
   },
   {
    "duration": 34,
    "start_time": "2023-03-22T08:55:40.537Z"
   },
   {
    "duration": 15,
    "start_time": "2023-03-22T08:55:40.573Z"
   },
   {
    "duration": 10,
    "start_time": "2023-03-22T08:56:41.306Z"
   },
   {
    "duration": 3,
    "start_time": "2023-03-22T08:56:54.610Z"
   },
   {
    "duration": 34,
    "start_time": "2023-03-22T08:56:54.615Z"
   },
   {
    "duration": 8,
    "start_time": "2023-03-22T08:56:54.651Z"
   },
   {
    "duration": 14,
    "start_time": "2023-03-22T08:56:54.661Z"
   },
   {
    "duration": 8,
    "start_time": "2023-03-22T08:56:54.679Z"
   },
   {
    "duration": 12,
    "start_time": "2023-03-22T08:56:54.689Z"
   },
   {
    "duration": 11,
    "start_time": "2023-03-22T08:56:54.703Z"
   },
   {
    "duration": 41,
    "start_time": "2023-03-22T08:56:54.740Z"
   },
   {
    "duration": 16,
    "start_time": "2023-03-22T08:56:54.783Z"
   },
   {
    "duration": 8,
    "start_time": "2023-03-22T08:56:54.801Z"
   },
   {
    "duration": 19,
    "start_time": "2023-03-22T08:56:54.811Z"
   },
   {
    "duration": 11,
    "start_time": "2023-03-22T08:56:54.832Z"
   },
   {
    "duration": 28,
    "start_time": "2023-03-22T08:56:54.846Z"
   },
   {
    "duration": 12,
    "start_time": "2023-03-22T08:56:54.877Z"
   },
   {
    "duration": 12,
    "start_time": "2023-03-22T08:56:54.891Z"
   },
   {
    "duration": 26,
    "start_time": "2023-03-22T08:56:54.905Z"
   },
   {
    "duration": 20,
    "start_time": "2023-03-22T08:56:54.933Z"
   },
   {
    "duration": 6,
    "start_time": "2023-03-22T08:56:54.955Z"
   },
   {
    "duration": 18,
    "start_time": "2023-03-22T08:56:54.963Z"
   },
   {
    "duration": 8,
    "start_time": "2023-03-22T08:56:54.983Z"
   },
   {
    "duration": 23,
    "start_time": "2023-03-22T08:56:54.993Z"
   },
   {
    "duration": 23,
    "start_time": "2023-03-22T08:56:55.018Z"
   },
   {
    "duration": 15,
    "start_time": "2023-03-22T08:56:55.044Z"
   },
   {
    "duration": 14,
    "start_time": "2023-03-22T08:56:55.061Z"
   },
   {
    "duration": 18,
    "start_time": "2023-03-22T08:56:55.077Z"
   },
   {
    "duration": 36,
    "start_time": "2023-03-22T08:56:55.097Z"
   },
   {
    "duration": 13,
    "start_time": "2023-03-22T08:56:55.135Z"
   },
   {
    "duration": 31,
    "start_time": "2023-03-22T08:56:55.150Z"
   },
   {
    "duration": 12,
    "start_time": "2023-03-22T08:56:55.183Z"
   },
   {
    "duration": 195,
    "start_time": "2023-03-22T08:56:55.198Z"
   },
   {
    "duration": 146,
    "start_time": "2023-03-22T08:56:55.395Z"
   },
   {
    "duration": 16,
    "start_time": "2023-03-22T08:56:55.543Z"
   },
   {
    "duration": 9,
    "start_time": "2023-03-22T08:56:55.561Z"
   },
   {
    "duration": 288,
    "start_time": "2023-03-22T08:56:55.572Z"
   },
   {
    "duration": 360,
    "start_time": "2023-03-22T08:56:55.862Z"
   },
   {
    "duration": 493,
    "start_time": "2023-03-22T08:56:56.224Z"
   },
   {
    "duration": 293,
    "start_time": "2023-03-22T08:56:56.719Z"
   },
   {
    "duration": 416,
    "start_time": "2023-03-22T08:56:57.014Z"
   },
   {
    "duration": 21,
    "start_time": "2023-03-22T08:56:57.432Z"
   },
   {
    "duration": 23,
    "start_time": "2023-03-22T08:56:57.455Z"
   },
   {
    "duration": 217,
    "start_time": "2023-03-22T08:56:57.484Z"
   },
   {
    "duration": 223,
    "start_time": "2023-03-22T08:56:57.703Z"
   },
   {
    "duration": 17,
    "start_time": "2023-03-22T08:56:57.928Z"
   },
   {
    "duration": 221,
    "start_time": "2023-03-22T08:56:57.947Z"
   },
   {
    "duration": 218,
    "start_time": "2023-03-22T08:56:58.170Z"
   },
   {
    "duration": 6,
    "start_time": "2023-03-22T08:56:58.390Z"
   },
   {
    "duration": 26,
    "start_time": "2023-03-22T08:56:58.398Z"
   },
   {
    "duration": 406,
    "start_time": "2023-03-22T08:56:58.426Z"
   },
   {
    "duration": 17,
    "start_time": "2023-03-22T08:56:58.841Z"
   },
   {
    "duration": 13,
    "start_time": "2023-03-22T08:56:58.860Z"
   },
   {
    "duration": 19,
    "start_time": "2023-03-22T08:56:58.875Z"
   },
   {
    "duration": 2305,
    "start_time": "2023-03-22T08:56:58.897Z"
   },
   {
    "duration": 0,
    "start_time": "2023-03-22T08:57:01.204Z"
   },
   {
    "duration": 4,
    "start_time": "2023-03-22T08:57:29.810Z"
   },
   {
    "duration": 34,
    "start_time": "2023-03-22T08:57:29.816Z"
   },
   {
    "duration": 11,
    "start_time": "2023-03-22T08:57:29.852Z"
   },
   {
    "duration": 25,
    "start_time": "2023-03-22T08:57:29.865Z"
   },
   {
    "duration": 14,
    "start_time": "2023-03-22T08:57:29.893Z"
   },
   {
    "duration": 18,
    "start_time": "2023-03-22T08:57:29.909Z"
   },
   {
    "duration": 26,
    "start_time": "2023-03-22T08:57:29.930Z"
   },
   {
    "duration": 53,
    "start_time": "2023-03-22T08:57:29.958Z"
   },
   {
    "duration": 17,
    "start_time": "2023-03-22T08:57:30.013Z"
   },
   {
    "duration": 61,
    "start_time": "2023-03-22T08:57:30.032Z"
   },
   {
    "duration": 65,
    "start_time": "2023-03-22T08:57:30.095Z"
   },
   {
    "duration": 48,
    "start_time": "2023-03-22T08:57:30.162Z"
   },
   {
    "duration": 61,
    "start_time": "2023-03-22T08:57:30.212Z"
   },
   {
    "duration": 65,
    "start_time": "2023-03-22T08:57:30.276Z"
   },
   {
    "duration": 45,
    "start_time": "2023-03-22T08:57:30.343Z"
   },
   {
    "duration": 88,
    "start_time": "2023-03-22T08:57:30.390Z"
   },
   {
    "duration": 91,
    "start_time": "2023-03-22T08:57:30.479Z"
   },
   {
    "duration": 88,
    "start_time": "2023-03-22T08:57:30.572Z"
   },
   {
    "duration": 79,
    "start_time": "2023-03-22T08:57:30.663Z"
   },
   {
    "duration": 44,
    "start_time": "2023-03-22T08:57:30.744Z"
   },
   {
    "duration": 47,
    "start_time": "2023-03-22T08:57:30.791Z"
   },
   {
    "duration": 51,
    "start_time": "2023-03-22T08:57:30.840Z"
   },
   {
    "duration": 94,
    "start_time": "2023-03-22T08:57:30.894Z"
   },
   {
    "duration": 77,
    "start_time": "2023-03-22T08:57:30.990Z"
   },
   {
    "duration": 96,
    "start_time": "2023-03-22T08:57:31.069Z"
   },
   {
    "duration": 70,
    "start_time": "2023-03-22T08:57:31.167Z"
   },
   {
    "duration": 68,
    "start_time": "2023-03-22T08:57:31.240Z"
   },
   {
    "duration": 46,
    "start_time": "2023-03-22T08:57:31.311Z"
   },
   {
    "duration": 41,
    "start_time": "2023-03-22T08:57:31.359Z"
   },
   {
    "duration": 269,
    "start_time": "2023-03-22T08:57:31.402Z"
   },
   {
    "duration": 150,
    "start_time": "2023-03-22T08:57:31.673Z"
   },
   {
    "duration": 39,
    "start_time": "2023-03-22T08:57:31.825Z"
   },
   {
    "duration": 119,
    "start_time": "2023-03-22T08:57:31.866Z"
   },
   {
    "duration": 321,
    "start_time": "2023-03-22T08:57:31.987Z"
   },
   {
    "duration": 279,
    "start_time": "2023-03-22T08:57:32.310Z"
   },
   {
    "duration": 332,
    "start_time": "2023-03-22T08:57:32.590Z"
   },
   {
    "duration": 297,
    "start_time": "2023-03-22T08:57:32.924Z"
   },
   {
    "duration": 403,
    "start_time": "2023-03-22T08:57:33.223Z"
   },
   {
    "duration": 18,
    "start_time": "2023-03-22T08:57:33.628Z"
   },
   {
    "duration": 45,
    "start_time": "2023-03-22T08:57:33.648Z"
   },
   {
    "duration": 218,
    "start_time": "2023-03-22T08:57:33.698Z"
   },
   {
    "duration": 226,
    "start_time": "2023-03-22T08:57:33.918Z"
   },
   {
    "duration": 6,
    "start_time": "2023-03-22T08:57:34.146Z"
   },
   {
    "duration": 234,
    "start_time": "2023-03-22T08:57:34.153Z"
   },
   {
    "duration": 246,
    "start_time": "2023-03-22T08:57:34.390Z"
   },
   {
    "duration": 8,
    "start_time": "2023-03-22T08:57:34.639Z"
   },
   {
    "duration": 23,
    "start_time": "2023-03-22T08:57:34.649Z"
   },
   {
    "duration": 390,
    "start_time": "2023-03-22T08:57:34.674Z"
   },
   {
    "duration": 13,
    "start_time": "2023-03-22T08:57:35.066Z"
   },
   {
    "duration": 47,
    "start_time": "2023-03-22T08:57:35.082Z"
   },
   {
    "duration": 25,
    "start_time": "2023-03-22T08:57:35.131Z"
   },
   {
    "duration": 46,
    "start_time": "2023-03-22T08:57:35.158Z"
   },
   {
    "duration": 46,
    "start_time": "2023-03-22T08:57:35.207Z"
   },
   {
    "duration": 16,
    "start_time": "2023-03-22T08:59:32.736Z"
   },
   {
    "duration": 46,
    "start_time": "2023-03-23T06:47:56.706Z"
   },
   {
    "duration": 7,
    "start_time": "2023-03-23T06:48:26.034Z"
   },
   {
    "duration": 1202,
    "start_time": "2023-03-23T06:48:29.093Z"
   },
   {
    "duration": 141,
    "start_time": "2023-03-23T06:48:30.298Z"
   },
   {
    "duration": 13,
    "start_time": "2023-03-23T06:48:30.441Z"
   },
   {
    "duration": 22,
    "start_time": "2023-03-23T06:48:30.456Z"
   },
   {
    "duration": 32,
    "start_time": "2023-03-23T06:48:30.480Z"
   },
   {
    "duration": 41,
    "start_time": "2023-03-23T06:48:30.514Z"
   },
   {
    "duration": 23,
    "start_time": "2023-03-23T06:48:30.557Z"
   },
   {
    "duration": 96,
    "start_time": "2023-03-23T06:48:30.582Z"
   },
   {
    "duration": 67,
    "start_time": "2023-03-23T06:48:30.680Z"
   },
   {
    "duration": 9,
    "start_time": "2023-03-23T06:48:30.749Z"
   },
   {
    "duration": 49,
    "start_time": "2023-03-23T06:48:30.760Z"
   },
   {
    "duration": 30,
    "start_time": "2023-03-23T06:48:30.810Z"
   },
   {
    "duration": 32,
    "start_time": "2023-03-23T06:48:30.841Z"
   },
   {
    "duration": 34,
    "start_time": "2023-03-23T06:48:30.876Z"
   },
   {
    "duration": 64,
    "start_time": "2023-03-23T06:48:30.912Z"
   },
   {
    "duration": 69,
    "start_time": "2023-03-23T06:48:30.978Z"
   },
   {
    "duration": 64,
    "start_time": "2023-03-23T06:48:31.049Z"
   },
   {
    "duration": 66,
    "start_time": "2023-03-23T06:48:31.114Z"
   },
   {
    "duration": 31,
    "start_time": "2023-03-23T06:48:31.182Z"
   },
   {
    "duration": 22,
    "start_time": "2023-03-23T06:48:31.215Z"
   },
   {
    "duration": 33,
    "start_time": "2023-03-23T06:48:31.239Z"
   },
   {
    "duration": 46,
    "start_time": "2023-03-23T06:48:31.273Z"
   },
   {
    "duration": 35,
    "start_time": "2023-03-23T06:48:31.320Z"
   },
   {
    "duration": 32,
    "start_time": "2023-03-23T06:48:31.357Z"
   },
   {
    "duration": 30,
    "start_time": "2023-03-23T06:48:31.391Z"
   },
   {
    "duration": 42,
    "start_time": "2023-03-23T06:48:31.422Z"
   },
   {
    "duration": 29,
    "start_time": "2023-03-23T06:48:31.466Z"
   },
   {
    "duration": 54,
    "start_time": "2023-03-23T06:48:31.497Z"
   },
   {
    "duration": 39,
    "start_time": "2023-03-23T06:48:31.553Z"
   },
   {
    "duration": 228,
    "start_time": "2023-03-23T06:48:31.594Z"
   },
   {
    "duration": 140,
    "start_time": "2023-03-23T06:48:31.823Z"
   },
   {
    "duration": 13,
    "start_time": "2023-03-23T06:48:31.965Z"
   },
   {
    "duration": 6,
    "start_time": "2023-03-23T06:48:31.980Z"
   },
   {
    "duration": 341,
    "start_time": "2023-03-23T06:48:31.988Z"
   },
   {
    "duration": 268,
    "start_time": "2023-03-23T06:48:32.331Z"
   },
   {
    "duration": 381,
    "start_time": "2023-03-23T06:48:32.601Z"
   },
   {
    "duration": 278,
    "start_time": "2023-03-23T06:48:32.984Z"
   },
   {
    "duration": 381,
    "start_time": "2023-03-23T06:48:33.263Z"
   },
   {
    "duration": 16,
    "start_time": "2023-03-23T06:48:33.646Z"
   },
   {
    "duration": 9,
    "start_time": "2023-03-23T06:48:33.665Z"
   },
   {
    "duration": 209,
    "start_time": "2023-03-23T06:48:33.678Z"
   },
   {
    "duration": 232,
    "start_time": "2023-03-23T06:48:33.889Z"
   },
   {
    "duration": 8,
    "start_time": "2023-03-23T06:48:34.123Z"
   },
   {
    "duration": 207,
    "start_time": "2023-03-23T06:48:34.133Z"
   },
   {
    "duration": 182,
    "start_time": "2023-03-23T06:48:34.341Z"
   },
   {
    "duration": 5,
    "start_time": "2023-03-23T06:48:34.524Z"
   },
   {
    "duration": 11,
    "start_time": "2023-03-23T06:48:34.531Z"
   },
   {
    "duration": 428,
    "start_time": "2023-03-23T06:48:34.544Z"
   },
   {
    "duration": 11,
    "start_time": "2023-03-23T06:48:34.974Z"
   },
   {
    "duration": 9,
    "start_time": "2023-03-23T06:48:34.987Z"
   },
   {
    "duration": 24,
    "start_time": "2023-03-23T06:48:34.998Z"
   },
   {
    "duration": 16,
    "start_time": "2023-03-23T06:48:35.023Z"
   },
   {
    "duration": 23,
    "start_time": "2023-03-23T06:48:35.063Z"
   },
   {
    "duration": 15,
    "start_time": "2023-03-23T06:48:35.088Z"
   },
   {
    "duration": 8,
    "start_time": "2023-03-23T07:40:46.692Z"
   },
   {
    "duration": 3,
    "start_time": "2023-03-23T07:40:50.071Z"
   },
   {
    "duration": 31,
    "start_time": "2023-03-23T07:40:50.076Z"
   },
   {
    "duration": 7,
    "start_time": "2023-03-23T07:40:50.109Z"
   },
   {
    "duration": 5,
    "start_time": "2023-03-23T07:40:50.118Z"
   },
   {
    "duration": 12,
    "start_time": "2023-03-23T07:40:50.125Z"
   },
   {
    "duration": 18,
    "start_time": "2023-03-23T07:40:50.139Z"
   },
   {
    "duration": 23,
    "start_time": "2023-03-23T07:40:50.158Z"
   },
   {
    "duration": 63,
    "start_time": "2023-03-23T07:40:50.182Z"
   },
   {
    "duration": 15,
    "start_time": "2023-03-23T07:40:50.247Z"
   },
   {
    "duration": 8,
    "start_time": "2023-03-23T07:40:50.264Z"
   },
   {
    "duration": 26,
    "start_time": "2023-03-23T07:40:50.273Z"
   },
   {
    "duration": 24,
    "start_time": "2023-03-23T07:40:50.300Z"
   },
   {
    "duration": 26,
    "start_time": "2023-03-23T07:40:50.326Z"
   },
   {
    "duration": 6,
    "start_time": "2023-03-23T07:40:50.355Z"
   },
   {
    "duration": 7,
    "start_time": "2023-03-23T07:40:50.363Z"
   },
   {
    "duration": 28,
    "start_time": "2023-03-23T07:40:50.372Z"
   },
   {
    "duration": 23,
    "start_time": "2023-03-23T07:40:50.402Z"
   },
   {
    "duration": 5,
    "start_time": "2023-03-23T07:40:50.427Z"
   },
   {
    "duration": 14,
    "start_time": "2023-03-23T07:40:50.433Z"
   },
   {
    "duration": 8,
    "start_time": "2023-03-23T07:40:50.448Z"
   },
   {
    "duration": 8,
    "start_time": "2023-03-23T07:40:50.457Z"
   },
   {
    "duration": 12,
    "start_time": "2023-03-23T07:40:50.466Z"
   },
   {
    "duration": 10,
    "start_time": "2023-03-23T07:40:50.481Z"
   },
   {
    "duration": 10,
    "start_time": "2023-03-23T07:40:50.492Z"
   },
   {
    "duration": 10,
    "start_time": "2023-03-23T07:40:50.503Z"
   },
   {
    "duration": 24,
    "start_time": "2023-03-23T07:40:50.514Z"
   },
   {
    "duration": 10,
    "start_time": "2023-03-23T07:40:50.540Z"
   },
   {
    "duration": 10,
    "start_time": "2023-03-23T07:40:50.552Z"
   },
   {
    "duration": 19,
    "start_time": "2023-03-23T07:40:50.563Z"
   },
   {
    "duration": 13,
    "start_time": "2023-03-23T07:40:50.585Z"
   },
   {
    "duration": 303,
    "start_time": "2023-03-23T07:40:50.599Z"
   },
   {
    "duration": 141,
    "start_time": "2023-03-23T07:40:50.904Z"
   },
   {
    "duration": 25,
    "start_time": "2023-03-23T07:40:51.047Z"
   },
   {
    "duration": 7,
    "start_time": "2023-03-23T07:40:51.073Z"
   },
   {
    "duration": 271,
    "start_time": "2023-03-23T07:40:51.082Z"
   },
   {
    "duration": 273,
    "start_time": "2023-03-23T07:40:51.355Z"
   },
   {
    "duration": 356,
    "start_time": "2023-03-23T07:40:51.629Z"
   },
   {
    "duration": 270,
    "start_time": "2023-03-23T07:40:51.987Z"
   },
   {
    "duration": 390,
    "start_time": "2023-03-23T07:40:52.258Z"
   },
   {
    "duration": 18,
    "start_time": "2023-03-23T07:40:52.650Z"
   },
   {
    "duration": 10,
    "start_time": "2023-03-23T07:40:52.672Z"
   },
   {
    "duration": 215,
    "start_time": "2023-03-23T07:40:52.684Z"
   },
   {
    "duration": 221,
    "start_time": "2023-03-23T07:40:52.901Z"
   },
   {
    "duration": 5,
    "start_time": "2023-03-23T07:40:53.124Z"
   },
   {
    "duration": 195,
    "start_time": "2023-03-23T07:40:53.132Z"
   },
   {
    "duration": 229,
    "start_time": "2023-03-23T07:40:53.329Z"
   },
   {
    "duration": 5,
    "start_time": "2023-03-23T07:40:53.561Z"
   },
   {
    "duration": 27,
    "start_time": "2023-03-23T07:40:53.567Z"
   },
   {
    "duration": 404,
    "start_time": "2023-03-23T07:40:53.596Z"
   },
   {
    "duration": 13,
    "start_time": "2023-03-23T07:40:54.002Z"
   },
   {
    "duration": 12,
    "start_time": "2023-03-23T07:40:54.017Z"
   },
   {
    "duration": 38,
    "start_time": "2023-03-23T07:40:54.031Z"
   },
   {
    "duration": 18,
    "start_time": "2023-03-23T07:40:54.071Z"
   },
   {
    "duration": 31,
    "start_time": "2023-03-23T07:40:54.092Z"
   },
   {
    "duration": 42,
    "start_time": "2023-03-23T07:40:54.125Z"
   },
   {
    "duration": 11,
    "start_time": "2023-03-23T07:54:37.186Z"
   },
   {
    "duration": 3,
    "start_time": "2023-03-23T07:54:41.517Z"
   },
   {
    "duration": 27,
    "start_time": "2023-03-23T07:54:41.522Z"
   },
   {
    "duration": 8,
    "start_time": "2023-03-23T07:54:41.550Z"
   },
   {
    "duration": 5,
    "start_time": "2023-03-23T07:54:41.561Z"
   },
   {
    "duration": 12,
    "start_time": "2023-03-23T07:54:41.567Z"
   },
   {
    "duration": 12,
    "start_time": "2023-03-23T07:54:41.581Z"
   },
   {
    "duration": 9,
    "start_time": "2023-03-23T07:54:41.595Z"
   },
   {
    "duration": 36,
    "start_time": "2023-03-23T07:54:41.605Z"
   },
   {
    "duration": 14,
    "start_time": "2023-03-23T07:54:41.644Z"
   },
   {
    "duration": 8,
    "start_time": "2023-03-23T07:54:41.660Z"
   },
   {
    "duration": 19,
    "start_time": "2023-03-23T07:54:41.669Z"
   },
   {
    "duration": 5,
    "start_time": "2023-03-23T07:54:41.690Z"
   },
   {
    "duration": 15,
    "start_time": "2023-03-23T07:54:41.696Z"
   },
   {
    "duration": 11,
    "start_time": "2023-03-23T07:54:41.713Z"
   },
   {
    "duration": 14,
    "start_time": "2023-03-23T07:54:41.726Z"
   },
   {
    "duration": 23,
    "start_time": "2023-03-23T07:54:41.742Z"
   },
   {
    "duration": 6,
    "start_time": "2023-03-23T07:54:41.766Z"
   },
   {
    "duration": 12,
    "start_time": "2023-03-23T07:54:41.773Z"
   },
   {
    "duration": 8,
    "start_time": "2023-03-23T07:54:41.787Z"
   },
   {
    "duration": 15,
    "start_time": "2023-03-23T07:54:41.796Z"
   },
   {
    "duration": 10,
    "start_time": "2023-03-23T07:54:41.813Z"
   },
   {
    "duration": 11,
    "start_time": "2023-03-23T07:54:41.825Z"
   },
   {
    "duration": 26,
    "start_time": "2023-03-23T07:54:41.837Z"
   },
   {
    "duration": 8,
    "start_time": "2023-03-23T07:54:41.866Z"
   },
   {
    "duration": 11,
    "start_time": "2023-03-23T07:54:41.876Z"
   },
   {
    "duration": 10,
    "start_time": "2023-03-23T07:54:41.889Z"
   },
   {
    "duration": 12,
    "start_time": "2023-03-23T07:54:41.901Z"
   },
   {
    "duration": 11,
    "start_time": "2023-03-23T07:54:41.915Z"
   },
   {
    "duration": 35,
    "start_time": "2023-03-23T07:54:41.927Z"
   },
   {
    "duration": 194,
    "start_time": "2023-03-23T07:54:41.964Z"
   },
   {
    "duration": 135,
    "start_time": "2023-03-23T07:54:42.160Z"
   },
   {
    "duration": 12,
    "start_time": "2023-03-23T07:54:42.297Z"
   },
   {
    "duration": 7,
    "start_time": "2023-03-23T07:54:42.310Z"
   },
   {
    "duration": 280,
    "start_time": "2023-03-23T07:54:42.319Z"
   },
   {
    "duration": 356,
    "start_time": "2023-03-23T07:54:42.601Z"
   },
   {
    "duration": 330,
    "start_time": "2023-03-23T07:54:42.959Z"
   },
   {
    "duration": 270,
    "start_time": "2023-03-23T07:54:43.292Z"
   },
   {
    "duration": 366,
    "start_time": "2023-03-23T07:54:43.563Z"
   },
   {
    "duration": 14,
    "start_time": "2023-03-23T07:54:43.930Z"
   },
   {
    "duration": 24,
    "start_time": "2023-03-23T07:54:43.947Z"
   },
   {
    "duration": 248,
    "start_time": "2023-03-23T07:54:43.973Z"
   },
   {
    "duration": 189,
    "start_time": "2023-03-23T07:54:44.222Z"
   },
   {
    "duration": 5,
    "start_time": "2023-03-23T07:54:44.413Z"
   },
   {
    "duration": 191,
    "start_time": "2023-03-23T07:54:44.419Z"
   },
   {
    "duration": 202,
    "start_time": "2023-03-23T07:54:44.611Z"
   },
   {
    "duration": 6,
    "start_time": "2023-03-23T07:54:44.814Z"
   },
   {
    "duration": 14,
    "start_time": "2023-03-23T07:54:44.821Z"
   },
   {
    "duration": 351,
    "start_time": "2023-03-23T07:54:44.836Z"
   },
   {
    "duration": 9,
    "start_time": "2023-03-23T07:54:45.189Z"
   },
   {
    "duration": 8,
    "start_time": "2023-03-23T07:54:45.200Z"
   },
   {
    "duration": 11,
    "start_time": "2023-03-23T07:54:45.209Z"
   },
   {
    "duration": 43,
    "start_time": "2023-03-23T07:54:45.222Z"
   },
   {
    "duration": 21,
    "start_time": "2023-03-23T07:54:45.267Z"
   },
   {
    "duration": 14,
    "start_time": "2023-03-23T07:54:45.290Z"
   },
   {
    "duration": 72,
    "start_time": "2023-03-23T08:14:37.752Z"
   },
   {
    "duration": 3,
    "start_time": "2023-03-23T08:15:52.727Z"
   },
   {
    "duration": 28,
    "start_time": "2023-03-23T08:15:52.733Z"
   },
   {
    "duration": 9,
    "start_time": "2023-03-23T08:15:52.762Z"
   },
   {
    "duration": 6,
    "start_time": "2023-03-23T08:15:52.773Z"
   },
   {
    "duration": 13,
    "start_time": "2023-03-23T08:15:52.782Z"
   },
   {
    "duration": 17,
    "start_time": "2023-03-23T08:15:52.797Z"
   },
   {
    "duration": 11,
    "start_time": "2023-03-23T08:15:52.816Z"
   },
   {
    "duration": 78,
    "start_time": "2023-03-23T08:15:52.828Z"
   },
   {
    "duration": 15,
    "start_time": "2023-03-23T08:15:52.908Z"
   },
   {
    "duration": 9,
    "start_time": "2023-03-23T08:15:52.925Z"
   },
   {
    "duration": 12,
    "start_time": "2023-03-23T08:15:52.936Z"
   },
   {
    "duration": 8,
    "start_time": "2023-03-23T08:15:52.950Z"
   },
   {
    "duration": 15,
    "start_time": "2023-03-23T08:15:52.961Z"
   },
   {
    "duration": 18,
    "start_time": "2023-03-23T08:15:52.980Z"
   },
   {
    "duration": 15,
    "start_time": "2023-03-23T08:15:53.000Z"
   },
   {
    "duration": 12,
    "start_time": "2023-03-23T08:15:53.017Z"
   },
   {
    "duration": 23,
    "start_time": "2023-03-23T08:15:53.031Z"
   },
   {
    "duration": 29,
    "start_time": "2023-03-23T08:15:53.056Z"
   },
   {
    "duration": 36,
    "start_time": "2023-03-23T08:15:53.088Z"
   },
   {
    "duration": 21,
    "start_time": "2023-03-23T08:15:53.126Z"
   },
   {
    "duration": 29,
    "start_time": "2023-03-23T08:15:53.149Z"
   },
   {
    "duration": 11,
    "start_time": "2023-03-23T08:15:53.180Z"
   },
   {
    "duration": 16,
    "start_time": "2023-03-23T08:15:53.193Z"
   },
   {
    "duration": 21,
    "start_time": "2023-03-23T08:15:53.211Z"
   },
   {
    "duration": 14,
    "start_time": "2023-03-23T08:15:53.233Z"
   },
   {
    "duration": 13,
    "start_time": "2023-03-23T08:15:53.248Z"
   },
   {
    "duration": 14,
    "start_time": "2023-03-23T08:15:53.263Z"
   },
   {
    "duration": 216,
    "start_time": "2023-03-23T08:15:53.278Z"
   },
   {
    "duration": 142,
    "start_time": "2023-03-23T08:15:53.496Z"
   },
   {
    "duration": 12,
    "start_time": "2023-03-23T08:15:53.640Z"
   },
   {
    "duration": 33,
    "start_time": "2023-03-23T08:15:53.663Z"
   },
   {
    "duration": 48,
    "start_time": "2023-03-23T08:15:53.698Z"
   },
   {
    "duration": 370,
    "start_time": "2023-03-23T08:15:53.748Z"
   },
   {
    "duration": 328,
    "start_time": "2023-03-23T08:15:54.126Z"
   },
   {
    "duration": 368,
    "start_time": "2023-03-23T08:15:54.456Z"
   },
   {
    "duration": 345,
    "start_time": "2023-03-23T08:15:54.827Z"
   },
   {
    "duration": 434,
    "start_time": "2023-03-23T08:15:55.174Z"
   },
   {
    "duration": 19,
    "start_time": "2023-03-23T08:15:55.610Z"
   },
   {
    "duration": 30,
    "start_time": "2023-03-23T08:15:55.631Z"
   },
   {
    "duration": 331,
    "start_time": "2023-03-23T08:15:55.664Z"
   },
   {
    "duration": 235,
    "start_time": "2023-03-23T08:15:56.001Z"
   },
   {
    "duration": 5,
    "start_time": "2023-03-23T08:15:56.238Z"
   },
   {
    "duration": 258,
    "start_time": "2023-03-23T08:15:56.245Z"
   },
   {
    "duration": 234,
    "start_time": "2023-03-23T08:15:56.505Z"
   },
   {
    "duration": 5,
    "start_time": "2023-03-23T08:15:56.741Z"
   },
   {
    "duration": 25,
    "start_time": "2023-03-23T08:15:56.747Z"
   },
   {
    "duration": 432,
    "start_time": "2023-03-23T08:15:56.774Z"
   },
   {
    "duration": 17,
    "start_time": "2023-03-23T08:15:57.209Z"
   },
   {
    "duration": 13,
    "start_time": "2023-03-23T08:15:57.228Z"
   },
   {
    "duration": 35,
    "start_time": "2023-03-23T08:15:57.244Z"
   },
   {
    "duration": 23,
    "start_time": "2023-03-23T08:15:57.281Z"
   },
   {
    "duration": 28,
    "start_time": "2023-03-23T08:15:57.307Z"
   },
   {
    "duration": 36,
    "start_time": "2023-03-23T08:15:57.337Z"
   },
   {
    "duration": 4,
    "start_time": "2023-03-23T08:17:21.668Z"
   },
   {
    "duration": 33,
    "start_time": "2023-03-23T08:17:21.674Z"
   },
   {
    "duration": 9,
    "start_time": "2023-03-23T08:17:21.709Z"
   },
   {
    "duration": 9,
    "start_time": "2023-03-23T08:17:21.720Z"
   },
   {
    "duration": 36,
    "start_time": "2023-03-23T08:17:21.732Z"
   },
   {
    "duration": 24,
    "start_time": "2023-03-23T08:17:21.770Z"
   },
   {
    "duration": 15,
    "start_time": "2023-03-23T08:17:21.796Z"
   },
   {
    "duration": 43,
    "start_time": "2023-03-23T08:17:21.814Z"
   },
   {
    "duration": 16,
    "start_time": "2023-03-23T08:17:21.859Z"
   },
   {
    "duration": 13,
    "start_time": "2023-03-23T08:17:21.878Z"
   },
   {
    "duration": 27,
    "start_time": "2023-03-23T08:17:21.893Z"
   },
   {
    "duration": 6,
    "start_time": "2023-03-23T08:17:21.923Z"
   },
   {
    "duration": 15,
    "start_time": "2023-03-23T08:17:21.932Z"
   },
   {
    "duration": 12,
    "start_time": "2023-03-23T08:17:21.951Z"
   },
   {
    "duration": 18,
    "start_time": "2023-03-23T08:17:21.965Z"
   },
   {
    "duration": 12,
    "start_time": "2023-03-23T08:17:21.985Z"
   },
   {
    "duration": 19,
    "start_time": "2023-03-23T08:17:21.998Z"
   },
   {
    "duration": 29,
    "start_time": "2023-03-23T08:17:22.020Z"
   },
   {
    "duration": 12,
    "start_time": "2023-03-23T08:17:22.051Z"
   },
   {
    "duration": 32,
    "start_time": "2023-03-23T08:17:22.066Z"
   },
   {
    "duration": 14,
    "start_time": "2023-03-23T08:17:22.100Z"
   },
   {
    "duration": 9,
    "start_time": "2023-03-23T08:17:22.116Z"
   },
   {
    "duration": 17,
    "start_time": "2023-03-23T08:17:22.128Z"
   },
   {
    "duration": 24,
    "start_time": "2023-03-23T08:17:22.147Z"
   },
   {
    "duration": 16,
    "start_time": "2023-03-23T08:17:22.174Z"
   },
   {
    "duration": 41,
    "start_time": "2023-03-23T08:17:22.191Z"
   },
   {
    "duration": 11,
    "start_time": "2023-03-23T08:17:22.234Z"
   },
   {
    "duration": 207,
    "start_time": "2023-03-23T08:17:22.247Z"
   },
   {
    "duration": 156,
    "start_time": "2023-03-23T08:17:22.456Z"
   },
   {
    "duration": 14,
    "start_time": "2023-03-23T08:17:22.613Z"
   },
   {
    "duration": 17,
    "start_time": "2023-03-23T08:17:22.629Z"
   },
   {
    "duration": 14,
    "start_time": "2023-03-23T08:17:22.648Z"
   },
   {
    "duration": 301,
    "start_time": "2023-03-23T08:17:22.664Z"
   },
   {
    "duration": 275,
    "start_time": "2023-03-23T08:17:22.967Z"
   },
   {
    "duration": 407,
    "start_time": "2023-03-23T08:17:23.244Z"
   },
   {
    "duration": 340,
    "start_time": "2023-03-23T08:17:23.653Z"
   },
   {
    "duration": 393,
    "start_time": "2023-03-23T08:17:23.996Z"
   },
   {
    "duration": 14,
    "start_time": "2023-03-23T08:17:24.390Z"
   },
   {
    "duration": 16,
    "start_time": "2023-03-23T08:17:24.406Z"
   },
   {
    "duration": 240,
    "start_time": "2023-03-23T08:17:24.424Z"
   },
   {
    "duration": 225,
    "start_time": "2023-03-23T08:17:24.669Z"
   },
   {
    "duration": 7,
    "start_time": "2023-03-23T08:17:24.897Z"
   },
   {
    "duration": 241,
    "start_time": "2023-03-23T08:17:24.905Z"
   },
   {
    "duration": 212,
    "start_time": "2023-03-23T08:17:25.148Z"
   },
   {
    "duration": 6,
    "start_time": "2023-03-23T08:17:25.361Z"
   },
   {
    "duration": 15,
    "start_time": "2023-03-23T08:17:25.369Z"
   },
   {
    "duration": 463,
    "start_time": "2023-03-23T08:17:25.387Z"
   },
   {
    "duration": 18,
    "start_time": "2023-03-23T08:17:25.852Z"
   },
   {
    "duration": 11,
    "start_time": "2023-03-23T08:17:25.872Z"
   },
   {
    "duration": 11,
    "start_time": "2023-03-23T08:17:25.885Z"
   },
   {
    "duration": 16,
    "start_time": "2023-03-23T08:17:25.898Z"
   },
   {
    "duration": 56,
    "start_time": "2023-03-23T08:17:25.916Z"
   },
   {
    "duration": 19,
    "start_time": "2023-03-23T08:17:25.974Z"
   },
   {
    "duration": 3,
    "start_time": "2023-03-23T08:26:11.032Z"
   },
   {
    "duration": 39,
    "start_time": "2023-03-23T08:26:11.037Z"
   },
   {
    "duration": 10,
    "start_time": "2023-03-23T08:26:11.078Z"
   },
   {
    "duration": 4,
    "start_time": "2023-03-23T08:26:11.090Z"
   },
   {
    "duration": 12,
    "start_time": "2023-03-23T08:26:11.097Z"
   },
   {
    "duration": 8,
    "start_time": "2023-03-23T08:26:11.110Z"
   },
   {
    "duration": 14,
    "start_time": "2023-03-23T08:26:11.120Z"
   },
   {
    "duration": 45,
    "start_time": "2023-03-23T08:26:11.136Z"
   },
   {
    "duration": 16,
    "start_time": "2023-03-23T08:26:11.183Z"
   },
   {
    "duration": 9,
    "start_time": "2023-03-23T08:26:11.201Z"
   },
   {
    "duration": 12,
    "start_time": "2023-03-23T08:26:11.212Z"
   },
   {
    "duration": 4,
    "start_time": "2023-03-23T08:26:11.226Z"
   },
   {
    "duration": 13,
    "start_time": "2023-03-23T08:26:11.232Z"
   },
   {
    "duration": 6,
    "start_time": "2023-03-23T08:26:11.248Z"
   },
   {
    "duration": 22,
    "start_time": "2023-03-23T08:26:11.256Z"
   },
   {
    "duration": 12,
    "start_time": "2023-03-23T08:26:11.280Z"
   },
   {
    "duration": 6,
    "start_time": "2023-03-23T08:26:11.294Z"
   },
   {
    "duration": 13,
    "start_time": "2023-03-23T08:26:11.301Z"
   },
   {
    "duration": 9,
    "start_time": "2023-03-23T08:26:11.315Z"
   },
   {
    "duration": 49,
    "start_time": "2023-03-23T08:26:11.327Z"
   },
   {
    "duration": 5,
    "start_time": "2023-03-23T08:26:11.378Z"
   },
   {
    "duration": 30,
    "start_time": "2023-03-23T08:26:11.385Z"
   },
   {
    "duration": 16,
    "start_time": "2023-03-23T08:26:11.418Z"
   },
   {
    "duration": 12,
    "start_time": "2023-03-23T08:26:11.436Z"
   },
   {
    "duration": 13,
    "start_time": "2023-03-23T08:26:11.449Z"
   },
   {
    "duration": 13,
    "start_time": "2023-03-23T08:26:11.465Z"
   },
   {
    "duration": 12,
    "start_time": "2023-03-23T08:26:11.479Z"
   },
   {
    "duration": 222,
    "start_time": "2023-03-23T08:26:11.493Z"
   },
   {
    "duration": 187,
    "start_time": "2023-03-23T08:26:11.717Z"
   },
   {
    "duration": 14,
    "start_time": "2023-03-23T08:26:11.906Z"
   },
   {
    "duration": 5,
    "start_time": "2023-03-23T08:26:11.922Z"
   },
   {
    "duration": 7,
    "start_time": "2023-03-23T08:26:11.929Z"
   },
   {
    "duration": 302,
    "start_time": "2023-03-23T08:26:11.938Z"
   },
   {
    "duration": 431,
    "start_time": "2023-03-23T08:26:12.242Z"
   },
   {
    "duration": 353,
    "start_time": "2023-03-23T08:26:12.675Z"
   },
   {
    "duration": 279,
    "start_time": "2023-03-23T08:26:13.029Z"
   },
   {
    "duration": 377,
    "start_time": "2023-03-23T08:26:13.310Z"
   },
   {
    "duration": 12,
    "start_time": "2023-03-23T08:26:13.689Z"
   },
   {
    "duration": 9,
    "start_time": "2023-03-23T08:26:13.703Z"
   },
   {
    "duration": 218,
    "start_time": "2023-03-23T08:26:13.714Z"
   },
   {
    "duration": 266,
    "start_time": "2023-03-23T08:26:13.938Z"
   },
   {
    "duration": 6,
    "start_time": "2023-03-23T08:26:14.206Z"
   },
   {
    "duration": 267,
    "start_time": "2023-03-23T08:26:14.214Z"
   },
   {
    "duration": 206,
    "start_time": "2023-03-23T08:26:14.484Z"
   },
   {
    "duration": 6,
    "start_time": "2023-03-23T08:26:14.692Z"
   },
   {
    "duration": 14,
    "start_time": "2023-03-23T08:26:14.699Z"
   },
   {
    "duration": 401,
    "start_time": "2023-03-23T08:26:14.715Z"
   },
   {
    "duration": 11,
    "start_time": "2023-03-23T08:26:15.118Z"
   },
   {
    "duration": 10,
    "start_time": "2023-03-23T08:26:15.131Z"
   },
   {
    "duration": 34,
    "start_time": "2023-03-23T08:26:15.144Z"
   },
   {
    "duration": 14,
    "start_time": "2023-03-23T08:26:15.180Z"
   },
   {
    "duration": 22,
    "start_time": "2023-03-23T08:26:15.195Z"
   },
   {
    "duration": 44,
    "start_time": "2023-03-23T08:26:15.219Z"
   },
   {
    "duration": 4,
    "start_time": "2023-03-23T09:31:11.644Z"
   },
   {
    "duration": 29,
    "start_time": "2023-03-23T09:31:11.650Z"
   },
   {
    "duration": 10,
    "start_time": "2023-03-23T09:31:11.682Z"
   },
   {
    "duration": 4,
    "start_time": "2023-03-23T09:31:11.694Z"
   },
   {
    "duration": 14,
    "start_time": "2023-03-23T09:31:11.700Z"
   },
   {
    "duration": 11,
    "start_time": "2023-03-23T09:31:11.717Z"
   },
   {
    "duration": 42,
    "start_time": "2023-03-23T09:31:11.730Z"
   },
   {
    "duration": 38,
    "start_time": "2023-03-23T09:31:11.774Z"
   },
   {
    "duration": 15,
    "start_time": "2023-03-23T09:31:11.814Z"
   },
   {
    "duration": 9,
    "start_time": "2023-03-23T09:31:11.831Z"
   },
   {
    "duration": 16,
    "start_time": "2023-03-23T09:31:11.841Z"
   },
   {
    "duration": 5,
    "start_time": "2023-03-23T09:31:11.859Z"
   },
   {
    "duration": 18,
    "start_time": "2023-03-23T09:31:11.866Z"
   },
   {
    "duration": 10,
    "start_time": "2023-03-23T09:31:11.886Z"
   },
   {
    "duration": 12,
    "start_time": "2023-03-23T09:31:11.900Z"
   },
   {
    "duration": 11,
    "start_time": "2023-03-23T09:31:11.914Z"
   },
   {
    "duration": 5,
    "start_time": "2023-03-23T09:31:11.927Z"
   },
   {
    "duration": 13,
    "start_time": "2023-03-23T09:31:11.961Z"
   },
   {
    "duration": 10,
    "start_time": "2023-03-23T09:31:11.975Z"
   },
   {
    "duration": 25,
    "start_time": "2023-03-23T09:31:11.987Z"
   },
   {
    "duration": 5,
    "start_time": "2023-03-23T09:31:12.014Z"
   },
   {
    "duration": 7,
    "start_time": "2023-03-23T09:31:12.022Z"
   },
   {
    "duration": 40,
    "start_time": "2023-03-23T09:31:12.030Z"
   },
   {
    "duration": 20,
    "start_time": "2023-03-23T09:31:12.073Z"
   },
   {
    "duration": 9,
    "start_time": "2023-03-23T09:31:12.094Z"
   },
   {
    "duration": 16,
    "start_time": "2023-03-23T09:31:12.105Z"
   },
   {
    "duration": 10,
    "start_time": "2023-03-23T09:31:12.123Z"
   },
   {
    "duration": 261,
    "start_time": "2023-03-23T09:31:12.136Z"
   },
   {
    "duration": 172,
    "start_time": "2023-03-23T09:31:12.399Z"
   },
   {
    "duration": 23,
    "start_time": "2023-03-23T09:31:12.573Z"
   },
   {
    "duration": 7,
    "start_time": "2023-03-23T09:31:12.599Z"
   },
   {
    "duration": 8,
    "start_time": "2023-03-23T09:31:12.608Z"
   },
   {
    "duration": 384,
    "start_time": "2023-03-23T09:31:12.618Z"
   },
   {
    "duration": 411,
    "start_time": "2023-03-23T09:31:13.004Z"
   },
   {
    "duration": 437,
    "start_time": "2023-03-23T09:31:13.417Z"
   },
   {
    "duration": 340,
    "start_time": "2023-03-23T09:31:13.857Z"
   },
   {
    "duration": 406,
    "start_time": "2023-03-23T09:31:14.199Z"
   },
   {
    "duration": 13,
    "start_time": "2023-03-23T09:31:14.607Z"
   },
   {
    "duration": 10,
    "start_time": "2023-03-23T09:31:14.621Z"
   },
   {
    "duration": 236,
    "start_time": "2023-03-23T09:31:14.633Z"
   },
   {
    "duration": 235,
    "start_time": "2023-03-23T09:31:14.871Z"
   },
   {
    "duration": 6,
    "start_time": "2023-03-23T09:31:15.109Z"
   },
   {
    "duration": 268,
    "start_time": "2023-03-23T09:31:15.117Z"
   },
   {
    "duration": 255,
    "start_time": "2023-03-23T09:31:15.388Z"
   },
   {
    "duration": 6,
    "start_time": "2023-03-23T09:31:15.645Z"
   },
   {
    "duration": 15,
    "start_time": "2023-03-23T09:31:15.662Z"
   },
   {
    "duration": 414,
    "start_time": "2023-03-23T09:31:15.681Z"
   },
   {
    "duration": 17,
    "start_time": "2023-03-23T09:31:16.097Z"
   },
   {
    "duration": 12,
    "start_time": "2023-03-23T09:31:16.116Z"
   },
   {
    "duration": 33,
    "start_time": "2023-03-23T09:31:16.130Z"
   },
   {
    "duration": 19,
    "start_time": "2023-03-23T09:31:16.165Z"
   },
   {
    "duration": 33,
    "start_time": "2023-03-23T09:31:16.186Z"
   },
   {
    "duration": 42,
    "start_time": "2023-03-23T09:31:16.221Z"
   },
   {
    "duration": 3,
    "start_time": "2023-03-23T09:49:54.882Z"
   },
   {
    "duration": 43,
    "start_time": "2023-03-23T09:49:54.887Z"
   },
   {
    "duration": 9,
    "start_time": "2023-03-23T09:49:54.931Z"
   },
   {
    "duration": 4,
    "start_time": "2023-03-23T09:49:54.942Z"
   },
   {
    "duration": 13,
    "start_time": "2023-03-23T09:49:54.947Z"
   },
   {
    "duration": 11,
    "start_time": "2023-03-23T09:49:54.962Z"
   },
   {
    "duration": 12,
    "start_time": "2023-03-23T09:49:54.974Z"
   },
   {
    "duration": 36,
    "start_time": "2023-03-23T09:49:54.988Z"
   },
   {
    "duration": 15,
    "start_time": "2023-03-23T09:49:55.026Z"
   },
   {
    "duration": 11,
    "start_time": "2023-03-23T09:49:55.044Z"
   },
   {
    "duration": 19,
    "start_time": "2023-03-23T09:49:55.056Z"
   },
   {
    "duration": 8,
    "start_time": "2023-03-23T09:49:55.077Z"
   },
   {
    "duration": 16,
    "start_time": "2023-03-23T09:49:55.087Z"
   },
   {
    "duration": 9,
    "start_time": "2023-03-23T09:49:55.106Z"
   },
   {
    "duration": 12,
    "start_time": "2023-03-23T09:49:55.117Z"
   },
   {
    "duration": 33,
    "start_time": "2023-03-23T09:49:55.132Z"
   },
   {
    "duration": 6,
    "start_time": "2023-03-23T09:49:55.167Z"
   },
   {
    "duration": 11,
    "start_time": "2023-03-23T09:49:55.175Z"
   },
   {
    "duration": 9,
    "start_time": "2023-03-23T09:49:55.188Z"
   },
   {
    "duration": 13,
    "start_time": "2023-03-23T09:49:55.199Z"
   },
   {
    "duration": 6,
    "start_time": "2023-03-23T09:49:55.214Z"
   },
   {
    "duration": 49,
    "start_time": "2023-03-23T09:49:55.222Z"
   },
   {
    "duration": 18,
    "start_time": "2023-03-23T09:49:55.273Z"
   },
   {
    "duration": 29,
    "start_time": "2023-03-23T09:49:55.292Z"
   },
   {
    "duration": 13,
    "start_time": "2023-03-23T09:49:55.322Z"
   },
   {
    "duration": 14,
    "start_time": "2023-03-23T09:49:55.337Z"
   },
   {
    "duration": 18,
    "start_time": "2023-03-23T09:49:55.353Z"
   },
   {
    "duration": 234,
    "start_time": "2023-03-23T09:49:55.375Z"
   },
   {
    "duration": 160,
    "start_time": "2023-03-23T09:49:55.611Z"
   },
   {
    "duration": 17,
    "start_time": "2023-03-23T09:49:55.773Z"
   },
   {
    "duration": 11,
    "start_time": "2023-03-23T09:49:55.792Z"
   },
   {
    "duration": 20,
    "start_time": "2023-03-23T09:49:55.806Z"
   },
   {
    "duration": 517,
    "start_time": "2023-03-23T09:49:55.828Z"
   },
   {
    "duration": 286,
    "start_time": "2023-03-23T09:49:56.347Z"
   },
   {
    "duration": 381,
    "start_time": "2023-03-23T09:49:56.634Z"
   },
   {
    "duration": 360,
    "start_time": "2023-03-23T09:49:57.017Z"
   },
   {
    "duration": 386,
    "start_time": "2023-03-23T09:49:57.379Z"
   },
   {
    "duration": 15,
    "start_time": "2023-03-23T09:49:57.767Z"
   },
   {
    "duration": 11,
    "start_time": "2023-03-23T09:49:57.783Z"
   },
   {
    "duration": 213,
    "start_time": "2023-03-23T09:49:57.796Z"
   },
   {
    "duration": 219,
    "start_time": "2023-03-23T09:49:58.011Z"
   },
   {
    "duration": 5,
    "start_time": "2023-03-23T09:49:58.231Z"
   },
   {
    "duration": 217,
    "start_time": "2023-03-23T09:49:58.237Z"
   },
   {
    "duration": 209,
    "start_time": "2023-03-23T09:49:58.456Z"
   },
   {
    "duration": 6,
    "start_time": "2023-03-23T09:49:58.667Z"
   },
   {
    "duration": 17,
    "start_time": "2023-03-23T09:49:58.675Z"
   },
   {
    "duration": 390,
    "start_time": "2023-03-23T09:49:58.694Z"
   },
   {
    "duration": 12,
    "start_time": "2023-03-23T09:49:59.086Z"
   },
   {
    "duration": 11,
    "start_time": "2023-03-23T09:49:59.100Z"
   },
   {
    "duration": 11,
    "start_time": "2023-03-23T09:49:59.113Z"
   },
   {
    "duration": 36,
    "start_time": "2023-03-23T09:49:59.126Z"
   },
   {
    "duration": 25,
    "start_time": "2023-03-23T09:49:59.164Z"
   },
   {
    "duration": 16,
    "start_time": "2023-03-23T09:49:59.191Z"
   },
   {
    "duration": 3,
    "start_time": "2023-03-23T09:55:45.177Z"
   },
   {
    "duration": 27,
    "start_time": "2023-03-23T09:55:45.182Z"
   },
   {
    "duration": 8,
    "start_time": "2023-03-23T09:55:45.211Z"
   },
   {
    "duration": 4,
    "start_time": "2023-03-23T09:55:45.223Z"
   },
   {
    "duration": 13,
    "start_time": "2023-03-23T09:55:45.229Z"
   },
   {
    "duration": 10,
    "start_time": "2023-03-23T09:55:45.243Z"
   },
   {
    "duration": 10,
    "start_time": "2023-03-23T09:55:45.262Z"
   },
   {
    "duration": 36,
    "start_time": "2023-03-23T09:55:45.274Z"
   },
   {
    "duration": 15,
    "start_time": "2023-03-23T09:55:45.313Z"
   },
   {
    "duration": 8,
    "start_time": "2023-03-23T09:55:45.332Z"
   },
   {
    "duration": 12,
    "start_time": "2023-03-23T09:55:45.342Z"
   },
   {
    "duration": 9,
    "start_time": "2023-03-23T09:55:45.356Z"
   },
   {
    "duration": 14,
    "start_time": "2023-03-23T09:55:45.366Z"
   },
   {
    "duration": 8,
    "start_time": "2023-03-23T09:55:45.382Z"
   },
   {
    "duration": 12,
    "start_time": "2023-03-23T09:55:45.392Z"
   },
   {
    "duration": 11,
    "start_time": "2023-03-23T09:55:45.406Z"
   },
   {
    "duration": 6,
    "start_time": "2023-03-23T09:55:45.419Z"
   },
   {
    "duration": 43,
    "start_time": "2023-03-23T09:55:45.427Z"
   },
   {
    "duration": 8,
    "start_time": "2023-03-23T09:55:45.473Z"
   },
   {
    "duration": 12,
    "start_time": "2023-03-23T09:55:45.482Z"
   },
   {
    "duration": 8,
    "start_time": "2023-03-23T09:55:45.495Z"
   },
   {
    "duration": 13,
    "start_time": "2023-03-23T09:55:45.505Z"
   },
   {
    "duration": 15,
    "start_time": "2023-03-23T09:55:45.520Z"
   },
   {
    "duration": 36,
    "start_time": "2023-03-23T09:55:45.536Z"
   },
   {
    "duration": 9,
    "start_time": "2023-03-23T09:55:45.574Z"
   },
   {
    "duration": 11,
    "start_time": "2023-03-23T09:55:45.585Z"
   },
   {
    "duration": 12,
    "start_time": "2023-03-23T09:55:45.598Z"
   },
   {
    "duration": 239,
    "start_time": "2023-03-23T09:55:45.614Z"
   },
   {
    "duration": 142,
    "start_time": "2023-03-23T09:55:45.855Z"
   },
   {
    "duration": 13,
    "start_time": "2023-03-23T09:55:45.999Z"
   },
   {
    "duration": 7,
    "start_time": "2023-03-23T09:55:46.014Z"
   },
   {
    "duration": 7,
    "start_time": "2023-03-23T09:55:46.022Z"
   },
   {
    "duration": 301,
    "start_time": "2023-03-23T09:55:46.030Z"
   },
   {
    "duration": 275,
    "start_time": "2023-03-23T09:55:46.333Z"
   },
   {
    "duration": 339,
    "start_time": "2023-03-23T09:55:46.610Z"
   },
   {
    "duration": 287,
    "start_time": "2023-03-23T09:55:46.951Z"
   },
   {
    "duration": 423,
    "start_time": "2023-03-23T09:55:47.240Z"
   },
   {
    "duration": 12,
    "start_time": "2023-03-23T09:55:47.665Z"
   },
   {
    "duration": 215,
    "start_time": "2023-03-23T09:55:47.679Z"
   },
   {
    "duration": 200,
    "start_time": "2023-03-23T09:55:47.896Z"
   },
   {
    "duration": 5,
    "start_time": "2023-03-23T09:55:48.098Z"
   },
   {
    "duration": 198,
    "start_time": "2023-03-23T09:55:48.105Z"
   },
   {
    "duration": 207,
    "start_time": "2023-03-23T09:55:48.305Z"
   },
   {
    "duration": 4,
    "start_time": "2023-03-23T09:55:48.514Z"
   },
   {
    "duration": 13,
    "start_time": "2023-03-23T09:55:48.520Z"
   },
   {
    "duration": 378,
    "start_time": "2023-03-23T09:55:48.534Z"
   },
   {
    "duration": 11,
    "start_time": "2023-03-23T09:55:48.914Z"
   },
   {
    "duration": 10,
    "start_time": "2023-03-23T09:55:48.926Z"
   },
   {
    "duration": 29,
    "start_time": "2023-03-23T09:55:48.937Z"
   },
   {
    "duration": 15,
    "start_time": "2023-03-23T09:55:48.968Z"
   },
   {
    "duration": 31,
    "start_time": "2023-03-23T09:55:48.985Z"
   },
   {
    "duration": 12,
    "start_time": "2023-03-23T09:55:49.018Z"
   },
   {
    "duration": 66,
    "start_time": "2023-03-23T10:01:17.156Z"
   },
   {
    "duration": 241,
    "start_time": "2023-03-23T10:37:50.447Z"
   },
   {
    "duration": 210,
    "start_time": "2023-03-23T10:38:36.508Z"
   },
   {
    "duration": 225,
    "start_time": "2023-03-23T10:39:17.287Z"
   },
   {
    "duration": 393,
    "start_time": "2023-03-23T10:40:08.064Z"
   },
   {
    "duration": 220,
    "start_time": "2023-03-23T10:40:11.518Z"
   },
   {
    "duration": 6,
    "start_time": "2023-03-23T10:41:01.591Z"
   },
   {
    "duration": 68,
    "start_time": "2023-03-23T10:42:42.557Z"
   },
   {
    "duration": 4,
    "start_time": "2023-03-23T11:19:08.933Z"
   },
   {
    "duration": 29,
    "start_time": "2023-03-23T11:19:08.939Z"
   },
   {
    "duration": 10,
    "start_time": "2023-03-23T11:19:08.971Z"
   },
   {
    "duration": 4,
    "start_time": "2023-03-23T11:19:08.984Z"
   },
   {
    "duration": 12,
    "start_time": "2023-03-23T11:19:08.990Z"
   },
   {
    "duration": 7,
    "start_time": "2023-03-23T11:19:09.004Z"
   },
   {
    "duration": 10,
    "start_time": "2023-03-23T11:19:09.013Z"
   },
   {
    "duration": 74,
    "start_time": "2023-03-23T11:19:09.024Z"
   },
   {
    "duration": 15,
    "start_time": "2023-03-23T11:19:09.100Z"
   },
   {
    "duration": 8,
    "start_time": "2023-03-23T11:19:09.118Z"
   },
   {
    "duration": 12,
    "start_time": "2023-03-23T11:19:09.127Z"
   },
   {
    "duration": 4,
    "start_time": "2023-03-23T11:19:09.141Z"
   },
   {
    "duration": 14,
    "start_time": "2023-03-23T11:19:09.146Z"
   },
   {
    "duration": 8,
    "start_time": "2023-03-23T11:19:09.162Z"
   },
   {
    "duration": 10,
    "start_time": "2023-03-23T11:19:09.172Z"
   },
   {
    "duration": 10,
    "start_time": "2023-03-23T11:19:09.183Z"
   },
   {
    "duration": 5,
    "start_time": "2023-03-23T11:19:09.195Z"
   },
   {
    "duration": 10,
    "start_time": "2023-03-23T11:19:09.202Z"
   },
   {
    "duration": 8,
    "start_time": "2023-03-23T11:19:09.214Z"
   },
   {
    "duration": 46,
    "start_time": "2023-03-23T11:19:09.224Z"
   },
   {
    "duration": 6,
    "start_time": "2023-03-23T11:19:09.272Z"
   },
   {
    "duration": 10,
    "start_time": "2023-03-23T11:19:09.279Z"
   },
   {
    "duration": 12,
    "start_time": "2023-03-23T11:19:09.291Z"
   },
   {
    "duration": 10,
    "start_time": "2023-03-23T11:19:09.304Z"
   },
   {
    "duration": 5,
    "start_time": "2023-03-23T11:19:09.316Z"
   },
   {
    "duration": 9,
    "start_time": "2023-03-23T11:19:09.323Z"
   },
   {
    "duration": 11,
    "start_time": "2023-03-23T11:19:09.362Z"
   },
   {
    "duration": 206,
    "start_time": "2023-03-23T11:19:09.376Z"
   },
   {
    "duration": 139,
    "start_time": "2023-03-23T11:19:09.584Z"
   },
   {
    "duration": 11,
    "start_time": "2023-03-23T11:19:09.725Z"
   },
   {
    "duration": 27,
    "start_time": "2023-03-23T11:19:09.738Z"
   },
   {
    "duration": 5,
    "start_time": "2023-03-23T11:19:09.767Z"
   },
   {
    "duration": 268,
    "start_time": "2023-03-23T11:19:09.774Z"
   },
   {
    "duration": 287,
    "start_time": "2023-03-23T11:19:10.043Z"
   },
   {
    "duration": 365,
    "start_time": "2023-03-23T11:19:10.331Z"
   },
   {
    "duration": 297,
    "start_time": "2023-03-23T11:19:10.698Z"
   },
   {
    "duration": 362,
    "start_time": "2023-03-23T11:19:10.997Z"
   },
   {
    "duration": 12,
    "start_time": "2023-03-23T11:19:11.361Z"
   },
   {
    "duration": 234,
    "start_time": "2023-03-23T11:19:11.374Z"
   },
   {
    "duration": 219,
    "start_time": "2023-03-23T11:19:11.610Z"
   },
   {
    "duration": 5,
    "start_time": "2023-03-23T11:19:11.831Z"
   },
   {
    "duration": 207,
    "start_time": "2023-03-23T11:19:11.838Z"
   },
   {
    "duration": 212,
    "start_time": "2023-03-23T11:19:12.047Z"
   },
   {
    "duration": 5,
    "start_time": "2023-03-23T11:19:12.262Z"
   },
   {
    "duration": 356,
    "start_time": "2023-03-23T11:19:12.270Z"
   },
   {
    "duration": 13,
    "start_time": "2023-03-23T11:19:12.627Z"
   },
   {
    "duration": 31,
    "start_time": "2023-03-23T11:19:12.642Z"
   },
   {
    "duration": 22,
    "start_time": "2023-03-23T11:19:12.675Z"
   },
   {
    "duration": 18,
    "start_time": "2023-03-23T11:19:12.698Z"
   },
   {
    "duration": 65,
    "start_time": "2023-03-23T12:03:47.367Z"
   },
   {
    "duration": 1372,
    "start_time": "2023-03-23T12:03:54.206Z"
   },
   {
    "duration": 142,
    "start_time": "2023-03-23T12:03:55.580Z"
   },
   {
    "duration": 12,
    "start_time": "2023-03-23T12:03:55.724Z"
   },
   {
    "duration": 9,
    "start_time": "2023-03-23T12:03:55.738Z"
   },
   {
    "duration": 42,
    "start_time": "2023-03-23T12:03:55.749Z"
   },
   {
    "duration": 17,
    "start_time": "2023-03-23T12:03:55.793Z"
   },
   {
    "duration": 11,
    "start_time": "2023-03-23T12:03:55.811Z"
   },
   {
    "duration": 112,
    "start_time": "2023-03-23T12:03:55.823Z"
   },
   {
    "duration": 79,
    "start_time": "2023-03-23T12:03:55.937Z"
   },
   {
    "duration": 8,
    "start_time": "2023-03-23T12:03:56.020Z"
   },
   {
    "duration": 12,
    "start_time": "2023-03-23T12:03:56.029Z"
   },
   {
    "duration": 14,
    "start_time": "2023-03-23T12:03:56.043Z"
   },
   {
    "duration": 19,
    "start_time": "2023-03-23T12:03:56.058Z"
   },
   {
    "duration": 25,
    "start_time": "2023-03-23T12:03:56.080Z"
   },
   {
    "duration": 12,
    "start_time": "2023-03-23T12:03:56.107Z"
   },
   {
    "duration": 10,
    "start_time": "2023-03-23T12:03:56.121Z"
   },
   {
    "duration": 7,
    "start_time": "2023-03-23T12:03:56.133Z"
   },
   {
    "duration": 56,
    "start_time": "2023-03-23T12:03:56.142Z"
   },
   {
    "duration": 12,
    "start_time": "2023-03-23T12:03:56.200Z"
   },
   {
    "duration": 19,
    "start_time": "2023-03-23T12:03:56.214Z"
   },
   {
    "duration": 5,
    "start_time": "2023-03-23T12:03:56.236Z"
   },
   {
    "duration": 10,
    "start_time": "2023-03-23T12:03:56.243Z"
   },
   {
    "duration": 10,
    "start_time": "2023-03-23T12:03:56.255Z"
   },
   {
    "duration": 22,
    "start_time": "2023-03-23T12:03:56.267Z"
   },
   {
    "duration": 16,
    "start_time": "2023-03-23T12:03:56.290Z"
   },
   {
    "duration": 10,
    "start_time": "2023-03-23T12:03:56.309Z"
   },
   {
    "duration": 9,
    "start_time": "2023-03-23T12:03:56.320Z"
   },
   {
    "duration": 217,
    "start_time": "2023-03-23T12:03:56.331Z"
   },
   {
    "duration": 157,
    "start_time": "2023-03-23T12:03:56.550Z"
   },
   {
    "duration": 13,
    "start_time": "2023-03-23T12:03:56.709Z"
   },
   {
    "duration": 6,
    "start_time": "2023-03-23T12:03:56.724Z"
   },
   {
    "duration": 6,
    "start_time": "2023-03-23T12:03:56.732Z"
   },
   {
    "duration": 421,
    "start_time": "2023-03-23T12:03:56.740Z"
   },
   {
    "duration": 334,
    "start_time": "2023-03-23T12:03:57.163Z"
   },
   {
    "duration": 338,
    "start_time": "2023-03-23T12:03:57.499Z"
   },
   {
    "duration": 355,
    "start_time": "2023-03-23T12:03:57.840Z"
   },
   {
    "duration": 440,
    "start_time": "2023-03-23T12:03:58.197Z"
   },
   {
    "duration": 12,
    "start_time": "2023-03-23T12:03:58.638Z"
   },
   {
    "duration": 251,
    "start_time": "2023-03-23T12:03:58.651Z"
   },
   {
    "duration": 247,
    "start_time": "2023-03-23T12:03:58.905Z"
   },
   {
    "duration": 17,
    "start_time": "2023-03-23T12:03:59.157Z"
   },
   {
    "duration": 234,
    "start_time": "2023-03-23T12:03:59.184Z"
   },
   {
    "duration": 232,
    "start_time": "2023-03-23T12:03:59.420Z"
   },
   {
    "duration": 5,
    "start_time": "2023-03-23T12:03:59.655Z"
   },
   {
    "duration": 496,
    "start_time": "2023-03-23T12:03:59.662Z"
   },
   {
    "duration": 22,
    "start_time": "2023-03-23T12:04:00.160Z"
   },
   {
    "duration": 34,
    "start_time": "2023-03-23T12:04:00.184Z"
   },
   {
    "duration": 34,
    "start_time": "2023-03-23T12:04:00.220Z"
   },
   {
    "duration": 47,
    "start_time": "2023-03-23T12:04:00.256Z"
   },
   {
    "duration": 329,
    "start_time": "2023-03-23T12:04:23.212Z"
   },
   {
    "duration": 284,
    "start_time": "2023-03-23T12:13:02.505Z"
   },
   {
    "duration": 308,
    "start_time": "2023-03-23T12:13:08.839Z"
   },
   {
    "duration": 277,
    "start_time": "2023-03-23T12:13:22.824Z"
   },
   {
    "duration": 334,
    "start_time": "2023-03-23T12:13:32.725Z"
   },
   {
    "duration": 525,
    "start_time": "2023-03-23T12:13:49.743Z"
   },
   {
    "duration": 532,
    "start_time": "2023-03-23T12:14:01.033Z"
   },
   {
    "duration": 12,
    "start_time": "2023-03-23T12:16:33.241Z"
   },
   {
    "duration": 16,
    "start_time": "2023-03-23T12:31:32.324Z"
   },
   {
    "duration": 13,
    "start_time": "2023-03-23T12:32:52.564Z"
   },
   {
    "duration": 55,
    "start_time": "2023-03-24T08:30:37.302Z"
   },
   {
    "duration": 1382,
    "start_time": "2023-03-24T08:30:40.770Z"
   },
   {
    "duration": 164,
    "start_time": "2023-03-24T08:30:42.154Z"
   },
   {
    "duration": 5,
    "start_time": "2023-03-24T08:30:42.320Z"
   },
   {
    "duration": 16,
    "start_time": "2023-03-24T08:30:42.327Z"
   },
   {
    "duration": 7,
    "start_time": "2023-03-24T08:30:42.345Z"
   },
   {
    "duration": 15,
    "start_time": "2023-03-24T08:30:42.354Z"
   },
   {
    "duration": 58,
    "start_time": "2023-03-24T08:30:42.370Z"
   },
   {
    "duration": 8,
    "start_time": "2023-03-24T08:30:42.429Z"
   },
   {
    "duration": 202,
    "start_time": "2023-03-24T08:30:42.439Z"
   },
   {
    "duration": 87,
    "start_time": "2023-03-24T08:30:42.644Z"
   },
   {
    "duration": 8,
    "start_time": "2023-03-24T08:30:42.732Z"
   },
   {
    "duration": 19,
    "start_time": "2023-03-24T08:30:42.742Z"
   },
   {
    "duration": 55,
    "start_time": "2023-03-24T08:30:42.763Z"
   },
   {
    "duration": 23,
    "start_time": "2023-03-24T08:30:42.820Z"
   },
   {
    "duration": 7,
    "start_time": "2023-03-24T08:30:42.845Z"
   },
   {
    "duration": 10,
    "start_time": "2023-03-24T08:30:42.853Z"
   },
   {
    "duration": 20,
    "start_time": "2023-03-24T08:30:42.864Z"
   },
   {
    "duration": 41,
    "start_time": "2023-03-24T08:30:42.885Z"
   },
   {
    "duration": 11,
    "start_time": "2023-03-24T08:30:42.928Z"
   },
   {
    "duration": 7,
    "start_time": "2023-03-24T08:30:42.941Z"
   },
   {
    "duration": 10,
    "start_time": "2023-03-24T08:30:42.949Z"
   },
   {
    "duration": 65,
    "start_time": "2023-03-24T08:30:42.961Z"
   },
   {
    "duration": 21,
    "start_time": "2023-03-24T08:30:43.028Z"
   },
   {
    "duration": 74,
    "start_time": "2023-03-24T08:30:43.051Z"
   },
   {
    "duration": 9,
    "start_time": "2023-03-24T08:30:43.131Z"
   },
   {
    "duration": 7,
    "start_time": "2023-03-24T08:30:43.142Z"
   },
   {
    "duration": 15,
    "start_time": "2023-03-24T08:30:43.150Z"
   },
   {
    "duration": 40,
    "start_time": "2023-03-24T08:30:43.169Z"
   },
   {
    "duration": 209,
    "start_time": "2023-03-24T08:30:43.218Z"
   },
   {
    "duration": 139,
    "start_time": "2023-03-24T08:30:43.429Z"
   },
   {
    "duration": 45,
    "start_time": "2023-03-24T08:30:43.569Z"
   },
   {
    "duration": 14,
    "start_time": "2023-03-24T08:30:43.615Z"
   },
   {
    "duration": 6,
    "start_time": "2023-03-24T08:30:43.631Z"
   },
   {
    "duration": 371,
    "start_time": "2023-03-24T08:30:43.638Z"
   },
   {
    "duration": 302,
    "start_time": "2023-03-24T08:30:44.011Z"
   },
   {
    "duration": 379,
    "start_time": "2023-03-24T08:30:44.314Z"
   },
   {
    "duration": 20,
    "start_time": "2023-03-24T08:30:44.699Z"
   },
   {
    "duration": 318,
    "start_time": "2023-03-24T08:30:44.725Z"
   },
   {
    "duration": 456,
    "start_time": "2023-03-24T08:30:45.044Z"
   },
   {
    "duration": 18,
    "start_time": "2023-03-24T08:30:45.502Z"
   },
   {
    "duration": 19,
    "start_time": "2023-03-24T08:30:45.522Z"
   },
   {
    "duration": 276,
    "start_time": "2023-03-24T08:30:45.543Z"
   },
   {
    "duration": 227,
    "start_time": "2023-03-24T08:30:45.823Z"
   },
   {
    "duration": 6,
    "start_time": "2023-03-24T08:30:46.052Z"
   },
   {
    "duration": 275,
    "start_time": "2023-03-24T08:30:46.059Z"
   },
   {
    "duration": 229,
    "start_time": "2023-03-24T08:30:46.337Z"
   },
   {
    "duration": 33,
    "start_time": "2023-03-24T08:30:46.572Z"
   },
   {
    "duration": 423,
    "start_time": "2023-03-24T08:30:46.606Z"
   },
   {
    "duration": 11,
    "start_time": "2023-03-24T08:30:47.031Z"
   },
   {
    "duration": 17,
    "start_time": "2023-03-24T08:30:47.043Z"
   },
   {
    "duration": 64,
    "start_time": "2023-03-24T08:30:47.062Z"
   },
   {
    "duration": 19,
    "start_time": "2023-03-24T08:30:47.128Z"
   },
   {
    "duration": 108,
    "start_time": "2023-03-24T08:31:26.330Z"
   },
   {
    "duration": 4,
    "start_time": "2023-03-24T08:31:31.017Z"
   },
   {
    "duration": 57,
    "start_time": "2023-03-24T08:31:31.023Z"
   },
   {
    "duration": 48,
    "start_time": "2023-03-24T08:31:31.082Z"
   },
   {
    "duration": 0,
    "start_time": "2023-03-24T08:31:31.133Z"
   },
   {
    "duration": 0,
    "start_time": "2023-03-24T08:31:31.134Z"
   },
   {
    "duration": 0,
    "start_time": "2023-03-24T08:31:31.135Z"
   },
   {
    "duration": 0,
    "start_time": "2023-03-24T08:31:31.136Z"
   },
   {
    "duration": 0,
    "start_time": "2023-03-24T08:31:31.138Z"
   },
   {
    "duration": 0,
    "start_time": "2023-03-24T08:31:31.139Z"
   },
   {
    "duration": 0,
    "start_time": "2023-03-24T08:31:31.140Z"
   },
   {
    "duration": 0,
    "start_time": "2023-03-24T08:31:31.142Z"
   },
   {
    "duration": 0,
    "start_time": "2023-03-24T08:31:31.143Z"
   },
   {
    "duration": 0,
    "start_time": "2023-03-24T08:31:31.144Z"
   },
   {
    "duration": 0,
    "start_time": "2023-03-24T08:31:31.145Z"
   },
   {
    "duration": 0,
    "start_time": "2023-03-24T08:31:31.146Z"
   },
   {
    "duration": 0,
    "start_time": "2023-03-24T08:31:31.147Z"
   },
   {
    "duration": 0,
    "start_time": "2023-03-24T08:31:31.147Z"
   },
   {
    "duration": 0,
    "start_time": "2023-03-24T08:31:31.148Z"
   },
   {
    "duration": 0,
    "start_time": "2023-03-24T08:31:31.149Z"
   },
   {
    "duration": 0,
    "start_time": "2023-03-24T08:31:31.150Z"
   },
   {
    "duration": 0,
    "start_time": "2023-03-24T08:31:31.151Z"
   },
   {
    "duration": 0,
    "start_time": "2023-03-24T08:31:31.152Z"
   },
   {
    "duration": 0,
    "start_time": "2023-03-24T08:31:31.153Z"
   },
   {
    "duration": 0,
    "start_time": "2023-03-24T08:31:31.154Z"
   },
   {
    "duration": 0,
    "start_time": "2023-03-24T08:31:31.155Z"
   },
   {
    "duration": 0,
    "start_time": "2023-03-24T08:31:31.155Z"
   },
   {
    "duration": 0,
    "start_time": "2023-03-24T08:31:31.156Z"
   },
   {
    "duration": 0,
    "start_time": "2023-03-24T08:31:31.157Z"
   },
   {
    "duration": 0,
    "start_time": "2023-03-24T08:31:31.158Z"
   },
   {
    "duration": 0,
    "start_time": "2023-03-24T08:31:31.175Z"
   },
   {
    "duration": 0,
    "start_time": "2023-03-24T08:31:31.176Z"
   },
   {
    "duration": 0,
    "start_time": "2023-03-24T08:31:31.177Z"
   },
   {
    "duration": 0,
    "start_time": "2023-03-24T08:31:31.178Z"
   },
   {
    "duration": 0,
    "start_time": "2023-03-24T08:31:31.179Z"
   },
   {
    "duration": 0,
    "start_time": "2023-03-24T08:31:31.180Z"
   },
   {
    "duration": 0,
    "start_time": "2023-03-24T08:31:31.181Z"
   },
   {
    "duration": 0,
    "start_time": "2023-03-24T08:31:31.186Z"
   },
   {
    "duration": 0,
    "start_time": "2023-03-24T08:31:31.187Z"
   },
   {
    "duration": 0,
    "start_time": "2023-03-24T08:31:31.188Z"
   },
   {
    "duration": 0,
    "start_time": "2023-03-24T08:31:31.189Z"
   },
   {
    "duration": 0,
    "start_time": "2023-03-24T08:31:31.190Z"
   },
   {
    "duration": 0,
    "start_time": "2023-03-24T08:31:31.191Z"
   },
   {
    "duration": 0,
    "start_time": "2023-03-24T08:31:31.191Z"
   },
   {
    "duration": 0,
    "start_time": "2023-03-24T08:31:31.192Z"
   },
   {
    "duration": 0,
    "start_time": "2023-03-24T08:31:31.201Z"
   },
   {
    "duration": 0,
    "start_time": "2023-03-24T08:31:31.202Z"
   },
   {
    "duration": 0,
    "start_time": "2023-03-24T08:31:31.203Z"
   },
   {
    "duration": 0,
    "start_time": "2023-03-24T08:31:31.204Z"
   },
   {
    "duration": 19,
    "start_time": "2023-03-24T08:31:31.207Z"
   },
   {
    "duration": 2474,
    "start_time": "2023-03-24T08:31:31.228Z"
   },
   {
    "duration": 0,
    "start_time": "2023-03-24T08:31:33.704Z"
   },
   {
    "duration": 0,
    "start_time": "2023-03-24T08:31:33.705Z"
   },
   {
    "duration": 7,
    "start_time": "2023-03-24T08:36:34.870Z"
   },
   {
    "duration": 5,
    "start_time": "2023-03-24T08:36:38.298Z"
   },
   {
    "duration": 35,
    "start_time": "2023-03-24T08:36:38.305Z"
   },
   {
    "duration": 3,
    "start_time": "2023-03-24T08:36:38.341Z"
   },
   {
    "duration": 16,
    "start_time": "2023-03-24T08:36:38.346Z"
   },
   {
    "duration": 19,
    "start_time": "2023-03-24T08:36:38.364Z"
   },
   {
    "duration": 43,
    "start_time": "2023-03-24T08:36:38.385Z"
   },
   {
    "duration": 21,
    "start_time": "2023-03-24T08:36:38.430Z"
   },
   {
    "duration": 43,
    "start_time": "2023-03-24T08:36:38.453Z"
   },
   {
    "duration": 60,
    "start_time": "2023-03-24T08:36:38.498Z"
   },
   {
    "duration": 38,
    "start_time": "2023-03-24T08:36:38.559Z"
   },
   {
    "duration": 17,
    "start_time": "2023-03-24T08:36:38.599Z"
   },
   {
    "duration": 15,
    "start_time": "2023-03-24T08:36:38.618Z"
   },
   {
    "duration": 21,
    "start_time": "2023-03-24T08:36:38.635Z"
   },
   {
    "duration": 20,
    "start_time": "2023-03-24T08:36:38.658Z"
   },
   {
    "duration": 34,
    "start_time": "2023-03-24T08:36:38.686Z"
   },
   {
    "duration": 14,
    "start_time": "2023-03-24T08:36:38.722Z"
   },
   {
    "duration": 10,
    "start_time": "2023-03-24T08:36:38.738Z"
   },
   {
    "duration": 8,
    "start_time": "2023-03-24T08:36:38.749Z"
   },
   {
    "duration": 11,
    "start_time": "2023-03-24T08:36:38.759Z"
   },
   {
    "duration": 40,
    "start_time": "2023-03-24T08:36:38.779Z"
   },
   {
    "duration": 13,
    "start_time": "2023-03-24T08:36:38.821Z"
   },
   {
    "duration": 6,
    "start_time": "2023-03-24T08:36:38.836Z"
   },
   {
    "duration": 7,
    "start_time": "2023-03-24T08:36:38.843Z"
   },
   {
    "duration": 9,
    "start_time": "2023-03-24T08:36:38.854Z"
   },
   {
    "duration": 25,
    "start_time": "2023-03-24T08:36:38.864Z"
   },
   {
    "duration": 21,
    "start_time": "2023-03-24T08:36:38.891Z"
   },
   {
    "duration": 11,
    "start_time": "2023-03-24T08:36:38.914Z"
   },
   {
    "duration": 10,
    "start_time": "2023-03-24T08:36:38.926Z"
   },
   {
    "duration": 193,
    "start_time": "2023-03-24T08:36:38.938Z"
   },
   {
    "duration": 174,
    "start_time": "2023-03-24T08:36:39.133Z"
   },
   {
    "duration": 12,
    "start_time": "2023-03-24T08:36:39.308Z"
   },
   {
    "duration": 10,
    "start_time": "2023-03-24T08:36:39.322Z"
   },
   {
    "duration": 10,
    "start_time": "2023-03-24T08:36:39.334Z"
   },
   {
    "duration": 284,
    "start_time": "2023-03-24T08:36:39.346Z"
   },
   {
    "duration": 290,
    "start_time": "2023-03-24T08:36:39.631Z"
   },
   {
    "duration": 331,
    "start_time": "2023-03-24T08:36:39.923Z"
   },
   {
    "duration": 23,
    "start_time": "2023-03-24T08:36:40.255Z"
   },
   {
    "duration": 278,
    "start_time": "2023-03-24T08:36:40.280Z"
   },
   {
    "duration": 458,
    "start_time": "2023-03-24T08:36:40.560Z"
   },
   {
    "duration": 18,
    "start_time": "2023-03-24T08:36:41.020Z"
   },
   {
    "duration": 16,
    "start_time": "2023-03-24T08:36:41.040Z"
   },
   {
    "duration": 264,
    "start_time": "2023-03-24T08:36:41.058Z"
   },
   {
    "duration": 228,
    "start_time": "2023-03-24T08:36:41.323Z"
   },
   {
    "duration": 6,
    "start_time": "2023-03-24T08:36:41.553Z"
   },
   {
    "duration": 249,
    "start_time": "2023-03-24T08:36:41.560Z"
   },
   {
    "duration": 293,
    "start_time": "2023-03-24T08:36:41.811Z"
   },
   {
    "duration": 9,
    "start_time": "2023-03-24T08:36:42.114Z"
   },
   {
    "duration": 368,
    "start_time": "2023-03-24T08:36:42.125Z"
   },
   {
    "duration": 14,
    "start_time": "2023-03-24T08:36:42.495Z"
   },
   {
    "duration": 21,
    "start_time": "2023-03-24T08:36:42.511Z"
   },
   {
    "duration": 24,
    "start_time": "2023-03-24T08:36:42.534Z"
   },
   {
    "duration": 22,
    "start_time": "2023-03-24T08:36:42.559Z"
   },
   {
    "duration": 5,
    "start_time": "2023-03-24T08:36:52.002Z"
   },
   {
    "duration": 16,
    "start_time": "2023-03-24T08:36:54.169Z"
   },
   {
    "duration": 38,
    "start_time": "2023-03-24T08:36:54.197Z"
   },
   {
    "duration": 2,
    "start_time": "2023-03-24T08:36:54.237Z"
   },
   {
    "duration": 19,
    "start_time": "2023-03-24T08:36:54.241Z"
   },
   {
    "duration": 51,
    "start_time": "2023-03-24T08:36:54.262Z"
   },
   {
    "duration": 12,
    "start_time": "2023-03-24T08:36:54.315Z"
   },
   {
    "duration": 10,
    "start_time": "2023-03-24T08:36:54.329Z"
   },
   {
    "duration": 18,
    "start_time": "2023-03-24T08:36:54.341Z"
   },
   {
    "duration": 73,
    "start_time": "2023-03-24T08:36:54.360Z"
   },
   {
    "duration": 16,
    "start_time": "2023-03-24T08:36:54.437Z"
   },
   {
    "duration": 8,
    "start_time": "2023-03-24T08:36:54.455Z"
   },
   {
    "duration": 26,
    "start_time": "2023-03-24T08:36:54.465Z"
   },
   {
    "duration": 21,
    "start_time": "2023-03-24T08:36:54.497Z"
   },
   {
    "duration": 16,
    "start_time": "2023-03-24T08:36:54.522Z"
   },
   {
    "duration": 8,
    "start_time": "2023-03-24T08:36:54.540Z"
   },
   {
    "duration": 16,
    "start_time": "2023-03-24T08:36:54.549Z"
   },
   {
    "duration": 51,
    "start_time": "2023-03-24T08:36:54.567Z"
   },
   {
    "duration": 7,
    "start_time": "2023-03-24T08:36:54.620Z"
   },
   {
    "duration": 18,
    "start_time": "2023-03-24T08:36:54.628Z"
   },
   {
    "duration": 8,
    "start_time": "2023-03-24T08:36:54.647Z"
   },
   {
    "duration": 13,
    "start_time": "2023-03-24T08:36:54.657Z"
   },
   {
    "duration": 22,
    "start_time": "2023-03-24T08:36:54.690Z"
   },
   {
    "duration": 15,
    "start_time": "2023-03-24T08:36:54.714Z"
   },
   {
    "duration": 12,
    "start_time": "2023-03-24T08:36:54.731Z"
   },
   {
    "duration": 10,
    "start_time": "2023-03-24T08:36:54.744Z"
   },
   {
    "duration": 9,
    "start_time": "2023-03-24T08:36:54.756Z"
   },
   {
    "duration": 16,
    "start_time": "2023-03-24T08:36:54.766Z"
   },
   {
    "duration": 44,
    "start_time": "2023-03-24T08:36:54.783Z"
   },
   {
    "duration": 222,
    "start_time": "2023-03-24T08:36:54.829Z"
   },
   {
    "duration": 147,
    "start_time": "2023-03-24T08:36:55.053Z"
   },
   {
    "duration": 32,
    "start_time": "2023-03-24T08:36:55.205Z"
   },
   {
    "duration": 8,
    "start_time": "2023-03-24T08:36:55.238Z"
   },
   {
    "duration": 18,
    "start_time": "2023-03-24T08:36:55.247Z"
   },
   {
    "duration": 311,
    "start_time": "2023-03-24T08:36:55.266Z"
   },
   {
    "duration": 307,
    "start_time": "2023-03-24T08:36:55.578Z"
   },
   {
    "duration": 461,
    "start_time": "2023-03-24T08:36:55.887Z"
   },
   {
    "duration": 34,
    "start_time": "2023-03-24T08:36:56.350Z"
   },
   {
    "duration": 353,
    "start_time": "2023-03-24T08:36:56.386Z"
   },
   {
    "duration": 400,
    "start_time": "2023-03-24T08:36:56.740Z"
   },
   {
    "duration": 12,
    "start_time": "2023-03-24T08:36:57.141Z"
   },
   {
    "duration": 28,
    "start_time": "2023-03-24T08:36:57.157Z"
   },
   {
    "duration": 239,
    "start_time": "2023-03-24T08:36:57.186Z"
   },
   {
    "duration": 219,
    "start_time": "2023-03-24T08:36:57.427Z"
   },
   {
    "duration": 6,
    "start_time": "2023-03-24T08:36:57.648Z"
   },
   {
    "duration": 237,
    "start_time": "2023-03-24T08:36:57.656Z"
   },
   {
    "duration": 217,
    "start_time": "2023-03-24T08:36:57.894Z"
   },
   {
    "duration": 5,
    "start_time": "2023-03-24T08:36:58.113Z"
   },
   {
    "duration": 336,
    "start_time": "2023-03-24T08:36:58.119Z"
   },
   {
    "duration": 25,
    "start_time": "2023-03-24T08:36:58.457Z"
   },
   {
    "duration": 34,
    "start_time": "2023-03-24T08:36:58.488Z"
   },
   {
    "duration": 21,
    "start_time": "2023-03-24T08:36:58.524Z"
   },
   {
    "duration": 16,
    "start_time": "2023-03-24T08:36:58.546Z"
   },
   {
    "duration": 3,
    "start_time": "2023-03-24T08:37:23.733Z"
   },
   {
    "duration": 4,
    "start_time": "2023-03-24T08:37:26.026Z"
   },
   {
    "duration": 70,
    "start_time": "2023-03-24T08:37:26.032Z"
   },
   {
    "duration": 6,
    "start_time": "2023-03-24T08:37:26.108Z"
   },
   {
    "duration": 35,
    "start_time": "2023-03-24T08:37:26.116Z"
   },
   {
    "duration": 64,
    "start_time": "2023-03-24T08:37:26.153Z"
   },
   {
    "duration": 26,
    "start_time": "2023-03-24T08:37:26.219Z"
   },
   {
    "duration": 38,
    "start_time": "2023-03-24T08:37:26.247Z"
   },
   {
    "duration": 41,
    "start_time": "2023-03-24T08:37:26.286Z"
   },
   {
    "duration": 74,
    "start_time": "2023-03-24T08:37:26.330Z"
   },
   {
    "duration": 22,
    "start_time": "2023-03-24T08:37:26.406Z"
   },
   {
    "duration": 8,
    "start_time": "2023-03-24T08:37:26.429Z"
   },
   {
    "duration": 21,
    "start_time": "2023-03-24T08:37:26.438Z"
   },
   {
    "duration": 45,
    "start_time": "2023-03-24T08:37:26.460Z"
   },
   {
    "duration": 22,
    "start_time": "2023-03-24T08:37:26.507Z"
   },
   {
    "duration": 16,
    "start_time": "2023-03-24T08:37:26.531Z"
   },
   {
    "duration": 15,
    "start_time": "2023-03-24T08:37:26.548Z"
   },
   {
    "duration": 48,
    "start_time": "2023-03-24T08:37:26.565Z"
   },
   {
    "duration": 10,
    "start_time": "2023-03-24T08:37:26.615Z"
   },
   {
    "duration": 24,
    "start_time": "2023-03-24T08:37:26.627Z"
   },
   {
    "duration": 17,
    "start_time": "2023-03-24T08:37:26.653Z"
   },
   {
    "duration": 54,
    "start_time": "2023-03-24T08:37:26.676Z"
   },
   {
    "duration": 20,
    "start_time": "2023-03-24T08:37:26.732Z"
   },
   {
    "duration": 12,
    "start_time": "2023-03-24T08:37:26.753Z"
   },
   {
    "duration": 61,
    "start_time": "2023-03-24T08:37:26.769Z"
   },
   {
    "duration": 26,
    "start_time": "2023-03-24T08:37:26.832Z"
   },
   {
    "duration": 6,
    "start_time": "2023-03-24T08:37:26.859Z"
   },
   {
    "duration": 63,
    "start_time": "2023-03-24T08:37:26.866Z"
   },
   {
    "duration": 26,
    "start_time": "2023-03-24T08:37:26.931Z"
   },
   {
    "duration": 210,
    "start_time": "2023-03-24T08:37:26.958Z"
   },
   {
    "duration": 143,
    "start_time": "2023-03-24T08:37:27.170Z"
   },
   {
    "duration": 13,
    "start_time": "2023-03-24T08:37:27.314Z"
   },
   {
    "duration": 18,
    "start_time": "2023-03-24T08:37:27.328Z"
   },
   {
    "duration": 60,
    "start_time": "2023-03-24T08:37:27.347Z"
   },
   {
    "duration": 293,
    "start_time": "2023-03-24T08:37:27.409Z"
   },
   {
    "duration": 300,
    "start_time": "2023-03-24T08:37:27.704Z"
   },
   {
    "duration": 351,
    "start_time": "2023-03-24T08:37:28.006Z"
   },
   {
    "duration": 38,
    "start_time": "2023-03-24T08:37:28.359Z"
   },
   {
    "duration": 283,
    "start_time": "2023-03-24T08:37:28.407Z"
   },
   {
    "duration": 370,
    "start_time": "2023-03-24T08:37:28.691Z"
   },
   {
    "duration": 47,
    "start_time": "2023-03-24T08:37:29.063Z"
   },
   {
    "duration": 47,
    "start_time": "2023-03-24T08:37:29.113Z"
   },
   {
    "duration": 251,
    "start_time": "2023-03-24T08:37:29.163Z"
   },
   {
    "duration": 213,
    "start_time": "2023-03-24T08:37:29.415Z"
   },
   {
    "duration": 5,
    "start_time": "2023-03-24T08:37:29.630Z"
   },
   {
    "duration": 323,
    "start_time": "2023-03-24T08:37:29.636Z"
   },
   {
    "duration": 267,
    "start_time": "2023-03-24T08:37:29.961Z"
   },
   {
    "duration": 5,
    "start_time": "2023-03-24T08:37:30.230Z"
   },
   {
    "duration": 357,
    "start_time": "2023-03-24T08:37:30.236Z"
   },
   {
    "duration": 15,
    "start_time": "2023-03-24T08:37:30.602Z"
   },
   {
    "duration": 48,
    "start_time": "2023-03-24T08:37:30.618Z"
   },
   {
    "duration": 95,
    "start_time": "2023-03-24T08:37:30.668Z"
   },
   {
    "duration": 67,
    "start_time": "2023-03-24T08:37:30.765Z"
   },
   {
    "duration": 3,
    "start_time": "2023-03-24T08:37:51.602Z"
   },
   {
    "duration": 40,
    "start_time": "2023-03-24T08:37:51.608Z"
   },
   {
    "duration": 10,
    "start_time": "2023-03-24T08:37:51.650Z"
   },
   {
    "duration": 0,
    "start_time": "2023-03-24T08:37:51.662Z"
   },
   {
    "duration": 0,
    "start_time": "2023-03-24T08:37:51.663Z"
   },
   {
    "duration": 0,
    "start_time": "2023-03-24T08:37:51.664Z"
   },
   {
    "duration": 0,
    "start_time": "2023-03-24T08:37:51.665Z"
   },
   {
    "duration": 0,
    "start_time": "2023-03-24T08:37:51.667Z"
   },
   {
    "duration": 0,
    "start_time": "2023-03-24T08:37:51.668Z"
   },
   {
    "duration": 0,
    "start_time": "2023-03-24T08:37:51.669Z"
   },
   {
    "duration": 0,
    "start_time": "2023-03-24T08:37:51.670Z"
   },
   {
    "duration": 0,
    "start_time": "2023-03-24T08:37:51.682Z"
   },
   {
    "duration": 0,
    "start_time": "2023-03-24T08:37:51.685Z"
   },
   {
    "duration": 0,
    "start_time": "2023-03-24T08:37:51.685Z"
   },
   {
    "duration": 0,
    "start_time": "2023-03-24T08:37:51.686Z"
   },
   {
    "duration": 0,
    "start_time": "2023-03-24T08:37:51.687Z"
   },
   {
    "duration": 0,
    "start_time": "2023-03-24T08:37:51.688Z"
   },
   {
    "duration": 0,
    "start_time": "2023-03-24T08:37:51.688Z"
   },
   {
    "duration": 0,
    "start_time": "2023-03-24T08:37:51.689Z"
   },
   {
    "duration": 0,
    "start_time": "2023-03-24T08:37:51.702Z"
   },
   {
    "duration": 0,
    "start_time": "2023-03-24T08:37:51.703Z"
   },
   {
    "duration": 0,
    "start_time": "2023-03-24T08:37:51.704Z"
   },
   {
    "duration": 0,
    "start_time": "2023-03-24T08:37:51.705Z"
   },
   {
    "duration": 0,
    "start_time": "2023-03-24T08:37:51.710Z"
   },
   {
    "duration": 0,
    "start_time": "2023-03-24T08:37:51.710Z"
   },
   {
    "duration": 0,
    "start_time": "2023-03-24T08:37:51.711Z"
   },
   {
    "duration": 0,
    "start_time": "2023-03-24T08:37:51.712Z"
   },
   {
    "duration": 0,
    "start_time": "2023-03-24T08:37:51.713Z"
   },
   {
    "duration": 0,
    "start_time": "2023-03-24T08:37:51.714Z"
   },
   {
    "duration": 0,
    "start_time": "2023-03-24T08:37:51.715Z"
   },
   {
    "duration": 0,
    "start_time": "2023-03-24T08:37:51.718Z"
   },
   {
    "duration": 0,
    "start_time": "2023-03-24T08:37:51.719Z"
   },
   {
    "duration": 0,
    "start_time": "2023-03-24T08:37:51.720Z"
   },
   {
    "duration": 0,
    "start_time": "2023-03-24T08:37:51.722Z"
   },
   {
    "duration": 0,
    "start_time": "2023-03-24T08:37:51.723Z"
   },
   {
    "duration": 0,
    "start_time": "2023-03-24T08:37:51.724Z"
   },
   {
    "duration": 0,
    "start_time": "2023-03-24T08:37:51.726Z"
   },
   {
    "duration": 376,
    "start_time": "2023-03-24T08:37:51.730Z"
   },
   {
    "duration": 418,
    "start_time": "2023-03-24T08:37:52.108Z"
   },
   {
    "duration": 15,
    "start_time": "2023-03-24T08:37:52.527Z"
   },
   {
    "duration": 14,
    "start_time": "2023-03-24T08:37:52.543Z"
   },
   {
    "duration": 232,
    "start_time": "2023-03-24T08:37:52.582Z"
   },
   {
    "duration": 222,
    "start_time": "2023-03-24T08:37:52.815Z"
   },
   {
    "duration": 5,
    "start_time": "2023-03-24T08:37:53.039Z"
   },
   {
    "duration": 282,
    "start_time": "2023-03-24T08:37:53.046Z"
   },
   {
    "duration": 220,
    "start_time": "2023-03-24T08:37:53.330Z"
   },
   {
    "duration": 6,
    "start_time": "2023-03-24T08:37:53.551Z"
   },
   {
    "duration": 343,
    "start_time": "2023-03-24T08:37:53.558Z"
   },
   {
    "duration": 13,
    "start_time": "2023-03-24T08:37:53.903Z"
   },
   {
    "duration": 45,
    "start_time": "2023-03-24T08:37:53.917Z"
   },
   {
    "duration": 78,
    "start_time": "2023-03-24T08:37:53.964Z"
   },
   {
    "duration": 14,
    "start_time": "2023-03-24T08:37:54.044Z"
   },
   {
    "duration": 4,
    "start_time": "2023-03-24T08:38:04.513Z"
   },
   {
    "duration": 32,
    "start_time": "2023-03-24T08:38:04.518Z"
   },
   {
    "duration": 3,
    "start_time": "2023-03-24T08:38:04.551Z"
   },
   {
    "duration": 33,
    "start_time": "2023-03-24T08:38:04.556Z"
   },
   {
    "duration": 16,
    "start_time": "2023-03-24T08:38:04.597Z"
   },
   {
    "duration": 16,
    "start_time": "2023-03-24T08:38:04.615Z"
   },
   {
    "duration": 7,
    "start_time": "2023-03-24T08:38:04.633Z"
   },
   {
    "duration": 10,
    "start_time": "2023-03-24T08:38:04.642Z"
   },
   {
    "duration": 86,
    "start_time": "2023-03-24T08:38:04.654Z"
   },
   {
    "duration": 16,
    "start_time": "2023-03-24T08:38:04.743Z"
   },
   {
    "duration": 7,
    "start_time": "2023-03-24T08:38:04.761Z"
   },
   {
    "duration": 48,
    "start_time": "2023-03-24T08:38:04.770Z"
   },
   {
    "duration": 11,
    "start_time": "2023-03-24T08:38:04.820Z"
   },
   {
    "duration": 22,
    "start_time": "2023-03-24T08:38:04.832Z"
   },
   {
    "duration": 9,
    "start_time": "2023-03-24T08:38:04.858Z"
   },
   {
    "duration": 51,
    "start_time": "2023-03-24T08:38:04.869Z"
   },
   {
    "duration": 14,
    "start_time": "2023-03-24T08:38:04.922Z"
   },
   {
    "duration": 12,
    "start_time": "2023-03-24T08:38:04.938Z"
   },
   {
    "duration": 14,
    "start_time": "2023-03-24T08:38:04.951Z"
   },
   {
    "duration": 38,
    "start_time": "2023-03-24T08:38:04.967Z"
   },
   {
    "duration": 23,
    "start_time": "2023-03-24T08:38:05.007Z"
   },
   {
    "duration": 9,
    "start_time": "2023-03-24T08:38:05.035Z"
   },
   {
    "duration": 12,
    "start_time": "2023-03-24T08:38:05.046Z"
   },
   {
    "duration": 68,
    "start_time": "2023-03-24T08:38:05.060Z"
   },
   {
    "duration": 13,
    "start_time": "2023-03-24T08:38:05.130Z"
   },
   {
    "duration": 10,
    "start_time": "2023-03-24T08:38:05.145Z"
   },
   {
    "duration": 45,
    "start_time": "2023-03-24T08:38:05.156Z"
   },
   {
    "duration": 17,
    "start_time": "2023-03-24T08:38:05.206Z"
   },
   {
    "duration": 258,
    "start_time": "2023-03-24T08:38:05.225Z"
   },
   {
    "duration": 140,
    "start_time": "2023-03-24T08:38:05.485Z"
   },
   {
    "duration": 13,
    "start_time": "2023-03-24T08:38:05.626Z"
   },
   {
    "duration": 19,
    "start_time": "2023-03-24T08:38:05.640Z"
   },
   {
    "duration": 50,
    "start_time": "2023-03-24T08:38:05.660Z"
   },
   {
    "duration": 304,
    "start_time": "2023-03-24T08:38:05.712Z"
   },
   {
    "duration": 319,
    "start_time": "2023-03-24T08:38:06.018Z"
   },
   {
    "duration": 348,
    "start_time": "2023-03-24T08:38:06.338Z"
   },
   {
    "duration": 22,
    "start_time": "2023-03-24T08:38:06.687Z"
   },
   {
    "duration": 298,
    "start_time": "2023-03-24T08:38:06.711Z"
   },
   {
    "duration": 371,
    "start_time": "2023-03-24T08:38:07.015Z"
   },
   {
    "duration": 15,
    "start_time": "2023-03-24T08:38:07.398Z"
   },
   {
    "duration": 11,
    "start_time": "2023-03-24T08:38:07.415Z"
   },
   {
    "duration": 205,
    "start_time": "2023-03-24T08:38:07.427Z"
   },
   {
    "duration": 226,
    "start_time": "2023-03-24T08:38:07.634Z"
   },
   {
    "duration": 18,
    "start_time": "2023-03-24T08:38:07.863Z"
   },
   {
    "duration": 234,
    "start_time": "2023-03-24T08:38:07.882Z"
   },
   {
    "duration": 220,
    "start_time": "2023-03-24T08:38:08.118Z"
   },
   {
    "duration": 5,
    "start_time": "2023-03-24T08:38:08.340Z"
   },
   {
    "duration": 482,
    "start_time": "2023-03-24T08:38:08.347Z"
   },
   {
    "duration": 9,
    "start_time": "2023-03-24T08:38:08.831Z"
   },
   {
    "duration": 11,
    "start_time": "2023-03-24T08:38:08.842Z"
   },
   {
    "duration": 54,
    "start_time": "2023-03-24T08:38:08.872Z"
   },
   {
    "duration": 13,
    "start_time": "2023-03-24T08:38:08.928Z"
   },
   {
    "duration": 4,
    "start_time": "2023-03-24T08:41:36.913Z"
   },
   {
    "duration": 35,
    "start_time": "2023-03-24T08:41:36.919Z"
   },
   {
    "duration": 3,
    "start_time": "2023-03-24T08:41:36.956Z"
   },
   {
    "duration": 55,
    "start_time": "2023-03-24T08:41:36.960Z"
   },
   {
    "duration": 4,
    "start_time": "2023-03-24T08:41:37.017Z"
   },
   {
    "duration": 13,
    "start_time": "2023-03-24T08:41:37.022Z"
   },
   {
    "duration": 26,
    "start_time": "2023-03-24T08:41:37.037Z"
   },
   {
    "duration": 57,
    "start_time": "2023-03-24T08:41:37.065Z"
   },
   {
    "duration": 52,
    "start_time": "2023-03-24T08:41:37.125Z"
   },
   {
    "duration": 29,
    "start_time": "2023-03-24T08:41:37.178Z"
   },
   {
    "duration": 9,
    "start_time": "2023-03-24T08:41:37.209Z"
   },
   {
    "duration": 15,
    "start_time": "2023-03-24T08:41:37.220Z"
   },
   {
    "duration": 17,
    "start_time": "2023-03-24T08:41:37.237Z"
   },
   {
    "duration": 35,
    "start_time": "2023-03-24T08:41:37.256Z"
   },
   {
    "duration": 22,
    "start_time": "2023-03-24T08:41:37.293Z"
   },
   {
    "duration": 14,
    "start_time": "2023-03-24T08:41:37.316Z"
   },
   {
    "duration": 12,
    "start_time": "2023-03-24T08:41:37.331Z"
   },
   {
    "duration": 11,
    "start_time": "2023-03-24T08:41:37.344Z"
   },
   {
    "duration": 48,
    "start_time": "2023-03-24T08:41:37.356Z"
   },
   {
    "duration": 21,
    "start_time": "2023-03-24T08:41:37.406Z"
   },
   {
    "duration": 25,
    "start_time": "2023-03-24T08:41:37.429Z"
   },
   {
    "duration": 14,
    "start_time": "2023-03-24T08:41:37.456Z"
   },
   {
    "duration": 55,
    "start_time": "2023-03-24T08:41:37.471Z"
   },
   {
    "duration": 18,
    "start_time": "2023-03-24T08:41:37.529Z"
   },
   {
    "duration": 13,
    "start_time": "2023-03-24T08:41:37.549Z"
   },
   {
    "duration": 20,
    "start_time": "2023-03-24T08:41:37.563Z"
   },
   {
    "duration": 33,
    "start_time": "2023-03-24T08:41:37.584Z"
   },
   {
    "duration": 16,
    "start_time": "2023-03-24T08:41:37.618Z"
   },
   {
    "duration": 193,
    "start_time": "2023-03-24T08:41:37.636Z"
   },
   {
    "duration": 140,
    "start_time": "2023-03-24T08:41:37.830Z"
   },
   {
    "duration": 17,
    "start_time": "2023-03-24T08:41:37.978Z"
   },
   {
    "duration": 12,
    "start_time": "2023-03-24T08:41:38.005Z"
   },
   {
    "duration": 7,
    "start_time": "2023-03-24T08:41:38.019Z"
   },
   {
    "duration": 291,
    "start_time": "2023-03-24T08:41:38.028Z"
   },
   {
    "duration": 268,
    "start_time": "2023-03-24T08:41:38.321Z"
   },
   {
    "duration": 332,
    "start_time": "2023-03-24T08:41:38.590Z"
   },
   {
    "duration": 13,
    "start_time": "2023-03-24T08:41:38.924Z"
   },
   {
    "duration": 321,
    "start_time": "2023-03-24T08:41:38.939Z"
   },
   {
    "duration": 434,
    "start_time": "2023-03-24T08:41:39.262Z"
   },
   {
    "duration": 11,
    "start_time": "2023-03-24T08:41:39.708Z"
   },
   {
    "duration": 19,
    "start_time": "2023-03-24T08:41:39.721Z"
   },
   {
    "duration": 213,
    "start_time": "2023-03-24T08:41:39.741Z"
   },
   {
    "duration": 234,
    "start_time": "2023-03-24T08:41:39.955Z"
   },
   {
    "duration": 10,
    "start_time": "2023-03-24T08:41:40.191Z"
   },
   {
    "duration": 217,
    "start_time": "2023-03-24T08:41:40.203Z"
   },
   {
    "duration": 210,
    "start_time": "2023-03-24T08:41:40.422Z"
   },
   {
    "duration": 5,
    "start_time": "2023-03-24T08:41:40.634Z"
   },
   {
    "duration": 369,
    "start_time": "2023-03-24T08:41:40.641Z"
   },
   {
    "duration": 10,
    "start_time": "2023-03-24T08:41:41.012Z"
   },
   {
    "duration": 16,
    "start_time": "2023-03-24T08:41:41.023Z"
   },
   {
    "duration": 26,
    "start_time": "2023-03-24T08:41:41.040Z"
   },
   {
    "duration": 22,
    "start_time": "2023-03-24T08:41:41.067Z"
   },
   {
    "duration": 3,
    "start_time": "2023-03-24T08:44:44.566Z"
   },
   {
    "duration": 62,
    "start_time": "2023-03-24T08:44:44.571Z"
   },
   {
    "duration": 3,
    "start_time": "2023-03-24T08:44:44.635Z"
   },
   {
    "duration": 24,
    "start_time": "2023-03-24T08:44:44.639Z"
   },
   {
    "duration": 32,
    "start_time": "2023-03-24T08:44:44.666Z"
   },
   {
    "duration": 16,
    "start_time": "2023-03-24T08:44:44.701Z"
   },
   {
    "duration": 13,
    "start_time": "2023-03-24T08:44:44.718Z"
   },
   {
    "duration": 15,
    "start_time": "2023-03-24T08:44:44.733Z"
   },
   {
    "duration": 55,
    "start_time": "2023-03-24T08:44:44.749Z"
   },
   {
    "duration": 15,
    "start_time": "2023-03-24T08:44:44.806Z"
   },
   {
    "duration": 9,
    "start_time": "2023-03-24T08:44:44.822Z"
   },
   {
    "duration": 19,
    "start_time": "2023-03-24T08:44:44.832Z"
   },
   {
    "duration": 6,
    "start_time": "2023-03-24T08:44:44.853Z"
   },
   {
    "duration": 38,
    "start_time": "2023-03-24T08:44:44.863Z"
   },
   {
    "duration": 25,
    "start_time": "2023-03-24T08:44:44.902Z"
   },
   {
    "duration": 24,
    "start_time": "2023-03-24T08:44:44.928Z"
   },
   {
    "duration": 8,
    "start_time": "2023-03-24T08:44:44.954Z"
   },
   {
    "duration": 17,
    "start_time": "2023-03-24T08:44:44.964Z"
   },
   {
    "duration": 18,
    "start_time": "2023-03-24T08:44:44.995Z"
   },
   {
    "duration": 15,
    "start_time": "2023-03-24T08:44:45.015Z"
   },
   {
    "duration": 35,
    "start_time": "2023-03-24T08:44:45.031Z"
   },
   {
    "duration": 62,
    "start_time": "2023-03-24T08:44:45.068Z"
   },
   {
    "duration": 13,
    "start_time": "2023-03-24T08:44:45.132Z"
   },
   {
    "duration": 13,
    "start_time": "2023-03-24T08:44:45.146Z"
   },
   {
    "duration": 16,
    "start_time": "2023-03-24T08:44:45.160Z"
   },
   {
    "duration": 50,
    "start_time": "2023-03-24T08:44:45.178Z"
   },
   {
    "duration": 20,
    "start_time": "2023-03-24T08:44:45.230Z"
   },
   {
    "duration": 41,
    "start_time": "2023-03-24T08:44:45.252Z"
   },
   {
    "duration": 233,
    "start_time": "2023-03-24T08:44:45.294Z"
   },
   {
    "duration": 135,
    "start_time": "2023-03-24T08:44:45.529Z"
   },
   {
    "duration": 33,
    "start_time": "2023-03-24T08:44:45.666Z"
   },
   {
    "duration": 20,
    "start_time": "2023-03-24T08:44:45.701Z"
   },
   {
    "duration": 12,
    "start_time": "2023-03-24T08:44:45.725Z"
   },
   {
    "duration": 316,
    "start_time": "2023-03-24T08:44:45.738Z"
   },
   {
    "duration": 377,
    "start_time": "2023-03-24T08:44:46.055Z"
   },
   {
    "duration": 391,
    "start_time": "2023-03-24T08:44:46.434Z"
   },
   {
    "duration": 13,
    "start_time": "2023-03-24T08:44:46.826Z"
   },
   {
    "duration": 298,
    "start_time": "2023-03-24T08:44:46.841Z"
   },
   {
    "duration": 392,
    "start_time": "2023-03-24T08:44:47.141Z"
   },
   {
    "duration": 9,
    "start_time": "2023-03-24T08:44:47.535Z"
   },
   {
    "duration": 15,
    "start_time": "2023-03-24T08:44:47.547Z"
   },
   {
    "duration": 209,
    "start_time": "2023-03-24T08:44:47.572Z"
   },
   {
    "duration": 207,
    "start_time": "2023-03-24T08:44:47.783Z"
   },
   {
    "duration": 5,
    "start_time": "2023-03-24T08:44:47.991Z"
   },
   {
    "duration": 210,
    "start_time": "2023-03-24T08:44:47.997Z"
   },
   {
    "duration": 210,
    "start_time": "2023-03-24T08:44:48.208Z"
   },
   {
    "duration": 6,
    "start_time": "2023-03-24T08:44:48.420Z"
   },
   {
    "duration": 358,
    "start_time": "2023-03-24T08:44:48.427Z"
   },
   {
    "duration": 11,
    "start_time": "2023-03-24T08:44:48.794Z"
   },
   {
    "duration": 13,
    "start_time": "2023-03-24T08:44:48.807Z"
   },
   {
    "duration": 17,
    "start_time": "2023-03-24T08:44:48.822Z"
   },
   {
    "duration": 13,
    "start_time": "2023-03-24T08:44:48.840Z"
   },
   {
    "duration": 3,
    "start_time": "2023-03-24T09:06:14.686Z"
   },
   {
    "duration": 31,
    "start_time": "2023-03-24T09:06:14.690Z"
   },
   {
    "duration": 3,
    "start_time": "2023-03-24T09:06:14.722Z"
   },
   {
    "duration": 11,
    "start_time": "2023-03-24T09:06:14.728Z"
   },
   {
    "duration": 7,
    "start_time": "2023-03-24T09:06:14.740Z"
   },
   {
    "duration": 14,
    "start_time": "2023-03-24T09:06:14.748Z"
   },
   {
    "duration": 20,
    "start_time": "2023-03-24T09:06:14.763Z"
   },
   {
    "duration": 25,
    "start_time": "2023-03-24T09:06:14.785Z"
   },
   {
    "duration": 37,
    "start_time": "2023-03-24T09:06:14.813Z"
   },
   {
    "duration": 15,
    "start_time": "2023-03-24T09:06:14.851Z"
   },
   {
    "duration": 16,
    "start_time": "2023-03-24T09:06:14.867Z"
   },
   {
    "duration": 20,
    "start_time": "2023-03-24T09:06:14.885Z"
   },
   {
    "duration": 6,
    "start_time": "2023-03-24T09:06:14.906Z"
   },
   {
    "duration": 24,
    "start_time": "2023-03-24T09:06:14.914Z"
   },
   {
    "duration": 10,
    "start_time": "2023-03-24T09:06:14.939Z"
   },
   {
    "duration": 10,
    "start_time": "2023-03-24T09:06:14.951Z"
   },
   {
    "duration": 19,
    "start_time": "2023-03-24T09:06:14.963Z"
   },
   {
    "duration": 6,
    "start_time": "2023-03-24T09:06:14.984Z"
   },
   {
    "duration": 18,
    "start_time": "2023-03-24T09:06:14.991Z"
   },
   {
    "duration": 34,
    "start_time": "2023-03-24T09:06:15.011Z"
   },
   {
    "duration": 46,
    "start_time": "2023-03-24T09:06:15.046Z"
   },
   {
    "duration": 23,
    "start_time": "2023-03-24T09:06:15.094Z"
   },
   {
    "duration": 28,
    "start_time": "2023-03-24T09:06:15.119Z"
   },
   {
    "duration": 9,
    "start_time": "2023-03-24T09:06:15.150Z"
   },
   {
    "duration": 187,
    "start_time": "2023-03-24T09:06:15.161Z"
   },
   {
    "duration": 135,
    "start_time": "2023-03-24T09:06:15.349Z"
   },
   {
    "duration": 12,
    "start_time": "2023-03-24T09:06:15.486Z"
   },
   {
    "duration": 9,
    "start_time": "2023-03-24T09:06:15.500Z"
   },
   {
    "duration": 9,
    "start_time": "2023-03-24T09:06:15.510Z"
   },
   {
    "duration": 289,
    "start_time": "2023-03-24T09:06:15.520Z"
   },
   {
    "duration": 286,
    "start_time": "2023-03-24T09:06:15.811Z"
   },
   {
    "duration": 526,
    "start_time": "2023-03-24T09:06:16.099Z"
   },
   {
    "duration": 11,
    "start_time": "2023-03-24T09:06:16.626Z"
   },
   {
    "duration": 308,
    "start_time": "2023-03-24T09:06:16.638Z"
   },
   {
    "duration": 403,
    "start_time": "2023-03-24T09:06:16.947Z"
   },
   {
    "duration": 10,
    "start_time": "2023-03-24T09:06:17.352Z"
   },
   {
    "duration": 21,
    "start_time": "2023-03-24T09:06:17.372Z"
   },
   {
    "duration": 208,
    "start_time": "2023-03-24T09:06:17.394Z"
   },
   {
    "duration": 256,
    "start_time": "2023-03-24T09:06:17.604Z"
   },
   {
    "duration": 5,
    "start_time": "2023-03-24T09:06:17.861Z"
   },
   {
    "duration": 224,
    "start_time": "2023-03-24T09:06:17.867Z"
   },
   {
    "duration": 211,
    "start_time": "2023-03-24T09:06:18.093Z"
   },
   {
    "duration": 6,
    "start_time": "2023-03-24T09:06:18.306Z"
   },
   {
    "duration": 403,
    "start_time": "2023-03-24T09:06:18.314Z"
   },
   {
    "duration": 64,
    "start_time": "2023-03-24T09:06:18.719Z"
   },
   {
    "duration": 16,
    "start_time": "2023-03-24T09:06:18.784Z"
   },
   {
    "duration": 44,
    "start_time": "2023-03-24T09:06:18.802Z"
   },
   {
    "duration": 25,
    "start_time": "2023-03-24T09:06:18.848Z"
   },
   {
    "duration": 27,
    "start_time": "2023-03-24T10:11:49.205Z"
   },
   {
    "duration": 3,
    "start_time": "2023-03-24T10:12:00.458Z"
   },
   {
    "duration": 55,
    "start_time": "2023-03-24T10:12:00.463Z"
   },
   {
    "duration": 11,
    "start_time": "2023-03-24T10:12:00.520Z"
   },
   {
    "duration": 47,
    "start_time": "2023-03-24T10:12:00.533Z"
   },
   {
    "duration": 35,
    "start_time": "2023-03-24T10:12:00.581Z"
   },
   {
    "duration": 62,
    "start_time": "2023-03-24T10:12:00.617Z"
   },
   {
    "duration": 61,
    "start_time": "2023-03-24T10:12:00.680Z"
   },
   {
    "duration": 64,
    "start_time": "2023-03-24T10:12:00.743Z"
   },
   {
    "duration": 108,
    "start_time": "2023-03-24T10:12:00.810Z"
   },
   {
    "duration": 15,
    "start_time": "2023-03-24T10:12:00.920Z"
   },
   {
    "duration": 84,
    "start_time": "2023-03-24T10:12:00.936Z"
   },
   {
    "duration": 36,
    "start_time": "2023-03-24T10:12:01.021Z"
   },
   {
    "duration": 26,
    "start_time": "2023-03-24T10:12:01.059Z"
   },
   {
    "duration": 44,
    "start_time": "2023-03-24T10:12:01.087Z"
   },
   {
    "duration": 69,
    "start_time": "2023-03-24T10:12:01.133Z"
   },
   {
    "duration": 35,
    "start_time": "2023-03-24T10:12:01.204Z"
   },
   {
    "duration": 25,
    "start_time": "2023-03-24T10:12:01.241Z"
   },
   {
    "duration": 39,
    "start_time": "2023-03-24T10:12:01.268Z"
   },
   {
    "duration": 43,
    "start_time": "2023-03-24T10:12:01.308Z"
   },
   {
    "duration": 22,
    "start_time": "2023-03-24T10:12:01.352Z"
   },
   {
    "duration": 36,
    "start_time": "2023-03-24T10:12:01.376Z"
   },
   {
    "duration": 49,
    "start_time": "2023-03-24T10:12:01.413Z"
   },
   {
    "duration": 30,
    "start_time": "2023-03-24T10:12:01.464Z"
   },
   {
    "duration": 40,
    "start_time": "2023-03-24T10:12:01.497Z"
   },
   {
    "duration": 219,
    "start_time": "2023-03-24T10:12:01.539Z"
   },
   {
    "duration": 123,
    "start_time": "2023-03-24T10:12:01.759Z"
   },
   {
    "duration": 12,
    "start_time": "2023-03-24T10:12:01.884Z"
   },
   {
    "duration": 63,
    "start_time": "2023-03-24T10:12:01.898Z"
   },
   {
    "duration": 38,
    "start_time": "2023-03-24T10:12:01.962Z"
   },
   {
    "duration": 255,
    "start_time": "2023-03-24T10:12:02.001Z"
   },
   {
    "duration": 251,
    "start_time": "2023-03-24T10:12:02.258Z"
   },
   {
    "duration": 311,
    "start_time": "2023-03-24T10:12:02.511Z"
   },
   {
    "duration": 10,
    "start_time": "2023-03-24T10:12:02.823Z"
   },
   {
    "duration": 269,
    "start_time": "2023-03-24T10:12:02.834Z"
   },
   {
    "duration": 335,
    "start_time": "2023-03-24T10:12:03.105Z"
   },
   {
    "duration": 9,
    "start_time": "2023-03-24T10:12:03.441Z"
   },
   {
    "duration": 20,
    "start_time": "2023-03-24T10:12:03.452Z"
   },
   {
    "duration": 187,
    "start_time": "2023-03-24T10:12:03.474Z"
   },
   {
    "duration": 191,
    "start_time": "2023-03-24T10:12:03.662Z"
   },
   {
    "duration": 4,
    "start_time": "2023-03-24T10:12:03.855Z"
   },
   {
    "duration": 190,
    "start_time": "2023-03-24T10:12:03.860Z"
   },
   {
    "duration": 202,
    "start_time": "2023-03-24T10:12:04.052Z"
   },
   {
    "duration": 4,
    "start_time": "2023-03-24T10:12:04.256Z"
   },
   {
    "duration": 311,
    "start_time": "2023-03-24T10:12:04.271Z"
   },
   {
    "duration": 10,
    "start_time": "2023-03-24T10:12:04.584Z"
   },
   {
    "duration": 10,
    "start_time": "2023-03-24T10:12:04.595Z"
   },
   {
    "duration": 19,
    "start_time": "2023-03-24T10:12:04.606Z"
   },
   {
    "duration": 11,
    "start_time": "2023-03-24T10:12:04.626Z"
   },
   {
    "duration": 3,
    "start_time": "2023-03-24T10:13:25.339Z"
   },
   {
    "duration": 48,
    "start_time": "2023-03-24T10:13:25.344Z"
   },
   {
    "duration": 4,
    "start_time": "2023-03-24T10:13:25.393Z"
   },
   {
    "duration": 30,
    "start_time": "2023-03-24T10:13:25.398Z"
   },
   {
    "duration": 26,
    "start_time": "2023-03-24T10:13:25.429Z"
   },
   {
    "duration": 18,
    "start_time": "2023-03-24T10:13:25.456Z"
   },
   {
    "duration": 38,
    "start_time": "2023-03-24T10:13:25.475Z"
   },
   {
    "duration": 31,
    "start_time": "2023-03-24T10:13:25.515Z"
   },
   {
    "duration": 72,
    "start_time": "2023-03-24T10:13:25.548Z"
   },
   {
    "duration": 10,
    "start_time": "2023-03-24T10:13:25.622Z"
   },
   {
    "duration": 49,
    "start_time": "2023-03-24T10:13:25.634Z"
   },
   {
    "duration": 52,
    "start_time": "2023-03-24T10:13:25.685Z"
   },
   {
    "duration": 23,
    "start_time": "2023-03-24T10:13:25.739Z"
   },
   {
    "duration": 28,
    "start_time": "2023-03-24T10:13:25.764Z"
   },
   {
    "duration": 39,
    "start_time": "2023-03-24T10:13:25.794Z"
   },
   {
    "duration": 18,
    "start_time": "2023-03-24T10:13:25.835Z"
   },
   {
    "duration": 5,
    "start_time": "2023-03-24T10:13:25.855Z"
   },
   {
    "duration": 28,
    "start_time": "2023-03-24T10:13:25.861Z"
   },
   {
    "duration": 27,
    "start_time": "2023-03-24T10:13:25.890Z"
   },
   {
    "duration": 33,
    "start_time": "2023-03-24T10:13:25.918Z"
   },
   {
    "duration": 10,
    "start_time": "2023-03-24T10:13:25.955Z"
   },
   {
    "duration": 18,
    "start_time": "2023-03-24T10:13:25.967Z"
   },
   {
    "duration": 17,
    "start_time": "2023-03-24T10:13:25.986Z"
   },
   {
    "duration": 237,
    "start_time": "2023-03-24T10:13:26.007Z"
   },
   {
    "duration": 113,
    "start_time": "2023-03-24T10:13:26.246Z"
   },
   {
    "duration": 17,
    "start_time": "2023-03-24T10:13:26.360Z"
   },
   {
    "duration": 10,
    "start_time": "2023-03-24T10:13:26.379Z"
   },
   {
    "duration": 16,
    "start_time": "2023-03-24T10:13:26.390Z"
   },
   {
    "duration": 253,
    "start_time": "2023-03-24T10:13:26.408Z"
   },
   {
    "duration": 281,
    "start_time": "2023-03-24T10:13:26.663Z"
   },
   {
    "duration": 364,
    "start_time": "2023-03-24T10:13:26.945Z"
   },
   {
    "duration": 9,
    "start_time": "2023-03-24T10:13:27.311Z"
   },
   {
    "duration": 275,
    "start_time": "2023-03-24T10:13:27.322Z"
   },
   {
    "duration": 358,
    "start_time": "2023-03-24T10:13:27.599Z"
   },
   {
    "duration": 16,
    "start_time": "2023-03-24T10:13:27.959Z"
   },
   {
    "duration": 15,
    "start_time": "2023-03-24T10:13:27.976Z"
   },
   {
    "duration": 210,
    "start_time": "2023-03-24T10:13:27.992Z"
   },
   {
    "duration": 213,
    "start_time": "2023-03-24T10:13:28.203Z"
   },
   {
    "duration": 5,
    "start_time": "2023-03-24T10:13:28.418Z"
   },
   {
    "duration": 210,
    "start_time": "2023-03-24T10:13:28.425Z"
   },
   {
    "duration": 207,
    "start_time": "2023-03-24T10:13:28.637Z"
   },
   {
    "duration": 5,
    "start_time": "2023-03-24T10:13:28.845Z"
   },
   {
    "duration": 476,
    "start_time": "2023-03-24T10:13:28.852Z"
   },
   {
    "duration": 9,
    "start_time": "2023-03-24T10:13:29.330Z"
   },
   {
    "duration": 11,
    "start_time": "2023-03-24T10:13:29.340Z"
   },
   {
    "duration": 37,
    "start_time": "2023-03-24T10:13:29.352Z"
   },
   {
    "duration": 11,
    "start_time": "2023-03-24T10:13:29.390Z"
   },
   {
    "duration": 3,
    "start_time": "2023-03-24T10:21:47.616Z"
   },
   {
    "duration": 27,
    "start_time": "2023-03-24T10:21:47.635Z"
   },
   {
    "duration": 2,
    "start_time": "2023-03-24T10:21:47.664Z"
   },
   {
    "duration": 11,
    "start_time": "2023-03-24T10:21:47.668Z"
   },
   {
    "duration": 8,
    "start_time": "2023-03-24T10:21:47.682Z"
   },
   {
    "duration": 14,
    "start_time": "2023-03-24T10:21:47.692Z"
   },
   {
    "duration": 16,
    "start_time": "2023-03-24T10:21:47.708Z"
   },
   {
    "duration": 15,
    "start_time": "2023-03-24T10:21:47.725Z"
   },
   {
    "duration": 62,
    "start_time": "2023-03-24T10:21:47.741Z"
   },
   {
    "duration": 8,
    "start_time": "2023-03-24T10:21:47.805Z"
   },
   {
    "duration": 20,
    "start_time": "2023-03-24T10:21:47.814Z"
   },
   {
    "duration": 8,
    "start_time": "2023-03-24T10:21:47.835Z"
   },
   {
    "duration": 14,
    "start_time": "2023-03-24T10:21:47.844Z"
   },
   {
    "duration": 11,
    "start_time": "2023-03-24T10:21:47.859Z"
   },
   {
    "duration": 12,
    "start_time": "2023-03-24T10:21:47.873Z"
   },
   {
    "duration": 9,
    "start_time": "2023-03-24T10:21:47.886Z"
   },
   {
    "duration": 6,
    "start_time": "2023-03-24T10:21:47.896Z"
   },
   {
    "duration": 13,
    "start_time": "2023-03-24T10:21:47.904Z"
   },
   {
    "duration": 9,
    "start_time": "2023-03-24T10:21:47.918Z"
   },
   {
    "duration": 13,
    "start_time": "2023-03-24T10:21:47.928Z"
   },
   {
    "duration": 5,
    "start_time": "2023-03-24T10:21:47.942Z"
   },
   {
    "duration": 24,
    "start_time": "2023-03-24T10:21:47.948Z"
   },
   {
    "duration": 9,
    "start_time": "2023-03-24T10:21:47.973Z"
   },
   {
    "duration": 180,
    "start_time": "2023-03-24T10:21:47.983Z"
   },
   {
    "duration": 116,
    "start_time": "2023-03-24T10:21:48.165Z"
   },
   {
    "duration": 12,
    "start_time": "2023-03-24T10:21:48.282Z"
   },
   {
    "duration": 9,
    "start_time": "2023-03-24T10:21:48.295Z"
   },
   {
    "duration": 6,
    "start_time": "2023-03-24T10:21:48.305Z"
   },
   {
    "duration": 259,
    "start_time": "2023-03-24T10:21:48.313Z"
   },
   {
    "duration": 265,
    "start_time": "2023-03-24T10:21:48.573Z"
   },
   {
    "duration": 351,
    "start_time": "2023-03-24T10:21:48.840Z"
   },
   {
    "duration": 10,
    "start_time": "2023-03-24T10:21:49.192Z"
   },
   {
    "duration": 272,
    "start_time": "2023-03-24T10:21:49.203Z"
   },
   {
    "duration": 360,
    "start_time": "2023-03-24T10:21:49.476Z"
   },
   {
    "duration": 9,
    "start_time": "2023-03-24T10:21:49.838Z"
   },
   {
    "duration": 24,
    "start_time": "2023-03-24T10:21:49.848Z"
   },
   {
    "duration": 201,
    "start_time": "2023-03-24T10:21:49.874Z"
   },
   {
    "duration": 205,
    "start_time": "2023-03-24T10:21:50.076Z"
   },
   {
    "duration": 4,
    "start_time": "2023-03-24T10:21:50.283Z"
   },
   {
    "duration": 201,
    "start_time": "2023-03-24T10:21:50.288Z"
   },
   {
    "duration": 194,
    "start_time": "2023-03-24T10:21:50.490Z"
   },
   {
    "duration": 4,
    "start_time": "2023-03-24T10:21:50.688Z"
   },
   {
    "duration": 318,
    "start_time": "2023-03-24T10:21:50.693Z"
   },
   {
    "duration": 8,
    "start_time": "2023-03-24T10:21:51.013Z"
   },
   {
    "duration": 13,
    "start_time": "2023-03-24T10:21:51.023Z"
   },
   {
    "duration": 19,
    "start_time": "2023-03-24T10:21:51.038Z"
   },
   {
    "duration": 13,
    "start_time": "2023-03-24T10:21:51.073Z"
   },
   {
    "duration": 1115,
    "start_time": "2023-03-24T13:18:27.242Z"
   },
   {
    "duration": 150,
    "start_time": "2023-03-24T13:18:28.360Z"
   },
   {
    "duration": 3,
    "start_time": "2023-03-24T13:18:28.513Z"
   },
   {
    "duration": 16,
    "start_time": "2023-03-24T13:18:28.519Z"
   },
   {
    "duration": 4,
    "start_time": "2023-03-24T13:18:28.539Z"
   },
   {
    "duration": 16,
    "start_time": "2023-03-24T13:18:28.545Z"
   },
   {
    "duration": 41,
    "start_time": "2023-03-24T13:18:28.564Z"
   },
   {
    "duration": 17,
    "start_time": "2023-03-24T13:18:28.608Z"
   },
   {
    "duration": 152,
    "start_time": "2023-03-24T13:18:28.627Z"
   },
   {
    "duration": 12,
    "start_time": "2023-03-24T13:18:28.782Z"
   },
   {
    "duration": 23,
    "start_time": "2023-03-24T13:18:28.796Z"
   },
   {
    "duration": 9,
    "start_time": "2023-03-24T13:18:28.821Z"
   },
   {
    "duration": 20,
    "start_time": "2023-03-24T13:18:28.832Z"
   },
   {
    "duration": 9,
    "start_time": "2023-03-24T13:18:28.856Z"
   },
   {
    "duration": 37,
    "start_time": "2023-03-24T13:18:28.867Z"
   },
   {
    "duration": 14,
    "start_time": "2023-03-24T13:18:28.906Z"
   },
   {
    "duration": 6,
    "start_time": "2023-03-24T13:18:28.922Z"
   },
   {
    "duration": 11,
    "start_time": "2023-03-24T13:18:28.930Z"
   },
   {
    "duration": 8,
    "start_time": "2023-03-24T13:18:28.943Z"
   },
   {
    "duration": 13,
    "start_time": "2023-03-24T13:18:28.953Z"
   },
   {
    "duration": 5,
    "start_time": "2023-03-24T13:18:29.005Z"
   },
   {
    "duration": 9,
    "start_time": "2023-03-24T13:18:29.012Z"
   },
   {
    "duration": 18,
    "start_time": "2023-03-24T13:18:29.023Z"
   },
   {
    "duration": 237,
    "start_time": "2023-03-24T13:18:29.043Z"
   },
   {
    "duration": 163,
    "start_time": "2023-03-24T13:18:29.282Z"
   },
   {
    "duration": 13,
    "start_time": "2023-03-24T13:18:29.447Z"
   },
   {
    "duration": 15,
    "start_time": "2023-03-24T13:18:29.462Z"
   },
   {
    "duration": 24,
    "start_time": "2023-03-24T13:18:29.479Z"
   },
   {
    "duration": 380,
    "start_time": "2023-03-24T13:18:29.505Z"
   },
   {
    "duration": 306,
    "start_time": "2023-03-24T13:18:29.888Z"
   },
   {
    "duration": 429,
    "start_time": "2023-03-24T13:18:30.196Z"
   },
   {
    "duration": 15,
    "start_time": "2023-03-24T13:18:30.629Z"
   },
   {
    "duration": 326,
    "start_time": "2023-03-24T13:18:30.645Z"
   },
   {
    "duration": 458,
    "start_time": "2023-03-24T13:18:30.974Z"
   },
   {
    "duration": 11,
    "start_time": "2023-03-24T13:18:31.434Z"
   },
   {
    "duration": 31,
    "start_time": "2023-03-24T13:18:31.448Z"
   },
   {
    "duration": 236,
    "start_time": "2023-03-24T13:18:31.481Z"
   },
   {
    "duration": 278,
    "start_time": "2023-03-24T13:18:31.720Z"
   },
   {
    "duration": 7,
    "start_time": "2023-03-24T13:18:32.010Z"
   },
   {
    "duration": 335,
    "start_time": "2023-03-24T13:18:32.019Z"
   },
   {
    "duration": 297,
    "start_time": "2023-03-24T13:18:32.359Z"
   },
   {
    "duration": 6,
    "start_time": "2023-03-24T13:18:32.658Z"
   },
   {
    "duration": 495,
    "start_time": "2023-03-24T13:18:32.666Z"
   },
   {
    "duration": 15,
    "start_time": "2023-03-24T13:18:33.163Z"
   },
   {
    "duration": 30,
    "start_time": "2023-03-24T13:18:33.180Z"
   },
   {
    "duration": 22,
    "start_time": "2023-03-24T13:18:33.213Z"
   },
   {
    "duration": 16,
    "start_time": "2023-03-24T13:18:33.237Z"
   },
   {
    "duration": 51,
    "start_time": "2023-03-30T10:13:51.642Z"
   },
   {
    "duration": 1063,
    "start_time": "2023-03-30T10:13:56.295Z"
   },
   {
    "duration": 112,
    "start_time": "2023-03-30T10:13:57.360Z"
   },
   {
    "duration": 3,
    "start_time": "2023-03-30T10:13:57.475Z"
   },
   {
    "duration": 13,
    "start_time": "2023-03-30T10:13:57.481Z"
   },
   {
    "duration": 9,
    "start_time": "2023-03-30T10:13:57.496Z"
   },
   {
    "duration": 24,
    "start_time": "2023-03-30T10:13:57.507Z"
   },
   {
    "duration": 12,
    "start_time": "2023-03-30T10:13:57.533Z"
   },
   {
    "duration": 12,
    "start_time": "2023-03-30T10:13:57.547Z"
   },
   {
    "duration": 121,
    "start_time": "2023-03-30T10:13:57.561Z"
   },
   {
    "duration": 8,
    "start_time": "2023-03-30T10:13:57.685Z"
   },
   {
    "duration": 20,
    "start_time": "2023-03-30T10:13:57.694Z"
   },
   {
    "duration": 6,
    "start_time": "2023-03-30T10:13:57.716Z"
   },
   {
    "duration": 15,
    "start_time": "2023-03-30T10:13:57.724Z"
   },
   {
    "duration": 14,
    "start_time": "2023-03-30T10:13:57.740Z"
   },
   {
    "duration": 10,
    "start_time": "2023-03-30T10:13:57.756Z"
   },
   {
    "duration": 9,
    "start_time": "2023-03-30T10:13:57.767Z"
   },
   {
    "duration": 25,
    "start_time": "2023-03-30T10:13:57.778Z"
   },
   {
    "duration": 12,
    "start_time": "2023-03-30T10:13:57.804Z"
   },
   {
    "duration": 11,
    "start_time": "2023-03-30T10:13:57.818Z"
   },
   {
    "duration": 21,
    "start_time": "2023-03-30T10:13:57.831Z"
   },
   {
    "duration": 11,
    "start_time": "2023-03-30T10:13:57.854Z"
   },
   {
    "duration": 15,
    "start_time": "2023-03-30T10:13:57.867Z"
   },
   {
    "duration": 20,
    "start_time": "2023-03-30T10:13:57.883Z"
   },
   {
    "duration": 211,
    "start_time": "2023-03-30T10:13:57.905Z"
   },
   {
    "duration": 140,
    "start_time": "2023-03-30T10:13:58.117Z"
   },
   {
    "duration": 12,
    "start_time": "2023-03-30T10:13:58.259Z"
   },
   {
    "duration": 8,
    "start_time": "2023-03-30T10:13:58.272Z"
   },
   {
    "duration": 4,
    "start_time": "2023-03-30T10:13:58.283Z"
   },
   {
    "duration": 359,
    "start_time": "2023-03-30T10:13:58.304Z"
   },
   {
    "duration": 289,
    "start_time": "2023-03-30T10:13:58.665Z"
   },
   {
    "duration": 337,
    "start_time": "2023-03-30T10:13:58.956Z"
   },
   {
    "duration": 15,
    "start_time": "2023-03-30T10:13:59.295Z"
   },
   {
    "duration": 306,
    "start_time": "2023-03-30T10:13:59.312Z"
   },
   {
    "duration": 376,
    "start_time": "2023-03-30T10:13:59.619Z"
   },
   {
    "duration": 13,
    "start_time": "2023-03-30T10:13:59.997Z"
   },
   {
    "duration": 18,
    "start_time": "2023-03-30T10:14:00.012Z"
   },
   {
    "duration": 226,
    "start_time": "2023-03-30T10:14:00.032Z"
   },
   {
    "duration": 218,
    "start_time": "2023-03-30T10:14:00.260Z"
   },
   {
    "duration": 5,
    "start_time": "2023-03-30T10:14:00.479Z"
   },
   {
    "duration": 235,
    "start_time": "2023-03-30T10:14:00.486Z"
   },
   {
    "duration": 218,
    "start_time": "2023-03-30T10:14:00.722Z"
   },
   {
    "duration": 5,
    "start_time": "2023-03-30T10:14:00.942Z"
   },
   {
    "duration": 471,
    "start_time": "2023-03-30T10:14:00.948Z"
   },
   {
    "duration": 10,
    "start_time": "2023-03-30T10:14:01.421Z"
   },
   {
    "duration": 35,
    "start_time": "2023-03-30T10:14:01.433Z"
   },
   {
    "duration": 59,
    "start_time": "2023-03-30T10:14:01.470Z"
   },
   {
    "duration": 12,
    "start_time": "2023-03-30T10:14:01.531Z"
   },
   {
    "duration": 55,
    "start_time": "2023-03-31T09:28:45.697Z"
   },
   {
    "duration": 1098,
    "start_time": "2023-03-31T09:28:48.812Z"
   },
   {
    "duration": 115,
    "start_time": "2023-03-31T09:28:49.912Z"
   },
   {
    "duration": 4,
    "start_time": "2023-03-31T09:28:50.029Z"
   },
   {
    "duration": 17,
    "start_time": "2023-03-31T09:28:50.035Z"
   },
   {
    "duration": 9,
    "start_time": "2023-03-31T09:28:50.054Z"
   },
   {
    "duration": 26,
    "start_time": "2023-03-31T09:28:50.065Z"
   },
   {
    "duration": 23,
    "start_time": "2023-03-31T09:28:50.092Z"
   },
   {
    "duration": 15,
    "start_time": "2023-03-31T09:28:50.118Z"
   },
   {
    "duration": 127,
    "start_time": "2023-03-31T09:28:50.135Z"
   },
   {
    "duration": 9,
    "start_time": "2023-03-31T09:28:50.265Z"
   },
   {
    "duration": 26,
    "start_time": "2023-03-31T09:28:50.276Z"
   },
   {
    "duration": 6,
    "start_time": "2023-03-31T09:28:50.304Z"
   },
   {
    "duration": 21,
    "start_time": "2023-03-31T09:28:50.312Z"
   },
   {
    "duration": 11,
    "start_time": "2023-03-31T09:28:50.336Z"
   },
   {
    "duration": 15,
    "start_time": "2023-03-31T09:28:50.349Z"
   },
   {
    "duration": 17,
    "start_time": "2023-03-31T09:28:50.366Z"
   },
   {
    "duration": 13,
    "start_time": "2023-03-31T09:28:50.402Z"
   },
   {
    "duration": 6,
    "start_time": "2023-03-31T09:28:50.417Z"
   },
   {
    "duration": 14,
    "start_time": "2023-03-31T09:28:50.425Z"
   },
   {
    "duration": 8,
    "start_time": "2023-03-31T09:28:50.441Z"
   },
   {
    "duration": 13,
    "start_time": "2023-03-31T09:28:50.450Z"
   },
   {
    "duration": 52,
    "start_time": "2023-03-31T09:28:50.464Z"
   },
   {
    "duration": 14,
    "start_time": "2023-03-31T09:28:50.517Z"
   },
   {
    "duration": 13,
    "start_time": "2023-03-31T09:28:50.533Z"
   },
   {
    "duration": 217,
    "start_time": "2023-03-31T09:28:50.548Z"
   },
   {
    "duration": 143,
    "start_time": "2023-03-31T09:28:50.767Z"
   },
   {
    "duration": 14,
    "start_time": "2023-03-31T09:28:50.912Z"
   },
   {
    "duration": 10,
    "start_time": "2023-03-31T09:28:50.928Z"
   },
   {
    "duration": 20,
    "start_time": "2023-03-31T09:28:50.939Z"
   },
   {
    "duration": 424,
    "start_time": "2023-03-31T09:28:50.962Z"
   },
   {
    "duration": 316,
    "start_time": "2023-03-31T09:28:51.387Z"
   },
   {
    "duration": 426,
    "start_time": "2023-03-31T09:28:51.704Z"
   },
   {
    "duration": 14,
    "start_time": "2023-03-31T09:28:52.132Z"
   },
   {
    "duration": 334,
    "start_time": "2023-03-31T09:28:52.149Z"
   },
   {
    "duration": 437,
    "start_time": "2023-03-31T09:28:52.485Z"
   },
   {
    "duration": 12,
    "start_time": "2023-03-31T09:28:52.923Z"
   },
   {
    "duration": 17,
    "start_time": "2023-03-31T09:28:52.937Z"
   },
   {
    "duration": 240,
    "start_time": "2023-03-31T09:28:52.956Z"
   },
   {
    "duration": 250,
    "start_time": "2023-03-31T09:28:53.197Z"
   },
   {
    "duration": 6,
    "start_time": "2023-03-31T09:28:53.448Z"
   },
   {
    "duration": 234,
    "start_time": "2023-03-31T09:28:53.459Z"
   },
   {
    "duration": 254,
    "start_time": "2023-03-31T09:28:53.703Z"
   },
   {
    "duration": 7,
    "start_time": "2023-03-31T09:28:53.959Z"
   },
   {
    "duration": 597,
    "start_time": "2023-03-31T09:28:53.969Z"
   },
   {
    "duration": 12,
    "start_time": "2023-03-31T09:28:54.568Z"
   },
   {
    "duration": 28,
    "start_time": "2023-03-31T09:28:54.582Z"
   },
   {
    "duration": 29,
    "start_time": "2023-03-31T09:28:54.612Z"
   },
   {
    "duration": 13,
    "start_time": "2023-03-31T09:28:54.643Z"
   },
   {
    "duration": 1197,
    "start_time": "2023-05-26T12:28:57.693Z"
   },
   {
    "duration": 154,
    "start_time": "2023-05-26T12:28:58.895Z"
   },
   {
    "duration": 6,
    "start_time": "2023-05-26T12:28:59.051Z"
   },
   {
    "duration": 36,
    "start_time": "2023-05-26T12:28:59.060Z"
   },
   {
    "duration": 86,
    "start_time": "2023-05-26T12:28:59.099Z"
   },
   {
    "duration": 49,
    "start_time": "2023-05-26T12:28:59.193Z"
   },
   {
    "duration": 42,
    "start_time": "2023-05-26T12:28:59.244Z"
   },
   {
    "duration": 18,
    "start_time": "2023-05-26T12:28:59.290Z"
   },
   {
    "duration": 224,
    "start_time": "2023-05-26T12:28:59.311Z"
   },
   {
    "duration": 9,
    "start_time": "2023-05-26T12:28:59.537Z"
   },
   {
    "duration": 23,
    "start_time": "2023-05-26T12:28:59.548Z"
   },
   {
    "duration": 6,
    "start_time": "2023-05-26T12:28:59.573Z"
   },
   {
    "duration": 28,
    "start_time": "2023-05-26T12:28:59.582Z"
   },
   {
    "duration": 7,
    "start_time": "2023-05-26T12:28:59.613Z"
   },
   {
    "duration": 13,
    "start_time": "2023-05-26T12:28:59.622Z"
   },
   {
    "duration": 14,
    "start_time": "2023-05-26T12:28:59.636Z"
   },
   {
    "duration": 32,
    "start_time": "2023-05-26T12:28:59.651Z"
   },
   {
    "duration": 20,
    "start_time": "2023-05-26T12:28:59.685Z"
   },
   {
    "duration": 28,
    "start_time": "2023-05-26T12:28:59.706Z"
   },
   {
    "duration": 32,
    "start_time": "2023-05-26T12:28:59.736Z"
   },
   {
    "duration": 27,
    "start_time": "2023-05-26T12:28:59.769Z"
   },
   {
    "duration": 23,
    "start_time": "2023-05-26T12:28:59.798Z"
   },
   {
    "duration": 17,
    "start_time": "2023-05-26T12:28:59.823Z"
   },
   {
    "duration": 234,
    "start_time": "2023-05-26T12:28:59.842Z"
   },
   {
    "duration": 144,
    "start_time": "2023-05-26T12:29:00.078Z"
   },
   {
    "duration": 13,
    "start_time": "2023-05-26T12:29:00.223Z"
   },
   {
    "duration": 37,
    "start_time": "2023-05-26T12:29:00.238Z"
   },
   {
    "duration": 49,
    "start_time": "2023-05-26T12:29:00.277Z"
   },
   {
    "duration": 418,
    "start_time": "2023-05-26T12:29:00.328Z"
   },
   {
    "duration": 334,
    "start_time": "2023-05-26T12:29:00.758Z"
   },
   {
    "duration": 350,
    "start_time": "2023-05-26T12:29:01.095Z"
   },
   {
    "duration": 36,
    "start_time": "2023-05-26T12:29:01.447Z"
   },
   {
    "duration": 344,
    "start_time": "2023-05-26T12:29:01.485Z"
   },
   {
    "duration": 462,
    "start_time": "2023-05-26T12:29:01.832Z"
   },
   {
    "duration": 12,
    "start_time": "2023-05-26T12:29:02.295Z"
   },
   {
    "duration": 74,
    "start_time": "2023-05-26T12:29:02.308Z"
   },
   {
    "duration": 233,
    "start_time": "2023-05-26T12:29:02.386Z"
   },
   {
    "duration": 249,
    "start_time": "2023-05-26T12:29:02.620Z"
   },
   {
    "duration": 4,
    "start_time": "2023-05-26T12:29:02.875Z"
   },
   {
    "duration": 224,
    "start_time": "2023-05-26T12:29:02.881Z"
   },
   {
    "duration": 266,
    "start_time": "2023-05-26T12:29:03.109Z"
   },
   {
    "duration": 10,
    "start_time": "2023-05-26T12:29:03.380Z"
   },
   {
    "duration": 491,
    "start_time": "2023-05-26T12:29:03.392Z"
   },
   {
    "duration": 12,
    "start_time": "2023-05-26T12:29:03.889Z"
   },
   {
    "duration": 29,
    "start_time": "2023-05-26T12:29:03.903Z"
   },
   {
    "duration": 45,
    "start_time": "2023-05-26T12:29:03.934Z"
   },
   {
    "duration": 19,
    "start_time": "2023-05-26T12:29:03.987Z"
   }
  ],
  "kernelspec": {
   "display_name": "Python 3 (ipykernel)",
   "language": "python",
   "name": "python3"
  },
  "language_info": {
   "codemirror_mode": {
    "name": "ipython",
    "version": 3
   },
   "file_extension": ".py",
   "mimetype": "text/x-python",
   "name": "python",
   "nbconvert_exporter": "python",
   "pygments_lexer": "ipython3",
   "version": "3.10.9"
  },
  "toc": {
   "base_numbering": 1,
   "nav_menu": {},
   "number_sections": true,
   "sideBar": true,
   "skip_h1_title": true,
   "title_cell": "Table of Contents",
   "title_sidebar": "Contents",
   "toc_cell": false,
   "toc_position": {},
   "toc_section_display": true,
   "toc_window_display": false
  }
 },
 "nbformat": 4,
 "nbformat_minor": 2
}

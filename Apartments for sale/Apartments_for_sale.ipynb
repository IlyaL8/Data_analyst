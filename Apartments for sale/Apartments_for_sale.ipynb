{
 "cells": [
  {
   "cell_type": "markdown",
   "metadata": {},
   "source": [
    "# Исследование объявлений о продаже квартир"
   ]
  },
  {
   "cell_type": "markdown",
   "metadata": {},
   "source": [
    "### Откроем файл с данными и изучим общую информацию. "
   ]
  },
  {
   "cell_type": "markdown",
   "metadata": {},
   "source": [
    "#### Откроем файл"
   ]
  },
  {
   "cell_type": "code",
   "execution_count": 2385,
   "metadata": {},
   "outputs": [
    {
     "data": {
      "text/html": [
       "<div>\n",
       "<style scoped>\n",
       "    .dataframe tbody tr th:only-of-type {\n",
       "        vertical-align: middle;\n",
       "    }\n",
       "\n",
       "    .dataframe tbody tr th {\n",
       "        vertical-align: top;\n",
       "    }\n",
       "\n",
       "    .dataframe thead th {\n",
       "        text-align: right;\n",
       "    }\n",
       "</style>\n",
       "<table border=\"1\" class=\"dataframe\">\n",
       "  <thead>\n",
       "    <tr style=\"text-align: right;\">\n",
       "      <th></th>\n",
       "      <th>total_images</th>\n",
       "      <th>last_price</th>\n",
       "      <th>total_area</th>\n",
       "      <th>first_day_exposition</th>\n",
       "      <th>rooms</th>\n",
       "      <th>ceiling_height</th>\n",
       "      <th>floors_total</th>\n",
       "      <th>living_area</th>\n",
       "      <th>floor</th>\n",
       "      <th>is_apartment</th>\n",
       "      <th>...</th>\n",
       "      <th>kitchen_area</th>\n",
       "      <th>balcony</th>\n",
       "      <th>locality_name</th>\n",
       "      <th>airports_nearest</th>\n",
       "      <th>cityCenters_nearest</th>\n",
       "      <th>parks_around3000</th>\n",
       "      <th>parks_nearest</th>\n",
       "      <th>ponds_around3000</th>\n",
       "      <th>ponds_nearest</th>\n",
       "      <th>days_exposition</th>\n",
       "    </tr>\n",
       "  </thead>\n",
       "  <tbody>\n",
       "    <tr>\n",
       "      <th>0</th>\n",
       "      <td>20</td>\n",
       "      <td>13000000.0</td>\n",
       "      <td>108.00</td>\n",
       "      <td>2019-03-07T00:00:00</td>\n",
       "      <td>3</td>\n",
       "      <td>2.70</td>\n",
       "      <td>16.0</td>\n",
       "      <td>51.0</td>\n",
       "      <td>8</td>\n",
       "      <td>NaN</td>\n",
       "      <td>...</td>\n",
       "      <td>25.00</td>\n",
       "      <td>NaN</td>\n",
       "      <td>Санкт-Петербург</td>\n",
       "      <td>18863.0</td>\n",
       "      <td>16028.0</td>\n",
       "      <td>1.0</td>\n",
       "      <td>482.0</td>\n",
       "      <td>2.0</td>\n",
       "      <td>755.0</td>\n",
       "      <td>NaN</td>\n",
       "    </tr>\n",
       "    <tr>\n",
       "      <th>1</th>\n",
       "      <td>7</td>\n",
       "      <td>3350000.0</td>\n",
       "      <td>40.40</td>\n",
       "      <td>2018-12-04T00:00:00</td>\n",
       "      <td>1</td>\n",
       "      <td>NaN</td>\n",
       "      <td>11.0</td>\n",
       "      <td>18.6</td>\n",
       "      <td>1</td>\n",
       "      <td>NaN</td>\n",
       "      <td>...</td>\n",
       "      <td>11.00</td>\n",
       "      <td>2.0</td>\n",
       "      <td>посёлок Шушары</td>\n",
       "      <td>12817.0</td>\n",
       "      <td>18603.0</td>\n",
       "      <td>0.0</td>\n",
       "      <td>NaN</td>\n",
       "      <td>0.0</td>\n",
       "      <td>NaN</td>\n",
       "      <td>81.0</td>\n",
       "    </tr>\n",
       "    <tr>\n",
       "      <th>2</th>\n",
       "      <td>10</td>\n",
       "      <td>5196000.0</td>\n",
       "      <td>56.00</td>\n",
       "      <td>2015-08-20T00:00:00</td>\n",
       "      <td>2</td>\n",
       "      <td>NaN</td>\n",
       "      <td>5.0</td>\n",
       "      <td>34.3</td>\n",
       "      <td>4</td>\n",
       "      <td>NaN</td>\n",
       "      <td>...</td>\n",
       "      <td>8.30</td>\n",
       "      <td>0.0</td>\n",
       "      <td>Санкт-Петербург</td>\n",
       "      <td>21741.0</td>\n",
       "      <td>13933.0</td>\n",
       "      <td>1.0</td>\n",
       "      <td>90.0</td>\n",
       "      <td>2.0</td>\n",
       "      <td>574.0</td>\n",
       "      <td>558.0</td>\n",
       "    </tr>\n",
       "    <tr>\n",
       "      <th>3</th>\n",
       "      <td>0</td>\n",
       "      <td>64900000.0</td>\n",
       "      <td>159.00</td>\n",
       "      <td>2015-07-24T00:00:00</td>\n",
       "      <td>3</td>\n",
       "      <td>NaN</td>\n",
       "      <td>14.0</td>\n",
       "      <td>NaN</td>\n",
       "      <td>9</td>\n",
       "      <td>NaN</td>\n",
       "      <td>...</td>\n",
       "      <td>NaN</td>\n",
       "      <td>0.0</td>\n",
       "      <td>Санкт-Петербург</td>\n",
       "      <td>28098.0</td>\n",
       "      <td>6800.0</td>\n",
       "      <td>2.0</td>\n",
       "      <td>84.0</td>\n",
       "      <td>3.0</td>\n",
       "      <td>234.0</td>\n",
       "      <td>424.0</td>\n",
       "    </tr>\n",
       "    <tr>\n",
       "      <th>4</th>\n",
       "      <td>2</td>\n",
       "      <td>10000000.0</td>\n",
       "      <td>100.00</td>\n",
       "      <td>2018-06-19T00:00:00</td>\n",
       "      <td>2</td>\n",
       "      <td>3.03</td>\n",
       "      <td>14.0</td>\n",
       "      <td>32.0</td>\n",
       "      <td>13</td>\n",
       "      <td>NaN</td>\n",
       "      <td>...</td>\n",
       "      <td>41.00</td>\n",
       "      <td>NaN</td>\n",
       "      <td>Санкт-Петербург</td>\n",
       "      <td>31856.0</td>\n",
       "      <td>8098.0</td>\n",
       "      <td>2.0</td>\n",
       "      <td>112.0</td>\n",
       "      <td>1.0</td>\n",
       "      <td>48.0</td>\n",
       "      <td>121.0</td>\n",
       "    </tr>\n",
       "    <tr>\n",
       "      <th>...</th>\n",
       "      <td>...</td>\n",
       "      <td>...</td>\n",
       "      <td>...</td>\n",
       "      <td>...</td>\n",
       "      <td>...</td>\n",
       "      <td>...</td>\n",
       "      <td>...</td>\n",
       "      <td>...</td>\n",
       "      <td>...</td>\n",
       "      <td>...</td>\n",
       "      <td>...</td>\n",
       "      <td>...</td>\n",
       "      <td>...</td>\n",
       "      <td>...</td>\n",
       "      <td>...</td>\n",
       "      <td>...</td>\n",
       "      <td>...</td>\n",
       "      <td>...</td>\n",
       "      <td>...</td>\n",
       "      <td>...</td>\n",
       "      <td>...</td>\n",
       "    </tr>\n",
       "    <tr>\n",
       "      <th>23694</th>\n",
       "      <td>9</td>\n",
       "      <td>9700000.0</td>\n",
       "      <td>133.81</td>\n",
       "      <td>2017-03-21T00:00:00</td>\n",
       "      <td>3</td>\n",
       "      <td>3.70</td>\n",
       "      <td>5.0</td>\n",
       "      <td>73.3</td>\n",
       "      <td>3</td>\n",
       "      <td>NaN</td>\n",
       "      <td>...</td>\n",
       "      <td>13.83</td>\n",
       "      <td>NaN</td>\n",
       "      <td>Санкт-Петербург</td>\n",
       "      <td>24665.0</td>\n",
       "      <td>4232.0</td>\n",
       "      <td>1.0</td>\n",
       "      <td>796.0</td>\n",
       "      <td>3.0</td>\n",
       "      <td>381.0</td>\n",
       "      <td>NaN</td>\n",
       "    </tr>\n",
       "    <tr>\n",
       "      <th>23695</th>\n",
       "      <td>14</td>\n",
       "      <td>3100000.0</td>\n",
       "      <td>59.00</td>\n",
       "      <td>2018-01-15T00:00:00</td>\n",
       "      <td>3</td>\n",
       "      <td>NaN</td>\n",
       "      <td>5.0</td>\n",
       "      <td>38.0</td>\n",
       "      <td>4</td>\n",
       "      <td>NaN</td>\n",
       "      <td>...</td>\n",
       "      <td>8.50</td>\n",
       "      <td>NaN</td>\n",
       "      <td>Тосно</td>\n",
       "      <td>NaN</td>\n",
       "      <td>NaN</td>\n",
       "      <td>NaN</td>\n",
       "      <td>NaN</td>\n",
       "      <td>NaN</td>\n",
       "      <td>NaN</td>\n",
       "      <td>45.0</td>\n",
       "    </tr>\n",
       "    <tr>\n",
       "      <th>23696</th>\n",
       "      <td>18</td>\n",
       "      <td>2500000.0</td>\n",
       "      <td>56.70</td>\n",
       "      <td>2018-02-11T00:00:00</td>\n",
       "      <td>2</td>\n",
       "      <td>NaN</td>\n",
       "      <td>3.0</td>\n",
       "      <td>29.7</td>\n",
       "      <td>1</td>\n",
       "      <td>NaN</td>\n",
       "      <td>...</td>\n",
       "      <td>NaN</td>\n",
       "      <td>NaN</td>\n",
       "      <td>село Рождествено</td>\n",
       "      <td>NaN</td>\n",
       "      <td>NaN</td>\n",
       "      <td>NaN</td>\n",
       "      <td>NaN</td>\n",
       "      <td>NaN</td>\n",
       "      <td>NaN</td>\n",
       "      <td>NaN</td>\n",
       "    </tr>\n",
       "    <tr>\n",
       "      <th>23697</th>\n",
       "      <td>13</td>\n",
       "      <td>11475000.0</td>\n",
       "      <td>76.75</td>\n",
       "      <td>2017-03-28T00:00:00</td>\n",
       "      <td>2</td>\n",
       "      <td>3.00</td>\n",
       "      <td>17.0</td>\n",
       "      <td>NaN</td>\n",
       "      <td>12</td>\n",
       "      <td>NaN</td>\n",
       "      <td>...</td>\n",
       "      <td>23.30</td>\n",
       "      <td>2.0</td>\n",
       "      <td>Санкт-Петербург</td>\n",
       "      <td>39140.0</td>\n",
       "      <td>10364.0</td>\n",
       "      <td>2.0</td>\n",
       "      <td>173.0</td>\n",
       "      <td>3.0</td>\n",
       "      <td>196.0</td>\n",
       "      <td>602.0</td>\n",
       "    </tr>\n",
       "    <tr>\n",
       "      <th>23698</th>\n",
       "      <td>4</td>\n",
       "      <td>1350000.0</td>\n",
       "      <td>32.30</td>\n",
       "      <td>2017-07-21T00:00:00</td>\n",
       "      <td>1</td>\n",
       "      <td>2.50</td>\n",
       "      <td>5.0</td>\n",
       "      <td>12.3</td>\n",
       "      <td>1</td>\n",
       "      <td>NaN</td>\n",
       "      <td>...</td>\n",
       "      <td>9.00</td>\n",
       "      <td>NaN</td>\n",
       "      <td>поселок Новый Учхоз</td>\n",
       "      <td>NaN</td>\n",
       "      <td>NaN</td>\n",
       "      <td>NaN</td>\n",
       "      <td>NaN</td>\n",
       "      <td>NaN</td>\n",
       "      <td>NaN</td>\n",
       "      <td>NaN</td>\n",
       "    </tr>\n",
       "  </tbody>\n",
       "</table>\n",
       "<p>23699 rows × 22 columns</p>\n",
       "</div>"
      ],
      "text/plain": [
       "       total_images  last_price  total_area first_day_exposition  rooms  \\\n",
       "0                20  13000000.0      108.00  2019-03-07T00:00:00      3   \n",
       "1                 7   3350000.0       40.40  2018-12-04T00:00:00      1   \n",
       "2                10   5196000.0       56.00  2015-08-20T00:00:00      2   \n",
       "3                 0  64900000.0      159.00  2015-07-24T00:00:00      3   \n",
       "4                 2  10000000.0      100.00  2018-06-19T00:00:00      2   \n",
       "...             ...         ...         ...                  ...    ...   \n",
       "23694             9   9700000.0      133.81  2017-03-21T00:00:00      3   \n",
       "23695            14   3100000.0       59.00  2018-01-15T00:00:00      3   \n",
       "23696            18   2500000.0       56.70  2018-02-11T00:00:00      2   \n",
       "23697            13  11475000.0       76.75  2017-03-28T00:00:00      2   \n",
       "23698             4   1350000.0       32.30  2017-07-21T00:00:00      1   \n",
       "\n",
       "       ceiling_height  floors_total  living_area  floor is_apartment  ...  \\\n",
       "0                2.70          16.0         51.0      8          NaN  ...   \n",
       "1                 NaN          11.0         18.6      1          NaN  ...   \n",
       "2                 NaN           5.0         34.3      4          NaN  ...   \n",
       "3                 NaN          14.0          NaN      9          NaN  ...   \n",
       "4                3.03          14.0         32.0     13          NaN  ...   \n",
       "...               ...           ...          ...    ...          ...  ...   \n",
       "23694            3.70           5.0         73.3      3          NaN  ...   \n",
       "23695             NaN           5.0         38.0      4          NaN  ...   \n",
       "23696             NaN           3.0         29.7      1          NaN  ...   \n",
       "23697            3.00          17.0          NaN     12          NaN  ...   \n",
       "23698            2.50           5.0         12.3      1          NaN  ...   \n",
       "\n",
       "       kitchen_area  balcony        locality_name  airports_nearest  \\\n",
       "0             25.00      NaN      Санкт-Петербург           18863.0   \n",
       "1             11.00      2.0       посёлок Шушары           12817.0   \n",
       "2              8.30      0.0      Санкт-Петербург           21741.0   \n",
       "3               NaN      0.0      Санкт-Петербург           28098.0   \n",
       "4             41.00      NaN      Санкт-Петербург           31856.0   \n",
       "...             ...      ...                  ...               ...   \n",
       "23694         13.83      NaN      Санкт-Петербург           24665.0   \n",
       "23695          8.50      NaN                Тосно               NaN   \n",
       "23696           NaN      NaN     село Рождествено               NaN   \n",
       "23697         23.30      2.0      Санкт-Петербург           39140.0   \n",
       "23698          9.00      NaN  поселок Новый Учхоз               NaN   \n",
       "\n",
       "      cityCenters_nearest  parks_around3000  parks_nearest  ponds_around3000  \\\n",
       "0                 16028.0               1.0          482.0               2.0   \n",
       "1                 18603.0               0.0            NaN               0.0   \n",
       "2                 13933.0               1.0           90.0               2.0   \n",
       "3                  6800.0               2.0           84.0               3.0   \n",
       "4                  8098.0               2.0          112.0               1.0   \n",
       "...                   ...               ...            ...               ...   \n",
       "23694              4232.0               1.0          796.0               3.0   \n",
       "23695                 NaN               NaN            NaN               NaN   \n",
       "23696                 NaN               NaN            NaN               NaN   \n",
       "23697             10364.0               2.0          173.0               3.0   \n",
       "23698                 NaN               NaN            NaN               NaN   \n",
       "\n",
       "       ponds_nearest  days_exposition  \n",
       "0              755.0              NaN  \n",
       "1                NaN             81.0  \n",
       "2              574.0            558.0  \n",
       "3              234.0            424.0  \n",
       "4               48.0            121.0  \n",
       "...              ...              ...  \n",
       "23694          381.0              NaN  \n",
       "23695            NaN             45.0  \n",
       "23696            NaN              NaN  \n",
       "23697          196.0            602.0  \n",
       "23698            NaN              NaN  \n",
       "\n",
       "[23699 rows x 22 columns]"
      ]
     },
     "execution_count": 2385,
     "metadata": {},
     "output_type": "execute_result"
    }
   ],
   "source": [
    "import pandas as pd\n",
    "import warnings\n",
    "warnings.filterwarnings(\"ignore\")\n",
    "\n",
    "data = pd.read_csv('/datasets/real_estate_data.csv', sep='\\t')\n",
    "data"
   ]
  },
  {
   "cell_type": "markdown",
   "metadata": {},
   "source": [
    "#### Изучим общую информацию"
   ]
  },
  {
   "cell_type": "code",
   "execution_count": 2386,
   "metadata": {},
   "outputs": [
    {
     "name": "stdout",
     "output_type": "stream",
     "text": [
      "<class 'pandas.core.frame.DataFrame'>\n",
      "RangeIndex: 23699 entries, 0 to 23698\n",
      "Data columns (total 22 columns):\n",
      " #   Column                Non-Null Count  Dtype  \n",
      "---  ------                --------------  -----  \n",
      " 0   total_images          23699 non-null  int64  \n",
      " 1   last_price            23699 non-null  float64\n",
      " 2   total_area            23699 non-null  float64\n",
      " 3   first_day_exposition  23699 non-null  object \n",
      " 4   rooms                 23699 non-null  int64  \n",
      " 5   ceiling_height        14504 non-null  float64\n",
      " 6   floors_total          23613 non-null  float64\n",
      " 7   living_area           21796 non-null  float64\n",
      " 8   floor                 23699 non-null  int64  \n",
      " 9   is_apartment          2775 non-null   object \n",
      " 10  studio                23699 non-null  bool   \n",
      " 11  open_plan             23699 non-null  bool   \n",
      " 12  kitchen_area          21421 non-null  float64\n",
      " 13  balcony               12180 non-null  float64\n",
      " 14  locality_name         23650 non-null  object \n",
      " 15  airports_nearest      18157 non-null  float64\n",
      " 16  cityCenters_nearest   18180 non-null  float64\n",
      " 17  parks_around3000      18181 non-null  float64\n",
      " 18  parks_nearest         8079 non-null   float64\n",
      " 19  ponds_around3000      18181 non-null  float64\n",
      " 20  ponds_nearest         9110 non-null   float64\n",
      " 21  days_exposition       20518 non-null  float64\n",
      "dtypes: bool(2), float64(14), int64(3), object(3)\n",
      "memory usage: 3.7+ MB\n"
     ]
    }
   ],
   "source": [
    "data.info()"
   ]
  },
  {
   "cell_type": "markdown",
   "metadata": {},
   "source": [
    "В некоторых столбцах имеются попуски. В столбцах parks_nearest и ponds_nearest их больше половины."
   ]
  },
  {
   "cell_type": "markdown",
   "metadata": {},
   "source": [
    "Посмотрим гистограммы"
   ]
  },
  {
   "cell_type": "code",
   "execution_count": 2387,
   "metadata": {},
   "outputs": [
    {
     "data": {
      "text/plain": [
       "array([[<AxesSubplot:title={'center':'total_images'}>,\n",
       "        <AxesSubplot:title={'center':'last_price'}>,\n",
       "        <AxesSubplot:title={'center':'total_area'}>,\n",
       "        <AxesSubplot:title={'center':'rooms'}>],\n",
       "       [<AxesSubplot:title={'center':'ceiling_height'}>,\n",
       "        <AxesSubplot:title={'center':'floors_total'}>,\n",
       "        <AxesSubplot:title={'center':'living_area'}>,\n",
       "        <AxesSubplot:title={'center':'floor'}>],\n",
       "       [<AxesSubplot:title={'center':'kitchen_area'}>,\n",
       "        <AxesSubplot:title={'center':'balcony'}>,\n",
       "        <AxesSubplot:title={'center':'airports_nearest'}>,\n",
       "        <AxesSubplot:title={'center':'cityCenters_nearest'}>],\n",
       "       [<AxesSubplot:title={'center':'parks_around3000'}>,\n",
       "        <AxesSubplot:title={'center':'parks_nearest'}>,\n",
       "        <AxesSubplot:title={'center':'ponds_around3000'}>,\n",
       "        <AxesSubplot:title={'center':'ponds_nearest'}>],\n",
       "       [<AxesSubplot:title={'center':'days_exposition'}>, <AxesSubplot:>,\n",
       "        <AxesSubplot:>, <AxesSubplot:>]], dtype=object)"
      ]
     },
     "execution_count": 2387,
     "metadata": {},
     "output_type": "execute_result"
    },
    {
     "data": {
      "image/png": "[encoded data removed]",
      "text/plain": [
       "<Figure size 1080x1440 with 20 Axes>"
      ]
     },
     "metadata": {
      "needs_background": "light"
     },
     "output_type": "display_data"
    }
   ],
   "source": [
    "data.hist(figsize=(15, 20))"
   ]
  },
  {
   "cell_type": "markdown",
   "metadata": {},
   "source": [
    "**Вывод:**\n",
    "- Имеется 23699 квартир\n",
    "- В некоторых столбцах имеются попуски "
   ]
  },
  {
   "cell_type": "markdown",
   "metadata": {},
   "source": [
    "<hr>"
   ]
  },
  {
   "cell_type": "markdown",
   "metadata": {},
   "source": [
    "### Предобработка данных"
   ]
  },
  {
   "cell_type": "markdown",
   "metadata": {},
   "source": [
    "#### Изучим пропущенные значения в столбцах"
   ]
  },
  {
   "cell_type": "markdown",
   "metadata": {},
   "source": [
    "Посмотрим на количество пропусков в каждом столбце."
   ]
  },
  {
   "cell_type": "code",
   "execution_count": 2388,
   "metadata": {},
   "outputs": [
    {
     "data": {
      "text/plain": [
       "total_images                0\n",
       "last_price                  0\n",
       "total_area                  0\n",
       "first_day_exposition        0\n",
       "rooms                       0\n",
       "ceiling_height           9195\n",
       "floors_total               86\n",
       "living_area              1903\n",
       "floor                       0\n",
       "is_apartment            20924\n",
       "studio                      0\n",
       "open_plan                   0\n",
       "kitchen_area             2278\n",
       "balcony                 11519\n",
       "locality_name              49\n",
       "airports_nearest         5542\n",
       "cityCenters_nearest      5519\n",
       "parks_around3000         5518\n",
       "parks_nearest           15620\n",
       "ponds_around3000         5518\n",
       "ponds_nearest           14589\n",
       "days_exposition          3181\n",
       "dtype: int64"
      ]
     },
     "execution_count": 2388,
     "metadata": {},
     "output_type": "execute_result"
    }
   ],
   "source": [
    "data.isna().sum()"
   ]
  },
  {
   "cell_type": "markdown",
   "metadata": {},
   "source": [
    "Название столбца cityCenters_nearest выглядит некорректно. Переименуем его."
   ]
  },
  {
   "cell_type": "code",
   "execution_count": 2389,
   "metadata": {},
   "outputs": [],
   "source": [
    "data = data.rename(columns={'cityCenters_nearest': 'city_centers_nearest'})"
   ]
  },
  {
   "cell_type": "markdown",
   "metadata": {},
   "source": [
    "Похоже, что пропуски в столбцах: 'balcony', 'is_apartment', 'parks_around3000', 'ponds_around3000', означают отсутствие балконов, апартаментов и парков. Заменим их на 0."
   ]
  },
  {
   "cell_type": "code",
   "execution_count": 2390,
   "metadata": {},
   "outputs": [],
   "source": [
    "data['balcony'] = data['balcony'].fillna(0)"
   ]
  },
  {
   "cell_type": "code",
   "execution_count": 2391,
   "metadata": {},
   "outputs": [],
   "source": [
    "data['is_apartment'] = data['is_apartment'].fillna(0)"
   ]
  },
  {
   "cell_type": "code",
   "execution_count": 2392,
   "metadata": {},
   "outputs": [],
   "source": [
    "data['parks_around3000'] = data['parks_around3000'].fillna(0)"
   ]
  },
  {
   "cell_type": "code",
   "execution_count": 2393,
   "metadata": {},
   "outputs": [],
   "source": [
    "data['ponds_around3000'] = data['ponds_around3000'].fillna(0)"
   ]
  },
  {
   "cell_type": "markdown",
   "metadata": {},
   "source": [
    "В столбце 'locality_name' 49 пропусков. Думаю их можно удалить, так как их очень мало."
   ]
  },
  {
   "cell_type": "code",
   "execution_count": 2394,
   "metadata": {},
   "outputs": [],
   "source": [
    "data = data.dropna(subset=['floors_total', 'locality_name'])"
   ]
  },
  {
   "cell_type": "code",
   "execution_count": 2395,
   "metadata": {},
   "outputs": [
    {
     "data": {
      "text/plain": [
       "total_images                0\n",
       "last_price                  0\n",
       "total_area                  0\n",
       "first_day_exposition        0\n",
       "rooms                       0\n",
       "ceiling_height           9084\n",
       "floors_total                0\n",
       "living_area              1865\n",
       "floor                       0\n",
       "is_apartment                0\n",
       "studio                      0\n",
       "open_plan                   0\n",
       "kitchen_area             2222\n",
       "balcony                     0\n",
       "locality_name               0\n",
       "airports_nearest         5524\n",
       "city_centers_nearest     5501\n",
       "parks_around3000            0\n",
       "parks_nearest           15535\n",
       "ponds_around3000            0\n",
       "ponds_nearest           14529\n",
       "days_exposition          3171\n",
       "dtype: int64"
      ]
     },
     "execution_count": 2395,
     "metadata": {},
     "output_type": "execute_result"
    }
   ],
   "source": [
    "data.isna().sum()"
   ]
  },
  {
   "cell_type": "markdown",
   "metadata": {},
   "source": [
    "Остальные пропуски оставим, как есть."
   ]
  },
  {
   "cell_type": "markdown",
   "metadata": {},
   "source": [
    "#### Рассмотрим типы данных"
   ]
  },
  {
   "cell_type": "code",
   "execution_count": 2396,
   "metadata": {},
   "outputs": [
    {
     "name": "stdout",
     "output_type": "stream",
     "text": [
      "<class 'pandas.core.frame.DataFrame'>\n",
      "Int64Index: 23565 entries, 0 to 23698\n",
      "Data columns (total 22 columns):\n",
      " #   Column                Non-Null Count  Dtype  \n",
      "---  ------                --------------  -----  \n",
      " 0   total_images          23565 non-null  int64  \n",
      " 1   last_price            23565 non-null  float64\n",
      " 2   total_area            23565 non-null  float64\n",
      " 3   first_day_exposition  23565 non-null  object \n",
      " 4   rooms                 23565 non-null  int64  \n",
      " 5   ceiling_height        14481 non-null  float64\n",
      " 6   floors_total          23565 non-null  float64\n",
      " 7   living_area           21700 non-null  float64\n",
      " 8   floor                 23565 non-null  int64  \n",
      " 9   is_apartment          23565 non-null  object \n",
      " 10  studio                23565 non-null  bool   \n",
      " 11  open_plan             23565 non-null  bool   \n",
      " 12  kitchen_area          21343 non-null  float64\n",
      " 13  balcony               23565 non-null  float64\n",
      " 14  locality_name         23565 non-null  object \n",
      " 15  airports_nearest      18041 non-null  float64\n",
      " 16  city_centers_nearest  18064 non-null  float64\n",
      " 17  parks_around3000      23565 non-null  float64\n",
      " 18  parks_nearest         8030 non-null   float64\n",
      " 19  ponds_around3000      23565 non-null  float64\n",
      " 20  ponds_nearest         9036 non-null   float64\n",
      " 21  days_exposition       20394 non-null  float64\n",
      "dtypes: bool(2), float64(14), int64(3), object(3)\n",
      "memory usage: 3.8+ MB\n"
     ]
    }
   ],
   "source": [
    "data.info()"
   ]
  },
  {
   "cell_type": "code",
   "execution_count": 2397,
   "metadata": {},
   "outputs": [
    {
     "data": {
      "text/html": [
       "<div>\n",
       "<style scoped>\n",
       "    .dataframe tbody tr th:only-of-type {\n",
       "        vertical-align: middle;\n",
       "    }\n",
       "\n",
       "    .dataframe tbody tr th {\n",
       "        vertical-align: top;\n",
       "    }\n",
       "\n",
       "    .dataframe thead th {\n",
       "        text-align: right;\n",
       "    }\n",
       "</style>\n",
       "<table border=\"1\" class=\"dataframe\">\n",
       "  <thead>\n",
       "    <tr style=\"text-align: right;\">\n",
       "      <th></th>\n",
       "      <th>total_images</th>\n",
       "      <th>last_price</th>\n",
       "      <th>total_area</th>\n",
       "      <th>first_day_exposition</th>\n",
       "      <th>rooms</th>\n",
       "      <th>ceiling_height</th>\n",
       "      <th>floors_total</th>\n",
       "      <th>living_area</th>\n",
       "      <th>floor</th>\n",
       "      <th>is_apartment</th>\n",
       "      <th>...</th>\n",
       "      <th>kitchen_area</th>\n",
       "      <th>balcony</th>\n",
       "      <th>locality_name</th>\n",
       "      <th>airports_nearest</th>\n",
       "      <th>city_centers_nearest</th>\n",
       "      <th>parks_around3000</th>\n",
       "      <th>parks_nearest</th>\n",
       "      <th>ponds_around3000</th>\n",
       "      <th>ponds_nearest</th>\n",
       "      <th>days_exposition</th>\n",
       "    </tr>\n",
       "  </thead>\n",
       "  <tbody>\n",
       "    <tr>\n",
       "      <th>0</th>\n",
       "      <td>20</td>\n",
       "      <td>13000000.0</td>\n",
       "      <td>108.00</td>\n",
       "      <td>2019-03-07T00:00:00</td>\n",
       "      <td>3</td>\n",
       "      <td>2.70</td>\n",
       "      <td>16.0</td>\n",
       "      <td>51.0</td>\n",
       "      <td>8</td>\n",
       "      <td>0</td>\n",
       "      <td>...</td>\n",
       "      <td>25.00</td>\n",
       "      <td>0.0</td>\n",
       "      <td>Санкт-Петербург</td>\n",
       "      <td>18863.0</td>\n",
       "      <td>16028.0</td>\n",
       "      <td>1.0</td>\n",
       "      <td>482.0</td>\n",
       "      <td>2.0</td>\n",
       "      <td>755.0</td>\n",
       "      <td>NaN</td>\n",
       "    </tr>\n",
       "    <tr>\n",
       "      <th>1</th>\n",
       "      <td>7</td>\n",
       "      <td>3350000.0</td>\n",
       "      <td>40.40</td>\n",
       "      <td>2018-12-04T00:00:00</td>\n",
       "      <td>1</td>\n",
       "      <td>NaN</td>\n",
       "      <td>11.0</td>\n",
       "      <td>18.6</td>\n",
       "      <td>1</td>\n",
       "      <td>0</td>\n",
       "      <td>...</td>\n",
       "      <td>11.00</td>\n",
       "      <td>2.0</td>\n",
       "      <td>посёлок Шушары</td>\n",
       "      <td>12817.0</td>\n",
       "      <td>18603.0</td>\n",
       "      <td>0.0</td>\n",
       "      <td>NaN</td>\n",
       "      <td>0.0</td>\n",
       "      <td>NaN</td>\n",
       "      <td>81.0</td>\n",
       "    </tr>\n",
       "    <tr>\n",
       "      <th>2</th>\n",
       "      <td>10</td>\n",
       "      <td>5196000.0</td>\n",
       "      <td>56.00</td>\n",
       "      <td>2015-08-20T00:00:00</td>\n",
       "      <td>2</td>\n",
       "      <td>NaN</td>\n",
       "      <td>5.0</td>\n",
       "      <td>34.3</td>\n",
       "      <td>4</td>\n",
       "      <td>0</td>\n",
       "      <td>...</td>\n",
       "      <td>8.30</td>\n",
       "      <td>0.0</td>\n",
       "      <td>Санкт-Петербург</td>\n",
       "      <td>21741.0</td>\n",
       "      <td>13933.0</td>\n",
       "      <td>1.0</td>\n",
       "      <td>90.0</td>\n",
       "      <td>2.0</td>\n",
       "      <td>574.0</td>\n",
       "      <td>558.0</td>\n",
       "    </tr>\n",
       "    <tr>\n",
       "      <th>3</th>\n",
       "      <td>0</td>\n",
       "      <td>64900000.0</td>\n",
       "      <td>159.00</td>\n",
       "      <td>2015-07-24T00:00:00</td>\n",
       "      <td>3</td>\n",
       "      <td>NaN</td>\n",
       "      <td>14.0</td>\n",
       "      <td>NaN</td>\n",
       "      <td>9</td>\n",
       "      <td>0</td>\n",
       "      <td>...</td>\n",
       "      <td>NaN</td>\n",
       "      <td>0.0</td>\n",
       "      <td>Санкт-Петербург</td>\n",
       "      <td>28098.0</td>\n",
       "      <td>6800.0</td>\n",
       "      <td>2.0</td>\n",
       "      <td>84.0</td>\n",
       "      <td>3.0</td>\n",
       "      <td>234.0</td>\n",
       "      <td>424.0</td>\n",
       "    </tr>\n",
       "    <tr>\n",
       "      <th>4</th>\n",
       "      <td>2</td>\n",
       "      <td>10000000.0</td>\n",
       "      <td>100.00</td>\n",
       "      <td>2018-06-19T00:00:00</td>\n",
       "      <td>2</td>\n",
       "      <td>3.03</td>\n",
       "      <td>14.0</td>\n",
       "      <td>32.0</td>\n",
       "      <td>13</td>\n",
       "      <td>0</td>\n",
       "      <td>...</td>\n",
       "      <td>41.00</td>\n",
       "      <td>0.0</td>\n",
       "      <td>Санкт-Петербург</td>\n",
       "      <td>31856.0</td>\n",
       "      <td>8098.0</td>\n",
       "      <td>2.0</td>\n",
       "      <td>112.0</td>\n",
       "      <td>1.0</td>\n",
       "      <td>48.0</td>\n",
       "      <td>121.0</td>\n",
       "    </tr>\n",
       "    <tr>\n",
       "      <th>...</th>\n",
       "      <td>...</td>\n",
       "      <td>...</td>\n",
       "      <td>...</td>\n",
       "      <td>...</td>\n",
       "      <td>...</td>\n",
       "      <td>...</td>\n",
       "      <td>...</td>\n",
       "      <td>...</td>\n",
       "      <td>...</td>\n",
       "      <td>...</td>\n",
       "      <td>...</td>\n",
       "      <td>...</td>\n",
       "      <td>...</td>\n",
       "      <td>...</td>\n",
       "      <td>...</td>\n",
       "      <td>...</td>\n",
       "      <td>...</td>\n",
       "      <td>...</td>\n",
       "      <td>...</td>\n",
       "      <td>...</td>\n",
       "      <td>...</td>\n",
       "    </tr>\n",
       "    <tr>\n",
       "      <th>23694</th>\n",
       "      <td>9</td>\n",
       "      <td>9700000.0</td>\n",
       "      <td>133.81</td>\n",
       "      <td>2017-03-21T00:00:00</td>\n",
       "      <td>3</td>\n",
       "      <td>3.70</td>\n",
       "      <td>5.0</td>\n",
       "      <td>73.3</td>\n",
       "      <td>3</td>\n",
       "      <td>0</td>\n",
       "      <td>...</td>\n",
       "      <td>13.83</td>\n",
       "      <td>0.0</td>\n",
       "      <td>Санкт-Петербург</td>\n",
       "      <td>24665.0</td>\n",
       "      <td>4232.0</td>\n",
       "      <td>1.0</td>\n",
       "      <td>796.0</td>\n",
       "      <td>3.0</td>\n",
       "      <td>381.0</td>\n",
       "      <td>NaN</td>\n",
       "    </tr>\n",
       "    <tr>\n",
       "      <th>23695</th>\n",
       "      <td>14</td>\n",
       "      <td>3100000.0</td>\n",
       "      <td>59.00</td>\n",
       "      <td>2018-01-15T00:00:00</td>\n",
       "      <td>3</td>\n",
       "      <td>NaN</td>\n",
       "      <td>5.0</td>\n",
       "      <td>38.0</td>\n",
       "      <td>4</td>\n",
       "      <td>0</td>\n",
       "      <td>...</td>\n",
       "      <td>8.50</td>\n",
       "      <td>0.0</td>\n",
       "      <td>Тосно</td>\n",
       "      <td>NaN</td>\n",
       "      <td>NaN</td>\n",
       "      <td>0.0</td>\n",
       "      <td>NaN</td>\n",
       "      <td>0.0</td>\n",
       "      <td>NaN</td>\n",
       "      <td>45.0</td>\n",
       "    </tr>\n",
       "    <tr>\n",
       "      <th>23696</th>\n",
       "      <td>18</td>\n",
       "      <td>2500000.0</td>\n",
       "      <td>56.70</td>\n",
       "      <td>2018-02-11T00:00:00</td>\n",
       "      <td>2</td>\n",
       "      <td>NaN</td>\n",
       "      <td>3.0</td>\n",
       "      <td>29.7</td>\n",
       "      <td>1</td>\n",
       "      <td>0</td>\n",
       "      <td>...</td>\n",
       "      <td>NaN</td>\n",
       "      <td>0.0</td>\n",
       "      <td>село Рождествено</td>\n",
       "      <td>NaN</td>\n",
       "      <td>NaN</td>\n",
       "      <td>0.0</td>\n",
       "      <td>NaN</td>\n",
       "      <td>0.0</td>\n",
       "      <td>NaN</td>\n",
       "      <td>NaN</td>\n",
       "    </tr>\n",
       "    <tr>\n",
       "      <th>23697</th>\n",
       "      <td>13</td>\n",
       "      <td>11475000.0</td>\n",
       "      <td>76.75</td>\n",
       "      <td>2017-03-28T00:00:00</td>\n",
       "      <td>2</td>\n",
       "      <td>3.00</td>\n",
       "      <td>17.0</td>\n",
       "      <td>NaN</td>\n",
       "      <td>12</td>\n",
       "      <td>0</td>\n",
       "      <td>...</td>\n",
       "      <td>23.30</td>\n",
       "      <td>2.0</td>\n",
       "      <td>Санкт-Петербург</td>\n",
       "      <td>39140.0</td>\n",
       "      <td>10364.0</td>\n",
       "      <td>2.0</td>\n",
       "      <td>173.0</td>\n",
       "      <td>3.0</td>\n",
       "      <td>196.0</td>\n",
       "      <td>602.0</td>\n",
       "    </tr>\n",
       "    <tr>\n",
       "      <th>23698</th>\n",
       "      <td>4</td>\n",
       "      <td>1350000.0</td>\n",
       "      <td>32.30</td>\n",
       "      <td>2017-07-21T00:00:00</td>\n",
       "      <td>1</td>\n",
       "      <td>2.50</td>\n",
       "      <td>5.0</td>\n",
       "      <td>12.3</td>\n",
       "      <td>1</td>\n",
       "      <td>0</td>\n",
       "      <td>...</td>\n",
       "      <td>9.00</td>\n",
       "      <td>0.0</td>\n",
       "      <td>поселок Новый Учхоз</td>\n",
       "      <td>NaN</td>\n",
       "      <td>NaN</td>\n",
       "      <td>0.0</td>\n",
       "      <td>NaN</td>\n",
       "      <td>0.0</td>\n",
       "      <td>NaN</td>\n",
       "      <td>NaN</td>\n",
       "    </tr>\n",
       "  </tbody>\n",
       "</table>\n",
       "<p>23565 rows × 22 columns</p>\n",
       "</div>"
      ],
      "text/plain": [
       "       total_images  last_price  total_area first_day_exposition  rooms  \\\n",
       "0                20  13000000.0      108.00  2019-03-07T00:00:00      3   \n",
       "1                 7   3350000.0       40.40  2018-12-04T00:00:00      1   \n",
       "2                10   5196000.0       56.00  2015-08-20T00:00:00      2   \n",
       "3                 0  64900000.0      159.00  2015-07-24T00:00:00      3   \n",
       "4                 2  10000000.0      100.00  2018-06-19T00:00:00      2   \n",
       "...             ...         ...         ...                  ...    ...   \n",
       "23694             9   9700000.0      133.81  2017-03-21T00:00:00      3   \n",
       "23695            14   3100000.0       59.00  2018-01-15T00:00:00      3   \n",
       "23696            18   2500000.0       56.70  2018-02-11T00:00:00      2   \n",
       "23697            13  11475000.0       76.75  2017-03-28T00:00:00      2   \n",
       "23698             4   1350000.0       32.30  2017-07-21T00:00:00      1   \n",
       "\n",
       "       ceiling_height  floors_total  living_area  floor is_apartment  ...  \\\n",
       "0                2.70          16.0         51.0      8            0  ...   \n",
       "1                 NaN          11.0         18.6      1            0  ...   \n",
       "2                 NaN           5.0         34.3      4            0  ...   \n",
       "3                 NaN          14.0          NaN      9            0  ...   \n",
       "4                3.03          14.0         32.0     13            0  ...   \n",
       "...               ...           ...          ...    ...          ...  ...   \n",
       "23694            3.70           5.0         73.3      3            0  ...   \n",
       "23695             NaN           5.0         38.0      4            0  ...   \n",
       "23696             NaN           3.0         29.7      1            0  ...   \n",
       "23697            3.00          17.0          NaN     12            0  ...   \n",
       "23698            2.50           5.0         12.3      1            0  ...   \n",
       "\n",
       "       kitchen_area  balcony        locality_name  airports_nearest  \\\n",
       "0             25.00      0.0      Санкт-Петербург           18863.0   \n",
       "1             11.00      2.0       посёлок Шушары           12817.0   \n",
       "2              8.30      0.0      Санкт-Петербург           21741.0   \n",
       "3               NaN      0.0      Санкт-Петербург           28098.0   \n",
       "4             41.00      0.0      Санкт-Петербург           31856.0   \n",
       "...             ...      ...                  ...               ...   \n",
       "23694         13.83      0.0      Санкт-Петербург           24665.0   \n",
       "23695          8.50      0.0                Тосно               NaN   \n",
       "23696           NaN      0.0     село Рождествено               NaN   \n",
       "23697         23.30      2.0      Санкт-Петербург           39140.0   \n",
       "23698          9.00      0.0  поселок Новый Учхоз               NaN   \n",
       "\n",
       "      city_centers_nearest  parks_around3000  parks_nearest  ponds_around3000  \\\n",
       "0                  16028.0               1.0          482.0               2.0   \n",
       "1                  18603.0               0.0            NaN               0.0   \n",
       "2                  13933.0               1.0           90.0               2.0   \n",
       "3                   6800.0               2.0           84.0               3.0   \n",
       "4                   8098.0               2.0          112.0               1.0   \n",
       "...                    ...               ...            ...               ...   \n",
       "23694               4232.0               1.0          796.0               3.0   \n",
       "23695                  NaN               0.0            NaN               0.0   \n",
       "23696                  NaN               0.0            NaN               0.0   \n",
       "23697              10364.0               2.0          173.0               3.0   \n",
       "23698                  NaN               0.0            NaN               0.0   \n",
       "\n",
       "       ponds_nearest  days_exposition  \n",
       "0              755.0              NaN  \n",
       "1                NaN             81.0  \n",
       "2              574.0            558.0  \n",
       "3              234.0            424.0  \n",
       "4               48.0            121.0  \n",
       "...              ...              ...  \n",
       "23694          381.0              NaN  \n",
       "23695            NaN             45.0  \n",
       "23696            NaN              NaN  \n",
       "23697          196.0            602.0  \n",
       "23698            NaN              NaN  \n",
       "\n",
       "[23565 rows x 22 columns]"
      ]
     },
     "execution_count": 2397,
     "metadata": {},
     "output_type": "execute_result"
    }
   ],
   "source": [
    "data"
   ]
  },
  {
   "cell_type": "markdown",
   "metadata": {},
   "source": [
    "Тип данных столбца 'is_apartment' заменим на bool"
   ]
  },
  {
   "cell_type": "code",
   "execution_count": 2398,
   "metadata": {},
   "outputs": [],
   "source": [
    "data['is_apartment'] = data['is_apartment'].astype(bool)"
   ]
  },
  {
   "cell_type": "markdown",
   "metadata": {},
   "source": [
    "В столбце 'first_day_exposition' явно дата, поэтому меняем тип данных на 'datetime'"
   ]
  },
  {
   "cell_type": "code",
   "execution_count": 2399,
   "metadata": {},
   "outputs": [],
   "source": [
    "data['first_day_exposition'] = pd.to_datetime(\n",
    "    data['first_day_exposition'], format='%Y-%m-%dT%H:%M:%S'\n",
    ")"
   ]
  },
  {
   "cell_type": "code",
   "execution_count": 2400,
   "metadata": {},
   "outputs": [
    {
     "data": {
      "text/plain": [
       "0       2019-03-07\n",
       "1       2018-12-04\n",
       "2       2015-08-20\n",
       "3       2015-07-24\n",
       "4       2018-06-19\n",
       "           ...    \n",
       "23694   2017-03-21\n",
       "23695   2018-01-15\n",
       "23696   2018-02-11\n",
       "23697   2017-03-28\n",
       "23698   2017-07-21\n",
       "Name: first_day_exposition, Length: 23565, dtype: datetime64[ns]"
      ]
     },
     "execution_count": 2400,
     "metadata": {},
     "output_type": "execute_result"
    }
   ],
   "source": [
    "data['first_day_exposition']"
   ]
  },
  {
   "cell_type": "code",
   "execution_count": 2401,
   "metadata": {},
   "outputs": [
    {
     "name": "stdout",
     "output_type": "stream",
     "text": [
      "<class 'pandas.core.frame.DataFrame'>\n",
      "Int64Index: 23565 entries, 0 to 23698\n",
      "Data columns (total 22 columns):\n",
      " #   Column                Non-Null Count  Dtype         \n",
      "---  ------                --------------  -----         \n",
      " 0   total_images          23565 non-null  int64         \n",
      " 1   last_price            23565 non-null  float64       \n",
      " 2   total_area            23565 non-null  float64       \n",
      " 3   first_day_exposition  23565 non-null  datetime64[ns]\n",
      " 4   rooms                 23565 non-null  int64         \n",
      " 5   ceiling_height        14481 non-null  float64       \n",
      " 6   floors_total          23565 non-null  float64       \n",
      " 7   living_area           21700 non-null  float64       \n",
      " 8   floor                 23565 non-null  int64         \n",
      " 9   is_apartment          23565 non-null  bool          \n",
      " 10  studio                23565 non-null  bool          \n",
      " 11  open_plan             23565 non-null  bool          \n",
      " 12  kitchen_area          21343 non-null  float64       \n",
      " 13  balcony               23565 non-null  float64       \n",
      " 14  locality_name         23565 non-null  object        \n",
      " 15  airports_nearest      18041 non-null  float64       \n",
      " 16  city_centers_nearest  18064 non-null  float64       \n",
      " 17  parks_around3000      23565 non-null  float64       \n",
      " 18  parks_nearest         8030 non-null   float64       \n",
      " 19  ponds_around3000      23565 non-null  float64       \n",
      " 20  ponds_nearest         9036 non-null   float64       \n",
      " 21  days_exposition       20394 non-null  float64       \n",
      "dtypes: bool(3), datetime64[ns](1), float64(14), int64(3), object(1)\n",
      "memory usage: 3.7+ MB\n"
     ]
    }
   ],
   "source": [
    "data.info()"
   ]
  },
  {
   "cell_type": "markdown",
   "metadata": {},
   "source": [
    "#### Рассмотрим столбец 'locality_name'. Найдем неявные дубликаты. "
   ]
  },
  {
   "cell_type": "code",
   "execution_count": 2402,
   "metadata": {},
   "outputs": [
    {
     "data": {
      "text/plain": [
       "Санкт-Петербург         15651\n",
       "посёлок Мурино            520\n",
       "посёлок Шушары            439\n",
       "Всеволожск                398\n",
       "Пушкин                    369\n",
       "                        ...  \n",
       "деревня Ялгино              1\n",
       "деревня Вахнова Кара        1\n",
       "деревня Каськово            1\n",
       "поселок Гаврилово           1\n",
       "поселок Усть-Луга           1\n",
       "Name: locality_name, Length: 364, dtype: int64"
      ]
     },
     "execution_count": 2402,
     "metadata": {},
     "output_type": "execute_result"
    }
   ],
   "source": [
    "data['locality_name'].value_counts()"
   ]
  },
  {
   "cell_type": "markdown",
   "metadata": {},
   "source": [
    "Выведем уникальные значения и отсортируем их по алфавиту."
   ]
  },
  {
   "cell_type": "code",
   "execution_count": 2403,
   "metadata": {
    "scrolled": true
   },
   "outputs": [
    {
     "data": {
      "text/plain": [
       "array(['Бокситогорск', 'Волосово', 'Волхов', 'Всеволожск', 'Выборг',\n",
       "       'Высоцк', 'Гатчина', 'Зеленогорск', 'Ивангород', 'Каменногорск',\n",
       "       'Кингисепп', 'Кириши', 'Кировск', 'Колпино', 'Коммунар',\n",
       "       'Красное Село', 'Кронштадт', 'Кудрово', 'Лодейное Поле',\n",
       "       'Ломоносов', 'Луга', 'Любань', 'Мурино', 'Никольское',\n",
       "       'Новая Ладога', 'Отрадное', 'Павловск', 'Петергоф', 'Пикалёво',\n",
       "       'Подпорожье', 'Приморск', 'Приозерск', 'Пушкин', 'Санкт-Петербург',\n",
       "       'Светогорск', 'Сертолово', 'Сестрорецк', 'Сланцы', 'Сосновый Бор',\n",
       "       'Сясьстрой', 'Тихвин', 'Тосно', 'Шлиссельбург',\n",
       "       'городской поселок Большая Ижора', 'городской поселок Янино-1',\n",
       "       'городской посёлок Будогощь', 'городской посёлок Виллози',\n",
       "       'городской посёлок Лесогорский', 'городской посёлок Мга',\n",
       "       'городской посёлок Назия', 'городской посёлок Новоселье',\n",
       "       'городской посёлок Павлово', 'городской посёлок Рощино',\n",
       "       'городской посёлок Свирьстрой', 'городской посёлок Советский',\n",
       "       'городской посёлок Фёдоровское', 'городской посёлок Янино-1',\n",
       "       'деревня Агалатово', 'деревня Аро', 'деревня Батово',\n",
       "       'деревня Бегуницы', 'деревня Белогорка', 'деревня Большая Вруда',\n",
       "       'деревня Большая Пустомержа', 'деревня Большие Колпаны',\n",
       "       'деревня Большое Рейзино', 'деревня Большой Сабск', 'деревня Бор',\n",
       "       'деревня Борисова Грива', 'деревня Ваганово', 'деревня Вартемяги',\n",
       "       'деревня Вахнова Кара', 'деревня Выскатка', 'деревня Гарболово',\n",
       "       'деревня Глинка', 'деревня Горбунки', 'деревня Гостилицы',\n",
       "       'деревня Заклинье', 'деревня Заневка', 'деревня Зимитицы',\n",
       "       'деревня Извара', 'деревня Иссад', 'деревня Калитино',\n",
       "       'деревня Кальтино', 'деревня Камышовка', 'деревня Каськово',\n",
       "       'деревня Келози', 'деревня Кипень', 'деревня Кисельня',\n",
       "       'деревня Колтуши', 'деревня Коркино', 'деревня Котлы',\n",
       "       'деревня Кривко', 'деревня Кудрово', 'деревня Кузьмолово',\n",
       "       'деревня Курковицы', 'деревня Куровицы', 'деревня Куттузи',\n",
       "       'деревня Лаврики', 'деревня Лаголово', 'деревня Лампово',\n",
       "       'деревня Лесколово', 'деревня Лопухинка', 'деревня Лупполово',\n",
       "       'деревня Малая Романовка', 'деревня Малое Верево',\n",
       "       'деревня Малое Карлино', 'деревня Малые Колпаны',\n",
       "       'деревня Мануйлово', 'деревня Меньково', 'деревня Мины',\n",
       "       'деревня Мистолово', 'деревня Ненимяки', 'деревня Нижние Осельки',\n",
       "       'деревня Нижняя', 'деревня Низино', 'деревня Новое Девяткино',\n",
       "       'деревня Новолисино', 'деревня Нурма', 'деревня Оржицы',\n",
       "       'деревня Парицы', 'деревня Пельгора', 'деревня Пеники',\n",
       "       'деревня Пижма', 'деревня Пикколово', 'деревня Пудомяги',\n",
       "       'деревня Пустынка', 'деревня Пчева', 'деревня Рабитицы',\n",
       "       'деревня Разбегаево', 'деревня Раздолье', 'деревня Разметелево',\n",
       "       'деревня Рапполово', 'деревня Реброво', 'деревня Русско',\n",
       "       'деревня Сижно', 'деревня Снегирёвка', 'деревня Старая',\n",
       "       'деревня Старая Пустошь', 'деревня Старое Хинколово',\n",
       "       'деревня Старополье', 'деревня Старосиверская',\n",
       "       'деревня Старые Бегуницы', 'деревня Суоранда',\n",
       "       'деревня Сяськелево', 'деревня Тарасово', 'деревня Терпилицы',\n",
       "       'деревня Тихковицы', 'деревня Тойворово', 'деревня Торосово',\n",
       "       'деревня Торошковичи', 'деревня Трубников Бор',\n",
       "       'деревня Фалилеево', 'деревня Фёдоровское', 'деревня Хапо-Ое',\n",
       "       'деревня Хязельки', 'деревня Чудской Бор', 'деревня Шпаньково',\n",
       "       'деревня Щеглово', 'деревня Юкки', 'деревня Ялгино',\n",
       "       'деревня Яльгелево', 'деревня Ям-Тесово',\n",
       "       'коттеджный поселок Кивеннапа Север', 'коттеджный поселок Счастье',\n",
       "       'коттеджный посёлок Лесное', 'поселок Аннино', 'поселок Барышево',\n",
       "       'поселок Бугры', 'поселок Возрождение', 'поселок Войсковицы',\n",
       "       'поселок Володарское', 'поселок Гаврилово', 'поселок Гарболово',\n",
       "       'поселок Гладкое', 'поселок Глажево', 'поселок Глебычево',\n",
       "       'поселок Гончарово', 'поселок Громово', 'поселок Дружноселье',\n",
       "       'поселок Елизаветино', 'поселок Жилгородок', 'поселок Жилпосёлок',\n",
       "       'поселок Житково', 'поселок Заводской', 'поселок Запорожское',\n",
       "       'поселок Зимитицы', 'поселок Ильичёво', 'поселок Калитино',\n",
       "       'поселок Каложицы', 'поселок Кингисеппский', 'поселок Кирпичное',\n",
       "       'поселок Кобралово', 'поселок Кобринское', 'поселок Коммунары',\n",
       "       'поселок Коробицыно', 'поселок Котельский',\n",
       "       'поселок Красная Долина', 'поселок Красносельское',\n",
       "       'поселок Лесное', 'поселок Лисий Нос', 'поселок Лукаши',\n",
       "       'поселок Любань', 'поселок Мельниково', 'поселок Мичуринское',\n",
       "       'поселок Молодцово', 'поселок Мурино', 'поселок Новый Свет',\n",
       "       'поселок Новый Учхоз', 'поселок Оредеж',\n",
       "       'поселок Пансионат Зелёный Бор', 'поселок Первомайское',\n",
       "       'поселок Перово', 'поселок Петровское', 'поселок Победа',\n",
       "       'поселок Поляны', 'поселок Почап', 'поселок Починок',\n",
       "       'поселок Пушное', 'поселок Пчевжа', 'поселок Рабитицы',\n",
       "       'поселок Романовка', 'поселок Ромашки', 'поселок Рябово',\n",
       "       'поселок Севастьяново', 'поселок Селезнёво', 'поселок Сельцо',\n",
       "       'поселок Семиозерье', 'поселок Семрино', 'поселок Серебрянский',\n",
       "       'поселок Совхозный', 'поселок Старая Малукса',\n",
       "       'поселок Стеклянный', 'поселок Сумино', 'поселок Суходолье',\n",
       "       'поселок Тельмана', 'поселок Терволово', 'поселок Торковичи',\n",
       "       'поселок Тёсово-4', 'поселок Углово', 'поселок Усть-Луга',\n",
       "       'поселок Ушаки', 'поселок Цвелодубово', 'поселок Цвылёво',\n",
       "       'поселок городского типа Большая Ижора',\n",
       "       'поселок городского типа Вырица',\n",
       "       'поселок городского типа Дружная Горка',\n",
       "       'поселок городского типа Дубровка',\n",
       "       'поселок городского типа Ефимовский',\n",
       "       'поселок городского типа Кондратьево',\n",
       "       'поселок городского типа Красный Бор',\n",
       "       'поселок городского типа Кузьмоловский',\n",
       "       'поселок городского типа Лебяжье',\n",
       "       'поселок городского типа Лесогорский',\n",
       "       'поселок городского типа Назия',\n",
       "       'поселок городского типа Никольский',\n",
       "       'поселок городского типа Приладожский',\n",
       "       'поселок городского типа Рахья', 'поселок городского типа Рощино',\n",
       "       'поселок городского типа Рябово',\n",
       "       'поселок городского типа Синявино',\n",
       "       'поселок городского типа Советский',\n",
       "       'поселок городского типа Токсово',\n",
       "       'поселок городского типа Форносово',\n",
       "       'поселок городского типа имени Свердлова',\n",
       "       'поселок станции Вещево', 'поселок станции Корнево',\n",
       "       'поселок станции Лужайка', 'поселок станции Приветнинское',\n",
       "       'посёлок Александровская', 'посёлок Алексеевка', 'посёлок Аннино',\n",
       "       'посёлок Белоостров', 'посёлок Бугры', 'посёлок Возрождение',\n",
       "       'посёлок Войскорово', 'посёлок Высокоключевой',\n",
       "       'посёлок Гаврилово', 'посёлок Дзержинского', 'посёлок Жилгородок',\n",
       "       'посёлок Ильичёво', 'посёлок Кикерино', 'посёлок Кобралово',\n",
       "       'посёлок Коробицыно', 'посёлок Левашово', 'посёлок Ленинское',\n",
       "       'посёлок Лисий Нос', 'посёлок Мельниково', 'посёлок Металлострой',\n",
       "       'посёлок Мичуринское', 'посёлок Молодёжное', 'посёлок Мурино',\n",
       "       'посёлок Мыза-Ивановка', 'посёлок Новогорелово',\n",
       "       'посёлок Новый Свет', 'посёлок Пансионат Зелёный Бор',\n",
       "       'посёлок Парголово', 'посёлок Перово', 'посёлок Песочный',\n",
       "       'посёлок Петро-Славянка', 'посёлок Петровское',\n",
       "       'посёлок Платформа 69-й километр', 'посёлок Плодовое',\n",
       "       'посёлок Плоское', 'посёлок Победа', 'посёлок Поляны',\n",
       "       'посёлок Понтонный', 'посёлок Пригородный', 'посёлок Пудость',\n",
       "       'посёлок Репино', 'посёлок Ропша', 'посёлок Сапёрное',\n",
       "       'посёлок Сапёрный', 'посёлок Сосново', 'посёлок Старая Малукса',\n",
       "       'посёлок Стеклянный', 'посёлок Стрельна', 'посёлок Суйда',\n",
       "       'посёлок Сумино', 'посёлок Тельмана', 'посёлок Терволово',\n",
       "       'посёлок Торфяное', 'посёлок Усть-Ижора', 'посёлок Усть-Луга',\n",
       "       'посёлок Форт Красная Горка', 'посёлок Шугозеро', 'посёлок Шушары',\n",
       "       'посёлок Щеглово', 'посёлок городского типа Важины',\n",
       "       'посёлок городского типа Вознесенье',\n",
       "       'посёлок городского типа Вырица',\n",
       "       'посёлок городского типа Красный Бор',\n",
       "       'посёлок городского типа Кузнечное',\n",
       "       'посёлок городского типа Кузьмоловский',\n",
       "       'посёлок городского типа Лебяжье', 'посёлок городского типа Мга',\n",
       "       'посёлок городского типа Павлово',\n",
       "       'посёлок городского типа Рощино', 'посёлок городского типа Рябово',\n",
       "       'посёлок городского типа Сиверский',\n",
       "       'посёлок городского типа Тайцы', 'посёлок городского типа Токсово',\n",
       "       'посёлок городского типа Ульяновка',\n",
       "       'посёлок городского типа Форносово',\n",
       "       'посёлок городского типа имени Морозова',\n",
       "       'посёлок городского типа имени Свердлова',\n",
       "       'посёлок при железнодорожной станции Вещево',\n",
       "       'посёлок при железнодорожной станции Приветнинское',\n",
       "       'посёлок станции Громово', 'посёлок станции Свирь',\n",
       "       'садоводческое некоммерческое товарищество Лесная Поляна',\n",
       "       'садовое товарищество Новая Ропша',\n",
       "       'садовое товарищество Приладожский', 'садовое товарищество Рахья',\n",
       "       'садовое товарищество Садко', 'село Копорье', 'село Никольское',\n",
       "       'село Павлово', 'село Паша', 'село Путилово', 'село Рождествено',\n",
       "       'село Русско-Высоцкое', 'село Старая Ладога', 'село Шум'],\n",
       "      dtype=object)"
      ]
     },
     "execution_count": 2403,
     "metadata": {},
     "output_type": "execute_result"
    }
   ],
   "source": [
    "uniqe_locality_name = data['locality_name'].unique()\n",
    "uniqe_locality_name.sort()\n",
    "uniqe_locality_name"
   ]
  },
  {
   "cell_type": "markdown",
   "metadata": {},
   "source": [
    "Встречаются названия с буквами 'e' и 'ё'. Чтобы они не считались как разные населенные пункты, заменим все 'ё' на 'е'.  "
   ]
  },
  {
   "cell_type": "code",
   "execution_count": 2404,
   "metadata": {},
   "outputs": [],
   "source": [
    "data['locality_name'] = data['locality_name'].str.replace('ё', 'е', regex=True)"
   ]
  },
  {
   "cell_type": "markdown",
   "metadata": {},
   "source": [
    "'городской поселок' и 'поселок городского типа' изменим на 'поселок', так как это может быть один и тот же населенный пункт."
   ]
  },
  {
   "cell_type": "code",
   "execution_count": 2405,
   "metadata": {},
   "outputs": [],
   "source": [
    "data['locality_name'] = data['locality_name'].str.replace('городской поселок','поселок')\n",
    "data['locality_name'] = data['locality_name'].str.replace('поселок городского типа','поселок')"
   ]
  },
  {
   "cell_type": "code",
   "execution_count": 2406,
   "metadata": {},
   "outputs": [
    {
     "data": {
      "text/plain": [
       "array(['Бокситогорск', 'Волосово', 'Волхов', 'Всеволожск', 'Выборг',\n",
       "       'Высоцк', 'Гатчина', 'Зеленогорск', 'Ивангород', 'Каменногорск',\n",
       "       'Кингисепп', 'Кириши', 'Кировск', 'Колпино', 'Коммунар',\n",
       "       'Красное Село', 'Кронштадт', 'Кудрово', 'Лодейное Поле',\n",
       "       'Ломоносов', 'Луга', 'Любань', 'Мурино', 'Никольское',\n",
       "       'Новая Ладога', 'Отрадное', 'Павловск', 'Петергоф', 'Пикалево',\n",
       "       'Подпорожье', 'Приморск', 'Приозерск', 'Пушкин', 'Санкт-Петербург',\n",
       "       'Светогорск', 'Сертолово', 'Сестрорецк', 'Сланцы', 'Сосновый Бор',\n",
       "       'Сясьстрой', 'Тихвин', 'Тосно', 'Шлиссельбург',\n",
       "       'деревня Агалатово', 'деревня Аро', 'деревня Батово',\n",
       "       'деревня Бегуницы', 'деревня Белогорка', 'деревня Большая Вруда',\n",
       "       'деревня Большая Пустомержа', 'деревня Большие Колпаны',\n",
       "       'деревня Большое Рейзино', 'деревня Большой Сабск', 'деревня Бор',\n",
       "       'деревня Борисова Грива', 'деревня Ваганово', 'деревня Вартемяги',\n",
       "       'деревня Вахнова Кара', 'деревня Выскатка', 'деревня Гарболово',\n",
       "       'деревня Глинка', 'деревня Горбунки', 'деревня Гостилицы',\n",
       "       'деревня Заклинье', 'деревня Заневка', 'деревня Зимитицы',\n",
       "       'деревня Извара', 'деревня Иссад', 'деревня Калитино',\n",
       "       'деревня Кальтино', 'деревня Камышовка', 'деревня Каськово',\n",
       "       'деревня Келози', 'деревня Кипень', 'деревня Кисельня',\n",
       "       'деревня Колтуши', 'деревня Коркино', 'деревня Котлы',\n",
       "       'деревня Кривко', 'деревня Кудрово', 'деревня Кузьмолово',\n",
       "       'деревня Курковицы', 'деревня Куровицы', 'деревня Куттузи',\n",
       "       'деревня Лаврики', 'деревня Лаголово', 'деревня Лампово',\n",
       "       'деревня Лесколово', 'деревня Лопухинка', 'деревня Лупполово',\n",
       "       'деревня Малая Романовка', 'деревня Малое Верево',\n",
       "       'деревня Малое Карлино', 'деревня Малые Колпаны',\n",
       "       'деревня Мануйлово', 'деревня Меньково', 'деревня Мины',\n",
       "       'деревня Мистолово', 'деревня Ненимяки', 'деревня Нижние Осельки',\n",
       "       'деревня Нижняя', 'деревня Низино', 'деревня Новое Девяткино',\n",
       "       'деревня Новолисино', 'деревня Нурма', 'деревня Оржицы',\n",
       "       'деревня Парицы', 'деревня Пельгора', 'деревня Пеники',\n",
       "       'деревня Пижма', 'деревня Пикколово', 'деревня Пудомяги',\n",
       "       'деревня Пустынка', 'деревня Пчева', 'деревня Рабитицы',\n",
       "       'деревня Разбегаево', 'деревня Раздолье', 'деревня Разметелево',\n",
       "       'деревня Рапполово', 'деревня Реброво', 'деревня Русско',\n",
       "       'деревня Сижно', 'деревня Снегиревка', 'деревня Старая',\n",
       "       'деревня Старая Пустошь', 'деревня Старое Хинколово',\n",
       "       'деревня Старополье', 'деревня Старосиверская',\n",
       "       'деревня Старые Бегуницы', 'деревня Суоранда',\n",
       "       'деревня Сяськелево', 'деревня Тарасово', 'деревня Терпилицы',\n",
       "       'деревня Тихковицы', 'деревня Тойворово', 'деревня Торосово',\n",
       "       'деревня Торошковичи', 'деревня Трубников Бор',\n",
       "       'деревня Фалилеево', 'деревня Федоровское', 'деревня Хапо-Ое',\n",
       "       'деревня Хязельки', 'деревня Чудской Бор', 'деревня Шпаньково',\n",
       "       'деревня Щеглово', 'деревня Юкки', 'деревня Ялгино',\n",
       "       'деревня Яльгелево', 'деревня Ям-Тесово',\n",
       "       'коттеджный поселок Кивеннапа Север', 'коттеджный поселок Лесное',\n",
       "       'коттеджный поселок Счастье', 'поселок Александровская',\n",
       "       'поселок Алексеевка', 'поселок Аннино', 'поселок Барышево',\n",
       "       'поселок Белоостров', 'поселок Большая Ижора', 'поселок Бугры',\n",
       "       'поселок Будогощь', 'поселок Важины', 'поселок Виллози',\n",
       "       'поселок Вознесенье', 'поселок Возрождение', 'поселок Войсковицы',\n",
       "       'поселок Войскорово', 'поселок Володарское', 'поселок Вырица',\n",
       "       'поселок Высокоключевой', 'поселок Гаврилово', 'поселок Гарболово',\n",
       "       'поселок Гладкое', 'поселок Глажево', 'поселок Глебычево',\n",
       "       'поселок Гончарово', 'поселок Громово', 'поселок Дзержинского',\n",
       "       'поселок Дружная Горка', 'поселок Дружноселье', 'поселок Дубровка',\n",
       "       'поселок Елизаветино', 'поселок Ефимовский', 'поселок Жилгородок',\n",
       "       'поселок Жилпоселок', 'поселок Житково', 'поселок Заводской',\n",
       "       'поселок Запорожское', 'поселок Зимитицы', 'поселок Ильичево',\n",
       "       'поселок Калитино', 'поселок Каложицы', 'поселок Кикерино',\n",
       "       'поселок Кингисеппский', 'поселок Кирпичное', 'поселок Кобралово',\n",
       "       'поселок Кобринское', 'поселок Коммунары', 'поселок Кондратьево',\n",
       "       'поселок Коробицыно', 'поселок Котельский',\n",
       "       'поселок Красная Долина', 'поселок Красносельское',\n",
       "       'поселок Красный Бор', 'поселок Кузнечное',\n",
       "       'поселок Кузьмоловский', 'поселок Лебяжье', 'поселок Левашово',\n",
       "       'поселок Ленинское', 'поселок Лесное', 'поселок Лесогорский',\n",
       "       'поселок Лисий Нос', 'поселок Лукаши', 'поселок Любань',\n",
       "       'поселок Мга', 'поселок Мельниково', 'поселок Металлострой',\n",
       "       'поселок Мичуринское', 'поселок Молодежное', 'поселок Молодцово',\n",
       "       'поселок Мурино', 'поселок Мыза-Ивановка', 'поселок Назия',\n",
       "       'поселок Никольский', 'поселок Новогорелово', 'поселок Новоселье',\n",
       "       'поселок Новый Свет', 'поселок Новый Учхоз', 'поселок Оредеж',\n",
       "       'поселок Павлово', 'поселок Пансионат Зеленый Бор',\n",
       "       'поселок Парголово', 'поселок Первомайское', 'поселок Перово',\n",
       "       'поселок Песочный', 'поселок Петро-Славянка', 'поселок Петровское',\n",
       "       'поселок Платформа 69-й километр', 'поселок Плодовое',\n",
       "       'поселок Плоское', 'поселок Победа', 'поселок Поляны',\n",
       "       'поселок Понтонный', 'поселок Почап', 'поселок Починок',\n",
       "       'поселок Пригородный', 'поселок Приладожский', 'поселок Пудость',\n",
       "       'поселок Пушное', 'поселок Пчевжа', 'поселок Рабитицы',\n",
       "       'поселок Рахья', 'поселок Репино', 'поселок Романовка',\n",
       "       'поселок Ромашки', 'поселок Ропша', 'поселок Рощино',\n",
       "       'поселок Рябово', 'поселок Саперное', 'поселок Саперный',\n",
       "       'поселок Свирьстрой', 'поселок Севастьяново', 'поселок Селезнево',\n",
       "       'поселок Сельцо', 'поселок Семиозерье', 'поселок Семрино',\n",
       "       'поселок Серебрянский', 'поселок Сиверский', 'поселок Синявино',\n",
       "       'поселок Советский', 'поселок Совхозный', 'поселок Сосново',\n",
       "       'поселок Старая Малукса', 'поселок Стеклянный', 'поселок Стрельна',\n",
       "       'поселок Суйда', 'поселок Сумино', 'поселок Суходолье',\n",
       "       'поселок Тайцы', 'поселок Тельмана', 'поселок Терволово',\n",
       "       'поселок Тесово-4', 'поселок Токсово', 'поселок Торковичи',\n",
       "       'поселок Торфяное', 'поселок Углово', 'поселок Ульяновка',\n",
       "       'поселок Усть-Ижора', 'поселок Усть-Луга', 'поселок Ушаки',\n",
       "       'поселок Федоровское', 'поселок Форносово',\n",
       "       'поселок Форт Красная Горка', 'поселок Цвелодубово',\n",
       "       'поселок Цвылево', 'поселок Шугозеро', 'поселок Шушары',\n",
       "       'поселок Щеглово', 'поселок Янино-1', 'поселок имени Морозова',\n",
       "       'поселок имени Свердлова',\n",
       "       'поселок при железнодорожной станции Вещево',\n",
       "       'поселок при железнодорожной станции Приветнинское',\n",
       "       'поселок станции Вещево', 'поселок станции Громово',\n",
       "       'поселок станции Корнево', 'поселок станции Лужайка',\n",
       "       'поселок станции Приветнинское', 'поселок станции Свирь',\n",
       "       'садоводческое некоммерческое товарищество Лесная Поляна',\n",
       "       'садовое товарищество Новая Ропша',\n",
       "       'садовое товарищество Приладожский', 'садовое товарищество Рахья',\n",
       "       'садовое товарищество Садко', 'село Копорье', 'село Никольское',\n",
       "       'село Павлово', 'село Паша', 'село Путилово', 'село Рождествено',\n",
       "       'село Русско-Высоцкое', 'село Старая Ладога', 'село Шум'],\n",
       "      dtype=object)"
      ]
     },
     "execution_count": 2406,
     "metadata": {},
     "output_type": "execute_result"
    }
   ],
   "source": [
    "uniqe_locality_name = data['locality_name'].unique()\n",
    "uniqe_locality_name.sort()\n",
    "uniqe_locality_name"
   ]
  },
  {
   "cell_type": "markdown",
   "metadata": {},
   "source": [
    "#### Найдем редкие и выбивающиеся значения"
   ]
  },
  {
   "cell_type": "code",
   "execution_count": 2407,
   "metadata": {},
   "outputs": [
    {
     "data": {
      "text/html": [
       "<div>\n",
       "<style scoped>\n",
       "    .dataframe tbody tr th:only-of-type {\n",
       "        vertical-align: middle;\n",
       "    }\n",
       "\n",
       "    .dataframe tbody tr th {\n",
       "        vertical-align: top;\n",
       "    }\n",
       "\n",
       "    .dataframe thead th {\n",
       "        text-align: right;\n",
       "    }\n",
       "</style>\n",
       "<table border=\"1\" class=\"dataframe\">\n",
       "  <thead>\n",
       "    <tr style=\"text-align: right;\">\n",
       "      <th></th>\n",
       "      <th>total_images</th>\n",
       "      <th>last_price</th>\n",
       "      <th>total_area</th>\n",
       "      <th>rooms</th>\n",
       "      <th>ceiling_height</th>\n",
       "      <th>floors_total</th>\n",
       "      <th>living_area</th>\n",
       "      <th>floor</th>\n",
       "      <th>kitchen_area</th>\n",
       "      <th>balcony</th>\n",
       "      <th>airports_nearest</th>\n",
       "      <th>city_centers_nearest</th>\n",
       "      <th>parks_around3000</th>\n",
       "      <th>parks_nearest</th>\n",
       "      <th>ponds_around3000</th>\n",
       "      <th>ponds_nearest</th>\n",
       "      <th>days_exposition</th>\n",
       "    </tr>\n",
       "  </thead>\n",
       "  <tbody>\n",
       "    <tr>\n",
       "      <th>count</th>\n",
       "      <td>23565.000000</td>\n",
       "      <td>2.356500e+04</td>\n",
       "      <td>23565.000000</td>\n",
       "      <td>23565.000000</td>\n",
       "      <td>14481.000000</td>\n",
       "      <td>23565.000000</td>\n",
       "      <td>21700.000000</td>\n",
       "      <td>23565.000000</td>\n",
       "      <td>21343.000000</td>\n",
       "      <td>23565.000000</td>\n",
       "      <td>18041.000000</td>\n",
       "      <td>18064.000000</td>\n",
       "      <td>23565.000000</td>\n",
       "      <td>8030.000000</td>\n",
       "      <td>23565.000000</td>\n",
       "      <td>9036.000000</td>\n",
       "      <td>20394.000000</td>\n",
       "    </tr>\n",
       "    <tr>\n",
       "      <th>mean</th>\n",
       "      <td>9.878421</td>\n",
       "      <td>6.540058e+06</td>\n",
       "      <td>60.322824</td>\n",
       "      <td>2.070656</td>\n",
       "      <td>2.771283</td>\n",
       "      <td>10.675875</td>\n",
       "      <td>34.454822</td>\n",
       "      <td>5.878124</td>\n",
       "      <td>10.560994</td>\n",
       "      <td>0.593677</td>\n",
       "      <td>28797.082701</td>\n",
       "      <td>14192.656056</td>\n",
       "      <td>0.468831</td>\n",
       "      <td>490.580448</td>\n",
       "      <td>0.589900</td>\n",
       "      <td>518.289509</td>\n",
       "      <td>180.741395</td>\n",
       "    </tr>\n",
       "    <tr>\n",
       "      <th>std</th>\n",
       "      <td>5.681156</td>\n",
       "      <td>1.091093e+07</td>\n",
       "      <td>35.657060</td>\n",
       "      <td>1.078591</td>\n",
       "      <td>1.261983</td>\n",
       "      <td>6.594823</td>\n",
       "      <td>22.045359</td>\n",
       "      <td>4.871485</td>\n",
       "      <td>5.900630</td>\n",
       "      <td>0.960660</td>\n",
       "      <td>12632.499735</td>\n",
       "      <td>8613.348153</td>\n",
       "      <td>0.748403</td>\n",
       "      <td>341.572956</td>\n",
       "      <td>0.883966</td>\n",
       "      <td>278.009558</td>\n",
       "      <td>219.732782</td>\n",
       "    </tr>\n",
       "    <tr>\n",
       "      <th>min</th>\n",
       "      <td>0.000000</td>\n",
       "      <td>1.219000e+04</td>\n",
       "      <td>12.000000</td>\n",
       "      <td>0.000000</td>\n",
       "      <td>1.000000</td>\n",
       "      <td>1.000000</td>\n",
       "      <td>2.000000</td>\n",
       "      <td>1.000000</td>\n",
       "      <td>1.300000</td>\n",
       "      <td>0.000000</td>\n",
       "      <td>0.000000</td>\n",
       "      <td>181.000000</td>\n",
       "      <td>0.000000</td>\n",
       "      <td>1.000000</td>\n",
       "      <td>0.000000</td>\n",
       "      <td>13.000000</td>\n",
       "      <td>1.000000</td>\n",
       "    </tr>\n",
       "    <tr>\n",
       "      <th>25%</th>\n",
       "      <td>6.000000</td>\n",
       "      <td>3.400000e+06</td>\n",
       "      <td>40.000000</td>\n",
       "      <td>1.000000</td>\n",
       "      <td>2.510000</td>\n",
       "      <td>5.000000</td>\n",
       "      <td>18.600000</td>\n",
       "      <td>2.000000</td>\n",
       "      <td>7.000000</td>\n",
       "      <td>0.000000</td>\n",
       "      <td>18565.000000</td>\n",
       "      <td>9238.000000</td>\n",
       "      <td>0.000000</td>\n",
       "      <td>288.000000</td>\n",
       "      <td>0.000000</td>\n",
       "      <td>293.000000</td>\n",
       "      <td>45.000000</td>\n",
       "    </tr>\n",
       "    <tr>\n",
       "      <th>50%</th>\n",
       "      <td>9.000000</td>\n",
       "      <td>4.646000e+06</td>\n",
       "      <td>52.000000</td>\n",
       "      <td>2.000000</td>\n",
       "      <td>2.650000</td>\n",
       "      <td>9.000000</td>\n",
       "      <td>30.000000</td>\n",
       "      <td>4.000000</td>\n",
       "      <td>9.100000</td>\n",
       "      <td>0.000000</td>\n",
       "      <td>26757.000000</td>\n",
       "      <td>13096.500000</td>\n",
       "      <td>0.000000</td>\n",
       "      <td>455.000000</td>\n",
       "      <td>0.000000</td>\n",
       "      <td>503.000000</td>\n",
       "      <td>95.000000</td>\n",
       "    </tr>\n",
       "    <tr>\n",
       "      <th>75%</th>\n",
       "      <td>14.000000</td>\n",
       "      <td>6.790000e+06</td>\n",
       "      <td>69.700000</td>\n",
       "      <td>3.000000</td>\n",
       "      <td>2.800000</td>\n",
       "      <td>16.000000</td>\n",
       "      <td>42.300000</td>\n",
       "      <td>8.000000</td>\n",
       "      <td>12.000000</td>\n",
       "      <td>1.000000</td>\n",
       "      <td>37273.000000</td>\n",
       "      <td>16285.000000</td>\n",
       "      <td>1.000000</td>\n",
       "      <td>612.000000</td>\n",
       "      <td>1.000000</td>\n",
       "      <td>730.000000</td>\n",
       "      <td>231.000000</td>\n",
       "    </tr>\n",
       "    <tr>\n",
       "      <th>max</th>\n",
       "      <td>50.000000</td>\n",
       "      <td>7.630000e+08</td>\n",
       "      <td>900.000000</td>\n",
       "      <td>19.000000</td>\n",
       "      <td>100.000000</td>\n",
       "      <td>60.000000</td>\n",
       "      <td>409.700000</td>\n",
       "      <td>33.000000</td>\n",
       "      <td>112.000000</td>\n",
       "      <td>5.000000</td>\n",
       "      <td>84869.000000</td>\n",
       "      <td>65968.000000</td>\n",
       "      <td>3.000000</td>\n",
       "      <td>3190.000000</td>\n",
       "      <td>3.000000</td>\n",
       "      <td>1344.000000</td>\n",
       "      <td>1580.000000</td>\n",
       "    </tr>\n",
       "  </tbody>\n",
       "</table>\n",
       "</div>"
      ],
      "text/plain": [
       "       total_images    last_price    total_area         rooms  ceiling_height  \\\n",
       "count  23565.000000  2.356500e+04  23565.000000  23565.000000    14481.000000   \n",
       "mean       9.878421  6.540058e+06     60.322824      2.070656        2.771283   \n",
       "std        5.681156  1.091093e+07     35.657060      1.078591        1.261983   \n",
       "min        0.000000  1.219000e+04     12.000000      0.000000        1.000000   \n",
       "25%        6.000000  3.400000e+06     40.000000      1.000000        2.510000   \n",
       "50%        9.000000  4.646000e+06     52.000000      2.000000        2.650000   \n",
       "75%       14.000000  6.790000e+06     69.700000      3.000000        2.800000   \n",
       "max       50.000000  7.630000e+08    900.000000     19.000000      100.000000   \n",
       "\n",
       "       floors_total   living_area         floor  kitchen_area       balcony  \\\n",
       "count  23565.000000  21700.000000  23565.000000  21343.000000  23565.000000   \n",
       "mean      10.675875     34.454822      5.878124     10.560994      0.593677   \n",
       "std        6.594823     22.045359      4.871485      5.900630      0.960660   \n",
       "min        1.000000      2.000000      1.000000      1.300000      0.000000   \n",
       "25%        5.000000     18.600000      2.000000      7.000000      0.000000   \n",
       "50%        9.000000     30.000000      4.000000      9.100000      0.000000   \n",
       "75%       16.000000     42.300000      8.000000     12.000000      1.000000   \n",
       "max       60.000000    409.700000     33.000000    112.000000      5.000000   \n",
       "\n",
       "       airports_nearest  city_centers_nearest  parks_around3000  \\\n",
       "count      18041.000000          18064.000000      23565.000000   \n",
       "mean       28797.082701          14192.656056          0.468831   \n",
       "std        12632.499735           8613.348153          0.748403   \n",
       "min            0.000000            181.000000          0.000000   \n",
       "25%        18565.000000           9238.000000          0.000000   \n",
       "50%        26757.000000          13096.500000          0.000000   \n",
       "75%        37273.000000          16285.000000          1.000000   \n",
       "max        84869.000000          65968.000000          3.000000   \n",
       "\n",
       "       parks_nearest  ponds_around3000  ponds_nearest  days_exposition  \n",
       "count    8030.000000      23565.000000    9036.000000     20394.000000  \n",
       "mean      490.580448          0.589900     518.289509       180.741395  \n",
       "std       341.572956          0.883966     278.009558       219.732782  \n",
       "min         1.000000          0.000000      13.000000         1.000000  \n",
       "25%       288.000000          0.000000     293.000000        45.000000  \n",
       "50%       455.000000          0.000000     503.000000        95.000000  \n",
       "75%       612.000000          1.000000     730.000000       231.000000  \n",
       "max      3190.000000          3.000000    1344.000000      1580.000000  "
      ]
     },
     "execution_count": 2407,
     "metadata": {},
     "output_type": "execute_result"
    }
   ],
   "source": [
    "data.describe()"
   ]
  },
  {
   "cell_type": "markdown",
   "metadata": {},
   "source": [
    "Посмотрим высоту потолков"
   ]
  },
  {
   "cell_type": "code",
   "execution_count": 2408,
   "metadata": {},
   "outputs": [
    {
     "data": {
      "text/plain": [
       "count    14481.000000\n",
       "mean         2.771283\n",
       "std          1.261983\n",
       "min          1.000000\n",
       "25%          2.510000\n",
       "50%          2.650000\n",
       "75%          2.800000\n",
       "max        100.000000\n",
       "Name: ceiling_height, dtype: float64"
      ]
     },
     "execution_count": 2408,
     "metadata": {},
     "output_type": "execute_result"
    }
   ],
   "source": [
    "data['ceiling_height'].describe()"
   ]
  },
  {
   "cell_type": "markdown",
   "metadata": {},
   "source": [
    "Минимальная высота потолков 1 метр, а максимальная - 100 метров. Это явно ошибка."
   ]
  },
  {
   "cell_type": "markdown",
   "metadata": {},
   "source": [
    "Отсортируем столбец 'ceiling_height' по убыванию."
   ]
  },
  {
   "cell_type": "code",
   "execution_count": 2409,
   "metadata": {},
   "outputs": [
    {
     "data": {
      "text/plain": [
       "22869    100.0\n",
       "3148      32.0\n",
       "22336     32.0\n",
       "21377     27.5\n",
       "20478     27.0\n",
       "22938     27.0\n",
       "21824     27.0\n",
       "4876      27.0\n",
       "10773     27.0\n",
       "17857     27.0\n",
       "5246      27.0\n",
       "5807      27.0\n",
       "5669      26.0\n",
       "11285     25.0\n",
       "9379      25.0\n",
       "4643      25.0\n",
       "14382     25.0\n",
       "18545     25.0\n",
       "6246      25.0\n",
       "355       25.0\n",
       "5076      24.0\n",
       "20507     22.6\n",
       "17496     20.0\n",
       "15061     14.0\n",
       "22309     10.3\n",
       "5863       8.3\n",
       "15743      8.0\n",
       "17442      8.0\n",
       "3474       8.0\n",
       "20264      6.0\n",
       "21227      5.8\n",
       "1388       5.6\n",
       "7578       5.5\n",
       "12628      5.3\n",
       "1026       5.3\n",
       "464        5.2\n",
       "1053       5.0\n",
       "21923      4.9\n",
       "2802       4.8\n",
       "19142      4.7\n",
       "Name: ceiling_height, dtype: float64"
      ]
     },
     "execution_count": 2409,
     "metadata": {},
     "output_type": "execute_result"
    }
   ],
   "source": [
    "data['ceiling_height'].sort_values(ascending=False).head(40)"
   ]
  },
  {
   "cell_type": "markdown",
   "metadata": {},
   "source": [
    "Видно много двухзначных значений. Значения от 20 до 32 это, вероятно, 2 - 3.2"
   ]
  },
  {
   "cell_type": "markdown",
   "metadata": {},
   "source": [
    "Посмотрим гистограмму"
   ]
  },
  {
   "cell_type": "code",
   "execution_count": 2410,
   "metadata": {
    "scrolled": true
   },
   "outputs": [
    {
     "data": {
      "text/plain": [
       "<AxesSubplot:>"
      ]
     },
     "execution_count": 2410,
     "metadata": {},
     "output_type": "execute_result"
    },
    {
     "data": {
      "image/png": "[encoded data removed]",
      "text/plain": [
       "<Figure size 432x288 with 1 Axes>"
      ]
     },
     "metadata": {
      "needs_background": "light"
     },
     "output_type": "display_data"
    }
   ],
   "source": [
    "data['ceiling_height'].hist(bins=10, range=(0, 10))"
   ]
  },
  {
   "cell_type": "markdown",
   "metadata": {},
   "source": [
    "Большинство значений в интервале от 2 до 4. Преобразуем значения от 20 до 32 и удалим все, что не входит в диапазон 2-4"
   ]
  },
  {
   "cell_type": "code",
   "execution_count": 2411,
   "metadata": {
    "scrolled": true
   },
   "outputs": [],
   "source": [
    "data = data[(data['ceiling_height'] >= 2) & (data['ceiling_height'] <= 32)]\n",
    "data.update(data[(data['ceiling_height'] >= 20) & (data['ceiling_height'] <= 32)]['ceiling_height'] / 10)\n",
    "data = data[(data['ceiling_height'] >= 2) & (data['ceiling_height'] <= 4)]\n",
    "    "
   ]
  },
  {
   "cell_type": "code",
   "execution_count": 2412,
   "metadata": {},
   "outputs": [
    {
     "data": {
      "text/plain": [
       "19098    2.0\n",
       "4212     2.0\n",
       "2572     2.0\n",
       "19329    2.0\n",
       "22960    2.0\n",
       "        ... \n",
       "17196    4.0\n",
       "7696     4.0\n",
       "3758     4.0\n",
       "22965    4.0\n",
       "21857    4.0\n",
       "Name: ceiling_height, Length: 14425, dtype: float64"
      ]
     },
     "execution_count": 2412,
     "metadata": {},
     "output_type": "execute_result"
    }
   ],
   "source": [
    "data['ceiling_height'].sort_values()"
   ]
  },
  {
   "cell_type": "markdown",
   "metadata": {},
   "source": [
    "Посмотрим цену"
   ]
  },
  {
   "cell_type": "code",
   "execution_count": 2413,
   "metadata": {},
   "outputs": [
    {
     "data": {
      "text/plain": [
       "count    1.442500e+04\n",
       "mean     6.753141e+06\n",
       "std      9.878697e+06\n",
       "min      1.219000e+04\n",
       "25%      3.550000e+06\n",
       "50%      4.850000e+06\n",
       "75%      7.000000e+06\n",
       "max      4.200000e+08\n",
       "Name: last_price, dtype: float64"
      ]
     },
     "execution_count": 2413,
     "metadata": {},
     "output_type": "execute_result"
    }
   ],
   "source": [
    "data['last_price'].describe()"
   ]
  },
  {
   "cell_type": "markdown",
   "metadata": {},
   "source": [
    "Минимальная цена выглядит неправдоподобно. Удалим эту строку."
   ]
  },
  {
   "cell_type": "code",
   "execution_count": 2414,
   "metadata": {},
   "outputs": [],
   "source": [
    "data.drop(index=[8793],axis =0, inplace =True)"
   ]
  },
  {
   "cell_type": "code",
   "execution_count": 2415,
   "metadata": {},
   "outputs": [
    {
     "data": {
      "text/plain": [
       "count    1.442400e+04\n",
       "mean     6.753608e+06\n",
       "std      9.878880e+06\n",
       "min      4.500000e+05\n",
       "25%      3.550000e+06\n",
       "50%      4.850000e+06\n",
       "75%      7.000000e+06\n",
       "max      4.200000e+08\n",
       "Name: last_price, dtype: float64"
      ]
     },
     "execution_count": 2415,
     "metadata": {},
     "output_type": "execute_result"
    }
   ],
   "source": [
    "data['last_price'].describe()"
   ]
  },
  {
   "cell_type": "markdown",
   "metadata": {},
   "source": [
    "Посмотрим общую площадь"
   ]
  },
  {
   "cell_type": "code",
   "execution_count": 2416,
   "metadata": {},
   "outputs": [
    {
     "data": {
      "text/plain": [
       "count    14424.000000\n",
       "mean        61.597450\n",
       "std         36.027707\n",
       "min         12.000000\n",
       "25%         41.000000\n",
       "50%         53.200000\n",
       "75%         71.000000\n",
       "max        900.000000\n",
       "Name: total_area, dtype: float64"
      ]
     },
     "execution_count": 2416,
     "metadata": {},
     "output_type": "execute_result"
    }
   ],
   "source": [
    "data['total_area'].describe()"
   ]
  },
  {
   "cell_type": "markdown",
   "metadata": {},
   "source": [
    "Минимальное и максимальное значения выглядят неправдоподобно"
   ]
  },
  {
   "cell_type": "markdown",
   "metadata": {},
   "source": [
    "Посмотрим гистограмму"
   ]
  },
  {
   "cell_type": "code",
   "execution_count": 2417,
   "metadata": {},
   "outputs": [
    {
     "data": {
      "text/plain": [
       "<AxesSubplot:>"
      ]
     },
     "execution_count": 2417,
     "metadata": {},
     "output_type": "execute_result"
    },
    {
     "data": {
      "image/png": "[encoded data removed]",
      "text/plain": [
       "<Figure size 432x288 with 1 Axes>"
      ]
     },
     "metadata": {
      "needs_background": "light"
     },
     "output_type": "display_data"
    }
   ],
   "source": [
    "data['total_area'].hist(bins=20, range=(0, 600))"
   ]
  },
  {
   "cell_type": "markdown",
   "metadata": {},
   "source": [
    "Значения больше 300 можно удалить"
   ]
  },
  {
   "cell_type": "markdown",
   "metadata": {},
   "source": [
    "Приблизим гистограмму к минимальным значениям"
   ]
  },
  {
   "cell_type": "code",
   "execution_count": 2418,
   "metadata": {},
   "outputs": [
    {
     "data": {
      "text/plain": [
       "<AxesSubplot:>"
      ]
     },
     "execution_count": 2418,
     "metadata": {},
     "output_type": "execute_result"
    },
    {
     "data": {
      "image/png": "[encoded data removed]",
      "text/plain": [
       "<Figure size 432x288 with 1 Axes>"
      ]
     },
     "metadata": {
      "needs_background": "light"
     },
     "output_type": "display_data"
    }
   ],
   "source": [
    "data['total_area'].hist(bins=10, range=(0, 30))"
   ]
  },
  {
   "cell_type": "markdown",
   "metadata": {},
   "source": [
    "Значения меньше 15 можно удалить"
   ]
  },
  {
   "cell_type": "markdown",
   "metadata": {},
   "source": [
    "Удаляем ненужные значения"
   ]
  },
  {
   "cell_type": "code",
   "execution_count": 2419,
   "metadata": {},
   "outputs": [],
   "source": [
    "data = data[(data['total_area'] >= 15) & (data['total_area'] < 300)]"
   ]
  },
  {
   "cell_type": "code",
   "execution_count": 2420,
   "metadata": {},
   "outputs": [
    {
     "data": {
      "text/plain": [
       "count    14385.000000\n",
       "mean        60.734669\n",
       "std         30.983102\n",
       "min         15.000000\n",
       "25%         41.000000\n",
       "50%         53.000000\n",
       "75%         71.000000\n",
       "max        297.500000\n",
       "Name: total_area, dtype: float64"
      ]
     },
     "execution_count": 2420,
     "metadata": {},
     "output_type": "execute_result"
    }
   ],
   "source": [
    "data['total_area'].describe()"
   ]
  },
  {
   "cell_type": "markdown",
   "metadata": {},
   "source": [
    "Посмотрим жилую площадь"
   ]
  },
  {
   "cell_type": "code",
   "execution_count": 2421,
   "metadata": {},
   "outputs": [
    {
     "data": {
      "text/plain": [
       "count    13607.000000\n",
       "mean        35.115654\n",
       "std         20.193782\n",
       "min          2.000000\n",
       "25%         19.100000\n",
       "50%         30.700000\n",
       "75%         43.100000\n",
       "max        225.900000\n",
       "Name: living_area, dtype: float64"
      ]
     },
     "execution_count": 2421,
     "metadata": {},
     "output_type": "execute_result"
    }
   ],
   "source": [
    "data['living_area'].describe()"
   ]
  },
  {
   "cell_type": "markdown",
   "metadata": {},
   "source": [
    "Минимальное и максимальное значения снова выглядят неправдоподобно."
   ]
  },
  {
   "cell_type": "markdown",
   "metadata": {},
   "source": [
    "Посмотрим гистограмму"
   ]
  },
  {
   "cell_type": "code",
   "execution_count": 2422,
   "metadata": {},
   "outputs": [
    {
     "data": {
      "text/plain": [
       "<AxesSubplot:>"
      ]
     },
     "execution_count": 2422,
     "metadata": {},
     "output_type": "execute_result"
    },
    {
     "data": {
      "image/png": "[encoded data removed]",
      "text/plain": [
       "<Figure size 432x288 with 1 Axes>"
      ]
     },
     "metadata": {
      "needs_background": "light"
     },
     "output_type": "display_data"
    }
   ],
   "source": [
    "data['living_area'].hist(bins=20, range=(0, 300))"
   ]
  },
  {
   "cell_type": "markdown",
   "metadata": {},
   "source": [
    "Значения больше 200 можно удалить"
   ]
  },
  {
   "cell_type": "markdown",
   "metadata": {},
   "source": [
    "Приблизим гистограмму к минимальным значениям"
   ]
  },
  {
   "cell_type": "code",
   "execution_count": 2423,
   "metadata": {},
   "outputs": [
    {
     "data": {
      "text/plain": [
       "<AxesSubplot:>"
      ]
     },
     "execution_count": 2423,
     "metadata": {},
     "output_type": "execute_result"
    },
    {
     "data": {
      "image/png": "[encoded data removed]",
      "text/plain": [
       "<Figure size 432x288 with 1 Axes>"
      ]
     },
     "metadata": {
      "needs_background": "light"
     },
     "output_type": "display_data"
    }
   ],
   "source": [
    "data['living_area'].hist(bins=20, range=(0, 20))"
   ]
  },
  {
   "cell_type": "markdown",
   "metadata": {},
   "source": [
    "Значения меньше 10 можно удалить"
   ]
  },
  {
   "cell_type": "markdown",
   "metadata": {},
   "source": [
    "Удаляем ненужные значения"
   ]
  },
  {
   "cell_type": "code",
   "execution_count": 2424,
   "metadata": {},
   "outputs": [],
   "source": [
    "data = data[(data['living_area'] >= 10) & (data['living_area'] < 200)]"
   ]
  },
  {
   "cell_type": "code",
   "execution_count": 2425,
   "metadata": {},
   "outputs": [
    {
     "data": {
      "text/plain": [
       "count    13588.000000\n",
       "mean        35.123123\n",
       "std         20.061115\n",
       "min         10.000000\n",
       "25%         19.200000\n",
       "50%         30.700000\n",
       "75%         43.100000\n",
       "max        193.500000\n",
       "Name: living_area, dtype: float64"
      ]
     },
     "execution_count": 2425,
     "metadata": {},
     "output_type": "execute_result"
    }
   ],
   "source": [
    "data['living_area'].describe()"
   ]
  },
  {
   "cell_type": "markdown",
   "metadata": {},
   "source": [
    "Посмотрим площадь кухни"
   ]
  },
  {
   "cell_type": "code",
   "execution_count": 2426,
   "metadata": {},
   "outputs": [
    {
     "data": {
      "text/plain": [
       "count    13226.000000\n",
       "mean        10.421861\n",
       "std          5.687096\n",
       "min          1.300000\n",
       "25%          7.000000\n",
       "50%          9.000000\n",
       "75%         11.900000\n",
       "max         93.200000\n",
       "Name: kitchen_area, dtype: float64"
      ]
     },
     "execution_count": 2426,
     "metadata": {},
     "output_type": "execute_result"
    }
   ],
   "source": [
    "data['kitchen_area'].describe()"
   ]
  },
  {
   "cell_type": "markdown",
   "metadata": {},
   "source": [
    "Минимальное и максимальное значения снова выглядят неправдоподобно."
   ]
  },
  {
   "cell_type": "markdown",
   "metadata": {},
   "source": [
    "Посмотрим гистограмму"
   ]
  },
  {
   "cell_type": "code",
   "execution_count": 2427,
   "metadata": {},
   "outputs": [
    {
     "data": {
      "text/plain": [
       "<AxesSubplot:>"
      ]
     },
     "execution_count": 2427,
     "metadata": {},
     "output_type": "execute_result"
    },
    {
     "data": {
      "image/png": "[encoded data removed]",
      "text/plain": [
       "<Figure size 432x288 with 1 Axes>"
      ]
     },
     "metadata": {
      "needs_background": "light"
     },
     "output_type": "display_data"
    }
   ],
   "source": [
    "data['kitchen_area'].hist(bins=20, range=(0, 115))"
   ]
  },
  {
   "cell_type": "markdown",
   "metadata": {},
   "source": [
    "Значения больше 60 можно удалить"
   ]
  },
  {
   "cell_type": "markdown",
   "metadata": {},
   "source": [
    "Приблизим гистограмму к минимальным значениям"
   ]
  },
  {
   "cell_type": "code",
   "execution_count": 2428,
   "metadata": {},
   "outputs": [
    {
     "data": {
      "text/plain": [
       "<AxesSubplot:>"
      ]
     },
     "execution_count": 2428,
     "metadata": {},
     "output_type": "execute_result"
    },
    {
     "data": {
      "image/png": "[encoded data removed]",
      "text/plain": [
       "<Figure size 432x288 with 1 Axes>"
      ]
     },
     "metadata": {
      "needs_background": "light"
     },
     "output_type": "display_data"
    }
   ],
   "source": [
    "data['kitchen_area'].hist(bins=20, range=(0, 20))"
   ]
  },
  {
   "cell_type": "markdown",
   "metadata": {},
   "source": [
    "Значения меньше 5 можно удалить"
   ]
  },
  {
   "cell_type": "code",
   "execution_count": 2429,
   "metadata": {},
   "outputs": [],
   "source": [
    "data = data[(data['kitchen_area'] >= 5) & (data['kitchen_area'] < 60)]"
   ]
  },
  {
   "cell_type": "code",
   "execution_count": 2430,
   "metadata": {},
   "outputs": [
    {
     "data": {
      "text/plain": [
       "count    13146.000000\n",
       "mean        10.391909\n",
       "std          5.353213\n",
       "min          5.000000\n",
       "25%          7.000000\n",
       "50%          9.000000\n",
       "75%         12.000000\n",
       "max         58.400000\n",
       "Name: kitchen_area, dtype: float64"
      ]
     },
     "execution_count": 2430,
     "metadata": {},
     "output_type": "execute_result"
    }
   ],
   "source": [
    "data['kitchen_area'].describe()"
   ]
  },
  {
   "cell_type": "code",
   "execution_count": 2431,
   "metadata": {},
   "outputs": [
    {
     "name": "stdout",
     "output_type": "stream",
     "text": [
      "<class 'pandas.core.frame.DataFrame'>\n",
      "Int64Index: 13146 entries, 0 to 23698\n",
      "Data columns (total 22 columns):\n",
      " #   Column                Non-Null Count  Dtype         \n",
      "---  ------                --------------  -----         \n",
      " 0   total_images          13146 non-null  int64         \n",
      " 1   last_price            13146 non-null  float64       \n",
      " 2   total_area            13146 non-null  float64       \n",
      " 3   first_day_exposition  13146 non-null  datetime64[ns]\n",
      " 4   rooms                 13146 non-null  int64         \n",
      " 5   ceiling_height        13146 non-null  float64       \n",
      " 6   floors_total          13146 non-null  float64       \n",
      " 7   living_area           13146 non-null  float64       \n",
      " 8   floor                 13146 non-null  int64         \n",
      " 9   is_apartment          13146 non-null  bool          \n",
      " 10  studio                13146 non-null  bool          \n",
      " 11  open_plan             13146 non-null  bool          \n",
      " 12  kitchen_area          13146 non-null  float64       \n",
      " 13  balcony               13146 non-null  float64       \n",
      " 14  locality_name         13146 non-null  object        \n",
      " 15  airports_nearest      10530 non-null  float64       \n",
      " 16  city_centers_nearest  10546 non-null  float64       \n",
      " 17  parks_around3000      13146 non-null  float64       \n",
      " 18  parks_nearest         4830 non-null   float64       \n",
      " 19  ponds_around3000      13146 non-null  float64       \n",
      " 20  ponds_nearest         5189 non-null   float64       \n",
      " 21  days_exposition       10889 non-null  float64       \n",
      "dtypes: bool(3), datetime64[ns](1), float64(14), int64(3), object(1)\n",
      "memory usage: 2.0+ MB\n"
     ]
    }
   ],
   "source": [
    "data.info()"
   ]
  },
  {
   "cell_type": "markdown",
   "metadata": {},
   "source": [
    "**Вывод:**\n",
    "- Все столбцы приведены к единому стилю\n",
    "- Заменены или удалены пропуски (где это возможно)\n",
    "- Устранены неявные дубликаты\n",
    "- Удалены редкие и выбивающиеся значения"
   ]
  },
  {
   "cell_type": "markdown",
   "metadata": {},
   "source": [
    "<hr>"
   ]
  },
  {
   "cell_type": "markdown",
   "metadata": {},
   "source": [
    "### Посчитайте и добавьте в таблицу новые столбцы"
   ]
  },
  {
   "cell_type": "markdown",
   "metadata": {},
   "source": [
    "#### Добавим в таблицу новые столбцы"
   ]
  },
  {
   "cell_type": "markdown",
   "metadata": {},
   "source": [
    "Добавим столбец 'цена одного квадратного метра'. Для этого разделим цену квартиры на ее площадь."
   ]
  },
  {
   "cell_type": "code",
   "execution_count": 2432,
   "metadata": {},
   "outputs": [],
   "source": [
    "data['prace_m2'] = data['last_price'] / data['total_area']"
   ]
  },
  {
   "cell_type": "markdown",
   "metadata": {},
   "source": [
    "Добавим столбец 'день недели публикации объявления'(0 — понедельник, 1 — вторник и так далее)"
   ]
  },
  {
   "cell_type": "code",
   "execution_count": 2433,
   "metadata": {
    "scrolled": true
   },
   "outputs": [
    {
     "data": {
      "text/plain": [
       "0        3\n",
       "4        1\n",
       "9        6\n",
       "10       3\n",
       "13       5\n",
       "        ..\n",
       "23689    2\n",
       "23691    3\n",
       "23693    4\n",
       "23694    1\n",
       "23698    4\n",
       "Name: day_of_week_exposition, Length: 13146, dtype: int64"
      ]
     },
     "execution_count": 2433,
     "metadata": {},
     "output_type": "execute_result"
    }
   ],
   "source": [
    "data['day_of_week_exposition'] = data['first_day_exposition'].dt.dayofweek\n",
    "data['day_of_week_exposition']"
   ]
  },
  {
   "cell_type": "markdown",
   "metadata": {},
   "source": [
    "Добавим столбец 'месяц публикации объявления'"
   ]
  },
  {
   "cell_type": "code",
   "execution_count": 2434,
   "metadata": {},
   "outputs": [
    {
     "data": {
      "text/plain": [
       "0         3\n",
       "4         6\n",
       "9         2\n",
       "10       11\n",
       "13        7\n",
       "         ..\n",
       "23689     2\n",
       "23691    10\n",
       "23693     8\n",
       "23694     3\n",
       "23698     7\n",
       "Name: month_exposition, Length: 13146, dtype: int64"
      ]
     },
     "execution_count": 2434,
     "metadata": {},
     "output_type": "execute_result"
    }
   ],
   "source": [
    "data['month_exposition'] = data['first_day_exposition'].dt.month\n",
    "data['month_exposition']"
   ]
  },
  {
   "cell_type": "markdown",
   "metadata": {},
   "source": [
    "Добавим столбец 'год публикации объявления'"
   ]
  },
  {
   "cell_type": "code",
   "execution_count": 2435,
   "metadata": {},
   "outputs": [
    {
     "data": {
      "text/plain": [
       "0        2019\n",
       "4        2018\n",
       "9        2017\n",
       "10       2017\n",
       "13       2017\n",
       "         ... \n",
       "23689    2018\n",
       "23691    2016\n",
       "23693    2016\n",
       "23694    2017\n",
       "23698    2017\n",
       "Name: year_exposition, Length: 13146, dtype: int64"
      ]
     },
     "execution_count": 2435,
     "metadata": {},
     "output_type": "execute_result"
    }
   ],
   "source": [
    "data['year_exposition'] = data['first_day_exposition'].dt.year\n",
    "data['year_exposition']"
   ]
  },
  {
   "cell_type": "markdown",
   "metadata": {},
   "source": [
    "Добавим столбец тип этажа квартиры (значения — «первый», «последний», «другой»). Для этого создадим функцию."
   ]
  },
  {
   "cell_type": "code",
   "execution_count": 2436,
   "metadata": {},
   "outputs": [
    {
     "data": {
      "text/plain": [
       "0           другой\n",
       "4           другой\n",
       "9           другой\n",
       "10          другой\n",
       "13       последний\n",
       "           ...    \n",
       "23689       другой\n",
       "23691       другой\n",
       "23693       другой\n",
       "23694       другой\n",
       "23698       первый\n",
       "Name: type_floor, Length: 13146, dtype: object"
      ]
     },
     "execution_count": 2436,
     "metadata": {},
     "output_type": "execute_result"
    }
   ],
   "source": [
    "def type_floor(floor):\n",
    "\n",
    "    if floor['floor'] == 1:\n",
    "        return 'первый'\n",
    "    elif floor['floor'] == floor['floors_total']:\n",
    "        return 'последний'\n",
    "    else:\n",
    "        return 'другой'\n",
    "data['type_floor'] = data.apply(type_floor, axis=1)\n",
    "data['type_floor']"
   ]
  },
  {
   "cell_type": "markdown",
   "metadata": {},
   "source": [
    "Столбец 'city_centers_nearest' переведем из м в км и округлим до целых значений."
   ]
  },
  {
   "cell_type": "code",
   "execution_count": 2437,
   "metadata": {
    "scrolled": true
   },
   "outputs": [
    {
     "data": {
      "text/plain": [
       "0        16.0\n",
       "4         8.0\n",
       "9        15.0\n",
       "10       14.0\n",
       "13       33.0\n",
       "         ... \n",
       "23689    16.0\n",
       "23691     4.0\n",
       "23693    34.0\n",
       "23694     4.0\n",
       "23698     NaN\n",
       "Name: city_centers_nearest, Length: 13146, dtype: float64"
      ]
     },
     "execution_count": 2437,
     "metadata": {},
     "output_type": "execute_result"
    }
   ],
   "source": [
    "data['city_centers_nearest'] = round(data['city_centers_nearest'] / 1000)\n",
    "data['city_centers_nearest']"
   ]
  },
  {
   "cell_type": "markdown",
   "metadata": {},
   "source": [
    "**Вывод:**\n",
    " Добавлены дополнительные столбцы для дальнейшего анализа\n"
   ]
  },
  {
   "cell_type": "markdown",
   "metadata": {},
   "source": [
    "<hr>"
   ]
  },
  {
   "cell_type": "markdown",
   "metadata": {},
   "source": [
    "### Проведите исследовательский анализ данных"
   ]
  },
  {
   "cell_type": "markdown",
   "metadata": {},
   "source": [
    "#### Изучим параметры объектов"
   ]
  },
  {
   "cell_type": "markdown",
   "metadata": {},
   "source": [
    "Изучим общую площадь. Для большей точности будем рассматривать среднее значение - как медианное."
   ]
  },
  {
   "cell_type": "code",
   "execution_count": 2438,
   "metadata": {},
   "outputs": [
    {
     "data": {
      "text/plain": [
       "count    13146.000000\n",
       "mean        60.916287\n",
       "std         30.380775\n",
       "min         20.670000\n",
       "25%         41.400000\n",
       "50%         53.700000\n",
       "75%         71.000000\n",
       "max        297.500000\n",
       "Name: total_area, dtype: float64"
      ]
     },
     "execution_count": 2438,
     "metadata": {},
     "output_type": "execute_result"
    }
   ],
   "source": [
    "data['total_area'].describe()"
   ]
  },
  {
   "cell_type": "code",
   "execution_count": 2439,
   "metadata": {},
   "outputs": [
    {
     "data": {
      "text/plain": [
       "<AxesSubplot:>"
      ]
     },
     "execution_count": 2439,
     "metadata": {},
     "output_type": "execute_result"
    },
    {
     "data": {
      "image/png": "[encoded data removed]",
      "text/plain": [
       "<Figure size 432x288 with 1 Axes>"
      ]
     },
     "metadata": {
      "needs_background": "light"
     },
     "output_type": "display_data"
    }
   ],
   "source": [
    "data['total_area'].hist(bins=100, range=(0, 400))"
   ]
  },
  {
   "cell_type": "markdown",
   "metadata": {},
   "source": [
    "В среднем общая площадь - 53 квадратных метра. "
   ]
  },
  {
   "cell_type": "markdown",
   "metadata": {},
   "source": [
    "Изучим жилую площадь"
   ]
  },
  {
   "cell_type": "code",
   "execution_count": 2440,
   "metadata": {},
   "outputs": [
    {
     "data": {
      "text/plain": [
       "count    13146.000000\n",
       "mean        35.243648\n",
       "std         20.022636\n",
       "min         10.000000\n",
       "25%         19.400000\n",
       "50%         31.000000\n",
       "75%         43.200000\n",
       "max        193.500000\n",
       "Name: living_area, dtype: float64"
      ]
     },
     "execution_count": 2440,
     "metadata": {},
     "output_type": "execute_result"
    }
   ],
   "source": [
    "data['living_area'].describe()"
   ]
  },
  {
   "cell_type": "code",
   "execution_count": 2441,
   "metadata": {},
   "outputs": [
    {
     "data": {
      "text/plain": [
       "<AxesSubplot:>"
      ]
     },
     "execution_count": 2441,
     "metadata": {},
     "output_type": "execute_result"
    },
    {
     "data": {
      "image/png": "[encoded data removed]",
      "text/plain": [
       "<Figure size 432x288 with 1 Axes>"
      ]
     },
     "metadata": {
      "needs_background": "light"
     },
     "output_type": "display_data"
    }
   ],
   "source": [
    "data['living_area'].hist(bins=100, range=(0, 100))"
   ]
  },
  {
   "cell_type": "markdown",
   "metadata": {},
   "source": [
    "Гистограмма имеет три пика. Похоже, что это связано с количеством комнат."
   ]
  },
  {
   "cell_type": "markdown",
   "metadata": {},
   "source": [
    "В среднем жилая площадь - 31 квадратных метров."
   ]
  },
  {
   "cell_type": "markdown",
   "metadata": {},
   "source": [
    "Изучим площадь кухни"
   ]
  },
  {
   "cell_type": "code",
   "execution_count": 2442,
   "metadata": {},
   "outputs": [
    {
     "data": {
      "text/plain": [
       "count    13146.000000\n",
       "mean        10.391909\n",
       "std          5.353213\n",
       "min          5.000000\n",
       "25%          7.000000\n",
       "50%          9.000000\n",
       "75%         12.000000\n",
       "max         58.400000\n",
       "Name: kitchen_area, dtype: float64"
      ]
     },
     "execution_count": 2442,
     "metadata": {},
     "output_type": "execute_result"
    }
   ],
   "source": [
    "data['kitchen_area'].describe()"
   ]
  },
  {
   "cell_type": "code",
   "execution_count": 2443,
   "metadata": {},
   "outputs": [
    {
     "data": {
      "text/plain": [
       "<AxesSubplot:>"
      ]
     },
     "execution_count": 2443,
     "metadata": {},
     "output_type": "execute_result"
    },
    {
     "data": {
      "image/png": "[encoded data removed]",
      "text/plain": [
       "<Figure size 432x288 with 1 Axes>"
      ]
     },
     "metadata": {
      "needs_background": "light"
     },
     "output_type": "display_data"
    }
   ],
   "source": [
    "data['kitchen_area'].hist(bins=100, range=(0, 60))"
   ]
  },
  {
   "cell_type": "markdown",
   "metadata": {},
   "source": [
    "В среднем площадь кухни - 9 квадратных метров"
   ]
  },
  {
   "cell_type": "markdown",
   "metadata": {},
   "source": [
    "Изучим цену объекта"
   ]
  },
  {
   "cell_type": "code",
   "execution_count": 2444,
   "metadata": {},
   "outputs": [
    {
     "data": {
      "text/plain": [
       "0        13000000.0\n",
       "4        10000000.0\n",
       "9         5400000.0\n",
       "10        5050000.0\n",
       "13        3550000.0\n",
       "            ...    \n",
       "23689     3550000.0\n",
       "23691     9470000.0\n",
       "23693     4600000.0\n",
       "23694     9700000.0\n",
       "23698     1350000.0\n",
       "Name: last_price, Length: 13146, dtype: float64"
      ]
     },
     "execution_count": 2444,
     "metadata": {},
     "output_type": "execute_result"
    }
   ],
   "source": [
    "data['last_price']"
   ]
  },
  {
   "cell_type": "code",
   "execution_count": 2445,
   "metadata": {},
   "outputs": [
    {
     "data": {
      "text/plain": [
       "count    1.314600e+04\n",
       "mean     6.514457e+06\n",
       "std      7.707570e+06\n",
       "min      4.900000e+05\n",
       "25%      3.600000e+06\n",
       "50%      4.900000e+06\n",
       "75%      7.000000e+06\n",
       "max      3.300000e+08\n",
       "Name: last_price, dtype: float64"
      ]
     },
     "execution_count": 2445,
     "metadata": {},
     "output_type": "execute_result"
    }
   ],
   "source": [
    "data['last_price'].describe()"
   ]
  },
  {
   "cell_type": "code",
   "execution_count": 2446,
   "metadata": {},
   "outputs": [
    {
     "data": {
      "text/plain": [
       "<AxesSubplot:>"
      ]
     },
     "execution_count": 2446,
     "metadata": {},
     "output_type": "execute_result"
    },
    {
     "data": {
      "image/png": "[encoded data removed]",
      "text/plain": [
       "<Figure size 432x288 with 1 Axes>"
      ]
     },
     "metadata": {
      "needs_background": "light"
     },
     "output_type": "display_data"
    }
   ],
   "source": [
    "data['last_price'].hist(bins=100, range=(0, 40000000))"
   ]
  },
  {
   "cell_type": "markdown",
   "metadata": {},
   "source": [
    "Средняя цена - 4.9 млн рублей."
   ]
  },
  {
   "cell_type": "markdown",
   "metadata": {},
   "source": [
    "Изучим количество комнат"
   ]
  },
  {
   "cell_type": "code",
   "execution_count": 2447,
   "metadata": {},
   "outputs": [
    {
     "data": {
      "text/plain": [
       "count    13146.000000\n",
       "mean         2.138597\n",
       "std          1.051922\n",
       "min          1.000000\n",
       "25%          1.000000\n",
       "50%          2.000000\n",
       "75%          3.000000\n",
       "max         16.000000\n",
       "Name: rooms, dtype: float64"
      ]
     },
     "execution_count": 2447,
     "metadata": {},
     "output_type": "execute_result"
    }
   ],
   "source": [
    "data['rooms'].describe()"
   ]
  },
  {
   "cell_type": "code",
   "execution_count": 2448,
   "metadata": {},
   "outputs": [
    {
     "data": {
      "text/plain": [
       "<AxesSubplot:>"
      ]
     },
     "execution_count": 2448,
     "metadata": {},
     "output_type": "execute_result"
    },
    {
     "data": {
      "image/png": "[encoded data removed]",
      "text/plain": [
       "<Figure size 432x288 with 1 Axes>"
      ]
     },
     "metadata": {
      "needs_background": "light"
     },
     "output_type": "display_data"
    }
   ],
   "source": [
    "data['rooms'].hist(bins=10, range=(1, 10))"
   ]
  },
  {
   "cell_type": "code",
   "execution_count": 2449,
   "metadata": {},
   "outputs": [
    {
     "data": {
      "text/plain": [
       "2     4452\n",
       "1     4182\n",
       "3     3487\n",
       "4      736\n",
       "5      187\n",
       "6       60\n",
       "7       30\n",
       "8        4\n",
       "10       3\n",
       "9        2\n",
       "11       2\n",
       "16       1\n",
       "Name: rooms, dtype: int64"
      ]
     },
     "execution_count": 2449,
     "metadata": {},
     "output_type": "execute_result"
    }
   ],
   "source": [
    "data['rooms'].value_counts()"
   ]
  },
  {
   "cell_type": "markdown",
   "metadata": {},
   "source": [
    "Большинство квартир имеют 1,2 или 3 комнаты."
   ]
  },
  {
   "cell_type": "markdown",
   "metadata": {},
   "source": [
    "Изучим высоту потолков"
   ]
  },
  {
   "cell_type": "code",
   "execution_count": 2450,
   "metadata": {},
   "outputs": [
    {
     "data": {
      "text/plain": [
       "count    13146.000000\n",
       "mean         2.717497\n",
       "std          0.255438\n",
       "min          2.000000\n",
       "25%          2.500000\n",
       "50%          2.650000\n",
       "75%          2.800000\n",
       "max          4.000000\n",
       "Name: ceiling_height, dtype: float64"
      ]
     },
     "execution_count": 2450,
     "metadata": {},
     "output_type": "execute_result"
    }
   ],
   "source": [
    "data['ceiling_height'].describe()"
   ]
  },
  {
   "cell_type": "code",
   "execution_count": 2451,
   "metadata": {},
   "outputs": [
    {
     "data": {
      "text/plain": [
       "<AxesSubplot:>"
      ]
     },
     "execution_count": 2451,
     "metadata": {},
     "output_type": "execute_result"
    },
    {
     "data": {
      "image/png": "[encoded data removed]",
      "text/plain": [
       "<Figure size 432x288 with 1 Axes>"
      ]
     },
     "metadata": {
      "needs_background": "light"
     },
     "output_type": "display_data"
    }
   ],
   "source": [
    "data['ceiling_height'].hist(bins=10,)"
   ]
  },
  {
   "cell_type": "markdown",
   "metadata": {},
   "source": [
    "В среднем высота потолков 2.7 метра. Медианное значение - 2.65 метра"
   ]
  },
  {
   "cell_type": "markdown",
   "metadata": {},
   "source": [
    "Изучим этаж квартир"
   ]
  },
  {
   "cell_type": "code",
   "execution_count": 2452,
   "metadata": {},
   "outputs": [
    {
     "data": {
      "text/plain": [
       "count    13146.000000\n",
       "mean         5.621862\n",
       "std          4.592097\n",
       "min          1.000000\n",
       "25%          2.000000\n",
       "50%          4.000000\n",
       "75%          7.000000\n",
       "max         30.000000\n",
       "Name: floor, dtype: float64"
      ]
     },
     "execution_count": 2452,
     "metadata": {},
     "output_type": "execute_result"
    }
   ],
   "source": [
    "data['floor'].describe()"
   ]
  },
  {
   "cell_type": "code",
   "execution_count": 2453,
   "metadata": {},
   "outputs": [
    {
     "data": {
      "text/plain": [
       "<AxesSubplot:>"
      ]
     },
     "execution_count": 2453,
     "metadata": {},
     "output_type": "execute_result"
    },
    {
     "data": {
      "image/png": "[encoded data removed]",
      "text/plain": [
       "<Figure size 432x288 with 1 Axes>"
      ]
     },
     "metadata": {
      "needs_background": "light"
     },
     "output_type": "display_data"
    }
   ],
   "source": [
    "data['floor'].hist(bins=100,range=(0, 35))"
   ]
  },
  {
   "cell_type": "markdown",
   "metadata": {},
   "source": [
    "Чаще всего квартиры распологаются на 1-5 этажах."
   ]
  },
  {
   "cell_type": "markdown",
   "metadata": {},
   "source": [
    "Изучим тип этажа квартиры"
   ]
  },
  {
   "cell_type": "code",
   "execution_count": 2454,
   "metadata": {},
   "outputs": [
    {
     "data": {
      "text/plain": [
       "<AxesSubplot:>"
      ]
     },
     "execution_count": 2454,
     "metadata": {},
     "output_type": "execute_result"
    },
    {
     "data": {
      "image/png": "[encoded data removed]",
      "text/plain": [
       "<Figure size 432x288 with 1 Axes>"
      ]
     },
     "metadata": {
      "needs_background": "light"
     },
     "output_type": "display_data"
    }
   ],
   "source": [
    "data['type_floor'].hist(bins=5)"
   ]
  },
  {
   "cell_type": "markdown",
   "metadata": {},
   "source": [
    "Большинство квартир находятся не на первом и не на последнем этаже. "
   ]
  },
  {
   "cell_type": "markdown",
   "metadata": {},
   "source": [
    "Изучим общее количество этажей в доме"
   ]
  },
  {
   "cell_type": "code",
   "execution_count": 2455,
   "metadata": {},
   "outputs": [
    {
     "data": {
      "text/plain": [
       "count    13146.000000\n",
       "mean        10.172372\n",
       "std          6.156544\n",
       "min          1.000000\n",
       "25%          5.000000\n",
       "50%          9.000000\n",
       "75%         14.000000\n",
       "max         60.000000\n",
       "Name: floors_total, dtype: float64"
      ]
     },
     "execution_count": 2455,
     "metadata": {},
     "output_type": "execute_result"
    }
   ],
   "source": [
    "data['floors_total'].describe()"
   ]
  },
  {
   "cell_type": "code",
   "execution_count": 2456,
   "metadata": {},
   "outputs": [
    {
     "data": {
      "text/plain": [
       "<AxesSubplot:>"
      ]
     },
     "execution_count": 2456,
     "metadata": {},
     "output_type": "execute_result"
    },
    {
     "data": {
      "image/png": "[encoded data removed]",
      "text/plain": [
       "<Figure size 432x288 with 1 Axes>"
      ]
     },
     "metadata": {
      "needs_background": "light"
     },
     "output_type": "display_data"
    }
   ],
   "source": [
    "data['floors_total'].hist(bins=60, range=(0, 30))"
   ]
  },
  {
   "cell_type": "code",
   "execution_count": 2457,
   "metadata": {},
   "outputs": [
    {
     "data": {
      "text/plain": [
       "<AxesSubplot:>"
      ]
     },
     "execution_count": 2457,
     "metadata": {},
     "output_type": "execute_result"
    },
    {
     "data": {
      "image/png": "[encoded data removed]",
      "text/plain": [
       "<Figure size 432x288 with 1 Axes>"
      ]
     },
     "metadata": {
      "needs_background": "light"
     },
     "output_type": "display_data"
    }
   ],
   "source": [
    "data['floors_total'].hist(bins=10, range=(0, 10))"
   ]
  },
  {
   "cell_type": "markdown",
   "metadata": {},
   "source": [
    "Больше всего пятиэтажных и девятиэтажных домов."
   ]
  },
  {
   "cell_type": "markdown",
   "metadata": {},
   "source": [
    "Изучим расстояние до центра города"
   ]
  },
  {
   "cell_type": "code",
   "execution_count": 2458,
   "metadata": {},
   "outputs": [
    {
     "data": {
      "text/plain": [
       "count    10546.000000\n",
       "mean        14.154656\n",
       "std          8.758034\n",
       "min          0.000000\n",
       "25%          9.000000\n",
       "50%         13.000000\n",
       "75%         16.000000\n",
       "max         66.000000\n",
       "Name: city_centers_nearest, dtype: float64"
      ]
     },
     "execution_count": 2458,
     "metadata": {},
     "output_type": "execute_result"
    }
   ],
   "source": [
    "data['city_centers_nearest'].describe()"
   ]
  },
  {
   "cell_type": "code",
   "execution_count": 2459,
   "metadata": {},
   "outputs": [
    {
     "data": {
      "text/plain": [
       "<AxesSubplot:>"
      ]
     },
     "execution_count": 2459,
     "metadata": {},
     "output_type": "execute_result"
    },
    {
     "data": {
      "image/png": "[encoded data removed]",
      "text/plain": [
       "<Figure size 432x288 with 1 Axes>"
      ]
     },
     "metadata": {
      "needs_background": "light"
     },
     "output_type": "display_data"
    }
   ],
   "source": [
    "data['city_centers_nearest'].hist(bins=60)"
   ]
  },
  {
   "cell_type": "markdown",
   "metadata": {},
   "source": [
    "В среднем расстояние до центра города составляет 13 км. Есть квартиры в центре. Самая удаленная от центра квартира  - в 66 км"
   ]
  },
  {
   "cell_type": "markdown",
   "metadata": {},
   "source": [
    "Рассмотрим расстояние до ближайшего аэропорта"
   ]
  },
  {
   "cell_type": "code",
   "execution_count": 2460,
   "metadata": {},
   "outputs": [
    {
     "data": {
      "text/plain": [
       "count    10530.000000\n",
       "mean     28871.515100\n",
       "std      12675.626285\n",
       "min          0.000000\n",
       "25%      18490.500000\n",
       "50%      26791.000000\n",
       "75%      37099.000000\n",
       "max      84869.000000\n",
       "Name: airports_nearest, dtype: float64"
      ]
     },
     "execution_count": 2460,
     "metadata": {},
     "output_type": "execute_result"
    }
   ],
   "source": [
    "data['airports_nearest'].describe()"
   ]
  },
  {
   "cell_type": "code",
   "execution_count": 2461,
   "metadata": {},
   "outputs": [
    {
     "data": {
      "text/plain": [
       "<AxesSubplot:>"
      ]
     },
     "execution_count": 2461,
     "metadata": {},
     "output_type": "execute_result"
    },
    {
     "data": {
      "image/png": "[encoded data removed]",
      "text/plain": [
       "<Figure size 432x288 with 1 Axes>"
      ]
     },
     "metadata": {
      "needs_background": "light"
     },
     "output_type": "display_data"
    }
   ],
   "source": [
    "data['airports_nearest'].hist(bins=100)"
   ]
  },
  {
   "cell_type": "markdown",
   "metadata": {},
   "source": [
    "В среднем расстояние до аэропорта составляет 26 км. Есть квартиры у аэропорта. Самая удаленная от аэропорта  - в 84 км"
   ]
  },
  {
   "cell_type": "markdown",
   "metadata": {},
   "source": [
    "Рассмотрим расстояние до ближайшего парка"
   ]
  },
  {
   "cell_type": "code",
   "execution_count": 2462,
   "metadata": {},
   "outputs": [
    {
     "data": {
      "text/plain": [
       "count    4830.000000\n",
       "mean      476.017184\n",
       "std       317.671889\n",
       "min         3.000000\n",
       "25%       286.000000\n",
       "50%       448.000000\n",
       "75%       602.000000\n",
       "max      3190.000000\n",
       "Name: parks_nearest, dtype: float64"
      ]
     },
     "execution_count": 2462,
     "metadata": {},
     "output_type": "execute_result"
    }
   ],
   "source": [
    "data['parks_nearest'].describe()"
   ]
  },
  {
   "cell_type": "code",
   "execution_count": 2463,
   "metadata": {},
   "outputs": [
    {
     "data": {
      "text/plain": [
       "<AxesSubplot:>"
      ]
     },
     "execution_count": 2463,
     "metadata": {},
     "output_type": "execute_result"
    },
    {
     "data": {
      "image/png": "[encoded data removed]",
      "text/plain": [
       "<Figure size 432x288 with 1 Axes>"
      ]
     },
     "metadata": {
      "needs_background": "light"
     },
     "output_type": "display_data"
    }
   ],
   "source": [
    "data['parks_nearest'].hist(bins=60)"
   ]
  },
  {
   "cell_type": "markdown",
   "metadata": {},
   "source": [
    "В среднем расстояние до ближайшего парка составляет около 500 м. Минимальное расстояние - 3м, максимальное - 3км."
   ]
  },
  {
   "cell_type": "markdown",
   "metadata": {},
   "source": [
    "Рассмотрим день публикации объявления"
   ]
  },
  {
   "cell_type": "code",
   "execution_count": 2464,
   "metadata": {},
   "outputs": [
    {
     "data": {
      "text/plain": [
       "<AxesSubplot:>"
      ]
     },
     "execution_count": 2464,
     "metadata": {},
     "output_type": "execute_result"
    },
    {
     "data": {
      "image/png": "[encoded data removed]",
      "text/plain": [
       "<Figure size 432x288 with 1 Axes>"
      ]
     },
     "metadata": {
      "needs_background": "light"
     },
     "output_type": "display_data"
    }
   ],
   "source": [
    "data['day_of_week_exposition'].hist(bins=7, range=(0, 7))"
   ]
  },
  {
   "cell_type": "markdown",
   "metadata": {},
   "source": [
    "Большинство объявлений публикуется в будние дни."
   ]
  },
  {
   "cell_type": "markdown",
   "metadata": {},
   "source": [
    "Рассмотрим месяц публикации объявления"
   ]
  },
  {
   "cell_type": "code",
   "execution_count": 2465,
   "metadata": {},
   "outputs": [
    {
     "data": {
      "text/plain": [
       "<AxesSubplot:>"
      ]
     },
     "execution_count": 2465,
     "metadata": {},
     "output_type": "execute_result"
    },
    {
     "data": {
      "image/png": "[encoded data removed]",
      "text/plain": [
       "<Figure size 432x288 with 1 Axes>"
      ]
     },
     "metadata": {
      "needs_background": "light"
     },
     "output_type": "display_data"
    }
   ],
   "source": [
    "data['month_exposition'].hist(bins=12)"
   ]
  },
  {
   "cell_type": "code",
   "execution_count": 2466,
   "metadata": {},
   "outputs": [
    {
     "data": {
      "text/plain": [
       "3     1562\n",
       "2     1522\n",
       "4     1355\n",
       "11    1317\n",
       "10    1237\n",
       "9     1121\n",
       "8      989\n",
       "7      940\n",
       "12     826\n",
       "6      825\n",
       "1      807\n",
       "5      645\n",
       "Name: month_exposition, dtype: int64"
      ]
     },
     "execution_count": 2466,
     "metadata": {},
     "output_type": "execute_result"
    }
   ],
   "source": [
    "data['month_exposition'].value_counts().sort_values(ascending=False)"
   ]
  },
  {
   "cell_type": "markdown",
   "metadata": {},
   "source": [
    "Чаще всего объявления размещаются с февраля по апрель. Дальше спад, и к концу осени снова рост объявлений. "
   ]
  },
  {
   "cell_type": "markdown",
   "metadata": {},
   "source": [
    "#### Изучим как быстро продавались квартиры"
   ]
  },
  {
   "cell_type": "code",
   "execution_count": 2467,
   "metadata": {},
   "outputs": [
    {
     "data": {
      "text/plain": [
       "count    10889.000000\n",
       "mean       192.016990\n",
       "std        228.515789\n",
       "min          1.000000\n",
       "25%         45.000000\n",
       "50%        107.000000\n",
       "75%        250.000000\n",
       "max       1580.000000\n",
       "Name: days_exposition, dtype: float64"
      ]
     },
     "execution_count": 2467,
     "metadata": {},
     "output_type": "execute_result"
    }
   ],
   "source": [
    "data['days_exposition'].describe()"
   ]
  },
  {
   "cell_type": "code",
   "execution_count": 2468,
   "metadata": {},
   "outputs": [
    {
     "data": {
      "text/plain": [
       "<AxesSubplot:>"
      ]
     },
     "execution_count": 2468,
     "metadata": {},
     "output_type": "execute_result"
    },
    {
     "data": {
      "image/png": "[encoded data removed]",
      "text/plain": [
       "<Figure size 432x288 with 1 Axes>"
      ]
     },
     "metadata": {
      "needs_background": "light"
     },
     "output_type": "display_data"
    }
   ],
   "source": [
    "data['days_exposition'].hist(bins=100, range=(0, 1000))"
   ]
  },
  {
   "cell_type": "markdown",
   "metadata": {},
   "source": [
    "В среднем квартиры продавались за 189 дней. Медианное значение 103 дня. Быстрыми можно считать продажи до 45 дней, долгими - больше 250 дней."
   ]
  },
  {
   "cell_type": "markdown",
   "metadata": {},
   "source": [
    "#### Изучим какие факторы больше всего влияют на общую (полную) стоимость"
   ]
  },
  {
   "cell_type": "markdown",
   "metadata": {},
   "source": [
    "Рассмотрим зависит ли цена от общей площади"
   ]
  },
  {
   "cell_type": "code",
   "execution_count": 2469,
   "metadata": {},
   "outputs": [
    {
     "data": {
      "text/plain": [
       "0.6555639118053315"
      ]
     },
     "execution_count": 2469,
     "metadata": {},
     "output_type": "execute_result"
    }
   ],
   "source": [
    "data['last_price'].corr(data['total_area'])\n"
   ]
  },
  {
   "cell_type": "code",
   "execution_count": 2470,
   "metadata": {},
   "outputs": [
    {
     "data": {
      "text/plain": [
       "<AxesSubplot:xlabel='total_area', ylabel='last_price'>"
      ]
     },
     "execution_count": 2470,
     "metadata": {},
     "output_type": "execute_result"
    },
    {
     "data": {
      "image/png": "[encoded data removed]",
      "text/plain": [
       "<Figure size 432x288 with 1 Axes>"
      ]
     },
     "metadata": {
      "needs_background": "light"
     },
     "output_type": "display_data"
    }
   ],
   "source": [
    "data.plot(x='total_area', y='last_price', kind='scatter', grid=True, alpha=0.3)"
   ]
  },
  {
   "cell_type": "markdown",
   "metadata": {},
   "source": [
    "Зависимость есть"
   ]
  },
  {
   "cell_type": "markdown",
   "metadata": {},
   "source": [
    "Рассмотрим зависит ли цена от жилой площади"
   ]
  },
  {
   "cell_type": "code",
   "execution_count": 2471,
   "metadata": {},
   "outputs": [
    {
     "data": {
      "text/plain": [
       "0.5710109382071856"
      ]
     },
     "execution_count": 2471,
     "metadata": {},
     "output_type": "execute_result"
    }
   ],
   "source": [
    "data['last_price'].corr(data['living_area'])"
   ]
  },
  {
   "cell_type": "code",
   "execution_count": 2472,
   "metadata": {},
   "outputs": [
    {
     "data": {
      "text/plain": [
       "<AxesSubplot:xlabel='living_area', ylabel='last_price'>"
      ]
     },
     "execution_count": 2472,
     "metadata": {},
     "output_type": "execute_result"
    },
    {
     "data": {
      "image/png": "[encoded data removed]",
      "text/plain": [
       "<Figure size 432x288 with 1 Axes>"
      ]
     },
     "metadata": {
      "needs_background": "light"
     },
     "output_type": "display_data"
    }
   ],
   "source": [
    "data.plot(x='living_area', y='last_price', kind='scatter', grid=True, alpha=0.3)"
   ]
  },
  {
   "cell_type": "markdown",
   "metadata": {},
   "source": [
    "Зависимость есть, но она ниже, чем от общей площади."
   ]
  },
  {
   "cell_type": "markdown",
   "metadata": {},
   "source": [
    "Рассмотрим зависит ли цена от площади кухни"
   ]
  },
  {
   "cell_type": "code",
   "execution_count": 2473,
   "metadata": {},
   "outputs": [
    {
     "data": {
      "text/plain": [
       "0.4801328429279195"
      ]
     },
     "execution_count": 2473,
     "metadata": {},
     "output_type": "execute_result"
    }
   ],
   "source": [
    "data['last_price'].corr(data['kitchen_area'])"
   ]
  },
  {
   "cell_type": "code",
   "execution_count": 2474,
   "metadata": {},
   "outputs": [
    {
     "data": {
      "text/plain": [
       "<AxesSubplot:xlabel='kitchen_area', ylabel='last_price'>"
      ]
     },
     "execution_count": 2474,
     "metadata": {},
     "output_type": "execute_result"
    },
    {
     "data": {
      "image/png": "[encoded data removed]",
      "text/plain": [
       "<Figure size 432x288 with 1 Axes>"
      ]
     },
     "metadata": {
      "needs_background": "light"
     },
     "output_type": "display_data"
    }
   ],
   "source": [
    "data.plot(x='kitchen_area', y='last_price', kind='scatter', grid=True, alpha=0.3)"
   ]
  },
  {
   "cell_type": "markdown",
   "metadata": {},
   "source": [
    "Зависимость еще ниже"
   ]
  },
  {
   "cell_type": "markdown",
   "metadata": {},
   "source": [
    "Рассотрим зависит ли цена от количества комнат"
   ]
  },
  {
   "cell_type": "code",
   "execution_count": 2475,
   "metadata": {},
   "outputs": [
    {
     "data": {
      "text/plain": [
       "<AxesSubplot:xlabel='rooms'>"
      ]
     },
     "execution_count": 2475,
     "metadata": {},
     "output_type": "execute_result"
    },
    {
     "data": {
      "image/png": "[encoded data removed]",
      "text/plain": [
       "<Figure size 432x288 with 1 Axes>"
      ]
     },
     "metadata": {
      "needs_background": "light"
     },
     "output_type": "display_data"
    }
   ],
   "source": [
    "data.pivot_table(index='rooms',values='last_price').plot(y='last_price', kind='bar')"
   ]
  },
  {
   "cell_type": "markdown",
   "metadata": {},
   "source": [
    "Двузначное значение комнат выглядит неправдоподобно. Посмотрим сколько их."
   ]
  },
  {
   "cell_type": "code",
   "execution_count": 2476,
   "metadata": {},
   "outputs": [
    {
     "data": {
      "text/plain": [
       "2     4452\n",
       "1     4182\n",
       "3     3487\n",
       "4      736\n",
       "5      187\n",
       "6       60\n",
       "7       30\n",
       "8        4\n",
       "10       3\n",
       "9        2\n",
       "11       2\n",
       "16       1\n",
       "Name: rooms, dtype: int64"
      ]
     },
     "execution_count": 2476,
     "metadata": {},
     "output_type": "execute_result"
    }
   ],
   "source": [
    "data['rooms'].value_counts()"
   ]
  },
  {
   "cell_type": "markdown",
   "metadata": {},
   "source": [
    "Думаю значения больше семи, можно не учитывать. Посмотрим график без них, а так же уберем 0.   "
   ]
  },
  {
   "cell_type": "code",
   "execution_count": 2477,
   "metadata": {},
   "outputs": [
    {
     "data": {
      "text/plain": [
       "<AxesSubplot:xlabel='rooms'>"
      ]
     },
     "execution_count": 2477,
     "metadata": {},
     "output_type": "execute_result"
    },
    {
     "data": {
      "image/png": "[encoded data removed]",
      "text/plain": [
       "<Figure size 432x288 with 1 Axes>"
      ]
     },
     "metadata": {
      "needs_background": "light"
     },
     "output_type": "display_data"
    }
   ],
   "source": [
    "data.query('rooms > 0 and rooms < 8').pivot_table(index='rooms', values='last_price').plot(y='last_price', kind='bar')"
   ]
  },
  {
   "cell_type": "markdown",
   "metadata": {},
   "source": [
    "Цена квартиры зависит от количества комнат."
   ]
  },
  {
   "cell_type": "markdown",
   "metadata": {},
   "source": [
    "Рассмотрим зависит ли цена от этажа, на котором расположена квартира (первый, последний, другой)"
   ]
  },
  {
   "cell_type": "code",
   "execution_count": 2478,
   "metadata": {},
   "outputs": [
    {
     "data": {
      "text/plain": [
       "<AxesSubplot:xlabel='type_floor'>"
      ]
     },
     "execution_count": 2478,
     "metadata": {},
     "output_type": "execute_result"
    },
    {
     "data": {
      "image/png": "[encoded data removed]",
      "text/plain": [
       "<Figure size 432x288 with 1 Axes>"
      ]
     },
     "metadata": {
      "needs_background": "light"
     },
     "output_type": "display_data"
    }
   ],
   "source": [
    "data.pivot_table(index='type_floor', values='last_price').plot(y='last_price', kind='bar')"
   ]
  },
  {
   "cell_type": "markdown",
   "metadata": {},
   "source": [
    "Дешевле всего квартиры на первом этаже. Цены на других этажах почти не отличаются."
   ]
  },
  {
   "cell_type": "markdown",
   "metadata": {},
   "source": [
    "Рассмотрим зависит ли цена от дня размещения"
   ]
  },
  {
   "cell_type": "code",
   "execution_count": 2479,
   "metadata": {},
   "outputs": [
    {
     "data": {
      "text/plain": [
       "<AxesSubplot:xlabel='day_of_week_exposition'>"
      ]
     },
     "execution_count": 2479,
     "metadata": {},
     "output_type": "execute_result"
    },
    {
     "data": {
      "image/png": "[encoded data removed]",
      "text/plain": [
       "<Figure size 432x288 with 1 Axes>"
      ]
     },
     "metadata": {
      "needs_background": "light"
     },
     "output_type": "display_data"
    }
   ],
   "source": [
    "data.pivot_table(index='day_of_week_exposition', values='last_price').plot(y='last_price', kind='bar')"
   ]
  },
  {
   "cell_type": "markdown",
   "metadata": {},
   "source": [
    "Зависимости практически нет"
   ]
  },
  {
   "cell_type": "markdown",
   "metadata": {},
   "source": [
    "Рассмотрим зависит ли цена от месяца размещения"
   ]
  },
  {
   "cell_type": "code",
   "execution_count": 2480,
   "metadata": {},
   "outputs": [
    {
     "data": {
      "text/plain": [
       "-0.005341678165023342"
      ]
     },
     "execution_count": 2480,
     "metadata": {},
     "output_type": "execute_result"
    }
   ],
   "source": [
    "data['last_price'].corr(data['month_exposition'])"
   ]
  },
  {
   "cell_type": "code",
   "execution_count": 2481,
   "metadata": {},
   "outputs": [
    {
     "data": {
      "text/plain": [
       "<AxesSubplot:xlabel='month_exposition'>"
      ]
     },
     "execution_count": 2481,
     "metadata": {},
     "output_type": "execute_result"
    },
    {
     "data": {
      "image/png": "[encoded data removed]",
      "text/plain": [
       "<Figure size 432x288 with 1 Axes>"
      ]
     },
     "metadata": {
      "needs_background": "light"
     },
     "output_type": "display_data"
    }
   ],
   "source": [
    "data.pivot_table(index='month_exposition', values='last_price').plot(y='last_price', kind='bar')"
   ]
  },
  {
   "cell_type": "markdown",
   "metadata": {},
   "source": [
    "Зависимости также практически нет"
   ]
  },
  {
   "cell_type": "markdown",
   "metadata": {},
   "source": [
    "Рассмотрим зависит ли цена от года размещения"
   ]
  },
  {
   "cell_type": "code",
   "execution_count": 2482,
   "metadata": {},
   "outputs": [
    {
     "data": {
      "text/plain": [
       "-0.045967818103338665"
      ]
     },
     "execution_count": 2482,
     "metadata": {},
     "output_type": "execute_result"
    }
   ],
   "source": [
    "data['last_price'].corr(data['year_exposition'])"
   ]
  },
  {
   "cell_type": "code",
   "execution_count": 2483,
   "metadata": {},
   "outputs": [
    {
     "data": {
      "text/plain": [
       "<AxesSubplot:xlabel='year_exposition'>"
      ]
     },
     "execution_count": 2483,
     "metadata": {},
     "output_type": "execute_result"
    },
    {
     "data": {
      "image/png": "[encoded data removed]",
      "text/plain": [
       "<Figure size 432x288 with 1 Axes>"
      ]
     },
     "metadata": {
      "needs_background": "light"
     },
     "output_type": "display_data"
    }
   ],
   "source": [
    "data.pivot_table(index='year_exposition', values='last_price').plot(y='last_price', kind='bar')"
   ]
  },
  {
   "cell_type": "markdown",
   "metadata": {},
   "source": [
    "Зависимость очень низкая, но видно что цена снижалась с 2014 года. "
   ]
  },
  {
   "cell_type": "markdown",
   "metadata": {},
   "source": [
    "#### Посчитайте среднюю цену одного квадратного метра в 10 населённых пунктах с наибольшим числом объявлений"
   ]
  },
  {
   "cell_type": "markdown",
   "metadata": {},
   "source": [
    "Посмотрим населённые пункты с самой высокой стоимостью квадратного метра"
   ]
  },
  {
   "cell_type": "code",
   "execution_count": 2484,
   "metadata": {},
   "outputs": [
    {
     "data": {
      "text/html": [
       "<div>\n",
       "<style scoped>\n",
       "    .dataframe tbody tr th:only-of-type {\n",
       "        vertical-align: middle;\n",
       "    }\n",
       "\n",
       "    .dataframe tbody tr th {\n",
       "        vertical-align: top;\n",
       "    }\n",
       "\n",
       "    .dataframe thead th {\n",
       "        text-align: right;\n",
       "    }\n",
       "</style>\n",
       "<table border=\"1\" class=\"dataframe\">\n",
       "  <thead>\n",
       "    <tr style=\"text-align: right;\">\n",
       "      <th></th>\n",
       "      <th>prace_m2</th>\n",
       "    </tr>\n",
       "    <tr>\n",
       "      <th>locality_name</th>\n",
       "      <th></th>\n",
       "    </tr>\n",
       "  </thead>\n",
       "  <tbody>\n",
       "    <tr>\n",
       "      <th>Санкт-Петербург</th>\n",
       "      <td>113891.209828</td>\n",
       "    </tr>\n",
       "    <tr>\n",
       "      <th>Пушкин</th>\n",
       "      <td>103533.058410</td>\n",
       "    </tr>\n",
       "    <tr>\n",
       "      <th>Сестрорецк</th>\n",
       "      <td>102103.383305</td>\n",
       "    </tr>\n",
       "    <tr>\n",
       "      <th>поселок Парголово</th>\n",
       "      <td>91177.100569</td>\n",
       "    </tr>\n",
       "    <tr>\n",
       "      <th>поселок Мурино</th>\n",
       "      <td>86595.865913</td>\n",
       "    </tr>\n",
       "    <tr>\n",
       "      <th>Петергоф</th>\n",
       "      <td>84227.932974</td>\n",
       "    </tr>\n",
       "    <tr>\n",
       "      <th>поселок Шушары</th>\n",
       "      <td>79408.532536</td>\n",
       "    </tr>\n",
       "    <tr>\n",
       "      <th>Колпино</th>\n",
       "      <td>75629.050731</td>\n",
       "    </tr>\n",
       "    <tr>\n",
       "      <th>Гатчина</th>\n",
       "      <td>69864.750048</td>\n",
       "    </tr>\n",
       "    <tr>\n",
       "      <th>Всеволожск</th>\n",
       "      <td>67549.394433</td>\n",
       "    </tr>\n",
       "  </tbody>\n",
       "</table>\n",
       "</div>"
      ],
      "text/plain": [
       "                        prace_m2\n",
       "locality_name                   \n",
       "Санкт-Петербург    113891.209828\n",
       "Пушкин             103533.058410\n",
       "Сестрорецк         102103.383305\n",
       "поселок Парголово   91177.100569\n",
       "поселок Мурино      86595.865913\n",
       "Петергоф            84227.932974\n",
       "поселок Шушары      79408.532536\n",
       "Колпино             75629.050731\n",
       "Гатчина             69864.750048\n",
       "Всеволожск          67549.394433"
      ]
     },
     "execution_count": 2484,
     "metadata": {},
     "output_type": "execute_result"
    }
   ],
   "source": [
    "np10 = data['locality_name'].value_counts().head(10)\n",
    "mean_price_m2 = data.query('locality_name in (@np10.index)').pivot_table(index='locality_name', values='prace_m2')\n",
    "mean_price_m2.sort_values(by='prace_m2', ascending=False)"
   ]
  },
  {
   "cell_type": "markdown",
   "metadata": {},
   "source": [
    "Посмотрим населённые пункты с самой низкой стоимостью квадратного метра"
   ]
  },
  {
   "cell_type": "code",
   "execution_count": 2485,
   "metadata": {},
   "outputs": [
    {
     "data": {
      "text/html": [
       "<div>\n",
       "<style scoped>\n",
       "    .dataframe tbody tr th:only-of-type {\n",
       "        vertical-align: middle;\n",
       "    }\n",
       "\n",
       "    .dataframe tbody tr th {\n",
       "        vertical-align: top;\n",
       "    }\n",
       "\n",
       "    .dataframe thead th {\n",
       "        text-align: right;\n",
       "    }\n",
       "</style>\n",
       "<table border=\"1\" class=\"dataframe\">\n",
       "  <thead>\n",
       "    <tr style=\"text-align: right;\">\n",
       "      <th></th>\n",
       "      <th>prace_m2</th>\n",
       "    </tr>\n",
       "    <tr>\n",
       "      <th>locality_name</th>\n",
       "      <th></th>\n",
       "    </tr>\n",
       "  </thead>\n",
       "  <tbody>\n",
       "    <tr>\n",
       "      <th>Всеволожск</th>\n",
       "      <td>67549.394433</td>\n",
       "    </tr>\n",
       "    <tr>\n",
       "      <th>Гатчина</th>\n",
       "      <td>69864.750048</td>\n",
       "    </tr>\n",
       "    <tr>\n",
       "      <th>Колпино</th>\n",
       "      <td>75629.050731</td>\n",
       "    </tr>\n",
       "    <tr>\n",
       "      <th>поселок Шушары</th>\n",
       "      <td>79408.532536</td>\n",
       "    </tr>\n",
       "    <tr>\n",
       "      <th>Петергоф</th>\n",
       "      <td>84227.932974</td>\n",
       "    </tr>\n",
       "    <tr>\n",
       "      <th>поселок Мурино</th>\n",
       "      <td>86595.865913</td>\n",
       "    </tr>\n",
       "    <tr>\n",
       "      <th>поселок Парголово</th>\n",
       "      <td>91177.100569</td>\n",
       "    </tr>\n",
       "    <tr>\n",
       "      <th>Сестрорецк</th>\n",
       "      <td>102103.383305</td>\n",
       "    </tr>\n",
       "    <tr>\n",
       "      <th>Пушкин</th>\n",
       "      <td>103533.058410</td>\n",
       "    </tr>\n",
       "    <tr>\n",
       "      <th>Санкт-Петербург</th>\n",
       "      <td>113891.209828</td>\n",
       "    </tr>\n",
       "  </tbody>\n",
       "</table>\n",
       "</div>"
      ],
      "text/plain": [
       "                        prace_m2\n",
       "locality_name                   \n",
       "Всеволожск          67549.394433\n",
       "Гатчина             69864.750048\n",
       "Колпино             75629.050731\n",
       "поселок Шушары      79408.532536\n",
       "Петергоф            84227.932974\n",
       "поселок Мурино      86595.865913\n",
       "поселок Парголово   91177.100569\n",
       "Сестрорецк         102103.383305\n",
       "Пушкин             103533.058410\n",
       "Санкт-Петербург    113891.209828"
      ]
     },
     "execution_count": 2485,
     "metadata": {},
     "output_type": "execute_result"
    }
   ],
   "source": [
    "mean_price_m2.sort_values(by='prace_m2')"
   ]
  },
  {
   "cell_type": "markdown",
   "metadata": {},
   "source": [
    "Посмотрим среднюю цену каждого километра в Санкт-Петербурге"
   ]
  },
  {
   "cell_type": "code",
   "execution_count": 2486,
   "metadata": {},
   "outputs": [
    {
     "data": {
      "text/html": [
       "<div>\n",
       "<style scoped>\n",
       "    .dataframe tbody tr th:only-of-type {\n",
       "        vertical-align: middle;\n",
       "    }\n",
       "\n",
       "    .dataframe tbody tr th {\n",
       "        vertical-align: top;\n",
       "    }\n",
       "\n",
       "    .dataframe thead th {\n",
       "        text-align: right;\n",
       "    }\n",
       "</style>\n",
       "<table border=\"1\" class=\"dataframe\">\n",
       "  <thead>\n",
       "    <tr style=\"text-align: right;\">\n",
       "      <th></th>\n",
       "      <th>last_price</th>\n",
       "    </tr>\n",
       "    <tr>\n",
       "      <th>city_centers_nearest</th>\n",
       "      <th></th>\n",
       "    </tr>\n",
       "  </thead>\n",
       "  <tbody>\n",
       "    <tr>\n",
       "      <th>0.0</th>\n",
       "      <td>1.845223e+07</td>\n",
       "    </tr>\n",
       "    <tr>\n",
       "      <th>1.0</th>\n",
       "      <td>2.114871e+07</td>\n",
       "    </tr>\n",
       "    <tr>\n",
       "      <th>2.0</th>\n",
       "      <td>1.710569e+07</td>\n",
       "    </tr>\n",
       "    <tr>\n",
       "      <th>3.0</th>\n",
       "      <td>1.055671e+07</td>\n",
       "    </tr>\n",
       "    <tr>\n",
       "      <th>4.0</th>\n",
       "      <td>1.149849e+07</td>\n",
       "    </tr>\n",
       "    <tr>\n",
       "      <th>5.0</th>\n",
       "      <td>1.230429e+07</td>\n",
       "    </tr>\n",
       "    <tr>\n",
       "      <th>6.0</th>\n",
       "      <td>1.331035e+07</td>\n",
       "    </tr>\n",
       "    <tr>\n",
       "      <th>7.0</th>\n",
       "      <td>1.380690e+07</td>\n",
       "    </tr>\n",
       "    <tr>\n",
       "      <th>8.0</th>\n",
       "      <td>9.736694e+06</td>\n",
       "    </tr>\n",
       "    <tr>\n",
       "      <th>9.0</th>\n",
       "      <td>7.404657e+06</td>\n",
       "    </tr>\n",
       "    <tr>\n",
       "      <th>10.0</th>\n",
       "      <td>6.732509e+06</td>\n",
       "    </tr>\n",
       "    <tr>\n",
       "      <th>11.0</th>\n",
       "      <td>6.253894e+06</td>\n",
       "    </tr>\n",
       "    <tr>\n",
       "      <th>12.0</th>\n",
       "      <td>6.013899e+06</td>\n",
       "    </tr>\n",
       "    <tr>\n",
       "      <th>13.0</th>\n",
       "      <td>6.200973e+06</td>\n",
       "    </tr>\n",
       "    <tr>\n",
       "      <th>14.0</th>\n",
       "      <td>5.615648e+06</td>\n",
       "    </tr>\n",
       "    <tr>\n",
       "      <th>15.0</th>\n",
       "      <td>5.945296e+06</td>\n",
       "    </tr>\n",
       "    <tr>\n",
       "      <th>16.0</th>\n",
       "      <td>5.441449e+06</td>\n",
       "    </tr>\n",
       "    <tr>\n",
       "      <th>17.0</th>\n",
       "      <td>5.345705e+06</td>\n",
       "    </tr>\n",
       "    <tr>\n",
       "      <th>18.0</th>\n",
       "      <td>4.976794e+06</td>\n",
       "    </tr>\n",
       "    <tr>\n",
       "      <th>19.0</th>\n",
       "      <td>4.986969e+06</td>\n",
       "    </tr>\n",
       "    <tr>\n",
       "      <th>20.0</th>\n",
       "      <td>5.719091e+06</td>\n",
       "    </tr>\n",
       "    <tr>\n",
       "      <th>21.0</th>\n",
       "      <td>5.369412e+06</td>\n",
       "    </tr>\n",
       "    <tr>\n",
       "      <th>22.0</th>\n",
       "      <td>5.378963e+06</td>\n",
       "    </tr>\n",
       "    <tr>\n",
       "      <th>23.0</th>\n",
       "      <td>5.132208e+06</td>\n",
       "    </tr>\n",
       "    <tr>\n",
       "      <th>24.0</th>\n",
       "      <td>4.907500e+06</td>\n",
       "    </tr>\n",
       "    <tr>\n",
       "      <th>25.0</th>\n",
       "      <td>4.267500e+06</td>\n",
       "    </tr>\n",
       "    <tr>\n",
       "      <th>26.0</th>\n",
       "      <td>4.162600e+06</td>\n",
       "    </tr>\n",
       "    <tr>\n",
       "      <th>27.0</th>\n",
       "      <td>1.435000e+07</td>\n",
       "    </tr>\n",
       "    <tr>\n",
       "      <th>28.0</th>\n",
       "      <td>7.600000e+06</td>\n",
       "    </tr>\n",
       "    <tr>\n",
       "      <th>29.0</th>\n",
       "      <td>4.530000e+06</td>\n",
       "    </tr>\n",
       "  </tbody>\n",
       "</table>\n",
       "</div>"
      ],
      "text/plain": [
       "                        last_price\n",
       "city_centers_nearest              \n",
       "0.0                   1.845223e+07\n",
       "1.0                   2.114871e+07\n",
       "2.0                   1.710569e+07\n",
       "3.0                   1.055671e+07\n",
       "4.0                   1.149849e+07\n",
       "5.0                   1.230429e+07\n",
       "6.0                   1.331035e+07\n",
       "7.0                   1.380690e+07\n",
       "8.0                   9.736694e+06\n",
       "9.0                   7.404657e+06\n",
       "10.0                  6.732509e+06\n",
       "11.0                  6.253894e+06\n",
       "12.0                  6.013899e+06\n",
       "13.0                  6.200973e+06\n",
       "14.0                  5.615648e+06\n",
       "15.0                  5.945296e+06\n",
       "16.0                  5.441449e+06\n",
       "17.0                  5.345705e+06\n",
       "18.0                  4.976794e+06\n",
       "19.0                  4.986969e+06\n",
       "20.0                  5.719091e+06\n",
       "21.0                  5.369412e+06\n",
       "22.0                  5.378963e+06\n",
       "23.0                  5.132208e+06\n",
       "24.0                  4.907500e+06\n",
       "25.0                  4.267500e+06\n",
       "26.0                  4.162600e+06\n",
       "27.0                  1.435000e+07\n",
       "28.0                  7.600000e+06\n",
       "29.0                  4.530000e+06"
      ]
     },
     "execution_count": 2486,
     "metadata": {},
     "output_type": "execute_result"
    }
   ],
   "source": [
    "spb = data.query('locality_name == \"Санкт-Петербург\"')\n",
    "spb.pivot_table(index='city_centers_nearest', values='last_price')"
   ]
  },
  {
   "cell_type": "markdown",
   "metadata": {},
   "source": [
    "Посмотрим на графике"
   ]
  },
  {
   "cell_type": "code",
   "execution_count": 2487,
   "metadata": {},
   "outputs": [
    {
     "data": {
      "text/plain": [
       "<AxesSubplot:xlabel='city_centers_nearest'>"
      ]
     },
     "execution_count": 2487,
     "metadata": {},
     "output_type": "execute_result"
    },
    {
     "data": {
      "image/png": "[encoded data removed]",
      "text/plain": [
       "<Figure size 432x288 with 1 Axes>"
      ]
     },
     "metadata": {
      "needs_background": "light"
     },
     "output_type": "display_data"
    }
   ],
   "source": [
    "spb.pivot_table(index='city_centers_nearest', values='last_price').plot(y='last_price', kind='bar')"
   ]
  },
  {
   "cell_type": "markdown",
   "metadata": {},
   "source": [
    "В основном чем ближе к центру, тем дороже. Есть и исключения."
   ]
  },
  {
   "cell_type": "markdown",
   "metadata": {},
   "source": [
    "### Общий вывод"
   ]
  },
  {
   "cell_type": "markdown",
   "metadata": {},
   "source": [
    "### В среднем продаваемая квартира выглядит так:\n",
    "- Общая площадь 53 квадратных метров\n",
    "- Жилая площадь 31 квадратных метров\n",
    "- Кухня 9 квадратных метров\n",
    "- Стоимость 4.9 млн рублей\n",
    "- 2-х комнатная\n",
    "- 2.7м высота потолков\n",
    "- 4 этаж\n",
    "- 5 или 9 этажный дом\n",
    "- 13км до центра города\n",
    "- 26км до аэропорта\n",
    "- 500м до парка"
   ]
  },
  {
   "cell_type": "markdown",
   "metadata": {},
   "source": [
    "Больше всего на цену влияют площадь квартиры и количество комнат. Так же влияет этаж, если он не первый, то цена выше."
   ]
  },
  {
   "cell_type": "markdown",
   "metadata": {},
   "source": [
    "В среднем квартиры продавались за 189 дней. Быстрыми можно считать продажи до 45 дней, долгими - больше 250 дней."
   ]
  },
  {
   "cell_type": "markdown",
   "metadata": {},
   "source": [
    "В Санкт-Петербурге стоимость квадратного метра самая высокая - 113891 рубля.\n",
    "Самая низкая в Всеволожске - 67549 рублей."
   ]
  },
  {
   "cell_type": "markdown",
   "metadata": {},
   "source": [
    "В Санкт-Петербурге, как правило, чем ближе к центру, тем выше стоимость квадратного метра. "
   ]
  },
  {
   "cell_type": "code",
   "execution_count": null,
   "metadata": {},
   "outputs": [],
   "source": []
  }
 ],
 "metadata": {
  "ExecuteTimeLog": [
   {
    "duration": 629,
    "start_time": "2022-12-16T06:34:10.258Z"
   },
   {
    "duration": 97,
    "start_time": "2022-12-16T06:35:04.106Z"
   },
   {
    "duration": 103,
    "start_time": "2022-12-16T06:35:49.034Z"
   },
   {
    "duration": 97,
    "start_time": "2022-12-16T06:36:04.971Z"
   },
   {
    "duration": 553,
    "start_time": "2022-12-16T06:36:53.298Z"
   },
   {
    "duration": 96,
    "start_time": "2022-12-16T06:41:17.681Z"
   },
   {
    "duration": 95,
    "start_time": "2022-12-16T06:41:34.233Z"
   },
   {
    "duration": 33,
    "start_time": "2022-12-16T06:42:08.041Z"
   },
   {
    "duration": 186,
    "start_time": "2022-12-16T06:42:55.937Z"
   },
   {
    "duration": 2244,
    "start_time": "2022-12-16T06:45:30.321Z"
   },
   {
    "duration": 15,
    "start_time": "2022-12-16T06:48:09.984Z"
   },
   {
    "duration": 10,
    "start_time": "2022-12-16T06:50:14.865Z"
   },
   {
    "duration": 4,
    "start_time": "2022-12-16T07:12:38.733Z"
   },
   {
    "duration": 20,
    "start_time": "2022-12-16T07:12:50.153Z"
   },
   {
    "duration": 12,
    "start_time": "2022-12-16T07:13:39.500Z"
   },
   {
    "duration": 14,
    "start_time": "2022-12-16T07:14:03.551Z"
   },
   {
    "duration": 21,
    "start_time": "2022-12-16T07:46:40.379Z"
   },
   {
    "duration": 18,
    "start_time": "2022-12-16T07:47:36.571Z"
   },
   {
    "duration": 12,
    "start_time": "2022-12-16T07:47:59.372Z"
   },
   {
    "duration": 13,
    "start_time": "2022-12-16T07:48:06.171Z"
   },
   {
    "duration": 12,
    "start_time": "2022-12-16T07:48:28.315Z"
   },
   {
    "duration": 10,
    "start_time": "2022-12-16T07:48:30.067Z"
   },
   {
    "duration": 1125,
    "start_time": "2022-12-16T07:50:15.003Z"
   },
   {
    "duration": 7,
    "start_time": "2022-12-16T07:50:32.883Z"
   },
   {
    "duration": 6,
    "start_time": "2022-12-16T07:51:13.446Z"
   },
   {
    "duration": 6,
    "start_time": "2022-12-16T07:52:03.067Z"
   },
   {
    "duration": 6,
    "start_time": "2022-12-16T07:52:17.131Z"
   },
   {
    "duration": 157,
    "start_time": "2022-12-16T07:54:03.413Z"
   },
   {
    "duration": 2140,
    "start_time": "2022-12-16T07:54:03.572Z"
   },
   {
    "duration": 15,
    "start_time": "2022-12-16T07:54:05.714Z"
   },
   {
    "duration": 27,
    "start_time": "2022-12-16T07:54:05.731Z"
   },
   {
    "duration": 4,
    "start_time": "2022-12-16T07:54:05.761Z"
   },
   {
    "duration": 16,
    "start_time": "2022-12-16T07:54:05.766Z"
   },
   {
    "duration": 6,
    "start_time": "2022-12-16T07:54:05.784Z"
   },
   {
    "duration": 6,
    "start_time": "2022-12-16T07:54:05.792Z"
   },
   {
    "duration": 11,
    "start_time": "2022-12-16T07:54:05.800Z"
   },
   {
    "duration": 14,
    "start_time": "2022-12-16T07:54:05.812Z"
   },
   {
    "duration": 29,
    "start_time": "2022-12-16T07:54:05.828Z"
   },
   {
    "duration": 10,
    "start_time": "2022-12-16T07:58:33.768Z"
   },
   {
    "duration": 10,
    "start_time": "2022-12-16T07:58:55.097Z"
   },
   {
    "duration": 5,
    "start_time": "2022-12-16T08:07:17.703Z"
   },
   {
    "duration": 4,
    "start_time": "2022-12-16T08:10:03.142Z"
   },
   {
    "duration": 7,
    "start_time": "2022-12-16T08:10:19.726Z"
   },
   {
    "duration": 6,
    "start_time": "2022-12-16T08:10:43.582Z"
   },
   {
    "duration": 11,
    "start_time": "2022-12-16T08:10:51.710Z"
   },
   {
    "duration": 69,
    "start_time": "2022-12-16T08:13:38.961Z"
   },
   {
    "duration": 90,
    "start_time": "2022-12-16T08:13:54.086Z"
   },
   {
    "duration": 6,
    "start_time": "2022-12-16T08:14:01.422Z"
   },
   {
    "duration": 13,
    "start_time": "2022-12-16T08:14:14.749Z"
   },
   {
    "duration": 7,
    "start_time": "2022-12-16T08:26:02.684Z"
   },
   {
    "duration": 161,
    "start_time": "2022-12-16T08:26:17.060Z"
   },
   {
    "duration": 2320,
    "start_time": "2022-12-16T08:26:17.224Z"
   },
   {
    "duration": 24,
    "start_time": "2022-12-16T08:26:19.553Z"
   },
   {
    "duration": 31,
    "start_time": "2022-12-16T08:26:19.579Z"
   },
   {
    "duration": 4,
    "start_time": "2022-12-16T08:26:19.614Z"
   },
   {
    "duration": 32,
    "start_time": "2022-12-16T08:26:19.620Z"
   },
   {
    "duration": 17,
    "start_time": "2022-12-16T08:26:19.655Z"
   },
   {
    "duration": 7,
    "start_time": "2022-12-16T08:26:19.674Z"
   },
   {
    "duration": 44,
    "start_time": "2022-12-16T08:26:19.683Z"
   },
   {
    "duration": 16,
    "start_time": "2022-12-16T08:26:19.729Z"
   },
   {
    "duration": 20,
    "start_time": "2022-12-16T08:26:19.748Z"
   },
   {
    "duration": 5,
    "start_time": "2022-12-16T08:29:09.083Z"
   },
   {
    "duration": 12,
    "start_time": "2022-12-16T08:29:12.435Z"
   },
   {
    "duration": 9,
    "start_time": "2022-12-16T08:34:06.468Z"
   },
   {
    "duration": 7,
    "start_time": "2022-12-16T08:34:17.043Z"
   },
   {
    "duration": 16,
    "start_time": "2022-12-16T08:34:19.741Z"
   },
   {
    "duration": 6,
    "start_time": "2022-12-16T08:57:26.288Z"
   },
   {
    "duration": 10,
    "start_time": "2022-12-16T08:57:29.176Z"
   },
   {
    "duration": 9,
    "start_time": "2022-12-16T09:40:47.140Z"
   },
   {
    "duration": 10,
    "start_time": "2022-12-16T09:41:07.533Z"
   },
   {
    "duration": 10,
    "start_time": "2022-12-16T09:41:26.403Z"
   },
   {
    "duration": 15,
    "start_time": "2022-12-16T09:41:33.292Z"
   },
   {
    "duration": 7,
    "start_time": "2022-12-16T09:41:55.124Z"
   },
   {
    "duration": 11,
    "start_time": "2022-12-16T09:41:58.259Z"
   },
   {
    "duration": 37,
    "start_time": "2022-12-16T09:44:33.115Z"
   },
   {
    "duration": 8,
    "start_time": "2022-12-16T09:47:20.980Z"
   },
   {
    "duration": 11,
    "start_time": "2022-12-16T09:47:30.235Z"
   },
   {
    "duration": 9,
    "start_time": "2022-12-16T09:48:57.427Z"
   },
   {
    "duration": 8,
    "start_time": "2022-12-16T09:49:05.379Z"
   },
   {
    "duration": 7,
    "start_time": "2022-12-16T09:49:06.763Z"
   },
   {
    "duration": 17,
    "start_time": "2022-12-16T09:49:09.694Z"
   },
   {
    "duration": 9,
    "start_time": "2022-12-16T09:50:38.659Z"
   },
   {
    "duration": 1274,
    "start_time": "2022-12-16T09:50:39.274Z"
   },
   {
    "duration": 173,
    "start_time": "2022-12-16T09:51:27.764Z"
   },
   {
    "duration": 2199,
    "start_time": "2022-12-16T09:51:27.939Z"
   },
   {
    "duration": 29,
    "start_time": "2022-12-16T09:51:30.141Z"
   },
   {
    "duration": 16,
    "start_time": "2022-12-16T09:51:30.173Z"
   },
   {
    "duration": 10,
    "start_time": "2022-12-16T09:51:30.192Z"
   },
   {
    "duration": 36,
    "start_time": "2022-12-16T09:51:30.204Z"
   },
   {
    "duration": 7,
    "start_time": "2022-12-16T09:51:30.252Z"
   },
   {
    "duration": 24,
    "start_time": "2022-12-16T09:51:30.261Z"
   },
   {
    "duration": 28,
    "start_time": "2022-12-16T09:51:30.287Z"
   },
   {
    "duration": 32,
    "start_time": "2022-12-16T09:51:30.317Z"
   },
   {
    "duration": 25,
    "start_time": "2022-12-16T09:51:30.351Z"
   },
   {
    "duration": 1155,
    "start_time": "2022-12-16T09:51:30.378Z"
   },
   {
    "duration": 0,
    "start_time": "2022-12-16T09:51:31.536Z"
   },
   {
    "duration": 10,
    "start_time": "2022-12-16T09:52:38.394Z"
   },
   {
    "duration": 5,
    "start_time": "2022-12-16T09:53:01.723Z"
   },
   {
    "duration": 6,
    "start_time": "2022-12-16T09:53:42.771Z"
   },
   {
    "duration": 11,
    "start_time": "2022-12-16T09:53:44.698Z"
   },
   {
    "duration": 132,
    "start_time": "2022-12-16T09:53:53.308Z"
   },
   {
    "duration": 2226,
    "start_time": "2022-12-16T09:53:53.442Z"
   },
   {
    "duration": 17,
    "start_time": "2022-12-16T09:53:55.670Z"
   },
   {
    "duration": 11,
    "start_time": "2022-12-16T09:53:55.689Z"
   },
   {
    "duration": 5,
    "start_time": "2022-12-16T09:53:55.703Z"
   },
   {
    "duration": 45,
    "start_time": "2022-12-16T09:53:55.710Z"
   },
   {
    "duration": 3,
    "start_time": "2022-12-16T09:53:55.758Z"
   },
   {
    "duration": 7,
    "start_time": "2022-12-16T09:53:55.763Z"
   },
   {
    "duration": 15,
    "start_time": "2022-12-16T09:53:55.772Z"
   },
   {
    "duration": 8,
    "start_time": "2022-12-16T09:53:55.789Z"
   },
   {
    "duration": 12,
    "start_time": "2022-12-16T09:53:55.798Z"
   },
   {
    "duration": 7,
    "start_time": "2022-12-16T09:53:55.812Z"
   },
   {
    "duration": 43,
    "start_time": "2022-12-16T09:53:55.821Z"
   },
   {
    "duration": 5,
    "start_time": "2022-12-16T09:54:58.609Z"
   },
   {
    "duration": 143,
    "start_time": "2022-12-16T09:55:00.789Z"
   },
   {
    "duration": 2324,
    "start_time": "2022-12-16T09:55:00.934Z"
   },
   {
    "duration": 16,
    "start_time": "2022-12-16T09:55:03.260Z"
   },
   {
    "duration": 13,
    "start_time": "2022-12-16T09:55:03.278Z"
   },
   {
    "duration": 23,
    "start_time": "2022-12-16T09:55:03.294Z"
   },
   {
    "duration": 31,
    "start_time": "2022-12-16T09:55:03.319Z"
   },
   {
    "duration": 44,
    "start_time": "2022-12-16T09:55:03.352Z"
   },
   {
    "duration": 31,
    "start_time": "2022-12-16T09:55:03.399Z"
   },
   {
    "duration": 52,
    "start_time": "2022-12-16T09:55:03.432Z"
   },
   {
    "duration": 28,
    "start_time": "2022-12-16T09:55:03.486Z"
   },
   {
    "duration": 34,
    "start_time": "2022-12-16T09:55:03.516Z"
   },
   {
    "duration": 53,
    "start_time": "2022-12-16T09:55:03.552Z"
   },
   {
    "duration": 21,
    "start_time": "2022-12-16T09:55:03.608Z"
   },
   {
    "duration": 142,
    "start_time": "2022-12-16T09:55:40.581Z"
   },
   {
    "duration": 2030,
    "start_time": "2022-12-16T09:55:40.725Z"
   },
   {
    "duration": 25,
    "start_time": "2022-12-16T09:55:42.758Z"
   },
   {
    "duration": 14,
    "start_time": "2022-12-16T09:55:42.786Z"
   },
   {
    "duration": 4,
    "start_time": "2022-12-16T09:55:42.803Z"
   },
   {
    "duration": 46,
    "start_time": "2022-12-16T09:55:42.809Z"
   },
   {
    "duration": 8,
    "start_time": "2022-12-16T09:55:42.857Z"
   },
   {
    "duration": 9,
    "start_time": "2022-12-16T09:55:42.867Z"
   },
   {
    "duration": 20,
    "start_time": "2022-12-16T09:55:42.878Z"
   },
   {
    "duration": 5,
    "start_time": "2022-12-16T09:55:42.901Z"
   },
   {
    "duration": 10,
    "start_time": "2022-12-16T09:55:42.908Z"
   },
   {
    "duration": 7,
    "start_time": "2022-12-16T09:55:42.919Z"
   },
   {
    "duration": 31,
    "start_time": "2022-12-16T09:55:42.928Z"
   },
   {
    "duration": 135,
    "start_time": "2022-12-16T09:58:11.221Z"
   },
   {
    "duration": 2247,
    "start_time": "2022-12-16T09:58:11.359Z"
   },
   {
    "duration": 16,
    "start_time": "2022-12-16T09:58:13.607Z"
   },
   {
    "duration": 30,
    "start_time": "2022-12-16T09:58:13.625Z"
   },
   {
    "duration": 4,
    "start_time": "2022-12-16T09:58:13.657Z"
   },
   {
    "duration": 14,
    "start_time": "2022-12-16T09:58:13.662Z"
   },
   {
    "duration": 10,
    "start_time": "2022-12-16T09:58:13.678Z"
   },
   {
    "duration": 7,
    "start_time": "2022-12-16T09:58:13.690Z"
   },
   {
    "duration": 11,
    "start_time": "2022-12-16T09:58:13.699Z"
   },
   {
    "duration": 5,
    "start_time": "2022-12-16T09:58:13.712Z"
   },
   {
    "duration": 40,
    "start_time": "2022-12-16T09:58:13.719Z"
   },
   {
    "duration": 3,
    "start_time": "2022-12-16T09:58:13.760Z"
   },
   {
    "duration": 14,
    "start_time": "2022-12-16T09:58:13.764Z"
   },
   {
    "duration": 54,
    "start_time": "2022-12-19T07:32:27.556Z"
   },
   {
    "duration": 599,
    "start_time": "2022-12-19T07:32:35.268Z"
   },
   {
    "duration": 2372,
    "start_time": "2022-12-19T07:32:35.870Z"
   },
   {
    "duration": 25,
    "start_time": "2022-12-19T07:32:38.244Z"
   },
   {
    "duration": 9,
    "start_time": "2022-12-19T07:32:38.271Z"
   },
   {
    "duration": 4,
    "start_time": "2022-12-19T07:32:38.282Z"
   },
   {
    "duration": 30,
    "start_time": "2022-12-19T07:32:38.287Z"
   },
   {
    "duration": 6,
    "start_time": "2022-12-19T07:32:38.318Z"
   },
   {
    "duration": 5,
    "start_time": "2022-12-19T07:32:38.326Z"
   },
   {
    "duration": 13,
    "start_time": "2022-12-19T07:32:38.332Z"
   },
   {
    "duration": 5,
    "start_time": "2022-12-19T07:32:38.346Z"
   },
   {
    "duration": 13,
    "start_time": "2022-12-19T07:32:38.353Z"
   },
   {
    "duration": 2,
    "start_time": "2022-12-19T07:32:38.367Z"
   },
   {
    "duration": 25,
    "start_time": "2022-12-19T07:32:38.371Z"
   },
   {
    "duration": 10,
    "start_time": "2022-12-19T07:33:07.273Z"
   },
   {
    "duration": 23,
    "start_time": "2022-12-19T07:41:20.104Z"
   },
   {
    "duration": 5,
    "start_time": "2022-12-19T07:49:44.504Z"
   },
   {
    "duration": 13,
    "start_time": "2022-12-19T07:51:05.119Z"
   },
   {
    "duration": 652,
    "start_time": "2022-12-19T07:53:27.703Z"
   },
   {
    "duration": 6,
    "start_time": "2022-12-19T07:54:23.158Z"
   },
   {
    "duration": 134,
    "start_time": "2022-12-19T07:54:42.546Z"
   },
   {
    "duration": 1963,
    "start_time": "2022-12-19T07:54:42.682Z"
   },
   {
    "duration": 15,
    "start_time": "2022-12-19T07:54:44.646Z"
   },
   {
    "duration": 9,
    "start_time": "2022-12-19T07:54:44.663Z"
   },
   {
    "duration": 4,
    "start_time": "2022-12-19T07:54:44.674Z"
   },
   {
    "duration": 44,
    "start_time": "2022-12-19T07:54:44.680Z"
   },
   {
    "duration": 7,
    "start_time": "2022-12-19T07:54:44.725Z"
   },
   {
    "duration": 8,
    "start_time": "2022-12-19T07:54:44.734Z"
   },
   {
    "duration": 13,
    "start_time": "2022-12-19T07:54:44.744Z"
   },
   {
    "duration": 15,
    "start_time": "2022-12-19T07:54:44.760Z"
   },
   {
    "duration": 13,
    "start_time": "2022-12-19T07:54:44.777Z"
   },
   {
    "duration": 21,
    "start_time": "2022-12-19T07:54:44.792Z"
   },
   {
    "duration": 12,
    "start_time": "2022-12-19T07:54:44.815Z"
   },
   {
    "duration": 15,
    "start_time": "2022-12-19T07:54:44.828Z"
   },
   {
    "duration": 8,
    "start_time": "2022-12-19T07:54:44.845Z"
   },
   {
    "duration": 12,
    "start_time": "2022-12-19T07:54:44.854Z"
   },
   {
    "duration": 16,
    "start_time": "2022-12-19T07:54:44.868Z"
   },
   {
    "duration": 40,
    "start_time": "2022-12-19T07:54:44.886Z"
   },
   {
    "duration": 6,
    "start_time": "2022-12-19T07:55:36.111Z"
   },
   {
    "duration": 10,
    "start_time": "2022-12-19T08:02:44.213Z"
   },
   {
    "duration": 6,
    "start_time": "2022-12-19T08:03:53.990Z"
   },
   {
    "duration": 9,
    "start_time": "2022-12-19T08:05:10.125Z"
   },
   {
    "duration": 9,
    "start_time": "2022-12-19T08:05:21.429Z"
   },
   {
    "duration": 8,
    "start_time": "2022-12-19T08:05:27.493Z"
   },
   {
    "duration": 7,
    "start_time": "2022-12-19T08:06:37.317Z"
   },
   {
    "duration": 5,
    "start_time": "2022-12-19T08:10:27.620Z"
   },
   {
    "duration": 126,
    "start_time": "2022-12-19T08:10:32.202Z"
   },
   {
    "duration": 2057,
    "start_time": "2022-12-19T08:10:32.330Z"
   },
   {
    "duration": 15,
    "start_time": "2022-12-19T08:10:34.389Z"
   },
   {
    "duration": 10,
    "start_time": "2022-12-19T08:10:34.413Z"
   },
   {
    "duration": 4,
    "start_time": "2022-12-19T08:10:34.426Z"
   },
   {
    "duration": 20,
    "start_time": "2022-12-19T08:10:34.433Z"
   },
   {
    "duration": 4,
    "start_time": "2022-12-19T08:10:34.456Z"
   },
   {
    "duration": 6,
    "start_time": "2022-12-19T08:10:34.462Z"
   },
   {
    "duration": 16,
    "start_time": "2022-12-19T08:10:34.469Z"
   },
   {
    "duration": 30,
    "start_time": "2022-12-19T08:10:34.487Z"
   },
   {
    "duration": 27,
    "start_time": "2022-12-19T08:10:34.519Z"
   },
   {
    "duration": 3,
    "start_time": "2022-12-19T08:10:34.548Z"
   },
   {
    "duration": 16,
    "start_time": "2022-12-19T08:10:34.552Z"
   },
   {
    "duration": 14,
    "start_time": "2022-12-19T08:10:34.571Z"
   },
   {
    "duration": 25,
    "start_time": "2022-12-19T08:10:34.588Z"
   },
   {
    "duration": 32,
    "start_time": "2022-12-19T08:10:34.615Z"
   },
   {
    "duration": 11,
    "start_time": "2022-12-19T08:10:34.650Z"
   },
   {
    "duration": 24,
    "start_time": "2022-12-19T08:10:34.663Z"
   },
   {
    "duration": 15,
    "start_time": "2022-12-19T08:10:34.689Z"
   },
   {
    "duration": 15,
    "start_time": "2022-12-19T08:10:34.705Z"
   },
   {
    "duration": 7,
    "start_time": "2022-12-19T08:10:49.732Z"
   },
   {
    "duration": 9,
    "start_time": "2022-12-19T08:12:53.052Z"
   },
   {
    "duration": 6,
    "start_time": "2022-12-19T08:15:00.670Z"
   },
   {
    "duration": 7,
    "start_time": "2022-12-19T08:15:33.547Z"
   },
   {
    "duration": 9,
    "start_time": "2022-12-19T08:16:45.524Z"
   },
   {
    "duration": 7,
    "start_time": "2022-12-19T08:17:03.363Z"
   },
   {
    "duration": 10,
    "start_time": "2022-12-19T08:58:24.082Z"
   },
   {
    "duration": 7,
    "start_time": "2022-12-19T08:58:31.128Z"
   },
   {
    "duration": 8,
    "start_time": "2022-12-19T08:58:44.935Z"
   },
   {
    "duration": 1131,
    "start_time": "2022-12-19T09:19:45.486Z"
   },
   {
    "duration": 0,
    "start_time": "2022-12-19T09:19:46.619Z"
   },
   {
    "duration": 11,
    "start_time": "2022-12-19T09:20:07.646Z"
   },
   {
    "duration": 7,
    "start_time": "2022-12-19T09:20:12.764Z"
   },
   {
    "duration": 7,
    "start_time": "2022-12-19T09:53:01.252Z"
   },
   {
    "duration": 122,
    "start_time": "2022-12-19T09:54:28.595Z"
   },
   {
    "duration": 2029,
    "start_time": "2022-12-19T09:54:28.720Z"
   },
   {
    "duration": 26,
    "start_time": "2022-12-19T09:54:30.752Z"
   },
   {
    "duration": 33,
    "start_time": "2022-12-19T09:54:30.782Z"
   },
   {
    "duration": 39,
    "start_time": "2022-12-19T09:54:30.818Z"
   },
   {
    "duration": 54,
    "start_time": "2022-12-19T09:54:30.860Z"
   },
   {
    "duration": 17,
    "start_time": "2022-12-19T09:54:30.917Z"
   },
   {
    "duration": 25,
    "start_time": "2022-12-19T09:54:30.937Z"
   },
   {
    "duration": 54,
    "start_time": "2022-12-19T09:54:30.965Z"
   },
   {
    "duration": 8,
    "start_time": "2022-12-19T09:54:31.023Z"
   },
   {
    "duration": 169,
    "start_time": "2022-12-19T09:54:31.034Z"
   },
   {
    "duration": 4,
    "start_time": "2022-12-19T09:54:31.205Z"
   },
   {
    "duration": 25,
    "start_time": "2022-12-19T09:54:31.213Z"
   },
   {
    "duration": 14,
    "start_time": "2022-12-19T09:54:31.241Z"
   },
   {
    "duration": 10,
    "start_time": "2022-12-19T09:54:31.257Z"
   },
   {
    "duration": 30,
    "start_time": "2022-12-19T09:54:31.269Z"
   },
   {
    "duration": 18,
    "start_time": "2022-12-19T09:54:31.301Z"
   },
   {
    "duration": 28,
    "start_time": "2022-12-19T09:54:31.322Z"
   },
   {
    "duration": 12,
    "start_time": "2022-12-19T09:54:31.353Z"
   },
   {
    "duration": 23,
    "start_time": "2022-12-19T09:54:31.368Z"
   },
   {
    "duration": 33,
    "start_time": "2022-12-19T09:54:31.393Z"
   },
   {
    "duration": 50,
    "start_time": "2022-12-19T09:54:31.428Z"
   },
   {
    "duration": 35,
    "start_time": "2022-12-19T09:54:31.480Z"
   },
   {
    "duration": 8,
    "start_time": "2022-12-19T09:55:03.680Z"
   },
   {
    "duration": 79,
    "start_time": "2022-12-19T09:55:23.200Z"
   },
   {
    "duration": 7,
    "start_time": "2022-12-19T09:55:27.519Z"
   },
   {
    "duration": 137,
    "start_time": "2022-12-19T09:55:53.014Z"
   },
   {
    "duration": 1980,
    "start_time": "2022-12-19T09:55:53.153Z"
   },
   {
    "duration": 16,
    "start_time": "2022-12-19T09:55:55.135Z"
   },
   {
    "duration": 9,
    "start_time": "2022-12-19T09:55:55.153Z"
   },
   {
    "duration": 3,
    "start_time": "2022-12-19T09:55:55.164Z"
   },
   {
    "duration": 14,
    "start_time": "2022-12-19T09:55:55.169Z"
   },
   {
    "duration": 29,
    "start_time": "2022-12-19T09:55:55.185Z"
   },
   {
    "duration": 4,
    "start_time": "2022-12-19T09:55:55.217Z"
   },
   {
    "duration": 15,
    "start_time": "2022-12-19T09:55:55.223Z"
   },
   {
    "duration": 5,
    "start_time": "2022-12-19T09:55:55.241Z"
   },
   {
    "duration": 13,
    "start_time": "2022-12-19T09:55:55.248Z"
   },
   {
    "duration": 5,
    "start_time": "2022-12-19T09:55:55.263Z"
   },
   {
    "duration": 26,
    "start_time": "2022-12-19T09:55:55.270Z"
   },
   {
    "duration": 15,
    "start_time": "2022-12-19T09:55:55.316Z"
   },
   {
    "duration": 5,
    "start_time": "2022-12-19T09:55:55.333Z"
   },
   {
    "duration": 12,
    "start_time": "2022-12-19T09:55:55.339Z"
   },
   {
    "duration": 8,
    "start_time": "2022-12-19T09:55:55.353Z"
   },
   {
    "duration": 56,
    "start_time": "2022-12-19T09:55:55.363Z"
   },
   {
    "duration": 10,
    "start_time": "2022-12-19T09:55:55.421Z"
   },
   {
    "duration": 20,
    "start_time": "2022-12-19T09:55:55.432Z"
   },
   {
    "duration": 20,
    "start_time": "2022-12-19T09:55:55.454Z"
   },
   {
    "duration": 10,
    "start_time": "2022-12-19T09:55:55.475Z"
   },
   {
    "duration": 6,
    "start_time": "2022-12-19T09:55:55.487Z"
   },
   {
    "duration": 7,
    "start_time": "2022-12-19T09:56:07.008Z"
   },
   {
    "duration": 32,
    "start_time": "2022-12-19T09:56:45.408Z"
   },
   {
    "duration": 13,
    "start_time": "2022-12-19T10:16:23.699Z"
   },
   {
    "duration": 17,
    "start_time": "2022-12-19T10:16:51.957Z"
   },
   {
    "duration": 137,
    "start_time": "2022-12-19T10:16:57.008Z"
   },
   {
    "duration": 2061,
    "start_time": "2022-12-19T10:16:57.147Z"
   },
   {
    "duration": 15,
    "start_time": "2022-12-19T10:16:59.212Z"
   },
   {
    "duration": 11,
    "start_time": "2022-12-19T10:16:59.230Z"
   },
   {
    "duration": 16,
    "start_time": "2022-12-19T10:16:59.242Z"
   },
   {
    "duration": 26,
    "start_time": "2022-12-19T10:16:59.260Z"
   },
   {
    "duration": 21,
    "start_time": "2022-12-19T10:16:59.288Z"
   },
   {
    "duration": 19,
    "start_time": "2022-12-19T10:16:59.312Z"
   },
   {
    "duration": 15,
    "start_time": "2022-12-19T10:16:59.333Z"
   },
   {
    "duration": 15,
    "start_time": "2022-12-19T10:16:59.351Z"
   },
   {
    "duration": 17,
    "start_time": "2022-12-19T10:16:59.368Z"
   },
   {
    "duration": 14,
    "start_time": "2022-12-19T10:16:59.386Z"
   },
   {
    "duration": 43,
    "start_time": "2022-12-19T10:16:59.401Z"
   },
   {
    "duration": 25,
    "start_time": "2022-12-19T10:16:59.446Z"
   },
   {
    "duration": 15,
    "start_time": "2022-12-19T10:16:59.472Z"
   },
   {
    "duration": 28,
    "start_time": "2022-12-19T10:16:59.489Z"
   },
   {
    "duration": 22,
    "start_time": "2022-12-19T10:16:59.519Z"
   },
   {
    "duration": 21,
    "start_time": "2022-12-19T10:16:59.542Z"
   },
   {
    "duration": 7,
    "start_time": "2022-12-19T10:16:59.565Z"
   },
   {
    "duration": 11,
    "start_time": "2022-12-19T10:16:59.574Z"
   },
   {
    "duration": 17,
    "start_time": "2022-12-19T10:16:59.588Z"
   },
   {
    "duration": 12,
    "start_time": "2022-12-19T10:16:59.607Z"
   },
   {
    "duration": 10,
    "start_time": "2022-12-19T10:22:38.283Z"
   },
   {
    "duration": 201,
    "start_time": "2022-12-19T10:25:15.629Z"
   },
   {
    "duration": 9,
    "start_time": "2022-12-19T10:25:39.910Z"
   },
   {
    "duration": 8,
    "start_time": "2022-12-19T10:26:32.813Z"
   },
   {
    "duration": 9,
    "start_time": "2022-12-19T10:27:08.628Z"
   },
   {
    "duration": 8,
    "start_time": "2022-12-19T10:28:34.109Z"
   },
   {
    "duration": 68,
    "start_time": "2022-12-19T10:34:22.187Z"
   },
   {
    "duration": 79,
    "start_time": "2022-12-19T10:34:40.308Z"
   },
   {
    "duration": 18,
    "start_time": "2022-12-19T10:35:11.956Z"
   },
   {
    "duration": 16,
    "start_time": "2022-12-19T10:35:57.418Z"
   },
   {
    "duration": 25,
    "start_time": "2022-12-19T10:36:34.707Z"
   },
   {
    "duration": 17,
    "start_time": "2022-12-19T10:37:55.227Z"
   },
   {
    "duration": 7,
    "start_time": "2022-12-19T10:38:27.804Z"
   },
   {
    "duration": 6,
    "start_time": "2022-12-19T10:38:41.779Z"
   },
   {
    "duration": 7,
    "start_time": "2022-12-19T10:55:32.961Z"
   },
   {
    "duration": 9,
    "start_time": "2022-12-19T10:55:43.912Z"
   },
   {
    "duration": 9,
    "start_time": "2022-12-19T10:55:51.729Z"
   },
   {
    "duration": 8,
    "start_time": "2022-12-19T10:56:06.121Z"
   },
   {
    "duration": 226,
    "start_time": "2022-12-19T11:02:28.545Z"
   },
   {
    "duration": 297,
    "start_time": "2022-12-19T11:02:36.881Z"
   },
   {
    "duration": 114,
    "start_time": "2022-12-19T11:02:45.681Z"
   },
   {
    "duration": 129,
    "start_time": "2022-12-19T11:03:07.737Z"
   },
   {
    "duration": 125,
    "start_time": "2022-12-19T11:03:18.206Z"
   },
   {
    "duration": 1484,
    "start_time": "2022-12-19T11:03:24.224Z"
   },
   {
    "duration": 119,
    "start_time": "2022-12-19T11:03:32.002Z"
   },
   {
    "duration": 112,
    "start_time": "2022-12-19T11:03:39.841Z"
   },
   {
    "duration": 117,
    "start_time": "2022-12-19T11:04:02.624Z"
   },
   {
    "duration": 244,
    "start_time": "2022-12-19T11:04:08.178Z"
   },
   {
    "duration": 224,
    "start_time": "2022-12-19T11:04:14.800Z"
   },
   {
    "duration": 414,
    "start_time": "2022-12-19T11:04:19.019Z"
   },
   {
    "duration": 179,
    "start_time": "2022-12-19T11:04:40.010Z"
   },
   {
    "duration": 181,
    "start_time": "2022-12-19T11:04:54.018Z"
   },
   {
    "duration": 143,
    "start_time": "2022-12-19T11:05:18.360Z"
   },
   {
    "duration": 736,
    "start_time": "2022-12-20T07:52:38.120Z"
   },
   {
    "duration": 2199,
    "start_time": "2022-12-20T07:52:38.859Z"
   },
   {
    "duration": 20,
    "start_time": "2022-12-20T07:52:41.060Z"
   },
   {
    "duration": 16,
    "start_time": "2022-12-20T07:52:41.082Z"
   },
   {
    "duration": 3,
    "start_time": "2022-12-20T07:52:41.100Z"
   },
   {
    "duration": 24,
    "start_time": "2022-12-20T07:52:41.105Z"
   },
   {
    "duration": 4,
    "start_time": "2022-12-20T07:52:41.130Z"
   },
   {
    "duration": 9,
    "start_time": "2022-12-20T07:52:41.136Z"
   },
   {
    "duration": 17,
    "start_time": "2022-12-20T07:52:41.146Z"
   },
   {
    "duration": 5,
    "start_time": "2022-12-20T07:52:41.164Z"
   },
   {
    "duration": 28,
    "start_time": "2022-12-20T07:52:41.171Z"
   },
   {
    "duration": 3,
    "start_time": "2022-12-20T07:52:41.201Z"
   },
   {
    "duration": 19,
    "start_time": "2022-12-20T07:52:41.205Z"
   },
   {
    "duration": 15,
    "start_time": "2022-12-20T07:52:41.227Z"
   },
   {
    "duration": 5,
    "start_time": "2022-12-20T07:52:41.243Z"
   },
   {
    "duration": 13,
    "start_time": "2022-12-20T07:52:41.249Z"
   },
   {
    "duration": 38,
    "start_time": "2022-12-20T07:52:41.264Z"
   },
   {
    "duration": 14,
    "start_time": "2022-12-20T07:52:41.303Z"
   },
   {
    "duration": 8,
    "start_time": "2022-12-20T07:52:41.319Z"
   },
   {
    "duration": 12,
    "start_time": "2022-12-20T07:52:41.329Z"
   },
   {
    "duration": 12,
    "start_time": "2022-12-20T07:52:41.343Z"
   },
   {
    "duration": 40,
    "start_time": "2022-12-20T07:52:41.357Z"
   },
   {
    "duration": 4,
    "start_time": "2022-12-20T07:52:41.400Z"
   },
   {
    "duration": 13,
    "start_time": "2022-12-20T07:52:41.406Z"
   },
   {
    "duration": 12,
    "start_time": "2022-12-20T07:52:41.420Z"
   },
   {
    "duration": 166,
    "start_time": "2022-12-20T07:52:41.434Z"
   },
   {
    "duration": 6,
    "start_time": "2022-12-20T07:52:53.537Z"
   },
   {
    "duration": 6,
    "start_time": "2022-12-20T07:53:08.250Z"
   },
   {
    "duration": 6,
    "start_time": "2022-12-20T07:53:14.145Z"
   },
   {
    "duration": 7,
    "start_time": "2022-12-20T07:53:18.034Z"
   },
   {
    "duration": 7,
    "start_time": "2022-12-20T07:53:43.498Z"
   },
   {
    "duration": 107,
    "start_time": "2022-12-20T07:54:49.706Z"
   },
   {
    "duration": 13,
    "start_time": "2022-12-20T07:55:25.066Z"
   },
   {
    "duration": 35,
    "start_time": "2022-12-20T07:55:48.674Z"
   },
   {
    "duration": 7,
    "start_time": "2022-12-20T07:55:54.617Z"
   },
   {
    "duration": 8,
    "start_time": "2022-12-20T08:05:15.238Z"
   },
   {
    "duration": 133,
    "start_time": "2022-12-20T08:05:33.153Z"
   },
   {
    "duration": 124,
    "start_time": "2022-12-20T08:05:37.561Z"
   },
   {
    "duration": 227,
    "start_time": "2022-12-20T08:22:44.660Z"
   },
   {
    "duration": 232,
    "start_time": "2022-12-20T08:24:16.470Z"
   },
   {
    "duration": 8,
    "start_time": "2022-12-20T08:24:56.823Z"
   },
   {
    "duration": 9,
    "start_time": "2022-12-20T08:25:20.407Z"
   },
   {
    "duration": 9,
    "start_time": "2022-12-20T08:25:35.478Z"
   },
   {
    "duration": 5,
    "start_time": "2022-12-20T08:27:17.158Z"
   },
   {
    "duration": 10,
    "start_time": "2022-12-20T08:27:33.894Z"
   },
   {
    "duration": 594,
    "start_time": "2022-12-20T08:27:38.148Z"
   },
   {
    "duration": 155,
    "start_time": "2022-12-20T08:27:58.542Z"
   },
   {
    "duration": 1803,
    "start_time": "2022-12-20T08:27:58.698Z"
   },
   {
    "duration": 18,
    "start_time": "2022-12-20T08:28:00.503Z"
   },
   {
    "duration": 20,
    "start_time": "2022-12-20T08:28:00.523Z"
   },
   {
    "duration": 14,
    "start_time": "2022-12-20T08:28:00.545Z"
   },
   {
    "duration": 41,
    "start_time": "2022-12-20T08:28:00.561Z"
   },
   {
    "duration": 45,
    "start_time": "2022-12-20T08:28:00.605Z"
   },
   {
    "duration": 31,
    "start_time": "2022-12-20T08:28:00.652Z"
   },
   {
    "duration": 56,
    "start_time": "2022-12-20T08:28:00.684Z"
   },
   {
    "duration": 27,
    "start_time": "2022-12-20T08:28:00.742Z"
   },
   {
    "duration": 46,
    "start_time": "2022-12-20T08:28:00.771Z"
   },
   {
    "duration": 15,
    "start_time": "2022-12-20T08:28:00.819Z"
   },
   {
    "duration": 33,
    "start_time": "2022-12-20T08:28:00.836Z"
   },
   {
    "duration": 34,
    "start_time": "2022-12-20T08:28:00.871Z"
   },
   {
    "duration": 9,
    "start_time": "2022-12-20T08:28:00.907Z"
   },
   {
    "duration": 32,
    "start_time": "2022-12-20T08:28:00.917Z"
   },
   {
    "duration": 24,
    "start_time": "2022-12-20T08:28:00.951Z"
   },
   {
    "duration": 43,
    "start_time": "2022-12-20T08:28:00.977Z"
   },
   {
    "duration": 29,
    "start_time": "2022-12-20T08:28:01.021Z"
   },
   {
    "duration": 27,
    "start_time": "2022-12-20T08:28:01.052Z"
   },
   {
    "duration": 45,
    "start_time": "2022-12-20T08:28:01.081Z"
   },
   {
    "duration": 91,
    "start_time": "2022-12-20T08:28:01.128Z"
   },
   {
    "duration": 44,
    "start_time": "2022-12-20T08:28:01.220Z"
   },
   {
    "duration": 39,
    "start_time": "2022-12-20T08:28:01.266Z"
   },
   {
    "duration": 28,
    "start_time": "2022-12-20T08:28:01.307Z"
   },
   {
    "duration": 164,
    "start_time": "2022-12-20T08:28:01.337Z"
   },
   {
    "duration": 8,
    "start_time": "2022-12-20T08:28:01.503Z"
   },
   {
    "duration": 626,
    "start_time": "2022-12-20T08:28:01.512Z"
   },
   {
    "duration": 611,
    "start_time": "2022-12-20T08:28:10.174Z"
   },
   {
    "duration": 528,
    "start_time": "2022-12-20T08:28:13.542Z"
   },
   {
    "duration": 134,
    "start_time": "2022-12-20T08:28:33.848Z"
   },
   {
    "duration": 2013,
    "start_time": "2022-12-20T08:28:33.984Z"
   },
   {
    "duration": 19,
    "start_time": "2022-12-20T08:28:35.999Z"
   },
   {
    "duration": 21,
    "start_time": "2022-12-20T08:28:36.021Z"
   },
   {
    "duration": 12,
    "start_time": "2022-12-20T08:28:36.044Z"
   },
   {
    "duration": 24,
    "start_time": "2022-12-20T08:28:36.057Z"
   },
   {
    "duration": 4,
    "start_time": "2022-12-20T08:28:36.096Z"
   },
   {
    "duration": 13,
    "start_time": "2022-12-20T08:28:36.102Z"
   },
   {
    "duration": 18,
    "start_time": "2022-12-20T08:28:36.117Z"
   },
   {
    "duration": 8,
    "start_time": "2022-12-20T08:28:36.138Z"
   },
   {
    "duration": 22,
    "start_time": "2022-12-20T08:28:36.147Z"
   },
   {
    "duration": 10,
    "start_time": "2022-12-20T08:28:36.171Z"
   },
   {
    "duration": 22,
    "start_time": "2022-12-20T08:28:36.183Z"
   },
   {
    "duration": 20,
    "start_time": "2022-12-20T08:28:36.207Z"
   },
   {
    "duration": 5,
    "start_time": "2022-12-20T08:28:36.229Z"
   },
   {
    "duration": 14,
    "start_time": "2022-12-20T08:28:36.236Z"
   },
   {
    "duration": 9,
    "start_time": "2022-12-20T08:28:36.252Z"
   },
   {
    "duration": 45,
    "start_time": "2022-12-20T08:28:36.263Z"
   },
   {
    "duration": 10,
    "start_time": "2022-12-20T08:28:36.311Z"
   },
   {
    "duration": 15,
    "start_time": "2022-12-20T08:28:36.323Z"
   },
   {
    "duration": 18,
    "start_time": "2022-12-20T08:28:36.340Z"
   },
   {
    "duration": 70,
    "start_time": "2022-12-20T08:28:36.360Z"
   },
   {
    "duration": 8,
    "start_time": "2022-12-20T08:28:36.432Z"
   },
   {
    "duration": 11,
    "start_time": "2022-12-20T08:28:36.442Z"
   },
   {
    "duration": 10,
    "start_time": "2022-12-20T08:28:36.454Z"
   },
   {
    "duration": 151,
    "start_time": "2022-12-20T08:28:36.465Z"
   },
   {
    "duration": 7,
    "start_time": "2022-12-20T08:28:36.618Z"
   },
   {
    "duration": 8,
    "start_time": "2022-12-20T08:28:36.627Z"
   },
   {
    "duration": 26,
    "start_time": "2022-12-20T08:31:08.894Z"
   },
   {
    "duration": 9,
    "start_time": "2022-12-20T08:31:39.120Z"
   },
   {
    "duration": 9,
    "start_time": "2022-12-20T08:31:44.309Z"
   },
   {
    "duration": 6,
    "start_time": "2022-12-20T08:34:27.884Z"
   },
   {
    "duration": 567,
    "start_time": "2022-12-20T08:34:30.172Z"
   },
   {
    "duration": 545,
    "start_time": "2022-12-20T08:34:40.461Z"
   },
   {
    "duration": 619,
    "start_time": "2022-12-20T08:34:44.381Z"
   },
   {
    "duration": 589,
    "start_time": "2022-12-20T08:35:00.804Z"
   },
   {
    "duration": 120,
    "start_time": "2022-12-20T08:35:13.069Z"
   },
   {
    "duration": 2035,
    "start_time": "2022-12-20T08:35:13.192Z"
   },
   {
    "duration": 16,
    "start_time": "2022-12-20T08:35:15.228Z"
   },
   {
    "duration": 22,
    "start_time": "2022-12-20T08:35:15.246Z"
   },
   {
    "duration": 15,
    "start_time": "2022-12-20T08:35:15.270Z"
   },
   {
    "duration": 20,
    "start_time": "2022-12-20T08:35:15.286Z"
   },
   {
    "duration": 3,
    "start_time": "2022-12-20T08:35:15.308Z"
   },
   {
    "duration": 5,
    "start_time": "2022-12-20T08:35:15.313Z"
   },
   {
    "duration": 9,
    "start_time": "2022-12-20T08:35:15.319Z"
   },
   {
    "duration": 4,
    "start_time": "2022-12-20T08:35:15.330Z"
   },
   {
    "duration": 11,
    "start_time": "2022-12-20T08:35:15.335Z"
   },
   {
    "duration": 2,
    "start_time": "2022-12-20T08:35:15.348Z"
   },
   {
    "duration": 13,
    "start_time": "2022-12-20T08:35:15.351Z"
   },
   {
    "duration": 14,
    "start_time": "2022-12-20T08:35:15.397Z"
   },
   {
    "duration": 5,
    "start_time": "2022-12-20T08:35:15.413Z"
   },
   {
    "duration": 29,
    "start_time": "2022-12-20T08:35:15.419Z"
   },
   {
    "duration": 22,
    "start_time": "2022-12-20T08:35:15.450Z"
   },
   {
    "duration": 77,
    "start_time": "2022-12-20T08:35:15.474Z"
   },
   {
    "duration": 23,
    "start_time": "2022-12-20T08:35:15.552Z"
   },
   {
    "duration": 34,
    "start_time": "2022-12-20T08:35:15.577Z"
   },
   {
    "duration": 40,
    "start_time": "2022-12-20T08:35:15.613Z"
   },
   {
    "duration": 85,
    "start_time": "2022-12-20T08:35:15.654Z"
   },
   {
    "duration": 9,
    "start_time": "2022-12-20T08:35:15.741Z"
   },
   {
    "duration": 40,
    "start_time": "2022-12-20T08:35:15.751Z"
   },
   {
    "duration": 21,
    "start_time": "2022-12-20T08:35:15.793Z"
   },
   {
    "duration": 151,
    "start_time": "2022-12-20T08:35:15.816Z"
   },
   {
    "duration": 8,
    "start_time": "2022-12-20T08:35:15.969Z"
   },
   {
    "duration": 29,
    "start_time": "2022-12-20T08:35:15.979Z"
   },
   {
    "duration": 38,
    "start_time": "2022-12-20T08:38:47.165Z"
   },
   {
    "duration": 44,
    "start_time": "2022-12-20T08:39:36.436Z"
   },
   {
    "duration": 13,
    "start_time": "2022-12-20T08:42:36.604Z"
   },
   {
    "duration": 12,
    "start_time": "2022-12-20T08:45:51.859Z"
   },
   {
    "duration": 20,
    "start_time": "2022-12-20T08:50:47.610Z"
   },
   {
    "duration": 8,
    "start_time": "2022-12-20T08:50:50.984Z"
   },
   {
    "duration": 17,
    "start_time": "2022-12-20T08:51:42.081Z"
   },
   {
    "duration": 10,
    "start_time": "2022-12-20T08:51:43.936Z"
   },
   {
    "duration": 9,
    "start_time": "2022-12-20T08:51:52.017Z"
   },
   {
    "duration": 9,
    "start_time": "2022-12-20T08:52:03.601Z"
   },
   {
    "duration": 7,
    "start_time": "2022-12-20T08:52:09.296Z"
   },
   {
    "duration": 7,
    "start_time": "2022-12-20T08:52:12.676Z"
   },
   {
    "duration": 17,
    "start_time": "2022-12-20T09:07:10.990Z"
   },
   {
    "duration": 3,
    "start_time": "2022-12-20T09:07:56.302Z"
   },
   {
    "duration": 5,
    "start_time": "2022-12-20T09:08:06.542Z"
   },
   {
    "duration": 6,
    "start_time": "2022-12-20T09:19:50.891Z"
   },
   {
    "duration": 8,
    "start_time": "2022-12-20T09:20:04.539Z"
   },
   {
    "duration": 8,
    "start_time": "2022-12-20T09:20:30.802Z"
   },
   {
    "duration": 10,
    "start_time": "2022-12-20T09:21:01.372Z"
   },
   {
    "duration": 6,
    "start_time": "2022-12-20T09:22:05.402Z"
   },
   {
    "duration": 8,
    "start_time": "2022-12-20T09:22:13.545Z"
   },
   {
    "duration": 9,
    "start_time": "2022-12-20T09:23:16.297Z"
   },
   {
    "duration": 10,
    "start_time": "2022-12-20T09:36:41.885Z"
   },
   {
    "duration": 11,
    "start_time": "2022-12-20T09:36:55.212Z"
   },
   {
    "duration": 317,
    "start_time": "2022-12-20T09:38:17.387Z"
   },
   {
    "duration": 872,
    "start_time": "2022-12-20T09:39:00.676Z"
   },
   {
    "duration": 447,
    "start_time": "2022-12-20T09:39:37.291Z"
   },
   {
    "duration": 638,
    "start_time": "2022-12-20T09:39:44.349Z"
   },
   {
    "duration": 349,
    "start_time": "2022-12-20T09:42:27.995Z"
   },
   {
    "duration": 745,
    "start_time": "2022-12-20T09:47:05.835Z"
   },
   {
    "duration": 8,
    "start_time": "2022-12-20T09:47:29.377Z"
   },
   {
    "duration": 5,
    "start_time": "2022-12-20T09:51:28.081Z"
   },
   {
    "duration": 10,
    "start_time": "2022-12-20T09:51:34.824Z"
   },
   {
    "duration": 5,
    "start_time": "2022-12-20T09:51:42.888Z"
   },
   {
    "duration": 9,
    "start_time": "2022-12-20T09:51:45.761Z"
   },
   {
    "duration": 9,
    "start_time": "2022-12-20T09:51:50.440Z"
   },
   {
    "duration": 122,
    "start_time": "2022-12-20T09:52:07.603Z"
   },
   {
    "duration": 1716,
    "start_time": "2022-12-20T09:52:07.727Z"
   },
   {
    "duration": 14,
    "start_time": "2022-12-20T09:52:09.444Z"
   },
   {
    "duration": 4,
    "start_time": "2022-12-20T09:52:09.460Z"
   },
   {
    "duration": 32,
    "start_time": "2022-12-20T09:52:09.465Z"
   },
   {
    "duration": 3,
    "start_time": "2022-12-20T09:52:09.499Z"
   },
   {
    "duration": 19,
    "start_time": "2022-12-20T09:52:09.503Z"
   },
   {
    "duration": 17,
    "start_time": "2022-12-20T09:52:09.523Z"
   },
   {
    "duration": 10,
    "start_time": "2022-12-20T09:52:09.541Z"
   },
   {
    "duration": 10,
    "start_time": "2022-12-20T09:52:09.554Z"
   },
   {
    "duration": 4,
    "start_time": "2022-12-20T09:52:09.565Z"
   },
   {
    "duration": 169,
    "start_time": "2022-12-20T09:52:09.570Z"
   },
   {
    "duration": 2,
    "start_time": "2022-12-20T09:52:09.741Z"
   },
   {
    "duration": 15,
    "start_time": "2022-12-20T09:52:09.744Z"
   },
   {
    "duration": 13,
    "start_time": "2022-12-20T09:52:09.760Z"
   },
   {
    "duration": 5,
    "start_time": "2022-12-20T09:52:09.774Z"
   },
   {
    "duration": 9,
    "start_time": "2022-12-20T09:52:09.798Z"
   },
   {
    "duration": 7,
    "start_time": "2022-12-20T09:52:09.808Z"
   },
   {
    "duration": 14,
    "start_time": "2022-12-20T09:52:09.817Z"
   },
   {
    "duration": 7,
    "start_time": "2022-12-20T09:52:09.833Z"
   },
   {
    "duration": 8,
    "start_time": "2022-12-20T09:52:09.842Z"
   },
   {
    "duration": 10,
    "start_time": "2022-12-20T09:52:09.851Z"
   },
   {
    "duration": 58,
    "start_time": "2022-12-20T09:52:09.862Z"
   },
   {
    "duration": 6,
    "start_time": "2022-12-20T09:52:09.922Z"
   },
   {
    "duration": 19,
    "start_time": "2022-12-20T09:52:09.930Z"
   },
   {
    "duration": 9,
    "start_time": "2022-12-20T09:52:09.951Z"
   },
   {
    "duration": 168,
    "start_time": "2022-12-20T09:52:09.961Z"
   },
   {
    "duration": 17,
    "start_time": "2022-12-20T09:52:10.132Z"
   },
   {
    "duration": 7,
    "start_time": "2022-12-20T09:52:10.151Z"
   },
   {
    "duration": 4,
    "start_time": "2022-12-20T09:52:10.159Z"
   },
   {
    "duration": 34,
    "start_time": "2022-12-20T09:52:10.164Z"
   },
   {
    "duration": 8,
    "start_time": "2022-12-20T09:52:10.200Z"
   },
   {
    "duration": 26,
    "start_time": "2022-12-20T09:52:10.211Z"
   },
   {
    "duration": 313,
    "start_time": "2022-12-20T09:52:10.238Z"
   },
   {
    "duration": 5,
    "start_time": "2022-12-20T09:52:10.553Z"
   },
   {
    "duration": 42,
    "start_time": "2022-12-20T09:57:36.543Z"
   },
   {
    "duration": 6,
    "start_time": "2022-12-20T09:58:17.584Z"
   },
   {
    "duration": 7,
    "start_time": "2022-12-20T09:58:31.191Z"
   },
   {
    "duration": 172,
    "start_time": "2022-12-20T10:00:25.319Z"
   },
   {
    "duration": 118,
    "start_time": "2022-12-20T10:00:37.750Z"
   },
   {
    "duration": 126,
    "start_time": "2022-12-20T10:03:08.558Z"
   },
   {
    "duration": 101,
    "start_time": "2022-12-20T10:03:25.158Z"
   },
   {
    "duration": 218,
    "start_time": "2022-12-20T10:03:38.598Z"
   },
   {
    "duration": 218,
    "start_time": "2022-12-20T10:04:03.718Z"
   },
   {
    "duration": 7,
    "start_time": "2022-12-20T10:07:34.300Z"
   },
   {
    "duration": 8,
    "start_time": "2022-12-20T10:08:32.333Z"
   },
   {
    "duration": 8,
    "start_time": "2022-12-20T10:09:14.284Z"
   },
   {
    "duration": 207,
    "start_time": "2022-12-20T10:09:22.756Z"
   },
   {
    "duration": 248,
    "start_time": "2022-12-20T10:09:29.884Z"
   },
   {
    "duration": 9,
    "start_time": "2022-12-20T10:11:15.470Z"
   },
   {
    "duration": 231,
    "start_time": "2022-12-20T10:11:34.124Z"
   },
   {
    "duration": 231,
    "start_time": "2022-12-20T10:11:41.820Z"
   },
   {
    "duration": 12,
    "start_time": "2022-12-20T10:13:21.380Z"
   },
   {
    "duration": 478,
    "start_time": "2022-12-20T10:13:36.092Z"
   },
   {
    "duration": 239,
    "start_time": "2022-12-20T10:13:51.595Z"
   },
   {
    "duration": 17,
    "start_time": "2022-12-20T10:15:33.948Z"
   },
   {
    "duration": 8,
    "start_time": "2022-12-20T10:16:03.675Z"
   },
   {
    "duration": 204,
    "start_time": "2022-12-20T10:16:27.573Z"
   },
   {
    "duration": 239,
    "start_time": "2022-12-20T10:17:03.194Z"
   },
   {
    "duration": 4,
    "start_time": "2022-12-20T10:18:50.379Z"
   },
   {
    "duration": 8,
    "start_time": "2022-12-20T10:18:51.474Z"
   },
   {
    "duration": 234,
    "start_time": "2022-12-20T10:18:56.795Z"
   },
   {
    "duration": 133,
    "start_time": "2022-12-20T10:19:05.176Z"
   },
   {
    "duration": 1741,
    "start_time": "2022-12-20T10:19:05.311Z"
   },
   {
    "duration": 13,
    "start_time": "2022-12-20T10:19:07.054Z"
   },
   {
    "duration": 27,
    "start_time": "2022-12-20T10:19:07.068Z"
   },
   {
    "duration": 26,
    "start_time": "2022-12-20T10:19:07.097Z"
   },
   {
    "duration": 6,
    "start_time": "2022-12-20T10:19:07.125Z"
   },
   {
    "duration": 28,
    "start_time": "2022-12-20T10:19:07.133Z"
   },
   {
    "duration": 23,
    "start_time": "2022-12-20T10:19:07.163Z"
   },
   {
    "duration": 17,
    "start_time": "2022-12-20T10:19:07.188Z"
   },
   {
    "duration": 21,
    "start_time": "2022-12-20T10:19:07.206Z"
   },
   {
    "duration": 4,
    "start_time": "2022-12-20T10:19:07.229Z"
   },
   {
    "duration": 15,
    "start_time": "2022-12-20T10:19:07.235Z"
   },
   {
    "duration": 5,
    "start_time": "2022-12-20T10:19:07.252Z"
   },
   {
    "duration": 19,
    "start_time": "2022-12-20T10:19:07.260Z"
   },
   {
    "duration": 14,
    "start_time": "2022-12-20T10:19:07.281Z"
   },
   {
    "duration": 4,
    "start_time": "2022-12-20T10:19:07.296Z"
   },
   {
    "duration": 13,
    "start_time": "2022-12-20T10:19:07.302Z"
   },
   {
    "duration": 19,
    "start_time": "2022-12-20T10:19:07.316Z"
   },
   {
    "duration": 18,
    "start_time": "2022-12-20T10:19:07.336Z"
   },
   {
    "duration": 25,
    "start_time": "2022-12-20T10:19:07.356Z"
   },
   {
    "duration": 13,
    "start_time": "2022-12-20T10:19:07.382Z"
   },
   {
    "duration": 19,
    "start_time": "2022-12-20T10:19:07.396Z"
   },
   {
    "duration": 31,
    "start_time": "2022-12-20T10:19:07.416Z"
   },
   {
    "duration": 12,
    "start_time": "2022-12-20T10:19:07.448Z"
   },
   {
    "duration": 15,
    "start_time": "2022-12-20T10:19:07.462Z"
   },
   {
    "duration": 13,
    "start_time": "2022-12-20T10:19:07.479Z"
   },
   {
    "duration": 130,
    "start_time": "2022-12-20T10:19:07.494Z"
   },
   {
    "duration": 17,
    "start_time": "2022-12-20T10:19:07.626Z"
   },
   {
    "duration": 7,
    "start_time": "2022-12-20T10:19:07.645Z"
   },
   {
    "duration": 5,
    "start_time": "2022-12-20T10:19:07.654Z"
   },
   {
    "duration": 9,
    "start_time": "2022-12-20T10:19:07.661Z"
   },
   {
    "duration": 27,
    "start_time": "2022-12-20T10:19:07.671Z"
   },
   {
    "duration": 8,
    "start_time": "2022-12-20T10:19:07.699Z"
   },
   {
    "duration": 519,
    "start_time": "2022-12-20T10:19:07.708Z"
   },
   {
    "duration": 6,
    "start_time": "2022-12-20T10:19:08.229Z"
   },
   {
    "duration": 17,
    "start_time": "2022-12-20T10:19:08.237Z"
   },
   {
    "duration": 221,
    "start_time": "2022-12-20T10:19:08.255Z"
   },
   {
    "duration": 9,
    "start_time": "2022-12-20T10:19:08.478Z"
   },
   {
    "duration": 228,
    "start_time": "2022-12-20T10:19:08.488Z"
   },
   {
    "duration": 8,
    "start_time": "2022-12-20T10:19:08.718Z"
   },
   {
    "duration": 230,
    "start_time": "2022-12-20T10:19:08.730Z"
   },
   {
    "duration": 5,
    "start_time": "2022-12-20T10:19:08.962Z"
   },
   {
    "duration": 12,
    "start_time": "2022-12-20T10:19:08.968Z"
   },
   {
    "duration": 251,
    "start_time": "2022-12-20T10:19:08.982Z"
   },
   {
    "duration": 14,
    "start_time": "2022-12-20T10:19:09.234Z"
   },
   {
    "duration": 5,
    "start_time": "2022-12-20T10:19:30.651Z"
   },
   {
    "duration": 128,
    "start_time": "2022-12-20T10:20:02.654Z"
   },
   {
    "duration": 1803,
    "start_time": "2022-12-20T10:20:02.783Z"
   },
   {
    "duration": 18,
    "start_time": "2022-12-20T10:20:04.587Z"
   },
   {
    "duration": 37,
    "start_time": "2022-12-20T10:20:04.607Z"
   },
   {
    "duration": 58,
    "start_time": "2022-12-20T10:20:04.647Z"
   },
   {
    "duration": 41,
    "start_time": "2022-12-20T10:20:04.707Z"
   },
   {
    "duration": 60,
    "start_time": "2022-12-20T10:20:04.750Z"
   },
   {
    "duration": 37,
    "start_time": "2022-12-20T10:20:04.812Z"
   },
   {
    "duration": 41,
    "start_time": "2022-12-20T10:20:04.852Z"
   },
   {
    "duration": 74,
    "start_time": "2022-12-20T10:20:04.897Z"
   },
   {
    "duration": 25,
    "start_time": "2022-12-20T10:20:04.973Z"
   },
   {
    "duration": 47,
    "start_time": "2022-12-20T10:20:04.999Z"
   },
   {
    "duration": 38,
    "start_time": "2022-12-20T10:20:05.048Z"
   },
   {
    "duration": 57,
    "start_time": "2022-12-20T10:20:05.087Z"
   },
   {
    "duration": 33,
    "start_time": "2022-12-20T10:20:05.146Z"
   },
   {
    "duration": 25,
    "start_time": "2022-12-20T10:20:05.180Z"
   },
   {
    "duration": 47,
    "start_time": "2022-12-20T10:20:05.206Z"
   },
   {
    "duration": 35,
    "start_time": "2022-12-20T10:20:05.255Z"
   },
   {
    "duration": 55,
    "start_time": "2022-12-20T10:20:05.291Z"
   },
   {
    "duration": 35,
    "start_time": "2022-12-20T10:20:05.348Z"
   },
   {
    "duration": 37,
    "start_time": "2022-12-20T10:20:05.386Z"
   },
   {
    "duration": 36,
    "start_time": "2022-12-20T10:20:05.424Z"
   },
   {
    "duration": 39,
    "start_time": "2022-12-20T10:20:05.462Z"
   },
   {
    "duration": 7,
    "start_time": "2022-12-20T10:20:05.502Z"
   },
   {
    "duration": 42,
    "start_time": "2022-12-20T10:20:05.510Z"
   },
   {
    "duration": 34,
    "start_time": "2022-12-20T10:20:05.553Z"
   },
   {
    "duration": 177,
    "start_time": "2022-12-20T10:20:05.589Z"
   },
   {
    "duration": 20,
    "start_time": "2022-12-20T10:20:05.770Z"
   },
   {
    "duration": 23,
    "start_time": "2022-12-20T10:20:05.798Z"
   },
   {
    "duration": 43,
    "start_time": "2022-12-20T10:20:05.823Z"
   },
   {
    "duration": 47,
    "start_time": "2022-12-20T10:20:05.868Z"
   },
   {
    "duration": 72,
    "start_time": "2022-12-20T10:20:05.917Z"
   },
   {
    "duration": 47,
    "start_time": "2022-12-20T10:20:05.990Z"
   },
   {
    "duration": 626,
    "start_time": "2022-12-20T10:20:06.039Z"
   },
   {
    "duration": 6,
    "start_time": "2022-12-20T10:20:06.667Z"
   },
   {
    "duration": 45,
    "start_time": "2022-12-20T10:20:06.675Z"
   },
   {
    "duration": 255,
    "start_time": "2022-12-20T10:20:06.722Z"
   },
   {
    "duration": 10,
    "start_time": "2022-12-20T10:20:06.978Z"
   },
   {
    "duration": 253,
    "start_time": "2022-12-20T10:20:06.998Z"
   },
   {
    "duration": 8,
    "start_time": "2022-12-20T10:20:07.253Z"
   },
   {
    "duration": 249,
    "start_time": "2022-12-20T10:20:07.262Z"
   },
   {
    "duration": 6,
    "start_time": "2022-12-20T10:20:07.512Z"
   },
   {
    "duration": 30,
    "start_time": "2022-12-20T10:20:07.519Z"
   },
   {
    "duration": 277,
    "start_time": "2022-12-20T10:20:07.551Z"
   },
   {
    "duration": 15,
    "start_time": "2022-12-20T10:20:07.829Z"
   },
   {
    "duration": 242,
    "start_time": "2022-12-20T10:20:45.490Z"
   },
   {
    "duration": 212,
    "start_time": "2022-12-20T10:20:51.082Z"
   },
   {
    "duration": 207,
    "start_time": "2022-12-20T10:20:55.706Z"
   },
   {
    "duration": 230,
    "start_time": "2022-12-20T10:21:00.682Z"
   },
   {
    "duration": 249,
    "start_time": "2022-12-20T10:21:27.370Z"
   },
   {
    "duration": 4,
    "start_time": "2022-12-20T10:24:36.617Z"
   },
   {
    "duration": 229,
    "start_time": "2022-12-20T10:24:47.129Z"
   },
   {
    "duration": 242,
    "start_time": "2022-12-20T10:26:00.537Z"
   },
   {
    "duration": 133,
    "start_time": "2022-12-20T10:26:08.185Z"
   },
   {
    "duration": 181,
    "start_time": "2022-12-20T10:26:24.641Z"
   },
   {
    "duration": 131,
    "start_time": "2022-12-20T10:26:49.338Z"
   },
   {
    "duration": 124,
    "start_time": "2022-12-20T10:27:16.217Z"
   },
   {
    "duration": 265,
    "start_time": "2022-12-20T10:27:32.937Z"
   },
   {
    "duration": 165,
    "start_time": "2022-12-20T10:27:39.780Z"
   },
   {
    "duration": 9,
    "start_time": "2022-12-20T10:28:17.954Z"
   },
   {
    "duration": 9,
    "start_time": "2022-12-20T10:31:01.313Z"
   },
   {
    "duration": 156,
    "start_time": "2022-12-20T10:31:19.971Z"
   },
   {
    "duration": 9,
    "start_time": "2022-12-20T10:33:10.321Z"
   },
   {
    "duration": 130,
    "start_time": "2022-12-20T10:33:27.432Z"
   },
   {
    "duration": 569,
    "start_time": "2022-12-20T10:33:37.280Z"
   },
   {
    "duration": 232,
    "start_time": "2022-12-20T10:34:04.114Z"
   },
   {
    "duration": 225,
    "start_time": "2022-12-20T10:34:44.580Z"
   },
   {
    "duration": 222,
    "start_time": "2022-12-20T10:34:48.801Z"
   },
   {
    "duration": 8,
    "start_time": "2022-12-20T10:35:38.441Z"
   },
   {
    "duration": 219,
    "start_time": "2022-12-20T10:36:09.424Z"
   },
   {
    "duration": 226,
    "start_time": "2022-12-20T10:36:15.899Z"
   },
   {
    "duration": 114,
    "start_time": "2022-12-20T10:36:21.273Z"
   },
   {
    "duration": 8,
    "start_time": "2022-12-20T10:38:23.675Z"
   },
   {
    "duration": 121,
    "start_time": "2022-12-20T10:38:41.511Z"
   },
   {
    "duration": 111,
    "start_time": "2022-12-20T10:38:47.090Z"
   },
   {
    "duration": 128,
    "start_time": "2022-12-20T10:38:51.783Z"
   },
   {
    "duration": 146,
    "start_time": "2022-12-20T10:39:54.231Z"
   },
   {
    "duration": 148,
    "start_time": "2022-12-20T10:40:02.802Z"
   },
   {
    "duration": 10,
    "start_time": "2022-12-20T10:41:12.874Z"
   },
   {
    "duration": 165,
    "start_time": "2022-12-20T10:41:31.919Z"
   },
   {
    "duration": 203,
    "start_time": "2022-12-20T10:41:36.919Z"
   },
   {
    "duration": 176,
    "start_time": "2022-12-20T10:41:41.382Z"
   },
   {
    "duration": 12,
    "start_time": "2022-12-20T10:42:30.480Z"
   },
   {
    "duration": 170,
    "start_time": "2022-12-20T10:42:57.743Z"
   },
   {
    "duration": 302,
    "start_time": "2022-12-20T10:43:04.703Z"
   },
   {
    "duration": 11,
    "start_time": "2022-12-20T10:44:10.159Z"
   },
   {
    "duration": 230,
    "start_time": "2022-12-20T10:44:30.535Z"
   },
   {
    "duration": 263,
    "start_time": "2022-12-20T10:44:43.599Z"
   },
   {
    "duration": 218,
    "start_time": "2022-12-20T10:44:55.542Z"
   },
   {
    "duration": 10,
    "start_time": "2022-12-20T10:46:19.526Z"
   },
   {
    "duration": 184,
    "start_time": "2022-12-20T10:46:46.502Z"
   },
   {
    "duration": 143,
    "start_time": "2022-12-20T10:46:55.926Z"
   },
   {
    "duration": 123,
    "start_time": "2022-12-20T10:47:28.654Z"
   },
   {
    "duration": 143,
    "start_time": "2022-12-20T10:47:38.918Z"
   },
   {
    "duration": 116,
    "start_time": "2022-12-20T10:48:02.926Z"
   },
   {
    "duration": 162,
    "start_time": "2022-12-20T10:48:16.278Z"
   },
   {
    "duration": 125,
    "start_time": "2022-12-20T10:48:51.015Z"
   },
   {
    "duration": 114,
    "start_time": "2022-12-20T10:49:29.141Z"
   },
   {
    "duration": 133,
    "start_time": "2022-12-20T10:49:38.478Z"
   },
   {
    "duration": 155,
    "start_time": "2022-12-20T10:49:51.735Z"
   },
   {
    "duration": 164,
    "start_time": "2022-12-20T10:50:03.726Z"
   },
   {
    "duration": 149,
    "start_time": "2022-12-20T10:50:07.198Z"
   },
   {
    "duration": 133,
    "start_time": "2022-12-20T10:50:11.078Z"
   },
   {
    "duration": 123,
    "start_time": "2022-12-20T10:50:36.969Z"
   },
   {
    "duration": 514,
    "start_time": "2022-12-20T10:54:48.766Z"
   },
   {
    "duration": 797,
    "start_time": "2022-12-21T06:45:22.823Z"
   },
   {
    "duration": 2377,
    "start_time": "2022-12-21T06:45:23.622Z"
   },
   {
    "duration": 16,
    "start_time": "2022-12-21T06:45:26.001Z"
   },
   {
    "duration": 6,
    "start_time": "2022-12-21T06:45:26.020Z"
   },
   {
    "duration": 10,
    "start_time": "2022-12-21T06:45:26.028Z"
   },
   {
    "duration": 3,
    "start_time": "2022-12-21T06:45:26.041Z"
   },
   {
    "duration": 25,
    "start_time": "2022-12-21T06:45:26.046Z"
   },
   {
    "duration": 4,
    "start_time": "2022-12-21T06:45:26.072Z"
   },
   {
    "duration": 8,
    "start_time": "2022-12-21T06:45:26.078Z"
   },
   {
    "duration": 35,
    "start_time": "2022-12-21T06:45:26.087Z"
   },
   {
    "duration": 4,
    "start_time": "2022-12-21T06:45:26.124Z"
   },
   {
    "duration": 11,
    "start_time": "2022-12-21T06:45:26.130Z"
   },
   {
    "duration": 2,
    "start_time": "2022-12-21T06:45:26.143Z"
   },
   {
    "duration": 13,
    "start_time": "2022-12-21T06:45:26.148Z"
   },
   {
    "duration": 17,
    "start_time": "2022-12-21T06:45:26.163Z"
   },
   {
    "duration": 4,
    "start_time": "2022-12-21T06:45:26.182Z"
   },
   {
    "duration": 13,
    "start_time": "2022-12-21T06:45:26.226Z"
   },
   {
    "duration": 23,
    "start_time": "2022-12-21T06:45:26.241Z"
   },
   {
    "duration": 19,
    "start_time": "2022-12-21T06:45:26.265Z"
   },
   {
    "duration": 14,
    "start_time": "2022-12-21T06:45:26.288Z"
   },
   {
    "duration": 15,
    "start_time": "2022-12-21T06:45:26.304Z"
   },
   {
    "duration": 13,
    "start_time": "2022-12-21T06:45:26.321Z"
   },
   {
    "duration": 37,
    "start_time": "2022-12-21T06:45:26.337Z"
   },
   {
    "duration": 11,
    "start_time": "2022-12-21T06:45:26.379Z"
   },
   {
    "duration": 25,
    "start_time": "2022-12-21T06:45:26.392Z"
   },
   {
    "duration": 9,
    "start_time": "2022-12-21T06:45:26.418Z"
   },
   {
    "duration": 194,
    "start_time": "2022-12-21T06:45:26.429Z"
   },
   {
    "duration": 23,
    "start_time": "2022-12-21T06:45:26.625Z"
   },
   {
    "duration": 7,
    "start_time": "2022-12-21T06:45:26.650Z"
   },
   {
    "duration": 4,
    "start_time": "2022-12-21T06:45:26.658Z"
   },
   {
    "duration": 18,
    "start_time": "2022-12-21T06:45:26.664Z"
   },
   {
    "duration": 8,
    "start_time": "2022-12-21T06:45:26.683Z"
   },
   {
    "duration": 8,
    "start_time": "2022-12-21T06:45:26.716Z"
   },
   {
    "duration": 347,
    "start_time": "2022-12-21T06:45:26.725Z"
   },
   {
    "duration": 6,
    "start_time": "2022-12-21T06:45:27.074Z"
   },
   {
    "duration": 10,
    "start_time": "2022-12-21T06:45:27.082Z"
   },
   {
    "duration": 340,
    "start_time": "2022-12-21T06:45:27.093Z"
   },
   {
    "duration": 10,
    "start_time": "2022-12-21T06:45:27.434Z"
   },
   {
    "duration": 270,
    "start_time": "2022-12-21T06:45:27.445Z"
   },
   {
    "duration": 11,
    "start_time": "2022-12-21T06:45:27.717Z"
   },
   {
    "duration": 253,
    "start_time": "2022-12-21T06:45:27.732Z"
   },
   {
    "duration": 7,
    "start_time": "2022-12-21T06:45:27.987Z"
   },
   {
    "duration": 32,
    "start_time": "2022-12-21T06:45:27.996Z"
   },
   {
    "duration": 147,
    "start_time": "2022-12-21T06:45:28.030Z"
   },
   {
    "duration": 10,
    "start_time": "2022-12-21T06:45:28.178Z"
   },
   {
    "duration": 163,
    "start_time": "2022-12-21T06:45:28.190Z"
   },
   {
    "duration": 9,
    "start_time": "2022-12-21T06:45:28.354Z"
   },
   {
    "duration": 162,
    "start_time": "2022-12-21T06:45:28.365Z"
   },
   {
    "duration": 9,
    "start_time": "2022-12-21T06:45:28.529Z"
   },
   {
    "duration": 259,
    "start_time": "2022-12-21T06:45:28.540Z"
   },
   {
    "duration": 125,
    "start_time": "2022-12-21T06:45:28.801Z"
   },
   {
    "duration": 9,
    "start_time": "2022-12-21T06:45:28.928Z"
   },
   {
    "duration": 251,
    "start_time": "2022-12-21T06:45:28.938Z"
   },
   {
    "duration": 8,
    "start_time": "2022-12-21T06:45:29.191Z"
   },
   {
    "duration": 209,
    "start_time": "2022-12-21T06:45:29.201Z"
   },
   {
    "duration": 10,
    "start_time": "2022-12-21T06:45:29.415Z"
   },
   {
    "duration": 258,
    "start_time": "2022-12-21T06:45:29.427Z"
   },
   {
    "duration": 11,
    "start_time": "2022-12-21T06:45:29.686Z"
   },
   {
    "duration": 239,
    "start_time": "2022-12-21T06:45:29.699Z"
   },
   {
    "duration": 141,
    "start_time": "2022-12-21T06:45:29.940Z"
   },
   {
    "duration": 132,
    "start_time": "2022-12-21T06:45:30.083Z"
   },
   {
    "duration": 13,
    "start_time": "2022-12-21T06:45:30.217Z"
   },
   {
    "duration": 161,
    "start_time": "2022-12-21T06:50:10.319Z"
   },
   {
    "duration": 255,
    "start_time": "2022-12-21T06:50:22.647Z"
   },
   {
    "duration": 429,
    "start_time": "2022-12-21T06:50:56.877Z"
   },
   {
    "duration": 236,
    "start_time": "2022-12-21T06:51:18.278Z"
   },
   {
    "duration": 9,
    "start_time": "2022-12-21T06:51:56.477Z"
   },
   {
    "duration": 17,
    "start_time": "2022-12-21T07:03:17.451Z"
   },
   {
    "duration": 19,
    "start_time": "2022-12-21T07:05:14.912Z"
   },
   {
    "duration": 5,
    "start_time": "2022-12-21T07:06:15.762Z"
   },
   {
    "duration": 205,
    "start_time": "2022-12-21T07:06:57.506Z"
   },
   {
    "duration": 191,
    "start_time": "2022-12-21T07:07:25.209Z"
   },
   {
    "duration": 7,
    "start_time": "2022-12-21T07:08:39.327Z"
   },
   {
    "duration": 188,
    "start_time": "2022-12-21T07:08:55.852Z"
   },
   {
    "duration": 195,
    "start_time": "2022-12-21T07:09:49.895Z"
   },
   {
    "duration": 8,
    "start_time": "2022-12-21T07:10:38.018Z"
   },
   {
    "duration": 5,
    "start_time": "2022-12-21T07:11:11.191Z"
   },
   {
    "duration": 195,
    "start_time": "2022-12-21T07:11:19.638Z"
   },
   {
    "duration": 6,
    "start_time": "2022-12-21T07:12:16.941Z"
   },
   {
    "duration": 217,
    "start_time": "2022-12-21T07:12:36.265Z"
   },
   {
    "duration": 306,
    "start_time": "2022-12-21T07:14:03.096Z"
   },
   {
    "duration": 178,
    "start_time": "2022-12-21T07:14:53.582Z"
   },
   {
    "duration": 599,
    "start_time": "2022-12-21T07:31:58.186Z"
   },
   {
    "duration": 2565,
    "start_time": "2022-12-21T07:31:58.787Z"
   },
   {
    "duration": 16,
    "start_time": "2022-12-21T07:32:01.354Z"
   },
   {
    "duration": 6,
    "start_time": "2022-12-21T07:32:01.373Z"
   },
   {
    "duration": 48,
    "start_time": "2022-12-21T07:32:01.381Z"
   },
   {
    "duration": 44,
    "start_time": "2022-12-21T07:32:01.433Z"
   },
   {
    "duration": 100,
    "start_time": "2022-12-21T07:32:01.480Z"
   },
   {
    "duration": 4,
    "start_time": "2022-12-21T07:32:01.583Z"
   },
   {
    "duration": 13,
    "start_time": "2022-12-21T07:32:01.589Z"
   },
   {
    "duration": 16,
    "start_time": "2022-12-21T07:32:01.604Z"
   },
   {
    "duration": 35,
    "start_time": "2022-12-21T07:32:01.622Z"
   },
   {
    "duration": 9,
    "start_time": "2022-12-21T07:32:01.658Z"
   },
   {
    "duration": 2,
    "start_time": "2022-12-21T07:32:01.669Z"
   },
   {
    "duration": 15,
    "start_time": "2022-12-21T07:32:01.673Z"
   },
   {
    "duration": 20,
    "start_time": "2022-12-21T07:32:01.690Z"
   },
   {
    "duration": 10,
    "start_time": "2022-12-21T07:32:01.713Z"
   },
   {
    "duration": 42,
    "start_time": "2022-12-21T07:32:01.725Z"
   },
   {
    "duration": 8,
    "start_time": "2022-12-21T07:32:01.769Z"
   },
   {
    "duration": 25,
    "start_time": "2022-12-21T07:32:01.779Z"
   },
   {
    "duration": 9,
    "start_time": "2022-12-21T07:32:01.805Z"
   },
   {
    "duration": 54,
    "start_time": "2022-12-21T07:32:01.816Z"
   },
   {
    "duration": 17,
    "start_time": "2022-12-21T07:32:01.872Z"
   },
   {
    "duration": 35,
    "start_time": "2022-12-21T07:32:01.891Z"
   },
   {
    "duration": 14,
    "start_time": "2022-12-21T07:32:01.928Z"
   },
   {
    "duration": 29,
    "start_time": "2022-12-21T07:32:01.944Z"
   },
   {
    "duration": 39,
    "start_time": "2022-12-21T07:32:01.975Z"
   },
   {
    "duration": 302,
    "start_time": "2022-12-21T07:32:02.021Z"
   },
   {
    "duration": 32,
    "start_time": "2022-12-21T07:32:02.329Z"
   },
   {
    "duration": 12,
    "start_time": "2022-12-21T07:32:02.362Z"
   },
   {
    "duration": 15,
    "start_time": "2022-12-21T07:32:02.376Z"
   },
   {
    "duration": 32,
    "start_time": "2022-12-21T07:32:02.393Z"
   },
   {
    "duration": 42,
    "start_time": "2022-12-21T07:32:02.427Z"
   },
   {
    "duration": 12,
    "start_time": "2022-12-21T07:32:02.471Z"
   },
   {
    "duration": 405,
    "start_time": "2022-12-21T07:32:02.485Z"
   },
   {
    "duration": 8,
    "start_time": "2022-12-21T07:32:02.891Z"
   },
   {
    "duration": 55,
    "start_time": "2022-12-21T07:32:02.900Z"
   },
   {
    "duration": 269,
    "start_time": "2022-12-21T07:32:02.957Z"
   },
   {
    "duration": 17,
    "start_time": "2022-12-21T07:32:03.237Z"
   },
   {
    "duration": 357,
    "start_time": "2022-12-21T07:32:03.255Z"
   },
   {
    "duration": 13,
    "start_time": "2022-12-21T07:32:03.614Z"
   },
   {
    "duration": 281,
    "start_time": "2022-12-21T07:32:03.629Z"
   },
   {
    "duration": 8,
    "start_time": "2022-12-21T07:32:03.915Z"
   },
   {
    "duration": 43,
    "start_time": "2022-12-21T07:32:03.925Z"
   },
   {
    "duration": 218,
    "start_time": "2022-12-21T07:32:03.970Z"
   },
   {
    "duration": 9,
    "start_time": "2022-12-21T07:32:04.190Z"
   },
   {
    "duration": 174,
    "start_time": "2022-12-21T07:32:04.216Z"
   },
   {
    "duration": 10,
    "start_time": "2022-12-21T07:32:04.391Z"
   },
   {
    "duration": 185,
    "start_time": "2022-12-21T07:32:04.415Z"
   },
   {
    "duration": 27,
    "start_time": "2022-12-21T07:32:04.602Z"
   },
   {
    "duration": 328,
    "start_time": "2022-12-21T07:32:04.631Z"
   },
   {
    "duration": 147,
    "start_time": "2022-12-21T07:32:04.961Z"
   },
   {
    "duration": 30,
    "start_time": "2022-12-21T07:32:05.117Z"
   },
   {
    "duration": 178,
    "start_time": "2022-12-21T07:32:05.150Z"
   },
   {
    "duration": 18,
    "start_time": "2022-12-21T07:32:05.331Z"
   },
   {
    "duration": 337,
    "start_time": "2022-12-21T07:32:05.351Z"
   },
   {
    "duration": 9,
    "start_time": "2022-12-21T07:32:05.690Z"
   },
   {
    "duration": 277,
    "start_time": "2022-12-21T07:32:05.701Z"
   },
   {
    "duration": 10,
    "start_time": "2022-12-21T07:32:05.979Z"
   },
   {
    "duration": 248,
    "start_time": "2022-12-21T07:32:06.017Z"
   },
   {
    "duration": 200,
    "start_time": "2022-12-21T07:32:06.267Z"
   },
   {
    "duration": 164,
    "start_time": "2022-12-21T07:32:06.469Z"
   },
   {
    "duration": 15,
    "start_time": "2022-12-21T07:32:06.636Z"
   },
   {
    "duration": 283,
    "start_time": "2022-12-21T07:32:06.653Z"
   },
   {
    "duration": 6,
    "start_time": "2022-12-21T07:32:06.937Z"
   },
   {
    "duration": 224,
    "start_time": "2022-12-21T07:32:06.945Z"
   },
   {
    "duration": 6,
    "start_time": "2022-12-21T07:32:07.171Z"
   },
   {
    "duration": 239,
    "start_time": "2022-12-21T07:32:07.178Z"
   },
   {
    "duration": 10,
    "start_time": "2022-12-21T07:32:07.420Z"
   },
   {
    "duration": 228,
    "start_time": "2022-12-21T07:32:07.432Z"
   },
   {
    "duration": 6,
    "start_time": "2022-12-21T07:32:07.662Z"
   },
   {
    "duration": 360,
    "start_time": "2022-12-21T07:32:07.669Z"
   },
   {
    "duration": 28,
    "start_time": "2022-12-21T07:32:08.032Z"
   },
   {
    "duration": 200,
    "start_time": "2022-12-21T07:32:50.453Z"
   },
   {
    "duration": 656,
    "start_time": "2022-12-21T07:34:52.308Z"
   },
   {
    "duration": 19,
    "start_time": "2022-12-21T07:43:23.043Z"
   },
   {
    "duration": 16,
    "start_time": "2022-12-21T07:44:42.648Z"
   },
   {
    "duration": 26,
    "start_time": "2022-12-21T07:46:45.029Z"
   },
   {
    "duration": 95,
    "start_time": "2022-12-21T07:49:31.498Z"
   },
   {
    "duration": 38,
    "start_time": "2022-12-21T07:50:05.318Z"
   },
   {
    "duration": 26,
    "start_time": "2022-12-21T07:50:16.684Z"
   },
   {
    "duration": 25,
    "start_time": "2022-12-21T07:50:27.084Z"
   },
   {
    "duration": 31,
    "start_time": "2022-12-21T07:50:31.804Z"
   },
   {
    "duration": 25,
    "start_time": "2022-12-21T07:50:42.878Z"
   },
   {
    "duration": 26,
    "start_time": "2022-12-21T07:51:10.259Z"
   },
   {
    "duration": 20,
    "start_time": "2022-12-21T08:00:22.158Z"
   },
   {
    "duration": 29,
    "start_time": "2022-12-21T08:01:48.986Z"
   },
   {
    "duration": 25,
    "start_time": "2022-12-21T08:02:31.986Z"
   },
   {
    "duration": 24,
    "start_time": "2022-12-21T08:08:28.056Z"
   },
   {
    "duration": 16,
    "start_time": "2022-12-21T08:09:27.646Z"
   },
   {
    "duration": 12,
    "start_time": "2022-12-21T08:09:56.550Z"
   },
   {
    "duration": 24,
    "start_time": "2022-12-21T08:10:59.623Z"
   },
   {
    "duration": 17,
    "start_time": "2022-12-21T08:11:10.808Z"
   },
   {
    "duration": 20,
    "start_time": "2022-12-21T08:19:46.482Z"
   },
   {
    "duration": 76,
    "start_time": "2022-12-21T08:19:54.013Z"
   },
   {
    "duration": 47,
    "start_time": "2022-12-21T08:22:11.999Z"
   },
   {
    "duration": 31,
    "start_time": "2022-12-21T08:22:30.942Z"
   },
   {
    "duration": 23,
    "start_time": "2022-12-21T08:23:41.924Z"
   },
   {
    "duration": 17,
    "start_time": "2022-12-21T08:24:18.949Z"
   },
   {
    "duration": 129,
    "start_time": "2022-12-21T08:25:44.611Z"
   },
   {
    "duration": 2126,
    "start_time": "2022-12-21T08:25:44.742Z"
   },
   {
    "duration": 15,
    "start_time": "2022-12-21T08:25:46.870Z"
   },
   {
    "duration": 4,
    "start_time": "2022-12-21T08:25:46.886Z"
   },
   {
    "duration": 34,
    "start_time": "2022-12-21T08:25:46.892Z"
   },
   {
    "duration": 4,
    "start_time": "2022-12-21T08:25:46.928Z"
   },
   {
    "duration": 17,
    "start_time": "2022-12-21T08:25:46.934Z"
   },
   {
    "duration": 24,
    "start_time": "2022-12-21T08:25:46.953Z"
   },
   {
    "duration": 18,
    "start_time": "2022-12-21T08:25:46.979Z"
   },
   {
    "duration": 16,
    "start_time": "2022-12-21T08:25:46.999Z"
   },
   {
    "duration": 5,
    "start_time": "2022-12-21T08:25:47.017Z"
   },
   {
    "duration": 14,
    "start_time": "2022-12-21T08:25:47.024Z"
   },
   {
    "duration": 3,
    "start_time": "2022-12-21T08:25:47.039Z"
   },
   {
    "duration": 25,
    "start_time": "2022-12-21T08:25:47.046Z"
   },
   {
    "duration": 43,
    "start_time": "2022-12-21T08:25:47.073Z"
   },
   {
    "duration": 5,
    "start_time": "2022-12-21T08:25:47.118Z"
   },
   {
    "duration": 11,
    "start_time": "2022-12-21T08:25:47.125Z"
   },
   {
    "duration": 13,
    "start_time": "2022-12-21T08:25:47.139Z"
   },
   {
    "duration": 22,
    "start_time": "2022-12-21T08:25:47.154Z"
   },
   {
    "duration": 25,
    "start_time": "2022-12-21T08:25:47.178Z"
   },
   {
    "duration": 14,
    "start_time": "2022-12-21T08:25:47.205Z"
   },
   {
    "duration": 10,
    "start_time": "2022-12-21T08:25:47.221Z"
   },
   {
    "duration": 13,
    "start_time": "2022-12-21T08:25:47.233Z"
   },
   {
    "duration": 39,
    "start_time": "2022-12-21T08:25:47.248Z"
   },
   {
    "duration": 27,
    "start_time": "2022-12-21T08:25:47.288Z"
   },
   {
    "duration": 11,
    "start_time": "2022-12-21T08:25:47.317Z"
   },
   {
    "duration": 8,
    "start_time": "2022-12-21T08:25:47.330Z"
   },
   {
    "duration": 161,
    "start_time": "2022-12-21T08:25:47.340Z"
   },
   {
    "duration": 29,
    "start_time": "2022-12-21T08:25:47.503Z"
   },
   {
    "duration": 7,
    "start_time": "2022-12-21T08:25:47.534Z"
   },
   {
    "duration": 10,
    "start_time": "2022-12-21T08:25:47.543Z"
   },
   {
    "duration": 19,
    "start_time": "2022-12-21T08:25:47.555Z"
   },
   {
    "duration": 10,
    "start_time": "2022-12-21T08:25:47.577Z"
   },
   {
    "duration": 36,
    "start_time": "2022-12-21T08:25:47.589Z"
   },
   {
    "duration": 329,
    "start_time": "2022-12-21T08:25:47.627Z"
   },
   {
    "duration": 7,
    "start_time": "2022-12-21T08:25:47.957Z"
   },
   {
    "duration": 11,
    "start_time": "2022-12-21T08:25:47.965Z"
   },
   {
    "duration": 275,
    "start_time": "2022-12-21T08:25:47.978Z"
   },
   {
    "duration": 10,
    "start_time": "2022-12-21T08:25:48.254Z"
   },
   {
    "duration": 280,
    "start_time": "2022-12-21T08:25:48.266Z"
   },
   {
    "duration": 10,
    "start_time": "2022-12-21T08:25:48.551Z"
   },
   {
    "duration": 271,
    "start_time": "2022-12-21T08:25:48.563Z"
   },
   {
    "duration": 6,
    "start_time": "2022-12-21T08:25:48.836Z"
   },
   {
    "duration": 12,
    "start_time": "2022-12-21T08:25:48.844Z"
   },
   {
    "duration": 159,
    "start_time": "2022-12-21T08:25:48.858Z"
   },
   {
    "duration": 10,
    "start_time": "2022-12-21T08:25:49.019Z"
   },
   {
    "duration": 201,
    "start_time": "2022-12-21T08:25:49.032Z"
   },
   {
    "duration": 11,
    "start_time": "2022-12-21T08:25:49.235Z"
   },
   {
    "duration": 170,
    "start_time": "2022-12-21T08:25:49.248Z"
   },
   {
    "duration": 8,
    "start_time": "2022-12-21T08:25:49.420Z"
   },
   {
    "duration": 417,
    "start_time": "2022-12-21T08:25:49.430Z"
   },
   {
    "duration": 134,
    "start_time": "2022-12-21T08:25:49.850Z"
   },
   {
    "duration": 10,
    "start_time": "2022-12-21T08:25:49.986Z"
   },
   {
    "duration": 180,
    "start_time": "2022-12-21T08:25:49.999Z"
   },
   {
    "duration": 11,
    "start_time": "2022-12-21T08:25:50.181Z"
   },
   {
    "duration": 221,
    "start_time": "2022-12-21T08:25:50.194Z"
   },
   {
    "duration": 9,
    "start_time": "2022-12-21T08:25:50.417Z"
   },
   {
    "duration": 256,
    "start_time": "2022-12-21T08:25:50.429Z"
   },
   {
    "duration": 10,
    "start_time": "2022-12-21T08:25:50.687Z"
   },
   {
    "duration": 248,
    "start_time": "2022-12-21T08:25:50.699Z"
   },
   {
    "duration": 148,
    "start_time": "2022-12-21T08:25:50.949Z"
   },
   {
    "duration": 142,
    "start_time": "2022-12-21T08:25:51.099Z"
   },
   {
    "duration": 9,
    "start_time": "2022-12-21T08:25:51.243Z"
   },
   {
    "duration": 247,
    "start_time": "2022-12-21T08:25:51.254Z"
   },
   {
    "duration": 13,
    "start_time": "2022-12-21T08:25:51.503Z"
   },
   {
    "duration": 192,
    "start_time": "2022-12-21T08:25:51.518Z"
   },
   {
    "duration": 5,
    "start_time": "2022-12-21T08:25:51.715Z"
   },
   {
    "duration": 208,
    "start_time": "2022-12-21T08:25:51.721Z"
   },
   {
    "duration": 6,
    "start_time": "2022-12-21T08:25:51.931Z"
   },
   {
    "duration": 203,
    "start_time": "2022-12-21T08:25:51.938Z"
   },
   {
    "duration": 7,
    "start_time": "2022-12-21T08:25:52.143Z"
   },
   {
    "duration": 235,
    "start_time": "2022-12-21T08:25:52.152Z"
   },
   {
    "duration": 200,
    "start_time": "2022-12-21T08:25:52.389Z"
   },
   {
    "duration": 558,
    "start_time": "2022-12-21T08:25:52.590Z"
   },
   {
    "duration": 25,
    "start_time": "2022-12-21T08:25:53.150Z"
   },
   {
    "duration": 16,
    "start_time": "2022-12-21T08:25:53.177Z"
   },
   {
    "duration": 14,
    "start_time": "2022-12-21T08:25:53.215Z"
   },
   {
    "duration": 2614,
    "start_time": "2022-12-21T08:52:30.006Z"
   },
   {
    "duration": 18,
    "start_time": "2022-12-21T09:08:36.270Z"
   },
   {
    "duration": 9,
    "start_time": "2022-12-21T09:15:22.849Z"
   },
   {
    "duration": 141,
    "start_time": "2022-12-21T09:17:00.911Z"
   },
   {
    "duration": 18,
    "start_time": "2022-12-21T09:17:01.054Z"
   },
   {
    "duration": 2118,
    "start_time": "2022-12-21T09:17:01.074Z"
   },
   {
    "duration": 24,
    "start_time": "2022-12-21T09:17:03.195Z"
   },
   {
    "duration": 5,
    "start_time": "2022-12-21T09:17:03.221Z"
   },
   {
    "duration": 20,
    "start_time": "2022-12-21T09:17:03.228Z"
   },
   {
    "duration": 4,
    "start_time": "2022-12-21T09:17:03.250Z"
   },
   {
    "duration": 14,
    "start_time": "2022-12-21T09:17:03.256Z"
   },
   {
    "duration": 10,
    "start_time": "2022-12-21T09:17:03.272Z"
   },
   {
    "duration": 14,
    "start_time": "2022-12-21T09:17:03.285Z"
   },
   {
    "duration": 21,
    "start_time": "2022-12-21T09:17:03.301Z"
   },
   {
    "duration": 5,
    "start_time": "2022-12-21T09:17:03.324Z"
   },
   {
    "duration": 11,
    "start_time": "2022-12-21T09:17:03.331Z"
   },
   {
    "duration": 3,
    "start_time": "2022-12-21T09:17:03.343Z"
   },
   {
    "duration": 19,
    "start_time": "2022-12-21T09:17:03.347Z"
   },
   {
    "duration": 14,
    "start_time": "2022-12-21T09:17:03.368Z"
   },
   {
    "duration": 32,
    "start_time": "2022-12-21T09:17:03.383Z"
   },
   {
    "duration": 5,
    "start_time": "2022-12-21T09:17:03.417Z"
   },
   {
    "duration": 10,
    "start_time": "2022-12-21T09:17:03.424Z"
   },
   {
    "duration": 11,
    "start_time": "2022-12-21T09:17:03.435Z"
   },
   {
    "duration": 20,
    "start_time": "2022-12-21T09:17:03.448Z"
   },
   {
    "duration": 8,
    "start_time": "2022-12-21T09:17:03.471Z"
   },
   {
    "duration": 36,
    "start_time": "2022-12-21T09:17:03.481Z"
   },
   {
    "duration": 12,
    "start_time": "2022-12-21T09:17:03.518Z"
   },
   {
    "duration": 30,
    "start_time": "2022-12-21T09:17:03.532Z"
   },
   {
    "duration": 9,
    "start_time": "2022-12-21T09:17:03.564Z"
   },
   {
    "duration": 18,
    "start_time": "2022-12-21T09:17:03.575Z"
   },
   {
    "duration": 8,
    "start_time": "2022-12-21T09:17:03.615Z"
   },
   {
    "duration": 147,
    "start_time": "2022-12-21T09:17:03.624Z"
   },
   {
    "duration": 18,
    "start_time": "2022-12-21T09:17:03.773Z"
   },
   {
    "duration": 24,
    "start_time": "2022-12-21T09:17:03.793Z"
   },
   {
    "duration": 4,
    "start_time": "2022-12-21T09:17:03.819Z"
   },
   {
    "duration": 15,
    "start_time": "2022-12-21T09:17:03.825Z"
   },
   {
    "duration": 17,
    "start_time": "2022-12-21T09:17:03.842Z"
   },
   {
    "duration": 10,
    "start_time": "2022-12-21T09:17:03.860Z"
   },
   {
    "duration": 337,
    "start_time": "2022-12-21T09:17:03.872Z"
   },
   {
    "duration": 10,
    "start_time": "2022-12-21T09:17:04.210Z"
   },
   {
    "duration": 8,
    "start_time": "2022-12-21T09:17:04.222Z"
   },
   {
    "duration": 246,
    "start_time": "2022-12-21T09:17:04.231Z"
   },
   {
    "duration": 11,
    "start_time": "2022-12-21T09:17:04.479Z"
   },
   {
    "duration": 273,
    "start_time": "2022-12-21T09:17:04.492Z"
   },
   {
    "duration": 9,
    "start_time": "2022-12-21T09:17:04.767Z"
   },
   {
    "duration": 240,
    "start_time": "2022-12-21T09:17:04.778Z"
   },
   {
    "duration": 5,
    "start_time": "2022-12-21T09:17:05.020Z"
   },
   {
    "duration": 18,
    "start_time": "2022-12-21T09:17:05.026Z"
   },
   {
    "duration": 147,
    "start_time": "2022-12-21T09:17:05.046Z"
   },
   {
    "duration": 8,
    "start_time": "2022-12-21T09:17:05.195Z"
   },
   {
    "duration": 161,
    "start_time": "2022-12-21T09:17:05.205Z"
   },
   {
    "duration": 10,
    "start_time": "2022-12-21T09:17:05.367Z"
   },
   {
    "duration": 176,
    "start_time": "2022-12-21T09:17:05.378Z"
   },
   {
    "duration": 9,
    "start_time": "2022-12-21T09:17:05.555Z"
   },
   {
    "duration": 265,
    "start_time": "2022-12-21T09:17:05.565Z"
   },
   {
    "duration": 119,
    "start_time": "2022-12-21T09:17:05.832Z"
   },
   {
    "duration": 9,
    "start_time": "2022-12-21T09:17:05.953Z"
   },
   {
    "duration": 179,
    "start_time": "2022-12-21T09:17:05.963Z"
   },
   {
    "duration": 10,
    "start_time": "2022-12-21T09:17:06.143Z"
   },
   {
    "duration": 210,
    "start_time": "2022-12-21T09:17:06.154Z"
   },
   {
    "duration": 9,
    "start_time": "2022-12-21T09:17:06.366Z"
   },
   {
    "duration": 308,
    "start_time": "2022-12-21T09:17:06.377Z"
   },
   {
    "duration": 9,
    "start_time": "2022-12-21T09:17:06.687Z"
   },
   {
    "duration": 199,
    "start_time": "2022-12-21T09:17:06.698Z"
   },
   {
    "duration": 134,
    "start_time": "2022-12-21T09:17:06.899Z"
   },
   {
    "duration": 383,
    "start_time": "2022-12-21T09:17:07.034Z"
   },
   {
    "duration": 10,
    "start_time": "2022-12-21T09:17:07.418Z"
   },
   {
    "duration": 248,
    "start_time": "2022-12-21T09:17:07.429Z"
   },
   {
    "duration": 6,
    "start_time": "2022-12-21T09:17:07.679Z"
   },
   {
    "duration": 192,
    "start_time": "2022-12-21T09:17:07.687Z"
   },
   {
    "duration": 6,
    "start_time": "2022-12-21T09:17:07.881Z"
   },
   {
    "duration": 214,
    "start_time": "2022-12-21T09:17:07.888Z"
   },
   {
    "duration": 13,
    "start_time": "2022-12-21T09:17:08.103Z"
   },
   {
    "duration": 192,
    "start_time": "2022-12-21T09:17:08.118Z"
   },
   {
    "duration": 4,
    "start_time": "2022-12-21T09:17:08.315Z"
   },
   {
    "duration": 196,
    "start_time": "2022-12-21T09:17:08.321Z"
   },
   {
    "duration": 179,
    "start_time": "2022-12-21T09:17:08.519Z"
   },
   {
    "duration": 558,
    "start_time": "2022-12-21T09:17:08.699Z"
   },
   {
    "duration": 27,
    "start_time": "2022-12-21T09:17:09.260Z"
   },
   {
    "duration": 37,
    "start_time": "2022-12-21T09:17:09.288Z"
   },
   {
    "duration": 14,
    "start_time": "2022-12-21T09:17:09.327Z"
   },
   {
    "duration": 136,
    "start_time": "2022-12-21T09:26:43.006Z"
   },
   {
    "duration": 13,
    "start_time": "2022-12-21T09:26:43.144Z"
   },
   {
    "duration": 1909,
    "start_time": "2022-12-21T09:26:43.159Z"
   },
   {
    "duration": 9,
    "start_time": "2022-12-21T09:26:45.071Z"
   },
   {
    "duration": 8,
    "start_time": "2022-12-21T09:26:45.082Z"
   },
   {
    "duration": 24,
    "start_time": "2022-12-21T09:26:45.091Z"
   },
   {
    "duration": 11,
    "start_time": "2022-12-21T09:26:45.117Z"
   },
   {
    "duration": 9,
    "start_time": "2022-12-21T09:26:45.130Z"
   },
   {
    "duration": 6,
    "start_time": "2022-12-21T09:26:45.141Z"
   },
   {
    "duration": 16,
    "start_time": "2022-12-21T09:26:45.151Z"
   },
   {
    "duration": 20,
    "start_time": "2022-12-21T09:26:45.169Z"
   },
   {
    "duration": 34,
    "start_time": "2022-12-21T09:26:45.190Z"
   },
   {
    "duration": 4,
    "start_time": "2022-12-21T09:26:45.226Z"
   },
   {
    "duration": 14,
    "start_time": "2022-12-21T09:26:45.232Z"
   },
   {
    "duration": 19,
    "start_time": "2022-12-21T09:26:45.247Z"
   },
   {
    "duration": 30,
    "start_time": "2022-12-21T09:26:45.268Z"
   },
   {
    "duration": 30,
    "start_time": "2022-12-21T09:26:45.299Z"
   },
   {
    "duration": 13,
    "start_time": "2022-12-21T09:26:45.331Z"
   },
   {
    "duration": 13,
    "start_time": "2022-12-21T09:26:45.345Z"
   },
   {
    "duration": 11,
    "start_time": "2022-12-21T09:26:45.360Z"
   },
   {
    "duration": 53,
    "start_time": "2022-12-21T09:26:45.372Z"
   },
   {
    "duration": 7,
    "start_time": "2022-12-21T09:26:45.427Z"
   },
   {
    "duration": 22,
    "start_time": "2022-12-21T09:26:45.436Z"
   },
   {
    "duration": 24,
    "start_time": "2022-12-21T09:26:45.460Z"
   },
   {
    "duration": 167,
    "start_time": "2022-12-21T09:26:45.486Z"
   },
   {
    "duration": 18,
    "start_time": "2022-12-21T09:26:45.655Z"
   },
   {
    "duration": 8,
    "start_time": "2022-12-21T09:26:45.675Z"
   },
   {
    "duration": 5,
    "start_time": "2022-12-21T09:26:45.717Z"
   },
   {
    "duration": 16,
    "start_time": "2022-12-21T09:26:45.724Z"
   },
   {
    "duration": 11,
    "start_time": "2022-12-21T09:26:45.742Z"
   },
   {
    "duration": 8,
    "start_time": "2022-12-21T09:26:45.754Z"
   },
   {
    "duration": 234,
    "start_time": "2022-12-21T09:26:45.763Z"
   },
   {
    "duration": 17,
    "start_time": "2022-12-21T09:26:46.000Z"
   },
   {
    "duration": 11,
    "start_time": "2022-12-21T09:26:46.018Z"
   },
   {
    "duration": 325,
    "start_time": "2022-12-21T09:26:46.031Z"
   },
   {
    "duration": 9,
    "start_time": "2022-12-21T09:26:46.359Z"
   },
   {
    "duration": 284,
    "start_time": "2022-12-21T09:26:46.370Z"
   },
   {
    "duration": 10,
    "start_time": "2022-12-21T09:26:46.655Z"
   },
   {
    "duration": 254,
    "start_time": "2022-12-21T09:26:46.667Z"
   },
   {
    "duration": 5,
    "start_time": "2022-12-21T09:26:46.923Z"
   },
   {
    "duration": 13,
    "start_time": "2022-12-21T09:26:46.930Z"
   },
   {
    "duration": 143,
    "start_time": "2022-12-21T09:26:46.945Z"
   },
   {
    "duration": 8,
    "start_time": "2022-12-21T09:26:47.090Z"
   },
   {
    "duration": 154,
    "start_time": "2022-12-21T09:26:47.099Z"
   },
   {
    "duration": 9,
    "start_time": "2022-12-21T09:26:47.256Z"
   },
   {
    "duration": 159,
    "start_time": "2022-12-21T09:26:47.268Z"
   },
   {
    "duration": 8,
    "start_time": "2022-12-21T09:26:47.429Z"
   },
   {
    "duration": 584,
    "start_time": "2022-12-21T09:26:47.438Z"
   },
   {
    "duration": 122,
    "start_time": "2022-12-21T09:26:48.023Z"
   },
   {
    "duration": 9,
    "start_time": "2022-12-21T09:26:48.146Z"
   },
   {
    "duration": 176,
    "start_time": "2022-12-21T09:26:48.157Z"
   },
   {
    "duration": 9,
    "start_time": "2022-12-21T09:26:48.335Z"
   },
   {
    "duration": 205,
    "start_time": "2022-12-21T09:26:48.346Z"
   },
   {
    "duration": 8,
    "start_time": "2022-12-21T09:26:48.553Z"
   },
   {
    "duration": 279,
    "start_time": "2022-12-21T09:26:48.563Z"
   },
   {
    "duration": 9,
    "start_time": "2022-12-21T09:26:48.844Z"
   },
   {
    "duration": 214,
    "start_time": "2022-12-21T09:26:48.855Z"
   },
   {
    "duration": 153,
    "start_time": "2022-12-21T09:26:49.071Z"
   },
   {
    "duration": 143,
    "start_time": "2022-12-21T09:26:49.226Z"
   },
   {
    "duration": 10,
    "start_time": "2022-12-21T09:26:49.371Z"
   },
   {
    "duration": 254,
    "start_time": "2022-12-21T09:26:49.383Z"
   },
   {
    "duration": 6,
    "start_time": "2022-12-21T09:26:49.639Z"
   },
   {
    "duration": 162,
    "start_time": "2022-12-21T09:26:49.647Z"
   },
   {
    "duration": 5,
    "start_time": "2022-12-21T09:26:49.815Z"
   },
   {
    "duration": 167,
    "start_time": "2022-12-21T09:26:49.821Z"
   },
   {
    "duration": 5,
    "start_time": "2022-12-21T09:26:49.990Z"
   },
   {
    "duration": 158,
    "start_time": "2022-12-21T09:26:49.996Z"
   },
   {
    "duration": 7,
    "start_time": "2022-12-21T09:26:50.156Z"
   },
   {
    "duration": 170,
    "start_time": "2022-12-21T09:26:50.165Z"
   },
   {
    "duration": 145,
    "start_time": "2022-12-21T09:26:50.337Z"
   },
   {
    "duration": 452,
    "start_time": "2022-12-21T09:26:50.484Z"
   },
   {
    "duration": 24,
    "start_time": "2022-12-21T09:26:50.938Z"
   },
   {
    "duration": 44,
    "start_time": "2022-12-21T09:26:50.964Z"
   },
   {
    "duration": 48,
    "start_time": "2022-12-21T09:26:51.010Z"
   },
   {
    "duration": 5,
    "start_time": "2022-12-21T10:08:27.966Z"
   },
   {
    "duration": 168,
    "start_time": "2022-12-21T10:08:38.476Z"
   },
   {
    "duration": 16,
    "start_time": "2022-12-21T10:08:38.647Z"
   },
   {
    "duration": 1870,
    "start_time": "2022-12-21T10:08:38.665Z"
   },
   {
    "duration": 9,
    "start_time": "2022-12-21T10:08:40.537Z"
   },
   {
    "duration": 11,
    "start_time": "2022-12-21T10:08:40.548Z"
   },
   {
    "duration": 7,
    "start_time": "2022-12-21T10:08:40.561Z"
   },
   {
    "duration": 19,
    "start_time": "2022-12-21T10:08:40.569Z"
   },
   {
    "duration": 26,
    "start_time": "2022-12-21T10:08:40.590Z"
   },
   {
    "duration": 4,
    "start_time": "2022-12-21T10:08:40.618Z"
   },
   {
    "duration": 18,
    "start_time": "2022-12-21T10:08:40.625Z"
   },
   {
    "duration": 13,
    "start_time": "2022-12-21T10:08:40.644Z"
   },
   {
    "duration": 16,
    "start_time": "2022-12-21T10:08:40.659Z"
   },
   {
    "duration": 5,
    "start_time": "2022-12-21T10:08:40.677Z"
   },
   {
    "duration": 34,
    "start_time": "2022-12-21T10:08:40.683Z"
   },
   {
    "duration": 4,
    "start_time": "2022-12-21T10:08:40.719Z"
   },
   {
    "duration": 14,
    "start_time": "2022-12-21T10:08:40.725Z"
   },
   {
    "duration": 11,
    "start_time": "2022-12-21T10:08:40.740Z"
   },
   {
    "duration": 19,
    "start_time": "2022-12-21T10:08:40.752Z"
   },
   {
    "duration": 9,
    "start_time": "2022-12-21T10:08:40.773Z"
   },
   {
    "duration": 34,
    "start_time": "2022-12-21T10:08:40.783Z"
   },
   {
    "duration": 11,
    "start_time": "2022-12-21T10:08:40.818Z"
   },
   {
    "duration": 26,
    "start_time": "2022-12-21T10:08:40.831Z"
   },
   {
    "duration": 7,
    "start_time": "2022-12-21T10:08:40.859Z"
   },
   {
    "duration": 13,
    "start_time": "2022-12-21T10:08:40.868Z"
   },
   {
    "duration": 8,
    "start_time": "2022-12-21T10:08:40.915Z"
   },
   {
    "duration": 168,
    "start_time": "2022-12-21T10:08:40.925Z"
   },
   {
    "duration": 29,
    "start_time": "2022-12-21T10:08:41.095Z"
   },
   {
    "duration": 7,
    "start_time": "2022-12-21T10:08:41.128Z"
   },
   {
    "duration": 9,
    "start_time": "2022-12-21T10:08:41.136Z"
   },
   {
    "duration": 16,
    "start_time": "2022-12-21T10:08:41.147Z"
   },
   {
    "duration": 9,
    "start_time": "2022-12-21T10:08:41.164Z"
   },
   {
    "duration": 15,
    "start_time": "2022-12-21T10:08:41.175Z"
   },
   {
    "duration": 210,
    "start_time": "2022-12-21T10:08:41.216Z"
   },
   {
    "duration": 7,
    "start_time": "2022-12-21T10:08:41.428Z"
   },
   {
    "duration": 13,
    "start_time": "2022-12-21T10:08:41.437Z"
   },
   {
    "duration": 282,
    "start_time": "2022-12-21T10:08:41.453Z"
   },
   {
    "duration": 9,
    "start_time": "2022-12-21T10:08:41.737Z"
   },
   {
    "duration": 283,
    "start_time": "2022-12-21T10:08:41.748Z"
   },
   {
    "duration": 10,
    "start_time": "2022-12-21T10:08:42.033Z"
   },
   {
    "duration": 272,
    "start_time": "2022-12-21T10:08:42.045Z"
   },
   {
    "duration": 5,
    "start_time": "2022-12-21T10:08:42.319Z"
   },
   {
    "duration": 12,
    "start_time": "2022-12-21T10:08:42.326Z"
   },
   {
    "duration": 166,
    "start_time": "2022-12-21T10:08:42.340Z"
   },
   {
    "duration": 13,
    "start_time": "2022-12-21T10:08:42.509Z"
   },
   {
    "duration": 524,
    "start_time": "2022-12-21T10:08:42.523Z"
   },
   {
    "duration": 10,
    "start_time": "2022-12-21T10:08:43.049Z"
   },
   {
    "duration": 165,
    "start_time": "2022-12-21T10:08:43.062Z"
   },
   {
    "duration": 12,
    "start_time": "2022-12-21T10:08:43.229Z"
   },
   {
    "duration": 265,
    "start_time": "2022-12-21T10:08:43.243Z"
   },
   {
    "duration": 122,
    "start_time": "2022-12-21T10:08:43.510Z"
   },
   {
    "duration": 10,
    "start_time": "2022-12-21T10:08:43.635Z"
   },
   {
    "duration": 160,
    "start_time": "2022-12-21T10:08:43.647Z"
   },
   {
    "duration": 12,
    "start_time": "2022-12-21T10:08:43.815Z"
   },
   {
    "duration": 258,
    "start_time": "2022-12-21T10:08:43.830Z"
   },
   {
    "duration": 10,
    "start_time": "2022-12-21T10:08:44.100Z"
   },
   {
    "duration": 252,
    "start_time": "2022-12-21T10:08:44.115Z"
   },
   {
    "duration": 11,
    "start_time": "2022-12-21T10:08:44.369Z"
   },
   {
    "duration": 219,
    "start_time": "2022-12-21T10:08:44.383Z"
   },
   {
    "duration": 160,
    "start_time": "2022-12-21T10:08:44.604Z"
   },
   {
    "duration": 153,
    "start_time": "2022-12-21T10:08:44.765Z"
   },
   {
    "duration": 13,
    "start_time": "2022-12-21T10:08:44.920Z"
   },
   {
    "duration": 294,
    "start_time": "2022-12-21T10:08:44.935Z"
   },
   {
    "duration": 5,
    "start_time": "2022-12-21T10:08:45.232Z"
   },
   {
    "duration": 179,
    "start_time": "2022-12-21T10:08:45.239Z"
   },
   {
    "duration": 11,
    "start_time": "2022-12-21T10:08:45.421Z"
   },
   {
    "duration": 188,
    "start_time": "2022-12-21T10:08:45.434Z"
   },
   {
    "duration": 7,
    "start_time": "2022-12-21T10:08:45.625Z"
   },
   {
    "duration": 197,
    "start_time": "2022-12-21T10:08:45.634Z"
   },
   {
    "duration": 6,
    "start_time": "2022-12-21T10:08:45.833Z"
   },
   {
    "duration": 180,
    "start_time": "2022-12-21T10:08:45.841Z"
   },
   {
    "duration": 151,
    "start_time": "2022-12-21T10:08:46.023Z"
   },
   {
    "duration": 443,
    "start_time": "2022-12-21T10:08:46.176Z"
   },
   {
    "duration": 21,
    "start_time": "2022-12-21T10:08:46.620Z"
   },
   {
    "duration": 23,
    "start_time": "2022-12-21T10:08:46.644Z"
   },
   {
    "duration": 14,
    "start_time": "2022-12-21T10:08:46.669Z"
   },
   {
    "duration": 14,
    "start_time": "2022-12-21T10:13:17.349Z"
   },
   {
    "duration": 33,
    "start_time": "2022-12-21T10:13:27.500Z"
   },
   {
    "duration": 140,
    "start_time": "2022-12-21T10:13:37.123Z"
   },
   {
    "duration": 15,
    "start_time": "2022-12-21T10:13:37.265Z"
   },
   {
    "duration": 1832,
    "start_time": "2022-12-21T10:13:37.281Z"
   },
   {
    "duration": 10,
    "start_time": "2022-12-21T10:13:39.115Z"
   },
   {
    "duration": 7,
    "start_time": "2022-12-21T10:13:39.127Z"
   },
   {
    "duration": 12,
    "start_time": "2022-12-21T10:13:39.135Z"
   },
   {
    "duration": 20,
    "start_time": "2022-12-21T10:13:39.149Z"
   },
   {
    "duration": 8,
    "start_time": "2022-12-21T10:13:39.170Z"
   },
   {
    "duration": 6,
    "start_time": "2022-12-21T10:13:39.180Z"
   },
   {
    "duration": 28,
    "start_time": "2022-12-21T10:13:39.188Z"
   },
   {
    "duration": 11,
    "start_time": "2022-12-21T10:13:39.217Z"
   },
   {
    "duration": 17,
    "start_time": "2022-12-21T10:13:39.229Z"
   },
   {
    "duration": 69,
    "start_time": "2022-12-21T10:13:39.248Z"
   },
   {
    "duration": 6,
    "start_time": "2022-12-21T10:13:39.318Z"
   },
   {
    "duration": 13,
    "start_time": "2022-12-21T10:13:39.326Z"
   },
   {
    "duration": 17,
    "start_time": "2022-12-21T10:13:39.340Z"
   },
   {
    "duration": 10,
    "start_time": "2022-12-21T10:13:39.358Z"
   },
   {
    "duration": 7,
    "start_time": "2022-12-21T10:13:39.369Z"
   },
   {
    "duration": 20,
    "start_time": "2022-12-21T10:13:39.378Z"
   },
   {
    "duration": 21,
    "start_time": "2022-12-21T10:13:39.399Z"
   },
   {
    "duration": 16,
    "start_time": "2022-12-21T10:13:39.421Z"
   },
   {
    "duration": 42,
    "start_time": "2022-12-21T10:13:39.439Z"
   },
   {
    "duration": 28,
    "start_time": "2022-12-21T10:13:39.483Z"
   },
   {
    "duration": 7,
    "start_time": "2022-12-21T10:13:39.512Z"
   },
   {
    "duration": 13,
    "start_time": "2022-12-21T10:13:39.521Z"
   },
   {
    "duration": 13,
    "start_time": "2022-12-21T10:13:39.536Z"
   },
   {
    "duration": 142,
    "start_time": "2022-12-21T10:13:39.552Z"
   },
   {
    "duration": 26,
    "start_time": "2022-12-21T10:13:39.698Z"
   },
   {
    "duration": 7,
    "start_time": "2022-12-21T10:13:39.726Z"
   },
   {
    "duration": 4,
    "start_time": "2022-12-21T10:13:39.735Z"
   },
   {
    "duration": 20,
    "start_time": "2022-12-21T10:13:39.741Z"
   },
   {
    "duration": 6,
    "start_time": "2022-12-21T10:13:39.763Z"
   },
   {
    "duration": 10,
    "start_time": "2022-12-21T10:13:39.771Z"
   },
   {
    "duration": 233,
    "start_time": "2022-12-21T10:13:39.783Z"
   },
   {
    "duration": 6,
    "start_time": "2022-12-21T10:13:40.018Z"
   },
   {
    "duration": 15,
    "start_time": "2022-12-21T10:13:40.026Z"
   },
   {
    "duration": 265,
    "start_time": "2022-12-21T10:13:40.044Z"
   },
   {
    "duration": 10,
    "start_time": "2022-12-21T10:13:40.315Z"
   },
   {
    "duration": 309,
    "start_time": "2022-12-21T10:13:40.327Z"
   },
   {
    "duration": 10,
    "start_time": "2022-12-21T10:13:40.639Z"
   },
   {
    "duration": 273,
    "start_time": "2022-12-21T10:13:40.651Z"
   },
   {
    "duration": 5,
    "start_time": "2022-12-21T10:13:40.926Z"
   },
   {
    "duration": 12,
    "start_time": "2022-12-21T10:13:40.933Z"
   },
   {
    "duration": 146,
    "start_time": "2022-12-21T10:13:40.947Z"
   },
   {
    "duration": 22,
    "start_time": "2022-12-21T10:13:41.095Z"
   },
   {
    "duration": 150,
    "start_time": "2022-12-21T10:13:41.118Z"
   },
   {
    "duration": 9,
    "start_time": "2022-12-21T10:13:41.270Z"
   },
   {
    "duration": 175,
    "start_time": "2022-12-21T10:13:41.281Z"
   },
   {
    "duration": 8,
    "start_time": "2022-12-21T10:13:41.458Z"
   },
   {
    "duration": 277,
    "start_time": "2022-12-21T10:13:41.467Z"
   },
   {
    "duration": 110,
    "start_time": "2022-12-21T10:13:41.746Z"
   },
   {
    "duration": 8,
    "start_time": "2022-12-21T10:13:41.858Z"
   },
   {
    "duration": 153,
    "start_time": "2022-12-21T10:13:41.868Z"
   },
   {
    "duration": 9,
    "start_time": "2022-12-21T10:13:42.023Z"
   },
   {
    "duration": 701,
    "start_time": "2022-12-21T10:13:42.033Z"
   },
   {
    "duration": 9,
    "start_time": "2022-12-21T10:13:42.736Z"
   },
   {
    "duration": 241,
    "start_time": "2022-12-21T10:13:42.746Z"
   },
   {
    "duration": 9,
    "start_time": "2022-12-21T10:13:42.988Z"
   },
   {
    "duration": 222,
    "start_time": "2022-12-21T10:13:42.999Z"
   },
   {
    "duration": 144,
    "start_time": "2022-12-21T10:13:43.223Z"
   },
   {
    "duration": 135,
    "start_time": "2022-12-21T10:13:43.369Z"
   },
   {
    "duration": 17,
    "start_time": "2022-12-21T10:13:43.506Z"
   },
   {
    "duration": 254,
    "start_time": "2022-12-21T10:13:43.525Z"
   },
   {
    "duration": 5,
    "start_time": "2022-12-21T10:13:43.780Z"
   },
   {
    "duration": 159,
    "start_time": "2022-12-21T10:13:43.786Z"
   },
   {
    "duration": 6,
    "start_time": "2022-12-21T10:13:43.947Z"
   },
   {
    "duration": 205,
    "start_time": "2022-12-21T10:13:43.954Z"
   },
   {
    "duration": 5,
    "start_time": "2022-12-21T10:13:44.160Z"
   },
   {
    "duration": 181,
    "start_time": "2022-12-21T10:13:44.166Z"
   },
   {
    "duration": 5,
    "start_time": "2022-12-21T10:13:44.349Z"
   },
   {
    "duration": 201,
    "start_time": "2022-12-21T10:13:44.355Z"
   },
   {
    "duration": 202,
    "start_time": "2022-12-21T10:13:44.557Z"
   },
   {
    "duration": 465,
    "start_time": "2022-12-21T10:13:44.761Z"
   },
   {
    "duration": 23,
    "start_time": "2022-12-21T10:13:45.228Z"
   },
   {
    "duration": 14,
    "start_time": "2022-12-21T10:13:45.253Z"
   },
   {
    "duration": 13,
    "start_time": "2022-12-21T10:13:45.269Z"
   },
   {
    "duration": 150,
    "start_time": "2022-12-21T10:17:10.266Z"
   },
   {
    "duration": 14,
    "start_time": "2022-12-21T10:17:10.418Z"
   },
   {
    "duration": 1825,
    "start_time": "2022-12-21T10:17:10.433Z"
   },
   {
    "duration": 10,
    "start_time": "2022-12-21T10:17:12.260Z"
   },
   {
    "duration": 13,
    "start_time": "2022-12-21T10:17:12.271Z"
   },
   {
    "duration": 5,
    "start_time": "2022-12-21T10:17:12.286Z"
   },
   {
    "duration": 31,
    "start_time": "2022-12-21T10:17:12.293Z"
   },
   {
    "duration": 29,
    "start_time": "2022-12-21T10:17:12.326Z"
   },
   {
    "duration": 5,
    "start_time": "2022-12-21T10:17:12.358Z"
   },
   {
    "duration": 14,
    "start_time": "2022-12-21T10:17:12.366Z"
   },
   {
    "duration": 9,
    "start_time": "2022-12-21T10:17:12.382Z"
   },
   {
    "duration": 16,
    "start_time": "2022-12-21T10:17:12.392Z"
   },
   {
    "duration": 45,
    "start_time": "2022-12-21T10:17:12.415Z"
   },
   {
    "duration": 5,
    "start_time": "2022-12-21T10:17:12.462Z"
   },
   {
    "duration": 23,
    "start_time": "2022-12-21T10:17:12.468Z"
   },
   {
    "duration": 27,
    "start_time": "2022-12-21T10:17:12.493Z"
   },
   {
    "duration": 22,
    "start_time": "2022-12-21T10:17:12.521Z"
   },
   {
    "duration": 11,
    "start_time": "2022-12-21T10:17:12.545Z"
   },
   {
    "duration": 19,
    "start_time": "2022-12-21T10:17:12.558Z"
   },
   {
    "duration": 21,
    "start_time": "2022-12-21T10:17:12.579Z"
   },
   {
    "duration": 50,
    "start_time": "2022-12-21T10:17:12.602Z"
   },
   {
    "duration": 7,
    "start_time": "2022-12-21T10:17:12.654Z"
   },
   {
    "duration": 13,
    "start_time": "2022-12-21T10:17:12.663Z"
   },
   {
    "duration": 7,
    "start_time": "2022-12-21T10:17:12.678Z"
   },
   {
    "duration": 145,
    "start_time": "2022-12-21T10:17:12.686Z"
   },
   {
    "duration": 17,
    "start_time": "2022-12-21T10:17:12.832Z"
   },
   {
    "duration": 7,
    "start_time": "2022-12-21T10:17:12.850Z"
   },
   {
    "duration": 4,
    "start_time": "2022-12-21T10:17:12.860Z"
   },
   {
    "duration": 24,
    "start_time": "2022-12-21T10:17:12.866Z"
   },
   {
    "duration": 24,
    "start_time": "2022-12-21T10:17:12.892Z"
   },
   {
    "duration": 9,
    "start_time": "2022-12-21T10:17:12.918Z"
   },
   {
    "duration": 223,
    "start_time": "2022-12-21T10:17:12.929Z"
   },
   {
    "duration": 8,
    "start_time": "2022-12-21T10:17:13.154Z"
   },
   {
    "duration": 13,
    "start_time": "2022-12-21T10:17:13.164Z"
   },
   {
    "duration": 269,
    "start_time": "2022-12-21T10:17:13.179Z"
   },
   {
    "duration": 11,
    "start_time": "2022-12-21T10:17:13.450Z"
   },
   {
    "duration": 286,
    "start_time": "2022-12-21T10:17:13.463Z"
   },
   {
    "duration": 11,
    "start_time": "2022-12-21T10:17:13.751Z"
   },
   {
    "duration": 262,
    "start_time": "2022-12-21T10:17:13.764Z"
   },
   {
    "duration": 7,
    "start_time": "2022-12-21T10:17:14.028Z"
   },
   {
    "duration": 18,
    "start_time": "2022-12-21T10:17:14.036Z"
   },
   {
    "duration": 148,
    "start_time": "2022-12-21T10:17:14.055Z"
   },
   {
    "duration": 16,
    "start_time": "2022-12-21T10:17:14.205Z"
   },
   {
    "duration": 145,
    "start_time": "2022-12-21T10:17:14.223Z"
   },
   {
    "duration": 9,
    "start_time": "2022-12-21T10:17:14.370Z"
   },
   {
    "duration": 154,
    "start_time": "2022-12-21T10:17:14.381Z"
   },
   {
    "duration": 7,
    "start_time": "2022-12-21T10:17:14.537Z"
   },
   {
    "duration": 255,
    "start_time": "2022-12-21T10:17:14.546Z"
   },
   {
    "duration": 112,
    "start_time": "2022-12-21T10:17:14.803Z"
   },
   {
    "duration": 10,
    "start_time": "2022-12-21T10:17:14.917Z"
   },
   {
    "duration": 162,
    "start_time": "2022-12-21T10:17:14.928Z"
   },
   {
    "duration": 9,
    "start_time": "2022-12-21T10:17:15.092Z"
   },
   {
    "duration": 222,
    "start_time": "2022-12-21T10:17:15.116Z"
   },
   {
    "duration": 9,
    "start_time": "2022-12-21T10:17:15.340Z"
   },
   {
    "duration": 266,
    "start_time": "2022-12-21T10:17:15.351Z"
   },
   {
    "duration": 11,
    "start_time": "2022-12-21T10:17:15.619Z"
   },
   {
    "duration": 211,
    "start_time": "2022-12-21T10:17:15.633Z"
   },
   {
    "duration": 141,
    "start_time": "2022-12-21T10:17:15.846Z"
   },
   {
    "duration": 155,
    "start_time": "2022-12-21T10:17:15.989Z"
   },
   {
    "duration": 9,
    "start_time": "2022-12-21T10:17:16.145Z"
   },
   {
    "duration": 246,
    "start_time": "2022-12-21T10:17:16.155Z"
   },
   {
    "duration": 14,
    "start_time": "2022-12-21T10:17:16.402Z"
   },
   {
    "duration": 156,
    "start_time": "2022-12-21T10:17:16.419Z"
   },
   {
    "duration": 5,
    "start_time": "2022-12-21T10:17:16.577Z"
   },
   {
    "duration": 203,
    "start_time": "2022-12-21T10:17:16.584Z"
   },
   {
    "duration": 6,
    "start_time": "2022-12-21T10:17:16.789Z"
   },
   {
    "duration": 197,
    "start_time": "2022-12-21T10:17:16.796Z"
   },
   {
    "duration": 5,
    "start_time": "2022-12-21T10:17:16.994Z"
   },
   {
    "duration": 155,
    "start_time": "2022-12-21T10:17:17.015Z"
   },
   {
    "duration": 143,
    "start_time": "2022-12-21T10:17:17.172Z"
   },
   {
    "duration": 450,
    "start_time": "2022-12-21T10:17:17.317Z"
   },
   {
    "duration": 23,
    "start_time": "2022-12-21T10:17:17.769Z"
   },
   {
    "duration": 27,
    "start_time": "2022-12-21T10:17:17.793Z"
   },
   {
    "duration": 12,
    "start_time": "2022-12-21T10:17:17.822Z"
   },
   {
    "duration": 780,
    "start_time": "2022-12-21T12:15:50.187Z"
   },
   {
    "duration": 253,
    "start_time": "2022-12-21T12:16:24.701Z"
   },
   {
    "duration": 10,
    "start_time": "2022-12-21T12:20:17.528Z"
   },
   {
    "duration": 8,
    "start_time": "2022-12-21T12:24:37.193Z"
   },
   {
    "duration": 17,
    "start_time": "2022-12-21T12:24:51.794Z"
   },
   {
    "duration": 42,
    "start_time": "2022-12-21T12:27:45.872Z"
   },
   {
    "duration": 202,
    "start_time": "2022-12-21T12:29:46.528Z"
   },
   {
    "duration": 158,
    "start_time": "2022-12-21T12:29:58.628Z"
   },
   {
    "duration": 273,
    "start_time": "2022-12-21T12:30:11.080Z"
   },
   {
    "duration": 12,
    "start_time": "2022-12-21T12:31:05.433Z"
   },
   {
    "duration": 13,
    "start_time": "2022-12-21T12:31:32.985Z"
   },
   {
    "duration": 228,
    "start_time": "2022-12-21T12:32:10.172Z"
   },
   {
    "duration": 250,
    "start_time": "2022-12-21T12:32:43.779Z"
   },
   {
    "duration": 256,
    "start_time": "2022-12-21T12:32:55.293Z"
   },
   {
    "duration": 259,
    "start_time": "2022-12-21T12:32:59.130Z"
   },
   {
    "duration": 262,
    "start_time": "2022-12-21T12:33:12.172Z"
   },
   {
    "duration": 57,
    "start_time": "2022-12-21T12:34:57.175Z"
   },
   {
    "duration": 7,
    "start_time": "2022-12-21T12:35:03.480Z"
   },
   {
    "duration": 294,
    "start_time": "2022-12-21T12:36:55.373Z"
   },
   {
    "duration": 9,
    "start_time": "2022-12-21T12:38:29.473Z"
   },
   {
    "duration": 134,
    "start_time": "2022-12-21T12:38:35.414Z"
   },
   {
    "duration": 14,
    "start_time": "2022-12-21T12:38:35.549Z"
   },
   {
    "duration": 2004,
    "start_time": "2022-12-21T12:38:35.565Z"
   },
   {
    "duration": 10,
    "start_time": "2022-12-21T12:38:37.572Z"
   },
   {
    "duration": 10,
    "start_time": "2022-12-21T12:38:37.583Z"
   },
   {
    "duration": 21,
    "start_time": "2022-12-21T12:38:37.595Z"
   },
   {
    "duration": 21,
    "start_time": "2022-12-21T12:38:37.618Z"
   },
   {
    "duration": 4,
    "start_time": "2022-12-21T12:38:37.641Z"
   },
   {
    "duration": 13,
    "start_time": "2022-12-21T12:38:37.646Z"
   },
   {
    "duration": 12,
    "start_time": "2022-12-21T12:38:37.661Z"
   },
   {
    "duration": 9,
    "start_time": "2022-12-21T12:38:37.675Z"
   },
   {
    "duration": 41,
    "start_time": "2022-12-21T12:38:37.685Z"
   },
   {
    "duration": 41,
    "start_time": "2022-12-21T12:38:37.728Z"
   },
   {
    "duration": 5,
    "start_time": "2022-12-21T12:38:37.770Z"
   },
   {
    "duration": 12,
    "start_time": "2022-12-21T12:38:37.776Z"
   },
   {
    "duration": 38,
    "start_time": "2022-12-21T12:38:37.790Z"
   },
   {
    "duration": 18,
    "start_time": "2022-12-21T12:38:37.830Z"
   },
   {
    "duration": 7,
    "start_time": "2022-12-21T12:38:37.850Z"
   },
   {
    "duration": 12,
    "start_time": "2022-12-21T12:38:37.858Z"
   },
   {
    "duration": 12,
    "start_time": "2022-12-21T12:38:37.872Z"
   },
   {
    "duration": 52,
    "start_time": "2022-12-21T12:38:37.885Z"
   },
   {
    "duration": 7,
    "start_time": "2022-12-21T12:38:37.939Z"
   },
   {
    "duration": 15,
    "start_time": "2022-12-21T12:38:37.947Z"
   },
   {
    "duration": 46,
    "start_time": "2022-12-21T12:38:37.964Z"
   },
   {
    "duration": 0,
    "start_time": "2022-12-21T12:38:38.013Z"
   },
   {
    "duration": 0,
    "start_time": "2022-12-21T12:38:38.014Z"
   },
   {
    "duration": 0,
    "start_time": "2022-12-21T12:38:38.015Z"
   },
   {
    "duration": 0,
    "start_time": "2022-12-21T12:38:38.016Z"
   },
   {
    "duration": 0,
    "start_time": "2022-12-21T12:38:38.016Z"
   },
   {
    "duration": 0,
    "start_time": "2022-12-21T12:38:38.017Z"
   },
   {
    "duration": 0,
    "start_time": "2022-12-21T12:38:38.018Z"
   },
   {
    "duration": 0,
    "start_time": "2022-12-21T12:38:38.019Z"
   },
   {
    "duration": 0,
    "start_time": "2022-12-21T12:38:38.020Z"
   },
   {
    "duration": 0,
    "start_time": "2022-12-21T12:38:38.020Z"
   },
   {
    "duration": 0,
    "start_time": "2022-12-21T12:38:38.021Z"
   },
   {
    "duration": 0,
    "start_time": "2022-12-21T12:38:38.022Z"
   },
   {
    "duration": 0,
    "start_time": "2022-12-21T12:38:38.023Z"
   },
   {
    "duration": 0,
    "start_time": "2022-12-21T12:38:38.024Z"
   },
   {
    "duration": 0,
    "start_time": "2022-12-21T12:38:38.024Z"
   },
   {
    "duration": 0,
    "start_time": "2022-12-21T12:38:38.025Z"
   },
   {
    "duration": 0,
    "start_time": "2022-12-21T12:38:38.028Z"
   },
   {
    "duration": 0,
    "start_time": "2022-12-21T12:38:38.028Z"
   },
   {
    "duration": 0,
    "start_time": "2022-12-21T12:38:38.029Z"
   },
   {
    "duration": 0,
    "start_time": "2022-12-21T12:38:38.030Z"
   },
   {
    "duration": 0,
    "start_time": "2022-12-21T12:38:38.031Z"
   },
   {
    "duration": 0,
    "start_time": "2022-12-21T12:38:38.032Z"
   },
   {
    "duration": 0,
    "start_time": "2022-12-21T12:38:38.033Z"
   },
   {
    "duration": 0,
    "start_time": "2022-12-21T12:38:38.035Z"
   },
   {
    "duration": 0,
    "start_time": "2022-12-21T12:38:38.036Z"
   },
   {
    "duration": 0,
    "start_time": "2022-12-21T12:38:38.037Z"
   },
   {
    "duration": 0,
    "start_time": "2022-12-21T12:38:38.038Z"
   },
   {
    "duration": 0,
    "start_time": "2022-12-21T12:38:38.039Z"
   },
   {
    "duration": 0,
    "start_time": "2022-12-21T12:38:38.041Z"
   },
   {
    "duration": 0,
    "start_time": "2022-12-21T12:38:38.042Z"
   },
   {
    "duration": 0,
    "start_time": "2022-12-21T12:38:38.043Z"
   },
   {
    "duration": 0,
    "start_time": "2022-12-21T12:38:38.044Z"
   },
   {
    "duration": 0,
    "start_time": "2022-12-21T12:38:38.045Z"
   },
   {
    "duration": 0,
    "start_time": "2022-12-21T12:38:38.046Z"
   },
   {
    "duration": 0,
    "start_time": "2022-12-21T12:38:38.047Z"
   },
   {
    "duration": 0,
    "start_time": "2022-12-21T12:38:38.048Z"
   },
   {
    "duration": 0,
    "start_time": "2022-12-21T12:38:38.049Z"
   },
   {
    "duration": 0,
    "start_time": "2022-12-21T12:38:38.050Z"
   },
   {
    "duration": 0,
    "start_time": "2022-12-21T12:38:38.052Z"
   },
   {
    "duration": 0,
    "start_time": "2022-12-21T12:38:38.053Z"
   },
   {
    "duration": 0,
    "start_time": "2022-12-21T12:38:38.057Z"
   },
   {
    "duration": 0,
    "start_time": "2022-12-21T12:38:38.058Z"
   },
   {
    "duration": 0,
    "start_time": "2022-12-21T12:38:38.060Z"
   },
   {
    "duration": 0,
    "start_time": "2022-12-21T12:38:38.061Z"
   },
   {
    "duration": 0,
    "start_time": "2022-12-21T12:38:38.062Z"
   },
   {
    "duration": 0,
    "start_time": "2022-12-21T12:38:38.063Z"
   },
   {
    "duration": 0,
    "start_time": "2022-12-21T12:38:38.117Z"
   },
   {
    "duration": 0,
    "start_time": "2022-12-21T12:38:38.118Z"
   },
   {
    "duration": 0,
    "start_time": "2022-12-21T12:38:38.124Z"
   },
   {
    "duration": 0,
    "start_time": "2022-12-21T12:38:38.127Z"
   },
   {
    "duration": 0,
    "start_time": "2022-12-21T12:38:38.128Z"
   },
   {
    "duration": 144,
    "start_time": "2022-12-21T12:39:38.893Z"
   },
   {
    "duration": 16,
    "start_time": "2022-12-21T12:39:39.039Z"
   },
   {
    "duration": 1913,
    "start_time": "2022-12-21T12:39:39.057Z"
   },
   {
    "duration": 12,
    "start_time": "2022-12-21T12:39:40.972Z"
   },
   {
    "duration": 17,
    "start_time": "2022-12-21T12:39:40.986Z"
   },
   {
    "duration": 12,
    "start_time": "2022-12-21T12:39:41.017Z"
   },
   {
    "duration": 26,
    "start_time": "2022-12-21T12:39:41.031Z"
   },
   {
    "duration": 6,
    "start_time": "2022-12-21T12:39:41.058Z"
   },
   {
    "duration": 6,
    "start_time": "2022-12-21T12:39:41.065Z"
   },
   {
    "duration": 12,
    "start_time": "2022-12-21T12:39:41.074Z"
   },
   {
    "duration": 11,
    "start_time": "2022-12-21T12:39:41.088Z"
   },
   {
    "duration": 36,
    "start_time": "2022-12-21T12:39:41.101Z"
   },
   {
    "duration": 40,
    "start_time": "2022-12-21T12:39:41.139Z"
   },
   {
    "duration": 5,
    "start_time": "2022-12-21T12:39:41.181Z"
   },
   {
    "duration": 37,
    "start_time": "2022-12-21T12:39:41.188Z"
   },
   {
    "duration": 13,
    "start_time": "2022-12-21T12:39:41.228Z"
   },
   {
    "duration": 17,
    "start_time": "2022-12-21T12:39:41.242Z"
   },
   {
    "duration": 8,
    "start_time": "2022-12-21T12:39:41.260Z"
   },
   {
    "duration": 13,
    "start_time": "2022-12-21T12:39:41.269Z"
   },
   {
    "duration": 50,
    "start_time": "2022-12-21T12:39:41.283Z"
   },
   {
    "duration": 25,
    "start_time": "2022-12-21T12:39:41.335Z"
   },
   {
    "duration": 13,
    "start_time": "2022-12-21T12:39:41.362Z"
   },
   {
    "duration": 9,
    "start_time": "2022-12-21T12:39:41.377Z"
   },
   {
    "duration": 7,
    "start_time": "2022-12-21T12:39:41.388Z"
   },
   {
    "duration": 156,
    "start_time": "2022-12-21T12:39:41.396Z"
   },
   {
    "duration": 15,
    "start_time": "2022-12-21T12:39:41.553Z"
   },
   {
    "duration": 7,
    "start_time": "2022-12-21T12:39:41.570Z"
   },
   {
    "duration": 4,
    "start_time": "2022-12-21T12:39:41.581Z"
   },
   {
    "duration": 46,
    "start_time": "2022-12-21T12:39:41.586Z"
   },
   {
    "duration": 17,
    "start_time": "2022-12-21T12:39:41.634Z"
   },
   {
    "duration": 7,
    "start_time": "2022-12-21T12:39:41.653Z"
   },
   {
    "duration": 239,
    "start_time": "2022-12-21T12:39:41.662Z"
   },
   {
    "duration": 27,
    "start_time": "2022-12-21T12:39:41.903Z"
   },
   {
    "duration": 9,
    "start_time": "2022-12-21T12:39:41.932Z"
   },
   {
    "duration": 292,
    "start_time": "2022-12-21T12:39:41.942Z"
   },
   {
    "duration": 9,
    "start_time": "2022-12-21T12:39:42.235Z"
   },
   {
    "duration": 248,
    "start_time": "2022-12-21T12:39:42.245Z"
   },
   {
    "duration": 9,
    "start_time": "2022-12-21T12:39:42.494Z"
   },
   {
    "duration": 277,
    "start_time": "2022-12-21T12:39:42.504Z"
   },
   {
    "duration": 6,
    "start_time": "2022-12-21T12:39:42.782Z"
   },
   {
    "duration": 12,
    "start_time": "2022-12-21T12:39:42.790Z"
   },
   {
    "duration": 140,
    "start_time": "2022-12-21T12:39:42.816Z"
   },
   {
    "duration": 8,
    "start_time": "2022-12-21T12:39:42.957Z"
   },
   {
    "duration": 160,
    "start_time": "2022-12-21T12:39:42.967Z"
   },
   {
    "duration": 8,
    "start_time": "2022-12-21T12:39:43.129Z"
   },
   {
    "duration": 153,
    "start_time": "2022-12-21T12:39:43.139Z"
   },
   {
    "duration": 8,
    "start_time": "2022-12-21T12:39:43.293Z"
   },
   {
    "duration": 269,
    "start_time": "2022-12-21T12:39:43.303Z"
   },
   {
    "duration": 115,
    "start_time": "2022-12-21T12:39:43.574Z"
   },
   {
    "duration": 37,
    "start_time": "2022-12-21T12:39:43.691Z"
   },
   {
    "duration": 149,
    "start_time": "2022-12-21T12:39:43.729Z"
   },
   {
    "duration": 8,
    "start_time": "2022-12-21T12:39:43.880Z"
   },
   {
    "duration": 239,
    "start_time": "2022-12-21T12:39:43.890Z"
   },
   {
    "duration": 12,
    "start_time": "2022-12-21T12:39:44.131Z"
   },
   {
    "duration": 299,
    "start_time": "2022-12-21T12:39:44.145Z"
   },
   {
    "duration": 9,
    "start_time": "2022-12-21T12:39:44.445Z"
   },
   {
    "duration": 366,
    "start_time": "2022-12-21T12:39:44.456Z"
   },
   {
    "duration": 807,
    "start_time": "2022-12-21T12:39:44.823Z"
   },
   {
    "duration": 145,
    "start_time": "2022-12-21T12:39:45.631Z"
   },
   {
    "duration": 8,
    "start_time": "2022-12-21T12:39:45.778Z"
   },
   {
    "duration": 252,
    "start_time": "2022-12-21T12:39:45.788Z"
   },
   {
    "duration": 5,
    "start_time": "2022-12-21T12:39:46.042Z"
   },
   {
    "duration": 185,
    "start_time": "2022-12-21T12:39:46.049Z"
   },
   {
    "duration": 6,
    "start_time": "2022-12-21T12:39:46.237Z"
   },
   {
    "duration": 196,
    "start_time": "2022-12-21T12:39:46.245Z"
   },
   {
    "duration": 5,
    "start_time": "2022-12-21T12:39:46.444Z"
   },
   {
    "duration": 178,
    "start_time": "2022-12-21T12:39:46.451Z"
   },
   {
    "duration": 6,
    "start_time": "2022-12-21T12:39:46.630Z"
   },
   {
    "duration": 180,
    "start_time": "2022-12-21T12:39:46.637Z"
   },
   {
    "duration": 146,
    "start_time": "2022-12-21T12:39:46.819Z"
   },
   {
    "duration": 480,
    "start_time": "2022-12-21T12:39:46.967Z"
   },
   {
    "duration": 22,
    "start_time": "2022-12-21T12:39:47.448Z"
   },
   {
    "duration": 14,
    "start_time": "2022-12-21T12:39:47.472Z"
   },
   {
    "duration": 39,
    "start_time": "2022-12-21T12:39:47.487Z"
   },
   {
    "duration": 10,
    "start_time": "2022-12-21T12:40:55.504Z"
   },
   {
    "duration": 47,
    "start_time": "2022-12-21T12:41:52.029Z"
   },
   {
    "duration": 4,
    "start_time": "2022-12-21T12:42:50.688Z"
   },
   {
    "duration": 179,
    "start_time": "2022-12-21T12:47:00.786Z"
   },
   {
    "duration": 137,
    "start_time": "2022-12-21T12:47:08.340Z"
   },
   {
    "duration": 268,
    "start_time": "2022-12-21T12:47:14.713Z"
   },
   {
    "duration": 300,
    "start_time": "2022-12-21T12:47:44.978Z"
   },
   {
    "duration": 275,
    "start_time": "2022-12-21T12:48:05.872Z"
   },
   {
    "duration": 47,
    "start_time": "2022-12-22T06:57:30.671Z"
   },
   {
    "duration": 753,
    "start_time": "2022-12-22T06:57:36.907Z"
   },
   {
    "duration": 14,
    "start_time": "2022-12-22T06:57:37.662Z"
   },
   {
    "duration": 2171,
    "start_time": "2022-12-22T06:57:37.677Z"
   },
   {
    "duration": 10,
    "start_time": "2022-12-22T06:57:39.850Z"
   },
   {
    "duration": 14,
    "start_time": "2022-12-22T06:57:39.861Z"
   },
   {
    "duration": 4,
    "start_time": "2022-12-22T06:57:39.876Z"
   },
   {
    "duration": 17,
    "start_time": "2022-12-22T06:57:39.882Z"
   },
   {
    "duration": 4,
    "start_time": "2022-12-22T06:57:39.902Z"
   },
   {
    "duration": 16,
    "start_time": "2022-12-22T06:57:39.907Z"
   },
   {
    "duration": 14,
    "start_time": "2022-12-22T06:57:39.926Z"
   },
   {
    "duration": 10,
    "start_time": "2022-12-22T06:57:39.941Z"
   },
   {
    "duration": 15,
    "start_time": "2022-12-22T06:57:39.952Z"
   },
   {
    "duration": 54,
    "start_time": "2022-12-22T06:57:39.968Z"
   },
   {
    "duration": 4,
    "start_time": "2022-12-22T06:57:40.024Z"
   },
   {
    "duration": 12,
    "start_time": "2022-12-22T06:57:40.029Z"
   },
   {
    "duration": 11,
    "start_time": "2022-12-22T06:57:40.043Z"
   },
   {
    "duration": 17,
    "start_time": "2022-12-22T06:57:40.056Z"
   },
   {
    "duration": 7,
    "start_time": "2022-12-22T06:57:40.075Z"
   },
   {
    "duration": 13,
    "start_time": "2022-12-22T06:57:40.083Z"
   },
   {
    "duration": 34,
    "start_time": "2022-12-22T06:57:40.098Z"
   },
   {
    "duration": 28,
    "start_time": "2022-12-22T06:57:40.133Z"
   },
   {
    "duration": 10,
    "start_time": "2022-12-22T06:57:40.163Z"
   },
   {
    "duration": 15,
    "start_time": "2022-12-22T06:57:40.174Z"
   },
   {
    "duration": 22,
    "start_time": "2022-12-22T06:57:40.190Z"
   },
   {
    "duration": 132,
    "start_time": "2022-12-22T06:57:40.214Z"
   },
   {
    "duration": 18,
    "start_time": "2022-12-22T06:57:40.348Z"
   },
   {
    "duration": 7,
    "start_time": "2022-12-22T06:57:40.368Z"
   },
   {
    "duration": 5,
    "start_time": "2022-12-22T06:57:40.379Z"
   },
   {
    "duration": 19,
    "start_time": "2022-12-22T06:57:40.385Z"
   },
   {
    "duration": 20,
    "start_time": "2022-12-22T06:57:40.406Z"
   },
   {
    "duration": 6,
    "start_time": "2022-12-22T06:57:40.428Z"
   },
   {
    "duration": 206,
    "start_time": "2022-12-22T06:57:40.436Z"
   },
   {
    "duration": 6,
    "start_time": "2022-12-22T06:57:40.644Z"
   },
   {
    "duration": 10,
    "start_time": "2022-12-22T06:57:40.652Z"
   },
   {
    "duration": 260,
    "start_time": "2022-12-22T06:57:40.663Z"
   },
   {
    "duration": 9,
    "start_time": "2022-12-22T06:57:40.924Z"
   },
   {
    "duration": 287,
    "start_time": "2022-12-22T06:57:40.935Z"
   },
   {
    "duration": 8,
    "start_time": "2022-12-22T06:57:41.224Z"
   },
   {
    "duration": 243,
    "start_time": "2022-12-22T06:57:41.234Z"
   },
   {
    "duration": 7,
    "start_time": "2022-12-22T06:57:41.479Z"
   },
   {
    "duration": 21,
    "start_time": "2022-12-22T06:57:41.487Z"
   },
   {
    "duration": 280,
    "start_time": "2022-12-22T06:57:41.510Z"
   },
   {
    "duration": 8,
    "start_time": "2022-12-22T06:57:41.791Z"
   },
   {
    "duration": 129,
    "start_time": "2022-12-22T06:57:41.801Z"
   },
   {
    "duration": 10,
    "start_time": "2022-12-22T06:57:41.931Z"
   },
   {
    "duration": 147,
    "start_time": "2022-12-22T06:57:41.943Z"
   },
   {
    "duration": 7,
    "start_time": "2022-12-22T06:57:42.092Z"
   },
   {
    "duration": 239,
    "start_time": "2022-12-22T06:57:42.101Z"
   },
   {
    "duration": 107,
    "start_time": "2022-12-22T06:57:42.342Z"
   },
   {
    "duration": 8,
    "start_time": "2022-12-22T06:57:42.450Z"
   },
   {
    "duration": 234,
    "start_time": "2022-12-22T06:57:42.459Z"
   },
   {
    "duration": 9,
    "start_time": "2022-12-22T06:57:42.694Z"
   },
   {
    "duration": 231,
    "start_time": "2022-12-22T06:57:42.704Z"
   },
   {
    "duration": 8,
    "start_time": "2022-12-22T06:57:42.937Z"
   },
   {
    "duration": 224,
    "start_time": "2022-12-22T06:57:42.946Z"
   },
   {
    "duration": 8,
    "start_time": "2022-12-22T06:57:43.171Z"
   },
   {
    "duration": 183,
    "start_time": "2022-12-22T06:57:43.181Z"
   },
   {
    "duration": 137,
    "start_time": "2022-12-22T06:57:43.366Z"
   },
   {
    "duration": 135,
    "start_time": "2022-12-22T06:57:43.505Z"
   },
   {
    "duration": 9,
    "start_time": "2022-12-22T06:57:43.641Z"
   },
   {
    "duration": 237,
    "start_time": "2022-12-22T06:57:43.651Z"
   },
   {
    "duration": 6,
    "start_time": "2022-12-22T06:57:43.889Z"
   },
   {
    "duration": 149,
    "start_time": "2022-12-22T06:57:43.896Z"
   },
   {
    "duration": 6,
    "start_time": "2022-12-22T06:57:44.047Z"
   },
   {
    "duration": 161,
    "start_time": "2022-12-22T06:57:44.054Z"
   },
   {
    "duration": 8,
    "start_time": "2022-12-22T06:57:44.217Z"
   },
   {
    "duration": 252,
    "start_time": "2022-12-22T06:57:44.226Z"
   },
   {
    "duration": 6,
    "start_time": "2022-12-22T06:57:44.480Z"
   },
   {
    "duration": 190,
    "start_time": "2022-12-22T06:57:44.488Z"
   },
   {
    "duration": 129,
    "start_time": "2022-12-22T06:57:44.680Z"
   },
   {
    "duration": 402,
    "start_time": "2022-12-22T06:57:44.811Z"
   },
   {
    "duration": 20,
    "start_time": "2022-12-22T06:57:45.221Z"
   },
   {
    "duration": 13,
    "start_time": "2022-12-22T06:57:45.243Z"
   },
   {
    "duration": 17,
    "start_time": "2022-12-22T06:57:45.257Z"
   },
   {
    "duration": 114,
    "start_time": "2022-12-22T06:58:03.557Z"
   },
   {
    "duration": 130,
    "start_time": "2022-12-22T07:00:03.828Z"
   },
   {
    "duration": 133,
    "start_time": "2022-12-22T07:09:13.363Z"
   },
   {
    "duration": 177,
    "start_time": "2022-12-22T07:11:16.163Z"
   },
   {
    "duration": 178,
    "start_time": "2022-12-22T07:11:47.133Z"
   },
   {
    "duration": 149,
    "start_time": "2022-12-22T07:12:18.716Z"
   },
   {
    "duration": 131,
    "start_time": "2022-12-22T07:12:34.611Z"
   },
   {
    "duration": 139,
    "start_time": "2022-12-22T07:12:42.716Z"
   },
   {
    "duration": 183,
    "start_time": "2022-12-22T07:13:31.888Z"
   },
   {
    "duration": 172,
    "start_time": "2022-12-22T07:14:02.200Z"
   },
   {
    "duration": 258,
    "start_time": "2022-12-22T07:14:04.716Z"
   },
   {
    "duration": 174,
    "start_time": "2022-12-22T07:14:42.348Z"
   },
   {
    "duration": 7,
    "start_time": "2022-12-22T07:18:30.715Z"
   },
   {
    "duration": 8,
    "start_time": "2022-12-22T07:19:06.171Z"
   },
   {
    "duration": 36,
    "start_time": "2022-12-22T07:19:38.991Z"
   },
   {
    "duration": 7,
    "start_time": "2022-12-22T07:19:54.379Z"
   },
   {
    "duration": 6,
    "start_time": "2022-12-22T07:19:58.436Z"
   },
   {
    "duration": 11,
    "start_time": "2022-12-22T07:20:29.755Z"
   },
   {
    "duration": 9,
    "start_time": "2022-12-22T07:20:45.635Z"
   },
   {
    "duration": 216,
    "start_time": "2022-12-22T07:29:20.722Z"
   },
   {
    "duration": 120,
    "start_time": "2022-12-22T07:29:32.081Z"
   },
   {
    "duration": 129,
    "start_time": "2022-12-22T07:30:02.226Z"
   },
   {
    "duration": 119,
    "start_time": "2022-12-22T07:30:07.673Z"
   },
   {
    "duration": 149,
    "start_time": "2022-12-22T07:30:18.290Z"
   },
   {
    "duration": 115,
    "start_time": "2022-12-22T07:30:21.274Z"
   },
   {
    "duration": 7,
    "start_time": "2022-12-22T07:30:51.058Z"
   },
   {
    "duration": 113,
    "start_time": "2022-12-22T07:32:15.473Z"
   },
   {
    "duration": 114,
    "start_time": "2022-12-22T07:32:37.258Z"
   },
   {
    "duration": 50,
    "start_time": "2022-12-22T07:34:07.394Z"
   },
   {
    "duration": 115,
    "start_time": "2022-12-22T07:34:15.873Z"
   },
   {
    "duration": 10,
    "start_time": "2022-12-22T07:35:37.209Z"
   },
   {
    "duration": 6,
    "start_time": "2022-12-22T07:36:19.497Z"
   },
   {
    "duration": 134,
    "start_time": "2022-12-22T07:36:38.608Z"
   },
   {
    "duration": 110,
    "start_time": "2022-12-22T07:36:45.961Z"
   },
   {
    "duration": 130,
    "start_time": "2022-12-22T07:36:55.544Z"
   },
   {
    "duration": 117,
    "start_time": "2022-12-22T07:38:21.912Z"
   },
   {
    "duration": 8,
    "start_time": "2022-12-22T07:38:42.104Z"
   },
   {
    "duration": 4,
    "start_time": "2022-12-22T07:40:48.280Z"
   },
   {
    "duration": 7,
    "start_time": "2022-12-22T07:41:08.784Z"
   },
   {
    "duration": 5,
    "start_time": "2022-12-22T07:41:14.080Z"
   },
   {
    "duration": 6,
    "start_time": "2022-12-22T07:41:17.400Z"
   },
   {
    "duration": 10,
    "start_time": "2022-12-22T07:41:25.143Z"
   },
   {
    "duration": 7,
    "start_time": "2022-12-22T07:41:39.001Z"
   },
   {
    "duration": 5,
    "start_time": "2022-12-22T07:41:58.224Z"
   },
   {
    "duration": 134,
    "start_time": "2022-12-22T08:11:37.332Z"
   },
   {
    "duration": 142,
    "start_time": "2022-12-22T08:12:33.605Z"
   },
   {
    "duration": 158,
    "start_time": "2022-12-22T08:12:38.828Z"
   },
   {
    "duration": 145,
    "start_time": "2022-12-22T08:12:48.647Z"
   },
   {
    "duration": 166,
    "start_time": "2022-12-22T08:12:55.222Z"
   },
   {
    "duration": 144,
    "start_time": "2022-12-22T08:12:59.140Z"
   },
   {
    "duration": 153,
    "start_time": "2022-12-22T08:13:05.818Z"
   },
   {
    "duration": 529,
    "start_time": "2022-12-22T08:21:22.819Z"
   },
   {
    "duration": 13,
    "start_time": "2022-12-22T08:21:23.350Z"
   },
   {
    "duration": 2012,
    "start_time": "2022-12-22T08:21:23.364Z"
   },
   {
    "duration": 12,
    "start_time": "2022-12-22T08:21:25.378Z"
   },
   {
    "duration": 11,
    "start_time": "2022-12-22T08:21:25.392Z"
   },
   {
    "duration": 16,
    "start_time": "2022-12-22T08:21:25.405Z"
   },
   {
    "duration": 24,
    "start_time": "2022-12-22T08:21:25.423Z"
   },
   {
    "duration": 8,
    "start_time": "2022-12-22T08:21:25.449Z"
   },
   {
    "duration": 13,
    "start_time": "2022-12-22T08:21:25.460Z"
   },
   {
    "duration": 19,
    "start_time": "2022-12-22T08:21:25.477Z"
   },
   {
    "duration": 10,
    "start_time": "2022-12-22T08:21:25.498Z"
   },
   {
    "duration": 18,
    "start_time": "2022-12-22T08:21:25.510Z"
   },
   {
    "duration": 40,
    "start_time": "2022-12-22T08:21:25.529Z"
   },
   {
    "duration": 5,
    "start_time": "2022-12-22T08:21:25.570Z"
   },
   {
    "duration": 32,
    "start_time": "2022-12-22T08:21:25.577Z"
   },
   {
    "duration": 11,
    "start_time": "2022-12-22T08:21:25.611Z"
   },
   {
    "duration": 23,
    "start_time": "2022-12-22T08:21:25.623Z"
   },
   {
    "duration": 14,
    "start_time": "2022-12-22T08:21:25.647Z"
   },
   {
    "duration": 16,
    "start_time": "2022-12-22T08:21:25.663Z"
   },
   {
    "duration": 17,
    "start_time": "2022-12-22T08:21:25.680Z"
   },
   {
    "duration": 35,
    "start_time": "2022-12-22T08:21:25.699Z"
   },
   {
    "duration": 8,
    "start_time": "2022-12-22T08:21:25.735Z"
   },
   {
    "duration": 15,
    "start_time": "2022-12-22T08:21:25.744Z"
   },
   {
    "duration": 7,
    "start_time": "2022-12-22T08:21:25.761Z"
   },
   {
    "duration": 130,
    "start_time": "2022-12-22T08:21:25.770Z"
   },
   {
    "duration": 28,
    "start_time": "2022-12-22T08:21:25.902Z"
   },
   {
    "duration": 6,
    "start_time": "2022-12-22T08:21:25.932Z"
   },
   {
    "duration": 4,
    "start_time": "2022-12-22T08:21:25.941Z"
   },
   {
    "duration": 13,
    "start_time": "2022-12-22T08:21:25.946Z"
   },
   {
    "duration": 16,
    "start_time": "2022-12-22T08:21:25.961Z"
   },
   {
    "duration": 8,
    "start_time": "2022-12-22T08:21:25.978Z"
   },
   {
    "duration": 206,
    "start_time": "2022-12-22T08:21:25.988Z"
   },
   {
    "duration": 6,
    "start_time": "2022-12-22T08:21:26.195Z"
   },
   {
    "duration": 21,
    "start_time": "2022-12-22T08:21:26.202Z"
   },
   {
    "duration": 243,
    "start_time": "2022-12-22T08:21:26.224Z"
   },
   {
    "duration": 8,
    "start_time": "2022-12-22T08:21:26.469Z"
   },
   {
    "duration": 300,
    "start_time": "2022-12-22T08:21:26.479Z"
   },
   {
    "duration": 8,
    "start_time": "2022-12-22T08:21:26.781Z"
   },
   {
    "duration": 225,
    "start_time": "2022-12-22T08:21:26.790Z"
   },
   {
    "duration": 6,
    "start_time": "2022-12-22T08:21:27.020Z"
   },
   {
    "duration": 39,
    "start_time": "2022-12-22T08:21:27.027Z"
   },
   {
    "duration": 225,
    "start_time": "2022-12-22T08:21:27.068Z"
   },
   {
    "duration": 8,
    "start_time": "2022-12-22T08:21:27.294Z"
   },
   {
    "duration": 120,
    "start_time": "2022-12-22T08:21:27.303Z"
   },
   {
    "duration": 8,
    "start_time": "2022-12-22T08:21:27.424Z"
   },
   {
    "duration": 136,
    "start_time": "2022-12-22T08:21:27.433Z"
   },
   {
    "duration": 8,
    "start_time": "2022-12-22T08:21:27.570Z"
   },
   {
    "duration": 243,
    "start_time": "2022-12-22T08:21:27.580Z"
   },
   {
    "duration": 105,
    "start_time": "2022-12-22T08:21:27.824Z"
   },
   {
    "duration": 8,
    "start_time": "2022-12-22T08:21:27.931Z"
   },
   {
    "duration": 195,
    "start_time": "2022-12-22T08:21:27.940Z"
   },
   {
    "duration": 208,
    "start_time": "2022-12-22T08:21:28.136Z"
   },
   {
    "duration": 8,
    "start_time": "2022-12-22T08:21:28.346Z"
   },
   {
    "duration": 217,
    "start_time": "2022-12-22T08:21:28.355Z"
   },
   {
    "duration": 9,
    "start_time": "2022-12-22T08:21:28.574Z"
   },
   {
    "duration": 227,
    "start_time": "2022-12-22T08:21:28.584Z"
   },
   {
    "duration": 12,
    "start_time": "2022-12-22T08:21:28.813Z"
   },
   {
    "duration": 175,
    "start_time": "2022-12-22T08:21:28.827Z"
   },
   {
    "duration": 119,
    "start_time": "2022-12-22T08:21:29.003Z"
   },
   {
    "duration": 130,
    "start_time": "2022-12-22T08:21:29.123Z"
   },
   {
    "duration": 6,
    "start_time": "2022-12-22T08:21:29.254Z"
   },
   {
    "duration": 14,
    "start_time": "2022-12-22T08:21:29.261Z"
   },
   {
    "duration": 225,
    "start_time": "2022-12-22T08:21:29.276Z"
   },
   {
    "duration": 4,
    "start_time": "2022-12-22T08:21:29.503Z"
   },
   {
    "duration": 148,
    "start_time": "2022-12-22T08:21:29.508Z"
   },
   {
    "duration": 5,
    "start_time": "2022-12-22T08:21:29.658Z"
   },
   {
    "duration": 156,
    "start_time": "2022-12-22T08:21:29.665Z"
   },
   {
    "duration": 6,
    "start_time": "2022-12-22T08:21:29.822Z"
   },
   {
    "duration": 144,
    "start_time": "2022-12-22T08:21:29.829Z"
   },
   {
    "duration": 5,
    "start_time": "2022-12-22T08:21:29.975Z"
   },
   {
    "duration": 256,
    "start_time": "2022-12-22T08:21:29.981Z"
   },
   {
    "duration": 140,
    "start_time": "2022-12-22T08:21:30.239Z"
   },
   {
    "duration": 424,
    "start_time": "2022-12-22T08:21:30.381Z"
   },
   {
    "duration": 27,
    "start_time": "2022-12-22T08:21:30.806Z"
   },
   {
    "duration": 20,
    "start_time": "2022-12-22T08:21:30.834Z"
   },
   {
    "duration": 19,
    "start_time": "2022-12-22T08:21:30.856Z"
   },
   {
    "duration": 187,
    "start_time": "2022-12-22T08:22:03.219Z"
   },
   {
    "duration": 113,
    "start_time": "2022-12-22T08:23:06.082Z"
   },
   {
    "duration": 111,
    "start_time": "2022-12-22T08:23:16.802Z"
   },
   {
    "duration": 5,
    "start_time": "2022-12-22T08:23:56.779Z"
   },
   {
    "duration": 176,
    "start_time": "2022-12-22T08:24:51.347Z"
   },
   {
    "duration": 108,
    "start_time": "2022-12-22T08:25:11.259Z"
   },
   {
    "duration": 194,
    "start_time": "2022-12-22T08:25:16.378Z"
   },
   {
    "duration": 157,
    "start_time": "2022-12-22T08:29:42.691Z"
   },
   {
    "duration": 14,
    "start_time": "2022-12-22T08:33:19.845Z"
   },
   {
    "duration": 3,
    "start_time": "2022-12-22T08:33:43.920Z"
   },
   {
    "duration": 14,
    "start_time": "2022-12-22T08:33:48.433Z"
   },
   {
    "duration": 355,
    "start_time": "2022-12-22T08:39:52.722Z"
   },
   {
    "duration": 15,
    "start_time": "2022-12-22T08:40:26.116Z"
   },
   {
    "duration": 157,
    "start_time": "2022-12-22T08:41:04.384Z"
   },
   {
    "duration": 115,
    "start_time": "2022-12-22T08:54:52.879Z"
   },
   {
    "duration": 117,
    "start_time": "2022-12-22T08:55:08.415Z"
   },
   {
    "duration": 14,
    "start_time": "2022-12-22T08:55:34.994Z"
   },
   {
    "duration": 10,
    "start_time": "2022-12-22T08:58:38.430Z"
   },
   {
    "duration": 10,
    "start_time": "2022-12-22T08:58:41.498Z"
   },
   {
    "duration": 9,
    "start_time": "2022-12-22T08:58:45.798Z"
   },
   {
    "duration": 6,
    "start_time": "2022-12-22T08:59:35.319Z"
   },
   {
    "duration": 9,
    "start_time": "2022-12-22T09:02:00.313Z"
   },
   {
    "duration": 7,
    "start_time": "2022-12-22T09:02:51.166Z"
   },
   {
    "duration": 6,
    "start_time": "2022-12-22T09:05:48.078Z"
   },
   {
    "duration": 181,
    "start_time": "2022-12-22T09:10:07.950Z"
   },
   {
    "duration": 19,
    "start_time": "2022-12-22T09:11:50.773Z"
   },
   {
    "duration": 147,
    "start_time": "2022-12-22T09:12:29.676Z"
   },
   {
    "duration": 7,
    "start_time": "2022-12-22T09:16:25.696Z"
   },
   {
    "duration": 139,
    "start_time": "2022-12-22T09:20:53.161Z"
   },
   {
    "duration": 122,
    "start_time": "2022-12-22T09:23:33.738Z"
   },
   {
    "duration": 125,
    "start_time": "2022-12-22T09:26:48.744Z"
   },
   {
    "duration": 17,
    "start_time": "2022-12-22T09:29:51.904Z"
   },
   {
    "duration": 137,
    "start_time": "2022-12-22T09:30:18.739Z"
   },
   {
    "duration": 287,
    "start_time": "2022-12-22T09:30:50.056Z"
   },
   {
    "duration": 106,
    "start_time": "2022-12-22T09:31:30.888Z"
   },
   {
    "duration": 547,
    "start_time": "2022-12-22T09:31:47.079Z"
   },
   {
    "duration": 123,
    "start_time": "2022-12-22T09:31:54.976Z"
   },
   {
    "duration": 252,
    "start_time": "2022-12-22T09:32:55.616Z"
   },
   {
    "duration": 171,
    "start_time": "2022-12-22T09:33:06.168Z"
   },
   {
    "duration": 132,
    "start_time": "2022-12-22T09:34:46.799Z"
   },
   {
    "duration": 140,
    "start_time": "2022-12-22T09:34:51.529Z"
   },
   {
    "duration": 133,
    "start_time": "2022-12-22T09:34:56.271Z"
   },
   {
    "duration": 41,
    "start_time": "2022-12-22T09:39:11.959Z"
   },
   {
    "duration": 43,
    "start_time": "2022-12-22T09:39:20.814Z"
   },
   {
    "duration": 146,
    "start_time": "2022-12-22T09:39:32.751Z"
   },
   {
    "duration": 162,
    "start_time": "2022-12-22T09:39:45.591Z"
   },
   {
    "duration": 52,
    "start_time": "2022-12-22T09:40:23.999Z"
   },
   {
    "duration": 55,
    "start_time": "2022-12-22T09:40:30.489Z"
   },
   {
    "duration": 158,
    "start_time": "2022-12-22T09:40:34.806Z"
   },
   {
    "duration": 157,
    "start_time": "2022-12-22T09:41:47.110Z"
   },
   {
    "duration": 150,
    "start_time": "2022-12-22T09:41:54.646Z"
   },
   {
    "duration": 145,
    "start_time": "2022-12-22T09:42:00.798Z"
   },
   {
    "duration": 6,
    "start_time": "2022-12-22T09:48:59.307Z"
   },
   {
    "duration": 5,
    "start_time": "2022-12-22T09:51:06.603Z"
   },
   {
    "duration": 395,
    "start_time": "2022-12-22T09:55:46.099Z"
   },
   {
    "duration": 568,
    "start_time": "2022-12-22T09:56:24.512Z"
   },
   {
    "duration": 729,
    "start_time": "2022-12-22T09:56:33.539Z"
   },
   {
    "duration": 686,
    "start_time": "2022-12-22T09:57:07.061Z"
   },
   {
    "duration": 121,
    "start_time": "2022-12-22T09:57:55.732Z"
   },
   {
    "duration": 421,
    "start_time": "2022-12-22T09:59:15.969Z"
   },
   {
    "duration": 6,
    "start_time": "2022-12-22T10:02:41.176Z"
   },
   {
    "duration": 5,
    "start_time": "2022-12-22T10:03:01.152Z"
   },
   {
    "duration": 5,
    "start_time": "2022-12-22T10:03:07.344Z"
   },
   {
    "duration": 135,
    "start_time": "2022-12-22T10:10:54.760Z"
   },
   {
    "duration": 5,
    "start_time": "2022-12-22T10:11:23.665Z"
   },
   {
    "duration": 5,
    "start_time": "2022-12-22T10:13:04.847Z"
   },
   {
    "duration": 170,
    "start_time": "2022-12-22T10:13:08.535Z"
   },
   {
    "duration": 5,
    "start_time": "2022-12-22T10:14:31.439Z"
   },
   {
    "duration": 130,
    "start_time": "2022-12-22T10:14:39.110Z"
   },
   {
    "duration": 5,
    "start_time": "2022-12-22T10:17:42.508Z"
   },
   {
    "duration": 50,
    "start_time": "2022-12-22T10:20:33.957Z"
   },
   {
    "duration": 144,
    "start_time": "2022-12-22T10:22:30.676Z"
   },
   {
    "duration": 8,
    "start_time": "2022-12-22T10:26:51.668Z"
   },
   {
    "duration": 40,
    "start_time": "2022-12-22T10:36:03.006Z"
   },
   {
    "duration": 45,
    "start_time": "2022-12-22T10:36:14.116Z"
   },
   {
    "duration": 12,
    "start_time": "2022-12-22T10:36:50.485Z"
   },
   {
    "duration": 35,
    "start_time": "2022-12-22T10:37:25.777Z"
   },
   {
    "duration": 17,
    "start_time": "2022-12-22T10:40:59.960Z"
   },
   {
    "duration": 44,
    "start_time": "2022-12-22T10:44:26.206Z"
   },
   {
    "duration": 246,
    "start_time": "2022-12-22T10:44:32.402Z"
   },
   {
    "duration": 19,
    "start_time": "2022-12-22T10:48:35.857Z"
   },
   {
    "duration": 241,
    "start_time": "2022-12-22T10:48:50.007Z"
   },
   {
    "duration": 44,
    "start_time": "2022-12-22T11:28:56.433Z"
   },
   {
    "duration": 45,
    "start_time": "2022-12-22T11:30:04.426Z"
   },
   {
    "duration": 229,
    "start_time": "2022-12-22T11:36:19.097Z"
   },
   {
    "duration": 221,
    "start_time": "2022-12-22T11:36:30.337Z"
   },
   {
    "duration": 72,
    "start_time": "2022-12-22T13:29:56.134Z"
   },
   {
    "duration": 173,
    "start_time": "2022-12-22T13:30:02.708Z"
   },
   {
    "duration": 152,
    "start_time": "2022-12-22T13:30:17.924Z"
   },
   {
    "duration": 139,
    "start_time": "2022-12-22T13:30:40.148Z"
   },
   {
    "duration": 45,
    "start_time": "2022-12-23T06:54:53.148Z"
   },
   {
    "duration": 843,
    "start_time": "2022-12-23T06:55:01.202Z"
   },
   {
    "duration": 14,
    "start_time": "2022-12-23T06:55:02.047Z"
   },
   {
    "duration": 2645,
    "start_time": "2022-12-23T06:55:02.063Z"
   },
   {
    "duration": 10,
    "start_time": "2022-12-23T06:55:04.711Z"
   },
   {
    "duration": 6,
    "start_time": "2022-12-23T06:55:04.722Z"
   },
   {
    "duration": 4,
    "start_time": "2022-12-23T06:55:04.730Z"
   },
   {
    "duration": 15,
    "start_time": "2022-12-23T06:55:04.736Z"
   },
   {
    "duration": 8,
    "start_time": "2022-12-23T06:55:04.753Z"
   },
   {
    "duration": 7,
    "start_time": "2022-12-23T06:55:04.762Z"
   },
   {
    "duration": 23,
    "start_time": "2022-12-23T06:55:04.773Z"
   },
   {
    "duration": 10,
    "start_time": "2022-12-23T06:55:04.813Z"
   },
   {
    "duration": 36,
    "start_time": "2022-12-23T06:55:04.825Z"
   },
   {
    "duration": 54,
    "start_time": "2022-12-23T06:55:04.862Z"
   },
   {
    "duration": 7,
    "start_time": "2022-12-23T06:55:04.918Z"
   },
   {
    "duration": 25,
    "start_time": "2022-12-23T06:55:04.927Z"
   },
   {
    "duration": 10,
    "start_time": "2022-12-23T06:55:04.954Z"
   },
   {
    "duration": 27,
    "start_time": "2022-12-23T06:55:04.965Z"
   },
   {
    "duration": 8,
    "start_time": "2022-12-23T06:55:04.994Z"
   },
   {
    "duration": 9,
    "start_time": "2022-12-23T06:55:05.013Z"
   },
   {
    "duration": 12,
    "start_time": "2022-12-23T06:55:05.024Z"
   },
   {
    "duration": 32,
    "start_time": "2022-12-23T06:55:05.038Z"
   },
   {
    "duration": 7,
    "start_time": "2022-12-23T06:55:05.072Z"
   },
   {
    "duration": 34,
    "start_time": "2022-12-23T06:55:05.080Z"
   },
   {
    "duration": 8,
    "start_time": "2022-12-23T06:55:05.116Z"
   },
   {
    "duration": 161,
    "start_time": "2022-12-23T06:55:05.125Z"
   },
   {
    "duration": 29,
    "start_time": "2022-12-23T06:55:05.287Z"
   },
   {
    "duration": 7,
    "start_time": "2022-12-23T06:55:05.318Z"
   },
   {
    "duration": 42,
    "start_time": "2022-12-23T06:55:05.330Z"
   },
   {
    "duration": 0,
    "start_time": "2022-12-23T06:55:05.374Z"
   },
   {
    "duration": 0,
    "start_time": "2022-12-23T06:55:05.375Z"
   },
   {
    "duration": 0,
    "start_time": "2022-12-23T06:55:05.377Z"
   },
   {
    "duration": 0,
    "start_time": "2022-12-23T06:55:05.378Z"
   },
   {
    "duration": 0,
    "start_time": "2022-12-23T06:55:05.379Z"
   },
   {
    "duration": 0,
    "start_time": "2022-12-23T06:55:05.380Z"
   },
   {
    "duration": 0,
    "start_time": "2022-12-23T06:55:05.381Z"
   },
   {
    "duration": 0,
    "start_time": "2022-12-23T06:55:05.382Z"
   },
   {
    "duration": 0,
    "start_time": "2022-12-23T06:55:05.383Z"
   },
   {
    "duration": 0,
    "start_time": "2022-12-23T06:55:05.384Z"
   },
   {
    "duration": 0,
    "start_time": "2022-12-23T06:55:05.413Z"
   },
   {
    "duration": 0,
    "start_time": "2022-12-23T06:55:05.415Z"
   },
   {
    "duration": 0,
    "start_time": "2022-12-23T06:55:05.416Z"
   },
   {
    "duration": 0,
    "start_time": "2022-12-23T06:55:05.417Z"
   },
   {
    "duration": 0,
    "start_time": "2022-12-23T06:55:05.419Z"
   },
   {
    "duration": 0,
    "start_time": "2022-12-23T06:55:05.420Z"
   },
   {
    "duration": 0,
    "start_time": "2022-12-23T06:55:05.421Z"
   },
   {
    "duration": 0,
    "start_time": "2022-12-23T06:55:05.422Z"
   },
   {
    "duration": 0,
    "start_time": "2022-12-23T06:55:05.423Z"
   },
   {
    "duration": 0,
    "start_time": "2022-12-23T06:55:05.425Z"
   },
   {
    "duration": 0,
    "start_time": "2022-12-23T06:55:05.426Z"
   },
   {
    "duration": 0,
    "start_time": "2022-12-23T06:55:05.428Z"
   },
   {
    "duration": 0,
    "start_time": "2022-12-23T06:55:05.429Z"
   },
   {
    "duration": 0,
    "start_time": "2022-12-23T06:55:05.430Z"
   },
   {
    "duration": 0,
    "start_time": "2022-12-23T06:55:05.432Z"
   },
   {
    "duration": 0,
    "start_time": "2022-12-23T06:55:05.433Z"
   },
   {
    "duration": 0,
    "start_time": "2022-12-23T06:55:05.434Z"
   },
   {
    "duration": 0,
    "start_time": "2022-12-23T06:55:05.436Z"
   },
   {
    "duration": 0,
    "start_time": "2022-12-23T06:55:05.437Z"
   },
   {
    "duration": 0,
    "start_time": "2022-12-23T06:55:05.439Z"
   },
   {
    "duration": 0,
    "start_time": "2022-12-23T06:55:05.440Z"
   },
   {
    "duration": 0,
    "start_time": "2022-12-23T06:55:05.441Z"
   },
   {
    "duration": 0,
    "start_time": "2022-12-23T06:55:05.443Z"
   },
   {
    "duration": 0,
    "start_time": "2022-12-23T06:55:05.443Z"
   },
   {
    "duration": 1,
    "start_time": "2022-12-23T06:55:05.444Z"
   },
   {
    "duration": 0,
    "start_time": "2022-12-23T06:55:05.446Z"
   },
   {
    "duration": 0,
    "start_time": "2022-12-23T06:55:05.447Z"
   },
   {
    "duration": 0,
    "start_time": "2022-12-23T06:55:05.448Z"
   },
   {
    "duration": 0,
    "start_time": "2022-12-23T06:55:05.513Z"
   },
   {
    "duration": 0,
    "start_time": "2022-12-23T06:55:05.514Z"
   },
   {
    "duration": 0,
    "start_time": "2022-12-23T06:55:05.527Z"
   },
   {
    "duration": 0,
    "start_time": "2022-12-23T06:55:05.529Z"
   },
   {
    "duration": 0,
    "start_time": "2022-12-23T06:55:05.531Z"
   },
   {
    "duration": 0,
    "start_time": "2022-12-23T06:55:05.533Z"
   },
   {
    "duration": 0,
    "start_time": "2022-12-23T06:55:05.534Z"
   },
   {
    "duration": 0,
    "start_time": "2022-12-23T06:55:05.536Z"
   },
   {
    "duration": 0,
    "start_time": "2022-12-23T06:55:05.544Z"
   },
   {
    "duration": 0,
    "start_time": "2022-12-23T06:55:05.545Z"
   },
   {
    "duration": 0,
    "start_time": "2022-12-23T06:55:05.550Z"
   },
   {
    "duration": 0,
    "start_time": "2022-12-23T06:55:05.551Z"
   },
   {
    "duration": 0,
    "start_time": "2022-12-23T06:55:05.551Z"
   },
   {
    "duration": 0,
    "start_time": "2022-12-23T06:55:05.552Z"
   },
   {
    "duration": 0,
    "start_time": "2022-12-23T06:55:05.553Z"
   },
   {
    "duration": 0,
    "start_time": "2022-12-23T06:55:05.554Z"
   },
   {
    "duration": 0,
    "start_time": "2022-12-23T06:55:05.557Z"
   },
   {
    "duration": 0,
    "start_time": "2022-12-23T06:55:05.558Z"
   },
   {
    "duration": 0,
    "start_time": "2022-12-23T06:55:05.559Z"
   },
   {
    "duration": 136,
    "start_time": "2022-12-23T06:56:11.184Z"
   },
   {
    "duration": 142,
    "start_time": "2022-12-23T06:56:15.113Z"
   },
   {
    "duration": 18,
    "start_time": "2022-12-23T06:56:15.257Z"
   },
   {
    "duration": 2162,
    "start_time": "2022-12-23T06:56:15.277Z"
   },
   {
    "duration": 10,
    "start_time": "2022-12-23T06:56:17.442Z"
   },
   {
    "duration": 17,
    "start_time": "2022-12-23T06:56:17.454Z"
   },
   {
    "duration": 18,
    "start_time": "2022-12-23T06:56:17.473Z"
   },
   {
    "duration": 34,
    "start_time": "2022-12-23T06:56:17.492Z"
   },
   {
    "duration": 23,
    "start_time": "2022-12-23T06:56:17.528Z"
   },
   {
    "duration": 18,
    "start_time": "2022-12-23T06:56:17.552Z"
   },
   {
    "duration": 26,
    "start_time": "2022-12-23T06:56:17.572Z"
   },
   {
    "duration": 13,
    "start_time": "2022-12-23T06:56:17.599Z"
   },
   {
    "duration": 27,
    "start_time": "2022-12-23T06:56:17.613Z"
   },
   {
    "duration": 61,
    "start_time": "2022-12-23T06:56:17.642Z"
   },
   {
    "duration": 4,
    "start_time": "2022-12-23T06:56:17.705Z"
   },
   {
    "duration": 35,
    "start_time": "2022-12-23T06:56:17.711Z"
   },
   {
    "duration": 11,
    "start_time": "2022-12-23T06:56:17.747Z"
   },
   {
    "duration": 15,
    "start_time": "2022-12-23T06:56:17.760Z"
   },
   {
    "duration": 8,
    "start_time": "2022-12-23T06:56:17.777Z"
   },
   {
    "duration": 11,
    "start_time": "2022-12-23T06:56:17.786Z"
   },
   {
    "duration": 13,
    "start_time": "2022-12-23T06:56:17.799Z"
   },
   {
    "duration": 40,
    "start_time": "2022-12-23T06:56:17.813Z"
   },
   {
    "duration": 26,
    "start_time": "2022-12-23T06:56:17.855Z"
   },
   {
    "duration": 37,
    "start_time": "2022-12-23T06:56:17.882Z"
   },
   {
    "duration": 13,
    "start_time": "2022-12-23T06:56:17.921Z"
   },
   {
    "duration": 151,
    "start_time": "2022-12-23T06:56:17.935Z"
   },
   {
    "duration": 28,
    "start_time": "2022-12-23T06:56:18.088Z"
   },
   {
    "duration": 8,
    "start_time": "2022-12-23T06:56:18.118Z"
   },
   {
    "duration": 14,
    "start_time": "2022-12-23T06:56:18.131Z"
   },
   {
    "duration": 0,
    "start_time": "2022-12-23T06:56:18.148Z"
   },
   {
    "duration": 0,
    "start_time": "2022-12-23T06:56:18.149Z"
   },
   {
    "duration": 0,
    "start_time": "2022-12-23T06:56:18.151Z"
   },
   {
    "duration": 0,
    "start_time": "2022-12-23T06:56:18.152Z"
   },
   {
    "duration": 0,
    "start_time": "2022-12-23T06:56:18.153Z"
   },
   {
    "duration": 0,
    "start_time": "2022-12-23T06:56:18.155Z"
   },
   {
    "duration": 0,
    "start_time": "2022-12-23T06:56:18.157Z"
   },
   {
    "duration": 0,
    "start_time": "2022-12-23T06:56:18.158Z"
   },
   {
    "duration": 0,
    "start_time": "2022-12-23T06:56:18.159Z"
   },
   {
    "duration": 0,
    "start_time": "2022-12-23T06:56:18.161Z"
   },
   {
    "duration": 0,
    "start_time": "2022-12-23T06:56:18.162Z"
   },
   {
    "duration": 0,
    "start_time": "2022-12-23T06:56:18.163Z"
   },
   {
    "duration": 0,
    "start_time": "2022-12-23T06:56:18.165Z"
   },
   {
    "duration": 0,
    "start_time": "2022-12-23T06:56:18.167Z"
   },
   {
    "duration": 0,
    "start_time": "2022-12-23T06:56:18.215Z"
   },
   {
    "duration": 0,
    "start_time": "2022-12-23T06:56:18.217Z"
   },
   {
    "duration": 0,
    "start_time": "2022-12-23T06:56:18.219Z"
   },
   {
    "duration": 0,
    "start_time": "2022-12-23T06:56:18.221Z"
   },
   {
    "duration": 0,
    "start_time": "2022-12-23T06:56:18.222Z"
   },
   {
    "duration": 0,
    "start_time": "2022-12-23T06:56:18.224Z"
   },
   {
    "duration": 0,
    "start_time": "2022-12-23T06:56:18.225Z"
   },
   {
    "duration": 0,
    "start_time": "2022-12-23T06:56:18.227Z"
   },
   {
    "duration": 0,
    "start_time": "2022-12-23T06:56:18.228Z"
   },
   {
    "duration": 0,
    "start_time": "2022-12-23T06:56:18.230Z"
   },
   {
    "duration": 0,
    "start_time": "2022-12-23T06:56:18.232Z"
   },
   {
    "duration": 0,
    "start_time": "2022-12-23T06:56:18.233Z"
   },
   {
    "duration": 0,
    "start_time": "2022-12-23T06:56:18.235Z"
   },
   {
    "duration": 0,
    "start_time": "2022-12-23T06:56:18.236Z"
   },
   {
    "duration": 0,
    "start_time": "2022-12-23T06:56:18.238Z"
   },
   {
    "duration": 0,
    "start_time": "2022-12-23T06:56:18.239Z"
   },
   {
    "duration": 0,
    "start_time": "2022-12-23T06:56:18.241Z"
   },
   {
    "duration": 0,
    "start_time": "2022-12-23T06:56:18.243Z"
   },
   {
    "duration": 0,
    "start_time": "2022-12-23T06:56:18.244Z"
   },
   {
    "duration": 0,
    "start_time": "2022-12-23T06:56:18.246Z"
   },
   {
    "duration": 0,
    "start_time": "2022-12-23T06:56:18.247Z"
   },
   {
    "duration": 0,
    "start_time": "2022-12-23T06:56:18.248Z"
   },
   {
    "duration": 0,
    "start_time": "2022-12-23T06:56:18.250Z"
   },
   {
    "duration": 0,
    "start_time": "2022-12-23T06:56:18.251Z"
   },
   {
    "duration": 0,
    "start_time": "2022-12-23T06:56:18.252Z"
   },
   {
    "duration": 0,
    "start_time": "2022-12-23T06:56:18.254Z"
   },
   {
    "duration": 0,
    "start_time": "2022-12-23T06:56:18.313Z"
   },
   {
    "duration": 0,
    "start_time": "2022-12-23T06:56:18.314Z"
   },
   {
    "duration": 0,
    "start_time": "2022-12-23T06:56:18.316Z"
   },
   {
    "duration": 0,
    "start_time": "2022-12-23T06:56:18.317Z"
   },
   {
    "duration": 0,
    "start_time": "2022-12-23T06:56:18.319Z"
   },
   {
    "duration": 0,
    "start_time": "2022-12-23T06:56:18.320Z"
   },
   {
    "duration": 0,
    "start_time": "2022-12-23T06:56:18.322Z"
   },
   {
    "duration": 0,
    "start_time": "2022-12-23T06:56:18.323Z"
   },
   {
    "duration": 0,
    "start_time": "2022-12-23T06:56:18.324Z"
   },
   {
    "duration": 0,
    "start_time": "2022-12-23T06:56:18.326Z"
   },
   {
    "duration": 0,
    "start_time": "2022-12-23T06:56:18.327Z"
   },
   {
    "duration": 0,
    "start_time": "2022-12-23T06:56:18.329Z"
   },
   {
    "duration": 0,
    "start_time": "2022-12-23T06:56:18.330Z"
   },
   {
    "duration": 0,
    "start_time": "2022-12-23T06:56:18.331Z"
   },
   {
    "duration": 0,
    "start_time": "2022-12-23T06:56:18.332Z"
   },
   {
    "duration": 0,
    "start_time": "2022-12-23T06:56:18.334Z"
   },
   {
    "duration": 0,
    "start_time": "2022-12-23T06:56:18.335Z"
   },
   {
    "duration": 63,
    "start_time": "2022-12-23T06:59:58.150Z"
   },
   {
    "duration": 139,
    "start_time": "2022-12-23T07:04:03.083Z"
   },
   {
    "duration": 15,
    "start_time": "2022-12-23T07:04:03.223Z"
   },
   {
    "duration": 2107,
    "start_time": "2022-12-23T07:04:03.239Z"
   },
   {
    "duration": 9,
    "start_time": "2022-12-23T07:04:05.348Z"
   },
   {
    "duration": 9,
    "start_time": "2022-12-23T07:04:05.359Z"
   },
   {
    "duration": 13,
    "start_time": "2022-12-23T07:04:05.369Z"
   },
   {
    "duration": 39,
    "start_time": "2022-12-23T07:04:05.383Z"
   },
   {
    "duration": 8,
    "start_time": "2022-12-23T07:04:05.423Z"
   },
   {
    "duration": 8,
    "start_time": "2022-12-23T07:04:05.432Z"
   },
   {
    "duration": 9,
    "start_time": "2022-12-23T07:04:05.443Z"
   },
   {
    "duration": 10,
    "start_time": "2022-12-23T07:04:05.453Z"
   },
   {
    "duration": 15,
    "start_time": "2022-12-23T07:04:05.465Z"
   },
   {
    "duration": 69,
    "start_time": "2022-12-23T07:04:05.482Z"
   },
   {
    "duration": 4,
    "start_time": "2022-12-23T07:04:05.553Z"
   },
   {
    "duration": 21,
    "start_time": "2022-12-23T07:04:05.559Z"
   },
   {
    "duration": 25,
    "start_time": "2022-12-23T07:04:05.582Z"
   },
   {
    "duration": 23,
    "start_time": "2022-12-23T07:04:05.609Z"
   },
   {
    "duration": 7,
    "start_time": "2022-12-23T07:04:05.634Z"
   },
   {
    "duration": 15,
    "start_time": "2022-12-23T07:04:05.642Z"
   },
   {
    "duration": 14,
    "start_time": "2022-12-23T07:04:05.658Z"
   },
   {
    "duration": 29,
    "start_time": "2022-12-23T07:04:05.674Z"
   },
   {
    "duration": 7,
    "start_time": "2022-12-23T07:04:05.712Z"
   },
   {
    "duration": 16,
    "start_time": "2022-12-23T07:04:05.721Z"
   },
   {
    "duration": 8,
    "start_time": "2022-12-23T07:04:05.738Z"
   },
   {
    "duration": 152,
    "start_time": "2022-12-23T07:04:05.748Z"
   },
   {
    "duration": 23,
    "start_time": "2022-12-23T07:04:05.902Z"
   },
   {
    "duration": 7,
    "start_time": "2022-12-23T07:04:05.927Z"
   },
   {
    "duration": 87,
    "start_time": "2022-12-23T07:04:05.938Z"
   },
   {
    "duration": 4,
    "start_time": "2022-12-23T07:04:06.027Z"
   },
   {
    "duration": 28,
    "start_time": "2022-12-23T07:04:06.033Z"
   },
   {
    "duration": 11,
    "start_time": "2022-12-23T07:04:06.062Z"
   },
   {
    "duration": 7,
    "start_time": "2022-12-23T07:04:06.075Z"
   },
   {
    "duration": 243,
    "start_time": "2022-12-23T07:04:06.084Z"
   },
   {
    "duration": 10,
    "start_time": "2022-12-23T07:04:06.329Z"
   },
   {
    "duration": 22,
    "start_time": "2022-12-23T07:04:06.341Z"
   },
   {
    "duration": 320,
    "start_time": "2022-12-23T07:04:06.365Z"
   },
   {
    "duration": 9,
    "start_time": "2022-12-23T07:04:06.687Z"
   },
   {
    "duration": 368,
    "start_time": "2022-12-23T07:04:06.698Z"
   },
   {
    "duration": 9,
    "start_time": "2022-12-23T07:04:07.068Z"
   },
   {
    "duration": 262,
    "start_time": "2022-12-23T07:04:07.079Z"
   },
   {
    "duration": 6,
    "start_time": "2022-12-23T07:04:07.342Z"
   },
   {
    "duration": 16,
    "start_time": "2022-12-23T07:04:07.350Z"
   },
   {
    "duration": 262,
    "start_time": "2022-12-23T07:04:07.367Z"
   },
   {
    "duration": 9,
    "start_time": "2022-12-23T07:04:07.630Z"
   },
   {
    "duration": 135,
    "start_time": "2022-12-23T07:04:07.641Z"
   },
   {
    "duration": 5,
    "start_time": "2022-12-23T07:04:07.777Z"
   },
   {
    "duration": 9,
    "start_time": "2022-12-23T07:04:07.784Z"
   },
   {
    "duration": 158,
    "start_time": "2022-12-23T07:04:07.795Z"
   },
   {
    "duration": 8,
    "start_time": "2022-12-23T07:04:07.955Z"
   },
   {
    "duration": 276,
    "start_time": "2022-12-23T07:04:07.964Z"
   },
   {
    "duration": 118,
    "start_time": "2022-12-23T07:04:08.242Z"
   },
   {
    "duration": 9,
    "start_time": "2022-12-23T07:04:08.362Z"
   },
   {
    "duration": 224,
    "start_time": "2022-12-23T07:04:08.372Z"
   },
   {
    "duration": 148,
    "start_time": "2022-12-23T07:04:08.598Z"
   },
   {
    "duration": 10,
    "start_time": "2022-12-23T07:04:08.747Z"
   },
   {
    "duration": 214,
    "start_time": "2022-12-23T07:04:08.758Z"
   },
   {
    "duration": 9,
    "start_time": "2022-12-23T07:04:08.974Z"
   },
   {
    "duration": 415,
    "start_time": "2022-12-23T07:04:08.985Z"
   },
   {
    "duration": 14,
    "start_time": "2022-12-23T07:04:09.402Z"
   },
   {
    "duration": 187,
    "start_time": "2022-12-23T07:04:09.418Z"
   },
   {
    "duration": 135,
    "start_time": "2022-12-23T07:04:09.607Z"
   },
   {
    "duration": 145,
    "start_time": "2022-12-23T07:04:09.743Z"
   },
   {
    "duration": 6,
    "start_time": "2022-12-23T07:04:09.889Z"
   },
   {
    "duration": 17,
    "start_time": "2022-12-23T07:04:09.896Z"
   },
   {
    "duration": 263,
    "start_time": "2022-12-23T07:04:09.915Z"
   },
   {
    "duration": 6,
    "start_time": "2022-12-23T07:04:10.180Z"
   },
   {
    "duration": 182,
    "start_time": "2022-12-23T07:04:10.188Z"
   },
   {
    "duration": 5,
    "start_time": "2022-12-23T07:04:10.371Z"
   },
   {
    "duration": 192,
    "start_time": "2022-12-23T07:04:10.378Z"
   },
   {
    "duration": 6,
    "start_time": "2022-12-23T07:04:10.572Z"
   },
   {
    "duration": 176,
    "start_time": "2022-12-23T07:04:10.580Z"
   },
   {
    "duration": 226,
    "start_time": "2022-12-23T07:04:10.758Z"
   },
   {
    "duration": 6,
    "start_time": "2022-12-23T07:04:10.985Z"
   },
   {
    "duration": 184,
    "start_time": "2022-12-23T07:04:10.992Z"
   },
   {
    "duration": 159,
    "start_time": "2022-12-23T07:04:11.178Z"
   },
   {
    "duration": 6,
    "start_time": "2022-12-23T07:04:11.339Z"
   },
   {
    "duration": 173,
    "start_time": "2022-12-23T07:04:11.347Z"
   },
   {
    "duration": 6,
    "start_time": "2022-12-23T07:04:11.522Z"
   },
   {
    "duration": 204,
    "start_time": "2022-12-23T07:04:11.530Z"
   },
   {
    "duration": 5,
    "start_time": "2022-12-23T07:04:11.736Z"
   },
   {
    "duration": 172,
    "start_time": "2022-12-23T07:04:11.743Z"
   },
   {
    "duration": 22,
    "start_time": "2022-12-23T07:04:11.920Z"
   },
   {
    "duration": 7,
    "start_time": "2022-12-23T07:04:11.944Z"
   },
   {
    "duration": 27,
    "start_time": "2022-12-23T07:04:11.953Z"
   },
   {
    "duration": 306,
    "start_time": "2022-12-23T07:04:11.982Z"
   },
   {
    "duration": 149,
    "start_time": "2022-12-23T07:08:32.644Z"
   },
   {
    "duration": 154,
    "start_time": "2022-12-23T07:08:57.222Z"
   },
   {
    "duration": 138,
    "start_time": "2022-12-23T07:09:04.093Z"
   },
   {
    "duration": 138,
    "start_time": "2022-12-23T07:09:10.045Z"
   },
   {
    "duration": 333,
    "start_time": "2022-12-23T07:09:14.661Z"
   },
   {
    "duration": 139,
    "start_time": "2022-12-23T07:09:18.252Z"
   },
   {
    "duration": 135,
    "start_time": "2022-12-23T07:09:22.749Z"
   },
   {
    "duration": 234,
    "start_time": "2022-12-23T07:09:28.357Z"
   },
   {
    "duration": 226,
    "start_time": "2022-12-23T07:09:33.317Z"
   },
   {
    "duration": 226,
    "start_time": "2022-12-23T07:09:37.060Z"
   },
   {
    "duration": 172,
    "start_time": "2022-12-23T07:09:44.453Z"
   },
   {
    "duration": 8,
    "start_time": "2022-12-23T07:10:15.252Z"
   },
   {
    "duration": 8,
    "start_time": "2022-12-23T07:10:57.621Z"
   },
   {
    "duration": 8,
    "start_time": "2022-12-23T07:11:41.172Z"
   },
   {
    "duration": 165,
    "start_time": "2022-12-23T07:12:16.980Z"
   },
   {
    "duration": 218,
    "start_time": "2022-12-23T07:12:24.645Z"
   },
   {
    "duration": 175,
    "start_time": "2022-12-23T07:12:31.117Z"
   },
   {
    "duration": 7,
    "start_time": "2022-12-23T07:19:58.139Z"
   },
   {
    "duration": 8,
    "start_time": "2022-12-23T07:20:11.362Z"
   },
   {
    "duration": 9,
    "start_time": "2022-12-23T07:23:17.745Z"
   },
   {
    "duration": 146,
    "start_time": "2022-12-23T07:26:10.113Z"
   },
   {
    "duration": 151,
    "start_time": "2022-12-23T07:26:19.810Z"
   },
   {
    "duration": 163,
    "start_time": "2022-12-23T07:26:32.437Z"
   },
   {
    "duration": 150,
    "start_time": "2022-12-23T07:26:44.673Z"
   },
   {
    "duration": 7,
    "start_time": "2022-12-23T07:27:27.841Z"
   },
   {
    "duration": 7,
    "start_time": "2022-12-23T07:27:37.521Z"
   },
   {
    "duration": 146,
    "start_time": "2022-12-23T07:27:53.560Z"
   },
   {
    "duration": 142,
    "start_time": "2022-12-23T07:27:59.992Z"
   },
   {
    "duration": 145,
    "start_time": "2022-12-23T07:28:30.937Z"
   },
   {
    "duration": 283,
    "start_time": "2022-12-23T07:28:42.037Z"
   },
   {
    "duration": 205,
    "start_time": "2022-12-23T07:28:54.721Z"
   },
   {
    "duration": 390,
    "start_time": "2022-12-23T07:29:18.113Z"
   },
   {
    "duration": 64,
    "start_time": "2022-12-23T07:35:10.591Z"
   },
   {
    "duration": 11,
    "start_time": "2022-12-23T07:35:52.343Z"
   },
   {
    "duration": 60,
    "start_time": "2022-12-23T07:35:59.767Z"
   },
   {
    "duration": 11,
    "start_time": "2022-12-23T07:36:01.743Z"
   },
   {
    "duration": 11,
    "start_time": "2022-12-23T07:37:05.790Z"
   },
   {
    "duration": 149,
    "start_time": "2022-12-23T07:37:08.898Z"
   },
   {
    "duration": 14,
    "start_time": "2022-12-23T07:37:09.049Z"
   },
   {
    "duration": 2023,
    "start_time": "2022-12-23T07:37:09.064Z"
   },
   {
    "duration": 9,
    "start_time": "2022-12-23T07:37:11.089Z"
   },
   {
    "duration": 14,
    "start_time": "2022-12-23T07:37:11.100Z"
   },
   {
    "duration": 17,
    "start_time": "2022-12-23T07:37:11.116Z"
   },
   {
    "duration": 17,
    "start_time": "2022-12-23T07:37:11.134Z"
   },
   {
    "duration": 11,
    "start_time": "2022-12-23T07:37:11.153Z"
   },
   {
    "duration": 8,
    "start_time": "2022-12-23T07:37:11.166Z"
   },
   {
    "duration": 13,
    "start_time": "2022-12-23T07:37:11.176Z"
   },
   {
    "duration": 14,
    "start_time": "2022-12-23T07:37:11.191Z"
   },
   {
    "duration": 19,
    "start_time": "2022-12-23T07:37:11.206Z"
   },
   {
    "duration": 49,
    "start_time": "2022-12-23T07:37:11.227Z"
   },
   {
    "duration": 5,
    "start_time": "2022-12-23T07:37:11.277Z"
   },
   {
    "duration": 14,
    "start_time": "2022-12-23T07:37:11.283Z"
   },
   {
    "duration": 24,
    "start_time": "2022-12-23T07:37:11.298Z"
   },
   {
    "duration": 23,
    "start_time": "2022-12-23T07:37:11.325Z"
   },
   {
    "duration": 7,
    "start_time": "2022-12-23T07:37:11.349Z"
   },
   {
    "duration": 10,
    "start_time": "2022-12-23T07:37:11.358Z"
   },
   {
    "duration": 11,
    "start_time": "2022-12-23T07:37:11.369Z"
   },
   {
    "duration": 32,
    "start_time": "2022-12-23T07:37:11.382Z"
   },
   {
    "duration": 12,
    "start_time": "2022-12-23T07:37:11.416Z"
   },
   {
    "duration": 12,
    "start_time": "2022-12-23T07:37:11.430Z"
   },
   {
    "duration": 7,
    "start_time": "2022-12-23T07:37:11.444Z"
   },
   {
    "duration": 152,
    "start_time": "2022-12-23T07:37:11.452Z"
   },
   {
    "duration": 21,
    "start_time": "2022-12-23T07:37:11.612Z"
   },
   {
    "duration": 8,
    "start_time": "2022-12-23T07:37:11.635Z"
   },
   {
    "duration": 89,
    "start_time": "2022-12-23T07:37:11.648Z"
   },
   {
    "duration": 8,
    "start_time": "2022-12-23T07:37:11.739Z"
   },
   {
    "duration": 5,
    "start_time": "2022-12-23T07:37:11.749Z"
   },
   {
    "duration": 8,
    "start_time": "2022-12-23T07:37:11.756Z"
   },
   {
    "duration": 8,
    "start_time": "2022-12-23T07:37:11.766Z"
   },
   {
    "duration": 194,
    "start_time": "2022-12-23T07:37:11.775Z"
   },
   {
    "duration": 71,
    "start_time": "2022-12-23T07:37:11.971Z"
   },
   {
    "duration": 10,
    "start_time": "2022-12-23T07:37:12.044Z"
   },
   {
    "duration": 13,
    "start_time": "2022-12-23T07:37:12.056Z"
   },
   {
    "duration": 0,
    "start_time": "2022-12-23T07:37:12.071Z"
   },
   {
    "duration": 0,
    "start_time": "2022-12-23T07:37:12.073Z"
   },
   {
    "duration": 0,
    "start_time": "2022-12-23T07:37:12.074Z"
   },
   {
    "duration": 0,
    "start_time": "2022-12-23T07:37:12.075Z"
   },
   {
    "duration": 0,
    "start_time": "2022-12-23T07:37:12.076Z"
   },
   {
    "duration": 0,
    "start_time": "2022-12-23T07:37:12.077Z"
   },
   {
    "duration": 0,
    "start_time": "2022-12-23T07:37:12.078Z"
   },
   {
    "duration": 0,
    "start_time": "2022-12-23T07:37:12.079Z"
   },
   {
    "duration": 0,
    "start_time": "2022-12-23T07:37:12.080Z"
   },
   {
    "duration": 0,
    "start_time": "2022-12-23T07:37:12.080Z"
   },
   {
    "duration": 0,
    "start_time": "2022-12-23T07:37:12.081Z"
   },
   {
    "duration": 0,
    "start_time": "2022-12-23T07:37:12.082Z"
   },
   {
    "duration": 0,
    "start_time": "2022-12-23T07:37:12.116Z"
   },
   {
    "duration": 0,
    "start_time": "2022-12-23T07:37:12.117Z"
   },
   {
    "duration": 0,
    "start_time": "2022-12-23T07:37:12.119Z"
   },
   {
    "duration": 0,
    "start_time": "2022-12-23T07:37:12.120Z"
   },
   {
    "duration": 0,
    "start_time": "2022-12-23T07:37:12.121Z"
   },
   {
    "duration": 0,
    "start_time": "2022-12-23T07:37:12.122Z"
   },
   {
    "duration": 0,
    "start_time": "2022-12-23T07:37:12.124Z"
   },
   {
    "duration": 0,
    "start_time": "2022-12-23T07:37:12.125Z"
   },
   {
    "duration": 0,
    "start_time": "2022-12-23T07:37:12.130Z"
   },
   {
    "duration": 0,
    "start_time": "2022-12-23T07:37:12.131Z"
   },
   {
    "duration": 0,
    "start_time": "2022-12-23T07:37:12.132Z"
   },
   {
    "duration": 0,
    "start_time": "2022-12-23T07:37:12.133Z"
   },
   {
    "duration": 0,
    "start_time": "2022-12-23T07:37:12.134Z"
   },
   {
    "duration": 0,
    "start_time": "2022-12-23T07:37:12.135Z"
   },
   {
    "duration": 0,
    "start_time": "2022-12-23T07:37:12.136Z"
   },
   {
    "duration": 0,
    "start_time": "2022-12-23T07:37:12.138Z"
   },
   {
    "duration": 0,
    "start_time": "2022-12-23T07:37:12.139Z"
   },
   {
    "duration": 0,
    "start_time": "2022-12-23T07:37:12.141Z"
   },
   {
    "duration": 0,
    "start_time": "2022-12-23T07:37:12.142Z"
   },
   {
    "duration": 0,
    "start_time": "2022-12-23T07:37:12.143Z"
   },
   {
    "duration": 0,
    "start_time": "2022-12-23T07:37:12.145Z"
   },
   {
    "duration": 0,
    "start_time": "2022-12-23T07:37:12.146Z"
   },
   {
    "duration": 0,
    "start_time": "2022-12-23T07:37:12.147Z"
   },
   {
    "duration": 0,
    "start_time": "2022-12-23T07:37:12.148Z"
   },
   {
    "duration": 0,
    "start_time": "2022-12-23T07:37:12.149Z"
   },
   {
    "duration": 0,
    "start_time": "2022-12-23T07:37:12.150Z"
   },
   {
    "duration": 0,
    "start_time": "2022-12-23T07:37:12.151Z"
   },
   {
    "duration": 0,
    "start_time": "2022-12-23T07:37:12.152Z"
   },
   {
    "duration": 0,
    "start_time": "2022-12-23T07:37:12.153Z"
   },
   {
    "duration": 0,
    "start_time": "2022-12-23T07:37:12.154Z"
   },
   {
    "duration": 0,
    "start_time": "2022-12-23T07:37:12.155Z"
   },
   {
    "duration": 0,
    "start_time": "2022-12-23T07:37:12.156Z"
   },
   {
    "duration": 0,
    "start_time": "2022-12-23T07:37:12.157Z"
   },
   {
    "duration": 0,
    "start_time": "2022-12-23T07:37:12.212Z"
   },
   {
    "duration": 0,
    "start_time": "2022-12-23T07:37:12.213Z"
   },
   {
    "duration": 0,
    "start_time": "2022-12-23T07:37:12.217Z"
   },
   {
    "duration": 0,
    "start_time": "2022-12-23T07:37:12.218Z"
   },
   {
    "duration": 0,
    "start_time": "2022-12-23T07:37:12.219Z"
   },
   {
    "duration": 0,
    "start_time": "2022-12-23T07:37:12.220Z"
   },
   {
    "duration": 0,
    "start_time": "2022-12-23T07:37:12.221Z"
   },
   {
    "duration": 0,
    "start_time": "2022-12-23T07:37:12.223Z"
   },
   {
    "duration": 0,
    "start_time": "2022-12-23T07:37:12.224Z"
   },
   {
    "duration": 0,
    "start_time": "2022-12-23T07:37:12.225Z"
   },
   {
    "duration": 0,
    "start_time": "2022-12-23T07:37:12.226Z"
   },
   {
    "duration": 65,
    "start_time": "2022-12-23T07:38:24.078Z"
   },
   {
    "duration": 12,
    "start_time": "2022-12-23T07:38:26.741Z"
   },
   {
    "duration": 259,
    "start_time": "2022-12-23T07:39:49.662Z"
   },
   {
    "duration": 10,
    "start_time": "2022-12-23T07:39:51.998Z"
   },
   {
    "duration": 132,
    "start_time": "2022-12-23T07:40:10.236Z"
   },
   {
    "duration": 15,
    "start_time": "2022-12-23T07:40:10.370Z"
   },
   {
    "duration": 2294,
    "start_time": "2022-12-23T07:40:10.387Z"
   },
   {
    "duration": 9,
    "start_time": "2022-12-23T07:40:12.683Z"
   },
   {
    "duration": 20,
    "start_time": "2022-12-23T07:40:12.694Z"
   },
   {
    "duration": 5,
    "start_time": "2022-12-23T07:40:12.715Z"
   },
   {
    "duration": 15,
    "start_time": "2022-12-23T07:40:12.721Z"
   },
   {
    "duration": 8,
    "start_time": "2022-12-23T07:40:12.737Z"
   },
   {
    "duration": 8,
    "start_time": "2022-12-23T07:40:12.746Z"
   },
   {
    "duration": 10,
    "start_time": "2022-12-23T07:40:12.757Z"
   },
   {
    "duration": 9,
    "start_time": "2022-12-23T07:40:12.768Z"
   },
   {
    "duration": 40,
    "start_time": "2022-12-23T07:40:12.779Z"
   },
   {
    "duration": 44,
    "start_time": "2022-12-23T07:40:12.821Z"
   },
   {
    "duration": 4,
    "start_time": "2022-12-23T07:40:12.868Z"
   },
   {
    "duration": 11,
    "start_time": "2022-12-23T07:40:12.874Z"
   },
   {
    "duration": 27,
    "start_time": "2022-12-23T07:40:12.887Z"
   },
   {
    "duration": 16,
    "start_time": "2022-12-23T07:40:12.916Z"
   },
   {
    "duration": 14,
    "start_time": "2022-12-23T07:40:12.934Z"
   },
   {
    "duration": 9,
    "start_time": "2022-12-23T07:40:12.950Z"
   },
   {
    "duration": 11,
    "start_time": "2022-12-23T07:40:12.960Z"
   },
   {
    "duration": 49,
    "start_time": "2022-12-23T07:40:12.973Z"
   },
   {
    "duration": 7,
    "start_time": "2022-12-23T07:40:13.024Z"
   },
   {
    "duration": 19,
    "start_time": "2022-12-23T07:40:13.033Z"
   },
   {
    "duration": 9,
    "start_time": "2022-12-23T07:40:13.054Z"
   },
   {
    "duration": 165,
    "start_time": "2022-12-23T07:40:13.065Z"
   },
   {
    "duration": 16,
    "start_time": "2022-12-23T07:40:13.232Z"
   },
   {
    "duration": 6,
    "start_time": "2022-12-23T07:40:13.250Z"
   },
   {
    "duration": 83,
    "start_time": "2022-12-23T07:40:13.260Z"
   },
   {
    "duration": 6,
    "start_time": "2022-12-23T07:40:13.345Z"
   },
   {
    "duration": 5,
    "start_time": "2022-12-23T07:40:13.353Z"
   },
   {
    "duration": 8,
    "start_time": "2022-12-23T07:40:13.359Z"
   },
   {
    "duration": 6,
    "start_time": "2022-12-23T07:40:13.369Z"
   },
   {
    "duration": 181,
    "start_time": "2022-12-23T07:40:13.377Z"
   },
   {
    "duration": 258,
    "start_time": "2022-12-23T07:40:13.560Z"
   },
   {
    "duration": 8,
    "start_time": "2022-12-23T07:40:13.820Z"
   },
   {
    "duration": 5,
    "start_time": "2022-12-23T07:40:13.829Z"
   },
   {
    "duration": 9,
    "start_time": "2022-12-23T07:40:13.836Z"
   },
   {
    "duration": 9,
    "start_time": "2022-12-23T07:40:13.847Z"
   },
   {
    "duration": 6,
    "start_time": "2022-12-23T07:40:13.858Z"
   },
   {
    "duration": 248,
    "start_time": "2022-12-23T07:40:13.865Z"
   },
   {
    "duration": 7,
    "start_time": "2022-12-23T07:40:14.114Z"
   },
   {
    "duration": 11,
    "start_time": "2022-12-23T07:40:14.122Z"
   },
   {
    "duration": 282,
    "start_time": "2022-12-23T07:40:14.135Z"
   },
   {
    "duration": 9,
    "start_time": "2022-12-23T07:40:14.419Z"
   },
   {
    "duration": 304,
    "start_time": "2022-12-23T07:40:14.430Z"
   },
   {
    "duration": 10,
    "start_time": "2022-12-23T07:40:14.736Z"
   },
   {
    "duration": 311,
    "start_time": "2022-12-23T07:40:14.748Z"
   },
   {
    "duration": 6,
    "start_time": "2022-12-23T07:40:15.062Z"
   },
   {
    "duration": 22,
    "start_time": "2022-12-23T07:40:15.070Z"
   },
   {
    "duration": 292,
    "start_time": "2022-12-23T07:40:15.094Z"
   },
   {
    "duration": 10,
    "start_time": "2022-12-23T07:40:15.388Z"
   },
   {
    "duration": 139,
    "start_time": "2022-12-23T07:40:15.411Z"
   },
   {
    "duration": 6,
    "start_time": "2022-12-23T07:40:15.552Z"
   },
   {
    "duration": 15,
    "start_time": "2022-12-23T07:40:15.559Z"
   },
   {
    "duration": 168,
    "start_time": "2022-12-23T07:40:15.576Z"
   },
   {
    "duration": 8,
    "start_time": "2022-12-23T07:40:15.746Z"
   },
   {
    "duration": 279,
    "start_time": "2022-12-23T07:40:15.756Z"
   },
   {
    "duration": 483,
    "start_time": "2022-12-23T07:40:16.037Z"
   },
   {
    "duration": 12,
    "start_time": "2022-12-23T07:40:16.523Z"
   },
   {
    "duration": 233,
    "start_time": "2022-12-23T07:40:16.538Z"
   },
   {
    "duration": 162,
    "start_time": "2022-12-23T07:40:16.773Z"
   },
   {
    "duration": 10,
    "start_time": "2022-12-23T07:40:16.937Z"
   },
   {
    "duration": 235,
    "start_time": "2022-12-23T07:40:16.949Z"
   },
   {
    "duration": 12,
    "start_time": "2022-12-23T07:40:17.187Z"
   },
   {
    "duration": 269,
    "start_time": "2022-12-23T07:40:17.213Z"
   },
   {
    "duration": 9,
    "start_time": "2022-12-23T07:40:17.484Z"
   },
   {
    "duration": 202,
    "start_time": "2022-12-23T07:40:17.494Z"
   },
   {
    "duration": 140,
    "start_time": "2022-12-23T07:40:17.698Z"
   },
   {
    "duration": 156,
    "start_time": "2022-12-23T07:40:17.839Z"
   },
   {
    "duration": 6,
    "start_time": "2022-12-23T07:40:17.997Z"
   },
   {
    "duration": 10,
    "start_time": "2022-12-23T07:40:18.012Z"
   },
   {
    "duration": 278,
    "start_time": "2022-12-23T07:40:18.024Z"
   },
   {
    "duration": 11,
    "start_time": "2022-12-23T07:40:18.304Z"
   },
   {
    "duration": 163,
    "start_time": "2022-12-23T07:40:18.317Z"
   },
   {
    "duration": 5,
    "start_time": "2022-12-23T07:40:18.482Z"
   },
   {
    "duration": 180,
    "start_time": "2022-12-23T07:40:18.488Z"
   },
   {
    "duration": 5,
    "start_time": "2022-12-23T07:40:18.670Z"
   },
   {
    "duration": 170,
    "start_time": "2022-12-23T07:40:18.677Z"
   },
   {
    "duration": 212,
    "start_time": "2022-12-23T07:40:18.848Z"
   },
   {
    "duration": 6,
    "start_time": "2022-12-23T07:40:19.062Z"
   },
   {
    "duration": 202,
    "start_time": "2022-12-23T07:40:19.070Z"
   },
   {
    "duration": 162,
    "start_time": "2022-12-23T07:40:19.278Z"
   },
   {
    "duration": 6,
    "start_time": "2022-12-23T07:40:19.442Z"
   },
   {
    "duration": 171,
    "start_time": "2022-12-23T07:40:19.450Z"
   },
   {
    "duration": 6,
    "start_time": "2022-12-23T07:40:19.623Z"
   },
   {
    "duration": 193,
    "start_time": "2022-12-23T07:40:19.631Z"
   },
   {
    "duration": 6,
    "start_time": "2022-12-23T07:40:19.826Z"
   },
   {
    "duration": 163,
    "start_time": "2022-12-23T07:40:19.834Z"
   },
   {
    "duration": 28,
    "start_time": "2022-12-23T07:40:19.999Z"
   },
   {
    "duration": 20,
    "start_time": "2022-12-23T07:40:20.028Z"
   },
   {
    "duration": 32,
    "start_time": "2022-12-23T07:40:20.050Z"
   },
   {
    "duration": 285,
    "start_time": "2022-12-23T07:40:20.084Z"
   },
   {
    "duration": 7,
    "start_time": "2022-12-23T07:40:46.711Z"
   },
   {
    "duration": 11,
    "start_time": "2022-12-23T07:41:14.934Z"
   },
   {
    "duration": 6,
    "start_time": "2022-12-23T07:42:30.014Z"
   },
   {
    "duration": 8,
    "start_time": "2022-12-23T07:42:31.973Z"
   },
   {
    "duration": 6,
    "start_time": "2022-12-23T07:42:55.661Z"
   },
   {
    "duration": 9,
    "start_time": "2022-12-23T07:42:56.869Z"
   },
   {
    "duration": 5,
    "start_time": "2022-12-23T07:43:18.149Z"
   },
   {
    "duration": 9,
    "start_time": "2022-12-23T07:43:19.398Z"
   },
   {
    "duration": 6,
    "start_time": "2022-12-23T07:43:28.869Z"
   },
   {
    "duration": 9,
    "start_time": "2022-12-23T07:43:31.149Z"
   },
   {
    "duration": 5,
    "start_time": "2022-12-23T07:43:39.117Z"
   },
   {
    "duration": 9,
    "start_time": "2022-12-23T07:43:39.941Z"
   },
   {
    "duration": 6,
    "start_time": "2022-12-23T07:44:14.652Z"
   },
   {
    "duration": 9,
    "start_time": "2022-12-23T07:44:15.717Z"
   },
   {
    "duration": 8,
    "start_time": "2022-12-23T07:48:00.212Z"
   },
   {
    "duration": 154,
    "start_time": "2022-12-23T07:48:23.580Z"
   },
   {
    "duration": 158,
    "start_time": "2022-12-23T07:48:47.508Z"
   },
   {
    "duration": 270,
    "start_time": "2022-12-23T07:49:08.772Z"
   },
   {
    "duration": 152,
    "start_time": "2022-12-23T07:49:14.316Z"
   },
   {
    "duration": 8,
    "start_time": "2022-12-23T07:50:15.319Z"
   },
   {
    "duration": 9,
    "start_time": "2022-12-23T07:50:39.636Z"
   },
   {
    "duration": 8,
    "start_time": "2022-12-23T07:51:21.955Z"
   },
   {
    "duration": 177,
    "start_time": "2022-12-23T07:52:08.708Z"
   },
   {
    "duration": 186,
    "start_time": "2022-12-23T07:52:15.412Z"
   },
   {
    "duration": 8,
    "start_time": "2022-12-23T07:53:30.699Z"
   },
   {
    "duration": 8,
    "start_time": "2022-12-23T07:53:43.036Z"
   },
   {
    "duration": 8,
    "start_time": "2022-12-23T08:04:01.946Z"
   },
   {
    "duration": 167,
    "start_time": "2022-12-23T08:04:04.484Z"
   },
   {
    "duration": 15,
    "start_time": "2022-12-23T08:04:04.653Z"
   },
   {
    "duration": 2617,
    "start_time": "2022-12-23T08:04:04.670Z"
   },
   {
    "duration": 10,
    "start_time": "2022-12-23T08:04:07.289Z"
   },
   {
    "duration": 5,
    "start_time": "2022-12-23T08:04:07.312Z"
   },
   {
    "duration": 14,
    "start_time": "2022-12-23T08:04:07.319Z"
   },
   {
    "duration": 21,
    "start_time": "2022-12-23T08:04:07.335Z"
   },
   {
    "duration": 16,
    "start_time": "2022-12-23T08:04:07.358Z"
   },
   {
    "duration": 6,
    "start_time": "2022-12-23T08:04:07.376Z"
   },
   {
    "duration": 10,
    "start_time": "2022-12-23T08:04:07.384Z"
   },
   {
    "duration": 14,
    "start_time": "2022-12-23T08:04:07.396Z"
   },
   {
    "duration": 28,
    "start_time": "2022-12-23T08:04:07.411Z"
   },
   {
    "duration": 40,
    "start_time": "2022-12-23T08:04:07.441Z"
   },
   {
    "duration": 5,
    "start_time": "2022-12-23T08:04:07.483Z"
   },
   {
    "duration": 18,
    "start_time": "2022-12-23T08:04:07.489Z"
   },
   {
    "duration": 27,
    "start_time": "2022-12-23T08:04:07.512Z"
   },
   {
    "duration": 17,
    "start_time": "2022-12-23T08:04:07.541Z"
   },
   {
    "duration": 7,
    "start_time": "2022-12-23T08:04:07.560Z"
   },
   {
    "duration": 9,
    "start_time": "2022-12-23T08:04:07.568Z"
   },
   {
    "duration": 15,
    "start_time": "2022-12-23T08:04:07.579Z"
   },
   {
    "duration": 34,
    "start_time": "2022-12-23T08:04:07.596Z"
   },
   {
    "duration": 7,
    "start_time": "2022-12-23T08:04:07.632Z"
   },
   {
    "duration": 10,
    "start_time": "2022-12-23T08:04:07.641Z"
   },
   {
    "duration": 9,
    "start_time": "2022-12-23T08:04:07.653Z"
   },
   {
    "duration": 161,
    "start_time": "2022-12-23T08:04:07.664Z"
   },
   {
    "duration": 16,
    "start_time": "2022-12-23T08:04:07.827Z"
   },
   {
    "duration": 6,
    "start_time": "2022-12-23T08:04:07.845Z"
   },
   {
    "duration": 83,
    "start_time": "2022-12-23T08:04:07.855Z"
   },
   {
    "duration": 7,
    "start_time": "2022-12-23T08:04:07.940Z"
   },
   {
    "duration": 190,
    "start_time": "2022-12-23T08:04:07.948Z"
   },
   {
    "duration": 7,
    "start_time": "2022-12-23T08:04:08.140Z"
   },
   {
    "duration": 177,
    "start_time": "2022-12-23T08:04:08.149Z"
   },
   {
    "duration": 6,
    "start_time": "2022-12-23T08:04:08.329Z"
   },
   {
    "duration": 50,
    "start_time": "2022-12-23T08:04:08.337Z"
   },
   {
    "duration": 45,
    "start_time": "2022-12-23T08:04:08.389Z"
   },
   {
    "duration": 30,
    "start_time": "2022-12-23T08:04:08.436Z"
   },
   {
    "duration": 13,
    "start_time": "2022-12-23T08:04:08.468Z"
   },
   {
    "duration": 20,
    "start_time": "2022-12-23T08:04:08.484Z"
   },
   {
    "duration": 177,
    "start_time": "2022-12-23T08:04:08.506Z"
   },
   {
    "duration": 5,
    "start_time": "2022-12-23T08:04:08.684Z"
   },
   {
    "duration": 12,
    "start_time": "2022-12-23T08:04:08.691Z"
   },
   {
    "duration": 13,
    "start_time": "2022-12-23T08:04:08.705Z"
   },
   {
    "duration": 14,
    "start_time": "2022-12-23T08:04:08.722Z"
   },
   {
    "duration": 6,
    "start_time": "2022-12-23T08:04:08.737Z"
   },
   {
    "duration": 12,
    "start_time": "2022-12-23T08:04:08.745Z"
   },
   {
    "duration": 224,
    "start_time": "2022-12-23T08:04:08.759Z"
   },
   {
    "duration": 6,
    "start_time": "2022-12-23T08:04:08.985Z"
   },
   {
    "duration": 14,
    "start_time": "2022-12-23T08:04:08.992Z"
   },
   {
    "duration": 287,
    "start_time": "2022-12-23T08:04:09.015Z"
   },
   {
    "duration": 29,
    "start_time": "2022-12-23T08:04:09.304Z"
   },
   {
    "duration": 264,
    "start_time": "2022-12-23T08:04:09.335Z"
   },
   {
    "duration": 23,
    "start_time": "2022-12-23T08:04:09.601Z"
   },
   {
    "duration": 279,
    "start_time": "2022-12-23T08:04:09.626Z"
   },
   {
    "duration": 13,
    "start_time": "2022-12-23T08:04:09.907Z"
   },
   {
    "duration": 18,
    "start_time": "2022-12-23T08:04:09.922Z"
   },
   {
    "duration": 297,
    "start_time": "2022-12-23T08:04:09.942Z"
   },
   {
    "duration": 8,
    "start_time": "2022-12-23T08:04:10.241Z"
   },
   {
    "duration": 164,
    "start_time": "2022-12-23T08:04:10.251Z"
   },
   {
    "duration": 11,
    "start_time": "2022-12-23T08:04:10.416Z"
   },
   {
    "duration": 15,
    "start_time": "2022-12-23T08:04:10.429Z"
   },
   {
    "duration": 161,
    "start_time": "2022-12-23T08:04:10.446Z"
   },
   {
    "duration": 15,
    "start_time": "2022-12-23T08:04:10.612Z"
   },
   {
    "duration": 298,
    "start_time": "2022-12-23T08:04:10.629Z"
   },
   {
    "duration": 115,
    "start_time": "2022-12-23T08:04:10.929Z"
   },
   {
    "duration": 10,
    "start_time": "2022-12-23T08:04:11.046Z"
   },
   {
    "duration": 231,
    "start_time": "2022-12-23T08:04:11.057Z"
   },
   {
    "duration": 163,
    "start_time": "2022-12-23T08:04:11.290Z"
   },
   {
    "duration": 9,
    "start_time": "2022-12-23T08:04:11.455Z"
   },
   {
    "duration": 223,
    "start_time": "2022-12-23T08:04:11.465Z"
   },
   {
    "duration": 9,
    "start_time": "2022-12-23T08:04:11.689Z"
   },
   {
    "duration": 287,
    "start_time": "2022-12-23T08:04:11.700Z"
   },
   {
    "duration": 9,
    "start_time": "2022-12-23T08:04:11.988Z"
   },
   {
    "duration": 242,
    "start_time": "2022-12-23T08:04:11.999Z"
   },
   {
    "duration": 148,
    "start_time": "2022-12-23T08:04:12.243Z"
   },
   {
    "duration": 173,
    "start_time": "2022-12-23T08:04:12.392Z"
   },
   {
    "duration": 6,
    "start_time": "2022-12-23T08:04:12.566Z"
   },
   {
    "duration": 18,
    "start_time": "2022-12-23T08:04:12.574Z"
   },
   {
    "duration": 311,
    "start_time": "2022-12-23T08:04:12.594Z"
   },
   {
    "duration": 18,
    "start_time": "2022-12-23T08:04:12.907Z"
   },
   {
    "duration": 221,
    "start_time": "2022-12-23T08:04:12.927Z"
   },
   {
    "duration": 6,
    "start_time": "2022-12-23T08:04:13.149Z"
   },
   {
    "duration": 196,
    "start_time": "2022-12-23T08:04:13.161Z"
   },
   {
    "duration": 5,
    "start_time": "2022-12-23T08:04:13.359Z"
   },
   {
    "duration": 193,
    "start_time": "2022-12-23T08:04:13.366Z"
   },
   {
    "duration": 199,
    "start_time": "2022-12-23T08:04:13.561Z"
   },
   {
    "duration": 5,
    "start_time": "2022-12-23T08:04:13.761Z"
   },
   {
    "duration": 159,
    "start_time": "2022-12-23T08:04:13.768Z"
   },
   {
    "duration": 145,
    "start_time": "2022-12-23T08:04:13.929Z"
   },
   {
    "duration": 4,
    "start_time": "2022-12-23T08:04:14.076Z"
   },
   {
    "duration": 181,
    "start_time": "2022-12-23T08:04:14.082Z"
   },
   {
    "duration": 5,
    "start_time": "2022-12-23T08:04:14.265Z"
   },
   {
    "duration": 207,
    "start_time": "2022-12-23T08:04:14.271Z"
   },
   {
    "duration": 5,
    "start_time": "2022-12-23T08:04:14.480Z"
   },
   {
    "duration": 159,
    "start_time": "2022-12-23T08:04:14.486Z"
   },
   {
    "duration": 22,
    "start_time": "2022-12-23T08:04:14.646Z"
   },
   {
    "duration": 7,
    "start_time": "2022-12-23T08:04:14.670Z"
   },
   {
    "duration": 49,
    "start_time": "2022-12-23T08:04:14.679Z"
   },
   {
    "duration": 309,
    "start_time": "2022-12-23T08:04:14.730Z"
   },
   {
    "duration": 190,
    "start_time": "2022-12-23T08:05:26.177Z"
   },
   {
    "duration": 198,
    "start_time": "2022-12-23T08:06:20.769Z"
   },
   {
    "duration": 165,
    "start_time": "2022-12-23T08:06:36.971Z"
   },
   {
    "duration": 12,
    "start_time": "2022-12-23T08:06:57.993Z"
   },
   {
    "duration": 14,
    "start_time": "2022-12-23T08:07:10.105Z"
   },
   {
    "duration": 9,
    "start_time": "2022-12-23T08:07:42.919Z"
   },
   {
    "duration": 7,
    "start_time": "2022-12-23T08:08:15.041Z"
   },
   {
    "duration": 10,
    "start_time": "2022-12-23T08:08:30.145Z"
   },
   {
    "duration": 9,
    "start_time": "2022-12-23T08:08:34.888Z"
   },
   {
    "duration": 7,
    "start_time": "2022-12-23T08:08:41.345Z"
   },
   {
    "duration": 256,
    "start_time": "2022-12-23T08:09:02.353Z"
   },
   {
    "duration": 11,
    "start_time": "2022-12-23T08:10:04.817Z"
   },
   {
    "duration": 10,
    "start_time": "2022-12-23T08:10:08.072Z"
   },
   {
    "duration": 233,
    "start_time": "2022-12-23T08:11:10.304Z"
   },
   {
    "duration": 8,
    "start_time": "2022-12-23T08:12:49.976Z"
   },
   {
    "duration": 638,
    "start_time": "2022-12-23T08:13:00.280Z"
   },
   {
    "duration": 200,
    "start_time": "2022-12-23T08:13:15.552Z"
   },
   {
    "duration": 154,
    "start_time": "2022-12-23T08:13:27.280Z"
   },
   {
    "duration": 181,
    "start_time": "2022-12-23T08:14:00.768Z"
   },
   {
    "duration": 5,
    "start_time": "2022-12-23T08:15:35.841Z"
   },
   {
    "duration": 10,
    "start_time": "2022-12-23T08:16:01.248Z"
   },
   {
    "duration": 144,
    "start_time": "2022-12-23T08:16:09.731Z"
   },
   {
    "duration": 43,
    "start_time": "2022-12-23T08:16:09.877Z"
   },
   {
    "duration": 2191,
    "start_time": "2022-12-23T08:16:09.922Z"
   },
   {
    "duration": 13,
    "start_time": "2022-12-23T08:16:12.117Z"
   },
   {
    "duration": 10,
    "start_time": "2022-12-23T08:16:12.132Z"
   },
   {
    "duration": 12,
    "start_time": "2022-12-23T08:16:12.144Z"
   },
   {
    "duration": 23,
    "start_time": "2022-12-23T08:16:12.158Z"
   },
   {
    "duration": 18,
    "start_time": "2022-12-23T08:16:12.184Z"
   },
   {
    "duration": 11,
    "start_time": "2022-12-23T08:16:12.204Z"
   },
   {
    "duration": 13,
    "start_time": "2022-12-23T08:16:12.219Z"
   },
   {
    "duration": 13,
    "start_time": "2022-12-23T08:16:12.235Z"
   },
   {
    "duration": 19,
    "start_time": "2022-12-23T08:16:12.250Z"
   },
   {
    "duration": 68,
    "start_time": "2022-12-23T08:16:12.271Z"
   },
   {
    "duration": 5,
    "start_time": "2022-12-23T08:16:12.341Z"
   },
   {
    "duration": 19,
    "start_time": "2022-12-23T08:16:12.348Z"
   },
   {
    "duration": 12,
    "start_time": "2022-12-23T08:16:12.369Z"
   },
   {
    "duration": 43,
    "start_time": "2022-12-23T08:16:12.384Z"
   },
   {
    "duration": 9,
    "start_time": "2022-12-23T08:16:12.429Z"
   },
   {
    "duration": 20,
    "start_time": "2022-12-23T08:16:12.439Z"
   },
   {
    "duration": 21,
    "start_time": "2022-12-23T08:16:12.461Z"
   },
   {
    "duration": 64,
    "start_time": "2022-12-23T08:16:12.484Z"
   },
   {
    "duration": 8,
    "start_time": "2022-12-23T08:16:12.550Z"
   },
   {
    "duration": 16,
    "start_time": "2022-12-23T08:16:12.560Z"
   },
   {
    "duration": 11,
    "start_time": "2022-12-23T08:16:12.578Z"
   },
   {
    "duration": 223,
    "start_time": "2022-12-23T08:16:12.591Z"
   },
   {
    "duration": 21,
    "start_time": "2022-12-23T08:16:12.816Z"
   },
   {
    "duration": 9,
    "start_time": "2022-12-23T08:16:12.839Z"
   },
   {
    "duration": 93,
    "start_time": "2022-12-23T08:16:12.853Z"
   },
   {
    "duration": 10,
    "start_time": "2022-12-23T08:16:12.948Z"
   },
   {
    "duration": 191,
    "start_time": "2022-12-23T08:16:12.960Z"
   },
   {
    "duration": 192,
    "start_time": "2022-12-23T08:16:13.153Z"
   },
   {
    "duration": 5,
    "start_time": "2022-12-23T08:16:13.348Z"
   },
   {
    "duration": 11,
    "start_time": "2022-12-23T08:16:13.355Z"
   },
   {
    "duration": 8,
    "start_time": "2022-12-23T08:16:13.368Z"
   },
   {
    "duration": 166,
    "start_time": "2022-12-23T08:16:13.378Z"
   },
   {
    "duration": 4,
    "start_time": "2022-12-23T08:16:13.546Z"
   },
   {
    "duration": 14,
    "start_time": "2022-12-23T08:16:13.552Z"
   },
   {
    "duration": 14,
    "start_time": "2022-12-23T08:16:13.568Z"
   },
   {
    "duration": 38,
    "start_time": "2022-12-23T08:16:13.584Z"
   },
   {
    "duration": 0,
    "start_time": "2022-12-23T08:16:13.626Z"
   },
   {
    "duration": 0,
    "start_time": "2022-12-23T08:16:13.627Z"
   },
   {
    "duration": 0,
    "start_time": "2022-12-23T08:16:13.628Z"
   },
   {
    "duration": 0,
    "start_time": "2022-12-23T08:16:13.630Z"
   },
   {
    "duration": 0,
    "start_time": "2022-12-23T08:16:13.631Z"
   },
   {
    "duration": 0,
    "start_time": "2022-12-23T08:16:13.633Z"
   },
   {
    "duration": 0,
    "start_time": "2022-12-23T08:16:13.635Z"
   },
   {
    "duration": 0,
    "start_time": "2022-12-23T08:16:13.637Z"
   },
   {
    "duration": 0,
    "start_time": "2022-12-23T08:16:13.639Z"
   },
   {
    "duration": 0,
    "start_time": "2022-12-23T08:16:13.640Z"
   },
   {
    "duration": 0,
    "start_time": "2022-12-23T08:16:13.642Z"
   },
   {
    "duration": 0,
    "start_time": "2022-12-23T08:16:13.643Z"
   },
   {
    "duration": 0,
    "start_time": "2022-12-23T08:16:13.645Z"
   },
   {
    "duration": 0,
    "start_time": "2022-12-23T08:16:13.646Z"
   },
   {
    "duration": 0,
    "start_time": "2022-12-23T08:16:13.648Z"
   },
   {
    "duration": 0,
    "start_time": "2022-12-23T08:16:13.650Z"
   },
   {
    "duration": 0,
    "start_time": "2022-12-23T08:16:13.652Z"
   },
   {
    "duration": 0,
    "start_time": "2022-12-23T08:16:13.653Z"
   },
   {
    "duration": 0,
    "start_time": "2022-12-23T08:16:13.655Z"
   },
   {
    "duration": 0,
    "start_time": "2022-12-23T08:16:13.655Z"
   },
   {
    "duration": 0,
    "start_time": "2022-12-23T08:16:13.657Z"
   },
   {
    "duration": 0,
    "start_time": "2022-12-23T08:16:13.658Z"
   },
   {
    "duration": 0,
    "start_time": "2022-12-23T08:16:13.659Z"
   },
   {
    "duration": 0,
    "start_time": "2022-12-23T08:16:13.660Z"
   },
   {
    "duration": 0,
    "start_time": "2022-12-23T08:16:13.713Z"
   },
   {
    "duration": 0,
    "start_time": "2022-12-23T08:16:13.714Z"
   },
   {
    "duration": 0,
    "start_time": "2022-12-23T08:16:13.716Z"
   },
   {
    "duration": 0,
    "start_time": "2022-12-23T08:16:13.717Z"
   },
   {
    "duration": 0,
    "start_time": "2022-12-23T08:16:13.718Z"
   },
   {
    "duration": 0,
    "start_time": "2022-12-23T08:16:13.719Z"
   },
   {
    "duration": 0,
    "start_time": "2022-12-23T08:16:13.720Z"
   },
   {
    "duration": 0,
    "start_time": "2022-12-23T08:16:13.722Z"
   },
   {
    "duration": 0,
    "start_time": "2022-12-23T08:16:13.723Z"
   },
   {
    "duration": 0,
    "start_time": "2022-12-23T08:16:13.724Z"
   },
   {
    "duration": 0,
    "start_time": "2022-12-23T08:16:13.725Z"
   },
   {
    "duration": 0,
    "start_time": "2022-12-23T08:16:13.727Z"
   },
   {
    "duration": 0,
    "start_time": "2022-12-23T08:16:13.728Z"
   },
   {
    "duration": 1,
    "start_time": "2022-12-23T08:16:13.728Z"
   },
   {
    "duration": 0,
    "start_time": "2022-12-23T08:16:13.729Z"
   },
   {
    "duration": 0,
    "start_time": "2022-12-23T08:16:13.730Z"
   },
   {
    "duration": 0,
    "start_time": "2022-12-23T08:16:13.731Z"
   },
   {
    "duration": 0,
    "start_time": "2022-12-23T08:16:13.734Z"
   },
   {
    "duration": 0,
    "start_time": "2022-12-23T08:16:13.734Z"
   },
   {
    "duration": 0,
    "start_time": "2022-12-23T08:16:13.736Z"
   },
   {
    "duration": 0,
    "start_time": "2022-12-23T08:16:13.737Z"
   },
   {
    "duration": 0,
    "start_time": "2022-12-23T08:16:13.738Z"
   },
   {
    "duration": 0,
    "start_time": "2022-12-23T08:16:13.739Z"
   },
   {
    "duration": 0,
    "start_time": "2022-12-23T08:16:13.740Z"
   },
   {
    "duration": 0,
    "start_time": "2022-12-23T08:16:13.741Z"
   },
   {
    "duration": 0,
    "start_time": "2022-12-23T08:16:13.742Z"
   },
   {
    "duration": 0,
    "start_time": "2022-12-23T08:16:13.743Z"
   },
   {
    "duration": 0,
    "start_time": "2022-12-23T08:16:13.744Z"
   },
   {
    "duration": 0,
    "start_time": "2022-12-23T08:16:13.745Z"
   },
   {
    "duration": 0,
    "start_time": "2022-12-23T08:16:13.747Z"
   },
   {
    "duration": 0,
    "start_time": "2022-12-23T08:16:13.748Z"
   },
   {
    "duration": 0,
    "start_time": "2022-12-23T08:16:13.748Z"
   },
   {
    "duration": 0,
    "start_time": "2022-12-23T08:16:13.749Z"
   },
   {
    "duration": 0,
    "start_time": "2022-12-23T08:16:13.813Z"
   },
   {
    "duration": 0,
    "start_time": "2022-12-23T08:16:13.814Z"
   },
   {
    "duration": 0,
    "start_time": "2022-12-23T08:16:13.815Z"
   },
   {
    "duration": 0,
    "start_time": "2022-12-23T08:16:13.816Z"
   },
   {
    "duration": 0,
    "start_time": "2022-12-23T08:16:13.817Z"
   },
   {
    "duration": 125,
    "start_time": "2022-12-23T08:17:17.836Z"
   },
   {
    "duration": 13,
    "start_time": "2022-12-23T08:17:17.963Z"
   },
   {
    "duration": 2064,
    "start_time": "2022-12-23T08:17:17.978Z"
   },
   {
    "duration": 9,
    "start_time": "2022-12-23T08:17:20.044Z"
   },
   {
    "duration": 10,
    "start_time": "2022-12-23T08:17:20.055Z"
   },
   {
    "duration": 22,
    "start_time": "2022-12-23T08:17:20.066Z"
   },
   {
    "duration": 20,
    "start_time": "2022-12-23T08:17:20.090Z"
   },
   {
    "duration": 23,
    "start_time": "2022-12-23T08:17:20.112Z"
   },
   {
    "duration": 25,
    "start_time": "2022-12-23T08:17:20.136Z"
   },
   {
    "duration": 22,
    "start_time": "2022-12-23T08:17:20.164Z"
   },
   {
    "duration": 21,
    "start_time": "2022-12-23T08:17:20.188Z"
   },
   {
    "duration": 31,
    "start_time": "2022-12-23T08:17:20.211Z"
   },
   {
    "duration": 49,
    "start_time": "2022-12-23T08:17:20.244Z"
   },
   {
    "duration": 5,
    "start_time": "2022-12-23T08:17:20.295Z"
   },
   {
    "duration": 23,
    "start_time": "2022-12-23T08:17:20.301Z"
   },
   {
    "duration": 33,
    "start_time": "2022-12-23T08:17:20.327Z"
   },
   {
    "duration": 34,
    "start_time": "2022-12-23T08:17:20.362Z"
   },
   {
    "duration": 10,
    "start_time": "2022-12-23T08:17:20.398Z"
   },
   {
    "duration": 22,
    "start_time": "2022-12-23T08:17:20.410Z"
   },
   {
    "duration": 41,
    "start_time": "2022-12-23T08:17:20.434Z"
   },
   {
    "duration": 39,
    "start_time": "2022-12-23T08:17:20.476Z"
   },
   {
    "duration": 7,
    "start_time": "2022-12-23T08:17:20.517Z"
   },
   {
    "duration": 36,
    "start_time": "2022-12-23T08:17:20.525Z"
   },
   {
    "duration": 65,
    "start_time": "2022-12-23T08:17:20.563Z"
   },
   {
    "duration": 197,
    "start_time": "2022-12-23T08:17:20.630Z"
   },
   {
    "duration": 19,
    "start_time": "2022-12-23T08:17:20.829Z"
   },
   {
    "duration": 14,
    "start_time": "2022-12-23T08:17:20.850Z"
   },
   {
    "duration": 88,
    "start_time": "2022-12-23T08:17:20.870Z"
   },
   {
    "duration": 8,
    "start_time": "2022-12-23T08:17:20.960Z"
   },
   {
    "duration": 180,
    "start_time": "2022-12-23T08:17:20.970Z"
   },
   {
    "duration": 184,
    "start_time": "2022-12-23T08:17:21.153Z"
   },
   {
    "duration": 5,
    "start_time": "2022-12-23T08:17:21.339Z"
   },
   {
    "duration": 41,
    "start_time": "2022-12-23T08:17:21.346Z"
   },
   {
    "duration": 30,
    "start_time": "2022-12-23T08:17:21.389Z"
   },
   {
    "duration": 157,
    "start_time": "2022-12-23T08:17:21.421Z"
   },
   {
    "duration": 4,
    "start_time": "2022-12-23T08:17:21.580Z"
   },
   {
    "duration": 12,
    "start_time": "2022-12-23T08:17:21.586Z"
   },
   {
    "duration": 15,
    "start_time": "2022-12-23T08:17:21.600Z"
   },
   {
    "duration": 26,
    "start_time": "2022-12-23T08:17:21.617Z"
   },
   {
    "duration": 0,
    "start_time": "2022-12-23T08:17:21.645Z"
   },
   {
    "duration": 0,
    "start_time": "2022-12-23T08:17:21.646Z"
   },
   {
    "duration": 0,
    "start_time": "2022-12-23T08:17:21.647Z"
   },
   {
    "duration": 0,
    "start_time": "2022-12-23T08:17:21.648Z"
   },
   {
    "duration": 0,
    "start_time": "2022-12-23T08:17:21.649Z"
   },
   {
    "duration": 0,
    "start_time": "2022-12-23T08:17:21.650Z"
   },
   {
    "duration": 0,
    "start_time": "2022-12-23T08:17:21.652Z"
   },
   {
    "duration": 0,
    "start_time": "2022-12-23T08:17:21.653Z"
   },
   {
    "duration": 0,
    "start_time": "2022-12-23T08:17:21.654Z"
   },
   {
    "duration": 0,
    "start_time": "2022-12-23T08:17:21.655Z"
   },
   {
    "duration": 1,
    "start_time": "2022-12-23T08:17:21.656Z"
   },
   {
    "duration": 0,
    "start_time": "2022-12-23T08:17:21.657Z"
   },
   {
    "duration": 0,
    "start_time": "2022-12-23T08:17:21.658Z"
   },
   {
    "duration": 0,
    "start_time": "2022-12-23T08:17:21.659Z"
   },
   {
    "duration": 0,
    "start_time": "2022-12-23T08:17:21.660Z"
   },
   {
    "duration": 0,
    "start_time": "2022-12-23T08:17:21.661Z"
   },
   {
    "duration": 0,
    "start_time": "2022-12-23T08:17:21.662Z"
   },
   {
    "duration": 0,
    "start_time": "2022-12-23T08:17:21.663Z"
   },
   {
    "duration": 0,
    "start_time": "2022-12-23T08:17:21.664Z"
   },
   {
    "duration": 0,
    "start_time": "2022-12-23T08:17:21.665Z"
   },
   {
    "duration": 0,
    "start_time": "2022-12-23T08:17:21.666Z"
   },
   {
    "duration": 0,
    "start_time": "2022-12-23T08:17:21.667Z"
   },
   {
    "duration": 0,
    "start_time": "2022-12-23T08:17:21.668Z"
   },
   {
    "duration": 0,
    "start_time": "2022-12-23T08:17:21.669Z"
   },
   {
    "duration": 0,
    "start_time": "2022-12-23T08:17:21.670Z"
   },
   {
    "duration": 0,
    "start_time": "2022-12-23T08:17:21.671Z"
   },
   {
    "duration": 0,
    "start_time": "2022-12-23T08:17:21.672Z"
   },
   {
    "duration": 0,
    "start_time": "2022-12-23T08:17:21.712Z"
   },
   {
    "duration": 0,
    "start_time": "2022-12-23T08:17:21.713Z"
   },
   {
    "duration": 0,
    "start_time": "2022-12-23T08:17:21.714Z"
   },
   {
    "duration": 0,
    "start_time": "2022-12-23T08:17:21.715Z"
   },
   {
    "duration": 0,
    "start_time": "2022-12-23T08:17:21.716Z"
   },
   {
    "duration": 0,
    "start_time": "2022-12-23T08:17:21.717Z"
   },
   {
    "duration": 0,
    "start_time": "2022-12-23T08:17:21.718Z"
   },
   {
    "duration": 0,
    "start_time": "2022-12-23T08:17:21.719Z"
   },
   {
    "duration": 0,
    "start_time": "2022-12-23T08:17:21.720Z"
   },
   {
    "duration": 0,
    "start_time": "2022-12-23T08:17:21.721Z"
   },
   {
    "duration": 0,
    "start_time": "2022-12-23T08:17:21.722Z"
   },
   {
    "duration": 0,
    "start_time": "2022-12-23T08:17:21.723Z"
   },
   {
    "duration": 0,
    "start_time": "2022-12-23T08:17:21.724Z"
   },
   {
    "duration": 0,
    "start_time": "2022-12-23T08:17:21.725Z"
   },
   {
    "duration": 0,
    "start_time": "2022-12-23T08:17:21.726Z"
   },
   {
    "duration": 0,
    "start_time": "2022-12-23T08:17:21.727Z"
   },
   {
    "duration": 0,
    "start_time": "2022-12-23T08:17:21.728Z"
   },
   {
    "duration": 0,
    "start_time": "2022-12-23T08:17:21.728Z"
   },
   {
    "duration": 0,
    "start_time": "2022-12-23T08:17:21.729Z"
   },
   {
    "duration": 0,
    "start_time": "2022-12-23T08:17:21.730Z"
   },
   {
    "duration": 0,
    "start_time": "2022-12-23T08:17:21.732Z"
   },
   {
    "duration": 0,
    "start_time": "2022-12-23T08:17:21.733Z"
   },
   {
    "duration": 0,
    "start_time": "2022-12-23T08:17:21.734Z"
   },
   {
    "duration": 0,
    "start_time": "2022-12-23T08:17:21.735Z"
   },
   {
    "duration": 0,
    "start_time": "2022-12-23T08:17:21.736Z"
   },
   {
    "duration": 0,
    "start_time": "2022-12-23T08:17:21.737Z"
   },
   {
    "duration": 0,
    "start_time": "2022-12-23T08:17:21.738Z"
   },
   {
    "duration": 0,
    "start_time": "2022-12-23T08:17:21.739Z"
   },
   {
    "duration": 0,
    "start_time": "2022-12-23T08:17:21.740Z"
   },
   {
    "duration": 0,
    "start_time": "2022-12-23T08:17:21.741Z"
   },
   {
    "duration": 0,
    "start_time": "2022-12-23T08:17:21.742Z"
   },
   {
    "duration": 0,
    "start_time": "2022-12-23T08:17:21.744Z"
   },
   {
    "duration": 0,
    "start_time": "2022-12-23T08:17:21.745Z"
   },
   {
    "duration": 0,
    "start_time": "2022-12-23T08:17:21.746Z"
   },
   {
    "duration": 0,
    "start_time": "2022-12-23T08:17:21.747Z"
   },
   {
    "duration": 145,
    "start_time": "2022-12-23T08:18:07.291Z"
   },
   {
    "duration": 15,
    "start_time": "2022-12-23T08:18:07.438Z"
   },
   {
    "duration": 2036,
    "start_time": "2022-12-23T08:18:07.455Z"
   },
   {
    "duration": 18,
    "start_time": "2022-12-23T08:18:09.494Z"
   },
   {
    "duration": 4,
    "start_time": "2022-12-23T08:18:09.514Z"
   },
   {
    "duration": 12,
    "start_time": "2022-12-23T08:18:09.520Z"
   },
   {
    "duration": 25,
    "start_time": "2022-12-23T08:18:09.534Z"
   },
   {
    "duration": 9,
    "start_time": "2022-12-23T08:18:09.562Z"
   },
   {
    "duration": 21,
    "start_time": "2022-12-23T08:18:09.572Z"
   },
   {
    "duration": 11,
    "start_time": "2022-12-23T08:18:09.596Z"
   },
   {
    "duration": 12,
    "start_time": "2022-12-23T08:18:09.609Z"
   },
   {
    "duration": 21,
    "start_time": "2022-12-23T08:18:09.623Z"
   },
   {
    "duration": 46,
    "start_time": "2022-12-23T08:18:09.646Z"
   },
   {
    "duration": 4,
    "start_time": "2022-12-23T08:18:09.694Z"
   },
   {
    "duration": 22,
    "start_time": "2022-12-23T08:18:09.700Z"
   },
   {
    "duration": 11,
    "start_time": "2022-12-23T08:18:09.725Z"
   },
   {
    "duration": 18,
    "start_time": "2022-12-23T08:18:09.738Z"
   },
   {
    "duration": 8,
    "start_time": "2022-12-23T08:18:09.757Z"
   },
   {
    "duration": 13,
    "start_time": "2022-12-23T08:18:09.767Z"
   },
   {
    "duration": 46,
    "start_time": "2022-12-23T08:18:09.783Z"
   },
   {
    "duration": 59,
    "start_time": "2022-12-23T08:18:09.831Z"
   },
   {
    "duration": 20,
    "start_time": "2022-12-23T08:18:09.893Z"
   },
   {
    "duration": 13,
    "start_time": "2022-12-23T08:18:09.915Z"
   },
   {
    "duration": 10,
    "start_time": "2022-12-23T08:18:09.930Z"
   },
   {
    "duration": 187,
    "start_time": "2022-12-23T08:18:09.942Z"
   },
   {
    "duration": 19,
    "start_time": "2022-12-23T08:18:10.132Z"
   },
   {
    "duration": 9,
    "start_time": "2022-12-23T08:18:10.153Z"
   },
   {
    "duration": 95,
    "start_time": "2022-12-23T08:18:10.168Z"
   },
   {
    "duration": 8,
    "start_time": "2022-12-23T08:18:10.266Z"
   },
   {
    "duration": 198,
    "start_time": "2022-12-23T08:18:10.276Z"
   },
   {
    "duration": 192,
    "start_time": "2022-12-23T08:18:10.477Z"
   },
   {
    "duration": 5,
    "start_time": "2022-12-23T08:18:10.671Z"
   },
   {
    "duration": 10,
    "start_time": "2022-12-23T08:18:10.678Z"
   },
   {
    "duration": 163,
    "start_time": "2022-12-23T08:18:10.690Z"
   },
   {
    "duration": 5,
    "start_time": "2022-12-23T08:18:10.854Z"
   },
   {
    "duration": 15,
    "start_time": "2022-12-23T08:18:10.860Z"
   },
   {
    "duration": 14,
    "start_time": "2022-12-23T08:18:10.876Z"
   },
   {
    "duration": 25,
    "start_time": "2022-12-23T08:18:10.892Z"
   },
   {
    "duration": 0,
    "start_time": "2022-12-23T08:18:10.919Z"
   },
   {
    "duration": 0,
    "start_time": "2022-12-23T08:18:10.921Z"
   },
   {
    "duration": 0,
    "start_time": "2022-12-23T08:18:10.922Z"
   },
   {
    "duration": 0,
    "start_time": "2022-12-23T08:18:10.922Z"
   },
   {
    "duration": 0,
    "start_time": "2022-12-23T08:18:10.923Z"
   },
   {
    "duration": 0,
    "start_time": "2022-12-23T08:18:10.924Z"
   },
   {
    "duration": 0,
    "start_time": "2022-12-23T08:18:10.925Z"
   },
   {
    "duration": 0,
    "start_time": "2022-12-23T08:18:10.926Z"
   },
   {
    "duration": 0,
    "start_time": "2022-12-23T08:18:10.927Z"
   },
   {
    "duration": 0,
    "start_time": "2022-12-23T08:18:10.928Z"
   },
   {
    "duration": 0,
    "start_time": "2022-12-23T08:18:10.930Z"
   },
   {
    "duration": 0,
    "start_time": "2022-12-23T08:18:10.931Z"
   },
   {
    "duration": 0,
    "start_time": "2022-12-23T08:18:10.932Z"
   },
   {
    "duration": 0,
    "start_time": "2022-12-23T08:18:10.933Z"
   },
   {
    "duration": 0,
    "start_time": "2022-12-23T08:18:10.934Z"
   },
   {
    "duration": 0,
    "start_time": "2022-12-23T08:18:10.935Z"
   },
   {
    "duration": 0,
    "start_time": "2022-12-23T08:18:10.936Z"
   },
   {
    "duration": 0,
    "start_time": "2022-12-23T08:18:10.937Z"
   },
   {
    "duration": 0,
    "start_time": "2022-12-23T08:18:10.938Z"
   },
   {
    "duration": 0,
    "start_time": "2022-12-23T08:18:10.939Z"
   },
   {
    "duration": 0,
    "start_time": "2022-12-23T08:18:10.940Z"
   },
   {
    "duration": 0,
    "start_time": "2022-12-23T08:18:10.941Z"
   },
   {
    "duration": 0,
    "start_time": "2022-12-23T08:18:10.942Z"
   },
   {
    "duration": 0,
    "start_time": "2022-12-23T08:18:10.943Z"
   },
   {
    "duration": 0,
    "start_time": "2022-12-23T08:18:10.944Z"
   },
   {
    "duration": 0,
    "start_time": "2022-12-23T08:18:10.945Z"
   },
   {
    "duration": 0,
    "start_time": "2022-12-23T08:18:10.946Z"
   },
   {
    "duration": 0,
    "start_time": "2022-12-23T08:18:10.947Z"
   },
   {
    "duration": 0,
    "start_time": "2022-12-23T08:18:10.949Z"
   },
   {
    "duration": 0,
    "start_time": "2022-12-23T08:18:10.950Z"
   },
   {
    "duration": 0,
    "start_time": "2022-12-23T08:18:10.951Z"
   },
   {
    "duration": 0,
    "start_time": "2022-12-23T08:18:10.952Z"
   },
   {
    "duration": 0,
    "start_time": "2022-12-23T08:18:10.953Z"
   },
   {
    "duration": 0,
    "start_time": "2022-12-23T08:18:11.012Z"
   },
   {
    "duration": 0,
    "start_time": "2022-12-23T08:18:11.013Z"
   },
   {
    "duration": 0,
    "start_time": "2022-12-23T08:18:11.014Z"
   },
   {
    "duration": 0,
    "start_time": "2022-12-23T08:18:11.015Z"
   },
   {
    "duration": 0,
    "start_time": "2022-12-23T08:18:11.016Z"
   },
   {
    "duration": 0,
    "start_time": "2022-12-23T08:18:11.017Z"
   },
   {
    "duration": 0,
    "start_time": "2022-12-23T08:18:11.018Z"
   },
   {
    "duration": 0,
    "start_time": "2022-12-23T08:18:11.019Z"
   },
   {
    "duration": 0,
    "start_time": "2022-12-23T08:18:11.020Z"
   },
   {
    "duration": 0,
    "start_time": "2022-12-23T08:18:11.021Z"
   },
   {
    "duration": 0,
    "start_time": "2022-12-23T08:18:11.022Z"
   },
   {
    "duration": 0,
    "start_time": "2022-12-23T08:18:11.023Z"
   },
   {
    "duration": 0,
    "start_time": "2022-12-23T08:18:11.024Z"
   },
   {
    "duration": 0,
    "start_time": "2022-12-23T08:18:11.024Z"
   },
   {
    "duration": 0,
    "start_time": "2022-12-23T08:18:11.025Z"
   },
   {
    "duration": 0,
    "start_time": "2022-12-23T08:18:11.026Z"
   },
   {
    "duration": 0,
    "start_time": "2022-12-23T08:18:11.027Z"
   },
   {
    "duration": 0,
    "start_time": "2022-12-23T08:18:11.028Z"
   },
   {
    "duration": 0,
    "start_time": "2022-12-23T08:18:11.029Z"
   },
   {
    "duration": 0,
    "start_time": "2022-12-23T08:18:11.030Z"
   },
   {
    "duration": 0,
    "start_time": "2022-12-23T08:18:11.032Z"
   },
   {
    "duration": 0,
    "start_time": "2022-12-23T08:18:11.033Z"
   },
   {
    "duration": 0,
    "start_time": "2022-12-23T08:18:11.034Z"
   },
   {
    "duration": 0,
    "start_time": "2022-12-23T08:18:11.035Z"
   },
   {
    "duration": 0,
    "start_time": "2022-12-23T08:18:11.036Z"
   },
   {
    "duration": 0,
    "start_time": "2022-12-23T08:18:11.037Z"
   },
   {
    "duration": 0,
    "start_time": "2022-12-23T08:18:11.038Z"
   },
   {
    "duration": 0,
    "start_time": "2022-12-23T08:18:11.039Z"
   },
   {
    "duration": 0,
    "start_time": "2022-12-23T08:18:11.041Z"
   },
   {
    "duration": 138,
    "start_time": "2022-12-23T08:19:04.721Z"
   },
   {
    "duration": 16,
    "start_time": "2022-12-23T08:19:04.861Z"
   },
   {
    "duration": 2687,
    "start_time": "2022-12-23T08:19:04.880Z"
   },
   {
    "duration": 10,
    "start_time": "2022-12-23T08:19:07.570Z"
   },
   {
    "duration": 5,
    "start_time": "2022-12-23T08:19:07.582Z"
   },
   {
    "duration": 25,
    "start_time": "2022-12-23T08:19:07.588Z"
   },
   {
    "duration": 14,
    "start_time": "2022-12-23T08:19:07.615Z"
   },
   {
    "duration": 6,
    "start_time": "2022-12-23T08:19:07.631Z"
   },
   {
    "duration": 8,
    "start_time": "2022-12-23T08:19:07.638Z"
   },
   {
    "duration": 10,
    "start_time": "2022-12-23T08:19:07.649Z"
   },
   {
    "duration": 10,
    "start_time": "2022-12-23T08:19:07.661Z"
   },
   {
    "duration": 45,
    "start_time": "2022-12-23T08:19:07.672Z"
   },
   {
    "duration": 45,
    "start_time": "2022-12-23T08:19:07.719Z"
   },
   {
    "duration": 5,
    "start_time": "2022-12-23T08:19:07.767Z"
   },
   {
    "duration": 15,
    "start_time": "2022-12-23T08:19:07.775Z"
   },
   {
    "duration": 8,
    "start_time": "2022-12-23T08:19:07.812Z"
   },
   {
    "duration": 21,
    "start_time": "2022-12-23T08:19:07.822Z"
   },
   {
    "duration": 11,
    "start_time": "2022-12-23T08:19:07.845Z"
   },
   {
    "duration": 12,
    "start_time": "2022-12-23T08:19:07.858Z"
   },
   {
    "duration": 48,
    "start_time": "2022-12-23T08:19:07.872Z"
   },
   {
    "duration": 47,
    "start_time": "2022-12-23T08:19:07.922Z"
   },
   {
    "duration": 7,
    "start_time": "2022-12-23T08:19:07.972Z"
   },
   {
    "duration": 12,
    "start_time": "2022-12-23T08:19:07.981Z"
   },
   {
    "duration": 11,
    "start_time": "2022-12-23T08:19:08.012Z"
   },
   {
    "duration": 167,
    "start_time": "2022-12-23T08:19:08.025Z"
   },
   {
    "duration": 25,
    "start_time": "2022-12-23T08:19:08.193Z"
   },
   {
    "duration": 8,
    "start_time": "2022-12-23T08:19:08.220Z"
   },
   {
    "duration": 81,
    "start_time": "2022-12-23T08:19:08.232Z"
   },
   {
    "duration": 4,
    "start_time": "2022-12-23T08:19:08.315Z"
   },
   {
    "duration": 14,
    "start_time": "2022-12-23T08:19:08.321Z"
   },
   {
    "duration": 8,
    "start_time": "2022-12-23T08:19:08.337Z"
   },
   {
    "duration": 10,
    "start_time": "2022-12-23T08:19:08.347Z"
   },
   {
    "duration": 247,
    "start_time": "2022-12-23T08:19:08.359Z"
   },
   {
    "duration": 8,
    "start_time": "2022-12-23T08:19:08.611Z"
   },
   {
    "duration": 12,
    "start_time": "2022-12-23T08:19:08.620Z"
   },
   {
    "duration": 292,
    "start_time": "2022-12-23T08:19:08.633Z"
   },
   {
    "duration": 10,
    "start_time": "2022-12-23T08:19:08.927Z"
   },
   {
    "duration": 265,
    "start_time": "2022-12-23T08:19:08.938Z"
   },
   {
    "duration": 15,
    "start_time": "2022-12-23T08:19:09.204Z"
   },
   {
    "duration": 322,
    "start_time": "2022-12-23T08:19:09.221Z"
   },
   {
    "duration": 11,
    "start_time": "2022-12-23T08:19:09.545Z"
   },
   {
    "duration": 16,
    "start_time": "2022-12-23T08:19:09.559Z"
   },
   {
    "duration": 292,
    "start_time": "2022-12-23T08:19:09.577Z"
   },
   {
    "duration": 13,
    "start_time": "2022-12-23T08:19:09.871Z"
   },
   {
    "duration": 150,
    "start_time": "2022-12-23T08:19:09.886Z"
   },
   {
    "duration": 6,
    "start_time": "2022-12-23T08:19:10.038Z"
   },
   {
    "duration": 14,
    "start_time": "2022-12-23T08:19:10.046Z"
   },
   {
    "duration": 233,
    "start_time": "2022-12-23T08:19:10.063Z"
   },
   {
    "duration": 20,
    "start_time": "2022-12-23T08:19:10.298Z"
   },
   {
    "duration": 278,
    "start_time": "2022-12-23T08:19:10.319Z"
   },
   {
    "duration": 125,
    "start_time": "2022-12-23T08:19:10.600Z"
   },
   {
    "duration": 10,
    "start_time": "2022-12-23T08:19:10.726Z"
   },
   {
    "duration": 210,
    "start_time": "2022-12-23T08:19:10.738Z"
   },
   {
    "duration": 173,
    "start_time": "2022-12-23T08:19:10.951Z"
   },
   {
    "duration": 10,
    "start_time": "2022-12-23T08:19:11.126Z"
   },
   {
    "duration": 230,
    "start_time": "2022-12-23T08:19:11.137Z"
   },
   {
    "duration": 11,
    "start_time": "2022-12-23T08:19:11.369Z"
   },
   {
    "duration": 296,
    "start_time": "2022-12-23T08:19:11.382Z"
   },
   {
    "duration": 9,
    "start_time": "2022-12-23T08:19:11.680Z"
   },
   {
    "duration": 212,
    "start_time": "2022-12-23T08:19:11.691Z"
   },
   {
    "duration": 137,
    "start_time": "2022-12-23T08:19:11.905Z"
   },
   {
    "duration": 144,
    "start_time": "2022-12-23T08:19:12.044Z"
   },
   {
    "duration": 6,
    "start_time": "2022-12-23T08:19:12.191Z"
   },
   {
    "duration": 17,
    "start_time": "2022-12-23T08:19:12.212Z"
   },
   {
    "duration": 247,
    "start_time": "2022-12-23T08:19:12.231Z"
   },
   {
    "duration": 5,
    "start_time": "2022-12-23T08:19:12.480Z"
   },
   {
    "duration": 166,
    "start_time": "2022-12-23T08:19:12.486Z"
   },
   {
    "duration": 7,
    "start_time": "2022-12-23T08:19:12.654Z"
   },
   {
    "duration": 178,
    "start_time": "2022-12-23T08:19:12.662Z"
   },
   {
    "duration": 7,
    "start_time": "2022-12-23T08:19:12.842Z"
   },
   {
    "duration": 177,
    "start_time": "2022-12-23T08:19:12.851Z"
   },
   {
    "duration": 233,
    "start_time": "2022-12-23T08:19:13.030Z"
   },
   {
    "duration": 6,
    "start_time": "2022-12-23T08:19:13.265Z"
   },
   {
    "duration": 188,
    "start_time": "2022-12-23T08:19:13.273Z"
   },
   {
    "duration": 158,
    "start_time": "2022-12-23T08:19:13.463Z"
   },
   {
    "duration": 6,
    "start_time": "2022-12-23T08:19:13.623Z"
   },
   {
    "duration": 181,
    "start_time": "2022-12-23T08:19:13.630Z"
   },
   {
    "duration": 5,
    "start_time": "2022-12-23T08:19:13.813Z"
   },
   {
    "duration": 218,
    "start_time": "2022-12-23T08:19:13.820Z"
   },
   {
    "duration": 6,
    "start_time": "2022-12-23T08:19:14.040Z"
   },
   {
    "duration": 237,
    "start_time": "2022-12-23T08:19:14.048Z"
   },
   {
    "duration": 29,
    "start_time": "2022-12-23T08:19:14.292Z"
   },
   {
    "duration": 11,
    "start_time": "2022-12-23T08:19:14.323Z"
   },
   {
    "duration": 29,
    "start_time": "2022-12-23T08:19:14.336Z"
   },
   {
    "duration": 323,
    "start_time": "2022-12-23T08:19:14.367Z"
   },
   {
    "duration": 61,
    "start_time": "2022-12-23T08:20:38.328Z"
   },
   {
    "duration": 104,
    "start_time": "2022-12-23T08:38:55.363Z"
   },
   {
    "duration": 98,
    "start_time": "2022-12-23T08:39:23.347Z"
   },
   {
    "duration": 125,
    "start_time": "2022-12-23T08:39:41.052Z"
   },
   {
    "duration": 104,
    "start_time": "2022-12-23T08:39:54.595Z"
   },
   {
    "duration": 8,
    "start_time": "2022-12-23T08:41:22.867Z"
   },
   {
    "duration": 128,
    "start_time": "2022-12-23T08:42:33.786Z"
   },
   {
    "duration": 174,
    "start_time": "2022-12-23T08:42:42.106Z"
   },
   {
    "duration": 139,
    "start_time": "2022-12-23T08:42:51.586Z"
   },
   {
    "duration": 185,
    "start_time": "2022-12-23T08:43:09.642Z"
   },
   {
    "duration": 161,
    "start_time": "2022-12-23T08:43:25.713Z"
   },
   {
    "duration": 164,
    "start_time": "2022-12-23T08:43:37.193Z"
   },
   {
    "duration": 161,
    "start_time": "2022-12-23T08:43:43.985Z"
   },
   {
    "duration": 257,
    "start_time": "2022-12-23T08:43:50.057Z"
   },
   {
    "duration": 177,
    "start_time": "2022-12-23T08:43:58.218Z"
   },
   {
    "duration": 163,
    "start_time": "2022-12-23T08:44:02.745Z"
   },
   {
    "duration": 155,
    "start_time": "2022-12-23T08:44:06.874Z"
   },
   {
    "duration": 154,
    "start_time": "2022-12-23T08:44:13.378Z"
   },
   {
    "duration": 157,
    "start_time": "2022-12-23T08:44:21.889Z"
   },
   {
    "duration": 7,
    "start_time": "2022-12-23T08:49:52.568Z"
   },
   {
    "duration": 8,
    "start_time": "2022-12-23T08:50:01.752Z"
   },
   {
    "duration": 148,
    "start_time": "2022-12-23T08:50:07.418Z"
   },
   {
    "duration": 15,
    "start_time": "2022-12-23T08:50:07.568Z"
   },
   {
    "duration": 2682,
    "start_time": "2022-12-23T08:50:07.585Z"
   },
   {
    "duration": 9,
    "start_time": "2022-12-23T08:50:10.269Z"
   },
   {
    "duration": 12,
    "start_time": "2022-12-23T08:50:10.279Z"
   },
   {
    "duration": 12,
    "start_time": "2022-12-23T08:50:10.292Z"
   },
   {
    "duration": 25,
    "start_time": "2022-12-23T08:50:10.311Z"
   },
   {
    "duration": 10,
    "start_time": "2022-12-23T08:50:10.338Z"
   },
   {
    "duration": 15,
    "start_time": "2022-12-23T08:50:10.350Z"
   },
   {
    "duration": 14,
    "start_time": "2022-12-23T08:50:10.368Z"
   },
   {
    "duration": 13,
    "start_time": "2022-12-23T08:50:10.385Z"
   },
   {
    "duration": 16,
    "start_time": "2022-12-23T08:50:10.399Z"
   },
   {
    "duration": 46,
    "start_time": "2022-12-23T08:50:10.416Z"
   },
   {
    "duration": 4,
    "start_time": "2022-12-23T08:50:10.464Z"
   },
   {
    "duration": 13,
    "start_time": "2022-12-23T08:50:10.470Z"
   },
   {
    "duration": 9,
    "start_time": "2022-12-23T08:50:10.485Z"
   },
   {
    "duration": 13,
    "start_time": "2022-12-23T08:50:10.513Z"
   },
   {
    "duration": 7,
    "start_time": "2022-12-23T08:50:10.528Z"
   },
   {
    "duration": 9,
    "start_time": "2022-12-23T08:50:10.537Z"
   },
   {
    "duration": 12,
    "start_time": "2022-12-23T08:50:10.548Z"
   },
   {
    "duration": 54,
    "start_time": "2022-12-23T08:50:10.562Z"
   },
   {
    "duration": 7,
    "start_time": "2022-12-23T08:50:10.618Z"
   },
   {
    "duration": 10,
    "start_time": "2022-12-23T08:50:10.627Z"
   },
   {
    "duration": 8,
    "start_time": "2022-12-23T08:50:10.639Z"
   },
   {
    "duration": 159,
    "start_time": "2022-12-23T08:50:10.648Z"
   },
   {
    "duration": 16,
    "start_time": "2022-12-23T08:50:10.813Z"
   },
   {
    "duration": 7,
    "start_time": "2022-12-23T08:50:10.831Z"
   },
   {
    "duration": 82,
    "start_time": "2022-12-23T08:50:10.843Z"
   },
   {
    "duration": 7,
    "start_time": "2022-12-23T08:50:10.927Z"
   },
   {
    "duration": 6,
    "start_time": "2022-12-23T08:50:10.935Z"
   },
   {
    "duration": 10,
    "start_time": "2022-12-23T08:50:10.943Z"
   },
   {
    "duration": 5,
    "start_time": "2022-12-23T08:50:10.954Z"
   },
   {
    "duration": 10,
    "start_time": "2022-12-23T08:50:10.960Z"
   },
   {
    "duration": 41,
    "start_time": "2022-12-23T08:50:10.972Z"
   },
   {
    "duration": 7,
    "start_time": "2022-12-23T08:50:11.015Z"
   },
   {
    "duration": 230,
    "start_time": "2022-12-23T08:50:11.024Z"
   },
   {
    "duration": 6,
    "start_time": "2022-12-23T08:50:11.256Z"
   },
   {
    "duration": 9,
    "start_time": "2022-12-23T08:50:11.264Z"
   },
   {
    "duration": 268,
    "start_time": "2022-12-23T08:50:11.274Z"
   },
   {
    "duration": 9,
    "start_time": "2022-12-23T08:50:11.543Z"
   },
   {
    "duration": 240,
    "start_time": "2022-12-23T08:50:11.553Z"
   },
   {
    "duration": 19,
    "start_time": "2022-12-23T08:50:11.795Z"
   },
   {
    "duration": 266,
    "start_time": "2022-12-23T08:50:11.815Z"
   },
   {
    "duration": 6,
    "start_time": "2022-12-23T08:50:12.082Z"
   },
   {
    "duration": 25,
    "start_time": "2022-12-23T08:50:12.090Z"
   },
   {
    "duration": 276,
    "start_time": "2022-12-23T08:50:12.117Z"
   },
   {
    "duration": 18,
    "start_time": "2022-12-23T08:50:12.395Z"
   },
   {
    "duration": 135,
    "start_time": "2022-12-23T08:50:12.414Z"
   },
   {
    "duration": 5,
    "start_time": "2022-12-23T08:50:12.551Z"
   },
   {
    "duration": 13,
    "start_time": "2022-12-23T08:50:12.558Z"
   },
   {
    "duration": 170,
    "start_time": "2022-12-23T08:50:12.573Z"
   },
   {
    "duration": 10,
    "start_time": "2022-12-23T08:50:12.745Z"
   },
   {
    "duration": 270,
    "start_time": "2022-12-23T08:50:12.757Z"
   },
   {
    "duration": 118,
    "start_time": "2022-12-23T08:50:13.029Z"
   },
   {
    "duration": 9,
    "start_time": "2022-12-23T08:50:13.149Z"
   },
   {
    "duration": 220,
    "start_time": "2022-12-23T08:50:13.160Z"
   },
   {
    "duration": 142,
    "start_time": "2022-12-23T08:50:13.382Z"
   },
   {
    "duration": 10,
    "start_time": "2022-12-23T08:50:13.525Z"
   },
   {
    "duration": 207,
    "start_time": "2022-12-23T08:50:13.538Z"
   },
   {
    "duration": 8,
    "start_time": "2022-12-23T08:50:13.747Z"
   },
   {
    "duration": 246,
    "start_time": "2022-12-23T08:50:13.756Z"
   },
   {
    "duration": 16,
    "start_time": "2022-12-23T08:50:14.004Z"
   },
   {
    "duration": 200,
    "start_time": "2022-12-23T08:50:14.022Z"
   },
   {
    "duration": 138,
    "start_time": "2022-12-23T08:50:14.224Z"
   },
   {
    "duration": 149,
    "start_time": "2022-12-23T08:50:14.364Z"
   },
   {
    "duration": 6,
    "start_time": "2022-12-23T08:50:14.516Z"
   },
   {
    "duration": 16,
    "start_time": "2022-12-23T08:50:14.524Z"
   },
   {
    "duration": 249,
    "start_time": "2022-12-23T08:50:14.542Z"
   },
   {
    "duration": 5,
    "start_time": "2022-12-23T08:50:14.793Z"
   },
   {
    "duration": 190,
    "start_time": "2022-12-23T08:50:14.799Z"
   },
   {
    "duration": 6,
    "start_time": "2022-12-23T08:50:14.991Z"
   },
   {
    "duration": 191,
    "start_time": "2022-12-23T08:50:14.999Z"
   },
   {
    "duration": 6,
    "start_time": "2022-12-23T08:50:15.192Z"
   },
   {
    "duration": 170,
    "start_time": "2022-12-23T08:50:15.200Z"
   },
   {
    "duration": 205,
    "start_time": "2022-12-23T08:50:15.372Z"
   },
   {
    "duration": 5,
    "start_time": "2022-12-23T08:50:15.579Z"
   },
   {
    "duration": 180,
    "start_time": "2022-12-23T08:50:15.586Z"
   },
   {
    "duration": 156,
    "start_time": "2022-12-23T08:50:15.768Z"
   },
   {
    "duration": 189,
    "start_time": "2022-12-23T08:50:15.926Z"
   },
   {
    "duration": 5,
    "start_time": "2022-12-23T08:50:16.117Z"
   },
   {
    "duration": 199,
    "start_time": "2022-12-23T08:50:16.124Z"
   },
   {
    "duration": 5,
    "start_time": "2022-12-23T08:50:16.330Z"
   },
   {
    "duration": 207,
    "start_time": "2022-12-23T08:50:16.337Z"
   },
   {
    "duration": 26,
    "start_time": "2022-12-23T08:50:16.546Z"
   },
   {
    "duration": 9,
    "start_time": "2022-12-23T08:50:16.574Z"
   },
   {
    "duration": 48,
    "start_time": "2022-12-23T08:50:16.585Z"
   },
   {
    "duration": 287,
    "start_time": "2022-12-23T08:50:16.635Z"
   },
   {
    "duration": 7,
    "start_time": "2022-12-23T08:51:15.056Z"
   },
   {
    "duration": 144,
    "start_time": "2022-12-23T08:51:36.840Z"
   },
   {
    "duration": 130,
    "start_time": "2022-12-23T08:51:51.536Z"
   },
   {
    "duration": 7,
    "start_time": "2022-12-23T08:55:09.504Z"
   },
   {
    "duration": 156,
    "start_time": "2022-12-23T08:55:17.146Z"
   },
   {
    "duration": 131,
    "start_time": "2022-12-23T08:55:23.455Z"
   },
   {
    "duration": 156,
    "start_time": "2022-12-23T08:55:30.234Z"
   },
   {
    "duration": 209,
    "start_time": "2022-12-23T08:55:56.239Z"
   },
   {
    "duration": 156,
    "start_time": "2022-12-23T08:56:05.911Z"
   },
   {
    "duration": 65,
    "start_time": "2022-12-23T08:56:35.830Z"
   },
   {
    "duration": 12,
    "start_time": "2022-12-23T08:56:52.351Z"
   },
   {
    "duration": 69,
    "start_time": "2022-12-23T08:57:07.615Z"
   },
   {
    "duration": 15,
    "start_time": "2022-12-23T08:57:09.431Z"
   },
   {
    "duration": 147,
    "start_time": "2022-12-23T08:57:27.875Z"
   },
   {
    "duration": 15,
    "start_time": "2022-12-23T08:57:28.024Z"
   },
   {
    "duration": 2145,
    "start_time": "2022-12-23T08:57:28.041Z"
   },
   {
    "duration": 10,
    "start_time": "2022-12-23T08:57:30.189Z"
   },
   {
    "duration": 28,
    "start_time": "2022-12-23T08:57:30.213Z"
   },
   {
    "duration": 18,
    "start_time": "2022-12-23T08:57:30.243Z"
   },
   {
    "duration": 29,
    "start_time": "2022-12-23T08:57:30.263Z"
   },
   {
    "duration": 24,
    "start_time": "2022-12-23T08:57:30.294Z"
   },
   {
    "duration": 22,
    "start_time": "2022-12-23T08:57:30.319Z"
   },
   {
    "duration": 14,
    "start_time": "2022-12-23T08:57:30.344Z"
   },
   {
    "duration": 21,
    "start_time": "2022-12-23T08:57:30.360Z"
   },
   {
    "duration": 66,
    "start_time": "2022-12-23T08:57:30.383Z"
   },
   {
    "duration": 45,
    "start_time": "2022-12-23T08:57:30.451Z"
   },
   {
    "duration": 5,
    "start_time": "2022-12-23T08:57:30.498Z"
   },
   {
    "duration": 31,
    "start_time": "2022-12-23T08:57:30.505Z"
   },
   {
    "duration": 30,
    "start_time": "2022-12-23T08:57:30.538Z"
   },
   {
    "duration": 31,
    "start_time": "2022-12-23T08:57:30.570Z"
   },
   {
    "duration": 32,
    "start_time": "2022-12-23T08:57:30.604Z"
   },
   {
    "duration": 33,
    "start_time": "2022-12-23T08:57:30.638Z"
   },
   {
    "duration": 54,
    "start_time": "2022-12-23T08:57:30.673Z"
   },
   {
    "duration": 63,
    "start_time": "2022-12-23T08:57:30.729Z"
   },
   {
    "duration": 39,
    "start_time": "2022-12-23T08:57:30.794Z"
   },
   {
    "duration": 35,
    "start_time": "2022-12-23T08:57:30.834Z"
   },
   {
    "duration": 33,
    "start_time": "2022-12-23T08:57:30.871Z"
   },
   {
    "duration": 155,
    "start_time": "2022-12-23T08:57:30.905Z"
   },
   {
    "duration": 16,
    "start_time": "2022-12-23T08:57:31.062Z"
   },
   {
    "duration": 89,
    "start_time": "2022-12-23T08:57:31.080Z"
   },
   {
    "duration": 100,
    "start_time": "2022-12-23T08:57:31.176Z"
   },
   {
    "duration": 8,
    "start_time": "2022-12-23T08:57:31.278Z"
   },
   {
    "duration": 31,
    "start_time": "2022-12-23T08:57:31.288Z"
   },
   {
    "duration": 19,
    "start_time": "2022-12-23T08:57:31.321Z"
   },
   {
    "duration": 22,
    "start_time": "2022-12-23T08:57:31.342Z"
   },
   {
    "duration": 196,
    "start_time": "2022-12-23T08:57:31.365Z"
   },
   {
    "duration": 62,
    "start_time": "2022-12-23T08:57:31.563Z"
   },
   {
    "duration": 12,
    "start_time": "2022-12-23T08:57:31.627Z"
   },
   {
    "duration": 18,
    "start_time": "2022-12-23T08:57:31.640Z"
   },
   {
    "duration": 0,
    "start_time": "2022-12-23T08:57:31.661Z"
   },
   {
    "duration": 0,
    "start_time": "2022-12-23T08:57:31.662Z"
   },
   {
    "duration": 0,
    "start_time": "2022-12-23T08:57:31.664Z"
   },
   {
    "duration": 0,
    "start_time": "2022-12-23T08:57:31.665Z"
   },
   {
    "duration": 0,
    "start_time": "2022-12-23T08:57:31.667Z"
   },
   {
    "duration": 0,
    "start_time": "2022-12-23T08:57:31.668Z"
   },
   {
    "duration": 0,
    "start_time": "2022-12-23T08:57:31.670Z"
   },
   {
    "duration": 0,
    "start_time": "2022-12-23T08:57:31.672Z"
   },
   {
    "duration": 0,
    "start_time": "2022-12-23T08:57:31.673Z"
   },
   {
    "duration": 0,
    "start_time": "2022-12-23T08:57:31.674Z"
   },
   {
    "duration": 0,
    "start_time": "2022-12-23T08:57:31.713Z"
   },
   {
    "duration": 0,
    "start_time": "2022-12-23T08:57:31.715Z"
   },
   {
    "duration": 0,
    "start_time": "2022-12-23T08:57:31.716Z"
   },
   {
    "duration": 1,
    "start_time": "2022-12-23T08:57:31.718Z"
   },
   {
    "duration": 0,
    "start_time": "2022-12-23T08:57:31.720Z"
   },
   {
    "duration": 1,
    "start_time": "2022-12-23T08:57:31.721Z"
   },
   {
    "duration": 0,
    "start_time": "2022-12-23T08:57:31.723Z"
   },
   {
    "duration": 0,
    "start_time": "2022-12-23T08:57:31.725Z"
   },
   {
    "duration": 0,
    "start_time": "2022-12-23T08:57:31.726Z"
   },
   {
    "duration": 0,
    "start_time": "2022-12-23T08:57:31.728Z"
   },
   {
    "duration": 0,
    "start_time": "2022-12-23T08:57:31.730Z"
   },
   {
    "duration": 0,
    "start_time": "2022-12-23T08:57:31.731Z"
   },
   {
    "duration": 0,
    "start_time": "2022-12-23T08:57:31.733Z"
   },
   {
    "duration": 0,
    "start_time": "2022-12-23T08:57:31.734Z"
   },
   {
    "duration": 0,
    "start_time": "2022-12-23T08:57:31.736Z"
   },
   {
    "duration": 0,
    "start_time": "2022-12-23T08:57:31.737Z"
   },
   {
    "duration": 0,
    "start_time": "2022-12-23T08:57:31.739Z"
   },
   {
    "duration": 0,
    "start_time": "2022-12-23T08:57:31.741Z"
   },
   {
    "duration": 0,
    "start_time": "2022-12-23T08:57:31.743Z"
   },
   {
    "duration": 0,
    "start_time": "2022-12-23T08:57:31.744Z"
   },
   {
    "duration": 0,
    "start_time": "2022-12-23T08:57:31.745Z"
   },
   {
    "duration": 0,
    "start_time": "2022-12-23T08:57:31.747Z"
   },
   {
    "duration": 0,
    "start_time": "2022-12-23T08:57:31.748Z"
   },
   {
    "duration": 0,
    "start_time": "2022-12-23T08:57:31.750Z"
   },
   {
    "duration": 0,
    "start_time": "2022-12-23T08:57:31.751Z"
   },
   {
    "duration": 0,
    "start_time": "2022-12-23T08:57:31.813Z"
   },
   {
    "duration": 0,
    "start_time": "2022-12-23T08:57:31.815Z"
   },
   {
    "duration": 0,
    "start_time": "2022-12-23T08:57:31.817Z"
   },
   {
    "duration": 0,
    "start_time": "2022-12-23T08:57:31.819Z"
   },
   {
    "duration": 0,
    "start_time": "2022-12-23T08:57:31.820Z"
   },
   {
    "duration": 0,
    "start_time": "2022-12-23T08:57:31.821Z"
   },
   {
    "duration": 0,
    "start_time": "2022-12-23T08:57:31.823Z"
   },
   {
    "duration": 0,
    "start_time": "2022-12-23T08:57:31.824Z"
   },
   {
    "duration": 0,
    "start_time": "2022-12-23T08:57:31.825Z"
   },
   {
    "duration": 0,
    "start_time": "2022-12-23T08:57:31.826Z"
   },
   {
    "duration": 0,
    "start_time": "2022-12-23T08:57:31.827Z"
   },
   {
    "duration": 0,
    "start_time": "2022-12-23T08:57:31.828Z"
   },
   {
    "duration": 0,
    "start_time": "2022-12-23T08:57:31.829Z"
   },
   {
    "duration": 0,
    "start_time": "2022-12-23T08:57:31.831Z"
   },
   {
    "duration": 0,
    "start_time": "2022-12-23T08:57:31.832Z"
   },
   {
    "duration": 0,
    "start_time": "2022-12-23T08:57:31.833Z"
   },
   {
    "duration": 0,
    "start_time": "2022-12-23T08:57:31.834Z"
   },
   {
    "duration": 0,
    "start_time": "2022-12-23T08:57:31.836Z"
   },
   {
    "duration": 0,
    "start_time": "2022-12-23T08:57:31.837Z"
   },
   {
    "duration": 0,
    "start_time": "2022-12-23T08:57:31.838Z"
   },
   {
    "duration": 58,
    "start_time": "2022-12-23T09:00:14.415Z"
   },
   {
    "duration": 18,
    "start_time": "2022-12-23T09:00:16.814Z"
   },
   {
    "duration": 18,
    "start_time": "2022-12-23T09:00:36.462Z"
   },
   {
    "duration": 14,
    "start_time": "2022-12-23T09:01:14.654Z"
   },
   {
    "duration": 132,
    "start_time": "2022-12-23T09:01:18.537Z"
   },
   {
    "duration": 44,
    "start_time": "2022-12-23T09:01:18.671Z"
   },
   {
    "duration": 3019,
    "start_time": "2022-12-23T09:01:18.717Z"
   },
   {
    "duration": 9,
    "start_time": "2022-12-23T09:01:21.739Z"
   },
   {
    "duration": 5,
    "start_time": "2022-12-23T09:01:21.750Z"
   },
   {
    "duration": 7,
    "start_time": "2022-12-23T09:01:21.756Z"
   },
   {
    "duration": 15,
    "start_time": "2022-12-23T09:01:21.764Z"
   },
   {
    "duration": 7,
    "start_time": "2022-12-23T09:01:21.781Z"
   },
   {
    "duration": 31,
    "start_time": "2022-12-23T09:01:21.789Z"
   },
   {
    "duration": 15,
    "start_time": "2022-12-23T09:01:21.823Z"
   },
   {
    "duration": 12,
    "start_time": "2022-12-23T09:01:21.841Z"
   },
   {
    "duration": 16,
    "start_time": "2022-12-23T09:01:21.856Z"
   },
   {
    "duration": 68,
    "start_time": "2022-12-23T09:01:21.874Z"
   },
   {
    "duration": 4,
    "start_time": "2022-12-23T09:01:21.944Z"
   },
   {
    "duration": 22,
    "start_time": "2022-12-23T09:01:21.950Z"
   },
   {
    "duration": 10,
    "start_time": "2022-12-23T09:01:21.974Z"
   },
   {
    "duration": 18,
    "start_time": "2022-12-23T09:01:21.985Z"
   },
   {
    "duration": 8,
    "start_time": "2022-12-23T09:01:22.013Z"
   },
   {
    "duration": 26,
    "start_time": "2022-12-23T09:01:22.023Z"
   },
   {
    "duration": 19,
    "start_time": "2022-12-23T09:01:22.051Z"
   },
   {
    "duration": 29,
    "start_time": "2022-12-23T09:01:22.072Z"
   },
   {
    "duration": 13,
    "start_time": "2022-12-23T09:01:22.103Z"
   },
   {
    "duration": 20,
    "start_time": "2022-12-23T09:01:22.118Z"
   },
   {
    "duration": 8,
    "start_time": "2022-12-23T09:01:22.140Z"
   },
   {
    "duration": 176,
    "start_time": "2022-12-23T09:01:22.150Z"
   },
   {
    "duration": 18,
    "start_time": "2022-12-23T09:01:22.327Z"
   },
   {
    "duration": 17,
    "start_time": "2022-12-23T09:01:22.347Z"
   },
   {
    "duration": 80,
    "start_time": "2022-12-23T09:01:22.370Z"
   },
   {
    "duration": 8,
    "start_time": "2022-12-23T09:01:22.452Z"
   },
   {
    "duration": 5,
    "start_time": "2022-12-23T09:01:22.462Z"
   },
   {
    "duration": 9,
    "start_time": "2022-12-23T09:01:22.469Z"
   },
   {
    "duration": 33,
    "start_time": "2022-12-23T09:01:22.480Z"
   },
   {
    "duration": 197,
    "start_time": "2022-12-23T09:01:22.515Z"
   },
   {
    "duration": 3,
    "start_time": "2022-12-23T09:01:22.714Z"
   },
   {
    "duration": 11,
    "start_time": "2022-12-23T09:01:22.719Z"
   },
   {
    "duration": 16,
    "start_time": "2022-12-23T09:01:22.732Z"
   },
   {
    "duration": 5,
    "start_time": "2022-12-23T09:01:22.750Z"
   },
   {
    "duration": 11,
    "start_time": "2022-12-23T09:01:22.757Z"
   },
   {
    "duration": 43,
    "start_time": "2022-12-23T09:01:22.771Z"
   },
   {
    "duration": 7,
    "start_time": "2022-12-23T09:01:22.816Z"
   },
   {
    "duration": 242,
    "start_time": "2022-12-23T09:01:22.825Z"
   },
   {
    "duration": 7,
    "start_time": "2022-12-23T09:01:23.069Z"
   },
   {
    "duration": 9,
    "start_time": "2022-12-23T09:01:23.078Z"
   },
   {
    "duration": 288,
    "start_time": "2022-12-23T09:01:23.089Z"
   },
   {
    "duration": 9,
    "start_time": "2022-12-23T09:01:23.379Z"
   },
   {
    "duration": 263,
    "start_time": "2022-12-23T09:01:23.390Z"
   },
   {
    "duration": 10,
    "start_time": "2022-12-23T09:01:23.654Z"
   },
   {
    "duration": 282,
    "start_time": "2022-12-23T09:01:23.665Z"
   },
   {
    "duration": 7,
    "start_time": "2022-12-23T09:01:23.948Z"
   },
   {
    "duration": 12,
    "start_time": "2022-12-23T09:01:23.956Z"
   },
   {
    "duration": 301,
    "start_time": "2022-12-23T09:01:23.969Z"
   },
   {
    "duration": 8,
    "start_time": "2022-12-23T09:01:24.272Z"
   },
   {
    "duration": 148,
    "start_time": "2022-12-23T09:01:24.282Z"
   },
   {
    "duration": 8,
    "start_time": "2022-12-23T09:01:24.432Z"
   },
   {
    "duration": 25,
    "start_time": "2022-12-23T09:01:24.442Z"
   },
   {
    "duration": 162,
    "start_time": "2022-12-23T09:01:24.469Z"
   },
   {
    "duration": 9,
    "start_time": "2022-12-23T09:01:24.632Z"
   },
   {
    "duration": 309,
    "start_time": "2022-12-23T09:01:24.643Z"
   },
   {
    "duration": 123,
    "start_time": "2022-12-23T09:01:24.954Z"
   },
   {
    "duration": 11,
    "start_time": "2022-12-23T09:01:25.078Z"
   },
   {
    "duration": 226,
    "start_time": "2022-12-23T09:01:25.091Z"
   },
   {
    "duration": 159,
    "start_time": "2022-12-23T09:01:25.318Z"
   },
   {
    "duration": 9,
    "start_time": "2022-12-23T09:01:25.479Z"
   },
   {
    "duration": 231,
    "start_time": "2022-12-23T09:01:25.489Z"
   },
   {
    "duration": 9,
    "start_time": "2022-12-23T09:01:25.722Z"
   },
   {
    "duration": 279,
    "start_time": "2022-12-23T09:01:25.733Z"
   },
   {
    "duration": 9,
    "start_time": "2022-12-23T09:01:26.014Z"
   },
   {
    "duration": 237,
    "start_time": "2022-12-23T09:01:26.025Z"
   },
   {
    "duration": 173,
    "start_time": "2022-12-23T09:01:26.264Z"
   },
   {
    "duration": 213,
    "start_time": "2022-12-23T09:01:26.440Z"
   },
   {
    "duration": 10,
    "start_time": "2022-12-23T09:01:26.655Z"
   },
   {
    "duration": 18,
    "start_time": "2022-12-23T09:01:26.667Z"
   },
   {
    "duration": 288,
    "start_time": "2022-12-23T09:01:26.687Z"
   },
   {
    "duration": 5,
    "start_time": "2022-12-23T09:01:26.977Z"
   },
   {
    "duration": 178,
    "start_time": "2022-12-23T09:01:26.984Z"
   },
   {
    "duration": 5,
    "start_time": "2022-12-23T09:01:27.164Z"
   },
   {
    "duration": 203,
    "start_time": "2022-12-23T09:01:27.171Z"
   },
   {
    "duration": 5,
    "start_time": "2022-12-23T09:01:27.376Z"
   },
   {
    "duration": 199,
    "start_time": "2022-12-23T09:01:27.383Z"
   },
   {
    "duration": 241,
    "start_time": "2022-12-23T09:01:27.584Z"
   },
   {
    "duration": 7,
    "start_time": "2022-12-23T09:01:27.826Z"
   },
   {
    "duration": 217,
    "start_time": "2022-12-23T09:01:27.838Z"
   },
   {
    "duration": 172,
    "start_time": "2022-12-23T09:01:28.056Z"
   },
   {
    "duration": 169,
    "start_time": "2022-12-23T09:01:28.230Z"
   },
   {
    "duration": 13,
    "start_time": "2022-12-23T09:01:28.400Z"
   },
   {
    "duration": 206,
    "start_time": "2022-12-23T09:01:28.415Z"
   },
   {
    "duration": 6,
    "start_time": "2022-12-23T09:01:28.623Z"
   },
   {
    "duration": 184,
    "start_time": "2022-12-23T09:01:28.630Z"
   },
   {
    "duration": 21,
    "start_time": "2022-12-23T09:01:28.816Z"
   },
   {
    "duration": 10,
    "start_time": "2022-12-23T09:01:28.839Z"
   },
   {
    "duration": 22,
    "start_time": "2022-12-23T09:01:28.851Z"
   },
   {
    "duration": 315,
    "start_time": "2022-12-23T09:01:28.875Z"
   },
   {
    "duration": 5,
    "start_time": "2022-12-23T09:03:48.488Z"
   },
   {
    "duration": 71,
    "start_time": "2022-12-23T09:03:49.262Z"
   },
   {
    "duration": 12,
    "start_time": "2022-12-23T09:03:50.408Z"
   },
   {
    "duration": 133,
    "start_time": "2022-12-23T09:04:07.745Z"
   },
   {
    "duration": 38,
    "start_time": "2022-12-23T09:04:07.881Z"
   },
   {
    "duration": 1982,
    "start_time": "2022-12-23T09:04:07.921Z"
   },
   {
    "duration": 14,
    "start_time": "2022-12-23T09:04:09.906Z"
   },
   {
    "duration": 6,
    "start_time": "2022-12-23T09:04:09.921Z"
   },
   {
    "duration": 4,
    "start_time": "2022-12-23T09:04:09.928Z"
   },
   {
    "duration": 16,
    "start_time": "2022-12-23T09:04:09.934Z"
   },
   {
    "duration": 6,
    "start_time": "2022-12-23T09:04:09.952Z"
   },
   {
    "duration": 7,
    "start_time": "2022-12-23T09:04:09.959Z"
   },
   {
    "duration": 9,
    "start_time": "2022-12-23T09:04:09.970Z"
   },
   {
    "duration": 39,
    "start_time": "2022-12-23T09:04:09.980Z"
   },
   {
    "duration": 15,
    "start_time": "2022-12-23T09:04:10.020Z"
   },
   {
    "duration": 43,
    "start_time": "2022-12-23T09:04:10.036Z"
   },
   {
    "duration": 5,
    "start_time": "2022-12-23T09:04:10.080Z"
   },
   {
    "duration": 28,
    "start_time": "2022-12-23T09:04:10.086Z"
   },
   {
    "duration": 14,
    "start_time": "2022-12-23T09:04:10.116Z"
   },
   {
    "duration": 18,
    "start_time": "2022-12-23T09:04:10.132Z"
   },
   {
    "duration": 7,
    "start_time": "2022-12-23T09:04:10.152Z"
   },
   {
    "duration": 17,
    "start_time": "2022-12-23T09:04:10.161Z"
   },
   {
    "duration": 20,
    "start_time": "2022-12-23T09:04:10.180Z"
   },
   {
    "duration": 54,
    "start_time": "2022-12-23T09:04:10.202Z"
   },
   {
    "duration": 9,
    "start_time": "2022-12-23T09:04:10.258Z"
   },
   {
    "duration": 10,
    "start_time": "2022-12-23T09:04:10.269Z"
   },
   {
    "duration": 8,
    "start_time": "2022-12-23T09:04:10.280Z"
   },
   {
    "duration": 144,
    "start_time": "2022-12-23T09:04:10.289Z"
   },
   {
    "duration": 17,
    "start_time": "2022-12-23T09:04:10.434Z"
   },
   {
    "duration": 14,
    "start_time": "2022-12-23T09:04:10.452Z"
   },
   {
    "duration": 74,
    "start_time": "2022-12-23T09:04:10.470Z"
   },
   {
    "duration": 7,
    "start_time": "2022-12-23T09:04:10.546Z"
   },
   {
    "duration": 22,
    "start_time": "2022-12-23T09:04:10.555Z"
   },
   {
    "duration": 17,
    "start_time": "2022-12-23T09:04:10.579Z"
   },
   {
    "duration": 20,
    "start_time": "2022-12-23T09:04:10.597Z"
   },
   {
    "duration": 169,
    "start_time": "2022-12-23T09:04:10.619Z"
   },
   {
    "duration": 4,
    "start_time": "2022-12-23T09:04:10.790Z"
   },
   {
    "duration": 47,
    "start_time": "2022-12-23T09:04:10.795Z"
   },
   {
    "duration": 0,
    "start_time": "2022-12-23T09:04:10.844Z"
   },
   {
    "duration": 0,
    "start_time": "2022-12-23T09:04:10.845Z"
   },
   {
    "duration": 0,
    "start_time": "2022-12-23T09:04:10.847Z"
   },
   {
    "duration": 0,
    "start_time": "2022-12-23T09:04:10.848Z"
   },
   {
    "duration": 0,
    "start_time": "2022-12-23T09:04:10.849Z"
   },
   {
    "duration": 0,
    "start_time": "2022-12-23T09:04:10.851Z"
   },
   {
    "duration": 1,
    "start_time": "2022-12-23T09:04:10.851Z"
   },
   {
    "duration": 0,
    "start_time": "2022-12-23T09:04:10.852Z"
   },
   {
    "duration": 0,
    "start_time": "2022-12-23T09:04:10.854Z"
   },
   {
    "duration": 0,
    "start_time": "2022-12-23T09:04:10.855Z"
   },
   {
    "duration": 0,
    "start_time": "2022-12-23T09:04:10.856Z"
   },
   {
    "duration": 0,
    "start_time": "2022-12-23T09:04:10.858Z"
   },
   {
    "duration": 0,
    "start_time": "2022-12-23T09:04:10.859Z"
   },
   {
    "duration": 0,
    "start_time": "2022-12-23T09:04:10.860Z"
   },
   {
    "duration": 0,
    "start_time": "2022-12-23T09:04:10.861Z"
   },
   {
    "duration": 0,
    "start_time": "2022-12-23T09:04:10.862Z"
   },
   {
    "duration": 0,
    "start_time": "2022-12-23T09:04:10.863Z"
   },
   {
    "duration": 0,
    "start_time": "2022-12-23T09:04:10.864Z"
   },
   {
    "duration": 0,
    "start_time": "2022-12-23T09:04:10.865Z"
   },
   {
    "duration": 0,
    "start_time": "2022-12-23T09:04:10.866Z"
   },
   {
    "duration": 0,
    "start_time": "2022-12-23T09:04:10.867Z"
   },
   {
    "duration": 0,
    "start_time": "2022-12-23T09:04:10.869Z"
   },
   {
    "duration": 0,
    "start_time": "2022-12-23T09:04:10.870Z"
   },
   {
    "duration": 0,
    "start_time": "2022-12-23T09:04:10.871Z"
   },
   {
    "duration": 0,
    "start_time": "2022-12-23T09:04:10.872Z"
   },
   {
    "duration": 0,
    "start_time": "2022-12-23T09:04:10.873Z"
   },
   {
    "duration": 0,
    "start_time": "2022-12-23T09:04:10.874Z"
   },
   {
    "duration": 0,
    "start_time": "2022-12-23T09:04:10.875Z"
   },
   {
    "duration": 0,
    "start_time": "2022-12-23T09:04:10.876Z"
   },
   {
    "duration": 0,
    "start_time": "2022-12-23T09:04:10.877Z"
   },
   {
    "duration": 0,
    "start_time": "2022-12-23T09:04:10.878Z"
   },
   {
    "duration": 0,
    "start_time": "2022-12-23T09:04:10.879Z"
   },
   {
    "duration": 0,
    "start_time": "2022-12-23T09:04:10.880Z"
   },
   {
    "duration": 0,
    "start_time": "2022-12-23T09:04:10.881Z"
   },
   {
    "duration": 0,
    "start_time": "2022-12-23T09:04:10.882Z"
   },
   {
    "duration": 0,
    "start_time": "2022-12-23T09:04:10.912Z"
   },
   {
    "duration": 0,
    "start_time": "2022-12-23T09:04:10.913Z"
   },
   {
    "duration": 0,
    "start_time": "2022-12-23T09:04:10.915Z"
   },
   {
    "duration": 0,
    "start_time": "2022-12-23T09:04:10.916Z"
   },
   {
    "duration": 0,
    "start_time": "2022-12-23T09:04:10.917Z"
   },
   {
    "duration": 0,
    "start_time": "2022-12-23T09:04:10.918Z"
   },
   {
    "duration": 0,
    "start_time": "2022-12-23T09:04:10.919Z"
   },
   {
    "duration": 0,
    "start_time": "2022-12-23T09:04:10.920Z"
   },
   {
    "duration": 0,
    "start_time": "2022-12-23T09:04:10.921Z"
   },
   {
    "duration": 0,
    "start_time": "2022-12-23T09:04:10.922Z"
   },
   {
    "duration": 0,
    "start_time": "2022-12-23T09:04:10.923Z"
   },
   {
    "duration": 0,
    "start_time": "2022-12-23T09:04:10.924Z"
   },
   {
    "duration": 0,
    "start_time": "2022-12-23T09:04:10.926Z"
   },
   {
    "duration": 0,
    "start_time": "2022-12-23T09:04:10.927Z"
   },
   {
    "duration": 0,
    "start_time": "2022-12-23T09:04:10.927Z"
   },
   {
    "duration": 0,
    "start_time": "2022-12-23T09:04:10.928Z"
   },
   {
    "duration": 0,
    "start_time": "2022-12-23T09:04:10.929Z"
   },
   {
    "duration": 0,
    "start_time": "2022-12-23T09:04:10.930Z"
   },
   {
    "duration": 0,
    "start_time": "2022-12-23T09:04:10.931Z"
   },
   {
    "duration": 0,
    "start_time": "2022-12-23T09:04:10.932Z"
   },
   {
    "duration": 0,
    "start_time": "2022-12-23T09:04:10.934Z"
   },
   {
    "duration": 0,
    "start_time": "2022-12-23T09:04:10.935Z"
   },
   {
    "duration": 0,
    "start_time": "2022-12-23T09:04:10.936Z"
   },
   {
    "duration": 68,
    "start_time": "2022-12-23T09:04:40.614Z"
   },
   {
    "duration": 12,
    "start_time": "2022-12-23T09:04:42.590Z"
   },
   {
    "duration": 26,
    "start_time": "2022-12-23T09:05:09.328Z"
   },
   {
    "duration": 14,
    "start_time": "2022-12-23T09:06:28.479Z"
   },
   {
    "duration": 16,
    "start_time": "2022-12-23T09:06:30.910Z"
   },
   {
    "duration": 14,
    "start_time": "2022-12-23T09:06:35.612Z"
   },
   {
    "duration": 133,
    "start_time": "2022-12-23T09:06:37.717Z"
   },
   {
    "duration": 16,
    "start_time": "2022-12-23T09:06:37.852Z"
   },
   {
    "duration": 2102,
    "start_time": "2022-12-23T09:06:37.870Z"
   },
   {
    "duration": 10,
    "start_time": "2022-12-23T09:06:39.975Z"
   },
   {
    "duration": 5,
    "start_time": "2022-12-23T09:06:39.987Z"
   },
   {
    "duration": 22,
    "start_time": "2022-12-23T09:06:39.993Z"
   },
   {
    "duration": 16,
    "start_time": "2022-12-23T09:06:40.017Z"
   },
   {
    "duration": 13,
    "start_time": "2022-12-23T09:06:40.035Z"
   },
   {
    "duration": 11,
    "start_time": "2022-12-23T09:06:40.050Z"
   },
   {
    "duration": 13,
    "start_time": "2022-12-23T09:06:40.064Z"
   },
   {
    "duration": 11,
    "start_time": "2022-12-23T09:06:40.079Z"
   },
   {
    "duration": 22,
    "start_time": "2022-12-23T09:06:40.091Z"
   },
   {
    "duration": 48,
    "start_time": "2022-12-23T09:06:40.115Z"
   },
   {
    "duration": 5,
    "start_time": "2022-12-23T09:06:40.164Z"
   },
   {
    "duration": 21,
    "start_time": "2022-12-23T09:06:40.171Z"
   },
   {
    "duration": 19,
    "start_time": "2022-12-23T09:06:40.194Z"
   },
   {
    "duration": 15,
    "start_time": "2022-12-23T09:06:40.215Z"
   },
   {
    "duration": 8,
    "start_time": "2022-12-23T09:06:40.231Z"
   },
   {
    "duration": 11,
    "start_time": "2022-12-23T09:06:40.241Z"
   },
   {
    "duration": 13,
    "start_time": "2022-12-23T09:06:40.253Z"
   },
   {
    "duration": 66,
    "start_time": "2022-12-23T09:06:40.268Z"
   },
   {
    "duration": 10,
    "start_time": "2022-12-23T09:06:40.336Z"
   },
   {
    "duration": 11,
    "start_time": "2022-12-23T09:06:40.348Z"
   },
   {
    "duration": 9,
    "start_time": "2022-12-23T09:06:40.362Z"
   },
   {
    "duration": 166,
    "start_time": "2022-12-23T09:06:40.373Z"
   },
   {
    "duration": 18,
    "start_time": "2022-12-23T09:06:40.541Z"
   },
   {
    "duration": 7,
    "start_time": "2022-12-23T09:06:40.561Z"
   },
   {
    "duration": 89,
    "start_time": "2022-12-23T09:06:40.574Z"
   },
   {
    "duration": 7,
    "start_time": "2022-12-23T09:06:40.665Z"
   },
   {
    "duration": 5,
    "start_time": "2022-12-23T09:06:40.674Z"
   },
   {
    "duration": 8,
    "start_time": "2022-12-23T09:06:40.680Z"
   },
   {
    "duration": 30,
    "start_time": "2022-12-23T09:06:40.689Z"
   },
   {
    "duration": 170,
    "start_time": "2022-12-23T09:06:40.721Z"
   },
   {
    "duration": 5,
    "start_time": "2022-12-23T09:06:40.893Z"
   },
   {
    "duration": 24,
    "start_time": "2022-12-23T09:06:40.900Z"
   },
   {
    "duration": 7,
    "start_time": "2022-12-23T09:06:40.926Z"
   },
   {
    "duration": 13,
    "start_time": "2022-12-23T09:06:40.934Z"
   },
   {
    "duration": 4,
    "start_time": "2022-12-23T09:06:40.949Z"
   },
   {
    "duration": 15,
    "start_time": "2022-12-23T09:06:40.954Z"
   },
   {
    "duration": 7,
    "start_time": "2022-12-23T09:06:40.970Z"
   },
   {
    "duration": 38,
    "start_time": "2022-12-23T09:06:40.979Z"
   },
   {
    "duration": 232,
    "start_time": "2022-12-23T09:06:41.019Z"
   },
   {
    "duration": 7,
    "start_time": "2022-12-23T09:06:41.252Z"
   },
   {
    "duration": 11,
    "start_time": "2022-12-23T09:06:41.261Z"
   },
   {
    "duration": 277,
    "start_time": "2022-12-23T09:06:41.273Z"
   },
   {
    "duration": 9,
    "start_time": "2022-12-23T09:06:41.552Z"
   },
   {
    "duration": 259,
    "start_time": "2022-12-23T09:06:41.563Z"
   },
   {
    "duration": 10,
    "start_time": "2022-12-23T09:06:41.825Z"
   },
   {
    "duration": 277,
    "start_time": "2022-12-23T09:06:41.837Z"
   },
   {
    "duration": 7,
    "start_time": "2022-12-23T09:06:42.115Z"
   },
   {
    "duration": 11,
    "start_time": "2022-12-23T09:06:42.124Z"
   },
   {
    "duration": 287,
    "start_time": "2022-12-23T09:06:42.138Z"
   },
   {
    "duration": 10,
    "start_time": "2022-12-23T09:06:42.427Z"
   },
   {
    "duration": 148,
    "start_time": "2022-12-23T09:06:42.439Z"
   },
   {
    "duration": 6,
    "start_time": "2022-12-23T09:06:42.590Z"
   },
   {
    "duration": 9,
    "start_time": "2022-12-23T09:06:42.612Z"
   },
   {
    "duration": 1069,
    "start_time": "2022-12-23T09:06:42.623Z"
   },
   {
    "duration": 10,
    "start_time": "2022-12-23T09:06:43.694Z"
   },
   {
    "duration": 276,
    "start_time": "2022-12-23T09:06:43.713Z"
   },
   {
    "duration": 123,
    "start_time": "2022-12-23T09:06:43.991Z"
   },
   {
    "duration": 10,
    "start_time": "2022-12-23T09:06:44.117Z"
   },
   {
    "duration": 228,
    "start_time": "2022-12-23T09:06:44.130Z"
   },
   {
    "duration": 157,
    "start_time": "2022-12-23T09:06:44.359Z"
   },
   {
    "duration": 9,
    "start_time": "2022-12-23T09:06:44.518Z"
   },
   {
    "duration": 218,
    "start_time": "2022-12-23T09:06:44.529Z"
   },
   {
    "duration": 10,
    "start_time": "2022-12-23T09:06:44.748Z"
   },
   {
    "duration": 279,
    "start_time": "2022-12-23T09:06:44.759Z"
   },
   {
    "duration": 9,
    "start_time": "2022-12-23T09:06:45.040Z"
   },
   {
    "duration": 216,
    "start_time": "2022-12-23T09:06:45.051Z"
   },
   {
    "duration": 147,
    "start_time": "2022-12-23T09:06:45.269Z"
   },
   {
    "duration": 152,
    "start_time": "2022-12-23T09:06:45.418Z"
   },
   {
    "duration": 6,
    "start_time": "2022-12-23T09:06:45.572Z"
   },
   {
    "duration": 11,
    "start_time": "2022-12-23T09:06:45.580Z"
   },
   {
    "duration": 263,
    "start_time": "2022-12-23T09:06:45.593Z"
   },
   {
    "duration": 6,
    "start_time": "2022-12-23T09:06:45.857Z"
   },
   {
    "duration": 170,
    "start_time": "2022-12-23T09:06:45.864Z"
   },
   {
    "duration": 6,
    "start_time": "2022-12-23T09:06:46.036Z"
   },
   {
    "duration": 191,
    "start_time": "2022-12-23T09:06:46.043Z"
   },
   {
    "duration": 5,
    "start_time": "2022-12-23T09:06:46.236Z"
   },
   {
    "duration": 174,
    "start_time": "2022-12-23T09:06:46.243Z"
   },
   {
    "duration": 219,
    "start_time": "2022-12-23T09:06:46.420Z"
   },
   {
    "duration": 6,
    "start_time": "2022-12-23T09:06:46.645Z"
   },
   {
    "duration": 191,
    "start_time": "2022-12-23T09:06:46.652Z"
   },
   {
    "duration": 156,
    "start_time": "2022-12-23T09:06:46.845Z"
   },
   {
    "duration": 178,
    "start_time": "2022-12-23T09:06:47.003Z"
   },
   {
    "duration": 7,
    "start_time": "2022-12-23T09:06:47.183Z"
   },
   {
    "duration": 268,
    "start_time": "2022-12-23T09:06:47.192Z"
   },
   {
    "duration": 6,
    "start_time": "2022-12-23T09:06:47.462Z"
   },
   {
    "duration": 169,
    "start_time": "2022-12-23T09:06:47.469Z"
   },
   {
    "duration": 21,
    "start_time": "2022-12-23T09:06:47.640Z"
   },
   {
    "duration": 8,
    "start_time": "2022-12-23T09:06:47.663Z"
   },
   {
    "duration": 44,
    "start_time": "2022-12-23T09:06:47.673Z"
   },
   {
    "duration": 314,
    "start_time": "2022-12-23T09:06:47.719Z"
   },
   {
    "duration": 7,
    "start_time": "2022-12-23T09:08:37.632Z"
   },
   {
    "duration": 142,
    "start_time": "2022-12-23T09:08:43.727Z"
   },
   {
    "duration": 146,
    "start_time": "2022-12-23T09:08:54.081Z"
   },
   {
    "duration": 14,
    "start_time": "2022-12-23T09:08:54.230Z"
   },
   {
    "duration": 1993,
    "start_time": "2022-12-23T09:08:54.246Z"
   },
   {
    "duration": 10,
    "start_time": "2022-12-23T09:08:56.241Z"
   },
   {
    "duration": 5,
    "start_time": "2022-12-23T09:08:56.252Z"
   },
   {
    "duration": 6,
    "start_time": "2022-12-23T09:08:56.259Z"
   },
   {
    "duration": 15,
    "start_time": "2022-12-23T09:08:56.267Z"
   },
   {
    "duration": 8,
    "start_time": "2022-12-23T09:08:56.283Z"
   },
   {
    "duration": 20,
    "start_time": "2022-12-23T09:08:56.292Z"
   },
   {
    "duration": 12,
    "start_time": "2022-12-23T09:08:56.315Z"
   },
   {
    "duration": 15,
    "start_time": "2022-12-23T09:08:56.328Z"
   },
   {
    "duration": 24,
    "start_time": "2022-12-23T09:08:56.345Z"
   },
   {
    "duration": 72,
    "start_time": "2022-12-23T09:08:56.371Z"
   },
   {
    "duration": 6,
    "start_time": "2022-12-23T09:08:56.445Z"
   },
   {
    "duration": 20,
    "start_time": "2022-12-23T09:08:56.453Z"
   },
   {
    "duration": 15,
    "start_time": "2022-12-23T09:08:56.476Z"
   },
   {
    "duration": 31,
    "start_time": "2022-12-23T09:08:56.493Z"
   },
   {
    "duration": 10,
    "start_time": "2022-12-23T09:08:56.526Z"
   },
   {
    "duration": 16,
    "start_time": "2022-12-23T09:08:56.538Z"
   },
   {
    "duration": 15,
    "start_time": "2022-12-23T09:08:56.556Z"
   },
   {
    "duration": 56,
    "start_time": "2022-12-23T09:08:56.573Z"
   },
   {
    "duration": 8,
    "start_time": "2022-12-23T09:08:56.631Z"
   },
   {
    "duration": 15,
    "start_time": "2022-12-23T09:08:56.641Z"
   },
   {
    "duration": 9,
    "start_time": "2022-12-23T09:08:56.657Z"
   },
   {
    "duration": 163,
    "start_time": "2022-12-23T09:08:56.667Z"
   },
   {
    "duration": 17,
    "start_time": "2022-12-23T09:08:56.832Z"
   },
   {
    "duration": 7,
    "start_time": "2022-12-23T09:08:56.850Z"
   },
   {
    "duration": 82,
    "start_time": "2022-12-23T09:08:56.862Z"
   },
   {
    "duration": 7,
    "start_time": "2022-12-23T09:08:56.946Z"
   },
   {
    "duration": 6,
    "start_time": "2022-12-23T09:08:56.955Z"
   },
   {
    "duration": 10,
    "start_time": "2022-12-23T09:08:56.962Z"
   },
   {
    "duration": 8,
    "start_time": "2022-12-23T09:08:56.974Z"
   },
   {
    "duration": 166,
    "start_time": "2022-12-23T09:08:56.984Z"
   },
   {
    "duration": 8,
    "start_time": "2022-12-23T09:08:57.152Z"
   },
   {
    "duration": 13,
    "start_time": "2022-12-23T09:08:57.162Z"
   },
   {
    "duration": 4,
    "start_time": "2022-12-23T09:08:57.177Z"
   },
   {
    "duration": 33,
    "start_time": "2022-12-23T09:08:57.183Z"
   },
   {
    "duration": 8,
    "start_time": "2022-12-23T09:08:57.218Z"
   },
   {
    "duration": 8,
    "start_time": "2022-12-23T09:08:57.227Z"
   },
   {
    "duration": 235,
    "start_time": "2022-12-23T09:08:57.237Z"
   },
   {
    "duration": 6,
    "start_time": "2022-12-23T09:08:57.474Z"
   },
   {
    "duration": 8,
    "start_time": "2022-12-23T09:08:57.482Z"
   },
   {
    "duration": 278,
    "start_time": "2022-12-23T09:08:57.492Z"
   },
   {
    "duration": 11,
    "start_time": "2022-12-23T09:08:57.772Z"
   },
   {
    "duration": 263,
    "start_time": "2022-12-23T09:08:57.784Z"
   },
   {
    "duration": 10,
    "start_time": "2022-12-23T09:08:58.048Z"
   },
   {
    "duration": 270,
    "start_time": "2022-12-23T09:08:58.060Z"
   },
   {
    "duration": 6,
    "start_time": "2022-12-23T09:08:58.332Z"
   },
   {
    "duration": 14,
    "start_time": "2022-12-23T09:08:58.339Z"
   },
   {
    "duration": 281,
    "start_time": "2022-12-23T09:08:58.354Z"
   },
   {
    "duration": 8,
    "start_time": "2022-12-23T09:08:58.636Z"
   },
   {
    "duration": 136,
    "start_time": "2022-12-23T09:08:58.645Z"
   },
   {
    "duration": 5,
    "start_time": "2022-12-23T09:08:58.783Z"
   },
   {
    "duration": 23,
    "start_time": "2022-12-23T09:08:58.790Z"
   },
   {
    "duration": 157,
    "start_time": "2022-12-23T09:08:58.814Z"
   },
   {
    "duration": 9,
    "start_time": "2022-12-23T09:08:58.973Z"
   },
   {
    "duration": 288,
    "start_time": "2022-12-23T09:08:58.984Z"
   },
   {
    "duration": 121,
    "start_time": "2022-12-23T09:08:59.273Z"
   },
   {
    "duration": 19,
    "start_time": "2022-12-23T09:08:59.396Z"
   },
   {
    "duration": 214,
    "start_time": "2022-12-23T09:08:59.416Z"
   },
   {
    "duration": 144,
    "start_time": "2022-12-23T09:08:59.632Z"
   },
   {
    "duration": 9,
    "start_time": "2022-12-23T09:08:59.778Z"
   },
   {
    "duration": 211,
    "start_time": "2022-12-23T09:08:59.789Z"
   },
   {
    "duration": 16,
    "start_time": "2022-12-23T09:09:00.001Z"
   },
   {
    "duration": 257,
    "start_time": "2022-12-23T09:09:00.019Z"
   },
   {
    "duration": 9,
    "start_time": "2022-12-23T09:09:00.278Z"
   },
   {
    "duration": 216,
    "start_time": "2022-12-23T09:09:00.289Z"
   },
   {
    "duration": 151,
    "start_time": "2022-12-23T09:09:00.507Z"
   },
   {
    "duration": 153,
    "start_time": "2022-12-23T09:09:00.659Z"
   },
   {
    "duration": 6,
    "start_time": "2022-12-23T09:09:00.814Z"
   },
   {
    "duration": 23,
    "start_time": "2022-12-23T09:09:00.822Z"
   },
   {
    "duration": 252,
    "start_time": "2022-12-23T09:09:00.846Z"
   },
   {
    "duration": 14,
    "start_time": "2022-12-23T09:09:01.099Z"
   },
   {
    "duration": 177,
    "start_time": "2022-12-23T09:09:01.115Z"
   },
   {
    "duration": 5,
    "start_time": "2022-12-23T09:09:01.294Z"
   },
   {
    "duration": 177,
    "start_time": "2022-12-23T09:09:01.301Z"
   },
   {
    "duration": 5,
    "start_time": "2022-12-23T09:09:01.480Z"
   },
   {
    "duration": 173,
    "start_time": "2022-12-23T09:09:01.487Z"
   },
   {
    "duration": 209,
    "start_time": "2022-12-23T09:09:01.662Z"
   },
   {
    "duration": 6,
    "start_time": "2022-12-23T09:09:01.872Z"
   },
   {
    "duration": 220,
    "start_time": "2022-12-23T09:09:01.880Z"
   },
   {
    "duration": 171,
    "start_time": "2022-12-23T09:09:02.106Z"
   },
   {
    "duration": 162,
    "start_time": "2022-12-23T09:09:02.279Z"
   },
   {
    "duration": 6,
    "start_time": "2022-12-23T09:09:02.443Z"
   },
   {
    "duration": 194,
    "start_time": "2022-12-23T09:09:02.450Z"
   },
   {
    "duration": 5,
    "start_time": "2022-12-23T09:09:02.646Z"
   },
   {
    "duration": 162,
    "start_time": "2022-12-23T09:09:02.653Z"
   },
   {
    "duration": 22,
    "start_time": "2022-12-23T09:09:02.817Z"
   },
   {
    "duration": 8,
    "start_time": "2022-12-23T09:09:02.841Z"
   },
   {
    "duration": 22,
    "start_time": "2022-12-23T09:09:02.851Z"
   },
   {
    "duration": 315,
    "start_time": "2022-12-23T09:09:02.875Z"
   },
   {
    "duration": 6,
    "start_time": "2022-12-23T09:19:49.839Z"
   },
   {
    "duration": 9,
    "start_time": "2022-12-23T09:20:00.462Z"
   },
   {
    "duration": 9,
    "start_time": "2022-12-23T09:20:14.947Z"
   },
   {
    "duration": 7,
    "start_time": "2022-12-23T09:20:16.878Z"
   },
   {
    "duration": 12,
    "start_time": "2022-12-23T09:22:13.653Z"
   },
   {
    "duration": 11,
    "start_time": "2022-12-23T09:22:23.759Z"
   },
   {
    "duration": 136,
    "start_time": "2022-12-23T09:22:30.601Z"
   },
   {
    "duration": 13,
    "start_time": "2022-12-23T09:22:30.739Z"
   },
   {
    "duration": 1886,
    "start_time": "2022-12-23T09:22:30.754Z"
   },
   {
    "duration": 10,
    "start_time": "2022-12-23T09:22:32.642Z"
   },
   {
    "duration": 5,
    "start_time": "2022-12-23T09:22:32.653Z"
   },
   {
    "duration": 8,
    "start_time": "2022-12-23T09:22:32.660Z"
   },
   {
    "duration": 18,
    "start_time": "2022-12-23T09:22:32.669Z"
   },
   {
    "duration": 25,
    "start_time": "2022-12-23T09:22:32.688Z"
   },
   {
    "duration": 4,
    "start_time": "2022-12-23T09:22:32.714Z"
   },
   {
    "duration": 11,
    "start_time": "2022-12-23T09:22:32.721Z"
   },
   {
    "duration": 10,
    "start_time": "2022-12-23T09:22:32.733Z"
   },
   {
    "duration": 15,
    "start_time": "2022-12-23T09:22:32.745Z"
   },
   {
    "duration": 73,
    "start_time": "2022-12-23T09:22:32.761Z"
   },
   {
    "duration": 5,
    "start_time": "2022-12-23T09:22:32.836Z"
   },
   {
    "duration": 12,
    "start_time": "2022-12-23T09:22:32.842Z"
   },
   {
    "duration": 7,
    "start_time": "2022-12-23T09:22:32.856Z"
   },
   {
    "duration": 15,
    "start_time": "2022-12-23T09:22:32.864Z"
   },
   {
    "duration": 7,
    "start_time": "2022-12-23T09:22:32.881Z"
   },
   {
    "duration": 7,
    "start_time": "2022-12-23T09:22:32.913Z"
   },
   {
    "duration": 13,
    "start_time": "2022-12-23T09:22:32.921Z"
   },
   {
    "duration": 27,
    "start_time": "2022-12-23T09:22:32.936Z"
   },
   {
    "duration": 7,
    "start_time": "2022-12-23T09:22:32.964Z"
   },
   {
    "duration": 10,
    "start_time": "2022-12-23T09:22:32.972Z"
   },
   {
    "duration": 34,
    "start_time": "2022-12-23T09:22:32.984Z"
   },
   {
    "duration": 146,
    "start_time": "2022-12-23T09:22:33.019Z"
   },
   {
    "duration": 20,
    "start_time": "2022-12-23T09:22:33.166Z"
   },
   {
    "duration": 10,
    "start_time": "2022-12-23T09:22:33.188Z"
   },
   {
    "duration": 60,
    "start_time": "2022-12-23T09:22:33.212Z"
   },
   {
    "duration": 7,
    "start_time": "2022-12-23T09:22:33.274Z"
   },
   {
    "duration": 32,
    "start_time": "2022-12-23T09:22:33.283Z"
   },
   {
    "duration": 8,
    "start_time": "2022-12-23T09:22:33.317Z"
   },
   {
    "duration": 8,
    "start_time": "2022-12-23T09:22:33.327Z"
   },
   {
    "duration": 152,
    "start_time": "2022-12-23T09:22:33.336Z"
   },
   {
    "duration": 22,
    "start_time": "2022-12-23T09:22:33.490Z"
   },
   {
    "duration": 7,
    "start_time": "2022-12-23T09:22:33.514Z"
   },
   {
    "duration": 13,
    "start_time": "2022-12-23T09:22:33.522Z"
   },
   {
    "duration": 4,
    "start_time": "2022-12-23T09:22:33.536Z"
   },
   {
    "duration": 10,
    "start_time": "2022-12-23T09:22:33.542Z"
   },
   {
    "duration": 8,
    "start_time": "2022-12-23T09:22:33.554Z"
   },
   {
    "duration": 8,
    "start_time": "2022-12-23T09:22:33.563Z"
   },
   {
    "duration": 60,
    "start_time": "2022-12-23T09:22:33.573Z"
   },
   {
    "duration": 7,
    "start_time": "2022-12-23T09:22:33.635Z"
   },
   {
    "duration": 12,
    "start_time": "2022-12-23T09:22:33.643Z"
   },
   {
    "duration": 262,
    "start_time": "2022-12-23T09:22:33.657Z"
   },
   {
    "duration": 8,
    "start_time": "2022-12-23T09:22:33.921Z"
   },
   {
    "duration": 246,
    "start_time": "2022-12-23T09:22:33.930Z"
   },
   {
    "duration": 9,
    "start_time": "2022-12-23T09:22:34.178Z"
   },
   {
    "duration": 241,
    "start_time": "2022-12-23T09:22:34.189Z"
   },
   {
    "duration": 7,
    "start_time": "2022-12-23T09:22:34.432Z"
   },
   {
    "duration": 17,
    "start_time": "2022-12-23T09:22:34.441Z"
   },
   {
    "duration": 273,
    "start_time": "2022-12-23T09:22:34.460Z"
   },
   {
    "duration": 9,
    "start_time": "2022-12-23T09:22:34.735Z"
   },
   {
    "duration": 155,
    "start_time": "2022-12-23T09:22:34.746Z"
   },
   {
    "duration": 13,
    "start_time": "2022-12-23T09:22:34.902Z"
   },
   {
    "duration": 8,
    "start_time": "2022-12-23T09:22:34.916Z"
   },
   {
    "duration": 169,
    "start_time": "2022-12-23T09:22:34.926Z"
   },
   {
    "duration": 16,
    "start_time": "2022-12-23T09:22:35.097Z"
   },
   {
    "duration": 272,
    "start_time": "2022-12-23T09:22:35.115Z"
   },
   {
    "duration": 130,
    "start_time": "2022-12-23T09:22:35.390Z"
   },
   {
    "duration": 9,
    "start_time": "2022-12-23T09:22:35.521Z"
   },
   {
    "duration": 216,
    "start_time": "2022-12-23T09:22:35.532Z"
   },
   {
    "duration": 139,
    "start_time": "2022-12-23T09:22:35.749Z"
   },
   {
    "duration": 9,
    "start_time": "2022-12-23T09:22:35.890Z"
   },
   {
    "duration": 194,
    "start_time": "2022-12-23T09:22:35.900Z"
   },
   {
    "duration": 20,
    "start_time": "2022-12-23T09:22:36.096Z"
   },
   {
    "duration": 280,
    "start_time": "2022-12-23T09:22:36.118Z"
   },
   {
    "duration": 22,
    "start_time": "2022-12-23T09:22:36.400Z"
   },
   {
    "duration": 268,
    "start_time": "2022-12-23T09:22:36.424Z"
   },
   {
    "duration": 150,
    "start_time": "2022-12-23T09:22:36.694Z"
   },
   {
    "duration": 142,
    "start_time": "2022-12-23T09:22:36.845Z"
   },
   {
    "duration": 6,
    "start_time": "2022-12-23T09:22:36.989Z"
   },
   {
    "duration": 22,
    "start_time": "2022-12-23T09:22:36.996Z"
   },
   {
    "duration": 1264,
    "start_time": "2022-12-23T09:22:37.019Z"
   },
   {
    "duration": 6,
    "start_time": "2022-12-23T09:22:38.285Z"
   },
   {
    "duration": 145,
    "start_time": "2022-12-23T09:22:38.292Z"
   },
   {
    "duration": 7,
    "start_time": "2022-12-23T09:22:38.439Z"
   },
   {
    "duration": 174,
    "start_time": "2022-12-23T09:22:38.447Z"
   },
   {
    "duration": 6,
    "start_time": "2022-12-23T09:22:38.623Z"
   },
   {
    "duration": 156,
    "start_time": "2022-12-23T09:22:38.630Z"
   },
   {
    "duration": 218,
    "start_time": "2022-12-23T09:22:38.788Z"
   },
   {
    "duration": 5,
    "start_time": "2022-12-23T09:22:39.012Z"
   },
   {
    "duration": 163,
    "start_time": "2022-12-23T09:22:39.022Z"
   },
   {
    "duration": 159,
    "start_time": "2022-12-23T09:22:39.187Z"
   },
   {
    "duration": 168,
    "start_time": "2022-12-23T09:22:39.348Z"
   },
   {
    "duration": 5,
    "start_time": "2022-12-23T09:22:39.518Z"
   },
   {
    "duration": 192,
    "start_time": "2022-12-23T09:22:39.524Z"
   },
   {
    "duration": 5,
    "start_time": "2022-12-23T09:22:39.718Z"
   },
   {
    "duration": 156,
    "start_time": "2022-12-23T09:22:39.725Z"
   },
   {
    "duration": 18,
    "start_time": "2022-12-23T09:22:39.882Z"
   },
   {
    "duration": 17,
    "start_time": "2022-12-23T09:22:39.911Z"
   },
   {
    "duration": 28,
    "start_time": "2022-12-23T09:22:39.930Z"
   },
   {
    "duration": 258,
    "start_time": "2022-12-23T09:22:39.960Z"
   },
   {
    "duration": 6,
    "start_time": "2022-12-23T09:25:07.478Z"
   },
   {
    "duration": 6,
    "start_time": "2022-12-23T09:25:10.395Z"
   },
   {
    "duration": 139,
    "start_time": "2022-12-23T09:25:21.112Z"
   },
   {
    "duration": 15,
    "start_time": "2022-12-23T09:25:21.253Z"
   },
   {
    "duration": 1926,
    "start_time": "2022-12-23T09:25:21.269Z"
   },
   {
    "duration": 20,
    "start_time": "2022-12-23T09:25:23.197Z"
   },
   {
    "duration": 5,
    "start_time": "2022-12-23T09:25:23.219Z"
   },
   {
    "duration": 4,
    "start_time": "2022-12-23T09:25:23.225Z"
   },
   {
    "duration": 14,
    "start_time": "2022-12-23T09:25:23.231Z"
   },
   {
    "duration": 6,
    "start_time": "2022-12-23T09:25:23.247Z"
   },
   {
    "duration": 5,
    "start_time": "2022-12-23T09:25:23.254Z"
   },
   {
    "duration": 9,
    "start_time": "2022-12-23T09:25:23.261Z"
   },
   {
    "duration": 8,
    "start_time": "2022-12-23T09:25:23.271Z"
   },
   {
    "duration": 41,
    "start_time": "2022-12-23T09:25:23.281Z"
   },
   {
    "duration": 43,
    "start_time": "2022-12-23T09:25:23.324Z"
   },
   {
    "duration": 5,
    "start_time": "2022-12-23T09:25:23.368Z"
   },
   {
    "duration": 26,
    "start_time": "2022-12-23T09:25:23.375Z"
   },
   {
    "duration": 11,
    "start_time": "2022-12-23T09:25:23.402Z"
   },
   {
    "duration": 19,
    "start_time": "2022-12-23T09:25:23.414Z"
   },
   {
    "duration": 8,
    "start_time": "2022-12-23T09:25:23.434Z"
   },
   {
    "duration": 10,
    "start_time": "2022-12-23T09:25:23.443Z"
   },
   {
    "duration": 13,
    "start_time": "2022-12-23T09:25:23.454Z"
   },
   {
    "duration": 48,
    "start_time": "2022-12-23T09:25:23.468Z"
   },
   {
    "duration": 8,
    "start_time": "2022-12-23T09:25:23.518Z"
   },
   {
    "duration": 9,
    "start_time": "2022-12-23T09:25:23.528Z"
   },
   {
    "duration": 9,
    "start_time": "2022-12-23T09:25:23.539Z"
   },
   {
    "duration": 189,
    "start_time": "2022-12-23T09:25:23.549Z"
   },
   {
    "duration": 20,
    "start_time": "2022-12-23T09:25:23.740Z"
   },
   {
    "duration": 11,
    "start_time": "2022-12-23T09:25:23.762Z"
   },
   {
    "duration": 95,
    "start_time": "2022-12-23T09:25:23.777Z"
   },
   {
    "duration": 7,
    "start_time": "2022-12-23T09:25:23.874Z"
   },
   {
    "duration": 7,
    "start_time": "2022-12-23T09:25:23.882Z"
   },
   {
    "duration": 9,
    "start_time": "2022-12-23T09:25:23.890Z"
   },
   {
    "duration": 9,
    "start_time": "2022-12-23T09:25:23.913Z"
   },
   {
    "duration": 0,
    "start_time": "2022-12-23T09:25:23.924Z"
   },
   {
    "duration": 0,
    "start_time": "2022-12-23T09:25:23.926Z"
   },
   {
    "duration": 0,
    "start_time": "2022-12-23T09:25:23.927Z"
   },
   {
    "duration": 0,
    "start_time": "2022-12-23T09:25:23.929Z"
   },
   {
    "duration": 0,
    "start_time": "2022-12-23T09:25:23.930Z"
   },
   {
    "duration": 1,
    "start_time": "2022-12-23T09:25:23.931Z"
   },
   {
    "duration": 0,
    "start_time": "2022-12-23T09:25:23.933Z"
   },
   {
    "duration": 0,
    "start_time": "2022-12-23T09:25:23.935Z"
   },
   {
    "duration": 0,
    "start_time": "2022-12-23T09:25:23.936Z"
   },
   {
    "duration": 0,
    "start_time": "2022-12-23T09:25:23.937Z"
   },
   {
    "duration": 0,
    "start_time": "2022-12-23T09:25:23.938Z"
   },
   {
    "duration": 0,
    "start_time": "2022-12-23T09:25:23.939Z"
   },
   {
    "duration": 0,
    "start_time": "2022-12-23T09:25:23.940Z"
   },
   {
    "duration": 0,
    "start_time": "2022-12-23T09:25:23.941Z"
   },
   {
    "duration": 0,
    "start_time": "2022-12-23T09:25:23.942Z"
   },
   {
    "duration": 0,
    "start_time": "2022-12-23T09:25:23.943Z"
   },
   {
    "duration": 0,
    "start_time": "2022-12-23T09:25:23.944Z"
   },
   {
    "duration": 0,
    "start_time": "2022-12-23T09:25:23.945Z"
   },
   {
    "duration": 0,
    "start_time": "2022-12-23T09:25:23.946Z"
   },
   {
    "duration": 0,
    "start_time": "2022-12-23T09:25:23.947Z"
   },
   {
    "duration": 0,
    "start_time": "2022-12-23T09:25:23.947Z"
   },
   {
    "duration": 0,
    "start_time": "2022-12-23T09:25:23.948Z"
   },
   {
    "duration": 0,
    "start_time": "2022-12-23T09:25:23.949Z"
   },
   {
    "duration": 0,
    "start_time": "2022-12-23T09:25:23.950Z"
   },
   {
    "duration": 0,
    "start_time": "2022-12-23T09:25:23.951Z"
   },
   {
    "duration": 0,
    "start_time": "2022-12-23T09:25:23.952Z"
   },
   {
    "duration": 0,
    "start_time": "2022-12-23T09:25:23.953Z"
   },
   {
    "duration": 0,
    "start_time": "2022-12-23T09:25:24.012Z"
   },
   {
    "duration": 0,
    "start_time": "2022-12-23T09:25:24.013Z"
   },
   {
    "duration": 0,
    "start_time": "2022-12-23T09:25:24.014Z"
   },
   {
    "duration": 0,
    "start_time": "2022-12-23T09:25:24.016Z"
   },
   {
    "duration": 0,
    "start_time": "2022-12-23T09:25:24.017Z"
   },
   {
    "duration": 0,
    "start_time": "2022-12-23T09:25:24.019Z"
   },
   {
    "duration": 0,
    "start_time": "2022-12-23T09:25:24.020Z"
   },
   {
    "duration": 0,
    "start_time": "2022-12-23T09:25:24.021Z"
   },
   {
    "duration": 0,
    "start_time": "2022-12-23T09:25:24.022Z"
   },
   {
    "duration": 0,
    "start_time": "2022-12-23T09:25:24.024Z"
   },
   {
    "duration": 0,
    "start_time": "2022-12-23T09:25:24.025Z"
   },
   {
    "duration": 0,
    "start_time": "2022-12-23T09:25:24.025Z"
   },
   {
    "duration": 0,
    "start_time": "2022-12-23T09:25:24.027Z"
   },
   {
    "duration": 0,
    "start_time": "2022-12-23T09:25:24.028Z"
   },
   {
    "duration": 0,
    "start_time": "2022-12-23T09:25:24.029Z"
   },
   {
    "duration": 0,
    "start_time": "2022-12-23T09:25:24.030Z"
   },
   {
    "duration": 0,
    "start_time": "2022-12-23T09:25:24.032Z"
   },
   {
    "duration": 0,
    "start_time": "2022-12-23T09:25:24.033Z"
   },
   {
    "duration": 0,
    "start_time": "2022-12-23T09:25:24.035Z"
   },
   {
    "duration": 0,
    "start_time": "2022-12-23T09:25:24.035Z"
   },
   {
    "duration": 0,
    "start_time": "2022-12-23T09:25:24.036Z"
   },
   {
    "duration": 0,
    "start_time": "2022-12-23T09:25:24.037Z"
   },
   {
    "duration": 0,
    "start_time": "2022-12-23T09:25:24.038Z"
   },
   {
    "duration": 0,
    "start_time": "2022-12-23T09:25:24.039Z"
   },
   {
    "duration": 0,
    "start_time": "2022-12-23T09:25:24.040Z"
   },
   {
    "duration": 0,
    "start_time": "2022-12-23T09:25:24.041Z"
   },
   {
    "duration": 0,
    "start_time": "2022-12-23T09:25:24.042Z"
   },
   {
    "duration": 0,
    "start_time": "2022-12-23T09:25:24.043Z"
   },
   {
    "duration": 0,
    "start_time": "2022-12-23T09:25:24.044Z"
   },
   {
    "duration": 0,
    "start_time": "2022-12-23T09:25:24.046Z"
   },
   {
    "duration": 0,
    "start_time": "2022-12-23T09:25:24.046Z"
   },
   {
    "duration": 0,
    "start_time": "2022-12-23T09:25:24.048Z"
   },
   {
    "duration": 0,
    "start_time": "2022-12-23T09:25:24.049Z"
   },
   {
    "duration": 8,
    "start_time": "2022-12-23T09:26:00.941Z"
   },
   {
    "duration": 136,
    "start_time": "2022-12-23T09:26:05.957Z"
   },
   {
    "duration": 6,
    "start_time": "2022-12-23T09:26:08.502Z"
   },
   {
    "duration": 8,
    "start_time": "2022-12-23T09:26:10.349Z"
   },
   {
    "duration": 10,
    "start_time": "2022-12-23T09:26:31.213Z"
   },
   {
    "duration": 149,
    "start_time": "2022-12-23T09:26:54.453Z"
   },
   {
    "duration": 187,
    "start_time": "2022-12-23T09:28:00.400Z"
   },
   {
    "duration": 12,
    "start_time": "2022-12-23T09:28:13.829Z"
   },
   {
    "duration": 136,
    "start_time": "2022-12-23T09:28:26.702Z"
   },
   {
    "duration": 16,
    "start_time": "2022-12-23T09:28:26.840Z"
   },
   {
    "duration": 2057,
    "start_time": "2022-12-23T09:28:26.857Z"
   },
   {
    "duration": 10,
    "start_time": "2022-12-23T09:28:28.916Z"
   },
   {
    "duration": 6,
    "start_time": "2022-12-23T09:28:28.928Z"
   },
   {
    "duration": 17,
    "start_time": "2022-12-23T09:28:28.935Z"
   },
   {
    "duration": 16,
    "start_time": "2022-12-23T09:28:28.953Z"
   },
   {
    "duration": 12,
    "start_time": "2022-12-23T09:28:28.971Z"
   },
   {
    "duration": 6,
    "start_time": "2022-12-23T09:28:28.984Z"
   },
   {
    "duration": 11,
    "start_time": "2022-12-23T09:28:28.991Z"
   },
   {
    "duration": 12,
    "start_time": "2022-12-23T09:28:29.003Z"
   },
   {
    "duration": 14,
    "start_time": "2022-12-23T09:28:29.017Z"
   },
   {
    "duration": 42,
    "start_time": "2022-12-23T09:28:29.032Z"
   },
   {
    "duration": 5,
    "start_time": "2022-12-23T09:28:29.077Z"
   },
   {
    "duration": 36,
    "start_time": "2022-12-23T09:28:29.083Z"
   },
   {
    "duration": 17,
    "start_time": "2022-12-23T09:28:29.121Z"
   },
   {
    "duration": 29,
    "start_time": "2022-12-23T09:28:29.140Z"
   },
   {
    "duration": 8,
    "start_time": "2022-12-23T09:28:29.171Z"
   },
   {
    "duration": 9,
    "start_time": "2022-12-23T09:28:29.181Z"
   },
   {
    "duration": 20,
    "start_time": "2022-12-23T09:28:29.192Z"
   },
   {
    "duration": 36,
    "start_time": "2022-12-23T09:28:29.214Z"
   },
   {
    "duration": 7,
    "start_time": "2022-12-23T09:28:29.252Z"
   },
   {
    "duration": 11,
    "start_time": "2022-12-23T09:28:29.261Z"
   },
   {
    "duration": 10,
    "start_time": "2022-12-23T09:28:29.273Z"
   },
   {
    "duration": 174,
    "start_time": "2022-12-23T09:28:29.285Z"
   },
   {
    "duration": 17,
    "start_time": "2022-12-23T09:28:29.461Z"
   },
   {
    "duration": 7,
    "start_time": "2022-12-23T09:28:29.480Z"
   },
   {
    "duration": 85,
    "start_time": "2022-12-23T09:28:29.489Z"
   },
   {
    "duration": 7,
    "start_time": "2022-12-23T09:28:29.576Z"
   },
   {
    "duration": 5,
    "start_time": "2022-12-23T09:28:29.585Z"
   },
   {
    "duration": 26,
    "start_time": "2022-12-23T09:28:29.592Z"
   },
   {
    "duration": 19,
    "start_time": "2022-12-23T09:28:29.619Z"
   },
   {
    "duration": 188,
    "start_time": "2022-12-23T09:28:29.640Z"
   },
   {
    "duration": 12,
    "start_time": "2022-12-23T09:28:29.830Z"
   },
   {
    "duration": 9,
    "start_time": "2022-12-23T09:28:29.844Z"
   },
   {
    "duration": 12,
    "start_time": "2022-12-23T09:28:29.855Z"
   },
   {
    "duration": 4,
    "start_time": "2022-12-23T09:28:29.869Z"
   },
   {
    "duration": 39,
    "start_time": "2022-12-23T09:28:29.875Z"
   },
   {
    "duration": 33,
    "start_time": "2022-12-23T09:28:29.916Z"
   },
   {
    "duration": 27,
    "start_time": "2022-12-23T09:28:29.951Z"
   },
   {
    "duration": 37,
    "start_time": "2022-12-23T09:28:29.983Z"
   },
   {
    "duration": 38,
    "start_time": "2022-12-23T09:28:30.022Z"
   },
   {
    "duration": 30,
    "start_time": "2022-12-23T09:28:30.062Z"
   },
   {
    "duration": 300,
    "start_time": "2022-12-23T09:28:30.093Z"
   },
   {
    "duration": 9,
    "start_time": "2022-12-23T09:28:30.395Z"
   },
   {
    "duration": 270,
    "start_time": "2022-12-23T09:28:30.413Z"
   },
   {
    "duration": 9,
    "start_time": "2022-12-23T09:28:30.684Z"
   },
   {
    "duration": 280,
    "start_time": "2022-12-23T09:28:30.695Z"
   },
   {
    "duration": 7,
    "start_time": "2022-12-23T09:28:30.977Z"
   },
   {
    "duration": 50,
    "start_time": "2022-12-23T09:28:30.985Z"
   },
   {
    "duration": 291,
    "start_time": "2022-12-23T09:28:31.037Z"
   },
   {
    "duration": 10,
    "start_time": "2022-12-23T09:28:31.329Z"
   },
   {
    "duration": 141,
    "start_time": "2022-12-23T09:28:31.340Z"
   },
   {
    "duration": 6,
    "start_time": "2022-12-23T09:28:31.483Z"
   },
   {
    "duration": 23,
    "start_time": "2022-12-23T09:28:31.490Z"
   },
   {
    "duration": 153,
    "start_time": "2022-12-23T09:28:31.514Z"
   },
   {
    "duration": 9,
    "start_time": "2022-12-23T09:28:31.668Z"
   },
   {
    "duration": 261,
    "start_time": "2022-12-23T09:28:31.679Z"
   },
   {
    "duration": 116,
    "start_time": "2022-12-23T09:28:31.942Z"
   },
   {
    "duration": 10,
    "start_time": "2022-12-23T09:28:32.060Z"
   },
   {
    "duration": 217,
    "start_time": "2022-12-23T09:28:32.072Z"
   },
   {
    "duration": 132,
    "start_time": "2022-12-23T09:28:32.291Z"
   },
   {
    "duration": 10,
    "start_time": "2022-12-23T09:28:32.424Z"
   },
   {
    "duration": 201,
    "start_time": "2022-12-23T09:28:32.436Z"
   },
   {
    "duration": 9,
    "start_time": "2022-12-23T09:28:32.639Z"
   },
   {
    "duration": 272,
    "start_time": "2022-12-23T09:28:32.650Z"
   },
   {
    "duration": 10,
    "start_time": "2022-12-23T09:28:32.924Z"
   },
   {
    "duration": 211,
    "start_time": "2022-12-23T09:28:32.936Z"
   },
   {
    "duration": 156,
    "start_time": "2022-12-23T09:28:33.149Z"
   },
   {
    "duration": 140,
    "start_time": "2022-12-23T09:28:33.307Z"
   },
   {
    "duration": 5,
    "start_time": "2022-12-23T09:28:33.449Z"
   },
   {
    "duration": 13,
    "start_time": "2022-12-23T09:28:33.456Z"
   },
   {
    "duration": 254,
    "start_time": "2022-12-23T09:28:33.470Z"
   },
   {
    "duration": 6,
    "start_time": "2022-12-23T09:28:33.726Z"
   },
   {
    "duration": 141,
    "start_time": "2022-12-23T09:28:33.733Z"
   },
   {
    "duration": 6,
    "start_time": "2022-12-23T09:28:33.876Z"
   },
   {
    "duration": 161,
    "start_time": "2022-12-23T09:28:33.884Z"
   },
   {
    "duration": 6,
    "start_time": "2022-12-23T09:28:34.048Z"
   },
   {
    "duration": 149,
    "start_time": "2022-12-23T09:28:34.056Z"
   },
   {
    "duration": 203,
    "start_time": "2022-12-23T09:28:34.213Z"
   },
   {
    "duration": 7,
    "start_time": "2022-12-23T09:28:34.418Z"
   },
   {
    "duration": 168,
    "start_time": "2022-12-23T09:28:34.426Z"
   },
   {
    "duration": 148,
    "start_time": "2022-12-23T09:28:34.595Z"
   },
   {
    "duration": 182,
    "start_time": "2022-12-23T09:28:34.745Z"
   },
   {
    "duration": 9,
    "start_time": "2022-12-23T09:28:34.934Z"
   },
   {
    "duration": 190,
    "start_time": "2022-12-23T09:28:34.945Z"
   },
   {
    "duration": 6,
    "start_time": "2022-12-23T09:28:35.137Z"
   },
   {
    "duration": 171,
    "start_time": "2022-12-23T09:28:35.144Z"
   },
   {
    "duration": 20,
    "start_time": "2022-12-23T09:28:35.317Z"
   },
   {
    "duration": 9,
    "start_time": "2022-12-23T09:28:35.339Z"
   },
   {
    "duration": 26,
    "start_time": "2022-12-23T09:28:35.350Z"
   },
   {
    "duration": 286,
    "start_time": "2022-12-23T09:28:35.377Z"
   },
   {
    "duration": 5,
    "start_time": "2022-12-23T09:29:09.775Z"
   },
   {
    "duration": 149,
    "start_time": "2022-12-23T09:29:12.280Z"
   },
   {
    "duration": 14,
    "start_time": "2022-12-23T09:29:12.431Z"
   },
   {
    "duration": 1991,
    "start_time": "2022-12-23T09:29:12.449Z"
   },
   {
    "duration": 12,
    "start_time": "2022-12-23T09:29:14.443Z"
   },
   {
    "duration": 12,
    "start_time": "2022-12-23T09:29:14.457Z"
   },
   {
    "duration": 16,
    "start_time": "2022-12-23T09:29:14.471Z"
   },
   {
    "duration": 20,
    "start_time": "2022-12-23T09:29:14.488Z"
   },
   {
    "duration": 26,
    "start_time": "2022-12-23T09:29:14.510Z"
   },
   {
    "duration": 13,
    "start_time": "2022-12-23T09:29:14.538Z"
   },
   {
    "duration": 25,
    "start_time": "2022-12-23T09:29:14.553Z"
   },
   {
    "duration": 24,
    "start_time": "2022-12-23T09:29:14.579Z"
   },
   {
    "duration": 21,
    "start_time": "2022-12-23T09:29:14.605Z"
   },
   {
    "duration": 52,
    "start_time": "2022-12-23T09:29:14.628Z"
   },
   {
    "duration": 4,
    "start_time": "2022-12-23T09:29:14.682Z"
   },
   {
    "duration": 29,
    "start_time": "2022-12-23T09:29:14.688Z"
   },
   {
    "duration": 19,
    "start_time": "2022-12-23T09:29:14.719Z"
   },
   {
    "duration": 39,
    "start_time": "2022-12-23T09:29:14.740Z"
   },
   {
    "duration": 13,
    "start_time": "2022-12-23T09:29:14.781Z"
   },
   {
    "duration": 22,
    "start_time": "2022-12-23T09:29:14.796Z"
   },
   {
    "duration": 41,
    "start_time": "2022-12-23T09:29:14.820Z"
   },
   {
    "duration": 38,
    "start_time": "2022-12-23T09:29:14.863Z"
   },
   {
    "duration": 20,
    "start_time": "2022-12-23T09:29:14.902Z"
   },
   {
    "duration": 33,
    "start_time": "2022-12-23T09:29:14.923Z"
   },
   {
    "duration": 31,
    "start_time": "2022-12-23T09:29:14.959Z"
   },
   {
    "duration": 161,
    "start_time": "2022-12-23T09:29:14.992Z"
   },
   {
    "duration": 16,
    "start_time": "2022-12-23T09:29:15.155Z"
   },
   {
    "duration": 15,
    "start_time": "2022-12-23T09:29:15.173Z"
   },
   {
    "duration": 93,
    "start_time": "2022-12-23T09:29:15.195Z"
   },
   {
    "duration": 8,
    "start_time": "2022-12-23T09:29:15.290Z"
   },
   {
    "duration": 20,
    "start_time": "2022-12-23T09:29:15.300Z"
   },
   {
    "duration": 26,
    "start_time": "2022-12-23T09:29:15.322Z"
   },
   {
    "duration": 17,
    "start_time": "2022-12-23T09:29:15.350Z"
   },
   {
    "duration": 156,
    "start_time": "2022-12-23T09:29:15.369Z"
   },
   {
    "duration": 7,
    "start_time": "2022-12-23T09:29:15.527Z"
   },
   {
    "duration": 24,
    "start_time": "2022-12-23T09:29:15.536Z"
   },
   {
    "duration": 34,
    "start_time": "2022-12-23T09:29:15.562Z"
   },
   {
    "duration": 12,
    "start_time": "2022-12-23T09:29:15.598Z"
   },
   {
    "duration": 32,
    "start_time": "2022-12-23T09:29:15.612Z"
   },
   {
    "duration": 29,
    "start_time": "2022-12-23T09:29:15.646Z"
   },
   {
    "duration": 21,
    "start_time": "2022-12-23T09:29:15.677Z"
   },
   {
    "duration": 209,
    "start_time": "2022-12-23T09:29:15.700Z"
   },
   {
    "duration": 7,
    "start_time": "2022-12-23T09:29:15.911Z"
   },
   {
    "duration": 21,
    "start_time": "2022-12-23T09:29:15.920Z"
   },
   {
    "duration": 272,
    "start_time": "2022-12-23T09:29:15.943Z"
   },
   {
    "duration": 11,
    "start_time": "2022-12-23T09:29:16.217Z"
   },
   {
    "duration": 250,
    "start_time": "2022-12-23T09:29:16.230Z"
   },
   {
    "duration": 10,
    "start_time": "2022-12-23T09:29:16.481Z"
   },
   {
    "duration": 362,
    "start_time": "2022-12-23T09:29:16.493Z"
   },
   {
    "duration": 9,
    "start_time": "2022-12-23T09:29:16.858Z"
   },
   {
    "duration": 24,
    "start_time": "2022-12-23T09:29:16.870Z"
   },
   {
    "duration": 272,
    "start_time": "2022-12-23T09:29:16.895Z"
   },
   {
    "duration": 11,
    "start_time": "2022-12-23T09:29:17.169Z"
   },
   {
    "duration": 156,
    "start_time": "2022-12-23T09:29:17.182Z"
   },
   {
    "duration": 6,
    "start_time": "2022-12-23T09:29:17.340Z"
   },
   {
    "duration": 15,
    "start_time": "2022-12-23T09:29:17.348Z"
   },
   {
    "duration": 167,
    "start_time": "2022-12-23T09:29:17.365Z"
   },
   {
    "duration": 9,
    "start_time": "2022-12-23T09:29:17.534Z"
   },
   {
    "duration": 274,
    "start_time": "2022-12-23T09:29:17.545Z"
   },
   {
    "duration": 117,
    "start_time": "2022-12-23T09:29:17.820Z"
   },
   {
    "duration": 10,
    "start_time": "2022-12-23T09:29:17.939Z"
   },
   {
    "duration": 214,
    "start_time": "2022-12-23T09:29:17.950Z"
   },
   {
    "duration": 152,
    "start_time": "2022-12-23T09:29:18.166Z"
   },
   {
    "duration": 11,
    "start_time": "2022-12-23T09:29:18.319Z"
   },
   {
    "duration": 214,
    "start_time": "2022-12-23T09:29:18.333Z"
   },
   {
    "duration": 9,
    "start_time": "2022-12-23T09:29:18.549Z"
   },
   {
    "duration": 245,
    "start_time": "2022-12-23T09:29:18.559Z"
   },
   {
    "duration": 14,
    "start_time": "2022-12-23T09:29:18.805Z"
   },
   {
    "duration": 197,
    "start_time": "2022-12-23T09:29:18.820Z"
   },
   {
    "duration": 173,
    "start_time": "2022-12-23T09:29:19.019Z"
   },
   {
    "duration": 170,
    "start_time": "2022-12-23T09:29:19.194Z"
   },
   {
    "duration": 7,
    "start_time": "2022-12-23T09:29:19.366Z"
   },
   {
    "duration": 11,
    "start_time": "2022-12-23T09:29:19.375Z"
   },
   {
    "duration": 264,
    "start_time": "2022-12-23T09:29:19.388Z"
   },
   {
    "duration": 6,
    "start_time": "2022-12-23T09:29:19.653Z"
   },
   {
    "duration": 181,
    "start_time": "2022-12-23T09:29:19.660Z"
   },
   {
    "duration": 6,
    "start_time": "2022-12-23T09:29:19.843Z"
   },
   {
    "duration": 187,
    "start_time": "2022-12-23T09:29:19.850Z"
   },
   {
    "duration": 6,
    "start_time": "2022-12-23T09:29:20.039Z"
   },
   {
    "duration": 185,
    "start_time": "2022-12-23T09:29:20.047Z"
   },
   {
    "duration": 220,
    "start_time": "2022-12-23T09:29:20.234Z"
   },
   {
    "duration": 6,
    "start_time": "2022-12-23T09:29:20.456Z"
   },
   {
    "duration": 184,
    "start_time": "2022-12-23T09:29:20.468Z"
   },
   {
    "duration": 148,
    "start_time": "2022-12-23T09:29:20.654Z"
   },
   {
    "duration": 168,
    "start_time": "2022-12-23T09:29:20.803Z"
   },
   {
    "duration": 5,
    "start_time": "2022-12-23T09:29:20.973Z"
   },
   {
    "duration": 213,
    "start_time": "2022-12-23T09:29:20.979Z"
   },
   {
    "duration": 20,
    "start_time": "2022-12-23T09:29:21.194Z"
   },
   {
    "duration": 189,
    "start_time": "2022-12-23T09:29:21.216Z"
   },
   {
    "duration": 25,
    "start_time": "2022-12-23T09:29:21.406Z"
   },
   {
    "duration": 8,
    "start_time": "2022-12-23T09:29:21.433Z"
   },
   {
    "duration": 24,
    "start_time": "2022-12-23T09:29:21.443Z"
   },
   {
    "duration": 321,
    "start_time": "2022-12-23T09:29:21.469Z"
   },
   {
    "duration": 45,
    "start_time": "2022-12-23T09:30:47.365Z"
   },
   {
    "duration": 9,
    "start_time": "2022-12-23T09:30:49.421Z"
   },
   {
    "duration": 50,
    "start_time": "2022-12-23T09:31:09.117Z"
   },
   {
    "duration": 9,
    "start_time": "2022-12-23T09:31:12.733Z"
   },
   {
    "duration": 208,
    "start_time": "2022-12-23T09:31:15.641Z"
   },
   {
    "duration": 16,
    "start_time": "2022-12-23T09:31:15.852Z"
   },
   {
    "duration": 3333,
    "start_time": "2022-12-23T09:31:15.870Z"
   },
   {
    "duration": 11,
    "start_time": "2022-12-23T09:31:19.205Z"
   },
   {
    "duration": 6,
    "start_time": "2022-12-23T09:31:19.218Z"
   },
   {
    "duration": 4,
    "start_time": "2022-12-23T09:31:19.226Z"
   },
   {
    "duration": 16,
    "start_time": "2022-12-23T09:31:19.232Z"
   },
   {
    "duration": 7,
    "start_time": "2022-12-23T09:31:19.249Z"
   },
   {
    "duration": 5,
    "start_time": "2022-12-23T09:31:19.258Z"
   },
   {
    "duration": 12,
    "start_time": "2022-12-23T09:31:19.265Z"
   },
   {
    "duration": 38,
    "start_time": "2022-12-23T09:31:19.279Z"
   },
   {
    "duration": 18,
    "start_time": "2022-12-23T09:31:19.318Z"
   },
   {
    "duration": 51,
    "start_time": "2022-12-23T09:31:19.338Z"
   },
   {
    "duration": 5,
    "start_time": "2022-12-23T09:31:19.412Z"
   },
   {
    "duration": 12,
    "start_time": "2022-12-23T09:31:19.419Z"
   },
   {
    "duration": 13,
    "start_time": "2022-12-23T09:31:19.433Z"
   },
   {
    "duration": 16,
    "start_time": "2022-12-23T09:31:19.448Z"
   },
   {
    "duration": 10,
    "start_time": "2022-12-23T09:31:19.466Z"
   },
   {
    "duration": 38,
    "start_time": "2022-12-23T09:31:19.478Z"
   },
   {
    "duration": 19,
    "start_time": "2022-12-23T09:31:19.519Z"
   },
   {
    "duration": 30,
    "start_time": "2022-12-23T09:31:19.541Z"
   },
   {
    "duration": 9,
    "start_time": "2022-12-23T09:31:19.573Z"
   },
   {
    "duration": 36,
    "start_time": "2022-12-23T09:31:19.584Z"
   },
   {
    "duration": 12,
    "start_time": "2022-12-23T09:31:19.622Z"
   },
   {
    "duration": 171,
    "start_time": "2022-12-23T09:31:19.636Z"
   },
   {
    "duration": 25,
    "start_time": "2022-12-23T09:31:19.813Z"
   },
   {
    "duration": 7,
    "start_time": "2022-12-23T09:31:19.840Z"
   },
   {
    "duration": 84,
    "start_time": "2022-12-23T09:31:19.848Z"
   },
   {
    "duration": 6,
    "start_time": "2022-12-23T09:31:19.934Z"
   },
   {
    "duration": 5,
    "start_time": "2022-12-23T09:31:19.942Z"
   },
   {
    "duration": 8,
    "start_time": "2022-12-23T09:31:19.948Z"
   },
   {
    "duration": 9,
    "start_time": "2022-12-23T09:31:19.957Z"
   },
   {
    "duration": 180,
    "start_time": "2022-12-23T09:31:19.967Z"
   },
   {
    "duration": 69,
    "start_time": "2022-12-23T09:31:20.149Z"
   },
   {
    "duration": 9,
    "start_time": "2022-12-23T09:31:20.220Z"
   },
   {
    "duration": 22,
    "start_time": "2022-12-23T09:31:20.232Z"
   },
   {
    "duration": 5,
    "start_time": "2022-12-23T09:31:20.257Z"
   },
   {
    "duration": 16,
    "start_time": "2022-12-23T09:31:20.265Z"
   },
   {
    "duration": 30,
    "start_time": "2022-12-23T09:31:20.284Z"
   },
   {
    "duration": 11,
    "start_time": "2022-12-23T09:31:20.316Z"
   },
   {
    "duration": 240,
    "start_time": "2022-12-23T09:31:20.335Z"
   },
   {
    "duration": 8,
    "start_time": "2022-12-23T09:31:20.577Z"
   },
   {
    "duration": 20,
    "start_time": "2022-12-23T09:31:20.586Z"
   },
   {
    "duration": 280,
    "start_time": "2022-12-23T09:31:20.613Z"
   },
   {
    "duration": 10,
    "start_time": "2022-12-23T09:31:20.895Z"
   },
   {
    "duration": 265,
    "start_time": "2022-12-23T09:31:20.911Z"
   },
   {
    "duration": 13,
    "start_time": "2022-12-23T09:31:21.177Z"
   },
   {
    "duration": 298,
    "start_time": "2022-12-23T09:31:21.192Z"
   },
   {
    "duration": 8,
    "start_time": "2022-12-23T09:31:21.492Z"
   },
   {
    "duration": 14,
    "start_time": "2022-12-23T09:31:21.512Z"
   },
   {
    "duration": 284,
    "start_time": "2022-12-23T09:31:21.528Z"
   },
   {
    "duration": 8,
    "start_time": "2022-12-23T09:31:21.814Z"
   },
   {
    "duration": 139,
    "start_time": "2022-12-23T09:31:21.823Z"
   },
   {
    "duration": 5,
    "start_time": "2022-12-23T09:31:21.964Z"
   },
   {
    "duration": 14,
    "start_time": "2022-12-23T09:31:21.971Z"
   },
   {
    "duration": 174,
    "start_time": "2022-12-23T09:31:21.987Z"
   },
   {
    "duration": 10,
    "start_time": "2022-12-23T09:31:22.162Z"
   },
   {
    "duration": 295,
    "start_time": "2022-12-23T09:31:22.174Z"
   },
   {
    "duration": 122,
    "start_time": "2022-12-23T09:31:22.471Z"
   },
   {
    "duration": 19,
    "start_time": "2022-12-23T09:31:22.595Z"
   },
   {
    "duration": 221,
    "start_time": "2022-12-23T09:31:22.616Z"
   },
   {
    "duration": 156,
    "start_time": "2022-12-23T09:31:22.839Z"
   },
   {
    "duration": 20,
    "start_time": "2022-12-23T09:31:22.997Z"
   },
   {
    "duration": 222,
    "start_time": "2022-12-23T09:31:23.018Z"
   },
   {
    "duration": 11,
    "start_time": "2022-12-23T09:31:23.241Z"
   },
   {
    "duration": 261,
    "start_time": "2022-12-23T09:31:23.253Z"
   },
   {
    "duration": 9,
    "start_time": "2022-12-23T09:31:23.516Z"
   },
   {
    "duration": 219,
    "start_time": "2022-12-23T09:31:23.526Z"
   },
   {
    "duration": 146,
    "start_time": "2022-12-23T09:31:23.747Z"
   },
   {
    "duration": 160,
    "start_time": "2022-12-23T09:31:23.895Z"
   },
   {
    "duration": 8,
    "start_time": "2022-12-23T09:31:24.057Z"
   },
   {
    "duration": 11,
    "start_time": "2022-12-23T09:31:24.066Z"
   },
   {
    "duration": 286,
    "start_time": "2022-12-23T09:31:24.079Z"
   },
   {
    "duration": 6,
    "start_time": "2022-12-23T09:31:24.367Z"
   },
   {
    "duration": 182,
    "start_time": "2022-12-23T09:31:24.375Z"
   },
   {
    "duration": 154,
    "start_time": "2022-12-23T09:31:24.559Z"
   },
   {
    "duration": 0,
    "start_time": "2022-12-23T09:31:24.715Z"
   },
   {
    "duration": 0,
    "start_time": "2022-12-23T09:31:24.716Z"
   },
   {
    "duration": 0,
    "start_time": "2022-12-23T09:31:24.718Z"
   },
   {
    "duration": 0,
    "start_time": "2022-12-23T09:31:24.719Z"
   },
   {
    "duration": 0,
    "start_time": "2022-12-23T09:31:24.720Z"
   },
   {
    "duration": 0,
    "start_time": "2022-12-23T09:31:24.721Z"
   },
   {
    "duration": 0,
    "start_time": "2022-12-23T09:31:24.722Z"
   },
   {
    "duration": 0,
    "start_time": "2022-12-23T09:31:24.724Z"
   },
   {
    "duration": 0,
    "start_time": "2022-12-23T09:31:24.725Z"
   },
   {
    "duration": 0,
    "start_time": "2022-12-23T09:31:24.726Z"
   },
   {
    "duration": 0,
    "start_time": "2022-12-23T09:31:24.727Z"
   },
   {
    "duration": 0,
    "start_time": "2022-12-23T09:31:24.728Z"
   },
   {
    "duration": 0,
    "start_time": "2022-12-23T09:31:24.729Z"
   },
   {
    "duration": 0,
    "start_time": "2022-12-23T09:31:24.731Z"
   },
   {
    "duration": 0,
    "start_time": "2022-12-23T09:31:24.732Z"
   },
   {
    "duration": 0,
    "start_time": "2022-12-23T09:31:24.733Z"
   },
   {
    "duration": 11,
    "start_time": "2022-12-23T09:32:36.069Z"
   },
   {
    "duration": 10,
    "start_time": "2022-12-23T09:32:38.004Z"
   },
   {
    "duration": 175,
    "start_time": "2022-12-23T09:32:42.752Z"
   },
   {
    "duration": 16,
    "start_time": "2022-12-23T09:32:42.929Z"
   },
   {
    "duration": 2050,
    "start_time": "2022-12-23T09:32:42.947Z"
   },
   {
    "duration": 17,
    "start_time": "2022-12-23T09:32:44.999Z"
   },
   {
    "duration": 15,
    "start_time": "2022-12-23T09:32:45.018Z"
   },
   {
    "duration": 22,
    "start_time": "2022-12-23T09:32:45.035Z"
   },
   {
    "duration": 13,
    "start_time": "2022-12-23T09:32:45.059Z"
   },
   {
    "duration": 7,
    "start_time": "2022-12-23T09:32:45.074Z"
   },
   {
    "duration": 8,
    "start_time": "2022-12-23T09:32:45.082Z"
   },
   {
    "duration": 14,
    "start_time": "2022-12-23T09:32:45.093Z"
   },
   {
    "duration": 10,
    "start_time": "2022-12-23T09:32:45.108Z"
   },
   {
    "duration": 17,
    "start_time": "2022-12-23T09:32:45.119Z"
   },
   {
    "duration": 57,
    "start_time": "2022-12-23T09:32:45.138Z"
   },
   {
    "duration": 5,
    "start_time": "2022-12-23T09:32:45.213Z"
   },
   {
    "duration": 15,
    "start_time": "2022-12-23T09:32:45.220Z"
   },
   {
    "duration": 9,
    "start_time": "2022-12-23T09:32:45.237Z"
   },
   {
    "duration": 19,
    "start_time": "2022-12-23T09:32:45.248Z"
   },
   {
    "duration": 8,
    "start_time": "2022-12-23T09:32:45.269Z"
   },
   {
    "duration": 9,
    "start_time": "2022-12-23T09:32:45.279Z"
   },
   {
    "duration": 12,
    "start_time": "2022-12-23T09:32:45.312Z"
   },
   {
    "duration": 29,
    "start_time": "2022-12-23T09:32:45.326Z"
   },
   {
    "duration": 7,
    "start_time": "2022-12-23T09:32:45.357Z"
   },
   {
    "duration": 14,
    "start_time": "2022-12-23T09:32:45.366Z"
   },
   {
    "duration": 34,
    "start_time": "2022-12-23T09:32:45.382Z"
   },
   {
    "duration": 160,
    "start_time": "2022-12-23T09:32:45.418Z"
   },
   {
    "duration": 17,
    "start_time": "2022-12-23T09:32:45.580Z"
   },
   {
    "duration": 18,
    "start_time": "2022-12-23T09:32:45.599Z"
   },
   {
    "duration": 67,
    "start_time": "2022-12-23T09:32:45.622Z"
   },
   {
    "duration": 22,
    "start_time": "2022-12-23T09:32:45.691Z"
   },
   {
    "duration": 6,
    "start_time": "2022-12-23T09:32:45.715Z"
   },
   {
    "duration": 10,
    "start_time": "2022-12-23T09:32:45.722Z"
   },
   {
    "duration": 7,
    "start_time": "2022-12-23T09:32:45.734Z"
   },
   {
    "duration": 187,
    "start_time": "2022-12-23T09:32:45.742Z"
   },
   {
    "duration": 6,
    "start_time": "2022-12-23T09:32:45.931Z"
   },
   {
    "duration": 10,
    "start_time": "2022-12-23T09:32:45.939Z"
   },
   {
    "duration": 13,
    "start_time": "2022-12-23T09:32:45.950Z"
   },
   {
    "duration": 4,
    "start_time": "2022-12-23T09:32:45.964Z"
   },
   {
    "duration": 43,
    "start_time": "2022-12-23T09:32:45.970Z"
   },
   {
    "duration": 7,
    "start_time": "2022-12-23T09:32:46.015Z"
   },
   {
    "duration": 8,
    "start_time": "2022-12-23T09:32:46.024Z"
   },
   {
    "duration": 214,
    "start_time": "2022-12-23T09:32:46.033Z"
   },
   {
    "duration": 7,
    "start_time": "2022-12-23T09:32:46.249Z"
   },
   {
    "duration": 12,
    "start_time": "2022-12-23T09:32:46.257Z"
   },
   {
    "duration": 367,
    "start_time": "2022-12-23T09:32:46.270Z"
   },
   {
    "duration": 9,
    "start_time": "2022-12-23T09:32:46.639Z"
   },
   {
    "duration": 273,
    "start_time": "2022-12-23T09:32:46.650Z"
   },
   {
    "duration": 9,
    "start_time": "2022-12-23T09:32:46.925Z"
   },
   {
    "duration": 265,
    "start_time": "2022-12-23T09:32:46.936Z"
   },
   {
    "duration": 11,
    "start_time": "2022-12-23T09:32:47.202Z"
   },
   {
    "duration": 32,
    "start_time": "2022-12-23T09:32:47.215Z"
   },
   {
    "duration": 255,
    "start_time": "2022-12-23T09:32:47.249Z"
   },
   {
    "duration": 12,
    "start_time": "2022-12-23T09:32:47.506Z"
   },
   {
    "duration": 132,
    "start_time": "2022-12-23T09:32:47.519Z"
   },
   {
    "duration": 5,
    "start_time": "2022-12-23T09:32:47.653Z"
   },
   {
    "duration": 27,
    "start_time": "2022-12-23T09:32:47.660Z"
   },
   {
    "duration": 147,
    "start_time": "2022-12-23T09:32:47.689Z"
   },
   {
    "duration": 9,
    "start_time": "2022-12-23T09:32:47.837Z"
   },
   {
    "duration": 270,
    "start_time": "2022-12-23T09:32:47.847Z"
   },
   {
    "duration": 127,
    "start_time": "2022-12-23T09:32:48.118Z"
   },
   {
    "duration": 8,
    "start_time": "2022-12-23T09:32:48.247Z"
   },
   {
    "duration": 228,
    "start_time": "2022-12-23T09:32:48.257Z"
   },
   {
    "duration": 154,
    "start_time": "2022-12-23T09:32:48.486Z"
   },
   {
    "duration": 13,
    "start_time": "2022-12-23T09:32:48.642Z"
   },
   {
    "duration": 274,
    "start_time": "2022-12-23T09:32:48.658Z"
   },
   {
    "duration": 9,
    "start_time": "2022-12-23T09:32:48.934Z"
   },
   {
    "duration": 283,
    "start_time": "2022-12-23T09:32:48.944Z"
   },
   {
    "duration": 11,
    "start_time": "2022-12-23T09:32:49.229Z"
   },
   {
    "duration": 235,
    "start_time": "2022-12-23T09:32:49.242Z"
   },
   {
    "duration": 149,
    "start_time": "2022-12-23T09:32:49.479Z"
   },
   {
    "duration": 162,
    "start_time": "2022-12-23T09:32:49.630Z"
   },
   {
    "duration": 7,
    "start_time": "2022-12-23T09:32:49.794Z"
   },
   {
    "duration": 10,
    "start_time": "2022-12-23T09:32:49.812Z"
   },
   {
    "duration": 262,
    "start_time": "2022-12-23T09:32:49.824Z"
   },
   {
    "duration": 4,
    "start_time": "2022-12-23T09:32:50.088Z"
   },
   {
    "duration": 205,
    "start_time": "2022-12-23T09:32:50.094Z"
   },
   {
    "duration": 12,
    "start_time": "2022-12-23T09:32:50.301Z"
   },
   {
    "duration": 199,
    "start_time": "2022-12-23T09:32:50.314Z"
   },
   {
    "duration": 7,
    "start_time": "2022-12-23T09:32:50.515Z"
   },
   {
    "duration": 199,
    "start_time": "2022-12-23T09:32:50.524Z"
   },
   {
    "duration": 228,
    "start_time": "2022-12-23T09:32:50.726Z"
   },
   {
    "duration": 7,
    "start_time": "2022-12-23T09:32:50.955Z"
   },
   {
    "duration": 181,
    "start_time": "2022-12-23T09:32:50.967Z"
   },
   {
    "duration": 147,
    "start_time": "2022-12-23T09:32:51.150Z"
   },
   {
    "duration": 171,
    "start_time": "2022-12-23T09:32:51.299Z"
   },
   {
    "duration": 6,
    "start_time": "2022-12-23T09:32:51.473Z"
   },
   {
    "duration": 224,
    "start_time": "2022-12-23T09:32:51.481Z"
   },
   {
    "duration": 8,
    "start_time": "2022-12-23T09:32:51.708Z"
   },
   {
    "duration": 168,
    "start_time": "2022-12-23T09:32:51.717Z"
   },
   {
    "duration": 30,
    "start_time": "2022-12-23T09:32:51.887Z"
   },
   {
    "duration": 8,
    "start_time": "2022-12-23T09:32:51.920Z"
   },
   {
    "duration": 38,
    "start_time": "2022-12-23T09:32:51.930Z"
   },
   {
    "duration": 290,
    "start_time": "2022-12-23T09:32:51.969Z"
   },
   {
    "duration": 176,
    "start_time": "2022-12-23T09:39:18.900Z"
   },
   {
    "duration": 170,
    "start_time": "2022-12-23T09:39:25.773Z"
   },
   {
    "duration": 164,
    "start_time": "2022-12-23T09:42:34.652Z"
   },
   {
    "duration": 9,
    "start_time": "2022-12-23T09:45:15.452Z"
   },
   {
    "duration": 181,
    "start_time": "2022-12-23T09:46:04.976Z"
   },
   {
    "duration": 170,
    "start_time": "2022-12-23T09:46:13.103Z"
   },
   {
    "duration": 178,
    "start_time": "2022-12-23T09:46:21.348Z"
   },
   {
    "duration": 148,
    "start_time": "2022-12-23T09:46:42.716Z"
   },
   {
    "duration": 144,
    "start_time": "2022-12-23T09:46:48.779Z"
   },
   {
    "duration": 172,
    "start_time": "2022-12-23T09:46:57.364Z"
   },
   {
    "duration": 236,
    "start_time": "2022-12-23T09:47:04.811Z"
   },
   {
    "duration": 157,
    "start_time": "2022-12-23T09:47:08.884Z"
   },
   {
    "duration": 147,
    "start_time": "2022-12-23T09:47:13.043Z"
   },
   {
    "duration": 143,
    "start_time": "2022-12-23T09:47:16.835Z"
   },
   {
    "duration": 176,
    "start_time": "2022-12-23T09:47:42.564Z"
   },
   {
    "duration": 167,
    "start_time": "2022-12-23T09:47:52.944Z"
   },
   {
    "duration": 148,
    "start_time": "2022-12-23T09:48:03.180Z"
   },
   {
    "duration": 158,
    "start_time": "2022-12-23T09:48:20.763Z"
   },
   {
    "duration": 12,
    "start_time": "2022-12-23T09:49:12.019Z"
   },
   {
    "duration": 13,
    "start_time": "2022-12-23T09:49:27.236Z"
   },
   {
    "duration": 135,
    "start_time": "2022-12-23T09:49:38.231Z"
   },
   {
    "duration": 17,
    "start_time": "2022-12-23T09:49:38.368Z"
   },
   {
    "duration": 2178,
    "start_time": "2022-12-23T09:49:38.387Z"
   },
   {
    "duration": 10,
    "start_time": "2022-12-23T09:49:40.568Z"
   },
   {
    "duration": 10,
    "start_time": "2022-12-23T09:49:40.579Z"
   },
   {
    "duration": 21,
    "start_time": "2022-12-23T09:49:40.591Z"
   },
   {
    "duration": 13,
    "start_time": "2022-12-23T09:49:40.614Z"
   },
   {
    "duration": 10,
    "start_time": "2022-12-23T09:49:40.629Z"
   },
   {
    "duration": 7,
    "start_time": "2022-12-23T09:49:40.641Z"
   },
   {
    "duration": 12,
    "start_time": "2022-12-23T09:49:40.651Z"
   },
   {
    "duration": 11,
    "start_time": "2022-12-23T09:49:40.665Z"
   },
   {
    "duration": 37,
    "start_time": "2022-12-23T09:49:40.678Z"
   },
   {
    "duration": 46,
    "start_time": "2022-12-23T09:49:40.717Z"
   },
   {
    "duration": 5,
    "start_time": "2022-12-23T09:49:40.765Z"
   },
   {
    "duration": 17,
    "start_time": "2022-12-23T09:49:40.771Z"
   },
   {
    "duration": 23,
    "start_time": "2022-12-23T09:49:40.790Z"
   },
   {
    "duration": 15,
    "start_time": "2022-12-23T09:49:40.815Z"
   },
   {
    "duration": 11,
    "start_time": "2022-12-23T09:49:40.832Z"
   },
   {
    "duration": 13,
    "start_time": "2022-12-23T09:49:40.844Z"
   },
   {
    "duration": 37,
    "start_time": "2022-12-23T09:49:40.859Z"
   },
   {
    "duration": 66,
    "start_time": "2022-12-23T09:49:40.898Z"
   },
   {
    "duration": 7,
    "start_time": "2022-12-23T09:49:40.966Z"
   },
   {
    "duration": 12,
    "start_time": "2022-12-23T09:49:40.975Z"
   },
   {
    "duration": 8,
    "start_time": "2022-12-23T09:49:40.989Z"
   },
   {
    "duration": 158,
    "start_time": "2022-12-23T09:49:40.999Z"
   },
   {
    "duration": 18,
    "start_time": "2022-12-23T09:49:41.159Z"
   },
   {
    "duration": 8,
    "start_time": "2022-12-23T09:49:41.179Z"
   },
   {
    "duration": 68,
    "start_time": "2022-12-23T09:49:41.212Z"
   },
   {
    "duration": 8,
    "start_time": "2022-12-23T09:49:41.282Z"
   },
   {
    "duration": 23,
    "start_time": "2022-12-23T09:49:41.292Z"
   },
   {
    "duration": 8,
    "start_time": "2022-12-23T09:49:41.317Z"
   },
   {
    "duration": 184,
    "start_time": "2022-12-23T09:49:41.327Z"
   },
   {
    "duration": 162,
    "start_time": "2022-12-23T09:49:41.513Z"
   },
   {
    "duration": 7,
    "start_time": "2022-12-23T09:49:41.676Z"
   },
   {
    "duration": 25,
    "start_time": "2022-12-23T09:49:41.685Z"
   },
   {
    "duration": 168,
    "start_time": "2022-12-23T09:49:41.712Z"
   },
   {
    "duration": 179,
    "start_time": "2022-12-23T09:49:41.882Z"
   },
   {
    "duration": 9,
    "start_time": "2022-12-23T09:49:42.064Z"
   },
   {
    "duration": 15,
    "start_time": "2022-12-23T09:49:42.076Z"
   },
   {
    "duration": 27,
    "start_time": "2022-12-23T09:49:42.093Z"
   },
   {
    "duration": 4,
    "start_time": "2022-12-23T09:49:42.122Z"
   },
   {
    "duration": 13,
    "start_time": "2022-12-23T09:49:42.128Z"
   },
   {
    "duration": 14,
    "start_time": "2022-12-23T09:49:42.142Z"
   },
   {
    "duration": 8,
    "start_time": "2022-12-23T09:49:42.158Z"
   },
   {
    "duration": 251,
    "start_time": "2022-12-23T09:49:42.168Z"
   },
   {
    "duration": 7,
    "start_time": "2022-12-23T09:49:42.421Z"
   },
   {
    "duration": 42,
    "start_time": "2022-12-23T09:49:42.430Z"
   },
   {
    "duration": 307,
    "start_time": "2022-12-23T09:49:42.473Z"
   },
   {
    "duration": 10,
    "start_time": "2022-12-23T09:49:42.782Z"
   },
   {
    "duration": 268,
    "start_time": "2022-12-23T09:49:42.793Z"
   },
   {
    "duration": 10,
    "start_time": "2022-12-23T09:49:43.063Z"
   },
   {
    "duration": 289,
    "start_time": "2022-12-23T09:49:43.074Z"
   },
   {
    "duration": 7,
    "start_time": "2022-12-23T09:49:43.365Z"
   },
   {
    "duration": 31,
    "start_time": "2022-12-23T09:49:43.374Z"
   },
   {
    "duration": 296,
    "start_time": "2022-12-23T09:49:43.407Z"
   },
   {
    "duration": 14,
    "start_time": "2022-12-23T09:49:43.706Z"
   },
   {
    "duration": 163,
    "start_time": "2022-12-23T09:49:43.722Z"
   },
   {
    "duration": 7,
    "start_time": "2022-12-23T09:49:43.887Z"
   },
   {
    "duration": 38,
    "start_time": "2022-12-23T09:49:43.896Z"
   },
   {
    "duration": 165,
    "start_time": "2022-12-23T09:49:43.937Z"
   },
   {
    "duration": 13,
    "start_time": "2022-12-23T09:49:44.104Z"
   },
   {
    "duration": 284,
    "start_time": "2022-12-23T09:49:44.119Z"
   },
   {
    "duration": 120,
    "start_time": "2022-12-23T09:49:44.405Z"
   },
   {
    "duration": 9,
    "start_time": "2022-12-23T09:49:44.527Z"
   },
   {
    "duration": 226,
    "start_time": "2022-12-23T09:49:44.538Z"
   },
   {
    "duration": 176,
    "start_time": "2022-12-23T09:49:44.766Z"
   },
   {
    "duration": 10,
    "start_time": "2022-12-23T09:49:44.944Z"
   },
   {
    "duration": 240,
    "start_time": "2022-12-23T09:49:44.956Z"
   },
   {
    "duration": 17,
    "start_time": "2022-12-23T09:49:45.199Z"
   },
   {
    "duration": 282,
    "start_time": "2022-12-23T09:49:45.218Z"
   },
   {
    "duration": 20,
    "start_time": "2022-12-23T09:49:45.501Z"
   },
   {
    "duration": 229,
    "start_time": "2022-12-23T09:49:45.522Z"
   },
   {
    "duration": 145,
    "start_time": "2022-12-23T09:49:45.752Z"
   },
   {
    "duration": 167,
    "start_time": "2022-12-23T09:49:45.899Z"
   },
   {
    "duration": 6,
    "start_time": "2022-12-23T09:49:46.068Z"
   },
   {
    "duration": 28,
    "start_time": "2022-12-23T09:49:46.076Z"
   },
   {
    "duration": 271,
    "start_time": "2022-12-23T09:49:46.105Z"
   },
   {
    "duration": 5,
    "start_time": "2022-12-23T09:49:46.378Z"
   },
   {
    "duration": 221,
    "start_time": "2022-12-23T09:49:46.384Z"
   },
   {
    "duration": 8,
    "start_time": "2022-12-23T09:49:46.612Z"
   },
   {
    "duration": 242,
    "start_time": "2022-12-23T09:49:46.622Z"
   },
   {
    "duration": 6,
    "start_time": "2022-12-23T09:49:46.871Z"
   },
   {
    "duration": 192,
    "start_time": "2022-12-23T09:49:46.879Z"
   },
   {
    "duration": 203,
    "start_time": "2022-12-23T09:49:47.073Z"
   },
   {
    "duration": 7,
    "start_time": "2022-12-23T09:49:47.279Z"
   },
   {
    "duration": 205,
    "start_time": "2022-12-23T09:49:47.288Z"
   },
   {
    "duration": 158,
    "start_time": "2022-12-23T09:49:47.494Z"
   },
   {
    "duration": 185,
    "start_time": "2022-12-23T09:49:47.654Z"
   },
   {
    "duration": 7,
    "start_time": "2022-12-23T09:49:47.841Z"
   },
   {
    "duration": 235,
    "start_time": "2022-12-23T09:49:47.850Z"
   },
   {
    "duration": 6,
    "start_time": "2022-12-23T09:49:48.087Z"
   },
   {
    "duration": 188,
    "start_time": "2022-12-23T09:49:48.095Z"
   },
   {
    "duration": 33,
    "start_time": "2022-12-23T09:49:48.285Z"
   },
   {
    "duration": 19,
    "start_time": "2022-12-23T09:49:48.320Z"
   },
   {
    "duration": 33,
    "start_time": "2022-12-23T09:49:48.341Z"
   },
   {
    "duration": 315,
    "start_time": "2022-12-23T09:49:48.377Z"
   },
   {
    "duration": 151,
    "start_time": "2022-12-23T09:51:49.624Z"
   },
   {
    "duration": 172,
    "start_time": "2022-12-23T09:52:13.475Z"
   },
   {
    "duration": 8,
    "start_time": "2022-12-23T09:52:59.372Z"
   },
   {
    "duration": 13,
    "start_time": "2022-12-23T09:53:13.347Z"
   },
   {
    "duration": 9,
    "start_time": "2022-12-23T09:57:15.752Z"
   },
   {
    "duration": 10,
    "start_time": "2022-12-23T09:58:56.466Z"
   },
   {
    "duration": 12,
    "start_time": "2022-12-23T09:59:08.261Z"
   },
   {
    "duration": 154,
    "start_time": "2022-12-23T09:59:45.069Z"
   },
   {
    "duration": 15,
    "start_time": "2022-12-23T09:59:45.226Z"
   },
   {
    "duration": 3705,
    "start_time": "2022-12-23T09:59:45.243Z"
   },
   {
    "duration": 10,
    "start_time": "2022-12-23T09:59:48.951Z"
   },
   {
    "duration": 10,
    "start_time": "2022-12-23T09:59:48.962Z"
   },
   {
    "duration": 5,
    "start_time": "2022-12-23T09:59:48.974Z"
   },
   {
    "duration": 31,
    "start_time": "2022-12-23T09:59:48.981Z"
   },
   {
    "duration": 4,
    "start_time": "2022-12-23T09:59:49.014Z"
   },
   {
    "duration": 10,
    "start_time": "2022-12-23T09:59:49.020Z"
   },
   {
    "duration": 10,
    "start_time": "2022-12-23T09:59:49.033Z"
   },
   {
    "duration": 12,
    "start_time": "2022-12-23T09:59:49.045Z"
   },
   {
    "duration": 17,
    "start_time": "2022-12-23T09:59:49.059Z"
   },
   {
    "duration": 82,
    "start_time": "2022-12-23T09:59:49.079Z"
   },
   {
    "duration": 6,
    "start_time": "2022-12-23T09:59:49.163Z"
   },
   {
    "duration": 16,
    "start_time": "2022-12-23T09:59:49.171Z"
   },
   {
    "duration": 25,
    "start_time": "2022-12-23T09:59:49.189Z"
   },
   {
    "duration": 17,
    "start_time": "2022-12-23T09:59:49.216Z"
   },
   {
    "duration": 11,
    "start_time": "2022-12-23T09:59:49.235Z"
   },
   {
    "duration": 15,
    "start_time": "2022-12-23T09:59:49.248Z"
   },
   {
    "duration": 19,
    "start_time": "2022-12-23T09:59:49.265Z"
   },
   {
    "duration": 32,
    "start_time": "2022-12-23T09:59:49.313Z"
   },
   {
    "duration": 11,
    "start_time": "2022-12-23T09:59:49.348Z"
   },
   {
    "duration": 14,
    "start_time": "2022-12-23T09:59:49.361Z"
   },
   {
    "duration": 42,
    "start_time": "2022-12-23T09:59:49.377Z"
   },
   {
    "duration": 154,
    "start_time": "2022-12-23T09:59:49.421Z"
   },
   {
    "duration": 17,
    "start_time": "2022-12-23T09:59:49.576Z"
   },
   {
    "duration": 18,
    "start_time": "2022-12-23T09:59:49.595Z"
   },
   {
    "duration": 69,
    "start_time": "2022-12-23T09:59:49.617Z"
   },
   {
    "duration": 32,
    "start_time": "2022-12-23T09:59:49.688Z"
   },
   {
    "duration": 5,
    "start_time": "2022-12-23T09:59:49.722Z"
   },
   {
    "duration": 13,
    "start_time": "2022-12-23T09:59:49.728Z"
   },
   {
    "duration": 9,
    "start_time": "2022-12-23T09:59:49.742Z"
   },
   {
    "duration": 199,
    "start_time": "2022-12-23T09:59:49.753Z"
   },
   {
    "duration": 164,
    "start_time": "2022-12-23T09:59:49.953Z"
   },
   {
    "duration": 6,
    "start_time": "2022-12-23T09:59:50.119Z"
   },
   {
    "duration": 11,
    "start_time": "2022-12-23T09:59:50.126Z"
   },
   {
    "duration": 191,
    "start_time": "2022-12-23T09:59:50.138Z"
   },
   {
    "duration": 170,
    "start_time": "2022-12-23T09:59:50.331Z"
   },
   {
    "duration": 7,
    "start_time": "2022-12-23T09:59:50.511Z"
   },
   {
    "duration": 13,
    "start_time": "2022-12-23T09:59:50.519Z"
   },
   {
    "duration": 165,
    "start_time": "2022-12-23T09:59:50.534Z"
   },
   {
    "duration": 183,
    "start_time": "2022-12-23T09:59:50.701Z"
   },
   {
    "duration": 6,
    "start_time": "2022-12-23T09:59:50.886Z"
   },
   {
    "duration": 24,
    "start_time": "2022-12-23T09:59:50.894Z"
   },
   {
    "duration": 16,
    "start_time": "2022-12-23T09:59:50.920Z"
   },
   {
    "duration": 5,
    "start_time": "2022-12-23T09:59:50.938Z"
   },
   {
    "duration": 12,
    "start_time": "2022-12-23T09:59:50.944Z"
   },
   {
    "duration": 8,
    "start_time": "2022-12-23T09:59:50.957Z"
   },
   {
    "duration": 7,
    "start_time": "2022-12-23T09:59:50.967Z"
   },
   {
    "duration": 216,
    "start_time": "2022-12-23T09:59:51.011Z"
   },
   {
    "duration": 7,
    "start_time": "2022-12-23T09:59:51.229Z"
   },
   {
    "duration": 16,
    "start_time": "2022-12-23T09:59:51.238Z"
   },
   {
    "duration": 293,
    "start_time": "2022-12-23T09:59:51.256Z"
   },
   {
    "duration": 9,
    "start_time": "2022-12-23T09:59:51.551Z"
   },
   {
    "duration": 260,
    "start_time": "2022-12-23T09:59:51.562Z"
   },
   {
    "duration": 9,
    "start_time": "2022-12-23T09:59:51.823Z"
   },
   {
    "duration": 281,
    "start_time": "2022-12-23T09:59:51.834Z"
   },
   {
    "duration": 7,
    "start_time": "2022-12-23T09:59:52.116Z"
   },
   {
    "duration": 12,
    "start_time": "2022-12-23T09:59:52.124Z"
   },
   {
    "duration": 297,
    "start_time": "2022-12-23T09:59:52.138Z"
   },
   {
    "duration": 10,
    "start_time": "2022-12-23T09:59:52.436Z"
   },
   {
    "duration": 146,
    "start_time": "2022-12-23T09:59:52.447Z"
   },
   {
    "duration": 6,
    "start_time": "2022-12-23T09:59:52.594Z"
   },
   {
    "duration": 25,
    "start_time": "2022-12-23T09:59:52.611Z"
   },
   {
    "duration": 171,
    "start_time": "2022-12-23T09:59:52.638Z"
   },
   {
    "duration": 8,
    "start_time": "2022-12-23T09:59:52.813Z"
   },
   {
    "duration": 297,
    "start_time": "2022-12-23T09:59:52.823Z"
   },
   {
    "duration": 142,
    "start_time": "2022-12-23T09:59:53.123Z"
   },
   {
    "duration": 8,
    "start_time": "2022-12-23T09:59:53.267Z"
   },
   {
    "duration": 222,
    "start_time": "2022-12-23T09:59:53.277Z"
   },
   {
    "duration": 167,
    "start_time": "2022-12-23T09:59:53.500Z"
   },
   {
    "duration": 9,
    "start_time": "2022-12-23T09:59:53.669Z"
   },
   {
    "duration": 243,
    "start_time": "2022-12-23T09:59:53.679Z"
   },
   {
    "duration": 9,
    "start_time": "2022-12-23T09:59:53.924Z"
   },
   {
    "duration": 262,
    "start_time": "2022-12-23T09:59:53.935Z"
   },
   {
    "duration": 16,
    "start_time": "2022-12-23T09:59:54.199Z"
   },
   {
    "duration": 212,
    "start_time": "2022-12-23T09:59:54.217Z"
   },
   {
    "duration": 149,
    "start_time": "2022-12-23T09:59:54.431Z"
   },
   {
    "duration": 162,
    "start_time": "2022-12-23T09:59:54.581Z"
   },
   {
    "duration": 7,
    "start_time": "2022-12-23T09:59:54.744Z"
   },
   {
    "duration": 14,
    "start_time": "2022-12-23T09:59:54.753Z"
   },
   {
    "duration": 301,
    "start_time": "2022-12-23T09:59:54.773Z"
   },
   {
    "duration": 6,
    "start_time": "2022-12-23T09:59:55.076Z"
   },
   {
    "duration": 219,
    "start_time": "2022-12-23T09:59:55.084Z"
   },
   {
    "duration": 13,
    "start_time": "2022-12-23T09:59:55.304Z"
   },
   {
    "duration": 216,
    "start_time": "2022-12-23T09:59:55.319Z"
   },
   {
    "duration": 6,
    "start_time": "2022-12-23T09:59:55.537Z"
   },
   {
    "duration": 193,
    "start_time": "2022-12-23T09:59:55.544Z"
   },
   {
    "duration": 188,
    "start_time": "2022-12-23T09:59:55.738Z"
   },
   {
    "duration": 7,
    "start_time": "2022-12-23T09:59:55.928Z"
   },
   {
    "duration": 178,
    "start_time": "2022-12-23T09:59:55.937Z"
   },
   {
    "duration": 171,
    "start_time": "2022-12-23T09:59:56.117Z"
   },
   {
    "duration": 223,
    "start_time": "2022-12-23T09:59:56.290Z"
   },
   {
    "duration": 7,
    "start_time": "2022-12-23T09:59:56.516Z"
   },
   {
    "duration": 243,
    "start_time": "2022-12-23T09:59:56.525Z"
   },
   {
    "duration": 6,
    "start_time": "2022-12-23T09:59:56.771Z"
   },
   {
    "duration": 170,
    "start_time": "2022-12-23T09:59:56.778Z"
   },
   {
    "duration": 24,
    "start_time": "2022-12-23T09:59:56.951Z"
   },
   {
    "duration": 9,
    "start_time": "2022-12-23T09:59:56.976Z"
   },
   {
    "duration": 43,
    "start_time": "2022-12-23T09:59:56.987Z"
   },
   {
    "duration": 332,
    "start_time": "2022-12-23T09:59:57.032Z"
   },
   {
    "duration": 13,
    "start_time": "2022-12-23T10:04:57.249Z"
   },
   {
    "duration": 189,
    "start_time": "2022-12-23T10:05:02.054Z"
   },
   {
    "duration": 16,
    "start_time": "2022-12-23T10:05:02.246Z"
   },
   {
    "duration": 2089,
    "start_time": "2022-12-23T10:05:02.264Z"
   },
   {
    "duration": 16,
    "start_time": "2022-12-23T10:05:04.357Z"
   },
   {
    "duration": 25,
    "start_time": "2022-12-23T10:05:04.376Z"
   },
   {
    "duration": 18,
    "start_time": "2022-12-23T10:05:04.404Z"
   },
   {
    "duration": 42,
    "start_time": "2022-12-23T10:05:04.424Z"
   },
   {
    "duration": 29,
    "start_time": "2022-12-23T10:05:04.469Z"
   },
   {
    "duration": 16,
    "start_time": "2022-12-23T10:05:04.500Z"
   },
   {
    "duration": 25,
    "start_time": "2022-12-23T10:05:04.521Z"
   },
   {
    "duration": 30,
    "start_time": "2022-12-23T10:05:04.548Z"
   },
   {
    "duration": 34,
    "start_time": "2022-12-23T10:05:04.581Z"
   },
   {
    "duration": 48,
    "start_time": "2022-12-23T10:05:04.618Z"
   },
   {
    "duration": 6,
    "start_time": "2022-12-23T10:05:04.668Z"
   },
   {
    "duration": 28,
    "start_time": "2022-12-23T10:05:04.675Z"
   },
   {
    "duration": 25,
    "start_time": "2022-12-23T10:05:04.706Z"
   },
   {
    "duration": 32,
    "start_time": "2022-12-23T10:05:04.733Z"
   },
   {
    "duration": 16,
    "start_time": "2022-12-23T10:05:04.767Z"
   },
   {
    "duration": 29,
    "start_time": "2022-12-23T10:05:04.785Z"
   },
   {
    "duration": 72,
    "start_time": "2022-12-23T10:05:04.816Z"
   },
   {
    "duration": 58,
    "start_time": "2022-12-23T10:05:04.890Z"
   },
   {
    "duration": 39,
    "start_time": "2022-12-23T10:05:04.950Z"
   },
   {
    "duration": 33,
    "start_time": "2022-12-23T10:05:04.991Z"
   },
   {
    "duration": 26,
    "start_time": "2022-12-23T10:05:05.026Z"
   },
   {
    "duration": 156,
    "start_time": "2022-12-23T10:05:05.054Z"
   },
   {
    "duration": 17,
    "start_time": "2022-12-23T10:05:05.212Z"
   },
   {
    "duration": 9,
    "start_time": "2022-12-23T10:05:05.230Z"
   },
   {
    "duration": 99,
    "start_time": "2022-12-23T10:05:05.243Z"
   },
   {
    "duration": 10,
    "start_time": "2022-12-23T10:05:05.345Z"
   },
   {
    "duration": 26,
    "start_time": "2022-12-23T10:05:05.357Z"
   },
   {
    "duration": 29,
    "start_time": "2022-12-23T10:05:05.385Z"
   },
   {
    "duration": 21,
    "start_time": "2022-12-23T10:05:05.415Z"
   },
   {
    "duration": 192,
    "start_time": "2022-12-23T10:05:05.437Z"
   },
   {
    "duration": 180,
    "start_time": "2022-12-23T10:05:05.631Z"
   },
   {
    "duration": 8,
    "start_time": "2022-12-23T10:05:05.813Z"
   },
   {
    "duration": 32,
    "start_time": "2022-12-23T10:05:05.823Z"
   },
   {
    "duration": 25,
    "start_time": "2022-12-23T10:05:05.857Z"
   },
   {
    "duration": 177,
    "start_time": "2022-12-23T10:05:05.884Z"
   },
   {
    "duration": 178,
    "start_time": "2022-12-23T10:05:06.063Z"
   },
   {
    "duration": 7,
    "start_time": "2022-12-23T10:05:06.243Z"
   },
   {
    "duration": 28,
    "start_time": "2022-12-23T10:05:06.252Z"
   },
   {
    "duration": 228,
    "start_time": "2022-12-23T10:05:06.282Z"
   },
   {
    "duration": 195,
    "start_time": "2022-12-23T10:05:06.512Z"
   },
   {
    "duration": 6,
    "start_time": "2022-12-23T10:05:06.709Z"
   },
   {
    "duration": 16,
    "start_time": "2022-12-23T10:05:06.716Z"
   },
   {
    "duration": 13,
    "start_time": "2022-12-23T10:05:06.734Z"
   },
   {
    "duration": 3,
    "start_time": "2022-12-23T10:05:06.749Z"
   },
   {
    "duration": 13,
    "start_time": "2022-12-23T10:05:06.754Z"
   },
   {
    "duration": 8,
    "start_time": "2022-12-23T10:05:06.768Z"
   },
   {
    "duration": 42,
    "start_time": "2022-12-23T10:05:06.777Z"
   },
   {
    "duration": 212,
    "start_time": "2022-12-23T10:05:06.820Z"
   },
   {
    "duration": 8,
    "start_time": "2022-12-23T10:05:07.034Z"
   },
   {
    "duration": 12,
    "start_time": "2022-12-23T10:05:07.044Z"
   },
   {
    "duration": 283,
    "start_time": "2022-12-23T10:05:07.058Z"
   },
   {
    "duration": 9,
    "start_time": "2022-12-23T10:05:07.343Z"
   },
   {
    "duration": 255,
    "start_time": "2022-12-23T10:05:07.354Z"
   },
   {
    "duration": 10,
    "start_time": "2022-12-23T10:05:07.611Z"
   },
   {
    "duration": 274,
    "start_time": "2022-12-23T10:05:07.622Z"
   },
   {
    "duration": 7,
    "start_time": "2022-12-23T10:05:07.898Z"
   },
   {
    "duration": 28,
    "start_time": "2022-12-23T10:05:07.912Z"
   },
   {
    "duration": 262,
    "start_time": "2022-12-23T10:05:07.942Z"
   },
   {
    "duration": 13,
    "start_time": "2022-12-23T10:05:08.205Z"
   },
   {
    "duration": 136,
    "start_time": "2022-12-23T10:05:08.220Z"
   },
   {
    "duration": 6,
    "start_time": "2022-12-23T10:05:08.358Z"
   },
   {
    "duration": 31,
    "start_time": "2022-12-23T10:05:08.366Z"
   },
   {
    "duration": 176,
    "start_time": "2022-12-23T10:05:08.398Z"
   },
   {
    "duration": 8,
    "start_time": "2022-12-23T10:05:08.577Z"
   },
   {
    "duration": 308,
    "start_time": "2022-12-23T10:05:08.587Z"
   },
   {
    "duration": 118,
    "start_time": "2022-12-23T10:05:08.898Z"
   },
   {
    "duration": 9,
    "start_time": "2022-12-23T10:05:09.018Z"
   },
   {
    "duration": 223,
    "start_time": "2022-12-23T10:05:09.029Z"
   },
   {
    "duration": 174,
    "start_time": "2022-12-23T10:05:09.254Z"
   },
   {
    "duration": 10,
    "start_time": "2022-12-23T10:05:09.430Z"
   },
   {
    "duration": 234,
    "start_time": "2022-12-23T10:05:09.441Z"
   },
   {
    "duration": 10,
    "start_time": "2022-12-23T10:05:09.678Z"
   },
   {
    "duration": 296,
    "start_time": "2022-12-23T10:05:09.690Z"
   },
   {
    "duration": 10,
    "start_time": "2022-12-23T10:05:09.989Z"
   },
   {
    "duration": 227,
    "start_time": "2022-12-23T10:05:10.013Z"
   },
   {
    "duration": 157,
    "start_time": "2022-12-23T10:05:10.242Z"
   },
   {
    "duration": 166,
    "start_time": "2022-12-23T10:05:10.401Z"
   },
   {
    "duration": 8,
    "start_time": "2022-12-23T10:05:10.569Z"
   },
   {
    "duration": 30,
    "start_time": "2022-12-23T10:05:10.584Z"
   },
   {
    "duration": 273,
    "start_time": "2022-12-23T10:05:10.616Z"
   },
   {
    "duration": 5,
    "start_time": "2022-12-23T10:05:10.891Z"
   },
   {
    "duration": 196,
    "start_time": "2022-12-23T10:05:10.898Z"
   },
   {
    "duration": 6,
    "start_time": "2022-12-23T10:05:11.096Z"
   },
   {
    "duration": 200,
    "start_time": "2022-12-23T10:05:11.113Z"
   },
   {
    "duration": 7,
    "start_time": "2022-12-23T10:05:11.315Z"
   },
   {
    "duration": 191,
    "start_time": "2022-12-23T10:05:11.324Z"
   },
   {
    "duration": 195,
    "start_time": "2022-12-23T10:05:11.517Z"
   },
   {
    "duration": 5,
    "start_time": "2022-12-23T10:05:11.714Z"
   },
   {
    "duration": 172,
    "start_time": "2022-12-23T10:05:11.721Z"
   },
   {
    "duration": 152,
    "start_time": "2022-12-23T10:05:11.895Z"
   },
   {
    "duration": 180,
    "start_time": "2022-12-23T10:05:12.049Z"
   },
   {
    "duration": 6,
    "start_time": "2022-12-23T10:05:12.231Z"
   },
   {
    "duration": 210,
    "start_time": "2022-12-23T10:05:12.238Z"
   },
   {
    "duration": 5,
    "start_time": "2022-12-23T10:05:12.450Z"
   },
   {
    "duration": 177,
    "start_time": "2022-12-23T10:05:12.457Z"
   },
   {
    "duration": 24,
    "start_time": "2022-12-23T10:05:12.636Z"
   },
   {
    "duration": 13,
    "start_time": "2022-12-23T10:05:12.663Z"
   },
   {
    "duration": 56,
    "start_time": "2022-12-23T10:05:12.679Z"
   },
   {
    "duration": 329,
    "start_time": "2022-12-23T10:05:12.738Z"
   },
   {
    "duration": 14,
    "start_time": "2022-12-23T10:06:34.649Z"
   },
   {
    "duration": 137,
    "start_time": "2022-12-23T10:06:44.003Z"
   },
   {
    "duration": 17,
    "start_time": "2022-12-23T10:06:44.142Z"
   },
   {
    "duration": 2170,
    "start_time": "2022-12-23T10:06:44.161Z"
   },
   {
    "duration": 16,
    "start_time": "2022-12-23T10:06:46.333Z"
   },
   {
    "duration": 16,
    "start_time": "2022-12-23T10:06:46.353Z"
   },
   {
    "duration": 17,
    "start_time": "2022-12-23T10:06:46.372Z"
   },
   {
    "duration": 30,
    "start_time": "2022-12-23T10:06:46.392Z"
   },
   {
    "duration": 11,
    "start_time": "2022-12-23T10:06:46.425Z"
   },
   {
    "duration": 54,
    "start_time": "2022-12-23T10:06:46.439Z"
   },
   {
    "duration": 27,
    "start_time": "2022-12-23T10:06:46.496Z"
   },
   {
    "duration": 23,
    "start_time": "2022-12-23T10:06:46.526Z"
   },
   {
    "duration": 24,
    "start_time": "2022-12-23T10:06:46.551Z"
   },
   {
    "duration": 73,
    "start_time": "2022-12-23T10:06:46.578Z"
   },
   {
    "duration": 6,
    "start_time": "2022-12-23T10:06:46.655Z"
   },
   {
    "duration": 24,
    "start_time": "2022-12-23T10:06:46.664Z"
   },
   {
    "duration": 20,
    "start_time": "2022-12-23T10:06:46.693Z"
   },
   {
    "duration": 33,
    "start_time": "2022-12-23T10:06:46.715Z"
   },
   {
    "duration": 22,
    "start_time": "2022-12-23T10:06:46.750Z"
   },
   {
    "duration": 15,
    "start_time": "2022-12-23T10:06:46.776Z"
   },
   {
    "duration": 20,
    "start_time": "2022-12-23T10:06:46.793Z"
   },
   {
    "duration": 30,
    "start_time": "2022-12-23T10:06:46.815Z"
   },
   {
    "duration": 13,
    "start_time": "2022-12-23T10:06:46.847Z"
   },
   {
    "duration": 15,
    "start_time": "2022-12-23T10:06:46.862Z"
   },
   {
    "duration": 33,
    "start_time": "2022-12-23T10:06:46.879Z"
   },
   {
    "duration": 165,
    "start_time": "2022-12-23T10:06:46.914Z"
   },
   {
    "duration": 30,
    "start_time": "2022-12-23T10:06:47.082Z"
   },
   {
    "duration": 9,
    "start_time": "2022-12-23T10:06:47.114Z"
   },
   {
    "duration": 78,
    "start_time": "2022-12-23T10:06:47.124Z"
   },
   {
    "duration": 17,
    "start_time": "2022-12-23T10:06:47.204Z"
   },
   {
    "duration": 7,
    "start_time": "2022-12-23T10:06:47.223Z"
   },
   {
    "duration": 23,
    "start_time": "2022-12-23T10:06:47.233Z"
   },
   {
    "duration": 11,
    "start_time": "2022-12-23T10:06:47.258Z"
   },
   {
    "duration": 203,
    "start_time": "2022-12-23T10:06:47.271Z"
   },
   {
    "duration": 161,
    "start_time": "2022-12-23T10:06:47.476Z"
   },
   {
    "duration": 8,
    "start_time": "2022-12-23T10:06:47.639Z"
   },
   {
    "duration": 36,
    "start_time": "2022-12-23T10:06:47.649Z"
   },
   {
    "duration": 12,
    "start_time": "2022-12-23T10:06:47.687Z"
   },
   {
    "duration": 165,
    "start_time": "2022-12-23T10:06:47.701Z"
   },
   {
    "duration": 174,
    "start_time": "2022-12-23T10:06:47.868Z"
   },
   {
    "duration": 7,
    "start_time": "2022-12-23T10:06:48.044Z"
   },
   {
    "duration": 26,
    "start_time": "2022-12-23T10:06:48.057Z"
   },
   {
    "duration": 164,
    "start_time": "2022-12-23T10:06:48.085Z"
   },
   {
    "duration": 177,
    "start_time": "2022-12-23T10:06:48.251Z"
   },
   {
    "duration": 8,
    "start_time": "2022-12-23T10:06:48.431Z"
   },
   {
    "duration": 16,
    "start_time": "2022-12-23T10:06:48.441Z"
   },
   {
    "duration": 41,
    "start_time": "2022-12-23T10:06:48.459Z"
   },
   {
    "duration": 35,
    "start_time": "2022-12-23T10:06:48.502Z"
   },
   {
    "duration": 53,
    "start_time": "2022-12-23T10:06:48.539Z"
   },
   {
    "duration": 48,
    "start_time": "2022-12-23T10:06:48.595Z"
   },
   {
    "duration": 31,
    "start_time": "2022-12-23T10:06:48.645Z"
   },
   {
    "duration": 208,
    "start_time": "2022-12-23T10:06:48.679Z"
   },
   {
    "duration": 7,
    "start_time": "2022-12-23T10:06:48.888Z"
   },
   {
    "duration": 29,
    "start_time": "2022-12-23T10:06:48.897Z"
   },
   {
    "duration": 311,
    "start_time": "2022-12-23T10:06:48.928Z"
   },
   {
    "duration": 11,
    "start_time": "2022-12-23T10:06:49.241Z"
   },
   {
    "duration": 316,
    "start_time": "2022-12-23T10:06:49.254Z"
   },
   {
    "duration": 10,
    "start_time": "2022-12-23T10:06:49.572Z"
   },
   {
    "duration": 283,
    "start_time": "2022-12-23T10:06:49.583Z"
   },
   {
    "duration": 9,
    "start_time": "2022-12-23T10:06:49.868Z"
   },
   {
    "duration": 16,
    "start_time": "2022-12-23T10:06:49.879Z"
   },
   {
    "duration": 277,
    "start_time": "2022-12-23T10:06:49.896Z"
   },
   {
    "duration": 12,
    "start_time": "2022-12-23T10:06:50.175Z"
   },
   {
    "duration": 150,
    "start_time": "2022-12-23T10:06:50.189Z"
   },
   {
    "duration": 7,
    "start_time": "2022-12-23T10:06:50.341Z"
   },
   {
    "duration": 13,
    "start_time": "2022-12-23T10:06:50.349Z"
   },
   {
    "duration": 165,
    "start_time": "2022-12-23T10:06:50.364Z"
   },
   {
    "duration": 9,
    "start_time": "2022-12-23T10:06:50.531Z"
   },
   {
    "duration": 299,
    "start_time": "2022-12-23T10:06:50.541Z"
   },
   {
    "duration": 123,
    "start_time": "2022-12-23T10:06:50.842Z"
   },
   {
    "duration": 11,
    "start_time": "2022-12-23T10:06:50.967Z"
   },
   {
    "duration": 234,
    "start_time": "2022-12-23T10:06:50.980Z"
   },
   {
    "duration": 147,
    "start_time": "2022-12-23T10:06:51.216Z"
   },
   {
    "duration": 9,
    "start_time": "2022-12-23T10:06:51.365Z"
   },
   {
    "duration": 233,
    "start_time": "2022-12-23T10:06:51.376Z"
   },
   {
    "duration": 11,
    "start_time": "2022-12-23T10:06:51.612Z"
   },
   {
    "duration": 277,
    "start_time": "2022-12-23T10:06:51.625Z"
   },
   {
    "duration": 15,
    "start_time": "2022-12-23T10:06:51.904Z"
   },
   {
    "duration": 210,
    "start_time": "2022-12-23T10:06:51.921Z"
   },
   {
    "duration": 150,
    "start_time": "2022-12-23T10:06:52.133Z"
   },
   {
    "duration": 158,
    "start_time": "2022-12-23T10:06:52.285Z"
   },
   {
    "duration": 9,
    "start_time": "2022-12-23T10:06:52.444Z"
   },
   {
    "duration": 14,
    "start_time": "2022-12-23T10:06:52.455Z"
   },
   {
    "duration": 258,
    "start_time": "2022-12-23T10:06:52.471Z"
   },
   {
    "duration": 5,
    "start_time": "2022-12-23T10:06:52.732Z"
   },
   {
    "duration": 182,
    "start_time": "2022-12-23T10:06:52.739Z"
   },
   {
    "duration": 6,
    "start_time": "2022-12-23T10:06:52.923Z"
   },
   {
    "duration": 201,
    "start_time": "2022-12-23T10:06:52.931Z"
   },
   {
    "duration": 7,
    "start_time": "2022-12-23T10:06:53.133Z"
   },
   {
    "duration": 181,
    "start_time": "2022-12-23T10:06:53.142Z"
   },
   {
    "duration": 192,
    "start_time": "2022-12-23T10:06:53.325Z"
   },
   {
    "duration": 7,
    "start_time": "2022-12-23T10:06:53.519Z"
   },
   {
    "duration": 179,
    "start_time": "2022-12-23T10:06:53.529Z"
   },
   {
    "duration": 161,
    "start_time": "2022-12-23T10:06:53.711Z"
   },
   {
    "duration": 173,
    "start_time": "2022-12-23T10:06:53.874Z"
   },
   {
    "duration": 5,
    "start_time": "2022-12-23T10:06:54.049Z"
   },
   {
    "duration": 217,
    "start_time": "2022-12-23T10:06:54.055Z"
   },
   {
    "duration": 6,
    "start_time": "2022-12-23T10:06:54.274Z"
   },
   {
    "duration": 168,
    "start_time": "2022-12-23T10:06:54.282Z"
   },
   {
    "duration": 24,
    "start_time": "2022-12-23T10:06:54.452Z"
   },
   {
    "duration": 21,
    "start_time": "2022-12-23T10:06:54.478Z"
   },
   {
    "duration": 32,
    "start_time": "2022-12-23T10:06:54.501Z"
   },
   {
    "duration": 336,
    "start_time": "2022-12-23T10:06:54.534Z"
   },
   {
    "duration": 10,
    "start_time": "2022-12-23T10:11:10.800Z"
   },
   {
    "duration": 149,
    "start_time": "2022-12-23T10:11:16.636Z"
   },
   {
    "duration": 33,
    "start_time": "2022-12-23T10:11:16.788Z"
   },
   {
    "duration": 2046,
    "start_time": "2022-12-23T10:11:16.823Z"
   },
   {
    "duration": 10,
    "start_time": "2022-12-23T10:11:18.872Z"
   },
   {
    "duration": 9,
    "start_time": "2022-12-23T10:11:18.884Z"
   },
   {
    "duration": 17,
    "start_time": "2022-12-23T10:11:18.895Z"
   },
   {
    "duration": 12,
    "start_time": "2022-12-23T10:11:18.914Z"
   },
   {
    "duration": 10,
    "start_time": "2022-12-23T10:11:18.928Z"
   },
   {
    "duration": 6,
    "start_time": "2022-12-23T10:11:18.940Z"
   },
   {
    "duration": 10,
    "start_time": "2022-12-23T10:11:18.949Z"
   },
   {
    "duration": 11,
    "start_time": "2022-12-23T10:11:18.962Z"
   },
   {
    "duration": 46,
    "start_time": "2022-12-23T10:11:18.974Z"
   },
   {
    "duration": 71,
    "start_time": "2022-12-23T10:11:19.022Z"
   },
   {
    "duration": 20,
    "start_time": "2022-12-23T10:11:19.095Z"
   },
   {
    "duration": 10,
    "start_time": "2022-12-23T10:11:19.117Z"
   },
   {
    "duration": 11,
    "start_time": "2022-12-23T10:11:19.128Z"
   },
   {
    "duration": 21,
    "start_time": "2022-12-23T10:11:19.141Z"
   },
   {
    "duration": 9,
    "start_time": "2022-12-23T10:11:19.164Z"
   },
   {
    "duration": 40,
    "start_time": "2022-12-23T10:11:19.175Z"
   },
   {
    "duration": 12,
    "start_time": "2022-12-23T10:11:19.217Z"
   },
   {
    "duration": 35,
    "start_time": "2022-12-23T10:11:19.231Z"
   },
   {
    "duration": 8,
    "start_time": "2022-12-23T10:11:19.268Z"
   },
   {
    "duration": 38,
    "start_time": "2022-12-23T10:11:19.278Z"
   },
   {
    "duration": 8,
    "start_time": "2022-12-23T10:11:19.318Z"
   },
   {
    "duration": 160,
    "start_time": "2022-12-23T10:11:19.328Z"
   },
   {
    "duration": 28,
    "start_time": "2022-12-23T10:11:19.489Z"
   },
   {
    "duration": 7,
    "start_time": "2022-12-23T10:11:19.519Z"
   },
   {
    "duration": 90,
    "start_time": "2022-12-23T10:11:19.530Z"
   },
   {
    "duration": 9,
    "start_time": "2022-12-23T10:11:19.622Z"
   },
   {
    "duration": 7,
    "start_time": "2022-12-23T10:11:19.633Z"
   },
   {
    "duration": 16,
    "start_time": "2022-12-23T10:11:19.642Z"
   },
   {
    "duration": 9,
    "start_time": "2022-12-23T10:11:19.660Z"
   },
   {
    "duration": 208,
    "start_time": "2022-12-23T10:11:19.671Z"
   },
   {
    "duration": 161,
    "start_time": "2022-12-23T10:11:19.881Z"
   },
   {
    "duration": 6,
    "start_time": "2022-12-23T10:11:20.044Z"
   },
   {
    "duration": 18,
    "start_time": "2022-12-23T10:11:20.052Z"
   },
   {
    "duration": 12,
    "start_time": "2022-12-23T10:11:20.071Z"
   },
   {
    "duration": 187,
    "start_time": "2022-12-23T10:11:20.085Z"
   },
   {
    "duration": 180,
    "start_time": "2022-12-23T10:11:20.275Z"
   },
   {
    "duration": 6,
    "start_time": "2022-12-23T10:11:20.457Z"
   },
   {
    "duration": 16,
    "start_time": "2022-12-23T10:11:20.465Z"
   },
   {
    "duration": 10,
    "start_time": "2022-12-23T10:11:20.482Z"
   },
   {
    "duration": 169,
    "start_time": "2022-12-23T10:11:20.494Z"
   },
   {
    "duration": 179,
    "start_time": "2022-12-23T10:11:20.665Z"
   },
   {
    "duration": 6,
    "start_time": "2022-12-23T10:11:20.846Z"
   },
   {
    "duration": 15,
    "start_time": "2022-12-23T10:11:20.854Z"
   },
   {
    "duration": 14,
    "start_time": "2022-12-23T10:11:20.870Z"
   },
   {
    "duration": 5,
    "start_time": "2022-12-23T10:11:20.885Z"
   },
   {
    "duration": 28,
    "start_time": "2022-12-23T10:11:20.891Z"
   },
   {
    "duration": 8,
    "start_time": "2022-12-23T10:11:20.921Z"
   },
   {
    "duration": 7,
    "start_time": "2022-12-23T10:11:20.931Z"
   },
   {
    "duration": 220,
    "start_time": "2022-12-23T10:11:20.940Z"
   },
   {
    "duration": 7,
    "start_time": "2022-12-23T10:11:21.162Z"
   },
   {
    "duration": 27,
    "start_time": "2022-12-23T10:11:21.171Z"
   },
   {
    "duration": 268,
    "start_time": "2022-12-23T10:11:21.200Z"
   },
   {
    "duration": 9,
    "start_time": "2022-12-23T10:11:21.470Z"
   },
   {
    "duration": 255,
    "start_time": "2022-12-23T10:11:21.481Z"
   },
   {
    "duration": 9,
    "start_time": "2022-12-23T10:11:21.738Z"
   },
   {
    "duration": 280,
    "start_time": "2022-12-23T10:11:21.749Z"
   },
   {
    "duration": 6,
    "start_time": "2022-12-23T10:11:22.031Z"
   },
   {
    "duration": 18,
    "start_time": "2022-12-23T10:11:22.039Z"
   },
   {
    "duration": 287,
    "start_time": "2022-12-23T10:11:22.059Z"
   },
   {
    "duration": 9,
    "start_time": "2022-12-23T10:11:22.348Z"
   },
   {
    "duration": 147,
    "start_time": "2022-12-23T10:11:22.358Z"
   },
   {
    "duration": 5,
    "start_time": "2022-12-23T10:11:22.513Z"
   },
   {
    "duration": 14,
    "start_time": "2022-12-23T10:11:22.520Z"
   },
   {
    "duration": 161,
    "start_time": "2022-12-23T10:11:22.536Z"
   },
   {
    "duration": 14,
    "start_time": "2022-12-23T10:11:22.699Z"
   },
   {
    "duration": 262,
    "start_time": "2022-12-23T10:11:22.715Z"
   },
   {
    "duration": 109,
    "start_time": "2022-12-23T10:11:22.979Z"
   },
   {
    "duration": 8,
    "start_time": "2022-12-23T10:11:23.089Z"
   },
   {
    "duration": 216,
    "start_time": "2022-12-23T10:11:23.112Z"
   },
   {
    "duration": 153,
    "start_time": "2022-12-23T10:11:23.330Z"
   },
   {
    "duration": 9,
    "start_time": "2022-12-23T10:11:23.484Z"
   },
   {
    "duration": 222,
    "start_time": "2022-12-23T10:11:23.495Z"
   },
   {
    "duration": 11,
    "start_time": "2022-12-23T10:11:23.719Z"
   },
   {
    "duration": 259,
    "start_time": "2022-12-23T10:11:23.732Z"
   },
   {
    "duration": 26,
    "start_time": "2022-12-23T10:11:23.993Z"
   },
   {
    "duration": 2011,
    "start_time": "2022-12-23T10:11:24.020Z"
   },
   {
    "duration": 152,
    "start_time": "2022-12-23T10:11:26.033Z"
   },
   {
    "duration": 171,
    "start_time": "2022-12-23T10:11:26.187Z"
   },
   {
    "duration": 8,
    "start_time": "2022-12-23T10:11:26.364Z"
   },
   {
    "duration": 20,
    "start_time": "2022-12-23T10:11:26.375Z"
   },
   {
    "duration": 327,
    "start_time": "2022-12-23T10:11:26.397Z"
   },
   {
    "duration": 5,
    "start_time": "2022-12-23T10:11:26.726Z"
   },
   {
    "duration": 204,
    "start_time": "2022-12-23T10:11:26.733Z"
   },
   {
    "duration": 5,
    "start_time": "2022-12-23T10:11:26.939Z"
   },
   {
    "duration": 201,
    "start_time": "2022-12-23T10:11:26.946Z"
   },
   {
    "duration": 5,
    "start_time": "2022-12-23T10:11:27.149Z"
   },
   {
    "duration": 191,
    "start_time": "2022-12-23T10:11:27.156Z"
   },
   {
    "duration": 177,
    "start_time": "2022-12-23T10:11:27.348Z"
   },
   {
    "duration": 6,
    "start_time": "2022-12-23T10:11:27.527Z"
   },
   {
    "duration": 180,
    "start_time": "2022-12-23T10:11:27.535Z"
   },
   {
    "duration": 159,
    "start_time": "2022-12-23T10:11:27.717Z"
   },
   {
    "duration": 168,
    "start_time": "2022-12-23T10:11:27.877Z"
   },
   {
    "duration": 5,
    "start_time": "2022-12-23T10:11:28.046Z"
   },
   {
    "duration": 198,
    "start_time": "2022-12-23T10:11:28.053Z"
   },
   {
    "duration": 5,
    "start_time": "2022-12-23T10:11:28.253Z"
   },
   {
    "duration": 160,
    "start_time": "2022-12-23T10:11:28.259Z"
   },
   {
    "duration": 23,
    "start_time": "2022-12-23T10:11:28.421Z"
   },
   {
    "duration": 8,
    "start_time": "2022-12-23T10:11:28.446Z"
   },
   {
    "duration": 22,
    "start_time": "2022-12-23T10:11:28.456Z"
   },
   {
    "duration": 341,
    "start_time": "2022-12-23T10:11:28.480Z"
   },
   {
    "duration": 101,
    "start_time": "2022-12-23T10:15:16.442Z"
   },
   {
    "duration": 155,
    "start_time": "2022-12-23T10:15:30.902Z"
   },
   {
    "duration": 16,
    "start_time": "2022-12-23T10:15:31.059Z"
   },
   {
    "duration": 2053,
    "start_time": "2022-12-23T10:15:31.077Z"
   },
   {
    "duration": 10,
    "start_time": "2022-12-23T10:15:33.132Z"
   },
   {
    "duration": 13,
    "start_time": "2022-12-23T10:15:33.144Z"
   },
   {
    "duration": 9,
    "start_time": "2022-12-23T10:15:33.159Z"
   },
   {
    "duration": 13,
    "start_time": "2022-12-23T10:15:33.170Z"
   },
   {
    "duration": 8,
    "start_time": "2022-12-23T10:15:33.185Z"
   },
   {
    "duration": 18,
    "start_time": "2022-12-23T10:15:33.195Z"
   },
   {
    "duration": 9,
    "start_time": "2022-12-23T10:15:33.216Z"
   },
   {
    "duration": 15,
    "start_time": "2022-12-23T10:15:33.227Z"
   },
   {
    "duration": 16,
    "start_time": "2022-12-23T10:15:33.244Z"
   },
   {
    "duration": 67,
    "start_time": "2022-12-23T10:15:33.262Z"
   },
   {
    "duration": 5,
    "start_time": "2022-12-23T10:15:33.331Z"
   },
   {
    "duration": 12,
    "start_time": "2022-12-23T10:15:33.338Z"
   },
   {
    "duration": 8,
    "start_time": "2022-12-23T10:15:33.352Z"
   },
   {
    "duration": 26,
    "start_time": "2022-12-23T10:15:33.363Z"
   },
   {
    "duration": 9,
    "start_time": "2022-12-23T10:15:33.413Z"
   },
   {
    "duration": 19,
    "start_time": "2022-12-23T10:15:33.423Z"
   },
   {
    "duration": 12,
    "start_time": "2022-12-23T10:15:33.444Z"
   },
   {
    "duration": 47,
    "start_time": "2022-12-23T10:15:33.457Z"
   },
   {
    "duration": 8,
    "start_time": "2022-12-23T10:15:33.505Z"
   },
   {
    "duration": 80,
    "start_time": "2022-12-23T10:15:33.515Z"
   },
   {
    "duration": 21,
    "start_time": "2022-12-23T10:15:33.597Z"
   },
   {
    "duration": 22,
    "start_time": "2022-12-23T10:15:33.620Z"
   },
   {
    "duration": 163,
    "start_time": "2022-12-23T10:15:33.643Z"
   },
   {
    "duration": 18,
    "start_time": "2022-12-23T10:15:33.808Z"
   },
   {
    "duration": 8,
    "start_time": "2022-12-23T10:15:33.832Z"
   },
   {
    "duration": 87,
    "start_time": "2022-12-23T10:15:33.842Z"
   },
   {
    "duration": 9,
    "start_time": "2022-12-23T10:15:33.931Z"
   },
   {
    "duration": 6,
    "start_time": "2022-12-23T10:15:33.942Z"
   },
   {
    "duration": 11,
    "start_time": "2022-12-23T10:15:33.950Z"
   },
   {
    "duration": 10,
    "start_time": "2022-12-23T10:15:33.963Z"
   },
   {
    "duration": 212,
    "start_time": "2022-12-23T10:15:33.975Z"
   },
   {
    "duration": 176,
    "start_time": "2022-12-23T10:15:34.189Z"
   },
   {
    "duration": 6,
    "start_time": "2022-12-23T10:15:34.367Z"
   },
   {
    "duration": 10,
    "start_time": "2022-12-23T10:15:34.375Z"
   },
   {
    "duration": 33,
    "start_time": "2022-12-23T10:15:34.387Z"
   },
   {
    "duration": 172,
    "start_time": "2022-12-23T10:15:34.421Z"
   },
   {
    "duration": 181,
    "start_time": "2022-12-23T10:15:34.595Z"
   },
   {
    "duration": 42,
    "start_time": "2022-12-23T10:15:34.778Z"
   },
   {
    "duration": 22,
    "start_time": "2022-12-23T10:15:34.822Z"
   },
   {
    "duration": 14,
    "start_time": "2022-12-23T10:15:34.845Z"
   },
   {
    "duration": 209,
    "start_time": "2022-12-23T10:15:34.862Z"
   },
   {
    "duration": 261,
    "start_time": "2022-12-23T10:15:35.073Z"
   },
   {
    "duration": 7,
    "start_time": "2022-12-23T10:15:35.335Z"
   },
   {
    "duration": 18,
    "start_time": "2022-12-23T10:15:35.344Z"
   },
   {
    "duration": 62,
    "start_time": "2022-12-23T10:15:35.363Z"
   },
   {
    "duration": 5,
    "start_time": "2022-12-23T10:15:35.428Z"
   },
   {
    "duration": 17,
    "start_time": "2022-12-23T10:15:35.436Z"
   },
   {
    "duration": 6,
    "start_time": "2022-12-23T10:15:35.455Z"
   },
   {
    "duration": 7,
    "start_time": "2022-12-23T10:15:35.463Z"
   },
   {
    "duration": 309,
    "start_time": "2022-12-23T10:15:35.472Z"
   },
   {
    "duration": 7,
    "start_time": "2022-12-23T10:15:35.783Z"
   },
   {
    "duration": 26,
    "start_time": "2022-12-23T10:15:35.792Z"
   },
   {
    "duration": 268,
    "start_time": "2022-12-23T10:15:35.820Z"
   },
   {
    "duration": 22,
    "start_time": "2022-12-23T10:15:36.090Z"
   },
   {
    "duration": 262,
    "start_time": "2022-12-23T10:15:36.114Z"
   },
   {
    "duration": 13,
    "start_time": "2022-12-23T10:15:36.378Z"
   },
   {
    "duration": 363,
    "start_time": "2022-12-23T10:15:36.393Z"
   },
   {
    "duration": 6,
    "start_time": "2022-12-23T10:15:36.758Z"
   },
   {
    "duration": 12,
    "start_time": "2022-12-23T10:15:36.766Z"
   },
   {
    "duration": 271,
    "start_time": "2022-12-23T10:15:36.780Z"
   },
   {
    "duration": 9,
    "start_time": "2022-12-23T10:15:37.053Z"
   },
   {
    "duration": 156,
    "start_time": "2022-12-23T10:15:37.064Z"
   },
   {
    "duration": 8,
    "start_time": "2022-12-23T10:15:37.222Z"
   },
   {
    "duration": 22,
    "start_time": "2022-12-23T10:15:37.232Z"
   },
   {
    "duration": 164,
    "start_time": "2022-12-23T10:15:37.256Z"
   },
   {
    "duration": 12,
    "start_time": "2022-12-23T10:15:37.421Z"
   },
   {
    "duration": 334,
    "start_time": "2022-12-23T10:15:37.435Z"
   },
   {
    "duration": 130,
    "start_time": "2022-12-23T10:15:37.771Z"
   },
   {
    "duration": 9,
    "start_time": "2022-12-23T10:15:37.912Z"
   },
   {
    "duration": 226,
    "start_time": "2022-12-23T10:15:37.923Z"
   },
   {
    "duration": 166,
    "start_time": "2022-12-23T10:15:38.151Z"
   },
   {
    "duration": 10,
    "start_time": "2022-12-23T10:15:38.319Z"
   },
   {
    "duration": 255,
    "start_time": "2022-12-23T10:15:38.331Z"
   },
   {
    "duration": 10,
    "start_time": "2022-12-23T10:15:38.587Z"
   },
   {
    "duration": 273,
    "start_time": "2022-12-23T10:15:38.599Z"
   },
   {
    "duration": 9,
    "start_time": "2022-12-23T10:15:38.874Z"
   },
   {
    "duration": 216,
    "start_time": "2022-12-23T10:15:38.885Z"
   },
   {
    "duration": 154,
    "start_time": "2022-12-23T10:15:39.103Z"
   },
   {
    "duration": 179,
    "start_time": "2022-12-23T10:15:39.263Z"
   },
   {
    "duration": 7,
    "start_time": "2022-12-23T10:15:39.443Z"
   },
   {
    "duration": 11,
    "start_time": "2022-12-23T10:15:39.452Z"
   },
   {
    "duration": 274,
    "start_time": "2022-12-23T10:15:39.465Z"
   },
   {
    "duration": 5,
    "start_time": "2022-12-23T10:15:39.741Z"
   },
   {
    "duration": 190,
    "start_time": "2022-12-23T10:15:39.748Z"
   },
   {
    "duration": 6,
    "start_time": "2022-12-23T10:15:39.940Z"
   },
   {
    "duration": 201,
    "start_time": "2022-12-23T10:15:39.948Z"
   },
   {
    "duration": 6,
    "start_time": "2022-12-23T10:15:40.151Z"
   },
   {
    "duration": 202,
    "start_time": "2022-12-23T10:15:40.159Z"
   },
   {
    "duration": 197,
    "start_time": "2022-12-23T10:15:40.363Z"
   },
   {
    "duration": 8,
    "start_time": "2022-12-23T10:15:40.562Z"
   },
   {
    "duration": 183,
    "start_time": "2022-12-23T10:15:40.572Z"
   },
   {
    "duration": 157,
    "start_time": "2022-12-23T10:15:40.756Z"
   },
   {
    "duration": 172,
    "start_time": "2022-12-23T10:15:40.915Z"
   },
   {
    "duration": 6,
    "start_time": "2022-12-23T10:15:41.090Z"
   },
   {
    "duration": 197,
    "start_time": "2022-12-23T10:15:41.098Z"
   },
   {
    "duration": 16,
    "start_time": "2022-12-23T10:15:41.296Z"
   },
   {
    "duration": 155,
    "start_time": "2022-12-23T10:15:41.313Z"
   },
   {
    "duration": 22,
    "start_time": "2022-12-23T10:15:41.470Z"
   },
   {
    "duration": 21,
    "start_time": "2022-12-23T10:15:41.493Z"
   },
   {
    "duration": 44,
    "start_time": "2022-12-23T10:15:41.515Z"
   },
   {
    "duration": 299,
    "start_time": "2022-12-23T10:15:41.561Z"
   },
   {
    "duration": 157,
    "start_time": "2022-12-23T10:21:08.956Z"
   },
   {
    "duration": 16,
    "start_time": "2022-12-23T10:21:09.116Z"
   },
   {
    "duration": 2159,
    "start_time": "2022-12-23T10:21:09.135Z"
   },
   {
    "duration": 21,
    "start_time": "2022-12-23T10:21:11.296Z"
   },
   {
    "duration": 19,
    "start_time": "2022-12-23T10:21:11.319Z"
   },
   {
    "duration": 29,
    "start_time": "2022-12-23T10:21:11.339Z"
   },
   {
    "duration": 54,
    "start_time": "2022-12-23T10:21:11.370Z"
   },
   {
    "duration": 47,
    "start_time": "2022-12-23T10:21:11.427Z"
   },
   {
    "duration": 19,
    "start_time": "2022-12-23T10:21:11.476Z"
   },
   {
    "duration": 50,
    "start_time": "2022-12-23T10:21:11.498Z"
   },
   {
    "duration": 33,
    "start_time": "2022-12-23T10:21:11.549Z"
   },
   {
    "duration": 40,
    "start_time": "2022-12-23T10:21:11.584Z"
   },
   {
    "duration": 58,
    "start_time": "2022-12-23T10:21:11.626Z"
   },
   {
    "duration": 7,
    "start_time": "2022-12-23T10:21:11.686Z"
   },
   {
    "duration": 41,
    "start_time": "2022-12-23T10:21:11.695Z"
   },
   {
    "duration": 25,
    "start_time": "2022-12-23T10:21:11.737Z"
   },
   {
    "duration": 47,
    "start_time": "2022-12-23T10:21:11.765Z"
   },
   {
    "duration": 29,
    "start_time": "2022-12-23T10:21:11.814Z"
   },
   {
    "duration": 31,
    "start_time": "2022-12-23T10:21:11.844Z"
   },
   {
    "duration": 36,
    "start_time": "2022-12-23T10:21:11.876Z"
   },
   {
    "duration": 34,
    "start_time": "2022-12-23T10:21:11.914Z"
   },
   {
    "duration": 24,
    "start_time": "2022-12-23T10:21:11.950Z"
   },
   {
    "duration": 89,
    "start_time": "2022-12-23T10:21:11.976Z"
   },
   {
    "duration": 10,
    "start_time": "2022-12-23T10:21:12.067Z"
   },
   {
    "duration": 28,
    "start_time": "2022-12-23T10:21:12.079Z"
   },
   {
    "duration": 163,
    "start_time": "2022-12-23T10:21:12.109Z"
   },
   {
    "duration": 16,
    "start_time": "2022-12-23T10:21:12.274Z"
   },
   {
    "duration": 50,
    "start_time": "2022-12-23T10:21:12.295Z"
   },
   {
    "duration": 21,
    "start_time": "2022-12-23T10:21:12.347Z"
   },
   {
    "duration": 27,
    "start_time": "2022-12-23T10:21:12.370Z"
   },
   {
    "duration": 31,
    "start_time": "2022-12-23T10:21:12.399Z"
   },
   {
    "duration": 18,
    "start_time": "2022-12-23T10:21:12.432Z"
   },
   {
    "duration": 195,
    "start_time": "2022-12-23T10:21:12.452Z"
   },
   {
    "duration": 165,
    "start_time": "2022-12-23T10:21:12.648Z"
   },
   {
    "duration": 7,
    "start_time": "2022-12-23T10:21:12.815Z"
   },
   {
    "duration": 26,
    "start_time": "2022-12-23T10:21:12.823Z"
   },
   {
    "duration": 9,
    "start_time": "2022-12-23T10:21:12.851Z"
   },
   {
    "duration": 169,
    "start_time": "2022-12-23T10:21:12.862Z"
   },
   {
    "duration": 189,
    "start_time": "2022-12-23T10:21:13.034Z"
   },
   {
    "duration": 6,
    "start_time": "2022-12-23T10:21:13.225Z"
   },
   {
    "duration": 27,
    "start_time": "2022-12-23T10:21:13.233Z"
   },
   {
    "duration": 16,
    "start_time": "2022-12-23T10:21:13.262Z"
   },
   {
    "duration": 157,
    "start_time": "2022-12-23T10:21:13.280Z"
   },
   {
    "duration": 197,
    "start_time": "2022-12-23T10:21:13.438Z"
   },
   {
    "duration": 7,
    "start_time": "2022-12-23T10:21:13.637Z"
   },
   {
    "duration": 14,
    "start_time": "2022-12-23T10:21:13.645Z"
   },
   {
    "duration": 21,
    "start_time": "2022-12-23T10:21:13.661Z"
   },
   {
    "duration": 5,
    "start_time": "2022-12-23T10:21:13.684Z"
   },
   {
    "duration": 8,
    "start_time": "2022-12-23T10:21:13.712Z"
   },
   {
    "duration": 37,
    "start_time": "2022-12-23T10:21:13.721Z"
   },
   {
    "duration": 11,
    "start_time": "2022-12-23T10:21:13.760Z"
   },
   {
    "duration": 228,
    "start_time": "2022-12-23T10:21:13.774Z"
   },
   {
    "duration": 13,
    "start_time": "2022-12-23T10:21:14.004Z"
   },
   {
    "duration": 8,
    "start_time": "2022-12-23T10:21:14.019Z"
   },
   {
    "duration": 296,
    "start_time": "2022-12-23T10:21:14.028Z"
   },
   {
    "duration": 9,
    "start_time": "2022-12-23T10:21:14.327Z"
   },
   {
    "duration": 254,
    "start_time": "2022-12-23T10:21:14.337Z"
   },
   {
    "duration": 20,
    "start_time": "2022-12-23T10:21:14.593Z"
   },
   {
    "duration": 285,
    "start_time": "2022-12-23T10:21:14.615Z"
   },
   {
    "duration": 11,
    "start_time": "2022-12-23T10:21:14.902Z"
   },
   {
    "duration": 15,
    "start_time": "2022-12-23T10:21:14.915Z"
   },
   {
    "duration": 284,
    "start_time": "2022-12-23T10:21:14.932Z"
   },
   {
    "duration": 9,
    "start_time": "2022-12-23T10:21:15.218Z"
   },
   {
    "duration": 144,
    "start_time": "2022-12-23T10:21:15.229Z"
   },
   {
    "duration": 7,
    "start_time": "2022-12-23T10:21:15.375Z"
   },
   {
    "duration": 12,
    "start_time": "2022-12-23T10:21:15.384Z"
   },
   {
    "duration": 175,
    "start_time": "2022-12-23T10:21:15.398Z"
   },
   {
    "duration": 10,
    "start_time": "2022-12-23T10:21:15.575Z"
   },
   {
    "duration": 297,
    "start_time": "2022-12-23T10:21:15.586Z"
   },
   {
    "duration": 116,
    "start_time": "2022-12-23T10:21:15.885Z"
   },
   {
    "duration": 17,
    "start_time": "2022-12-23T10:21:16.002Z"
   },
   {
    "duration": 234,
    "start_time": "2022-12-23T10:21:16.021Z"
   },
   {
    "duration": 165,
    "start_time": "2022-12-23T10:21:16.257Z"
   },
   {
    "duration": 10,
    "start_time": "2022-12-23T10:21:16.424Z"
   },
   {
    "duration": 293,
    "start_time": "2022-12-23T10:21:16.437Z"
   },
   {
    "duration": 11,
    "start_time": "2022-12-23T10:21:16.732Z"
   },
   {
    "duration": 294,
    "start_time": "2022-12-23T10:21:16.745Z"
   },
   {
    "duration": 10,
    "start_time": "2022-12-23T10:21:17.041Z"
   },
   {
    "duration": 216,
    "start_time": "2022-12-23T10:21:17.053Z"
   },
   {
    "duration": 146,
    "start_time": "2022-12-23T10:21:17.271Z"
   },
   {
    "duration": 160,
    "start_time": "2022-12-23T10:21:17.419Z"
   },
   {
    "duration": 6,
    "start_time": "2022-12-23T10:21:17.585Z"
   },
   {
    "duration": 21,
    "start_time": "2022-12-23T10:21:17.593Z"
   },
   {
    "duration": 266,
    "start_time": "2022-12-23T10:21:17.616Z"
   },
   {
    "duration": 5,
    "start_time": "2022-12-23T10:21:17.884Z"
   },
   {
    "duration": 195,
    "start_time": "2022-12-23T10:21:17.891Z"
   },
   {
    "duration": 6,
    "start_time": "2022-12-23T10:21:18.088Z"
   },
   {
    "duration": 217,
    "start_time": "2022-12-23T10:21:18.095Z"
   },
   {
    "duration": 5,
    "start_time": "2022-12-23T10:21:18.314Z"
   },
   {
    "duration": 192,
    "start_time": "2022-12-23T10:21:18.320Z"
   },
   {
    "duration": 184,
    "start_time": "2022-12-23T10:21:18.513Z"
   },
   {
    "duration": 14,
    "start_time": "2022-12-23T10:21:18.699Z"
   },
   {
    "duration": 164,
    "start_time": "2022-12-23T10:21:18.714Z"
   },
   {
    "duration": 174,
    "start_time": "2022-12-23T10:21:18.880Z"
   },
   {
    "duration": 193,
    "start_time": "2022-12-23T10:21:19.057Z"
   },
   {
    "duration": 6,
    "start_time": "2022-12-23T10:21:19.251Z"
   },
   {
    "duration": 219,
    "start_time": "2022-12-23T10:21:19.258Z"
   },
   {
    "duration": 5,
    "start_time": "2022-12-23T10:21:19.479Z"
   },
   {
    "duration": 169,
    "start_time": "2022-12-23T10:21:19.486Z"
   },
   {
    "duration": 22,
    "start_time": "2022-12-23T10:21:19.657Z"
   },
   {
    "duration": 8,
    "start_time": "2022-12-23T10:21:19.681Z"
   },
   {
    "duration": 24,
    "start_time": "2022-12-23T10:21:19.711Z"
   },
   {
    "duration": 316,
    "start_time": "2022-12-23T10:21:19.736Z"
   },
   {
    "duration": 135,
    "start_time": "2022-12-23T10:36:18.220Z"
   },
   {
    "duration": 14,
    "start_time": "2022-12-23T10:36:18.357Z"
   },
   {
    "duration": 2057,
    "start_time": "2022-12-23T10:36:18.373Z"
   },
   {
    "duration": 12,
    "start_time": "2022-12-23T10:36:20.433Z"
   },
   {
    "duration": 13,
    "start_time": "2022-12-23T10:36:20.447Z"
   },
   {
    "duration": 5,
    "start_time": "2022-12-23T10:36:20.462Z"
   },
   {
    "duration": 22,
    "start_time": "2022-12-23T10:36:20.469Z"
   },
   {
    "duration": 19,
    "start_time": "2022-12-23T10:36:20.493Z"
   },
   {
    "duration": 5,
    "start_time": "2022-12-23T10:36:20.514Z"
   },
   {
    "duration": 9,
    "start_time": "2022-12-23T10:36:20.523Z"
   },
   {
    "duration": 10,
    "start_time": "2022-12-23T10:36:20.534Z"
   },
   {
    "duration": 17,
    "start_time": "2022-12-23T10:36:20.546Z"
   },
   {
    "duration": 80,
    "start_time": "2022-12-23T10:36:20.565Z"
   },
   {
    "duration": 5,
    "start_time": "2022-12-23T10:36:20.647Z"
   },
   {
    "duration": 10,
    "start_time": "2022-12-23T10:36:20.653Z"
   },
   {
    "duration": 8,
    "start_time": "2022-12-23T10:36:20.665Z"
   },
   {
    "duration": 40,
    "start_time": "2022-12-23T10:36:20.675Z"
   },
   {
    "duration": 8,
    "start_time": "2022-12-23T10:36:20.717Z"
   },
   {
    "duration": 13,
    "start_time": "2022-12-23T10:36:20.727Z"
   },
   {
    "duration": 12,
    "start_time": "2022-12-23T10:36:20.741Z"
   },
   {
    "duration": 34,
    "start_time": "2022-12-23T10:36:20.755Z"
   },
   {
    "duration": 27,
    "start_time": "2022-12-23T10:36:20.792Z"
   },
   {
    "duration": 93,
    "start_time": "2022-12-23T10:36:20.822Z"
   },
   {
    "duration": 11,
    "start_time": "2022-12-23T10:36:20.917Z"
   },
   {
    "duration": 12,
    "start_time": "2022-12-23T10:36:20.930Z"
   },
   {
    "duration": 155,
    "start_time": "2022-12-23T10:36:20.944Z"
   },
   {
    "duration": 22,
    "start_time": "2022-12-23T10:36:21.101Z"
   },
   {
    "duration": 8,
    "start_time": "2022-12-23T10:36:21.127Z"
   },
   {
    "duration": 11,
    "start_time": "2022-12-23T10:36:21.136Z"
   },
   {
    "duration": 6,
    "start_time": "2022-12-23T10:36:21.149Z"
   },
   {
    "duration": 16,
    "start_time": "2022-12-23T10:36:21.156Z"
   },
   {
    "duration": 41,
    "start_time": "2022-12-23T10:36:21.174Z"
   },
   {
    "duration": 194,
    "start_time": "2022-12-23T10:36:21.218Z"
   },
   {
    "duration": 182,
    "start_time": "2022-12-23T10:36:21.413Z"
   },
   {
    "duration": 14,
    "start_time": "2022-12-23T10:36:21.598Z"
   },
   {
    "duration": 10,
    "start_time": "2022-12-23T10:36:21.614Z"
   },
   {
    "duration": 10,
    "start_time": "2022-12-23T10:36:21.626Z"
   },
   {
    "duration": 177,
    "start_time": "2022-12-23T10:36:21.638Z"
   },
   {
    "duration": 177,
    "start_time": "2022-12-23T10:36:21.817Z"
   },
   {
    "duration": 6,
    "start_time": "2022-12-23T10:36:21.996Z"
   },
   {
    "duration": 17,
    "start_time": "2022-12-23T10:36:22.003Z"
   },
   {
    "duration": 8,
    "start_time": "2022-12-23T10:36:22.022Z"
   },
   {
    "duration": 196,
    "start_time": "2022-12-23T10:36:22.032Z"
   },
   {
    "duration": 189,
    "start_time": "2022-12-23T10:36:22.230Z"
   },
   {
    "duration": 7,
    "start_time": "2022-12-23T10:36:22.421Z"
   },
   {
    "duration": 11,
    "start_time": "2022-12-23T10:36:22.430Z"
   },
   {
    "duration": 15,
    "start_time": "2022-12-23T10:36:22.443Z"
   },
   {
    "duration": 5,
    "start_time": "2022-12-23T10:36:22.460Z"
   },
   {
    "duration": 12,
    "start_time": "2022-12-23T10:36:22.466Z"
   },
   {
    "duration": 33,
    "start_time": "2022-12-23T10:36:22.480Z"
   },
   {
    "duration": 7,
    "start_time": "2022-12-23T10:36:22.516Z"
   },
   {
    "duration": 210,
    "start_time": "2022-12-23T10:36:22.525Z"
   },
   {
    "duration": 8,
    "start_time": "2022-12-23T10:36:22.737Z"
   },
   {
    "duration": 19,
    "start_time": "2022-12-23T10:36:22.747Z"
   },
   {
    "duration": 280,
    "start_time": "2022-12-23T10:36:22.768Z"
   },
   {
    "duration": 11,
    "start_time": "2022-12-23T10:36:23.050Z"
   },
   {
    "duration": 304,
    "start_time": "2022-12-23T10:36:23.063Z"
   },
   {
    "duration": 10,
    "start_time": "2022-12-23T10:36:23.369Z"
   },
   {
    "duration": 265,
    "start_time": "2022-12-23T10:36:23.381Z"
   },
   {
    "duration": 6,
    "start_time": "2022-12-23T10:36:23.648Z"
   },
   {
    "duration": 10,
    "start_time": "2022-12-23T10:36:23.656Z"
   },
   {
    "duration": 276,
    "start_time": "2022-12-23T10:36:23.667Z"
   },
   {
    "duration": 9,
    "start_time": "2022-12-23T10:36:23.944Z"
   },
   {
    "duration": 146,
    "start_time": "2022-12-23T10:36:23.954Z"
   },
   {
    "duration": 13,
    "start_time": "2022-12-23T10:36:24.101Z"
   },
   {
    "duration": 14,
    "start_time": "2022-12-23T10:36:24.115Z"
   },
   {
    "duration": 169,
    "start_time": "2022-12-23T10:36:24.131Z"
   },
   {
    "duration": 15,
    "start_time": "2022-12-23T10:36:24.302Z"
   },
   {
    "duration": 268,
    "start_time": "2022-12-23T10:36:24.319Z"
   },
   {
    "duration": 112,
    "start_time": "2022-12-23T10:36:24.588Z"
   },
   {
    "duration": 18,
    "start_time": "2022-12-23T10:36:24.702Z"
   },
   {
    "duration": 248,
    "start_time": "2022-12-23T10:36:24.722Z"
   },
   {
    "duration": 164,
    "start_time": "2022-12-23T10:36:24.971Z"
   },
   {
    "duration": 11,
    "start_time": "2022-12-23T10:36:25.137Z"
   },
   {
    "duration": 228,
    "start_time": "2022-12-23T10:36:25.150Z"
   },
   {
    "duration": 10,
    "start_time": "2022-12-23T10:36:25.381Z"
   },
   {
    "duration": 260,
    "start_time": "2022-12-23T10:36:25.392Z"
   },
   {
    "duration": 10,
    "start_time": "2022-12-23T10:36:25.654Z"
   },
   {
    "duration": 203,
    "start_time": "2022-12-23T10:36:25.666Z"
   },
   {
    "duration": 145,
    "start_time": "2022-12-23T10:36:25.871Z"
   },
   {
    "duration": 160,
    "start_time": "2022-12-23T10:36:26.018Z"
   },
   {
    "duration": 8,
    "start_time": "2022-12-23T10:36:26.185Z"
   },
   {
    "duration": 21,
    "start_time": "2022-12-23T10:36:26.211Z"
   },
   {
    "duration": 349,
    "start_time": "2022-12-23T10:36:26.234Z"
   },
   {
    "duration": 8,
    "start_time": "2022-12-23T10:36:26.585Z"
   },
   {
    "duration": 217,
    "start_time": "2022-12-23T10:36:26.595Z"
   },
   {
    "duration": 6,
    "start_time": "2022-12-23T10:36:26.814Z"
   },
   {
    "duration": 199,
    "start_time": "2022-12-23T10:36:26.822Z"
   },
   {
    "duration": 7,
    "start_time": "2022-12-23T10:36:27.023Z"
   },
   {
    "duration": 200,
    "start_time": "2022-12-23T10:36:27.033Z"
   },
   {
    "duration": 193,
    "start_time": "2022-12-23T10:36:27.235Z"
   },
   {
    "duration": 7,
    "start_time": "2022-12-23T10:36:27.430Z"
   },
   {
    "duration": 177,
    "start_time": "2022-12-23T10:36:27.439Z"
   },
   {
    "duration": 155,
    "start_time": "2022-12-23T10:36:27.618Z"
   },
   {
    "duration": 176,
    "start_time": "2022-12-23T10:36:27.775Z"
   },
   {
    "duration": 6,
    "start_time": "2022-12-23T10:36:27.953Z"
   },
   {
    "duration": 204,
    "start_time": "2022-12-23T10:36:27.961Z"
   },
   {
    "duration": 7,
    "start_time": "2022-12-23T10:36:28.168Z"
   },
   {
    "duration": 169,
    "start_time": "2022-12-23T10:36:28.177Z"
   },
   {
    "duration": 22,
    "start_time": "2022-12-23T10:36:28.348Z"
   },
   {
    "duration": 8,
    "start_time": "2022-12-23T10:36:28.372Z"
   },
   {
    "duration": 42,
    "start_time": "2022-12-23T10:36:28.382Z"
   },
   {
    "duration": 318,
    "start_time": "2022-12-23T10:36:28.426Z"
   }
  ],
  "kernelspec": {
   "display_name": "Python 3 (ipykernel)",
   "language": "python",
   "name": "python3"
  },
  "language_info": {
   "codemirror_mode": {
    "name": "ipython",
    "version": 3
   },
   "file_extension": ".py",
   "mimetype": "text/x-python",
   "name": "python",
   "nbconvert_exporter": "python",
   "pygments_lexer": "ipython3",
   "version": "3.10.9"
  },
  "toc": {
   "base_numbering": 1,
   "nav_menu": {},
   "number_sections": true,
   "sideBar": true,
   "skip_h1_title": true,
   "title_cell": "Table of Contents",
   "title_sidebar": "Contents",
   "toc_cell": false,
   "toc_position": {},
   "toc_section_display": true,
   "toc_window_display": false
  }
 },
 "nbformat": 4,
 "nbformat_minor": 2
}

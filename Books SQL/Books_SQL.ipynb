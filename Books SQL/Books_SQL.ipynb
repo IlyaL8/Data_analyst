{
 "cells": [
  {
   "cell_type": "markdown",
   "metadata": {},
   "source": [
    "# Анализ базы данных SQL"
   ]
  },
  {
   "cell_type": "markdown",
   "metadata": {},
   "source": [
    "## Исследуем таблицы — выведем первые строки"
   ]
  },
  {
   "cell_type": "code",
   "execution_count": 1,
   "metadata": {
    "scrolled": true
   },
   "outputs": [],
   "source": [
    "# импортируем библиотеки\n",
    "import pandas as pd\n",
    "from sqlalchemy import text, create_engine\n",
    "\n",
    "# устанавливаем параметры\n",
    "db_config = {'user': 'praktikum_student', # имя пользователя\n",
    "'pwd': 'Sdf4$2;d-d30pp', # пароль\n",
    "'host': 'rc1b-wcoijxj3yxfsf3fs.mdb.yandexcloud.net',\n",
    "'port': 6432, # порт подключения\n",
    "'db': 'data-analyst-final-project-db'} # название базы данных\n",
    "\n",
    "connection_string = 'postgresql://{user}:{pwd}@{host}:{port}/{db}'.format(**db_config)\n",
    "# сохраняем коннектор\n",
    "\n",
    "engine = create_engine(connection_string, connect_args={'sslmode':'require'})\n",
    "# чтобы выполнить SQL-запрос, используем Pandas\n",
    "\n",
    "\n"
   ]
  },
  {
   "cell_type": "markdown",
   "metadata": {},
   "source": [
    "Выведем таблицу books"
   ]
  },
  {
   "cell_type": "code",
   "execution_count": 2,
   "metadata": {},
   "outputs": [
    {
     "data": {
      "text/html": [
       "<div>\n",
       "<style scoped>\n",
       "    .dataframe tbody tr th:only-of-type {\n",
       "        vertical-align: middle;\n",
       "    }\n",
       "\n",
       "    .dataframe tbody tr th {\n",
       "        vertical-align: top;\n",
       "    }\n",
       "\n",
       "    .dataframe thead th {\n",
       "        text-align: right;\n",
       "    }\n",
       "</style>\n",
       "<table border=\"1\" class=\"dataframe\">\n",
       "  <thead>\n",
       "    <tr style=\"text-align: right;\">\n",
       "      <th></th>\n",
       "      <th>book_id</th>\n",
       "      <th>author_id</th>\n",
       "      <th>title</th>\n",
       "      <th>num_pages</th>\n",
       "      <th>publication_date</th>\n",
       "      <th>publisher_id</th>\n",
       "    </tr>\n",
       "  </thead>\n",
       "  <tbody>\n",
       "    <tr>\n",
       "      <th>0</th>\n",
       "      <td>1</td>\n",
       "      <td>546</td>\n",
       "      <td>'Salem's Lot</td>\n",
       "      <td>594</td>\n",
       "      <td>2005-11-01</td>\n",
       "      <td>93</td>\n",
       "    </tr>\n",
       "    <tr>\n",
       "      <th>1</th>\n",
       "      <td>2</td>\n",
       "      <td>465</td>\n",
       "      <td>1 000 Places to See Before You Die</td>\n",
       "      <td>992</td>\n",
       "      <td>2003-05-22</td>\n",
       "      <td>336</td>\n",
       "    </tr>\n",
       "    <tr>\n",
       "      <th>2</th>\n",
       "      <td>3</td>\n",
       "      <td>407</td>\n",
       "      <td>13 Little Blue Envelopes (Little Blue Envelope...</td>\n",
       "      <td>322</td>\n",
       "      <td>2010-12-21</td>\n",
       "      <td>135</td>\n",
       "    </tr>\n",
       "    <tr>\n",
       "      <th>3</th>\n",
       "      <td>4</td>\n",
       "      <td>82</td>\n",
       "      <td>1491: New Revelations of the Americas Before C...</td>\n",
       "      <td>541</td>\n",
       "      <td>2006-10-10</td>\n",
       "      <td>309</td>\n",
       "    </tr>\n",
       "    <tr>\n",
       "      <th>4</th>\n",
       "      <td>5</td>\n",
       "      <td>125</td>\n",
       "      <td>1776</td>\n",
       "      <td>386</td>\n",
       "      <td>2006-07-04</td>\n",
       "      <td>268</td>\n",
       "    </tr>\n",
       "  </tbody>\n",
       "</table>\n",
       "</div>"
      ],
      "text/plain": [
       "   book_id  author_id                                              title  \\\n",
       "0        1        546                                       'Salem's Lot   \n",
       "1        2        465                 1 000 Places to See Before You Die   \n",
       "2        3        407  13 Little Blue Envelopes (Little Blue Envelope...   \n",
       "3        4         82  1491: New Revelations of the Americas Before C...   \n",
       "4        5        125                                               1776   \n",
       "\n",
       "   num_pages publication_date  publisher_id  \n",
       "0        594       2005-11-01            93  \n",
       "1        992       2003-05-22           336  \n",
       "2        322       2010-12-21           135  \n",
       "3        541       2006-10-10           309  \n",
       "4        386       2006-07-04           268  "
      ]
     },
     "execution_count": 2,
     "metadata": {},
     "output_type": "execute_result"
    }
   ],
   "source": [
    "query = '''SELECT * FROM books LIMIT 5'''\n",
    "\n",
    "con=engine.connect()\n",
    "\n",
    "pd.io.sql.read_sql(sql=text(query), con = con)"
   ]
  },
  {
   "cell_type": "markdown",
   "metadata": {},
   "source": [
    "Выведем таблицу authors"
   ]
  },
  {
   "cell_type": "code",
   "execution_count": 3,
   "metadata": {},
   "outputs": [
    {
     "data": {
      "text/html": [
       "<div>\n",
       "<style scoped>\n",
       "    .dataframe tbody tr th:only-of-type {\n",
       "        vertical-align: middle;\n",
       "    }\n",
       "\n",
       "    .dataframe tbody tr th {\n",
       "        vertical-align: top;\n",
       "    }\n",
       "\n",
       "    .dataframe thead th {\n",
       "        text-align: right;\n",
       "    }\n",
       "</style>\n",
       "<table border=\"1\" class=\"dataframe\">\n",
       "  <thead>\n",
       "    <tr style=\"text-align: right;\">\n",
       "      <th></th>\n",
       "      <th>author_id</th>\n",
       "      <th>author</th>\n",
       "    </tr>\n",
       "  </thead>\n",
       "  <tbody>\n",
       "    <tr>\n",
       "      <th>0</th>\n",
       "      <td>1</td>\n",
       "      <td>A.S. Byatt</td>\n",
       "    </tr>\n",
       "    <tr>\n",
       "      <th>1</th>\n",
       "      <td>2</td>\n",
       "      <td>Aesop/Laura Harris/Laura Gibbs</td>\n",
       "    </tr>\n",
       "    <tr>\n",
       "      <th>2</th>\n",
       "      <td>3</td>\n",
       "      <td>Agatha Christie</td>\n",
       "    </tr>\n",
       "    <tr>\n",
       "      <th>3</th>\n",
       "      <td>4</td>\n",
       "      <td>Alan Brennert</td>\n",
       "    </tr>\n",
       "    <tr>\n",
       "      <th>4</th>\n",
       "      <td>5</td>\n",
       "      <td>Alan Moore/David   Lloyd</td>\n",
       "    </tr>\n",
       "  </tbody>\n",
       "</table>\n",
       "</div>"
      ],
      "text/plain": [
       "   author_id                          author\n",
       "0          1                      A.S. Byatt\n",
       "1          2  Aesop/Laura Harris/Laura Gibbs\n",
       "2          3                 Agatha Christie\n",
       "3          4                   Alan Brennert\n",
       "4          5        Alan Moore/David   Lloyd"
      ]
     },
     "execution_count": 3,
     "metadata": {},
     "output_type": "execute_result"
    }
   ],
   "source": [
    "query = '''SELECT * FROM  authors LIMIT 5'''\n",
    "\n",
    "con=engine.connect()\n",
    "\n",
    "pd.io.sql.read_sql(sql=text(query), con = con)"
   ]
  },
  {
   "cell_type": "markdown",
   "metadata": {},
   "source": [
    "Выведем таблицу publishers"
   ]
  },
  {
   "cell_type": "code",
   "execution_count": 4,
   "metadata": {},
   "outputs": [
    {
     "data": {
      "text/html": [
       "<div>\n",
       "<style scoped>\n",
       "    .dataframe tbody tr th:only-of-type {\n",
       "        vertical-align: middle;\n",
       "    }\n",
       "\n",
       "    .dataframe tbody tr th {\n",
       "        vertical-align: top;\n",
       "    }\n",
       "\n",
       "    .dataframe thead th {\n",
       "        text-align: right;\n",
       "    }\n",
       "</style>\n",
       "<table border=\"1\" class=\"dataframe\">\n",
       "  <thead>\n",
       "    <tr style=\"text-align: right;\">\n",
       "      <th></th>\n",
       "      <th>publisher_id</th>\n",
       "      <th>publisher</th>\n",
       "    </tr>\n",
       "  </thead>\n",
       "  <tbody>\n",
       "    <tr>\n",
       "      <th>0</th>\n",
       "      <td>1</td>\n",
       "      <td>Ace</td>\n",
       "    </tr>\n",
       "    <tr>\n",
       "      <th>1</th>\n",
       "      <td>2</td>\n",
       "      <td>Ace Book</td>\n",
       "    </tr>\n",
       "    <tr>\n",
       "      <th>2</th>\n",
       "      <td>3</td>\n",
       "      <td>Ace Books</td>\n",
       "    </tr>\n",
       "    <tr>\n",
       "      <th>3</th>\n",
       "      <td>4</td>\n",
       "      <td>Ace Hardcover</td>\n",
       "    </tr>\n",
       "    <tr>\n",
       "      <th>4</th>\n",
       "      <td>5</td>\n",
       "      <td>Addison Wesley Publishing Company</td>\n",
       "    </tr>\n",
       "  </tbody>\n",
       "</table>\n",
       "</div>"
      ],
      "text/plain": [
       "   publisher_id                          publisher\n",
       "0             1                                Ace\n",
       "1             2                           Ace Book\n",
       "2             3                          Ace Books\n",
       "3             4                      Ace Hardcover\n",
       "4             5  Addison Wesley Publishing Company"
      ]
     },
     "execution_count": 4,
     "metadata": {},
     "output_type": "execute_result"
    }
   ],
   "source": [
    "query = '''SELECT * FROM  publishers LIMIT 5'''\n",
    "\n",
    "con=engine.connect()\n",
    "\n",
    "pd.io.sql.read_sql(sql=text(query), con = con)"
   ]
  },
  {
   "cell_type": "markdown",
   "metadata": {},
   "source": [
    "Выведем таблицу ratings"
   ]
  },
  {
   "cell_type": "code",
   "execution_count": 5,
   "metadata": {},
   "outputs": [
    {
     "data": {
      "text/html": [
       "<div>\n",
       "<style scoped>\n",
       "    .dataframe tbody tr th:only-of-type {\n",
       "        vertical-align: middle;\n",
       "    }\n",
       "\n",
       "    .dataframe tbody tr th {\n",
       "        vertical-align: top;\n",
       "    }\n",
       "\n",
       "    .dataframe thead th {\n",
       "        text-align: right;\n",
       "    }\n",
       "</style>\n",
       "<table border=\"1\" class=\"dataframe\">\n",
       "  <thead>\n",
       "    <tr style=\"text-align: right;\">\n",
       "      <th></th>\n",
       "      <th>rating_id</th>\n",
       "      <th>book_id</th>\n",
       "      <th>username</th>\n",
       "      <th>rating</th>\n",
       "    </tr>\n",
       "  </thead>\n",
       "  <tbody>\n",
       "    <tr>\n",
       "      <th>0</th>\n",
       "      <td>1</td>\n",
       "      <td>1</td>\n",
       "      <td>ryanfranco</td>\n",
       "      <td>4</td>\n",
       "    </tr>\n",
       "    <tr>\n",
       "      <th>1</th>\n",
       "      <td>2</td>\n",
       "      <td>1</td>\n",
       "      <td>grantpatricia</td>\n",
       "      <td>2</td>\n",
       "    </tr>\n",
       "    <tr>\n",
       "      <th>2</th>\n",
       "      <td>3</td>\n",
       "      <td>1</td>\n",
       "      <td>brandtandrea</td>\n",
       "      <td>5</td>\n",
       "    </tr>\n",
       "    <tr>\n",
       "      <th>3</th>\n",
       "      <td>4</td>\n",
       "      <td>2</td>\n",
       "      <td>lorichen</td>\n",
       "      <td>3</td>\n",
       "    </tr>\n",
       "    <tr>\n",
       "      <th>4</th>\n",
       "      <td>5</td>\n",
       "      <td>2</td>\n",
       "      <td>mariokeller</td>\n",
       "      <td>2</td>\n",
       "    </tr>\n",
       "  </tbody>\n",
       "</table>\n",
       "</div>"
      ],
      "text/plain": [
       "   rating_id  book_id       username  rating\n",
       "0          1        1     ryanfranco       4\n",
       "1          2        1  grantpatricia       2\n",
       "2          3        1   brandtandrea       5\n",
       "3          4        2       lorichen       3\n",
       "4          5        2    mariokeller       2"
      ]
     },
     "execution_count": 5,
     "metadata": {},
     "output_type": "execute_result"
    }
   ],
   "source": [
    "query = '''SELECT * FROM  ratings LIMIT 5'''\n",
    "\n",
    "con=engine.connect()\n",
    "\n",
    "pd.io.sql.read_sql(sql=text(query), con = con)"
   ]
  },
  {
   "cell_type": "markdown",
   "metadata": {},
   "source": [
    "Выведем таблицу reviews"
   ]
  },
  {
   "cell_type": "code",
   "execution_count": 6,
   "metadata": {},
   "outputs": [
    {
     "data": {
      "text/html": [
       "<div>\n",
       "<style scoped>\n",
       "    .dataframe tbody tr th:only-of-type {\n",
       "        vertical-align: middle;\n",
       "    }\n",
       "\n",
       "    .dataframe tbody tr th {\n",
       "        vertical-align: top;\n",
       "    }\n",
       "\n",
       "    .dataframe thead th {\n",
       "        text-align: right;\n",
       "    }\n",
       "</style>\n",
       "<table border=\"1\" class=\"dataframe\">\n",
       "  <thead>\n",
       "    <tr style=\"text-align: right;\">\n",
       "      <th></th>\n",
       "      <th>review_id</th>\n",
       "      <th>book_id</th>\n",
       "      <th>username</th>\n",
       "      <th>text</th>\n",
       "    </tr>\n",
       "  </thead>\n",
       "  <tbody>\n",
       "    <tr>\n",
       "      <th>0</th>\n",
       "      <td>1</td>\n",
       "      <td>1</td>\n",
       "      <td>brandtandrea</td>\n",
       "      <td>Mention society tell send professor analysis. ...</td>\n",
       "    </tr>\n",
       "    <tr>\n",
       "      <th>1</th>\n",
       "      <td>2</td>\n",
       "      <td>1</td>\n",
       "      <td>ryanfranco</td>\n",
       "      <td>Foot glass pretty audience hit themselves. Amo...</td>\n",
       "    </tr>\n",
       "    <tr>\n",
       "      <th>2</th>\n",
       "      <td>3</td>\n",
       "      <td>2</td>\n",
       "      <td>lorichen</td>\n",
       "      <td>Listen treat keep worry. Miss husband tax but ...</td>\n",
       "    </tr>\n",
       "    <tr>\n",
       "      <th>3</th>\n",
       "      <td>4</td>\n",
       "      <td>3</td>\n",
       "      <td>johnsonamanda</td>\n",
       "      <td>Finally month interesting blue could nature cu...</td>\n",
       "    </tr>\n",
       "    <tr>\n",
       "      <th>4</th>\n",
       "      <td>5</td>\n",
       "      <td>3</td>\n",
       "      <td>scotttamara</td>\n",
       "      <td>Nation purpose heavy give wait song will. List...</td>\n",
       "    </tr>\n",
       "  </tbody>\n",
       "</table>\n",
       "</div>"
      ],
      "text/plain": [
       "   review_id  book_id       username  \\\n",
       "0          1        1   brandtandrea   \n",
       "1          2        1     ryanfranco   \n",
       "2          3        2       lorichen   \n",
       "3          4        3  johnsonamanda   \n",
       "4          5        3    scotttamara   \n",
       "\n",
       "                                                text  \n",
       "0  Mention society tell send professor analysis. ...  \n",
       "1  Foot glass pretty audience hit themselves. Amo...  \n",
       "2  Listen treat keep worry. Miss husband tax but ...  \n",
       "3  Finally month interesting blue could nature cu...  \n",
       "4  Nation purpose heavy give wait song will. List...  "
      ]
     },
     "execution_count": 6,
     "metadata": {},
     "output_type": "execute_result"
    }
   ],
   "source": [
    "query = '''SELECT * FROM  reviews LIMIT 5'''\n",
    "\n",
    "con=engine.connect()\n",
    "\n",
    "pd.io.sql.read_sql(sql=text(query), con = con)"
   ]
  },
  {
   "cell_type": "markdown",
   "metadata": {},
   "source": [
    "## SQL запросы "
   ]
  },
  {
   "cell_type": "markdown",
   "metadata": {},
   "source": [
    "### Посчитаем, сколько книг вышло после 1 января 2000 года"
   ]
  },
  {
   "cell_type": "code",
   "execution_count": 7,
   "metadata": {
    "scrolled": true
   },
   "outputs": [
    {
     "data": {
      "text/html": [
       "<div>\n",
       "<style scoped>\n",
       "    .dataframe tbody tr th:only-of-type {\n",
       "        vertical-align: middle;\n",
       "    }\n",
       "\n",
       "    .dataframe tbody tr th {\n",
       "        vertical-align: top;\n",
       "    }\n",
       "\n",
       "    .dataframe thead th {\n",
       "        text-align: right;\n",
       "    }\n",
       "</style>\n",
       "<table border=\"1\" class=\"dataframe\">\n",
       "  <thead>\n",
       "    <tr style=\"text-align: right;\">\n",
       "      <th></th>\n",
       "      <th>count</th>\n",
       "    </tr>\n",
       "  </thead>\n",
       "  <tbody>\n",
       "    <tr>\n",
       "      <th>0</th>\n",
       "      <td>819</td>\n",
       "    </tr>\n",
       "  </tbody>\n",
       "</table>\n",
       "</div>"
      ],
      "text/plain": [
       "   count\n",
       "0    819"
      ]
     },
     "execution_count": 7,
     "metadata": {},
     "output_type": "execute_result"
    }
   ],
   "source": [
    "query = '''\n",
    "           SELECT COUNT(book_id) \n",
    "           FROM  books \n",
    "           WHERE publication_date > '2000-01-01'\n",
    "        '''\n",
    "\n",
    "con=engine.connect()\n",
    "pd.io.sql.read_sql(sql=text(query), con = con)"
   ]
  },
  {
   "cell_type": "markdown",
   "metadata": {},
   "source": [
    "Вышло 819 книг"
   ]
  },
  {
   "cell_type": "markdown",
   "metadata": {},
   "source": [
    "### Для каждой книги посчитаем количество обзоров и среднюю оценку"
   ]
  },
  {
   "cell_type": "code",
   "execution_count": 8,
   "metadata": {
    "scrolled": false
   },
   "outputs": [
    {
     "data": {
      "text/html": [
       "<div>\n",
       "<style scoped>\n",
       "    .dataframe tbody tr th:only-of-type {\n",
       "        vertical-align: middle;\n",
       "    }\n",
       "\n",
       "    .dataframe tbody tr th {\n",
       "        vertical-align: top;\n",
       "    }\n",
       "\n",
       "    .dataframe thead th {\n",
       "        text-align: right;\n",
       "    }\n",
       "</style>\n",
       "<table border=\"1\" class=\"dataframe\">\n",
       "  <thead>\n",
       "    <tr style=\"text-align: right;\">\n",
       "      <th></th>\n",
       "      <th>book_id</th>\n",
       "      <th>title</th>\n",
       "      <th>count</th>\n",
       "      <th>round</th>\n",
       "    </tr>\n",
       "  </thead>\n",
       "  <tbody>\n",
       "    <tr>\n",
       "      <th>0</th>\n",
       "      <td>17</td>\n",
       "      <td>A Dirty Job (Grim Reaper  #1)</td>\n",
       "      <td>4</td>\n",
       "      <td>5.00</td>\n",
       "    </tr>\n",
       "    <tr>\n",
       "      <th>1</th>\n",
       "      <td>553</td>\n",
       "      <td>School's Out—Forever (Maximum Ride  #2)</td>\n",
       "      <td>3</td>\n",
       "      <td>5.00</td>\n",
       "    </tr>\n",
       "    <tr>\n",
       "      <th>2</th>\n",
       "      <td>444</td>\n",
       "      <td>Moneyball: The Art of Winning an Unfair Game</td>\n",
       "      <td>3</td>\n",
       "      <td>5.00</td>\n",
       "    </tr>\n",
       "    <tr>\n",
       "      <th>3</th>\n",
       "      <td>642</td>\n",
       "      <td>The Big Bad Wolf  (Alex Cross  #9)</td>\n",
       "      <td>2</td>\n",
       "      <td>5.00</td>\n",
       "    </tr>\n",
       "    <tr>\n",
       "      <th>4</th>\n",
       "      <td>967</td>\n",
       "      <td>Welcome to Temptation (Dempseys  #1)</td>\n",
       "      <td>2</td>\n",
       "      <td>5.00</td>\n",
       "    </tr>\n",
       "    <tr>\n",
       "      <th>...</th>\n",
       "      <td>...</td>\n",
       "      <td>...</td>\n",
       "      <td>...</td>\n",
       "      <td>...</td>\n",
       "    </tr>\n",
       "    <tr>\n",
       "      <th>995</th>\n",
       "      <td>915</td>\n",
       "      <td>The World Is Flat: A Brief History of the Twen...</td>\n",
       "      <td>3</td>\n",
       "      <td>2.25</td>\n",
       "    </tr>\n",
       "    <tr>\n",
       "      <th>996</th>\n",
       "      <td>202</td>\n",
       "      <td>Drowning Ruth</td>\n",
       "      <td>3</td>\n",
       "      <td>2.00</td>\n",
       "    </tr>\n",
       "    <tr>\n",
       "      <th>997</th>\n",
       "      <td>316</td>\n",
       "      <td>His Excellency: George Washington</td>\n",
       "      <td>2</td>\n",
       "      <td>2.00</td>\n",
       "    </tr>\n",
       "    <tr>\n",
       "      <th>998</th>\n",
       "      <td>371</td>\n",
       "      <td>Junky</td>\n",
       "      <td>2</td>\n",
       "      <td>2.00</td>\n",
       "    </tr>\n",
       "    <tr>\n",
       "      <th>999</th>\n",
       "      <td>303</td>\n",
       "      <td>Harvesting the Heart</td>\n",
       "      <td>2</td>\n",
       "      <td>1.50</td>\n",
       "    </tr>\n",
       "  </tbody>\n",
       "</table>\n",
       "<p>1000 rows × 4 columns</p>\n",
       "</div>"
      ],
      "text/plain": [
       "     book_id                                              title  count  round\n",
       "0         17                      A Dirty Job (Grim Reaper  #1)      4   5.00\n",
       "1        553            School's Out—Forever (Maximum Ride  #2)      3   5.00\n",
       "2        444       Moneyball: The Art of Winning an Unfair Game      3   5.00\n",
       "3        642                 The Big Bad Wolf  (Alex Cross  #9)      2   5.00\n",
       "4        967               Welcome to Temptation (Dempseys  #1)      2   5.00\n",
       "..       ...                                                ...    ...    ...\n",
       "995      915  The World Is Flat: A Brief History of the Twen...      3   2.25\n",
       "996      202                                      Drowning Ruth      3   2.00\n",
       "997      316                  His Excellency: George Washington      2   2.00\n",
       "998      371                                              Junky      2   2.00\n",
       "999      303                               Harvesting the Heart      2   1.50\n",
       "\n",
       "[1000 rows x 4 columns]"
      ]
     },
     "execution_count": 8,
     "metadata": {},
     "output_type": "execute_result"
    }
   ],
   "source": [
    "query = '''\n",
    "           SELECT b.book_id,\n",
    "                  b.title,\n",
    "                  COUNT(DISTINCT rv.review_id),\n",
    "                  ROUND(AVG(rt.rating), 2)\n",
    "           FROM  books AS b\n",
    "           LEFT JOIN reviews AS rv ON b.book_id = rv.book_id\n",
    "           LEFT JOIN ratings AS rt ON b.book_id = rt.book_id\n",
    "           GROUP BY b.book_id\n",
    "           ORDER BY ROUND(AVG(rt.rating), 2) DESC, COUNT(DISTINCT rv.review_id) DESC\n",
    "           \n",
    "        '''\n",
    "\n",
    "con=engine.connect()\n",
    "pd.io.sql.read_sql(sql=text(query), con = con)"
   ]
  },
  {
   "cell_type": "markdown",
   "metadata": {},
   "source": [
    "Книга A Dirty Job (Grim Reaper #1) имеет набольшее количество обзоров при высшей оценке"
   ]
  },
  {
   "cell_type": "markdown",
   "metadata": {},
   "source": [
    "### Определим издательство, которое выпустило наибольшее число книг толще 50 страниц — так мы исключим из анализа брошюры;"
   ]
  },
  {
   "cell_type": "code",
   "execution_count": 9,
   "metadata": {},
   "outputs": [
    {
     "data": {
      "text/html": [
       "<div>\n",
       "<style scoped>\n",
       "    .dataframe tbody tr th:only-of-type {\n",
       "        vertical-align: middle;\n",
       "    }\n",
       "\n",
       "    .dataframe tbody tr th {\n",
       "        vertical-align: top;\n",
       "    }\n",
       "\n",
       "    .dataframe thead th {\n",
       "        text-align: right;\n",
       "    }\n",
       "</style>\n",
       "<table border=\"1\" class=\"dataframe\">\n",
       "  <thead>\n",
       "    <tr style=\"text-align: right;\">\n",
       "      <th></th>\n",
       "      <th>publisher</th>\n",
       "      <th>count</th>\n",
       "    </tr>\n",
       "  </thead>\n",
       "  <tbody>\n",
       "    <tr>\n",
       "      <th>0</th>\n",
       "      <td>Penguin Books</td>\n",
       "      <td>42</td>\n",
       "    </tr>\n",
       "  </tbody>\n",
       "</table>\n",
       "</div>"
      ],
      "text/plain": [
       "       publisher  count\n",
       "0  Penguin Books     42"
      ]
     },
     "execution_count": 9,
     "metadata": {},
     "output_type": "execute_result"
    }
   ],
   "source": [
    "query = '''\n",
    "           SELECT p.publisher,\n",
    "                  COUNT(b.book_id)\n",
    "           FROM  books AS b\n",
    "           LEFT JOIN publishers AS p ON b.publisher_id = p.publisher_id\n",
    "           WHERE b.num_pages > '50'\n",
    "           GROUP BY p.publisher\n",
    "           ORDER BY COUNT(b.book_id) DESC\n",
    "           LIMIT 1\n",
    "        '''\n",
    "\n",
    "con=engine.connect()\n",
    "pd.io.sql.read_sql(sql=text(query), con = con)"
   ]
  },
  {
   "cell_type": "markdown",
   "metadata": {},
   "source": [
    "Издательство Penguin Books выпустило 42 книги"
   ]
  },
  {
   "cell_type": "markdown",
   "metadata": {},
   "source": [
    "### Определим автора с самой высокой средней оценкой книг — учтем только книги с 50 и более оценками"
   ]
  },
  {
   "cell_type": "code",
   "execution_count": 10,
   "metadata": {},
   "outputs": [
    {
     "data": {
      "text/html": [
       "<div>\n",
       "<style scoped>\n",
       "    .dataframe tbody tr th:only-of-type {\n",
       "        vertical-align: middle;\n",
       "    }\n",
       "\n",
       "    .dataframe tbody tr th {\n",
       "        vertical-align: top;\n",
       "    }\n",
       "\n",
       "    .dataframe thead th {\n",
       "        text-align: right;\n",
       "    }\n",
       "</style>\n",
       "<table border=\"1\" class=\"dataframe\">\n",
       "  <thead>\n",
       "    <tr style=\"text-align: right;\">\n",
       "      <th></th>\n",
       "      <th>author</th>\n",
       "      <th>rating</th>\n",
       "    </tr>\n",
       "  </thead>\n",
       "  <tbody>\n",
       "    <tr>\n",
       "      <th>0</th>\n",
       "      <td>J.K. Rowling/Mary GrandPré</td>\n",
       "      <td>4.29</td>\n",
       "    </tr>\n",
       "  </tbody>\n",
       "</table>\n",
       "</div>"
      ],
      "text/plain": [
       "                       author  rating\n",
       "0  J.K. Rowling/Mary GrandPré    4.29"
      ]
     },
     "execution_count": 10,
     "metadata": {},
     "output_type": "execute_result"
    }
   ],
   "source": [
    "query = '''\n",
    "           WITH b_r AS (SELECT book_id,\n",
    "                  COUNT(rating_id)\n",
    "           FROM ratings\n",
    "           GROUP BY book_id\n",
    "           HAVING COUNT(rating_id) > '50')\n",
    "           \n",
    "           SELECT a.author,\n",
    "                  ROUND(AVG(rt.rating), 2) AS rating\n",
    "           FROM  books AS b\n",
    "           LEFT JOIN ratings AS rt ON b.book_id = rt.book_id\n",
    "           LEFT JOIN authors AS a ON b.author_id = a.author_id\n",
    "           JOIN b_r ON b.book_id = b_r.book_id\n",
    "           GROUP BY a.author\n",
    "           ORDER BY rating DESC\n",
    "           LIMIT 1\n",
    "        '''\n",
    "\n",
    "con=engine.connect()\n",
    "pd.io.sql.read_sql(sql=text(query), con = con)"
   ]
  },
  {
   "cell_type": "markdown",
   "metadata": {},
   "source": [
    "Автор J.K. Rowling/Mary GrandPré имеет самую высокую оценку "
   ]
  },
  {
   "cell_type": "markdown",
   "metadata": {},
   "source": [
    "### Посчитаем среднее количество обзоров от пользователей, которые поставили больше 48 оценок."
   ]
  },
  {
   "cell_type": "code",
   "execution_count": 11,
   "metadata": {},
   "outputs": [
    {
     "data": {
      "text/html": [
       "<div>\n",
       "<style scoped>\n",
       "    .dataframe tbody tr th:only-of-type {\n",
       "        vertical-align: middle;\n",
       "    }\n",
       "\n",
       "    .dataframe tbody tr th {\n",
       "        vertical-align: top;\n",
       "    }\n",
       "\n",
       "    .dataframe thead th {\n",
       "        text-align: right;\n",
       "    }\n",
       "</style>\n",
       "<table border=\"1\" class=\"dataframe\">\n",
       "  <thead>\n",
       "    <tr style=\"text-align: right;\">\n",
       "      <th></th>\n",
       "      <th>avg_review</th>\n",
       "    </tr>\n",
       "  </thead>\n",
       "  <tbody>\n",
       "    <tr>\n",
       "      <th>0</th>\n",
       "      <td>24</td>\n",
       "    </tr>\n",
       "  </tbody>\n",
       "</table>\n",
       "</div>"
      ],
      "text/plain": [
       "   avg_review\n",
       "0          24"
      ]
     },
     "execution_count": 11,
     "metadata": {},
     "output_type": "execute_result"
    }
   ],
   "source": [
    "query = '''\n",
    "           WITH u AS (SELECT username,\n",
    "                  COUNT(rating_id)\n",
    "           FROM ratings\n",
    "           GROUP BY username\n",
    "           HAVING COUNT(rating_id) > '48')\n",
    "           \n",
    "           SELECT COUNT(r.review_id) / COUNT(DISTINCT r.username) avg_review\n",
    "           FROM reviews AS r\n",
    "           JOIN u ON r.username = u.username\n",
    "        '''\n",
    "\n",
    "con=engine.connect()\n",
    "pd.io.sql.read_sql(sql=text(query), con = con)"
   ]
  },
  {
   "cell_type": "markdown",
   "metadata": {},
   "source": [
    "Таких пользователей 24"
   ]
  },
  {
   "cell_type": "markdown",
   "metadata": {},
   "source": [
    "## Вывод"
   ]
  },
  {
   "cell_type": "markdown",
   "metadata": {},
   "source": [
    "- 819 книг вышло после 1 января 2000 года;\n",
    "- Книга A Dirty Job (Grim Reaper #1) имеет набольшее количество обзоров при высшей оценке;\n",
    "- Издательство Penguin Books выпустило наибольшее число книг толще 50 страниц - 42;\n",
    "- Автором с самой высокой средней оценкой книг с 50 и более оценками является J.K. Rowling/Mary GrandPré - 4.29;\n",
    "- Среднее количество обзоров от пользователей, которые поставили больше 48 оценок - 24."
   ]
  },
  {
   "cell_type": "code",
   "execution_count": null,
   "metadata": {},
   "outputs": [],
   "source": []
  }
 ],
 "metadata": {
  "ExecuteTimeLog": [
   {
    "duration": 5484,
    "start_time": "2023-05-30T07:03:39.253Z"
   },
   {
    "duration": 50,
    "start_time": "2023-05-30T07:19:36.081Z"
   },
   {
    "duration": 11,
    "start_time": "2023-05-30T07:20:16.897Z"
   },
   {
    "duration": 12,
    "start_time": "2023-05-30T07:20:44.273Z"
   },
   {
    "duration": 13,
    "start_time": "2023-05-30T07:21:15.176Z"
   },
   {
    "duration": 84,
    "start_time": "2023-05-30T07:40:18.575Z"
   },
   {
    "duration": 11,
    "start_time": "2023-05-30T07:40:26.391Z"
   },
   {
    "duration": 53,
    "start_time": "2023-05-30T07:53:09.242Z"
   },
   {
    "duration": 20,
    "start_time": "2023-05-30T07:55:51.063Z"
   },
   {
    "duration": 40,
    "start_time": "2023-05-30T07:56:16.669Z"
   },
   {
    "duration": 41,
    "start_time": "2023-05-30T07:57:53.446Z"
   },
   {
    "duration": 68,
    "start_time": "2023-05-30T07:58:39.981Z"
   },
   {
    "duration": 22,
    "start_time": "2023-05-30T07:59:16.000Z"
   },
   {
    "duration": 23,
    "start_time": "2023-05-30T07:59:25.558Z"
   },
   {
    "duration": 39,
    "start_time": "2023-05-30T08:00:48.326Z"
   },
   {
    "duration": 27,
    "start_time": "2023-05-30T08:00:48.368Z"
   },
   {
    "duration": 11,
    "start_time": "2023-05-30T08:00:48.397Z"
   },
   {
    "duration": 12,
    "start_time": "2023-05-30T08:00:48.409Z"
   },
   {
    "duration": 12,
    "start_time": "2023-05-30T08:00:48.424Z"
   },
   {
    "duration": 10,
    "start_time": "2023-05-30T08:00:48.438Z"
   },
   {
    "duration": 37,
    "start_time": "2023-05-30T08:00:48.450Z"
   },
   {
    "duration": 23,
    "start_time": "2023-05-30T08:01:44.381Z"
   },
   {
    "duration": 66,
    "start_time": "2023-05-30T08:02:34.604Z"
   },
   {
    "duration": 38,
    "start_time": "2023-05-30T08:03:05.205Z"
   },
   {
    "duration": 21,
    "start_time": "2023-05-30T08:04:12.180Z"
   },
   {
    "duration": 35,
    "start_time": "2023-05-30T08:04:24.250Z"
   },
   {
    "duration": 59,
    "start_time": "2023-05-30T08:04:35.197Z"
   },
   {
    "duration": 40,
    "start_time": "2023-05-30T08:05:10.025Z"
   },
   {
    "duration": 29,
    "start_time": "2023-05-30T08:06:38.148Z"
   },
   {
    "duration": 19,
    "start_time": "2023-05-30T08:11:20.592Z"
   },
   {
    "duration": 20,
    "start_time": "2023-05-30T08:12:25.899Z"
   },
   {
    "duration": 18,
    "start_time": "2023-05-30T08:12:51.596Z"
   },
   {
    "duration": 40,
    "start_time": "2023-05-30T08:13:17.196Z"
   },
   {
    "duration": 19,
    "start_time": "2023-05-30T08:13:41.020Z"
   },
   {
    "duration": 45,
    "start_time": "2023-05-30T08:13:51.171Z"
   },
   {
    "duration": 13,
    "start_time": "2023-05-30T08:14:09.948Z"
   },
   {
    "duration": 47,
    "start_time": "2023-05-30T08:17:10.477Z"
   },
   {
    "duration": 37,
    "start_time": "2023-05-30T08:17:10.526Z"
   },
   {
    "duration": 11,
    "start_time": "2023-05-30T08:17:10.564Z"
   },
   {
    "duration": 12,
    "start_time": "2023-05-30T08:17:10.577Z"
   },
   {
    "duration": 12,
    "start_time": "2023-05-30T08:17:10.591Z"
   },
   {
    "duration": 10,
    "start_time": "2023-05-30T08:17:10.604Z"
   },
   {
    "duration": 30,
    "start_time": "2023-05-30T08:17:10.615Z"
   },
   {
    "duration": 12,
    "start_time": "2023-05-30T08:17:10.647Z"
   },
   {
    "duration": 28,
    "start_time": "2023-05-30T08:17:10.661Z"
   },
   {
    "duration": 19,
    "start_time": "2023-05-30T08:20:05.548Z"
   },
   {
    "duration": 43,
    "start_time": "2023-05-30T08:20:49.810Z"
   },
   {
    "duration": 21,
    "start_time": "2023-05-30T08:22:28.754Z"
   },
   {
    "duration": 21,
    "start_time": "2023-05-30T08:22:45.426Z"
   },
   {
    "duration": 42,
    "start_time": "2023-05-30T08:22:49.826Z"
   },
   {
    "duration": 35,
    "start_time": "2023-05-30T08:25:47.170Z"
   },
   {
    "duration": 18,
    "start_time": "2023-05-30T08:26:53.962Z"
   },
   {
    "duration": 17,
    "start_time": "2023-05-30T08:27:23.690Z"
   },
   {
    "duration": 17,
    "start_time": "2023-05-30T08:27:41.794Z"
   },
   {
    "duration": 18,
    "start_time": "2023-05-30T08:28:10.227Z"
   },
   {
    "duration": 19,
    "start_time": "2023-05-30T08:29:07.162Z"
   },
   {
    "duration": 21,
    "start_time": "2023-05-30T08:29:26.946Z"
   },
   {
    "duration": 18,
    "start_time": "2023-05-30T08:29:37.963Z"
   },
   {
    "duration": 29,
    "start_time": "2023-05-30T08:30:58.779Z"
   },
   {
    "duration": 22,
    "start_time": "2023-05-30T08:31:18.141Z"
   },
   {
    "duration": 51,
    "start_time": "2023-05-30T08:31:24.979Z"
   },
   {
    "duration": 64,
    "start_time": "2023-05-30T08:33:09.706Z"
   },
   {
    "duration": 20,
    "start_time": "2023-05-30T08:33:47.497Z"
   },
   {
    "duration": 18,
    "start_time": "2023-05-30T08:33:54.882Z"
   },
   {
    "duration": 17,
    "start_time": "2023-05-30T08:34:48.763Z"
   },
   {
    "duration": 22,
    "start_time": "2023-05-30T08:35:06.922Z"
   },
   {
    "duration": 16,
    "start_time": "2023-05-30T08:35:11.569Z"
   },
   {
    "duration": 19,
    "start_time": "2023-05-30T08:35:26.713Z"
   },
   {
    "duration": 31,
    "start_time": "2023-05-30T08:41:32.976Z"
   },
   {
    "duration": 30,
    "start_time": "2023-05-30T08:41:38.249Z"
   },
   {
    "duration": 17,
    "start_time": "2023-05-30T08:46:47.826Z"
   },
   {
    "duration": 21,
    "start_time": "2023-05-30T08:47:09.128Z"
   },
   {
    "duration": 20,
    "start_time": "2023-05-30T08:48:07.937Z"
   },
   {
    "duration": 30,
    "start_time": "2023-05-30T08:53:50.895Z"
   },
   {
    "duration": 19,
    "start_time": "2023-05-30T08:54:36.826Z"
   },
   {
    "duration": 21,
    "start_time": "2023-05-30T08:54:45.794Z"
   },
   {
    "duration": 62,
    "start_time": "2023-05-30T08:56:18.952Z"
   },
   {
    "duration": 37,
    "start_time": "2023-05-30T08:56:36.142Z"
   },
   {
    "duration": 29,
    "start_time": "2023-05-30T08:56:53.426Z"
   },
   {
    "duration": 20,
    "start_time": "2023-05-30T08:57:04.843Z"
   },
   {
    "duration": 28,
    "start_time": "2023-05-30T08:58:48.522Z"
   },
   {
    "duration": 29,
    "start_time": "2023-05-30T08:58:54.987Z"
   },
   {
    "duration": 27,
    "start_time": "2023-05-30T08:59:52.863Z"
   },
   {
    "duration": 31,
    "start_time": "2023-05-30T09:00:01.695Z"
   },
   {
    "duration": 28,
    "start_time": "2023-05-30T09:01:52.423Z"
   },
   {
    "duration": 18,
    "start_time": "2023-05-30T09:03:23.000Z"
   },
   {
    "duration": 27,
    "start_time": "2023-05-30T09:03:31.669Z"
   },
   {
    "duration": 18,
    "start_time": "2023-05-30T09:03:35.158Z"
   },
   {
    "duration": 18,
    "start_time": "2023-05-30T09:03:44.046Z"
   },
   {
    "duration": 28,
    "start_time": "2023-05-30T09:04:03.694Z"
   },
   {
    "duration": 38,
    "start_time": "2023-05-30T09:05:33.566Z"
   },
   {
    "duration": 28,
    "start_time": "2023-05-30T09:05:42.342Z"
   },
   {
    "duration": 22,
    "start_time": "2023-05-30T09:07:04.527Z"
   },
   {
    "duration": 33,
    "start_time": "2023-05-30T09:07:10.566Z"
   },
   {
    "duration": 66,
    "start_time": "2023-05-30T09:13:26.492Z"
   },
   {
    "duration": 22,
    "start_time": "2023-05-30T09:14:15.886Z"
   },
   {
    "duration": 57,
    "start_time": "2023-05-30T09:14:27.790Z"
   },
   {
    "duration": 49,
    "start_time": "2023-05-30T09:14:34.537Z"
   },
   {
    "duration": 83,
    "start_time": "2023-05-30T09:14:43.501Z"
   },
   {
    "duration": 20,
    "start_time": "2023-05-30T09:15:48.868Z"
   },
   {
    "duration": 16,
    "start_time": "2023-05-30T09:16:06.069Z"
   },
   {
    "duration": 15,
    "start_time": "2023-05-30T09:23:44.756Z"
   },
   {
    "duration": 17,
    "start_time": "2023-05-30T09:25:11.787Z"
   },
   {
    "duration": 19,
    "start_time": "2023-05-30T09:25:45.764Z"
   },
   {
    "duration": 19,
    "start_time": "2023-05-30T09:27:24.211Z"
   },
   {
    "duration": 28,
    "start_time": "2023-05-30T09:30:03.771Z"
   },
   {
    "duration": 27,
    "start_time": "2023-05-30T09:30:12.539Z"
   },
   {
    "duration": 21,
    "start_time": "2023-05-30T09:30:43.363Z"
   },
   {
    "duration": 23,
    "start_time": "2023-05-30T09:30:56.539Z"
   },
   {
    "duration": 20,
    "start_time": "2023-05-30T09:35:36.202Z"
   },
   {
    "duration": 23,
    "start_time": "2023-05-30T09:38:08.250Z"
   },
   {
    "duration": 14,
    "start_time": "2023-05-30T09:39:16.834Z"
   },
   {
    "duration": 16,
    "start_time": "2023-05-30T09:39:35.570Z"
   },
   {
    "duration": 15,
    "start_time": "2023-05-30T09:39:42.258Z"
   },
   {
    "duration": 20,
    "start_time": "2023-05-30T09:43:34.922Z"
   },
   {
    "duration": 13,
    "start_time": "2023-05-30T09:44:33.570Z"
   },
   {
    "duration": 13,
    "start_time": "2023-05-30T09:44:50.753Z"
   },
   {
    "duration": 19,
    "start_time": "2023-05-30T09:45:09.793Z"
   },
   {
    "duration": 11,
    "start_time": "2023-05-30T09:46:12.706Z"
   },
   {
    "duration": 13,
    "start_time": "2023-05-30T09:46:18.192Z"
   },
   {
    "duration": 20,
    "start_time": "2023-05-30T09:46:34.959Z"
   },
   {
    "duration": 27,
    "start_time": "2023-05-30T09:46:38.250Z"
   },
   {
    "duration": 13,
    "start_time": "2023-05-30T09:46:55.745Z"
   },
   {
    "duration": 20,
    "start_time": "2023-05-30T09:47:01.923Z"
   },
   {
    "duration": 27,
    "start_time": "2023-05-30T09:48:27.393Z"
   },
   {
    "duration": 15,
    "start_time": "2023-05-30T09:48:35.873Z"
   },
   {
    "duration": 21,
    "start_time": "2023-05-30T09:48:48.881Z"
   },
   {
    "duration": 19,
    "start_time": "2023-05-30T09:49:00.369Z"
   },
   {
    "duration": 12,
    "start_time": "2023-05-30T09:49:51.433Z"
   },
   {
    "duration": 13,
    "start_time": "2023-05-30T09:50:10.529Z"
   },
   {
    "duration": 21,
    "start_time": "2023-05-30T09:50:36.552Z"
   },
   {
    "duration": 13,
    "start_time": "2023-05-30T09:50:41.369Z"
   },
   {
    "duration": 13,
    "start_time": "2023-05-30T09:50:50.041Z"
   },
   {
    "duration": 12,
    "start_time": "2023-05-30T09:50:56.125Z"
   },
   {
    "duration": 20,
    "start_time": "2023-05-30T09:51:14.905Z"
   },
   {
    "duration": 19,
    "start_time": "2023-05-30T09:52:15.434Z"
   },
   {
    "duration": 12,
    "start_time": "2023-05-30T09:52:30.889Z"
   },
   {
    "duration": 59,
    "start_time": "2023-05-30T09:52:58.801Z"
   },
   {
    "duration": 22,
    "start_time": "2023-05-30T09:53:11.288Z"
   },
   {
    "duration": 12,
    "start_time": "2023-05-30T09:53:20.945Z"
   },
   {
    "duration": 13,
    "start_time": "2023-05-30T09:55:01.249Z"
   },
   {
    "duration": 12,
    "start_time": "2023-05-30T09:55:59.272Z"
   },
   {
    "duration": 12,
    "start_time": "2023-05-30T09:56:43.153Z"
   },
   {
    "duration": 14,
    "start_time": "2023-05-30T09:57:04.792Z"
   },
   {
    "duration": 21,
    "start_time": "2023-05-30T09:57:29.144Z"
   },
   {
    "duration": 13,
    "start_time": "2023-05-30T09:57:42.184Z"
   },
   {
    "duration": 45,
    "start_time": "2023-05-30T09:57:51.802Z"
   },
   {
    "duration": 39,
    "start_time": "2023-05-30T09:57:51.849Z"
   },
   {
    "duration": 11,
    "start_time": "2023-05-30T09:57:51.890Z"
   },
   {
    "duration": 17,
    "start_time": "2023-05-30T09:57:51.903Z"
   },
   {
    "duration": 13,
    "start_time": "2023-05-30T09:57:51.922Z"
   },
   {
    "duration": 11,
    "start_time": "2023-05-30T09:57:51.936Z"
   },
   {
    "duration": 30,
    "start_time": "2023-05-30T09:57:51.948Z"
   },
   {
    "duration": 12,
    "start_time": "2023-05-30T09:57:51.980Z"
   },
   {
    "duration": 17,
    "start_time": "2023-05-30T09:57:51.994Z"
   },
   {
    "duration": 13,
    "start_time": "2023-05-30T09:57:52.013Z"
   },
   {
    "duration": 20,
    "start_time": "2023-05-30T10:11:17.991Z"
   },
   {
    "duration": 5278,
    "start_time": "2023-05-30T10:21:58.706Z"
   },
   {
    "duration": 48,
    "start_time": "2023-05-30T10:22:03.986Z"
   },
   {
    "duration": 11,
    "start_time": "2023-05-30T10:22:04.035Z"
   },
   {
    "duration": 23,
    "start_time": "2023-05-30T10:22:04.048Z"
   },
   {
    "duration": 22,
    "start_time": "2023-05-30T10:22:04.073Z"
   },
   {
    "duration": 20,
    "start_time": "2023-05-30T10:22:04.098Z"
   },
   {
    "duration": 36,
    "start_time": "2023-05-30T10:22:04.120Z"
   },
   {
    "duration": 11,
    "start_time": "2023-05-30T10:22:04.158Z"
   },
   {
    "duration": 20,
    "start_time": "2023-05-30T10:22:04.171Z"
   },
   {
    "duration": 19,
    "start_time": "2023-05-30T10:22:04.194Z"
   },
   {
    "duration": 51,
    "start_time": "2023-05-30T10:24:15.996Z"
   },
   {
    "duration": 74,
    "start_time": "2023-05-30T10:24:16.050Z"
   },
   {
    "duration": 11,
    "start_time": "2023-05-30T10:24:16.126Z"
   },
   {
    "duration": 13,
    "start_time": "2023-05-30T10:24:16.140Z"
   },
   {
    "duration": 13,
    "start_time": "2023-05-30T10:24:16.155Z"
   },
   {
    "duration": 11,
    "start_time": "2023-05-30T10:24:16.170Z"
   },
   {
    "duration": 30,
    "start_time": "2023-05-30T10:24:16.183Z"
   },
   {
    "duration": 13,
    "start_time": "2023-05-30T10:24:16.215Z"
   },
   {
    "duration": 16,
    "start_time": "2023-05-30T10:24:16.230Z"
   },
   {
    "duration": 13,
    "start_time": "2023-05-30T10:24:16.249Z"
   },
   {
    "duration": 14,
    "start_time": "2023-05-30T10:26:36.989Z"
   },
   {
    "duration": 5,
    "start_time": "2023-05-30T10:26:39.334Z"
   },
   {
    "duration": 60,
    "start_time": "2023-05-30T10:26:39.342Z"
   },
   {
    "duration": 39,
    "start_time": "2023-05-30T10:26:39.404Z"
   },
   {
    "duration": 13,
    "start_time": "2023-05-30T10:26:39.445Z"
   },
   {
    "duration": 16,
    "start_time": "2023-05-30T10:26:39.461Z"
   },
   {
    "duration": 21,
    "start_time": "2023-05-30T10:26:39.479Z"
   },
   {
    "duration": 11,
    "start_time": "2023-05-30T10:26:39.503Z"
   },
   {
    "duration": 34,
    "start_time": "2023-05-30T10:26:39.516Z"
   },
   {
    "duration": 15,
    "start_time": "2023-05-30T10:26:39.552Z"
   },
   {
    "duration": 16,
    "start_time": "2023-05-30T10:26:39.568Z"
   },
   {
    "duration": 20,
    "start_time": "2023-05-30T10:26:39.586Z"
   },
   {
    "duration": 41,
    "start_time": "2023-05-30T10:27:53.328Z"
   },
   {
    "duration": 64,
    "start_time": "2023-05-30T10:28:07.510Z"
   },
   {
    "duration": 4,
    "start_time": "2023-05-30T10:28:34.532Z"
   },
   {
    "duration": 48,
    "start_time": "2023-05-30T10:28:34.538Z"
   },
   {
    "duration": 32,
    "start_time": "2023-05-30T10:28:34.588Z"
   },
   {
    "duration": 11,
    "start_time": "2023-05-30T10:28:34.621Z"
   },
   {
    "duration": 20,
    "start_time": "2023-05-30T10:28:34.634Z"
   },
   {
    "duration": 14,
    "start_time": "2023-05-30T10:28:34.655Z"
   },
   {
    "duration": 11,
    "start_time": "2023-05-30T10:28:34.671Z"
   },
   {
    "duration": 39,
    "start_time": "2023-05-30T10:28:34.684Z"
   },
   {
    "duration": 14,
    "start_time": "2023-05-30T10:28:34.725Z"
   },
   {
    "duration": 18,
    "start_time": "2023-05-30T10:28:34.741Z"
   },
   {
    "duration": 15,
    "start_time": "2023-05-30T10:28:34.761Z"
   },
   {
    "duration": 17212,
    "start_time": "2023-05-30T11:49:19.517Z"
   },
   {
    "duration": 222,
    "start_time": "2023-05-30T11:49:36.731Z"
   },
   {
    "duration": 128,
    "start_time": "2023-05-30T11:49:36.955Z"
   },
   {
    "duration": 51,
    "start_time": "2023-05-30T11:49:37.084Z"
   },
   {
    "duration": 50,
    "start_time": "2023-05-30T11:49:37.138Z"
   },
   {
    "duration": 51,
    "start_time": "2023-05-30T11:49:37.190Z"
   },
   {
    "duration": 49,
    "start_time": "2023-05-30T11:49:37.243Z"
   },
   {
    "duration": 69,
    "start_time": "2023-05-30T11:49:37.293Z"
   },
   {
    "duration": 52,
    "start_time": "2023-05-30T11:49:37.364Z"
   },
   {
    "duration": 54,
    "start_time": "2023-05-30T11:49:37.417Z"
   },
   {
    "duration": 52,
    "start_time": "2023-05-30T11:49:37.473Z"
   },
   {
    "duration": 90,
    "start_time": "2023-05-30T11:49:46.449Z"
   },
   {
    "duration": 4,
    "start_time": "2023-05-30T12:02:55.750Z"
   },
   {
    "duration": 63,
    "start_time": "2023-05-30T12:02:55.756Z"
   },
   {
    "duration": 32,
    "start_time": "2023-05-30T12:02:55.820Z"
   },
   {
    "duration": 15,
    "start_time": "2023-05-30T12:02:55.854Z"
   },
   {
    "duration": 18,
    "start_time": "2023-05-30T12:02:55.871Z"
   },
   {
    "duration": 24,
    "start_time": "2023-05-30T12:02:55.890Z"
   },
   {
    "duration": 10,
    "start_time": "2023-05-30T12:02:55.916Z"
   },
   {
    "duration": 44,
    "start_time": "2023-05-30T12:02:55.928Z"
   },
   {
    "duration": 11,
    "start_time": "2023-05-30T12:02:55.974Z"
   },
   {
    "duration": 27,
    "start_time": "2023-05-30T12:02:55.988Z"
   },
   {
    "duration": 13,
    "start_time": "2023-05-30T12:02:56.017Z"
   },
   {
    "duration": 82,
    "start_time": "2023-05-30T12:04:20.554Z"
   },
   {
    "duration": 20,
    "start_time": "2023-05-30T12:04:42.593Z"
   },
   {
    "duration": 54,
    "start_time": "2023-05-30T12:06:44.681Z"
   },
   {
    "duration": 59,
    "start_time": "2023-05-30T12:07:00.793Z"
   },
   {
    "duration": 185,
    "start_time": "2023-05-30T12:16:17.023Z"
   },
   {
    "duration": 107,
    "start_time": "2023-05-30T12:16:57.180Z"
   },
   {
    "duration": 15,
    "start_time": "2023-05-30T12:17:03.778Z"
   },
   {
    "duration": 21,
    "start_time": "2023-05-30T12:23:44.983Z"
   },
   {
    "duration": 28,
    "start_time": "2023-05-30T12:24:03.800Z"
   },
   {
    "duration": 13,
    "start_time": "2023-05-30T12:24:26.102Z"
   },
   {
    "duration": 15,
    "start_time": "2023-05-30T12:24:53.662Z"
   },
   {
    "duration": 15,
    "start_time": "2023-05-30T12:25:29.302Z"
   },
   {
    "duration": 14,
    "start_time": "2023-05-30T12:25:44.666Z"
   },
   {
    "duration": 20,
    "start_time": "2023-05-30T12:28:15.126Z"
   },
   {
    "duration": 22,
    "start_time": "2023-05-30T12:29:10.574Z"
   },
   {
    "duration": 14,
    "start_time": "2023-05-30T12:30:22.774Z"
   },
   {
    "duration": 21,
    "start_time": "2023-05-30T12:30:52.518Z"
   },
   {
    "duration": 22,
    "start_time": "2023-05-30T12:35:11.213Z"
   },
   {
    "duration": 51,
    "start_time": "2023-05-30T12:36:24.893Z"
   },
   {
    "duration": 20,
    "start_time": "2023-05-30T12:36:33.656Z"
   },
   {
    "duration": 47,
    "start_time": "2023-05-30T12:36:59.021Z"
   },
   {
    "duration": 67,
    "start_time": "2023-05-30T12:43:00.420Z"
   },
   {
    "duration": 26,
    "start_time": "2023-05-30T12:43:12.070Z"
   },
   {
    "duration": 22,
    "start_time": "2023-05-30T12:43:56.580Z"
   },
   {
    "duration": 17,
    "start_time": "2023-05-30T12:44:05.692Z"
   },
   {
    "duration": 25,
    "start_time": "2023-05-30T12:48:25.561Z"
   },
   {
    "duration": 31,
    "start_time": "2023-05-30T12:48:57.988Z"
   },
   {
    "duration": 66,
    "start_time": "2023-05-30T12:49:24.865Z"
   },
   {
    "duration": 15,
    "start_time": "2023-05-30T12:49:40.588Z"
   },
   {
    "duration": 16,
    "start_time": "2023-05-30T12:53:41.003Z"
   },
   {
    "duration": 14,
    "start_time": "2023-05-30T12:54:01.155Z"
   },
   {
    "duration": 20,
    "start_time": "2023-05-30T12:54:35.478Z"
   },
   {
    "duration": 17,
    "start_time": "2023-05-30T12:54:41.427Z"
   },
   {
    "duration": 6,
    "start_time": "2023-05-30T12:55:38.116Z"
   },
   {
    "duration": 49,
    "start_time": "2023-05-30T12:55:38.124Z"
   },
   {
    "duration": 46,
    "start_time": "2023-05-30T12:55:38.175Z"
   },
   {
    "duration": 12,
    "start_time": "2023-05-30T12:55:38.224Z"
   },
   {
    "duration": 12,
    "start_time": "2023-05-30T12:55:38.237Z"
   },
   {
    "duration": 12,
    "start_time": "2023-05-30T12:55:38.251Z"
   },
   {
    "duration": 16,
    "start_time": "2023-05-30T12:55:38.265Z"
   },
   {
    "duration": 29,
    "start_time": "2023-05-30T12:55:38.282Z"
   },
   {
    "duration": 12,
    "start_time": "2023-05-30T12:55:38.312Z"
   },
   {
    "duration": 15,
    "start_time": "2023-05-30T12:55:38.326Z"
   },
   {
    "duration": 19,
    "start_time": "2023-05-30T12:55:38.342Z"
   },
   {
    "duration": 12,
    "start_time": "2023-05-30T12:55:38.363Z"
   },
   {
    "duration": 36,
    "start_time": "2023-05-30T12:56:08.410Z"
   },
   {
    "duration": 30,
    "start_time": "2023-05-30T12:56:53.054Z"
   },
   {
    "duration": 28,
    "start_time": "2023-05-30T12:57:02.664Z"
   },
   {
    "duration": 32,
    "start_time": "2023-05-30T12:57:08.210Z"
   },
   {
    "duration": 5,
    "start_time": "2023-05-30T12:59:01.264Z"
   },
   {
    "duration": 98,
    "start_time": "2023-05-30T12:59:01.271Z"
   },
   {
    "duration": 51,
    "start_time": "2023-05-30T12:59:01.371Z"
   },
   {
    "duration": 46,
    "start_time": "2023-05-30T12:59:01.425Z"
   },
   {
    "duration": 175,
    "start_time": "2023-05-30T12:59:01.474Z"
   },
   {
    "duration": 108,
    "start_time": "2023-05-30T12:59:01.652Z"
   },
   {
    "duration": 20,
    "start_time": "2023-05-30T12:59:01.762Z"
   },
   {
    "duration": 55,
    "start_time": "2023-05-30T12:59:01.784Z"
   },
   {
    "duration": 14,
    "start_time": "2023-05-30T12:59:01.841Z"
   },
   {
    "duration": 38,
    "start_time": "2023-05-30T12:59:01.857Z"
   },
   {
    "duration": 33,
    "start_time": "2023-05-30T12:59:01.897Z"
   },
   {
    "duration": 5576,
    "start_time": "2023-05-30T12:59:38.952Z"
   },
   {
    "duration": 45,
    "start_time": "2023-05-30T12:59:44.530Z"
   },
   {
    "duration": 44,
    "start_time": "2023-05-30T12:59:44.576Z"
   },
   {
    "duration": 10,
    "start_time": "2023-05-30T12:59:44.621Z"
   },
   {
    "duration": 10,
    "start_time": "2023-05-30T12:59:44.634Z"
   },
   {
    "duration": 11,
    "start_time": "2023-05-30T12:59:44.645Z"
   },
   {
    "duration": 9,
    "start_time": "2023-05-30T12:59:44.657Z"
   },
   {
    "duration": 31,
    "start_time": "2023-05-30T12:59:44.668Z"
   },
   {
    "duration": 12,
    "start_time": "2023-05-30T12:59:44.701Z"
   },
   {
    "duration": 15,
    "start_time": "2023-05-30T12:59:44.715Z"
   },
   {
    "duration": 14,
    "start_time": "2023-05-30T12:59:44.733Z"
   }
  ],
  "kernelspec": {
   "display_name": "Python 3 (ipykernel)",
   "language": "python",
   "name": "python3"
  },
  "language_info": {
   "codemirror_mode": {
    "name": "ipython",
    "version": 3
   },
   "file_extension": ".py",
   "mimetype": "text/x-python",
   "name": "python",
   "nbconvert_exporter": "python",
   "pygments_lexer": "ipython3",
   "version": "3.10.9"
  },
  "toc": {
   "base_numbering": 1,
   "nav_menu": {},
   "number_sections": true,
   "sideBar": true,
   "skip_h1_title": true,
   "title_cell": "Table of Contents",
   "title_sidebar": "Contents",
   "toc_cell": false,
   "toc_position": {},
   "toc_section_display": true,
   "toc_window_display": true
  }
 },
 "nbformat": 4,
 "nbformat_minor": 2
}
